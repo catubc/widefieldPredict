{
 "cells": [
  {
   "cell_type": "code",
   "execution_count": 1,
   "metadata": {},
   "outputs": [
    {
     "data": {
      "application/javascript": [
       "IPython.notebook.set_autosave_interval(180000)"
      ]
     },
     "metadata": {},
     "output_type": "display_data"
    },
    {
     "name": "stdout",
     "output_type": "stream",
     "text": [
      "Autosaving every 180 seconds\n"
     ]
    },
    {
     "data": {
      "text/html": [
       "<style>.container { width:100% !important; }</style>"
      ],
      "text/plain": [
       "<IPython.core.display.HTML object>"
      ]
     },
     "metadata": {},
     "output_type": "display_data"
    }
   ],
   "source": [
    "import matplotlib\n",
    "matplotlib.use('Agg')\n",
    "\n",
    "%load_ext autoreload\n",
    "%autoreload 2\n",
    "\n",
    "%matplotlib tk\n",
    "%autosave 180\n",
    "import matplotlib.pyplot as plt\n",
    "from IPython.core.display import display, HTML\n",
    "display(HTML(\"<style>.container { width:100% !important; }</style>\"))\n",
    "\n",
    "import numpy as np\n",
    "import os\n",
    "import umap\n",
    "import parmap\n",
    "\n",
    "import glob2\n",
    "import numpy as np\n",
    "from sklearn.decomposition import PCA\n",
    "\n",
    "from shapely.geometry import Polygon\n",
    "from shapely import geometry\n",
    "from matplotlib.patches import Polygon\n",
    "from scipy.spatial import ConvexHull\n",
    "\n",
    "\n",
    "# visualize results module\n",
    "from Visualize import *\n",
    "from Visualize import PCA_Analysis\n",
    "import pickle as pk\n",
    "\n",
    "# \n",
    "#data_dir = '/media/cat/4TBSSD/yuki/'\n",
    "data_dir = '/media/cat/4TBSSD/yuki/'\n"
   ]
  },
  {
   "cell_type": "code",
   "execution_count": 22,
   "metadata": {},
   "outputs": [],
   "source": [
    "###############################################################\n",
    "################# VISUALIZE PCA 2D MAPS #######################\n",
    "###############################################################\n",
    "\n",
    "# ***************** Fig 2B *********************\n",
    "\n",
    "masktxt = np.int32(np.loadtxt('/media/cat/4TBSSD/yuki/IJ2/genericmask.txt'))\n",
    "#print (masktxt)\n",
    "\n",
    "mask = np.ones((128,128),'float32')\n",
    "for k in range(masktxt.shape[0]):\n",
    "    #print (masktxt[k][0],masktxt[k][1])\n",
    "    mask[masktxt[k][0],masktxt[k][1]]=np.nan\n",
    "\n",
    "# \n",
    "fig=plt.figure()\n",
    "data = np.load('/media/cat/4TBSSD/yuki/IJ2/tif_files/IJ2pm_Feb5_30Hz/IJ2pm_Feb5_30Hz_code_04_trial_ROItimeCourses_30sec_pca_0.95_spatial.npy')\n",
    "#print (data.shape)\n",
    "data = data.reshape(data.shape[0],128,128)\n",
    "for k in range(4):\n",
    "    ax=plt.subplot(2,2,k+1)\n",
    "    vmin = np.min(data[k])\n",
    "    vmax = np.max(data[k])\n",
    "    \n",
    "    # \n",
    "    #print (k, vmin,vmax)\n",
    "    plt.imshow(data[k]*mask, vmin=vmin, vmax=vmax)\n",
    "    plt.xticks([])\n",
    "    plt.yticks([])\n",
    "plt.show()"
   ]
  },
  {
   "cell_type": "code",
   "execution_count": 2,
   "metadata": {},
   "outputs": [
    {
     "name": "stdout",
     "output_type": "stream",
     "text": [
      "raw data:  (61, 7, 1801)\n",
      "data_all:  (61, 4, 150)\n",
      "Mean:  (4, 150)\n",
      "data in:  (30, 61, 4, 5)\n",
      "mean:  (30, 4, 5)\n",
      "mean:  (30, 1, 20)\n",
      "data in:  (30, 61, 20)\n",
      "data in:  (1860, 20)\n",
      "data input:  (1860, 20)\n",
      "Pca output:  (1860, 2)\n",
      "CPU times: user 1min 35s, sys: 4.84 s, total: 1min 40s\n",
      "Wall time: 13.6 s\n",
      "Umap output:  (1860, 2)\n",
      "[[0.267004 0.004874 0.329415 1.      ]\n",
      " [0.267004 0.004874 0.329415 1.      ]\n",
      " [0.267004 0.004874 0.329415 1.      ]\n",
      " ...\n",
      " [0.916242 0.896091 0.100717 1.      ]\n",
      " [0.916242 0.896091 0.100717 1.      ]\n",
      " [0.916242 0.896091 0.100717 1.      ]]\n",
      "p : (1860, 2)\n"
     ]
    }
   ],
   "source": [
    "####################################################\n",
    "#### COMPUTE PCA AND UMAP AVERAGE SCATER PLOT ######\n",
    "####################################################\n",
    "\n",
    "# ******************** FIG 2D ***********************\n",
    "\n",
    "data = np.load('/home/cat/concatenated_trials.npy')\n",
    "#data = np.load('/media/cat/4TBSSD/yuki/IJ2/tif_files/IJ2pm_Mar2_30Hz/IJ2pm_Mar2_30Hz_code_04_trial_ROItimeCourses_30sec_pca_0.95.npy')\n",
    "#data = np.load('/media/cat/4TBSSD/yuki/IJ2/tif_files/IJ2pm_Mar3_30Hz/IJ2pm_Mar3_30Hz_code_04_trial_ROItimeCourses_30sec_pca_0.95.npy')\n",
    "data = np.load('/media/cat/4TBSSD/yuki/IJ1/tif_files/IJ1pm_Mar2_30Hz/IJ1pm_Mar2_30Hz_code_04_trial_ROItimeCourses_30sec_pca_0.95.npy')\n",
    "print (\"raw data: \", data.shape)\n",
    "data_all = data[:,:,:900]\n",
    "data_all = data_all[:,:4,750:]\n",
    "mean = data_all.mean(0)\n",
    "\n",
    "print (\"data_all: \", data_all.shape)\n",
    "print (\"Mean: \", mean.shape)\n",
    "# \n",
    "data_in = []\n",
    "mean2 = []\n",
    "width = 5\n",
    "for k in range(0, data_all.shape[2],width):\n",
    "    data_in.append(data_all[:,:,k:k+width])\n",
    "    mean2.append(mean[:,k:k+width])\n",
    "\n",
    "mean2 = np.array(mean2)\n",
    "data_in = np.array(data_in) \n",
    "print (\"data in: \", data_in.shape)\n",
    "print (\"mean: \", mean2.shape)\n",
    "\n",
    "#\n",
    "mean2 = mean2.reshape(mean2.shape[0],-1)[:,None]\n",
    "print (\"mean: \", mean2.shape)\n",
    "\n",
    "\n",
    "# \n",
    "data_in = data_in.reshape(data_in.shape[0], data_in.shape[1],-1)\n",
    "print (\"data in: \", data_in.shape)\n",
    "\n",
    "d = []\n",
    "for k in range(data_in.shape[0]):\n",
    "    d.extend(data_in[k])\n",
    "\n",
    "d.extend(mean2[:,0])\n",
    "data_in = np.array(d)\n",
    "print (\"data in: \", data_in.shape)\n",
    "# \n",
    "\n",
    "\n",
    "# \n",
    "X = data_in\n",
    "print (\"data input: \", X.shape)\n",
    "\n",
    "\n",
    "#############################################\n",
    "#############################################\n",
    "#############################################\n",
    "#\n",
    "pca = PCA(n_components=2)\n",
    "pca.fit(X)\n",
    "p = pca.transform(X)\n",
    "print (\"Pca output: \", p.shape)\n",
    "\n",
    "import umap\n",
    "fit = umap.UMAP()\n",
    "%time u = fit.fit_transform(X)\n",
    "print (\"Umap output: \", u.shape)\n",
    "\n",
    "\n",
    "#######################################\n",
    "########### PLOT RESULTS ##############\n",
    "#######################################\n",
    "# flatten data for PCA\n",
    "t_flat = []\n",
    "\n",
    "n_chunks = 30              # MANUAL SETTINGS\n",
    "chunk_width = 10\n",
    "n_trials = 62\n",
    "cs = []\n",
    "for k in range(n_chunks):\n",
    "    cs.append(k*np.ones(n_trials)/n_chunks)\n",
    "cs=np.hstack(cs)\n",
    "#print (cs[:300])\n",
    "    \n",
    "clrs = plt.cm.viridis(cs)\n",
    "print (clrs)\n",
    "\n",
    "print(\"p :\", p.shape)\n",
    "\n",
    "# \n",
    "fig = plt.figure(figsize=(10,10))\n",
    "cm = plt.cm.get_cmap('viridis')\n",
    "ax=plt.subplot(211)\n",
    "\n",
    "plt.scatter(p[:,0], p[:,1], c=clrs, s=25, edgecolor = 'black', alpha=.5)\n",
    "\n",
    "#\n",
    "plt.scatter(p[-n_chunks:,0], p[-n_chunks:,1], \n",
    "            c=np.arange(n_chunks), \n",
    "            s=150, cmap=plt.cm.viridis,\n",
    "            edgecolor = 'black', alpha=.8)\n",
    "    \n",
    "\n",
    "ax=plt.subplot(212)\n",
    "sc = plt.scatter(u[:,0], u[:,1], c=clrs, s=25, edgecolor = 'black', alpha=.5)\n",
    "plt.scatter(u[-n_chunks:,0], u[-n_chunks:,1], \n",
    "            c=np.arange(n_chunks), \n",
    "            s=150, cmap=plt.cm.viridis,\n",
    "            edgecolor = 'black', alpha=.8)\n",
    "\n",
    "\n",
    "if False:\n",
    "    plt.savefig('/home/cat/pca_single_trials.png',dpi=300)\n",
    "    plt.close()\n",
    "else:\n",
    "    plt.show()\n",
    "    "
   ]
  },
  {
   "cell_type": "code",
   "execution_count": null,
   "metadata": {},
   "outputs": [
    {
     "name": "stdout",
     "output_type": "stream",
     "text": [
      " processing:  IA1pm_Feb1_30Hz\n",
      " triggers:  (3,)\n",
      " data:  (40000, 128, 128)\n",
      "(39130, 128, 128)\n",
      "X:  (39130, 16384)\n",
      "     not enough points :  (3,)\n",
      "\n",
      "\n",
      " processing:  IA1pm_Feb2_30Hz\n",
      "     data laready processed\n",
      "\n",
      " processing:  IA1pm_Feb3_30Hz\n",
      "     data laready processed\n",
      "\n",
      " processing:  IA1pm_Feb4_30Hz\n",
      "     missing data/blue light\n",
      "\n",
      "\n",
      " processing:  IA1pm_Feb5_30Hz\n",
      "     missing data/blue light\n",
      "\n",
      "\n",
      " processing:  IA1pm_Feb9_30Hz\n",
      "     data laready processed\n",
      "\n",
      " processing:  IA1pm_Feb10_30Hz\n",
      "     data laready processed\n",
      "\n",
      " processing:  IA1pm_Feb11_30Hz\n",
      "     data laready processed\n",
      "\n",
      " processing:  IA1pm_Feb12_30Hz\n",
      "     missing data/blue light\n",
      "\n",
      "\n",
      " processing:  IA1pm_Feb15_30Hz\n",
      "     data laready processed\n",
      "\n",
      " processing:  IA1pm_Feb16_30Hz\n",
      "     data laready processed\n",
      "\n",
      " processing:  IA1pm_Feb17_30Hz\n",
      "     data laready processed\n",
      "\n",
      " processing:  IA1pm_Feb18_30Hz\n",
      "     data laready processed\n",
      "\n",
      " processing:  IA1pm_Feb19_30Hz\n",
      "     data laready processed\n",
      "\n",
      " processing:  IA1pm_Feb22_30Hz\n",
      " triggers:  (4,)\n",
      " data:  (40000, 128, 128)\n",
      "(39157, 128, 128)\n",
      "X:  (39157, 16384)\n",
      "     not enough points :  (4,)\n",
      "\n",
      "\n",
      " processing:  IA1pm_Feb23_30Hz\n",
      "     data laready processed\n",
      "\n",
      " processing:  IA1pm_Feb24_30Hz\n",
      "     missing data/blue light\n",
      "\n",
      "\n",
      " processing:  IA1pm_Feb25_30Hz\n",
      "     missing data/blue light\n",
      "\n",
      "\n",
      " processing:  IA1pm_Feb26_30Hz\n",
      "     data laready processed\n",
      "\n",
      " processing:  IA1pm_Feb29_30Hz\n",
      "     data laready processed\n",
      "\n",
      " processing:  IA1pm_Mar1_30Hz\n",
      " triggers:  (2,)\n",
      " data:  (40000, 128, 128)\n",
      "(39158, 128, 128)\n",
      "X:  (39158, 16384)\n",
      "     not enough points :  (2,)\n",
      "\n",
      "\n",
      " processing:  IA1pm_Mar2_30Hz\n",
      "     data laready processed\n",
      "\n",
      " processing:  IA1pm_Mar3_30Hz\n",
      "     data laready processed\n",
      "\n",
      " processing:  IA1am_Mar4_30Hz\n",
      "     data laready processed\n",
      "\n",
      " processing:  IA1am_Mar7_30Hz\n",
      "     data laready processed\n",
      "\n",
      " processing:  IA1pm_Mar8_30Hz\n",
      "     data laready processed\n",
      "\n",
      " processing:  IA1am_Mar9_30Hz\n",
      "     data laready processed\n",
      "\n",
      " processing:  IA1am_Mar10_30Hz\n",
      "     data laready processed\n",
      "\n",
      " processing:  IA1am_Mar11_30Hz\n",
      "     data laready processed\n",
      "\n",
      " processing:  IA1pm_Mar14_30Hz\n",
      "     data laready processed\n",
      "\n",
      " processing:  IA1am_Mar15_30Hz\n",
      "     data laready processed\n",
      "\n",
      " processing:  IA1pm_Mar16_30Hz\n",
      "     data laready processed\n",
      "\n",
      " processing:  IA1pm_Mar17_30Hz\n",
      "     data laready processed\n",
      "\n",
      " processing:  IA1pm_Mar18_30Hz\n",
      "     data laready processed\n",
      "\n",
      " processing:  IA1pm_Mar21_30Hz\n",
      "     data laready processed\n",
      "\n",
      " processing:  IA1pm_Mar22_30Hz\n",
      "     data laready processed\n",
      "\n",
      " processing:  IA1pm_Mar23_30Hz\n",
      "     data laready processed\n",
      "\n",
      " processing:  IA1pm_Mar24_30Hz\n",
      "     data laready processed\n",
      "\n",
      " processing:  IA1pm_Mar29_30Hz\n",
      "     data laready processed\n",
      "\n",
      " processing:  IA1pm_Mar30_30Hz\n",
      "     data laready processed\n",
      "\n",
      " processing:  IA1pm_Mar31_30Hz\n",
      "     data laready processed\n",
      "\n",
      " processing:  IA1pm_Apr1_30Hz\n",
      "     data laready processed\n",
      "\n",
      " processing:  IA1pm_Apr4_30Hz\n",
      "     missing data/blue light\n",
      "\n",
      "\n",
      " processing:  IA1pm_Apr5_30Hz\n",
      "     data laready processed\n",
      "\n",
      " processing:  IA1pm_Apr6_30Hz\n",
      "     data laready processed\n",
      "\n",
      " processing:  IA1pm_Apr7_30Hz\n",
      "     data laready processed\n",
      "\n",
      " processing:  IA1pm_Apr11_Day3_30Hz\n",
      "     data laready processed\n",
      "\n",
      " processing:  IA1pm_Apr13_Day5_30Hz\n",
      "     data laready processed\n",
      "\n",
      " processing:  IA1pm_Apr15_Day7_30Hz\n",
      "     data laready processed\n",
      "\n",
      " processing:  IA1pm_Apr18_Week2_30Hz\n",
      "     data laready processed\n",
      "\n",
      " processing:  IA1pm_Apr19_Week2_30Hz\n",
      "     data laready processed\n",
      "\n",
      " processing:  IA1pm_Apr20_Week2_30Hz\n",
      "     data laready processed\n",
      "\n",
      " processing:  IA1pm_Apr21_Week2_30Hz\n",
      "     data laready processed\n",
      "\n",
      " processing:  IA1pm_Apr22_Week2_30Hz\n",
      "     missing data/blue light\n",
      "\n",
      "\n",
      " processing:  IA1pm_Apr25_Week3_30Hz\n",
      "     data laready processed\n",
      "\n",
      " processing:  IA1pm_Apr26_Week3_30Hz\n",
      "     data laready processed\n",
      "\n",
      " processing:  IA1pm_Apr27_Week3_30Hz\n",
      "     data laready processed\n",
      "\n",
      " processing:  IA1pm_Apr28_Week3_30Hz\n",
      "     data laready processed\n",
      "\n",
      " processing:  IA1pm_Apr29_Week3_30Hz\n",
      "     data laready processed\n",
      "\n",
      " processing:  IA1am_May2_Week4_30Hz\n",
      "     missing data/blue light\n",
      "\n",
      "\n",
      " processing:  IA1am_May4_Week4_30Hz\n",
      "     data laready processed\n",
      "\n",
      " processing:  IA1am_May5_Week4_30Hz\n",
      "     data laready processed\n",
      "\n",
      " processing:  IA1am_May6_Week4_30Hz\n",
      "     data laready processed\n",
      "\n",
      " processing:  IA1am_May9_Week5_30Hz\n",
      "     data laready processed\n",
      "\n",
      " processing:  IA1am_May10_Week5_30Hz\n",
      "     data laready processed\n",
      "\n",
      " processing:  IA1am_May12_Week5_30Hz\n",
      "     data laready processed\n",
      "\n",
      " processing:  IA1am_May13_Week5_30Hz\n",
      " triggers:  (3,)\n",
      " data:  (40000, 128, 128)\n",
      "(39099, 128, 128)\n",
      "X:  (39099, 16384)\n",
      "     not enough points :  (3,)\n",
      "\n",
      "\n",
      " processing:  IA1am_May16_Week6_30Hz\n",
      "     missing data/blue light\n",
      "\n",
      "\n",
      " processing:  IA1am_May17_Week6_30Hz\n",
      "     data laready processed\n",
      "\n",
      " processing:  IA1am_May18_Week6_30Hz\n",
      "     data laready processed\n",
      "\n",
      " processing:  IA1am_May20_Week6_30Hz\n",
      "     data laready processed\n",
      "\n",
      " processing:  IA2pm_Feb1_30Hz\n",
      "     missing data/blue light\n",
      "\n",
      "\n",
      " processing:  IA2pm_Feb2_30Hz\n",
      " triggers:  (3,)\n",
      " data:  (40000, 128, 128)\n",
      "(39067, 128, 128)\n",
      "X:  (39067, 16384)\n",
      "     not enough points :  (3,)\n",
      "\n",
      "\n",
      " processing:  IA2pm_Feb3_30Hz\n",
      "     data laready processed\n",
      "\n",
      " processing:  IA2pm_Feb4_30Hz\n",
      "     data laready processed\n",
      "\n",
      " processing:  IA2pm_Feb5_30Hz\n",
      "     data laready processed\n",
      "\n",
      " processing:  IA2pm_Feb9_30Hz\n"
     ]
    }
   ],
   "source": [
    "###################################################\n",
    "### GENERATE ALL DATA VS. PULLS IN PCA SPACE ######\n",
    "###################################################\n",
    "\n",
    "# ************** FIG 2E Convex hull analysis\n",
    "from Visualize import (get_data_and_triggers, \n",
    "                       get_pca_object_and_all_points,\n",
    "                       project_data_pca,\n",
    "                       plot_pca_scatter,\n",
    "                       get_convex_hull,\n",
    "                       plot_convex_hull,\n",
    "                       get_sessions)\n",
    "\n",
    "\n",
    "root_dir = '/media/cat/4TBSSD/yuki/'\n",
    "\n",
    "animal_ids = ['IA1','IA2','IA3','IJ1',\"IJ2\",\"AQ2\"]\n",
    "session_id = 'all'\n",
    "\n",
    "\n",
    "# \n",
    "for animal_id in animal_ids:\n",
    "    pa = PCA_Analysis()\n",
    "    pa.root_dir = '/media/cat/4TBSSD/yuki/'\n",
    "    pa.session_id = 'all'\n",
    "    pa.animal_id = animal_id\n",
    "\n",
    "    # \n",
    "    pa.n_pca = 10\n",
    "    pa.sliding_window = 30    # how many frames to take into analysis window\n",
    "    pa.n_frames = 300         # how many frames back in time to analyze: \n",
    "\n",
    "    \n",
    "    # \n",
    "    sessions = get_sessions(pa.root_dir,\n",
    "                            pa.animal_id,\n",
    "                            pa.session_id)\n",
    "\n",
    "\n",
    "    for session in sessions:\n",
    "        pa.session = session\n",
    "        print (\" processing: \", session)\n",
    "        fname_out = os.path.join(pa.root_dir,\n",
    "                                  pa.animal_id,\n",
    "                                  'tif_files',\n",
    "                                  pa.session,\n",
    "                                  pa.session+'_convex_hull.npz')\n",
    "        if os.path.exists(fname_out):\n",
    "            print (\"     data laready processed\")\n",
    "            print ('')\n",
    "            continue\n",
    "            \n",
    "        fname_triggers = os.path.join(pa.root_dir,\n",
    "                                      pa.animal_id,\n",
    "                                      'tif_files',\n",
    "                                      pa.session,\n",
    "                                      'blue_light_frame_triggers.npz')\n",
    "\n",
    "        fname_data = os.path.join(pa.root_dir,\n",
    "                                     pa.animal_id,\n",
    "                                     'tif_files',\n",
    "                                     pa.session,\n",
    "                                     pa.session+ '_aligned_butterworth_0.1hz_6.0hz.npy')\n",
    "\n",
    "        pa.X, pa.triggers = get_data_and_triggers(fname_triggers,\n",
    "                                                  fname_data)\n",
    "        \n",
    "        if pa.X is None:\n",
    "            print (\"     missing data/blue light\")\n",
    "            print ('')\n",
    "            print ('')\n",
    "            continue\n",
    "            \n",
    "        if pa.triggers.shape[0]<5:\n",
    "            print (\"     not enough points : \", pa.triggers.shape )\n",
    "            print ('')\n",
    "            print ('')\n",
    "            continue\n",
    "            \n",
    "        # make PCA plots\n",
    "        pa.pca, pa.all_points = get_pca_object_and_all_points(pa)\n",
    "\n",
    "\n",
    "        # FIG 2 E top\n",
    "        pa.p_lever =  project_data_pca(pa)\n",
    "\n",
    "        # skip plotting option\n",
    "        # plot_pca_scatter(pa)\n",
    "         \n",
    "        # FIG 2E\n",
    "        pa =  get_convex_hull(pa)\n",
    "\n",
    "        # skip plotting option\n",
    "        # plot_convex_hull(pa)\n",
    "        print ('')\n"
   ]
  },
  {
   "cell_type": "code",
   "execution_count": 85,
   "metadata": {},
   "outputs": [
    {
     "name": "stdout",
     "output_type": "stream",
     "text": [
      " processing:  IJ1pm_Feb3_30Hz\n"
     ]
    },
    {
     "ename": "NameError",
     "evalue": "name 'fname_triggers' is not defined",
     "output_type": "error",
     "traceback": [
      "\u001b[0;31m---------------------------------------------------------------------------\u001b[0m",
      "\u001b[0;31mNameError\u001b[0m                                 Traceback (most recent call last)",
      "\u001b[0;32m<ipython-input-85-7a9bbbe23758>\u001b[0m in \u001b[0;36m<module>\u001b[0;34m\u001b[0m\n\u001b[1;32m     38\u001b[0m \u001b[0;34m\u001b[0m\u001b[0m\n\u001b[1;32m     39\u001b[0m \u001b[0;34m\u001b[0m\u001b[0m\n\u001b[0;32m---> 40\u001b[0;31m pa.X, pa.triggers = get_data_and_triggers(fname_triggers,\n\u001b[0m\u001b[1;32m     41\u001b[0m                                           fname_data)\n\u001b[1;32m     42\u001b[0m \u001b[0;34m\u001b[0m\u001b[0m\n",
      "\u001b[0;31mNameError\u001b[0m: name 'fname_triggers' is not defined"
     ]
    }
   ],
   "source": [
    "#############################\n",
    "##### PLOT CONVEX HULL ######\n",
    "#############################\n",
    "\n",
    "# Fig 2 E\n",
    "\n",
    "fname = '/media/cat/4TBSSD/yuki/IA1/tif_files/IA1pm_Feb3_30Hz/IA1pm_Feb3_30Hz_convex_hull.npz'\n",
    "d = np.load(fname, allow_pickle = True)\n",
    "\n",
    "animal_id = 'IJ1'\n",
    "\n",
    "pa = PCA_Analysis()\n",
    "pa.root_dir = '/media/cat/4TBSSD/yuki/'\n",
    "pa.session_id = 'Feb3_'\n",
    "\n",
    "pa.n_pca = 10\n",
    "pa.sliding_window = 30    # how many frames to take into analysis window\n",
    "pa.n_frames = 300         # how many frames back in time to analyze: \n",
    "\n",
    "pa.animal_id = animal_id\n",
    "pa.ratio_single = d['ratio_single'][::-1]\n",
    "pa.ratio_cumsum = d['ratio_cumsum'][::-1]\n",
    "pa.ratio_random_single = d['ratio_random_single'][::-1]\n",
    "pa.ratio_random_cumulative = d['ratio_random_cumulative'][::-1]\n",
    "\n",
    "\n",
    "pa.session = get_sessions(pa.root_dir,\n",
    "                      pa.animal_id,\n",
    "                      pa.session_id)[0]\n",
    "\n",
    "print (\" processing: \", pa.session)\n",
    "fname_out = os.path.join(pa.root_dir,\n",
    "                          pa.animal_id,\n",
    "                          'tif_files',\n",
    "                          pa.session,\n",
    "                          pa.session+'_convex_hull.npz')\n",
    "\n",
    "\n",
    "\n",
    "pa.X, pa.triggers = get_data_and_triggers(fname_triggers,\n",
    "                                          fname_data)\n",
    "\n",
    "if pa.X is None:\n",
    "    print (\"     missing data/blue light\")\n",
    "    print ('')\n",
    "    print ('')\n",
    "\n",
    "elif pa.triggers.shape[0]<5:\n",
    "    print (\"     not enough points : \", pa.triggers.shape )\n",
    "    print ('')\n",
    "    print ('')\n",
    "else:\n",
    "    # make PCA plots\n",
    "    pa.pca, pa.all_points = get_pca_object_and_all_points(pa)\n",
    "\n",
    "\n",
    "    # FIG 2 E top\n",
    "    pa.p_lever =  project_data_pca(pa)\n",
    "\n",
    "\n",
    "    # scatter plot option\n",
    "    plot_pca_scatter(pa)\n",
    "\n",
    "        \n",
    "# plot_convex_hull(pa)"
   ]
  },
  {
   "cell_type": "code",
   "execution_count": 5,
   "metadata": {
    "scrolled": true
   },
   "outputs": [
    {
     "name": "stdout",
     "output_type": "stream",
     "text": [
      "sessions:  ['IA1pm_Feb1_30Hz' 'IA1pm_Feb2_30Hz' 'IA1pm_Feb3_30Hz' 'IA1pm_Feb4_30Hz'\n",
      " 'IA1pm_Feb5_30Hz' 'IA1pm_Feb9_30Hz' 'IA1pm_Feb10_30Hz' 'IA1pm_Feb11_30Hz'\n",
      " 'IA1pm_Feb12_30Hz' 'IA1pm_Feb15_30Hz' 'IA1pm_Feb16_30Hz'\n",
      " 'IA1pm_Feb17_30Hz' 'IA1pm_Feb18_30Hz' 'IA1pm_Feb19_30Hz'\n",
      " 'IA1pm_Feb22_30Hz' 'IA1pm_Feb23_30Hz' 'IA1pm_Feb24_30Hz'\n",
      " 'IA1pm_Feb25_30Hz' 'IA1pm_Feb26_30Hz' 'IA1pm_Feb29_30Hz'\n",
      " 'IA1pm_Mar1_30Hz' 'IA1pm_Mar2_30Hz' 'IA1pm_Mar3_30Hz' 'IA1am_Mar4_30Hz'\n",
      " 'IA1am_Mar7_30Hz' 'IA1pm_Mar8_30Hz' 'IA1am_Mar9_30Hz' 'IA1am_Mar10_30Hz'\n",
      " 'IA1am_Mar11_30Hz' 'IA1pm_Mar14_30Hz' 'IA1am_Mar15_30Hz'\n",
      " 'IA1pm_Mar16_30Hz' 'IA1pm_Mar17_30Hz' 'IA1pm_Mar18_30Hz'\n",
      " 'IA1pm_Mar21_30Hz' 'IA1pm_Mar22_30Hz' 'IA1pm_Mar23_30Hz'\n",
      " 'IA1pm_Mar24_30Hz' 'IA1pm_Mar29_30Hz' 'IA1pm_Mar30_30Hz'\n",
      " 'IA1pm_Mar31_30Hz' 'IA1pm_Apr1_30Hz' 'IA1pm_Apr4_30Hz' 'IA1pm_Apr5_30Hz'\n",
      " 'IA1pm_Apr6_30Hz' 'IA1pm_Apr7_30Hz' 'IA1pm_Apr11_Day3_30Hz'\n",
      " 'IA1pm_Apr13_Day5_30Hz' 'IA1pm_Apr15_Day7_30Hz' 'IA1pm_Apr18_Week2_30Hz'\n",
      " 'IA1pm_Apr19_Week2_30Hz' 'IA1pm_Apr20_Week2_30Hz'\n",
      " 'IA1pm_Apr21_Week2_30Hz' 'IA1pm_Apr22_Week2_30Hz'\n",
      " 'IA1pm_Apr25_Week3_30Hz' 'IA1pm_Apr26_Week3_30Hz'\n",
      " 'IA1pm_Apr27_Week3_30Hz' 'IA1pm_Apr28_Week3_30Hz'\n",
      " 'IA1pm_Apr29_Week3_30Hz' 'IA1am_May2_Week4_30Hz' 'IA1am_May4_Week4_30Hz'\n",
      " 'IA1am_May5_Week4_30Hz' 'IA1am_May6_Week4_30Hz' 'IA1am_May9_Week5_30Hz'\n",
      " 'IA1am_May10_Week5_30Hz' 'IA1am_May12_Week5_30Hz'\n",
      " 'IA1am_May13_Week5_30Hz' 'IA1am_May16_Week6_30Hz'\n",
      " 'IA1am_May17_Week6_30Hz' 'IA1am_May18_Week6_30Hz'\n",
      " 'IA1am_May20_Week6_30Hz']\n",
      "pa.session_id 1:  IA1pm_Feb1_30Hz\n",
      "session corrected:  IA1pm_Feb1_30Hz\n",
      "pa.session_id 1:  IA1pm_Feb2_30Hz\n",
      "session corrected:  IA1pm_Feb2_30Hz\n",
      "pa.session_id 1:  IA1pm_Feb3_30Hz\n",
      "session corrected:  IA1pm_Feb3_30Hz\n",
      "pa.session_id 1:  IA1pm_Feb4_30Hz\n",
      "session corrected:  IA1pm_Feb4_30Hz\n",
      "(7,)\n",
      "['left_paw' 'right_paw' 'nose' 'jaw' 'right_ear' 'tongue' 'lever']\n",
      "pa.session_id 2:  IA1pm_Feb4_30Hz\n",
      "starts:  [ 21.73333333  30.8         42.33333333  59.2         65.33333333\n",
      "  82.06666667  86.33333333 110.6        119.13333333 122.6       ]\n",
      "lever offset:  72\n",
      "SESSIONS:  ['Feb1_', 'Feb2_', 'Feb3_', 'Feb5_', 'Feb9_', 'Feb10_', 'Feb11_', 'Feb12_', 'Feb15_', 'Feb16_', 'Feb17_', 'Apr21_', 'Apr25_', 'Apr26_', 'Apr27_', 'Apr28_', 'Apr29_', 'May6_', 'May9_', 'May10_', 'May12_', 'May17_', 'May18_', 'May20_']\n",
      "SHIFT IDS:  ['2', '1', '2', '2', '2', '2', '2', '0', '2', '2', '1', '0', '0', '1', '1', '1', '1', '2', '0', '2', '2', '2', '02', '0']\n",
      "pa.session_id:  IA1pm_Feb4_30Hz\n",
      "pa.session_id 1:  IA1pm_Feb5_30Hz\n",
      "session corrected:  IA1pm_Feb5_30Hz\n",
      "pa.session_id 1:  IA1pm_Feb9_30Hz\n",
      "session corrected:  IA1pm_Feb9_30Hz\n",
      "pa.session_id 1:  IA1pm_Feb10_30Hz\n",
      "session corrected:  IA1pm_Feb10_30Hz\n",
      "pa.session_id 1:  IA1pm_Feb11_30Hz\n",
      "session corrected:  IA1pm_Feb11_30Hz\n",
      "pa.session_id 1:  IA1pm_Feb12_30Hz\n",
      "session corrected:  IA1pm_Feb12_30Hz\n",
      "pa.session_id 1:  IA1pm_Feb15_30Hz\n",
      "session corrected:  IA1pm_Feb15_30Hz\n",
      "pa.session_id 1:  IA1pm_Feb16_30Hz\n",
      "session corrected:  IA1pm_Feb16_30Hz\n",
      "pa.session_id 1:  IA1pm_Feb17_30Hz\n",
      "session corrected:  IA1pm_Feb17_30Hz\n",
      "pa.session_id 1:  IA1pm_Feb18_30Hz\n",
      "session corrected:  IA1pm_Feb18_30Hz\n",
      " No video/3sec movement files...\n",
      "pa.session_id 1:  IA1pm_Feb19_30Hz\n",
      "session corrected:  IA1pm_Feb19_30Hz\n",
      " No video/3sec movement files...\n",
      "pa.session_id 1:  IA1pm_Feb22_30Hz\n",
      "session corrected:  IA1pm_Feb22_30Hz\n",
      " No video/3sec movement files...\n",
      "pa.session_id 1:  IA1pm_Feb23_30Hz\n",
      "session corrected:  IA1pm_Feb23_30Hz\n",
      " No video/3sec movement files...\n",
      "pa.session_id 1:  IA1pm_Feb24_30Hz\n",
      "session corrected:  IA1pm_Feb24_30Hz\n",
      " No video/3sec movement files...\n",
      "pa.session_id 1:  IA1pm_Feb25_30Hz\n",
      "session corrected:  IA1pm_Feb25_30Hz\n",
      " No video/3sec movement files...\n",
      "pa.session_id 1:  IA1pm_Feb26_30Hz\n",
      "session corrected:  IA1pm_Feb26_30Hz\n",
      " No video/3sec movement files...\n",
      "pa.session_id 1:  IA1pm_Feb29_30Hz\n",
      "session corrected:  IA1pm_Feb29_30Hz\n",
      " No video/3sec movement files...\n",
      "pa.session_id 1:  IA1pm_Mar1_30Hz\n",
      "session corrected:  IA1pm_Mar1_30Hz\n",
      " No video/3sec movement files...\n",
      "pa.session_id 1:  IA1pm_Mar2_30Hz\n",
      "session corrected:  IA1pm_Mar2_30Hz\n",
      " No video/3sec movement files...\n",
      "pa.session_id 1:  IA1pm_Mar3_30Hz\n",
      "session corrected:  IA1pm_Mar3_30Hz\n",
      " No video/3sec movement files...\n",
      "pa.session_id 1:  IA1am_Mar4_30Hz\n",
      "session corrected:  IA1am_Mar4_30Hz\n",
      " No video/3sec movement files...\n",
      "pa.session_id 1:  IA1am_Mar7_30Hz\n",
      "session corrected:  IA1am_Mar7_30Hz\n",
      " No video/3sec movement files...\n",
      "pa.session_id 1:  IA1pm_Mar8_30Hz\n",
      "session corrected:  IA1pm_Mar8_30Hz\n",
      " No video/3sec movement files...\n",
      "pa.session_id 1:  IA1am_Mar9_30Hz\n",
      "session corrected:  IA1am_Mar9_30Hz\n",
      " No video/3sec movement files...\n",
      "pa.session_id 1:  IA1am_Mar10_30Hz\n",
      "session corrected:  IA1am_Mar10_30Hz\n",
      " No video/3sec movement files...\n",
      "pa.session_id 1:  IA1am_Mar11_30Hz\n",
      "session corrected:  IA1am_Mar11_30Hz\n",
      " No video/3sec movement files...\n",
      "pa.session_id 1:  IA1pm_Mar14_30Hz\n",
      "session corrected:  IA1pm_Mar14_30Hz\n",
      " No video/3sec movement files...\n",
      "pa.session_id 1:  IA1am_Mar15_30Hz\n",
      "session corrected:  IA1am_Mar15_30Hz\n",
      " No video/3sec movement files...\n",
      "pa.session_id 1:  IA1pm_Mar16_30Hz\n",
      "session corrected:  IA1pm_Mar16_30Hz\n",
      " No video/3sec movement files...\n",
      "pa.session_id 1:  IA1pm_Mar17_30Hz\n",
      "session corrected:  IA1pm_Mar17_30Hz\n",
      " No video/3sec movement files...\n",
      "pa.session_id 1:  IA1pm_Mar18_30Hz\n",
      "session corrected:  IA1pm_Mar18_30Hz\n",
      " No video/3sec movement files...\n",
      "pa.session_id 1:  IA1pm_Mar21_30Hz\n",
      "session corrected:  IA1pm_Mar21_30Hz\n",
      " No video/3sec movement files...\n",
      "pa.session_id 1:  IA1pm_Mar22_30Hz\n",
      "session corrected:  IA1pm_Mar22_30Hz\n",
      " No video/3sec movement files...\n",
      "pa.session_id 1:  IA1pm_Mar23_30Hz\n",
      "session corrected:  IA1pm_Mar23_30Hz\n",
      " No video/3sec movement files...\n",
      "pa.session_id 1:  IA1pm_Mar24_30Hz\n",
      "session corrected:  IA1pm_Mar24_30Hz\n",
      " No video/3sec movement files...\n",
      "pa.session_id 1:  IA1pm_Mar29_30Hz\n",
      "session corrected:  IA1pm_Mar29_30Hz\n",
      " No video/3sec movement files...\n",
      "pa.session_id 1:  IA1pm_Mar30_30Hz\n",
      "session corrected:  IA1pm_Mar30_30Hz\n",
      " No video/3sec movement files...\n",
      "pa.session_id 1:  IA1pm_Mar31_30Hz\n",
      "session corrected:  IA1pm_Mar31_30Hz\n",
      " No video/3sec movement files...\n",
      "pa.session_id 1:  IA1pm_Apr1_30Hz\n",
      "session corrected:  IA1pm_Apr1_30Hz\n",
      " No video/3sec movement files...\n",
      "pa.session_id 1:  IA1pm_Apr4_30Hz\n",
      "session corrected:  IA1pm_Apr4_30Hz\n",
      " No video/3sec movement files...\n",
      "pa.session_id 1:  IA1pm_Apr5_30Hz\n",
      "session corrected:  IA1pm_Apr5_30Hz\n",
      " No video/3sec movement files...\n",
      "pa.session_id 1:  IA1pm_Apr6_30Hz\n",
      "session corrected:  IA1pm_Apr6_30Hz\n",
      " No video/3sec movement files...\n",
      "pa.session_id 1:  IA1pm_Apr7_30Hz\n",
      "session corrected:  IA1pm_Apr7_30Hz\n",
      " No video/3sec movement files...\n",
      "pa.session_id 1:  IA1pm_Apr11_Day3_30Hz\n",
      "session corrected:  IA1pm_Apr11_Day3_30Hz\n",
      " No video/3sec movement files...\n",
      "pa.session_id 1:  IA1pm_Apr13_Day5_30Hz\n",
      "session corrected:  IA1pm_Apr13_Day5_30Hz\n",
      " No video/3sec movement files...\n",
      "pa.session_id 1:  IA1pm_Apr15_Day7_30Hz\n",
      "session corrected:  IA1pm_Apr15_Day7_30Hz\n",
      " No video/3sec movement files...\n",
      "pa.session_id 1:  IA1pm_Apr18_Week2_30Hz\n",
      "session corrected:  IA1pm_Apr18_Week2_30Hz\n",
      " No video/3sec movement files...\n",
      "pa.session_id 1:  IA1pm_Apr19_Week2_30Hz\n",
      "session corrected:  IA1pm_Apr19_Week2_30Hz\n",
      " No video/3sec movement files...\n",
      "pa.session_id 1:  IA1pm_Apr20_Week2_30Hz\n",
      "session corrected:  IA1pm_Apr20_Week2_30Hz\n",
      " No video/3sec movement files...\n",
      "pa.session_id 1:  IA1pm_Apr21_Week2_30Hz\n",
      "session corrected:  IA1pm_Apr21_Week2_30Hz\n",
      "pa.session_id 1:  IA1pm_Apr22_Week2_30Hz\n",
      "session corrected:  IA1pm_Apr22_Week2_30Hz\n",
      "(7,)\n",
      "['left_paw' 'right_paw' 'nose' 'jaw' 'right_ear' 'tongue' 'lever']\n",
      "pa.session_id 2:  IA1pm_Apr22_Week2_30Hz\n",
      "starts:  [ 24.06666667  37.2         41.6         50.66666667  55.73333333\n",
      "  60.26666667  78.6         88.8         97.         101.66666667]\n",
      "lever offset:  61\n",
      "SESSIONS:  ['Feb1_', 'Feb2_', 'Feb3_', 'Feb5_', 'Feb9_', 'Feb10_', 'Feb11_', 'Feb12_', 'Feb15_', 'Feb16_', 'Feb17_', 'Apr21_', 'Apr25_', 'Apr26_', 'Apr27_', 'Apr28_', 'Apr29_', 'May6_', 'May9_', 'May10_', 'May12_', 'May17_', 'May18_', 'May20_']\n",
      "SHIFT IDS:  ['2', '1', '2', '2', '2', '2', '2', '0', '2', '2', '1', '0', '0', '1', '1', '1', '1', '2', '0', '2', '2', '2', '02', '0']\n",
      "pa.session_id:  IA1pm_Apr22_Week2_30Hz\n",
      "pa.session_id 1:  IA1pm_Apr25_Week3_30Hz\n",
      "session corrected:  IA1pm_Apr25_Week3_30Hz\n",
      "pa.session_id 1:  IA1pm_Apr26_Week3_30Hz\n",
      "session corrected:  IA1pm_Apr26_Week3_30Hz\n",
      "pa.session_id 1:  IA1pm_Apr27_Week3_30Hz\n",
      "session corrected:  IA1pm_Apr27_Week3_30Hz\n",
      "pa.session_id 1:  IA1pm_Apr28_Week3_30Hz\n",
      "session corrected:  IA1pm_Apr28_Week3_30Hz\n",
      "pa.session_id 1:  IA1pm_Apr29_Week3_30Hz\n",
      "session corrected:  IA1pm_Apr29_Week3_30Hz\n",
      "pa.session_id 1:  IA1am_May2_Week4_30Hz\n",
      "session corrected:  IA1am_May2_Week4_30Hz\n",
      "(7,)\n",
      "['left_paw' 'right_paw' 'nose' 'jaw' 'right_ear' 'tongue' 'lever']\n",
      "pa.session_id 2:  IA1am_May2_Week4_30Hz\n",
      "starts:  [  5.4         40.13333333  51.93333333  57.          65.73333333\n",
      "  80.2         93.86666667  98.66666667 107.2        115.4       ]\n"
     ]
    },
    {
     "name": "stdout",
     "output_type": "stream",
     "text": [
      "lever offset:  66\n",
      "SESSIONS:  ['Feb1_', 'Feb2_', 'Feb3_', 'Feb5_', 'Feb9_', 'Feb10_', 'Feb11_', 'Feb12_', 'Feb15_', 'Feb16_', 'Feb17_', 'Apr21_', 'Apr25_', 'Apr26_', 'Apr27_', 'Apr28_', 'Apr29_', 'May6_', 'May9_', 'May10_', 'May12_', 'May17_', 'May18_', 'May20_']\n",
      "SHIFT IDS:  ['2', '1', '2', '2', '2', '2', '2', '0', '2', '2', '1', '0', '0', '1', '1', '1', '1', '2', '0', '2', '2', '2', '02', '0']\n",
      "pa.session_id:  IA1am_May2_Week4_30Hz\n",
      "pa.session_id 1:  IA1am_May4_Week4_30Hz\n",
      "session corrected:  IA1am_May4_Week4_30Hz\n",
      " No video/3sec movement files...\n",
      "pa.session_id 1:  IA1am_May5_Week4_30Hz\n",
      "session corrected:  IA1am_May5_Week4_30Hz\n",
      "(7,)\n",
      "['left_paw' 'right_paw' 'nose' 'jaw' 'right_ear' 'tongue' 'lever']\n",
      "pa.session_id 2:  IA1am_May5_Week4_30Hz\n",
      "starts:  [ 10.86666667  29.93333333  64.6         90.53333333 170.13333333\n",
      " 235.         249.2        260.         265.46666667 271.53333333]\n",
      "lever offset:  94\n",
      "SESSIONS:  ['Feb1_', 'Feb2_', 'Feb3_', 'Feb5_', 'Feb9_', 'Feb10_', 'Feb11_', 'Feb12_', 'Feb15_', 'Feb16_', 'Feb17_', 'Apr21_', 'Apr25_', 'Apr26_', 'Apr27_', 'Apr28_', 'Apr29_', 'May6_', 'May9_', 'May10_', 'May12_', 'May17_', 'May18_', 'May20_']\n",
      "SHIFT IDS:  ['2', '1', '2', '2', '2', '2', '2', '0', '2', '2', '1', '0', '0', '1', '1', '1', '1', '2', '0', '2', '2', '2', '02', '0']\n",
      "pa.session_id:  IA1am_May5_Week4_30Hz\n",
      "pa.session_id 1:  IA1am_May6_Week4_30Hz\n",
      "session corrected:  IA1am_May6_Week4_30Hz\n",
      "pa.session_id 1:  IA1am_May9_Week5_30Hz\n",
      "session corrected:  IA1am_May9_Week5_30Hz\n",
      "pa.session_id 1:  IA1am_May10_Week5_30Hz\n",
      "session corrected:  IA1am_May10_Week5_30Hz\n",
      "pa.session_id 1:  IA1am_May12_Week5_30Hz\n",
      "session corrected:  IA1am_May12_Week5_30Hz\n",
      "pa.session_id 1:  IA1am_May13_Week5_30Hz\n",
      "session corrected:  IA1am_May13_Week5_30Hz\n",
      "(7,)\n",
      "['left_paw' 'right_paw' 'nose' 'jaw' 'right_ear' 'tongue' 'lever']\n",
      "pa.session_id 2:  IA1am_May13_Week5_30Hz\n",
      "starts:  [ 7.06666667 13.86666667 17.53333333 21.66666667 39.2        51.93333333\n",
      " 64.8        76.8        88.46666667 95.26666667]\n",
      "lever offset:  72\n",
      "SESSIONS:  ['Feb1_', 'Feb2_', 'Feb3_', 'Feb5_', 'Feb9_', 'Feb10_', 'Feb11_', 'Feb12_', 'Feb15_', 'Feb16_', 'Feb17_', 'Apr21_', 'Apr25_', 'Apr26_', 'Apr27_', 'Apr28_', 'Apr29_', 'May6_', 'May9_', 'May10_', 'May12_', 'May17_', 'May18_', 'May20_']\n",
      "SHIFT IDS:  ['2', '1', '2', '2', '2', '2', '2', '0', '2', '2', '1', '0', '0', '1', '1', '1', '1', '2', '0', '2', '2', '2', '02', '0']\n",
      "pa.session_id:  IA1am_May13_Week5_30Hz\n",
      "pa.session_id 1:  IA1am_May16_Week6_30Hz\n",
      "session corrected:  IA1am_May16_Week6_30Hz\n",
      "(7,)\n",
      "['left_paw' 'right_paw' 'nose' 'jaw' 'right_ear' 'tongue' 'lever']\n",
      "pa.session_id 2:  IA1am_May16_Week6_30Hz\n",
      "starts:  [  4.          14.2         36.86666667  54.06666667  64.46666667\n",
      "  76.2        110.06666667 125.6        162.86666667 174.73333333]\n",
      "lever offset:  76\n",
      "SESSIONS:  ['Feb1_', 'Feb2_', 'Feb3_', 'Feb5_', 'Feb9_', 'Feb10_', 'Feb11_', 'Feb12_', 'Feb15_', 'Feb16_', 'Feb17_', 'Apr21_', 'Apr25_', 'Apr26_', 'Apr27_', 'Apr28_', 'Apr29_', 'May6_', 'May9_', 'May10_', 'May12_', 'May17_', 'May18_', 'May20_']\n",
      "SHIFT IDS:  ['2', '1', '2', '2', '2', '2', '2', '0', '2', '2', '1', '0', '0', '1', '1', '1', '1', '2', '0', '2', '2', '2', '02', '0']\n",
      "pa.session_id:  IA1am_May16_Week6_30Hz\n",
      "pa.session_id 1:  IA1am_May17_Week6_30Hz\n",
      "session corrected:  IA1am_May17_Week6_30Hz\n",
      "pa.session_id 1:  IA1am_May18_Week6_30Hz\n",
      "session corrected:  IA1am_May18_Week6_30Hz\n",
      "pa.session_id 1:  IA1am_May20_Week6_30Hz\n",
      "session corrected:  IA1am_May20_Week6_30Hz\n",
      "sessions:  ['IA2pm_Feb1_30Hz' 'IA2pm_Feb2_30Hz' 'IA2pm_Feb3_30Hz' 'IA2pm_Feb4_30Hz'\n",
      " 'IA2pm_Feb5_30Hz' 'IA2pm_Feb9_30Hz' 'IA2pm_Feb10_30Hz' 'IA2pm_Feb11_30Hz'\n",
      " 'IA2pm_Feb12_30Hz' 'IA2pm_Feb15_30Hz' 'IA2pm_Feb16_30Hz'\n",
      " 'IA2pm_Feb17_30Hz' 'IA2pm_Feb18_30Hz' 'IA2pm_Feb19_30Hz'\n",
      " 'IA2pm_Feb22_30Hz' 'IA2pm_Feb23_30Hz' 'IA2pm_Feb24_30Hz'\n",
      " 'IA2pm_Feb25_30Hz' 'IA2pm_Feb26_30Hz' 'IA2pm_Feb29_30Hz'\n",
      " 'IA2pm_Mar1_30Hz' 'IA2pm_Mar2_30Hz' 'IA2pm_Mar3_30Hz' 'IA2am_Mar4_30Hz'\n",
      " 'IA2am_Mar7_30Hz' 'IA2pm_Mar8_30Hz' 'IA2am_Mar9_30Hz' 'IA2am_Mar10_30Hz'\n",
      " 'IA2am_Mar11_30Hz' 'IA2pm_Mar14_30Hz' 'IA2am_Mar15_30Hz'\n",
      " 'IA2pm_Mar16_30Hz' 'IA2pm_Mar17_30Hz' 'IA2pm_Mar18_30Hz'\n",
      " 'IA2pm_Mar21_30Hz' 'IA2pm_Mar23_30Hz' 'IA2pm_Mar24_30Hz'\n",
      " 'IA2pm_Mar29_30Hz' 'IA2pm_Mar30_30Hz' 'IA2pm_Mar31_30Hz'\n",
      " 'IA2pm_Apr1_30Hz' 'IA2pm_Apr4_30Hz' 'IA2pm_Apr5_30Hz' 'IA2pm_Apr6_30Hz']\n",
      "pa.session_id 1:  IA2pm_Feb1_30Hz\n",
      "session corrected:  IA2pm_Feb1_30Hz\n",
      "(7,)\n",
      "['left_paw' 'right_paw' 'nose' 'jaw' 'right_ear' 'tongue' 'lever']\n",
      "pa.session_id 2:  IA2pm_Feb1_30Hz\n",
      "starts:  [  4.          24.33333333  45.66666667  75.93333333  84.93333333\n",
      " 128.13333333 148.4        159.13333333 178.73333333 191.73333333]\n",
      "lever offset:  69\n",
      "SESSIONS:  ['Feb1_', 'Feb2_', 'Feb3_', 'Feb4_', 'Feb5_', 'Feb9_', 'Feb10_', 'Feb11_', 'Feb12_', 'Feb16_', 'Feb17_']\n",
      "SHIFT IDS:  ['2', '1', '0', '1', '1', '2', '2', '2', '2', '2', '2']\n",
      "pa.session_id:  IA2pm_Feb1_30Hz\n",
      "SELF SHIFT ID:  2\n",
      " using shift:  2\n",
      "DLC SHIFT Loaded:  4.08\n",
      "DLC shift :  4.08   in frames:  122  after subtracting lever shift:  -53\n",
      " data missing/led missing\n",
      "pa.session_id 1:  IA2pm_Feb2_30Hz\n",
      "session corrected:  IA2pm_Feb2_30Hz\n",
      "(7,)\n",
      "['left_paw' 'right_paw' 'nose' 'jaw' 'right_ear' 'tongue' 'lever']\n",
      "pa.session_id 2:  IA2pm_Feb2_30Hz\n",
      "starts:  [ 26.93333333  45.86666667  96.13333333 100.4        107.06666667\n",
      " 122.53333333 141.33333333 180.2        184.         190.13333333]\n",
      "lever offset:  85\n",
      "SESSIONS:  ['Feb1_', 'Feb2_', 'Feb3_', 'Feb4_', 'Feb5_', 'Feb9_', 'Feb10_', 'Feb11_', 'Feb12_', 'Feb16_', 'Feb17_']\n",
      "SHIFT IDS:  ['2', '1', '0', '1', '1', '2', '2', '2', '2', '2', '2']\n",
      "pa.session_id:  IA2pm_Feb2_30Hz\n",
      "SELF SHIFT ID:  1\n",
      " using shift:  1\n",
      "DLC SHIFT Loaded:  2.46\n",
      "DLC shift :  2.46   in frames:  73  after subtracting lever shift:  12\n",
      " triggers:  (3,)\n",
      " data:  (40000, 128, 128)\n",
      "(39067, 128, 128)\n",
      "X:  (39067, 16384)\n"
     ]
    },
    {
     "name": "stderr",
     "output_type": "stream",
     "text": [
      "\r",
      "  0%|          | 0/1 [00:00<?, ?it/s]"
     ]
    },
    {
     "name": "stdout",
     "output_type": "stream",
     "text": [
      " X data using :  30  number of frames  (1299, 491520)\n",
      " pca allpoints:  (1299, 10)\n",
      "1 50 10\n"
     ]
    },
    {
     "name": "stderr",
     "output_type": "stream",
     "text": [
      "100%|██████████| 1/1 [00:00<00:00,  3.01it/s]\n",
      "  0%|          | 0/1 [00:00<?, ?it/s]"
     ]
    },
    {
     "name": "stdout",
     "output_type": "stream",
     "text": [
      " pca p_levefr resahped:  (1, 50, 10)\n",
      "  body movement pa.p_lever projection:  (1, 50, 10)\n",
      "temp points:  (1299, 2)\n",
      "temp points:  (50, 2)\n",
      "plever:  (45, 2)\n",
      "1 56 10\n"
     ]
    },
    {
     "name": "stderr",
     "output_type": "stream",
     "text": [
      "100%|██████████| 1/1 [00:00<00:00,  2.54it/s]\n",
      "  0%|          | 0/1 [00:00<?, ?it/s]"
     ]
    },
    {
     "name": "stdout",
     "output_type": "stream",
     "text": [
      " pca p_levefr resahped:  (1, 56, 10)\n",
      "  body movement pa.p_lever projection:  (1, 56, 10)\n",
      "temp points:  (1299, 2)\n",
      "temp points:  (56, 2)\n",
      "plever:  (50, 2)\n",
      "1 56 10\n"
     ]
    },
    {
     "name": "stderr",
     "output_type": "stream",
     "text": [
      "100%|██████████| 1/1 [00:00<00:00,  3.20it/s]\n",
      "  0%|          | 0/1 [00:00<?, ?it/s]"
     ]
    },
    {
     "name": "stdout",
     "output_type": "stream",
     "text": [
      " pca p_levefr resahped:  (1, 56, 10)\n",
      "  body movement pa.p_lever projection:  (1, 56, 10)\n",
      "temp points:  (1299, 2)\n",
      "temp points:  (56, 2)\n",
      "plever:  (50, 2)\n",
      "1 74 10\n"
     ]
    },
    {
     "name": "stderr",
     "output_type": "stream",
     "text": [
      "100%|██████████| 1/1 [00:00<00:00,  2.44it/s]\n",
      "  0%|          | 0/1 [00:00<?, ?it/s]"
     ]
    },
    {
     "name": "stdout",
     "output_type": "stream",
     "text": [
      " pca p_levefr resahped:  (1, 71, 10)\n",
      "  body movement pa.p_lever projection:  (1, 71, 10)\n",
      "temp points:  (1299, 2)\n",
      "temp points:  (71, 2)\n",
      "plever:  (64, 2)\n",
      "1 73 10\n"
     ]
    },
    {
     "name": "stderr",
     "output_type": "stream",
     "text": [
      "100%|██████████| 1/1 [00:00<00:00,  2.58it/s]\n",
      "100%|██████████| 1/1 [00:00<00:00, 21.44it/s]\n",
      "/media/cat/4TBSSD/anaconda3/envs/wide/lib/python3.8/site-packages/numpy/lib/function_base.py:3961: RuntimeWarning: invalid value encountered in subtract\n",
      "  diff_b_a = subtract(b, a)\n",
      "/media/cat/4TBSSD/anaconda3/envs/wide/lib/python3.8/site-packages/numpy/core/_asarray.py:171: VisibleDeprecationWarning: Creating an ndarray from ragged nested sequences (which is a list-or-tuple of lists-or-tuples-or ndarrays with different lengths or shapes) is deprecated. If you meant to do this, you must specify 'dtype=object' when creating the ndarray.\n",
      "  return array(a, dtype, copy=False, order=order, subok=True)\n"
     ]
    },
    {
     "name": "stdout",
     "output_type": "stream",
     "text": [
      " pca p_levefr resahped:  (1, 69, 10)\n",
      "  body movement pa.p_lever projection:  (1, 69, 10)\n",
      "temp points:  (1299, 2)\n",
      "temp points:  (69, 2)\n",
      "plever:  (62, 2)\n",
      "FNAME LEVER:  /media/cat/4TBSSD/yuki/IA2/tif_files/IA2pm_Feb2_30Hz/IA2pm_Feb2_30Hz_all_locs_selected.txt\n",
      "1 3 10\n",
      " pca p_levefr resahped:  (1, 3, 10)\n",
      "temp points:  (1299, 2)\n",
      "temp points:  (3, 2)\n",
      "plever:  (0, 2)\n",
      "pa.session_id 1:  IA2pm_Feb3_30Hz\n",
      "session corrected:  IA2pm_Feb3_30Hz\n",
      "(7,)\n",
      "['left_paw' 'right_paw' 'nose' 'jaw' 'right_ear' 'tongue' 'lever']\n",
      "pa.session_id 2:  IA2pm_Feb3_30Hz\n",
      "starts:  [ 16.73333333  37.86666667  57.46666667  71.13333333  88.26666667\n",
      "  98.4        112.8        130.         141.66666667 156.        ]\n",
      "lever offset:  71\n",
      "SESSIONS:  ['Feb1_', 'Feb2_', 'Feb3_', 'Feb4_', 'Feb5_', 'Feb9_', 'Feb10_', 'Feb11_', 'Feb12_', 'Feb16_', 'Feb17_']\n",
      "SHIFT IDS:  ['2', '1', '0', '1', '1', '2', '2', '2', '2', '2', '2']\n",
      "pa.session_id:  IA2pm_Feb3_30Hz\n",
      "SELF SHIFT ID:  0\n",
      " using shift:  0\n",
      "DLC SHIFT Loaded:  4.3\n",
      "DLC shift :  4.3   in frames:  129  after subtracting lever shift:  -58\n",
      " triggers:  (27,)\n",
      " data:  (40000, 128, 128)\n",
      "(39050, 128, 128)\n",
      "X:  (39050, 16384)\n"
     ]
    },
    {
     "name": "stderr",
     "output_type": "stream",
     "text": [
      "\r",
      "  0%|          | 0/1 [00:00<?, ?it/s]"
     ]
    },
    {
     "name": "stdout",
     "output_type": "stream",
     "text": [
      " X data using :  30  number of frames  (1299, 491520)\n",
      " pca allpoints:  (1299, 10)\n",
      "1 82 10\n"
     ]
    },
    {
     "name": "stderr",
     "output_type": "stream",
     "text": [
      "100%|██████████| 1/1 [00:00<00:00,  2.13it/s]\n",
      "  0%|          | 0/1 [00:00<?, ?it/s]"
     ]
    },
    {
     "name": "stdout",
     "output_type": "stream",
     "text": [
      " pca p_levefr resahped:  (1, 82, 10)\n",
      "  body movement pa.p_lever projection:  (1, 82, 10)\n",
      "temp points:  (1299, 2)\n",
      "temp points:  (82, 2)\n",
      "plever:  (73, 2)\n",
      "1 75 10\n"
     ]
    },
    {
     "name": "stderr",
     "output_type": "stream",
     "text": [
      "100%|██████████| 1/1 [00:00<00:00,  2.21it/s]\n",
      "  0%|          | 0/1 [00:00<?, ?it/s]"
     ]
    },
    {
     "name": "stdout",
     "output_type": "stream",
     "text": [
      " pca p_levefr resahped:  (1, 74, 10)\n",
      "  body movement pa.p_lever projection:  (1, 74, 10)\n",
      "temp points:  (1299, 2)\n",
      "temp points:  (74, 2)\n",
      "plever:  (66, 2)\n",
      "1 95 10\n"
     ]
    },
    {
     "name": "stderr",
     "output_type": "stream",
     "text": [
      "100%|██████████| 1/1 [00:00<00:00,  1.94it/s]\n",
      "  0%|          | 0/1 [00:00<?, ?it/s]"
     ]
    },
    {
     "name": "stdout",
     "output_type": "stream",
     "text": [
      " pca p_levefr resahped:  (1, 94, 10)\n",
      "  body movement pa.p_lever projection:  (1, 94, 10)\n",
      "temp points:  (1299, 2)\n",
      "temp points:  (94, 2)\n",
      "plever:  (84, 2)\n",
      "1 84 10\n"
     ]
    },
    {
     "name": "stderr",
     "output_type": "stream",
     "text": [
      "100%|██████████| 1/1 [00:00<00:00,  2.05it/s]\n",
      "  0%|          | 0/1 [00:00<?, ?it/s]"
     ]
    },
    {
     "name": "stdout",
     "output_type": "stream",
     "text": [
      " pca p_levefr resahped:  (1, 81, 10)\n",
      "  body movement pa.p_lever projection:  (1, 81, 10)\n",
      "temp points:  (1299, 2)\n",
      "temp points:  (81, 2)\n",
      "plever:  (73, 2)\n",
      "1 106 10\n"
     ]
    },
    {
     "name": "stderr",
     "output_type": "stream",
     "text": [
      "100%|██████████| 1/1 [00:00<00:00,  1.66it/s]\n",
      "  0%|          | 0/1 [00:00<?, ?it/s]"
     ]
    },
    {
     "name": "stdout",
     "output_type": "stream",
     "text": [
      " pca p_levefr resahped:  (1, 105, 10)\n",
      "  body movement pa.p_lever projection:  (1, 105, 10)\n",
      "temp points:  (1299, 2)\n",
      "temp points:  (105, 2)\n",
      "plever:  (94, 2)\n",
      "FNAME LEVER:  /media/cat/4TBSSD/yuki/IA2/tif_files/IA2pm_Feb3_30Hz/IA2pm_Feb3_30Hz_all_locs_selected.txt\n",
      "1 38 10\n"
     ]
    },
    {
     "name": "stderr",
     "output_type": "stream",
     "text": [
      "100%|██████████| 1/1 [00:00<00:00,  4.35it/s]\n",
      "/media/cat/4TBSSD/anaconda3/envs/wide/lib/python3.8/site-packages/numpy/core/_asarray.py:171: VisibleDeprecationWarning: Creating an ndarray from ragged nested sequences (which is a list-or-tuple of lists-or-tuples-or ndarrays with different lengths or shapes) is deprecated. If you meant to do this, you must specify 'dtype=object' when creating the ndarray.\n",
      "  return array(a, dtype, copy=False, order=order, subok=True)\n"
     ]
    },
    {
     "name": "stdout",
     "output_type": "stream",
     "text": [
      " pca p_levefr resahped:  (1, 38, 10)\n",
      "temp points:  (1299, 2)\n",
      "temp points:  (38, 2)\n",
      "plever:  (34, 2)\n",
      "pa.session_id 1:  IA2pm_Feb4_30Hz\n",
      "session corrected:  IA2pm_Feb4_30Hz\n",
      "(7,)\n",
      "['left_paw' 'right_paw' 'nose' 'jaw' 'right_ear' 'tongue' 'lever']\n",
      "pa.session_id 2:  IA2pm_Feb4_30Hz\n",
      "starts:  [ 13.          20.8         26.6         37.46666667  46.73333333\n",
      "  63.13333333  72.13333333  81.86666667  99.4        110.73333333]\n",
      "lever offset:  68\n",
      "SESSIONS:  ['Feb1_', 'Feb2_', 'Feb3_', 'Feb4_', 'Feb5_', 'Feb9_', 'Feb10_', 'Feb11_', 'Feb12_', 'Feb16_', 'Feb17_']\n",
      "SHIFT IDS:  ['2', '1', '0', '1', '1', '2', '2', '2', '2', '2', '2']\n",
      "pa.session_id:  IA2pm_Feb4_30Hz\n",
      "SELF SHIFT ID:  1\n",
      " using shift:  1\n",
      "DLC SHIFT Loaded:  3.84\n",
      "DLC shift :  3.84   in frames:  115  after subtracting lever shift:  -47\n",
      " triggers:  (63,)\n",
      " data:  (40000, 128, 128)\n",
      "(39012, 128, 128)\n",
      "X:  (39012, 16384)\n"
     ]
    },
    {
     "name": "stderr",
     "output_type": "stream",
     "text": [
      "\r",
      "  0%|          | 0/1 [00:00<?, ?it/s]"
     ]
    },
    {
     "name": "stdout",
     "output_type": "stream",
     "text": [
      " X data using :  30  number of frames  (1298, 491520)\n",
      " pca allpoints:  (1298, 10)\n",
      "1 138 10\n"
     ]
    },
    {
     "name": "stderr",
     "output_type": "stream",
     "text": [
      "100%|██████████| 1/1 [00:00<00:00,  1.21it/s]\n",
      "  0%|          | 0/1 [00:00<?, ?it/s]"
     ]
    },
    {
     "name": "stdout",
     "output_type": "stream",
     "text": [
      " pca p_levefr resahped:  (1, 137, 10)\n",
      "  body movement pa.p_lever projection:  (1, 137, 10)\n",
      "temp points:  (1298, 2)\n",
      "temp points:  (137, 2)\n",
      "plever:  (123, 2)\n",
      "1 129 10\n"
     ]
    },
    {
     "name": "stderr",
     "output_type": "stream",
     "text": [
      "100%|██████████| 1/1 [00:00<00:00,  1.27it/s]\n",
      "  0%|          | 0/1 [00:00<?, ?it/s]"
     ]
    },
    {
     "name": "stdout",
     "output_type": "stream",
     "text": [
      " pca p_levefr resahped:  (1, 126, 10)\n",
      "  body movement pa.p_lever projection:  (1, 126, 10)\n",
      "temp points:  (1298, 2)\n",
      "temp points:  (126, 2)\n",
      "plever:  (113, 2)\n",
      "1 129 10\n"
     ]
    },
    {
     "name": "stderr",
     "output_type": "stream",
     "text": [
      "100%|██████████| 1/1 [00:00<00:00,  1.28it/s]\n",
      "  0%|          | 0/1 [00:00<?, ?it/s]"
     ]
    },
    {
     "name": "stdout",
     "output_type": "stream",
     "text": [
      " pca p_levefr resahped:  (1, 126, 10)\n",
      "  body movement pa.p_lever projection:  (1, 126, 10)\n",
      "temp points:  (1298, 2)\n",
      "temp points:  (126, 2)\n",
      "plever:  (113, 2)\n",
      "1 81 10\n"
     ]
    },
    {
     "name": "stderr",
     "output_type": "stream",
     "text": [
      "100%|██████████| 1/1 [00:00<00:00,  1.98it/s]\n",
      "  0%|          | 0/1 [00:00<?, ?it/s]"
     ]
    },
    {
     "name": "stdout",
     "output_type": "stream",
     "text": [
      " pca p_levefr resahped:  (1, 78, 10)\n",
      "  body movement pa.p_lever projection:  (1, 78, 10)\n",
      "temp points:  (1298, 2)\n",
      "temp points:  (78, 2)\n",
      "plever:  (70, 2)\n",
      "1 130 10\n"
     ]
    },
    {
     "name": "stderr",
     "output_type": "stream",
     "text": [
      "100%|██████████| 1/1 [00:00<00:00,  1.22it/s]\n",
      "  0%|          | 0/1 [00:00<?, ?it/s]"
     ]
    },
    {
     "name": "stdout",
     "output_type": "stream",
     "text": [
      " pca p_levefr resahped:  (1, 129, 10)\n",
      "  body movement pa.p_lever projection:  (1, 129, 10)\n",
      "temp points:  (1298, 2)\n",
      "temp points:  (129, 2)\n",
      "plever:  (116, 2)\n",
      "FNAME LEVER:  /media/cat/4TBSSD/yuki/IA2/tif_files/IA2pm_Feb4_30Hz/IA2pm_Feb4_30Hz_all_locs_selected.txt\n",
      "1 93 10\n"
     ]
    },
    {
     "name": "stderr",
     "output_type": "stream",
     "text": [
      "100%|██████████| 1/1 [00:00<00:00,  1.60it/s]\n",
      "/media/cat/4TBSSD/anaconda3/envs/wide/lib/python3.8/site-packages/numpy/core/_asarray.py:171: VisibleDeprecationWarning: Creating an ndarray from ragged nested sequences (which is a list-or-tuple of lists-or-tuples-or ndarrays with different lengths or shapes) is deprecated. If you meant to do this, you must specify 'dtype=object' when creating the ndarray.\n",
      "  return array(a, dtype, copy=False, order=order, subok=True)\n"
     ]
    },
    {
     "name": "stdout",
     "output_type": "stream",
     "text": [
      " pca p_levefr resahped:  (1, 93, 10)\n",
      "temp points:  (1298, 2)\n",
      "temp points:  (93, 2)\n",
      "plever:  (83, 2)\n",
      "pa.session_id 1:  IA2pm_Feb5_30Hz\n",
      "session corrected:  IA2pm_Feb5_30Hz\n",
      "(7,)\n",
      "['left_paw' 'right_paw' 'nose' 'jaw' 'right_ear' 'tongue' 'lever']\n",
      "pa.session_id 2:  IA2pm_Feb5_30Hz\n",
      "starts:  [15.26666667 23.8        35.93333333 50.26666667 56.06666667 60.73333333\n",
      " 67.8        76.66666667 80.06666667 83.46666667]\n",
      "lever offset:  74\n",
      "SESSIONS:  ['Feb1_', 'Feb2_', 'Feb3_', 'Feb4_', 'Feb5_', 'Feb9_', 'Feb10_', 'Feb11_', 'Feb12_', 'Feb16_', 'Feb17_']\n",
      "SHIFT IDS:  ['2', '1', '0', '1', '1', '2', '2', '2', '2', '2', '2']\n",
      "pa.session_id:  IA2pm_Feb5_30Hz\n",
      "SELF SHIFT ID:  1\n",
      " using shift:  1\n",
      "DLC SHIFT Loaded:  4.2\n",
      "DLC shift :  4.2   in frames:  126  after subtracting lever shift:  -52\n",
      " triggers:  (49,)\n",
      " data:  (40000, 128, 128)\n",
      "(39078, 128, 128)\n",
      "X:  (39078, 16384)\n"
     ]
    },
    {
     "name": "stderr",
     "output_type": "stream",
     "text": [
      "\r",
      "  0%|          | 0/1 [00:00<?, ?it/s]"
     ]
    },
    {
     "name": "stdout",
     "output_type": "stream",
     "text": [
      " X data using :  30  number of frames  (1300, 491520)\n",
      " pca allpoints:  (1300, 10)\n",
      "1 160 10\n"
     ]
    },
    {
     "name": "stderr",
     "output_type": "stream",
     "text": [
      "100%|██████████| 1/1 [00:00<00:00,  1.17it/s]\n",
      "  0%|          | 0/1 [00:00<?, ?it/s]"
     ]
    },
    {
     "name": "stdout",
     "output_type": "stream",
     "text": [
      " pca p_levefr resahped:  (1, 157, 10)\n",
      "  body movement pa.p_lever projection:  (1, 157, 10)\n",
      "temp points:  (1300, 2)\n",
      "temp points:  (157, 2)\n",
      "plever:  (141, 2)\n",
      "1 136 10\n"
     ]
    },
    {
     "name": "stderr",
     "output_type": "stream",
     "text": [
      "100%|██████████| 1/1 [00:00<00:00,  1.42it/s]\n",
      "  0%|          | 0/1 [00:00<?, ?it/s]"
     ]
    },
    {
     "name": "stdout",
     "output_type": "stream",
     "text": [
      " pca p_levefr resahped:  (1, 133, 10)\n",
      "  body movement pa.p_lever projection:  (1, 133, 10)\n",
      "temp points:  (1300, 2)\n",
      "temp points:  (133, 2)\n",
      "plever:  (119, 2)\n",
      "1 161 10\n"
     ]
    },
    {
     "name": "stderr",
     "output_type": "stream",
     "text": [
      "100%|██████████| 1/1 [00:00<00:00,  1.11it/s]\n",
      "  0%|          | 0/1 [00:00<?, ?it/s]"
     ]
    },
    {
     "name": "stdout",
     "output_type": "stream",
     "text": [
      " pca p_levefr resahped:  (1, 158, 10)\n",
      "  body movement pa.p_lever projection:  (1, 158, 10)\n",
      "temp points:  (1300, 2)\n",
      "temp points:  (158, 2)\n",
      "plever:  (142, 2)\n",
      "1 89 10\n"
     ]
    },
    {
     "name": "stderr",
     "output_type": "stream",
     "text": [
      "100%|██████████| 1/1 [00:00<00:00,  2.04it/s]\n",
      "  0%|          | 0/1 [00:00<?, ?it/s]"
     ]
    },
    {
     "name": "stdout",
     "output_type": "stream",
     "text": [
      " pca p_levefr resahped:  (1, 88, 10)\n",
      "  body movement pa.p_lever projection:  (1, 88, 10)\n",
      "temp points:  (1300, 2)\n",
      "temp points:  (88, 2)\n",
      "plever:  (79, 2)\n",
      "1 164 10\n"
     ]
    },
    {
     "name": "stderr",
     "output_type": "stream",
     "text": [
      "100%|██████████| 1/1 [00:00<00:00,  1.15it/s]\n",
      "  0%|          | 0/1 [00:00<?, ?it/s]"
     ]
    },
    {
     "name": "stdout",
     "output_type": "stream",
     "text": [
      " pca p_levefr resahped:  (1, 161, 10)\n",
      "  body movement pa.p_lever projection:  (1, 161, 10)\n",
      "temp points:  (1300, 2)\n",
      "temp points:  (161, 2)\n",
      "plever:  (145, 2)\n",
      "FNAME LEVER:  /media/cat/4TBSSD/yuki/IA2/tif_files/IA2pm_Feb5_30Hz/IA2pm_Feb5_30Hz_all_locs_selected.txt\n",
      "1 69 10\n"
     ]
    },
    {
     "name": "stderr",
     "output_type": "stream",
     "text": [
      "100%|██████████| 1/1 [00:00<00:00,  2.66it/s]\n",
      "/media/cat/4TBSSD/anaconda3/envs/wide/lib/python3.8/site-packages/numpy/core/_asarray.py:171: VisibleDeprecationWarning: Creating an ndarray from ragged nested sequences (which is a list-or-tuple of lists-or-tuples-or ndarrays with different lengths or shapes) is deprecated. If you meant to do this, you must specify 'dtype=object' when creating the ndarray.\n",
      "  return array(a, dtype, copy=False, order=order, subok=True)\n"
     ]
    },
    {
     "name": "stdout",
     "output_type": "stream",
     "text": [
      " pca p_levefr resahped:  (1, 69, 10)\n",
      "temp points:  (1300, 2)\n",
      "temp points:  (69, 2)\n",
      "plever:  (62, 2)\n",
      "pa.session_id 1:  IA2pm_Feb9_30Hz\n",
      "session corrected:  IA2pm_Feb9_30Hz\n",
      "(7,)\n",
      "['left_paw' 'right_paw' 'nose' 'jaw' 'right_ear' 'tongue' 'lever']\n",
      "pa.session_id 2:  IA2pm_Feb9_30Hz\n",
      "starts:  [ 10.06666667  15.93333333  21.86666667  36.46666667  48.2\n",
      "  56.6         64.          86.06666667 101.93333333 116.4       ]\n",
      "lever offset:  67\n",
      "SESSIONS:  ['Feb1_', 'Feb2_', 'Feb3_', 'Feb4_', 'Feb5_', 'Feb9_', 'Feb10_', 'Feb11_', 'Feb12_', 'Feb16_', 'Feb17_']\n",
      "SHIFT IDS:  ['2', '1', '0', '1', '1', '2', '2', '2', '2', '2', '2']\n",
      "pa.session_id:  IA2pm_Feb9_30Hz\n",
      "SELF SHIFT ID:  2\n",
      " using shift:  2\n",
      "DLC SHIFT Loaded:  3.28\n",
      "DLC shift :  3.28   in frames:  98  after subtracting lever shift:  -31\n",
      " triggers:  (2,)\n",
      " data:  (40000, 128, 128)\n",
      "(39021, 128, 128)\n",
      "X:  (39021, 16384)\n"
     ]
    },
    {
     "name": "stderr",
     "output_type": "stream",
     "text": [
      "\r",
      "  0%|          | 0/1 [00:00<?, ?it/s]"
     ]
    },
    {
     "name": "stdout",
     "output_type": "stream",
     "text": [
      " X data using :  30  number of frames  (1298, 491520)\n",
      " pca allpoints:  (1298, 10)\n",
      "1 111 10\n"
     ]
    },
    {
     "name": "stderr",
     "output_type": "stream",
     "text": [
      "100%|██████████| 1/1 [00:00<00:00,  1.66it/s]\n",
      "  0%|          | 0/1 [00:00<?, ?it/s]"
     ]
    },
    {
     "name": "stdout",
     "output_type": "stream",
     "text": [
      " pca p_levefr resahped:  (1, 109, 10)\n",
      "  body movement pa.p_lever projection:  (1, 109, 10)\n",
      "temp points:  (1298, 2)\n",
      "temp points:  (109, 2)\n",
      "plever:  (98, 2)\n",
      "1 112 10\n"
     ]
    },
    {
     "name": "stderr",
     "output_type": "stream",
     "text": [
      "100%|██████████| 1/1 [00:00<00:00,  1.51it/s]\n",
      "  0%|          | 0/1 [00:00<?, ?it/s]"
     ]
    },
    {
     "name": "stdout",
     "output_type": "stream",
     "text": [
      " pca p_levefr resahped:  (1, 111, 10)\n",
      "  body movement pa.p_lever projection:  (1, 111, 10)\n",
      "temp points:  (1298, 2)\n",
      "temp points:  (111, 2)\n",
      "plever:  (100, 2)\n",
      "1 125 10\n"
     ]
    },
    {
     "name": "stderr",
     "output_type": "stream",
     "text": [
      "100%|██████████| 1/1 [00:00<00:00,  1.22it/s]\n",
      "  0%|          | 0/1 [00:00<?, ?it/s]"
     ]
    },
    {
     "name": "stdout",
     "output_type": "stream",
     "text": [
      " pca p_levefr resahped:  (1, 123, 10)\n",
      "  body movement pa.p_lever projection:  (1, 123, 10)\n",
      "temp points:  (1298, 2)\n",
      "temp points:  (123, 2)\n",
      "plever:  (110, 2)\n",
      "1 95 10\n"
     ]
    },
    {
     "name": "stderr",
     "output_type": "stream",
     "text": [
      "100%|██████████| 1/1 [00:00<00:00,  1.68it/s]\n",
      "  0%|          | 0/1 [00:00<?, ?it/s]"
     ]
    },
    {
     "name": "stdout",
     "output_type": "stream",
     "text": [
      " pca p_levefr resahped:  (1, 93, 10)\n",
      "  body movement pa.p_lever projection:  (1, 93, 10)\n",
      "temp points:  (1298, 2)\n",
      "temp points:  (93, 2)\n",
      "plever:  (83, 2)\n",
      "1 90 10\n"
     ]
    },
    {
     "name": "stderr",
     "output_type": "stream",
     "text": [
      "100%|██████████| 1/1 [00:00<00:00,  1.87it/s]\n",
      "100%|██████████| 1/1 [00:00<00:00, 46.62it/s]\n",
      "/media/cat/4TBSSD/anaconda3/envs/wide/lib/python3.8/site-packages/numpy/lib/function_base.py:3961: RuntimeWarning: invalid value encountered in subtract\n",
      "  diff_b_a = subtract(b, a)\n",
      "/media/cat/4TBSSD/anaconda3/envs/wide/lib/python3.8/site-packages/numpy/core/_asarray.py:171: VisibleDeprecationWarning: Creating an ndarray from ragged nested sequences (which is a list-or-tuple of lists-or-tuples-or ndarrays with different lengths or shapes) is deprecated. If you meant to do this, you must specify 'dtype=object' when creating the ndarray.\n",
      "  return array(a, dtype, copy=False, order=order, subok=True)\n"
     ]
    },
    {
     "name": "stdout",
     "output_type": "stream",
     "text": [
      " pca p_levefr resahped:  (1, 88, 10)\n",
      "  body movement pa.p_lever projection:  (1, 88, 10)\n",
      "temp points:  (1298, 2)\n",
      "temp points:  (88, 2)\n",
      "plever:  (79, 2)\n",
      "FNAME LEVER:  /media/cat/4TBSSD/yuki/IA2/tif_files/IA2pm_Feb9_30Hz/IA2pm_Feb9_30Hz_all_locs_selected.txt\n",
      "1 2 10\n",
      " pca p_levefr resahped:  (1, 2, 10)\n",
      "temp points:  (1298, 2)\n",
      "temp points:  (2, 2)\n",
      "plever:  (0, 2)\n",
      "pa.session_id 1:  IA2pm_Feb10_30Hz\n",
      "session corrected:  IA2pm_Feb10_30Hz\n",
      "(7,)\n",
      "['left_paw' 'right_paw' 'nose' 'jaw' 'right_ear' 'tongue' 'lever']\n",
      "pa.session_id 2:  IA2pm_Feb10_30Hz\n",
      "starts:  [ 17.46666667  26.53333333  58.4         71.46666667  74.86666667\n",
      "  78.13333333 102.13333333 107.4        118.93333333 134.26666667]\n",
      "lever offset:  72\n",
      "SESSIONS:  ['Feb1_', 'Feb2_', 'Feb3_', 'Feb4_', 'Feb5_', 'Feb9_', 'Feb10_', 'Feb11_', 'Feb12_', 'Feb16_', 'Feb17_']\n",
      "SHIFT IDS:  ['2', '1', '0', '1', '1', '2', '2', '2', '2', '2', '2']\n",
      "pa.session_id:  IA2pm_Feb10_30Hz\n",
      "SELF SHIFT ID:  2\n",
      " using shift:  2\n",
      "DLC SHIFT Loaded:  3.59\n",
      "DLC shift :  3.59   in frames:  107  after subtracting lever shift:  -35\n",
      " triggers:  (4,)\n",
      " data:  (40000, 128, 128)\n",
      "(39059, 128, 128)\n",
      "X:  (39059, 16384)\n"
     ]
    },
    {
     "name": "stderr",
     "output_type": "stream",
     "text": [
      "\r",
      "  0%|          | 0/1 [00:00<?, ?it/s]"
     ]
    },
    {
     "name": "stdout",
     "output_type": "stream",
     "text": [
      " X data using :  30  number of frames  (1299, 491520)\n",
      " pca allpoints:  (1299, 10)\n",
      "1 117 10\n"
     ]
    },
    {
     "name": "stderr",
     "output_type": "stream",
     "text": [
      "100%|██████████| 1/1 [00:00<00:00,  1.61it/s]\n",
      "  0%|          | 0/1 [00:00<?, ?it/s]"
     ]
    },
    {
     "name": "stdout",
     "output_type": "stream",
     "text": [
      " pca p_levefr resahped:  (1, 113, 10)\n",
      "  body movement pa.p_lever projection:  (1, 113, 10)\n",
      "temp points:  (1299, 2)\n",
      "temp points:  (113, 2)\n",
      "plever:  (101, 2)\n",
      "1 90 10\n"
     ]
    },
    {
     "name": "stderr",
     "output_type": "stream",
     "text": [
      "100%|██████████| 1/1 [00:00<00:00,  2.00it/s]\n",
      "  0%|          | 0/1 [00:00<?, ?it/s]"
     ]
    },
    {
     "name": "stdout",
     "output_type": "stream",
     "text": [
      " pca p_levefr resahped:  (1, 86, 10)\n",
      "  body movement pa.p_lever projection:  (1, 86, 10)\n",
      "temp points:  (1299, 2)\n",
      "temp points:  (86, 2)\n",
      "plever:  (77, 2)\n",
      "1 133 10\n"
     ]
    },
    {
     "name": "stderr",
     "output_type": "stream",
     "text": [
      "100%|██████████| 1/1 [00:00<00:00,  1.38it/s]\n",
      "  0%|          | 0/1 [00:00<?, ?it/s]"
     ]
    },
    {
     "name": "stdout",
     "output_type": "stream",
     "text": [
      " pca p_levefr resahped:  (1, 129, 10)\n",
      "  body movement pa.p_lever projection:  (1, 129, 10)\n",
      "temp points:  (1299, 2)\n",
      "temp points:  (129, 2)\n",
      "plever:  (116, 2)\n",
      "1 71 10\n"
     ]
    },
    {
     "name": "stderr",
     "output_type": "stream",
     "text": [
      "100%|██████████| 1/1 [00:00<00:00,  2.59it/s]\n",
      "  0%|          | 0/1 [00:00<?, ?it/s]"
     ]
    },
    {
     "name": "stdout",
     "output_type": "stream",
     "text": [
      " pca p_levefr resahped:  (1, 66, 10)\n",
      "  body movement pa.p_lever projection:  (1, 66, 10)\n",
      "temp points:  (1299, 2)\n",
      "temp points:  (66, 2)\n",
      "plever:  (59, 2)\n",
      "1 132 10\n"
     ]
    },
    {
     "name": "stderr",
     "output_type": "stream",
     "text": [
      "100%|██████████| 1/1 [00:00<00:00,  1.30it/s]\n",
      "100%|██████████| 1/1 [00:00<00:00, 22.59it/s]\n",
      "/media/cat/4TBSSD/anaconda3/envs/wide/lib/python3.8/site-packages/numpy/lib/function_base.py:3961: RuntimeWarning: invalid value encountered in subtract\n",
      "  diff_b_a = subtract(b, a)\n",
      "/media/cat/4TBSSD/anaconda3/envs/wide/lib/python3.8/site-packages/numpy/core/_asarray.py:171: VisibleDeprecationWarning: Creating an ndarray from ragged nested sequences (which is a list-or-tuple of lists-or-tuples-or ndarrays with different lengths or shapes) is deprecated. If you meant to do this, you must specify 'dtype=object' when creating the ndarray.\n",
      "  return array(a, dtype, copy=False, order=order, subok=True)\n"
     ]
    },
    {
     "name": "stdout",
     "output_type": "stream",
     "text": [
      " pca p_levefr resahped:  (1, 130, 10)\n",
      "  body movement pa.p_lever projection:  (1, 130, 10)\n",
      "temp points:  (1299, 2)\n",
      "temp points:  (130, 2)\n",
      "plever:  (117, 2)\n",
      "FNAME LEVER:  /media/cat/4TBSSD/yuki/IA2/tif_files/IA2pm_Feb10_30Hz/IA2pm_Feb10_30Hz_all_locs_selected.txt\n",
      "1 4 10\n",
      " pca p_levefr resahped:  (1, 4, 10)\n",
      "temp points:  (1299, 2)\n",
      "temp points:  (4, 2)\n",
      "plever:  (0, 2)\n",
      "pa.session_id 1:  IA2pm_Feb11_30Hz\n",
      "session corrected:  IA2pm_Feb11_30Hz\n",
      "(7,)\n",
      "['left_paw' 'right_paw' 'nose' 'jaw' 'right_ear' 'tongue' 'lever']\n",
      "pa.session_id 2:  IA2pm_Feb11_30Hz\n",
      "starts:  [  7.73333333  19.4         28.26666667  36.66666667  43.73333333\n",
      "  54.26666667  59.4         76.2         89.46666667 103.        ]\n",
      "lever offset:  85\n",
      "SESSIONS:  ['Feb1_', 'Feb2_', 'Feb3_', 'Feb4_', 'Feb5_', 'Feb9_', 'Feb10_', 'Feb11_', 'Feb12_', 'Feb16_', 'Feb17_']\n",
      "SHIFT IDS:  ['2', '1', '0', '1', '1', '2', '2', '2', '2', '2', '2']\n",
      "pa.session_id:  IA2pm_Feb11_30Hz\n",
      "SELF SHIFT ID:  2\n",
      " using shift:  2\n",
      "DLC SHIFT Loaded:  5.93\n",
      "DLC shift :  5.93   in frames:  177  after subtracting lever shift:  -92\n",
      " triggers:  (2,)\n",
      " data:  (40000, 128, 128)\n",
      "(39109, 128, 128)\n",
      "X:  (39109, 16384)\n"
     ]
    },
    {
     "name": "stderr",
     "output_type": "stream",
     "text": [
      "\r",
      "  0%|          | 0/1 [00:00<?, ?it/s]"
     ]
    },
    {
     "name": "stdout",
     "output_type": "stream",
     "text": [
      " X data using :  30  number of frames  (1301, 491520)\n",
      " pca allpoints:  (1301, 10)\n",
      "1 117 10\n"
     ]
    },
    {
     "name": "stderr",
     "output_type": "stream",
     "text": [
      "100%|██████████| 1/1 [00:00<00:00,  1.52it/s]\n",
      "  0%|          | 0/1 [00:00<?, ?it/s]"
     ]
    },
    {
     "name": "stdout",
     "output_type": "stream",
     "text": [
      " pca p_levefr resahped:  (1, 116, 10)\n",
      "  body movement pa.p_lever projection:  (1, 116, 10)\n",
      "temp points:  (1301, 2)\n",
      "temp points:  (116, 2)\n",
      "plever:  (104, 2)\n",
      "1 109 10\n"
     ]
    },
    {
     "name": "stderr",
     "output_type": "stream",
     "text": [
      "100%|██████████| 1/1 [00:00<00:00,  1.61it/s]\n",
      "  0%|          | 0/1 [00:00<?, ?it/s]"
     ]
    },
    {
     "name": "stdout",
     "output_type": "stream",
     "text": [
      " pca p_levefr resahped:  (1, 108, 10)\n",
      "  body movement pa.p_lever projection:  (1, 108, 10)\n",
      "temp points:  (1301, 2)\n",
      "temp points:  (108, 2)\n",
      "plever:  (97, 2)\n",
      "1 113 10\n"
     ]
    },
    {
     "name": "stderr",
     "output_type": "stream",
     "text": [
      "100%|██████████| 1/1 [00:00<00:00,  1.54it/s]\n",
      "  0%|          | 0/1 [00:00<?, ?it/s]"
     ]
    },
    {
     "name": "stdout",
     "output_type": "stream",
     "text": [
      " pca p_levefr resahped:  (1, 112, 10)\n",
      "  body movement pa.p_lever projection:  (1, 112, 10)\n",
      "temp points:  (1301, 2)\n",
      "temp points:  (112, 2)\n",
      "plever:  (100, 2)\n",
      "1 105 10\n"
     ]
    },
    {
     "name": "stderr",
     "output_type": "stream",
     "text": [
      "100%|██████████| 1/1 [00:00<00:00,  1.63it/s]\n",
      "  0%|          | 0/1 [00:00<?, ?it/s]"
     ]
    },
    {
     "name": "stdout",
     "output_type": "stream",
     "text": [
      " pca p_levefr resahped:  (1, 104, 10)\n",
      "  body movement pa.p_lever projection:  (1, 104, 10)\n",
      "temp points:  (1301, 2)\n",
      "temp points:  (104, 2)\n",
      "plever:  (93, 2)\n",
      "1 111 10\n"
     ]
    },
    {
     "name": "stderr",
     "output_type": "stream",
     "text": [
      "100%|██████████| 1/1 [00:00<00:00,  1.56it/s]\n",
      "100%|██████████| 1/1 [00:00<00:00, 44.20it/s]\n",
      "/media/cat/4TBSSD/anaconda3/envs/wide/lib/python3.8/site-packages/numpy/lib/function_base.py:3961: RuntimeWarning: invalid value encountered in subtract\n",
      "  diff_b_a = subtract(b, a)\n",
      "/media/cat/4TBSSD/anaconda3/envs/wide/lib/python3.8/site-packages/numpy/core/_asarray.py:171: VisibleDeprecationWarning: Creating an ndarray from ragged nested sequences (which is a list-or-tuple of lists-or-tuples-or ndarrays with different lengths or shapes) is deprecated. If you meant to do this, you must specify 'dtype=object' when creating the ndarray.\n",
      "  return array(a, dtype, copy=False, order=order, subok=True)\n"
     ]
    },
    {
     "name": "stdout",
     "output_type": "stream",
     "text": [
      " pca p_levefr resahped:  (1, 110, 10)\n",
      "  body movement pa.p_lever projection:  (1, 110, 10)\n",
      "temp points:  (1301, 2)\n",
      "temp points:  (110, 2)\n",
      "plever:  (99, 2)\n",
      "FNAME LEVER:  /media/cat/4TBSSD/yuki/IA2/tif_files/IA2pm_Feb11_30Hz/IA2pm_Feb11_30Hz_all_locs_selected.txt\n",
      "1 2 10\n",
      " pca p_levefr resahped:  (1, 2, 10)\n",
      "temp points:  (1301, 2)\n",
      "temp points:  (2, 2)\n",
      "plever:  (0, 2)\n",
      "pa.session_id 1:  IA2pm_Feb12_30Hz\n",
      "session corrected:  IA2pm_Feb12_30Hz\n",
      "(7,)\n",
      "['left_paw' 'right_paw' 'nose' 'jaw' 'right_ear' 'tongue' 'lever']\n",
      "pa.session_id 2:  IA2pm_Feb12_30Hz\n",
      "starts:  [ 26.06666667  31.2         40.          46.46666667  51.06666667\n",
      "  87.93333333  97.06666667 133.8        142.13333333 153.6       ]\n",
      "lever offset:  61\n",
      "SESSIONS:  ['Feb1_', 'Feb2_', 'Feb3_', 'Feb4_', 'Feb5_', 'Feb9_', 'Feb10_', 'Feb11_', 'Feb12_', 'Feb16_', 'Feb17_']\n",
      "SHIFT IDS:  ['2', '1', '0', '1', '1', '2', '2', '2', '2', '2', '2']\n",
      "pa.session_id:  IA2pm_Feb12_30Hz\n",
      "SELF SHIFT ID:  2\n",
      " using shift:  2\n",
      "DLC SHIFT Loaded:  3.13\n",
      "DLC shift :  3.13   in frames:  93  after subtracting lever shift:  -32\n",
      " triggers:  (18,)\n",
      " data:  (40000, 128, 128)\n",
      "(39032, 128, 128)\n",
      "X:  (39032, 16384)\n"
     ]
    },
    {
     "name": "stderr",
     "output_type": "stream",
     "text": [
      "\r",
      "  0%|          | 0/1 [00:00<?, ?it/s]"
     ]
    },
    {
     "name": "stdout",
     "output_type": "stream",
     "text": [
      " X data using :  30  number of frames  (1298, 491520)\n",
      " pca allpoints:  (1298, 10)\n",
      "1 110 10\n"
     ]
    },
    {
     "name": "stderr",
     "output_type": "stream",
     "text": [
      "100%|██████████| 1/1 [00:00<00:00,  1.56it/s]\n",
      "  0%|          | 0/1 [00:00<?, ?it/s]"
     ]
    },
    {
     "name": "stdout",
     "output_type": "stream",
     "text": [
      " pca p_levefr resahped:  (1, 109, 10)\n",
      "  body movement pa.p_lever projection:  (1, 109, 10)\n",
      "temp points:  (1298, 2)\n",
      "temp points:  (109, 2)\n",
      "plever:  (98, 2)\n",
      "1 112 10\n"
     ]
    },
    {
     "name": "stderr",
     "output_type": "stream",
     "text": [
      "100%|██████████| 1/1 [00:00<00:00,  1.42it/s]\n",
      "  0%|          | 0/1 [00:00<?, ?it/s]"
     ]
    },
    {
     "name": "stdout",
     "output_type": "stream",
     "text": [
      " pca p_levefr resahped:  (1, 110, 10)\n",
      "  body movement pa.p_lever projection:  (1, 110, 10)\n",
      "temp points:  (1298, 2)\n",
      "temp points:  (110, 2)\n",
      "plever:  (99, 2)\n",
      "1 83 10\n"
     ]
    },
    {
     "name": "stderr",
     "output_type": "stream",
     "text": [
      "100%|██████████| 1/1 [00:00<00:00,  2.18it/s]\n",
      "  0%|          | 0/1 [00:00<?, ?it/s]"
     ]
    },
    {
     "name": "stdout",
     "output_type": "stream",
     "text": [
      " pca p_levefr resahped:  (1, 81, 10)\n",
      "  body movement pa.p_lever projection:  (1, 81, 10)\n",
      "temp points:  (1298, 2)\n",
      "temp points:  (81, 2)\n",
      "plever:  (73, 2)\n",
      "1 138 10\n"
     ]
    },
    {
     "name": "stderr",
     "output_type": "stream",
     "text": [
      "100%|██████████| 1/1 [00:00<00:00,  1.18it/s]\n",
      "  0%|          | 0/1 [00:00<?, ?it/s]"
     ]
    },
    {
     "name": "stdout",
     "output_type": "stream",
     "text": [
      " pca p_levefr resahped:  (1, 135, 10)\n",
      "  body movement pa.p_lever projection:  (1, 135, 10)\n",
      "temp points:  (1298, 2)\n",
      "temp points:  (135, 2)\n",
      "plever:  (121, 2)\n",
      "1 148 10\n"
     ]
    },
    {
     "name": "stderr",
     "output_type": "stream",
     "text": [
      "100%|██████████| 1/1 [00:00<00:00,  1.02it/s]\n",
      "100%|██████████| 1/1 [00:00<00:00,  6.64it/s]\n",
      "/media/cat/4TBSSD/anaconda3/envs/wide/lib/python3.8/site-packages/numpy/core/_asarray.py:171: VisibleDeprecationWarning: Creating an ndarray from ragged nested sequences (which is a list-or-tuple of lists-or-tuples-or ndarrays with different lengths or shapes) is deprecated. If you meant to do this, you must specify 'dtype=object' when creating the ndarray.\n",
      "  return array(a, dtype, copy=False, order=order, subok=True)\n"
     ]
    },
    {
     "name": "stdout",
     "output_type": "stream",
     "text": [
      " pca p_levefr resahped:  (1, 147, 10)\n",
      "  body movement pa.p_lever projection:  (1, 147, 10)\n",
      "temp points:  (1298, 2)\n",
      "temp points:  (147, 2)\n",
      "plever:  (132, 2)\n",
      "FNAME LEVER:  /media/cat/4TBSSD/yuki/IA2/tif_files/IA2pm_Feb12_30Hz/IA2pm_Feb12_30Hz_all_locs_selected.txt\n",
      "1 20 10\n",
      " pca p_levefr resahped:  (1, 20, 10)\n",
      "temp points:  (1298, 2)\n",
      "temp points:  (20, 2)\n",
      "plever:  (18, 2)\n",
      "pa.session_id 1:  IA2pm_Feb15_30Hz\n",
      "session corrected:  IA2pm_Feb15_30Hz\n",
      "(7,)\n",
      "['left_paw' 'right_paw' 'nose' 'jaw' 'right_ear' 'tongue' 'lever']\n",
      "pa.session_id 2:  IA2pm_Feb15_30Hz\n",
      "starts:  [ 26.8         39.73333333  48.46666667  58.93333333  63.4\n",
      " 104.46666667 117.73333333 122.93333333 132.86666667 158.53333333]\n",
      "lever offset:  87\n",
      "SESSIONS:  ['Feb1_', 'Feb2_', 'Feb3_', 'Feb4_', 'Feb5_', 'Feb9_', 'Feb10_', 'Feb11_', 'Feb12_', 'Feb16_', 'Feb17_']\n",
      "SHIFT IDS:  ['2', '1', '0', '1', '1', '2', '2', '2', '2', '2', '2']\n",
      "pa.session_id:  IA2pm_Feb15_30Hz\n",
      "pa.session_id 1:  IA2pm_Feb16_30Hz\n",
      "session corrected:  IA2pm_Feb16_30Hz\n",
      "(7,)\n",
      "['left_paw' 'right_paw' 'nose' 'jaw' 'right_ear' 'tongue' 'lever']\n",
      "pa.session_id 2:  IA2pm_Feb16_30Hz\n",
      "starts:  [ 15.8         36.26666667  46.93333333  84.06666667 120.4\n",
      " 150.66666667 155.86666667 170.         174.6        225.13333333]\n",
      "lever offset:  82\n",
      "SESSIONS:  ['Feb1_', 'Feb2_', 'Feb3_', 'Feb4_', 'Feb5_', 'Feb9_', 'Feb10_', 'Feb11_', 'Feb12_', 'Feb16_', 'Feb17_']\n",
      "SHIFT IDS:  ['2', '1', '0', '1', '1', '2', '2', '2', '2', '2', '2']\n",
      "pa.session_id:  IA2pm_Feb16_30Hz\n",
      "SELF SHIFT ID:  2\n",
      " using shift:  2\n",
      "DLC SHIFT Loaded:  4.36\n",
      "DLC shift :  4.36   in frames:  130  after subtracting lever shift:  -48\n",
      " triggers:  (46,)\n",
      " data:  (40000, 128, 128)\n",
      "(39104, 128, 128)\n",
      "X:  (39104, 16384)\n"
     ]
    },
    {
     "name": "stderr",
     "output_type": "stream",
     "text": [
      "\r",
      "  0%|          | 0/1 [00:00<?, ?it/s]"
     ]
    },
    {
     "name": "stdout",
     "output_type": "stream",
     "text": [
      " X data using :  30  number of frames  (1301, 491520)\n",
      " pca allpoints:  (1301, 10)\n",
      "1 81 10\n"
     ]
    },
    {
     "name": "stderr",
     "output_type": "stream",
     "text": [
      "100%|██████████| 1/1 [00:00<00:00,  2.30it/s]\n",
      "  0%|          | 0/1 [00:00<?, ?it/s]"
     ]
    },
    {
     "name": "stdout",
     "output_type": "stream",
     "text": [
      " pca p_levefr resahped:  (1, 79, 10)\n",
      "  body movement pa.p_lever projection:  (1, 79, 10)\n",
      "temp points:  (1301, 2)\n",
      "temp points:  (79, 2)\n",
      "plever:  (71, 2)\n",
      "1 75 10\n"
     ]
    },
    {
     "name": "stderr",
     "output_type": "stream",
     "text": [
      "100%|██████████| 1/1 [00:00<00:00,  2.34it/s]\n",
      "  0%|          | 0/1 [00:00<?, ?it/s]"
     ]
    },
    {
     "name": "stdout",
     "output_type": "stream",
     "text": [
      " pca p_levefr resahped:  (1, 74, 10)\n",
      "  body movement pa.p_lever projection:  (1, 74, 10)\n",
      "temp points:  (1301, 2)\n",
      "temp points:  (74, 2)\n",
      "plever:  (66, 2)\n",
      "1 76 10\n"
     ]
    },
    {
     "name": "stderr",
     "output_type": "stream",
     "text": [
      "100%|██████████| 1/1 [00:00<00:00,  2.33it/s]\n",
      "  0%|          | 0/1 [00:00<?, ?it/s]"
     ]
    },
    {
     "name": "stdout",
     "output_type": "stream",
     "text": [
      " pca p_levefr resahped:  (1, 74, 10)\n",
      "  body movement pa.p_lever projection:  (1, 74, 10)\n",
      "temp points:  (1301, 2)\n",
      "temp points:  (74, 2)\n",
      "plever:  (66, 2)\n",
      "1 81 10\n"
     ]
    },
    {
     "name": "stderr",
     "output_type": "stream",
     "text": [
      "100%|██████████| 1/1 [00:00<00:00,  2.27it/s]\n",
      "  0%|          | 0/1 [00:00<?, ?it/s]"
     ]
    },
    {
     "name": "stdout",
     "output_type": "stream",
     "text": [
      " pca p_levefr resahped:  (1, 78, 10)\n",
      "  body movement pa.p_lever projection:  (1, 78, 10)\n",
      "temp points:  (1301, 2)\n",
      "temp points:  (78, 2)\n",
      "plever:  (70, 2)\n",
      "1 73 10\n"
     ]
    },
    {
     "name": "stderr",
     "output_type": "stream",
     "text": [
      "100%|██████████| 1/1 [00:00<00:00,  2.48it/s]\n",
      "  0%|          | 0/1 [00:00<?, ?it/s]"
     ]
    },
    {
     "name": "stdout",
     "output_type": "stream",
     "text": [
      " pca p_levefr resahped:  (1, 71, 10)\n",
      "  body movement pa.p_lever projection:  (1, 71, 10)\n",
      "temp points:  (1301, 2)\n",
      "temp points:  (71, 2)\n",
      "plever:  (64, 2)\n",
      "FNAME LEVER:  /media/cat/4TBSSD/yuki/IA2/tif_files/IA2pm_Feb16_30Hz/IA2pm_Feb16_30Hz_all_locs_selected.txt\n",
      "1 50 10\n"
     ]
    },
    {
     "name": "stderr",
     "output_type": "stream",
     "text": [
      "100%|██████████| 1/1 [00:00<00:00,  3.07it/s]\n",
      "/media/cat/4TBSSD/anaconda3/envs/wide/lib/python3.8/site-packages/numpy/core/_asarray.py:171: VisibleDeprecationWarning: Creating an ndarray from ragged nested sequences (which is a list-or-tuple of lists-or-tuples-or ndarrays with different lengths or shapes) is deprecated. If you meant to do this, you must specify 'dtype=object' when creating the ndarray.\n",
      "  return array(a, dtype, copy=False, order=order, subok=True)\n"
     ]
    },
    {
     "name": "stdout",
     "output_type": "stream",
     "text": [
      " pca p_levefr resahped:  (1, 50, 10)\n",
      "temp points:  (1301, 2)\n",
      "temp points:  (50, 2)\n",
      "plever:  (45, 2)\n",
      "pa.session_id 1:  IA2pm_Feb17_30Hz\n",
      "session corrected:  IA2pm_Feb17_30Hz\n",
      "(7,)\n",
      "['left_paw' 'right_paw' 'nose' 'jaw' 'right_ear' 'tongue' 'lever']\n",
      "pa.session_id 2:  IA2pm_Feb17_30Hz\n",
      "starts:  [  7.          20.06666667  31.8         75.33333333  92.13333333\n",
      " 172.         221.53333333 253.73333333 260.06666667 271.33333333]\n",
      "lever offset:  81\n",
      "SESSIONS:  ['Feb1_', 'Feb2_', 'Feb3_', 'Feb4_', 'Feb5_', 'Feb9_', 'Feb10_', 'Feb11_', 'Feb12_', 'Feb16_', 'Feb17_']\n",
      "SHIFT IDS:  ['2', '1', '0', '1', '1', '2', '2', '2', '2', '2', '2']\n",
      "pa.session_id:  IA2pm_Feb17_30Hz\n",
      "SELF SHIFT ID:  2\n",
      " using shift:  2\n",
      "DLC SHIFT Loaded:  4.62\n",
      "DLC shift :  4.62   in frames:  138  after subtracting lever shift:  -57\n",
      " triggers:  (16,)\n",
      " data:  (40000, 128, 128)\n",
      "(39077, 128, 128)\n",
      "X:  (39077, 16384)\n"
     ]
    },
    {
     "name": "stderr",
     "output_type": "stream",
     "text": [
      "\r",
      "  0%|          | 0/1 [00:00<?, ?it/s]"
     ]
    },
    {
     "name": "stdout",
     "output_type": "stream",
     "text": [
      " X data using :  30  number of frames  (1300, 491520)\n",
      " pca allpoints:  (1300, 10)\n",
      "1 68 10\n"
     ]
    },
    {
     "name": "stderr",
     "output_type": "stream",
     "text": [
      "100%|██████████| 1/1 [00:00<00:00,  2.43it/s]\n",
      "  0%|          | 0/1 [00:00<?, ?it/s]"
     ]
    },
    {
     "name": "stdout",
     "output_type": "stream",
     "text": [
      " pca p_levefr resahped:  (1, 67, 10)\n",
      "  body movement pa.p_lever projection:  (1, 67, 10)\n",
      "temp points:  (1300, 2)\n",
      "temp points:  (67, 2)\n",
      "plever:  (60, 2)\n",
      "1 95 10\n"
     ]
    },
    {
     "name": "stderr",
     "output_type": "stream",
     "text": [
      "100%|██████████| 1/1 [00:00<00:00,  1.92it/s]\n",
      "  0%|          | 0/1 [00:00<?, ?it/s]"
     ]
    },
    {
     "name": "stdout",
     "output_type": "stream",
     "text": [
      " pca p_levefr resahped:  (1, 94, 10)\n",
      "  body movement pa.p_lever projection:  (1, 94, 10)\n",
      "temp points:  (1300, 2)\n",
      "temp points:  (94, 2)\n",
      "plever:  (84, 2)\n",
      "1 75 10\n"
     ]
    },
    {
     "name": "stderr",
     "output_type": "stream",
     "text": [
      "100%|██████████| 1/1 [00:00<00:00,  2.24it/s]\n",
      "  0%|          | 0/1 [00:00<?, ?it/s]"
     ]
    },
    {
     "name": "stdout",
     "output_type": "stream",
     "text": [
      " pca p_levefr resahped:  (1, 74, 10)\n",
      "  body movement pa.p_lever projection:  (1, 74, 10)\n",
      "temp points:  (1300, 2)\n",
      "temp points:  (74, 2)\n",
      "plever:  (66, 2)\n",
      "1 40 10\n"
     ]
    },
    {
     "name": "stderr",
     "output_type": "stream",
     "text": [
      "100%|██████████| 1/1 [00:00<00:00,  4.11it/s]\n",
      "  0%|          | 0/1 [00:00<?, ?it/s]"
     ]
    },
    {
     "name": "stdout",
     "output_type": "stream",
     "text": [
      " pca p_levefr resahped:  (1, 37, 10)\n",
      "  body movement pa.p_lever projection:  (1, 37, 10)\n",
      "temp points:  (1300, 2)\n",
      "temp points:  (37, 2)\n",
      "plever:  (33, 2)\n",
      "1 88 10\n"
     ]
    },
    {
     "name": "stderr",
     "output_type": "stream",
     "text": [
      "100%|██████████| 1/1 [00:00<00:00,  2.03it/s]\n",
      "100%|██████████| 1/1 [00:00<00:00,  5.37it/s]"
     ]
    },
    {
     "name": "stdout",
     "output_type": "stream",
     "text": [
      " pca p_levefr resahped:  (1, 85, 10)\n",
      "  body movement pa.p_lever projection:  (1, 85, 10)\n",
      "temp points:  (1300, 2)\n",
      "temp points:  (85, 2)\n",
      "plever:  (76, 2)\n",
      "FNAME LEVER:  /media/cat/4TBSSD/yuki/IA2/tif_files/IA2pm_Feb17_30Hz/IA2pm_Feb17_30Hz_all_locs_selected.txt\n",
      "1 24 10\n"
     ]
    },
    {
     "name": "stderr",
     "output_type": "stream",
     "text": [
      "100%|██████████| 1/1 [00:00<00:00,  5.33it/s]\n",
      "/media/cat/4TBSSD/anaconda3/envs/wide/lib/python3.8/site-packages/numpy/core/_asarray.py:171: VisibleDeprecationWarning: Creating an ndarray from ragged nested sequences (which is a list-or-tuple of lists-or-tuples-or ndarrays with different lengths or shapes) is deprecated. If you meant to do this, you must specify 'dtype=object' when creating the ndarray.\n",
      "  return array(a, dtype, copy=False, order=order, subok=True)\n"
     ]
    },
    {
     "name": "stdout",
     "output_type": "stream",
     "text": [
      " pca p_levefr resahped:  (1, 24, 10)\n",
      "temp points:  (1300, 2)\n",
      "temp points:  (24, 2)\n",
      "plever:  (21, 2)\n",
      "pa.session_id 1:  IA2pm_Feb18_30Hz\n",
      "session corrected:  IA2pm_Feb18_30Hz\n",
      " No video/3sec movement files...\n",
      "pa.session_id 1:  IA2pm_Feb19_30Hz\n",
      "session corrected:  IA2pm_Feb19_30Hz\n",
      " No video/3sec movement files...\n",
      "pa.session_id 1:  IA2pm_Feb22_30Hz\n",
      "session corrected:  IA2pm_Feb22_30Hz\n",
      " No video/3sec movement files...\n",
      "pa.session_id 1:  IA2pm_Feb23_30Hz\n",
      "session corrected:  IA2pm_Feb23_30Hz\n",
      " No video/3sec movement files...\n",
      "pa.session_id 1:  IA2pm_Feb24_30Hz\n",
      "session corrected:  IA2pm_Feb24_30Hz\n",
      " No video/3sec movement files...\n",
      "pa.session_id 1:  IA2pm_Feb25_30Hz\n",
      "session corrected:  IA2pm_Feb25_30Hz\n",
      " No video/3sec movement files...\n",
      "pa.session_id 1:  IA2pm_Feb26_30Hz\n",
      "session corrected:  IA2pm_Feb26_30Hz\n",
      " No video/3sec movement files...\n",
      "pa.session_id 1:  IA2pm_Feb29_30Hz\n",
      "session corrected:  IA2pm_Feb29_30Hz\n",
      " No video/3sec movement files...\n",
      "pa.session_id 1:  IA2pm_Mar1_30Hz\n",
      "session corrected:  IA2pm_Mar1_30Hz\n",
      " No video/3sec movement files...\n",
      "pa.session_id 1:  IA2pm_Mar2_30Hz\n",
      "session corrected:  IA2pm_Mar2_30Hz\n",
      " No video/3sec movement files...\n",
      "pa.session_id 1:  IA2pm_Mar3_30Hz\n",
      "session corrected:  IA2pm_Mar3_30Hz\n",
      " No video/3sec movement files...\n",
      "pa.session_id 1:  IA2am_Mar4_30Hz\n",
      "session corrected:  IA2am_Mar4_30Hz\n",
      " No video/3sec movement files...\n",
      "pa.session_id 1:  IA2am_Mar7_30Hz\n",
      "session corrected:  IA2am_Mar7_30Hz\n",
      " No video/3sec movement files...\n",
      "pa.session_id 1:  IA2pm_Mar8_30Hz\n",
      "session corrected:  IA2pm_Mar8_30Hz\n",
      " No video/3sec movement files...\n",
      "pa.session_id 1:  IA2am_Mar9_30Hz\n",
      "session corrected:  IA2am_Mar9_30Hz\n",
      " No video/3sec movement files...\n",
      "pa.session_id 1:  IA2am_Mar10_30Hz\n",
      "session corrected:  IA2am_Mar10_30Hz\n",
      " No video/3sec movement files...\n",
      "pa.session_id 1:  IA2am_Mar11_30Hz\n",
      "session corrected:  IA2am_Mar11_30Hz\n",
      " No video/3sec movement files...\n",
      "pa.session_id 1:  IA2pm_Mar14_30Hz\n",
      "session corrected:  IA2pm_Mar14_30Hz\n",
      " No video/3sec movement files...\n",
      "pa.session_id 1:  IA2am_Mar15_30Hz\n",
      "session corrected:  IA2am_Mar15_30Hz\n",
      " No video/3sec movement files...\n",
      "pa.session_id 1:  IA2pm_Mar16_30Hz\n",
      "session corrected:  IA2pm_Mar16_30Hz\n",
      " No video/3sec movement files...\n",
      "pa.session_id 1:  IA2pm_Mar17_30Hz\n",
      "session corrected:  IA2pm_Mar17_30Hz\n",
      " No video/3sec movement files...\n",
      "pa.session_id 1:  IA2pm_Mar18_30Hz\n",
      "session corrected:  IA2pm_Mar18_30Hz\n",
      " No video/3sec movement files...\n",
      "pa.session_id 1:  IA2pm_Mar21_30Hz\n",
      "session corrected:  IA2pm_Mar21_30Hz\n",
      " No video/3sec movement files...\n",
      "pa.session_id 1:  IA2pm_Mar23_30Hz\n",
      "session corrected:  IA2pm_Mar23_30Hz\n",
      " No video/3sec movement files...\n",
      "pa.session_id 1:  IA2pm_Mar24_30Hz\n",
      "session corrected:  IA2pm_Mar24_30Hz\n",
      " No video/3sec movement files...\n",
      "pa.session_id 1:  IA2pm_Mar29_30Hz\n",
      "session corrected:  IA2pm_Mar29_30Hz\n",
      " No video/3sec movement files...\n",
      "pa.session_id 1:  IA2pm_Mar30_30Hz\n",
      "session corrected:  IA2pm_Mar30_30Hz\n",
      " No video/3sec movement files...\n",
      "pa.session_id 1:  IA2pm_Mar31_30Hz\n",
      "session corrected:  IA2pm_Mar31_30Hz\n",
      " No video/3sec movement files...\n",
      "pa.session_id 1:  IA2pm_Apr1_30Hz\n",
      "session corrected:  IA2pm_Apr1_30Hz\n",
      " No video/3sec movement files...\n",
      "pa.session_id 1:  IA2pm_Apr4_30Hz\n",
      "session corrected:  IA2pm_Apr4_30Hz\n",
      " No video/3sec movement files...\n",
      "pa.session_id 1:  IA2pm_Apr5_30Hz\n",
      "session corrected:  IA2pm_Apr5_30Hz\n",
      " No video/3sec movement files...\n",
      "pa.session_id 1:  IA2pm_Apr6_30Hz\n",
      "session corrected:  IA2pm_Apr6_30Hz\n",
      " No video/3sec movement files...\n",
      "sessions:  ['IA3pm_Feb1_30Hz' 'IA3pm_Feb2_30Hz' 'IA3pm_Feb3_30Hz' 'IA3pm_Feb4_30Hz'\n",
      " 'IA3pm_Feb9_30Hz' 'IA3pm_Feb10_30Hz' 'IA3pm_Feb11_30Hz'\n",
      " 'IA3pm_Feb12_30Hz' 'IA3pm_Feb15_30Hz' 'IA3pm_Feb16_30Hz'\n",
      " 'IA3pm_Feb17_30Hz' 'IA3pm_Feb18_30Hz' 'IA3pm_Feb19_30Hz'\n",
      " 'IA3pm_Feb22_30Hz' 'IA3pm_Feb23_30Hz' 'IA3pm_Feb24_30Hz'\n",
      " 'IA3pm_Feb25_30Hz' 'IA3pm_Feb26_30Hz' 'IA3pm_Feb29_30Hz'\n",
      " 'IA3pm_Mar1_30Hz' 'IA3pm_Mar2_30Hz' 'IA3pm_Mar3_30Hz' 'IA3am_Mar7_30Hz'\n",
      " 'IA3pm_Mar8_30Hz' 'IA3am_Mar9_30Hz' 'IA3am_Mar10_30Hz' 'IA3am_Mar11_30Hz'\n",
      " 'IA3pm_Mar14_30Hz' 'IA3am_Mar15_30Hz' 'IA3pm_Mar16_30Hz'\n",
      " 'IA3pm_Mar17_30Hz' 'IA3pm_Mar18_30Hz' 'IA3pm_Mar21_30Hz'\n",
      " 'IA3pm_Mar22_30Hz' 'IA3pm_Mar23_30Hz' 'IA3pm_Mar24_30Hz'\n",
      " 'IA3pm_Mar29_30Hz' 'IA3pm_Mar30_30Hz' 'IA3pm_Mar31_30Hz'\n",
      " 'IA3pm_Apr1_30Hz' 'IA3pm_Apr4_30Hz' 'IA3pm_Apr5_30Hz' 'IA3pm_Apr6_30Hz'\n",
      " 'IA3pm_Apr7_30Hz']\n",
      "pa.session_id 1:  IA3pm_Feb1_30Hz\n",
      "session corrected:  IA3pm_Feb1_30Hz\n",
      "(7,)\n",
      "['left_paw' 'right_paw' 'nose' 'jaw' 'right_ear' 'tongue' 'lever']\n",
      "pa.session_id 2:  IA3pm_Feb1_30Hz\n",
      "starts:  [  5.          15.2         35.46666667  65.33333333  75.06666667\n",
      "  88.66666667  99.2        121.73333333 128.         134.2       ]\n",
      "lever offset:  74\n",
      "SESSIONS:  ['Feb1_', 'Feb2_', 'Feb3_', 'Feb4_', 'Feb9_', 'Feb10_', 'Feb11_', 'Feb12_', 'Feb15_', 'Feb16_', 'Feb17_']\n",
      "SHIFT IDS:  ['2', '0', '2', '2', '0', '0', '1', '0', '2', '2', '2']\n",
      "pa.session_id:  IA3pm_Feb1_30Hz\n",
      "SELF SHIFT ID:  2\n",
      " using shift:  2\n",
      "DLC SHIFT Loaded:  4.52\n",
      "DLC shift :  4.52   in frames:  135  after subtracting lever shift:  -61\n",
      " triggers:  (23,)\n",
      " data:  (40000, 128, 128)\n",
      "(39124, 128, 128)\n",
      "X:  (39124, 16384)\n"
     ]
    },
    {
     "name": "stderr",
     "output_type": "stream",
     "text": [
      "\r",
      "  0%|          | 0/1 [00:00<?, ?it/s]"
     ]
    },
    {
     "name": "stdout",
     "output_type": "stream",
     "text": [
      " X data using :  30  number of frames  (1301, 491520)\n",
      " pca allpoints:  (1301, 10)\n",
      "1 123 10\n"
     ]
    },
    {
     "name": "stderr",
     "output_type": "stream",
     "text": [
      "100%|██████████| 1/1 [00:00<00:00,  1.49it/s]\n",
      "  0%|          | 0/1 [00:00<?, ?it/s]"
     ]
    },
    {
     "name": "stdout",
     "output_type": "stream",
     "text": [
      " pca p_levefr resahped:  (1, 119, 10)\n",
      "  body movement pa.p_lever projection:  (1, 119, 10)\n",
      "temp points:  (1301, 2)\n",
      "temp points:  (119, 2)\n",
      "plever:  (107, 2)\n",
      "1 123 10\n"
     ]
    },
    {
     "name": "stderr",
     "output_type": "stream",
     "text": [
      "100%|██████████| 1/1 [00:00<00:00,  1.40it/s]\n",
      "  0%|          | 0/1 [00:00<?, ?it/s]"
     ]
    },
    {
     "name": "stdout",
     "output_type": "stream",
     "text": [
      " pca p_levefr resahped:  (1, 118, 10)\n",
      "  body movement pa.p_lever projection:  (1, 118, 10)\n",
      "temp points:  (1301, 2)\n",
      "temp points:  (118, 2)\n",
      "plever:  (106, 2)\n",
      "1 142 10\n"
     ]
    },
    {
     "name": "stderr",
     "output_type": "stream",
     "text": [
      "100%|██████████| 1/1 [00:00<00:00,  1.35it/s]\n",
      "  0%|          | 0/1 [00:00<?, ?it/s]"
     ]
    },
    {
     "name": "stdout",
     "output_type": "stream",
     "text": [
      " pca p_levefr resahped:  (1, 138, 10)\n",
      "  body movement pa.p_lever projection:  (1, 138, 10)\n",
      "temp points:  (1301, 2)\n",
      "temp points:  (138, 2)\n",
      "plever:  (124, 2)\n",
      "1 89 10\n"
     ]
    },
    {
     "name": "stderr",
     "output_type": "stream",
     "text": [
      "100%|██████████| 1/1 [00:00<00:00,  2.10it/s]\n",
      "  0%|          | 0/1 [00:00<?, ?it/s]"
     ]
    },
    {
     "name": "stdout",
     "output_type": "stream",
     "text": [
      " pca p_levefr resahped:  (1, 84, 10)\n",
      "  body movement pa.p_lever projection:  (1, 84, 10)\n",
      "temp points:  (1301, 2)\n",
      "temp points:  (84, 2)\n",
      "plever:  (75, 2)\n",
      "1 121 10\n"
     ]
    },
    {
     "name": "stderr",
     "output_type": "stream",
     "text": [
      "100%|██████████| 1/1 [00:00<00:00,  1.55it/s]\n",
      "  0%|          | 0/1 [00:00<?, ?it/s]"
     ]
    },
    {
     "name": "stdout",
     "output_type": "stream",
     "text": [
      " pca p_levefr resahped:  (1, 117, 10)\n",
      "  body movement pa.p_lever projection:  (1, 117, 10)\n",
      "temp points:  (1301, 2)\n",
      "temp points:  (117, 2)\n",
      "plever:  (105, 2)\n",
      "FNAME LEVER:  /media/cat/4TBSSD/yuki/IA3/tif_files/IA3pm_Feb1_30Hz/IA3pm_Feb1_30Hz_all_locs_selected.txt\n",
      "1 31 10\n"
     ]
    },
    {
     "name": "stderr",
     "output_type": "stream",
     "text": [
      "100%|██████████| 1/1 [00:00<00:00,  4.96it/s]\n",
      "/media/cat/4TBSSD/anaconda3/envs/wide/lib/python3.8/site-packages/numpy/core/_asarray.py:171: VisibleDeprecationWarning: Creating an ndarray from ragged nested sequences (which is a list-or-tuple of lists-or-tuples-or ndarrays with different lengths or shapes) is deprecated. If you meant to do this, you must specify 'dtype=object' when creating the ndarray.\n",
      "  return array(a, dtype, copy=False, order=order, subok=True)\n"
     ]
    },
    {
     "name": "stdout",
     "output_type": "stream",
     "text": [
      " pca p_levefr resahped:  (1, 31, 10)\n",
      "temp points:  (1301, 2)\n",
      "temp points:  (31, 2)\n",
      "plever:  (28, 2)\n",
      "pa.session_id 1:  IA3pm_Feb2_30Hz\n",
      "session corrected:  IA3pm_Feb2_30Hz\n",
      "(7,)\n",
      "['left_paw' 'right_paw' 'nose' 'jaw' 'right_ear' 'tongue' 'lever']\n",
      "pa.session_id 2:  IA3pm_Feb2_30Hz\n",
      "starts:  [ 9.66666667 19.66666667 43.06666667 50.13333333 58.26666667 64.66666667\n",
      " 77.86666667 83.8        88.2        94.73333333]\n",
      "lever offset:  71\n",
      "SESSIONS:  ['Feb1_', 'Feb2_', 'Feb3_', 'Feb4_', 'Feb9_', 'Feb10_', 'Feb11_', 'Feb12_', 'Feb15_', 'Feb16_', 'Feb17_']\n",
      "SHIFT IDS:  ['2', '0', '2', '2', '0', '0', '1', '0', '2', '2', '2']\n",
      "pa.session_id:  IA3pm_Feb2_30Hz\n",
      "SELF SHIFT ID:  0\n",
      " using shift:  0\n",
      "DLC SHIFT Loaded:  4.64\n",
      "DLC shift :  4.64   in frames:  139  after subtracting lever shift:  -68\n",
      " triggers:  (44,)\n",
      " data:  (40000, 128, 128)\n",
      "(39153, 128, 128)\n",
      "X:  (39153, 16384)\n"
     ]
    },
    {
     "name": "stderr",
     "output_type": "stream",
     "text": [
      "\r",
      "  0%|          | 0/1 [00:00<?, ?it/s]"
     ]
    },
    {
     "name": "stdout",
     "output_type": "stream",
     "text": [
      " X data using :  30  number of frames  (1302, 491520)\n",
      " pca allpoints:  (1302, 10)\n",
      "1 117 10\n"
     ]
    },
    {
     "name": "stderr",
     "output_type": "stream",
     "text": [
      "100%|██████████| 1/1 [00:00<00:00,  1.43it/s]\n",
      "  0%|          | 0/1 [00:00<?, ?it/s]"
     ]
    },
    {
     "name": "stdout",
     "output_type": "stream",
     "text": [
      " pca p_levefr resahped:  (1, 115, 10)\n",
      "  body movement pa.p_lever projection:  (1, 115, 10)\n",
      "temp points:  (1302, 2)\n",
      "temp points:  (115, 2)\n",
      "plever:  (103, 2)\n",
      "1 119 10\n"
     ]
    },
    {
     "name": "stderr",
     "output_type": "stream",
     "text": [
      "100%|██████████| 1/1 [00:00<00:00,  1.53it/s]\n",
      "  0%|          | 0/1 [00:00<?, ?it/s]"
     ]
    },
    {
     "name": "stdout",
     "output_type": "stream",
     "text": [
      " pca p_levefr resahped:  (1, 115, 10)\n",
      "  body movement pa.p_lever projection:  (1, 115, 10)\n",
      "temp points:  (1302, 2)\n",
      "temp points:  (115, 2)\n",
      "plever:  (103, 2)\n",
      "1 112 10\n"
     ]
    },
    {
     "name": "stderr",
     "output_type": "stream",
     "text": [
      "100%|██████████| 1/1 [00:00<00:00,  1.64it/s]\n",
      "  0%|          | 0/1 [00:00<?, ?it/s]"
     ]
    },
    {
     "name": "stdout",
     "output_type": "stream",
     "text": [
      " pca p_levefr resahped:  (1, 109, 10)\n",
      "  body movement pa.p_lever projection:  (1, 109, 10)\n",
      "temp points:  (1302, 2)\n",
      "temp points:  (109, 2)\n",
      "plever:  (98, 2)\n",
      "1 97 10\n"
     ]
    },
    {
     "name": "stderr",
     "output_type": "stream",
     "text": [
      "100%|██████████| 1/1 [00:00<00:00,  1.86it/s]\n",
      "  0%|          | 0/1 [00:00<?, ?it/s]"
     ]
    },
    {
     "name": "stdout",
     "output_type": "stream",
     "text": [
      " pca p_levefr resahped:  (1, 94, 10)\n",
      "  body movement pa.p_lever projection:  (1, 94, 10)\n",
      "temp points:  (1302, 2)\n",
      "temp points:  (94, 2)\n",
      "plever:  (84, 2)\n",
      "1 118 10\n"
     ]
    },
    {
     "name": "stderr",
     "output_type": "stream",
     "text": [
      "100%|██████████| 1/1 [00:00<00:00,  1.52it/s]\n",
      "  0%|          | 0/1 [00:00<?, ?it/s]"
     ]
    },
    {
     "name": "stdout",
     "output_type": "stream",
     "text": [
      " pca p_levefr resahped:  (1, 116, 10)\n",
      "  body movement pa.p_lever projection:  (1, 116, 10)\n",
      "temp points:  (1302, 2)\n",
      "temp points:  (116, 2)\n",
      "plever:  (104, 2)\n",
      "FNAME LEVER:  /media/cat/4TBSSD/yuki/IA3/tif_files/IA3pm_Feb2_30Hz/IA3pm_Feb2_30Hz_all_locs_selected.txt\n",
      "1 65 10\n"
     ]
    },
    {
     "name": "stderr",
     "output_type": "stream",
     "text": [
      "100%|██████████| 1/1 [00:00<00:00,  2.60it/s]\n",
      "/media/cat/4TBSSD/anaconda3/envs/wide/lib/python3.8/site-packages/numpy/core/_asarray.py:171: VisibleDeprecationWarning: Creating an ndarray from ragged nested sequences (which is a list-or-tuple of lists-or-tuples-or ndarrays with different lengths or shapes) is deprecated. If you meant to do this, you must specify 'dtype=object' when creating the ndarray.\n",
      "  return array(a, dtype, copy=False, order=order, subok=True)\n"
     ]
    },
    {
     "name": "stdout",
     "output_type": "stream",
     "text": [
      " pca p_levefr resahped:  (1, 65, 10)\n",
      "temp points:  (1302, 2)\n",
      "temp points:  (65, 2)\n",
      "plever:  (58, 2)\n",
      "pa.session_id 1:  IA3pm_Feb3_30Hz\n",
      "session corrected:  IA3pm_Feb3_30Hz\n",
      "(7,)\n",
      "['left_paw' 'right_paw' 'nose' 'jaw' 'right_ear' 'tongue' 'lever']\n",
      "pa.session_id 2:  IA3pm_Feb3_30Hz\n",
      "starts:  [ 4.73333333 12.06666667 16.53333333 20.06666667 33.26666667 55.6\n",
      " 61.73333333 65.86666667 70.86666667 84.13333333]\n",
      "lever offset:  73\n",
      "SESSIONS:  ['Feb1_', 'Feb2_', 'Feb3_', 'Feb4_', 'Feb9_', 'Feb10_', 'Feb11_', 'Feb12_', 'Feb15_', 'Feb16_', 'Feb17_']\n",
      "SHIFT IDS:  ['2', '0', '2', '2', '0', '0', '1', '0', '2', '2', '2']\n",
      "pa.session_id:  IA3pm_Feb3_30Hz\n",
      "SELF SHIFT ID:  2\n",
      " using shift:  2\n",
      "DLC SHIFT Loaded:  4.62\n",
      "DLC shift :  4.62   in frames:  138  after subtracting lever shift:  -65\n",
      " triggers:  (47,)\n",
      " data:  (40000, 128, 128)\n",
      "(39075, 128, 128)\n",
      "X:  (39075, 16384)\n"
     ]
    },
    {
     "name": "stderr",
     "output_type": "stream",
     "text": [
      "\r",
      "  0%|          | 0/1 [00:00<?, ?it/s]"
     ]
    },
    {
     "name": "stdout",
     "output_type": "stream",
     "text": [
      " X data using :  30  number of frames  (1300, 491520)\n",
      " pca allpoints:  (1300, 10)\n",
      "1 149 10\n"
     ]
    },
    {
     "name": "stderr",
     "output_type": "stream",
     "text": [
      "100%|██████████| 1/1 [00:00<00:00,  1.01it/s]\n",
      "  0%|          | 0/1 [00:00<?, ?it/s]"
     ]
    },
    {
     "name": "stdout",
     "output_type": "stream",
     "text": [
      " pca p_levefr resahped:  (1, 147, 10)\n",
      "  body movement pa.p_lever projection:  (1, 147, 10)\n",
      "temp points:  (1300, 2)\n",
      "temp points:  (147, 2)\n",
      "plever:  (132, 2)\n",
      "1 35 10\n"
     ]
    },
    {
     "name": "stderr",
     "output_type": "stream",
     "text": [
      "100%|██████████| 1/1 [00:00<00:00,  4.81it/s]\n",
      "  0%|          | 0/1 [00:00<?, ?it/s]"
     ]
    },
    {
     "name": "stdout",
     "output_type": "stream",
     "text": [
      " pca p_levefr resahped:  (1, 34, 10)\n",
      "  body movement pa.p_lever projection:  (1, 34, 10)\n",
      "temp points:  (1300, 2)\n",
      "temp points:  (34, 2)\n",
      "plever:  (30, 2)\n",
      "1 164 10\n"
     ]
    },
    {
     "name": "stderr",
     "output_type": "stream",
     "text": [
      "100%|██████████| 1/1 [00:00<00:00,  1.05it/s]\n",
      "100%|██████████| 1/1 [00:00<00:00,  8.69it/s]\n",
      "  0%|          | 0/1 [00:00<?, ?it/s]"
     ]
    },
    {
     "name": "stdout",
     "output_type": "stream",
     "text": [
      " pca p_levefr resahped:  (1, 162, 10)\n",
      "  body movement pa.p_lever projection:  (1, 162, 10)\n",
      "temp points:  (1300, 2)\n",
      "temp points:  (162, 2)\n",
      "plever:  (145, 2)\n",
      "1 17 10\n",
      " pca p_levefr resahped:  (1, 17, 10)\n",
      "  body movement pa.p_lever projection:  (1, 17, 10)\n",
      "temp points:  (1300, 2)\n",
      "temp points:  (17, 2)\n",
      "plever:  (15, 2)\n",
      "1 138 10\n"
     ]
    },
    {
     "name": "stderr",
     "output_type": "stream",
     "text": [
      "100%|██████████| 1/1 [00:00<00:00,  1.14it/s]\n",
      "  0%|          | 0/1 [00:00<?, ?it/s]"
     ]
    },
    {
     "name": "stdout",
     "output_type": "stream",
     "text": [
      " pca p_levefr resahped:  (1, 136, 10)\n",
      "  body movement pa.p_lever projection:  (1, 136, 10)\n",
      "temp points:  (1300, 2)\n",
      "temp points:  (136, 2)\n",
      "plever:  (122, 2)\n",
      "FNAME LEVER:  /media/cat/4TBSSD/yuki/IA3/tif_files/IA3pm_Feb3_30Hz/IA3pm_Feb3_30Hz_all_locs_selected.txt\n",
      "1 96 10\n"
     ]
    },
    {
     "name": "stderr",
     "output_type": "stream",
     "text": [
      "100%|██████████| 1/1 [00:00<00:00,  1.90it/s]\n",
      "/media/cat/4TBSSD/anaconda3/envs/wide/lib/python3.8/site-packages/numpy/core/_asarray.py:171: VisibleDeprecationWarning: Creating an ndarray from ragged nested sequences (which is a list-or-tuple of lists-or-tuples-or ndarrays with different lengths or shapes) is deprecated. If you meant to do this, you must specify 'dtype=object' when creating the ndarray.\n",
      "  return array(a, dtype, copy=False, order=order, subok=True)\n"
     ]
    },
    {
     "name": "stdout",
     "output_type": "stream",
     "text": [
      " pca p_levefr resahped:  (1, 96, 10)\n",
      "temp points:  (1300, 2)\n",
      "temp points:  (96, 2)\n",
      "plever:  (86, 2)\n",
      "pa.session_id 1:  IA3pm_Feb4_30Hz\n",
      "session corrected:  IA3pm_Feb4_30Hz\n",
      "(7,)\n",
      "['left_paw' 'right_paw' 'nose' 'jaw' 'right_ear' 'tongue' 'lever']\n",
      "pa.session_id 2:  IA3pm_Feb4_30Hz\n",
      "starts:  [11.         21.53333333 36.2        46.2        58.         63.86666667\n",
      " 68.8        75.93333333 82.33333333 88.73333333]\n",
      "lever offset:  67\n",
      "SESSIONS:  ['Feb1_', 'Feb2_', 'Feb3_', 'Feb4_', 'Feb9_', 'Feb10_', 'Feb11_', 'Feb12_', 'Feb15_', 'Feb16_', 'Feb17_']\n",
      "SHIFT IDS:  ['2', '0', '2', '2', '0', '0', '1', '0', '2', '2', '2']\n",
      "pa.session_id:  IA3pm_Feb4_30Hz\n",
      "SELF SHIFT ID:  2\n",
      " using shift:  2\n",
      "DLC SHIFT Loaded:  3.91\n",
      "DLC shift :  3.91   in frames:  117  after subtracting lever shift:  -50\n",
      " triggers:  (51,)\n",
      " data:  (40000, 128, 128)\n",
      "(39118, 128, 128)\n",
      "X:  (39118, 16384)\n"
     ]
    },
    {
     "name": "stderr",
     "output_type": "stream",
     "text": [
      "\r",
      "  0%|          | 0/1 [00:00<?, ?it/s]"
     ]
    },
    {
     "name": "stdout",
     "output_type": "stream",
     "text": [
      " X data using :  30  number of frames  (1301, 491520)\n",
      " pca allpoints:  (1301, 10)\n",
      "1 132 10\n"
     ]
    },
    {
     "name": "stderr",
     "output_type": "stream",
     "text": [
      "100%|██████████| 1/1 [00:00<00:00,  1.34it/s]\n",
      "  0%|          | 0/1 [00:00<?, ?it/s]"
     ]
    },
    {
     "name": "stdout",
     "output_type": "stream",
     "text": [
      " pca p_levefr resahped:  (1, 129, 10)\n",
      "  body movement pa.p_lever projection:  (1, 129, 10)\n",
      "temp points:  (1301, 2)\n",
      "temp points:  (129, 2)\n",
      "plever:  (116, 2)\n",
      "1 38 10\n"
     ]
    },
    {
     "name": "stderr",
     "output_type": "stream",
     "text": [
      "100%|██████████| 1/1 [00:00<00:00,  4.71it/s]\n",
      "  0%|          | 0/1 [00:00<?, ?it/s]"
     ]
    },
    {
     "name": "stdout",
     "output_type": "stream",
     "text": [
      " pca p_levefr resahped:  (1, 35, 10)\n",
      "  body movement pa.p_lever projection:  (1, 35, 10)\n",
      "temp points:  (1301, 2)\n",
      "temp points:  (35, 2)\n",
      "plever:  (31, 2)\n",
      "1 121 10\n"
     ]
    },
    {
     "name": "stderr",
     "output_type": "stream",
     "text": [
      "100%|██████████| 1/1 [00:00<00:00,  1.36it/s]\n",
      "  0%|          | 0/1 [00:00<?, ?it/s]"
     ]
    },
    {
     "name": "stdout",
     "output_type": "stream",
     "text": [
      " pca p_levefr resahped:  (1, 118, 10)\n",
      "  body movement pa.p_lever projection:  (1, 118, 10)\n",
      "temp points:  (1301, 2)\n",
      "temp points:  (118, 2)\n",
      "plever:  (106, 2)\n",
      "1 78 10\n"
     ]
    },
    {
     "name": "stderr",
     "output_type": "stream",
     "text": [
      "100%|██████████| 1/1 [00:00<00:00,  2.01it/s]\n",
      "  0%|          | 0/1 [00:00<?, ?it/s]"
     ]
    },
    {
     "name": "stdout",
     "output_type": "stream",
     "text": [
      " pca p_levefr resahped:  (1, 75, 10)\n",
      "  body movement pa.p_lever projection:  (1, 75, 10)\n",
      "temp points:  (1301, 2)\n",
      "temp points:  (75, 2)\n",
      "plever:  (67, 2)\n",
      "1 156 10\n"
     ]
    },
    {
     "name": "stderr",
     "output_type": "stream",
     "text": [
      "100%|██████████| 1/1 [00:01<00:00,  1.05s/it]\n",
      "  0%|          | 0/1 [00:00<?, ?it/s]"
     ]
    },
    {
     "name": "stdout",
     "output_type": "stream",
     "text": [
      " pca p_levefr resahped:  (1, 153, 10)\n",
      "  body movement pa.p_lever projection:  (1, 153, 10)\n",
      "temp points:  (1301, 2)\n",
      "temp points:  (153, 2)\n",
      "plever:  (137, 2)\n",
      "FNAME LEVER:  /media/cat/4TBSSD/yuki/IA3/tif_files/IA3pm_Feb4_30Hz/IA3pm_Feb4_30Hz_all_locs_selected.txt\n",
      "1 56 10\n"
     ]
    },
    {
     "name": "stderr",
     "output_type": "stream",
     "text": [
      "100%|██████████| 1/1 [00:00<00:00,  3.22it/s]\n",
      "/media/cat/4TBSSD/anaconda3/envs/wide/lib/python3.8/site-packages/numpy/core/_asarray.py:171: VisibleDeprecationWarning: Creating an ndarray from ragged nested sequences (which is a list-or-tuple of lists-or-tuples-or ndarrays with different lengths or shapes) is deprecated. If you meant to do this, you must specify 'dtype=object' when creating the ndarray.\n",
      "  return array(a, dtype, copy=False, order=order, subok=True)\n"
     ]
    },
    {
     "name": "stdout",
     "output_type": "stream",
     "text": [
      " pca p_levefr resahped:  (1, 55, 10)\n",
      "temp points:  (1301, 2)\n",
      "temp points:  (55, 2)\n",
      "plever:  (49, 2)\n",
      "pa.session_id 1:  IA3pm_Feb9_30Hz\n",
      "session corrected:  IA3pm_Feb9_30Hz\n",
      "(7,)\n",
      "['left_paw' 'right_paw' 'nose' 'jaw' 'right_ear' 'tongue' 'lever']\n",
      "pa.session_id 2:  IA3pm_Feb9_30Hz\n",
      "starts:  [ 7.26666667 12.2        26.06666667 34.13333333 41.66666667 55.33333333\n",
      " 59.53333333 67.2        73.33333333 78.66666667]\n",
      "lever offset:  90\n",
      "SESSIONS:  ['Feb1_', 'Feb2_', 'Feb3_', 'Feb4_', 'Feb9_', 'Feb10_', 'Feb11_', 'Feb12_', 'Feb15_', 'Feb16_', 'Feb17_']\n",
      "SHIFT IDS:  ['2', '0', '2', '2', '0', '0', '1', '0', '2', '2', '2']\n",
      "pa.session_id:  IA3pm_Feb9_30Hz\n",
      "SELF SHIFT ID:  0\n",
      " using shift:  0\n",
      "DLC SHIFT Loaded:  4.51\n",
      "DLC shift :  4.51   in frames:  135  after subtracting lever shift:  -45\n",
      " triggers:  (11,)\n",
      " data:  (40000, 128, 128)\n",
      "(39147, 128, 128)\n",
      "X:  (39147, 16384)\n"
     ]
    },
    {
     "name": "stderr",
     "output_type": "stream",
     "text": [
      "\r",
      "  0%|          | 0/1 [00:00<?, ?it/s]"
     ]
    },
    {
     "name": "stdout",
     "output_type": "stream",
     "text": [
      " X data using :  30  number of frames  (1302, 491520)\n",
      " pca allpoints:  (1302, 10)\n",
      "1 140 10\n"
     ]
    },
    {
     "name": "stderr",
     "output_type": "stream",
     "text": [
      "100%|██████████| 1/1 [00:00<00:00,  1.16it/s]\n",
      "  0%|          | 0/1 [00:00<?, ?it/s]"
     ]
    },
    {
     "name": "stdout",
     "output_type": "stream",
     "text": [
      " pca p_levefr resahped:  (1, 138, 10)\n",
      "  body movement pa.p_lever projection:  (1, 138, 10)\n",
      "temp points:  (1302, 2)\n",
      "temp points:  (138, 2)\n",
      "plever:  (124, 2)\n",
      "1 75 10\n"
     ]
    },
    {
     "name": "stderr",
     "output_type": "stream",
     "text": [
      "100%|██████████| 1/1 [00:00<00:00,  2.26it/s]\n",
      "  0%|          | 0/1 [00:00<?, ?it/s]"
     ]
    },
    {
     "name": "stdout",
     "output_type": "stream",
     "text": [
      " pca p_levefr resahped:  (1, 74, 10)\n",
      "  body movement pa.p_lever projection:  (1, 74, 10)\n",
      "temp points:  (1302, 2)\n",
      "temp points:  (74, 2)\n",
      "plever:  (66, 2)\n",
      "1 101 10\n"
     ]
    },
    {
     "name": "stderr",
     "output_type": "stream",
     "text": [
      "100%|██████████| 1/1 [00:00<00:00,  1.91it/s]\n",
      "  0%|          | 0/1 [00:00<?, ?it/s]"
     ]
    },
    {
     "name": "stdout",
     "output_type": "stream",
     "text": [
      " pca p_levefr resahped:  (1, 99, 10)\n",
      "  body movement pa.p_lever projection:  (1, 99, 10)\n",
      "temp points:  (1302, 2)\n",
      "temp points:  (99, 2)\n",
      "plever:  (89, 2)\n",
      "1 99 10\n"
     ]
    },
    {
     "name": "stderr",
     "output_type": "stream",
     "text": [
      "100%|██████████| 1/1 [00:00<00:00,  1.92it/s]\n",
      "  0%|          | 0/1 [00:00<?, ?it/s]"
     ]
    },
    {
     "name": "stdout",
     "output_type": "stream",
     "text": [
      " pca p_levefr resahped:  (1, 97, 10)\n",
      "  body movement pa.p_lever projection:  (1, 97, 10)\n",
      "temp points:  (1302, 2)\n",
      "temp points:  (97, 2)\n",
      "plever:  (87, 2)\n",
      "1 105 10\n"
     ]
    },
    {
     "name": "stderr",
     "output_type": "stream",
     "text": [
      "100%|██████████| 1/1 [00:00<00:00,  1.86it/s]\n",
      "100%|██████████| 1/1 [00:00<00:00, 10.85it/s]\n",
      "/media/cat/4TBSSD/anaconda3/envs/wide/lib/python3.8/site-packages/numpy/core/_asarray.py:171: VisibleDeprecationWarning: Creating an ndarray from ragged nested sequences (which is a list-or-tuple of lists-or-tuples-or ndarrays with different lengths or shapes) is deprecated. If you meant to do this, you must specify 'dtype=object' when creating the ndarray.\n",
      "  return array(a, dtype, copy=False, order=order, subok=True)\n"
     ]
    },
    {
     "name": "stdout",
     "output_type": "stream",
     "text": [
      " pca p_levefr resahped:  (1, 101, 10)\n",
      "  body movement pa.p_lever projection:  (1, 101, 10)\n",
      "temp points:  (1302, 2)\n",
      "temp points:  (101, 2)\n",
      "plever:  (91, 2)\n",
      "FNAME LEVER:  /media/cat/4TBSSD/yuki/IA3/tif_files/IA3pm_Feb9_30Hz/IA3pm_Feb9_30Hz_all_locs_selected.txt\n",
      "1 11 10\n",
      " pca p_levefr resahped:  (1, 11, 10)\n",
      "temp points:  (1302, 2)\n",
      "temp points:  (11, 2)\n",
      "plever:  (10, 2)\n",
      "pa.session_id 1:  IA3pm_Feb10_30Hz\n",
      "session corrected:  IA3pm_Feb10_30Hz\n",
      "(7,)\n",
      "['left_paw' 'right_paw' 'nose' 'jaw' 'right_ear' 'tongue' 'lever']\n",
      "pa.session_id 2:  IA3pm_Feb10_30Hz\n",
      "starts:  [ 10.53333333  27.6         31.46666667  46.46666667  60.33333333\n",
      "  66.6         75.          82.66666667  92.13333333 100.8       ]\n",
      "lever offset:  69\n",
      "SESSIONS:  ['Feb1_', 'Feb2_', 'Feb3_', 'Feb4_', 'Feb9_', 'Feb10_', 'Feb11_', 'Feb12_', 'Feb15_', 'Feb16_', 'Feb17_']\n",
      "SHIFT IDS:  ['2', '0', '2', '2', '0', '0', '1', '0', '2', '2', '2']\n",
      "pa.session_id:  IA3pm_Feb10_30Hz\n",
      "SELF SHIFT ID:  0\n",
      " using shift:  0\n",
      "DLC SHIFT Loaded:  4.26\n",
      "DLC shift :  4.26   in frames:  127  after subtracting lever shift:  -58\n",
      " triggers:  (7,)\n",
      " data:  (40000, 128, 128)\n",
      "(39168, 128, 128)\n",
      "X:  (39168, 16384)\n"
     ]
    },
    {
     "name": "stderr",
     "output_type": "stream",
     "text": [
      "\r",
      "  0%|          | 0/1 [00:00<?, ?it/s]"
     ]
    },
    {
     "name": "stdout",
     "output_type": "stream",
     "text": [
      " X data using :  30  number of frames  (1303, 491520)\n",
      " pca allpoints:  (1303, 10)\n",
      "1 116 10\n"
     ]
    },
    {
     "name": "stderr",
     "output_type": "stream",
     "text": [
      "100%|██████████| 1/1 [00:00<00:00,  1.71it/s]\n",
      "  0%|          | 0/1 [00:00<?, ?it/s]"
     ]
    },
    {
     "name": "stdout",
     "output_type": "stream",
     "text": [
      " pca p_levefr resahped:  (1, 110, 10)\n",
      "  body movement pa.p_lever projection:  (1, 110, 10)\n",
      "temp points:  (1303, 2)\n",
      "temp points:  (110, 2)\n",
      "plever:  (99, 2)\n",
      "1 90 10\n"
     ]
    },
    {
     "name": "stderr",
     "output_type": "stream",
     "text": [
      "100%|██████████| 1/1 [00:00<00:00,  2.06it/s]\n",
      "  0%|          | 0/1 [00:00<?, ?it/s]"
     ]
    },
    {
     "name": "stdout",
     "output_type": "stream",
     "text": [
      " pca p_levefr resahped:  (1, 86, 10)\n",
      "  body movement pa.p_lever projection:  (1, 86, 10)\n",
      "temp points:  (1303, 2)\n",
      "temp points:  (86, 2)\n",
      "plever:  (77, 2)\n",
      "1 105 10\n"
     ]
    },
    {
     "name": "stderr",
     "output_type": "stream",
     "text": [
      "100%|██████████| 1/1 [00:00<00:00,  1.87it/s]\n",
      "  0%|          | 0/1 [00:00<?, ?it/s]"
     ]
    },
    {
     "name": "stdout",
     "output_type": "stream",
     "text": [
      " pca p_levefr resahped:  (1, 100, 10)\n",
      "  body movement pa.p_lever projection:  (1, 100, 10)\n",
      "temp points:  (1303, 2)\n",
      "temp points:  (100, 2)\n",
      "plever:  (90, 2)\n",
      "1 107 10\n"
     ]
    },
    {
     "name": "stderr",
     "output_type": "stream",
     "text": [
      "100%|██████████| 1/1 [00:00<00:00,  1.83it/s]\n",
      "  0%|          | 0/1 [00:00<?, ?it/s]"
     ]
    },
    {
     "name": "stdout",
     "output_type": "stream",
     "text": [
      " pca p_levefr resahped:  (1, 103, 10)\n",
      "  body movement pa.p_lever projection:  (1, 103, 10)\n",
      "temp points:  (1303, 2)\n",
      "temp points:  (103, 2)\n",
      "plever:  (92, 2)\n",
      "1 116 10\n"
     ]
    },
    {
     "name": "stderr",
     "output_type": "stream",
     "text": [
      "100%|██████████| 1/1 [00:00<00:00,  1.56it/s]\n",
      "100%|██████████| 1/1 [00:00<00:00, 14.32it/s]\n",
      "/media/cat/4TBSSD/anaconda3/envs/wide/lib/python3.8/site-packages/numpy/core/_asarray.py:171: VisibleDeprecationWarning: Creating an ndarray from ragged nested sequences (which is a list-or-tuple of lists-or-tuples-or ndarrays with different lengths or shapes) is deprecated. If you meant to do this, you must specify 'dtype=object' when creating the ndarray.\n",
      "  return array(a, dtype, copy=False, order=order, subok=True)\n"
     ]
    },
    {
     "name": "stdout",
     "output_type": "stream",
     "text": [
      " pca p_levefr resahped:  (1, 112, 10)\n",
      "  body movement pa.p_lever projection:  (1, 112, 10)\n",
      "temp points:  (1303, 2)\n",
      "temp points:  (112, 2)\n",
      "plever:  (100, 2)\n",
      "FNAME LEVER:  /media/cat/4TBSSD/yuki/IA3/tif_files/IA3pm_Feb10_30Hz/IA3pm_Feb10_30Hz_all_locs_selected.txt\n",
      "1 7 10\n",
      " pca p_levefr resahped:  (1, 7, 10)\n",
      "temp points:  (1303, 2)\n",
      "temp points:  (7, 2)\n",
      "plever:  (6, 2)\n",
      "pa.session_id 1:  IA3pm_Feb11_30Hz\n",
      "session corrected:  IA3pm_Feb11_30Hz\n",
      "(7,)\n",
      "['left_paw' 'right_paw' 'nose' 'jaw' 'right_ear' 'tongue' 'lever']\n",
      "pa.session_id 2:  IA3pm_Feb11_30Hz\n",
      "starts:  [ 10.46666667  19.2         36.86666667  44.53333333  59.\n",
      "  67.73333333  76.93333333  84.4         92.86666667 100.46666667]\n",
      "lever offset:  79\n",
      "SESSIONS:  ['Feb1_', 'Feb2_', 'Feb3_', 'Feb4_', 'Feb9_', 'Feb10_', 'Feb11_', 'Feb12_', 'Feb15_', 'Feb16_', 'Feb17_']\n",
      "SHIFT IDS:  ['2', '0', '2', '2', '0', '0', '1', '0', '2', '2', '2']\n",
      "pa.session_id:  IA3pm_Feb11_30Hz\n",
      "SELF SHIFT ID:  1\n",
      " using shift:  1\n",
      "DLC SHIFT Loaded:  5.22\n",
      "DLC shift :  5.22   in frames:  156  after subtracting lever shift:  -77\n",
      " triggers:  (13,)\n",
      " data:  (40000, 128, 128)\n",
      "(39123, 128, 128)\n",
      "X:  (39123, 16384)\n"
     ]
    },
    {
     "name": "stderr",
     "output_type": "stream",
     "text": [
      "\r",
      "  0%|          | 0/1 [00:00<?, ?it/s]"
     ]
    },
    {
     "name": "stdout",
     "output_type": "stream",
     "text": [
      " X data using :  30  number of frames  (1301, 491520)\n",
      " pca allpoints:  (1301, 10)\n",
      "1 144 10\n"
     ]
    },
    {
     "name": "stderr",
     "output_type": "stream",
     "text": [
      "100%|██████████| 1/1 [00:00<00:00,  1.14it/s]\n",
      "  0%|          | 0/1 [00:00<?, ?it/s]"
     ]
    },
    {
     "name": "stdout",
     "output_type": "stream",
     "text": [
      " pca p_levefr resahped:  (1, 144, 10)\n",
      "  body movement pa.p_lever projection:  (1, 144, 10)\n",
      "temp points:  (1301, 2)\n",
      "temp points:  (144, 2)\n",
      "plever:  (129, 2)\n",
      "1 119 10\n"
     ]
    },
    {
     "name": "stderr",
     "output_type": "stream",
     "text": [
      "100%|██████████| 1/1 [00:00<00:00,  1.42it/s]\n",
      "  0%|          | 0/1 [00:00<?, ?it/s]"
     ]
    },
    {
     "name": "stdout",
     "output_type": "stream",
     "text": [
      " pca p_levefr resahped:  (1, 119, 10)\n",
      "  body movement pa.p_lever projection:  (1, 119, 10)\n",
      "temp points:  (1301, 2)\n",
      "temp points:  (119, 2)\n",
      "plever:  (107, 2)\n",
      "1 143 10\n"
     ]
    },
    {
     "name": "stderr",
     "output_type": "stream",
     "text": [
      "100%|██████████| 1/1 [00:00<00:00,  1.22it/s]\n",
      "  0%|          | 0/1 [00:00<?, ?it/s]"
     ]
    },
    {
     "name": "stdout",
     "output_type": "stream",
     "text": [
      " pca p_levefr resahped:  (1, 141, 10)\n",
      "  body movement pa.p_lever projection:  (1, 141, 10)\n",
      "temp points:  (1301, 2)\n",
      "temp points:  (141, 2)\n",
      "plever:  (127, 2)\n",
      "1 135 10\n"
     ]
    },
    {
     "name": "stderr",
     "output_type": "stream",
     "text": [
      "100%|██████████| 1/1 [00:00<00:00,  1.33it/s]\n",
      "  0%|          | 0/1 [00:00<?, ?it/s]"
     ]
    },
    {
     "name": "stdout",
     "output_type": "stream",
     "text": [
      " pca p_levefr resahped:  (1, 135, 10)\n",
      "  body movement pa.p_lever projection:  (1, 135, 10)\n",
      "temp points:  (1301, 2)\n",
      "temp points:  (135, 2)\n",
      "plever:  (121, 2)\n",
      "1 129 10\n"
     ]
    },
    {
     "name": "stderr",
     "output_type": "stream",
     "text": [
      "100%|██████████| 1/1 [00:00<00:00,  1.38it/s]\n",
      "100%|██████████| 1/1 [00:00<00:00,  9.54it/s]\n",
      "/media/cat/4TBSSD/anaconda3/envs/wide/lib/python3.8/site-packages/numpy/core/_asarray.py:171: VisibleDeprecationWarning: Creating an ndarray from ragged nested sequences (which is a list-or-tuple of lists-or-tuples-or ndarrays with different lengths or shapes) is deprecated. If you meant to do this, you must specify 'dtype=object' when creating the ndarray.\n",
      "  return array(a, dtype, copy=False, order=order, subok=True)\n"
     ]
    },
    {
     "name": "stdout",
     "output_type": "stream",
     "text": [
      " pca p_levefr resahped:  (1, 128, 10)\n",
      "  body movement pa.p_lever projection:  (1, 128, 10)\n",
      "temp points:  (1301, 2)\n",
      "temp points:  (128, 2)\n",
      "plever:  (115, 2)\n",
      "FNAME LEVER:  /media/cat/4TBSSD/yuki/IA3/tif_files/IA3pm_Feb11_30Hz/IA3pm_Feb11_30Hz_all_locs_selected.txt\n",
      "1 13 10\n",
      " pca p_levefr resahped:  (1, 13, 10)\n",
      "temp points:  (1301, 2)\n",
      "temp points:  (13, 2)\n",
      "plever:  (11, 2)\n",
      "pa.session_id 1:  IA3pm_Feb12_30Hz\n",
      "session corrected:  IA3pm_Feb12_30Hz\n",
      "(7,)\n",
      "['left_paw' 'right_paw' 'nose' 'jaw' 'right_ear' 'tongue' 'lever']\n",
      "pa.session_id 2:  IA3pm_Feb12_30Hz\n",
      "starts:  [ 8.2        14.86666667 21.         29.6        37.73333333 47.\n",
      " 52.8        59.26666667 64.33333333 70.13333333]\n",
      "lever offset:  57\n",
      "SESSIONS:  ['Feb1_', 'Feb2_', 'Feb3_', 'Feb4_', 'Feb9_', 'Feb10_', 'Feb11_', 'Feb12_', 'Feb15_', 'Feb16_', 'Feb17_']\n",
      "SHIFT IDS:  ['2', '0', '2', '2', '0', '0', '1', '0', '2', '2', '2']\n",
      "pa.session_id:  IA3pm_Feb12_30Hz\n",
      "SELF SHIFT ID:  0\n",
      " using shift:  0\n",
      "DLC SHIFT Loaded:  3.52\n",
      "DLC shift :  3.52   in frames:  105  after subtracting lever shift:  -48\n",
      " triggers:  (54,)\n",
      " data:  (40000, 128, 128)\n",
      "(39038, 128, 128)\n",
      "X:  (39038, 16384)\n"
     ]
    },
    {
     "name": "stderr",
     "output_type": "stream",
     "text": [
      "\r",
      "  0%|          | 0/1 [00:00<?, ?it/s]"
     ]
    },
    {
     "name": "stdout",
     "output_type": "stream",
     "text": [
      " X data using :  30  number of frames  (1298, 491520)\n",
      " pca allpoints:  (1298, 10)\n",
      "1 155 10\n"
     ]
    },
    {
     "name": "stderr",
     "output_type": "stream",
     "text": [
      "100%|██████████| 1/1 [00:00<00:00,  1.19it/s]\n",
      "  0%|          | 0/1 [00:00<?, ?it/s]"
     ]
    },
    {
     "name": "stdout",
     "output_type": "stream",
     "text": [
      " pca p_levefr resahped:  (1, 154, 10)\n",
      "  body movement pa.p_lever projection:  (1, 154, 10)\n",
      "temp points:  (1298, 2)\n",
      "temp points:  (154, 2)\n",
      "plever:  (138, 2)\n",
      "1 125 10\n"
     ]
    },
    {
     "name": "stderr",
     "output_type": "stream",
     "text": [
      "100%|██████████| 1/1 [00:00<00:00,  1.29it/s]\n",
      "  0%|          | 0/1 [00:00<?, ?it/s]"
     ]
    },
    {
     "name": "stdout",
     "output_type": "stream",
     "text": [
      " pca p_levefr resahped:  (1, 124, 10)\n",
      "  body movement pa.p_lever projection:  (1, 124, 10)\n",
      "temp points:  (1298, 2)\n",
      "temp points:  (124, 2)\n",
      "plever:  (111, 2)\n",
      "1 154 10\n"
     ]
    },
    {
     "name": "stderr",
     "output_type": "stream",
     "text": [
      "100%|██████████| 1/1 [00:00<00:00,  1.04it/s]\n",
      "  0%|          | 0/1 [00:00<?, ?it/s]"
     ]
    },
    {
     "name": "stdout",
     "output_type": "stream",
     "text": [
      " pca p_levefr resahped:  (1, 153, 10)\n",
      "  body movement pa.p_lever projection:  (1, 153, 10)\n",
      "temp points:  (1298, 2)\n",
      "temp points:  (153, 2)\n",
      "plever:  (137, 2)\n",
      "1 152 10\n"
     ]
    },
    {
     "name": "stderr",
     "output_type": "stream",
     "text": [
      "100%|██████████| 1/1 [00:00<00:00,  1.19it/s]\n",
      "  0%|          | 0/1 [00:00<?, ?it/s]"
     ]
    },
    {
     "name": "stdout",
     "output_type": "stream",
     "text": [
      " pca p_levefr resahped:  (1, 151, 10)\n",
      "  body movement pa.p_lever projection:  (1, 151, 10)\n",
      "temp points:  (1298, 2)\n",
      "temp points:  (151, 2)\n",
      "plever:  (136, 2)\n",
      "1 152 10\n"
     ]
    },
    {
     "name": "stderr",
     "output_type": "stream",
     "text": [
      "100%|██████████| 1/1 [00:00<00:00,  1.23it/s]\n",
      "  0%|          | 0/1 [00:00<?, ?it/s]"
     ]
    },
    {
     "name": "stdout",
     "output_type": "stream",
     "text": [
      " pca p_levefr resahped:  (1, 150, 10)\n",
      "  body movement pa.p_lever projection:  (1, 150, 10)\n",
      "temp points:  (1298, 2)\n",
      "temp points:  (150, 2)\n",
      "plever:  (135, 2)\n",
      "FNAME LEVER:  /media/cat/4TBSSD/yuki/IA3/tif_files/IA3pm_Feb12_30Hz/IA3pm_Feb12_30Hz_all_locs_selected.txt\n",
      "1 83 10\n"
     ]
    },
    {
     "name": "stderr",
     "output_type": "stream",
     "text": [
      "100%|██████████| 1/1 [00:00<00:00,  2.13it/s]\n",
      "/media/cat/4TBSSD/anaconda3/envs/wide/lib/python3.8/site-packages/numpy/core/_asarray.py:171: VisibleDeprecationWarning: Creating an ndarray from ragged nested sequences (which is a list-or-tuple of lists-or-tuples-or ndarrays with different lengths or shapes) is deprecated. If you meant to do this, you must specify 'dtype=object' when creating the ndarray.\n",
      "  return array(a, dtype, copy=False, order=order, subok=True)\n"
     ]
    },
    {
     "name": "stdout",
     "output_type": "stream",
     "text": [
      " pca p_levefr resahped:  (1, 83, 10)\n",
      "temp points:  (1298, 2)\n",
      "temp points:  (83, 2)\n",
      "plever:  (74, 2)\n",
      "pa.session_id 1:  IA3pm_Feb15_30Hz\n",
      "session corrected:  IA3pm_Feb15_30Hz\n",
      "(7,)\n",
      "['left_paw' 'right_paw' 'nose' 'jaw' 'right_ear' 'tongue' 'lever']\n",
      "pa.session_id 2:  IA3pm_Feb15_30Hz\n",
      "starts:  [ 16.53333333  29.26666667  53.46666667  57.93333333  75.33333333\n",
      "  81.2         89.4         93.4        106.93333333 114.66666667]\n",
      "lever offset:  74\n",
      "SESSIONS:  ['Feb1_', 'Feb2_', 'Feb3_', 'Feb4_', 'Feb9_', 'Feb10_', 'Feb11_', 'Feb12_', 'Feb15_', 'Feb16_', 'Feb17_']\n",
      "SHIFT IDS:  ['2', '0', '2', '2', '0', '0', '1', '0', '2', '2', '2']\n",
      "pa.session_id:  IA3pm_Feb15_30Hz\n",
      "SELF SHIFT ID:  2\n",
      " using shift:  2\n",
      "DLC SHIFT Loaded:  4.82\n",
      "DLC shift :  4.82   in frames:  144  after subtracting lever shift:  -70\n",
      " triggers:  (32,)\n",
      " data:  (40000, 128, 128)\n",
      "(39240, 128, 128)\n",
      "X:  (39240, 16384)\n"
     ]
    },
    {
     "name": "stderr",
     "output_type": "stream",
     "text": [
      "\r",
      "  0%|          | 0/1 [00:00<?, ?it/s]"
     ]
    },
    {
     "name": "stdout",
     "output_type": "stream",
     "text": [
      " X data using :  30  number of frames  (1305, 491520)\n",
      " pca allpoints:  (1305, 10)\n",
      "1 123 10\n"
     ]
    },
    {
     "name": "stderr",
     "output_type": "stream",
     "text": [
      "100%|██████████| 1/1 [00:00<00:00,  1.60it/s]\n",
      "  0%|          | 0/1 [00:00<?, ?it/s]"
     ]
    },
    {
     "name": "stdout",
     "output_type": "stream",
     "text": [
      " pca p_levefr resahped:  (1, 122, 10)\n",
      "  body movement pa.p_lever projection:  (1, 122, 10)\n",
      "temp points:  (1305, 2)\n",
      "temp points:  (122, 2)\n",
      "plever:  (109, 2)\n",
      "1 95 10\n"
     ]
    },
    {
     "name": "stderr",
     "output_type": "stream",
     "text": [
      "100%|██████████| 1/1 [00:00<00:00,  1.98it/s]\n",
      "  0%|          | 0/1 [00:00<?, ?it/s]"
     ]
    },
    {
     "name": "stdout",
     "output_type": "stream",
     "text": [
      " pca p_levefr resahped:  (1, 93, 10)\n",
      "  body movement pa.p_lever projection:  (1, 93, 10)\n",
      "temp points:  (1305, 2)\n",
      "temp points:  (93, 2)\n",
      "plever:  (83, 2)\n",
      "1 142 10\n"
     ]
    },
    {
     "name": "stderr",
     "output_type": "stream",
     "text": [
      "100%|██████████| 1/1 [00:00<00:00,  1.35it/s]\n",
      "  0%|          | 0/1 [00:00<?, ?it/s]"
     ]
    },
    {
     "name": "stdout",
     "output_type": "stream",
     "text": [
      " pca p_levefr resahped:  (1, 141, 10)\n",
      "  body movement pa.p_lever projection:  (1, 141, 10)\n",
      "temp points:  (1305, 2)\n",
      "temp points:  (141, 2)\n",
      "plever:  (127, 2)\n",
      "1 74 10\n"
     ]
    },
    {
     "name": "stderr",
     "output_type": "stream",
     "text": [
      "100%|██████████| 1/1 [00:00<00:00,  2.03it/s]\n",
      "  0%|          | 0/1 [00:00<?, ?it/s]"
     ]
    },
    {
     "name": "stdout",
     "output_type": "stream",
     "text": [
      " pca p_levefr resahped:  (1, 73, 10)\n",
      "  body movement pa.p_lever projection:  (1, 73, 10)\n",
      "temp points:  (1305, 2)\n",
      "temp points:  (73, 2)\n",
      "plever:  (65, 2)\n",
      "1 101 10\n"
     ]
    },
    {
     "name": "stderr",
     "output_type": "stream",
     "text": [
      "100%|██████████| 1/1 [00:00<00:00,  1.38it/s]\n",
      "  0%|          | 0/1 [00:00<?, ?it/s]"
     ]
    },
    {
     "name": "stdout",
     "output_type": "stream",
     "text": [
      " pca p_levefr resahped:  (1, 99, 10)\n",
      "  body movement pa.p_lever projection:  (1, 99, 10)\n",
      "temp points:  (1305, 2)\n",
      "temp points:  (99, 2)\n",
      "plever:  (89, 2)\n",
      "FNAME LEVER:  /media/cat/4TBSSD/yuki/IA3/tif_files/IA3pm_Feb15_30Hz/IA3pm_Feb15_30Hz_all_locs_selected.txt\n",
      "1 49 10\n"
     ]
    },
    {
     "name": "stderr",
     "output_type": "stream",
     "text": [
      "100%|██████████| 1/1 [00:00<00:00,  3.12it/s]\n",
      "/media/cat/4TBSSD/anaconda3/envs/wide/lib/python3.8/site-packages/numpy/core/_asarray.py:171: VisibleDeprecationWarning: Creating an ndarray from ragged nested sequences (which is a list-or-tuple of lists-or-tuples-or ndarrays with different lengths or shapes) is deprecated. If you meant to do this, you must specify 'dtype=object' when creating the ndarray.\n",
      "  return array(a, dtype, copy=False, order=order, subok=True)\n"
     ]
    },
    {
     "name": "stdout",
     "output_type": "stream",
     "text": [
      " pca p_levefr resahped:  (1, 49, 10)\n",
      "temp points:  (1305, 2)\n",
      "temp points:  (49, 2)\n",
      "plever:  (44, 2)\n",
      "pa.session_id 1:  IA3pm_Feb16_30Hz\n",
      "session corrected:  IA3pm_Feb16_30Hz\n",
      "(7,)\n",
      "['left_paw' 'right_paw' 'nose' 'jaw' 'right_ear' 'tongue' 'lever']\n",
      "pa.session_id 2:  IA3pm_Feb16_30Hz\n",
      "starts:  [ 8.53333333 13.86666667 19.13333333 26.         41.93333333 49.73333333\n",
      " 55.33333333 62.2        71.33333333 78.46666667]\n",
      "lever offset:  72\n",
      "SESSIONS:  ['Feb1_', 'Feb2_', 'Feb3_', 'Feb4_', 'Feb9_', 'Feb10_', 'Feb11_', 'Feb12_', 'Feb15_', 'Feb16_', 'Feb17_']\n",
      "SHIFT IDS:  ['2', '0', '2', '2', '0', '0', '1', '0', '2', '2', '2']\n",
      "pa.session_id:  IA3pm_Feb16_30Hz\n",
      "SELF SHIFT ID:  2\n",
      " using shift:  2\n",
      "DLC SHIFT Loaded:  4.14\n",
      "DLC shift :  4.14   in frames:  124  after subtracting lever shift:  -52\n",
      " triggers:  (52,)\n",
      " data:  (40000, 128, 128)\n",
      "(39017, 128, 128)\n",
      "X:  (39017, 16384)\n"
     ]
    },
    {
     "name": "stderr",
     "output_type": "stream",
     "text": [
      "\r",
      "  0%|          | 0/1 [00:00<?, ?it/s]"
     ]
    },
    {
     "name": "stdout",
     "output_type": "stream",
     "text": [
      " X data using :  30  number of frames  (1298, 491520)\n",
      " pca allpoints:  (1298, 10)\n",
      "1 113 10\n"
     ]
    },
    {
     "name": "stderr",
     "output_type": "stream",
     "text": [
      "100%|██████████| 1/1 [00:00<00:00,  1.68it/s]\n",
      "  0%|          | 0/1 [00:00<?, ?it/s]"
     ]
    },
    {
     "name": "stdout",
     "output_type": "stream",
     "text": [
      " pca p_levefr resahped:  (1, 110, 10)\n",
      "  body movement pa.p_lever projection:  (1, 110, 10)\n",
      "temp points:  (1298, 2)\n",
      "temp points:  (110, 2)\n",
      "plever:  (99, 2)\n",
      "1 81 10\n"
     ]
    },
    {
     "name": "stderr",
     "output_type": "stream",
     "text": [
      "100%|██████████| 1/1 [00:00<00:00,  2.25it/s]\n",
      "  0%|          | 0/1 [00:00<?, ?it/s]"
     ]
    },
    {
     "name": "stdout",
     "output_type": "stream",
     "text": [
      " pca p_levefr resahped:  (1, 78, 10)\n",
      "  body movement pa.p_lever projection:  (1, 78, 10)\n",
      "temp points:  (1298, 2)\n",
      "temp points:  (78, 2)\n",
      "plever:  (70, 2)\n",
      "1 105 10\n"
     ]
    },
    {
     "name": "stderr",
     "output_type": "stream",
     "text": [
      "100%|██████████| 1/1 [00:00<00:00,  1.68it/s]\n",
      "  0%|          | 0/1 [00:00<?, ?it/s]"
     ]
    },
    {
     "name": "stdout",
     "output_type": "stream",
     "text": [
      " pca p_levefr resahped:  (1, 102, 10)\n",
      "  body movement pa.p_lever projection:  (1, 102, 10)\n",
      "temp points:  (1298, 2)\n",
      "temp points:  (102, 2)\n",
      "plever:  (91, 2)\n",
      "1 81 10\n"
     ]
    },
    {
     "name": "stderr",
     "output_type": "stream",
     "text": [
      "100%|██████████| 1/1 [00:00<00:00,  2.25it/s]\n",
      "  0%|          | 0/1 [00:00<?, ?it/s]"
     ]
    },
    {
     "name": "stdout",
     "output_type": "stream",
     "text": [
      " pca p_levefr resahped:  (1, 78, 10)\n",
      "  body movement pa.p_lever projection:  (1, 78, 10)\n",
      "temp points:  (1298, 2)\n",
      "temp points:  (78, 2)\n",
      "plever:  (70, 2)\n",
      "1 117 10\n"
     ]
    },
    {
     "name": "stderr",
     "output_type": "stream",
     "text": [
      "100%|██████████| 1/1 [00:00<00:00,  1.58it/s]\n",
      "  0%|          | 0/1 [00:00<?, ?it/s]"
     ]
    },
    {
     "name": "stdout",
     "output_type": "stream",
     "text": [
      " pca p_levefr resahped:  (1, 116, 10)\n",
      "  body movement pa.p_lever projection:  (1, 116, 10)\n",
      "temp points:  (1298, 2)\n",
      "temp points:  (116, 2)\n",
      "plever:  (104, 2)\n",
      "FNAME LEVER:  /media/cat/4TBSSD/yuki/IA3/tif_files/IA3pm_Feb16_30Hz/IA3pm_Feb16_30Hz_all_locs_selected.txt\n",
      "1 67 10\n"
     ]
    },
    {
     "name": "stderr",
     "output_type": "stream",
     "text": [
      "100%|██████████| 1/1 [00:00<00:00,  2.64it/s]\n",
      "/media/cat/4TBSSD/anaconda3/envs/wide/lib/python3.8/site-packages/numpy/core/_asarray.py:171: VisibleDeprecationWarning: Creating an ndarray from ragged nested sequences (which is a list-or-tuple of lists-or-tuples-or ndarrays with different lengths or shapes) is deprecated. If you meant to do this, you must specify 'dtype=object' when creating the ndarray.\n",
      "  return array(a, dtype, copy=False, order=order, subok=True)\n"
     ]
    },
    {
     "name": "stdout",
     "output_type": "stream",
     "text": [
      " pca p_levefr resahped:  (1, 67, 10)\n",
      "temp points:  (1298, 2)\n",
      "temp points:  (67, 2)\n",
      "plever:  (60, 2)\n",
      "pa.session_id 1:  IA3pm_Feb17_30Hz\n",
      "session corrected:  IA3pm_Feb17_30Hz\n",
      "(7,)\n",
      "['left_paw' 'right_paw' 'nose' 'jaw' 'right_ear' 'tongue' 'lever']\n",
      "pa.session_id 2:  IA3pm_Feb17_30Hz\n",
      "starts:  [ 6.66666667 13.4        24.53333333 29.46666667 33.06666667 39.13333333\n",
      " 43.4        48.86666667 52.6        57.06666667]\n",
      "lever offset:  54\n",
      "SESSIONS:  ['Feb1_', 'Feb2_', 'Feb3_', 'Feb4_', 'Feb9_', 'Feb10_', 'Feb11_', 'Feb12_', 'Feb15_', 'Feb16_', 'Feb17_']\n",
      "SHIFT IDS:  ['2', '0', '2', '2', '0', '0', '1', '0', '2', '2', '2']\n",
      "pa.session_id:  IA3pm_Feb17_30Hz\n",
      "SELF SHIFT ID:  2\n",
      " using shift:  2\n",
      "DLC SHIFT Loaded:  3.54\n",
      "DLC shift :  3.54   in frames:  106  after subtracting lever shift:  -52\n",
      " triggers:  (47,)\n",
      " data:  (40000, 128, 128)\n",
      "(39698, 128, 128)\n",
      "X:  (39698, 16384)\n"
     ]
    },
    {
     "name": "stderr",
     "output_type": "stream",
     "text": [
      "\r",
      "  0%|          | 0/1 [00:00<?, ?it/s]"
     ]
    },
    {
     "name": "stdout",
     "output_type": "stream",
     "text": [
      " X data using :  30  number of frames  (1320, 491520)\n",
      " pca allpoints:  (1320, 10)\n",
      "1 128 10\n"
     ]
    },
    {
     "name": "stderr",
     "output_type": "stream",
     "text": [
      "100%|██████████| 1/1 [00:00<00:00,  1.43it/s]\n",
      "  0%|          | 0/1 [00:00<?, ?it/s]"
     ]
    },
    {
     "name": "stdout",
     "output_type": "stream",
     "text": [
      " pca p_levefr resahped:  (1, 127, 10)\n",
      "  body movement pa.p_lever projection:  (1, 127, 10)\n",
      "temp points:  (1320, 2)\n",
      "temp points:  (127, 2)\n",
      "plever:  (114, 2)\n",
      "1 79 10\n"
     ]
    },
    {
     "name": "stderr",
     "output_type": "stream",
     "text": [
      "100%|██████████| 1/1 [00:00<00:00,  2.22it/s]\n",
      "  0%|          | 0/1 [00:00<?, ?it/s]"
     ]
    },
    {
     "name": "stdout",
     "output_type": "stream",
     "text": [
      " pca p_levefr resahped:  (1, 78, 10)\n",
      "  body movement pa.p_lever projection:  (1, 78, 10)\n",
      "temp points:  (1320, 2)\n",
      "temp points:  (78, 2)\n",
      "plever:  (70, 2)\n",
      "1 79 10\n"
     ]
    },
    {
     "name": "stderr",
     "output_type": "stream",
     "text": [
      "100%|██████████| 1/1 [00:00<00:00,  2.24it/s]\n",
      "  0%|          | 0/1 [00:00<?, ?it/s]"
     ]
    },
    {
     "name": "stdout",
     "output_type": "stream",
     "text": [
      " pca p_levefr resahped:  (1, 78, 10)\n",
      "  body movement pa.p_lever projection:  (1, 78, 10)\n",
      "temp points:  (1320, 2)\n",
      "temp points:  (78, 2)\n",
      "plever:  (70, 2)\n",
      "1 128 10\n"
     ]
    },
    {
     "name": "stderr",
     "output_type": "stream",
     "text": [
      "100%|██████████| 1/1 [00:00<00:00,  1.46it/s]\n",
      "  0%|          | 0/1 [00:00<?, ?it/s]"
     ]
    },
    {
     "name": "stdout",
     "output_type": "stream",
     "text": [
      " pca p_levefr resahped:  (1, 125, 10)\n",
      "  body movement pa.p_lever projection:  (1, 125, 10)\n",
      "temp points:  (1320, 2)\n",
      "temp points:  (125, 2)\n",
      "plever:  (112, 2)\n",
      "1 66 10\n"
     ]
    },
    {
     "name": "stderr",
     "output_type": "stream",
     "text": [
      "100%|██████████| 1/1 [00:00<00:00,  2.63it/s]\n",
      "  0%|          | 0/1 [00:00<?, ?it/s]"
     ]
    },
    {
     "name": "stdout",
     "output_type": "stream",
     "text": [
      " pca p_levefr resahped:  (1, 65, 10)\n",
      "  body movement pa.p_lever projection:  (1, 65, 10)\n",
      "temp points:  (1320, 2)\n",
      "temp points:  (65, 2)\n",
      "plever:  (58, 2)\n",
      "FNAME LEVER:  /media/cat/4TBSSD/yuki/IA3/tif_files/IA3pm_Feb17_30Hz/IA3pm_Feb17_30Hz_all_locs_selected.txt\n",
      "1 53 10\n"
     ]
    },
    {
     "name": "stderr",
     "output_type": "stream",
     "text": [
      "100%|██████████| 1/1 [00:00<00:00,  3.09it/s]\n",
      "/media/cat/4TBSSD/anaconda3/envs/wide/lib/python3.8/site-packages/numpy/core/_asarray.py:171: VisibleDeprecationWarning: Creating an ndarray from ragged nested sequences (which is a list-or-tuple of lists-or-tuples-or ndarrays with different lengths or shapes) is deprecated. If you meant to do this, you must specify 'dtype=object' when creating the ndarray.\n",
      "  return array(a, dtype, copy=False, order=order, subok=True)\n"
     ]
    },
    {
     "name": "stdout",
     "output_type": "stream",
     "text": [
      " pca p_levefr resahped:  (1, 53, 10)\n",
      "temp points:  (1320, 2)\n",
      "temp points:  (53, 2)\n",
      "plever:  (47, 2)\n",
      "pa.session_id 1:  IA3pm_Feb18_30Hz\n",
      "session corrected:  IA3pm_Feb18_30Hz\n",
      " No video/3sec movement files...\n",
      "pa.session_id 1:  IA3pm_Feb19_30Hz\n",
      "session corrected:  IA3pm_Feb19_30Hz\n",
      " No video/3sec movement files...\n",
      "pa.session_id 1:  IA3pm_Feb22_30Hz\n",
      "session corrected:  IA3pm_Feb22_30Hz\n",
      " No video/3sec movement files...\n",
      "pa.session_id 1:  IA3pm_Feb23_30Hz\n",
      "session corrected:  IA3pm_Feb23_30Hz\n",
      " No video/3sec movement files...\n",
      "pa.session_id 1:  IA3pm_Feb24_30Hz\n",
      "session corrected:  IA3pm_Feb24_30Hz\n",
      " No video/3sec movement files...\n",
      "pa.session_id 1:  IA3pm_Feb25_30Hz\n",
      "session corrected:  IA3pm_Feb25_30Hz\n",
      " No video/3sec movement files...\n",
      "pa.session_id 1:  IA3pm_Feb26_30Hz\n",
      "session corrected:  IA3pm_Feb26_30Hz\n",
      " No video/3sec movement files...\n",
      "pa.session_id 1:  IA3pm_Feb29_30Hz\n",
      "session corrected:  IA3pm_Feb29_30Hz\n",
      " No video/3sec movement files...\n",
      "pa.session_id 1:  IA3pm_Mar1_30Hz\n",
      "session corrected:  IA3pm_Mar1_30Hz\n",
      " No video/3sec movement files...\n",
      "pa.session_id 1:  IA3pm_Mar2_30Hz\n",
      "session corrected:  IA3pm_Mar2_30Hz\n",
      " No video/3sec movement files...\n",
      "pa.session_id 1:  IA3pm_Mar3_30Hz\n",
      "session corrected:  IA3pm_Mar3_30Hz\n",
      " No video/3sec movement files...\n",
      "pa.session_id 1:  IA3am_Mar7_30Hz\n",
      "session corrected:  IA3am_Mar7_30Hz\n",
      " No video/3sec movement files...\n",
      "pa.session_id 1:  IA3pm_Mar8_30Hz\n",
      "session corrected:  IA3pm_Mar8_30Hz\n",
      " No video/3sec movement files...\n",
      "pa.session_id 1:  IA3am_Mar9_30Hz\n",
      "session corrected:  IA3am_Mar9_30Hz\n",
      " No video/3sec movement files...\n",
      "pa.session_id 1:  IA3am_Mar10_30Hz\n",
      "session corrected:  IA3am_Mar10_30Hz\n",
      " No video/3sec movement files...\n",
      "pa.session_id 1:  IA3am_Mar11_30Hz\n",
      "session corrected:  IA3am_Mar11_30Hz\n",
      " No video/3sec movement files...\n",
      "pa.session_id 1:  IA3pm_Mar14_30Hz\n",
      "session corrected:  IA3pm_Mar14_30Hz\n",
      " No video/3sec movement files...\n",
      "pa.session_id 1:  IA3am_Mar15_30Hz\n",
      "session corrected:  IA3am_Mar15_30Hz\n",
      " No video/3sec movement files...\n",
      "pa.session_id 1:  IA3pm_Mar16_30Hz\n",
      "session corrected:  IA3pm_Mar16_30Hz\n",
      " No video/3sec movement files...\n",
      "pa.session_id 1:  IA3pm_Mar17_30Hz\n",
      "session corrected:  IA3pm_Mar17_30Hz\n",
      " No video/3sec movement files...\n",
      "pa.session_id 1:  IA3pm_Mar18_30Hz\n",
      "session corrected:  IA3pm_Mar18_30Hz\n",
      " No video/3sec movement files...\n",
      "pa.session_id 1:  IA3pm_Mar21_30Hz\n",
      "session corrected:  IA3pm_Mar21_30Hz\n",
      " No video/3sec movement files...\n",
      "pa.session_id 1:  IA3pm_Mar22_30Hz\n",
      "session corrected:  IA3pm_Mar22_30Hz\n",
      " No video/3sec movement files...\n",
      "pa.session_id 1:  IA3pm_Mar23_30Hz\n",
      "session corrected:  IA3pm_Mar23_30Hz\n",
      " No video/3sec movement files...\n",
      "pa.session_id 1:  IA3pm_Mar24_30Hz\n",
      "session corrected:  IA3pm_Mar24_30Hz\n",
      " No video/3sec movement files...\n",
      "pa.session_id 1:  IA3pm_Mar29_30Hz\n",
      "session corrected:  IA3pm_Mar29_30Hz\n",
      " No video/3sec movement files...\n",
      "pa.session_id 1:  IA3pm_Mar30_30Hz\n",
      "session corrected:  IA3pm_Mar30_30Hz\n",
      " No video/3sec movement files...\n",
      "pa.session_id 1:  IA3pm_Mar31_30Hz\n",
      "session corrected:  IA3pm_Mar31_30Hz\n",
      " No video/3sec movement files...\n",
      "pa.session_id 1:  IA3pm_Apr1_30Hz\n",
      "session corrected:  IA3pm_Apr1_30Hz\n",
      " No video/3sec movement files...\n",
      "pa.session_id 1:  IA3pm_Apr4_30Hz\n",
      "session corrected:  IA3pm_Apr4_30Hz\n",
      " No video/3sec movement files...\n",
      "pa.session_id 1:  IA3pm_Apr5_30Hz\n",
      "session corrected:  IA3pm_Apr5_30Hz\n",
      " No video/3sec movement files...\n",
      "pa.session_id 1:  IA3pm_Apr6_30Hz\n",
      "session corrected:  IA3pm_Apr6_30Hz\n",
      " No video/3sec movement files...\n",
      "pa.session_id 1:  IA3pm_Apr7_30Hz\n",
      "session corrected:  IA3pm_Apr7_30Hz\n",
      " No video/3sec movement files...\n",
      "sessions:  ['IJ1pm_Feb1_30Hz' 'IJ1pm_Feb2_30Hz' 'IJ1pm_Feb3_30Hz' 'IJ1pm_Feb4_30Hz'\n",
      " 'IJ1pm_Feb5_30Hz' 'IJ1pm_Feb9_30Hz' 'IJ1pm_Feb10_30Hz' 'IJ1pm_Feb11_30Hz'\n",
      " 'IJ1pm_Feb12_30Hz' 'IJ1pm_Feb16_30Hz' 'IJ1pm_Feb17_30Hz'\n",
      " 'IJ1pm_Feb18_30Hz' 'IJ1pm_Feb19_30Hz' 'IJ1pm_Feb22_30Hz'\n",
      " 'IJ1pm_Feb23_30Hz' 'IJ1pm_Feb24_30Hz' 'IJ1pm_Feb25_30Hz'\n",
      " 'IJ1pm_Feb26_30Hz' 'IJ1pm_Feb29_30Hz' 'IJ1pm_Mar1_30Hz' 'IJ1pm_Mar2_30Hz'\n",
      " 'IJ1pm_Mar3_30Hz' 'IJ1am_Mar7_30Hz' 'IJ1pm_Mar8_30Hz' 'IJ1am_Mar9_30Hz'\n",
      " 'IJ1am_Mar10_30Hz' 'IJ1am_Mar11_30Hz' 'IJ1pm_Mar14_30Hz'\n",
      " 'IJ1am_Mar15_30Hz' 'IJ1pm_Mar16_30Hz' 'IJ1pm_Mar17_30Hz'\n",
      " 'IJ1pm_Mar18_30Hz' 'IJ1pm_Mar21_30Hz' 'IJ1pm_Mar22_30Hz'\n",
      " 'IJ1pm_Mar23_30Hz' 'IJ1pm_Mar24_30Hz' 'IJ1pm_Mar29_30Hz'\n",
      " 'IJ1pm_Mar30_30Hz' 'IJ1pm_Mar31_30Hz' 'IJ1pm_Apr1_30Hz' 'IJ1pm_Apr4_30Hz'\n",
      " 'IJ1pm_Apr5_30Hz' 'IJ1pm_Apr6_30Hz' 'IJ1pm_Apr7_30Hz']\n",
      "pa.session_id 1:  IJ1pm_Feb1_30Hz\n",
      "session corrected:  IJ1pm_Feb1_30Hz\n",
      "(7,)\n",
      "['left_paw' 'right_paw' 'nose' 'jaw' 'right_ear' 'tongue' 'lever']\n",
      "pa.session_id 2:  IJ1pm_Feb1_30Hz\n",
      "starts:  [  5.          16.33333333  31.06666667  42.4         51.46666667\n",
      "  84.          90.53333333 108.53333333 121.93333333 130.13333333]\n",
      "lever offset:  86\n",
      "SESSIONS:  ['Feb1_', 'Feb2_', 'Feb3_', 'Feb4_', 'Feb5_', 'Feb9_', 'Feb10_', 'Feb11_', 'Feb12_', 'Feb16_']\n",
      "SHIFT IDS:  ['2', '0', '2', '2', '1', '2', '1', '2', '2', '2']\n",
      "pa.session_id:  IJ1pm_Feb1_30Hz\n",
      "SELF SHIFT ID:  2\n",
      " using shift:  2\n",
      "DLC SHIFT Loaded:  5.74\n",
      "DLC shift :  5.74   in frames:  172  after subtracting lever shift:  -86\n",
      " triggers:  (26,)\n",
      " data:  (40000, 128, 128)\n",
      "(39160, 128, 128)\n",
      "X:  (39160, 16384)\n"
     ]
    },
    {
     "name": "stderr",
     "output_type": "stream",
     "text": [
      "\r",
      "  0%|          | 0/1 [00:00<?, ?it/s]"
     ]
    },
    {
     "name": "stdout",
     "output_type": "stream",
     "text": [
      " X data using :  30  number of frames  (1302, 491520)\n",
      " pca allpoints:  (1302, 10)\n",
      "1 107 10\n"
     ]
    },
    {
     "name": "stderr",
     "output_type": "stream",
     "text": [
      "100%|██████████| 1/1 [00:00<00:00,  1.77it/s]\n",
      "  0%|          | 0/1 [00:00<?, ?it/s]"
     ]
    },
    {
     "name": "stdout",
     "output_type": "stream",
     "text": [
      " pca p_levefr resahped:  (1, 104, 10)\n",
      "  body movement pa.p_lever projection:  (1, 104, 10)\n",
      "temp points:  (1302, 2)\n",
      "temp points:  (104, 2)\n",
      "plever:  (93, 2)\n",
      "1 100 10\n"
     ]
    },
    {
     "name": "stderr",
     "output_type": "stream",
     "text": [
      "100%|██████████| 1/1 [00:00<00:00,  1.80it/s]\n",
      "  0%|          | 0/1 [00:00<?, ?it/s]"
     ]
    },
    {
     "name": "stdout",
     "output_type": "stream",
     "text": [
      " pca p_levefr resahped:  (1, 97, 10)\n",
      "  body movement pa.p_lever projection:  (1, 97, 10)\n",
      "temp points:  (1302, 2)\n",
      "temp points:  (97, 2)\n",
      "plever:  (87, 2)\n",
      "1 100 10\n"
     ]
    },
    {
     "name": "stderr",
     "output_type": "stream",
     "text": [
      "100%|██████████| 1/1 [00:00<00:00,  1.73it/s]\n",
      "  0%|          | 0/1 [00:00<?, ?it/s]"
     ]
    },
    {
     "name": "stdout",
     "output_type": "stream",
     "text": [
      " pca p_levefr resahped:  (1, 96, 10)\n",
      "  body movement pa.p_lever projection:  (1, 96, 10)\n",
      "temp points:  (1302, 2)\n",
      "temp points:  (96, 2)\n",
      "plever:  (86, 2)\n",
      "1 86 10\n"
     ]
    },
    {
     "name": "stderr",
     "output_type": "stream",
     "text": [
      "100%|██████████| 1/1 [00:00<00:00,  1.97it/s]\n",
      "  0%|          | 0/1 [00:00<?, ?it/s]"
     ]
    },
    {
     "name": "stdout",
     "output_type": "stream",
     "text": [
      " pca p_levefr resahped:  (1, 82, 10)\n",
      "  body movement pa.p_lever projection:  (1, 82, 10)\n",
      "temp points:  (1302, 2)\n",
      "temp points:  (82, 2)\n",
      "plever:  (73, 2)\n",
      "1 95 10\n"
     ]
    },
    {
     "name": "stderr",
     "output_type": "stream",
     "text": [
      "100%|██████████| 1/1 [00:00<00:00,  1.77it/s]\n",
      "  0%|          | 0/1 [00:00<?, ?it/s]"
     ]
    },
    {
     "name": "stdout",
     "output_type": "stream",
     "text": [
      " pca p_levefr resahped:  (1, 92, 10)\n",
      "  body movement pa.p_lever projection:  (1, 92, 10)\n",
      "temp points:  (1302, 2)\n",
      "temp points:  (92, 2)\n",
      "plever:  (82, 2)\n",
      "FNAME LEVER:  /media/cat/4TBSSD/yuki/IJ1/tif_files/IJ1pm_Feb1_30Hz/IJ1pm_Feb1_30Hz_all_locs_selected.txt\n",
      "1 29 10\n"
     ]
    },
    {
     "name": "stderr",
     "output_type": "stream",
     "text": [
      "100%|██████████| 1/1 [00:00<00:00,  5.21it/s]\n",
      "/media/cat/4TBSSD/anaconda3/envs/wide/lib/python3.8/site-packages/numpy/core/_asarray.py:171: VisibleDeprecationWarning: Creating an ndarray from ragged nested sequences (which is a list-or-tuple of lists-or-tuples-or ndarrays with different lengths or shapes) is deprecated. If you meant to do this, you must specify 'dtype=object' when creating the ndarray.\n",
      "  return array(a, dtype, copy=False, order=order, subok=True)\n"
     ]
    },
    {
     "name": "stdout",
     "output_type": "stream",
     "text": [
      " pca p_levefr resahped:  (1, 29, 10)\n",
      "temp points:  (1302, 2)\n",
      "temp points:  (29, 2)\n",
      "plever:  (26, 2)\n",
      "pa.session_id 1:  IJ1pm_Feb2_30Hz\n",
      "session corrected:  IJ1pm_Feb2_30Hz\n",
      "(7,)\n",
      "['left_paw' 'right_paw' 'nose' 'jaw' 'right_ear' 'tongue' 'lever']\n",
      "pa.session_id 2:  IJ1pm_Feb2_30Hz\n",
      "starts:  [ 4.53333333 12.6        17.86666667 27.33333333 31.8        41.46666667\n",
      " 55.26666667 61.6        74.53333333 88.        ]\n",
      "lever offset:  71\n",
      "SESSIONS:  ['Feb1_', 'Feb2_', 'Feb3_', 'Feb4_', 'Feb5_', 'Feb9_', 'Feb10_', 'Feb11_', 'Feb12_', 'Feb16_']\n",
      "SHIFT IDS:  ['2', '0', '2', '2', '1', '2', '1', '2', '2', '2']\n",
      "pa.session_id:  IJ1pm_Feb2_30Hz\n",
      "SELF SHIFT ID:  0\n",
      " using shift:  0\n",
      "DLC SHIFT Loaded:  4.1\n",
      "DLC shift :  4.1   in frames:  122  after subtracting lever shift:  -51\n",
      " triggers:  (27,)\n",
      " data:  (40000, 128, 128)\n",
      "(39089, 128, 128)\n",
      "X:  (39089, 16384)\n"
     ]
    },
    {
     "name": "stderr",
     "output_type": "stream",
     "text": [
      "\r",
      "  0%|          | 0/1 [00:00<?, ?it/s]"
     ]
    },
    {
     "name": "stdout",
     "output_type": "stream",
     "text": [
      " X data using :  30  number of frames  (1300, 491520)\n",
      " pca allpoints:  (1300, 10)\n",
      "1 113 10\n"
     ]
    },
    {
     "name": "stderr",
     "output_type": "stream",
     "text": [
      "100%|██████████| 1/1 [00:00<00:00,  1.71it/s]\n",
      "  0%|          | 0/1 [00:00<?, ?it/s]"
     ]
    },
    {
     "name": "stdout",
     "output_type": "stream",
     "text": [
      " pca p_levefr resahped:  (1, 111, 10)\n",
      "  body movement pa.p_lever projection:  (1, 111, 10)\n",
      "temp points:  (1300, 2)\n",
      "temp points:  (111, 2)\n",
      "plever:  (100, 2)\n",
      "1 96 10\n"
     ]
    },
    {
     "name": "stderr",
     "output_type": "stream",
     "text": [
      "100%|██████████| 1/1 [00:00<00:00,  1.93it/s]\n",
      "  0%|          | 0/1 [00:00<?, ?it/s]"
     ]
    },
    {
     "name": "stdout",
     "output_type": "stream",
     "text": [
      " pca p_levefr resahped:  (1, 95, 10)\n",
      "  body movement pa.p_lever projection:  (1, 95, 10)\n",
      "temp points:  (1300, 2)\n",
      "temp points:  (95, 2)\n",
      "plever:  (85, 2)\n",
      "1 115 10\n"
     ]
    },
    {
     "name": "stderr",
     "output_type": "stream",
     "text": [
      "100%|██████████| 1/1 [00:00<00:00,  1.63it/s]\n",
      "  0%|          | 0/1 [00:00<?, ?it/s]"
     ]
    },
    {
     "name": "stdout",
     "output_type": "stream",
     "text": [
      " pca p_levefr resahped:  (1, 113, 10)\n",
      "  body movement pa.p_lever projection:  (1, 113, 10)\n",
      "temp points:  (1300, 2)\n",
      "temp points:  (113, 2)\n",
      "plever:  (101, 2)\n",
      "1 33 10\n"
     ]
    },
    {
     "name": "stderr",
     "output_type": "stream",
     "text": [
      "100%|██████████| 1/1 [00:00<00:00,  5.15it/s]\n",
      "  0%|          | 0/1 [00:00<?, ?it/s]"
     ]
    },
    {
     "name": "stdout",
     "output_type": "stream",
     "text": [
      " pca p_levefr resahped:  (1, 31, 10)\n",
      "  body movement pa.p_lever projection:  (1, 31, 10)\n",
      "temp points:  (1300, 2)\n",
      "temp points:  (31, 2)\n",
      "plever:  (28, 2)\n",
      "1 101 10\n"
     ]
    },
    {
     "name": "stderr",
     "output_type": "stream",
     "text": [
      "100%|██████████| 1/1 [00:00<00:00,  1.92it/s]\n",
      "  0%|          | 0/1 [00:00<?, ?it/s]"
     ]
    },
    {
     "name": "stdout",
     "output_type": "stream",
     "text": [
      " pca p_levefr resahped:  (1, 100, 10)\n",
      "  body movement pa.p_lever projection:  (1, 100, 10)\n",
      "temp points:  (1300, 2)\n",
      "temp points:  (100, 2)\n",
      "plever:  (90, 2)\n",
      "FNAME LEVER:  /media/cat/4TBSSD/yuki/IJ1/tif_files/IJ1pm_Feb2_30Hz/IJ1pm_Feb2_30Hz_all_locs_selected.txt\n",
      "1 31 10\n"
     ]
    },
    {
     "name": "stderr",
     "output_type": "stream",
     "text": [
      "100%|██████████| 1/1 [00:00<00:00,  5.28it/s]\n",
      "/media/cat/4TBSSD/anaconda3/envs/wide/lib/python3.8/site-packages/numpy/core/_asarray.py:171: VisibleDeprecationWarning: Creating an ndarray from ragged nested sequences (which is a list-or-tuple of lists-or-tuples-or ndarrays with different lengths or shapes) is deprecated. If you meant to do this, you must specify 'dtype=object' when creating the ndarray.\n",
      "  return array(a, dtype, copy=False, order=order, subok=True)\n"
     ]
    },
    {
     "name": "stdout",
     "output_type": "stream",
     "text": [
      " pca p_levefr resahped:  (1, 31, 10)\n",
      "temp points:  (1300, 2)\n",
      "temp points:  (31, 2)\n",
      "plever:  (28, 2)\n",
      "pa.session_id 1:  IJ1pm_Feb3_30Hz\n",
      "session corrected:  IJ1pm_Feb3_30Hz\n",
      "(7,)\n",
      "['left_paw' 'right_paw' 'nose' 'jaw' 'right_ear' 'tongue' 'lever']\n",
      "pa.session_id 2:  IJ1pm_Feb3_30Hz\n",
      "starts:  []\n",
      "lever offset:  81\n",
      "SESSIONS:  ['Feb1_', 'Feb2_', 'Feb3_', 'Feb4_', 'Feb5_', 'Feb9_', 'Feb10_', 'Feb11_', 'Feb12_', 'Feb16_']\n",
      "SHIFT IDS:  ['2', '0', '2', '2', '1', '2', '1', '2', '2', '2']\n",
      "pa.session_id:  IJ1pm_Feb3_30Hz\n",
      "SELF SHIFT ID:  2\n",
      " using shift:  2\n",
      "DLC SHIFT Loaded:  4.76\n",
      "DLC shift :  4.76   in frames:  142  after subtracting lever shift:  -61\n",
      " triggers:  (31,)\n",
      " data:  (40000, 128, 128)\n",
      "(39126, 128, 128)\n",
      "X:  (39126, 16384)\n"
     ]
    },
    {
     "name": "stderr",
     "output_type": "stream",
     "text": [
      "\r",
      "  0%|          | 0/1 [00:00<?, ?it/s]"
     ]
    },
    {
     "name": "stdout",
     "output_type": "stream",
     "text": [
      " X data using :  30  number of frames  (1301, 491520)\n",
      " pca allpoints:  (1301, 10)\n",
      "1 122 10\n"
     ]
    },
    {
     "name": "stderr",
     "output_type": "stream",
     "text": [
      "100%|██████████| 1/1 [00:00<00:00,  1.61it/s]\n",
      "100%|██████████| 1/1 [00:00<00:00,  8.67it/s]\n",
      "  0%|          | 0/1 [00:00<?, ?it/s]"
     ]
    },
    {
     "name": "stdout",
     "output_type": "stream",
     "text": [
      " pca p_levefr resahped:  (1, 120, 10)\n",
      "  body movement pa.p_lever projection:  (1, 120, 10)\n",
      "temp points:  (1301, 2)\n",
      "temp points:  (120, 2)\n",
      "plever:  (108, 2)\n",
      "1 11 10\n",
      " pca p_levefr resahped:  (1, 11, 10)\n",
      "  body movement pa.p_lever projection:  (1, 11, 10)\n",
      "temp points:  (1301, 2)\n",
      "temp points:  (11, 2)\n",
      "plever:  (10, 2)\n",
      "FNAME LEVER:  /media/cat/4TBSSD/yuki/IJ1/tif_files/IJ1pm_Feb3_30Hz/IJ1pm_Feb3_30Hz_all_locs_selected.txt\n",
      "1 43 10\n"
     ]
    },
    {
     "name": "stderr",
     "output_type": "stream",
     "text": [
      "100%|██████████| 1/1 [00:00<00:00,  4.23it/s]\n",
      "/media/cat/4TBSSD/anaconda3/envs/wide/lib/python3.8/site-packages/numpy/core/_asarray.py:171: VisibleDeprecationWarning: Creating an ndarray from ragged nested sequences (which is a list-or-tuple of lists-or-tuples-or ndarrays with different lengths or shapes) is deprecated. If you meant to do this, you must specify 'dtype=object' when creating the ndarray.\n",
      "  return array(a, dtype, copy=False, order=order, subok=True)\n"
     ]
    },
    {
     "name": "stdout",
     "output_type": "stream",
     "text": [
      " pca p_levefr resahped:  (1, 43, 10)\n",
      "temp points:  (1301, 2)\n",
      "temp points:  (43, 2)\n",
      "plever:  (38, 2)\n",
      "pa.session_id 1:  IJ1pm_Feb4_30Hz\n",
      "session corrected:  IJ1pm_Feb4_30Hz\n",
      "(7,)\n",
      "['left_paw' 'right_paw' 'nose' 'jaw' 'right_ear' 'tongue' 'lever']\n",
      "pa.session_id 2:  IJ1pm_Feb4_30Hz\n",
      "starts:  [ 23.2         29.06666667  37.73333333  51.46666667  57.86666667\n",
      "  65.          78.33333333  89.2         93.         102.53333333]\n",
      "lever offset:  63\n",
      "SESSIONS:  ['Feb1_', 'Feb2_', 'Feb3_', 'Feb4_', 'Feb5_', 'Feb9_', 'Feb10_', 'Feb11_', 'Feb12_', 'Feb16_']\n",
      "SHIFT IDS:  ['2', '0', '2', '2', '1', '2', '1', '2', '2', '2']\n",
      "pa.session_id:  IJ1pm_Feb4_30Hz\n",
      "SELF SHIFT ID:  2\n",
      " using shift:  2\n",
      "DLC SHIFT Loaded:  3.61\n",
      "DLC shift :  3.61   in frames:  108  after subtracting lever shift:  -45\n",
      " triggers:  (35,)\n",
      " data:  (40000, 128, 128)\n",
      "(39140, 128, 128)\n",
      "X:  (39140, 16384)\n"
     ]
    },
    {
     "name": "stderr",
     "output_type": "stream",
     "text": [
      "\r",
      "  0%|          | 0/1 [00:00<?, ?it/s]"
     ]
    },
    {
     "name": "stdout",
     "output_type": "stream",
     "text": [
      " X data using :  30  number of frames  (1302, 491520)\n",
      " pca allpoints:  (1302, 10)\n",
      "1 104 10\n"
     ]
    },
    {
     "name": "stderr",
     "output_type": "stream",
     "text": [
      "100%|██████████| 1/1 [00:00<00:00,  1.82it/s]\n",
      "  0%|          | 0/1 [00:00<?, ?it/s]"
     ]
    },
    {
     "name": "stdout",
     "output_type": "stream",
     "text": [
      " pca p_levefr resahped:  (1, 104, 10)\n",
      "  body movement pa.p_lever projection:  (1, 104, 10)\n",
      "temp points:  (1302, 2)\n",
      "temp points:  (104, 2)\n",
      "plever:  (93, 2)\n",
      "1 98 10\n"
     ]
    },
    {
     "name": "stderr",
     "output_type": "stream",
     "text": [
      "100%|██████████| 1/1 [00:00<00:00,  1.88it/s]\n",
      "  0%|          | 0/1 [00:00<?, ?it/s]"
     ]
    },
    {
     "name": "stdout",
     "output_type": "stream",
     "text": [
      " pca p_levefr resahped:  (1, 98, 10)\n",
      "  body movement pa.p_lever projection:  (1, 98, 10)\n",
      "temp points:  (1302, 2)\n",
      "temp points:  (98, 2)\n",
      "plever:  (88, 2)\n",
      "1 67 10\n"
     ]
    },
    {
     "name": "stderr",
     "output_type": "stream",
     "text": [
      "100%|██████████| 1/1 [00:00<00:00,  2.59it/s]\n",
      "  0%|          | 0/1 [00:00<?, ?it/s]"
     ]
    },
    {
     "name": "stdout",
     "output_type": "stream",
     "text": [
      " pca p_levefr resahped:  (1, 65, 10)\n",
      "  body movement pa.p_lever projection:  (1, 65, 10)\n",
      "temp points:  (1302, 2)\n",
      "temp points:  (65, 2)\n",
      "plever:  (58, 2)\n",
      "1 42 10\n"
     ]
    },
    {
     "name": "stderr",
     "output_type": "stream",
     "text": [
      "100%|██████████| 1/1 [00:00<00:00,  3.77it/s]\n",
      "  0%|          | 0/1 [00:00<?, ?it/s]"
     ]
    },
    {
     "name": "stdout",
     "output_type": "stream",
     "text": [
      " pca p_levefr resahped:  (1, 41, 10)\n",
      "  body movement pa.p_lever projection:  (1, 41, 10)\n",
      "temp points:  (1302, 2)\n",
      "temp points:  (41, 2)\n",
      "plever:  (37, 2)\n",
      "1 90 10\n"
     ]
    },
    {
     "name": "stderr",
     "output_type": "stream",
     "text": [
      "100%|██████████| 1/1 [00:00<00:00,  1.98it/s]\n",
      "  0%|          | 0/1 [00:00<?, ?it/s]"
     ]
    },
    {
     "name": "stdout",
     "output_type": "stream",
     "text": [
      " pca p_levefr resahped:  (1, 90, 10)\n",
      "  body movement pa.p_lever projection:  (1, 90, 10)\n",
      "temp points:  (1302, 2)\n",
      "temp points:  (90, 2)\n",
      "plever:  (81, 2)\n",
      "FNAME LEVER:  /media/cat/4TBSSD/yuki/IJ1/tif_files/IJ1pm_Feb4_30Hz/IJ1pm_Feb4_30Hz_all_locs_selected.txt\n",
      "1 38 10\n"
     ]
    },
    {
     "name": "stderr",
     "output_type": "stream",
     "text": [
      "100%|██████████| 1/1 [00:00<00:00,  4.20it/s]\n",
      "/media/cat/4TBSSD/anaconda3/envs/wide/lib/python3.8/site-packages/numpy/core/_asarray.py:171: VisibleDeprecationWarning: Creating an ndarray from ragged nested sequences (which is a list-or-tuple of lists-or-tuples-or ndarrays with different lengths or shapes) is deprecated. If you meant to do this, you must specify 'dtype=object' when creating the ndarray.\n",
      "  return array(a, dtype, copy=False, order=order, subok=True)\n"
     ]
    },
    {
     "name": "stdout",
     "output_type": "stream",
     "text": [
      " pca p_levefr resahped:  (1, 38, 10)\n",
      "temp points:  (1302, 2)\n",
      "temp points:  (38, 2)\n",
      "plever:  (34, 2)\n",
      "pa.session_id 1:  IJ1pm_Feb5_30Hz\n",
      "session corrected:  IJ1pm_Feb5_30Hz\n",
      "(7,)\n",
      "['left_paw' 'right_paw' 'nose' 'jaw' 'right_ear' 'tongue' 'lever']\n",
      "pa.session_id 2:  IJ1pm_Feb5_30Hz\n",
      "starts:  [ 19.2         25.8         39.93333333  49.93333333  55.33333333\n",
      "  61.26666667  74.93333333  88.8         93.86666667 104.13333333]\n",
      "lever offset:  64\n",
      "SESSIONS:  ['Feb1_', 'Feb2_', 'Feb3_', 'Feb4_', 'Feb5_', 'Feb9_', 'Feb10_', 'Feb11_', 'Feb12_', 'Feb16_']\n",
      "SHIFT IDS:  ['2', '0', '2', '2', '1', '2', '1', '2', '2', '2']\n",
      "pa.session_id:  IJ1pm_Feb5_30Hz\n",
      "SELF SHIFT ID:  1\n",
      " using shift:  1\n",
      "DLC SHIFT Loaded:  4.45\n",
      "DLC shift :  4.45   in frames:  133  after subtracting lever shift:  -69\n",
      " triggers:  (35,)\n",
      " data:  (40000, 128, 128)\n",
      "(39151, 128, 128)\n",
      "X:  (39151, 16384)\n"
     ]
    },
    {
     "name": "stderr",
     "output_type": "stream",
     "text": [
      "\r",
      "  0%|          | 0/1 [00:00<?, ?it/s]"
     ]
    },
    {
     "name": "stdout",
     "output_type": "stream",
     "text": [
      " X data using :  30  number of frames  (1302, 491520)\n",
      " pca allpoints:  (1302, 10)\n",
      "1 110 10\n"
     ]
    },
    {
     "name": "stderr",
     "output_type": "stream",
     "text": [
      "100%|██████████| 1/1 [00:00<00:00,  1.64it/s]\n",
      "  0%|          | 0/1 [00:00<?, ?it/s]"
     ]
    },
    {
     "name": "stdout",
     "output_type": "stream",
     "text": [
      " pca p_levefr resahped:  (1, 110, 10)\n",
      "  body movement pa.p_lever projection:  (1, 110, 10)\n",
      "temp points:  (1302, 2)\n",
      "temp points:  (110, 2)\n",
      "plever:  (99, 2)\n",
      "1 116 10\n"
     ]
    },
    {
     "name": "stderr",
     "output_type": "stream",
     "text": [
      "100%|██████████| 1/1 [00:00<00:00,  1.55it/s]\n",
      "  0%|          | 0/1 [00:00<?, ?it/s]"
     ]
    },
    {
     "name": "stdout",
     "output_type": "stream",
     "text": [
      " pca p_levefr resahped:  (1, 116, 10)\n",
      "  body movement pa.p_lever projection:  (1, 116, 10)\n",
      "temp points:  (1302, 2)\n",
      "temp points:  (116, 2)\n",
      "plever:  (104, 2)\n",
      "1 62 10\n"
     ]
    },
    {
     "name": "stderr",
     "output_type": "stream",
     "text": [
      "100%|██████████| 1/1 [00:00<00:00,  2.96it/s]\n",
      "  0%|          | 0/1 [00:00<?, ?it/s]"
     ]
    },
    {
     "name": "stdout",
     "output_type": "stream",
     "text": [
      " pca p_levefr resahped:  (1, 59, 10)\n",
      "  body movement pa.p_lever projection:  (1, 59, 10)\n",
      "temp points:  (1302, 2)\n",
      "temp points:  (59, 2)\n",
      "plever:  (53, 2)\n",
      "1 49 10\n"
     ]
    },
    {
     "name": "stderr",
     "output_type": "stream",
     "text": [
      "100%|██████████| 1/1 [00:00<00:00,  3.47it/s]\n",
      "  0%|          | 0/1 [00:00<?, ?it/s]"
     ]
    },
    {
     "name": "stdout",
     "output_type": "stream",
     "text": [
      " pca p_levefr resahped:  (1, 49, 10)\n",
      "  body movement pa.p_lever projection:  (1, 49, 10)\n",
      "temp points:  (1302, 2)\n",
      "temp points:  (49, 2)\n",
      "plever:  (44, 2)\n",
      "1 105 10\n"
     ]
    },
    {
     "name": "stderr",
     "output_type": "stream",
     "text": [
      "100%|██████████| 1/1 [00:00<00:00,  1.77it/s]\n",
      "  0%|          | 0/1 [00:00<?, ?it/s]"
     ]
    },
    {
     "name": "stdout",
     "output_type": "stream",
     "text": [
      " pca p_levefr resahped:  (1, 105, 10)\n",
      "  body movement pa.p_lever projection:  (1, 105, 10)\n",
      "temp points:  (1302, 2)\n",
      "temp points:  (105, 2)\n",
      "plever:  (94, 2)\n",
      "FNAME LEVER:  /media/cat/4TBSSD/yuki/IJ1/tif_files/IJ1pm_Feb5_30Hz/IJ1pm_Feb5_30Hz_all_locs_selected.txt\n",
      "1 44 10\n"
     ]
    },
    {
     "name": "stderr",
     "output_type": "stream",
     "text": [
      "100%|██████████| 1/1 [00:00<00:00,  3.80it/s]\n",
      "/media/cat/4TBSSD/anaconda3/envs/wide/lib/python3.8/site-packages/numpy/core/_asarray.py:171: VisibleDeprecationWarning: Creating an ndarray from ragged nested sequences (which is a list-or-tuple of lists-or-tuples-or ndarrays with different lengths or shapes) is deprecated. If you meant to do this, you must specify 'dtype=object' when creating the ndarray.\n",
      "  return array(a, dtype, copy=False, order=order, subok=True)\n"
     ]
    },
    {
     "name": "stdout",
     "output_type": "stream",
     "text": [
      " pca p_levefr resahped:  (1, 44, 10)\n",
      "temp points:  (1302, 2)\n",
      "temp points:  (44, 2)\n",
      "plever:  (39, 2)\n",
      "pa.session_id 1:  IJ1pm_Feb9_30Hz\n",
      "session corrected:  IJ1pm_Feb9_30Hz\n",
      "(7,)\n",
      "['left_paw' 'right_paw' 'nose' 'jaw' 'right_ear' 'tongue' 'lever']\n",
      "pa.session_id 2:  IJ1pm_Feb9_30Hz\n",
      "starts:  [  5.4         26.73333333  59.13333333  86.13333333  96.4\n",
      " 107.2        133.53333333 140.93333333 158.46666667 169.06666667]\n",
      "lever offset:  79\n",
      "SESSIONS:  ['Feb1_', 'Feb2_', 'Feb3_', 'Feb4_', 'Feb5_', 'Feb9_', 'Feb10_', 'Feb11_', 'Feb12_', 'Feb16_']\n",
      "SHIFT IDS:  ['2', '0', '2', '2', '1', '2', '1', '2', '2', '2']\n",
      "pa.session_id:  IJ1pm_Feb9_30Hz\n",
      "SELF SHIFT ID:  2\n",
      " using shift:  2\n",
      "DLC SHIFT Loaded:  4.52\n",
      "DLC shift :  4.52   in frames:  135  after subtracting lever shift:  -56\n",
      " triggers:  (41,)\n",
      " data:  (40000, 128, 128)\n",
      "(39109, 128, 128)\n",
      "X:  (39109, 16384)\n"
     ]
    },
    {
     "name": "stderr",
     "output_type": "stream",
     "text": [
      "\r",
      "  0%|          | 0/1 [00:00<?, ?it/s]"
     ]
    },
    {
     "name": "stdout",
     "output_type": "stream",
     "text": [
      " X data using :  30  number of frames  (1301, 491520)\n",
      " pca allpoints:  (1301, 10)\n",
      "1 117 10\n"
     ]
    },
    {
     "name": "stderr",
     "output_type": "stream",
     "text": [
      "100%|██████████| 1/1 [00:00<00:00,  1.77it/s]\n",
      "  0%|          | 0/1 [00:00<?, ?it/s]"
     ]
    },
    {
     "name": "stdout",
     "output_type": "stream",
     "text": [
      " pca p_levefr resahped:  (1, 112, 10)\n",
      "  body movement pa.p_lever projection:  (1, 112, 10)\n",
      "temp points:  (1301, 2)\n",
      "temp points:  (112, 2)\n",
      "plever:  (100, 2)\n",
      "1 106 10\n"
     ]
    },
    {
     "name": "stderr",
     "output_type": "stream",
     "text": [
      "100%|██████████| 1/1 [00:00<00:00,  1.80it/s]\n",
      "  0%|          | 0/1 [00:00<?, ?it/s]"
     ]
    },
    {
     "name": "stdout",
     "output_type": "stream",
     "text": [
      " pca p_levefr resahped:  (1, 102, 10)\n",
      "  body movement pa.p_lever projection:  (1, 102, 10)\n",
      "temp points:  (1301, 2)\n",
      "temp points:  (102, 2)\n",
      "plever:  (91, 2)\n",
      "1 93 10\n"
     ]
    },
    {
     "name": "stderr",
     "output_type": "stream",
     "text": [
      "100%|██████████| 1/1 [00:00<00:00,  2.10it/s]\n",
      "100%|██████████| 1/1 [00:00<00:00,  6.78it/s]\n",
      "  0%|          | 0/1 [00:00<?, ?it/s]"
     ]
    },
    {
     "name": "stdout",
     "output_type": "stream",
     "text": [
      " pca p_levefr resahped:  (1, 89, 10)\n",
      "  body movement pa.p_lever projection:  (1, 89, 10)\n",
      "temp points:  (1301, 2)\n",
      "temp points:  (89, 2)\n",
      "plever:  (80, 2)\n",
      "1 23 10\n",
      " pca p_levefr resahped:  (1, 20, 10)\n",
      "  body movement pa.p_lever projection:  (1, 20, 10)\n",
      "temp points:  (1301, 2)\n",
      "temp points:  (20, 2)\n",
      "plever:  (18, 2)\n",
      "1 153 10\n"
     ]
    },
    {
     "name": "stderr",
     "output_type": "stream",
     "text": [
      "100%|██████████| 1/1 [00:00<00:00,  1.23it/s]\n",
      "  0%|          | 0/1 [00:00<?, ?it/s]"
     ]
    },
    {
     "name": "stdout",
     "output_type": "stream",
     "text": [
      " pca p_levefr resahped:  (1, 147, 10)\n",
      "  body movement pa.p_lever projection:  (1, 147, 10)\n",
      "temp points:  (1301, 2)\n",
      "temp points:  (147, 2)\n",
      "plever:  (132, 2)\n",
      "FNAME LEVER:  /media/cat/4TBSSD/yuki/IJ1/tif_files/IJ1pm_Feb9_30Hz/IJ1pm_Feb9_30Hz_all_locs_selected.txt\n",
      "1 43 10\n"
     ]
    },
    {
     "name": "stderr",
     "output_type": "stream",
     "text": [
      "100%|██████████| 1/1 [00:00<00:00,  3.86it/s]\n",
      "/media/cat/4TBSSD/anaconda3/envs/wide/lib/python3.8/site-packages/numpy/core/_asarray.py:171: VisibleDeprecationWarning: Creating an ndarray from ragged nested sequences (which is a list-or-tuple of lists-or-tuples-or ndarrays with different lengths or shapes) is deprecated. If you meant to do this, you must specify 'dtype=object' when creating the ndarray.\n",
      "  return array(a, dtype, copy=False, order=order, subok=True)\n"
     ]
    },
    {
     "name": "stdout",
     "output_type": "stream",
     "text": [
      " pca p_levefr resahped:  (1, 43, 10)\n",
      "temp points:  (1301, 2)\n",
      "temp points:  (43, 2)\n",
      "plever:  (38, 2)\n",
      "pa.session_id 1:  IJ1pm_Feb10_30Hz\n",
      "session corrected:  IJ1pm_Feb10_30Hz\n",
      "(7,)\n",
      "['left_paw' 'right_paw' 'nose' 'jaw' 'right_ear' 'tongue' 'lever']\n",
      "pa.session_id 2:  IJ1pm_Feb10_30Hz\n",
      "starts:  [  3.4         46.93333333  57.33333333  75.46666667  83.13333333\n",
      "  93.46666667 101.06666667 104.86666667 114.06666667 117.6       ]\n",
      "lever offset:  64\n",
      "SESSIONS:  ['Feb1_', 'Feb2_', 'Feb3_', 'Feb4_', 'Feb5_', 'Feb9_', 'Feb10_', 'Feb11_', 'Feb12_', 'Feb16_']\n",
      "SHIFT IDS:  ['2', '0', '2', '2', '1', '2', '1', '2', '2', '2']\n",
      "pa.session_id:  IJ1pm_Feb10_30Hz\n",
      "SELF SHIFT ID:  1\n",
      " using shift:  1\n",
      "DLC SHIFT Loaded:  3.74\n",
      "DLC shift :  3.74   in frames:  112  after subtracting lever shift:  -48\n",
      " triggers:  (43,)\n",
      " data:  (40000, 128, 128)\n",
      "(39291, 128, 128)\n",
      "X:  (39291, 16384)\n"
     ]
    },
    {
     "name": "stderr",
     "output_type": "stream",
     "text": [
      "\r",
      "  0%|          | 0/1 [00:00<?, ?it/s]"
     ]
    },
    {
     "name": "stdout",
     "output_type": "stream",
     "text": [
      " X data using :  30  number of frames  (1307, 491520)\n",
      " pca allpoints:  (1307, 10)\n",
      "1 130 10\n"
     ]
    },
    {
     "name": "stderr",
     "output_type": "stream",
     "text": [
      "100%|██████████| 1/1 [00:00<00:00,  1.44it/s]\n",
      "  0%|          | 0/1 [00:00<?, ?it/s]"
     ]
    },
    {
     "name": "stdout",
     "output_type": "stream",
     "text": [
      " pca p_levefr resahped:  (1, 128, 10)\n",
      "  body movement pa.p_lever projection:  (1, 128, 10)\n",
      "temp points:  (1307, 2)\n",
      "temp points:  (128, 2)\n",
      "plever:  (115, 2)\n",
      "1 112 10\n"
     ]
    },
    {
     "name": "stderr",
     "output_type": "stream",
     "text": [
      "100%|██████████| 1/1 [00:00<00:00,  1.59it/s]\n",
      "  0%|          | 0/1 [00:00<?, ?it/s]"
     ]
    },
    {
     "name": "stdout",
     "output_type": "stream",
     "text": [
      " pca p_levefr resahped:  (1, 110, 10)\n",
      "  body movement pa.p_lever projection:  (1, 110, 10)\n",
      "temp points:  (1307, 2)\n",
      "temp points:  (110, 2)\n",
      "plever:  (99, 2)\n",
      "1 120 10\n"
     ]
    },
    {
     "name": "stderr",
     "output_type": "stream",
     "text": [
      "100%|██████████| 1/1 [00:00<00:00,  1.54it/s]\n",
      "  0%|          | 0/1 [00:00<?, ?it/s]"
     ]
    },
    {
     "name": "stdout",
     "output_type": "stream",
     "text": [
      " pca p_levefr resahped:  (1, 117, 10)\n",
      "  body movement pa.p_lever projection:  (1, 117, 10)\n",
      "temp points:  (1307, 2)\n",
      "temp points:  (117, 2)\n",
      "plever:  (105, 2)\n",
      "1 41 10\n"
     ]
    },
    {
     "name": "stderr",
     "output_type": "stream",
     "text": [
      "100%|██████████| 1/1 [00:00<00:00,  4.38it/s]\n",
      "  0%|          | 0/1 [00:00<?, ?it/s]"
     ]
    },
    {
     "name": "stdout",
     "output_type": "stream",
     "text": [
      " pca p_levefr resahped:  (1, 39, 10)\n",
      "  body movement pa.p_lever projection:  (1, 39, 10)\n",
      "temp points:  (1307, 2)\n",
      "temp points:  (39, 2)\n",
      "plever:  (35, 2)\n",
      "1 143 10\n"
     ]
    },
    {
     "name": "stderr",
     "output_type": "stream",
     "text": [
      "100%|██████████| 1/1 [00:01<00:00,  1.01s/it]\n",
      "  0%|          | 0/1 [00:00<?, ?it/s]"
     ]
    },
    {
     "name": "stdout",
     "output_type": "stream",
     "text": [
      " pca p_levefr resahped:  (1, 142, 10)\n",
      "  body movement pa.p_lever projection:  (1, 142, 10)\n",
      "temp points:  (1307, 2)\n",
      "temp points:  (142, 2)\n",
      "plever:  (127, 2)\n",
      "FNAME LEVER:  /media/cat/4TBSSD/yuki/IJ1/tif_files/IJ1pm_Feb10_30Hz/IJ1pm_Feb10_30Hz_all_locs_selected.txt\n",
      "1 54 10\n"
     ]
    },
    {
     "name": "stderr",
     "output_type": "stream",
     "text": [
      "100%|██████████| 1/1 [00:00<00:00,  3.18it/s]\n",
      "/media/cat/4TBSSD/anaconda3/envs/wide/lib/python3.8/site-packages/numpy/core/_asarray.py:171: VisibleDeprecationWarning: Creating an ndarray from ragged nested sequences (which is a list-or-tuple of lists-or-tuples-or ndarrays with different lengths or shapes) is deprecated. If you meant to do this, you must specify 'dtype=object' when creating the ndarray.\n",
      "  return array(a, dtype, copy=False, order=order, subok=True)\n"
     ]
    },
    {
     "name": "stdout",
     "output_type": "stream",
     "text": [
      " pca p_levefr resahped:  (1, 54, 10)\n",
      "temp points:  (1307, 2)\n",
      "temp points:  (54, 2)\n",
      "plever:  (48, 2)\n",
      "pa.session_id 1:  IJ1pm_Feb11_30Hz\n",
      "session corrected:  IJ1pm_Feb11_30Hz\n",
      "(7,)\n",
      "['left_paw' 'right_paw' 'nose' 'jaw' 'right_ear' 'tongue' 'lever']\n",
      "pa.session_id 2:  IJ1pm_Feb11_30Hz\n",
      "starts:  [ 47.33333333  60.66666667  66.93333333  71.6         81.13333333\n",
      "  90.          99.2        119.93333333 130.13333333 140.33333333]\n",
      "lever offset:  72\n",
      "SESSIONS:  ['Feb1_', 'Feb2_', 'Feb3_', 'Feb4_', 'Feb5_', 'Feb9_', 'Feb10_', 'Feb11_', 'Feb12_', 'Feb16_']\n",
      "SHIFT IDS:  ['2', '0', '2', '2', '1', '2', '1', '2', '2', '2']\n",
      "pa.session_id:  IJ1pm_Feb11_30Hz\n",
      "SELF SHIFT ID:  2\n",
      " using shift:  2\n",
      "DLC SHIFT Loaded:  4.55\n",
      "DLC shift :  4.55   in frames:  136  after subtracting lever shift:  -64\n",
      " triggers:  (38,)\n",
      " data:  (40000, 128, 128)\n",
      "(39072, 128, 128)\n",
      "X:  (39072, 16384)\n"
     ]
    },
    {
     "name": "stderr",
     "output_type": "stream",
     "text": [
      "\r",
      "  0%|          | 0/1 [00:00<?, ?it/s]"
     ]
    },
    {
     "name": "stdout",
     "output_type": "stream",
     "text": [
      " X data using :  30  number of frames  (1300, 491520)\n",
      " pca allpoints:  (1300, 10)\n",
      "1 88 10\n"
     ]
    },
    {
     "name": "stderr",
     "output_type": "stream",
     "text": [
      "100%|██████████| 1/1 [00:00<00:00,  2.12it/s]\n",
      "  0%|          | 0/1 [00:00<?, ?it/s]"
     ]
    },
    {
     "name": "stdout",
     "output_type": "stream",
     "text": [
      " pca p_levefr resahped:  (1, 86, 10)\n",
      "  body movement pa.p_lever projection:  (1, 86, 10)\n",
      "temp points:  (1300, 2)\n",
      "temp points:  (86, 2)\n",
      "plever:  (77, 2)\n",
      "1 116 10\n"
     ]
    },
    {
     "name": "stderr",
     "output_type": "stream",
     "text": [
      "100%|██████████| 1/1 [00:00<00:00,  1.51it/s]\n",
      "  0%|          | 0/1 [00:00<?, ?it/s]"
     ]
    },
    {
     "name": "stdout",
     "output_type": "stream",
     "text": [
      " pca p_levefr resahped:  (1, 113, 10)\n",
      "  body movement pa.p_lever projection:  (1, 113, 10)\n",
      "temp points:  (1300, 2)\n",
      "temp points:  (113, 2)\n",
      "plever:  (101, 2)\n",
      "1 65 10\n"
     ]
    },
    {
     "name": "stderr",
     "output_type": "stream",
     "text": [
      "100%|██████████| 1/1 [00:00<00:00,  2.83it/s]\n",
      "  0%|          | 0/1 [00:00<?, ?it/s]"
     ]
    },
    {
     "name": "stdout",
     "output_type": "stream",
     "text": [
      " pca p_levefr resahped:  (1, 62, 10)\n",
      "  body movement pa.p_lever projection:  (1, 62, 10)\n",
      "temp points:  (1300, 2)\n",
      "temp points:  (62, 2)\n",
      "plever:  (55, 2)\n",
      "1 46 10\n"
     ]
    },
    {
     "name": "stderr",
     "output_type": "stream",
     "text": [
      "100%|██████████| 1/1 [00:00<00:00,  3.84it/s]\n",
      "  0%|          | 0/1 [00:00<?, ?it/s]"
     ]
    },
    {
     "name": "stdout",
     "output_type": "stream",
     "text": [
      " pca p_levefr resahped:  (1, 42, 10)\n",
      "  body movement pa.p_lever projection:  (1, 42, 10)\n",
      "temp points:  (1300, 2)\n",
      "temp points:  (42, 2)\n",
      "plever:  (37, 2)\n",
      "1 113 10\n"
     ]
    },
    {
     "name": "stderr",
     "output_type": "stream",
     "text": [
      "100%|██████████| 1/1 [00:00<00:00,  1.61it/s]\n",
      "  0%|          | 0/1 [00:00<?, ?it/s]"
     ]
    },
    {
     "name": "stdout",
     "output_type": "stream",
     "text": [
      " pca p_levefr resahped:  (1, 111, 10)\n",
      "  body movement pa.p_lever projection:  (1, 111, 10)\n",
      "temp points:  (1300, 2)\n",
      "temp points:  (111, 2)\n",
      "plever:  (100, 2)\n",
      "FNAME LEVER:  /media/cat/4TBSSD/yuki/IJ1/tif_files/IJ1pm_Feb11_30Hz/IJ1pm_Feb11_30Hz_all_locs_selected.txt\n",
      "1 49 10\n"
     ]
    },
    {
     "name": "stderr",
     "output_type": "stream",
     "text": [
      "100%|██████████| 1/1 [00:00<00:00,  2.89it/s]\n",
      "/media/cat/4TBSSD/anaconda3/envs/wide/lib/python3.8/site-packages/numpy/core/_asarray.py:171: VisibleDeprecationWarning: Creating an ndarray from ragged nested sequences (which is a list-or-tuple of lists-or-tuples-or ndarrays with different lengths or shapes) is deprecated. If you meant to do this, you must specify 'dtype=object' when creating the ndarray.\n",
      "  return array(a, dtype, copy=False, order=order, subok=True)\n"
     ]
    },
    {
     "name": "stdout",
     "output_type": "stream",
     "text": [
      " pca p_levefr resahped:  (1, 49, 10)\n",
      "temp points:  (1300, 2)\n",
      "temp points:  (49, 2)\n",
      "plever:  (44, 2)\n",
      "pa.session_id 1:  IJ1pm_Feb12_30Hz\n",
      "session corrected:  IJ1pm_Feb12_30Hz\n",
      "(7,)\n",
      "['left_paw' 'right_paw' 'nose' 'jaw' 'right_ear' 'tongue' 'lever']\n",
      "pa.session_id 2:  IJ1pm_Feb12_30Hz\n",
      "starts:  [  7.          29.66666667  48.66666667  60.93333333  69.26666667\n",
      "  96.13333333 100.6        107.2        111.         121.33333333]\n",
      "lever offset:  93\n",
      "SESSIONS:  ['Feb1_', 'Feb2_', 'Feb3_', 'Feb4_', 'Feb5_', 'Feb9_', 'Feb10_', 'Feb11_', 'Feb12_', 'Feb16_']\n",
      "SHIFT IDS:  ['2', '0', '2', '2', '1', '2', '1', '2', '2', '2']\n",
      "pa.session_id:  IJ1pm_Feb12_30Hz\n",
      "SELF SHIFT ID:  2\n",
      " using shift:  2\n",
      "DLC SHIFT Loaded:  4.94\n",
      "DLC shift :  4.94   in frames:  148  after subtracting lever shift:  -55\n",
      " triggers:  (54,)\n",
      " data:  (40000, 128, 128)\n",
      "(39192, 128, 128)\n",
      "X:  (39192, 16384)\n"
     ]
    },
    {
     "name": "stderr",
     "output_type": "stream",
     "text": [
      "\r",
      "  0%|          | 0/1 [00:00<?, ?it/s]"
     ]
    },
    {
     "name": "stdout",
     "output_type": "stream",
     "text": [
      " X data using :  30  number of frames  (1304, 491520)\n",
      " pca allpoints:  (1304, 10)\n",
      "1 125 10\n"
     ]
    },
    {
     "name": "stderr",
     "output_type": "stream",
     "text": [
      "100%|██████████| 1/1 [00:00<00:00,  1.45it/s]\n",
      "  0%|          | 0/1 [00:00<?, ?it/s]"
     ]
    },
    {
     "name": "stdout",
     "output_type": "stream",
     "text": [
      " pca p_levefr resahped:  (1, 123, 10)\n",
      "  body movement pa.p_lever projection:  (1, 123, 10)\n",
      "temp points:  (1304, 2)\n",
      "temp points:  (123, 2)\n",
      "plever:  (110, 2)\n",
      "1 95 10\n"
     ]
    },
    {
     "name": "stderr",
     "output_type": "stream",
     "text": [
      "100%|██████████| 1/1 [00:00<00:00,  1.90it/s]\n",
      "  0%|          | 0/1 [00:00<?, ?it/s]"
     ]
    },
    {
     "name": "stdout",
     "output_type": "stream",
     "text": [
      " pca p_levefr resahped:  (1, 93, 10)\n",
      "  body movement pa.p_lever projection:  (1, 93, 10)\n",
      "temp points:  (1304, 2)\n",
      "temp points:  (93, 2)\n",
      "plever:  (83, 2)\n",
      "1 103 10\n"
     ]
    },
    {
     "name": "stderr",
     "output_type": "stream",
     "text": [
      "100%|██████████| 1/1 [00:00<00:00,  1.77it/s]\n",
      "  0%|          | 0/1 [00:00<?, ?it/s]"
     ]
    },
    {
     "name": "stdout",
     "output_type": "stream",
     "text": [
      " pca p_levefr resahped:  (1, 101, 10)\n",
      "  body movement pa.p_lever projection:  (1, 101, 10)\n",
      "temp points:  (1304, 2)\n",
      "temp points:  (101, 2)\n",
      "plever:  (91, 2)\n",
      "1 47 10\n"
     ]
    },
    {
     "name": "stderr",
     "output_type": "stream",
     "text": [
      "100%|██████████| 1/1 [00:00<00:00,  3.46it/s]\n",
      "  0%|          | 0/1 [00:00<?, ?it/s]"
     ]
    },
    {
     "name": "stdout",
     "output_type": "stream",
     "text": [
      " pca p_levefr resahped:  (1, 45, 10)\n",
      "  body movement pa.p_lever projection:  (1, 45, 10)\n",
      "temp points:  (1304, 2)\n",
      "temp points:  (45, 2)\n",
      "plever:  (40, 2)\n",
      "1 166 10\n"
     ]
    },
    {
     "name": "stderr",
     "output_type": "stream",
     "text": [
      "100%|██████████| 1/1 [00:00<00:00,  1.10it/s]\n",
      "  0%|          | 0/1 [00:00<?, ?it/s]"
     ]
    },
    {
     "name": "stdout",
     "output_type": "stream",
     "text": [
      " pca p_levefr resahped:  (1, 164, 10)\n",
      "  body movement pa.p_lever projection:  (1, 164, 10)\n",
      "temp points:  (1304, 2)\n",
      "temp points:  (164, 2)\n",
      "plever:  (147, 2)\n",
      "FNAME LEVER:  /media/cat/4TBSSD/yuki/IJ1/tif_files/IJ1pm_Feb12_30Hz/IJ1pm_Feb12_30Hz_all_locs_selected.txt\n",
      "1 57 10\n"
     ]
    },
    {
     "name": "stderr",
     "output_type": "stream",
     "text": [
      "100%|██████████| 1/1 [00:00<00:00,  2.81it/s]\n",
      "/media/cat/4TBSSD/anaconda3/envs/wide/lib/python3.8/site-packages/numpy/core/_asarray.py:171: VisibleDeprecationWarning: Creating an ndarray from ragged nested sequences (which is a list-or-tuple of lists-or-tuples-or ndarrays with different lengths or shapes) is deprecated. If you meant to do this, you must specify 'dtype=object' when creating the ndarray.\n",
      "  return array(a, dtype, copy=False, order=order, subok=True)\n"
     ]
    },
    {
     "name": "stdout",
     "output_type": "stream",
     "text": [
      " pca p_levefr resahped:  (1, 57, 10)\n",
      "temp points:  (1304, 2)\n",
      "temp points:  (57, 2)\n",
      "plever:  (51, 2)\n",
      "pa.session_id 1:  IJ1pm_Feb16_30Hz\n",
      "session corrected:  IJ1pm_Feb16_30Hz\n",
      "(7,)\n",
      "['left_paw' 'right_paw' 'nose' 'jaw' 'right_ear' 'tongue' 'lever']\n",
      "pa.session_id 2:  IJ1pm_Feb16_30Hz\n",
      "starts:  [ 4.86666667 17.53333333 25.         32.46666667 39.53333333 46.46666667\n",
      " 51.73333333 62.26666667 74.73333333 86.73333333]\n",
      "lever offset:  76\n",
      "SESSIONS:  ['Feb1_', 'Feb2_', 'Feb3_', 'Feb4_', 'Feb5_', 'Feb9_', 'Feb10_', 'Feb11_', 'Feb12_', 'Feb16_']\n",
      "SHIFT IDS:  ['2', '0', '2', '2', '1', '2', '1', '2', '2', '2']\n",
      "pa.session_id:  IJ1pm_Feb16_30Hz\n",
      "SELF SHIFT ID:  2\n",
      " using shift:  2\n",
      "DLC SHIFT Loaded:  5.78\n",
      "DLC shift :  5.78   in frames:  173  after subtracting lever shift:  -97\n",
      " triggers:  (31,)\n",
      " data:  (40000, 128, 128)\n",
      "(39400, 128, 128)\n",
      "X:  (39400, 16384)\n"
     ]
    },
    {
     "name": "stderr",
     "output_type": "stream",
     "text": [
      "\r",
      "  0%|          | 0/1 [00:00<?, ?it/s]"
     ]
    },
    {
     "name": "stdout",
     "output_type": "stream",
     "text": [
      " X data using :  30  number of frames  (1310, 491520)\n",
      " pca allpoints:  (1310, 10)\n",
      "1 57 10\n"
     ]
    },
    {
     "name": "stderr",
     "output_type": "stream",
     "text": [
      "100%|██████████| 1/1 [00:00<00:00,  3.21it/s]\n",
      "  0%|          | 0/1 [00:00<?, ?it/s]"
     ]
    },
    {
     "name": "stdout",
     "output_type": "stream",
     "text": [
      " pca p_levefr resahped:  (1, 55, 10)\n",
      "  body movement pa.p_lever projection:  (1, 55, 10)\n",
      "temp points:  (1310, 2)\n",
      "temp points:  (55, 2)\n",
      "plever:  (49, 2)\n",
      "1 55 10\n"
     ]
    },
    {
     "name": "stderr",
     "output_type": "stream",
     "text": [
      "100%|██████████| 1/1 [00:00<00:00,  3.25it/s]\n",
      "  0%|          | 0/1 [00:00<?, ?it/s]"
     ]
    },
    {
     "name": "stdout",
     "output_type": "stream",
     "text": [
      " pca p_levefr resahped:  (1, 52, 10)\n",
      "  body movement pa.p_lever projection:  (1, 52, 10)\n",
      "temp points:  (1310, 2)\n",
      "temp points:  (52, 2)\n",
      "plever:  (46, 2)\n",
      "1 61 10\n"
     ]
    },
    {
     "name": "stderr",
     "output_type": "stream",
     "text": [
      "100%|██████████| 1/1 [00:00<00:00,  2.89it/s]\n",
      "  0%|          | 0/1 [00:00<?, ?it/s]"
     ]
    },
    {
     "name": "stdout",
     "output_type": "stream",
     "text": [
      " pca p_levefr resahped:  (1, 59, 10)\n",
      "  body movement pa.p_lever projection:  (1, 59, 10)\n",
      "temp points:  (1310, 2)\n",
      "temp points:  (59, 2)\n",
      "plever:  (53, 2)\n",
      "1 45 10\n"
     ]
    },
    {
     "name": "stderr",
     "output_type": "stream",
     "text": [
      "100%|██████████| 1/1 [00:00<00:00,  3.83it/s]\n",
      "  0%|          | 0/1 [00:00<?, ?it/s]"
     ]
    },
    {
     "name": "stdout",
     "output_type": "stream",
     "text": [
      " pca p_levefr resahped:  (1, 43, 10)\n",
      "  body movement pa.p_lever projection:  (1, 43, 10)\n",
      "temp points:  (1310, 2)\n",
      "temp points:  (43, 2)\n",
      "plever:  (38, 2)\n",
      "1 132 10\n"
     ]
    },
    {
     "name": "stderr",
     "output_type": "stream",
     "text": [
      "100%|██████████| 1/1 [00:00<00:00,  1.44it/s]\n",
      "  0%|          | 0/1 [00:00<?, ?it/s]"
     ]
    },
    {
     "name": "stdout",
     "output_type": "stream",
     "text": [
      " pca p_levefr resahped:  (1, 127, 10)\n",
      "  body movement pa.p_lever projection:  (1, 127, 10)\n",
      "temp points:  (1310, 2)\n",
      "temp points:  (127, 2)\n",
      "plever:  (114, 2)\n",
      "FNAME LEVER:  /media/cat/4TBSSD/yuki/IJ1/tif_files/IJ1pm_Feb16_30Hz/IJ1pm_Feb16_30Hz_all_locs_selected.txt\n",
      "1 31 10\n"
     ]
    },
    {
     "name": "stderr",
     "output_type": "stream",
     "text": [
      "100%|██████████| 1/1 [00:00<00:00,  5.26it/s]\n",
      "/media/cat/4TBSSD/anaconda3/envs/wide/lib/python3.8/site-packages/numpy/core/_asarray.py:171: VisibleDeprecationWarning: Creating an ndarray from ragged nested sequences (which is a list-or-tuple of lists-or-tuples-or ndarrays with different lengths or shapes) is deprecated. If you meant to do this, you must specify 'dtype=object' when creating the ndarray.\n",
      "  return array(a, dtype, copy=False, order=order, subok=True)\n"
     ]
    },
    {
     "name": "stdout",
     "output_type": "stream",
     "text": [
      " pca p_levefr resahped:  (1, 31, 10)\n",
      "temp points:  (1310, 2)\n",
      "temp points:  (31, 2)\n",
      "plever:  (28, 2)\n",
      "pa.session_id 1:  IJ1pm_Feb17_30Hz\n",
      "session corrected:  IJ1pm_Feb17_30Hz\n",
      " No video/3sec movement files...\n",
      "pa.session_id 1:  IJ1pm_Feb18_30Hz\n",
      "session corrected:  IJ1pm_Feb18_30Hz\n",
      " No video/3sec movement files...\n",
      "pa.session_id 1:  IJ1pm_Feb19_30Hz\n",
      "session corrected:  IJ1pm_Feb19_30Hz\n",
      " No video/3sec movement files...\n",
      "pa.session_id 1:  IJ1pm_Feb22_30Hz\n",
      "session corrected:  IJ1pm_Feb22_30Hz\n",
      " No video/3sec movement files...\n",
      "pa.session_id 1:  IJ1pm_Feb23_30Hz\n",
      "session corrected:  IJ1pm_Feb23_30Hz\n",
      " No video/3sec movement files...\n",
      "pa.session_id 1:  IJ1pm_Feb24_30Hz\n",
      "session corrected:  IJ1pm_Feb24_30Hz\n",
      " No video/3sec movement files...\n",
      "pa.session_id 1:  IJ1pm_Feb25_30Hz\n",
      "session corrected:  IJ1pm_Feb25_30Hz\n",
      " No video/3sec movement files...\n",
      "pa.session_id 1:  IJ1pm_Feb26_30Hz\n",
      "session corrected:  IJ1pm_Feb26_30Hz\n",
      " No video/3sec movement files...\n",
      "pa.session_id 1:  IJ1pm_Feb29_30Hz\n",
      "session corrected:  IJ1pm_Feb29_30Hz\n",
      " No video/3sec movement files...\n",
      "pa.session_id 1:  IJ1pm_Mar1_30Hz\n",
      "session corrected:  IJ1pm_Mar1_30Hz\n",
      " No video/3sec movement files...\n",
      "pa.session_id 1:  IJ1pm_Mar2_30Hz\n",
      "session corrected:  IJ1pm_Mar2_30Hz\n",
      " No video/3sec movement files...\n",
      "pa.session_id 1:  IJ1pm_Mar3_30Hz\n",
      "session corrected:  IJ1pm_Mar3_30Hz\n",
      " No video/3sec movement files...\n",
      "pa.session_id 1:  IJ1am_Mar7_30Hz\n",
      "session corrected:  IJ1am_Mar7_30Hz\n",
      " No video/3sec movement files...\n",
      "pa.session_id 1:  IJ1pm_Mar8_30Hz\n",
      "session corrected:  IJ1pm_Mar8_30Hz\n",
      " No video/3sec movement files...\n",
      "pa.session_id 1:  IJ1am_Mar9_30Hz\n",
      "session corrected:  IJ1am_Mar9_30Hz\n",
      " No video/3sec movement files...\n",
      "pa.session_id 1:  IJ1am_Mar10_30Hz\n",
      "session corrected:  IJ1am_Mar10_30Hz\n",
      " No video/3sec movement files...\n",
      "pa.session_id 1:  IJ1am_Mar11_30Hz\n",
      "session corrected:  IJ1am_Mar11_30Hz\n",
      " No video/3sec movement files...\n",
      "pa.session_id 1:  IJ1pm_Mar14_30Hz\n",
      "session corrected:  IJ1pm_Mar14_30Hz\n",
      " No video/3sec movement files...\n",
      "pa.session_id 1:  IJ1am_Mar15_30Hz\n",
      "session corrected:  IJ1am_Mar15_30Hz\n",
      " No video/3sec movement files...\n",
      "pa.session_id 1:  IJ1pm_Mar16_30Hz\n",
      "session corrected:  IJ1pm_Mar16_30Hz\n",
      " No video/3sec movement files...\n",
      "pa.session_id 1:  IJ1pm_Mar17_30Hz\n",
      "session corrected:  IJ1pm_Mar17_30Hz\n",
      " No video/3sec movement files...\n",
      "pa.session_id 1:  IJ1pm_Mar18_30Hz\n",
      "session corrected:  IJ1pm_Mar18_30Hz\n",
      " No video/3sec movement files...\n",
      "pa.session_id 1:  IJ1pm_Mar21_30Hz\n",
      "session corrected:  IJ1pm_Mar21_30Hz\n",
      " No video/3sec movement files...\n",
      "pa.session_id 1:  IJ1pm_Mar22_30Hz\n",
      "session corrected:  IJ1pm_Mar22_30Hz\n",
      " No video/3sec movement files...\n",
      "pa.session_id 1:  IJ1pm_Mar23_30Hz\n",
      "session corrected:  IJ1pm_Mar23_30Hz\n",
      " No video/3sec movement files...\n",
      "pa.session_id 1:  IJ1pm_Mar24_30Hz\n",
      "session corrected:  IJ1pm_Mar24_30Hz\n",
      " No video/3sec movement files...\n",
      "pa.session_id 1:  IJ1pm_Mar29_30Hz\n",
      "session corrected:  IJ1pm_Mar29_30Hz\n",
      " No video/3sec movement files...\n",
      "pa.session_id 1:  IJ1pm_Mar30_30Hz\n",
      "session corrected:  IJ1pm_Mar30_30Hz\n",
      " No video/3sec movement files...\n",
      "pa.session_id 1:  IJ1pm_Mar31_30Hz\n",
      "session corrected:  IJ1pm_Mar31_30Hz\n",
      " No video/3sec movement files...\n",
      "pa.session_id 1:  IJ1pm_Apr1_30Hz\n",
      "session corrected:  IJ1pm_Apr1_30Hz\n",
      " No video/3sec movement files...\n",
      "pa.session_id 1:  IJ1pm_Apr4_30Hz\n",
      "session corrected:  IJ1pm_Apr4_30Hz\n",
      " No video/3sec movement files...\n",
      "pa.session_id 1:  IJ1pm_Apr5_30Hz\n",
      "session corrected:  IJ1pm_Apr5_30Hz\n",
      " No video/3sec movement files...\n",
      "pa.session_id 1:  IJ1pm_Apr6_30Hz\n",
      "session corrected:  IJ1pm_Apr6_30Hz\n",
      " No video/3sec movement files...\n",
      "pa.session_id 1:  IJ1pm_Apr7_30Hz\n",
      "session corrected:  IJ1pm_Apr7_30Hz\n",
      " No video/3sec movement files...\n",
      "sessions:  ['IJ2pm_Feb1_30Hz' 'IJ2pm_Feb2_30Hz' 'IJ2pm_Feb3_30Hz' 'IJ2pm_Feb4_30Hz'\n",
      " 'IJ2pm_Feb5_30Hz' 'IJ2pm_Feb9_30Hz' 'IJ2pm_Feb10_30Hz' 'IJ2pm_Feb11_30Hz'\n",
      " 'IJ2pm_Feb12_30Hz' 'IJ2pm_Feb15_30Hz' 'IJ2pm_Feb16_30Hz'\n",
      " 'IJ2pm_Feb17_30Hz' 'IJ2pm_Feb18_30Hz' 'IJ2pm_Feb22_30Hz'\n",
      " 'IJ2pm_Feb23_30Hz' 'IJ2pm_Feb24_30Hz' 'IJ2pm_Feb25_30Hz'\n",
      " 'IJ2pm_Feb26_30Hz' 'IJ2pm_Feb29_30Hz' 'IJ2pm_Mar1_30Hz' 'IJ2pm_Mar2_30Hz'\n",
      " 'IJ2pm_Mar3_30Hz' 'IJ2am_Mar7_30Hz' 'IJ2pm_Mar8_30Hz' 'IJ2am_Mar9_30Hz'\n",
      " 'IJ2am_Mar10_30Hz' 'IJ2am_Mar11_30Hz' 'IJ2pm_Mar14_30Hz'\n",
      " 'IJ2am_Mar15_30Hz' 'IJ2pm_Mar16_30Hz' 'IJ2pm_Mar17_30Hz'\n",
      " 'IJ2pm_Mar18_30Hz' 'IJ2pm_Mar21_30Hz' 'IJ2pm_Mar22_30Hz'\n",
      " 'IJ2pm_Mar23_30Hz' 'IJ2pm_Mar24_30Hz' 'IJ2pm_Mar29_30Hz'\n",
      " 'IJ2pm_Mar30_30Hz' 'IJ2pm_Mar31_30Hz' 'IJ2pm_Apr1_30Hz' 'IJ2pm_Apr4_30Hz'\n",
      " 'IJ2pm_Apr5_30Hz' 'IJ2pm_Apr6_30Hz' 'IJ2pm_Apr7_30Hz']\n",
      "pa.session_id 1:  IJ2pm_Feb1_30Hz\n",
      "session corrected:  IJ2pm_Feb1_30Hz\n",
      "(7,)\n",
      "['left_paw' 'right_paw' 'nose' 'jaw' 'right_ear' 'tongue' 'lever']\n",
      "pa.session_id 2:  IJ2pm_Feb1_30Hz\n",
      "starts:  [ 27.33333333  43.8         64.         103.33333333 123.6\n",
      " 148.33333333 153.06666667 170.53333333 173.53333333 198.06666667]\n",
      "lever offset:  76\n",
      "SESSIONS:  ['Feb1_', 'Feb2_', 'Feb3_', 'Feb4_', 'Feb5_', 'Feb9_', 'Feb10_', 'Feb11_', 'Feb12_', 'Feb15_', 'Feb16_']\n",
      "SHIFT IDS:  ['2', '1', '2', '2', '1', '2', '2', '0', '2', '2', '2']\n",
      "pa.session_id:  IJ2pm_Feb1_30Hz\n",
      "SELF SHIFT ID:  2\n",
      " using shift:  2\n",
      "DLC SHIFT Loaded:  3.73\n",
      "DLC shift :  3.73   in frames:  111  after subtracting lever shift:  -35\n",
      " triggers:  (10,)\n",
      " data:  (40000, 128, 128)\n",
      "(39010, 128, 128)\n",
      "X:  (39010, 16384)\n"
     ]
    },
    {
     "name": "stderr",
     "output_type": "stream",
     "text": [
      "\r",
      "  0%|          | 0/1 [00:00<?, ?it/s]"
     ]
    },
    {
     "name": "stdout",
     "output_type": "stream",
     "text": [
      " X data using :  30  number of frames  (1297, 491520)\n",
      " pca allpoints:  (1297, 10)\n",
      "1 91 10\n"
     ]
    },
    {
     "name": "stderr",
     "output_type": "stream",
     "text": [
      "100%|██████████| 1/1 [00:00<00:00,  2.12it/s]\n",
      "  0%|          | 0/1 [00:00<?, ?it/s]"
     ]
    },
    {
     "name": "stdout",
     "output_type": "stream",
     "text": [
      " pca p_levefr resahped:  (1, 86, 10)\n",
      "  body movement pa.p_lever projection:  (1, 86, 10)\n",
      "temp points:  (1297, 2)\n",
      "temp points:  (86, 2)\n",
      "plever:  (77, 2)\n",
      "1 94 10\n"
     ]
    },
    {
     "name": "stderr",
     "output_type": "stream",
     "text": [
      "100%|██████████| 1/1 [00:00<00:00,  1.96it/s]\n",
      "  0%|          | 0/1 [00:00<?, ?it/s]"
     ]
    },
    {
     "name": "stdout",
     "output_type": "stream",
     "text": [
      " pca p_levefr resahped:  (1, 89, 10)\n",
      "  body movement pa.p_lever projection:  (1, 89, 10)\n",
      "temp points:  (1297, 2)\n",
      "temp points:  (89, 2)\n",
      "plever:  (80, 2)\n",
      "1 113 10\n"
     ]
    },
    {
     "name": "stderr",
     "output_type": "stream",
     "text": [
      "100%|██████████| 1/1 [00:00<00:00,  1.52it/s]\n",
      "  0%|          | 0/1 [00:00<?, ?it/s]"
     ]
    },
    {
     "name": "stdout",
     "output_type": "stream",
     "text": [
      " pca p_levefr resahped:  (1, 110, 10)\n",
      "  body movement pa.p_lever projection:  (1, 110, 10)\n",
      "temp points:  (1297, 2)\n",
      "temp points:  (110, 2)\n",
      "plever:  (99, 2)\n",
      "1 95 10\n"
     ]
    },
    {
     "name": "stderr",
     "output_type": "stream",
     "text": [
      "100%|██████████| 1/1 [00:00<00:00,  1.96it/s]\n",
      "  0%|          | 0/1 [00:00<?, ?it/s]"
     ]
    },
    {
     "name": "stdout",
     "output_type": "stream",
     "text": [
      " pca p_levefr resahped:  (1, 88, 10)\n",
      "  body movement pa.p_lever projection:  (1, 88, 10)\n",
      "temp points:  (1297, 2)\n",
      "temp points:  (88, 2)\n",
      "plever:  (79, 2)\n",
      "1 81 10\n"
     ]
    },
    {
     "name": "stderr",
     "output_type": "stream",
     "text": [
      "100%|██████████| 1/1 [00:00<00:00,  2.16it/s]\n",
      "100%|██████████| 1/1 [00:00<00:00,  9.34it/s]\n",
      "/media/cat/4TBSSD/anaconda3/envs/wide/lib/python3.8/site-packages/numpy/core/_asarray.py:171: VisibleDeprecationWarning: Creating an ndarray from ragged nested sequences (which is a list-or-tuple of lists-or-tuples-or ndarrays with different lengths or shapes) is deprecated. If you meant to do this, you must specify 'dtype=object' when creating the ndarray.\n",
      "  return array(a, dtype, copy=False, order=order, subok=True)\n"
     ]
    },
    {
     "name": "stdout",
     "output_type": "stream",
     "text": [
      " pca p_levefr resahped:  (1, 80, 10)\n",
      "  body movement pa.p_lever projection:  (1, 80, 10)\n",
      "temp points:  (1297, 2)\n",
      "temp points:  (80, 2)\n",
      "plever:  (72, 2)\n",
      "FNAME LEVER:  /media/cat/4TBSSD/yuki/IJ2/tif_files/IJ2pm_Feb1_30Hz/IJ2pm_Feb1_30Hz_all_locs_selected.txt\n",
      "1 10 10\n",
      " pca p_levefr resahped:  (1, 10, 10)\n",
      "temp points:  (1297, 2)\n",
      "temp points:  (10, 2)\n",
      "plever:  (9, 2)\n",
      "pa.session_id 1:  IJ2pm_Feb2_30Hz\n",
      "session corrected:  IJ2pm_Feb2_30Hz\n",
      "(7,)\n",
      "['left_paw' 'right_paw' 'nose' 'jaw' 'right_ear' 'tongue' 'lever']\n",
      "pa.session_id 2:  IJ2pm_Feb2_30Hz\n",
      "starts:  [10.86666667 15.33333333 27.13333333 36.66666667 43.46666667 52.13333333\n",
      " 65.66666667 76.46666667 81.06666667 84.93333333]\n",
      "lever offset:  69\n",
      "SESSIONS:  ['Feb1_', 'Feb2_', 'Feb3_', 'Feb4_', 'Feb5_', 'Feb9_', 'Feb10_', 'Feb11_', 'Feb12_', 'Feb15_', 'Feb16_']\n",
      "SHIFT IDS:  ['2', '1', '2', '2', '1', '2', '2', '0', '2', '2', '2']\n",
      "pa.session_id:  IJ2pm_Feb2_30Hz\n",
      "SELF SHIFT ID:  1\n",
      " using shift:  1\n",
      "DLC SHIFT Loaded:  4.42\n",
      "DLC shift :  4.42   in frames:  132  after subtracting lever shift:  -63\n",
      " triggers:  (16,)\n",
      " data:  (40000, 128, 128)\n",
      "(39152, 128, 128)\n",
      "X:  (39152, 16384)\n"
     ]
    },
    {
     "name": "stderr",
     "output_type": "stream",
     "text": [
      "\r",
      "  0%|          | 0/1 [00:00<?, ?it/s]"
     ]
    },
    {
     "name": "stdout",
     "output_type": "stream",
     "text": [
      " X data using :  30  number of frames  (1302, 491520)\n",
      " pca allpoints:  (1302, 10)\n",
      "1 112 10\n"
     ]
    },
    {
     "name": "stderr",
     "output_type": "stream",
     "text": [
      "100%|██████████| 1/1 [00:00<00:00,  1.48it/s]\n",
      "  0%|          | 0/1 [00:00<?, ?it/s]"
     ]
    },
    {
     "name": "stdout",
     "output_type": "stream",
     "text": [
      " pca p_levefr resahped:  (1, 111, 10)\n",
      "  body movement pa.p_lever projection:  (1, 111, 10)\n",
      "temp points:  (1302, 2)\n",
      "temp points:  (111, 2)\n",
      "plever:  (100, 2)\n",
      "1 112 10\n"
     ]
    },
    {
     "name": "stderr",
     "output_type": "stream",
     "text": [
      "100%|██████████| 1/1 [00:00<00:00,  1.60it/s]\n",
      "  0%|          | 0/1 [00:00<?, ?it/s]"
     ]
    },
    {
     "name": "stdout",
     "output_type": "stream",
     "text": [
      " pca p_levefr resahped:  (1, 110, 10)\n",
      "  body movement pa.p_lever projection:  (1, 110, 10)\n",
      "temp points:  (1302, 2)\n",
      "temp points:  (110, 2)\n",
      "plever:  (99, 2)\n",
      "1 128 10\n"
     ]
    },
    {
     "name": "stderr",
     "output_type": "stream",
     "text": [
      "100%|██████████| 1/1 [00:00<00:00,  1.35it/s]\n",
      "  0%|          | 0/1 [00:00<?, ?it/s]"
     ]
    },
    {
     "name": "stdout",
     "output_type": "stream",
     "text": [
      " pca p_levefr resahped:  (1, 127, 10)\n",
      "  body movement pa.p_lever projection:  (1, 127, 10)\n",
      "temp points:  (1302, 2)\n",
      "temp points:  (127, 2)\n",
      "plever:  (114, 2)\n",
      "1 110 10\n"
     ]
    },
    {
     "name": "stderr",
     "output_type": "stream",
     "text": [
      "100%|██████████| 1/1 [00:00<00:00,  1.64it/s]\n",
      "  0%|          | 0/1 [00:00<?, ?it/s]"
     ]
    },
    {
     "name": "stdout",
     "output_type": "stream",
     "text": [
      " pca p_levefr resahped:  (1, 108, 10)\n",
      "  body movement pa.p_lever projection:  (1, 108, 10)\n",
      "temp points:  (1302, 2)\n",
      "temp points:  (108, 2)\n",
      "plever:  (97, 2)\n",
      "1 120 10\n"
     ]
    },
    {
     "name": "stderr",
     "output_type": "stream",
     "text": [
      "100%|██████████| 1/1 [00:00<00:00,  1.47it/s]\n",
      "100%|██████████| 1/1 [00:00<00:00,  9.58it/s]\n",
      "/media/cat/4TBSSD/anaconda3/envs/wide/lib/python3.8/site-packages/numpy/core/_asarray.py:171: VisibleDeprecationWarning: Creating an ndarray from ragged nested sequences (which is a list-or-tuple of lists-or-tuples-or ndarrays with different lengths or shapes) is deprecated. If you meant to do this, you must specify 'dtype=object' when creating the ndarray.\n",
      "  return array(a, dtype, copy=False, order=order, subok=True)\n"
     ]
    },
    {
     "name": "stdout",
     "output_type": "stream",
     "text": [
      " pca p_levefr resahped:  (1, 117, 10)\n",
      "  body movement pa.p_lever projection:  (1, 117, 10)\n",
      "temp points:  (1302, 2)\n",
      "temp points:  (117, 2)\n",
      "plever:  (105, 2)\n",
      "FNAME LEVER:  /media/cat/4TBSSD/yuki/IJ2/tif_files/IJ2pm_Feb2_30Hz/IJ2pm_Feb2_30Hz_all_locs_selected.txt\n",
      "1 16 10\n",
      " pca p_levefr resahped:  (1, 16, 10)\n",
      "temp points:  (1302, 2)\n",
      "temp points:  (16, 2)\n",
      "plever:  (14, 2)\n",
      "pa.session_id 1:  IJ2pm_Feb3_30Hz\n",
      "session corrected:  IJ2pm_Feb3_30Hz\n",
      "(7,)\n",
      "['left_paw' 'right_paw' 'nose' 'jaw' 'right_ear' 'tongue' 'lever']\n",
      "pa.session_id 2:  IJ2pm_Feb3_30Hz\n",
      "starts:  [  4.46666667  10.06666667  14.66666667  46.53333333  64.46666667\n",
      "  70.2         78.53333333  88.46666667  96.13333333 120.33333333]\n",
      "lever offset:  67\n",
      "SESSIONS:  ['Feb1_', 'Feb2_', 'Feb3_', 'Feb4_', 'Feb5_', 'Feb9_', 'Feb10_', 'Feb11_', 'Feb12_', 'Feb15_', 'Feb16_']\n",
      "SHIFT IDS:  ['2', '1', '2', '2', '1', '2', '2', '0', '2', '2', '2']\n",
      "pa.session_id:  IJ2pm_Feb3_30Hz\n",
      "SELF SHIFT ID:  2\n",
      " using shift:  2\n",
      "DLC SHIFT Loaded:  4.23\n",
      "DLC shift :  4.23   in frames:  126  after subtracting lever shift:  -59\n",
      " triggers:  (28,)\n",
      " data:  (40000, 128, 128)\n",
      "(39216, 128, 128)\n",
      "X:  (39216, 16384)\n"
     ]
    },
    {
     "name": "stderr",
     "output_type": "stream",
     "text": [
      "\r",
      "  0%|          | 0/1 [00:00<?, ?it/s]"
     ]
    },
    {
     "name": "stdout",
     "output_type": "stream",
     "text": [
      " X data using :  30  number of frames  (1304, 491520)\n",
      " pca allpoints:  (1304, 10)\n",
      "1 128 10\n"
     ]
    },
    {
     "name": "stderr",
     "output_type": "stream",
     "text": [
      "100%|██████████| 1/1 [00:00<00:00,  1.38it/s]\n",
      "  0%|          | 0/1 [00:00<?, ?it/s]"
     ]
    },
    {
     "name": "stdout",
     "output_type": "stream",
     "text": [
      " pca p_levefr resahped:  (1, 126, 10)\n",
      "  body movement pa.p_lever projection:  (1, 126, 10)\n",
      "temp points:  (1304, 2)\n",
      "temp points:  (126, 2)\n",
      "plever:  (113, 2)\n",
      "1 106 10\n"
     ]
    },
    {
     "name": "stderr",
     "output_type": "stream",
     "text": [
      "100%|██████████| 1/1 [00:00<00:00,  1.75it/s]\n",
      "  0%|          | 0/1 [00:00<?, ?it/s]"
     ]
    },
    {
     "name": "stdout",
     "output_type": "stream",
     "text": [
      " pca p_levefr resahped:  (1, 104, 10)\n",
      "  body movement pa.p_lever projection:  (1, 104, 10)\n",
      "temp points:  (1304, 2)\n",
      "temp points:  (104, 2)\n",
      "plever:  (93, 2)\n",
      "1 132 10\n"
     ]
    },
    {
     "name": "stderr",
     "output_type": "stream",
     "text": [
      "100%|██████████| 1/1 [00:00<00:00,  1.42it/s]\n",
      "  0%|          | 0/1 [00:00<?, ?it/s]"
     ]
    },
    {
     "name": "stdout",
     "output_type": "stream",
     "text": [
      " pca p_levefr resahped:  (1, 130, 10)\n",
      "  body movement pa.p_lever projection:  (1, 130, 10)\n",
      "temp points:  (1304, 2)\n",
      "temp points:  (130, 2)\n",
      "plever:  (117, 2)\n",
      "1 93 10\n"
     ]
    },
    {
     "name": "stderr",
     "output_type": "stream",
     "text": [
      "100%|██████████| 1/1 [00:00<00:00,  1.62it/s]\n",
      "  0%|          | 0/1 [00:00<?, ?it/s]"
     ]
    },
    {
     "name": "stdout",
     "output_type": "stream",
     "text": [
      " pca p_levefr resahped:  (1, 91, 10)\n",
      "  body movement pa.p_lever projection:  (1, 91, 10)\n",
      "temp points:  (1304, 2)\n",
      "temp points:  (91, 2)\n",
      "plever:  (82, 2)\n",
      "1 130 10\n"
     ]
    },
    {
     "name": "stderr",
     "output_type": "stream",
     "text": [
      "100%|██████████| 1/1 [00:00<00:00,  1.07it/s]\n",
      "  0%|          | 0/1 [00:00<?, ?it/s]"
     ]
    },
    {
     "name": "stdout",
     "output_type": "stream",
     "text": [
      " pca p_levefr resahped:  (1, 128, 10)\n",
      "  body movement pa.p_lever projection:  (1, 128, 10)\n",
      "temp points:  (1304, 2)\n",
      "temp points:  (128, 2)\n",
      "plever:  (115, 2)\n",
      "FNAME LEVER:  /media/cat/4TBSSD/yuki/IJ2/tif_files/IJ2pm_Feb3_30Hz/IJ2pm_Feb3_30Hz_all_locs_selected.txt\n",
      "1 45 10\n"
     ]
    },
    {
     "name": "stderr",
     "output_type": "stream",
     "text": [
      "100%|██████████| 1/1 [00:00<00:00,  3.76it/s]\n",
      "/media/cat/4TBSSD/anaconda3/envs/wide/lib/python3.8/site-packages/numpy/core/_asarray.py:171: VisibleDeprecationWarning: Creating an ndarray from ragged nested sequences (which is a list-or-tuple of lists-or-tuples-or ndarrays with different lengths or shapes) is deprecated. If you meant to do this, you must specify 'dtype=object' when creating the ndarray.\n",
      "  return array(a, dtype, copy=False, order=order, subok=True)\n"
     ]
    },
    {
     "name": "stdout",
     "output_type": "stream",
     "text": [
      " pca p_levefr resahped:  (1, 45, 10)\n",
      "temp points:  (1304, 2)\n",
      "temp points:  (45, 2)\n",
      "plever:  (40, 2)\n",
      "pa.session_id 1:  IJ2pm_Feb4_30Hz\n",
      "session corrected:  IJ2pm_Feb4_30Hz\n",
      "(7,)\n",
      "['left_paw' 'right_paw' 'nose' 'jaw' 'right_ear' 'tongue' 'lever']\n",
      "pa.session_id 2:  IJ2pm_Feb4_30Hz\n",
      "starts:  [ 28.53333333  43.8         59.53333333  68.26666667  77.33333333\n",
      "  86.          97.73333333 107.66666667 125.26666667 133.8       ]\n",
      "lever offset:  69\n",
      "SESSIONS:  ['Feb1_', 'Feb2_', 'Feb3_', 'Feb4_', 'Feb5_', 'Feb9_', 'Feb10_', 'Feb11_', 'Feb12_', 'Feb15_', 'Feb16_']\n",
      "SHIFT IDS:  ['2', '1', '2', '2', '1', '2', '2', '0', '2', '2', '2']\n",
      "pa.session_id:  IJ2pm_Feb4_30Hz\n",
      "SELF SHIFT ID:  2\n",
      " using shift:  2\n",
      "DLC SHIFT Loaded:  3.11\n",
      "DLC shift :  3.11   in frames:  93  after subtracting lever shift:  -24\n",
      " triggers:  (46,)\n",
      " data:  (40000, 128, 128)\n",
      "(39108, 128, 128)\n",
      "X:  (39108, 16384)\n"
     ]
    },
    {
     "name": "stderr",
     "output_type": "stream",
     "text": [
      "\r",
      "  0%|          | 0/1 [00:00<?, ?it/s]"
     ]
    },
    {
     "name": "stdout",
     "output_type": "stream",
     "text": [
      " X data using :  30  number of frames  (1301, 491520)\n",
      " pca allpoints:  (1301, 10)\n",
      "1 110 10\n"
     ]
    },
    {
     "name": "stderr",
     "output_type": "stream",
     "text": [
      "100%|██████████| 1/1 [00:00<00:00,  1.68it/s]\n",
      "  0%|          | 0/1 [00:00<?, ?it/s]"
     ]
    },
    {
     "name": "stdout",
     "output_type": "stream",
     "text": [
      " pca p_levefr resahped:  (1, 109, 10)\n",
      "  body movement pa.p_lever projection:  (1, 109, 10)\n",
      "temp points:  (1301, 2)\n",
      "temp points:  (109, 2)\n",
      "plever:  (98, 2)\n",
      "1 96 10\n"
     ]
    },
    {
     "name": "stderr",
     "output_type": "stream",
     "text": [
      "100%|██████████| 1/1 [00:00<00:00,  1.75it/s]\n",
      "  0%|          | 0/1 [00:00<?, ?it/s]"
     ]
    },
    {
     "name": "stdout",
     "output_type": "stream",
     "text": [
      " pca p_levefr resahped:  (1, 95, 10)\n",
      "  body movement pa.p_lever projection:  (1, 95, 10)\n",
      "temp points:  (1301, 2)\n",
      "temp points:  (95, 2)\n",
      "plever:  (85, 2)\n",
      "1 113 10\n"
     ]
    },
    {
     "name": "stderr",
     "output_type": "stream",
     "text": [
      "100%|██████████| 1/1 [00:00<00:00,  1.57it/s]\n",
      "  0%|          | 0/1 [00:00<?, ?it/s]"
     ]
    },
    {
     "name": "stdout",
     "output_type": "stream",
     "text": [
      " pca p_levefr resahped:  (1, 111, 10)\n",
      "  body movement pa.p_lever projection:  (1, 111, 10)\n",
      "temp points:  (1301, 2)\n",
      "temp points:  (111, 2)\n",
      "plever:  (100, 2)\n",
      "1 81 10\n"
     ]
    },
    {
     "name": "stderr",
     "output_type": "stream",
     "text": [
      "100%|██████████| 1/1 [00:00<00:00,  2.13it/s]\n",
      "  0%|          | 0/1 [00:00<?, ?it/s]"
     ]
    },
    {
     "name": "stdout",
     "output_type": "stream",
     "text": [
      " pca p_levefr resahped:  (1, 79, 10)\n",
      "  body movement pa.p_lever projection:  (1, 79, 10)\n",
      "temp points:  (1301, 2)\n",
      "temp points:  (79, 2)\n",
      "plever:  (71, 2)\n",
      "1 104 10\n"
     ]
    },
    {
     "name": "stderr",
     "output_type": "stream",
     "text": [
      "100%|██████████| 1/1 [00:00<00:00,  1.80it/s]\n",
      "  0%|          | 0/1 [00:00<?, ?it/s]"
     ]
    },
    {
     "name": "stdout",
     "output_type": "stream",
     "text": [
      " pca p_levefr resahped:  (1, 103, 10)\n",
      "  body movement pa.p_lever projection:  (1, 103, 10)\n",
      "temp points:  (1301, 2)\n",
      "temp points:  (103, 2)\n",
      "plever:  (92, 2)\n",
      "FNAME LEVER:  /media/cat/4TBSSD/yuki/IJ2/tif_files/IJ2pm_Feb4_30Hz/IJ2pm_Feb4_30Hz_all_locs_selected.txt\n",
      "1 50 10\n"
     ]
    },
    {
     "name": "stderr",
     "output_type": "stream",
     "text": [
      "100%|██████████| 1/1 [00:00<00:00,  3.35it/s]\n",
      "/media/cat/4TBSSD/anaconda3/envs/wide/lib/python3.8/site-packages/numpy/core/_asarray.py:171: VisibleDeprecationWarning: Creating an ndarray from ragged nested sequences (which is a list-or-tuple of lists-or-tuples-or ndarrays with different lengths or shapes) is deprecated. If you meant to do this, you must specify 'dtype=object' when creating the ndarray.\n",
      "  return array(a, dtype, copy=False, order=order, subok=True)\n"
     ]
    },
    {
     "name": "stdout",
     "output_type": "stream",
     "text": [
      " pca p_levefr resahped:  (1, 49, 10)\n",
      "temp points:  (1301, 2)\n",
      "temp points:  (49, 2)\n",
      "plever:  (44, 2)\n",
      "pa.session_id 1:  IJ2pm_Feb5_30Hz\n",
      "session corrected:  IJ2pm_Feb5_30Hz\n",
      "(7,)\n",
      "['left_paw' 'right_paw' 'nose' 'jaw' 'right_ear' 'tongue' 'lever']\n",
      "pa.session_id 2:  IJ2pm_Feb5_30Hz\n",
      "starts:  [ 22.46666667  32.73333333  41.53333333  64.4         70.53333333\n",
      "  76.          83.06666667  87.33333333  96.2        103.93333333]\n",
      "lever offset:  80\n",
      "SESSIONS:  ['Feb1_', 'Feb2_', 'Feb3_', 'Feb4_', 'Feb5_', 'Feb9_', 'Feb10_', 'Feb11_', 'Feb12_', 'Feb15_', 'Feb16_']\n",
      "SHIFT IDS:  ['2', '1', '2', '2', '1', '2', '2', '0', '2', '2', '2']\n",
      "pa.session_id:  IJ2pm_Feb5_30Hz\n",
      "SELF SHIFT ID:  1\n",
      " using shift:  1\n",
      "DLC SHIFT Loaded:  4.63\n",
      "DLC shift :  4.63   in frames:  138  after subtracting lever shift:  -58\n",
      " triggers:  (51,)\n",
      " data:  (40000, 128, 128)\n",
      "(39158, 128, 128)\n",
      "X:  (39158, 16384)\n"
     ]
    },
    {
     "name": "stderr",
     "output_type": "stream",
     "text": [
      "\r",
      "  0%|          | 0/1 [00:00<?, ?it/s]"
     ]
    },
    {
     "name": "stdout",
     "output_type": "stream",
     "text": [
      " X data using :  30  number of frames  (1302, 491520)\n",
      " pca allpoints:  (1302, 10)\n",
      "1 125 10\n"
     ]
    },
    {
     "name": "stderr",
     "output_type": "stream",
     "text": [
      "100%|██████████| 1/1 [00:00<00:00,  1.28it/s]\n",
      "  0%|          | 0/1 [00:00<?, ?it/s]"
     ]
    },
    {
     "name": "stdout",
     "output_type": "stream",
     "text": [
      " pca p_levefr resahped:  (1, 124, 10)\n",
      "  body movement pa.p_lever projection:  (1, 124, 10)\n",
      "temp points:  (1302, 2)\n",
      "temp points:  (124, 2)\n",
      "plever:  (111, 2)\n",
      "1 107 10\n"
     ]
    },
    {
     "name": "stderr",
     "output_type": "stream",
     "text": [
      "100%|██████████| 1/1 [00:00<00:00,  1.53it/s]\n",
      "  0%|          | 0/1 [00:00<?, ?it/s]"
     ]
    },
    {
     "name": "stdout",
     "output_type": "stream",
     "text": [
      " pca p_levefr resahped:  (1, 106, 10)\n",
      "  body movement pa.p_lever projection:  (1, 106, 10)\n",
      "temp points:  (1302, 2)\n",
      "temp points:  (106, 2)\n",
      "plever:  (95, 2)\n",
      "1 101 10\n"
     ]
    },
    {
     "name": "stderr",
     "output_type": "stream",
     "text": [
      "100%|██████████| 1/1 [00:00<00:00,  1.90it/s]\n",
      "  0%|          | 0/1 [00:00<?, ?it/s]"
     ]
    },
    {
     "name": "stdout",
     "output_type": "stream",
     "text": [
      " pca p_levefr resahped:  (1, 99, 10)\n",
      "  body movement pa.p_lever projection:  (1, 99, 10)\n",
      "temp points:  (1302, 2)\n",
      "temp points:  (99, 2)\n",
      "plever:  (89, 2)\n",
      "1 56 10\n"
     ]
    },
    {
     "name": "stderr",
     "output_type": "stream",
     "text": [
      "100%|██████████| 1/1 [00:00<00:00,  2.94it/s]\n",
      "  0%|          | 0/1 [00:00<?, ?it/s]"
     ]
    },
    {
     "name": "stdout",
     "output_type": "stream",
     "text": [
      " pca p_levefr resahped:  (1, 54, 10)\n",
      "  body movement pa.p_lever projection:  (1, 54, 10)\n",
      "temp points:  (1302, 2)\n",
      "temp points:  (54, 2)\n",
      "plever:  (48, 2)\n",
      "1 126 10\n"
     ]
    },
    {
     "name": "stderr",
     "output_type": "stream",
     "text": [
      "100%|██████████| 1/1 [00:00<00:00,  1.51it/s]\n",
      "  0%|          | 0/1 [00:00<?, ?it/s]"
     ]
    },
    {
     "name": "stdout",
     "output_type": "stream",
     "text": [
      " pca p_levefr resahped:  (1, 125, 10)\n",
      "  body movement pa.p_lever projection:  (1, 125, 10)\n",
      "temp points:  (1302, 2)\n",
      "temp points:  (125, 2)\n",
      "plever:  (112, 2)\n",
      "FNAME LEVER:  /media/cat/4TBSSD/yuki/IJ2/tif_files/IJ2pm_Feb5_30Hz/IJ2pm_Feb5_30Hz_all_locs_selected.txt\n",
      "1 54 10\n"
     ]
    },
    {
     "name": "stderr",
     "output_type": "stream",
     "text": [
      "100%|██████████| 1/1 [00:00<00:00,  3.06it/s]\n",
      "/media/cat/4TBSSD/anaconda3/envs/wide/lib/python3.8/site-packages/numpy/core/_asarray.py:171: VisibleDeprecationWarning: Creating an ndarray from ragged nested sequences (which is a list-or-tuple of lists-or-tuples-or ndarrays with different lengths or shapes) is deprecated. If you meant to do this, you must specify 'dtype=object' when creating the ndarray.\n",
      "  return array(a, dtype, copy=False, order=order, subok=True)\n"
     ]
    },
    {
     "name": "stdout",
     "output_type": "stream",
     "text": [
      " pca p_levefr resahped:  (1, 54, 10)\n",
      "temp points:  (1302, 2)\n",
      "temp points:  (54, 2)\n",
      "plever:  (48, 2)\n",
      "pa.session_id 1:  IJ2pm_Feb9_30Hz\n",
      "session corrected:  IJ2pm_Feb9_30Hz\n",
      "(7,)\n",
      "['left_paw' 'right_paw' 'nose' 'jaw' 'right_ear' 'tongue' 'lever']\n",
      "pa.session_id 2:  IJ2pm_Feb9_30Hz\n",
      "starts:  [18.26666667 28.73333333 32.46666667 37.73333333 42.13333333 55.73333333\n",
      " 62.2        69.93333333 76.06666667 94.53333333]\n",
      "lever offset:  67\n",
      "SESSIONS:  ['Feb1_', 'Feb2_', 'Feb3_', 'Feb4_', 'Feb5_', 'Feb9_', 'Feb10_', 'Feb11_', 'Feb12_', 'Feb15_', 'Feb16_']\n",
      "SHIFT IDS:  ['2', '1', '2', '2', '1', '2', '2', '0', '2', '2', '2']\n",
      "pa.session_id:  IJ2pm_Feb9_30Hz\n",
      "SELF SHIFT ID:  2\n",
      " using shift:  2\n",
      "DLC SHIFT Loaded:  4.89\n",
      "DLC shift :  4.89   in frames:  146  after subtracting lever shift:  -79\n",
      " data missing/led missing\n",
      "pa.session_id 1:  IJ2pm_Feb10_30Hz\n",
      "session corrected:  IJ2pm_Feb10_30Hz\n",
      "(7,)\n",
      "['left_paw' 'right_paw' 'nose' 'jaw' 'right_ear' 'tongue' 'lever']\n",
      "pa.session_id 2:  IJ2pm_Feb10_30Hz\n",
      "starts:  [10.8        15.2        20.06666667 26.93333333 33.33333333 38.86666667\n",
      " 51.6        56.8        67.46666667 76.13333333]\n",
      "lever offset:  65\n",
      "SESSIONS:  ['Feb1_', 'Feb2_', 'Feb3_', 'Feb4_', 'Feb5_', 'Feb9_', 'Feb10_', 'Feb11_', 'Feb12_', 'Feb15_', 'Feb16_']\n",
      "SHIFT IDS:  ['2', '1', '2', '2', '1', '2', '2', '0', '2', '2', '2']\n",
      "pa.session_id:  IJ2pm_Feb10_30Hz\n",
      "SELF SHIFT ID:  2\n",
      " using shift:  2\n",
      "DLC SHIFT Loaded:  3.95\n",
      "DLC shift :  3.95   in frames:  118  after subtracting lever shift:  -53\n",
      " triggers:  (42,)\n",
      " data:  (40000, 128, 128)\n",
      "(39374, 128, 128)\n",
      "X:  (39374, 16384)\n"
     ]
    },
    {
     "name": "stderr",
     "output_type": "stream",
     "text": [
      "\r",
      "  0%|          | 0/1 [00:00<?, ?it/s]"
     ]
    },
    {
     "name": "stdout",
     "output_type": "stream",
     "text": [
      " X data using :  30  number of frames  (1310, 491520)\n",
      " pca allpoints:  (1310, 10)\n",
      "1 140 10\n"
     ]
    },
    {
     "name": "stderr",
     "output_type": "stream",
     "text": [
      "100%|██████████| 1/1 [00:00<00:00,  1.18it/s]\n",
      "  0%|          | 0/1 [00:00<?, ?it/s]"
     ]
    },
    {
     "name": "stdout",
     "output_type": "stream",
     "text": [
      " pca p_levefr resahped:  (1, 137, 10)\n",
      "  body movement pa.p_lever projection:  (1, 137, 10)\n",
      "temp points:  (1310, 2)\n",
      "temp points:  (137, 2)\n",
      "plever:  (123, 2)\n",
      "1 76 10\n"
     ]
    },
    {
     "name": "stderr",
     "output_type": "stream",
     "text": [
      "100%|██████████| 1/1 [00:00<00:00,  1.93it/s]\n",
      "  0%|          | 0/1 [00:00<?, ?it/s]"
     ]
    },
    {
     "name": "stdout",
     "output_type": "stream",
     "text": [
      " pca p_levefr resahped:  (1, 74, 10)\n",
      "  body movement pa.p_lever projection:  (1, 74, 10)\n",
      "temp points:  (1310, 2)\n",
      "temp points:  (74, 2)\n",
      "plever:  (66, 2)\n",
      "1 101 10\n"
     ]
    },
    {
     "name": "stderr",
     "output_type": "stream",
     "text": [
      "100%|██████████| 1/1 [00:00<00:00,  1.57it/s]\n",
      "  0%|          | 0/1 [00:00<?, ?it/s]"
     ]
    },
    {
     "name": "stdout",
     "output_type": "stream",
     "text": [
      " pca p_levefr resahped:  (1, 99, 10)\n",
      "  body movement pa.p_lever projection:  (1, 99, 10)\n",
      "temp points:  (1310, 2)\n",
      "temp points:  (99, 2)\n",
      "plever:  (89, 2)\n",
      "1 54 10\n"
     ]
    },
    {
     "name": "stderr",
     "output_type": "stream",
     "text": [
      "100%|██████████| 1/1 [00:00<00:00,  2.78it/s]\n",
      "  0%|          | 0/1 [00:00<?, ?it/s]"
     ]
    },
    {
     "name": "stdout",
     "output_type": "stream",
     "text": [
      " pca p_levefr resahped:  (1, 52, 10)\n",
      "  body movement pa.p_lever projection:  (1, 52, 10)\n",
      "temp points:  (1310, 2)\n",
      "temp points:  (52, 2)\n",
      "plever:  (46, 2)\n",
      "1 155 10\n"
     ]
    },
    {
     "name": "stderr",
     "output_type": "stream",
     "text": [
      "100%|██████████| 1/1 [00:00<00:00,  1.02it/s]\n",
      "  0%|          | 0/1 [00:00<?, ?it/s]"
     ]
    },
    {
     "name": "stdout",
     "output_type": "stream",
     "text": [
      " pca p_levefr resahped:  (1, 152, 10)\n",
      "  body movement pa.p_lever projection:  (1, 152, 10)\n",
      "temp points:  (1310, 2)\n",
      "temp points:  (152, 2)\n",
      "plever:  (136, 2)\n",
      "FNAME LEVER:  /media/cat/4TBSSD/yuki/IJ2/tif_files/IJ2pm_Feb10_30Hz/IJ2pm_Feb10_30Hz_all_locs_selected.txt\n",
      "1 52 10\n"
     ]
    },
    {
     "name": "stderr",
     "output_type": "stream",
     "text": [
      "100%|██████████| 1/1 [00:00<00:00,  3.28it/s]\n",
      "/media/cat/4TBSSD/anaconda3/envs/wide/lib/python3.8/site-packages/numpy/core/_asarray.py:171: VisibleDeprecationWarning: Creating an ndarray from ragged nested sequences (which is a list-or-tuple of lists-or-tuples-or ndarrays with different lengths or shapes) is deprecated. If you meant to do this, you must specify 'dtype=object' when creating the ndarray.\n",
      "  return array(a, dtype, copy=False, order=order, subok=True)\n"
     ]
    },
    {
     "name": "stdout",
     "output_type": "stream",
     "text": [
      " pca p_levefr resahped:  (1, 52, 10)\n",
      "temp points:  (1310, 2)\n",
      "temp points:  (52, 2)\n",
      "plever:  (46, 2)\n",
      "pa.session_id 1:  IJ2pm_Feb11_30Hz\n",
      "session corrected:  IJ2pm_Feb11_30Hz\n",
      "(7,)\n",
      "['left_paw' 'right_paw' 'nose' 'jaw' 'right_ear' 'tongue' 'lever']\n",
      "pa.session_id 2:  IJ2pm_Feb11_30Hz\n",
      "starts:  [13.8        22.13333333 38.53333333 44.66666667 48.2        55.13333333\n",
      " 69.         78.73333333 83.6        87.8       ]\n",
      "lever offset:  80\n",
      "SESSIONS:  ['Feb1_', 'Feb2_', 'Feb3_', 'Feb4_', 'Feb5_', 'Feb9_', 'Feb10_', 'Feb11_', 'Feb12_', 'Feb15_', 'Feb16_']\n",
      "SHIFT IDS:  ['2', '1', '2', '2', '1', '2', '2', '0', '2', '2', '2']\n",
      "pa.session_id:  IJ2pm_Feb11_30Hz\n",
      "SELF SHIFT ID:  0\n",
      " using shift:  0\n",
      "DLC SHIFT Loaded:  5.25\n",
      "DLC shift :  5.25   in frames:  157  after subtracting lever shift:  -77\n",
      " triggers:  (41,)\n",
      " data:  (40000, 128, 128)\n",
      "(39261, 128, 128)\n",
      "X:  (39261, 16384)\n"
     ]
    },
    {
     "name": "stderr",
     "output_type": "stream",
     "text": [
      "\r",
      "  0%|          | 0/1 [00:00<?, ?it/s]"
     ]
    },
    {
     "name": "stdout",
     "output_type": "stream",
     "text": [
      " X data using :  30  number of frames  (1306, 491520)\n",
      " pca allpoints:  (1306, 10)\n",
      "1 138 10\n"
     ]
    },
    {
     "name": "stderr",
     "output_type": "stream",
     "text": [
      "100%|██████████| 1/1 [00:00<00:00,  1.39it/s]\n",
      "  0%|          | 0/1 [00:00<?, ?it/s]"
     ]
    },
    {
     "name": "stdout",
     "output_type": "stream",
     "text": [
      " pca p_levefr resahped:  (1, 135, 10)\n",
      "  body movement pa.p_lever projection:  (1, 135, 10)\n",
      "temp points:  (1306, 2)\n",
      "temp points:  (135, 2)\n",
      "plever:  (121, 2)\n",
      "1 120 10\n"
     ]
    },
    {
     "name": "stderr",
     "output_type": "stream",
     "text": [
      "100%|██████████| 1/1 [00:00<00:00,  1.58it/s]\n",
      "  0%|          | 0/1 [00:00<?, ?it/s]"
     ]
    },
    {
     "name": "stdout",
     "output_type": "stream",
     "text": [
      " pca p_levefr resahped:  (1, 116, 10)\n",
      "  body movement pa.p_lever projection:  (1, 116, 10)\n",
      "temp points:  (1306, 2)\n",
      "temp points:  (116, 2)\n",
      "plever:  (104, 2)\n",
      "1 122 10\n"
     ]
    },
    {
     "name": "stderr",
     "output_type": "stream",
     "text": [
      "100%|██████████| 1/1 [00:00<00:00,  1.52it/s]\n",
      "  0%|          | 0/1 [00:00<?, ?it/s]"
     ]
    },
    {
     "name": "stdout",
     "output_type": "stream",
     "text": [
      " pca p_levefr resahped:  (1, 118, 10)\n",
      "  body movement pa.p_lever projection:  (1, 118, 10)\n",
      "temp points:  (1306, 2)\n",
      "temp points:  (118, 2)\n",
      "plever:  (106, 2)\n",
      "1 36 10\n"
     ]
    },
    {
     "name": "stderr",
     "output_type": "stream",
     "text": [
      "100%|██████████| 1/1 [00:00<00:00,  4.33it/s]\n",
      "  0%|          | 0/1 [00:00<?, ?it/s]"
     ]
    },
    {
     "name": "stdout",
     "output_type": "stream",
     "text": [
      " pca p_levefr resahped:  (1, 35, 10)\n",
      "  body movement pa.p_lever projection:  (1, 35, 10)\n",
      "temp points:  (1306, 2)\n",
      "temp points:  (35, 2)\n",
      "plever:  (31, 2)\n",
      "1 137 10\n"
     ]
    },
    {
     "name": "stderr",
     "output_type": "stream",
     "text": [
      "100%|██████████| 1/1 [00:00<00:00,  1.35it/s]\n",
      "  0%|          | 0/1 [00:00<?, ?it/s]"
     ]
    },
    {
     "name": "stdout",
     "output_type": "stream",
     "text": [
      " pca p_levefr resahped:  (1, 133, 10)\n",
      "  body movement pa.p_lever projection:  (1, 133, 10)\n",
      "temp points:  (1306, 2)\n",
      "temp points:  (133, 2)\n",
      "plever:  (119, 2)\n",
      "FNAME LEVER:  /media/cat/4TBSSD/yuki/IJ2/tif_files/IJ2pm_Feb11_30Hz/IJ2pm_Feb11_30Hz_all_locs_selected.txt\n",
      "1 42 10\n"
     ]
    },
    {
     "name": "stderr",
     "output_type": "stream",
     "text": [
      "100%|██████████| 1/1 [00:00<00:00,  3.78it/s]\n",
      "/media/cat/4TBSSD/anaconda3/envs/wide/lib/python3.8/site-packages/numpy/core/_asarray.py:171: VisibleDeprecationWarning: Creating an ndarray from ragged nested sequences (which is a list-or-tuple of lists-or-tuples-or ndarrays with different lengths or shapes) is deprecated. If you meant to do this, you must specify 'dtype=object' when creating the ndarray.\n",
      "  return array(a, dtype, copy=False, order=order, subok=True)\n"
     ]
    },
    {
     "name": "stdout",
     "output_type": "stream",
     "text": [
      " pca p_levefr resahped:  (1, 42, 10)\n",
      "temp points:  (1306, 2)\n",
      "temp points:  (42, 2)\n",
      "plever:  (37, 2)\n",
      "pa.session_id 1:  IJ2pm_Feb12_30Hz\n",
      "session corrected:  IJ2pm_Feb12_30Hz\n",
      "(7,)\n",
      "['left_paw' 'right_paw' 'nose' 'jaw' 'right_ear' 'tongue' 'lever']\n",
      "pa.session_id 2:  IJ2pm_Feb12_30Hz\n",
      "starts:  [ 6.26666667 18.66666667 24.46666667 36.2        43.86666667 49.\n",
      " 55.46666667 61.53333333 66.53333333 72.06666667]\n",
      "lever offset:  73\n",
      "SESSIONS:  ['Feb1_', 'Feb2_', 'Feb3_', 'Feb4_', 'Feb5_', 'Feb9_', 'Feb10_', 'Feb11_', 'Feb12_', 'Feb15_', 'Feb16_']\n",
      "SHIFT IDS:  ['2', '1', '2', '2', '1', '2', '2', '0', '2', '2', '2']\n",
      "pa.session_id:  IJ2pm_Feb12_30Hz\n",
      "SELF SHIFT ID:  2\n",
      " using shift:  2\n",
      "DLC SHIFT Loaded:  4.72\n",
      "DLC shift :  4.72   in frames:  141  after subtracting lever shift:  -68\n",
      " triggers:  (23,)\n",
      " data:  (40000, 128, 128)\n",
      "(39726, 128, 128)\n",
      "X:  (39726, 16384)\n"
     ]
    },
    {
     "name": "stderr",
     "output_type": "stream",
     "text": [
      "\r",
      "  0%|          | 0/1 [00:00<?, ?it/s]"
     ]
    },
    {
     "name": "stdout",
     "output_type": "stream",
     "text": [
      " X data using :  30  number of frames  (1321, 491520)\n",
      " pca allpoints:  (1321, 10)\n",
      "1 151 10\n"
     ]
    },
    {
     "name": "stderr",
     "output_type": "stream",
     "text": [
      "100%|██████████| 1/1 [00:00<00:00,  1.19it/s]\n",
      "  0%|          | 0/1 [00:00<?, ?it/s]"
     ]
    },
    {
     "name": "stdout",
     "output_type": "stream",
     "text": [
      " pca p_levefr resahped:  (1, 140, 10)\n",
      "  body movement pa.p_lever projection:  (1, 140, 10)\n",
      "temp points:  (1321, 2)\n",
      "temp points:  (140, 2)\n",
      "plever:  (126, 2)\n",
      "1 109 10\n"
     ]
    },
    {
     "name": "stderr",
     "output_type": "stream",
     "text": [
      "100%|██████████| 1/1 [00:00<00:00,  1.83it/s]\n",
      "  0%|          | 0/1 [00:00<?, ?it/s]"
     ]
    },
    {
     "name": "stdout",
     "output_type": "stream",
     "text": [
      " pca p_levefr resahped:  (1, 96, 10)\n",
      "  body movement pa.p_lever projection:  (1, 96, 10)\n",
      "temp points:  (1321, 2)\n",
      "temp points:  (96, 2)\n",
      "plever:  (86, 2)\n",
      "1 102 10\n"
     ]
    },
    {
     "name": "stderr",
     "output_type": "stream",
     "text": [
      "100%|██████████| 1/1 [00:00<00:00,  1.96it/s]\n",
      "100%|██████████| 1/1 [00:00<00:00, 11.20it/s]\n",
      "  0%|          | 0/1 [00:00<?, ?it/s]"
     ]
    },
    {
     "name": "stdout",
     "output_type": "stream",
     "text": [
      " pca p_levefr resahped:  (1, 88, 10)\n",
      "  body movement pa.p_lever projection:  (1, 88, 10)\n",
      "temp points:  (1321, 2)\n",
      "temp points:  (88, 2)\n",
      "plever:  (79, 2)\n",
      "1 16 10\n",
      " pca p_levefr resahped:  (1, 11, 10)\n",
      "  body movement pa.p_lever projection:  (1, 11, 10)\n",
      "temp points:  (1321, 2)\n",
      "temp points:  (11, 2)\n",
      "plever:  (10, 2)\n",
      "1 172 10\n"
     ]
    },
    {
     "name": "stderr",
     "output_type": "stream",
     "text": [
      "100%|██████████| 1/1 [00:00<00:00,  1.14it/s]\n",
      "  0%|          | 0/1 [00:00<?, ?it/s]"
     ]
    },
    {
     "name": "stdout",
     "output_type": "stream",
     "text": [
      " pca p_levefr resahped:  (1, 161, 10)\n",
      "  body movement pa.p_lever projection:  (1, 161, 10)\n",
      "temp points:  (1321, 2)\n",
      "temp points:  (161, 2)\n",
      "plever:  (145, 2)\n",
      "FNAME LEVER:  /media/cat/4TBSSD/yuki/IJ2/tif_files/IJ2pm_Feb12_30Hz/IJ2pm_Feb12_30Hz_all_locs_selected.txt\n",
      "1 27 10\n"
     ]
    },
    {
     "name": "stderr",
     "output_type": "stream",
     "text": [
      "100%|██████████| 1/1 [00:00<00:00,  5.33it/s]\n",
      "/media/cat/4TBSSD/anaconda3/envs/wide/lib/python3.8/site-packages/numpy/core/_asarray.py:171: VisibleDeprecationWarning: Creating an ndarray from ragged nested sequences (which is a list-or-tuple of lists-or-tuples-or ndarrays with different lengths or shapes) is deprecated. If you meant to do this, you must specify 'dtype=object' when creating the ndarray.\n",
      "  return array(a, dtype, copy=False, order=order, subok=True)\n"
     ]
    },
    {
     "name": "stdout",
     "output_type": "stream",
     "text": [
      " pca p_levefr resahped:  (1, 27, 10)\n",
      "temp points:  (1321, 2)\n",
      "temp points:  (27, 2)\n",
      "plever:  (24, 2)\n",
      "pa.session_id 1:  IJ2pm_Feb15_30Hz\n",
      "session corrected:  IJ2pm_Feb15_30Hz\n",
      "(7,)\n",
      "['left_paw' 'right_paw' 'nose' 'jaw' 'right_ear' 'tongue' 'lever']\n",
      "pa.session_id 2:  IJ2pm_Feb15_30Hz\n",
      "starts:  [  5.73333333  16.46666667  21.66666667  31.4         39.2\n",
      "  50.66666667  57.8         93.86666667 109.26666667 120.4       ]\n",
      "lever offset:  76\n",
      "SESSIONS:  ['Feb1_', 'Feb2_', 'Feb3_', 'Feb4_', 'Feb5_', 'Feb9_', 'Feb10_', 'Feb11_', 'Feb12_', 'Feb15_', 'Feb16_']\n",
      "SHIFT IDS:  ['2', '1', '2', '2', '1', '2', '2', '0', '2', '2', '2']\n",
      "pa.session_id:  IJ2pm_Feb15_30Hz\n",
      "SELF SHIFT ID:  2\n",
      " using shift:  2\n",
      "DLC SHIFT Loaded:  4.52\n",
      "DLC shift :  4.52   in frames:  135  after subtracting lever shift:  -59\n",
      " data missing/led missing\n",
      "pa.session_id 1:  IJ2pm_Feb16_30Hz\n",
      "session corrected:  IJ2pm_Feb16_30Hz\n",
      "(7,)\n",
      "['left_paw' 'right_paw' 'nose' 'jaw' 'right_ear' 'tongue' 'lever']\n",
      "pa.session_id 2:  IJ2pm_Feb16_30Hz\n",
      "starts:  [ 13.73333333  31.          43.86666667  47.          63.\n",
      "  93.66666667 102.         108.33333333 137.46666667 141.93333333]\n",
      "lever offset:  96\n",
      "SESSIONS:  ['Feb1_', 'Feb2_', 'Feb3_', 'Feb4_', 'Feb5_', 'Feb9_', 'Feb10_', 'Feb11_', 'Feb12_', 'Feb15_', 'Feb16_']\n",
      "SHIFT IDS:  ['2', '1', '2', '2', '1', '2', '2', '0', '2', '2', '2']\n",
      "pa.session_id:  IJ2pm_Feb16_30Hz\n",
      "SELF SHIFT ID:  2\n",
      " using shift:  2\n",
      "DLC SHIFT Loaded:  5.69\n",
      "DLC shift :  5.69   in frames:  170  after subtracting lever shift:  -74\n",
      " triggers:  (44,)\n",
      " data:  (40000, 128, 128)\n",
      "(39024, 128, 128)\n",
      "X:  (39024, 16384)\n"
     ]
    },
    {
     "name": "stderr",
     "output_type": "stream",
     "text": [
      "\r",
      "  0%|          | 0/1 [00:00<?, ?it/s]"
     ]
    },
    {
     "name": "stdout",
     "output_type": "stream",
     "text": [
      " X data using :  30  number of frames  (1298, 491520)\n",
      " pca allpoints:  (1298, 10)\n",
      "1 95 10\n"
     ]
    },
    {
     "name": "stderr",
     "output_type": "stream",
     "text": [
      "100%|██████████| 1/1 [00:00<00:00,  1.74it/s]\n",
      "  0%|          | 0/1 [00:00<?, ?it/s]"
     ]
    },
    {
     "name": "stdout",
     "output_type": "stream",
     "text": [
      " pca p_levefr resahped:  (1, 90, 10)\n",
      "  body movement pa.p_lever projection:  (1, 90, 10)\n",
      "temp points:  (1298, 2)\n",
      "temp points:  (90, 2)\n",
      "plever:  (81, 2)\n",
      "1 110 10\n"
     ]
    },
    {
     "name": "stderr",
     "output_type": "stream",
     "text": [
      "100%|██████████| 1/1 [00:00<00:00,  1.18it/s]\n",
      "  0%|          | 0/1 [00:00<?, ?it/s]"
     ]
    },
    {
     "name": "stdout",
     "output_type": "stream",
     "text": [
      " pca p_levefr resahped:  (1, 103, 10)\n",
      "  body movement pa.p_lever projection:  (1, 103, 10)\n",
      "temp points:  (1298, 2)\n",
      "temp points:  (103, 2)\n",
      "plever:  (92, 2)\n",
      "1 160 10\n"
     ]
    },
    {
     "name": "stderr",
     "output_type": "stream",
     "text": [
      "100%|██████████| 1/1 [00:01<00:00,  1.08s/it]\n",
      "100%|██████████| 1/1 [00:00<00:00,  6.43it/s]\n",
      "  0%|          | 0/1 [00:00<?, ?it/s]"
     ]
    },
    {
     "name": "stdout",
     "output_type": "stream",
     "text": [
      " pca p_levefr resahped:  (1, 155, 10)\n",
      "  body movement pa.p_lever projection:  (1, 155, 10)\n",
      "temp points:  (1298, 2)\n",
      "temp points:  (155, 2)\n",
      "plever:  (139, 2)\n",
      "1 32 10\n",
      " pca p_levefr resahped:  (1, 26, 10)\n",
      "  body movement pa.p_lever projection:  (1, 26, 10)\n",
      "temp points:  (1298, 2)\n",
      "temp points:  (26, 2)\n",
      "plever:  (23, 2)\n",
      "1 198 10\n"
     ]
    },
    {
     "name": "stderr",
     "output_type": "stream",
     "text": [
      "100%|██████████| 1/1 [00:01<00:00,  1.41s/it]\n",
      "  0%|          | 0/1 [00:00<?, ?it/s]"
     ]
    },
    {
     "name": "stdout",
     "output_type": "stream",
     "text": [
      " pca p_levefr resahped:  (1, 191, 10)\n",
      "  body movement pa.p_lever projection:  (1, 191, 10)\n",
      "temp points:  (1298, 2)\n",
      "temp points:  (191, 2)\n",
      "plever:  (172, 2)\n",
      "FNAME LEVER:  /media/cat/4TBSSD/yuki/IJ2/tif_files/IJ2pm_Feb16_30Hz/IJ2pm_Feb16_30Hz_all_locs_selected.txt\n",
      "1 58 10\n"
     ]
    },
    {
     "name": "stderr",
     "output_type": "stream",
     "text": [
      "100%|██████████| 1/1 [00:00<00:00,  2.41it/s]\n",
      "/media/cat/4TBSSD/anaconda3/envs/wide/lib/python3.8/site-packages/numpy/core/_asarray.py:171: VisibleDeprecationWarning: Creating an ndarray from ragged nested sequences (which is a list-or-tuple of lists-or-tuples-or ndarrays with different lengths or shapes) is deprecated. If you meant to do this, you must specify 'dtype=object' when creating the ndarray.\n",
      "  return array(a, dtype, copy=False, order=order, subok=True)\n"
     ]
    },
    {
     "name": "stdout",
     "output_type": "stream",
     "text": [
      " pca p_levefr resahped:  (1, 58, 10)\n",
      "temp points:  (1298, 2)\n",
      "temp points:  (58, 2)\n",
      "plever:  (52, 2)\n",
      "pa.session_id 1:  IJ2pm_Feb17_30Hz\n",
      "session corrected:  IJ2pm_Feb17_30Hz\n",
      " No video/3sec movement files...\n",
      "pa.session_id 1:  IJ2pm_Feb18_30Hz\n",
      "session corrected:  IJ2pm_Feb18_30Hz\n",
      " No video/3sec movement files...\n",
      "pa.session_id 1:  IJ2pm_Feb22_30Hz\n",
      "session corrected:  IJ2pm_Feb22_30Hz\n",
      " No video/3sec movement files...\n",
      "pa.session_id 1:  IJ2pm_Feb23_30Hz\n",
      "session corrected:  IJ2pm_Feb23_30Hz\n",
      " No video/3sec movement files...\n",
      "pa.session_id 1:  IJ2pm_Feb24_30Hz\n",
      "session corrected:  IJ2pm_Feb24_30Hz\n",
      " No video/3sec movement files...\n",
      "pa.session_id 1:  IJ2pm_Feb25_30Hz\n",
      "session corrected:  IJ2pm_Feb25_30Hz\n",
      " No video/3sec movement files...\n",
      "pa.session_id 1:  IJ2pm_Feb26_30Hz\n",
      "session corrected:  IJ2pm_Feb26_30Hz\n",
      " No video/3sec movement files...\n",
      "pa.session_id 1:  IJ2pm_Feb29_30Hz\n",
      "session corrected:  IJ2pm_Feb29_30Hz\n",
      " No video/3sec movement files...\n",
      "pa.session_id 1:  IJ2pm_Mar1_30Hz\n",
      "session corrected:  IJ2pm_Mar1_30Hz\n",
      " No video/3sec movement files...\n",
      "pa.session_id 1:  IJ2pm_Mar2_30Hz\n",
      "session corrected:  IJ2pm_Mar2_30Hz\n",
      " No video/3sec movement files...\n",
      "pa.session_id 1:  IJ2pm_Mar3_30Hz\n",
      "session corrected:  IJ2pm_Mar3_30Hz\n",
      " No video/3sec movement files...\n",
      "pa.session_id 1:  IJ2am_Mar7_30Hz\n",
      "session corrected:  IJ2am_Mar7_30Hz\n",
      " No video/3sec movement files...\n",
      "pa.session_id 1:  IJ2pm_Mar8_30Hz\n",
      "session corrected:  IJ2pm_Mar8_30Hz\n",
      " No video/3sec movement files...\n",
      "pa.session_id 1:  IJ2am_Mar9_30Hz\n",
      "session corrected:  IJ2am_Mar9_30Hz\n",
      " No video/3sec movement files...\n",
      "pa.session_id 1:  IJ2am_Mar10_30Hz\n",
      "session corrected:  IJ2am_Mar10_30Hz\n",
      " No video/3sec movement files...\n",
      "pa.session_id 1:  IJ2am_Mar11_30Hz\n",
      "session corrected:  IJ2am_Mar11_30Hz\n",
      " No video/3sec movement files...\n",
      "pa.session_id 1:  IJ2pm_Mar14_30Hz\n",
      "session corrected:  IJ2pm_Mar14_30Hz\n",
      " No video/3sec movement files...\n",
      "pa.session_id 1:  IJ2am_Mar15_30Hz\n",
      "session corrected:  IJ2am_Mar15_30Hz\n",
      " No video/3sec movement files...\n",
      "pa.session_id 1:  IJ2pm_Mar16_30Hz\n",
      "session corrected:  IJ2pm_Mar16_30Hz\n",
      " No video/3sec movement files...\n",
      "pa.session_id 1:  IJ2pm_Mar17_30Hz\n",
      "session corrected:  IJ2pm_Mar17_30Hz\n",
      " No video/3sec movement files...\n",
      "pa.session_id 1:  IJ2pm_Mar18_30Hz\n",
      "session corrected:  IJ2pm_Mar18_30Hz\n",
      " No video/3sec movement files...\n",
      "pa.session_id 1:  IJ2pm_Mar21_30Hz\n",
      "session corrected:  IJ2pm_Mar21_30Hz\n",
      " No video/3sec movement files...\n",
      "pa.session_id 1:  IJ2pm_Mar22_30Hz\n",
      "session corrected:  IJ2pm_Mar22_30Hz\n",
      " No video/3sec movement files...\n",
      "pa.session_id 1:  IJ2pm_Mar23_30Hz\n",
      "session corrected:  IJ2pm_Mar23_30Hz\n",
      " No video/3sec movement files...\n",
      "pa.session_id 1:  IJ2pm_Mar24_30Hz\n",
      "session corrected:  IJ2pm_Mar24_30Hz\n",
      " No video/3sec movement files...\n",
      "pa.session_id 1:  IJ2pm_Mar29_30Hz\n",
      "session corrected:  IJ2pm_Mar29_30Hz\n",
      " No video/3sec movement files...\n",
      "pa.session_id 1:  IJ2pm_Mar30_30Hz\n",
      "session corrected:  IJ2pm_Mar30_30Hz\n",
      " No video/3sec movement files...\n",
      "pa.session_id 1:  IJ2pm_Mar31_30Hz\n",
      "session corrected:  IJ2pm_Mar31_30Hz\n",
      " No video/3sec movement files...\n",
      "pa.session_id 1:  IJ2pm_Apr1_30Hz\n",
      "session corrected:  IJ2pm_Apr1_30Hz\n",
      " No video/3sec movement files...\n",
      "pa.session_id 1:  IJ2pm_Apr4_30Hz\n",
      "session corrected:  IJ2pm_Apr4_30Hz\n",
      " No video/3sec movement files...\n",
      "pa.session_id 1:  IJ2pm_Apr5_30Hz\n",
      "session corrected:  IJ2pm_Apr5_30Hz\n",
      " No video/3sec movement files...\n",
      "pa.session_id 1:  IJ2pm_Apr6_30Hz\n",
      "session corrected:  IJ2pm_Apr6_30Hz\n",
      " No video/3sec movement files...\n",
      "pa.session_id 1:  IJ2pm_Apr7_30Hz\n",
      "session corrected:  IJ2pm_Apr7_30Hz\n",
      " No video/3sec movement files...\n",
      "sessions:  ['AQ2am_Dec9_30Hz' 'AQ2am_Dec10_30Hz' 'AQ2pm_Dec10_30Hz'\n",
      " 'AQ2am_Dec11_30Hz' 'AQ2pm_Dec14_30Hz' 'AQ2am_Dec14_30Hz'\n",
      " 'AQ2pm_Dec16_30Hz' 'AQ2am_Dec17_30Hz' 'AQ2pm_Dec17_30Hz'\n",
      " 'AQ2am_Dec18_30Hz' 'AQ2pm_Dec18_30Hz' 'AQ2am_Dec21_30Hz'\n",
      " 'AQ2am_Dec22_30Hz' 'AQ2am_Dec23_30Hz' 'AQ2am_Dec28_30Hz'\n",
      " 'AQ2am_Dec29_30Hz' 'AQ2am_Dec30_30Hz' 'AQ2am_Dec31_30Hz'\n",
      " 'AQ2am_Jan4_30Hz' 'AQ2am_Jan5_30Hz' 'AQ2am_Jan6_30Hz' 'AQ2am_Jan7_30Hz'\n",
      " 'AQ2am_Jan8_30Hz' 'AQ2pm_Jan11_30Hz' 'AQ2am_Jan11_30Hz'\n",
      " 'AQ2pm_Jan12_30Hz' 'AQ2am_Jan12_30Hz' 'AQ2pm_Jan13_30Hz'\n",
      " 'AQ2am_Jan13_30Hz' 'AQ2pm_Jan14_30Hz' 'AQ2am_Jan14_30Hz'\n",
      " 'AQ2am_Jan15_30Hz' 'AQ2pm_Jan15_30Hz' 'AQ2pm_Jan18_30Hz'\n",
      " 'AQ2am_Jan18_30Hz' 'AQ2am_Jan19_30Hz' 'AQ2pm_Jan19_30Hz'\n",
      " 'AQ2pm_Jan20_30Hz' 'AQ2am_Jan20_30Hz' 'AQ2pm_Jan21_30Hz'\n",
      " 'AQ2am_Jan21_30Hz' 'AQ2pm_Jan22_30Hz' 'AQ2am_Jan22_30Hz'\n",
      " 'AQ2am_Jan25_30Hz' 'AQ2pm_Jan25_30Hz' 'AQ2pm_Jan26_30Hz'\n",
      " 'AQ2am_Jan26_30Hz' 'AQ2am_Jan27_30Hz' 'AQ2pm_Jan27_30Hz'\n",
      " 'AQ2am_Jan28_30Hz' 'AQ2pm_Jan28_30Hz' 'AQ2am_Jan29_30Hz'\n",
      " 'AQ2pm_Jan29_30Hz' 'AQ2am_Feb2_30Hz' 'AQ2am_Feb3_30Hz' 'AQ2am_Feb4_30Hz'\n",
      " 'AQ2am_Feb5_30Hz' 'AQ2am_Feb9_30Hz' 'AQ2am_Feb10_30Hz' 'AQ2am_Feb11_30Hz'\n",
      " 'AQ2am_Feb12_30Hz' 'AQ2am_Feb15_30Hz' 'AQ2am_Feb16_30Hz'\n",
      " 'AQ2am_Feb17_30Hz' 'AQ2am_Feb18_30Hz' 'AQ2am_Feb19_30Hz'\n",
      " 'AQ2am_Feb22_30Hz' 'AQ2am_Feb23_30Hz' 'AQ2am_Feb25_30Hz'\n",
      " 'AQ2am_Feb26_30Hz' 'AQ2am_Feb29_30Hz' 'AQ2am_Mar1_30Hz' 'AQ2am_Mar2_30Hz'\n",
      " 'AQ2am_Mar3_30Hz' 'AQ2pm_Mar7_Day3_30Hz' 'AQ2pm_Mar9_Day5_30Hz'\n",
      " 'AQ2pm_Mar11_Day7_30Hz' 'AQ2am_Mar14_Week2_30Hz' 'AQ2pm_Mar15_Week2_30Hz'\n",
      " 'AQ2am_Mar16_Week2_30Hz' 'AQ2am_Mar17_Week2_30Hz'\n",
      " 'AQ2am_Mar18_Week2_30Hz' 'AQ2am_Mar21_Week3_30Hz'\n",
      " 'AQ2am_Mar22_Week3_30Hz' 'AQ2am_Mar23_Week3_30Hz'\n",
      " 'AQ2am_Mar24_Week3_30Hz' 'AQ2am_Mar29_Week4_30Hz'\n",
      " 'AQ2am_Mar30_Week4_30Hz' 'AQ2am_Mar31_Week4_30Hz' 'AQ2am_Apr1_Week4_30Hz'\n",
      " 'AQ2am_Apr4_Week5_30Hz' 'AQ2am_Apr5_Week5_30Hz' 'AQ2am_Apr6_Week5_30Hz'\n",
      " 'AQ2am_Apr7_Week5_30Hz' 'AQ2am_Apr8_Week5_30Hz' 'AQ2am_Apr11_Week6_30Hz'\n",
      " 'AQ2am_Apr12_Week6_30Hz' 'AQ2am_Apr13_Week6_30Hz'\n",
      " 'AQ2am_Apr14_Week6_30Hz' 'AQ2am_Apr15_Week6_30Hz'\n",
      " 'AQ2am_Apr18_Week7_30Hz' 'AQ2am_Apr19_Week7_30Hz'\n",
      " 'AQ2am_Apr20_Week7_30Hz' 'AQ2am_Apr21_Week7_30Hz'\n",
      " 'AQ2am_Apr22_Week7_30Hz' 'AQ2am_Apr25_Week8_30Hz'\n",
      " 'AQ2am_Apr26_Week8_30Hz' 'AQ2am_Apr27_Week8_30Hz'\n",
      " 'AQ2am_Apr28_Week8_30Hz' 'AQ2am_Apr29_Week8_30Hz']\n",
      "pa.session_id 1:  AQ2am_Dec9_30Hz\n",
      "session corrected:  AQ2am_Dec9_30Hz\n",
      "(7,)\n",
      "['left_paw' 'right_paw' 'nose' 'jaw' 'right_ear' 'tongue' 'lever']\n",
      "pa.session_id 2:  AQ2am_Dec9_30Hz\n",
      "starts:  [ 6.06666667 16.         20.93333333 28.66666667 58.4        65.26666667\n",
      " 73.06666667 78.8        83.66666667 89.66666667]\n",
      "lever offset:  65\n",
      "SESSIONS:  ['am_Apr21_', 'am_Apr22_', 'am_Apr25_', 'am_Apr26_', 'am_Apr27_', 'am_Apr28_', 'am_Apr29_', 'am_Dec9_', 'am_Dec11_', 'am_Dec17_', 'am_Dec18_', 'am_Dec28_', 'am_Dec29_', 'am_Dec30_', 'am_Feb2_', 'am_Feb3_', 'am_Feb4_', 'am_Feb5_', 'am_Feb9_', 'am_Feb10_', 'am_Feb11_', 'am_Feb12_', 'am_Feb15_', 'am_Feb16_', 'am_Feb17_', 'am_Feb18_', 'am_Jan5_', 'am_Jan6_', 'am_Jan7_', 'am_Jan8_', 'am_Jan13_', 'am_Jan14_', 'am_Jan15_', 'am_Jan18_', 'am_Jan19_', 'am_Jan21_', 'am_Jan22_', 'am_Jan28_', 'am_Jan29_', 'pm_Dec16_', 'pm_Dec17_', 'pm_Jan11_', 'pm_Jan13_', 'pm_Jan14_', 'pm_Jan15_', 'pm_Jan18_', 'pm_Jan20_', 'pm_Jan21_', 'pm_Jan22_', 'pm_Jan26_', 'pm_Jan27_', 'pm_Jan28_', 'pm_Jan29_']\n",
      "SHIFT IDS:  ['2', '2', '2', '2', '2', '0', '2', '2', '1', '1', '2', '2', '1', '2', '2', '1', '1', '2', '1', '2', '2', '2', '1', '1', '1', '0', '1', '2', '2', '0', '2', '2', '2', '2', '0', '1', '0', '1', '1', '2', '2', '2', '2', '2', '2', '2', '2', '2', '1', '1', '1', '2', '1']\n",
      "pa.session_id:  AQ2am_Dec9_30Hz\n",
      "SELF SHIFT ID:  2\n",
      " using shift:  2\n",
      "DLC SHIFT Loaded:  8.48\n",
      "DLC shift :  8.48   in frames:  254  after subtracting lever shift:  -189\n",
      " data missing/led missing\n",
      "pa.session_id 1:  AQ2am_Dec10_30Hz\n",
      "session corrected:  AQ2am_Dec10_30Hz\n",
      "(7,)\n",
      "['left_paw' 'right_paw' 'nose' 'jaw' 'right_ear' 'tongue' 'lever']\n",
      "pa.session_id 2:  AQ2am_Dec10_30Hz\n",
      "starts:  [ 11.86666667  33.46666667  44.73333333  54.93333333  60.66666667\n",
      "  79.53333333  94.8        114.8        119.73333333 126.66666667]\n",
      "lever offset:  99\n",
      "SESSIONS:  ['am_Apr21_', 'am_Apr22_', 'am_Apr25_', 'am_Apr26_', 'am_Apr27_', 'am_Apr28_', 'am_Apr29_', 'am_Dec9_', 'am_Dec11_', 'am_Dec17_', 'am_Dec18_', 'am_Dec28_', 'am_Dec29_', 'am_Dec30_', 'am_Feb2_', 'am_Feb3_', 'am_Feb4_', 'am_Feb5_', 'am_Feb9_', 'am_Feb10_', 'am_Feb11_', 'am_Feb12_', 'am_Feb15_', 'am_Feb16_', 'am_Feb17_', 'am_Feb18_', 'am_Jan5_', 'am_Jan6_', 'am_Jan7_', 'am_Jan8_', 'am_Jan13_', 'am_Jan14_', 'am_Jan15_', 'am_Jan18_', 'am_Jan19_', 'am_Jan21_', 'am_Jan22_', 'am_Jan28_', 'am_Jan29_', 'pm_Dec16_', 'pm_Dec17_', 'pm_Jan11_', 'pm_Jan13_', 'pm_Jan14_', 'pm_Jan15_', 'pm_Jan18_', 'pm_Jan20_', 'pm_Jan21_', 'pm_Jan22_', 'pm_Jan26_', 'pm_Jan27_', 'pm_Jan28_', 'pm_Jan29_']\n",
      "SHIFT IDS:  ['2', '2', '2', '2', '2', '0', '2', '2', '1', '1', '2', '2', '1', '2', '2', '1', '1', '2', '1', '2', '2', '2', '1', '1', '1', '0', '1', '2', '2', '0', '2', '2', '2', '2', '0', '1', '0', '1', '1', '2', '2', '2', '2', '2', '2', '2', '2', '2', '1', '1', '1', '2', '1']\n",
      "pa.session_id:  AQ2am_Dec10_30Hz\n",
      "pa.session_id 1:  AQ2pm_Dec10_30Hz\n",
      "session corrected:  AQ2pm_Dec10_30Hz\n",
      "(7,)\n",
      "['left_paw' 'right_paw' 'nose' 'jaw' 'right_ear' 'tongue' 'lever']\n",
      "pa.session_id 2:  AQ2pm_Dec10_30Hz\n",
      "starts:  [ 21.2         46.86666667  59.4         66.33333333  69.8\n",
      "  76.93333333  83.13333333 103.53333333 129.26666667 144.2       ]\n"
     ]
    },
    {
     "name": "stdout",
     "output_type": "stream",
     "text": [
      "lever offset:  54\n",
      "SESSIONS:  ['am_Apr21_', 'am_Apr22_', 'am_Apr25_', 'am_Apr26_', 'am_Apr27_', 'am_Apr28_', 'am_Apr29_', 'am_Dec9_', 'am_Dec11_', 'am_Dec17_', 'am_Dec18_', 'am_Dec28_', 'am_Dec29_', 'am_Dec30_', 'am_Feb2_', 'am_Feb3_', 'am_Feb4_', 'am_Feb5_', 'am_Feb9_', 'am_Feb10_', 'am_Feb11_', 'am_Feb12_', 'am_Feb15_', 'am_Feb16_', 'am_Feb17_', 'am_Feb18_', 'am_Jan5_', 'am_Jan6_', 'am_Jan7_', 'am_Jan8_', 'am_Jan13_', 'am_Jan14_', 'am_Jan15_', 'am_Jan18_', 'am_Jan19_', 'am_Jan21_', 'am_Jan22_', 'am_Jan28_', 'am_Jan29_', 'pm_Dec16_', 'pm_Dec17_', 'pm_Jan11_', 'pm_Jan13_', 'pm_Jan14_', 'pm_Jan15_', 'pm_Jan18_', 'pm_Jan20_', 'pm_Jan21_', 'pm_Jan22_', 'pm_Jan26_', 'pm_Jan27_', 'pm_Jan28_', 'pm_Jan29_']\n",
      "SHIFT IDS:  ['2', '2', '2', '2', '2', '0', '2', '2', '1', '1', '2', '2', '1', '2', '2', '1', '1', '2', '1', '2', '2', '2', '1', '1', '1', '0', '1', '2', '2', '0', '2', '2', '2', '2', '0', '1', '0', '1', '1', '2', '2', '2', '2', '2', '2', '2', '2', '2', '1', '1', '1', '2', '1']\n",
      "pa.session_id:  AQ2pm_Dec10_30Hz\n",
      "pa.session_id 1:  AQ2am_Dec11_30Hz\n",
      "session corrected:  AQ2am_Dec11_30Hz\n",
      "(7,)\n",
      "['left_paw' 'right_paw' 'nose' 'jaw' 'right_ear' 'tongue' 'lever']\n",
      "pa.session_id 2:  AQ2am_Dec11_30Hz\n",
      "starts:  [  5.4         20.06666667  39.33333333  53.86666667  60.86666667\n",
      "  71.53333333  80.93333333  90.26666667 115.86666667 119.13333333]\n",
      "lever offset:  65\n",
      "SESSIONS:  ['am_Apr21_', 'am_Apr22_', 'am_Apr25_', 'am_Apr26_', 'am_Apr27_', 'am_Apr28_', 'am_Apr29_', 'am_Dec9_', 'am_Dec11_', 'am_Dec17_', 'am_Dec18_', 'am_Dec28_', 'am_Dec29_', 'am_Dec30_', 'am_Feb2_', 'am_Feb3_', 'am_Feb4_', 'am_Feb5_', 'am_Feb9_', 'am_Feb10_', 'am_Feb11_', 'am_Feb12_', 'am_Feb15_', 'am_Feb16_', 'am_Feb17_', 'am_Feb18_', 'am_Jan5_', 'am_Jan6_', 'am_Jan7_', 'am_Jan8_', 'am_Jan13_', 'am_Jan14_', 'am_Jan15_', 'am_Jan18_', 'am_Jan19_', 'am_Jan21_', 'am_Jan22_', 'am_Jan28_', 'am_Jan29_', 'pm_Dec16_', 'pm_Dec17_', 'pm_Jan11_', 'pm_Jan13_', 'pm_Jan14_', 'pm_Jan15_', 'pm_Jan18_', 'pm_Jan20_', 'pm_Jan21_', 'pm_Jan22_', 'pm_Jan26_', 'pm_Jan27_', 'pm_Jan28_', 'pm_Jan29_']\n",
      "SHIFT IDS:  ['2', '2', '2', '2', '2', '0', '2', '2', '1', '1', '2', '2', '1', '2', '2', '1', '1', '2', '1', '2', '2', '2', '1', '1', '1', '0', '1', '2', '2', '0', '2', '2', '2', '2', '0', '1', '0', '1', '1', '2', '2', '2', '2', '2', '2', '2', '2', '2', '1', '1', '1', '2', '1']\n",
      "pa.session_id:  AQ2am_Dec11_30Hz\n",
      "SELF SHIFT ID:  1\n",
      " using shift:  1\n",
      "DLC SHIFT Loaded:  5.79\n",
      "DLC shift :  5.79   in frames:  173  after subtracting lever shift:  -108\n",
      " triggers:  (7,)\n",
      " data:  (40000, 128, 128)\n",
      "(39015, 128, 128)\n",
      "X:  (39015, 16384)\n"
     ]
    },
    {
     "name": "stderr",
     "output_type": "stream",
     "text": [
      "\r",
      "  0%|          | 0/1 [00:00<?, ?it/s]"
     ]
    },
    {
     "name": "stdout",
     "output_type": "stream",
     "text": [
      " X data using :  30  number of frames  (1298, 491520)\n",
      " pca allpoints:  (1298, 10)\n",
      "1 91 10\n"
     ]
    },
    {
     "name": "stderr",
     "output_type": "stream",
     "text": [
      "100%|██████████| 1/1 [00:00<00:00,  1.71it/s]\n",
      "  0%|          | 0/1 [00:00<?, ?it/s]"
     ]
    },
    {
     "name": "stdout",
     "output_type": "stream",
     "text": [
      " pca p_levefr resahped:  (1, 88, 10)\n",
      "  body movement pa.p_lever projection:  (1, 88, 10)\n",
      "temp points:  (1298, 2)\n",
      "temp points:  (88, 2)\n",
      "plever:  (79, 2)\n",
      "1 91 10\n"
     ]
    },
    {
     "name": "stderr",
     "output_type": "stream",
     "text": [
      "100%|██████████| 1/1 [00:00<00:00,  1.88it/s]\n",
      "100%|██████████| 1/1 [00:00<00:00,  6.46it/s]\n",
      "  0%|          | 0/1 [00:00<?, ?it/s]"
     ]
    },
    {
     "name": "stdout",
     "output_type": "stream",
     "text": [
      " pca p_levefr resahped:  (1, 88, 10)\n",
      "  body movement pa.p_lever projection:  (1, 88, 10)\n",
      "temp points:  (1298, 2)\n",
      "temp points:  (88, 2)\n",
      "plever:  (79, 2)\n",
      "1 23 10\n",
      " pca p_levefr resahped:  (1, 21, 10)\n",
      "  body movement pa.p_lever projection:  (1, 21, 10)\n",
      "temp points:  (1298, 2)\n",
      "temp points:  (21, 2)\n",
      "plever:  (19, 2)\n",
      "1 115 10\n"
     ]
    },
    {
     "name": "stderr",
     "output_type": "stream",
     "text": [
      "100%|██████████| 1/1 [00:00<00:00,  1.51it/s]\n",
      "  0%|          | 0/1 [00:00<?, ?it/s]"
     ]
    },
    {
     "name": "stdout",
     "output_type": "stream",
     "text": [
      " pca p_levefr resahped:  (1, 112, 10)\n",
      "  body movement pa.p_lever projection:  (1, 112, 10)\n",
      "temp points:  (1298, 2)\n",
      "temp points:  (112, 2)\n",
      "plever:  (100, 2)\n",
      "1 102 10\n"
     ]
    },
    {
     "name": "stderr",
     "output_type": "stream",
     "text": [
      "100%|██████████| 1/1 [00:00<00:00,  1.63it/s]\n",
      "100%|██████████| 1/1 [00:00<00:00, 13.65it/s]\n",
      "/media/cat/4TBSSD/anaconda3/envs/wide/lib/python3.8/site-packages/numpy/core/_asarray.py:171: VisibleDeprecationWarning: Creating an ndarray from ragged nested sequences (which is a list-or-tuple of lists-or-tuples-or ndarrays with different lengths or shapes) is deprecated. If you meant to do this, you must specify 'dtype=object' when creating the ndarray.\n",
      "  return array(a, dtype, copy=False, order=order, subok=True)\n"
     ]
    },
    {
     "name": "stdout",
     "output_type": "stream",
     "text": [
      " pca p_levefr resahped:  (1, 99, 10)\n",
      "  body movement pa.p_lever projection:  (1, 99, 10)\n",
      "temp points:  (1298, 2)\n",
      "temp points:  (99, 2)\n",
      "plever:  (89, 2)\n",
      "FNAME LEVER:  /media/cat/4TBSSD/yuki/AQ2/tif_files/AQ2am_Dec11_30Hz/AQ2am_Dec11_30Hz_all_locs_selected.txt\n",
      "1 7 10\n",
      " pca p_levefr resahped:  (1, 7, 10)\n",
      "temp points:  (1298, 2)\n",
      "temp points:  (7, 2)\n",
      "plever:  (6, 2)\n",
      "pa.session_id 1:  AQ2pm_Dec14_30Hz\n",
      "session corrected:  AQ2pm_Dec14_30Hz\n",
      "(7,)\n",
      "['left_paw' 'right_paw' 'nose' 'jaw' 'right_ear' 'tongue' 'lever']\n",
      "pa.session_id 2:  AQ2pm_Dec14_30Hz\n",
      "starts:  [ 12.06666667  18.4         26.73333333  51.46666667  62.26666667\n",
      "  82.          95.66666667 103.86666667 111.2        138.6       ]\n",
      "lever offset:  78\n",
      "SESSIONS:  ['am_Apr21_', 'am_Apr22_', 'am_Apr25_', 'am_Apr26_', 'am_Apr27_', 'am_Apr28_', 'am_Apr29_', 'am_Dec9_', 'am_Dec11_', 'am_Dec17_', 'am_Dec18_', 'am_Dec28_', 'am_Dec29_', 'am_Dec30_', 'am_Feb2_', 'am_Feb3_', 'am_Feb4_', 'am_Feb5_', 'am_Feb9_', 'am_Feb10_', 'am_Feb11_', 'am_Feb12_', 'am_Feb15_', 'am_Feb16_', 'am_Feb17_', 'am_Feb18_', 'am_Jan5_', 'am_Jan6_', 'am_Jan7_', 'am_Jan8_', 'am_Jan13_', 'am_Jan14_', 'am_Jan15_', 'am_Jan18_', 'am_Jan19_', 'am_Jan21_', 'am_Jan22_', 'am_Jan28_', 'am_Jan29_', 'pm_Dec16_', 'pm_Dec17_', 'pm_Jan11_', 'pm_Jan13_', 'pm_Jan14_', 'pm_Jan15_', 'pm_Jan18_', 'pm_Jan20_', 'pm_Jan21_', 'pm_Jan22_', 'pm_Jan26_', 'pm_Jan27_', 'pm_Jan28_', 'pm_Jan29_']\n",
      "SHIFT IDS:  ['2', '2', '2', '2', '2', '0', '2', '2', '1', '1', '2', '2', '1', '2', '2', '1', '1', '2', '1', '2', '2', '2', '1', '1', '1', '0', '1', '2', '2', '0', '2', '2', '2', '2', '0', '1', '0', '1', '1', '2', '2', '2', '2', '2', '2', '2', '2', '2', '1', '1', '1', '2', '1']\n",
      "pa.session_id:  AQ2pm_Dec14_30Hz\n",
      "pa.session_id 1:  AQ2am_Dec14_30Hz\n",
      "session corrected:  AQ2am_Dec14_30Hz\n",
      "(7,)\n",
      "['left_paw' 'right_paw' 'nose' 'jaw' 'right_ear' 'tongue' 'lever']\n",
      "pa.session_id 2:  AQ2am_Dec14_30Hz\n",
      "starts:  [ 45.66666667  61.13333333  82.46666667 101.13333333 110.6\n",
      " 118.66666667 147.73333333 157.13333333 161.13333333 165.4       ]\n",
      "lever offset:  70\n",
      "SESSIONS:  ['am_Apr21_', 'am_Apr22_', 'am_Apr25_', 'am_Apr26_', 'am_Apr27_', 'am_Apr28_', 'am_Apr29_', 'am_Dec9_', 'am_Dec11_', 'am_Dec17_', 'am_Dec18_', 'am_Dec28_', 'am_Dec29_', 'am_Dec30_', 'am_Feb2_', 'am_Feb3_', 'am_Feb4_', 'am_Feb5_', 'am_Feb9_', 'am_Feb10_', 'am_Feb11_', 'am_Feb12_', 'am_Feb15_', 'am_Feb16_', 'am_Feb17_', 'am_Feb18_', 'am_Jan5_', 'am_Jan6_', 'am_Jan7_', 'am_Jan8_', 'am_Jan13_', 'am_Jan14_', 'am_Jan15_', 'am_Jan18_', 'am_Jan19_', 'am_Jan21_', 'am_Jan22_', 'am_Jan28_', 'am_Jan29_', 'pm_Dec16_', 'pm_Dec17_', 'pm_Jan11_', 'pm_Jan13_', 'pm_Jan14_', 'pm_Jan15_', 'pm_Jan18_', 'pm_Jan20_', 'pm_Jan21_', 'pm_Jan22_', 'pm_Jan26_', 'pm_Jan27_', 'pm_Jan28_', 'pm_Jan29_']\n",
      "SHIFT IDS:  ['2', '2', '2', '2', '2', '0', '2', '2', '1', '1', '2', '2', '1', '2', '2', '1', '1', '2', '1', '2', '2', '2', '1', '1', '1', '0', '1', '2', '2', '0', '2', '2', '2', '2', '0', '1', '0', '1', '1', '2', '2', '2', '2', '2', '2', '2', '2', '2', '1', '1', '1', '2', '1']\n",
      "pa.session_id:  AQ2am_Dec14_30Hz\n",
      "pa.session_id 1:  AQ2pm_Dec16_30Hz\n",
      "session corrected:  AQ2pm_Dec16_30Hz\n",
      "(7,)\n",
      "['left_paw' 'right_paw' 'nose' 'jaw' 'right_ear' 'tongue' 'lever']\n",
      "pa.session_id 2:  AQ2pm_Dec16_30Hz\n",
      "starts:  [ 14.4         36.2         52.66666667  59.13333333  77.06666667\n",
      " 113.46666667 134.66666667 159.8        202.73333333 219.        ]\n",
      "lever offset:  68\n",
      "SESSIONS:  ['am_Apr21_', 'am_Apr22_', 'am_Apr25_', 'am_Apr26_', 'am_Apr27_', 'am_Apr28_', 'am_Apr29_', 'am_Dec9_', 'am_Dec11_', 'am_Dec17_', 'am_Dec18_', 'am_Dec28_', 'am_Dec29_', 'am_Dec30_', 'am_Feb2_', 'am_Feb3_', 'am_Feb4_', 'am_Feb5_', 'am_Feb9_', 'am_Feb10_', 'am_Feb11_', 'am_Feb12_', 'am_Feb15_', 'am_Feb16_', 'am_Feb17_', 'am_Feb18_', 'am_Jan5_', 'am_Jan6_', 'am_Jan7_', 'am_Jan8_', 'am_Jan13_', 'am_Jan14_', 'am_Jan15_', 'am_Jan18_', 'am_Jan19_', 'am_Jan21_', 'am_Jan22_', 'am_Jan28_', 'am_Jan29_', 'pm_Dec16_', 'pm_Dec17_', 'pm_Jan11_', 'pm_Jan13_', 'pm_Jan14_', 'pm_Jan15_', 'pm_Jan18_', 'pm_Jan20_', 'pm_Jan21_', 'pm_Jan22_', 'pm_Jan26_', 'pm_Jan27_', 'pm_Jan28_', 'pm_Jan29_']\n",
      "SHIFT IDS:  ['2', '2', '2', '2', '2', '0', '2', '2', '1', '1', '2', '2', '1', '2', '2', '1', '1', '2', '1', '2', '2', '2', '1', '1', '1', '0', '1', '2', '2', '0', '2', '2', '2', '2', '0', '1', '0', '1', '1', '2', '2', '2', '2', '2', '2', '2', '2', '2', '1', '1', '1', '2', '1']\n",
      "pa.session_id:  AQ2pm_Dec16_30Hz\n",
      "SELF SHIFT ID:  2\n",
      " using shift:  2\n",
      "DLC SHIFT Loaded:  5.06\n",
      "DLC shift :  5.06   in frames:  151  after subtracting lever shift:  -83\n",
      " triggers:  (23,)\n",
      " data:  (40000, 128, 128)\n",
      "(39098, 128, 128)\n",
      "X:  (39098, 16384)\n"
     ]
    },
    {
     "name": "stderr",
     "output_type": "stream",
     "text": [
      "\r",
      "  0%|          | 0/1 [00:00<?, ?it/s]"
     ]
    },
    {
     "name": "stdout",
     "output_type": "stream",
     "text": [
      " X data using :  30  number of frames  (1300, 491520)\n",
      " pca allpoints:  (1300, 10)\n",
      "1 75 10\n"
     ]
    },
    {
     "name": "stderr",
     "output_type": "stream",
     "text": [
      "100%|██████████| 1/1 [00:00<00:00,  2.47it/s]\n",
      "  0%|          | 0/1 [00:00<?, ?it/s]"
     ]
    },
    {
     "name": "stdout",
     "output_type": "stream",
     "text": [
      " pca p_levefr resahped:  (1, 73, 10)\n",
      "  body movement pa.p_lever projection:  (1, 73, 10)\n",
      "temp points:  (1300, 2)\n",
      "temp points:  (73, 2)\n",
      "plever:  (65, 2)\n",
      "1 97 10\n"
     ]
    },
    {
     "name": "stderr",
     "output_type": "stream",
     "text": [
      "100%|██████████| 1/1 [00:00<00:00,  1.98it/s]\n",
      "100%|██████████| 1/1 [00:00<00:00,  5.75it/s]\n",
      "  0%|          | 0/1 [00:00<?, ?it/s]"
     ]
    },
    {
     "name": "stdout",
     "output_type": "stream",
     "text": [
      " pca p_levefr resahped:  (1, 96, 10)\n",
      "  body movement pa.p_lever projection:  (1, 96, 10)\n",
      "temp points:  (1300, 2)\n",
      "temp points:  (96, 2)\n",
      "plever:  (86, 2)\n",
      "1 26 10\n",
      " pca p_levefr resahped:  (1, 26, 10)\n",
      "  body movement pa.p_lever projection:  (1, 26, 10)\n",
      "temp points:  (1300, 2)\n",
      "temp points:  (26, 2)\n",
      "plever:  (23, 2)\n",
      "1 62 10\n"
     ]
    },
    {
     "name": "stderr",
     "output_type": "stream",
     "text": [
      "100%|██████████| 1/1 [00:00<00:00,  3.06it/s]\n",
      "  0%|          | 0/1 [00:00<?, ?it/s]"
     ]
    },
    {
     "name": "stdout",
     "output_type": "stream",
     "text": [
      " pca p_levefr resahped:  (1, 61, 10)\n",
      "  body movement pa.p_lever projection:  (1, 61, 10)\n",
      "temp points:  (1300, 2)\n",
      "temp points:  (61, 2)\n",
      "plever:  (55, 2)\n",
      "1 91 10\n"
     ]
    },
    {
     "name": "stderr",
     "output_type": "stream",
     "text": [
      "100%|██████████| 1/1 [00:00<00:00,  1.96it/s]\n",
      "100%|██████████| 1/1 [00:00<00:00,  5.22it/s]"
     ]
    },
    {
     "name": "stdout",
     "output_type": "stream",
     "text": [
      " pca p_levefr resahped:  (1, 91, 10)\n",
      "  body movement pa.p_lever projection:  (1, 91, 10)\n",
      "temp points:  (1300, 2)\n",
      "temp points:  (91, 2)\n",
      "plever:  (82, 2)\n",
      "FNAME LEVER:  /media/cat/4TBSSD/yuki/AQ2/tif_files/AQ2pm_Dec16_30Hz/AQ2pm_Dec16_30Hz_all_locs_selected.txt\n",
      "1 28 10\n"
     ]
    },
    {
     "name": "stderr",
     "output_type": "stream",
     "text": [
      "100%|██████████| 1/1 [00:00<00:00,  5.15it/s]\n",
      "/media/cat/4TBSSD/anaconda3/envs/wide/lib/python3.8/site-packages/numpy/core/_asarray.py:171: VisibleDeprecationWarning: Creating an ndarray from ragged nested sequences (which is a list-or-tuple of lists-or-tuples-or ndarrays with different lengths or shapes) is deprecated. If you meant to do this, you must specify 'dtype=object' when creating the ndarray.\n",
      "  return array(a, dtype, copy=False, order=order, subok=True)\n"
     ]
    },
    {
     "name": "stdout",
     "output_type": "stream",
     "text": [
      " pca p_levefr resahped:  (1, 28, 10)\n",
      "temp points:  (1300, 2)\n",
      "temp points:  (28, 2)\n",
      "plever:  (25, 2)\n",
      "pa.session_id 1:  AQ2am_Dec17_30Hz\n",
      "session corrected:  AQ2am_Dec17_30Hz\n",
      "(7,)\n",
      "['left_paw' 'right_paw' 'nose' 'jaw' 'right_ear' 'tongue' 'lever']\n",
      "pa.session_id 2:  AQ2am_Dec17_30Hz\n",
      "starts:  [ 24.33333333  41.33333333  51.8         64.26666667  75.73333333\n",
      "  82.06666667 106.06666667 130.33333333 135.6        141.93333333]\n",
      "lever offset:  62\n",
      "SESSIONS:  ['am_Apr21_', 'am_Apr22_', 'am_Apr25_', 'am_Apr26_', 'am_Apr27_', 'am_Apr28_', 'am_Apr29_', 'am_Dec9_', 'am_Dec11_', 'am_Dec17_', 'am_Dec18_', 'am_Dec28_', 'am_Dec29_', 'am_Dec30_', 'am_Feb2_', 'am_Feb3_', 'am_Feb4_', 'am_Feb5_', 'am_Feb9_', 'am_Feb10_', 'am_Feb11_', 'am_Feb12_', 'am_Feb15_', 'am_Feb16_', 'am_Feb17_', 'am_Feb18_', 'am_Jan5_', 'am_Jan6_', 'am_Jan7_', 'am_Jan8_', 'am_Jan13_', 'am_Jan14_', 'am_Jan15_', 'am_Jan18_', 'am_Jan19_', 'am_Jan21_', 'am_Jan22_', 'am_Jan28_', 'am_Jan29_', 'pm_Dec16_', 'pm_Dec17_', 'pm_Jan11_', 'pm_Jan13_', 'pm_Jan14_', 'pm_Jan15_', 'pm_Jan18_', 'pm_Jan20_', 'pm_Jan21_', 'pm_Jan22_', 'pm_Jan26_', 'pm_Jan27_', 'pm_Jan28_', 'pm_Jan29_']\n",
      "SHIFT IDS:  ['2', '2', '2', '2', '2', '0', '2', '2', '1', '1', '2', '2', '1', '2', '2', '1', '1', '2', '1', '2', '2', '2', '1', '1', '1', '0', '1', '2', '2', '0', '2', '2', '2', '2', '0', '1', '0', '1', '1', '2', '2', '2', '2', '2', '2', '2', '2', '2', '1', '1', '1', '2', '1']\n",
      "pa.session_id:  AQ2am_Dec17_30Hz\n",
      "SELF SHIFT ID:  1\n",
      " using shift:  1\n",
      "DLC SHIFT Loaded:  -1.27\n",
      "DLC shift :  -1.27   in frames:  -38  after subtracting lever shift:  100\n",
      " triggers:  (15,)\n",
      " data:  (40000, 128, 128)\n",
      "(39141, 128, 128)\n",
      "X:  (39141, 16384)\n"
     ]
    },
    {
     "name": "stderr",
     "output_type": "stream",
     "text": [
      "\r",
      "  0%|          | 0/1 [00:00<?, ?it/s]"
     ]
    },
    {
     "name": "stdout",
     "output_type": "stream",
     "text": [
      " X data using :  30  number of frames  (1302, 491520)\n",
      " pca allpoints:  (1302, 10)\n",
      "1 69 10\n"
     ]
    },
    {
     "name": "stderr",
     "output_type": "stream",
     "text": [
      "100%|██████████| 1/1 [00:00<00:00,  2.55it/s]\n",
      "  0%|          | 0/1 [00:00<?, ?it/s]"
     ]
    },
    {
     "name": "stdout",
     "output_type": "stream",
     "text": [
      " pca p_levefr resahped:  (1, 67, 10)\n",
      "  body movement pa.p_lever projection:  (1, 67, 10)\n",
      "temp points:  (1302, 2)\n",
      "temp points:  (67, 2)\n",
      "plever:  (60, 2)\n",
      "1 77 10\n"
     ]
    },
    {
     "name": "stderr",
     "output_type": "stream",
     "text": [
      "100%|██████████| 1/1 [00:00<00:00,  2.34it/s]\n",
      "  0%|          | 0/1 [00:00<?, ?it/s]"
     ]
    },
    {
     "name": "stdout",
     "output_type": "stream",
     "text": [
      " pca p_levefr resahped:  (1, 75, 10)\n",
      "  body movement pa.p_lever projection:  (1, 75, 10)\n",
      "temp points:  (1302, 2)\n",
      "temp points:  (75, 2)\n",
      "plever:  (67, 2)\n",
      "1 48 10\n"
     ]
    },
    {
     "name": "stderr",
     "output_type": "stream",
     "text": [
      "100%|██████████| 1/1 [00:00<00:00,  3.44it/s]\n",
      "  0%|          | 0/1 [00:00<?, ?it/s]"
     ]
    },
    {
     "name": "stdout",
     "output_type": "stream",
     "text": [
      " pca p_levefr resahped:  (1, 45, 10)\n",
      "  body movement pa.p_lever projection:  (1, 45, 10)\n",
      "temp points:  (1302, 2)\n",
      "temp points:  (45, 2)\n",
      "plever:  (40, 2)\n",
      "1 57 10\n"
     ]
    },
    {
     "name": "stderr",
     "output_type": "stream",
     "text": [
      "100%|██████████| 1/1 [00:00<00:00,  3.11it/s]\n",
      "  0%|          | 0/1 [00:00<?, ?it/s]"
     ]
    },
    {
     "name": "stdout",
     "output_type": "stream",
     "text": [
      " pca p_levefr resahped:  (1, 55, 10)\n",
      "  body movement pa.p_lever projection:  (1, 55, 10)\n",
      "temp points:  (1302, 2)\n",
      "temp points:  (55, 2)\n",
      "plever:  (49, 2)\n",
      "1 90 10\n"
     ]
    },
    {
     "name": "stderr",
     "output_type": "stream",
     "text": [
      "100%|██████████| 1/1 [00:00<00:00,  1.97it/s]\n",
      "100%|██████████| 1/1 [00:00<00:00,  6.31it/s]\n",
      "/media/cat/4TBSSD/anaconda3/envs/wide/lib/python3.8/site-packages/numpy/core/_asarray.py:171: VisibleDeprecationWarning: Creating an ndarray from ragged nested sequences (which is a list-or-tuple of lists-or-tuples-or ndarrays with different lengths or shapes) is deprecated. If you meant to do this, you must specify 'dtype=object' when creating the ndarray.\n",
      "  return array(a, dtype, copy=False, order=order, subok=True)\n"
     ]
    },
    {
     "name": "stdout",
     "output_type": "stream",
     "text": [
      " pca p_levefr resahped:  (1, 88, 10)\n",
      "  body movement pa.p_lever projection:  (1, 88, 10)\n",
      "temp points:  (1302, 2)\n",
      "temp points:  (88, 2)\n",
      "plever:  (79, 2)\n",
      "FNAME LEVER:  /media/cat/4TBSSD/yuki/AQ2/tif_files/AQ2am_Dec17_30Hz/AQ2am_Dec17_30Hz_all_locs_selected.txt\n",
      "1 22 10\n",
      " pca p_levefr resahped:  (1, 22, 10)\n",
      "temp points:  (1302, 2)\n",
      "temp points:  (22, 2)\n",
      "plever:  (19, 2)\n",
      "pa.session_id 1:  AQ2pm_Dec17_30Hz\n",
      "session corrected:  AQ2pm_Dec17_30Hz\n",
      "(7,)\n",
      "['left_paw' 'right_paw' 'nose' 'jaw' 'right_ear' 'tongue' 'lever']\n",
      "pa.session_id 2:  AQ2pm_Dec17_30Hz\n",
      "starts:  [ 25.73333333  44.93333333  49.2         61.13333333  93.46666667\n",
      "  99.6        137.2        161.         171.46666667 182.66666667]\n",
      "lever offset:  66\n",
      "SESSIONS:  ['am_Apr21_', 'am_Apr22_', 'am_Apr25_', 'am_Apr26_', 'am_Apr27_', 'am_Apr28_', 'am_Apr29_', 'am_Dec9_', 'am_Dec11_', 'am_Dec17_', 'am_Dec18_', 'am_Dec28_', 'am_Dec29_', 'am_Dec30_', 'am_Feb2_', 'am_Feb3_', 'am_Feb4_', 'am_Feb5_', 'am_Feb9_', 'am_Feb10_', 'am_Feb11_', 'am_Feb12_', 'am_Feb15_', 'am_Feb16_', 'am_Feb17_', 'am_Feb18_', 'am_Jan5_', 'am_Jan6_', 'am_Jan7_', 'am_Jan8_', 'am_Jan13_', 'am_Jan14_', 'am_Jan15_', 'am_Jan18_', 'am_Jan19_', 'am_Jan21_', 'am_Jan22_', 'am_Jan28_', 'am_Jan29_', 'pm_Dec16_', 'pm_Dec17_', 'pm_Jan11_', 'pm_Jan13_', 'pm_Jan14_', 'pm_Jan15_', 'pm_Jan18_', 'pm_Jan20_', 'pm_Jan21_', 'pm_Jan22_', 'pm_Jan26_', 'pm_Jan27_', 'pm_Jan28_', 'pm_Jan29_']\n",
      "SHIFT IDS:  ['2', '2', '2', '2', '2', '0', '2', '2', '1', '1', '2', '2', '1', '2', '2', '1', '1', '2', '1', '2', '2', '2', '1', '1', '1', '0', '1', '2', '2', '0', '2', '2', '2', '2', '0', '1', '0', '1', '1', '2', '2', '2', '2', '2', '2', '2', '2', '2', '1', '1', '1', '2', '1']\n",
      "pa.session_id:  AQ2pm_Dec17_30Hz\n",
      "SELF SHIFT ID:  2\n",
      " using shift:  2\n",
      "DLC SHIFT Loaded:  3.41\n",
      "DLC shift :  3.41   in frames:  102  after subtracting lever shift:  -36\n",
      " triggers:  (5,)\n",
      " data:  (40000, 128, 128)\n",
      "(39014, 128, 128)\n",
      "X:  (39014, 16384)\n"
     ]
    },
    {
     "name": "stderr",
     "output_type": "stream",
     "text": [
      "\r",
      "  0%|          | 0/1 [00:00<?, ?it/s]"
     ]
    },
    {
     "name": "stdout",
     "output_type": "stream",
     "text": [
      " X data using :  30  number of frames  (1298, 491520)\n",
      " pca allpoints:  (1298, 10)\n",
      "1 65 10\n"
     ]
    },
    {
     "name": "stderr",
     "output_type": "stream",
     "text": [
      "100%|██████████| 1/1 [00:00<00:00,  2.99it/s]\n",
      "  0%|          | 0/1 [00:00<?, ?it/s]"
     ]
    },
    {
     "name": "stdout",
     "output_type": "stream",
     "text": [
      " pca p_levefr resahped:  (1, 62, 10)\n",
      "  body movement pa.p_lever projection:  (1, 62, 10)\n",
      "temp points:  (1298, 2)\n",
      "temp points:  (62, 2)\n",
      "plever:  (55, 2)\n",
      "1 105 10\n"
     ]
    },
    {
     "name": "stderr",
     "output_type": "stream",
     "text": [
      "100%|██████████| 1/1 [00:00<00:00,  1.80it/s]\n",
      "  0%|          | 0/1 [00:00<?, ?it/s]"
     ]
    },
    {
     "name": "stdout",
     "output_type": "stream",
     "text": [
      " pca p_levefr resahped:  (1, 103, 10)\n",
      "  body movement pa.p_lever projection:  (1, 103, 10)\n",
      "temp points:  (1298, 2)\n",
      "temp points:  (103, 2)\n",
      "plever:  (92, 2)\n",
      "1 75 10\n"
     ]
    },
    {
     "name": "stderr",
     "output_type": "stream",
     "text": [
      "100%|██████████| 1/1 [00:00<00:00,  2.53it/s]\n",
      "  0%|          | 0/1 [00:00<?, ?it/s]"
     ]
    },
    {
     "name": "stdout",
     "output_type": "stream",
     "text": [
      " pca p_levefr resahped:  (1, 71, 10)\n",
      "  body movement pa.p_lever projection:  (1, 71, 10)\n",
      "temp points:  (1298, 2)\n",
      "temp points:  (71, 2)\n",
      "plever:  (64, 2)\n",
      "1 86 10\n"
     ]
    },
    {
     "name": "stderr",
     "output_type": "stream",
     "text": [
      "100%|██████████| 1/1 [00:00<00:00,  2.19it/s]\n",
      "  0%|          | 0/1 [00:00<?, ?it/s]"
     ]
    },
    {
     "name": "stdout",
     "output_type": "stream",
     "text": [
      " pca p_levefr resahped:  (1, 82, 10)\n",
      "  body movement pa.p_lever projection:  (1, 82, 10)\n",
      "temp points:  (1298, 2)\n",
      "temp points:  (82, 2)\n",
      "plever:  (73, 2)\n",
      "1 80 10\n"
     ]
    },
    {
     "name": "stderr",
     "output_type": "stream",
     "text": [
      "100%|██████████| 1/1 [00:00<00:00,  2.22it/s]\n",
      "100%|██████████| 1/1 [00:00<00:00, 18.36it/s]\n",
      "/media/cat/4TBSSD/anaconda3/envs/wide/lib/python3.8/site-packages/numpy/lib/function_base.py:3961: RuntimeWarning: invalid value encountered in subtract\n",
      "  diff_b_a = subtract(b, a)\n",
      "/media/cat/4TBSSD/anaconda3/envs/wide/lib/python3.8/site-packages/numpy/core/_asarray.py:171: VisibleDeprecationWarning: Creating an ndarray from ragged nested sequences (which is a list-or-tuple of lists-or-tuples-or ndarrays with different lengths or shapes) is deprecated. If you meant to do this, you must specify 'dtype=object' when creating the ndarray.\n",
      "  return array(a, dtype, copy=False, order=order, subok=True)\n"
     ]
    },
    {
     "name": "stdout",
     "output_type": "stream",
     "text": [
      " pca p_levefr resahped:  (1, 76, 10)\n",
      "  body movement pa.p_lever projection:  (1, 76, 10)\n",
      "temp points:  (1298, 2)\n",
      "temp points:  (76, 2)\n",
      "plever:  (68, 2)\n",
      "FNAME LEVER:  /media/cat/4TBSSD/yuki/AQ2/tif_files/AQ2pm_Dec17_30Hz/AQ2pm_Dec17_30Hz_all_locs_selected.txt\n",
      "1 5 10\n",
      " pca p_levefr resahped:  (1, 5, 10)\n",
      "temp points:  (1298, 2)\n",
      "temp points:  (5, 2)\n",
      "plever:  (0, 2)\n",
      "pa.session_id 1:  AQ2am_Dec18_30Hz\n",
      "session corrected:  AQ2am_Dec18_30Hz\n",
      "(7,)\n",
      "['left_paw' 'right_paw' 'nose' 'jaw' 'right_ear' 'tongue' 'lever']\n",
      "pa.session_id 2:  AQ2am_Dec18_30Hz\n",
      "starts:  [ 19.26666667  31.26666667  46.53333333  52.4         70.\n",
      "  76.          84.4         89.8         96.2        144.        ]\n",
      "lever offset:  81\n",
      "SESSIONS:  ['am_Apr21_', 'am_Apr22_', 'am_Apr25_', 'am_Apr26_', 'am_Apr27_', 'am_Apr28_', 'am_Apr29_', 'am_Dec9_', 'am_Dec11_', 'am_Dec17_', 'am_Dec18_', 'am_Dec28_', 'am_Dec29_', 'am_Dec30_', 'am_Feb2_', 'am_Feb3_', 'am_Feb4_', 'am_Feb5_', 'am_Feb9_', 'am_Feb10_', 'am_Feb11_', 'am_Feb12_', 'am_Feb15_', 'am_Feb16_', 'am_Feb17_', 'am_Feb18_', 'am_Jan5_', 'am_Jan6_', 'am_Jan7_', 'am_Jan8_', 'am_Jan13_', 'am_Jan14_', 'am_Jan15_', 'am_Jan18_', 'am_Jan19_', 'am_Jan21_', 'am_Jan22_', 'am_Jan28_', 'am_Jan29_', 'pm_Dec16_', 'pm_Dec17_', 'pm_Jan11_', 'pm_Jan13_', 'pm_Jan14_', 'pm_Jan15_', 'pm_Jan18_', 'pm_Jan20_', 'pm_Jan21_', 'pm_Jan22_', 'pm_Jan26_', 'pm_Jan27_', 'pm_Jan28_', 'pm_Jan29_']\n",
      "SHIFT IDS:  ['2', '2', '2', '2', '2', '0', '2', '2', '1', '1', '2', '2', '1', '2', '2', '1', '1', '2', '1', '2', '2', '2', '1', '1', '1', '0', '1', '2', '2', '0', '2', '2', '2', '2', '0', '1', '0', '1', '1', '2', '2', '2', '2', '2', '2', '2', '2', '2', '1', '1', '1', '2', '1']\n",
      "pa.session_id:  AQ2am_Dec18_30Hz\n",
      "SELF SHIFT ID:  2\n",
      " using shift:  2\n",
      "DLC SHIFT Loaded:  3.93\n",
      "DLC shift :  3.93   in frames:  117  after subtracting lever shift:  -36\n",
      " triggers:  (8,)\n",
      " data:  (40000, 128, 128)\n",
      "(39101, 128, 128)\n",
      "X:  (39101, 16384)\n"
     ]
    },
    {
     "name": "stderr",
     "output_type": "stream",
     "text": [
      "\r",
      "  0%|          | 0/1 [00:00<?, ?it/s]"
     ]
    },
    {
     "name": "stdout",
     "output_type": "stream",
     "text": [
      " X data using :  30  number of frames  (1301, 491520)\n",
      " pca allpoints:  (1301, 10)\n",
      "1 96 10\n"
     ]
    },
    {
     "name": "stderr",
     "output_type": "stream",
     "text": [
      "100%|██████████| 1/1 [00:00<00:00,  1.84it/s]\n",
      "  0%|          | 0/1 [00:00<?, ?it/s]"
     ]
    },
    {
     "name": "stdout",
     "output_type": "stream",
     "text": [
      " pca p_levefr resahped:  (1, 94, 10)\n",
      "  body movement pa.p_lever projection:  (1, 94, 10)\n",
      "temp points:  (1301, 2)\n",
      "temp points:  (94, 2)\n",
      "plever:  (84, 2)\n",
      "1 86 10\n"
     ]
    },
    {
     "name": "stderr",
     "output_type": "stream",
     "text": [
      "100%|██████████| 1/1 [00:00<00:00,  2.15it/s]\n",
      "  0%|          | 0/1 [00:00<?, ?it/s]"
     ]
    },
    {
     "name": "stdout",
     "output_type": "stream",
     "text": [
      " pca p_levefr resahped:  (1, 82, 10)\n",
      "  body movement pa.p_lever projection:  (1, 82, 10)\n",
      "temp points:  (1301, 2)\n",
      "temp points:  (82, 2)\n",
      "plever:  (73, 2)\n",
      "1 44 10\n"
     ]
    },
    {
     "name": "stderr",
     "output_type": "stream",
     "text": [
      "100%|██████████| 1/1 [00:00<00:00,  3.82it/s]\n",
      "  0%|          | 0/1 [00:00<?, ?it/s]"
     ]
    },
    {
     "name": "stdout",
     "output_type": "stream",
     "text": [
      " pca p_levefr resahped:  (1, 43, 10)\n",
      "  body movement pa.p_lever projection:  (1, 43, 10)\n",
      "temp points:  (1301, 2)\n",
      "temp points:  (43, 2)\n",
      "plever:  (38, 2)\n",
      "1 68 10\n"
     ]
    },
    {
     "name": "stderr",
     "output_type": "stream",
     "text": [
      "100%|██████████| 1/1 [00:00<00:00,  2.66it/s]\n",
      "  0%|          | 0/1 [00:00<?, ?it/s]"
     ]
    },
    {
     "name": "stdout",
     "output_type": "stream",
     "text": [
      " pca p_levefr resahped:  (1, 63, 10)\n",
      "  body movement pa.p_lever projection:  (1, 63, 10)\n",
      "temp points:  (1301, 2)\n",
      "temp points:  (63, 2)\n",
      "plever:  (56, 2)\n",
      "1 97 10\n"
     ]
    },
    {
     "name": "stderr",
     "output_type": "stream",
     "text": [
      "100%|██████████| 1/1 [00:00<00:00,  1.88it/s]\n",
      "100%|██████████| 1/1 [00:00<00:00, 11.87it/s]\n",
      "/media/cat/4TBSSD/anaconda3/envs/wide/lib/python3.8/site-packages/numpy/core/_asarray.py:171: VisibleDeprecationWarning: Creating an ndarray from ragged nested sequences (which is a list-or-tuple of lists-or-tuples-or ndarrays with different lengths or shapes) is deprecated. If you meant to do this, you must specify 'dtype=object' when creating the ndarray.\n",
      "  return array(a, dtype, copy=False, order=order, subok=True)\n"
     ]
    },
    {
     "name": "stdout",
     "output_type": "stream",
     "text": [
      " pca p_levefr resahped:  (1, 93, 10)\n",
      "  body movement pa.p_lever projection:  (1, 93, 10)\n",
      "temp points:  (1301, 2)\n",
      "temp points:  (93, 2)\n",
      "plever:  (83, 2)\n",
      "FNAME LEVER:  /media/cat/4TBSSD/yuki/AQ2/tif_files/AQ2am_Dec18_30Hz/AQ2am_Dec18_30Hz_all_locs_selected.txt\n",
      "1 8 10\n",
      " pca p_levefr resahped:  (1, 8, 10)\n",
      "temp points:  (1301, 2)\n",
      "temp points:  (8, 2)\n",
      "plever:  (7, 2)\n",
      "pa.session_id 1:  AQ2pm_Dec18_30Hz\n",
      "session corrected:  AQ2pm_Dec18_30Hz\n",
      "(7,)\n",
      "['left_paw' 'right_paw' 'nose' 'jaw' 'right_ear' 'tongue' 'lever']\n",
      "pa.session_id 2:  AQ2pm_Dec18_30Hz\n",
      "starts:  [  8.8         14.86666667  18.06666667  25.93333333  35.26666667\n",
      "  45.66666667  83.6         88.8         96.86666667 128.06666667]\n",
      "lever offset:  76\n",
      "SESSIONS:  ['am_Apr21_', 'am_Apr22_', 'am_Apr25_', 'am_Apr26_', 'am_Apr27_', 'am_Apr28_', 'am_Apr29_', 'am_Dec9_', 'am_Dec11_', 'am_Dec17_', 'am_Dec18_', 'am_Dec28_', 'am_Dec29_', 'am_Dec30_', 'am_Feb2_', 'am_Feb3_', 'am_Feb4_', 'am_Feb5_', 'am_Feb9_', 'am_Feb10_', 'am_Feb11_', 'am_Feb12_', 'am_Feb15_', 'am_Feb16_', 'am_Feb17_', 'am_Feb18_', 'am_Jan5_', 'am_Jan6_', 'am_Jan7_', 'am_Jan8_', 'am_Jan13_', 'am_Jan14_', 'am_Jan15_', 'am_Jan18_', 'am_Jan19_', 'am_Jan21_', 'am_Jan22_', 'am_Jan28_', 'am_Jan29_', 'pm_Dec16_', 'pm_Dec17_', 'pm_Jan11_', 'pm_Jan13_', 'pm_Jan14_', 'pm_Jan15_', 'pm_Jan18_', 'pm_Jan20_', 'pm_Jan21_', 'pm_Jan22_', 'pm_Jan26_', 'pm_Jan27_', 'pm_Jan28_', 'pm_Jan29_']\n",
      "SHIFT IDS:  ['2', '2', '2', '2', '2', '0', '2', '2', '1', '1', '2', '2', '1', '2', '2', '1', '1', '2', '1', '2', '2', '2', '1', '1', '1', '0', '1', '2', '2', '0', '2', '2', '2', '2', '0', '1', '0', '1', '1', '2', '2', '2', '2', '2', '2', '2', '2', '2', '1', '1', '1', '2', '1']\n",
      "pa.session_id:  AQ2pm_Dec18_30Hz\n",
      "pa.session_id 1:  AQ2am_Dec21_30Hz\n",
      "session corrected:  AQ2am_Dec21_30Hz\n",
      "(7,)\n",
      "['left_paw' 'right_paw' 'nose' 'jaw' 'right_ear' 'tongue' 'lever']\n",
      "pa.session_id 2:  AQ2am_Dec21_30Hz\n",
      "starts:  [ 37.8         70.93333333  78.93333333 124.86666667 175.73333333\n",
      " 185.13333333 204.73333333 231.         242.06666667 253.53333333]\n",
      "lever offset:  76\n",
      "SESSIONS:  ['am_Apr21_', 'am_Apr22_', 'am_Apr25_', 'am_Apr26_', 'am_Apr27_', 'am_Apr28_', 'am_Apr29_', 'am_Dec9_', 'am_Dec11_', 'am_Dec17_', 'am_Dec18_', 'am_Dec28_', 'am_Dec29_', 'am_Dec30_', 'am_Feb2_', 'am_Feb3_', 'am_Feb4_', 'am_Feb5_', 'am_Feb9_', 'am_Feb10_', 'am_Feb11_', 'am_Feb12_', 'am_Feb15_', 'am_Feb16_', 'am_Feb17_', 'am_Feb18_', 'am_Jan5_', 'am_Jan6_', 'am_Jan7_', 'am_Jan8_', 'am_Jan13_', 'am_Jan14_', 'am_Jan15_', 'am_Jan18_', 'am_Jan19_', 'am_Jan21_', 'am_Jan22_', 'am_Jan28_', 'am_Jan29_', 'pm_Dec16_', 'pm_Dec17_', 'pm_Jan11_', 'pm_Jan13_', 'pm_Jan14_', 'pm_Jan15_', 'pm_Jan18_', 'pm_Jan20_', 'pm_Jan21_', 'pm_Jan22_', 'pm_Jan26_', 'pm_Jan27_', 'pm_Jan28_', 'pm_Jan29_']\n",
      "SHIFT IDS:  ['2', '2', '2', '2', '2', '0', '2', '2', '1', '1', '2', '2', '1', '2', '2', '1', '1', '2', '1', '2', '2', '2', '1', '1', '1', '0', '1', '2', '2', '0', '2', '2', '2', '2', '0', '1', '0', '1', '1', '2', '2', '2', '2', '2', '2', '2', '2', '2', '1', '1', '1', '2', '1']\n",
      "pa.session_id:  AQ2am_Dec21_30Hz\n",
      "pa.session_id 1:  AQ2am_Dec22_30Hz\n",
      "session corrected:  AQ2am_Dec22_30Hz\n",
      "(7,)\n",
      "['left_paw' 'right_paw' 'nose' 'jaw' 'right_ear' 'tongue' 'lever']\n",
      "pa.session_id 2:  AQ2am_Dec22_30Hz\n",
      "starts:  [ 27.86666667  33.46666667  47.93333333  52.66666667  70.86666667\n",
      " 106.6        128.66666667 140.53333333 155.46666667 191.53333333]\n",
      "lever offset:  75\n",
      "SESSIONS:  ['am_Apr21_', 'am_Apr22_', 'am_Apr25_', 'am_Apr26_', 'am_Apr27_', 'am_Apr28_', 'am_Apr29_', 'am_Dec9_', 'am_Dec11_', 'am_Dec17_', 'am_Dec18_', 'am_Dec28_', 'am_Dec29_', 'am_Dec30_', 'am_Feb2_', 'am_Feb3_', 'am_Feb4_', 'am_Feb5_', 'am_Feb9_', 'am_Feb10_', 'am_Feb11_', 'am_Feb12_', 'am_Feb15_', 'am_Feb16_', 'am_Feb17_', 'am_Feb18_', 'am_Jan5_', 'am_Jan6_', 'am_Jan7_', 'am_Jan8_', 'am_Jan13_', 'am_Jan14_', 'am_Jan15_', 'am_Jan18_', 'am_Jan19_', 'am_Jan21_', 'am_Jan22_', 'am_Jan28_', 'am_Jan29_', 'pm_Dec16_', 'pm_Dec17_', 'pm_Jan11_', 'pm_Jan13_', 'pm_Jan14_', 'pm_Jan15_', 'pm_Jan18_', 'pm_Jan20_', 'pm_Jan21_', 'pm_Jan22_', 'pm_Jan26_', 'pm_Jan27_', 'pm_Jan28_', 'pm_Jan29_']\n",
      "SHIFT IDS:  ['2', '2', '2', '2', '2', '0', '2', '2', '1', '1', '2', '2', '1', '2', '2', '1', '1', '2', '1', '2', '2', '2', '1', '1', '1', '0', '1', '2', '2', '0', '2', '2', '2', '2', '0', '1', '0', '1', '1', '2', '2', '2', '2', '2', '2', '2', '2', '2', '1', '1', '1', '2', '1']\n",
      "pa.session_id:  AQ2am_Dec22_30Hz\n",
      "pa.session_id 1:  AQ2am_Dec23_30Hz\n",
      "session corrected:  AQ2am_Dec23_30Hz\n",
      "(7,)\n",
      "['left_paw' 'right_paw' 'nose' 'jaw' 'right_ear' 'tongue' 'lever']\n",
      "pa.session_id 2:  AQ2am_Dec23_30Hz\n",
      "starts:  [  6.6         13.8         22.66666667  27.73333333  38.26666667\n",
      "  60.8         88.6         98.2        115.4        138.53333333]\n",
      "lever offset:  58\n",
      "SESSIONS:  ['am_Apr21_', 'am_Apr22_', 'am_Apr25_', 'am_Apr26_', 'am_Apr27_', 'am_Apr28_', 'am_Apr29_', 'am_Dec9_', 'am_Dec11_', 'am_Dec17_', 'am_Dec18_', 'am_Dec28_', 'am_Dec29_', 'am_Dec30_', 'am_Feb2_', 'am_Feb3_', 'am_Feb4_', 'am_Feb5_', 'am_Feb9_', 'am_Feb10_', 'am_Feb11_', 'am_Feb12_', 'am_Feb15_', 'am_Feb16_', 'am_Feb17_', 'am_Feb18_', 'am_Jan5_', 'am_Jan6_', 'am_Jan7_', 'am_Jan8_', 'am_Jan13_', 'am_Jan14_', 'am_Jan15_', 'am_Jan18_', 'am_Jan19_', 'am_Jan21_', 'am_Jan22_', 'am_Jan28_', 'am_Jan29_', 'pm_Dec16_', 'pm_Dec17_', 'pm_Jan11_', 'pm_Jan13_', 'pm_Jan14_', 'pm_Jan15_', 'pm_Jan18_', 'pm_Jan20_', 'pm_Jan21_', 'pm_Jan22_', 'pm_Jan26_', 'pm_Jan27_', 'pm_Jan28_', 'pm_Jan29_']\n",
      "SHIFT IDS:  ['2', '2', '2', '2', '2', '0', '2', '2', '1', '1', '2', '2', '1', '2', '2', '1', '1', '2', '1', '2', '2', '2', '1', '1', '1', '0', '1', '2', '2', '0', '2', '2', '2', '2', '0', '1', '0', '1', '1', '2', '2', '2', '2', '2', '2', '2', '2', '2', '1', '1', '1', '2', '1']\n",
      "pa.session_id:  AQ2am_Dec23_30Hz\n",
      "pa.session_id 1:  AQ2am_Dec28_30Hz\n",
      "session corrected:  AQ2am_Dec28_30Hz\n",
      "(7,)\n",
      "['left_paw' 'right_paw' 'nose' 'jaw' 'right_ear' 'tongue' 'lever']\n",
      "pa.session_id 2:  AQ2am_Dec28_30Hz\n",
      "starts:  [  7.46666667  20.66666667  43.93333333  53.8         60.33333333\n",
      "  64.86666667 100.4        109.26666667 116.8        135.33333333]\n",
      "lever offset:  81\n",
      "SESSIONS:  ['am_Apr21_', 'am_Apr22_', 'am_Apr25_', 'am_Apr26_', 'am_Apr27_', 'am_Apr28_', 'am_Apr29_', 'am_Dec9_', 'am_Dec11_', 'am_Dec17_', 'am_Dec18_', 'am_Dec28_', 'am_Dec29_', 'am_Dec30_', 'am_Feb2_', 'am_Feb3_', 'am_Feb4_', 'am_Feb5_', 'am_Feb9_', 'am_Feb10_', 'am_Feb11_', 'am_Feb12_', 'am_Feb15_', 'am_Feb16_', 'am_Feb17_', 'am_Feb18_', 'am_Jan5_', 'am_Jan6_', 'am_Jan7_', 'am_Jan8_', 'am_Jan13_', 'am_Jan14_', 'am_Jan15_', 'am_Jan18_', 'am_Jan19_', 'am_Jan21_', 'am_Jan22_', 'am_Jan28_', 'am_Jan29_', 'pm_Dec16_', 'pm_Dec17_', 'pm_Jan11_', 'pm_Jan13_', 'pm_Jan14_', 'pm_Jan15_', 'pm_Jan18_', 'pm_Jan20_', 'pm_Jan21_', 'pm_Jan22_', 'pm_Jan26_', 'pm_Jan27_', 'pm_Jan28_', 'pm_Jan29_']\n",
      "SHIFT IDS:  ['2', '2', '2', '2', '2', '0', '2', '2', '1', '1', '2', '2', '1', '2', '2', '1', '1', '2', '1', '2', '2', '2', '1', '1', '1', '0', '1', '2', '2', '0', '2', '2', '2', '2', '0', '1', '0', '1', '1', '2', '2', '2', '2', '2', '2', '2', '2', '2', '1', '1', '1', '2', '1']\n",
      "pa.session_id:  AQ2am_Dec28_30Hz\n",
      "SELF SHIFT ID:  2\n",
      " using shift:  2\n",
      "DLC SHIFT Loaded:  7.31\n",
      "DLC shift :  7.31   in frames:  219  after subtracting lever shift:  -138\n",
      " triggers:  (13,)\n",
      " data:  (40000, 128, 128)\n",
      "(39016, 128, 128)\n",
      "X:  (39016, 16384)\n"
     ]
    },
    {
     "name": "stderr",
     "output_type": "stream",
     "text": [
      "\r",
      "  0%|          | 0/1 [00:00<?, ?it/s]"
     ]
    },
    {
     "name": "stdout",
     "output_type": "stream",
     "text": [
      " X data using :  30  number of frames  (1298, 491520)\n",
      " pca allpoints:  (1298, 10)\n",
      "1 121 10\n"
     ]
    },
    {
     "name": "stderr",
     "output_type": "stream",
     "text": [
      "100%|██████████| 1/1 [00:00<00:00,  1.49it/s]\n",
      "  0%|          | 0/1 [00:00<?, ?it/s]"
     ]
    },
    {
     "name": "stdout",
     "output_type": "stream",
     "text": [
      " pca p_levefr resahped:  (1, 120, 10)\n",
      "  body movement pa.p_lever projection:  (1, 120, 10)\n",
      "temp points:  (1298, 2)\n",
      "temp points:  (120, 2)\n",
      "plever:  (108, 2)\n",
      "1 104 10\n"
     ]
    },
    {
     "name": "stderr",
     "output_type": "stream",
     "text": [
      "100%|██████████| 1/1 [00:00<00:00,  1.68it/s]\n",
      "  0%|          | 0/1 [00:00<?, ?it/s]"
     ]
    },
    {
     "name": "stdout",
     "output_type": "stream",
     "text": [
      " pca p_levefr resahped:  (1, 103, 10)\n",
      "  body movement pa.p_lever projection:  (1, 103, 10)\n",
      "temp points:  (1298, 2)\n",
      "temp points:  (103, 2)\n",
      "plever:  (92, 2)\n",
      "1 107 10\n"
     ]
    },
    {
     "name": "stderr",
     "output_type": "stream",
     "text": [
      "100%|██████████| 1/1 [00:00<00:00,  1.44it/s]\n",
      "  0%|          | 0/1 [00:00<?, ?it/s]"
     ]
    },
    {
     "name": "stdout",
     "output_type": "stream",
     "text": [
      " pca p_levefr resahped:  (1, 105, 10)\n",
      "  body movement pa.p_lever projection:  (1, 105, 10)\n",
      "temp points:  (1298, 2)\n",
      "temp points:  (105, 2)\n",
      "plever:  (94, 2)\n",
      "1 87 10\n"
     ]
    },
    {
     "name": "stderr",
     "output_type": "stream",
     "text": [
      "100%|██████████| 1/1 [00:00<00:00,  2.02it/s]\n",
      "  0%|          | 0/1 [00:00<?, ?it/s]"
     ]
    },
    {
     "name": "stdout",
     "output_type": "stream",
     "text": [
      " pca p_levefr resahped:  (1, 85, 10)\n",
      "  body movement pa.p_lever projection:  (1, 85, 10)\n",
      "temp points:  (1298, 2)\n",
      "temp points:  (85, 2)\n",
      "plever:  (76, 2)\n",
      "1 93 10\n"
     ]
    },
    {
     "name": "stderr",
     "output_type": "stream",
     "text": [
      "100%|██████████| 1/1 [00:00<00:00,  1.89it/s]\n",
      "100%|██████████| 1/1 [00:00<00:00,  5.99it/s]\n",
      "/media/cat/4TBSSD/anaconda3/envs/wide/lib/python3.8/site-packages/numpy/core/_asarray.py:171: VisibleDeprecationWarning: Creating an ndarray from ragged nested sequences (which is a list-or-tuple of lists-or-tuples-or ndarrays with different lengths or shapes) is deprecated. If you meant to do this, you must specify 'dtype=object' when creating the ndarray.\n",
      "  return array(a, dtype, copy=False, order=order, subok=True)\n"
     ]
    },
    {
     "name": "stdout",
     "output_type": "stream",
     "text": [
      " pca p_levefr resahped:  (1, 91, 10)\n",
      "  body movement pa.p_lever projection:  (1, 91, 10)\n",
      "temp points:  (1298, 2)\n",
      "temp points:  (91, 2)\n",
      "plever:  (82, 2)\n",
      "FNAME LEVER:  /media/cat/4TBSSD/yuki/AQ2/tif_files/AQ2am_Dec28_30Hz/AQ2am_Dec28_30Hz_all_locs_selected.txt\n",
      "1 24 10\n",
      " pca p_levefr resahped:  (1, 24, 10)\n",
      "temp points:  (1298, 2)\n",
      "temp points:  (24, 2)\n",
      "plever:  (21, 2)\n",
      "pa.session_id 1:  AQ2am_Dec29_30Hz\n",
      "session corrected:  AQ2am_Dec29_30Hz\n",
      "(7,)\n",
      "['left_paw' 'right_paw' 'nose' 'jaw' 'right_ear' 'tongue' 'lever']\n",
      "pa.session_id 2:  AQ2am_Dec29_30Hz\n",
      "starts:  [ 10.06666667  13.8         22.13333333  34.86666667  46.93333333\n",
      "  54.86666667  61.46666667  80.86666667  94.6        103.26666667]\n",
      "lever offset:  86\n",
      "SESSIONS:  ['am_Apr21_', 'am_Apr22_', 'am_Apr25_', 'am_Apr26_', 'am_Apr27_', 'am_Apr28_', 'am_Apr29_', 'am_Dec9_', 'am_Dec11_', 'am_Dec17_', 'am_Dec18_', 'am_Dec28_', 'am_Dec29_', 'am_Dec30_', 'am_Feb2_', 'am_Feb3_', 'am_Feb4_', 'am_Feb5_', 'am_Feb9_', 'am_Feb10_', 'am_Feb11_', 'am_Feb12_', 'am_Feb15_', 'am_Feb16_', 'am_Feb17_', 'am_Feb18_', 'am_Jan5_', 'am_Jan6_', 'am_Jan7_', 'am_Jan8_', 'am_Jan13_', 'am_Jan14_', 'am_Jan15_', 'am_Jan18_', 'am_Jan19_', 'am_Jan21_', 'am_Jan22_', 'am_Jan28_', 'am_Jan29_', 'pm_Dec16_', 'pm_Dec17_', 'pm_Jan11_', 'pm_Jan13_', 'pm_Jan14_', 'pm_Jan15_', 'pm_Jan18_', 'pm_Jan20_', 'pm_Jan21_', 'pm_Jan22_', 'pm_Jan26_', 'pm_Jan27_', 'pm_Jan28_', 'pm_Jan29_']\n",
      "SHIFT IDS:  ['2', '2', '2', '2', '2', '0', '2', '2', '1', '1', '2', '2', '1', '2', '2', '1', '1', '2', '1', '2', '2', '2', '1', '1', '1', '0', '1', '2', '2', '0', '2', '2', '2', '2', '0', '1', '0', '1', '1', '2', '2', '2', '2', '2', '2', '2', '2', '2', '1', '1', '1', '2', '1']\n",
      "pa.session_id:  AQ2am_Dec29_30Hz\n",
      "SELF SHIFT ID:  1\n",
      " using shift:  1\n",
      "DLC SHIFT Loaded:  6.72\n",
      "DLC shift :  6.72   in frames:  201  after subtracting lever shift:  -115\n",
      " triggers:  (28,)\n",
      " data:  (40000, 128, 128)\n",
      "(39054, 128, 128)\n",
      "X:  (39054, 16384)\n"
     ]
    },
    {
     "name": "stderr",
     "output_type": "stream",
     "text": [
      "\r",
      "  0%|          | 0/1 [00:00<?, ?it/s]"
     ]
    },
    {
     "name": "stdout",
     "output_type": "stream",
     "text": [
      " X data using :  30  number of frames  (1299, 491520)\n",
      " pca allpoints:  (1299, 10)\n",
      "1 68 10\n"
     ]
    },
    {
     "name": "stderr",
     "output_type": "stream",
     "text": [
      "100%|██████████| 1/1 [00:00<00:00,  2.57it/s]\n",
      "  0%|          | 0/1 [00:00<?, ?it/s]"
     ]
    },
    {
     "name": "stdout",
     "output_type": "stream",
     "text": [
      " pca p_levefr resahped:  (1, 67, 10)\n",
      "  body movement pa.p_lever projection:  (1, 67, 10)\n",
      "temp points:  (1299, 2)\n",
      "temp points:  (67, 2)\n",
      "plever:  (60, 2)\n",
      "1 74 10\n"
     ]
    },
    {
     "name": "stderr",
     "output_type": "stream",
     "text": [
      "100%|██████████| 1/1 [00:00<00:00,  2.36it/s]\n",
      "  0%|          | 0/1 [00:00<?, ?it/s]"
     ]
    },
    {
     "name": "stdout",
     "output_type": "stream",
     "text": [
      " pca p_levefr resahped:  (1, 73, 10)\n",
      "  body movement pa.p_lever projection:  (1, 73, 10)\n",
      "temp points:  (1299, 2)\n",
      "temp points:  (73, 2)\n",
      "plever:  (65, 2)\n",
      "1 137 10\n"
     ]
    },
    {
     "name": "stderr",
     "output_type": "stream",
     "text": [
      "100%|██████████| 1/1 [00:00<00:00,  1.20it/s]\n",
      "  0%|          | 0/1 [00:00<?, ?it/s]"
     ]
    },
    {
     "name": "stdout",
     "output_type": "stream",
     "text": [
      " pca p_levefr resahped:  (1, 135, 10)\n",
      "  body movement pa.p_lever projection:  (1, 135, 10)\n",
      "temp points:  (1299, 2)\n",
      "temp points:  (135, 2)\n",
      "plever:  (121, 2)\n",
      "1 64 10\n"
     ]
    },
    {
     "name": "stderr",
     "output_type": "stream",
     "text": [
      "100%|██████████| 1/1 [00:00<00:00,  2.85it/s]\n",
      "  0%|          | 0/1 [00:00<?, ?it/s]"
     ]
    },
    {
     "name": "stdout",
     "output_type": "stream",
     "text": [
      " pca p_levefr resahped:  (1, 60, 10)\n",
      "  body movement pa.p_lever projection:  (1, 60, 10)\n",
      "temp points:  (1299, 2)\n",
      "temp points:  (60, 2)\n",
      "plever:  (54, 2)\n",
      "1 73 10\n"
     ]
    },
    {
     "name": "stderr",
     "output_type": "stream",
     "text": [
      "100%|██████████| 1/1 [00:00<00:00,  2.37it/s]\n",
      "  0%|          | 0/1 [00:00<?, ?it/s]"
     ]
    },
    {
     "name": "stdout",
     "output_type": "stream",
     "text": [
      " pca p_levefr resahped:  (1, 72, 10)\n",
      "  body movement pa.p_lever projection:  (1, 72, 10)\n",
      "temp points:  (1299, 2)\n",
      "temp points:  (72, 2)\n",
      "plever:  (64, 2)\n",
      "FNAME LEVER:  /media/cat/4TBSSD/yuki/AQ2/tif_files/AQ2am_Dec29_30Hz/AQ2am_Dec29_30Hz_all_locs_selected.txt\n",
      "1 34 10\n"
     ]
    },
    {
     "name": "stderr",
     "output_type": "stream",
     "text": [
      "100%|██████████| 1/1 [00:00<00:00,  4.43it/s]\n",
      "/media/cat/4TBSSD/anaconda3/envs/wide/lib/python3.8/site-packages/numpy/core/_asarray.py:171: VisibleDeprecationWarning: Creating an ndarray from ragged nested sequences (which is a list-or-tuple of lists-or-tuples-or ndarrays with different lengths or shapes) is deprecated. If you meant to do this, you must specify 'dtype=object' when creating the ndarray.\n",
      "  return array(a, dtype, copy=False, order=order, subok=True)\n"
     ]
    },
    {
     "name": "stdout",
     "output_type": "stream",
     "text": [
      " pca p_levefr resahped:  (1, 34, 10)\n",
      "temp points:  (1299, 2)\n",
      "temp points:  (34, 2)\n",
      "plever:  (30, 2)\n",
      "pa.session_id 1:  AQ2am_Dec30_30Hz\n",
      "session corrected:  AQ2am_Dec30_30Hz\n",
      "(7,)\n",
      "['left_paw' 'right_paw' 'nose' 'jaw' 'right_ear' 'tongue' 'lever']\n",
      "pa.session_id 2:  AQ2am_Dec30_30Hz\n",
      "starts:  [ 3.33333333  9.66666667 19.06666667 25.26666667 30.2        37.4\n",
      " 43.33333333 49.66666667 53.4        59.2       ]\n",
      "lever offset:  0\n",
      "SESSIONS:  ['am_Apr21_', 'am_Apr22_', 'am_Apr25_', 'am_Apr26_', 'am_Apr27_', 'am_Apr28_', 'am_Apr29_', 'am_Dec9_', 'am_Dec11_', 'am_Dec17_', 'am_Dec18_', 'am_Dec28_', 'am_Dec29_', 'am_Dec30_', 'am_Feb2_', 'am_Feb3_', 'am_Feb4_', 'am_Feb5_', 'am_Feb9_', 'am_Feb10_', 'am_Feb11_', 'am_Feb12_', 'am_Feb15_', 'am_Feb16_', 'am_Feb17_', 'am_Feb18_', 'am_Jan5_', 'am_Jan6_', 'am_Jan7_', 'am_Jan8_', 'am_Jan13_', 'am_Jan14_', 'am_Jan15_', 'am_Jan18_', 'am_Jan19_', 'am_Jan21_', 'am_Jan22_', 'am_Jan28_', 'am_Jan29_', 'pm_Dec16_', 'pm_Dec17_', 'pm_Jan11_', 'pm_Jan13_', 'pm_Jan14_', 'pm_Jan15_', 'pm_Jan18_', 'pm_Jan20_', 'pm_Jan21_', 'pm_Jan22_', 'pm_Jan26_', 'pm_Jan27_', 'pm_Jan28_', 'pm_Jan29_']\n",
      "SHIFT IDS:  ['2', '2', '2', '2', '2', '0', '2', '2', '1', '1', '2', '2', '1', '2', '2', '1', '1', '2', '1', '2', '2', '2', '1', '1', '1', '0', '1', '2', '2', '0', '2', '2', '2', '2', '0', '1', '0', '1', '1', '2', '2', '2', '2', '2', '2', '2', '2', '2', '1', '1', '1', '2', '1']\n",
      "pa.session_id:  AQ2am_Dec30_30Hz\n",
      "SELF SHIFT ID:  2\n",
      " using shift:  2\n",
      "DLC SHIFT Loaded:  1.69\n",
      "DLC shift :  1.69   in frames:  50  after subtracting lever shift:  -50\n",
      " data missing/led missing\n",
      "pa.session_id 1:  AQ2am_Dec31_30Hz\n",
      "session corrected:  AQ2am_Dec31_30Hz\n",
      " No video/3sec movement files...\n",
      "pa.session_id 1:  AQ2am_Jan4_30Hz\n",
      "session corrected:  AQ2am_Jan4_30Hz\n",
      "(7,)\n",
      "['left_paw' 'right_paw' 'nose' 'jaw' 'right_ear' 'tongue' 'lever']\n",
      "pa.session_id 2:  AQ2am_Jan4_30Hz\n",
      "starts:  [10.53333333 17.4        28.8        42.8        48.8        57.66666667\n",
      " 69.46666667 74.93333333 80.86666667 92.33333333]\n",
      "lever offset:  67\n",
      "SESSIONS:  ['am_Apr21_', 'am_Apr22_', 'am_Apr25_', 'am_Apr26_', 'am_Apr27_', 'am_Apr28_', 'am_Apr29_', 'am_Dec9_', 'am_Dec11_', 'am_Dec17_', 'am_Dec18_', 'am_Dec28_', 'am_Dec29_', 'am_Dec30_', 'am_Feb2_', 'am_Feb3_', 'am_Feb4_', 'am_Feb5_', 'am_Feb9_', 'am_Feb10_', 'am_Feb11_', 'am_Feb12_', 'am_Feb15_', 'am_Feb16_', 'am_Feb17_', 'am_Feb18_', 'am_Jan5_', 'am_Jan6_', 'am_Jan7_', 'am_Jan8_', 'am_Jan13_', 'am_Jan14_', 'am_Jan15_', 'am_Jan18_', 'am_Jan19_', 'am_Jan21_', 'am_Jan22_', 'am_Jan28_', 'am_Jan29_', 'pm_Dec16_', 'pm_Dec17_', 'pm_Jan11_', 'pm_Jan13_', 'pm_Jan14_', 'pm_Jan15_', 'pm_Jan18_', 'pm_Jan20_', 'pm_Jan21_', 'pm_Jan22_', 'pm_Jan26_', 'pm_Jan27_', 'pm_Jan28_', 'pm_Jan29_']\n",
      "SHIFT IDS:  ['2', '2', '2', '2', '2', '0', '2', '2', '1', '1', '2', '2', '1', '2', '2', '1', '1', '2', '1', '2', '2', '2', '1', '1', '1', '0', '1', '2', '2', '0', '2', '2', '2', '2', '0', '1', '0', '1', '1', '2', '2', '2', '2', '2', '2', '2', '2', '2', '1', '1', '1', '2', '1']\n",
      "pa.session_id:  AQ2am_Jan4_30Hz\n",
      "pa.session_id 1:  AQ2am_Jan5_30Hz\n",
      "session corrected:  AQ2am_Jan5_30Hz\n",
      "(7,)\n",
      "['left_paw' 'right_paw' 'nose' 'jaw' 'right_ear' 'tongue' 'lever']\n",
      "pa.session_id 2:  AQ2am_Jan5_30Hz\n",
      "starts:  [  6.33333333  16.26666667  31.13333333  44.93333333  53.86666667\n",
      "  64.2         73.          88.46666667  91.93333333 102.06666667]\n",
      "lever offset:  52\n",
      "SESSIONS:  ['am_Apr21_', 'am_Apr22_', 'am_Apr25_', 'am_Apr26_', 'am_Apr27_', 'am_Apr28_', 'am_Apr29_', 'am_Dec9_', 'am_Dec11_', 'am_Dec17_', 'am_Dec18_', 'am_Dec28_', 'am_Dec29_', 'am_Dec30_', 'am_Feb2_', 'am_Feb3_', 'am_Feb4_', 'am_Feb5_', 'am_Feb9_', 'am_Feb10_', 'am_Feb11_', 'am_Feb12_', 'am_Feb15_', 'am_Feb16_', 'am_Feb17_', 'am_Feb18_', 'am_Jan5_', 'am_Jan6_', 'am_Jan7_', 'am_Jan8_', 'am_Jan13_', 'am_Jan14_', 'am_Jan15_', 'am_Jan18_', 'am_Jan19_', 'am_Jan21_', 'am_Jan22_', 'am_Jan28_', 'am_Jan29_', 'pm_Dec16_', 'pm_Dec17_', 'pm_Jan11_', 'pm_Jan13_', 'pm_Jan14_', 'pm_Jan15_', 'pm_Jan18_', 'pm_Jan20_', 'pm_Jan21_', 'pm_Jan22_', 'pm_Jan26_', 'pm_Jan27_', 'pm_Jan28_', 'pm_Jan29_']\n",
      "SHIFT IDS:  ['2', '2', '2', '2', '2', '0', '2', '2', '1', '1', '2', '2', '1', '2', '2', '1', '1', '2', '1', '2', '2', '2', '1', '1', '1', '0', '1', '2', '2', '0', '2', '2', '2', '2', '0', '1', '0', '1', '1', '2', '2', '2', '2', '2', '2', '2', '2', '2', '1', '1', '1', '2', '1']\n",
      "pa.session_id:  AQ2am_Jan5_30Hz\n",
      "SELF SHIFT ID:  1\n",
      " using shift:  1\n",
      "DLC SHIFT Loaded:  3.24\n",
      "DLC shift :  3.24   in frames:  97  after subtracting lever shift:  -45\n",
      " triggers:  (39,)\n",
      " data:  (40000, 128, 128)\n",
      "(39428, 128, 128)\n",
      "X:  (39428, 16384)\n"
     ]
    },
    {
     "name": "stderr",
     "output_type": "stream",
     "text": [
      "\r",
      "  0%|          | 0/1 [00:00<?, ?it/s]"
     ]
    },
    {
     "name": "stdout",
     "output_type": "stream",
     "text": [
      " X data using :  30  number of frames  (1311, 491520)\n",
      " pca allpoints:  (1311, 10)\n",
      "1 147 10\n"
     ]
    },
    {
     "name": "stderr",
     "output_type": "stream",
     "text": [
      "100%|██████████| 1/1 [00:00<00:00,  1.29it/s]\n",
      "  0%|          | 0/1 [00:00<?, ?it/s]"
     ]
    },
    {
     "name": "stdout",
     "output_type": "stream",
     "text": [
      " pca p_levefr resahped:  (1, 141, 10)\n",
      "  body movement pa.p_lever projection:  (1, 141, 10)\n",
      "temp points:  (1311, 2)\n",
      "temp points:  (141, 2)\n",
      "plever:  (127, 2)\n",
      "1 126 10\n"
     ]
    },
    {
     "name": "stderr",
     "output_type": "stream",
     "text": [
      "100%|██████████| 1/1 [00:00<00:00,  1.51it/s]\n",
      "  0%|          | 0/1 [00:00<?, ?it/s]"
     ]
    },
    {
     "name": "stdout",
     "output_type": "stream",
     "text": [
      " pca p_levefr resahped:  (1, 120, 10)\n",
      "  body movement pa.p_lever projection:  (1, 120, 10)\n",
      "temp points:  (1311, 2)\n",
      "temp points:  (120, 2)\n",
      "plever:  (108, 2)\n",
      "1 129 10\n"
     ]
    },
    {
     "name": "stderr",
     "output_type": "stream",
     "text": [
      "100%|██████████| 1/1 [00:00<00:00,  1.55it/s]\n",
      "  0%|          | 0/1 [00:00<?, ?it/s]"
     ]
    },
    {
     "name": "stdout",
     "output_type": "stream",
     "text": [
      " pca p_levefr resahped:  (1, 124, 10)\n",
      "  body movement pa.p_lever projection:  (1, 124, 10)\n",
      "temp points:  (1311, 2)\n",
      "temp points:  (124, 2)\n",
      "plever:  (111, 2)\n",
      "1 38 10\n"
     ]
    },
    {
     "name": "stderr",
     "output_type": "stream",
     "text": [
      "100%|██████████| 1/1 [00:00<00:00,  4.65it/s]\n",
      "  0%|          | 0/1 [00:00<?, ?it/s]"
     ]
    },
    {
     "name": "stdout",
     "output_type": "stream",
     "text": [
      " pca p_levefr resahped:  (1, 36, 10)\n",
      "  body movement pa.p_lever projection:  (1, 36, 10)\n",
      "temp points:  (1311, 2)\n",
      "temp points:  (36, 2)\n",
      "plever:  (32, 2)\n",
      "1 132 10\n"
     ]
    },
    {
     "name": "stderr",
     "output_type": "stream",
     "text": [
      "100%|██████████| 1/1 [00:00<00:00,  1.53it/s]\n",
      "  0%|          | 0/1 [00:00<?, ?it/s]"
     ]
    },
    {
     "name": "stdout",
     "output_type": "stream",
     "text": [
      " pca p_levefr resahped:  (1, 127, 10)\n",
      "  body movement pa.p_lever projection:  (1, 127, 10)\n",
      "temp points:  (1311, 2)\n",
      "temp points:  (127, 2)\n",
      "plever:  (114, 2)\n",
      "FNAME LEVER:  /media/cat/4TBSSD/yuki/AQ2/tif_files/AQ2am_Jan5_30Hz/AQ2am_Jan5_30Hz_all_locs_selected.txt\n",
      "1 52 10\n"
     ]
    },
    {
     "name": "stderr",
     "output_type": "stream",
     "text": [
      "100%|██████████| 1/1 [00:00<00:00,  3.25it/s]\n",
      "/media/cat/4TBSSD/anaconda3/envs/wide/lib/python3.8/site-packages/numpy/core/_asarray.py:171: VisibleDeprecationWarning: Creating an ndarray from ragged nested sequences (which is a list-or-tuple of lists-or-tuples-or ndarrays with different lengths or shapes) is deprecated. If you meant to do this, you must specify 'dtype=object' when creating the ndarray.\n",
      "  return array(a, dtype, copy=False, order=order, subok=True)\n"
     ]
    },
    {
     "name": "stdout",
     "output_type": "stream",
     "text": [
      " pca p_levefr resahped:  (1, 52, 10)\n",
      "temp points:  (1311, 2)\n",
      "temp points:  (52, 2)\n",
      "plever:  (46, 2)\n",
      "pa.session_id 1:  AQ2am_Jan6_30Hz\n",
      "session corrected:  AQ2am_Jan6_30Hz\n",
      "(7,)\n",
      "['left_paw' 'right_paw' 'nose' 'jaw' 'right_ear' 'tongue' 'lever']\n",
      "pa.session_id 2:  AQ2am_Jan6_30Hz\n",
      "starts:  [ 5.         15.2        25.13333333 29.8        35.66666667 50.8\n",
      " 59.6        82.73333333 87.86666667 96.66666667]\n",
      "lever offset:  46\n",
      "SESSIONS:  ['am_Apr21_', 'am_Apr22_', 'am_Apr25_', 'am_Apr26_', 'am_Apr27_', 'am_Apr28_', 'am_Apr29_', 'am_Dec9_', 'am_Dec11_', 'am_Dec17_', 'am_Dec18_', 'am_Dec28_', 'am_Dec29_', 'am_Dec30_', 'am_Feb2_', 'am_Feb3_', 'am_Feb4_', 'am_Feb5_', 'am_Feb9_', 'am_Feb10_', 'am_Feb11_', 'am_Feb12_', 'am_Feb15_', 'am_Feb16_', 'am_Feb17_', 'am_Feb18_', 'am_Jan5_', 'am_Jan6_', 'am_Jan7_', 'am_Jan8_', 'am_Jan13_', 'am_Jan14_', 'am_Jan15_', 'am_Jan18_', 'am_Jan19_', 'am_Jan21_', 'am_Jan22_', 'am_Jan28_', 'am_Jan29_', 'pm_Dec16_', 'pm_Dec17_', 'pm_Jan11_', 'pm_Jan13_', 'pm_Jan14_', 'pm_Jan15_', 'pm_Jan18_', 'pm_Jan20_', 'pm_Jan21_', 'pm_Jan22_', 'pm_Jan26_', 'pm_Jan27_', 'pm_Jan28_', 'pm_Jan29_']\n",
      "SHIFT IDS:  ['2', '2', '2', '2', '2', '0', '2', '2', '1', '1', '2', '2', '1', '2', '2', '1', '1', '2', '1', '2', '2', '2', '1', '1', '1', '0', '1', '2', '2', '0', '2', '2', '2', '2', '0', '1', '0', '1', '1', '2', '2', '2', '2', '2', '2', '2', '2', '2', '1', '1', '1', '2', '1']\n",
      "pa.session_id:  AQ2am_Jan6_30Hz\n",
      "SELF SHIFT ID:  2\n",
      " using shift:  2\n",
      "DLC SHIFT Loaded:  2.91\n",
      "DLC shift :  2.91   in frames:  87  after subtracting lever shift:  -41\n",
      " triggers:  (49,)\n",
      " data:  (40000, 128, 128)\n",
      "(39451, 128, 128)\n",
      "X:  (39451, 16384)\n"
     ]
    },
    {
     "name": "stderr",
     "output_type": "stream",
     "text": [
      "\r",
      "  0%|          | 0/1 [00:00<?, ?it/s]"
     ]
    },
    {
     "name": "stdout",
     "output_type": "stream",
     "text": [
      " X data using :  30  number of frames  (1312, 491520)\n",
      " pca allpoints:  (1312, 10)\n",
      "1 137 10\n"
     ]
    },
    {
     "name": "stderr",
     "output_type": "stream",
     "text": [
      "100%|██████████| 1/1 [00:00<00:00,  1.44it/s]\n",
      "  0%|          | 0/1 [00:00<?, ?it/s]"
     ]
    },
    {
     "name": "stdout",
     "output_type": "stream",
     "text": [
      " pca p_levefr resahped:  (1, 131, 10)\n",
      "  body movement pa.p_lever projection:  (1, 131, 10)\n",
      "temp points:  (1312, 2)\n",
      "temp points:  (131, 2)\n",
      "plever:  (118, 2)\n",
      "1 135 10\n"
     ]
    },
    {
     "name": "stderr",
     "output_type": "stream",
     "text": [
      "100%|██████████| 1/1 [00:00<00:00,  1.29it/s]\n",
      "  0%|          | 0/1 [00:00<?, ?it/s]"
     ]
    },
    {
     "name": "stdout",
     "output_type": "stream",
     "text": [
      " pca p_levefr resahped:  (1, 129, 10)\n",
      "  body movement pa.p_lever projection:  (1, 129, 10)\n",
      "temp points:  (1312, 2)\n",
      "temp points:  (129, 2)\n",
      "plever:  (116, 2)\n",
      "1 118 10\n"
     ]
    },
    {
     "name": "stderr",
     "output_type": "stream",
     "text": [
      "100%|██████████| 1/1 [00:00<00:00,  1.58it/s]\n",
      "100%|██████████| 1/1 [00:00<00:00,  7.86it/s]\n",
      "  0%|          | 0/1 [00:00<?, ?it/s]"
     ]
    },
    {
     "name": "stdout",
     "output_type": "stream",
     "text": [
      " pca p_levefr resahped:  (1, 112, 10)\n",
      "  body movement pa.p_lever projection:  (1, 112, 10)\n",
      "temp points:  (1312, 2)\n",
      "temp points:  (112, 2)\n",
      "plever:  (100, 2)\n",
      "1 21 10\n",
      " pca p_levefr resahped:  (1, 21, 10)\n",
      "  body movement pa.p_lever projection:  (1, 21, 10)\n",
      "temp points:  (1312, 2)\n",
      "temp points:  (21, 2)\n",
      "plever:  (19, 2)\n",
      "1 131 10\n"
     ]
    },
    {
     "name": "stderr",
     "output_type": "stream",
     "text": [
      "100%|██████████| 1/1 [00:00<00:00,  1.49it/s]\n",
      "  0%|          | 0/1 [00:00<?, ?it/s]"
     ]
    },
    {
     "name": "stdout",
     "output_type": "stream",
     "text": [
      " pca p_levefr resahped:  (1, 127, 10)\n",
      "  body movement pa.p_lever projection:  (1, 127, 10)\n",
      "temp points:  (1312, 2)\n",
      "temp points:  (127, 2)\n",
      "plever:  (114, 2)\n",
      "FNAME LEVER:  /media/cat/4TBSSD/yuki/AQ2/tif_files/AQ2am_Jan6_30Hz/AQ2am_Jan6_30Hz_all_locs_selected.txt\n",
      "1 59 10\n"
     ]
    },
    {
     "name": "stderr",
     "output_type": "stream",
     "text": [
      "100%|██████████| 1/1 [00:00<00:00,  2.80it/s]\n",
      "/media/cat/4TBSSD/anaconda3/envs/wide/lib/python3.8/site-packages/numpy/core/_asarray.py:171: VisibleDeprecationWarning: Creating an ndarray from ragged nested sequences (which is a list-or-tuple of lists-or-tuples-or ndarrays with different lengths or shapes) is deprecated. If you meant to do this, you must specify 'dtype=object' when creating the ndarray.\n",
      "  return array(a, dtype, copy=False, order=order, subok=True)\n"
     ]
    },
    {
     "name": "stdout",
     "output_type": "stream",
     "text": [
      " pca p_levefr resahped:  (1, 59, 10)\n",
      "temp points:  (1312, 2)\n",
      "temp points:  (59, 2)\n",
      "plever:  (53, 2)\n",
      "pa.session_id 1:  AQ2am_Jan7_30Hz\n",
      "session corrected:  AQ2am_Jan7_30Hz\n",
      "(7,)\n",
      "['left_paw' 'right_paw' 'nose' 'jaw' 'right_ear' 'tongue' 'lever']\n",
      "pa.session_id 2:  AQ2am_Jan7_30Hz\n",
      "starts:  [ 5.73333333 14.53333333 22.86666667 27.26666667 43.6        53.53333333\n",
      " 65.73333333 70.2        79.86666667 91.86666667]\n",
      "lever offset:  90\n",
      "SESSIONS:  ['am_Apr21_', 'am_Apr22_', 'am_Apr25_', 'am_Apr26_', 'am_Apr27_', 'am_Apr28_', 'am_Apr29_', 'am_Dec9_', 'am_Dec11_', 'am_Dec17_', 'am_Dec18_', 'am_Dec28_', 'am_Dec29_', 'am_Dec30_', 'am_Feb2_', 'am_Feb3_', 'am_Feb4_', 'am_Feb5_', 'am_Feb9_', 'am_Feb10_', 'am_Feb11_', 'am_Feb12_', 'am_Feb15_', 'am_Feb16_', 'am_Feb17_', 'am_Feb18_', 'am_Jan5_', 'am_Jan6_', 'am_Jan7_', 'am_Jan8_', 'am_Jan13_', 'am_Jan14_', 'am_Jan15_', 'am_Jan18_', 'am_Jan19_', 'am_Jan21_', 'am_Jan22_', 'am_Jan28_', 'am_Jan29_', 'pm_Dec16_', 'pm_Dec17_', 'pm_Jan11_', 'pm_Jan13_', 'pm_Jan14_', 'pm_Jan15_', 'pm_Jan18_', 'pm_Jan20_', 'pm_Jan21_', 'pm_Jan22_', 'pm_Jan26_', 'pm_Jan27_', 'pm_Jan28_', 'pm_Jan29_']\n",
      "SHIFT IDS:  ['2', '2', '2', '2', '2', '0', '2', '2', '1', '1', '2', '2', '1', '2', '2', '1', '1', '2', '1', '2', '2', '2', '1', '1', '1', '0', '1', '2', '2', '0', '2', '2', '2', '2', '0', '1', '0', '1', '1', '2', '2', '2', '2', '2', '2', '2', '2', '2', '1', '1', '1', '2', '1']\n",
      "pa.session_id:  AQ2am_Jan7_30Hz\n",
      "SELF SHIFT ID:  2\n",
      " using shift:  2\n",
      "DLC SHIFT Loaded:  6.59\n",
      "DLC shift :  6.59   in frames:  197  after subtracting lever shift:  -107\n",
      " triggers:  (4,)\n",
      " data:  (40000, 128, 128)\n",
      "(39123, 128, 128)\n",
      "X:  (39123, 16384)\n"
     ]
    },
    {
     "name": "stderr",
     "output_type": "stream",
     "text": [
      "\r",
      "  0%|          | 0/1 [00:00<?, ?it/s]"
     ]
    },
    {
     "name": "stdout",
     "output_type": "stream",
     "text": [
      " X data using :  30  number of frames  (1301, 491520)\n",
      " pca allpoints:  (1301, 10)\n",
      "1 149 10\n"
     ]
    },
    {
     "name": "stderr",
     "output_type": "stream",
     "text": [
      "100%|██████████| 1/1 [00:00<00:00,  1.28it/s]\n",
      "  0%|          | 0/1 [00:00<?, ?it/s]"
     ]
    },
    {
     "name": "stdout",
     "output_type": "stream",
     "text": [
      " pca p_levefr resahped:  (1, 149, 10)\n",
      "  body movement pa.p_lever projection:  (1, 149, 10)\n",
      "temp points:  (1301, 2)\n",
      "temp points:  (149, 2)\n",
      "plever:  (134, 2)\n",
      "1 157 10\n"
     ]
    },
    {
     "name": "stderr",
     "output_type": "stream",
     "text": [
      "100%|██████████| 1/1 [00:00<00:00,  1.18it/s]\n",
      "  0%|          | 0/1 [00:00<?, ?it/s]"
     ]
    },
    {
     "name": "stdout",
     "output_type": "stream",
     "text": [
      " pca p_levefr resahped:  (1, 157, 10)\n",
      "  body movement pa.p_lever projection:  (1, 157, 10)\n",
      "temp points:  (1301, 2)\n",
      "temp points:  (157, 2)\n",
      "plever:  (141, 2)\n",
      "1 139 10\n"
     ]
    },
    {
     "name": "stderr",
     "output_type": "stream",
     "text": [
      "100%|██████████| 1/1 [00:00<00:00,  1.33it/s]\n",
      "  0%|          | 0/1 [00:00<?, ?it/s]"
     ]
    },
    {
     "name": "stdout",
     "output_type": "stream",
     "text": [
      " pca p_levefr resahped:  (1, 139, 10)\n",
      "  body movement pa.p_lever projection:  (1, 139, 10)\n",
      "temp points:  (1301, 2)\n",
      "temp points:  (139, 2)\n",
      "plever:  (125, 2)\n",
      "1 88 10\n"
     ]
    },
    {
     "name": "stderr",
     "output_type": "stream",
     "text": [
      "100%|██████████| 1/1 [00:00<00:00,  2.08it/s]\n",
      "  0%|          | 0/1 [00:00<?, ?it/s]"
     ]
    },
    {
     "name": "stdout",
     "output_type": "stream",
     "text": [
      " pca p_levefr resahped:  (1, 88, 10)\n",
      "  body movement pa.p_lever projection:  (1, 88, 10)\n",
      "temp points:  (1301, 2)\n",
      "temp points:  (88, 2)\n",
      "plever:  (79, 2)\n",
      "1 144 10\n"
     ]
    },
    {
     "name": "stderr",
     "output_type": "stream",
     "text": [
      "100%|██████████| 1/1 [00:00<00:00,  1.34it/s]\n",
      "100%|██████████| 1/1 [00:00<00:00, 20.98it/s]\n",
      "/media/cat/4TBSSD/anaconda3/envs/wide/lib/python3.8/site-packages/numpy/lib/function_base.py:3961: RuntimeWarning: invalid value encountered in subtract\n",
      "  diff_b_a = subtract(b, a)\n",
      "/media/cat/4TBSSD/anaconda3/envs/wide/lib/python3.8/site-packages/numpy/core/_asarray.py:171: VisibleDeprecationWarning: Creating an ndarray from ragged nested sequences (which is a list-or-tuple of lists-or-tuples-or ndarrays with different lengths or shapes) is deprecated. If you meant to do this, you must specify 'dtype=object' when creating the ndarray.\n",
      "  return array(a, dtype, copy=False, order=order, subok=True)\n"
     ]
    },
    {
     "name": "stdout",
     "output_type": "stream",
     "text": [
      " pca p_levefr resahped:  (1, 144, 10)\n",
      "  body movement pa.p_lever projection:  (1, 144, 10)\n",
      "temp points:  (1301, 2)\n",
      "temp points:  (144, 2)\n",
      "plever:  (129, 2)\n",
      "FNAME LEVER:  /media/cat/4TBSSD/yuki/AQ2/tif_files/AQ2am_Jan7_30Hz/AQ2am_Jan7_30Hz_all_locs_selected.txt\n",
      "1 4 10\n",
      " pca p_levefr resahped:  (1, 4, 10)\n",
      "temp points:  (1301, 2)\n",
      "temp points:  (4, 2)\n",
      "plever:  (0, 2)\n",
      "pa.session_id 1:  AQ2am_Jan8_30Hz\n",
      "session corrected:  AQ2am_Jan8_30Hz\n",
      "(7,)\n",
      "['left_paw' 'right_paw' 'nose' 'jaw' 'right_ear' 'tongue' 'lever']\n",
      "pa.session_id 2:  AQ2am_Jan8_30Hz\n",
      "starts:  [14.4        27.86666667 34.86666667 38.26666667 46.26666667 51.\n",
      " 57.66666667 61.93333333 66.4        72.73333333]\n",
      "lever offset:  97\n",
      "SESSIONS:  ['am_Apr21_', 'am_Apr22_', 'am_Apr25_', 'am_Apr26_', 'am_Apr27_', 'am_Apr28_', 'am_Apr29_', 'am_Dec9_', 'am_Dec11_', 'am_Dec17_', 'am_Dec18_', 'am_Dec28_', 'am_Dec29_', 'am_Dec30_', 'am_Feb2_', 'am_Feb3_', 'am_Feb4_', 'am_Feb5_', 'am_Feb9_', 'am_Feb10_', 'am_Feb11_', 'am_Feb12_', 'am_Feb15_', 'am_Feb16_', 'am_Feb17_', 'am_Feb18_', 'am_Jan5_', 'am_Jan6_', 'am_Jan7_', 'am_Jan8_', 'am_Jan13_', 'am_Jan14_', 'am_Jan15_', 'am_Jan18_', 'am_Jan19_', 'am_Jan21_', 'am_Jan22_', 'am_Jan28_', 'am_Jan29_', 'pm_Dec16_', 'pm_Dec17_', 'pm_Jan11_', 'pm_Jan13_', 'pm_Jan14_', 'pm_Jan15_', 'pm_Jan18_', 'pm_Jan20_', 'pm_Jan21_', 'pm_Jan22_', 'pm_Jan26_', 'pm_Jan27_', 'pm_Jan28_', 'pm_Jan29_']\n",
      "SHIFT IDS:  ['2', '2', '2', '2', '2', '0', '2', '2', '1', '1', '2', '2', '1', '2', '2', '1', '1', '2', '1', '2', '2', '2', '1', '1', '1', '0', '1', '2', '2', '0', '2', '2', '2', '2', '0', '1', '0', '1', '1', '2', '2', '2', '2', '2', '2', '2', '2', '2', '1', '1', '1', '2', '1']\n",
      "pa.session_id:  AQ2am_Jan8_30Hz\n",
      "SELF SHIFT ID:  0\n",
      " using shift:  0\n",
      "DLC SHIFT Loaded:  4.77\n",
      "DLC shift :  4.77   in frames:  143  after subtracting lever shift:  -46\n",
      " triggers:  (22,)\n",
      " data:  (40000, 128, 128)\n",
      "(39362, 128, 128)\n",
      "X:  (39362, 16384)\n"
     ]
    },
    {
     "name": "stderr",
     "output_type": "stream",
     "text": [
      "\r",
      "  0%|          | 0/1 [00:00<?, ?it/s]"
     ]
    },
    {
     "name": "stdout",
     "output_type": "stream",
     "text": [
      " X data using :  30  number of frames  (1309, 491520)\n",
      " pca allpoints:  (1309, 10)\n",
      "1 138 10\n"
     ]
    },
    {
     "name": "stderr",
     "output_type": "stream",
     "text": [
      "100%|██████████| 1/1 [00:00<00:00,  1.42it/s]\n",
      "  0%|          | 0/1 [00:00<?, ?it/s]"
     ]
    },
    {
     "name": "stdout",
     "output_type": "stream",
     "text": [
      " pca p_levefr resahped:  (1, 136, 10)\n",
      "  body movement pa.p_lever projection:  (1, 136, 10)\n",
      "temp points:  (1309, 2)\n",
      "temp points:  (136, 2)\n",
      "plever:  (122, 2)\n",
      "1 124 10\n"
     ]
    },
    {
     "name": "stderr",
     "output_type": "stream",
     "text": [
      "100%|██████████| 1/1 [00:00<00:00,  1.55it/s]\n",
      "  0%|          | 0/1 [00:00<?, ?it/s]"
     ]
    },
    {
     "name": "stdout",
     "output_type": "stream",
     "text": [
      " pca p_levefr resahped:  (1, 121, 10)\n",
      "  body movement pa.p_lever projection:  (1, 121, 10)\n",
      "temp points:  (1309, 2)\n",
      "temp points:  (121, 2)\n",
      "plever:  (109, 2)\n",
      "1 140 10\n"
     ]
    },
    {
     "name": "stderr",
     "output_type": "stream",
     "text": [
      "100%|██████████| 1/1 [00:00<00:00,  1.39it/s]\n",
      "  0%|          | 0/1 [00:00<?, ?it/s]"
     ]
    },
    {
     "name": "stdout",
     "output_type": "stream",
     "text": [
      " pca p_levefr resahped:  (1, 136, 10)\n",
      "  body movement pa.p_lever projection:  (1, 136, 10)\n",
      "temp points:  (1309, 2)\n",
      "temp points:  (136, 2)\n",
      "plever:  (122, 2)\n",
      "1 42 10\n"
     ]
    },
    {
     "name": "stderr",
     "output_type": "stream",
     "text": [
      "100%|██████████| 1/1 [00:00<00:00,  3.94it/s]\n",
      "  0%|          | 0/1 [00:00<?, ?it/s]"
     ]
    },
    {
     "name": "stdout",
     "output_type": "stream",
     "text": [
      " pca p_levefr resahped:  (1, 41, 10)\n",
      "  body movement pa.p_lever projection:  (1, 41, 10)\n",
      "temp points:  (1309, 2)\n",
      "temp points:  (41, 2)\n",
      "plever:  (37, 2)\n",
      "1 126 10\n"
     ]
    },
    {
     "name": "stderr",
     "output_type": "stream",
     "text": [
      "100%|██████████| 1/1 [00:00<00:00,  1.54it/s]\n",
      "100%|██████████| 1/1 [00:00<00:00,  5.73it/s]\n"
     ]
    },
    {
     "name": "stdout",
     "output_type": "stream",
     "text": [
      " pca p_levefr resahped:  (1, 123, 10)\n",
      "  body movement pa.p_lever projection:  (1, 123, 10)\n",
      "temp points:  (1309, 2)\n",
      "temp points:  (123, 2)\n",
      "plever:  (110, 2)\n",
      "FNAME LEVER:  /media/cat/4TBSSD/yuki/AQ2/tif_files/AQ2am_Jan8_30Hz/AQ2am_Jan8_30Hz_all_locs_selected.txt\n",
      "1 27 10\n",
      " pca p_levefr resahped:  (1, 27, 10)\n",
      "temp points:  (1309, 2)\n",
      "temp points:  (27, 2)\n",
      "plever:  "
     ]
    },
    {
     "name": "stderr",
     "output_type": "stream",
     "text": [
      "/media/cat/4TBSSD/anaconda3/envs/wide/lib/python3.8/site-packages/numpy/core/_asarray.py:171: VisibleDeprecationWarning: Creating an ndarray from ragged nested sequences (which is a list-or-tuple of lists-or-tuples-or ndarrays with different lengths or shapes) is deprecated. If you meant to do this, you must specify 'dtype=object' when creating the ndarray.\n",
      "  return array(a, dtype, copy=False, order=order, subok=True)\n"
     ]
    },
    {
     "name": "stdout",
     "output_type": "stream",
     "text": [
      "(24, 2)\n",
      "pa.session_id 1:  AQ2pm_Jan11_30Hz\n",
      "session corrected:  AQ2pm_Jan11_30Hz\n",
      "(7,)\n",
      "['left_paw' 'right_paw' 'nose' 'jaw' 'right_ear' 'tongue' 'lever']\n",
      "pa.session_id 2:  AQ2pm_Jan11_30Hz\n",
      "starts:  [ 6.13333333 14.2        31.06666667 37.         46.2        58.\n",
      " 62.53333333 67.53333333 73.46666667 94.86666667]\n",
      "lever offset:  78\n",
      "SESSIONS:  ['am_Apr21_', 'am_Apr22_', 'am_Apr25_', 'am_Apr26_', 'am_Apr27_', 'am_Apr28_', 'am_Apr29_', 'am_Dec9_', 'am_Dec11_', 'am_Dec17_', 'am_Dec18_', 'am_Dec28_', 'am_Dec29_', 'am_Dec30_', 'am_Feb2_', 'am_Feb3_', 'am_Feb4_', 'am_Feb5_', 'am_Feb9_', 'am_Feb10_', 'am_Feb11_', 'am_Feb12_', 'am_Feb15_', 'am_Feb16_', 'am_Feb17_', 'am_Feb18_', 'am_Jan5_', 'am_Jan6_', 'am_Jan7_', 'am_Jan8_', 'am_Jan13_', 'am_Jan14_', 'am_Jan15_', 'am_Jan18_', 'am_Jan19_', 'am_Jan21_', 'am_Jan22_', 'am_Jan28_', 'am_Jan29_', 'pm_Dec16_', 'pm_Dec17_', 'pm_Jan11_', 'pm_Jan13_', 'pm_Jan14_', 'pm_Jan15_', 'pm_Jan18_', 'pm_Jan20_', 'pm_Jan21_', 'pm_Jan22_', 'pm_Jan26_', 'pm_Jan27_', 'pm_Jan28_', 'pm_Jan29_']\n",
      "SHIFT IDS:  ['2', '2', '2', '2', '2', '0', '2', '2', '1', '1', '2', '2', '1', '2', '2', '1', '1', '2', '1', '2', '2', '2', '1', '1', '1', '0', '1', '2', '2', '0', '2', '2', '2', '2', '0', '1', '0', '1', '1', '2', '2', '2', '2', '2', '2', '2', '2', '2', '1', '1', '1', '2', '1']\n",
      "pa.session_id:  AQ2pm_Jan11_30Hz\n",
      "SELF SHIFT ID:  2\n",
      " using shift:  2\n",
      "DLC SHIFT Loaded:  4.22\n",
      "DLC shift :  4.22   in frames:  126  after subtracting lever shift:  -48\n",
      " triggers:  (17,)\n",
      " data:  (40000, 128, 128)\n",
      "(39074, 128, 128)\n",
      "X:  (39074, 16384)\n"
     ]
    },
    {
     "name": "stderr",
     "output_type": "stream",
     "text": [
      "\r",
      "  0%|          | 0/1 [00:00<?, ?it/s]"
     ]
    },
    {
     "name": "stdout",
     "output_type": "stream",
     "text": [
      " X data using :  30  number of frames  (1300, 491520)\n",
      " pca allpoints:  (1300, 10)\n",
      "1 94 10\n"
     ]
    },
    {
     "name": "stderr",
     "output_type": "stream",
     "text": [
      "100%|██████████| 1/1 [00:00<00:00,  2.08it/s]\n",
      "  0%|          | 0/1 [00:00<?, ?it/s]"
     ]
    },
    {
     "name": "stdout",
     "output_type": "stream",
     "text": [
      " pca p_levefr resahped:  (1, 94, 10)\n",
      "  body movement pa.p_lever projection:  (1, 94, 10)\n",
      "temp points:  (1300, 2)\n",
      "temp points:  (94, 2)\n",
      "plever:  (84, 2)\n",
      "1 63 10\n"
     ]
    },
    {
     "name": "stderr",
     "output_type": "stream",
     "text": [
      "100%|██████████| 1/1 [00:00<00:00,  2.79it/s]\n",
      "  0%|          | 0/1 [00:00<?, ?it/s]"
     ]
    },
    {
     "name": "stdout",
     "output_type": "stream",
     "text": [
      " pca p_levefr resahped:  (1, 63, 10)\n",
      "  body movement pa.p_lever projection:  (1, 63, 10)\n",
      "temp points:  (1300, 2)\n",
      "temp points:  (63, 2)\n",
      "plever:  (56, 2)\n",
      "1 121 10\n"
     ]
    },
    {
     "name": "stderr",
     "output_type": "stream",
     "text": [
      "100%|██████████| 1/1 [00:00<00:00,  1.54it/s]\n",
      "  0%|          | 0/1 [00:00<?, ?it/s]"
     ]
    },
    {
     "name": "stdout",
     "output_type": "stream",
     "text": [
      " pca p_levefr resahped:  (1, 121, 10)\n",
      "  body movement pa.p_lever projection:  (1, 121, 10)\n",
      "temp points:  (1300, 2)\n",
      "temp points:  (121, 2)\n",
      "plever:  (109, 2)\n",
      "1 49 10\n"
     ]
    },
    {
     "name": "stderr",
     "output_type": "stream",
     "text": [
      "100%|██████████| 1/1 [00:00<00:00,  3.82it/s]\n",
      "  0%|          | 0/1 [00:00<?, ?it/s]"
     ]
    },
    {
     "name": "stdout",
     "output_type": "stream",
     "text": [
      " pca p_levefr resahped:  (1, 46, 10)\n",
      "  body movement pa.p_lever projection:  (1, 46, 10)\n",
      "temp points:  (1300, 2)\n",
      "temp points:  (46, 2)\n",
      "plever:  (41, 2)\n",
      "1 74 10\n"
     ]
    },
    {
     "name": "stderr",
     "output_type": "stream",
     "text": [
      "100%|██████████| 1/1 [00:00<00:00,  2.45it/s]\n",
      "100%|██████████| 1/1 [00:00<00:00,  7.61it/s]\n",
      "/media/cat/4TBSSD/anaconda3/envs/wide/lib/python3.8/site-packages/numpy/core/_asarray.py:171: VisibleDeprecationWarning: Creating an ndarray from ragged nested sequences (which is a list-or-tuple of lists-or-tuples-or ndarrays with different lengths or shapes) is deprecated. If you meant to do this, you must specify 'dtype=object' when creating the ndarray.\n",
      "  return array(a, dtype, copy=False, order=order, subok=True)\n"
     ]
    },
    {
     "name": "stdout",
     "output_type": "stream",
     "text": [
      " pca p_levefr resahped:  (1, 73, 10)\n",
      "  body movement pa.p_lever projection:  (1, 73, 10)\n",
      "temp points:  (1300, 2)\n",
      "temp points:  (73, 2)\n",
      "plever:  (65, 2)\n",
      "FNAME LEVER:  /media/cat/4TBSSD/yuki/AQ2/tif_files/AQ2pm_Jan11_30Hz/AQ2pm_Jan11_30Hz_all_locs_selected.txt\n",
      "1 18 10\n",
      " pca p_levefr resahped:  (1, 18, 10)\n",
      "temp points:  (1300, 2)\n",
      "temp points:  (18, 2)\n",
      "plever:  (16, 2)\n",
      "pa.session_id 1:  AQ2am_Jan11_30Hz\n",
      "session corrected:  AQ2am_Jan11_30Hz\n",
      "(7,)\n",
      "['left_paw' 'right_paw' 'nose' 'jaw' 'right_ear' 'tongue' 'lever']\n",
      "pa.session_id 2:  AQ2am_Jan11_30Hz\n",
      "starts:  [ 23.          29.33333333  40.6         55.53333333  77.66666667\n",
      "  82.2         88.66666667  91.66666667 107.53333333 115.53333333]\n",
      "lever offset:  71\n",
      "SESSIONS:  ['am_Apr21_', 'am_Apr22_', 'am_Apr25_', 'am_Apr26_', 'am_Apr27_', 'am_Apr28_', 'am_Apr29_', 'am_Dec9_', 'am_Dec11_', 'am_Dec17_', 'am_Dec18_', 'am_Dec28_', 'am_Dec29_', 'am_Dec30_', 'am_Feb2_', 'am_Feb3_', 'am_Feb4_', 'am_Feb5_', 'am_Feb9_', 'am_Feb10_', 'am_Feb11_', 'am_Feb12_', 'am_Feb15_', 'am_Feb16_', 'am_Feb17_', 'am_Feb18_', 'am_Jan5_', 'am_Jan6_', 'am_Jan7_', 'am_Jan8_', 'am_Jan13_', 'am_Jan14_', 'am_Jan15_', 'am_Jan18_', 'am_Jan19_', 'am_Jan21_', 'am_Jan22_', 'am_Jan28_', 'am_Jan29_', 'pm_Dec16_', 'pm_Dec17_', 'pm_Jan11_', 'pm_Jan13_', 'pm_Jan14_', 'pm_Jan15_', 'pm_Jan18_', 'pm_Jan20_', 'pm_Jan21_', 'pm_Jan22_', 'pm_Jan26_', 'pm_Jan27_', 'pm_Jan28_', 'pm_Jan29_']\n",
      "SHIFT IDS:  ['2', '2', '2', '2', '2', '0', '2', '2', '1', '1', '2', '2', '1', '2', '2', '1', '1', '2', '1', '2', '2', '2', '1', '1', '1', '0', '1', '2', '2', '0', '2', '2', '2', '2', '0', '1', '0', '1', '1', '2', '2', '2', '2', '2', '2', '2', '2', '2', '1', '1', '1', '2', '1']\n",
      "pa.session_id:  AQ2am_Jan11_30Hz\n",
      "pa.session_id 1:  AQ2pm_Jan12_30Hz\n",
      "session corrected:  AQ2pm_Jan12_30Hz\n",
      "(7,)\n",
      "['left_paw' 'right_paw' 'nose' 'jaw' 'right_ear' 'tongue' 'lever']\n",
      "pa.session_id 2:  AQ2pm_Jan12_30Hz\n",
      "starts:  [ 13.26666667  22.53333333  35.          50.53333333  63.6\n",
      "  88.33333333  94.         103.8        112.66666667 136.26666667]\n",
      "lever offset:  74\n",
      "SESSIONS:  ['am_Apr21_', 'am_Apr22_', 'am_Apr25_', 'am_Apr26_', 'am_Apr27_', 'am_Apr28_', 'am_Apr29_', 'am_Dec9_', 'am_Dec11_', 'am_Dec17_', 'am_Dec18_', 'am_Dec28_', 'am_Dec29_', 'am_Dec30_', 'am_Feb2_', 'am_Feb3_', 'am_Feb4_', 'am_Feb5_', 'am_Feb9_', 'am_Feb10_', 'am_Feb11_', 'am_Feb12_', 'am_Feb15_', 'am_Feb16_', 'am_Feb17_', 'am_Feb18_', 'am_Jan5_', 'am_Jan6_', 'am_Jan7_', 'am_Jan8_', 'am_Jan13_', 'am_Jan14_', 'am_Jan15_', 'am_Jan18_', 'am_Jan19_', 'am_Jan21_', 'am_Jan22_', 'am_Jan28_', 'am_Jan29_', 'pm_Dec16_', 'pm_Dec17_', 'pm_Jan11_', 'pm_Jan13_', 'pm_Jan14_', 'pm_Jan15_', 'pm_Jan18_', 'pm_Jan20_', 'pm_Jan21_', 'pm_Jan22_', 'pm_Jan26_', 'pm_Jan27_', 'pm_Jan28_', 'pm_Jan29_']\n",
      "SHIFT IDS:  ['2', '2', '2', '2', '2', '0', '2', '2', '1', '1', '2', '2', '1', '2', '2', '1', '1', '2', '1', '2', '2', '2', '1', '1', '1', '0', '1', '2', '2', '0', '2', '2', '2', '2', '0', '1', '0', '1', '1', '2', '2', '2', '2', '2', '2', '2', '2', '2', '1', '1', '1', '2', '1']\n",
      "pa.session_id:  AQ2pm_Jan12_30Hz\n",
      "pa.session_id 1:  AQ2am_Jan12_30Hz\n",
      "session corrected:  AQ2am_Jan12_30Hz\n",
      "(7,)\n",
      "['left_paw' 'right_paw' 'nose' 'jaw' 'right_ear' 'tongue' 'lever']\n",
      "pa.session_id 2:  AQ2am_Jan12_30Hz\n",
      "starts:  [ 24.93333333  32.93333333  43.8         48.26666667  54.06666667\n",
      "  60.33333333  79.53333333  87.73333333 100.4        106.6       ]\n",
      "lever offset:  75\n",
      "SESSIONS:  ['am_Apr21_', 'am_Apr22_', 'am_Apr25_', 'am_Apr26_', 'am_Apr27_', 'am_Apr28_', 'am_Apr29_', 'am_Dec9_', 'am_Dec11_', 'am_Dec17_', 'am_Dec18_', 'am_Dec28_', 'am_Dec29_', 'am_Dec30_', 'am_Feb2_', 'am_Feb3_', 'am_Feb4_', 'am_Feb5_', 'am_Feb9_', 'am_Feb10_', 'am_Feb11_', 'am_Feb12_', 'am_Feb15_', 'am_Feb16_', 'am_Feb17_', 'am_Feb18_', 'am_Jan5_', 'am_Jan6_', 'am_Jan7_', 'am_Jan8_', 'am_Jan13_', 'am_Jan14_', 'am_Jan15_', 'am_Jan18_', 'am_Jan19_', 'am_Jan21_', 'am_Jan22_', 'am_Jan28_', 'am_Jan29_', 'pm_Dec16_', 'pm_Dec17_', 'pm_Jan11_', 'pm_Jan13_', 'pm_Jan14_', 'pm_Jan15_', 'pm_Jan18_', 'pm_Jan20_', 'pm_Jan21_', 'pm_Jan22_', 'pm_Jan26_', 'pm_Jan27_', 'pm_Jan28_', 'pm_Jan29_']\n",
      "SHIFT IDS:  ['2', '2', '2', '2', '2', '0', '2', '2', '1', '1', '2', '2', '1', '2', '2', '1', '1', '2', '1', '2', '2', '2', '1', '1', '1', '0', '1', '2', '2', '0', '2', '2', '2', '2', '0', '1', '0', '1', '1', '2', '2', '2', '2', '2', '2', '2', '2', '2', '1', '1', '1', '2', '1']\n",
      "pa.session_id:  AQ2am_Jan12_30Hz\n",
      "pa.session_id 1:  AQ2pm_Jan13_30Hz\n",
      "session corrected:  AQ2pm_Jan13_30Hz\n",
      "(7,)\n",
      "['left_paw' 'right_paw' 'nose' 'jaw' 'right_ear' 'tongue' 'lever']\n",
      "pa.session_id 2:  AQ2pm_Jan13_30Hz\n",
      "starts:  [  9.13333333  13.6         20.93333333  59.13333333  69.6\n",
      "  76.66666667  81.13333333  88.73333333  94.53333333 104.26666667]\n",
      "lever offset:  68\n",
      "SESSIONS:  ['am_Apr21_', 'am_Apr22_', 'am_Apr25_', 'am_Apr26_', 'am_Apr27_', 'am_Apr28_', 'am_Apr29_', 'am_Dec9_', 'am_Dec11_', 'am_Dec17_', 'am_Dec18_', 'am_Dec28_', 'am_Dec29_', 'am_Dec30_', 'am_Feb2_', 'am_Feb3_', 'am_Feb4_', 'am_Feb5_', 'am_Feb9_', 'am_Feb10_', 'am_Feb11_', 'am_Feb12_', 'am_Feb15_', 'am_Feb16_', 'am_Feb17_', 'am_Feb18_', 'am_Jan5_', 'am_Jan6_', 'am_Jan7_', 'am_Jan8_', 'am_Jan13_', 'am_Jan14_', 'am_Jan15_', 'am_Jan18_', 'am_Jan19_', 'am_Jan21_', 'am_Jan22_', 'am_Jan28_', 'am_Jan29_', 'pm_Dec16_', 'pm_Dec17_', 'pm_Jan11_', 'pm_Jan13_', 'pm_Jan14_', 'pm_Jan15_', 'pm_Jan18_', 'pm_Jan20_', 'pm_Jan21_', 'pm_Jan22_', 'pm_Jan26_', 'pm_Jan27_', 'pm_Jan28_', 'pm_Jan29_']\n",
      "SHIFT IDS:  ['2', '2', '2', '2', '2', '0', '2', '2', '1', '1', '2', '2', '1', '2', '2', '1', '1', '2', '1', '2', '2', '2', '1', '1', '1', '0', '1', '2', '2', '0', '2', '2', '2', '2', '0', '1', '0', '1', '1', '2', '2', '2', '2', '2', '2', '2', '2', '2', '1', '1', '1', '2', '1']\n",
      "pa.session_id:  AQ2pm_Jan13_30Hz\n",
      "SELF SHIFT ID:  2\n",
      " using shift:  2\n",
      "DLC SHIFT Loaded:  2.94\n",
      "DLC shift :  2.94   in frames:  88  after subtracting lever shift:  -20\n",
      " triggers:  (31,)\n",
      " data:  (40000, 128, 128)\n",
      "(39068, 128, 128)\n",
      "X:  (39068, 16384)\n"
     ]
    },
    {
     "name": "stderr",
     "output_type": "stream",
     "text": [
      "\r",
      "  0%|          | 0/1 [00:00<?, ?it/s]"
     ]
    },
    {
     "name": "stdout",
     "output_type": "stream",
     "text": [
      " X data using :  30  number of frames  (1299, 491520)\n",
      " pca allpoints:  (1299, 10)\n",
      "1 131 10\n"
     ]
    },
    {
     "name": "stderr",
     "output_type": "stream",
     "text": [
      "100%|██████████| 1/1 [00:00<00:00,  1.46it/s]\n",
      "  0%|          | 0/1 [00:00<?, ?it/s]"
     ]
    },
    {
     "name": "stdout",
     "output_type": "stream",
     "text": [
      " pca p_levefr resahped:  (1, 129, 10)\n",
      "  body movement pa.p_lever projection:  (1, 129, 10)\n",
      "temp points:  (1299, 2)\n",
      "temp points:  (129, 2)\n",
      "plever:  (116, 2)\n",
      "1 119 10\n"
     ]
    },
    {
     "name": "stderr",
     "output_type": "stream",
     "text": [
      "100%|██████████| 1/1 [00:00<00:00,  1.47it/s]\n",
      "  0%|          | 0/1 [00:00<?, ?it/s]"
     ]
    },
    {
     "name": "stdout",
     "output_type": "stream",
     "text": [
      " pca p_levefr resahped:  (1, 117, 10)\n",
      "  body movement pa.p_lever projection:  (1, 117, 10)\n",
      "temp points:  (1299, 2)\n",
      "temp points:  (117, 2)\n",
      "plever:  (105, 2)\n",
      "1 109 10\n"
     ]
    },
    {
     "name": "stderr",
     "output_type": "stream",
     "text": [
      "100%|██████████| 1/1 [00:00<00:00,  1.73it/s]\n",
      "100%|██████████| 1/1 [00:00<00:00,  6.31it/s]\n",
      "  0%|          | 0/1 [00:00<?, ?it/s]"
     ]
    },
    {
     "name": "stdout",
     "output_type": "stream",
     "text": [
      " pca p_levefr resahped:  (1, 106, 10)\n",
      "  body movement pa.p_lever projection:  (1, 106, 10)\n",
      "temp points:  (1299, 2)\n",
      "temp points:  (106, 2)\n",
      "plever:  (95, 2)\n",
      "1 19 10\n",
      " pca p_levefr resahped:  (1, 18, 10)\n",
      "  body movement pa.p_lever projection:  (1, 18, 10)\n",
      "temp points:  (1299, 2)\n",
      "temp points:  (18, 2)\n",
      "plever:  (16, 2)\n",
      "1 80 10\n"
     ]
    },
    {
     "name": "stderr",
     "output_type": "stream",
     "text": [
      "100%|██████████| 1/1 [00:00<00:00,  1.97it/s]\n",
      "  0%|          | 0/1 [00:00<?, ?it/s]"
     ]
    },
    {
     "name": "stdout",
     "output_type": "stream",
     "text": [
      " pca p_levefr resahped:  (1, 79, 10)\n",
      "  body movement pa.p_lever projection:  (1, 79, 10)\n",
      "temp points:  (1299, 2)\n",
      "temp points:  (79, 2)\n",
      "plever:  (71, 2)\n",
      "FNAME LEVER:  /media/cat/4TBSSD/yuki/AQ2/tif_files/AQ2pm_Jan13_30Hz/AQ2pm_Jan13_30Hz_all_locs_selected.txt\n",
      "1 37 10\n"
     ]
    },
    {
     "name": "stderr",
     "output_type": "stream",
     "text": [
      "100%|██████████| 1/1 [00:00<00:00,  4.14it/s]\n",
      "/media/cat/4TBSSD/anaconda3/envs/wide/lib/python3.8/site-packages/numpy/core/_asarray.py:171: VisibleDeprecationWarning: Creating an ndarray from ragged nested sequences (which is a list-or-tuple of lists-or-tuples-or ndarrays with different lengths or shapes) is deprecated. If you meant to do this, you must specify 'dtype=object' when creating the ndarray.\n",
      "  return array(a, dtype, copy=False, order=order, subok=True)\n"
     ]
    },
    {
     "name": "stdout",
     "output_type": "stream",
     "text": [
      " pca p_levefr resahped:  (1, 37, 10)\n",
      "temp points:  (1299, 2)\n",
      "temp points:  (37, 2)\n",
      "plever:  (33, 2)\n",
      "pa.session_id 1:  AQ2am_Jan13_30Hz\n",
      "session corrected:  AQ2am_Jan13_30Hz\n",
      "(7,)\n",
      "['left_paw' 'right_paw' 'nose' 'jaw' 'right_ear' 'tongue' 'lever']\n",
      "pa.session_id 2:  AQ2am_Jan13_30Hz\n",
      "starts:  [ 8.86666667 15.53333333 22.93333333 26.6        47.13333333 53.66666667\n",
      " 65.33333333 77.06666667 83.93333333 94.6       ]\n",
      "lever offset:  87\n",
      "SESSIONS:  ['am_Apr21_', 'am_Apr22_', 'am_Apr25_', 'am_Apr26_', 'am_Apr27_', 'am_Apr28_', 'am_Apr29_', 'am_Dec9_', 'am_Dec11_', 'am_Dec17_', 'am_Dec18_', 'am_Dec28_', 'am_Dec29_', 'am_Dec30_', 'am_Feb2_', 'am_Feb3_', 'am_Feb4_', 'am_Feb5_', 'am_Feb9_', 'am_Feb10_', 'am_Feb11_', 'am_Feb12_', 'am_Feb15_', 'am_Feb16_', 'am_Feb17_', 'am_Feb18_', 'am_Jan5_', 'am_Jan6_', 'am_Jan7_', 'am_Jan8_', 'am_Jan13_', 'am_Jan14_', 'am_Jan15_', 'am_Jan18_', 'am_Jan19_', 'am_Jan21_', 'am_Jan22_', 'am_Jan28_', 'am_Jan29_', 'pm_Dec16_', 'pm_Dec17_', 'pm_Jan11_', 'pm_Jan13_', 'pm_Jan14_', 'pm_Jan15_', 'pm_Jan18_', 'pm_Jan20_', 'pm_Jan21_', 'pm_Jan22_', 'pm_Jan26_', 'pm_Jan27_', 'pm_Jan28_', 'pm_Jan29_']\n",
      "SHIFT IDS:  ['2', '2', '2', '2', '2', '0', '2', '2', '1', '1', '2', '2', '1', '2', '2', '1', '1', '2', '1', '2', '2', '2', '1', '1', '1', '0', '1', '2', '2', '0', '2', '2', '2', '2', '0', '1', '0', '1', '1', '2', '2', '2', '2', '2', '2', '2', '2', '2', '1', '1', '1', '2', '1']\n",
      "pa.session_id:  AQ2am_Jan13_30Hz\n",
      "SELF SHIFT ID:  2\n",
      " using shift:  2\n",
      "DLC SHIFT Loaded:  5.76\n",
      "DLC shift :  5.76   in frames:  172  after subtracting lever shift:  -85\n",
      " triggers:  (43,)\n",
      " data:  (40000, 128, 128)\n",
      "(39143, 128, 128)\n",
      "X:  (39143, 16384)\n"
     ]
    },
    {
     "name": "stderr",
     "output_type": "stream",
     "text": [
      "\r",
      "  0%|          | 0/1 [00:00<?, ?it/s]"
     ]
    },
    {
     "name": "stdout",
     "output_type": "stream",
     "text": [
      " X data using :  30  number of frames  (1302, 491520)\n",
      " pca allpoints:  (1302, 10)\n",
      "1 142 10\n"
     ]
    },
    {
     "name": "stderr",
     "output_type": "stream",
     "text": [
      "100%|██████████| 1/1 [00:00<00:00,  1.33it/s]\n",
      "  0%|          | 0/1 [00:00<?, ?it/s]"
     ]
    },
    {
     "name": "stdout",
     "output_type": "stream",
     "text": [
      " pca p_levefr resahped:  (1, 140, 10)\n",
      "  body movement pa.p_lever projection:  (1, 140, 10)\n",
      "temp points:  (1302, 2)\n",
      "temp points:  (140, 2)\n",
      "plever:  (126, 2)\n",
      "1 133 10\n"
     ]
    },
    {
     "name": "stderr",
     "output_type": "stream",
     "text": [
      "100%|██████████| 1/1 [00:00<00:00,  1.44it/s]\n",
      "  0%|          | 0/1 [00:00<?, ?it/s]"
     ]
    },
    {
     "name": "stdout",
     "output_type": "stream",
     "text": [
      " pca p_levefr resahped:  (1, 131, 10)\n",
      "  body movement pa.p_lever projection:  (1, 131, 10)\n",
      "temp points:  (1302, 2)\n",
      "temp points:  (131, 2)\n",
      "plever:  (118, 2)\n",
      "1 131 10\n"
     ]
    },
    {
     "name": "stderr",
     "output_type": "stream",
     "text": [
      "100%|██████████| 1/1 [00:00<00:00,  1.51it/s]\n",
      "  0%|          | 0/1 [00:00<?, ?it/s]"
     ]
    },
    {
     "name": "stdout",
     "output_type": "stream",
     "text": [
      " pca p_levefr resahped:  (1, 129, 10)\n",
      "  body movement pa.p_lever projection:  (1, 129, 10)\n",
      "temp points:  (1302, 2)\n",
      "temp points:  (129, 2)\n",
      "plever:  (116, 2)\n",
      "1 93 10\n"
     ]
    },
    {
     "name": "stderr",
     "output_type": "stream",
     "text": [
      "100%|██████████| 1/1 [00:00<00:00,  2.07it/s]\n",
      "  0%|          | 0/1 [00:00<?, ?it/s]"
     ]
    },
    {
     "name": "stdout",
     "output_type": "stream",
     "text": [
      " pca p_levefr resahped:  (1, 91, 10)\n",
      "  body movement pa.p_lever projection:  (1, 91, 10)\n",
      "temp points:  (1302, 2)\n",
      "temp points:  (91, 2)\n",
      "plever:  (82, 2)\n",
      "1 135 10\n"
     ]
    },
    {
     "name": "stderr",
     "output_type": "stream",
     "text": [
      "100%|██████████| 1/1 [00:00<00:00,  1.44it/s]\n",
      "  0%|          | 0/1 [00:00<?, ?it/s]"
     ]
    },
    {
     "name": "stdout",
     "output_type": "stream",
     "text": [
      " pca p_levefr resahped:  (1, 133, 10)\n",
      "  body movement pa.p_lever projection:  (1, 133, 10)\n",
      "temp points:  (1302, 2)\n",
      "temp points:  (133, 2)\n",
      "plever:  (119, 2)\n",
      "FNAME LEVER:  /media/cat/4TBSSD/yuki/AQ2/tif_files/AQ2am_Jan13_30Hz/AQ2am_Jan13_30Hz_all_locs_selected.txt\n",
      "1 55 10\n"
     ]
    },
    {
     "name": "stderr",
     "output_type": "stream",
     "text": [
      "100%|██████████| 1/1 [00:00<00:00,  3.35it/s]\n",
      "/media/cat/4TBSSD/anaconda3/envs/wide/lib/python3.8/site-packages/numpy/core/_asarray.py:171: VisibleDeprecationWarning: Creating an ndarray from ragged nested sequences (which is a list-or-tuple of lists-or-tuples-or ndarrays with different lengths or shapes) is deprecated. If you meant to do this, you must specify 'dtype=object' when creating the ndarray.\n",
      "  return array(a, dtype, copy=False, order=order, subok=True)\n"
     ]
    },
    {
     "name": "stdout",
     "output_type": "stream",
     "text": [
      " pca p_levefr resahped:  (1, 55, 10)\n",
      "temp points:  (1302, 2)\n",
      "temp points:  (55, 2)\n",
      "plever:  (49, 2)\n",
      "pa.session_id 1:  AQ2pm_Jan14_30Hz\n",
      "session corrected:  AQ2pm_Jan14_30Hz\n",
      "(7,)\n",
      "['left_paw' 'right_paw' 'nose' 'jaw' 'right_ear' 'tongue' 'lever']\n",
      "pa.session_id 2:  AQ2pm_Jan14_30Hz\n",
      "starts:  [21.4        28.4        38.4        44.         56.8        64.73333333\n",
      " 71.73333333 82.66666667 88.93333333 94.26666667]\n",
      "lever offset:  63\n",
      "SESSIONS:  ['am_Apr21_', 'am_Apr22_', 'am_Apr25_', 'am_Apr26_', 'am_Apr27_', 'am_Apr28_', 'am_Apr29_', 'am_Dec9_', 'am_Dec11_', 'am_Dec17_', 'am_Dec18_', 'am_Dec28_', 'am_Dec29_', 'am_Dec30_', 'am_Feb2_', 'am_Feb3_', 'am_Feb4_', 'am_Feb5_', 'am_Feb9_', 'am_Feb10_', 'am_Feb11_', 'am_Feb12_', 'am_Feb15_', 'am_Feb16_', 'am_Feb17_', 'am_Feb18_', 'am_Jan5_', 'am_Jan6_', 'am_Jan7_', 'am_Jan8_', 'am_Jan13_', 'am_Jan14_', 'am_Jan15_', 'am_Jan18_', 'am_Jan19_', 'am_Jan21_', 'am_Jan22_', 'am_Jan28_', 'am_Jan29_', 'pm_Dec16_', 'pm_Dec17_', 'pm_Jan11_', 'pm_Jan13_', 'pm_Jan14_', 'pm_Jan15_', 'pm_Jan18_', 'pm_Jan20_', 'pm_Jan21_', 'pm_Jan22_', 'pm_Jan26_', 'pm_Jan27_', 'pm_Jan28_', 'pm_Jan29_']\n",
      "SHIFT IDS:  ['2', '2', '2', '2', '2', '0', '2', '2', '1', '1', '2', '2', '1', '2', '2', '1', '1', '2', '1', '2', '2', '2', '1', '1', '1', '0', '1', '2', '2', '0', '2', '2', '2', '2', '0', '1', '0', '1', '1', '2', '2', '2', '2', '2', '2', '2', '2', '2', '1', '1', '1', '2', '1']\n",
      "pa.session_id:  AQ2pm_Jan14_30Hz\n",
      "SELF SHIFT ID:  2\n",
      " using shift:  2\n",
      "DLC SHIFT Loaded:  3.72\n",
      "DLC shift :  3.72   in frames:  111  after subtracting lever shift:  -48\n",
      " triggers:  (35,)\n",
      " data:  (40000, 128, 128)\n",
      "(39631, 128, 128)\n",
      "X:  (39631, 16384)\n"
     ]
    },
    {
     "name": "stderr",
     "output_type": "stream",
     "text": [
      "\r",
      "  0%|          | 0/1 [00:00<?, ?it/s]"
     ]
    },
    {
     "name": "stdout",
     "output_type": "stream",
     "text": [
      " X data using :  30  number of frames  (1318, 491520)\n",
      " pca allpoints:  (1318, 10)\n",
      "1 114 10\n"
     ]
    },
    {
     "name": "stderr",
     "output_type": "stream",
     "text": [
      "100%|██████████| 1/1 [00:00<00:00,  1.54it/s]\n",
      "  0%|          | 0/1 [00:00<?, ?it/s]"
     ]
    },
    {
     "name": "stdout",
     "output_type": "stream",
     "text": [
      " pca p_levefr resahped:  (1, 113, 10)\n",
      "  body movement pa.p_lever projection:  (1, 113, 10)\n",
      "temp points:  (1318, 2)\n",
      "temp points:  (113, 2)\n",
      "plever:  (101, 2)\n",
      "1 111 10\n"
     ]
    },
    {
     "name": "stderr",
     "output_type": "stream",
     "text": [
      "100%|██████████| 1/1 [00:00<00:00,  1.71it/s]\n",
      "  0%|          | 0/1 [00:00<?, ?it/s]"
     ]
    },
    {
     "name": "stdout",
     "output_type": "stream",
     "text": [
      " pca p_levefr resahped:  (1, 110, 10)\n",
      "  body movement pa.p_lever projection:  (1, 110, 10)\n",
      "temp points:  (1318, 2)\n",
      "temp points:  (110, 2)\n",
      "plever:  (99, 2)\n",
      "1 68 10\n"
     ]
    },
    {
     "name": "stderr",
     "output_type": "stream",
     "text": [
      "100%|██████████| 1/1 [00:00<00:00,  2.69it/s]\n",
      "  0%|          | 0/1 [00:00<?, ?it/s]"
     ]
    },
    {
     "name": "stdout",
     "output_type": "stream",
     "text": [
      " pca p_levefr resahped:  (1, 68, 10)\n",
      "  body movement pa.p_lever projection:  (1, 68, 10)\n",
      "temp points:  (1318, 2)\n",
      "temp points:  (68, 2)\n",
      "plever:  (61, 2)\n",
      "1 47 10\n"
     ]
    },
    {
     "name": "stderr",
     "output_type": "stream",
     "text": [
      "100%|██████████| 1/1 [00:00<00:00,  3.70it/s]\n",
      "  0%|          | 0/1 [00:00<?, ?it/s]"
     ]
    },
    {
     "name": "stdout",
     "output_type": "stream",
     "text": [
      " pca p_levefr resahped:  (1, 46, 10)\n",
      "  body movement pa.p_lever projection:  (1, 46, 10)\n",
      "temp points:  (1318, 2)\n",
      "temp points:  (46, 2)\n",
      "plever:  (41, 2)\n",
      "1 85 10\n"
     ]
    },
    {
     "name": "stderr",
     "output_type": "stream",
     "text": [
      "100%|██████████| 1/1 [00:00<00:00,  1.98it/s]\n",
      "  0%|          | 0/1 [00:00<?, ?it/s]"
     ]
    },
    {
     "name": "stdout",
     "output_type": "stream",
     "text": [
      " pca p_levefr resahped:  (1, 85, 10)\n",
      "  body movement pa.p_lever projection:  (1, 85, 10)\n",
      "temp points:  (1318, 2)\n",
      "temp points:  (85, 2)\n",
      "plever:  (76, 2)\n",
      "FNAME LEVER:  /media/cat/4TBSSD/yuki/AQ2/tif_files/AQ2pm_Jan14_30Hz/AQ2pm_Jan14_30Hz_all_locs_selected.txt\n",
      "1 38 10\n"
     ]
    },
    {
     "name": "stderr",
     "output_type": "stream",
     "text": [
      "100%|██████████| 1/1 [00:00<00:00,  4.42it/s]\n",
      "/media/cat/4TBSSD/anaconda3/envs/wide/lib/python3.8/site-packages/numpy/core/_asarray.py:171: VisibleDeprecationWarning: Creating an ndarray from ragged nested sequences (which is a list-or-tuple of lists-or-tuples-or ndarrays with different lengths or shapes) is deprecated. If you meant to do this, you must specify 'dtype=object' when creating the ndarray.\n",
      "  return array(a, dtype, copy=False, order=order, subok=True)\n"
     ]
    },
    {
     "name": "stdout",
     "output_type": "stream",
     "text": [
      " pca p_levefr resahped:  (1, 38, 10)\n",
      "temp points:  (1318, 2)\n",
      "temp points:  (38, 2)\n",
      "plever:  (34, 2)\n",
      "pa.session_id 1:  AQ2am_Jan14_30Hz\n",
      "session corrected:  AQ2am_Jan14_30Hz\n",
      "(7,)\n",
      "['left_paw' 'right_paw' 'nose' 'jaw' 'right_ear' 'tongue' 'lever']\n",
      "pa.session_id 2:  AQ2am_Jan14_30Hz\n",
      "starts:  [  8.46666667  20.33333333  36.46666667  43.06666667  50.26666667\n",
      "  57.8         64.86666667  74.66666667  85.93333333 104.6       ]\n",
      "lever offset:  63\n",
      "SESSIONS:  ['am_Apr21_', 'am_Apr22_', 'am_Apr25_', 'am_Apr26_', 'am_Apr27_', 'am_Apr28_', 'am_Apr29_', 'am_Dec9_', 'am_Dec11_', 'am_Dec17_', 'am_Dec18_', 'am_Dec28_', 'am_Dec29_', 'am_Dec30_', 'am_Feb2_', 'am_Feb3_', 'am_Feb4_', 'am_Feb5_', 'am_Feb9_', 'am_Feb10_', 'am_Feb11_', 'am_Feb12_', 'am_Feb15_', 'am_Feb16_', 'am_Feb17_', 'am_Feb18_', 'am_Jan5_', 'am_Jan6_', 'am_Jan7_', 'am_Jan8_', 'am_Jan13_', 'am_Jan14_', 'am_Jan15_', 'am_Jan18_', 'am_Jan19_', 'am_Jan21_', 'am_Jan22_', 'am_Jan28_', 'am_Jan29_', 'pm_Dec16_', 'pm_Dec17_', 'pm_Jan11_', 'pm_Jan13_', 'pm_Jan14_', 'pm_Jan15_', 'pm_Jan18_', 'pm_Jan20_', 'pm_Jan21_', 'pm_Jan22_', 'pm_Jan26_', 'pm_Jan27_', 'pm_Jan28_', 'pm_Jan29_']\n",
      "SHIFT IDS:  ['2', '2', '2', '2', '2', '0', '2', '2', '1', '1', '2', '2', '1', '2', '2', '1', '1', '2', '1', '2', '2', '2', '1', '1', '1', '0', '1', '2', '2', '0', '2', '2', '2', '2', '0', '1', '0', '1', '1', '2', '2', '2', '2', '2', '2', '2', '2', '2', '1', '1', '1', '2', '1']\n",
      "pa.session_id:  AQ2am_Jan14_30Hz\n",
      "SELF SHIFT ID:  2\n",
      " using shift:  2\n",
      "DLC SHIFT Loaded:  3.56\n",
      "DLC shift :  3.56   in frames:  106  after subtracting lever shift:  -43\n",
      " triggers:  (38,)\n",
      " data:  (40000, 128, 128)\n",
      "(39188, 128, 128)\n",
      "X:  (39188, 16384)\n"
     ]
    },
    {
     "name": "stderr",
     "output_type": "stream",
     "text": [
      "\r",
      "  0%|          | 0/1 [00:00<?, ?it/s]"
     ]
    },
    {
     "name": "stdout",
     "output_type": "stream",
     "text": [
      " X data using :  30  number of frames  (1303, 491520)\n",
      " pca allpoints:  (1303, 10)\n",
      "1 135 10\n"
     ]
    },
    {
     "name": "stderr",
     "output_type": "stream",
     "text": [
      "100%|██████████| 1/1 [00:00<00:00,  1.32it/s]\n",
      "  0%|          | 0/1 [00:00<?, ?it/s]"
     ]
    },
    {
     "name": "stdout",
     "output_type": "stream",
     "text": [
      " pca p_levefr resahped:  (1, 133, 10)\n",
      "  body movement pa.p_lever projection:  (1, 133, 10)\n",
      "temp points:  (1303, 2)\n",
      "temp points:  (133, 2)\n",
      "plever:  (119, 2)\n",
      "1 125 10\n"
     ]
    },
    {
     "name": "stderr",
     "output_type": "stream",
     "text": [
      "100%|██████████| 1/1 [00:00<00:00,  1.47it/s]\n",
      "  0%|          | 0/1 [00:00<?, ?it/s]"
     ]
    },
    {
     "name": "stdout",
     "output_type": "stream",
     "text": [
      " pca p_levefr resahped:  (1, 123, 10)\n",
      "  body movement pa.p_lever projection:  (1, 123, 10)\n",
      "temp points:  (1303, 2)\n",
      "temp points:  (123, 2)\n",
      "plever:  (110, 2)\n",
      "1 143 10\n"
     ]
    },
    {
     "name": "stderr",
     "output_type": "stream",
     "text": [
      "100%|██████████| 1/1 [00:00<00:00,  1.26it/s]\n",
      "  0%|          | 0/1 [00:00<?, ?it/s]"
     ]
    },
    {
     "name": "stdout",
     "output_type": "stream",
     "text": [
      " pca p_levefr resahped:  (1, 141, 10)\n",
      "  body movement pa.p_lever projection:  (1, 141, 10)\n",
      "temp points:  (1303, 2)\n",
      "temp points:  (141, 2)\n",
      "plever:  (127, 2)\n",
      "1 73 10\n"
     ]
    },
    {
     "name": "stderr",
     "output_type": "stream",
     "text": [
      "100%|██████████| 1/1 [00:00<00:00,  2.67it/s]\n",
      "  0%|          | 0/1 [00:00<?, ?it/s]"
     ]
    },
    {
     "name": "stdout",
     "output_type": "stream",
     "text": [
      " pca p_levefr resahped:  (1, 70, 10)\n",
      "  body movement pa.p_lever projection:  (1, 70, 10)\n",
      "temp points:  (1303, 2)\n",
      "temp points:  (70, 2)\n",
      "plever:  (63, 2)\n",
      "1 131 10\n"
     ]
    },
    {
     "name": "stderr",
     "output_type": "stream",
     "text": [
      "100%|██████████| 1/1 [00:00<00:00,  1.37it/s]\n",
      "  0%|          | 0/1 [00:00<?, ?it/s]"
     ]
    },
    {
     "name": "stdout",
     "output_type": "stream",
     "text": [
      " pca p_levefr resahped:  (1, 129, 10)\n",
      "  body movement pa.p_lever projection:  (1, 129, 10)\n",
      "temp points:  (1303, 2)\n",
      "temp points:  (129, 2)\n",
      "plever:  (116, 2)\n",
      "FNAME LEVER:  /media/cat/4TBSSD/yuki/AQ2/tif_files/AQ2am_Jan14_30Hz/AQ2am_Jan14_30Hz_all_locs_selected.txt\n",
      "1 44 10\n"
     ]
    },
    {
     "name": "stderr",
     "output_type": "stream",
     "text": [
      "100%|██████████| 1/1 [00:00<00:00,  3.86it/s]\n",
      "/media/cat/4TBSSD/anaconda3/envs/wide/lib/python3.8/site-packages/numpy/core/_asarray.py:171: VisibleDeprecationWarning: Creating an ndarray from ragged nested sequences (which is a list-or-tuple of lists-or-tuples-or ndarrays with different lengths or shapes) is deprecated. If you meant to do this, you must specify 'dtype=object' when creating the ndarray.\n",
      "  return array(a, dtype, copy=False, order=order, subok=True)\n"
     ]
    },
    {
     "name": "stdout",
     "output_type": "stream",
     "text": [
      " pca p_levefr resahped:  (1, 44, 10)\n",
      "temp points:  (1303, 2)\n",
      "temp points:  (44, 2)\n",
      "plever:  (39, 2)\n",
      "pa.session_id 1:  AQ2am_Jan15_30Hz\n",
      "session corrected:  AQ2am_Jan15_30Hz\n",
      "(7,)\n",
      "['left_paw' 'right_paw' 'nose' 'jaw' 'right_ear' 'tongue' 'lever']\n",
      "pa.session_id 2:  AQ2am_Jan15_30Hz\n",
      "starts:  [14.2        26.06666667 31.2        41.4        57.33333333 64.06666667\n",
      " 69.53333333 73.93333333 78.6        92.        ]\n",
      "lever offset:  93\n",
      "SESSIONS:  ['am_Apr21_', 'am_Apr22_', 'am_Apr25_', 'am_Apr26_', 'am_Apr27_', 'am_Apr28_', 'am_Apr29_', 'am_Dec9_', 'am_Dec11_', 'am_Dec17_', 'am_Dec18_', 'am_Dec28_', 'am_Dec29_', 'am_Dec30_', 'am_Feb2_', 'am_Feb3_', 'am_Feb4_', 'am_Feb5_', 'am_Feb9_', 'am_Feb10_', 'am_Feb11_', 'am_Feb12_', 'am_Feb15_', 'am_Feb16_', 'am_Feb17_', 'am_Feb18_', 'am_Jan5_', 'am_Jan6_', 'am_Jan7_', 'am_Jan8_', 'am_Jan13_', 'am_Jan14_', 'am_Jan15_', 'am_Jan18_', 'am_Jan19_', 'am_Jan21_', 'am_Jan22_', 'am_Jan28_', 'am_Jan29_', 'pm_Dec16_', 'pm_Dec17_', 'pm_Jan11_', 'pm_Jan13_', 'pm_Jan14_', 'pm_Jan15_', 'pm_Jan18_', 'pm_Jan20_', 'pm_Jan21_', 'pm_Jan22_', 'pm_Jan26_', 'pm_Jan27_', 'pm_Jan28_', 'pm_Jan29_']\n",
      "SHIFT IDS:  ['2', '2', '2', '2', '2', '0', '2', '2', '1', '1', '2', '2', '1', '2', '2', '1', '1', '2', '1', '2', '2', '2', '1', '1', '1', '0', '1', '2', '2', '0', '2', '2', '2', '2', '0', '1', '0', '1', '1', '2', '2', '2', '2', '2', '2', '2', '2', '2', '1', '1', '1', '2', '1']\n",
      "pa.session_id:  AQ2am_Jan15_30Hz\n",
      "SELF SHIFT ID:  2\n",
      " using shift:  2\n",
      "DLC SHIFT Loaded:  5.99\n",
      "DLC shift :  5.99   in frames:  179  after subtracting lever shift:  -86\n",
      " triggers:  (23,)\n",
      " data:  (40000, 128, 128)\n",
      "(39118, 128, 128)\n",
      "X:  (39118, 16384)\n"
     ]
    },
    {
     "name": "stderr",
     "output_type": "stream",
     "text": [
      "\r",
      "  0%|          | 0/1 [00:00<?, ?it/s]"
     ]
    },
    {
     "name": "stdout",
     "output_type": "stream",
     "text": [
      " X data using :  30  number of frames  (1301, 491520)\n",
      " pca allpoints:  (1301, 10)\n",
      "1 122 10\n"
     ]
    },
    {
     "name": "stderr",
     "output_type": "stream",
     "text": [
      "100%|██████████| 1/1 [00:00<00:00,  1.47it/s]\n",
      "  0%|          | 0/1 [00:00<?, ?it/s]"
     ]
    },
    {
     "name": "stdout",
     "output_type": "stream",
     "text": [
      " pca p_levefr resahped:  (1, 119, 10)\n",
      "  body movement pa.p_lever projection:  (1, 119, 10)\n",
      "temp points:  (1301, 2)\n",
      "temp points:  (119, 2)\n",
      "plever:  (107, 2)\n",
      "1 117 10\n"
     ]
    },
    {
     "name": "stderr",
     "output_type": "stream",
     "text": [
      "100%|██████████| 1/1 [00:00<00:00,  1.52it/s]\n",
      "  0%|          | 0/1 [00:00<?, ?it/s]"
     ]
    },
    {
     "name": "stdout",
     "output_type": "stream",
     "text": [
      " pca p_levefr resahped:  (1, 114, 10)\n",
      "  body movement pa.p_lever projection:  (1, 114, 10)\n",
      "temp points:  (1301, 2)\n",
      "temp points:  (114, 2)\n",
      "plever:  (102, 2)\n",
      "1 77 10\n"
     ]
    },
    {
     "name": "stderr",
     "output_type": "stream",
     "text": [
      "100%|██████████| 1/1 [00:00<00:00,  2.30it/s]\n",
      "  0%|          | 0/1 [00:00<?, ?it/s]"
     ]
    },
    {
     "name": "stdout",
     "output_type": "stream",
     "text": [
      " pca p_levefr resahped:  (1, 74, 10)\n",
      "  body movement pa.p_lever projection:  (1, 74, 10)\n",
      "temp points:  (1301, 2)\n",
      "temp points:  (74, 2)\n",
      "plever:  (66, 2)\n",
      "1 67 10\n"
     ]
    },
    {
     "name": "stderr",
     "output_type": "stream",
     "text": [
      "100%|██████████| 1/1 [00:00<00:00,  2.69it/s]\n",
      "  0%|          | 0/1 [00:00<?, ?it/s]"
     ]
    },
    {
     "name": "stdout",
     "output_type": "stream",
     "text": [
      " pca p_levefr resahped:  (1, 64, 10)\n",
      "  body movement pa.p_lever projection:  (1, 64, 10)\n",
      "temp points:  (1301, 2)\n",
      "temp points:  (64, 2)\n",
      "plever:  (57, 2)\n",
      "1 88 10\n"
     ]
    },
    {
     "name": "stderr",
     "output_type": "stream",
     "text": [
      "100%|██████████| 1/1 [00:00<00:00,  2.04it/s]\n",
      "100%|██████████| 1/1 [00:00<00:00,  6.03it/s]\n",
      "/media/cat/4TBSSD/anaconda3/envs/wide/lib/python3.8/site-packages/numpy/core/_asarray.py:171: VisibleDeprecationWarning: Creating an ndarray from ragged nested sequences (which is a list-or-tuple of lists-or-tuples-or ndarrays with different lengths or shapes) is deprecated. If you meant to do this, you must specify 'dtype=object' when creating the ndarray.\n",
      "  return array(a, dtype, copy=False, order=order, subok=True)\n"
     ]
    },
    {
     "name": "stdout",
     "output_type": "stream",
     "text": [
      " pca p_levefr resahped:  (1, 85, 10)\n",
      "  body movement pa.p_lever projection:  (1, 85, 10)\n",
      "temp points:  (1301, 2)\n",
      "temp points:  (85, 2)\n",
      "plever:  (76, 2)\n",
      "FNAME LEVER:  /media/cat/4TBSSD/yuki/AQ2/tif_files/AQ2am_Jan15_30Hz/AQ2am_Jan15_30Hz_all_locs_selected.txt\n",
      "1 26 10\n",
      " pca p_levefr resahped:  (1, 26, 10)\n",
      "temp points:  (1301, 2)\n",
      "temp points:  (26, 2)\n",
      "plever:  (23, 2)\n",
      "pa.session_id 1:  AQ2pm_Jan15_30Hz\n",
      "session corrected:  AQ2pm_Jan15_30Hz\n",
      "(7,)\n",
      "['left_paw' 'right_paw' 'nose' 'jaw' 'right_ear' 'tongue' 'lever']\n",
      "pa.session_id 2:  AQ2pm_Jan15_30Hz\n",
      "starts:  [  8.2         29.53333333  55.          63.46666667  77.06666667\n",
      "  92.66666667 100.4        108.26666667 118.93333333 125.6       ]\n",
      "lever offset:  83\n",
      "SESSIONS:  ['am_Apr21_', 'am_Apr22_', 'am_Apr25_', 'am_Apr26_', 'am_Apr27_', 'am_Apr28_', 'am_Apr29_', 'am_Dec9_', 'am_Dec11_', 'am_Dec17_', 'am_Dec18_', 'am_Dec28_', 'am_Dec29_', 'am_Dec30_', 'am_Feb2_', 'am_Feb3_', 'am_Feb4_', 'am_Feb5_', 'am_Feb9_', 'am_Feb10_', 'am_Feb11_', 'am_Feb12_', 'am_Feb15_', 'am_Feb16_', 'am_Feb17_', 'am_Feb18_', 'am_Jan5_', 'am_Jan6_', 'am_Jan7_', 'am_Jan8_', 'am_Jan13_', 'am_Jan14_', 'am_Jan15_', 'am_Jan18_', 'am_Jan19_', 'am_Jan21_', 'am_Jan22_', 'am_Jan28_', 'am_Jan29_', 'pm_Dec16_', 'pm_Dec17_', 'pm_Jan11_', 'pm_Jan13_', 'pm_Jan14_', 'pm_Jan15_', 'pm_Jan18_', 'pm_Jan20_', 'pm_Jan21_', 'pm_Jan22_', 'pm_Jan26_', 'pm_Jan27_', 'pm_Jan28_', 'pm_Jan29_']\n",
      "SHIFT IDS:  ['2', '2', '2', '2', '2', '0', '2', '2', '1', '1', '2', '2', '1', '2', '2', '1', '1', '2', '1', '2', '2', '2', '1', '1', '1', '0', '1', '2', '2', '0', '2', '2', '2', '2', '0', '1', '0', '1', '1', '2', '2', '2', '2', '2', '2', '2', '2', '2', '1', '1', '1', '2', '1']\n",
      "pa.session_id:  AQ2pm_Jan15_30Hz\n",
      "SELF SHIFT ID:  2\n",
      " using shift:  2\n",
      "DLC SHIFT Loaded:  4.17\n",
      "DLC shift :  4.17   in frames:  125  after subtracting lever shift:  -42\n",
      " triggers:  (41,)\n",
      " data:  (40000, 128, 128)\n",
      "(39033, 128, 128)\n",
      "X:  (39033, 16384)\n"
     ]
    },
    {
     "name": "stderr",
     "output_type": "stream",
     "text": [
      "\r",
      "  0%|          | 0/1 [00:00<?, ?it/s]"
     ]
    },
    {
     "name": "stdout",
     "output_type": "stream",
     "text": [
      " X data using :  30  number of frames  (1298, 491520)\n",
      " pca allpoints:  (1298, 10)\n",
      "1 134 10\n"
     ]
    },
    {
     "name": "stderr",
     "output_type": "stream",
     "text": [
      "100%|██████████| 1/1 [00:00<00:00,  1.30it/s]\n",
      "  0%|          | 0/1 [00:00<?, ?it/s]"
     ]
    },
    {
     "name": "stdout",
     "output_type": "stream",
     "text": [
      " pca p_levefr resahped:  (1, 132, 10)\n",
      "  body movement pa.p_lever projection:  (1, 132, 10)\n",
      "temp points:  (1298, 2)\n",
      "temp points:  (132, 2)\n",
      "plever:  (118, 2)\n",
      "1 130 10\n"
     ]
    },
    {
     "name": "stderr",
     "output_type": "stream",
     "text": [
      "100%|██████████| 1/1 [00:00<00:00,  1.31it/s]\n",
      "  0%|          | 0/1 [00:00<?, ?it/s]"
     ]
    },
    {
     "name": "stdout",
     "output_type": "stream",
     "text": [
      " pca p_levefr resahped:  (1, 128, 10)\n",
      "  body movement pa.p_lever projection:  (1, 128, 10)\n",
      "temp points:  (1298, 2)\n",
      "temp points:  (128, 2)\n",
      "plever:  (115, 2)\n",
      "1 127 10\n"
     ]
    },
    {
     "name": "stderr",
     "output_type": "stream",
     "text": [
      "100%|██████████| 1/1 [00:00<00:00,  1.37it/s]\n",
      "100%|██████████| 1/1 [00:00<00:00, 10.62it/s]\n",
      "  0%|          | 0/1 [00:00<?, ?it/s]"
     ]
    },
    {
     "name": "stdout",
     "output_type": "stream",
     "text": [
      " pca p_levefr resahped:  (1, 123, 10)\n",
      "  body movement pa.p_lever projection:  (1, 123, 10)\n",
      "temp points:  (1298, 2)\n",
      "temp points:  (123, 2)\n",
      "plever:  (110, 2)\n",
      "1 14 10\n",
      " pca p_levefr resahped:  (1, 14, 10)\n",
      "  body movement pa.p_lever projection:  (1, 14, 10)\n",
      "temp points:  (1298, 2)\n",
      "temp points:  (14, 2)\n",
      "plever:  (12, 2)\n",
      "1 74 10\n"
     ]
    },
    {
     "name": "stderr",
     "output_type": "stream",
     "text": [
      "100%|██████████| 1/1 [00:00<00:00,  2.44it/s]\n",
      "  0%|          | 0/1 [00:00<?, ?it/s]"
     ]
    },
    {
     "name": "stdout",
     "output_type": "stream",
     "text": [
      " pca p_levefr resahped:  (1, 72, 10)\n",
      "  body movement pa.p_lever projection:  (1, 72, 10)\n",
      "temp points:  (1298, 2)\n",
      "temp points:  (72, 2)\n",
      "plever:  (64, 2)\n",
      "FNAME LEVER:  /media/cat/4TBSSD/yuki/AQ2/tif_files/AQ2pm_Jan15_30Hz/AQ2pm_Jan15_30Hz_all_locs_selected.txt\n",
      "1 70 10\n"
     ]
    },
    {
     "name": "stderr",
     "output_type": "stream",
     "text": [
      "100%|██████████| 1/1 [00:00<00:00,  2.42it/s]\n",
      "/media/cat/4TBSSD/anaconda3/envs/wide/lib/python3.8/site-packages/numpy/core/_asarray.py:171: VisibleDeprecationWarning: Creating an ndarray from ragged nested sequences (which is a list-or-tuple of lists-or-tuples-or ndarrays with different lengths or shapes) is deprecated. If you meant to do this, you must specify 'dtype=object' when creating the ndarray.\n",
      "  return array(a, dtype, copy=False, order=order, subok=True)\n"
     ]
    },
    {
     "name": "stdout",
     "output_type": "stream",
     "text": [
      " pca p_levefr resahped:  (1, 70, 10)\n",
      "temp points:  (1298, 2)\n",
      "temp points:  (70, 2)\n",
      "plever:  (63, 2)\n",
      "pa.session_id 1:  AQ2pm_Jan18_30Hz\n",
      "session corrected:  AQ2pm_Jan18_30Hz\n",
      "(7,)\n",
      "['left_paw' 'right_paw' 'nose' 'jaw' 'right_ear' 'tongue' 'lever']\n",
      "pa.session_id 2:  AQ2pm_Jan18_30Hz\n",
      "starts:  [10.2        14.13333333 20.13333333 29.         40.33333333 44.73333333\n",
      " 61.33333333 67.26666667 78.4        83.6       ]\n",
      "lever offset:  78\n",
      "SESSIONS:  ['am_Apr21_', 'am_Apr22_', 'am_Apr25_', 'am_Apr26_', 'am_Apr27_', 'am_Apr28_', 'am_Apr29_', 'am_Dec9_', 'am_Dec11_', 'am_Dec17_', 'am_Dec18_', 'am_Dec28_', 'am_Dec29_', 'am_Dec30_', 'am_Feb2_', 'am_Feb3_', 'am_Feb4_', 'am_Feb5_', 'am_Feb9_', 'am_Feb10_', 'am_Feb11_', 'am_Feb12_', 'am_Feb15_', 'am_Feb16_', 'am_Feb17_', 'am_Feb18_', 'am_Jan5_', 'am_Jan6_', 'am_Jan7_', 'am_Jan8_', 'am_Jan13_', 'am_Jan14_', 'am_Jan15_', 'am_Jan18_', 'am_Jan19_', 'am_Jan21_', 'am_Jan22_', 'am_Jan28_', 'am_Jan29_', 'pm_Dec16_', 'pm_Dec17_', 'pm_Jan11_', 'pm_Jan13_', 'pm_Jan14_', 'pm_Jan15_', 'pm_Jan18_', 'pm_Jan20_', 'pm_Jan21_', 'pm_Jan22_', 'pm_Jan26_', 'pm_Jan27_', 'pm_Jan28_', 'pm_Jan29_']\n",
      "SHIFT IDS:  ['2', '2', '2', '2', '2', '0', '2', '2', '1', '1', '2', '2', '1', '2', '2', '1', '1', '2', '1', '2', '2', '2', '1', '1', '1', '0', '1', '2', '2', '0', '2', '2', '2', '2', '0', '1', '0', '1', '1', '2', '2', '2', '2', '2', '2', '2', '2', '2', '1', '1', '1', '2', '1']\n",
      "pa.session_id:  AQ2pm_Jan18_30Hz\n",
      "SELF SHIFT ID:  2\n",
      " using shift:  2\n",
      "DLC SHIFT Loaded:  5.15\n",
      "DLC shift :  5.15   in frames:  154  after subtracting lever shift:  -76\n",
      " data missing/led missing\n",
      "pa.session_id 1:  AQ2am_Jan18_30Hz\n",
      "session corrected:  AQ2am_Jan18_30Hz\n",
      "(7,)\n",
      "['left_paw' 'right_paw' 'nose' 'jaw' 'right_ear' 'tongue' 'lever']\n",
      "pa.session_id 2:  AQ2am_Jan18_30Hz\n",
      "starts:  [ 6.8        14.         19.93333333 26.         31.86666667 35.4\n",
      " 42.8        49.46666667 54.66666667 60.93333333]\n",
      "lever offset:  62\n",
      "SESSIONS:  ['am_Apr21_', 'am_Apr22_', 'am_Apr25_', 'am_Apr26_', 'am_Apr27_', 'am_Apr28_', 'am_Apr29_', 'am_Dec9_', 'am_Dec11_', 'am_Dec17_', 'am_Dec18_', 'am_Dec28_', 'am_Dec29_', 'am_Dec30_', 'am_Feb2_', 'am_Feb3_', 'am_Feb4_', 'am_Feb5_', 'am_Feb9_', 'am_Feb10_', 'am_Feb11_', 'am_Feb12_', 'am_Feb15_', 'am_Feb16_', 'am_Feb17_', 'am_Feb18_', 'am_Jan5_', 'am_Jan6_', 'am_Jan7_', 'am_Jan8_', 'am_Jan13_', 'am_Jan14_', 'am_Jan15_', 'am_Jan18_', 'am_Jan19_', 'am_Jan21_', 'am_Jan22_', 'am_Jan28_', 'am_Jan29_', 'pm_Dec16_', 'pm_Dec17_', 'pm_Jan11_', 'pm_Jan13_', 'pm_Jan14_', 'pm_Jan15_', 'pm_Jan18_', 'pm_Jan20_', 'pm_Jan21_', 'pm_Jan22_', 'pm_Jan26_', 'pm_Jan27_', 'pm_Jan28_', 'pm_Jan29_']\n",
      "SHIFT IDS:  ['2', '2', '2', '2', '2', '0', '2', '2', '1', '1', '2', '2', '1', '2', '2', '1', '1', '2', '1', '2', '2', '2', '1', '1', '1', '0', '1', '2', '2', '0', '2', '2', '2', '2', '0', '1', '0', '1', '1', '2', '2', '2', '2', '2', '2', '2', '2', '2', '1', '1', '1', '2', '1']\n",
      "pa.session_id:  AQ2am_Jan18_30Hz\n",
      "SELF SHIFT ID:  2\n",
      " using shift:  2\n",
      "DLC SHIFT Loaded:  4.29\n",
      "DLC shift :  4.29   in frames:  128  after subtracting lever shift:  -66\n",
      " triggers:  (10,)\n",
      " data:  (40000, 128, 128)\n",
      "(39091, 128, 128)\n",
      "X:  (39091, 16384)\n"
     ]
    },
    {
     "name": "stderr",
     "output_type": "stream",
     "text": [
      "\r",
      "  0%|          | 0/1 [00:00<?, ?it/s]"
     ]
    },
    {
     "name": "stdout",
     "output_type": "stream",
     "text": [
      " X data using :  30  number of frames  (1300, 491520)\n",
      " pca allpoints:  (1300, 10)\n",
      "1 125 10\n"
     ]
    },
    {
     "name": "stderr",
     "output_type": "stream",
     "text": [
      "100%|██████████| 1/1 [00:00<00:00,  1.34it/s]\n",
      "  0%|          | 0/1 [00:00<?, ?it/s]"
     ]
    },
    {
     "name": "stdout",
     "output_type": "stream",
     "text": [
      " pca p_levefr resahped:  (1, 124, 10)\n",
      "  body movement pa.p_lever projection:  (1, 124, 10)\n",
      "temp points:  (1300, 2)\n",
      "temp points:  (124, 2)\n",
      "plever:  (111, 2)\n",
      "1 127 10\n"
     ]
    },
    {
     "name": "stderr",
     "output_type": "stream",
     "text": [
      "100%|██████████| 1/1 [00:00<00:00,  1.31it/s]\n",
      "  0%|          | 0/1 [00:00<?, ?it/s]"
     ]
    },
    {
     "name": "stdout",
     "output_type": "stream",
     "text": [
      " pca p_levefr resahped:  (1, 126, 10)\n",
      "  body movement pa.p_lever projection:  (1, 126, 10)\n",
      "temp points:  (1300, 2)\n",
      "temp points:  (126, 2)\n",
      "plever:  (113, 2)\n",
      "1 125 10\n"
     ]
    },
    {
     "name": "stderr",
     "output_type": "stream",
     "text": [
      "100%|██████████| 1/1 [00:00<00:00,  1.51it/s]\n",
      "  0%|          | 0/1 [00:00<?, ?it/s]"
     ]
    },
    {
     "name": "stdout",
     "output_type": "stream",
     "text": [
      " pca p_levefr resahped:  (1, 123, 10)\n",
      "  body movement pa.p_lever projection:  (1, 123, 10)\n",
      "temp points:  (1300, 2)\n",
      "temp points:  (123, 2)\n",
      "plever:  (110, 2)\n",
      "1 97 10\n"
     ]
    },
    {
     "name": "stderr",
     "output_type": "stream",
     "text": [
      "100%|██████████| 1/1 [00:00<00:00,  1.93it/s]\n",
      "  0%|          | 0/1 [00:00<?, ?it/s]"
     ]
    },
    {
     "name": "stdout",
     "output_type": "stream",
     "text": [
      " pca p_levefr resahped:  (1, 94, 10)\n",
      "  body movement pa.p_lever projection:  (1, 94, 10)\n",
      "temp points:  (1300, 2)\n",
      "temp points:  (94, 2)\n",
      "plever:  (84, 2)\n",
      "1 136 10\n"
     ]
    },
    {
     "name": "stderr",
     "output_type": "stream",
     "text": [
      "100%|██████████| 1/1 [00:00<00:00,  1.39it/s]\n",
      "100%|██████████| 1/1 [00:00<00:00,  9.21it/s]\n",
      "/media/cat/4TBSSD/anaconda3/envs/wide/lib/python3.8/site-packages/numpy/core/_asarray.py:171: VisibleDeprecationWarning: Creating an ndarray from ragged nested sequences (which is a list-or-tuple of lists-or-tuples-or ndarrays with different lengths or shapes) is deprecated. If you meant to do this, you must specify 'dtype=object' when creating the ndarray.\n",
      "  return array(a, dtype, copy=False, order=order, subok=True)\n"
     ]
    },
    {
     "name": "stdout",
     "output_type": "stream",
     "text": [
      " pca p_levefr resahped:  (1, 135, 10)\n",
      "  body movement pa.p_lever projection:  (1, 135, 10)\n",
      "temp points:  (1300, 2)\n",
      "temp points:  (135, 2)\n",
      "plever:  (121, 2)\n",
      "FNAME LEVER:  /media/cat/4TBSSD/yuki/AQ2/tif_files/AQ2am_Jan18_30Hz/AQ2am_Jan18_30Hz_all_locs_selected.txt\n",
      "1 13 10\n",
      " pca p_levefr resahped:  (1, 13, 10)\n",
      "temp points:  (1300, 2)\n",
      "temp points:  (13, 2)\n",
      "plever:  (11, 2)\n",
      "pa.session_id 1:  AQ2am_Jan19_30Hz\n",
      "session corrected:  AQ2am_Jan19_30Hz\n",
      "(7,)\n",
      "['left_paw' 'right_paw' 'nose' 'jaw' 'right_ear' 'tongue' 'lever']\n",
      "pa.session_id 2:  AQ2am_Jan19_30Hz\n",
      "starts:  [  5.66666667  19.93333333  34.2         39.          58.86666667\n",
      "  76.33333333  85.46666667  98.         111.06666667 119.53333333]\n",
      "lever offset:  69\n",
      "SESSIONS:  ['am_Apr21_', 'am_Apr22_', 'am_Apr25_', 'am_Apr26_', 'am_Apr27_', 'am_Apr28_', 'am_Apr29_', 'am_Dec9_', 'am_Dec11_', 'am_Dec17_', 'am_Dec18_', 'am_Dec28_', 'am_Dec29_', 'am_Dec30_', 'am_Feb2_', 'am_Feb3_', 'am_Feb4_', 'am_Feb5_', 'am_Feb9_', 'am_Feb10_', 'am_Feb11_', 'am_Feb12_', 'am_Feb15_', 'am_Feb16_', 'am_Feb17_', 'am_Feb18_', 'am_Jan5_', 'am_Jan6_', 'am_Jan7_', 'am_Jan8_', 'am_Jan13_', 'am_Jan14_', 'am_Jan15_', 'am_Jan18_', 'am_Jan19_', 'am_Jan21_', 'am_Jan22_', 'am_Jan28_', 'am_Jan29_', 'pm_Dec16_', 'pm_Dec17_', 'pm_Jan11_', 'pm_Jan13_', 'pm_Jan14_', 'pm_Jan15_', 'pm_Jan18_', 'pm_Jan20_', 'pm_Jan21_', 'pm_Jan22_', 'pm_Jan26_', 'pm_Jan27_', 'pm_Jan28_', 'pm_Jan29_']\n",
      "SHIFT IDS:  ['2', '2', '2', '2', '2', '0', '2', '2', '1', '1', '2', '2', '1', '2', '2', '1', '1', '2', '1', '2', '2', '2', '1', '1', '1', '0', '1', '2', '2', '0', '2', '2', '2', '2', '0', '1', '0', '1', '1', '2', '2', '2', '2', '2', '2', '2', '2', '2', '1', '1', '1', '2', '1']\n",
      "pa.session_id:  AQ2am_Jan19_30Hz\n",
      "SELF SHIFT ID:  0\n",
      " using shift:  0\n",
      "DLC SHIFT Loaded:  5.86\n",
      "DLC shift :  5.86   in frames:  175  after subtracting lever shift:  -106\n",
      " data missing/led missing\n",
      "pa.session_id 1:  AQ2pm_Jan19_30Hz\n",
      "session corrected:  AQ2pm_Jan19_30Hz\n",
      "(7,)\n",
      "['left_paw' 'right_paw' 'nose' 'jaw' 'right_ear' 'tongue' 'lever']\n",
      "pa.session_id 2:  AQ2pm_Jan19_30Hz\n",
      "starts:  [ 3.6         9.4        18.53333333 21.73333333 27.6        37.33333333\n",
      " 46.8        52.73333333 57.26666667 63.2       ]\n",
      "lever offset:  66\n",
      "SESSIONS:  ['am_Apr21_', 'am_Apr22_', 'am_Apr25_', 'am_Apr26_', 'am_Apr27_', 'am_Apr28_', 'am_Apr29_', 'am_Dec9_', 'am_Dec11_', 'am_Dec17_', 'am_Dec18_', 'am_Dec28_', 'am_Dec29_', 'am_Dec30_', 'am_Feb2_', 'am_Feb3_', 'am_Feb4_', 'am_Feb5_', 'am_Feb9_', 'am_Feb10_', 'am_Feb11_', 'am_Feb12_', 'am_Feb15_', 'am_Feb16_', 'am_Feb17_', 'am_Feb18_', 'am_Jan5_', 'am_Jan6_', 'am_Jan7_', 'am_Jan8_', 'am_Jan13_', 'am_Jan14_', 'am_Jan15_', 'am_Jan18_', 'am_Jan19_', 'am_Jan21_', 'am_Jan22_', 'am_Jan28_', 'am_Jan29_', 'pm_Dec16_', 'pm_Dec17_', 'pm_Jan11_', 'pm_Jan13_', 'pm_Jan14_', 'pm_Jan15_', 'pm_Jan18_', 'pm_Jan20_', 'pm_Jan21_', 'pm_Jan22_', 'pm_Jan26_', 'pm_Jan27_', 'pm_Jan28_', 'pm_Jan29_']\n",
      "SHIFT IDS:  ['2', '2', '2', '2', '2', '0', '2', '2', '1', '1', '2', '2', '1', '2', '2', '1', '1', '2', '1', '2', '2', '2', '1', '1', '1', '0', '1', '2', '2', '0', '2', '2', '2', '2', '0', '1', '0', '1', '1', '2', '2', '2', '2', '2', '2', '2', '2', '2', '1', '1', '1', '2', '1']\n",
      "pa.session_id:  AQ2pm_Jan19_30Hz\n",
      "pa.session_id 1:  AQ2pm_Jan20_30Hz\n",
      "session corrected:  AQ2pm_Jan20_30Hz\n",
      "(7,)\n",
      "['left_paw' 'right_paw' 'nose' 'jaw' 'right_ear' 'tongue' 'lever']\n",
      "pa.session_id 2:  AQ2pm_Jan20_30Hz\n",
      "starts:  [14.93333333 31.13333333 36.6        43.53333333 47.46666667 51.73333333\n",
      " 59.93333333 64.33333333 81.2        87.6       ]\n",
      "lever offset:  83\n",
      "SESSIONS:  ['am_Apr21_', 'am_Apr22_', 'am_Apr25_', 'am_Apr26_', 'am_Apr27_', 'am_Apr28_', 'am_Apr29_', 'am_Dec9_', 'am_Dec11_', 'am_Dec17_', 'am_Dec18_', 'am_Dec28_', 'am_Dec29_', 'am_Dec30_', 'am_Feb2_', 'am_Feb3_', 'am_Feb4_', 'am_Feb5_', 'am_Feb9_', 'am_Feb10_', 'am_Feb11_', 'am_Feb12_', 'am_Feb15_', 'am_Feb16_', 'am_Feb17_', 'am_Feb18_', 'am_Jan5_', 'am_Jan6_', 'am_Jan7_', 'am_Jan8_', 'am_Jan13_', 'am_Jan14_', 'am_Jan15_', 'am_Jan18_', 'am_Jan19_', 'am_Jan21_', 'am_Jan22_', 'am_Jan28_', 'am_Jan29_', 'pm_Dec16_', 'pm_Dec17_', 'pm_Jan11_', 'pm_Jan13_', 'pm_Jan14_', 'pm_Jan15_', 'pm_Jan18_', 'pm_Jan20_', 'pm_Jan21_', 'pm_Jan22_', 'pm_Jan26_', 'pm_Jan27_', 'pm_Jan28_', 'pm_Jan29_']\n",
      "SHIFT IDS:  ['2', '2', '2', '2', '2', '0', '2', '2', '1', '1', '2', '2', '1', '2', '2', '1', '1', '2', '1', '2', '2', '2', '1', '1', '1', '0', '1', '2', '2', '0', '2', '2', '2', '2', '0', '1', '0', '1', '1', '2', '2', '2', '2', '2', '2', '2', '2', '2', '1', '1', '1', '2', '1']\n",
      "pa.session_id:  AQ2pm_Jan20_30Hz\n",
      "SELF SHIFT ID:  2\n",
      " using shift:  2\n",
      "DLC SHIFT Loaded:  4.2\n",
      "DLC shift :  4.2   in frames:  126  after subtracting lever shift:  -43\n",
      " data missing/led missing\n",
      "pa.session_id 1:  AQ2am_Jan20_30Hz\n",
      "session corrected:  AQ2am_Jan20_30Hz\n",
      "(7,)\n",
      "['left_paw' 'right_paw' 'nose' 'jaw' 'right_ear' 'tongue' 'lever']\n",
      "pa.session_id 2:  AQ2am_Jan20_30Hz\n",
      "starts:  [ 14.2         32.93333333  38.4         56.53333333  61.26666667\n",
      "  77.73333333  86.2         91.4         99.53333333 107.73333333]\n",
      "lever offset:  70\n",
      "SESSIONS:  ['am_Apr21_', 'am_Apr22_', 'am_Apr25_', 'am_Apr26_', 'am_Apr27_', 'am_Apr28_', 'am_Apr29_', 'am_Dec9_', 'am_Dec11_', 'am_Dec17_', 'am_Dec18_', 'am_Dec28_', 'am_Dec29_', 'am_Dec30_', 'am_Feb2_', 'am_Feb3_', 'am_Feb4_', 'am_Feb5_', 'am_Feb9_', 'am_Feb10_', 'am_Feb11_', 'am_Feb12_', 'am_Feb15_', 'am_Feb16_', 'am_Feb17_', 'am_Feb18_', 'am_Jan5_', 'am_Jan6_', 'am_Jan7_', 'am_Jan8_', 'am_Jan13_', 'am_Jan14_', 'am_Jan15_', 'am_Jan18_', 'am_Jan19_', 'am_Jan21_', 'am_Jan22_', 'am_Jan28_', 'am_Jan29_', 'pm_Dec16_', 'pm_Dec17_', 'pm_Jan11_', 'pm_Jan13_', 'pm_Jan14_', 'pm_Jan15_', 'pm_Jan18_', 'pm_Jan20_', 'pm_Jan21_', 'pm_Jan22_', 'pm_Jan26_', 'pm_Jan27_', 'pm_Jan28_', 'pm_Jan29_']\n",
      "SHIFT IDS:  ['2', '2', '2', '2', '2', '0', '2', '2', '1', '1', '2', '2', '1', '2', '2', '1', '1', '2', '1', '2', '2', '2', '1', '1', '1', '0', '1', '2', '2', '0', '2', '2', '2', '2', '0', '1', '0', '1', '1', '2', '2', '2', '2', '2', '2', '2', '2', '2', '1', '1', '1', '2', '1']\n",
      "pa.session_id:  AQ2am_Jan20_30Hz\n",
      "pa.session_id 1:  AQ2pm_Jan21_30Hz\n",
      "session corrected:  AQ2pm_Jan21_30Hz\n",
      "(7,)\n",
      "['left_paw' 'right_paw' 'nose' 'jaw' 'right_ear' 'tongue' 'lever']\n",
      "pa.session_id 2:  AQ2pm_Jan21_30Hz\n",
      "starts:  [12.53333333 20.53333333 28.86666667 33.66666667 42.53333333 50.53333333\n",
      " 58.86666667 70.53333333 79.86666667 83.66666667]\n",
      "lever offset:  70\n",
      "SESSIONS:  ['am_Apr21_', 'am_Apr22_', 'am_Apr25_', 'am_Apr26_', 'am_Apr27_', 'am_Apr28_', 'am_Apr29_', 'am_Dec9_', 'am_Dec11_', 'am_Dec17_', 'am_Dec18_', 'am_Dec28_', 'am_Dec29_', 'am_Dec30_', 'am_Feb2_', 'am_Feb3_', 'am_Feb4_', 'am_Feb5_', 'am_Feb9_', 'am_Feb10_', 'am_Feb11_', 'am_Feb12_', 'am_Feb15_', 'am_Feb16_', 'am_Feb17_', 'am_Feb18_', 'am_Jan5_', 'am_Jan6_', 'am_Jan7_', 'am_Jan8_', 'am_Jan13_', 'am_Jan14_', 'am_Jan15_', 'am_Jan18_', 'am_Jan19_', 'am_Jan21_', 'am_Jan22_', 'am_Jan28_', 'am_Jan29_', 'pm_Dec16_', 'pm_Dec17_', 'pm_Jan11_', 'pm_Jan13_', 'pm_Jan14_', 'pm_Jan15_', 'pm_Jan18_', 'pm_Jan20_', 'pm_Jan21_', 'pm_Jan22_', 'pm_Jan26_', 'pm_Jan27_', 'pm_Jan28_', 'pm_Jan29_']\n",
      "SHIFT IDS:  ['2', '2', '2', '2', '2', '0', '2', '2', '1', '1', '2', '2', '1', '2', '2', '1', '1', '2', '1', '2', '2', '2', '1', '1', '1', '0', '1', '2', '2', '0', '2', '2', '2', '2', '0', '1', '0', '1', '1', '2', '2', '2', '2', '2', '2', '2', '2', '2', '1', '1', '1', '2', '1']\n",
      "pa.session_id:  AQ2pm_Jan21_30Hz\n",
      "SELF SHIFT ID:  2\n",
      " using shift:  2\n",
      "DLC SHIFT Loaded:  6.49\n",
      "DLC shift :  6.49   in frames:  194  after subtracting lever shift:  -124\n",
      " data missing/led missing\n",
      "pa.session_id 1:  AQ2am_Jan21_30Hz\n",
      "session corrected:  AQ2am_Jan21_30Hz\n",
      "(7,)\n",
      "['left_paw' 'right_paw' 'nose' 'jaw' 'right_ear' 'tongue' 'lever']\n",
      "pa.session_id 2:  AQ2am_Jan21_30Hz\n",
      "starts:  [ 31.13333333  43.66666667  50.          74.26666667  82.8\n",
      " 104.8        109.53333333 114.26666667 118.46666667 127.4       ]\n",
      "lever offset:  87\n",
      "SESSIONS:  ['am_Apr21_', 'am_Apr22_', 'am_Apr25_', 'am_Apr26_', 'am_Apr27_', 'am_Apr28_', 'am_Apr29_', 'am_Dec9_', 'am_Dec11_', 'am_Dec17_', 'am_Dec18_', 'am_Dec28_', 'am_Dec29_', 'am_Dec30_', 'am_Feb2_', 'am_Feb3_', 'am_Feb4_', 'am_Feb5_', 'am_Feb9_', 'am_Feb10_', 'am_Feb11_', 'am_Feb12_', 'am_Feb15_', 'am_Feb16_', 'am_Feb17_', 'am_Feb18_', 'am_Jan5_', 'am_Jan6_', 'am_Jan7_', 'am_Jan8_', 'am_Jan13_', 'am_Jan14_', 'am_Jan15_', 'am_Jan18_', 'am_Jan19_', 'am_Jan21_', 'am_Jan22_', 'am_Jan28_', 'am_Jan29_', 'pm_Dec16_', 'pm_Dec17_', 'pm_Jan11_', 'pm_Jan13_', 'pm_Jan14_', 'pm_Jan15_', 'pm_Jan18_', 'pm_Jan20_', 'pm_Jan21_', 'pm_Jan22_', 'pm_Jan26_', 'pm_Jan27_', 'pm_Jan28_', 'pm_Jan29_']\n",
      "SHIFT IDS:  ['2', '2', '2', '2', '2', '0', '2', '2', '1', '1', '2', '2', '1', '2', '2', '1', '1', '2', '1', '2', '2', '2', '1', '1', '1', '0', '1', '2', '2', '0', '2', '2', '2', '2', '0', '1', '0', '1', '1', '2', '2', '2', '2', '2', '2', '2', '2', '2', '1', '1', '1', '2', '1']\n",
      "pa.session_id:  AQ2am_Jan21_30Hz\n",
      "SELF SHIFT ID:  1\n",
      " using shift:  1\n",
      "DLC SHIFT Loaded:  4.24\n",
      "DLC shift :  4.24   in frames:  127  after subtracting lever shift:  -40\n",
      " data missing/led missing\n",
      "pa.session_id 1:  AQ2pm_Jan22_30Hz\n",
      "session corrected:  AQ2pm_Jan22_30Hz\n",
      "(7,)\n",
      "['left_paw' 'right_paw' 'nose' 'jaw' 'right_ear' 'tongue' 'lever']\n",
      "pa.session_id 2:  AQ2pm_Jan22_30Hz\n",
      "starts:  [ 6.33333333 10.26666667 27.13333333 35.13333333 40.53333333 45.2\n",
      " 49.8        57.06666667 62.53333333 71.2       ]\n",
      "lever offset:  85\n",
      "SESSIONS:  ['am_Apr21_', 'am_Apr22_', 'am_Apr25_', 'am_Apr26_', 'am_Apr27_', 'am_Apr28_', 'am_Apr29_', 'am_Dec9_', 'am_Dec11_', 'am_Dec17_', 'am_Dec18_', 'am_Dec28_', 'am_Dec29_', 'am_Dec30_', 'am_Feb2_', 'am_Feb3_', 'am_Feb4_', 'am_Feb5_', 'am_Feb9_', 'am_Feb10_', 'am_Feb11_', 'am_Feb12_', 'am_Feb15_', 'am_Feb16_', 'am_Feb17_', 'am_Feb18_', 'am_Jan5_', 'am_Jan6_', 'am_Jan7_', 'am_Jan8_', 'am_Jan13_', 'am_Jan14_', 'am_Jan15_', 'am_Jan18_', 'am_Jan19_', 'am_Jan21_', 'am_Jan22_', 'am_Jan28_', 'am_Jan29_', 'pm_Dec16_', 'pm_Dec17_', 'pm_Jan11_', 'pm_Jan13_', 'pm_Jan14_', 'pm_Jan15_', 'pm_Jan18_', 'pm_Jan20_', 'pm_Jan21_', 'pm_Jan22_', 'pm_Jan26_', 'pm_Jan27_', 'pm_Jan28_', 'pm_Jan29_']\n",
      "SHIFT IDS:  ['2', '2', '2', '2', '2', '0', '2', '2', '1', '1', '2', '2', '1', '2', '2', '1', '1', '2', '1', '2', '2', '2', '1', '1', '1', '0', '1', '2', '2', '0', '2', '2', '2', '2', '0', '1', '0', '1', '1', '2', '2', '2', '2', '2', '2', '2', '2', '2', '1', '1', '1', '2', '1']\n",
      "pa.session_id:  AQ2pm_Jan22_30Hz\n",
      "SELF SHIFT ID:  1\n",
      " using shift:  1\n",
      "DLC SHIFT Loaded:  4.87\n",
      "DLC shift :  4.87   in frames:  146  after subtracting lever shift:  -61\n"
     ]
    },
    {
     "name": "stdout",
     "output_type": "stream",
     "text": [
      " triggers:  (3,)\n",
      " data:  (40000, 128, 128)\n",
      "(39109, 128, 128)\n",
      "X:  (39109, 16384)\n"
     ]
    },
    {
     "name": "stderr",
     "output_type": "stream",
     "text": [
      "\r",
      "  0%|          | 0/1 [00:00<?, ?it/s]"
     ]
    },
    {
     "name": "stdout",
     "output_type": "stream",
     "text": [
      " X data using :  30  number of frames  (1301, 491520)\n",
      " pca allpoints:  (1301, 10)\n",
      "1 157 10\n"
     ]
    },
    {
     "name": "stderr",
     "output_type": "stream",
     "text": [
      "100%|██████████| 1/1 [00:00<00:00,  1.30it/s]\n",
      "  0%|          | 0/1 [00:00<?, ?it/s]"
     ]
    },
    {
     "name": "stdout",
     "output_type": "stream",
     "text": [
      " pca p_levefr resahped:  (1, 144, 10)\n",
      "  body movement pa.p_lever projection:  (1, 144, 10)\n",
      "temp points:  (1301, 2)\n",
      "temp points:  (144, 2)\n",
      "plever:  (129, 2)\n",
      "1 133 10\n"
     ]
    },
    {
     "name": "stderr",
     "output_type": "stream",
     "text": [
      "100%|██████████| 1/1 [00:00<00:00,  1.32it/s]\n",
      "  0%|          | 0/1 [00:00<?, ?it/s]"
     ]
    },
    {
     "name": "stdout",
     "output_type": "stream",
     "text": [
      " pca p_levefr resahped:  (1, 124, 10)\n",
      "  body movement pa.p_lever projection:  (1, 124, 10)\n",
      "temp points:  (1301, 2)\n",
      "temp points:  (124, 2)\n",
      "plever:  (111, 2)\n",
      "1 152 10\n"
     ]
    },
    {
     "name": "stderr",
     "output_type": "stream",
     "text": [
      "100%|██████████| 1/1 [00:00<00:00,  1.10it/s]\n",
      "  0%|          | 0/1 [00:00<?, ?it/s]"
     ]
    },
    {
     "name": "stdout",
     "output_type": "stream",
     "text": [
      " pca p_levefr resahped:  (1, 142, 10)\n",
      "  body movement pa.p_lever projection:  (1, 142, 10)\n",
      "temp points:  (1301, 2)\n",
      "temp points:  (142, 2)\n",
      "plever:  (127, 2)\n",
      "1 47 10\n"
     ]
    },
    {
     "name": "stderr",
     "output_type": "stream",
     "text": [
      "100%|██████████| 1/1 [00:00<00:00,  4.31it/s]\n",
      "  0%|          | 0/1 [00:00<?, ?it/s]"
     ]
    },
    {
     "name": "stdout",
     "output_type": "stream",
     "text": [
      " pca p_levefr resahped:  (1, 41, 10)\n",
      "  body movement pa.p_lever projection:  (1, 41, 10)\n",
      "temp points:  (1301, 2)\n",
      "temp points:  (41, 2)\n",
      "plever:  (37, 2)\n",
      "1 144 10\n"
     ]
    },
    {
     "name": "stderr",
     "output_type": "stream",
     "text": [
      "100%|██████████| 1/1 [00:00<00:00,  1.41it/s]\n",
      "100%|██████████| 1/1 [00:00<00:00, 37.03it/s]\n",
      "/media/cat/4TBSSD/anaconda3/envs/wide/lib/python3.8/site-packages/numpy/lib/function_base.py:3961: RuntimeWarning: invalid value encountered in subtract\n",
      "  diff_b_a = subtract(b, a)\n",
      "/media/cat/4TBSSD/anaconda3/envs/wide/lib/python3.8/site-packages/numpy/core/_asarray.py:171: VisibleDeprecationWarning: Creating an ndarray from ragged nested sequences (which is a list-or-tuple of lists-or-tuples-or ndarrays with different lengths or shapes) is deprecated. If you meant to do this, you must specify 'dtype=object' when creating the ndarray.\n",
      "  return array(a, dtype, copy=False, order=order, subok=True)\n"
     ]
    },
    {
     "name": "stdout",
     "output_type": "stream",
     "text": [
      " pca p_levefr resahped:  (1, 130, 10)\n",
      "  body movement pa.p_lever projection:  (1, 130, 10)\n",
      "temp points:  (1301, 2)\n",
      "temp points:  (130, 2)\n",
      "plever:  (117, 2)\n",
      "FNAME LEVER:  /media/cat/4TBSSD/yuki/AQ2/tif_files/AQ2pm_Jan22_30Hz/AQ2pm_Jan22_30Hz_all_locs_selected.txt\n",
      "1 3 10\n",
      " pca p_levefr resahped:  (1, 3, 10)\n",
      "temp points:  (1301, 2)\n",
      "temp points:  (3, 2)\n",
      "plever:  (0, 2)\n",
      "pa.session_id 1:  AQ2am_Jan22_30Hz\n",
      "session corrected:  AQ2am_Jan22_30Hz\n",
      "(7,)\n",
      "['left_paw' 'right_paw' 'nose' 'jaw' 'right_ear' 'tongue' 'lever']\n",
      "pa.session_id 2:  AQ2am_Jan22_30Hz\n",
      "starts:  [ 31.26666667  50.66666667  61.66666667  97.93333333 111.\n",
      " 182.2        189.46666667 203.73333333 212.8        235.53333333]\n",
      "lever offset:  87\n",
      "SESSIONS:  ['am_Apr21_', 'am_Apr22_', 'am_Apr25_', 'am_Apr26_', 'am_Apr27_', 'am_Apr28_', 'am_Apr29_', 'am_Dec9_', 'am_Dec11_', 'am_Dec17_', 'am_Dec18_', 'am_Dec28_', 'am_Dec29_', 'am_Dec30_', 'am_Feb2_', 'am_Feb3_', 'am_Feb4_', 'am_Feb5_', 'am_Feb9_', 'am_Feb10_', 'am_Feb11_', 'am_Feb12_', 'am_Feb15_', 'am_Feb16_', 'am_Feb17_', 'am_Feb18_', 'am_Jan5_', 'am_Jan6_', 'am_Jan7_', 'am_Jan8_', 'am_Jan13_', 'am_Jan14_', 'am_Jan15_', 'am_Jan18_', 'am_Jan19_', 'am_Jan21_', 'am_Jan22_', 'am_Jan28_', 'am_Jan29_', 'pm_Dec16_', 'pm_Dec17_', 'pm_Jan11_', 'pm_Jan13_', 'pm_Jan14_', 'pm_Jan15_', 'pm_Jan18_', 'pm_Jan20_', 'pm_Jan21_', 'pm_Jan22_', 'pm_Jan26_', 'pm_Jan27_', 'pm_Jan28_', 'pm_Jan29_']\n",
      "SHIFT IDS:  ['2', '2', '2', '2', '2', '0', '2', '2', '1', '1', '2', '2', '1', '2', '2', '1', '1', '2', '1', '2', '2', '2', '1', '1', '1', '0', '1', '2', '2', '0', '2', '2', '2', '2', '0', '1', '0', '1', '1', '2', '2', '2', '2', '2', '2', '2', '2', '2', '1', '1', '1', '2', '1']\n",
      "pa.session_id:  AQ2am_Jan22_30Hz\n",
      "SELF SHIFT ID:  0\n",
      " using shift:  0\n",
      "DLC SHIFT Loaded:  4.67\n",
      "DLC shift :  4.67   in frames:  140  after subtracting lever shift:  -53\n",
      " triggers:  (4,)\n",
      " data:  (40000, 128, 128)\n",
      "(39152, 128, 128)\n",
      "X:  (39152, 16384)\n"
     ]
    },
    {
     "name": "stderr",
     "output_type": "stream",
     "text": [
      "\r",
      "  0%|          | 0/1 [00:00<?, ?it/s]"
     ]
    },
    {
     "name": "stdout",
     "output_type": "stream",
     "text": [
      " X data using :  30  number of frames  (1302, 491520)\n",
      " pca allpoints:  (1302, 10)\n",
      "1 104 10\n"
     ]
    },
    {
     "name": "stderr",
     "output_type": "stream",
     "text": [
      "100%|██████████| 1/1 [00:00<00:00,  1.83it/s]\n",
      "  0%|          | 0/1 [00:00<?, ?it/s]"
     ]
    },
    {
     "name": "stdout",
     "output_type": "stream",
     "text": [
      " pca p_levefr resahped:  (1, 102, 10)\n",
      "  body movement pa.p_lever projection:  (1, 102, 10)\n",
      "temp points:  (1302, 2)\n",
      "temp points:  (102, 2)\n",
      "plever:  (91, 2)\n",
      "1 131 10\n"
     ]
    },
    {
     "name": "stderr",
     "output_type": "stream",
     "text": [
      "100%|██████████| 1/1 [00:00<00:00,  1.29it/s]\n",
      "  0%|          | 0/1 [00:00<?, ?it/s]"
     ]
    },
    {
     "name": "stdout",
     "output_type": "stream",
     "text": [
      " pca p_levefr resahped:  (1, 128, 10)\n",
      "  body movement pa.p_lever projection:  (1, 128, 10)\n",
      "temp points:  (1302, 2)\n",
      "temp points:  (128, 2)\n",
      "plever:  (115, 2)\n",
      "1 148 10\n"
     ]
    },
    {
     "name": "stderr",
     "output_type": "stream",
     "text": [
      "100%|██████████| 1/1 [00:01<00:00,  1.08s/it]\n",
      "  0%|          | 0/1 [00:00<?, ?it/s]"
     ]
    },
    {
     "name": "stdout",
     "output_type": "stream",
     "text": [
      " pca p_levefr resahped:  (1, 146, 10)\n",
      "  body movement pa.p_lever projection:  (1, 146, 10)\n",
      "temp points:  (1302, 2)\n",
      "temp points:  (146, 2)\n",
      "plever:  (131, 2)\n",
      "1 66 10\n"
     ]
    },
    {
     "name": "stderr",
     "output_type": "stream",
     "text": [
      "100%|██████████| 1/1 [00:00<00:00,  2.40it/s]\n",
      "  0%|          | 0/1 [00:00<?, ?it/s]"
     ]
    },
    {
     "name": "stdout",
     "output_type": "stream",
     "text": [
      " pca p_levefr resahped:  (1, 65, 10)\n",
      "  body movement pa.p_lever projection:  (1, 65, 10)\n",
      "temp points:  (1302, 2)\n",
      "temp points:  (65, 2)\n",
      "plever:  (58, 2)\n",
      "1 153 10\n"
     ]
    },
    {
     "name": "stderr",
     "output_type": "stream",
     "text": [
      "100%|██████████| 1/1 [00:01<00:00,  1.04s/it]\n",
      "100%|██████████| 1/1 [00:00<00:00, 21.73it/s]\n",
      "/media/cat/4TBSSD/anaconda3/envs/wide/lib/python3.8/site-packages/numpy/lib/function_base.py:3961: RuntimeWarning: invalid value encountered in subtract\n",
      "  diff_b_a = subtract(b, a)\n",
      "/media/cat/4TBSSD/anaconda3/envs/wide/lib/python3.8/site-packages/numpy/core/_asarray.py:171: VisibleDeprecationWarning: Creating an ndarray from ragged nested sequences (which is a list-or-tuple of lists-or-tuples-or ndarrays with different lengths or shapes) is deprecated. If you meant to do this, you must specify 'dtype=object' when creating the ndarray.\n",
      "  return array(a, dtype, copy=False, order=order, subok=True)\n"
     ]
    },
    {
     "name": "stdout",
     "output_type": "stream",
     "text": [
      " pca p_levefr resahped:  (1, 150, 10)\n",
      "  body movement pa.p_lever projection:  (1, 150, 10)\n",
      "temp points:  (1302, 2)\n",
      "temp points:  (150, 2)\n",
      "plever:  (135, 2)\n",
      "FNAME LEVER:  /media/cat/4TBSSD/yuki/AQ2/tif_files/AQ2am_Jan22_30Hz/AQ2am_Jan22_30Hz_all_locs_selected.txt\n",
      "1 4 10\n",
      " pca p_levefr resahped:  (1, 4, 10)\n",
      "temp points:  (1302, 2)\n",
      "temp points:  (4, 2)\n",
      "plever:  (0, 2)\n",
      "pa.session_id 1:  AQ2am_Jan25_30Hz\n",
      "session corrected:  AQ2am_Jan25_30Hz\n",
      "(7,)\n",
      "['left_paw' 'right_paw' 'nose' 'jaw' 'right_ear' 'tongue' 'lever']\n",
      "pa.session_id 2:  AQ2am_Jan25_30Hz\n",
      "starts:  [13.93333333 23.6        29.93333333 37.26666667 41.26666667 51.66666667\n",
      " 71.73333333 76.2        81.6        90.06666667]\n",
      "lever offset:  65\n",
      "SESSIONS:  ['am_Apr21_', 'am_Apr22_', 'am_Apr25_', 'am_Apr26_', 'am_Apr27_', 'am_Apr28_', 'am_Apr29_', 'am_Dec9_', 'am_Dec11_', 'am_Dec17_', 'am_Dec18_', 'am_Dec28_', 'am_Dec29_', 'am_Dec30_', 'am_Feb2_', 'am_Feb3_', 'am_Feb4_', 'am_Feb5_', 'am_Feb9_', 'am_Feb10_', 'am_Feb11_', 'am_Feb12_', 'am_Feb15_', 'am_Feb16_', 'am_Feb17_', 'am_Feb18_', 'am_Jan5_', 'am_Jan6_', 'am_Jan7_', 'am_Jan8_', 'am_Jan13_', 'am_Jan14_', 'am_Jan15_', 'am_Jan18_', 'am_Jan19_', 'am_Jan21_', 'am_Jan22_', 'am_Jan28_', 'am_Jan29_', 'pm_Dec16_', 'pm_Dec17_', 'pm_Jan11_', 'pm_Jan13_', 'pm_Jan14_', 'pm_Jan15_', 'pm_Jan18_', 'pm_Jan20_', 'pm_Jan21_', 'pm_Jan22_', 'pm_Jan26_', 'pm_Jan27_', 'pm_Jan28_', 'pm_Jan29_']\n",
      "SHIFT IDS:  ['2', '2', '2', '2', '2', '0', '2', '2', '1', '1', '2', '2', '1', '2', '2', '1', '1', '2', '1', '2', '2', '2', '1', '1', '1', '0', '1', '2', '2', '0', '2', '2', '2', '2', '0', '1', '0', '1', '1', '2', '2', '2', '2', '2', '2', '2', '2', '2', '1', '1', '1', '2', '1']\n",
      "pa.session_id:  AQ2am_Jan25_30Hz\n",
      "pa.session_id 1:  AQ2pm_Jan25_30Hz\n",
      "session corrected:  AQ2pm_Jan25_30Hz\n",
      "(7,)\n",
      "['left_paw' 'right_paw' 'nose' 'jaw' 'right_ear' 'tongue' 'lever']\n",
      "pa.session_id 2:  AQ2pm_Jan25_30Hz\n",
      "starts:  [ 3.6        17.33333333 32.26666667 38.06666667 47.66666667 56.\n",
      " 63.66666667 70.93333333 82.73333333 90.4       ]\n",
      "lever offset:  64\n",
      "SESSIONS:  ['am_Apr21_', 'am_Apr22_', 'am_Apr25_', 'am_Apr26_', 'am_Apr27_', 'am_Apr28_', 'am_Apr29_', 'am_Dec9_', 'am_Dec11_', 'am_Dec17_', 'am_Dec18_', 'am_Dec28_', 'am_Dec29_', 'am_Dec30_', 'am_Feb2_', 'am_Feb3_', 'am_Feb4_', 'am_Feb5_', 'am_Feb9_', 'am_Feb10_', 'am_Feb11_', 'am_Feb12_', 'am_Feb15_', 'am_Feb16_', 'am_Feb17_', 'am_Feb18_', 'am_Jan5_', 'am_Jan6_', 'am_Jan7_', 'am_Jan8_', 'am_Jan13_', 'am_Jan14_', 'am_Jan15_', 'am_Jan18_', 'am_Jan19_', 'am_Jan21_', 'am_Jan22_', 'am_Jan28_', 'am_Jan29_', 'pm_Dec16_', 'pm_Dec17_', 'pm_Jan11_', 'pm_Jan13_', 'pm_Jan14_', 'pm_Jan15_', 'pm_Jan18_', 'pm_Jan20_', 'pm_Jan21_', 'pm_Jan22_', 'pm_Jan26_', 'pm_Jan27_', 'pm_Jan28_', 'pm_Jan29_']\n",
      "SHIFT IDS:  ['2', '2', '2', '2', '2', '0', '2', '2', '1', '1', '2', '2', '1', '2', '2', '1', '1', '2', '1', '2', '2', '2', '1', '1', '1', '0', '1', '2', '2', '0', '2', '2', '2', '2', '0', '1', '0', '1', '1', '2', '2', '2', '2', '2', '2', '2', '2', '2', '1', '1', '1', '2', '1']\n",
      "pa.session_id:  AQ2pm_Jan25_30Hz\n",
      "pa.session_id 1:  AQ2pm_Jan26_30Hz\n",
      "session corrected:  AQ2pm_Jan26_30Hz\n",
      "(7,)\n",
      "['left_paw' 'right_paw' 'nose' 'jaw' 'right_ear' 'tongue' 'lever']\n",
      "pa.session_id 2:  AQ2pm_Jan26_30Hz\n",
      "starts:  [  7.46666667  16.86666667  21.13333333  26.73333333  33.6\n",
      "  46.53333333  53.73333333  63.66666667  81.26666667 102.33333333]\n",
      "lever offset:  61\n",
      "SESSIONS:  ['am_Apr21_', 'am_Apr22_', 'am_Apr25_', 'am_Apr26_', 'am_Apr27_', 'am_Apr28_', 'am_Apr29_', 'am_Dec9_', 'am_Dec11_', 'am_Dec17_', 'am_Dec18_', 'am_Dec28_', 'am_Dec29_', 'am_Dec30_', 'am_Feb2_', 'am_Feb3_', 'am_Feb4_', 'am_Feb5_', 'am_Feb9_', 'am_Feb10_', 'am_Feb11_', 'am_Feb12_', 'am_Feb15_', 'am_Feb16_', 'am_Feb17_', 'am_Feb18_', 'am_Jan5_', 'am_Jan6_', 'am_Jan7_', 'am_Jan8_', 'am_Jan13_', 'am_Jan14_', 'am_Jan15_', 'am_Jan18_', 'am_Jan19_', 'am_Jan21_', 'am_Jan22_', 'am_Jan28_', 'am_Jan29_', 'pm_Dec16_', 'pm_Dec17_', 'pm_Jan11_', 'pm_Jan13_', 'pm_Jan14_', 'pm_Jan15_', 'pm_Jan18_', 'pm_Jan20_', 'pm_Jan21_', 'pm_Jan22_', 'pm_Jan26_', 'pm_Jan27_', 'pm_Jan28_', 'pm_Jan29_']\n",
      "SHIFT IDS:  ['2', '2', '2', '2', '2', '0', '2', '2', '1', '1', '2', '2', '1', '2', '2', '1', '1', '2', '1', '2', '2', '2', '1', '1', '1', '0', '1', '2', '2', '0', '2', '2', '2', '2', '0', '1', '0', '1', '1', '2', '2', '2', '2', '2', '2', '2', '2', '2', '1', '1', '1', '2', '1']\n",
      "pa.session_id:  AQ2pm_Jan26_30Hz\n",
      "SELF SHIFT ID:  1\n",
      " using shift:  1\n",
      "DLC SHIFT Loaded:  3.71\n",
      "DLC shift :  3.71   in frames:  111  after subtracting lever shift:  -50\n",
      " data missing/led missing\n",
      "pa.session_id 1:  AQ2am_Jan26_30Hz\n",
      "session corrected:  AQ2am_Jan26_30Hz\n",
      "(7,)\n",
      "['left_paw' 'right_paw' 'nose' 'jaw' 'right_ear' 'tongue' 'lever']\n",
      "pa.session_id 2:  AQ2am_Jan26_30Hz\n",
      "starts:  [26.33333333 29.66666667 39.46666667 43.4        52.86666667 56.86666667\n",
      " 60.93333333 65.06666667 71.33333333 80.86666667]\n",
      "lever offset:  63\n",
      "SESSIONS:  ['am_Apr21_', 'am_Apr22_', 'am_Apr25_', 'am_Apr26_', 'am_Apr27_', 'am_Apr28_', 'am_Apr29_', 'am_Dec9_', 'am_Dec11_', 'am_Dec17_', 'am_Dec18_', 'am_Dec28_', 'am_Dec29_', 'am_Dec30_', 'am_Feb2_', 'am_Feb3_', 'am_Feb4_', 'am_Feb5_', 'am_Feb9_', 'am_Feb10_', 'am_Feb11_', 'am_Feb12_', 'am_Feb15_', 'am_Feb16_', 'am_Feb17_', 'am_Feb18_', 'am_Jan5_', 'am_Jan6_', 'am_Jan7_', 'am_Jan8_', 'am_Jan13_', 'am_Jan14_', 'am_Jan15_', 'am_Jan18_', 'am_Jan19_', 'am_Jan21_', 'am_Jan22_', 'am_Jan28_', 'am_Jan29_', 'pm_Dec16_', 'pm_Dec17_', 'pm_Jan11_', 'pm_Jan13_', 'pm_Jan14_', 'pm_Jan15_', 'pm_Jan18_', 'pm_Jan20_', 'pm_Jan21_', 'pm_Jan22_', 'pm_Jan26_', 'pm_Jan27_', 'pm_Jan28_', 'pm_Jan29_']\n",
      "SHIFT IDS:  ['2', '2', '2', '2', '2', '0', '2', '2', '1', '1', '2', '2', '1', '2', '2', '1', '1', '2', '1', '2', '2', '2', '1', '1', '1', '0', '1', '2', '2', '0', '2', '2', '2', '2', '0', '1', '0', '1', '1', '2', '2', '2', '2', '2', '2', '2', '2', '2', '1', '1', '1', '2', '1']\n",
      "pa.session_id:  AQ2am_Jan26_30Hz\n",
      "pa.session_id 1:  AQ2am_Jan27_30Hz\n",
      "session corrected:  AQ2am_Jan27_30Hz\n",
      "(7,)\n",
      "['left_paw' 'right_paw' 'nose' 'jaw' 'right_ear' 'tongue' 'lever']\n",
      "pa.session_id 2:  AQ2am_Jan27_30Hz\n",
      "starts:  [  3.66666667  20.73333333  46.53333333  60.6         78.8\n",
      "  84.2         99.46666667 105.26666667 119.73333333 134.86666667]\n",
      "lever offset:  92\n",
      "SESSIONS:  ['am_Apr21_', 'am_Apr22_', 'am_Apr25_', 'am_Apr26_', 'am_Apr27_', 'am_Apr28_', 'am_Apr29_', 'am_Dec9_', 'am_Dec11_', 'am_Dec17_', 'am_Dec18_', 'am_Dec28_', 'am_Dec29_', 'am_Dec30_', 'am_Feb2_', 'am_Feb3_', 'am_Feb4_', 'am_Feb5_', 'am_Feb9_', 'am_Feb10_', 'am_Feb11_', 'am_Feb12_', 'am_Feb15_', 'am_Feb16_', 'am_Feb17_', 'am_Feb18_', 'am_Jan5_', 'am_Jan6_', 'am_Jan7_', 'am_Jan8_', 'am_Jan13_', 'am_Jan14_', 'am_Jan15_', 'am_Jan18_', 'am_Jan19_', 'am_Jan21_', 'am_Jan22_', 'am_Jan28_', 'am_Jan29_', 'pm_Dec16_', 'pm_Dec17_', 'pm_Jan11_', 'pm_Jan13_', 'pm_Jan14_', 'pm_Jan15_', 'pm_Jan18_', 'pm_Jan20_', 'pm_Jan21_', 'pm_Jan22_', 'pm_Jan26_', 'pm_Jan27_', 'pm_Jan28_', 'pm_Jan29_']\n",
      "SHIFT IDS:  ['2', '2', '2', '2', '2', '0', '2', '2', '1', '1', '2', '2', '1', '2', '2', '1', '1', '2', '1', '2', '2', '2', '1', '1', '1', '0', '1', '2', '2', '0', '2', '2', '2', '2', '0', '1', '0', '1', '1', '2', '2', '2', '2', '2', '2', '2', '2', '2', '1', '1', '1', '2', '1']\n",
      "pa.session_id:  AQ2am_Jan27_30Hz\n",
      "pa.session_id 1:  AQ2pm_Jan27_30Hz\n",
      "session corrected:  AQ2pm_Jan27_30Hz\n",
      "(7,)\n",
      "['left_paw' 'right_paw' 'nose' 'jaw' 'right_ear' 'tongue' 'lever']\n",
      "pa.session_id 2:  AQ2pm_Jan27_30Hz\n",
      "starts:  [ 33.53333333  41.53333333  78.6         87.06666667  90.53333333\n",
      "  94.         111.86666667 118.93333333 126.33333333 134.        ]\n",
      "lever offset:  76\n",
      "SESSIONS:  ['am_Apr21_', 'am_Apr22_', 'am_Apr25_', 'am_Apr26_', 'am_Apr27_', 'am_Apr28_', 'am_Apr29_', 'am_Dec9_', 'am_Dec11_', 'am_Dec17_', 'am_Dec18_', 'am_Dec28_', 'am_Dec29_', 'am_Dec30_', 'am_Feb2_', 'am_Feb3_', 'am_Feb4_', 'am_Feb5_', 'am_Feb9_', 'am_Feb10_', 'am_Feb11_', 'am_Feb12_', 'am_Feb15_', 'am_Feb16_', 'am_Feb17_', 'am_Feb18_', 'am_Jan5_', 'am_Jan6_', 'am_Jan7_', 'am_Jan8_', 'am_Jan13_', 'am_Jan14_', 'am_Jan15_', 'am_Jan18_', 'am_Jan19_', 'am_Jan21_', 'am_Jan22_', 'am_Jan28_', 'am_Jan29_', 'pm_Dec16_', 'pm_Dec17_', 'pm_Jan11_', 'pm_Jan13_', 'pm_Jan14_', 'pm_Jan15_', 'pm_Jan18_', 'pm_Jan20_', 'pm_Jan21_', 'pm_Jan22_', 'pm_Jan26_', 'pm_Jan27_', 'pm_Jan28_', 'pm_Jan29_']\n",
      "SHIFT IDS:  ['2', '2', '2', '2', '2', '0', '2', '2', '1', '1', '2', '2', '1', '2', '2', '1', '1', '2', '1', '2', '2', '2', '1', '1', '1', '0', '1', '2', '2', '0', '2', '2', '2', '2', '0', '1', '0', '1', '1', '2', '2', '2', '2', '2', '2', '2', '2', '2', '1', '1', '1', '2', '1']\n",
      "pa.session_id:  AQ2pm_Jan27_30Hz\n",
      "SELF SHIFT ID:  1\n",
      " using shift:  1\n",
      "DLC SHIFT Loaded:  4.38\n",
      "DLC shift :  4.38   in frames:  131  after subtracting lever shift:  -55\n"
     ]
    },
    {
     "name": "stdout",
     "output_type": "stream",
     "text": [
      " triggers:  (35,)\n",
      " data:  (40000, 128, 128)\n",
      "(39146, 128, 128)\n",
      "X:  (39146, 16384)\n"
     ]
    },
    {
     "name": "stderr",
     "output_type": "stream",
     "text": [
      "\r",
      "  0%|          | 0/1 [00:00<?, ?it/s]"
     ]
    },
    {
     "name": "stdout",
     "output_type": "stream",
     "text": [
      " X data using :  30  number of frames  (1302, 491520)\n",
      " pca allpoints:  (1302, 10)\n",
      "1 113 10\n"
     ]
    },
    {
     "name": "stderr",
     "output_type": "stream",
     "text": [
      "100%|██████████| 1/1 [00:00<00:00,  1.62it/s]\n",
      "  0%|          | 0/1 [00:00<?, ?it/s]"
     ]
    },
    {
     "name": "stdout",
     "output_type": "stream",
     "text": [
      " pca p_levefr resahped:  (1, 109, 10)\n",
      "  body movement pa.p_lever projection:  (1, 109, 10)\n",
      "temp points:  (1302, 2)\n",
      "temp points:  (109, 2)\n",
      "plever:  (98, 2)\n",
      "1 104 10\n"
     ]
    },
    {
     "name": "stderr",
     "output_type": "stream",
     "text": [
      "100%|██████████| 1/1 [00:00<00:00,  1.74it/s]\n",
      "  0%|          | 0/1 [00:00<?, ?it/s]"
     ]
    },
    {
     "name": "stdout",
     "output_type": "stream",
     "text": [
      " pca p_levefr resahped:  (1, 101, 10)\n",
      "  body movement pa.p_lever projection:  (1, 101, 10)\n",
      "temp points:  (1302, 2)\n",
      "temp points:  (101, 2)\n",
      "plever:  (91, 2)\n",
      "1 105 10\n"
     ]
    },
    {
     "name": "stderr",
     "output_type": "stream",
     "text": [
      "100%|██████████| 1/1 [00:00<00:00,  1.75it/s]\n",
      "100%|██████████| 1/1 [00:00<00:00, 19.96it/s]\n",
      "  0%|          | 0/1 [00:00<?, ?it/s]"
     ]
    },
    {
     "name": "stdout",
     "output_type": "stream",
     "text": [
      " pca p_levefr resahped:  (1, 102, 10)\n",
      "  body movement pa.p_lever projection:  (1, 102, 10)\n",
      "temp points:  (1302, 2)\n",
      "temp points:  (102, 2)\n",
      "plever:  (91, 2)\n",
      "1 6 10\n",
      " pca p_levefr resahped:  (1, 6, 10)\n",
      "  body movement pa.p_lever projection:  (1, 6, 10)\n",
      "temp points:  (1302, 2)\n",
      "temp points:  (6, 2)\n",
      "plever:  (5, 2)\n",
      "1 82 10\n"
     ]
    },
    {
     "name": "stderr",
     "output_type": "stream",
     "text": [
      "100%|██████████| 1/1 [00:00<00:00,  2.26it/s]\n",
      "  0%|          | 0/1 [00:00<?, ?it/s]"
     ]
    },
    {
     "name": "stdout",
     "output_type": "stream",
     "text": [
      " pca p_levefr resahped:  (1, 80, 10)\n",
      "  body movement pa.p_lever projection:  (1, 80, 10)\n",
      "temp points:  (1302, 2)\n",
      "temp points:  (80, 2)\n",
      "plever:  (72, 2)\n",
      "FNAME LEVER:  /media/cat/4TBSSD/yuki/AQ2/tif_files/AQ2pm_Jan27_30Hz/AQ2pm_Jan27_30Hz_all_locs_selected.txt\n",
      "1 55 10\n"
     ]
    },
    {
     "name": "stderr",
     "output_type": "stream",
     "text": [
      "100%|██████████| 1/1 [00:00<00:00,  2.60it/s]\n",
      "/media/cat/4TBSSD/anaconda3/envs/wide/lib/python3.8/site-packages/numpy/core/_asarray.py:171: VisibleDeprecationWarning: Creating an ndarray from ragged nested sequences (which is a list-or-tuple of lists-or-tuples-or ndarrays with different lengths or shapes) is deprecated. If you meant to do this, you must specify 'dtype=object' when creating the ndarray.\n",
      "  return array(a, dtype, copy=False, order=order, subok=True)\n"
     ]
    },
    {
     "name": "stdout",
     "output_type": "stream",
     "text": [
      " pca p_levefr resahped:  (1, 55, 10)\n",
      "temp points:  (1302, 2)\n",
      "temp points:  (55, 2)\n",
      "plever:  (49, 2)\n",
      "pa.session_id 1:  AQ2am_Jan28_30Hz\n",
      "session corrected:  AQ2am_Jan28_30Hz\n",
      "(7,)\n",
      "['left_paw' 'right_paw' 'nose' 'jaw' 'right_ear' 'tongue' 'lever']\n",
      "pa.session_id 2:  AQ2am_Jan28_30Hz\n",
      "starts:  [ 5.86666667 11.66666667 15.4        21.6        30.13333333 35.4\n",
      " 42.8        47.46666667 60.2        65.2       ]\n",
      "lever offset:  84\n",
      "SESSIONS:  ['am_Apr21_', 'am_Apr22_', 'am_Apr25_', 'am_Apr26_', 'am_Apr27_', 'am_Apr28_', 'am_Apr29_', 'am_Dec9_', 'am_Dec11_', 'am_Dec17_', 'am_Dec18_', 'am_Dec28_', 'am_Dec29_', 'am_Dec30_', 'am_Feb2_', 'am_Feb3_', 'am_Feb4_', 'am_Feb5_', 'am_Feb9_', 'am_Feb10_', 'am_Feb11_', 'am_Feb12_', 'am_Feb15_', 'am_Feb16_', 'am_Feb17_', 'am_Feb18_', 'am_Jan5_', 'am_Jan6_', 'am_Jan7_', 'am_Jan8_', 'am_Jan13_', 'am_Jan14_', 'am_Jan15_', 'am_Jan18_', 'am_Jan19_', 'am_Jan21_', 'am_Jan22_', 'am_Jan28_', 'am_Jan29_', 'pm_Dec16_', 'pm_Dec17_', 'pm_Jan11_', 'pm_Jan13_', 'pm_Jan14_', 'pm_Jan15_', 'pm_Jan18_', 'pm_Jan20_', 'pm_Jan21_', 'pm_Jan22_', 'pm_Jan26_', 'pm_Jan27_', 'pm_Jan28_', 'pm_Jan29_']\n",
      "SHIFT IDS:  ['2', '2', '2', '2', '2', '0', '2', '2', '1', '1', '2', '2', '1', '2', '2', '1', '1', '2', '1', '2', '2', '2', '1', '1', '1', '0', '1', '2', '2', '0', '2', '2', '2', '2', '0', '1', '0', '1', '1', '2', '2', '2', '2', '2', '2', '2', '2', '2', '1', '1', '1', '2', '1']\n",
      "pa.session_id:  AQ2am_Jan28_30Hz\n",
      "SELF SHIFT ID:  1\n",
      " using shift:  1\n",
      "DLC SHIFT Loaded:  4.48\n",
      "DLC shift :  4.48   in frames:  134  after subtracting lever shift:  -50\n",
      " triggers:  (43,)\n",
      " data:  (40000, 128, 128)\n",
      "(39567, 128, 128)\n",
      "X:  (39567, 16384)\n"
     ]
    },
    {
     "name": "stderr",
     "output_type": "stream",
     "text": [
      "\r",
      "  0%|          | 0/1 [00:00<?, ?it/s]"
     ]
    },
    {
     "name": "stdout",
     "output_type": "stream",
     "text": [
      " X data using :  30  number of frames  (1316, 491520)\n",
      " pca allpoints:  (1316, 10)\n",
      "1 137 10\n"
     ]
    },
    {
     "name": "stderr",
     "output_type": "stream",
     "text": [
      "100%|██████████| 1/1 [00:00<00:00,  1.10it/s]\n",
      "  0%|          | 0/1 [00:00<?, ?it/s]"
     ]
    },
    {
     "name": "stdout",
     "output_type": "stream",
     "text": [
      " pca p_levefr resahped:  (1, 134, 10)\n",
      "  body movement pa.p_lever projection:  (1, 134, 10)\n",
      "temp points:  (1316, 2)\n",
      "temp points:  (134, 2)\n",
      "plever:  (120, 2)\n",
      "1 86 10\n"
     ]
    },
    {
     "name": "stderr",
     "output_type": "stream",
     "text": [
      "100%|██████████| 1/1 [00:00<00:00,  2.12it/s]\n",
      "  0%|          | 0/1 [00:00<?, ?it/s]"
     ]
    },
    {
     "name": "stdout",
     "output_type": "stream",
     "text": [
      " pca p_levefr resahped:  (1, 83, 10)\n",
      "  body movement pa.p_lever projection:  (1, 83, 10)\n",
      "temp points:  (1316, 2)\n",
      "temp points:  (83, 2)\n",
      "plever:  (74, 2)\n",
      "1 107 10\n"
     ]
    },
    {
     "name": "stderr",
     "output_type": "stream",
     "text": [
      "100%|██████████| 1/1 [00:00<00:00,  1.68it/s]\n",
      "100%|██████████| 1/1 [00:00<00:00,  8.72it/s]\n",
      "  0%|          | 0/1 [00:00<?, ?it/s]"
     ]
    },
    {
     "name": "stdout",
     "output_type": "stream",
     "text": [
      " pca p_levefr resahped:  (1, 104, 10)\n",
      "  body movement pa.p_lever projection:  (1, 104, 10)\n",
      "temp points:  (1316, 2)\n",
      "temp points:  (104, 2)\n",
      "plever:  (93, 2)\n",
      "1 16 10\n",
      " pca p_levefr resahped:  (1, 16, 10)\n",
      "  body movement pa.p_lever projection:  (1, 16, 10)\n",
      "temp points:  (1316, 2)\n",
      "temp points:  (16, 2)\n",
      "plever:  (14, 2)\n",
      "1 78 10\n"
     ]
    },
    {
     "name": "stderr",
     "output_type": "stream",
     "text": [
      "100%|██████████| 1/1 [00:00<00:00,  2.36it/s]\n",
      "  0%|          | 0/1 [00:00<?, ?it/s]"
     ]
    },
    {
     "name": "stdout",
     "output_type": "stream",
     "text": [
      " pca p_levefr resahped:  (1, 75, 10)\n",
      "  body movement pa.p_lever projection:  (1, 75, 10)\n",
      "temp points:  (1316, 2)\n",
      "temp points:  (75, 2)\n",
      "plever:  (67, 2)\n",
      "FNAME LEVER:  /media/cat/4TBSSD/yuki/AQ2/tif_files/AQ2am_Jan28_30Hz/AQ2am_Jan28_30Hz_all_locs_selected.txt\n",
      "1 46 10\n"
     ]
    },
    {
     "name": "stderr",
     "output_type": "stream",
     "text": [
      "100%|██████████| 1/1 [00:00<00:00,  3.67it/s]\n",
      "/media/cat/4TBSSD/anaconda3/envs/wide/lib/python3.8/site-packages/numpy/core/_asarray.py:171: VisibleDeprecationWarning: Creating an ndarray from ragged nested sequences (which is a list-or-tuple of lists-or-tuples-or ndarrays with different lengths or shapes) is deprecated. If you meant to do this, you must specify 'dtype=object' when creating the ndarray.\n",
      "  return array(a, dtype, copy=False, order=order, subok=True)\n"
     ]
    },
    {
     "name": "stdout",
     "output_type": "stream",
     "text": [
      " pca p_levefr resahped:  (1, 46, 10)\n",
      "temp points:  (1316, 2)\n",
      "temp points:  (46, 2)\n",
      "plever:  (41, 2)\n",
      "pa.session_id 1:  AQ2pm_Jan28_30Hz\n",
      "session corrected:  AQ2pm_Jan28_30Hz\n",
      "(7,)\n",
      "['left_paw' 'right_paw' 'nose' 'jaw' 'right_ear' 'tongue' 'lever']\n",
      "pa.session_id 2:  AQ2pm_Jan28_30Hz\n",
      "starts:  [10.06666667 13.53333333 24.33333333 28.66666667 37.86666667 45.53333333\n",
      " 51.         59.         64.33333333 68.46666667]\n",
      "lever offset:  62\n",
      "SESSIONS:  ['am_Apr21_', 'am_Apr22_', 'am_Apr25_', 'am_Apr26_', 'am_Apr27_', 'am_Apr28_', 'am_Apr29_', 'am_Dec9_', 'am_Dec11_', 'am_Dec17_', 'am_Dec18_', 'am_Dec28_', 'am_Dec29_', 'am_Dec30_', 'am_Feb2_', 'am_Feb3_', 'am_Feb4_', 'am_Feb5_', 'am_Feb9_', 'am_Feb10_', 'am_Feb11_', 'am_Feb12_', 'am_Feb15_', 'am_Feb16_', 'am_Feb17_', 'am_Feb18_', 'am_Jan5_', 'am_Jan6_', 'am_Jan7_', 'am_Jan8_', 'am_Jan13_', 'am_Jan14_', 'am_Jan15_', 'am_Jan18_', 'am_Jan19_', 'am_Jan21_', 'am_Jan22_', 'am_Jan28_', 'am_Jan29_', 'pm_Dec16_', 'pm_Dec17_', 'pm_Jan11_', 'pm_Jan13_', 'pm_Jan14_', 'pm_Jan15_', 'pm_Jan18_', 'pm_Jan20_', 'pm_Jan21_', 'pm_Jan22_', 'pm_Jan26_', 'pm_Jan27_', 'pm_Jan28_', 'pm_Jan29_']\n",
      "SHIFT IDS:  ['2', '2', '2', '2', '2', '0', '2', '2', '1', '1', '2', '2', '1', '2', '2', '1', '1', '2', '1', '2', '2', '2', '1', '1', '1', '0', '1', '2', '2', '0', '2', '2', '2', '2', '0', '1', '0', '1', '1', '2', '2', '2', '2', '2', '2', '2', '2', '2', '1', '1', '1', '2', '1']\n",
      "pa.session_id:  AQ2pm_Jan28_30Hz\n",
      "SELF SHIFT ID:  2\n",
      " using shift:  2\n",
      "DLC SHIFT Loaded:  3.08\n",
      "DLC shift :  3.08   in frames:  92  after subtracting lever shift:  -30\n",
      " triggers:  (47,)\n",
      " data:  (40000, 128, 128)\n",
      "(39156, 128, 128)\n",
      "X:  (39156, 16384)\n"
     ]
    },
    {
     "name": "stderr",
     "output_type": "stream",
     "text": [
      "\r",
      "  0%|          | 0/1 [00:00<?, ?it/s]"
     ]
    },
    {
     "name": "stdout",
     "output_type": "stream",
     "text": [
      " X data using :  30  number of frames  (1302, 491520)\n",
      " pca allpoints:  (1302, 10)\n",
      "1 129 10\n"
     ]
    },
    {
     "name": "stderr",
     "output_type": "stream",
     "text": [
      "100%|██████████| 1/1 [00:00<00:00,  1.43it/s]\n",
      "  0%|          | 0/1 [00:00<?, ?it/s]"
     ]
    },
    {
     "name": "stdout",
     "output_type": "stream",
     "text": [
      " pca p_levefr resahped:  (1, 125, 10)\n",
      "  body movement pa.p_lever projection:  (1, 125, 10)\n",
      "temp points:  (1302, 2)\n",
      "temp points:  (125, 2)\n",
      "plever:  (112, 2)\n",
      "1 51 10\n"
     ]
    },
    {
     "name": "stderr",
     "output_type": "stream",
     "text": [
      "100%|██████████| 1/1 [00:00<00:00,  3.73it/s]\n",
      "  0%|          | 0/1 [00:00<?, ?it/s]"
     ]
    },
    {
     "name": "stdout",
     "output_type": "stream",
     "text": [
      " pca p_levefr resahped:  (1, 48, 10)\n",
      "  body movement pa.p_lever projection:  (1, 48, 10)\n",
      "temp points:  (1302, 2)\n",
      "temp points:  (48, 2)\n",
      "plever:  (43, 2)\n",
      "1 51 10\n"
     ]
    },
    {
     "name": "stderr",
     "output_type": "stream",
     "text": [
      "100%|██████████| 1/1 [00:00<00:00,  3.67it/s]\n",
      "100%|██████████| 1/1 [00:00<00:00, 26.16it/s]\n",
      "  0%|          | 0/1 [00:00<?, ?it/s]"
     ]
    },
    {
     "name": "stdout",
     "output_type": "stream",
     "text": [
      " pca p_levefr resahped:  (1, 48, 10)\n",
      "  body movement pa.p_lever projection:  (1, 48, 10)\n",
      "temp points:  (1302, 2)\n",
      "temp points:  (48, 2)\n",
      "plever:  (43, 2)\n",
      "1 7 10\n",
      " pca p_levefr resahped:  (1, 6, 10)\n",
      "  body movement pa.p_lever projection:  (1, 6, 10)\n",
      "temp points:  (1302, 2)\n",
      "temp points:  (6, 2)\n",
      "plever:  (5, 2)\n",
      "1 35 10\n"
     ]
    },
    {
     "name": "stderr",
     "output_type": "stream",
     "text": [
      "100%|██████████| 1/1 [00:00<00:00,  5.39it/s]\n",
      "  0%|          | 0/1 [00:00<?, ?it/s]"
     ]
    },
    {
     "name": "stdout",
     "output_type": "stream",
     "text": [
      " pca p_levefr resahped:  (1, 34, 10)\n",
      "  body movement pa.p_lever projection:  (1, 34, 10)\n",
      "temp points:  (1302, 2)\n",
      "temp points:  (34, 2)\n",
      "plever:  (30, 2)\n",
      "FNAME LEVER:  /media/cat/4TBSSD/yuki/AQ2/tif_files/AQ2pm_Jan28_30Hz/AQ2pm_Jan28_30Hz_all_locs_selected.txt\n",
      "1 61 10\n"
     ]
    },
    {
     "name": "stderr",
     "output_type": "stream",
     "text": [
      "100%|██████████| 1/1 [00:00<00:00,  2.75it/s]\n",
      "/media/cat/4TBSSD/anaconda3/envs/wide/lib/python3.8/site-packages/numpy/core/_asarray.py:171: VisibleDeprecationWarning: Creating an ndarray from ragged nested sequences (which is a list-or-tuple of lists-or-tuples-or ndarrays with different lengths or shapes) is deprecated. If you meant to do this, you must specify 'dtype=object' when creating the ndarray.\n",
      "  return array(a, dtype, copy=False, order=order, subok=True)\n"
     ]
    },
    {
     "name": "stdout",
     "output_type": "stream",
     "text": [
      " pca p_levefr resahped:  (1, 61, 10)\n",
      "temp points:  (1302, 2)\n",
      "temp points:  (61, 2)\n",
      "plever:  (55, 2)\n",
      "pa.session_id 1:  AQ2am_Jan29_30Hz\n",
      "session corrected:  AQ2am_Jan29_30Hz\n",
      "(7,)\n",
      "['left_paw' 'right_paw' 'nose' 'jaw' 'right_ear' 'tongue' 'lever']\n",
      "pa.session_id 2:  AQ2am_Jan29_30Hz\n",
      "starts:  [24.46666667 31.06666667 35.13333333 39.13333333 43.26666667 55.46666667\n",
      " 60.13333333 64.33333333 74.4        82.33333333]\n",
      "lever offset:  94\n",
      "SESSIONS:  ['am_Apr21_', 'am_Apr22_', 'am_Apr25_', 'am_Apr26_', 'am_Apr27_', 'am_Apr28_', 'am_Apr29_', 'am_Dec9_', 'am_Dec11_', 'am_Dec17_', 'am_Dec18_', 'am_Dec28_', 'am_Dec29_', 'am_Dec30_', 'am_Feb2_', 'am_Feb3_', 'am_Feb4_', 'am_Feb5_', 'am_Feb9_', 'am_Feb10_', 'am_Feb11_', 'am_Feb12_', 'am_Feb15_', 'am_Feb16_', 'am_Feb17_', 'am_Feb18_', 'am_Jan5_', 'am_Jan6_', 'am_Jan7_', 'am_Jan8_', 'am_Jan13_', 'am_Jan14_', 'am_Jan15_', 'am_Jan18_', 'am_Jan19_', 'am_Jan21_', 'am_Jan22_', 'am_Jan28_', 'am_Jan29_', 'pm_Dec16_', 'pm_Dec17_', 'pm_Jan11_', 'pm_Jan13_', 'pm_Jan14_', 'pm_Jan15_', 'pm_Jan18_', 'pm_Jan20_', 'pm_Jan21_', 'pm_Jan22_', 'pm_Jan26_', 'pm_Jan27_', 'pm_Jan28_', 'pm_Jan29_']\n",
      "SHIFT IDS:  ['2', '2', '2', '2', '2', '0', '2', '2', '1', '1', '2', '2', '1', '2', '2', '1', '1', '2', '1', '2', '2', '2', '1', '1', '1', '0', '1', '2', '2', '0', '2', '2', '2', '2', '0', '1', '0', '1', '1', '2', '2', '2', '2', '2', '2', '2', '2', '2', '1', '1', '1', '2', '1']\n",
      "pa.session_id:  AQ2am_Jan29_30Hz\n",
      "SELF SHIFT ID:  1\n",
      " using shift:  1\n",
      "DLC SHIFT Loaded:  5.64\n",
      "DLC shift :  5.64   in frames:  169  after subtracting lever shift:  -75\n",
      " triggers:  (34,)\n",
      " data:  (40000, 128, 128)\n",
      "(39410, 128, 128)\n",
      "X:  (39410, 16384)\n"
     ]
    },
    {
     "name": "stderr",
     "output_type": "stream",
     "text": [
      "\r",
      "  0%|          | 0/1 [00:00<?, ?it/s]"
     ]
    },
    {
     "name": "stdout",
     "output_type": "stream",
     "text": [
      " X data using :  30  number of frames  (1311, 491520)\n",
      " pca allpoints:  (1311, 10)\n",
      "1 152 10\n"
     ]
    },
    {
     "name": "stderr",
     "output_type": "stream",
     "text": [
      "100%|██████████| 1/1 [00:01<00:00,  1.08s/it]\n",
      "  0%|          | 0/1 [00:00<?, ?it/s]"
     ]
    },
    {
     "name": "stdout",
     "output_type": "stream",
     "text": [
      " pca p_levefr resahped:  (1, 147, 10)\n",
      "  body movement pa.p_lever projection:  (1, 147, 10)\n",
      "temp points:  (1311, 2)\n",
      "temp points:  (147, 2)\n",
      "plever:  (132, 2)\n",
      "1 107 10\n"
     ]
    },
    {
     "name": "stderr",
     "output_type": "stream",
     "text": [
      "100%|██████████| 1/1 [00:00<00:00,  1.77it/s]\n",
      "  0%|          | 0/1 [00:00<?, ?it/s]"
     ]
    },
    {
     "name": "stdout",
     "output_type": "stream",
     "text": [
      " pca p_levefr resahped:  (1, 101, 10)\n",
      "  body movement pa.p_lever projection:  (1, 101, 10)\n",
      "temp points:  (1311, 2)\n",
      "temp points:  (101, 2)\n",
      "plever:  (91, 2)\n",
      "1 87 10\n"
     ]
    },
    {
     "name": "stderr",
     "output_type": "stream",
     "text": [
      "100%|██████████| 1/1 [00:00<00:00,  2.15it/s]\n",
      "100%|██████████| 1/1 [00:00<00:00,  8.29it/s]\n",
      "  0%|          | 0/1 [00:00<?, ?it/s]"
     ]
    },
    {
     "name": "stdout",
     "output_type": "stream",
     "text": [
      " pca p_levefr resahped:  (1, 84, 10)\n",
      "  body movement pa.p_lever projection:  (1, 84, 10)\n",
      "temp points:  (1311, 2)\n",
      "temp points:  (84, 2)\n",
      "plever:  (75, 2)\n",
      "1 15 10\n",
      " pca p_levefr resahped:  (1, 15, 10)\n",
      "  body movement pa.p_lever projection:  (1, 15, 10)\n",
      "temp points:  (1311, 2)\n",
      "temp points:  (15, 2)\n",
      "plever:  (13, 2)\n",
      "1 109 10\n"
     ]
    },
    {
     "name": "stderr",
     "output_type": "stream",
     "text": [
      "100%|██████████| 1/1 [00:00<00:00,  1.85it/s]\n",
      "  0%|          | 0/1 [00:00<?, ?it/s]"
     ]
    },
    {
     "name": "stdout",
     "output_type": "stream",
     "text": [
      " pca p_levefr resahped:  (1, 104, 10)\n",
      "  body movement pa.p_lever projection:  (1, 104, 10)\n",
      "temp points:  (1311, 2)\n",
      "temp points:  (104, 2)\n",
      "plever:  (93, 2)\n",
      "FNAME LEVER:  /media/cat/4TBSSD/yuki/AQ2/tif_files/AQ2am_Jan29_30Hz/AQ2am_Jan29_30Hz_all_locs_selected.txt\n",
      "1 41 10\n"
     ]
    },
    {
     "name": "stderr",
     "output_type": "stream",
     "text": [
      "100%|██████████| 1/1 [00:00<00:00,  4.09it/s]\n",
      "/media/cat/4TBSSD/anaconda3/envs/wide/lib/python3.8/site-packages/numpy/core/_asarray.py:171: VisibleDeprecationWarning: Creating an ndarray from ragged nested sequences (which is a list-or-tuple of lists-or-tuples-or ndarrays with different lengths or shapes) is deprecated. If you meant to do this, you must specify 'dtype=object' when creating the ndarray.\n",
      "  return array(a, dtype, copy=False, order=order, subok=True)\n"
     ]
    },
    {
     "name": "stdout",
     "output_type": "stream",
     "text": [
      " pca p_levefr resahped:  (1, 41, 10)\n",
      "temp points:  (1311, 2)\n",
      "temp points:  (41, 2)\n",
      "plever:  (37, 2)\n",
      "pa.session_id 1:  AQ2pm_Jan29_30Hz\n",
      "session corrected:  AQ2pm_Jan29_30Hz\n",
      "(7,)\n",
      "['left_paw' 'right_paw' 'nose' 'jaw' 'right_ear' 'tongue' 'lever']\n",
      "pa.session_id 2:  AQ2pm_Jan29_30Hz\n",
      "starts:  [  6.26666667  18.53333333  26.93333333  41.13333333  45.\n",
      "  73.66666667  80.26666667 132.6        164.13333333 167.73333333]\n",
      "lever offset:  78\n",
      "SESSIONS:  ['am_Apr21_', 'am_Apr22_', 'am_Apr25_', 'am_Apr26_', 'am_Apr27_', 'am_Apr28_', 'am_Apr29_', 'am_Dec9_', 'am_Dec11_', 'am_Dec17_', 'am_Dec18_', 'am_Dec28_', 'am_Dec29_', 'am_Dec30_', 'am_Feb2_', 'am_Feb3_', 'am_Feb4_', 'am_Feb5_', 'am_Feb9_', 'am_Feb10_', 'am_Feb11_', 'am_Feb12_', 'am_Feb15_', 'am_Feb16_', 'am_Feb17_', 'am_Feb18_', 'am_Jan5_', 'am_Jan6_', 'am_Jan7_', 'am_Jan8_', 'am_Jan13_', 'am_Jan14_', 'am_Jan15_', 'am_Jan18_', 'am_Jan19_', 'am_Jan21_', 'am_Jan22_', 'am_Jan28_', 'am_Jan29_', 'pm_Dec16_', 'pm_Dec17_', 'pm_Jan11_', 'pm_Jan13_', 'pm_Jan14_', 'pm_Jan15_', 'pm_Jan18_', 'pm_Jan20_', 'pm_Jan21_', 'pm_Jan22_', 'pm_Jan26_', 'pm_Jan27_', 'pm_Jan28_', 'pm_Jan29_']\n",
      "SHIFT IDS:  ['2', '2', '2', '2', '2', '0', '2', '2', '1', '1', '2', '2', '1', '2', '2', '1', '1', '2', '1', '2', '2', '2', '1', '1', '1', '0', '1', '2', '2', '0', '2', '2', '2', '2', '0', '1', '0', '1', '1', '2', '2', '2', '2', '2', '2', '2', '2', '2', '1', '1', '1', '2', '1']\n",
      "pa.session_id:  AQ2pm_Jan29_30Hz\n",
      "SELF SHIFT ID:  1\n",
      " using shift:  1\n",
      "DLC SHIFT Loaded:  4.85\n",
      "DLC shift :  4.85   in frames:  145  after subtracting lever shift:  -67\n",
      " triggers:  (28,)\n",
      " data:  (40000, 128, 128)\n",
      "(39101, 128, 128)\n",
      "X:  (39101, 16384)\n"
     ]
    },
    {
     "name": "stderr",
     "output_type": "stream",
     "text": [
      "\r",
      "  0%|          | 0/1 [00:00<?, ?it/s]"
     ]
    },
    {
     "name": "stdout",
     "output_type": "stream",
     "text": [
      " X data using :  30  number of frames  (1301, 491520)\n",
      " pca allpoints:  (1301, 10)\n",
      "1 103 10\n"
     ]
    },
    {
     "name": "stderr",
     "output_type": "stream",
     "text": [
      "100%|██████████| 1/1 [00:00<00:00,  1.91it/s]\n",
      "  0%|          | 0/1 [00:00<?, ?it/s]"
     ]
    },
    {
     "name": "stdout",
     "output_type": "stream",
     "text": [
      " pca p_levefr resahped:  (1, 97, 10)\n",
      "  body movement pa.p_lever projection:  (1, 97, 10)\n",
      "temp points:  (1301, 2)\n",
      "temp points:  (97, 2)\n",
      "plever:  (87, 2)\n",
      "1 85 10\n"
     ]
    },
    {
     "name": "stderr",
     "output_type": "stream",
     "text": [
      "100%|██████████| 1/1 [00:00<00:00,  2.13it/s]\n",
      "  0%|          | 0/1 [00:00<?, ?it/s]"
     ]
    },
    {
     "name": "stdout",
     "output_type": "stream",
     "text": [
      " pca p_levefr resahped:  (1, 83, 10)\n",
      "  body movement pa.p_lever projection:  (1, 83, 10)\n",
      "temp points:  (1301, 2)\n",
      "temp points:  (83, 2)\n",
      "plever:  (74, 2)\n",
      "1 68 10\n"
     ]
    },
    {
     "name": "stderr",
     "output_type": "stream",
     "text": [
      "100%|██████████| 1/1 [00:00<00:00,  2.64it/s]\n",
      "100%|██████████| 1/1 [00:00<00:00, 36.87it/s]\n",
      "/media/cat/4TBSSD/anaconda3/envs/wide/lib/python3.8/site-packages/numpy/lib/function_base.py:3961: RuntimeWarning: invalid value encountered in subtract\n",
      "  diff_b_a = subtract(b, a)\n",
      "  0%|          | 0/1 [00:00<?, ?it/s]"
     ]
    },
    {
     "name": "stdout",
     "output_type": "stream",
     "text": [
      " pca p_levefr resahped:  (1, 65, 10)\n",
      "  body movement pa.p_lever projection:  (1, 65, 10)\n",
      "temp points:  (1301, 2)\n",
      "temp points:  (65, 2)\n",
      "plever:  (58, 2)\n",
      "1 3 10\n",
      " pca p_levefr resahped:  (1, 3, 10)\n",
      "  body movement pa.p_lever projection:  (1, 3, 10)\n",
      "temp points:  (1301, 2)\n",
      "temp points:  (3, 2)\n",
      "plever:  (0, 2)\n",
      "1 87 10\n"
     ]
    },
    {
     "name": "stderr",
     "output_type": "stream",
     "text": [
      "100%|██████████| 1/1 [00:00<00:00,  2.37it/s]\n",
      "  0%|          | 0/1 [00:00<?, ?it/s]"
     ]
    },
    {
     "name": "stdout",
     "output_type": "stream",
     "text": [
      " pca p_levefr resahped:  (1, 81, 10)\n",
      "  body movement pa.p_lever projection:  (1, 81, 10)\n",
      "temp points:  (1301, 2)\n",
      "temp points:  (81, 2)\n",
      "plever:  (73, 2)\n",
      "FNAME LEVER:  /media/cat/4TBSSD/yuki/AQ2/tif_files/AQ2pm_Jan29_30Hz/AQ2pm_Jan29_30Hz_all_locs_selected.txt\n",
      "1 51 10\n"
     ]
    },
    {
     "name": "stderr",
     "output_type": "stream",
     "text": [
      "100%|██████████| 1/1 [00:00<00:00,  3.23it/s]\n",
      "/media/cat/4TBSSD/anaconda3/envs/wide/lib/python3.8/site-packages/numpy/core/_asarray.py:171: VisibleDeprecationWarning: Creating an ndarray from ragged nested sequences (which is a list-or-tuple of lists-or-tuples-or ndarrays with different lengths or shapes) is deprecated. If you meant to do this, you must specify 'dtype=object' when creating the ndarray.\n",
      "  return array(a, dtype, copy=False, order=order, subok=True)\n"
     ]
    },
    {
     "name": "stdout",
     "output_type": "stream",
     "text": [
      " pca p_levefr resahped:  (1, 51, 10)\n",
      "temp points:  (1301, 2)\n",
      "temp points:  (51, 2)\n",
      "plever:  (46, 2)\n",
      "pa.session_id 1:  AQ2am_Feb2_30Hz\n",
      "session corrected:  AQ2am_Feb2_30Hz\n",
      "(7,)\n",
      "['left_paw' 'right_paw' 'nose' 'jaw' 'right_ear' 'tongue' 'lever']\n",
      "pa.session_id 2:  AQ2am_Feb2_30Hz\n",
      "starts:  [ 12.2         25.4         29.33333333  40.13333333  59.8\n",
      "  70.46666667  74.46666667  87.2        107.86666667 115.33333333]\n",
      "lever offset:  72\n",
      "SESSIONS:  ['am_Apr21_', 'am_Apr22_', 'am_Apr25_', 'am_Apr26_', 'am_Apr27_', 'am_Apr28_', 'am_Apr29_', 'am_Dec9_', 'am_Dec11_', 'am_Dec17_', 'am_Dec18_', 'am_Dec28_', 'am_Dec29_', 'am_Dec30_', 'am_Feb2_', 'am_Feb3_', 'am_Feb4_', 'am_Feb5_', 'am_Feb9_', 'am_Feb10_', 'am_Feb11_', 'am_Feb12_', 'am_Feb15_', 'am_Feb16_', 'am_Feb17_', 'am_Feb18_', 'am_Jan5_', 'am_Jan6_', 'am_Jan7_', 'am_Jan8_', 'am_Jan13_', 'am_Jan14_', 'am_Jan15_', 'am_Jan18_', 'am_Jan19_', 'am_Jan21_', 'am_Jan22_', 'am_Jan28_', 'am_Jan29_', 'pm_Dec16_', 'pm_Dec17_', 'pm_Jan11_', 'pm_Jan13_', 'pm_Jan14_', 'pm_Jan15_', 'pm_Jan18_', 'pm_Jan20_', 'pm_Jan21_', 'pm_Jan22_', 'pm_Jan26_', 'pm_Jan27_', 'pm_Jan28_', 'pm_Jan29_']\n",
      "SHIFT IDS:  ['2', '2', '2', '2', '2', '0', '2', '2', '1', '1', '2', '2', '1', '2', '2', '1', '1', '2', '1', '2', '2', '2', '1', '1', '1', '0', '1', '2', '2', '0', '2', '2', '2', '2', '0', '1', '0', '1', '1', '2', '2', '2', '2', '2', '2', '2', '2', '2', '1', '1', '1', '2', '1']\n",
      "pa.session_id:  AQ2am_Feb2_30Hz\n",
      "SELF SHIFT ID:  2\n",
      " using shift:  2\n",
      "DLC SHIFT Loaded:  4.09\n",
      "DLC shift :  4.09   in frames:  122  after subtracting lever shift:  -50\n",
      " triggers:  (46,)\n",
      " data:  (40000, 128, 128)\n",
      "(39233, 128, 128)\n",
      "X:  (39233, 16384)\n"
     ]
    },
    {
     "name": "stderr",
     "output_type": "stream",
     "text": [
      "\r",
      "  0%|          | 0/1 [00:00<?, ?it/s]"
     ]
    },
    {
     "name": "stdout",
     "output_type": "stream",
     "text": [
      " X data using :  30  number of frames  (1305, 491520)\n",
      " pca allpoints:  (1305, 10)\n",
      "1 110 10\n"
     ]
    },
    {
     "name": "stderr",
     "output_type": "stream",
     "text": [
      "100%|██████████| 1/1 [00:00<00:00,  1.70it/s]\n",
      "  0%|          | 0/1 [00:00<?, ?it/s]"
     ]
    },
    {
     "name": "stdout",
     "output_type": "stream",
     "text": [
      " pca p_levefr resahped:  (1, 109, 10)\n",
      "  body movement pa.p_lever projection:  (1, 109, 10)\n",
      "temp points:  (1305, 2)\n",
      "temp points:  (109, 2)\n",
      "plever:  (98, 2)\n",
      "1 80 10\n"
     ]
    },
    {
     "name": "stderr",
     "output_type": "stream",
     "text": [
      "100%|██████████| 1/1 [00:00<00:00,  2.28it/s]\n",
      "  0%|          | 0/1 [00:00<?, ?it/s]"
     ]
    },
    {
     "name": "stdout",
     "output_type": "stream",
     "text": [
      " pca p_levefr resahped:  (1, 80, 10)\n",
      "  body movement pa.p_lever projection:  (1, 80, 10)\n",
      "temp points:  (1305, 2)\n",
      "temp points:  (80, 2)\n",
      "plever:  (72, 2)\n",
      "1 130 10\n"
     ]
    },
    {
     "name": "stderr",
     "output_type": "stream",
     "text": [
      "100%|██████████| 1/1 [00:00<00:00,  1.47it/s]\n",
      "100%|██████████| 1/1 [00:00<00:00,  5.94it/s]\n",
      "  0%|          | 0/1 [00:00<?, ?it/s]"
     ]
    },
    {
     "name": "stdout",
     "output_type": "stream",
     "text": [
      " pca p_levefr resahped:  (1, 127, 10)\n",
      "  body movement pa.p_lever projection:  (1, 127, 10)\n",
      "temp points:  (1305, 2)\n",
      "temp points:  (127, 2)\n",
      "plever:  (114, 2)\n",
      "1 25 10\n",
      " pca p_levefr resahped:  (1, 25, 10)\n",
      "  body movement pa.p_lever projection:  (1, 25, 10)\n",
      "temp points:  (1305, 2)\n",
      "temp points:  (25, 2)\n",
      "plever:  (22, 2)\n",
      "1 56 10\n"
     ]
    },
    {
     "name": "stderr",
     "output_type": "stream",
     "text": [
      "100%|██████████| 1/1 [00:00<00:00,  2.95it/s]\n",
      "  0%|          | 0/1 [00:00<?, ?it/s]"
     ]
    },
    {
     "name": "stdout",
     "output_type": "stream",
     "text": [
      " pca p_levefr resahped:  (1, 56, 10)\n",
      "  body movement pa.p_lever projection:  (1, 56, 10)\n",
      "temp points:  (1305, 2)\n",
      "temp points:  (56, 2)\n",
      "plever:  (50, 2)\n",
      "FNAME LEVER:  /media/cat/4TBSSD/yuki/AQ2/tif_files/AQ2am_Feb2_30Hz/AQ2am_Feb2_30Hz_all_locs_selected.txt\n",
      "1 68 10\n"
     ]
    },
    {
     "name": "stderr",
     "output_type": "stream",
     "text": [
      "100%|██████████| 1/1 [00:00<00:00,  2.56it/s]\n",
      "/media/cat/4TBSSD/anaconda3/envs/wide/lib/python3.8/site-packages/numpy/core/_asarray.py:171: VisibleDeprecationWarning: Creating an ndarray from ragged nested sequences (which is a list-or-tuple of lists-or-tuples-or ndarrays with different lengths or shapes) is deprecated. If you meant to do this, you must specify 'dtype=object' when creating the ndarray.\n",
      "  return array(a, dtype, copy=False, order=order, subok=True)\n"
     ]
    },
    {
     "name": "stdout",
     "output_type": "stream",
     "text": [
      " pca p_levefr resahped:  (1, 68, 10)\n",
      "temp points:  (1305, 2)\n",
      "temp points:  (68, 2)\n",
      "plever:  (61, 2)\n",
      "pa.session_id 1:  AQ2am_Feb3_30Hz\n",
      "session corrected:  AQ2am_Feb3_30Hz\n",
      "(7,)\n",
      "['left_paw' 'right_paw' 'nose' 'jaw' 'right_ear' 'tongue' 'lever']\n",
      "pa.session_id 2:  AQ2am_Feb3_30Hz\n",
      "starts:  [ 44.8         53.86666667  59.46666667  78.46666667  90.8\n",
      "  97.93333333 107.33333333 121.66666667 129.73333333 143.86666667]\n",
      "lever offset:  86\n",
      "SESSIONS:  ['am_Apr21_', 'am_Apr22_', 'am_Apr25_', 'am_Apr26_', 'am_Apr27_', 'am_Apr28_', 'am_Apr29_', 'am_Dec9_', 'am_Dec11_', 'am_Dec17_', 'am_Dec18_', 'am_Dec28_', 'am_Dec29_', 'am_Dec30_', 'am_Feb2_', 'am_Feb3_', 'am_Feb4_', 'am_Feb5_', 'am_Feb9_', 'am_Feb10_', 'am_Feb11_', 'am_Feb12_', 'am_Feb15_', 'am_Feb16_', 'am_Feb17_', 'am_Feb18_', 'am_Jan5_', 'am_Jan6_', 'am_Jan7_', 'am_Jan8_', 'am_Jan13_', 'am_Jan14_', 'am_Jan15_', 'am_Jan18_', 'am_Jan19_', 'am_Jan21_', 'am_Jan22_', 'am_Jan28_', 'am_Jan29_', 'pm_Dec16_', 'pm_Dec17_', 'pm_Jan11_', 'pm_Jan13_', 'pm_Jan14_', 'pm_Jan15_', 'pm_Jan18_', 'pm_Jan20_', 'pm_Jan21_', 'pm_Jan22_', 'pm_Jan26_', 'pm_Jan27_', 'pm_Jan28_', 'pm_Jan29_']\n",
      "SHIFT IDS:  ['2', '2', '2', '2', '2', '0', '2', '2', '1', '1', '2', '2', '1', '2', '2', '1', '1', '2', '1', '2', '2', '2', '1', '1', '1', '0', '1', '2', '2', '0', '2', '2', '2', '2', '0', '1', '0', '1', '1', '2', '2', '2', '2', '2', '2', '2', '2', '2', '1', '1', '1', '2', '1']\n",
      "pa.session_id:  AQ2am_Feb3_30Hz\n",
      "SELF SHIFT ID:  1\n",
      " using shift:  1\n",
      "DLC SHIFT Loaded:  4.12\n",
      "DLC shift :  4.12   in frames:  123  after subtracting lever shift:  -37\n",
      " triggers:  (52,)\n",
      " data:  (40000, 128, 128)\n",
      "(39030, 128, 128)\n",
      "X:  (39030, 16384)\n"
     ]
    },
    {
     "name": "stderr",
     "output_type": "stream",
     "text": [
      "\r",
      "  0%|          | 0/1 [00:00<?, ?it/s]"
     ]
    },
    {
     "name": "stdout",
     "output_type": "stream",
     "text": [
      " X data using :  30  number of frames  (1298, 491520)\n",
      " pca allpoints:  (1298, 10)\n",
      "1 102 10\n"
     ]
    },
    {
     "name": "stderr",
     "output_type": "stream",
     "text": [
      "100%|██████████| 1/1 [00:00<00:00,  1.62it/s]\n",
      "  0%|          | 0/1 [00:00<?, ?it/s]"
     ]
    },
    {
     "name": "stdout",
     "output_type": "stream",
     "text": [
      " pca p_levefr resahped:  (1, 100, 10)\n",
      "  body movement pa.p_lever projection:  (1, 100, 10)\n",
      "temp points:  (1298, 2)\n",
      "temp points:  (100, 2)\n",
      "plever:  (90, 2)\n",
      "1 76 10\n"
     ]
    },
    {
     "name": "stderr",
     "output_type": "stream",
     "text": [
      "100%|██████████| 1/1 [00:00<00:00,  2.32it/s]\n",
      "  0%|          | 0/1 [00:00<?, ?it/s]"
     ]
    },
    {
     "name": "stdout",
     "output_type": "stream",
     "text": [
      " pca p_levefr resahped:  (1, 76, 10)\n",
      "  body movement pa.p_lever projection:  (1, 76, 10)\n",
      "temp points:  (1298, 2)\n",
      "temp points:  (76, 2)\n",
      "plever:  (68, 2)\n",
      "1 137 10\n"
     ]
    },
    {
     "name": "stderr",
     "output_type": "stream",
     "text": [
      "100%|██████████| 1/1 [00:00<00:00,  1.23it/s]\n",
      "100%|██████████| 1/1 [00:00<00:00, 44.15it/s]\n",
      "/media/cat/4TBSSD/anaconda3/envs/wide/lib/python3.8/site-packages/numpy/lib/function_base.py:3961: RuntimeWarning: invalid value encountered in subtract\n",
      "  diff_b_a = subtract(b, a)\n",
      "  0%|          | 0/1 [00:00<?, ?it/s]"
     ]
    },
    {
     "name": "stdout",
     "output_type": "stream",
     "text": [
      " pca p_levefr resahped:  (1, 135, 10)\n",
      "  body movement pa.p_lever projection:  (1, 135, 10)\n",
      "temp points:  (1298, 2)\n",
      "temp points:  (135, 2)\n",
      "plever:  (121, 2)\n",
      "1 2 10\n",
      " pca p_levefr resahped:  (1, 2, 10)\n",
      "  body movement pa.p_lever projection:  (1, 2, 10)\n",
      "temp points:  (1298, 2)\n",
      "temp points:  (2, 2)\n",
      "plever:  (0, 2)\n",
      "1 25 10\n"
     ]
    },
    {
     "name": "stderr",
     "output_type": "stream",
     "text": [
      "100%|██████████| 1/1 [00:00<00:00,  5.58it/s]\n",
      "  0%|          | 0/1 [00:00<?, ?it/s]"
     ]
    },
    {
     "name": "stdout",
     "output_type": "stream",
     "text": [
      " pca p_levefr resahped:  (1, 25, 10)\n",
      "  body movement pa.p_lever projection:  (1, 25, 10)\n",
      "temp points:  (1298, 2)\n",
      "temp points:  (25, 2)\n",
      "plever:  (22, 2)\n",
      "FNAME LEVER:  /media/cat/4TBSSD/yuki/AQ2/tif_files/AQ2am_Feb3_30Hz/AQ2am_Feb3_30Hz_all_locs_selected.txt\n",
      "1 79 10\n"
     ]
    },
    {
     "name": "stderr",
     "output_type": "stream",
     "text": [
      "100%|██████████| 1/1 [00:00<00:00,  1.97it/s]\n",
      "/media/cat/4TBSSD/anaconda3/envs/wide/lib/python3.8/site-packages/numpy/core/_asarray.py:171: VisibleDeprecationWarning: Creating an ndarray from ragged nested sequences (which is a list-or-tuple of lists-or-tuples-or ndarrays with different lengths or shapes) is deprecated. If you meant to do this, you must specify 'dtype=object' when creating the ndarray.\n",
      "  return array(a, dtype, copy=False, order=order, subok=True)\n"
     ]
    },
    {
     "name": "stdout",
     "output_type": "stream",
     "text": [
      " pca p_levefr resahped:  (1, 79, 10)\n",
      "temp points:  (1298, 2)\n",
      "temp points:  (79, 2)\n",
      "plever:  (71, 2)\n",
      "pa.session_id 1:  AQ2am_Feb4_30Hz\n",
      "session corrected:  AQ2am_Feb4_30Hz\n",
      "(7,)\n",
      "['left_paw' 'right_paw' 'nose' 'jaw' 'right_ear' 'tongue' 'lever']\n",
      "pa.session_id 2:  AQ2am_Feb4_30Hz\n",
      "starts:  [ 41.86666667  67.33333333  74.6         78.26666667  94.46666667\n",
      " 121.46666667 142.4        158.73333333 202.2        238.33333333]\n",
      "lever offset:  90\n",
      "SESSIONS:  ['am_Apr21_', 'am_Apr22_', 'am_Apr25_', 'am_Apr26_', 'am_Apr27_', 'am_Apr28_', 'am_Apr29_', 'am_Dec9_', 'am_Dec11_', 'am_Dec17_', 'am_Dec18_', 'am_Dec28_', 'am_Dec29_', 'am_Dec30_', 'am_Feb2_', 'am_Feb3_', 'am_Feb4_', 'am_Feb5_', 'am_Feb9_', 'am_Feb10_', 'am_Feb11_', 'am_Feb12_', 'am_Feb15_', 'am_Feb16_', 'am_Feb17_', 'am_Feb18_', 'am_Jan5_', 'am_Jan6_', 'am_Jan7_', 'am_Jan8_', 'am_Jan13_', 'am_Jan14_', 'am_Jan15_', 'am_Jan18_', 'am_Jan19_', 'am_Jan21_', 'am_Jan22_', 'am_Jan28_', 'am_Jan29_', 'pm_Dec16_', 'pm_Dec17_', 'pm_Jan11_', 'pm_Jan13_', 'pm_Jan14_', 'pm_Jan15_', 'pm_Jan18_', 'pm_Jan20_', 'pm_Jan21_', 'pm_Jan22_', 'pm_Jan26_', 'pm_Jan27_', 'pm_Jan28_', 'pm_Jan29_']\n",
      "SHIFT IDS:  ['2', '2', '2', '2', '2', '0', '2', '2', '1', '1', '2', '2', '1', '2', '2', '1', '1', '2', '1', '2', '2', '2', '1', '1', '1', '0', '1', '2', '2', '0', '2', '2', '2', '2', '0', '1', '0', '1', '1', '2', '2', '2', '2', '2', '2', '2', '2', '2', '1', '1', '1', '2', '1']\n",
      "pa.session_id:  AQ2am_Feb4_30Hz\n",
      "SELF SHIFT ID:  1\n",
      " using shift:  1\n",
      "DLC SHIFT Loaded:  5.42\n",
      "DLC shift :  5.42   in frames:  162  after subtracting lever shift:  -72\n",
      " triggers:  (21,)\n",
      " data:  (40000, 128, 128)\n",
      "(39489, 128, 128)\n",
      "X:  (39489, 16384)\n"
     ]
    },
    {
     "name": "stderr",
     "output_type": "stream",
     "text": [
      "\r",
      "  0%|          | 0/1 [00:00<?, ?it/s]"
     ]
    },
    {
     "name": "stdout",
     "output_type": "stream",
     "text": [
      " X data using :  30  number of frames  (1313, 491520)\n",
      " pca allpoints:  (1313, 10)\n",
      "1 61 10\n"
     ]
    },
    {
     "name": "stderr",
     "output_type": "stream",
     "text": [
      "100%|██████████| 1/1 [00:00<00:00,  3.14it/s]\n",
      "  0%|          | 0/1 [00:00<?, ?it/s]"
     ]
    },
    {
     "name": "stdout",
     "output_type": "stream",
     "text": [
      " pca p_levefr resahped:  (1, 59, 10)\n",
      "  body movement pa.p_lever projection:  (1, 59, 10)\n",
      "temp points:  (1313, 2)\n",
      "temp points:  (59, 2)\n",
      "plever:  (53, 2)\n",
      "1 41 10\n"
     ]
    },
    {
     "name": "stderr",
     "output_type": "stream",
     "text": [
      "100%|██████████| 1/1 [00:00<00:00,  3.79it/s]\n",
      "  0%|          | 0/1 [00:00<?, ?it/s]"
     ]
    },
    {
     "name": "stdout",
     "output_type": "stream",
     "text": [
      " pca p_levefr resahped:  (1, 40, 10)\n",
      "  body movement pa.p_lever projection:  (1, 40, 10)\n",
      "temp points:  (1313, 2)\n",
      "temp points:  (40, 2)\n",
      "plever:  (36, 2)\n",
      "1 99 10\n"
     ]
    },
    {
     "name": "stderr",
     "output_type": "stream",
     "text": [
      "100%|██████████| 1/1 [00:00<00:00,  2.01it/s]\n",
      "100%|██████████| 1/1 [00:00<00:00, 54.17it/s]\n",
      "/media/cat/4TBSSD/anaconda3/envs/wide/lib/python3.8/site-packages/numpy/lib/function_base.py:3961: RuntimeWarning: invalid value encountered in subtract\n",
      "  diff_b_a = subtract(b, a)\n",
      "  0%|          | 0/1 [00:00<?, ?it/s]"
     ]
    },
    {
     "name": "stdout",
     "output_type": "stream",
     "text": [
      " pca p_levefr resahped:  (1, 95, 10)\n",
      "  body movement pa.p_lever projection:  (1, 95, 10)\n",
      "temp points:  (1313, 2)\n",
      "temp points:  (95, 2)\n",
      "plever:  (85, 2)\n",
      "1 2 10\n",
      " pca p_levefr resahped:  (1, 2, 10)\n",
      "  body movement pa.p_lever projection:  (1, 2, 10)\n",
      "temp points:  (1313, 2)\n",
      "temp points:  (2, 2)\n",
      "plever:  (0, 2)\n",
      "1 41 10\n"
     ]
    },
    {
     "name": "stderr",
     "output_type": "stream",
     "text": [
      "100%|██████████| 1/1 [00:00<00:00,  4.29it/s]\n",
      "100%|██████████| 1/1 [00:00<00:00,  8.54it/s]\n",
      "/media/cat/4TBSSD/anaconda3/envs/wide/lib/python3.8/site-packages/numpy/core/_asarray.py:171: VisibleDeprecationWarning: Creating an ndarray from ragged nested sequences (which is a list-or-tuple of lists-or-tuples-or ndarrays with different lengths or shapes) is deprecated. If you meant to do this, you must specify 'dtype=object' when creating the ndarray.\n",
      "  return array(a, dtype, copy=False, order=order, subok=True)\n"
     ]
    },
    {
     "name": "stdout",
     "output_type": "stream",
     "text": [
      " pca p_levefr resahped:  (1, 40, 10)\n",
      "  body movement pa.p_lever projection:  (1, 40, 10)\n",
      "temp points:  (1313, 2)\n",
      "temp points:  (40, 2)\n",
      "plever:  (36, 2)\n",
      "FNAME LEVER:  /media/cat/4TBSSD/yuki/AQ2/tif_files/AQ2am_Feb4_30Hz/AQ2am_Feb4_30Hz_all_locs_selected.txt\n",
      "1 21 10\n",
      " pca p_levefr resahped:  (1, 21, 10)\n",
      "temp points:  (1313, 2)\n",
      "temp points:  (21, 2)\n",
      "plever:  (19, 2)\n",
      "pa.session_id 1:  AQ2am_Feb5_30Hz\n",
      "session corrected:  AQ2am_Feb5_30Hz\n",
      "(7,)\n",
      "['left_paw' 'right_paw' 'nose' 'jaw' 'right_ear' 'tongue' 'lever']\n",
      "pa.session_id 2:  AQ2am_Feb5_30Hz\n",
      "starts:  [ 51.53333333  59.33333333  71.33333333  79.86666667  85.6\n",
      " 105.13333333 110.66666667 121.8        127.8        134.4       ]\n",
      "lever offset:  89\n",
      "SESSIONS:  ['am_Apr21_', 'am_Apr22_', 'am_Apr25_', 'am_Apr26_', 'am_Apr27_', 'am_Apr28_', 'am_Apr29_', 'am_Dec9_', 'am_Dec11_', 'am_Dec17_', 'am_Dec18_', 'am_Dec28_', 'am_Dec29_', 'am_Dec30_', 'am_Feb2_', 'am_Feb3_', 'am_Feb4_', 'am_Feb5_', 'am_Feb9_', 'am_Feb10_', 'am_Feb11_', 'am_Feb12_', 'am_Feb15_', 'am_Feb16_', 'am_Feb17_', 'am_Feb18_', 'am_Jan5_', 'am_Jan6_', 'am_Jan7_', 'am_Jan8_', 'am_Jan13_', 'am_Jan14_', 'am_Jan15_', 'am_Jan18_', 'am_Jan19_', 'am_Jan21_', 'am_Jan22_', 'am_Jan28_', 'am_Jan29_', 'pm_Dec16_', 'pm_Dec17_', 'pm_Jan11_', 'pm_Jan13_', 'pm_Jan14_', 'pm_Jan15_', 'pm_Jan18_', 'pm_Jan20_', 'pm_Jan21_', 'pm_Jan22_', 'pm_Jan26_', 'pm_Jan27_', 'pm_Jan28_', 'pm_Jan29_']\n",
      "SHIFT IDS:  ['2', '2', '2', '2', '2', '0', '2', '2', '1', '1', '2', '2', '1', '2', '2', '1', '1', '2', '1', '2', '2', '2', '1', '1', '1', '0', '1', '2', '2', '0', '2', '2', '2', '2', '0', '1', '0', '1', '1', '2', '2', '2', '2', '2', '2', '2', '2', '2', '1', '1', '1', '2', '1']\n",
      "pa.session_id:  AQ2am_Feb5_30Hz\n",
      "SELF SHIFT ID:  2\n",
      " using shift:  2\n",
      "DLC SHIFT Loaded:  5.11\n",
      "DLC shift :  5.11   in frames:  153  after subtracting lever shift:  -64\n",
      " triggers:  (52,)\n",
      " data:  (40000, 128, 128)\n",
      "(39288, 128, 128)\n",
      "X:  (39288, 16384)\n"
     ]
    },
    {
     "name": "stderr",
     "output_type": "stream",
     "text": [
      "\r",
      "  0%|          | 0/1 [00:00<?, ?it/s]"
     ]
    },
    {
     "name": "stdout",
     "output_type": "stream",
     "text": [
      " X data using :  30  number of frames  (1307, 491520)\n",
      " pca allpoints:  (1307, 10)\n",
      "1 78 10\n"
     ]
    },
    {
     "name": "stderr",
     "output_type": "stream",
     "text": [
      "100%|██████████| 1/1 [00:00<00:00,  2.48it/s]\n",
      "  0%|          | 0/1 [00:00<?, ?it/s]"
     ]
    },
    {
     "name": "stdout",
     "output_type": "stream",
     "text": [
      " pca p_levefr resahped:  (1, 74, 10)\n",
      "  body movement pa.p_lever projection:  (1, 74, 10)\n",
      "temp points:  (1307, 2)\n",
      "temp points:  (74, 2)\n",
      "plever:  (66, 2)\n",
      "1 68 10\n"
     ]
    },
    {
     "name": "stderr",
     "output_type": "stream",
     "text": [
      "100%|██████████| 1/1 [00:00<00:00,  2.56it/s]\n",
      "  0%|          | 0/1 [00:00<?, ?it/s]"
     ]
    },
    {
     "name": "stdout",
     "output_type": "stream",
     "text": [
      " pca p_levefr resahped:  (1, 64, 10)\n",
      "  body movement pa.p_lever projection:  (1, 64, 10)\n",
      "temp points:  (1307, 2)\n",
      "temp points:  (64, 2)\n",
      "plever:  (57, 2)\n",
      "1 44 10\n"
     ]
    },
    {
     "name": "stderr",
     "output_type": "stream",
     "text": [
      "100%|██████████| 1/1 [00:00<00:00,  4.61it/s]\n",
      "100%|██████████| 1/1 [00:00<00:00, 45.72it/s]\n",
      "/media/cat/4TBSSD/anaconda3/envs/wide/lib/python3.8/site-packages/numpy/lib/function_base.py:3961: RuntimeWarning: invalid value encountered in subtract\n",
      "  diff_b_a = subtract(b, a)\n",
      "100%|██████████| 1/1 [00:00<00:00, 17.82it/s]\n",
      "  0%|          | 0/1 [00:00<?, ?it/s]"
     ]
    },
    {
     "name": "stdout",
     "output_type": "stream",
     "text": [
      " pca p_levefr resahped:  (1, 41, 10)\n",
      "  body movement pa.p_lever projection:  (1, 41, 10)\n",
      "temp points:  (1307, 2)\n",
      "temp points:  (41, 2)\n",
      "plever:  (37, 2)\n",
      "1 3 10\n",
      " pca p_levefr resahped:  (1, 3, 10)\n",
      "  body movement pa.p_lever projection:  (1, 3, 10)\n",
      "temp points:  (1307, 2)\n",
      "temp points:  (3, 2)\n",
      "plever:  (0, 2)\n",
      "1 10 10\n",
      " pca p_levefr resahped:  (1, 9, 10)\n",
      "  body movement pa.p_lever projection:  (1, 9, 10)\n",
      "temp points:  (1307, 2)\n",
      "temp points:  (9, 2)\n",
      "plever:  (8, 2)\n",
      "FNAME LEVER:  /media/cat/4TBSSD/yuki/AQ2/tif_files/AQ2am_Feb5_30Hz/AQ2am_Feb5_30Hz_all_locs_selected.txt\n",
      "1 74 10\n"
     ]
    },
    {
     "name": "stderr",
     "output_type": "stream",
     "text": [
      "100%|██████████| 1/1 [00:00<00:00,  2.45it/s]\n",
      "/media/cat/4TBSSD/anaconda3/envs/wide/lib/python3.8/site-packages/numpy/core/_asarray.py:171: VisibleDeprecationWarning: Creating an ndarray from ragged nested sequences (which is a list-or-tuple of lists-or-tuples-or ndarrays with different lengths or shapes) is deprecated. If you meant to do this, you must specify 'dtype=object' when creating the ndarray.\n",
      "  return array(a, dtype, copy=False, order=order, subok=True)\n"
     ]
    },
    {
     "name": "stdout",
     "output_type": "stream",
     "text": [
      " pca p_levefr resahped:  (1, 74, 10)\n",
      "temp points:  (1307, 2)\n",
      "temp points:  (74, 2)\n",
      "plever:  (66, 2)\n",
      "pa.session_id 1:  AQ2am_Feb9_30Hz\n",
      "session corrected:  AQ2am_Feb9_30Hz\n",
      "(7,)\n",
      "['left_paw' 'right_paw' 'nose' 'jaw' 'right_ear' 'tongue' 'lever']\n",
      "pa.session_id 2:  AQ2am_Feb9_30Hz\n",
      "starts:  [  8.4         27.2         74.53333333  94.13333333 132.26666667\n",
      " 141.8        167.06666667 182.66666667 202.93333333 208.26666667]\n",
      "lever offset:  94\n",
      "SESSIONS:  ['am_Apr21_', 'am_Apr22_', 'am_Apr25_', 'am_Apr26_', 'am_Apr27_', 'am_Apr28_', 'am_Apr29_', 'am_Dec9_', 'am_Dec11_', 'am_Dec17_', 'am_Dec18_', 'am_Dec28_', 'am_Dec29_', 'am_Dec30_', 'am_Feb2_', 'am_Feb3_', 'am_Feb4_', 'am_Feb5_', 'am_Feb9_', 'am_Feb10_', 'am_Feb11_', 'am_Feb12_', 'am_Feb15_', 'am_Feb16_', 'am_Feb17_', 'am_Feb18_', 'am_Jan5_', 'am_Jan6_', 'am_Jan7_', 'am_Jan8_', 'am_Jan13_', 'am_Jan14_', 'am_Jan15_', 'am_Jan18_', 'am_Jan19_', 'am_Jan21_', 'am_Jan22_', 'am_Jan28_', 'am_Jan29_', 'pm_Dec16_', 'pm_Dec17_', 'pm_Jan11_', 'pm_Jan13_', 'pm_Jan14_', 'pm_Jan15_', 'pm_Jan18_', 'pm_Jan20_', 'pm_Jan21_', 'pm_Jan22_', 'pm_Jan26_', 'pm_Jan27_', 'pm_Jan28_', 'pm_Jan29_']\n",
      "SHIFT IDS:  ['2', '2', '2', '2', '2', '0', '2', '2', '1', '1', '2', '2', '1', '2', '2', '1', '1', '2', '1', '2', '2', '2', '1', '1', '1', '0', '1', '2', '2', '0', '2', '2', '2', '2', '0', '1', '0', '1', '1', '2', '2', '2', '2', '2', '2', '2', '2', '2', '1', '1', '1', '2', '1']\n",
      "pa.session_id:  AQ2am_Feb9_30Hz\n",
      "SELF SHIFT ID:  1\n",
      " using shift:  1\n",
      "DLC SHIFT Loaded:  4.24\n",
      "DLC shift :  4.24   in frames:  127  after subtracting lever shift:  -33\n",
      " triggers:  (47,)\n",
      " data:  (40000, 128, 128)\n",
      "(39631, 128, 128)\n",
      "X:  (39631, 16384)\n"
     ]
    },
    {
     "name": "stderr",
     "output_type": "stream",
     "text": [
      "\r",
      "  0%|          | 0/1 [00:00<?, ?it/s]"
     ]
    },
    {
     "name": "stdout",
     "output_type": "stream",
     "text": [
      " X data using :  30  number of frames  (1318, 491520)\n",
      " pca allpoints:  (1318, 10)\n",
      "1 73 10\n"
     ]
    },
    {
     "name": "stderr",
     "output_type": "stream",
     "text": [
      "100%|██████████| 1/1 [00:00<00:00,  2.48it/s]\n",
      "  0%|          | 0/1 [00:00<?, ?it/s]"
     ]
    },
    {
     "name": "stdout",
     "output_type": "stream",
     "text": [
      " pca p_levefr resahped:  (1, 70, 10)\n",
      "  body movement pa.p_lever projection:  (1, 70, 10)\n",
      "temp points:  (1318, 2)\n",
      "temp points:  (70, 2)\n",
      "plever:  (63, 2)\n",
      "1 70 10\n"
     ]
    },
    {
     "name": "stderr",
     "output_type": "stream",
     "text": [
      "100%|██████████| 1/1 [00:00<00:00,  2.52it/s]\n",
      "  0%|          | 0/1 [00:00<?, ?it/s]"
     ]
    },
    {
     "name": "stdout",
     "output_type": "stream",
     "text": [
      " pca p_levefr resahped:  (1, 66, 10)\n",
      "  body movement pa.p_lever projection:  (1, 66, 10)\n",
      "temp points:  (1318, 2)\n",
      "temp points:  (66, 2)\n",
      "plever:  (59, 2)\n",
      "1 63 10\n"
     ]
    },
    {
     "name": "stderr",
     "output_type": "stream",
     "text": [
      "100%|██████████| 1/1 [00:00<00:00,  2.92it/s]\n",
      "100%|██████████| 1/1 [00:00<00:00, 14.59it/s]\n",
      "  0%|          | 0/1 [00:00<?, ?it/s]"
     ]
    },
    {
     "name": "stdout",
     "output_type": "stream",
     "text": [
      " pca p_levefr resahped:  (1, 60, 10)\n",
      "  body movement pa.p_lever projection:  (1, 60, 10)\n",
      "temp points:  (1318, 2)\n",
      "temp points:  (60, 2)\n",
      "plever:  (54, 2)\n",
      "1 7 10\n",
      " pca p_levefr resahped:  (1, 6, 10)\n",
      "  body movement pa.p_lever projection:  (1, 6, 10)\n",
      "temp points:  (1318, 2)\n",
      "temp points:  (6, 2)\n",
      "plever:  (5, 2)\n",
      "1 41 10\n"
     ]
    },
    {
     "name": "stderr",
     "output_type": "stream",
     "text": [
      "100%|██████████| 1/1 [00:00<00:00,  4.99it/s]\n",
      "  0%|          | 0/1 [00:00<?, ?it/s]"
     ]
    },
    {
     "name": "stdout",
     "output_type": "stream",
     "text": [
      " pca p_levefr resahped:  (1, 40, 10)\n",
      "  body movement pa.p_lever projection:  (1, 40, 10)\n",
      "temp points:  (1318, 2)\n",
      "temp points:  (40, 2)\n",
      "plever:  (36, 2)\n",
      "FNAME LEVER:  /media/cat/4TBSSD/yuki/AQ2/tif_files/AQ2am_Feb9_30Hz/AQ2am_Feb9_30Hz_all_locs_selected.txt\n",
      "1 91 10\n"
     ]
    },
    {
     "name": "stderr",
     "output_type": "stream",
     "text": [
      "100%|██████████| 1/1 [00:00<00:00,  2.11it/s]\n",
      "/media/cat/4TBSSD/anaconda3/envs/wide/lib/python3.8/site-packages/numpy/core/_asarray.py:171: VisibleDeprecationWarning: Creating an ndarray from ragged nested sequences (which is a list-or-tuple of lists-or-tuples-or ndarrays with different lengths or shapes) is deprecated. If you meant to do this, you must specify 'dtype=object' when creating the ndarray.\n",
      "  return array(a, dtype, copy=False, order=order, subok=True)\n"
     ]
    },
    {
     "name": "stdout",
     "output_type": "stream",
     "text": [
      " pca p_levefr resahped:  (1, 91, 10)\n",
      "temp points:  (1318, 2)\n",
      "temp points:  (91, 2)\n",
      "plever:  (82, 2)\n",
      "pa.session_id 1:  AQ2am_Feb10_30Hz\n",
      "session corrected:  AQ2am_Feb10_30Hz\n",
      "(7,)\n",
      "['left_paw' 'right_paw' 'nose' 'jaw' 'right_ear' 'tongue' 'lever']\n",
      "pa.session_id 2:  AQ2am_Feb10_30Hz\n",
      "starts:  [  7.33333333  18.          45.4         50.4         67.66666667\n",
      "  93.73333333 100.26666667 104.53333333 114.33333333 120.26666667]\n",
      "lever offset:  63\n",
      "SESSIONS:  ['am_Apr21_', 'am_Apr22_', 'am_Apr25_', 'am_Apr26_', 'am_Apr27_', 'am_Apr28_', 'am_Apr29_', 'am_Dec9_', 'am_Dec11_', 'am_Dec17_', 'am_Dec18_', 'am_Dec28_', 'am_Dec29_', 'am_Dec30_', 'am_Feb2_', 'am_Feb3_', 'am_Feb4_', 'am_Feb5_', 'am_Feb9_', 'am_Feb10_', 'am_Feb11_', 'am_Feb12_', 'am_Feb15_', 'am_Feb16_', 'am_Feb17_', 'am_Feb18_', 'am_Jan5_', 'am_Jan6_', 'am_Jan7_', 'am_Jan8_', 'am_Jan13_', 'am_Jan14_', 'am_Jan15_', 'am_Jan18_', 'am_Jan19_', 'am_Jan21_', 'am_Jan22_', 'am_Jan28_', 'am_Jan29_', 'pm_Dec16_', 'pm_Dec17_', 'pm_Jan11_', 'pm_Jan13_', 'pm_Jan14_', 'pm_Jan15_', 'pm_Jan18_', 'pm_Jan20_', 'pm_Jan21_', 'pm_Jan22_', 'pm_Jan26_', 'pm_Jan27_', 'pm_Jan28_', 'pm_Jan29_']\n",
      "SHIFT IDS:  ['2', '2', '2', '2', '2', '0', '2', '2', '1', '1', '2', '2', '1', '2', '2', '1', '1', '2', '1', '2', '2', '2', '1', '1', '1', '0', '1', '2', '2', '0', '2', '2', '2', '2', '0', '1', '0', '1', '1', '2', '2', '2', '2', '2', '2', '2', '2', '2', '1', '1', '1', '2', '1']\n",
      "pa.session_id:  AQ2am_Feb10_30Hz\n",
      "SELF SHIFT ID:  2\n",
      " using shift:  2\n",
      "DLC SHIFT Loaded:  3.86\n",
      "DLC shift :  3.86   in frames:  115  after subtracting lever shift:  -52\n",
      " triggers:  (55,)\n",
      " data:  (40000, 128, 128)\n",
      "(39079, 128, 128)\n",
      "X:  (39079, 16384)\n"
     ]
    },
    {
     "name": "stderr",
     "output_type": "stream",
     "text": [
      "\r",
      "  0%|          | 0/1 [00:00<?, ?it/s]"
     ]
    },
    {
     "name": "stdout",
     "output_type": "stream",
     "text": [
      " X data using :  30  number of frames  (1300, 491520)\n",
      " pca allpoints:  (1300, 10)\n",
      "1 109 10\n"
     ]
    },
    {
     "name": "stderr",
     "output_type": "stream",
     "text": [
      "100%|██████████| 1/1 [00:00<00:00,  1.81it/s]\n",
      "  0%|          | 0/1 [00:00<?, ?it/s]"
     ]
    },
    {
     "name": "stdout",
     "output_type": "stream",
     "text": [
      " pca p_levefr resahped:  (1, 108, 10)\n",
      "  body movement pa.p_lever projection:  (1, 108, 10)\n",
      "temp points:  (1300, 2)\n",
      "temp points:  (108, 2)\n",
      "plever:  (97, 2)\n",
      "1 92 10\n"
     ]
    },
    {
     "name": "stderr",
     "output_type": "stream",
     "text": [
      "100%|██████████| 1/1 [00:00<00:00,  1.95it/s]\n",
      "  0%|          | 0/1 [00:00<?, ?it/s]"
     ]
    },
    {
     "name": "stdout",
     "output_type": "stream",
     "text": [
      " pca p_levefr resahped:  (1, 91, 10)\n",
      "  body movement pa.p_lever projection:  (1, 91, 10)\n",
      "temp points:  (1300, 2)\n",
      "temp points:  (91, 2)\n",
      "plever:  (82, 2)\n",
      "1 122 10\n"
     ]
    },
    {
     "name": "stderr",
     "output_type": "stream",
     "text": [
      "100%|██████████| 1/1 [00:00<00:00,  1.43it/s]\n",
      "  0%|          | 0/1 [00:00<?, ?it/s]"
     ]
    },
    {
     "name": "stdout",
     "output_type": "stream",
     "text": [
      " pca p_levefr resahped:  (1, 120, 10)\n",
      "  body movement pa.p_lever projection:  (1, 120, 10)\n",
      "temp points:  (1300, 2)\n",
      "temp points:  (120, 2)\n",
      "plever:  (108, 2)\n",
      "1 63 10\n"
     ]
    },
    {
     "name": "stderr",
     "output_type": "stream",
     "text": [
      "100%|██████████| 1/1 [00:00<00:00,  2.66it/s]\n",
      "  0%|          | 0/1 [00:00<?, ?it/s]"
     ]
    },
    {
     "name": "stdout",
     "output_type": "stream",
     "text": [
      " pca p_levefr resahped:  (1, 62, 10)\n",
      "  body movement pa.p_lever projection:  (1, 62, 10)\n",
      "temp points:  (1300, 2)\n",
      "temp points:  (62, 2)\n",
      "plever:  (55, 2)\n",
      "1 51 10\n"
     ]
    },
    {
     "name": "stderr",
     "output_type": "stream",
     "text": [
      "100%|██████████| 1/1 [00:00<00:00,  3.64it/s]\n",
      "  0%|          | 0/1 [00:00<?, ?it/s]"
     ]
    },
    {
     "name": "stdout",
     "output_type": "stream",
     "text": [
      " pca p_levefr resahped:  (1, 50, 10)\n",
      "  body movement pa.p_lever projection:  (1, 50, 10)\n",
      "temp points:  (1300, 2)\n",
      "temp points:  (50, 2)\n",
      "plever:  (45, 2)\n",
      "FNAME LEVER:  /media/cat/4TBSSD/yuki/AQ2/tif_files/AQ2am_Feb10_30Hz/AQ2am_Feb10_30Hz_all_locs_selected.txt\n",
      "1 94 10\n"
     ]
    },
    {
     "name": "stderr",
     "output_type": "stream",
     "text": [
      "100%|██████████| 1/1 [00:00<00:00,  1.98it/s]\n",
      "/media/cat/4TBSSD/anaconda3/envs/wide/lib/python3.8/site-packages/numpy/core/_asarray.py:171: VisibleDeprecationWarning: Creating an ndarray from ragged nested sequences (which is a list-or-tuple of lists-or-tuples-or ndarrays with different lengths or shapes) is deprecated. If you meant to do this, you must specify 'dtype=object' when creating the ndarray.\n",
      "  return array(a, dtype, copy=False, order=order, subok=True)\n"
     ]
    },
    {
     "name": "stdout",
     "output_type": "stream",
     "text": [
      " pca p_levefr resahped:  (1, 94, 10)\n",
      "temp points:  (1300, 2)\n",
      "temp points:  (94, 2)\n",
      "plever:  (84, 2)\n",
      "pa.session_id 1:  AQ2am_Feb11_30Hz\n",
      "session corrected:  AQ2am_Feb11_30Hz\n",
      "(7,)\n",
      "['left_paw' 'right_paw' 'nose' 'jaw' 'right_ear' 'tongue' 'lever']\n",
      "pa.session_id 2:  AQ2am_Feb11_30Hz\n",
      "starts:  [ 25.          42.86666667  59.          84.13333333  92.86666667\n",
      " 115.93333333 131.26666667 142.73333333 150.26666667 154.8       ]\n",
      "lever offset:  83\n",
      "SESSIONS:  ['am_Apr21_', 'am_Apr22_', 'am_Apr25_', 'am_Apr26_', 'am_Apr27_', 'am_Apr28_', 'am_Apr29_', 'am_Dec9_', 'am_Dec11_', 'am_Dec17_', 'am_Dec18_', 'am_Dec28_', 'am_Dec29_', 'am_Dec30_', 'am_Feb2_', 'am_Feb3_', 'am_Feb4_', 'am_Feb5_', 'am_Feb9_', 'am_Feb10_', 'am_Feb11_', 'am_Feb12_', 'am_Feb15_', 'am_Feb16_', 'am_Feb17_', 'am_Feb18_', 'am_Jan5_', 'am_Jan6_', 'am_Jan7_', 'am_Jan8_', 'am_Jan13_', 'am_Jan14_', 'am_Jan15_', 'am_Jan18_', 'am_Jan19_', 'am_Jan21_', 'am_Jan22_', 'am_Jan28_', 'am_Jan29_', 'pm_Dec16_', 'pm_Dec17_', 'pm_Jan11_', 'pm_Jan13_', 'pm_Jan14_', 'pm_Jan15_', 'pm_Jan18_', 'pm_Jan20_', 'pm_Jan21_', 'pm_Jan22_', 'pm_Jan26_', 'pm_Jan27_', 'pm_Jan28_', 'pm_Jan29_']\n",
      "SHIFT IDS:  ['2', '2', '2', '2', '2', '0', '2', '2', '1', '1', '2', '2', '1', '2', '2', '1', '1', '2', '1', '2', '2', '2', '1', '1', '1', '0', '1', '2', '2', '0', '2', '2', '2', '2', '0', '1', '0', '1', '1', '2', '2', '2', '2', '2', '2', '2', '2', '2', '1', '1', '1', '2', '1']\n",
      "pa.session_id:  AQ2am_Feb11_30Hz\n",
      "SELF SHIFT ID:  2\n",
      " using shift:  2\n",
      "DLC SHIFT Loaded:  5.54\n",
      "DLC shift :  5.54   in frames:  166  after subtracting lever shift:  -83\n",
      " triggers:  (45,)\n",
      " data:  (40000, 128, 128)\n",
      "(39854, 128, 128)\n",
      "X:  (39854, 16384)\n"
     ]
    },
    {
     "name": "stderr",
     "output_type": "stream",
     "text": [
      "\r",
      "  0%|          | 0/1 [00:00<?, ?it/s]"
     ]
    },
    {
     "name": "stdout",
     "output_type": "stream",
     "text": [
      " X data using :  30  number of frames  (1326, 491520)\n",
      " pca allpoints:  (1326, 10)\n",
      "1 79 10\n"
     ]
    },
    {
     "name": "stderr",
     "output_type": "stream",
     "text": [
      "100%|██████████| 1/1 [00:00<00:00,  2.41it/s]\n",
      "  0%|          | 0/1 [00:00<?, ?it/s]"
     ]
    },
    {
     "name": "stdout",
     "output_type": "stream",
     "text": [
      " pca p_levefr resahped:  (1, 77, 10)\n",
      "  body movement pa.p_lever projection:  (1, 77, 10)\n",
      "temp points:  (1326, 2)\n",
      "temp points:  (77, 2)\n",
      "plever:  (69, 2)\n",
      "1 102 10\n"
     ]
    },
    {
     "name": "stderr",
     "output_type": "stream",
     "text": [
      "100%|██████████| 1/1 [00:00<00:00,  1.87it/s]\n",
      "  0%|          | 0/1 [00:00<?, ?it/s]"
     ]
    },
    {
     "name": "stdout",
     "output_type": "stream",
     "text": [
      " pca p_levefr resahped:  (1, 100, 10)\n",
      "  body movement pa.p_lever projection:  (1, 100, 10)\n",
      "temp points:  (1326, 2)\n",
      "temp points:  (100, 2)\n",
      "plever:  (90, 2)\n",
      "1 114 10\n"
     ]
    },
    {
     "name": "stderr",
     "output_type": "stream",
     "text": [
      "100%|██████████| 1/1 [00:00<00:00,  1.65it/s]\n",
      "100%|██████████| 1/1 [00:00<00:00,  7.16it/s]\n",
      "  0%|          | 0/1 [00:00<?, ?it/s]"
     ]
    },
    {
     "name": "stdout",
     "output_type": "stream",
     "text": [
      " pca p_levefr resahped:  (1, 111, 10)\n",
      "  body movement pa.p_lever projection:  (1, 111, 10)\n",
      "temp points:  (1326, 2)\n",
      "temp points:  (111, 2)\n",
      "plever:  (100, 2)\n",
      "1 20 10\n",
      " pca p_levefr resahped:  (1, 18, 10)\n",
      "  body movement pa.p_lever projection:  (1, 18, 10)\n",
      "temp points:  (1326, 2)\n",
      "temp points:  (18, 2)\n",
      "plever:  (16, 2)\n",
      "1 72 10\n"
     ]
    },
    {
     "name": "stderr",
     "output_type": "stream",
     "text": [
      "100%|██████████| 1/1 [00:00<00:00,  2.67it/s]\n",
      "  0%|          | 0/1 [00:00<?, ?it/s]"
     ]
    },
    {
     "name": "stdout",
     "output_type": "stream",
     "text": [
      " pca p_levefr resahped:  (1, 70, 10)\n",
      "  body movement pa.p_lever projection:  (1, 70, 10)\n",
      "temp points:  (1326, 2)\n",
      "temp points:  (70, 2)\n",
      "plever:  (63, 2)\n",
      "FNAME LEVER:  /media/cat/4TBSSD/yuki/AQ2/tif_files/AQ2am_Feb11_30Hz/AQ2am_Feb11_30Hz_all_locs_selected.txt\n",
      "1 132 10\n"
     ]
    },
    {
     "name": "stderr",
     "output_type": "stream",
     "text": [
      "100%|██████████| 1/1 [00:00<00:00,  1.43it/s]\n",
      "/media/cat/4TBSSD/anaconda3/envs/wide/lib/python3.8/site-packages/numpy/core/_asarray.py:171: VisibleDeprecationWarning: Creating an ndarray from ragged nested sequences (which is a list-or-tuple of lists-or-tuples-or ndarrays with different lengths or shapes) is deprecated. If you meant to do this, you must specify 'dtype=object' when creating the ndarray.\n",
      "  return array(a, dtype, copy=False, order=order, subok=True)\n"
     ]
    },
    {
     "name": "stdout",
     "output_type": "stream",
     "text": [
      " pca p_levefr resahped:  (1, 132, 10)\n",
      "temp points:  (1326, 2)\n",
      "temp points:  (132, 2)\n",
      "plever:  (118, 2)\n",
      "pa.session_id 1:  AQ2am_Feb12_30Hz\n",
      "session corrected:  AQ2am_Feb12_30Hz\n",
      "(7,)\n",
      "['left_paw' 'right_paw' 'nose' 'jaw' 'right_ear' 'tongue' 'lever']\n",
      "pa.session_id 2:  AQ2am_Feb12_30Hz\n",
      "starts:  [ 10.33333333  53.46666667  67.6         87.46666667  97.26666667\n",
      " 119.53333333 146.86666667 152.73333333 163.26666667 229.13333333]\n",
      "lever offset:  85\n",
      "SESSIONS:  ['am_Apr21_', 'am_Apr22_', 'am_Apr25_', 'am_Apr26_', 'am_Apr27_', 'am_Apr28_', 'am_Apr29_', 'am_Dec9_', 'am_Dec11_', 'am_Dec17_', 'am_Dec18_', 'am_Dec28_', 'am_Dec29_', 'am_Dec30_', 'am_Feb2_', 'am_Feb3_', 'am_Feb4_', 'am_Feb5_', 'am_Feb9_', 'am_Feb10_', 'am_Feb11_', 'am_Feb12_', 'am_Feb15_', 'am_Feb16_', 'am_Feb17_', 'am_Feb18_', 'am_Jan5_', 'am_Jan6_', 'am_Jan7_', 'am_Jan8_', 'am_Jan13_', 'am_Jan14_', 'am_Jan15_', 'am_Jan18_', 'am_Jan19_', 'am_Jan21_', 'am_Jan22_', 'am_Jan28_', 'am_Jan29_', 'pm_Dec16_', 'pm_Dec17_', 'pm_Jan11_', 'pm_Jan13_', 'pm_Jan14_', 'pm_Jan15_', 'pm_Jan18_', 'pm_Jan20_', 'pm_Jan21_', 'pm_Jan22_', 'pm_Jan26_', 'pm_Jan27_', 'pm_Jan28_', 'pm_Jan29_']\n",
      "SHIFT IDS:  ['2', '2', '2', '2', '2', '0', '2', '2', '1', '1', '2', '2', '1', '2', '2', '1', '1', '2', '1', '2', '2', '2', '1', '1', '1', '0', '1', '2', '2', '0', '2', '2', '2', '2', '0', '1', '0', '1', '1', '2', '2', '2', '2', '2', '2', '2', '2', '2', '1', '1', '1', '2', '1']\n",
      "pa.session_id:  AQ2am_Feb12_30Hz\n",
      "SELF SHIFT ID:  2\n",
      " using shift:  2\n",
      "DLC SHIFT Loaded:  5.15\n",
      "DLC shift :  5.15   in frames:  154  after subtracting lever shift:  -69\n",
      " triggers:  (19,)\n",
      " data:  (40000, 128, 128)\n",
      "(39176, 128, 128)\n",
      "X:  (39176, 16384)\n"
     ]
    },
    {
     "name": "stderr",
     "output_type": "stream",
     "text": [
      "\r",
      "  0%|          | 0/1 [00:00<?, ?it/s]"
     ]
    },
    {
     "name": "stdout",
     "output_type": "stream",
     "text": [
      " X data using :  30  number of frames  (1303, 491520)\n",
      " pca allpoints:  (1303, 10)\n",
      "1 66 10\n"
     ]
    },
    {
     "name": "stderr",
     "output_type": "stream",
     "text": [
      "100%|██████████| 1/1 [00:00<00:00,  2.90it/s]\n",
      "  0%|          | 0/1 [00:00<?, ?it/s]"
     ]
    },
    {
     "name": "stdout",
     "output_type": "stream",
     "text": [
      " pca p_levefr resahped:  (1, 64, 10)\n",
      "  body movement pa.p_lever projection:  (1, 64, 10)\n",
      "temp points:  (1303, 2)\n",
      "temp points:  (64, 2)\n",
      "plever:  (57, 2)\n",
      "1 113 10\n"
     ]
    },
    {
     "name": "stderr",
     "output_type": "stream",
     "text": [
      "100%|██████████| 1/1 [00:00<00:00,  1.67it/s]\n",
      "  0%|          | 0/1 [00:00<?, ?it/s]"
     ]
    },
    {
     "name": "stdout",
     "output_type": "stream",
     "text": [
      " pca p_levefr resahped:  (1, 111, 10)\n",
      "  body movement pa.p_lever projection:  (1, 111, 10)\n",
      "temp points:  (1303, 2)\n",
      "temp points:  (111, 2)\n",
      "plever:  (100, 2)\n",
      "1 36 10\n"
     ]
    },
    {
     "name": "stderr",
     "output_type": "stream",
     "text": [
      "100%|██████████| 1/1 [00:00<00:00,  4.64it/s]\n",
      "100%|██████████| 1/1 [00:00<00:00, 18.20it/s]\n",
      "  0%|          | 0/1 [00:00<?, ?it/s]"
     ]
    },
    {
     "name": "stdout",
     "output_type": "stream",
     "text": [
      " pca p_levefr resahped:  (1, 34, 10)\n",
      "  body movement pa.p_lever projection:  (1, 34, 10)\n",
      "temp points:  (1303, 2)\n",
      "temp points:  (34, 2)\n",
      "plever:  (30, 2)\n",
      "1 6 10\n",
      " pca p_levefr resahped:  (1, 6, 10)\n",
      "  body movement pa.p_lever projection:  (1, 6, 10)\n",
      "temp points:  (1303, 2)\n",
      "temp points:  (6, 2)\n",
      "plever:  (5, 2)\n",
      "1 34 10\n"
     ]
    },
    {
     "name": "stderr",
     "output_type": "stream",
     "text": [
      "100%|██████████| 1/1 [00:00<00:00,  5.66it/s]\n",
      "  0%|          | 0/1 [00:00<?, ?it/s]"
     ]
    },
    {
     "name": "stdout",
     "output_type": "stream",
     "text": [
      " pca p_levefr resahped:  (1, 32, 10)\n",
      "  body movement pa.p_lever projection:  (1, 32, 10)\n",
      "temp points:  (1303, 2)\n",
      "temp points:  (32, 2)\n",
      "plever:  (28, 2)\n",
      "FNAME LEVER:  /media/cat/4TBSSD/yuki/AQ2/tif_files/AQ2am_Feb12_30Hz/AQ2am_Feb12_30Hz_all_locs_selected.txt\n",
      "1 184 10\n"
     ]
    },
    {
     "name": "stderr",
     "output_type": "stream",
     "text": [
      "100%|██████████| 1/1 [00:01<00:00,  1.03s/it]\n",
      "/media/cat/4TBSSD/anaconda3/envs/wide/lib/python3.8/site-packages/numpy/core/_asarray.py:171: VisibleDeprecationWarning: Creating an ndarray from ragged nested sequences (which is a list-or-tuple of lists-or-tuples-or ndarrays with different lengths or shapes) is deprecated. If you meant to do this, you must specify 'dtype=object' when creating the ndarray.\n",
      "  return array(a, dtype, copy=False, order=order, subok=True)\n"
     ]
    },
    {
     "name": "stdout",
     "output_type": "stream",
     "text": [
      " pca p_levefr resahped:  (1, 184, 10)\n",
      "temp points:  (1303, 2)\n",
      "temp points:  (184, 2)\n",
      "plever:  (165, 2)\n",
      "pa.session_id 1:  AQ2am_Feb15_30Hz\n",
      "session corrected:  AQ2am_Feb15_30Hz\n",
      "(7,)\n",
      "['left_paw' 'right_paw' 'nose' 'jaw' 'right_ear' 'tongue' 'lever']\n",
      "pa.session_id 2:  AQ2am_Feb15_30Hz\n",
      "starts:  [ 14.46666667  53.93333333  65.53333333  85.26666667  89.73333333\n",
      " 106.4        113.53333333 122.8        140.66666667 156.33333333]\n",
      "lever offset:  85\n",
      "SESSIONS:  ['am_Apr21_', 'am_Apr22_', 'am_Apr25_', 'am_Apr26_', 'am_Apr27_', 'am_Apr28_', 'am_Apr29_', 'am_Dec9_', 'am_Dec11_', 'am_Dec17_', 'am_Dec18_', 'am_Dec28_', 'am_Dec29_', 'am_Dec30_', 'am_Feb2_', 'am_Feb3_', 'am_Feb4_', 'am_Feb5_', 'am_Feb9_', 'am_Feb10_', 'am_Feb11_', 'am_Feb12_', 'am_Feb15_', 'am_Feb16_', 'am_Feb17_', 'am_Feb18_', 'am_Jan5_', 'am_Jan6_', 'am_Jan7_', 'am_Jan8_', 'am_Jan13_', 'am_Jan14_', 'am_Jan15_', 'am_Jan18_', 'am_Jan19_', 'am_Jan21_', 'am_Jan22_', 'am_Jan28_', 'am_Jan29_', 'pm_Dec16_', 'pm_Dec17_', 'pm_Jan11_', 'pm_Jan13_', 'pm_Jan14_', 'pm_Jan15_', 'pm_Jan18_', 'pm_Jan20_', 'pm_Jan21_', 'pm_Jan22_', 'pm_Jan26_', 'pm_Jan27_', 'pm_Jan28_', 'pm_Jan29_']\n",
      "SHIFT IDS:  ['2', '2', '2', '2', '2', '0', '2', '2', '1', '1', '2', '2', '1', '2', '2', '1', '1', '2', '1', '2', '2', '2', '1', '1', '1', '0', '1', '2', '2', '0', '2', '2', '2', '2', '0', '1', '0', '1', '1', '2', '2', '2', '2', '2', '2', '2', '2', '2', '1', '1', '1', '2', '1']\n",
      "pa.session_id:  AQ2am_Feb15_30Hz\n",
      "SELF SHIFT ID:  1\n",
      " using shift:  1\n",
      "DLC SHIFT Loaded:  4.81\n",
      "DLC shift :  4.81   in frames:  144  after subtracting lever shift:  -59\n",
      " triggers:  (20,)\n",
      " data:  (40000, 128, 128)\n",
      "(39115, 128, 128)\n",
      "X:  (39115, 16384)\n"
     ]
    },
    {
     "name": "stderr",
     "output_type": "stream",
     "text": [
      "\r",
      "  0%|          | 0/1 [00:00<?, ?it/s]"
     ]
    },
    {
     "name": "stdout",
     "output_type": "stream",
     "text": [
      " X data using :  30  number of frames  (1301, 491520)\n",
      " pca allpoints:  (1301, 10)\n",
      "1 121 10\n"
     ]
    },
    {
     "name": "stderr",
     "output_type": "stream",
     "text": [
      "100%|██████████| 1/1 [00:00<00:00,  1.69it/s]\n",
      "  0%|          | 0/1 [00:00<?, ?it/s]"
     ]
    },
    {
     "name": "stdout",
     "output_type": "stream",
     "text": [
      " pca p_levefr resahped:  (1, 117, 10)\n",
      "  body movement pa.p_lever projection:  (1, 117, 10)\n",
      "temp points:  (1301, 2)\n",
      "temp points:  (117, 2)\n",
      "plever:  (105, 2)\n",
      "1 149 10\n"
     ]
    },
    {
     "name": "stderr",
     "output_type": "stream",
     "text": [
      "100%|██████████| 1/1 [00:00<00:00,  1.29it/s]\n",
      "  0%|          | 0/1 [00:00<?, ?it/s]"
     ]
    },
    {
     "name": "stdout",
     "output_type": "stream",
     "text": [
      " pca p_levefr resahped:  (1, 145, 10)\n",
      "  body movement pa.p_lever projection:  (1, 145, 10)\n",
      "temp points:  (1301, 2)\n",
      "temp points:  (145, 2)\n",
      "plever:  (130, 2)\n",
      "1 69 10\n"
     ]
    },
    {
     "name": "stderr",
     "output_type": "stream",
     "text": [
      "100%|██████████| 1/1 [00:00<00:00,  2.72it/s]\n",
      "100%|██████████| 1/1 [00:00<00:00,  8.06it/s]\n",
      "  0%|          | 0/1 [00:00<?, ?it/s]"
     ]
    },
    {
     "name": "stdout",
     "output_type": "stream",
     "text": [
      " pca p_levefr resahped:  (1, 66, 10)\n",
      "  body movement pa.p_lever projection:  (1, 66, 10)\n",
      "temp points:  (1301, 2)\n",
      "temp points:  (66, 2)\n",
      "plever:  (59, 2)\n",
      "1 16 10\n",
      " pca p_levefr resahped:  (1, 13, 10)\n",
      "  body movement pa.p_lever projection:  (1, 13, 10)\n",
      "temp points:  (1301, 2)\n",
      "temp points:  (13, 2)\n",
      "plever:  (11, 2)\n",
      "1 103 10\n"
     ]
    },
    {
     "name": "stderr",
     "output_type": "stream",
     "text": [
      "100%|██████████| 1/1 [00:00<00:00,  1.90it/s]\n",
      "  0%|          | 0/1 [00:00<?, ?it/s]"
     ]
    },
    {
     "name": "stdout",
     "output_type": "stream",
     "text": [
      " pca p_levefr resahped:  (1, 101, 10)\n",
      "  body movement pa.p_lever projection:  (1, 101, 10)\n",
      "temp points:  (1301, 2)\n",
      "temp points:  (101, 2)\n",
      "plever:  (91, 2)\n",
      "FNAME LEVER:  /media/cat/4TBSSD/yuki/AQ2/tif_files/AQ2am_Feb15_30Hz/AQ2am_Feb15_30Hz_all_locs_selected.txt\n",
      "1 159 10\n"
     ]
    },
    {
     "name": "stderr",
     "output_type": "stream",
     "text": [
      "100%|██████████| 1/1 [00:00<00:00,  1.10it/s]\n",
      "/media/cat/4TBSSD/anaconda3/envs/wide/lib/python3.8/site-packages/numpy/core/_asarray.py:171: VisibleDeprecationWarning: Creating an ndarray from ragged nested sequences (which is a list-or-tuple of lists-or-tuples-or ndarrays with different lengths or shapes) is deprecated. If you meant to do this, you must specify 'dtype=object' when creating the ndarray.\n",
      "  return array(a, dtype, copy=False, order=order, subok=True)\n"
     ]
    },
    {
     "name": "stdout",
     "output_type": "stream",
     "text": [
      " pca p_levefr resahped:  (1, 159, 10)\n",
      "temp points:  (1301, 2)\n",
      "temp points:  (159, 2)\n",
      "plever:  (143, 2)\n",
      "pa.session_id 1:  AQ2am_Feb16_30Hz\n",
      "session corrected:  AQ2am_Feb16_30Hz\n",
      "(7,)\n",
      "['left_paw' 'right_paw' 'nose' 'jaw' 'right_ear' 'tongue' 'lever']\n",
      "pa.session_id 2:  AQ2am_Feb16_30Hz\n",
      "starts:  [ 33.06666667  38.13333333  55.86666667  82.53333333  94.\n",
      " 105.86666667 116.6        124.2        132.26666667 140.2       ]\n",
      "lever offset:  85\n",
      "SESSIONS:  ['am_Apr21_', 'am_Apr22_', 'am_Apr25_', 'am_Apr26_', 'am_Apr27_', 'am_Apr28_', 'am_Apr29_', 'am_Dec9_', 'am_Dec11_', 'am_Dec17_', 'am_Dec18_', 'am_Dec28_', 'am_Dec29_', 'am_Dec30_', 'am_Feb2_', 'am_Feb3_', 'am_Feb4_', 'am_Feb5_', 'am_Feb9_', 'am_Feb10_', 'am_Feb11_', 'am_Feb12_', 'am_Feb15_', 'am_Feb16_', 'am_Feb17_', 'am_Feb18_', 'am_Jan5_', 'am_Jan6_', 'am_Jan7_', 'am_Jan8_', 'am_Jan13_', 'am_Jan14_', 'am_Jan15_', 'am_Jan18_', 'am_Jan19_', 'am_Jan21_', 'am_Jan22_', 'am_Jan28_', 'am_Jan29_', 'pm_Dec16_', 'pm_Dec17_', 'pm_Jan11_', 'pm_Jan13_', 'pm_Jan14_', 'pm_Jan15_', 'pm_Jan18_', 'pm_Jan20_', 'pm_Jan21_', 'pm_Jan22_', 'pm_Jan26_', 'pm_Jan27_', 'pm_Jan28_', 'pm_Jan29_']\n",
      "SHIFT IDS:  ['2', '2', '2', '2', '2', '0', '2', '2', '1', '1', '2', '2', '1', '2', '2', '1', '1', '2', '1', '2', '2', '2', '1', '1', '1', '0', '1', '2', '2', '0', '2', '2', '2', '2', '0', '1', '0', '1', '1', '2', '2', '2', '2', '2', '2', '2', '2', '2', '1', '1', '1', '2', '1']\n",
      "pa.session_id:  AQ2am_Feb16_30Hz\n",
      "SELF SHIFT ID:  1\n",
      " using shift:  1\n",
      "DLC SHIFT Loaded:  5.51\n",
      "DLC shift :  5.51   in frames:  165  after subtracting lever shift:  -80\n",
      " triggers:  (33,)\n",
      " data:  (40000, 128, 128)\n",
      "(39144, 128, 128)\n",
      "X:  (39144, 16384)\n"
     ]
    },
    {
     "name": "stderr",
     "output_type": "stream",
     "text": [
      "\r",
      "  0%|          | 0/1 [00:00<?, ?it/s]"
     ]
    },
    {
     "name": "stdout",
     "output_type": "stream",
     "text": [
      " X data using :  30  number of frames  (1302, 491520)\n",
      " pca allpoints:  (1302, 10)\n",
      "1 126 10\n"
     ]
    },
    {
     "name": "stderr",
     "output_type": "stream",
     "text": [
      "100%|██████████| 1/1 [00:00<00:00,  1.49it/s]\n",
      "  0%|          | 0/1 [00:00<?, ?it/s]"
     ]
    },
    {
     "name": "stdout",
     "output_type": "stream",
     "text": [
      " pca p_levefr resahped:  (1, 124, 10)\n",
      "  body movement pa.p_lever projection:  (1, 124, 10)\n",
      "temp points:  (1302, 2)\n",
      "temp points:  (124, 2)\n",
      "plever:  (111, 2)\n",
      "1 169 10\n"
     ]
    },
    {
     "name": "stderr",
     "output_type": "stream",
     "text": [
      "100%|██████████| 1/1 [00:01<00:00,  1.05s/it]\n",
      "  0%|          | 0/1 [00:00<?, ?it/s]"
     ]
    },
    {
     "name": "stdout",
     "output_type": "stream",
     "text": [
      " pca p_levefr resahped:  (1, 168, 10)\n",
      "  body movement pa.p_lever projection:  (1, 168, 10)\n",
      "temp points:  (1302, 2)\n",
      "temp points:  (168, 2)\n",
      "plever:  (151, 2)\n",
      "1 118 10\n"
     ]
    },
    {
     "name": "stderr",
     "output_type": "stream",
     "text": [
      "100%|██████████| 1/1 [00:00<00:00,  1.60it/s]\n",
      "100%|██████████| 1/1 [00:00<00:00,  6.95it/s]\n",
      "  0%|          | 0/1 [00:00<?, ?it/s]"
     ]
    },
    {
     "name": "stdout",
     "output_type": "stream",
     "text": [
      " pca p_levefr resahped:  (1, 117, 10)\n",
      "  body movement pa.p_lever projection:  (1, 117, 10)\n",
      "temp points:  (1302, 2)\n",
      "temp points:  (117, 2)\n",
      "plever:  (105, 2)\n",
      "1 18 10\n",
      " pca p_levefr resahped:  (1, 18, 10)\n",
      "  body movement pa.p_lever projection:  (1, 18, 10)\n",
      "temp points:  (1302, 2)\n",
      "temp points:  (18, 2)\n",
      "plever:  (16, 2)\n",
      "1 39 10\n"
     ]
    },
    {
     "name": "stderr",
     "output_type": "stream",
     "text": [
      "100%|██████████| 1/1 [00:00<00:00,  4.80it/s]\n",
      "  0%|          | 0/1 [00:00<?, ?it/s]"
     ]
    },
    {
     "name": "stdout",
     "output_type": "stream",
     "text": [
      " pca p_levefr resahped:  (1, 38, 10)\n",
      "  body movement pa.p_lever projection:  (1, 38, 10)\n",
      "temp points:  (1302, 2)\n",
      "temp points:  (38, 2)\n",
      "plever:  (34, 2)\n",
      "FNAME LEVER:  /media/cat/4TBSSD/yuki/AQ2/tif_files/AQ2am_Feb16_30Hz/AQ2am_Feb16_30Hz_all_locs_selected.txt\n",
      "1 146 10\n"
     ]
    },
    {
     "name": "stderr",
     "output_type": "stream",
     "text": [
      "100%|██████████| 1/1 [00:00<00:00,  1.24it/s]\n",
      "/media/cat/4TBSSD/anaconda3/envs/wide/lib/python3.8/site-packages/numpy/core/_asarray.py:171: VisibleDeprecationWarning: Creating an ndarray from ragged nested sequences (which is a list-or-tuple of lists-or-tuples-or ndarrays with different lengths or shapes) is deprecated. If you meant to do this, you must specify 'dtype=object' when creating the ndarray.\n",
      "  return array(a, dtype, copy=False, order=order, subok=True)\n"
     ]
    },
    {
     "name": "stdout",
     "output_type": "stream",
     "text": [
      " pca p_levefr resahped:  (1, 146, 10)\n",
      "temp points:  (1302, 2)\n",
      "temp points:  (146, 2)\n",
      "plever:  (131, 2)\n",
      "pa.session_id 1:  AQ2am_Feb17_30Hz\n",
      "session corrected:  AQ2am_Feb17_30Hz\n",
      "(7,)\n",
      "['left_paw' 'right_paw' 'nose' 'jaw' 'right_ear' 'tongue' 'lever']\n",
      "pa.session_id 2:  AQ2am_Feb17_30Hz\n",
      "starts:  [34.53333333 43.46666667 51.13333333 56.53333333 60.66666667 72.4\n",
      " 77.2        80.2        83.93333333 91.2       ]\n",
      "lever offset:  71\n",
      "SESSIONS:  ['am_Apr21_', 'am_Apr22_', 'am_Apr25_', 'am_Apr26_', 'am_Apr27_', 'am_Apr28_', 'am_Apr29_', 'am_Dec9_', 'am_Dec11_', 'am_Dec17_', 'am_Dec18_', 'am_Dec28_', 'am_Dec29_', 'am_Dec30_', 'am_Feb2_', 'am_Feb3_', 'am_Feb4_', 'am_Feb5_', 'am_Feb9_', 'am_Feb10_', 'am_Feb11_', 'am_Feb12_', 'am_Feb15_', 'am_Feb16_', 'am_Feb17_', 'am_Feb18_', 'am_Jan5_', 'am_Jan6_', 'am_Jan7_', 'am_Jan8_', 'am_Jan13_', 'am_Jan14_', 'am_Jan15_', 'am_Jan18_', 'am_Jan19_', 'am_Jan21_', 'am_Jan22_', 'am_Jan28_', 'am_Jan29_', 'pm_Dec16_', 'pm_Dec17_', 'pm_Jan11_', 'pm_Jan13_', 'pm_Jan14_', 'pm_Jan15_', 'pm_Jan18_', 'pm_Jan20_', 'pm_Jan21_', 'pm_Jan22_', 'pm_Jan26_', 'pm_Jan27_', 'pm_Jan28_', 'pm_Jan29_']\n",
      "SHIFT IDS:  ['2', '2', '2', '2', '2', '0', '2', '2', '1', '1', '2', '2', '1', '2', '2', '1', '1', '2', '1', '2', '2', '2', '1', '1', '1', '0', '1', '2', '2', '0', '2', '2', '2', '2', '0', '1', '0', '1', '1', '2', '2', '2', '2', '2', '2', '2', '2', '2', '1', '1', '1', '2', '1']\n",
      "pa.session_id:  AQ2am_Feb17_30Hz\n",
      "SELF SHIFT ID:  1\n",
      " using shift:  1\n",
      "DLC SHIFT Loaded:  5.36\n",
      "DLC shift :  5.36   in frames:  160  after subtracting lever shift:  -89\n",
      " triggers:  (54,)\n",
      " data:  (40000, 128, 128)\n",
      "(39741, 128, 128)\n",
      "X:  (39741, 16384)\n"
     ]
    },
    {
     "name": "stderr",
     "output_type": "stream",
     "text": [
      "\r",
      "  0%|          | 0/1 [00:00<?, ?it/s]"
     ]
    },
    {
     "name": "stdout",
     "output_type": "stream",
     "text": [
      " X data using :  30  number of frames  (1322, 491520)\n",
      " pca allpoints:  (1322, 10)\n",
      "1 118 10\n"
     ]
    },
    {
     "name": "stderr",
     "output_type": "stream",
     "text": [
      "100%|██████████| 1/1 [00:00<00:00,  1.61it/s]\n",
      "  0%|          | 0/1 [00:00<?, ?it/s]"
     ]
    },
    {
     "name": "stdout",
     "output_type": "stream",
     "text": [
      " pca p_levefr resahped:  (1, 114, 10)\n",
      "  body movement pa.p_lever projection:  (1, 114, 10)\n",
      "temp points:  (1322, 2)\n",
      "temp points:  (114, 2)\n",
      "plever:  (102, 2)\n",
      "1 125 10\n"
     ]
    },
    {
     "name": "stderr",
     "output_type": "stream",
     "text": [
      "100%|██████████| 1/1 [00:00<00:00,  1.59it/s]\n",
      "  0%|          | 0/1 [00:00<?, ?it/s]"
     ]
    },
    {
     "name": "stdout",
     "output_type": "stream",
     "text": [
      " pca p_levefr resahped:  (1, 122, 10)\n",
      "  body movement pa.p_lever projection:  (1, 122, 10)\n",
      "temp points:  (1322, 2)\n",
      "temp points:  (122, 2)\n",
      "plever:  (109, 2)\n",
      "1 70 10\n"
     ]
    },
    {
     "name": "stderr",
     "output_type": "stream",
     "text": [
      "100%|██████████| 1/1 [00:00<00:00,  2.69it/s]\n",
      "100%|██████████| 1/1 [00:00<00:00,  5.58it/s]\n"
     ]
    },
    {
     "name": "stdout",
     "output_type": "stream",
     "text": [
      " pca p_levefr resahped:  (1, 67, 10)\n",
      "  body movement pa.p_lever projection:  (1, 67, 10)\n",
      "temp points:  (1322, 2)\n",
      "temp points:  (67, 2)\n",
      "plever:  (60, 2)\n",
      "1 31 10\n",
      " pca p_levefr resahped:  (1, 28, 10)\n",
      "  body movement pa.p_lever projection:  (1, 28, 10)\n",
      "temp points:  (1322, 2)\n"
     ]
    },
    {
     "name": "stderr",
     "output_type": "stream",
     "text": [
      "\r",
      "  0%|          | 0/1 [00:00<?, ?it/s]"
     ]
    },
    {
     "name": "stdout",
     "output_type": "stream",
     "text": [
      "temp points:  (28, 2)\n",
      "plever:  (25, 2)\n",
      "1 89 10\n"
     ]
    },
    {
     "name": "stderr",
     "output_type": "stream",
     "text": [
      "100%|██████████| 1/1 [00:00<00:00,  2.20it/s]\n",
      "  0%|          | 0/1 [00:00<?, ?it/s]"
     ]
    },
    {
     "name": "stdout",
     "output_type": "stream",
     "text": [
      " pca p_levefr resahped:  (1, 85, 10)\n",
      "  body movement pa.p_lever projection:  (1, 85, 10)\n",
      "temp points:  (1322, 2)\n",
      "temp points:  (85, 2)\n",
      "plever:  (76, 2)\n",
      "FNAME LEVER:  /media/cat/4TBSSD/yuki/AQ2/tif_files/AQ2am_Feb17_30Hz/AQ2am_Feb17_30Hz_all_locs_selected.txt\n",
      "1 104 10\n"
     ]
    },
    {
     "name": "stderr",
     "output_type": "stream",
     "text": [
      "100%|██████████| 1/1 [00:00<00:00,  1.88it/s]\n",
      "/media/cat/4TBSSD/anaconda3/envs/wide/lib/python3.8/site-packages/numpy/core/_asarray.py:171: VisibleDeprecationWarning: Creating an ndarray from ragged nested sequences (which is a list-or-tuple of lists-or-tuples-or ndarrays with different lengths or shapes) is deprecated. If you meant to do this, you must specify 'dtype=object' when creating the ndarray.\n",
      "  return array(a, dtype, copy=False, order=order, subok=True)\n"
     ]
    },
    {
     "name": "stdout",
     "output_type": "stream",
     "text": [
      " pca p_levefr resahped:  (1, 104, 10)\n",
      "temp points:  (1322, 2)\n",
      "temp points:  (104, 2)\n",
      "plever:  (93, 2)\n",
      "pa.session_id 1:  AQ2am_Feb18_30Hz\n",
      "session corrected:  AQ2am_Feb18_30Hz\n",
      " No video/3sec movement files...\n",
      "pa.session_id 1:  AQ2am_Feb19_30Hz\n",
      "session corrected:  AQ2am_Feb19_30Hz\n",
      " No video/3sec movement files...\n",
      "pa.session_id 1:  AQ2am_Feb22_30Hz\n",
      "session corrected:  AQ2am_Feb22_30Hz\n",
      " No video/3sec movement files...\n",
      "pa.session_id 1:  AQ2am_Feb23_30Hz\n",
      "session corrected:  AQ2am_Feb23_30Hz\n",
      " No video/3sec movement files...\n",
      "pa.session_id 1:  AQ2am_Feb25_30Hz\n",
      "session corrected:  AQ2am_Feb25_30Hz\n",
      " No video/3sec movement files...\n",
      "pa.session_id 1:  AQ2am_Feb26_30Hz\n",
      "session corrected:  AQ2am_Feb26_30Hz\n",
      " No video/3sec movement files...\n",
      "pa.session_id 1:  AQ2am_Feb29_30Hz\n",
      "session corrected:  AQ2am_Feb29_30Hz\n",
      " No video/3sec movement files...\n",
      "pa.session_id 1:  AQ2am_Mar1_30Hz\n",
      "session corrected:  AQ2am_Mar1_30Hz\n",
      " No video/3sec movement files...\n",
      "pa.session_id 1:  AQ2am_Mar2_30Hz\n",
      "session corrected:  AQ2am_Mar2_30Hz\n",
      " No video/3sec movement files...\n",
      "pa.session_id 1:  AQ2am_Mar3_30Hz\n",
      "session corrected:  AQ2am_Mar3_30Hz\n",
      " No video/3sec movement files...\n",
      "pa.session_id 1:  AQ2pm_Mar7_Day3_30Hz\n",
      "session corrected:  AQ2pm_Mar7_Day3_30Hz\n",
      " No video/3sec movement files...\n",
      "pa.session_id 1:  AQ2pm_Mar9_Day5_30Hz\n",
      "session corrected:  AQ2pm_Mar9_Day5_30Hz\n",
      " No video/3sec movement files...\n",
      "pa.session_id 1:  AQ2pm_Mar11_Day7_30Hz\n",
      "session corrected:  AQ2pm_Mar11_Day7_30Hz\n",
      " No video/3sec movement files...\n",
      "pa.session_id 1:  AQ2am_Mar14_Week2_30Hz\n",
      "session corrected:  AQ2am_Mar14_Week2_30Hz\n",
      " No video/3sec movement files...\n",
      "pa.session_id 1:  AQ2pm_Mar15_Week2_30Hz\n",
      "session corrected:  AQ2pm_Mar15_Week2_30Hz\n",
      " No video/3sec movement files...\n",
      "pa.session_id 1:  AQ2am_Mar16_Week2_30Hz\n",
      "session corrected:  AQ2am_Mar16_Week2_30Hz\n",
      " No video/3sec movement files...\n",
      "pa.session_id 1:  AQ2am_Mar17_Week2_30Hz\n",
      "session corrected:  AQ2am_Mar17_Week2_30Hz\n",
      " No video/3sec movement files...\n",
      "pa.session_id 1:  AQ2am_Mar18_Week2_30Hz\n",
      "session corrected:  AQ2am_Mar18_Week2_30Hz\n",
      " No video/3sec movement files...\n",
      "pa.session_id 1:  AQ2am_Mar21_Week3_30Hz\n",
      "session corrected:  AQ2am_Mar21_Week3_30Hz\n",
      " No video/3sec movement files...\n",
      "pa.session_id 1:  AQ2am_Mar22_Week3_30Hz\n",
      "session corrected:  AQ2am_Mar22_Week3_30Hz\n",
      " No video/3sec movement files...\n",
      "pa.session_id 1:  AQ2am_Mar23_Week3_30Hz\n",
      "session corrected:  AQ2am_Mar23_Week3_30Hz\n",
      " No video/3sec movement files...\n",
      "pa.session_id 1:  AQ2am_Mar24_Week3_30Hz\n",
      "session corrected:  AQ2am_Mar24_Week3_30Hz\n",
      " No video/3sec movement files...\n",
      "pa.session_id 1:  AQ2am_Mar29_Week4_30Hz\n",
      "session corrected:  AQ2am_Mar29_Week4_30Hz\n",
      " No video/3sec movement files...\n",
      "pa.session_id 1:  AQ2am_Mar30_Week4_30Hz\n",
      "session corrected:  AQ2am_Mar30_Week4_30Hz\n",
      " No video/3sec movement files...\n",
      "pa.session_id 1:  AQ2am_Mar31_Week4_30Hz\n",
      "session corrected:  AQ2am_Mar31_Week4_30Hz\n",
      " No video/3sec movement files...\n",
      "pa.session_id 1:  AQ2am_Apr1_Week4_30Hz\n",
      "session corrected:  AQ2am_Apr1_Week4_30Hz\n",
      " No video/3sec movement files...\n",
      "pa.session_id 1:  AQ2am_Apr4_Week5_30Hz\n",
      "session corrected:  AQ2am_Apr4_Week5_30Hz\n",
      " No video/3sec movement files...\n",
      "pa.session_id 1:  AQ2am_Apr5_Week5_30Hz\n",
      "session corrected:  AQ2am_Apr5_Week5_30Hz\n",
      " No video/3sec movement files...\n",
      "pa.session_id 1:  AQ2am_Apr6_Week5_30Hz\n",
      "session corrected:  AQ2am_Apr6_Week5_30Hz\n",
      " No video/3sec movement files...\n",
      "pa.session_id 1:  AQ2am_Apr7_Week5_30Hz\n",
      "session corrected:  AQ2am_Apr7_Week5_30Hz\n",
      " No video/3sec movement files...\n",
      "pa.session_id 1:  AQ2am_Apr8_Week5_30Hz\n",
      "session corrected:  AQ2am_Apr8_Week5_30Hz\n",
      " No video/3sec movement files...\n",
      "pa.session_id 1:  AQ2am_Apr11_Week6_30Hz\n",
      "session corrected:  AQ2am_Apr11_Week6_30Hz\n",
      " No video/3sec movement files...\n",
      "pa.session_id 1:  AQ2am_Apr12_Week6_30Hz\n",
      "session corrected:  AQ2am_Apr12_Week6_30Hz\n",
      " No video/3sec movement files...\n",
      "pa.session_id 1:  AQ2am_Apr13_Week6_30Hz\n",
      "session corrected:  AQ2am_Apr13_Week6_30Hz\n",
      " No video/3sec movement files...\n",
      "pa.session_id 1:  AQ2am_Apr14_Week6_30Hz\n",
      "session corrected:  AQ2am_Apr14_Week6_30Hz\n",
      " No video/3sec movement files...\n",
      "pa.session_id 1:  AQ2am_Apr15_Week6_30Hz\n",
      "session corrected:  AQ2am_Apr15_Week6_30Hz\n",
      " No video/3sec movement files...\n",
      "pa.session_id 1:  AQ2am_Apr18_Week7_30Hz\n",
      "session corrected:  AQ2am_Apr18_Week7_30Hz\n",
      " No video/3sec movement files...\n",
      "pa.session_id 1:  AQ2am_Apr19_Week7_30Hz\n",
      "session corrected:  AQ2am_Apr19_Week7_30Hz\n",
      " No video/3sec movement files...\n",
      "pa.session_id 1:  AQ2am_Apr20_Week7_30Hz\n",
      "session corrected:  AQ2am_Apr20_Week7_30Hz\n",
      " No video/3sec movement files...\n",
      "pa.session_id 1:  AQ2am_Apr21_Week7_30Hz\n",
      "session corrected:  AQ2am_Apr21_Week7_30Hz\n",
      "(7,)\n",
      "['left_paw' 'right_paw' 'nose' 'jaw' 'right_ear' 'tongue' 'lever']\n",
      "pa.session_id 2:  AQ2am_Apr21_Week7_30Hz\n",
      "starts:  [129.86666667 228.53333333 372.         418.93333333 447.26666667\n",
      " 485.66666667 570.53333333 612.46666667 708.         722.6       ]\n",
      "lever offset:  63\n",
      "SESSIONS:  ['am_Apr21_', 'am_Apr22_', 'am_Apr25_', 'am_Apr26_', 'am_Apr27_', 'am_Apr28_', 'am_Apr29_', 'am_Dec9_', 'am_Dec11_', 'am_Dec17_', 'am_Dec18_', 'am_Dec28_', 'am_Dec29_', 'am_Dec30_', 'am_Feb2_', 'am_Feb3_', 'am_Feb4_', 'am_Feb5_', 'am_Feb9_', 'am_Feb10_', 'am_Feb11_', 'am_Feb12_', 'am_Feb15_', 'am_Feb16_', 'am_Feb17_', 'am_Feb18_', 'am_Jan5_', 'am_Jan6_', 'am_Jan7_', 'am_Jan8_', 'am_Jan13_', 'am_Jan14_', 'am_Jan15_', 'am_Jan18_', 'am_Jan19_', 'am_Jan21_', 'am_Jan22_', 'am_Jan28_', 'am_Jan29_', 'pm_Dec16_', 'pm_Dec17_', 'pm_Jan11_', 'pm_Jan13_', 'pm_Jan14_', 'pm_Jan15_', 'pm_Jan18_', 'pm_Jan20_', 'pm_Jan21_', 'pm_Jan22_', 'pm_Jan26_', 'pm_Jan27_', 'pm_Jan28_', 'pm_Jan29_']\n",
      "SHIFT IDS:  ['2', '2', '2', '2', '2', '0', '2', '2', '1', '1', '2', '2', '1', '2', '2', '1', '1', '2', '1', '2', '2', '2', '1', '1', '1', '0', '1', '2', '2', '0', '2', '2', '2', '2', '0', '1', '0', '1', '1', '2', '2', '2', '2', '2', '2', '2', '2', '2', '1', '1', '1', '2', '1']\n",
      "pa.session_id:  AQ2am_Apr21_Week7_30Hz\n",
      "SELF SHIFT ID:  2\n",
      " using shift:  2\n",
      "DLC SHIFT Loaded:  4.16\n",
      "DLC shift :  4.16   in frames:  124  after subtracting lever shift:  -61\n",
      " triggers:  (37,)\n",
      " data:  (40000, 128, 128)\n",
      "(39675, 128, 128)\n",
      "X:  (39675, 16384)\n"
     ]
    },
    {
     "name": "stderr",
     "output_type": "stream",
     "text": [
      "\r",
      "  0%|          | 0/1 [00:00<?, ?it/s]"
     ]
    },
    {
     "name": "stdout",
     "output_type": "stream",
     "text": [
      " X data using :  30  number of frames  (1320, 491520)\n",
      " pca allpoints:  (1320, 10)\n",
      "1 16 10\n"
     ]
    },
    {
     "name": "stderr",
     "output_type": "stream",
     "text": [
      "100%|██████████| 1/1 [00:00<00:00, 10.64it/s]\n",
      "100%|██████████| 1/1 [00:00<00:00,  6.06it/s]\n",
      "  0%|          | 0/1 [00:00<?, ?it/s]"
     ]
    },
    {
     "name": "stdout",
     "output_type": "stream",
     "text": [
      " pca p_levefr resahped:  (1, 16, 10)\n",
      "  body movement pa.p_lever projection:  (1, 16, 10)\n",
      "temp points:  (1320, 2)\n",
      "temp points:  (16, 2)\n",
      "plever:  (14, 2)\n",
      "1 32 10\n",
      " pca p_levefr resahped:  (1, 32, 10)\n",
      "  body movement pa.p_lever projection:  (1, 32, 10)\n",
      "temp points:  (1320, 2)\n",
      "temp points:  (32, 2)\n",
      "plever:  (28, 2)\n",
      "1 35 10\n"
     ]
    },
    {
     "name": "stderr",
     "output_type": "stream",
     "text": [
      "100%|██████████| 1/1 [00:00<00:00,  5.24it/s]\n",
      "100%|██████████| 1/1 [00:00<00:00, 17.08it/s]\n",
      "  0%|          | 0/1 [00:00<?, ?it/s]"
     ]
    },
    {
     "name": "stdout",
     "output_type": "stream",
     "text": [
      " pca p_levefr resahped:  (1, 35, 10)\n",
      "  body movement pa.p_lever projection:  (1, 35, 10)\n",
      "temp points:  (1320, 2)\n",
      "temp points:  (35, 2)\n",
      "plever:  (31, 2)\n",
      "1 8 10\n",
      " pca p_levefr resahped:  (1, 8, 10)\n",
      "  body movement pa.p_lever projection:  (1, 8, 10)\n",
      "temp points:  (1320, 2)\n",
      "temp points:  (8, 2)\n",
      "plever:  (7, 2)\n",
      "1 24 10\n"
     ]
    },
    {
     "name": "stderr",
     "output_type": "stream",
     "text": [
      "100%|██████████| 1/1 [00:00<00:00,  7.45it/s]\n",
      "  0%|          | 0/1 [00:00<?, ?it/s]"
     ]
    },
    {
     "name": "stdout",
     "output_type": "stream",
     "text": [
      " pca p_levefr resahped:  (1, 24, 10)\n",
      "  body movement pa.p_lever projection:  (1, 24, 10)\n",
      "temp points:  (1320, 2)\n",
      "temp points:  (24, 2)\n",
      "plever:  (21, 2)\n",
      "FNAME LEVER:  /media/cat/4TBSSD/yuki/AQ2/tif_files/AQ2am_Apr21_Week7_30Hz/AQ2am_Apr21_Week7_30Hz_all_locs_selected.txt\n",
      "1 53 10\n"
     ]
    },
    {
     "name": "stderr",
     "output_type": "stream",
     "text": [
      "100%|██████████| 1/1 [00:00<00:00,  3.05it/s]\n",
      "/media/cat/4TBSSD/anaconda3/envs/wide/lib/python3.8/site-packages/numpy/core/_asarray.py:171: VisibleDeprecationWarning: Creating an ndarray from ragged nested sequences (which is a list-or-tuple of lists-or-tuples-or ndarrays with different lengths or shapes) is deprecated. If you meant to do this, you must specify 'dtype=object' when creating the ndarray.\n",
      "  return array(a, dtype, copy=False, order=order, subok=True)\n"
     ]
    },
    {
     "name": "stdout",
     "output_type": "stream",
     "text": [
      " pca p_levefr resahped:  (1, 53, 10)\n",
      "temp points:  (1320, 2)\n",
      "temp points:  (53, 2)\n",
      "plever:  (47, 2)\n",
      "pa.session_id 1:  AQ2am_Apr22_Week7_30Hz\n",
      "session corrected:  AQ2am_Apr22_Week7_30Hz\n",
      "(7,)\n",
      "['left_paw' 'right_paw' 'nose' 'jaw' 'right_ear' 'tongue' 'lever']\n",
      "pa.session_id 2:  AQ2am_Apr22_Week7_30Hz\n",
      "starts:  [ 68.53333333 160.26666667 173.4        273.73333333 297.06666667\n",
      " 615.46666667 718.86666667 733.46666667 796.13333333 816.93333333]\n",
      "lever offset:  66\n",
      "SESSIONS:  ['am_Apr21_', 'am_Apr22_', 'am_Apr25_', 'am_Apr26_', 'am_Apr27_', 'am_Apr28_', 'am_Apr29_', 'am_Dec9_', 'am_Dec11_', 'am_Dec17_', 'am_Dec18_', 'am_Dec28_', 'am_Dec29_', 'am_Dec30_', 'am_Feb2_', 'am_Feb3_', 'am_Feb4_', 'am_Feb5_', 'am_Feb9_', 'am_Feb10_', 'am_Feb11_', 'am_Feb12_', 'am_Feb15_', 'am_Feb16_', 'am_Feb17_', 'am_Feb18_', 'am_Jan5_', 'am_Jan6_', 'am_Jan7_', 'am_Jan8_', 'am_Jan13_', 'am_Jan14_', 'am_Jan15_', 'am_Jan18_', 'am_Jan19_', 'am_Jan21_', 'am_Jan22_', 'am_Jan28_', 'am_Jan29_', 'pm_Dec16_', 'pm_Dec17_', 'pm_Jan11_', 'pm_Jan13_', 'pm_Jan14_', 'pm_Jan15_', 'pm_Jan18_', 'pm_Jan20_', 'pm_Jan21_', 'pm_Jan22_', 'pm_Jan26_', 'pm_Jan27_', 'pm_Jan28_', 'pm_Jan29_']\n",
      "SHIFT IDS:  ['2', '2', '2', '2', '2', '0', '2', '2', '1', '1', '2', '2', '1', '2', '2', '1', '1', '2', '1', '2', '2', '2', '1', '1', '1', '0', '1', '2', '2', '0', '2', '2', '2', '2', '0', '1', '0', '1', '1', '2', '2', '2', '2', '2', '2', '2', '2', '2', '1', '1', '1', '2', '1']\n",
      "pa.session_id:  AQ2am_Apr22_Week7_30Hz\n",
      "SELF SHIFT ID:  2\n",
      " using shift:  2\n",
      "DLC SHIFT Loaded:  3.51\n",
      "DLC shift :  3.51   in frames:  105  after subtracting lever shift:  -39\n",
      " triggers:  (47,)\n",
      " data:  (40000, 128, 128)\n",
      "(39114, 128, 128)\n",
      "X:  (39114, 16384)\n"
     ]
    },
    {
     "name": "stderr",
     "output_type": "stream",
     "text": [
      "\r",
      "  0%|          | 0/1 [00:00<?, ?it/s]"
     ]
    },
    {
     "name": "stdout",
     "output_type": "stream",
     "text": [
      " X data using :  30  number of frames  (1301, 491520)\n",
      " pca allpoints:  (1301, 10)\n",
      "1 18 10\n"
     ]
    },
    {
     "name": "stderr",
     "output_type": "stream",
     "text": [
      "100%|██████████| 1/1 [00:00<00:00, 10.82it/s]\n",
      "  0%|          | 0/1 [00:00<?, ?it/s]"
     ]
    },
    {
     "name": "stdout",
     "output_type": "stream",
     "text": [
      " pca p_levefr resahped:  (1, 15, 10)\n",
      "  body movement pa.p_lever projection:  (1, 15, 10)\n",
      "temp points:  (1301, 2)\n",
      "temp points:  (15, 2)\n",
      "plever:  (13, 2)\n",
      "1 146 10\n"
     ]
    },
    {
     "name": "stderr",
     "output_type": "stream",
     "text": [
      "100%|██████████| 1/1 [00:00<00:00,  1.08it/s]\n",
      "  0%|          | 0/1 [00:00<?, ?it/s]"
     ]
    },
    {
     "name": "stdout",
     "output_type": "stream",
     "text": [
      " pca p_levefr resahped:  (1, 142, 10)\n",
      "  body movement pa.p_lever projection:  (1, 142, 10)\n",
      "temp points:  (1301, 2)\n",
      "temp points:  (142, 2)\n",
      "plever:  (127, 2)\n",
      "1 128 10\n"
     ]
    },
    {
     "name": "stderr",
     "output_type": "stream",
     "text": [
      "100%|██████████| 1/1 [00:00<00:00,  1.37it/s]\n",
      "100%|██████████| 1/1 [00:00<00:00,  6.05it/s]\n",
      "  0%|          | 0/1 [00:00<?, ?it/s]"
     ]
    },
    {
     "name": "stdout",
     "output_type": "stream",
     "text": [
      " pca p_levefr resahped:  (1, 125, 10)\n",
      "  body movement pa.p_lever projection:  (1, 125, 10)\n",
      "temp points:  (1301, 2)\n",
      "temp points:  (125, 2)\n",
      "plever:  (112, 2)\n",
      "1 26 10\n",
      " pca p_levefr resahped:  (1, 24, 10)\n",
      "  body movement pa.p_lever projection:  (1, 24, 10)\n",
      "temp points:  (1301, 2)\n",
      "temp points:  (24, 2)\n",
      "plever:  (21, 2)\n",
      "1 65 10\n"
     ]
    },
    {
     "name": "stderr",
     "output_type": "stream",
     "text": [
      "100%|██████████| 1/1 [00:00<00:00,  2.97it/s]\n",
      "  0%|          | 0/1 [00:00<?, ?it/s]"
     ]
    },
    {
     "name": "stdout",
     "output_type": "stream",
     "text": [
      " pca p_levefr resahped:  (1, 62, 10)\n",
      "  body movement pa.p_lever projection:  (1, 62, 10)\n",
      "temp points:  (1301, 2)\n",
      "temp points:  (62, 2)\n",
      "plever:  (55, 2)\n",
      "FNAME LEVER:  /media/cat/4TBSSD/yuki/AQ2/tif_files/AQ2am_Apr22_Week7_30Hz/AQ2am_Apr22_Week7_30Hz_all_locs_selected.txt\n",
      "1 123 10\n"
     ]
    },
    {
     "name": "stderr",
     "output_type": "stream",
     "text": [
      "100%|██████████| 1/1 [00:00<00:00,  1.51it/s]\n",
      "/media/cat/4TBSSD/anaconda3/envs/wide/lib/python3.8/site-packages/numpy/core/_asarray.py:171: VisibleDeprecationWarning: Creating an ndarray from ragged nested sequences (which is a list-or-tuple of lists-or-tuples-or ndarrays with different lengths or shapes) is deprecated. If you meant to do this, you must specify 'dtype=object' when creating the ndarray.\n",
      "  return array(a, dtype, copy=False, order=order, subok=True)\n"
     ]
    },
    {
     "name": "stdout",
     "output_type": "stream",
     "text": [
      " pca p_levefr resahped:  (1, 123, 10)\n",
      "temp points:  (1301, 2)\n",
      "temp points:  (123, 2)\n",
      "plever:  (110, 2)\n",
      "pa.session_id 1:  AQ2am_Apr25_Week8_30Hz\n",
      "session corrected:  AQ2am_Apr25_Week8_30Hz\n",
      "(7,)\n",
      "['left_paw' 'right_paw' 'nose' 'jaw' 'right_ear' 'tongue' 'lever']\n",
      "pa.session_id 2:  AQ2am_Apr25_Week8_30Hz\n",
      "starts:  [413.86666667 716.46666667 776.2        827.4        849.8\n",
      " 853.93333333 867.6        873.93333333 899.26666667 912.06666667]\n",
      "lever offset:  58\n",
      "SESSIONS:  ['am_Apr21_', 'am_Apr22_', 'am_Apr25_', 'am_Apr26_', 'am_Apr27_', 'am_Apr28_', 'am_Apr29_', 'am_Dec9_', 'am_Dec11_', 'am_Dec17_', 'am_Dec18_', 'am_Dec28_', 'am_Dec29_', 'am_Dec30_', 'am_Feb2_', 'am_Feb3_', 'am_Feb4_', 'am_Feb5_', 'am_Feb9_', 'am_Feb10_', 'am_Feb11_', 'am_Feb12_', 'am_Feb15_', 'am_Feb16_', 'am_Feb17_', 'am_Feb18_', 'am_Jan5_', 'am_Jan6_', 'am_Jan7_', 'am_Jan8_', 'am_Jan13_', 'am_Jan14_', 'am_Jan15_', 'am_Jan18_', 'am_Jan19_', 'am_Jan21_', 'am_Jan22_', 'am_Jan28_', 'am_Jan29_', 'pm_Dec16_', 'pm_Dec17_', 'pm_Jan11_', 'pm_Jan13_', 'pm_Jan14_', 'pm_Jan15_', 'pm_Jan18_', 'pm_Jan20_', 'pm_Jan21_', 'pm_Jan22_', 'pm_Jan26_', 'pm_Jan27_', 'pm_Jan28_', 'pm_Jan29_']\n",
      "SHIFT IDS:  ['2', '2', '2', '2', '2', '0', '2', '2', '1', '1', '2', '2', '1', '2', '2', '1', '1', '2', '1', '2', '2', '2', '1', '1', '1', '0', '1', '2', '2', '0', '2', '2', '2', '2', '0', '1', '0', '1', '1', '2', '2', '2', '2', '2', '2', '2', '2', '2', '1', '1', '1', '2', '1']\n",
      "pa.session_id:  AQ2am_Apr25_Week8_30Hz\n",
      "SELF SHIFT ID:  2\n",
      " using shift:  2\n",
      "DLC SHIFT Loaded:  3.96\n",
      "DLC shift :  3.96   in frames:  118  after subtracting lever shift:  -60\n",
      " triggers:  (36,)\n",
      " data:  (40000, 128, 128)\n",
      "(39125, 128, 128)\n",
      "X:  (39125, 16384)\n"
     ]
    },
    {
     "name": "stderr",
     "output_type": "stream",
     "text": [
      "\r",
      "  0%|          | 0/1 [00:00<?, ?it/s]"
     ]
    },
    {
     "name": "stdout",
     "output_type": "stream",
     "text": [
      " X data using :  30  number of frames  (1301, 491520)\n",
      " pca allpoints:  (1301, 10)\n",
      "1 34 10\n"
     ]
    },
    {
     "name": "stderr",
     "output_type": "stream",
     "text": [
      "100%|██████████| 1/1 [00:00<00:00,  5.53it/s]\n",
      "  0%|          | 0/1 [00:00<?, ?it/s]"
     ]
    },
    {
     "name": "stdout",
     "output_type": "stream",
     "text": [
      " pca p_levefr resahped:  (1, 32, 10)\n",
      "  body movement pa.p_lever projection:  (1, 32, 10)\n",
      "temp points:  (1301, 2)\n",
      "temp points:  (32, 2)\n",
      "plever:  (28, 2)\n",
      "1 41 10\n"
     ]
    },
    {
     "name": "stderr",
     "output_type": "stream",
     "text": [
      "100%|██████████| 1/1 [00:00<00:00,  4.79it/s]\n",
      "  0%|          | 0/1 [00:00<?, ?it/s]"
     ]
    },
    {
     "name": "stdout",
     "output_type": "stream",
     "text": [
      " pca p_levefr resahped:  (1, 39, 10)\n",
      "  body movement pa.p_lever projection:  (1, 39, 10)\n",
      "temp points:  (1301, 2)\n",
      "temp points:  (39, 2)\n",
      "plever:  (35, 2)\n",
      "1 75 10\n"
     ]
    },
    {
     "name": "stderr",
     "output_type": "stream",
     "text": [
      "100%|██████████| 1/1 [00:00<00:00,  2.58it/s]\n",
      "100%|██████████| 1/1 [00:00<00:00, 16.53it/s]\n",
      "  0%|          | 0/1 [00:00<?, ?it/s]"
     ]
    },
    {
     "name": "stdout",
     "output_type": "stream",
     "text": [
      " pca p_levefr resahped:  (1, 73, 10)\n",
      "  body movement pa.p_lever projection:  (1, 73, 10)\n",
      "temp points:  (1301, 2)\n",
      "temp points:  (73, 2)\n",
      "plever:  (65, 2)\n",
      "1 8 10\n",
      " pca p_levefr resahped:  (1, 6, 10)\n",
      "  body movement pa.p_lever projection:  (1, 6, 10)\n",
      "temp points:  (1301, 2)\n",
      "temp points:  (6, 2)\n",
      "plever:  (5, 2)\n",
      "1 52 10\n"
     ]
    },
    {
     "name": "stderr",
     "output_type": "stream",
     "text": [
      "100%|██████████| 1/1 [00:00<00:00,  3.66it/s]\n",
      "  0%|          | 0/1 [00:00<?, ?it/s]"
     ]
    },
    {
     "name": "stdout",
     "output_type": "stream",
     "text": [
      " pca p_levefr resahped:  (1, 50, 10)\n",
      "  body movement pa.p_lever projection:  (1, 50, 10)\n",
      "temp points:  (1301, 2)\n",
      "temp points:  (50, 2)\n",
      "plever:  (45, 2)\n",
      "FNAME LEVER:  /media/cat/4TBSSD/yuki/AQ2/tif_files/AQ2am_Apr25_Week8_30Hz/AQ2am_Apr25_Week8_30Hz_all_locs_selected.txt\n",
      "1 114 10\n"
     ]
    },
    {
     "name": "stderr",
     "output_type": "stream",
     "text": [
      "100%|██████████| 1/1 [00:00<00:00,  1.60it/s]\n",
      "/media/cat/4TBSSD/anaconda3/envs/wide/lib/python3.8/site-packages/numpy/core/_asarray.py:171: VisibleDeprecationWarning: Creating an ndarray from ragged nested sequences (which is a list-or-tuple of lists-or-tuples-or ndarrays with different lengths or shapes) is deprecated. If you meant to do this, you must specify 'dtype=object' when creating the ndarray.\n",
      "  return array(a, dtype, copy=False, order=order, subok=True)\n"
     ]
    },
    {
     "name": "stdout",
     "output_type": "stream",
     "text": [
      " pca p_levefr resahped:  (1, 114, 10)\n",
      "temp points:  (1301, 2)\n",
      "temp points:  (114, 2)\n",
      "plever:  (102, 2)\n",
      "pa.session_id 1:  AQ2am_Apr26_Week8_30Hz\n",
      "session corrected:  AQ2am_Apr26_Week8_30Hz\n",
      "(7,)\n",
      "['left_paw' 'right_paw' 'nose' 'jaw' 'right_ear' 'tongue' 'lever']\n",
      "pa.session_id 2:  AQ2am_Apr26_Week8_30Hz\n",
      "starts:  [ 67.66666667  80.33333333 108.53333333 148.86666667 155.06666667\n",
      " 210.06666667 219.46666667 232.73333333 257.4        333.8       ]\n",
      "lever offset:  57\n",
      "SESSIONS:  ['am_Apr21_', 'am_Apr22_', 'am_Apr25_', 'am_Apr26_', 'am_Apr27_', 'am_Apr28_', 'am_Apr29_', 'am_Dec9_', 'am_Dec11_', 'am_Dec17_', 'am_Dec18_', 'am_Dec28_', 'am_Dec29_', 'am_Dec30_', 'am_Feb2_', 'am_Feb3_', 'am_Feb4_', 'am_Feb5_', 'am_Feb9_', 'am_Feb10_', 'am_Feb11_', 'am_Feb12_', 'am_Feb15_', 'am_Feb16_', 'am_Feb17_', 'am_Feb18_', 'am_Jan5_', 'am_Jan6_', 'am_Jan7_', 'am_Jan8_', 'am_Jan13_', 'am_Jan14_', 'am_Jan15_', 'am_Jan18_', 'am_Jan19_', 'am_Jan21_', 'am_Jan22_', 'am_Jan28_', 'am_Jan29_', 'pm_Dec16_', 'pm_Dec17_', 'pm_Jan11_', 'pm_Jan13_', 'pm_Jan14_', 'pm_Jan15_', 'pm_Jan18_', 'pm_Jan20_', 'pm_Jan21_', 'pm_Jan22_', 'pm_Jan26_', 'pm_Jan27_', 'pm_Jan28_', 'pm_Jan29_']\n",
      "SHIFT IDS:  ['2', '2', '2', '2', '2', '0', '2', '2', '1', '1', '2', '2', '1', '2', '2', '1', '1', '2', '1', '2', '2', '2', '1', '1', '1', '0', '1', '2', '2', '0', '2', '2', '2', '2', '0', '1', '0', '1', '1', '2', '2', '2', '2', '2', '2', '2', '2', '2', '1', '1', '1', '2', '1']\n",
      "pa.session_id:  AQ2am_Apr26_Week8_30Hz\n",
      "SELF SHIFT ID:  2\n",
      " using shift:  2\n",
      "DLC SHIFT Loaded:  3.69\n",
      "DLC shift :  3.69   in frames:  110  after subtracting lever shift:  -53\n",
      " triggers:  (47,)\n",
      " data:  (40000, 128, 128)\n",
      "(39055, 128, 128)\n",
      "X:  (39055, 16384)\n"
     ]
    },
    {
     "name": "stderr",
     "output_type": "stream",
     "text": [
      "\r",
      "  0%|          | 0/1 [00:00<?, ?it/s]"
     ]
    },
    {
     "name": "stdout",
     "output_type": "stream",
     "text": [
      " X data using :  30  number of frames  (1299, 491520)\n",
      " pca allpoints:  (1299, 10)\n",
      "1 46 10\n"
     ]
    },
    {
     "name": "stderr",
     "output_type": "stream",
     "text": [
      "100%|██████████| 1/1 [00:00<00:00,  4.25it/s]\n",
      "  0%|          | 0/1 [00:00<?, ?it/s]"
     ]
    },
    {
     "name": "stdout",
     "output_type": "stream",
     "text": [
      " pca p_levefr resahped:  (1, 43, 10)\n",
      "  body movement pa.p_lever projection:  (1, 43, 10)\n",
      "temp points:  (1299, 2)\n",
      "temp points:  (43, 2)\n",
      "plever:  (38, 2)\n",
      "1 96 10\n"
     ]
    },
    {
     "name": "stderr",
     "output_type": "stream",
     "text": [
      "100%|██████████| 1/1 [00:00<00:00,  1.87it/s]\n",
      "  0%|          | 0/1 [00:00<?, ?it/s]"
     ]
    },
    {
     "name": "stdout",
     "output_type": "stream",
     "text": [
      " pca p_levefr resahped:  (1, 93, 10)\n",
      "  body movement pa.p_lever projection:  (1, 93, 10)\n",
      "temp points:  (1299, 2)\n",
      "temp points:  (93, 2)\n",
      "plever:  (83, 2)\n",
      "1 145 10\n"
     ]
    },
    {
     "name": "stderr",
     "output_type": "stream",
     "text": [
      "100%|██████████| 1/1 [00:00<00:00,  1.22it/s]\n",
      "100%|██████████| 1/1 [00:00<00:00, 16.30it/s]\n",
      "  0%|          | 0/1 [00:00<?, ?it/s]"
     ]
    },
    {
     "name": "stdout",
     "output_type": "stream",
     "text": [
      " pca p_levefr resahped:  (1, 141, 10)\n",
      "  body movement pa.p_lever projection:  (1, 141, 10)\n",
      "temp points:  (1299, 2)\n",
      "temp points:  (141, 2)\n",
      "plever:  (127, 2)\n",
      "1 10 10\n",
      " pca p_levefr resahped:  (1, 8, 10)\n",
      "  body movement pa.p_lever projection:  (1, 8, 10)\n",
      "temp points:  (1299, 2)\n",
      "temp points:  (8, 2)\n",
      "plever:  (7, 2)\n",
      "1 68 10\n"
     ]
    },
    {
     "name": "stderr",
     "output_type": "stream",
     "text": [
      "100%|██████████| 1/1 [00:00<00:00,  2.80it/s]\n",
      "  0%|          | 0/1 [00:00<?, ?it/s]"
     ]
    },
    {
     "name": "stdout",
     "output_type": "stream",
     "text": [
      " pca p_levefr resahped:  (1, 64, 10)\n",
      "  body movement pa.p_lever projection:  (1, 64, 10)\n",
      "temp points:  (1299, 2)\n",
      "temp points:  (64, 2)\n",
      "plever:  (57, 2)\n",
      "FNAME LEVER:  /media/cat/4TBSSD/yuki/AQ2/tif_files/AQ2am_Apr26_Week8_30Hz/AQ2am_Apr26_Week8_30Hz_all_locs_selected.txt\n",
      "1 112 10\n"
     ]
    },
    {
     "name": "stderr",
     "output_type": "stream",
     "text": [
      "100%|██████████| 1/1 [00:00<00:00,  1.64it/s]\n",
      "/media/cat/4TBSSD/anaconda3/envs/wide/lib/python3.8/site-packages/numpy/core/_asarray.py:171: VisibleDeprecationWarning: Creating an ndarray from ragged nested sequences (which is a list-or-tuple of lists-or-tuples-or ndarrays with different lengths or shapes) is deprecated. If you meant to do this, you must specify 'dtype=object' when creating the ndarray.\n",
      "  return array(a, dtype, copy=False, order=order, subok=True)\n"
     ]
    },
    {
     "name": "stdout",
     "output_type": "stream",
     "text": [
      " pca p_levefr resahped:  (1, 112, 10)\n",
      "temp points:  (1299, 2)\n",
      "temp points:  (112, 2)\n",
      "plever:  (100, 2)\n",
      "pa.session_id 1:  AQ2am_Apr27_Week8_30Hz\n",
      "session corrected:  AQ2am_Apr27_Week8_30Hz\n",
      "(7,)\n",
      "['left_paw' 'right_paw' 'nose' 'jaw' 'right_ear' 'tongue' 'lever']\n",
      "pa.session_id 2:  AQ2am_Apr27_Week8_30Hz\n",
      "starts:  [129.53333333 181.33333333 202.73333333 223.86666667 241.4\n",
      " 248.13333333 274.93333333 283.33333333 300.93333333 333.8       ]\n",
      "lever offset:  64\n",
      "SESSIONS:  ['am_Apr21_', 'am_Apr22_', 'am_Apr25_', 'am_Apr26_', 'am_Apr27_', 'am_Apr28_', 'am_Apr29_', 'am_Dec9_', 'am_Dec11_', 'am_Dec17_', 'am_Dec18_', 'am_Dec28_', 'am_Dec29_', 'am_Dec30_', 'am_Feb2_', 'am_Feb3_', 'am_Feb4_', 'am_Feb5_', 'am_Feb9_', 'am_Feb10_', 'am_Feb11_', 'am_Feb12_', 'am_Feb15_', 'am_Feb16_', 'am_Feb17_', 'am_Feb18_', 'am_Jan5_', 'am_Jan6_', 'am_Jan7_', 'am_Jan8_', 'am_Jan13_', 'am_Jan14_', 'am_Jan15_', 'am_Jan18_', 'am_Jan19_', 'am_Jan21_', 'am_Jan22_', 'am_Jan28_', 'am_Jan29_', 'pm_Dec16_', 'pm_Dec17_', 'pm_Jan11_', 'pm_Jan13_', 'pm_Jan14_', 'pm_Jan15_', 'pm_Jan18_', 'pm_Jan20_', 'pm_Jan21_', 'pm_Jan22_', 'pm_Jan26_', 'pm_Jan27_', 'pm_Jan28_', 'pm_Jan29_']\n",
      "SHIFT IDS:  ['2', '2', '2', '2', '2', '0', '2', '2', '1', '1', '2', '2', '1', '2', '2', '1', '1', '2', '1', '2', '2', '2', '1', '1', '1', '0', '1', '2', '2', '0', '2', '2', '2', '2', '0', '1', '0', '1', '1', '2', '2', '2', '2', '2', '2', '2', '2', '2', '1', '1', '1', '2', '1']\n",
      "pa.session_id:  AQ2am_Apr27_Week8_30Hz\n",
      "SELF SHIFT ID:  2\n",
      " using shift:  2\n",
      "DLC SHIFT Loaded:  3.57\n",
      "DLC shift :  3.57   in frames:  107  after subtracting lever shift:  -43\n",
      " triggers:  (28,)\n",
      " data:  (40000, 128, 128)\n",
      "(39019, 128, 128)\n",
      "X:  (39019, 16384)\n"
     ]
    },
    {
     "name": "stderr",
     "output_type": "stream",
     "text": [
      "\r",
      "  0%|          | 0/1 [00:00<?, ?it/s]"
     ]
    },
    {
     "name": "stdout",
     "output_type": "stream",
     "text": [
      " X data using :  30  number of frames  (1298, 491520)\n",
      " pca allpoints:  (1298, 10)\n",
      "1 89 10\n"
     ]
    },
    {
     "name": "stderr",
     "output_type": "stream",
     "text": [
      "100%|██████████| 1/1 [00:00<00:00,  2.12it/s]\n",
      "  0%|          | 0/1 [00:00<?, ?it/s]"
     ]
    },
    {
     "name": "stdout",
     "output_type": "stream",
     "text": [
      " pca p_levefr resahped:  (1, 88, 10)\n",
      "  body movement pa.p_lever projection:  (1, 88, 10)\n",
      "temp points:  (1298, 2)\n",
      "temp points:  (88, 2)\n",
      "plever:  (79, 2)\n",
      "1 51 10\n"
     ]
    },
    {
     "name": "stderr",
     "output_type": "stream",
     "text": [
      "100%|██████████| 1/1 [00:00<00:00,  3.28it/s]\n",
      "  0%|          | 0/1 [00:00<?, ?it/s]"
     ]
    },
    {
     "name": "stdout",
     "output_type": "stream",
     "text": [
      " pca p_levefr resahped:  (1, 49, 10)\n",
      "  body movement pa.p_lever projection:  (1, 49, 10)\n",
      "temp points:  (1298, 2)\n",
      "temp points:  (49, 2)\n",
      "plever:  (44, 2)\n",
      "1 123 10\n"
     ]
    },
    {
     "name": "stderr",
     "output_type": "stream",
     "text": [
      "100%|██████████| 1/1 [00:00<00:00,  1.52it/s]\n",
      "  0%|          | 0/1 [00:00<?, ?it/s]"
     ]
    },
    {
     "name": "stdout",
     "output_type": "stream",
     "text": [
      " pca p_levefr resahped:  (1, 119, 10)\n",
      "  body movement pa.p_lever projection:  (1, 119, 10)\n",
      "temp points:  (1298, 2)\n",
      "temp points:  (119, 2)\n",
      "plever:  (107, 2)\n",
      "1 49 10\n"
     ]
    },
    {
     "name": "stderr",
     "output_type": "stream",
     "text": [
      "100%|██████████| 1/1 [00:00<00:00,  3.43it/s]\n",
      "  0%|          | 0/1 [00:00<?, ?it/s]"
     ]
    },
    {
     "name": "stdout",
     "output_type": "stream",
     "text": [
      " pca p_levefr resahped:  (1, 47, 10)\n",
      "  body movement pa.p_lever projection:  (1, 47, 10)\n",
      "temp points:  (1298, 2)\n",
      "temp points:  (47, 2)\n",
      "plever:  (42, 2)\n",
      "1 104 10\n"
     ]
    },
    {
     "name": "stderr",
     "output_type": "stream",
     "text": [
      "100%|██████████| 1/1 [00:00<00:00,  1.80it/s]\n",
      "  0%|          | 0/1 [00:00<?, ?it/s]"
     ]
    },
    {
     "name": "stdout",
     "output_type": "stream",
     "text": [
      " pca p_levefr resahped:  (1, 102, 10)\n",
      "  body movement pa.p_lever projection:  (1, 102, 10)\n",
      "temp points:  (1298, 2)\n",
      "temp points:  (102, 2)\n",
      "plever:  (91, 2)\n",
      "FNAME LEVER:  /media/cat/4TBSSD/yuki/AQ2/tif_files/AQ2am_Apr27_Week8_30Hz/AQ2am_Apr27_Week8_30Hz_all_locs_selected.txt\n",
      "1 138 10\n"
     ]
    },
    {
     "name": "stderr",
     "output_type": "stream",
     "text": [
      "100%|██████████| 1/1 [00:00<00:00,  1.26it/s]\n",
      "/media/cat/4TBSSD/anaconda3/envs/wide/lib/python3.8/site-packages/numpy/core/_asarray.py:171: VisibleDeprecationWarning: Creating an ndarray from ragged nested sequences (which is a list-or-tuple of lists-or-tuples-or ndarrays with different lengths or shapes) is deprecated. If you meant to do this, you must specify 'dtype=object' when creating the ndarray.\n",
      "  return array(a, dtype, copy=False, order=order, subok=True)\n"
     ]
    },
    {
     "name": "stdout",
     "output_type": "stream",
     "text": [
      " pca p_levefr resahped:  (1, 138, 10)\n",
      "temp points:  (1298, 2)\n",
      "temp points:  (138, 2)\n",
      "plever:  (124, 2)\n",
      "pa.session_id 1:  AQ2am_Apr28_Week8_30Hz\n",
      "session corrected:  AQ2am_Apr28_Week8_30Hz\n",
      "(7,)\n",
      "['left_paw' 'right_paw' 'nose' 'jaw' 'right_ear' 'tongue' 'lever']\n",
      "pa.session_id 2:  AQ2am_Apr28_Week8_30Hz\n",
      "starts:  [ 50.          56.2         67.33333333  73.53333333  97.6\n",
      " 153.93333333 164.2        197.6        267.8        309.93333333]\n",
      "lever offset:  60\n",
      "SESSIONS:  ['am_Apr21_', 'am_Apr22_', 'am_Apr25_', 'am_Apr26_', 'am_Apr27_', 'am_Apr28_', 'am_Apr29_', 'am_Dec9_', 'am_Dec11_', 'am_Dec17_', 'am_Dec18_', 'am_Dec28_', 'am_Dec29_', 'am_Dec30_', 'am_Feb2_', 'am_Feb3_', 'am_Feb4_', 'am_Feb5_', 'am_Feb9_', 'am_Feb10_', 'am_Feb11_', 'am_Feb12_', 'am_Feb15_', 'am_Feb16_', 'am_Feb17_', 'am_Feb18_', 'am_Jan5_', 'am_Jan6_', 'am_Jan7_', 'am_Jan8_', 'am_Jan13_', 'am_Jan14_', 'am_Jan15_', 'am_Jan18_', 'am_Jan19_', 'am_Jan21_', 'am_Jan22_', 'am_Jan28_', 'am_Jan29_', 'pm_Dec16_', 'pm_Dec17_', 'pm_Jan11_', 'pm_Jan13_', 'pm_Jan14_', 'pm_Jan15_', 'pm_Jan18_', 'pm_Jan20_', 'pm_Jan21_', 'pm_Jan22_', 'pm_Jan26_', 'pm_Jan27_', 'pm_Jan28_', 'pm_Jan29_']\n",
      "SHIFT IDS:  ['2', '2', '2', '2', '2', '0', '2', '2', '1', '1', '2', '2', '1', '2', '2', '1', '1', '2', '1', '2', '2', '2', '1', '1', '1', '0', '1', '2', '2', '0', '2', '2', '2', '2', '0', '1', '0', '1', '1', '2', '2', '2', '2', '2', '2', '2', '2', '2', '1', '1', '1', '2', '1']\n",
      "pa.session_id:  AQ2am_Apr28_Week8_30Hz\n",
      "SELF SHIFT ID:  0\n",
      " using shift:  0\n",
      "DLC SHIFT Loaded:  3.24\n",
      "DLC shift :  3.24   in frames:  97  after subtracting lever shift:  -37\n",
      " triggers:  (53,)\n",
      " data:  (40000, 128, 128)\n",
      "(39424, 128, 128)\n",
      "X:  (39424, 16384)\n"
     ]
    },
    {
     "name": "stderr",
     "output_type": "stream",
     "text": [
      "\r",
      "  0%|          | 0/1 [00:00<?, ?it/s]"
     ]
    },
    {
     "name": "stdout",
     "output_type": "stream",
     "text": [
      " X data using :  30  number of frames  (1311, 491520)\n",
      " pca allpoints:  (1311, 10)\n",
      "1 41 10\n"
     ]
    },
    {
     "name": "stderr",
     "output_type": "stream",
     "text": [
      "100%|██████████| 1/1 [00:00<00:00,  4.21it/s]\n",
      "  0%|          | 0/1 [00:00<?, ?it/s]"
     ]
    },
    {
     "name": "stdout",
     "output_type": "stream",
     "text": [
      " pca p_levefr resahped:  (1, 40, 10)\n",
      "  body movement pa.p_lever projection:  (1, 40, 10)\n",
      "temp points:  (1311, 2)\n",
      "temp points:  (40, 2)\n",
      "plever:  (36, 2)\n",
      "1 65 10\n"
     ]
    },
    {
     "name": "stderr",
     "output_type": "stream",
     "text": [
      "100%|██████████| 1/1 [00:00<00:00,  2.84it/s]\n",
      "  0%|          | 0/1 [00:00<?, ?it/s]"
     ]
    },
    {
     "name": "stdout",
     "output_type": "stream",
     "text": [
      " pca p_levefr resahped:  (1, 63, 10)\n",
      "  body movement pa.p_lever projection:  (1, 63, 10)\n",
      "temp points:  (1311, 2)\n",
      "temp points:  (63, 2)\n",
      "plever:  (56, 2)\n",
      "1 92 10\n"
     ]
    },
    {
     "name": "stderr",
     "output_type": "stream",
     "text": [
      "100%|██████████| 1/1 [00:00<00:00,  1.95it/s]\n",
      "100%|██████████| 1/1 [00:00<00:00,  6.48it/s]\n",
      "  0%|          | 0/1 [00:00<?, ?it/s]"
     ]
    },
    {
     "name": "stdout",
     "output_type": "stream",
     "text": [
      " pca p_levefr resahped:  (1, 91, 10)\n",
      "  body movement pa.p_lever projection:  (1, 91, 10)\n",
      "temp points:  (1311, 2)\n",
      "temp points:  (91, 2)\n",
      "plever:  (82, 2)\n",
      "1 23 10\n",
      " pca p_levefr resahped:  (1, 23, 10)\n",
      "  body movement pa.p_lever projection:  (1, 23, 10)\n",
      "temp points:  (1311, 2)\n",
      "temp points:  (23, 2)\n",
      "plever:  (20, 2)\n",
      "1 101 10\n"
     ]
    },
    {
     "name": "stderr",
     "output_type": "stream",
     "text": [
      "100%|██████████| 1/1 [00:00<00:00,  1.94it/s]\n",
      "  0%|          | 0/1 [00:00<?, ?it/s]"
     ]
    },
    {
     "name": "stdout",
     "output_type": "stream",
     "text": [
      " pca p_levefr resahped:  (1, 98, 10)\n",
      "  body movement pa.p_lever projection:  (1, 98, 10)\n",
      "temp points:  (1311, 2)\n",
      "temp points:  (98, 2)\n",
      "plever:  (88, 2)\n",
      "FNAME LEVER:  /media/cat/4TBSSD/yuki/AQ2/tif_files/AQ2am_Apr28_Week8_30Hz/AQ2am_Apr28_Week8_30Hz_all_locs_selected.txt\n",
      "1 86 10\n"
     ]
    },
    {
     "name": "stderr",
     "output_type": "stream",
     "text": [
      "100%|██████████| 1/1 [00:00<00:00,  2.13it/s]\n",
      "/media/cat/4TBSSD/anaconda3/envs/wide/lib/python3.8/site-packages/numpy/core/_asarray.py:171: VisibleDeprecationWarning: Creating an ndarray from ragged nested sequences (which is a list-or-tuple of lists-or-tuples-or ndarrays with different lengths or shapes) is deprecated. If you meant to do this, you must specify 'dtype=object' when creating the ndarray.\n",
      "  return array(a, dtype, copy=False, order=order, subok=True)\n"
     ]
    },
    {
     "name": "stdout",
     "output_type": "stream",
     "text": [
      " pca p_levefr resahped:  (1, 86, 10)\n",
      "temp points:  (1311, 2)\n",
      "temp points:  (86, 2)\n",
      "plever:  (77, 2)\n",
      "pa.session_id 1:  AQ2am_Apr29_Week8_30Hz\n",
      "session corrected:  AQ2am_Apr29_Week8_30Hz\n",
      "(7,)\n",
      "['left_paw' 'right_paw' 'nose' 'jaw' 'right_ear' 'tongue' 'lever']\n",
      "pa.session_id 2:  AQ2am_Apr29_Week8_30Hz\n",
      "starts:  [ 53.33333333 186.53333333 242.93333333 248.53333333 254.86666667\n",
      " 299.73333333 338.06666667 396.26666667 414.         429.        ]\n",
      "lever offset:  78\n",
      "SESSIONS:  ['am_Apr21_', 'am_Apr22_', 'am_Apr25_', 'am_Apr26_', 'am_Apr27_', 'am_Apr28_', 'am_Apr29_', 'am_Dec9_', 'am_Dec11_', 'am_Dec17_', 'am_Dec18_', 'am_Dec28_', 'am_Dec29_', 'am_Dec30_', 'am_Feb2_', 'am_Feb3_', 'am_Feb4_', 'am_Feb5_', 'am_Feb9_', 'am_Feb10_', 'am_Feb11_', 'am_Feb12_', 'am_Feb15_', 'am_Feb16_', 'am_Feb17_', 'am_Feb18_', 'am_Jan5_', 'am_Jan6_', 'am_Jan7_', 'am_Jan8_', 'am_Jan13_', 'am_Jan14_', 'am_Jan15_', 'am_Jan18_', 'am_Jan19_', 'am_Jan21_', 'am_Jan22_', 'am_Jan28_', 'am_Jan29_', 'pm_Dec16_', 'pm_Dec17_', 'pm_Jan11_', 'pm_Jan13_', 'pm_Jan14_', 'pm_Jan15_', 'pm_Jan18_', 'pm_Jan20_', 'pm_Jan21_', 'pm_Jan22_', 'pm_Jan26_', 'pm_Jan27_', 'pm_Jan28_', 'pm_Jan29_']\n",
      "SHIFT IDS:  ['2', '2', '2', '2', '2', '0', '2', '2', '1', '1', '2', '2', '1', '2', '2', '1', '1', '2', '1', '2', '2', '2', '1', '1', '1', '0', '1', '2', '2', '0', '2', '2', '2', '2', '0', '1', '0', '1', '1', '2', '2', '2', '2', '2', '2', '2', '2', '2', '1', '1', '1', '2', '1']\n",
      "pa.session_id:  AQ2am_Apr29_Week8_30Hz\n",
      "SELF SHIFT ID:  2\n",
      " using shift:  2\n",
      "DLC SHIFT Loaded:  4.07\n",
      "DLC shift :  4.07   in frames:  122  after subtracting lever shift:  -44\n",
      " triggers:  (51,)\n",
      " data:  (40000, 128, 128)\n",
      "(39022, 128, 128)\n",
      "X:  (39022, 16384)\n"
     ]
    },
    {
     "name": "stderr",
     "output_type": "stream",
     "text": [
      "\r",
      "  0%|          | 0/1 [00:00<?, ?it/s]"
     ]
    },
    {
     "name": "stdout",
     "output_type": "stream",
     "text": [
      " X data using :  30  number of frames  (1298, 491520)\n",
      " pca allpoints:  (1298, 10)\n",
      "1 26 10\n"
     ]
    },
    {
     "name": "stderr",
     "output_type": "stream",
     "text": [
      "100%|██████████| 1/1 [00:00<00:00,  6.24it/s]\n",
      "  0%|          | 0/1 [00:00<?, ?it/s]"
     ]
    },
    {
     "name": "stdout",
     "output_type": "stream",
     "text": [
      " pca p_levefr resahped:  (1, 26, 10)\n",
      "  body movement pa.p_lever projection:  (1, 26, 10)\n",
      "temp points:  (1298, 2)\n",
      "temp points:  (26, 2)\n",
      "plever:  (23, 2)\n",
      "1 77 10\n"
     ]
    },
    {
     "name": "stderr",
     "output_type": "stream",
     "text": [
      "100%|██████████| 1/1 [00:00<00:00,  2.43it/s]\n",
      "  0%|          | 0/1 [00:00<?, ?it/s]"
     ]
    },
    {
     "name": "stdout",
     "output_type": "stream",
     "text": [
      " pca p_levefr resahped:  (1, 76, 10)\n",
      "  body movement pa.p_lever projection:  (1, 76, 10)\n",
      "temp points:  (1298, 2)\n",
      "temp points:  (76, 2)\n",
      "plever:  (68, 2)\n",
      "1 90 10\n"
     ]
    },
    {
     "name": "stderr",
     "output_type": "stream",
     "text": [
      "100%|██████████| 1/1 [00:00<00:00,  2.04it/s]\n",
      "100%|██████████| 1/1 [00:00<00:00, 20.77it/s]\n",
      "/media/cat/4TBSSD/anaconda3/envs/wide/lib/python3.8/site-packages/numpy/lib/function_base.py:3961: RuntimeWarning: invalid value encountered in subtract\n",
      "  diff_b_a = subtract(b, a)\n",
      "  0%|          | 0/1 [00:00<?, ?it/s]"
     ]
    },
    {
     "name": "stdout",
     "output_type": "stream",
     "text": [
      " pca p_levefr resahped:  (1, 88, 10)\n",
      "  body movement pa.p_lever projection:  (1, 88, 10)\n",
      "temp points:  (1298, 2)\n",
      "temp points:  (88, 2)\n",
      "plever:  (79, 2)\n",
      "1 3 10\n",
      " pca p_levefr resahped:  (1, 3, 10)\n",
      "  body movement pa.p_lever projection:  (1, 3, 10)\n",
      "temp points:  (1298, 2)\n",
      "temp points:  (3, 2)\n",
      "plever:  (0, 2)\n",
      "1 79 10\n"
     ]
    },
    {
     "name": "stderr",
     "output_type": "stream",
     "text": [
      "100%|██████████| 1/1 [00:00<00:00,  2.38it/s]\n",
      "  0%|          | 0/1 [00:00<?, ?it/s]"
     ]
    },
    {
     "name": "stdout",
     "output_type": "stream",
     "text": [
      " pca p_levefr resahped:  (1, 79, 10)\n",
      "  body movement pa.p_lever projection:  (1, 79, 10)\n",
      "temp points:  (1298, 2)\n",
      "temp points:  (79, 2)\n",
      "plever:  (71, 2)\n",
      "FNAME LEVER:  /media/cat/4TBSSD/yuki/AQ2/tif_files/AQ2am_Apr29_Week8_30Hz/AQ2am_Apr29_Week8_30Hz_all_locs_selected.txt\n",
      "1 85 10\n"
     ]
    },
    {
     "name": "stderr",
     "output_type": "stream",
     "text": [
      "100%|██████████| 1/1 [00:00<00:00,  2.06it/s]"
     ]
    },
    {
     "name": "stdout",
     "output_type": "stream",
     "text": [
      " pca p_levefr resahped:  (1, 85, 10)\n",
      "temp points:  (1298, 2)\n",
      "temp points:  (85, 2)\n",
      "plever:  (76, 2)\n",
      " COMPLETED: # OF SESSIONS:  110\n"
     ]
    },
    {
     "name": "stderr",
     "output_type": "stream",
     "text": [
      "\n",
      "/media/cat/4TBSSD/anaconda3/envs/wide/lib/python3.8/site-packages/numpy/core/_asarray.py:171: VisibleDeprecationWarning: Creating an ndarray from ragged nested sequences (which is a list-or-tuple of lists-or-tuples-or ndarrays with different lengths or shapes) is deprecated. If you meant to do this, you must specify 'dtype=object' when creating the ndarray.\n",
      "  return array(a, dtype, copy=False, order=order, subok=True)\n"
     ]
    }
   ],
   "source": [
    "##########################################################\n",
    "#### GENERATE PCA DISTRIBUTIONS OF ALL BODY MOVEMENTS ####\n",
    "##########################################################\n",
    "\n",
    "#  Fig 3E \n",
    "pa = PCA_Analysis()\n",
    "pa.root_dir = '/media/cat/4TBSSD/yuki/'\n",
    "pa.n_pca = 10\n",
    "pa.sliding_window = 30    # how many frames to take into analysis window\n",
    "pa.n_frames = 1         # how many frames back in time to analyze: \n",
    "\n",
    "# \n",
    "pa.umap_flag = False\n",
    "pa.convex_hull_flag = False\n",
    "\n",
    "pa.frame_rate = 30\n",
    "\n",
    "########################################\n",
    "animal_ids = ['IA1','IA2','IA3','IJ1',\"IJ2\",\"AQ2\"]\n",
    "\n",
    "for animal_id in animal_ids:\n",
    "    pa.animal_id = animal_id\n",
    "    session = 'all'\n",
    "\n",
    "    pa.plot_all = True\n",
    "    pa.plot_3D = False\n",
    "    pa.plot_flag = False\n",
    "\n",
    "\n",
    "    #########################\n",
    "    # get the correct sesion name:\n",
    "    sessions = get_sessions(pa.root_dir,\n",
    "                              pa.animal_id,\n",
    "                              session)\n",
    "\n",
    "    print (\"sessions: \", sessions)\n",
    "    res_simplex = pca_scatter_body_movements_fig3(pa, sessions)\n",
    "\n",
    "print (\" COMPLETED: # OF SESSIONS: \", len(res_simplex))"
   ]
  },
  {
   "cell_type": "code",
   "execution_count": 89,
   "metadata": {
    "scrolled": true
   },
   "outputs": [
    {
     "name": "stdout",
     "output_type": "stream",
     "text": [
      "all areas:  [1292221372.5563679, 1302328976.1648726, 1725884964.1035209, 1235154841.371101, 1496037109.1401107, 806673717.3443394]\n",
      "leftpaw lever % of region:  50.33 % % of all space:  11.42 %\n",
      "\n",
      "rightpaw lever % of region:  45.75 % % of all space:  10.46 %\n",
      "\n",
      "\n",
      "\n",
      "\n",
      "\n",
      "all areas:  [4064047838.6372085, 3720101943.1520505, 3597459312.4369164, 3808193508.446695, 3903645151.1560388, 414932385.2819063]\n",
      "leftpaw lever % of region:  8.19 % % of all space:  3.47 %\n",
      "\n",
      "rightpaw lever % of region:  9.21 % % of all space:  3.57 %\n",
      "\n",
      "\n",
      "\n",
      "\n",
      "\n",
      "all areas:  [1731043112.6864903, 1276940984.3328373, 1413305323.8600078, 1587943012.0375938, 1570357844.2156482, 844007687.8063519]\n",
      "leftpaw lever % of region:  43.65 % % of all space:  14.75 %\n",
      "\n",
      "rightpaw lever % of region:  36.43 % % of all space:  9.08 %\n",
      "\n",
      "\n",
      "\n",
      "\n",
      "\n",
      "all areas:  [1801658552.37777, 1616203345.3929052, 1522092963.3031645, 1169244647.3964257, 2011233730.9929595, 1366638900.677206]\n",
      "leftpaw lever % of region:  61.92 % % of all space:  19.47 %\n",
      "\n",
      "rightpaw lever % of region:  67.57 % % of all space:  19.06 %\n",
      "\n",
      "\n",
      "\n",
      "\n",
      "\n",
      "all areas:  [1431430585.2594538, 1495970959.9330523, 1431008067.2098794, 1336943676.0495567, 1698732502.8673077, 952965359.0452931]\n",
      "leftpaw lever % of region:  51.67 % % of all space:  13.84 %\n",
      "\n",
      "rightpaw lever % of region:  52.29 % % of all space:  14.64 %\n",
      "\n",
      "\n",
      "\n",
      "\n",
      "\n",
      "all areas:  [1487912987.301203, 819689611.0114949, 1546912269.6781948, 869905300.0941496, 1490990384.2855134, 532071970.72967005]\n",
      "leftpaw lever % of region:  9.57 % % of all space:  3.03 %\n",
      "\n",
      "rightpaw lever % of region:  0.0 % % of all space:  0.0 %\n",
      "\n",
      "\n",
      "\n",
      "\n",
      "\n",
      "all areas:  [2753897161.037637, 1837545002.9485717, 2720772074.10073, 1463483070.5639586, 2307917551.819508, 590054511.8045895]\n",
      "leftpaw lever % of region:  13.95 % % of all space:  6.44 %\n",
      "\n",
      "rightpaw lever % of region:  10.24 % % of all space:  3.16 %\n",
      "\n",
      "\n",
      "\n",
      "\n",
      "\n",
      "all areas:  [3628729960.926546, 1936884216.8357246, 3477924543.5241876, 325424699.8572971, 3554141455.725126, 486971591.03139275]\n",
      "leftpaw lever % of region:  13.42 % % of all space:  6.69 %\n",
      "\n",
      "rightpaw lever % of region:  14.5 % % of all space:  3.86 %\n",
      "\n",
      "\n",
      "\n",
      "\n",
      "\n",
      "all areas:  [4046889494.615729, 2801505543.793539, 4191290786.6033664, 1060690866.7373837, 3407215491.5725045, 2395371713.5131216]\n",
      "leftpaw lever % of region:  57.48 % % of all space:  28.11 %\n",
      "\n",
      "rightpaw lever % of region:  72.64 % % of all space:  24.59 %\n",
      "\n",
      "\n",
      "\n",
      "\n",
      "\n",
      "LEFT:  [0.503255309206814, 0.0819231976667961, 0.43652032865499996, 0.6191769715610905, 0.5166917310250939, 0.09566295417685916, 0.13949630823596568, 0.13419890602910867, 0.5747876022650953]\n",
      "RIGH: [0.4574724681309186, 0.0921400336851163, 0.364269055138664, 0.6757042909045143, 0.5229443151245726, 0.0, 0.10241863632238696, 0.14500969053245946, 0.7264078535525227]\n"
     ]
    }
   ],
   "source": [
    "##################################################\n",
    "### PLOT CONVEX HULLS FOR BODY PARTS VS LEVER ####\n",
    "##################################################\n",
    "\n",
    "# # Fig 3E\n",
    "\n",
    "# def plot_intersection_convex_hulls_lever_vs_bodyparts(res_simplex):\n",
    "#     from shapely import geometry\n",
    "\n",
    "#     names = ['leftpaw','rightpaw','nose','jaw','ear','lever']\n",
    "#     clrs=['black','magenta','blue','green','red','brown']\n",
    "\n",
    "#     ctr = 0\n",
    "#     lever_vs_left_paw = []\n",
    "#     lever_vs_right_paw = []\n",
    "#     for k in range(len(res_simplex)):\n",
    "#         pa_simplex = res_simplex[k]\n",
    "#         if len(pa_simplex)==0:\n",
    "#             continue\n",
    "\n",
    "#         if ctr<=45:\n",
    "#             ax=plt.subplot(5,10,ctr+1)\n",
    "\n",
    "#         polygons = []\n",
    "#         for p in range(len(pa_simplex)-1):\n",
    "#             pol_temp = []\n",
    "#             if len(pa_simplex[p])>0:\n",
    "#                 for aa in range(pa_simplex[p].shape[0]):\n",
    "#                     temp = pa_simplex[p][aa].T\n",
    "\n",
    "#                     if ctr<=45:\n",
    "#                         if aa==0:\n",
    "#                             plt.plot(temp[0],\n",
    "#                                  temp[1],c=clrs[p],\n",
    "#                                  label=names[p],\n",
    "#                                 linewidth=5)\n",
    "#                         else:\n",
    "#                             plt.plot(temp[0],\n",
    "#                                  temp[1],c=clrs[p],\n",
    "#                                 linewidth=5)\n",
    "\n",
    "\n",
    "#                     pol_temp.append(temp.T[0])\n",
    "#                     pol_temp.append(temp.T[1])\n",
    "#                 pol_temp = np.vstack(pol_temp)\n",
    "#                 pol_temp = np.unique(pol_temp,axis=0)\n",
    "#                 pol_temp = convexhull(pol_temp)\n",
    "#                 polygons.append(pol_temp)\n",
    "#             else:\n",
    "#                 polygons.append([])\n",
    "\n",
    "#         # compute all points outer surface\n",
    "#         pts_simplex_all_points = pa_simplex[-1]\n",
    "#         pol_temp =[]\n",
    "#         for a in range(pts_simplex_all_points.shape[0]):\n",
    "#             temp = pts_simplex_all_points[a].T\n",
    "#             if a==0:\n",
    "#                 plt.plot(temp[0],\n",
    "#                      temp[1],\n",
    "#                      c='grey',\n",
    "#                      label = 'all',\n",
    "#                     linewidth=5)\n",
    "#             else:\n",
    "#                 plt.plot(temp[0],\n",
    "#                      temp[1],\n",
    "#                      c='grey',\n",
    "#                     linewidth=5)\n",
    "\n",
    "#             pol_temp.append(temp.T[0])\n",
    "#             pol_temp.append(temp.T[1])\n",
    "\n",
    "#         pol_temp = np.vstack(pol_temp)\n",
    "#         pol_temp = np.unique(pol_temp,axis=0)\n",
    "#         pol_temp = convexhull(pol_temp)\n",
    "#         polygons_all = pol_temp\n",
    "#         #\n",
    "\n",
    "#         # Compute areas of all activity spaces\n",
    "#         areas = []\n",
    "#         for p in range(len(polygons)):\n",
    "#             if len(polygons[p])>0:\n",
    "#                 polygon1 = geometry.Polygon(polygons[p])\n",
    "#                 polygon2 = geometry.Polygon(polygons[p])\n",
    "#                 areas.append(polygon1.intersection(polygon2).area)\n",
    "#             else:\n",
    "#                 areas.append(np.nan)\n",
    "#         print (\"all areas: \", areas)\n",
    "#         polygon1 = geometry.Polygon(polygons_all)\n",
    "#         polygon2 = geometry.Polygon(polygons_all)\n",
    "#         area_all = polygon1.intersection(polygon2).area\n",
    "\n",
    "\n",
    "#         # compute intersections\n",
    "#         from shapely import geometry, ops\n",
    "#         for q in range(len(polygons)):\n",
    "#             for p in range(len(polygons)):\n",
    "#                 if q==p:\n",
    "#                     continue\n",
    "\n",
    "#                 polygon1 = geometry.Polygon(polygons[q])\n",
    "#                 polygon2 = geometry.Polygon(polygons[p])\n",
    "\n",
    "#                 intersection = polygon1.intersection(polygon2).area\n",
    "\n",
    "#                 if q == 0 and p == 5:\n",
    "#                     if np.isnan(areas[p])==False:\n",
    "#                         lever_vs_left_paw.append(intersection/areas[q])\n",
    "\n",
    "#                         print (names[q],names[p],\n",
    "#                            \"% of region: \", round(intersection/areas[q]*100,2), \"%\",\n",
    "#                            \"% of all space: \", round(intersection/area_all*100,2), \"%\")\n",
    "#                     else:\n",
    "#                         lever_vs_left_paw.append(np.nan)\n",
    "\n",
    "#                 elif q == 1 and p == 5:\n",
    "#                     if np.isnan(areas[p])==False:\n",
    "#                         lever_vs_right_paw.append(intersection/areas[q])\n",
    "#                         print (names[q],names[p],\n",
    "#                            \"% of region: \", round(intersection/areas[q]*100,2), \"%\",\n",
    "#                            \"% of all space: \", round(intersection/area_all*100,2), \"%\")\n",
    "#                     else:\n",
    "#                         lever_vs_right_paw.append(np.nan)\n",
    "\n",
    "#             print ('')\n",
    "#         plt.xticks([])\n",
    "#         plt.yticks([])\n",
    "#         #plt.xlim(left=-150000)\n",
    "#         #if k==0:\n",
    "#         #    plt.legend(fontsize=12)\n",
    "#         plt.title(sessions[k])\n",
    "\n",
    "#         #\n",
    "#         ctr+=1\n",
    "\n",
    "#     return lever_vs_left_paw, lever_vs_right_paw\n",
    "\n",
    "# \n",
    "#\n",
    "fig=plt.figure(figsize=(5,5))\n",
    "left, right = plot_intersection_convex_hulls_lever_vs_bodyparts(res_simplex)\n",
    "plt.suptitle(pa.animal_id)\n",
    "\n",
    "if False:\n",
    "    plt.savefig('/home/cat/polygons.png',dpi=300)\n",
    "    plt.close()\n",
    "else:\n",
    "    plt.show()\n",
    "    \n",
    "print (\"LEFT: \", left)\n",
    "print (\"RIGH:\", right)\n",
    "left = np.array(left)\n",
    "right = np.array(right)\n",
    "fig=plt.figure()\n",
    "idx = np.where(np.isnan(left)==False)[0]\n",
    "t = np.arange(len(left))[idx]\n",
    "plt.plot(t, left[idx])\n",
    "\n",
    "\n",
    "# \n",
    "idx = np.where(np.isnan(right)==False)[0]\n",
    "t = np.arange(len(right))[idx]\n",
    "plt.plot(t, right[idx])\n",
    "plt.suptitle(pa.animal_id)\n",
    "plt.show()"
   ]
  },
  {
   "cell_type": "code",
   "execution_count": 50,
   "metadata": {},
   "outputs": [
    {
     "name": "stdout",
     "output_type": "stream",
     "text": [
      "[0.6881316396361624, 0.4169685497208628, nan, 0.6647743740547633, 0.2710782335175656, 0.4634754402440487, 0.3101919835113635, 0.22196183151399293, 0.36513609049354134, 0.005445332919398934]\n"
     ]
    }
   ],
   "source": []
  },
  {
   "cell_type": "code",
   "execution_count": null,
   "metadata": {},
   "outputs": [],
   "source": []
  },
  {
   "cell_type": "code",
   "execution_count": null,
   "metadata": {},
   "outputs": [],
   "source": []
  },
  {
   "cell_type": "code",
   "execution_count": 40,
   "metadata": {},
   "outputs": [
    {
     "name": "stdout",
     "output_type": "stream",
     "text": [
      "[-34157.02254123 -31516.9013172  -25306.25891227 -18400.8155852\n",
      " -12575.85030282 -12310.53789496    872.33244449   5669.82166718\n",
      "  18024.13495447  22738.45637924  41813.2832249   46402.41759252\n",
      "  50166.65133501  52961.45630633]\n"
     ]
    }
   ],
   "source": [
    "print (polygons[0])"
   ]
  },
  {
   "cell_type": "code",
   "execution_count": null,
   "metadata": {},
   "outputs": [],
   "source": []
  },
  {
   "cell_type": "code",
   "execution_count": 139,
   "metadata": {},
   "outputs": [
    {
     "name": "stdout",
     "output_type": "stream",
     "text": [
      "(1, 31, 10)\n",
      "[-41973.54    8432.656 -18250.133  34552.848]\n",
      "0\n",
      "1\n",
      "2\n",
      "npm ax:  2.0 0.0\n",
      "[0. 1. 2.]\n",
      "(1, 55, 10)\n",
      "[-34157.016 265766.25  -61826.69   18024.137]\n",
      "0\n",
      "1\n",
      "2\n",
      "3\n",
      "4\n",
      "npm ax:  4.0 0.0\n",
      "[0. 1. 2. 3. 4.]\n"
     ]
    }
   ],
   "source": [
    "import sphviewer as sph\n",
    "from numpy.ma import masked_array\n",
    "\n",
    "def myplot(x, y, nb=32, xsize=500, ysize=500):   \n",
    "    xmin = np.min(x)\n",
    "    xmax = np.max(x)\n",
    "    ymin = np.min(y)\n",
    "    ymax = np.max(y)\n",
    "\n",
    "    x0 = (xmin+xmax)/2.\n",
    "    y0 = (ymin+ymax)/2.\n",
    "\n",
    "    pos = np.zeros([len(x),3])\n",
    "    pos[:,0] = x\n",
    "    pos[:,1] = y\n",
    "    w = np.ones(len(x))\n",
    "\n",
    "    P = sph.Particles(pos, w, nb=nb)\n",
    "    S = sph.Scene(P)\n",
    "    S.update_camera(r='infinity', x=x0, y=y0, z=0, \n",
    "                    xsize=xsize, ysize=ysize)\n",
    "    R = sph.Render(S)\n",
    "    R.set_logscale()\n",
    "    img = R.get_image()\n",
    "    extent = R.get_extent()\n",
    "    for i, j in zip(range(4), [x0,x0,y0,y0]):\n",
    "        extent[i] += j\n",
    "    print (extent)\n",
    "    \n",
    "    \n",
    "    clrs = np.unique(img)\n",
    "    img_out = np.zeros(img.shape,'float32')\n",
    "    for k in range(clrs.shape[0]):\n",
    "        idx = np.where(img==clrs[k])\n",
    "        print (k)\n",
    "        img_out[idx]=k\n",
    "    \n",
    "    return img_out, extent\n",
    "\n",
    "# Generate Lever locations\n",
    "print (pa.p_lever.shape)\n",
    "x = pa.p_lever.squeeze()[:,0]\n",
    "y = pa.p_lever.squeeze()[:,1]\n",
    "x_size = 100\n",
    "y_size = 100\n",
    "heatmap_lever, extent_lever = myplot(x,y, nb=4, xsize=x_size, ysize=y_size)\n",
    "\n",
    "print (\"npm ax: \", np.max(heatmap_lever), np.min(heatmap_lever))\n",
    "print (np.unique(heatmap_lever))\n",
    "\n",
    "v1_lever = masked_array(heatmap_lever,\n",
    "                   heatmap_lever>=1)\n",
    "\n",
    "# Generate left paw locations\n",
    "print (pa_array[0].shape)\n",
    "x = pa_array[0].squeeze()[:,0]\n",
    "y = pa_array[0].squeeze()[:,1]\n",
    "x_size = 100\n",
    "y_size = 100\n",
    "heatmap_leftpaw, extent_left_paw = myplot(x,y, nb=4, xsize=x_size, ysize=y_size)\n",
    "\n",
    "print (\"npm ax: \", np.max(heatmap_leftpaw), np.min(heatmap_leftpaw))\n",
    "print (np.unique(heatmap_leftpaw))\n",
    "\n",
    "\n",
    "\n",
    "fig,ax = plt.subplots()\n",
    "\n",
    "#ax4.imshow(heatmap_64, \n",
    "ax1=plt.subplot(121)  \n",
    "p1 = ax1.imshow(heatmap_lever,\n",
    "               extent=extent_lever, \n",
    "               #origin='lower', \n",
    "               aspect='auto',\n",
    "               cmap='Reds')\n",
    "\n",
    "plt.xlim(-40000,60000)\n",
    "plt.ylim(-50000,50000)\n",
    "\n",
    "#cba = plt.colorbar(pa,shrink=0.25)\n",
    "\n",
    "# \n",
    "ax2=plt.subplot(122)  \n",
    "# v1_leftpaw = masked_array(heatmap_leftpaw,\n",
    "#                           heatmap_leftpaw>=1)\n",
    "p2 = ax2.imshow(heatmap_leftpaw, \n",
    "               extent=extent_left_paw, \n",
    "               #origin='lower', \n",
    "               aspect='auto',\n",
    "               cmap='Greys')\n",
    "\n",
    "plt.xlim(-40000,60000)\n",
    "plt.ylim(-50000,50000)\n",
    "\n",
    "\n",
    "#cbb = plt.colorbar(pb,shrink=0.25)\n",
    "#plt.xlabel('Day')\n",
    "#plt.ylabel('Depth')\n",
    "#cba.set_label('positive')\n",
    "#cbb.set_label('negative')\n",
    "#plt.show()\n",
    "\n",
    "\n",
    "\n",
    "plt.show()\n",
    "\n"
   ]
  },
  {
   "cell_type": "code",
   "execution_count": null,
   "metadata": {},
   "outputs": [],
   "source": []
  },
  {
   "cell_type": "code",
   "execution_count": null,
   "metadata": {},
   "outputs": [],
   "source": []
  },
  {
   "cell_type": "code",
   "execution_count": 37,
   "metadata": {},
   "outputs": [
    {
     "name": "stdout",
     "output_type": "stream",
     "text": [
      "(7,)\n",
      "['left_paw' 'right_paw' 'nose' 'jaw' 'right_ear' 'tongue' 'lever']\n",
      "[[ 0.33333333  6.26666667]\n",
      " [ 8.33333333 11.46666667]\n",
      " [12.6        33.73333333]\n",
      " [37.06666667 51.33333333]\n",
      " [55.53333333 62.2       ]\n",
      " [63.46666667 75.66666667]\n",
      " [75.66666667 81.        ]\n",
      " [84.4        89.2       ]\n",
      " [89.33333333 93.33333333]\n",
      " [95.6        99.86666667]]\n"
     ]
    }
   ],
   "source": [
    "data = np.load('/media/cat/4TBSSD/yuki/IA1/tif_files/IA1pm_Feb1_30Hz/IA1pm_Feb1_30Hz_3secNoMove_movements.npz', allow_pickle=True)\n",
    "features = data['feature_quiescent']\n",
    "print (features.shape)\n",
    "labels = data['labels']\n",
    "print (labels)\n",
    "temp = np.vstack(features[0])\n",
    "print (temp[:10])\n",
    "#plt.plot(features[0])\n"
   ]
  },
  {
   "cell_type": "code",
   "execution_count": null,
   "metadata": {},
   "outputs": [],
   "source": []
  },
  {
   "cell_type": "code",
   "execution_count": null,
   "metadata": {},
   "outputs": [],
   "source": []
  },
  {
   "cell_type": "code",
   "execution_count": null,
   "metadata": {},
   "outputs": [],
   "source": []
  },
  {
   "cell_type": "code",
   "execution_count": null,
   "metadata": {},
   "outputs": [],
   "source": []
  },
  {
   "cell_type": "code",
   "execution_count": 24,
   "metadata": {},
   "outputs": [
    {
     "name": "stderr",
     "output_type": "stream",
     "text": [
      "100%|██████████| 300/300 [00:04<00:00, 64.71it/s]\n"
     ]
    },
    {
     "name": "stdout",
     "output_type": "stream",
     "text": [
      " pca p_levefr resahped:  (0, 40, 10)\n"
     ]
    },
    {
     "ename": "AttributeError",
     "evalue": "'PCA_Analysis' object has no attribute 'all_points'",
     "output_type": "error",
     "traceback": [
      "\u001b[0;31m---------------------------------------------------------------------------\u001b[0m",
      "\u001b[0;31mAttributeError\u001b[0m                            Traceback (most recent call last)",
      "\u001b[0;32m<ipython-input-24-d44f320b1ef3>\u001b[0m in \u001b[0;36m<module>\u001b[0;34m\u001b[0m\n\u001b[1;32m      7\u001b[0m \u001b[0;34m\u001b[0m\u001b[0m\n\u001b[1;32m      8\u001b[0m \u001b[0;31m#\u001b[0m\u001b[0;34m\u001b[0m\u001b[0;34m\u001b[0m\u001b[0;34m\u001b[0m\u001b[0m\n\u001b[0;32m----> 9\u001b[0;31m \u001b[0mplot_pca_scatter\u001b[0m\u001b[0;34m(\u001b[0m\u001b[0mpa\u001b[0m\u001b[0;34m)\u001b[0m\u001b[0;34m\u001b[0m\u001b[0;34m\u001b[0m\u001b[0m\n\u001b[0m\u001b[1;32m     10\u001b[0m \u001b[0;34m\u001b[0m\u001b[0m\n",
      "\u001b[0;32m~/code/widefieldPredict/visualize/Visualize.py\u001b[0m in \u001b[0;36mplot_pca_scatter\u001b[0;34m(pa, plot_3D)\u001b[0m\n\u001b[1;32m   2602\u001b[0m     \u001b[0mcmap\u001b[0m \u001b[0;34m=\u001b[0m \u001b[0mmatplotlib\u001b[0m\u001b[0;34m.\u001b[0m\u001b[0mcm\u001b[0m\u001b[0;34m.\u001b[0m\u001b[0mget_cmap\u001b[0m\u001b[0;34m(\u001b[0m\u001b[0;34m'jet_r'\u001b[0m\u001b[0;34m)\u001b[0m\u001b[0;34m\u001b[0m\u001b[0;34m\u001b[0m\u001b[0m\n\u001b[1;32m   2603\u001b[0m \u001b[0;34m\u001b[0m\u001b[0m\n\u001b[0;32m-> 2604\u001b[0;31m     \u001b[0midx\u001b[0m \u001b[0;34m=\u001b[0m \u001b[0mnp\u001b[0m\u001b[0;34m.\u001b[0m\u001b[0marange\u001b[0m\u001b[0;34m(\u001b[0m\u001b[0mpa\u001b[0m\u001b[0;34m.\u001b[0m\u001b[0mall_points\u001b[0m\u001b[0;34m.\u001b[0m\u001b[0mshape\u001b[0m\u001b[0;34m[\u001b[0m\u001b[0;36m0\u001b[0m\u001b[0;34m]\u001b[0m\u001b[0;34m)\u001b[0m\u001b[0;34m\u001b[0m\u001b[0;34m\u001b[0m\u001b[0m\n\u001b[0m\u001b[1;32m   2605\u001b[0m     \u001b[0mprint\u001b[0m \u001b[0;34m(\u001b[0m\u001b[0midx\u001b[0m\u001b[0;34m.\u001b[0m\u001b[0mshape\u001b[0m\u001b[0;34m)\u001b[0m\u001b[0;34m\u001b[0m\u001b[0;34m\u001b[0m\u001b[0m\n\u001b[1;32m   2606\u001b[0m \u001b[0;34m\u001b[0m\u001b[0m\n",
      "\u001b[0;31mAttributeError\u001b[0m: 'PCA_Analysis' object has no attribute 'all_points'"
     ]
    }
   ],
   "source": [
    "#############################################\n",
    "##### COMPUTE PCA ON EACH SELECTED VALUE ####\n",
    "#############################################\n",
    "\n",
    "# FIG 2 E top\n",
    "pa.p_lever =  project_data_pca(pa)\n",
    " \n",
    "# \n",
    "plot_pca_scatter(pa)\n",
    "\n"
   ]
  },
  {
   "cell_type": "code",
   "execution_count": 7,
   "metadata": {
    "scrolled": true
   },
   "outputs": [
    {
     "name": "stderr",
     "output_type": "stream",
     "text": [
      "  7%|▋         | 20/300 [00:00<00:01, 190.74it/s]"
     ]
    },
    {
     "name": "stdout",
     "output_type": "stream",
     "text": [
      "temp points:  (1314, 3)\n",
      "# points kept:  (1312,)  of total:  1314\n",
      "computing convex hull # dim:  3 (1312, 3)\n",
      "p lever:  (300, 44, 10)\n"
     ]
    },
    {
     "name": "stderr",
     "output_type": "stream",
     "text": [
      "100%|██████████| 300/300 [00:07<00:00, 38.67it/s]\n"
     ]
    },
    {
     "name": "stdout",
     "output_type": "stream",
     "text": [
      "(300, 10)\n",
      "(300,)\n"
     ]
    }
   ],
   "source": [
    "#####################################################\n",
    "####### COMPUTE AND PLOT CONVEX HULL DYNAMICS #######\n",
    "#####################################################\n",
    "\n",
    "# FIG 2E\n",
    "#\n",
    "pa =  get_convex_hull(pa)\n",
    "\n",
    "#  \n",
    "plot_convex_hull(pa)"
   ]
  },
  {
   "cell_type": "code",
   "execution_count": 64,
   "metadata": {},
   "outputs": [],
   "source": [
    "################################################################\n",
    "################################################################\n",
    "################################################################\n",
    "\n",
    "# plot convex hull results\n"
   ]
  },
  {
   "cell_type": "code",
   "execution_count": null,
   "metadata": {},
   "outputs": [],
   "source": []
  },
  {
   "cell_type": "code",
   "execution_count": null,
   "metadata": {},
   "outputs": [],
   "source": []
  },
  {
   "cell_type": "code",
   "execution_count": null,
   "metadata": {},
   "outputs": [],
   "source": []
  },
  {
   "cell_type": "code",
   "execution_count": null,
   "metadata": {},
   "outputs": [],
   "source": []
  },
  {
   "cell_type": "code",
   "execution_count": null,
   "metadata": {},
   "outputs": [],
   "source": []
  },
  {
   "cell_type": "code",
   "execution_count": null,
   "metadata": {},
   "outputs": [],
   "source": []
  },
  {
   "cell_type": "code",
   "execution_count": 59,
   "metadata": {},
   "outputs": [
    {
     "name": "stdout",
     "output_type": "stream",
     "text": [
      "XU_: (339, 491520)\n",
      "CPU times: user 1min 6s, sys: 1.09 s, total: 1min 7s\n",
      "Wall time: 1min 7s\n",
      "Umap output:  (339, 3)\n"
     ]
    }
   ],
   "source": [
    "# # UMAP ON DATA\n",
    "X_U = []\n",
    "X_U.append(X_lever)\n",
    "X_U.append(X_random)\n",
    "X_U.append(X_shifted)\n",
    "X_U = np.vstack(X_U)\n",
    "print (\"XU_:\", X_U.shape)\n",
    "\n",
    "import umap\n",
    "umap_3d = umap.UMAP(n_components=3, init='random', random_state=0)\n",
    "\n",
    "#fit = umap.UMAP()\n",
    "%time umap_3d.fit(X_U[::10])\n",
    "u = umap_3d.transform(X_U)\n",
    "\n",
    "print (\"Umap output: \", u.shape)\n"
   ]
  },
  {
   "cell_type": "code",
   "execution_count": 61,
   "metadata": {},
   "outputs": [],
   "source": [
    "fig=plt.figure()\n",
    "#ax = plt.subplot(111)\n",
    "ax = fig.add_subplot(projection='3d')\n",
    "ax.scatter(\n",
    "           u[:p_lever.shape[0],0], \n",
    "           u[:p_lever.shape[0],1],\n",
    "           u[:p_lever.shape[0],2],\n",
    "            c='red',\n",
    "            s=100,\n",
    "            edgecolor = 'black', alpha=1)\n",
    "\n",
    "ax.scatter(\n",
    "           u[p_lever.shape[0]:p_lever.shape[0]+p_random.shape[0],0], \n",
    "           u[p_lever.shape[0]:p_lever.shape[0]+p_random.shape[0],1], \n",
    "           u[p_lever.shape[0]:p_lever.shape[0]+p_random.shape[0],2], \n",
    "            c='black',\n",
    "            s=100,\n",
    "            edgecolor = 'black', alpha=1)\n",
    "\n",
    "ax.scatter(\n",
    "           u[p_lever.shape[0]+p_random.shape[0]:,0], \n",
    "           u[p_lever.shape[0]+p_random.shape[0]:,1], \n",
    "           u[p_lever.shape[0]+p_random.shape[0]:,2], \n",
    "    \n",
    "            c='pink',\n",
    "            s=100,\n",
    "            edgecolor = 'black', alpha=1)\n",
    "plt.show()"
   ]
  },
  {
   "cell_type": "code",
   "execution_count": 69,
   "metadata": {},
   "outputs": [],
   "source": [
    "############################################\n",
    "fig = plt.figure()\n",
    "ax = fig.add_subplot(projection='3d')\n",
    "\n",
    "#ax.scatter(xs, ys, zs, marker=m)\n",
    "ax.scatter(p[:,0], p[:,1], p[:,2],\n",
    "            c=np.arange(p.shape[0]), \n",
    "            s=10, cmap=plt.cm.viridis,\n",
    "            edgecolor = 'black', alpha=1)\n",
    "    \n",
    "ax.scatter(p_lever[:,0], p_lever[:,1],  p_lever[:,2], \n",
    "            c='red',\n",
    "            s=100,\n",
    "            edgecolor = 'black', alpha=1)\n",
    "\n",
    "ax.scatter(p_random[:,0], p_random[:,1], p_random[:,2], \n",
    "            c='pink',\n",
    "            s=100,\n",
    "            edgecolor = 'black', alpha=1)\n",
    "\n",
    "\n",
    "\n",
    "\n",
    "\n",
    "plt.show()  "
   ]
  },
  {
   "cell_type": "code",
   "execution_count": null,
   "metadata": {},
   "outputs": [],
   "source": []
  },
  {
   "cell_type": "code",
   "execution_count": null,
   "metadata": {},
   "outputs": [],
   "source": []
  },
  {
   "cell_type": "code",
   "execution_count": null,
   "metadata": {},
   "outputs": [],
   "source": []
  },
  {
   "cell_type": "code",
   "execution_count": null,
   "metadata": {},
   "outputs": [],
   "source": []
  },
  {
   "cell_type": "code",
   "execution_count": null,
   "metadata": {},
   "outputs": [],
   "source": []
  },
  {
   "cell_type": "code",
   "execution_count": null,
   "metadata": {},
   "outputs": [],
   "source": []
  },
  {
   "cell_type": "code",
   "execution_count": null,
   "metadata": {},
   "outputs": [],
   "source": []
  },
  {
   "cell_type": "code",
   "execution_count": null,
   "metadata": {},
   "outputs": [],
   "source": []
  },
  {
   "cell_type": "code",
   "execution_count": 7,
   "metadata": {},
   "outputs": [],
   "source": [
    "############################################\n",
    "############################################\n",
    "############################################\n",
    "fig=plt.figure()\n",
    "ax=plt.subplot(221)\n",
    "plt.scatter(p[:,0], p[:,1], \n",
    "            c=np.arange(p.shape[0]), \n",
    "            s=10, cmap=plt.cm.viridis,\n",
    "            edgecolor = 'black', alpha=1)\n",
    "    \n",
    "plt.scatter(p[triggers,0], p[triggers,1], \n",
    "            c='red',\n",
    "            s=100,\n",
    "            edgecolor = 'black', alpha=1)\n",
    "    \n",
    "\n",
    "ax=plt.subplot(222)\n",
    "plt.scatter(p2[:,0], p2[:,1], \n",
    "            c=np.arange(p2.shape[0]), \n",
    "            s=10, cmap=plt.cm.viridis,\n",
    "            edgecolor = 'black', alpha=1)\n",
    "    \n",
    "plt.scatter(p2[triggers,0], p2[triggers,1], \n",
    "            c='red',\n",
    "            s=100,\n",
    "            edgecolor = 'black', alpha=1)\n",
    "    \n",
    "    \n",
    "ax=plt.subplot(223)\n",
    "plt.scatter(u[:,0], u[:,1], \n",
    "            c=np.arange(u.shape[0]), \n",
    "            s=10, cmap=plt.cm.viridis,\n",
    "            edgecolor = 'black', alpha=1)\n",
    "    \n",
    "plt.scatter(u[triggers,0], u[triggers,1], \n",
    "            c='red',\n",
    "            s=100,\n",
    "            edgecolor = 'black', alpha=1)\n",
    "\n",
    "plt.show()"
   ]
  },
  {
   "cell_type": "code",
   "execution_count": null,
   "metadata": {},
   "outputs": [],
   "source": []
  },
  {
   "cell_type": "code",
   "execution_count": null,
   "metadata": {},
   "outputs": [],
   "source": []
  },
  {
   "cell_type": "code",
   "execution_count": null,
   "metadata": {},
   "outputs": [],
   "source": []
  },
  {
   "cell_type": "code",
   "execution_count": null,
   "metadata": {},
   "outputs": [],
   "source": []
  },
  {
   "cell_type": "code",
   "execution_count": null,
   "metadata": {},
   "outputs": [],
   "source": []
  },
  {
   "cell_type": "code",
   "execution_count": null,
   "metadata": {},
   "outputs": [],
   "source": []
  },
  {
   "cell_type": "code",
   "execution_count": null,
   "metadata": {},
   "outputs": [],
   "source": []
  },
  {
   "cell_type": "code",
   "execution_count": null,
   "metadata": {},
   "outputs": [],
   "source": []
  },
  {
   "cell_type": "code",
   "execution_count": null,
   "metadata": {},
   "outputs": [],
   "source": []
  },
  {
   "cell_type": "code",
   "execution_count": null,
   "metadata": {},
   "outputs": [],
   "source": []
  },
  {
   "cell_type": "code",
   "execution_count": null,
   "metadata": {},
   "outputs": [],
   "source": []
  },
  {
   "cell_type": "code",
   "execution_count": null,
   "metadata": {},
   "outputs": [],
   "source": []
  },
  {
   "cell_type": "code",
   "execution_count": null,
   "metadata": {},
   "outputs": [],
   "source": []
  },
  {
   "cell_type": "code",
   "execution_count": 53,
   "metadata": {
    "collapsed": true
   },
   "outputs": [
    {
     "name": "stdout",
     "output_type": "stream",
     "text": [
      "all:  ['AQ2am_Feb12_30Hz' 'AQ2am_Feb15_30Hz']\n",
      "all:  [60 61]\n",
      "[[-2.8000000000000007, -7.266666666666666, -3.7333333333333343, -2.366666666666667, -3.033333333333335, -3.1999999999999993, -4.033333333333335, -3.466666666666665, -2.2666666666666657, -1.2333333333333343, -3.666666666666668, -2.533333333333335, -2.866666666666667, -2.966666666666665, -2.0666666666666664, -1.0, -2.0666666666666664, -3.2333333333333343, -2.333333333333332, -2.333333333333332, -1.9333333333333336, -1.0, -2.2666666666666657, -1.5666666666666664, -2.4333333333333336, -2.0666666666666664, -1.466666666666665, -1.1999999999999993, -2.0666666666666664, -2.0, -1.6999999999999993], [-1.0, -4.300000000000001, -3.7666666666666657, -1.0, -2.966666666666665, -1.0, -2.166666666666668, -1.5, -1.0, -1.0, -2.1000000000000014, -1.0, -1.533333333333335, -1.2666666666666657, -1.0, -1.0, -4.533333333333335, -4.533333333333335, -3.7666666666666657, -4.266666666666666, -3.7333333333333343, -5.300000000000001, -4.133333333333333, -4.600000000000001, -3.7333333333333343, -3.0666666666666664, -4.966666666666665, -5.866666666666667, -1.7666666666666657, -1.0, -4.766666666666666], [-2.2666666666666657, -4.699999999999999, -4.066666666666666, -3.633333333333333, -4.0, -3.1000000000000014, -4.733333333333334, -6.300000000000001, -4.666666666666668, -2.166666666666668, -2.133333333333333, -4.333333333333332, -1.966666666666665, -3.6000000000000014, -3.533333333333335, -3.5, -3.633333333333333, -1.6333333333333329, -2.333333333333332, -3.866666666666667, -3.2333333333333343, -1.8999999999999986, -3.033333333333335, -2.466666666666665, -4.166666666666668, -5.600000000000001, -8.833333333333332, -5.199999999999999, -5.366666666666667, -8.0, -4.466666666666665, -5.333333333333332, -6.566666666666666, -5.333333333333332, -2.1000000000000014, -6.133333333333333, -3.7666666666666657, -6.066666666666666], [-1.8333333333333321, -1.6333333333333329, -4.266666666666666, -1.4333333333333336, -2.833333333333332, -1.8999999999999986, -4.533333333333335, -3.7333333333333343, -2.8000000000000007, -3.966666666666665, -4.100000000000001, -2.8999999999999986, -2.3999999999999986, -2.8000000000000007, -3.1999999999999993, -2.866666666666667, -3.2333333333333343, -3.5, -7.733333333333334, -8.366666666666667, -4.0, -3.0, -3.0, -2.2333333333333343, -1.0, -3.133333333333333, -1.6333333333333329, -1.0, -2.533333333333335, -1.5, -2.6999999999999993, -3.6999999999999993, -2.6999999999999993], [-1.8333333333333321, -1.966666666666665, -1.6000000000000014, -3.4333333333333336, -2.666666666666668, -4.600000000000001, -5.366666666666667, -2.3000000000000007, -2.6999999999999993, -3.533333333333335, -5.800000000000001, -5.033333333333335, -5.866666666666667, -4.300000000000001, -5.699999999999999, -3.333333333333332, -5.766666666666666, -8.3, -6.166666666666668, -1.8333333333333321, -1.3333333333333321, -3.2333333333333343, -3.8000000000000007, -2.166666666666668, -1.6000000000000014, -5.100000000000001, -3.633333333333333, -2.033333333333335, -2.633333333333333, -4.433333333333334, -2.7666666666666657, -6.300000000000001, -5.300000000000001, -3.166666666666668, -1.6999999999999993, -4.600000000000001], [-2.033333333333335, -1.7333333333333343, -1.533333333333335, -1.6333333333333329, -3.4333333333333336, -2.5, -3.833333333333332, -2.633333333333333, -3.3000000000000007, -1.6999999999999993, -2.5666666666666664, -3.3000000000000007, -2.533333333333335, -1.533333333333335, -3.2666666666666657, -1.5, -1.8333333333333321, -2.5666666666666664, -2.533333333333335, -1.8999999999999986, -2.133333333333333, -3.966666666666665, -2.466666666666665, -3.533333333333335, -3.0, -5.600000000000001, -3.966666666666665, -12.066666666666666, -12.3, -9.333333333333332, -3.2333333333333343, -7.100000000000001, -5.733333333333334, -5.466666666666665, -3.633333333333333, -4.033333333333335, -2.7666666666666657, -4.333333333333332, -3.366666666666667, -4.699999999999999, -4.533333333333335, -4.633333333333333, -3.133333333333333, -6.766666666666666, -7.233333333333334, -4.933333333333334, -5.333333333333332, -6.666666666666668, -2.5666666666666664, -2.9333333333333336, -4.433333333333334, -5.766666666666666, -3.1999999999999993, -7.800000000000001, -4.600000000000001, -8.466666666666665, -6.366666666666667, -4.433333333333334, -5.666666666666668, -5.466666666666665, -6.266666666666666, -6.366666666666667, -5.133333333333333, -7.733333333333334, -5.933333333333334, -6.333333333333332, -3.8999999999999986, -2.133333333333333, -4.033333333333335, -2.5666666666666664, -6.5, -5.233333333333334, -2.1999999999999993, -8.399999999999999, -4.433333333333334, -3.0666666666666664]]\n",
      "GOT HERE\n"
     ]
    }
   ],
   "source": [
    "#############################################################\n",
    "#### PLOT DISTRIBUTION OF FIRST SIG DECODING ALL ANIMALS ####\n",
    "#############################################################\n",
    "\n",
    "# return all session ids that can be predicted longer than this:\n",
    "return_ids_threshold = -10\n",
    "\n",
    "vis.window = 30\n",
    "vis.lockout_window = 10\n",
    "\n",
    "# \n",
    "vis.min_trials = 20  #min trials used for SVM\n",
    "\n",
    "vis.lockout=False\n",
    "# \n",
    "vis.plot_first_decoding_time(return_ids_threshold)\n",
    "\n",
    "# \n",
    "if True:\n",
    "    plt.ylim(-15,0)\n",
    "    plt.show()\n",
    "else:\n",
    "    plt.savefig('/home/cat/first.png',dpi=600)\n",
    "    plt.close()"
   ]
  },
  {
   "cell_type": "code",
   "execution_count": 184,
   "metadata": {},
   "outputs": [
    {
     "name": "stdout",
     "output_type": "stream",
     "text": [
      "raw data:  (67, 5, 1801)\n",
      "(900, 5)\n",
      "raw data:  (61, 7, 1801)\n",
      "(900, 7)\n",
      "raw data:  (48, 6, 1801)\n",
      "(900, 6)\n",
      "raw data:  (137, 6, 1801)\n",
      "(900, 6)\n"
     ]
    }
   ],
   "source": [
    "# \n",
    "data = np.load('/home/cat/concatenated_trials.npy')\n",
    "#data = np.load('/media/cat/4TBSSD/yuki/IJ2/tif_files/IJ2pm_Mar2_30Hz/IJ2pm_Mar2_30Hz_code_04_trial_ROItimeCourses_30sec_pca_0.95.npy')\n",
    "\n",
    "fnames = [\n",
    "'/media/cat/4TBSSD/yuki/IA2/tif_files/IA2pm_Feb5_30Hz/IA2pm_Feb5_30Hz_code_04_trial_ROItimeCourses_30sec_pca_0.95.npy',\n",
    "'/media/cat/4TBSSD/yuki/IJ1/tif_files/IJ1pm_Mar2_30Hz/IJ1pm_Mar2_30Hz_code_04_trial_ROItimeCourses_30sec_pca_0.95.npy',\n",
    "'/media/cat/4TBSSD/yuki/IJ2/tif_files/IJ2pm_Mar3_30Hz/IJ2pm_Mar3_30Hz_code_04_trial_ROItimeCourses_30sec_pca_0.95.npy',\n",
    "'/media/cat/4TBSSD/yuki/AQ2/tif_files/AQ2am_Apr1_Week4_30Hz/AQ2am_Apr1_Week4_30Hz_code_04_trial_ROItimeCourses_30sec_pca_0.95.npy',\n",
    "]\n",
    "\n",
    "fig=plt.figure(figsize=(15,10))\n",
    "for ctr,fname in enumerate(fnames):\n",
    "    data = np.load(fname)\n",
    "    print (\"raw data: \", data.shape)\n",
    "\n",
    "    data = data.mean(0)[:,0:900].T\n",
    "\n",
    "    print (data.shape)\n",
    "\n",
    "    ax=plt.subplot(2,2,ctr+1)\n",
    "    #plt.scatter(data[:,0],\n",
    "    #            data[:,1],\n",
    "    #            c=np.arange(data.shape[0]))\n",
    "    t = np.arange(data.shape[0])\n",
    "    for k in range(4):\n",
    "        plt.plot(t,data[:,k], linewidth=6, label=\"PCA \"+str(k))\n",
    "    plt.xticks([])\n",
    "    plt.yticks([])\n",
    "    if ctr==0:\n",
    "        plt.legend(fontsize=14)\n",
    "    plt.xlim(t[0],t[-1])\n",
    "    plt.ylim(-4,4)\n",
    "    \n",
    "if True:\n",
    "    plt.savefig('/home/cat/pca_vs_time.png',dpi=300)\n",
    "    plt.close()\n",
    "else:\n",
    "    plt.show()\n"
   ]
  },
  {
   "cell_type": "code",
   "execution_count": 160,
   "metadata": {},
   "outputs": [],
   "source": []
  },
  {
   "cell_type": "code",
   "execution_count": null,
   "metadata": {},
   "outputs": [],
   "source": []
  },
  {
   "cell_type": "code",
   "execution_count": null,
   "metadata": {},
   "outputs": [],
   "source": []
  },
  {
   "cell_type": "code",
   "execution_count": null,
   "metadata": {},
   "outputs": [],
   "source": []
  },
  {
   "cell_type": "code",
   "execution_count": null,
   "metadata": {},
   "outputs": [],
   "source": []
  },
  {
   "cell_type": "code",
   "execution_count": 1,
   "metadata": {},
   "outputs": [
    {
     "ename": "NameError",
     "evalue": "name 'plt' is not defined",
     "output_type": "error",
     "traceback": [
      "\u001b[0;31m---------------------------------------------------------------------------\u001b[0m",
      "\u001b[0;31mNameError\u001b[0m                                 Traceback (most recent call last)",
      "\u001b[0;32m<ipython-input-1-3872754cebd0>\u001b[0m in \u001b[0;36m<module>\u001b[0;34m\u001b[0m\n\u001b[1;32m      4\u001b[0m     \u001b[0;32mreturn\u001b[0m \u001b[0ma\u001b[0m\u001b[0;34m*\u001b[0m\u001b[0mnp\u001b[0m\u001b[0;34m.\u001b[0m\u001b[0mexp\u001b[0m\u001b[0;34m(\u001b[0m\u001b[0;34m-\u001b[0m\u001b[0mc\u001b[0m\u001b[0;34m*\u001b[0m\u001b[0;34m(\u001b[0m\u001b[0mx\u001b[0m\u001b[0;34m-\u001b[0m\u001b[0mb\u001b[0m\u001b[0;34m)\u001b[0m\u001b[0;34m)\u001b[0m\u001b[0;34m+\u001b[0m\u001b[0md\u001b[0m\u001b[0;34m\u001b[0m\u001b[0;34m\u001b[0m\u001b[0m\n\u001b[1;32m      5\u001b[0m \u001b[0;34m\u001b[0m\u001b[0m\n\u001b[0;32m----> 6\u001b[0;31m \u001b[0mfig\u001b[0m\u001b[0;34m=\u001b[0m\u001b[0mplt\u001b[0m\u001b[0;34m.\u001b[0m\u001b[0mfigure\u001b[0m\u001b[0;34m(\u001b[0m\u001b[0;34m)\u001b[0m\u001b[0;34m\u001b[0m\u001b[0;34m\u001b[0m\u001b[0m\n\u001b[0m\u001b[1;32m      7\u001b[0m plt.scatter(vis.predictions1,\n\u001b[1;32m      8\u001b[0m     vis.trials1)\n",
      "\u001b[0;31mNameError\u001b[0m: name 'plt' is not defined"
     ]
    }
   ],
   "source": [
    "from scipy.optimize import curve_fit\n",
    "\n",
    "def func(x, a, b, c, d):\n",
    "    return a*np.exp(-c*(x-b))+d\n",
    "\n",
    "fig=plt.figure()        \n",
    "plt.scatter(vis.predictions1,\n",
    "    vis.trials1)\n",
    "plt.ylim(0,160)\n",
    "plt.xlim(-10,0)\n",
    "\n",
    "\n",
    "# fit exponentials\n",
    "popt, pcov = curve_fit(func,\n",
    "                       vis.predictions1+30,\n",
    "                       vis.trials1,\n",
    "                       [11,1e-6,1e-3,3],\n",
    "                       maxfev=10000)\n",
    "\n",
    "print(\"Popt: \", popt)\n",
    "\n",
    "x= np.linspace(0,10,1000)\n",
    "plt.plot(x-10,func(x,*popt))\n",
    "            \n",
    "        \n",
    "print (vis.trials1)\n",
    "print (vis.predictions1)"
   ]
  },
  {
   "cell_type": "code",
   "execution_count": 5,
   "metadata": {},
   "outputs": [],
   "source": [
    "#################################################\n",
    "######### COMPARE RNN VS SVM DECODING ###########\n",
    "#################################################\n",
    "# \n",
    "fnames_svm = glob2.glob('/media/cat/4TBSSD/yuki/IJ2/SVM_Scores/*.npy')\n",
    "fnames_rnn= glob2.glob('/media/cat/4TBSSD/yuki/IJ2/RNN_scores/*.npz')\n",
    "\n",
    "vis.compare_svm_rnn(fnames_svm, fnames_rnn)\n",
    "\n"
   ]
  },
  {
   "cell_type": "code",
   "execution_count": null,
   "metadata": {},
   "outputs": [],
   "source": []
  },
  {
   "cell_type": "code",
   "execution_count": null,
   "metadata": {},
   "outputs": [],
   "source": []
  },
  {
   "cell_type": "code",
   "execution_count": 8,
   "metadata": {},
   "outputs": [
    {
     "data": {
      "text/plain": [
       "Text(0.5, 0.98, 'AQ2')"
      ]
     },
     "execution_count": 8,
     "metadata": {},
     "output_type": "execute_result"
    }
   ],
   "source": [
    "#######################################\n",
    "######## PLOT SVM DECISION TIME #######\n",
    "#######################################\n",
    "svm = PredictSVMTime()\n",
    "svm.main_dir = '/media/cat/4TBSSD/yuki/'\n",
    "\n",
    "# default params\n",
    "svm.lockout = False\n",
    "svm.lockout_window = 10\n",
    "svm.pca_flag = True\n",
    "svm.pca_var = 0.95\n",
    "svm.window = 10\n",
    "\n",
    "fig = plt.figure()\n",
    "svm.animal_id = 'AQ2'\n",
    "svm.session_id = 'all'\n",
    "svm.get_sessions()\n",
    "\n",
    "#\n",
    "ctr=1\n",
    "for session_id in svm.sessions:\n",
    "    ax=plt.subplot(8,10,ctr)\n",
    "    svm.session_id = session_id\n",
    "    try:\n",
    "        svm.plot_decision_time(ax)\n",
    "        plt.title(session_id+\", #: \"+str(svm.n_trials_both[0]), fontsize=6)\n",
    "        if ctr!=1:\n",
    "            plt.yticks([])\n",
    "        if ctr!=31:\n",
    "            plt.xticks([])\n",
    "\n",
    "        ctr+=1\n",
    "\n",
    "    except:\n",
    "        pass\n",
    "plt.suptitle(svm.animal_id,fontsize=20)\n",
    "\n"
   ]
  },
  {
   "cell_type": "code",
   "execution_count": null,
   "metadata": {},
   "outputs": [],
   "source": []
  },
  {
   "cell_type": "code",
   "execution_count": null,
   "metadata": {},
   "outputs": [],
   "source": []
  },
  {
   "cell_type": "code",
   "execution_count": null,
   "metadata": {},
   "outputs": [],
   "source": []
  },
  {
   "cell_type": "code",
   "execution_count": null,
   "metadata": {},
   "outputs": [],
   "source": []
  },
  {
   "cell_type": "code",
   "execution_count": null,
   "metadata": {},
   "outputs": [],
   "source": []
  },
  {
   "cell_type": "code",
   "execution_count": 4,
   "metadata": {},
   "outputs": [
    {
     "name": "stdout",
     "output_type": "stream",
     "text": [
      "(601, 10)\n"
     ]
    }
   ],
   "source": [
    "data = np.load('/media/cat/4TBSSD/yuki/IJ2/SVM_Scores/SVM_Scores_IJ2am_Mar7_30Hz_code_04_trial_ROItimeCourses_10sec_pca_0.95.npy')\n",
    "print (data.shape)"
   ]
  },
  {
   "cell_type": "code",
   "execution_count": null,
   "metadata": {},
   "outputs": [],
   "source": [
    "\n",
    "# vis.main_dir = '/media/cat/4TBSSD/yuki/output_3.7-20210310T074752Z-001/output_3.7/no_midline_filter/'\n",
    "\n",
    "# fname = vis.main_dir+'/'+animal_id+'/SVM_scores_'+animal_id+'_'+str(session)+'.npy'\n",
    "# vis.load_data(fname)\n",
    "# vis.plot_decision_choice('black','all - 30frame windows')\n",
    "\n",
    "# fname = '/media/cat/4TBSSD/yuki/IA1/tif_files/IA1pm_Feb3_30Hz/analysis/all_accuracy.npy'\n",
    "# vis.load_data(fname)\n",
    "# vis.plot_decision_choice('red','all - 1 frame windows')\n",
    "\n",
    "# fname = vis.main_dir+'/'+animal_id+'/SVM_scores_'+animal_id+'_lockout_'+str(session)+'.npy'\n",
    "# vis.load_data(fname)\n",
    "# vis.plot_decision_choice('magenta','lockout')\n",
    "\n",
    "# # rnn\n",
    "# fname = vis.main_dir+'/'+animal_id+'/acc_rnn_'+animal_id+'_'+str(session)+'.npy'\n",
    "# vis.load_data(fname)\n",
    "# vis.plot_decision_choice('green','rnn-all-denoised')\n",
    "\n",
    "# fname = vis.main_dir+'/'+animal_id+'/acc_rnn_'+animal_id+'_lockout_'+str(session)+'.npy'\n",
    "# vis.load_data(fname)\n",
    "# vis.plot_decision_choice('cyan','rnn-lockout-denoised')\n",
    "\n",
    "\n",
    "# # #\n",
    "# # vis.load_data(fname)\n",
    "# fname = '/media/cat/4TBSSD/yuki/march_7/IA1pm_Feb23_30Hz_code_04_PCA_Denoised/analysis/all_accuracy.npy'\n",
    "# #fname = vis.main_dir+'/'+animal_id+'/SVM_scores_'+animal_id+'_'+str(session)+'.npy'\n",
    "\n",
    "# vis.load_data(fname)\n",
    "# vis.plot_significant('red','all',animal_id, session)\n",
    " \n",
    "# #\n",
    "# vis.plot_animal_decision_longitudinal('IA1')\n",
    "\n",
    "# # \n",
    "# vis.plot_animal_decision_AUC_longitudinal()\n",
    "\n",
    "# # # # # \n",
    "# lockout=False\n",
    "# for ctr, name in enumerate(vis.animal_names):\n",
    "#     ax=plt.subplot(2,3,ctr+1)\n",
    "#     vis.plot_animal_decision_longitudinal_matrix(name, lockout, ax)\n",
    "    \n",
    "\n",
    "#############################################\n",
    "############## DECISION TIME ################\n",
    "#############################################\n",
    "\n",
    "#\n",
    "# vis.main_dir = '/media/cat/1TB/yuki/yongxu/lever pull/'\n",
    "\n",
    "# fname = '/media/cat/4TBSSD/yuki/output_3.7-20210310T074752Z-001/output_3.7/no_midline_filter/IA1/conf_10_IA1_0.npy'\n",
    "# vis.load_data(fname)\n",
    "# vis.plot_decision_time('red','all')\n",
    "\n",
    "# animal_name = \"IA1\"\n",
    "# vis.plot_decision_time_animal(animal_name)\n",
    "\n",
    "# animal_name = 'IA1'\n",
    "# vis.plot_decision_time_animal_matrix(animal_name)\n",
    "\n",
    "# # \n",
    "# vis.filter=False\n",
    "# vis.plot_decision_time_all_matrix()\n",
    "\n",
    "\n",
    "\n",
    "#############################################\n",
    "############## BODY MOVEMENTS ###############\n",
    "#############################################\n",
    "\n",
    "# body movement related data\n",
    "#vis.main_dir = '/media/cat/1TB/yuki/yongxu/body movement/'\n",
    "\n",
    "# # \n",
    "# body_part = 'right_paw'\n",
    "# fname = vis.main_dir+'/SVM_scores_'+body_part+'_1.npy'\n",
    "# vis.load_data(fname)\n",
    "# vis.plot_decision_choice('red','1', body_part)\n",
    "\n",
    "# fname = vis.main_dir+'/SVM_scores_'+body_part+'_2.npy'\n",
    "# vis.load_data(fname)\n",
    "# vis.plot_decision_choice('blue','2', body_part)\n",
    "\n",
    "# # # \n",
    "# fname = vis.main_dir+'/conf_10_left_paw.npy'\n",
    "# vis.load_data(fname)\n",
    "# vis.plot_decision_time('red','left')\n",
    "\n",
    "# fname = vis.main_dir+'/conf_10_right_paw.npy'\n",
    "# vis.load_data(fname)\n",
    "# vis.plot_decision_time('blue','right')\n",
    "\n",
    "# fname = vis.main_dir+'/conf_10_tongue.npy'\n",
    "# vis.load_data(fname)\n",
    "# vis.plot_decision_time('green','tongue')\n"
   ]
  },
  {
   "cell_type": "code",
   "execution_count": 7,
   "metadata": {},
   "outputs": [
    {
     "name": "stdout",
     "output_type": "stream",
     "text": [
      "(1500, 16384)\n"
     ]
    }
   ],
   "source": [
    "import pickle as pk\n",
    "\n",
    "file = open('/media/cat/4TBSSD/yuki/IA1/tif_files/IA1pm_Feb3_30Hz/IA1pm_Feb3_30Hz_code_04_lockout_10sec_trial_ROItimeCourses_10sec_pca.pkl', 'rb')\n",
    "\n",
    "# dump information to that file\n",
    "pca = pk.load(file)\n",
    "\n",
    "print (pca.components_.shape)\n"
   ]
  },
  {
   "cell_type": "code",
   "execution_count": 9,
   "metadata": {},
   "outputs": [
    {
     "name": "stdout",
     "output_type": "stream",
     "text": [
      "(62, 601, 128, 128)\n"
     ]
    }
   ],
   "source": [
    "data_stm = np.load('/media/cat/4TBSSD/yuki/IA1/tif_files/IA1pm_Feb3_30Hz/IA1pm_Feb3_30Hz_10.0sec_butterworth_globalAverage_0.1hz_6.0hz_04code_stm.npy')\n",
    "print (data_stm.shape)"
   ]
  },
  {
   "cell_type": "code",
   "execution_count": 10,
   "metadata": {},
   "outputs": [
    {
     "ename": "NameError",
     "evalue": "name 'nComp' is not defined",
     "output_type": "error",
     "traceback": [
      "\u001b[0;31m---------------------------------------------------------------------------\u001b[0m",
      "\u001b[0;31mNameError\u001b[0m                                 Traceback (most recent call last)",
      "\u001b[0;32m<ipython-input-10-f869b1fe5d18>\u001b[0m in \u001b[0;36m<module>\u001b[0;34m\u001b[0m\n\u001b[1;32m      5\u001b[0m \u001b[0mmu\u001b[0m\u001b[0;34m=\u001b[0m \u001b[0mnp\u001b[0m\u001b[0;34m.\u001b[0m\u001b[0mmean\u001b[0m\u001b[0;34m(\u001b[0m\u001b[0mX\u001b[0m\u001b[0;34m,\u001b[0m \u001b[0maxis\u001b[0m\u001b[0;34m=\u001b[0m\u001b[0;36m0\u001b[0m\u001b[0;34m)\u001b[0m\u001b[0;34m\u001b[0m\u001b[0;34m\u001b[0m\u001b[0m\n\u001b[1;32m      6\u001b[0m \u001b[0;34m\u001b[0m\u001b[0m\n\u001b[0;32m----> 7\u001b[0;31m Xnew = np.dot(pca.transform(X)[:,:nComp],\n\u001b[0m\u001b[1;32m      8\u001b[0m              pca.components_[:nComp,:])\n\u001b[1;32m      9\u001b[0m \u001b[0;34m\u001b[0m\u001b[0m\n",
      "\u001b[0;31mNameError\u001b[0m: name 'nComp' is not defined"
     ]
    }
   ],
   "source": [
    "# \n",
    "X = data_stm.reshape(data_stm.shape[0]*data_stm.shape[1],\n",
    "                     data_stm.shape[2]*data_stm.shape[3])\n",
    "\n",
    "mu= np.mean(X, axis=0)\n"
   ]
  },
  {
   "cell_type": "code",
   "execution_count": 11,
   "metadata": {},
   "outputs": [],
   "source": [
    "nComp = 9\n",
    "Xnew = np.dot(pca.transform(X)[:,:nComp],\n",
    "             pca.components_[:nComp,:])\n",
    "\n",
    "Xnew+=mu\n",
    "\n",
    "data_stm_denoised_reshaped = Xnew.reshape(data_stm.shape[0], data_stm.shape[1],\n",
    "                                          data_stm.shape[2], data_stm.shape[3])\n"
   ]
  },
  {
   "cell_type": "code",
   "execution_count": 17,
   "metadata": {},
   "outputs": [
    {
     "name": "stdout",
     "output_type": "stream",
     "text": [
      "(62, 9, 601)\n"
     ]
    }
   ],
   "source": [
    "time_filters = pca.transform(X)[:,:nComp]\n",
    "pca_time_filters_only = time_filters.reshape(data_stm.shape[0], data_stm.shape[1],-1).transpose(0,2,1)\n",
    "print (pca_time_filters_only.shape)\n"
   ]
  },
  {
   "cell_type": "code",
   "execution_count": 15,
   "metadata": {},
   "outputs": [
    {
     "name": "stdout",
     "output_type": "stream",
     "text": [
      "(62, 601, 9)\n"
     ]
    }
   ],
   "source": []
  },
  {
   "cell_type": "code",
   "execution_count": 16,
   "metadata": {},
   "outputs": [
    {
     "name": "stdout",
     "output_type": "stream",
     "text": [
      "(40, 35, 601)\n"
     ]
    }
   ],
   "source": [
    "data2 = np.load('/media/cat/4TBSSD/yuki/IA1/tif_files/IA1pm_Feb3_30Hz/IA1pm_Feb3_30Hz_code_04_lockout_10sec_trial_ROItimeCourses_10sec.npy')\n",
    "print (data2.shape)"
   ]
  },
  {
   "cell_type": "code",
   "execution_count": null,
   "metadata": {},
   "outputs": [],
   "source": []
  },
  {
   "cell_type": "code",
   "execution_count": 12,
   "metadata": {},
   "outputs": [
    {
     "name": "stdout",
     "output_type": "stream",
     "text": [
      "(37262, 16384)\n"
     ]
    }
   ],
   "source": [
    "print (Xnew.shape)"
   ]
  },
  {
   "cell_type": "code",
   "execution_count": 13,
   "metadata": {},
   "outputs": [
    {
     "data": {
      "text/plain": [
       "(62, 601, 128, 128)"
      ]
     },
     "execution_count": 13,
     "metadata": {},
     "output_type": "execute_result"
    }
   ],
   "source": [
    "data_stm_denoised_reshaped.shape"
   ]
  },
  {
   "cell_type": "code",
   "execution_count": 6,
   "metadata": {},
   "outputs": [
    {
     "name": "stdout",
     "output_type": "stream",
     "text": [
      "['/media/cat/12TB/in_vivo/tim/yuki/IA1/tif_files/IA1pm_Feb1_30Hz/IA1pm_Feb1_30Hz.tif'\n",
      " '/media/cat/12TB/in_vivo/tim/yuki/IA1/tif_files/IA1pm_Feb2_30Hz/IA1pm_Feb2_30Hz.tif'\n",
      " '/media/cat/12TB/in_vivo/tim/yuki/IA1/tif_files/IA1pm_Feb3_30Hz/IA1pm_Feb3_30Hz.tif'\n",
      " '/media/cat/12TB/in_vivo/tim/yuki/IA1/tif_files/IA1pm_Feb4_30Hz/IA1pm_Feb4_30Hz.tif'\n",
      " '/media/cat/12TB/in_vivo/tim/yuki/IA1/tif_files/IA1pm_Feb5_30Hz/IA1pm_Feb5_30Hz.tif'\n",
      " '/media/cat/12TB/in_vivo/tim/yuki/IA1/tif_files/IA1pm_Feb9_30Hz/IA1pm_Feb9_30Hz.tif'\n",
      " '/media/cat/12TB/in_vivo/tim/yuki/IA1/tif_files/IA1pm_Feb10_30Hz/IA1pm_Feb10_30Hz.tif'\n",
      " '/media/cat/12TB/in_vivo/tim/yuki/IA1/tif_files/IA1pm_Feb11_30Hz/IA1pm_Feb11_30Hz.tif'\n",
      " '/media/cat/12TB/in_vivo/tim/yuki/IA1/tif_files/IA1pm_Feb12_30Hz/IA1pm_Feb12_30Hz.tif'\n",
      " '/media/cat/12TB/in_vivo/tim/yuki/IA1/tif_files/IA1pm_Feb15_30Hz/IA1pm_Feb15_30Hz.tif'\n",
      " '/media/cat/12TB/in_vivo/tim/yuki/IA1/tif_files/IA1pm_Feb16_30Hz/IA1pm_Feb16_30Hz.tif'\n",
      " '/media/cat/12TB/in_vivo/tim/yuki/IA1/tif_files/IA1pm_Feb17_30Hz/IA1pm_Feb17_30Hz.tif'\n",
      " '/media/cat/12TB/in_vivo/tim/yuki/IA1/tif_files/IA1pm_Feb18_30Hz/IA1pm_Feb18_30Hz.tif'\n",
      " '/media/cat/12TB/in_vivo/tim/yuki/IA1/tif_files/IA1pm_Feb19_30Hz/IA1pm_Feb19_30Hz.tif'\n",
      " '/media/cat/12TB/in_vivo/tim/yuki/IA1/tif_files/IA1pm_Feb22_30Hz/IA1pm_Feb22_30Hz.tif'\n",
      " '/media/cat/12TB/in_vivo/tim/yuki/IA1/tif_files/IA1pm_Feb23_30Hz/IA1pm_Feb23_30Hz.tif'\n",
      " '/media/cat/12TB/in_vivo/tim/yuki/IA1/tif_files/IA1pm_Feb24_30Hz/IA1pm_Feb24_30Hz.tif'\n",
      " '/media/cat/12TB/in_vivo/tim/yuki/IA1/tif_files/IA1pm_Feb25_30Hz/IA1pm_Feb25_30Hz.tif'\n",
      " '/media/cat/12TB/in_vivo/tim/yuki/IA1/tif_files/IA1pm_Feb26_30Hz/IA1pm_Feb26_30Hz.tif'\n",
      " '/media/cat/12TB/in_vivo/tim/yuki/IA1/tif_files/IA1pm_Feb29_30Hz/IA1pm_Feb29_30Hz.tif'\n",
      " '/media/cat/12TB/in_vivo/tim/yuki/IA1/tif_files/IA1pm_Mar1_30Hz/IA1pm_Mar1_30Hz.tif'\n",
      " '/media/cat/12TB/in_vivo/tim/yuki/IA1/tif_files/IA1pm_Mar2_30Hz/IA1pm_Mar2_30Hz.tif'\n",
      " '/media/cat/12TB/in_vivo/tim/yuki/IA1/tif_files/IA1pm_Mar3_30Hz/IA1pm_Mar3_30Hz.tif'\n",
      " '/media/cat/12TB/in_vivo/tim/yuki/IA1/tif_files/IA1am_Mar4_30Hz/IA1am_Mar4_30Hz.tif'\n",
      " '/media/cat/12TB/in_vivo/tim/yuki/IA1/tif_files/IA1am_Mar7_30Hz/IA1am_Mar7_30Hz.tif'\n",
      " '/media/cat/12TB/in_vivo/tim/yuki/IA1/tif_files/IA1pm_Mar8_30Hz/IA1pm_Mar8_30Hz.tif'\n",
      " '/media/cat/12TB/in_vivo/tim/yuki/IA1/tif_files/IA1am_Mar9_30Hz/IA1am_Mar9_30Hz.tif'\n",
      " '/media/cat/12TB/in_vivo/tim/yuki/IA1/tif_files/IA1am_Mar10_30Hz/IA1am_Mar10_30Hz.tif'\n",
      " '/media/cat/12TB/in_vivo/tim/yuki/IA1/tif_files/IA1am_Mar11_30Hz/IA1am_Mar11_30Hz.tif'\n",
      " '/media/cat/12TB/in_vivo/tim/yuki/IA1/tif_files/IA1pm_Mar14_30Hz/IA1pm_Mar14_30Hz.tif'\n",
      " '/media/cat/12TB/in_vivo/tim/yuki/IA1/tif_files/IA1am_Mar15_30Hz/IA1am_Mar15_30Hz.tif'\n",
      " '/media/cat/12TB/in_vivo/tim/yuki/IA1/tif_files/IA1pm_Mar16_30Hz/IA1pm_Mar16_30Hz.tif'\n",
      " '/media/cat/12TB/in_vivo/tim/yuki/IA1/tif_files/IA1pm_Mar17_30Hz/IA1pm_Mar17_30Hz.tif'\n",
      " '/media/cat/12TB/in_vivo/tim/yuki/IA1/tif_files/IA1pm_Mar18_30Hz/IA1pm_Mar18_30Hz.tif'\n",
      " '/media/cat/12TB/in_vivo/tim/yuki/IA1/tif_files/IA1pm_Mar21_30Hz/IA1pm_Mar21_30Hz.tif'\n",
      " '/media/cat/12TB/in_vivo/tim/yuki/IA1/tif_files/IA1pm_Mar22_30Hz/IA1pm_Mar22_30Hz.tif'\n",
      " '/media/cat/12TB/in_vivo/tim/yuki/IA1/tif_files/IA1pm_Mar23_30Hz/IA1pm_Mar23_30Hz.tif'\n",
      " '/media/cat/12TB/in_vivo/tim/yuki/IA1/tif_files/IA1pm_Mar24_30Hz/IA1pm_Mar24_30Hz.tif'\n",
      " '/media/cat/12TB/in_vivo/tim/yuki/IA1/tif_files/IA1pm_Mar29_30Hz/IA1pm_Mar29_30Hz.tif'\n",
      " '/media/cat/12TB/in_vivo/tim/yuki/IA1/tif_files/IA1pm_Mar30_30Hz/IA1pm_Mar30_30Hz.tif'\n",
      " '/media/cat/12TB/in_vivo/tim/yuki/IA1/tif_files/IA1pm_Mar31_30Hz/IA1pm_Mar31_30Hz.tif'\n",
      " '/media/cat/12TB/in_vivo/tim/yuki/IA1/tif_files/IA1pm_Apr1_30Hz/IA1pm_Apr1_30Hz.tif'\n",
      " '/media/cat/12TB/in_vivo/tim/yuki/IA1/tif_files/IA1pm_Apr4_30Hz/IA1pm_Apr4_30Hz.tif'\n",
      " '/media/cat/12TB/in_vivo/tim/yuki/IA1/tif_files/IA1pm_Apr5_30Hz/IA1pm_Apr5_30Hz.tif'\n",
      " '/media/cat/12TB/in_vivo/tim/yuki/IA1/tif_files/IA1pm_Apr6_30Hz/IA1pm_Apr6_30Hz.tif'\n",
      " '/media/cat/12TB/in_vivo/tim/yuki/IA1/tif_files/IA1pm_Apr7_30Hz/IA1pm_Apr7_30Hz.tif'\n",
      " '/media/cat/12TB/in_vivo/tim/yuki/IA1/tif_files/IA1pm_Apr11_Day3_30Hz/IA1pm_Apr11_Day3_30Hz.tif'\n",
      " '/media/cat/12TB/in_vivo/tim/yuki/IA1/tif_files/IA1pm_Apr13_Day5_30Hz/IA1pm_Apr13_Day5_30Hz.tif'\n",
      " '/media/cat/12TB/in_vivo/tim/yuki/IA1/tif_files/IA1pm_Apr15_Day7_30Hz/IA1pm_Apr15_Day7_30Hz.tif'\n",
      " '/media/cat/12TB/in_vivo/tim/yuki/IA1/tif_files/IA1pm_Apr18_Week2_30Hz/IA1pm_Apr18_Week2_30Hz.tif'\n",
      " '/media/cat/12TB/in_vivo/tim/yuki/IA1/tif_files/IA1pm_Apr19_Week2_30Hz/IA1pm_Apr19_Week2_30Hz.tif'\n",
      " '/media/cat/12TB/in_vivo/tim/yuki/IA1/tif_files/IA1pm_Apr20_Week2_30Hz/IA1pm_Apr20_Week2_30Hz.tif'\n",
      " '/media/cat/12TB/in_vivo/tim/yuki/IA1/tif_files/IA1pm_Apr21_Week2_30Hz/IA1pm_Apr21_Week2_30Hz.tif'\n",
      " '/media/cat/12TB/in_vivo/tim/yuki/IA1/tif_files/IA1pm_Apr22_Week2_30Hz/IA1pm_Apr22_Week2_30Hz.tif'\n",
      " '/media/cat/12TB/in_vivo/tim/yuki/IA1/tif_files/IA1pm_Apr25_Week3_30Hz/IA1pm_Apr25_Week3_30Hz.tif'\n",
      " '/media/cat/12TB/in_vivo/tim/yuki/IA1/tif_files/IA1pm_Apr26_Week3_30Hz/IA1pm_Apr26_Week3_30Hz.tif'\n",
      " '/media/cat/12TB/in_vivo/tim/yuki/IA1/tif_files/IA1pm_Apr27_Week3_30Hz/IA1pm_Apr27_Week3_30Hz.tif'\n",
      " '/media/cat/12TB/in_vivo/tim/yuki/IA1/tif_files/IA1pm_Apr28_Week3_30Hz/IA1pm_Apr28_Week3_30Hz.tif'\n",
      " '/media/cat/12TB/in_vivo/tim/yuki/IA1/tif_files/IA1pm_Apr29_Week3_30Hz/IA1pm_Apr29_Week3_30Hz.tif'\n",
      " '/media/cat/12TB/in_vivo/tim/yuki/IA1/tif_files/IA1am_May2_Week4_30Hz/IA1am_May2_Week4_30Hz.tif'\n",
      " '/media/cat/12TB/in_vivo/tim/yuki/IA1/tif_files/IA1am_May4_Week4_30Hz/IA1am_May4_Week4_30Hz.tif'\n",
      " '/media/cat/12TB/in_vivo/tim/yuki/IA1/tif_files/IA1am_May5_Week4_30Hz/IA1am_May5_Week4_30Hz.tif'\n",
      " '/media/cat/12TB/in_vivo/tim/yuki/IA1/tif_files/IA1am_May6_Week4_30Hz/IA1am_May6_Week4_30Hz.tif'\n",
      " '/media/cat/12TB/in_vivo/tim/yuki/IA1/tif_files/IA1am_May9_Week5_30Hz/IA1am_May9_Week5_30Hz.tif'\n",
      " '/media/cat/12TB/in_vivo/tim/yuki/IA1/tif_files/IA1am_May10_Week5_30Hz/IA1am_May10_Week5_30Hz.tif'\n",
      " '/media/cat/12TB/in_vivo/tim/yuki/IA1/tif_files/IA1am_May12_Week5_30Hz/IA1am_May12_Week5_30Hz.tif'\n",
      " '/media/cat/12TB/in_vivo/tim/yuki/IA1/tif_files/IA1am_May13_Week5_30Hz/IA1am_May13_Week5_30Hz.tif'\n",
      " '/media/cat/12TB/in_vivo/tim/yuki/IA1/tif_files/IA1am_May16_Week6_30Hz/IA1am_May16_Week6_30Hz.tif'\n",
      " '/media/cat/12TB/in_vivo/tim/yuki/IA1/tif_files/IA1am_May17_Week6_30Hz/IA1am_May17_Week6_30Hz.tif'\n",
      " '/media/cat/12TB/in_vivo/tim/yuki/IA1/tif_files/IA1am_May18_Week6_30Hz/IA1am_May18_Week6_30Hz.tif'\n",
      " '/media/cat/12TB/in_vivo/tim/yuki/IA1/tif_files/IA1am_May20_Week6_30Hz/IA1am_May20_Week6_30Hz.tif']\n"
     ]
    }
   ],
   "source": [
    "data = np.load('/media/cat/4TBSSD/yuki/IA1/tif_files.npy')\n",
    "print (data)"
   ]
  },
  {
   "cell_type": "code",
   "execution_count": 7,
   "metadata": {},
   "outputs": [
    {
     "name": "stdout",
     "output_type": "stream",
     "text": [
      "(82, 2, 601)\n"
     ]
    }
   ],
   "source": [
    "data = np.load('/media/cat/1TB/yuki/IA1/tif_files/IA1pm_Feb23_30Hz/IA1pm_Feb23_30Hz_code_04_trial_ROItimeCourses_10sec_pca_0.5.npy')\n",
    "print (data.shape)"
   ]
  },
  {
   "cell_type": "code",
   "execution_count": 9,
   "metadata": {},
   "outputs": [],
   "source": [
    "# #\n",
    "# data1 = np.load('/home/cat/acc_rnn.npy.npz')\n",
    "# b = data1['b_rnn']\n",
    "# c = data1['c_s']\n",
    "\n",
    "# #\n",
    "# print (b.shape)\n",
    "# mean = b.mean(1)\n",
    "# t=np.linspace(-9.5, 9.5, mean.shape[0])\n",
    "# plt.plot(t, mean, c='black')\n",
    "# plt.fill_between(t, mean+c, mean-c, color='black', alpha=.2)\n",
    "\n",
    "# # \n",
    "# data2 = np.load('/home/cat/acc_rnn.npy.npz')\n",
    "# b = data2['b_rnn']\n",
    "# c = data2['c_s']\n",
    "# mean = b.mean(1)\n",
    "# plt.plot(t, mean, 'blue')\n",
    "# plt.fill_between(t, mean+c, mean-c, color='blue', alpha=.2)\n",
    "\n",
    "\n",
    "# plt.show()"
   ]
  },
  {
   "cell_type": "code",
   "execution_count": 13,
   "metadata": {},
   "outputs": [
    {
     "name": "stdout",
     "output_type": "stream",
     "text": [
      "(128, 128)\n"
     ]
    }
   ],
   "source": [
    "import numpy as np\n",
    "import matplotlib.pyplot as plt\n",
    "data= np.load('/media/cat/1TB/yuki/maskwarp.npy')\n",
    "print (data.shape)\n",
    "\n",
    "plt.imshow(data)\n",
    "plt.show()"
   ]
  },
  {
   "cell_type": "code",
   "execution_count": 138,
   "metadata": {
    "scrolled": true
   },
   "outputs": [
    {
     "name": "stdout",
     "output_type": "stream",
     "text": [
      "[  0  15  21  29  36  43  50  57  64  71 136 150 164 186 198 249 255 261\n",
      " 268 275] 20\n",
      "[ 15  21  29  36  43  50  57  64  71 136 150 164 186 198 249 255 261 268\n",
      " 275] 19\n"
     ]
    }
   ],
   "source": [
    "# \n",
    "def sum_pixels_in_registered_mask(data, \n",
    "                                  maskwarp,\n",
    "                                  min_pixels=10):\n",
    "\n",
    "    \n",
    "    # \n",
    "    areas = np.unique(maskwarp)\n",
    "\n",
    "    \n",
    "    \n",
    "    # work in 1D vectors easier to mask\n",
    "    maskwarp1D = maskwarp.reshape(-1)\n",
    "    #maskwarp1D = maskwarp\n",
    "\n",
    "    trial_courses = []\n",
    "    area_ids = []\n",
    "    for k in range(data.shape[0]):\n",
    "        time_courses_local = []\n",
    "\n",
    "        # convert to 1D vector to mask faster\n",
    "        data1D = np.float32(data[k].reshape(data[k].shape[0],-1))\n",
    "\n",
    "        # \n",
    "        print (k,\"Data1D: \", data1D.shape)\n",
    "        for id_ in areas:\n",
    "            idx = np.where(maskwarp1D==id_)[0]\n",
    "            #idx = np.where(maskwarp1D==id_)\n",
    "\n",
    "            # only keep areas that have at least 10 pixels\n",
    "            if idx.shape[0]>min_pixels:\n",
    "                area_ids.append(id_)\n",
    "                \n",
    "                temp = data1D[:,idx]\n",
    "\n",
    "                if False:\n",
    "                    # compute DFF\n",
    "                    F0 = np.nanmean(temp,axis=0)\n",
    "                    dFF = (data1D[:,idx]-F0)/F0\n",
    "                else:\n",
    "                    # skip dFF computation;\n",
    "                    dFF = temp\n",
    "\n",
    "                # save average of all pixesl post DFF\n",
    "                time_courses_local.append(np.nanmean(dFF, axis=1))\n",
    "\n",
    "            #all_times.append(time_courses_local)\n",
    "        trial_courses.append(time_courses_local)\n",
    "\n",
    "    area_ids = np.int32(np.unique(area_ids))\n",
    "    trial_courses = np.float32(trial_courses)\n",
    "    print (\"# trials, # areas, # times: \", trial_courses.shape)\n",
    "    print (\"area ids: \", area_ids.shape)\n",
    "\n",
    "    return area_ids, trial_courses\n",
    "\n",
    "# \n",
    "def check_neighbours(mask_roi, idx, p):\n",
    "    \n",
    "    x = idx[0][p]\n",
    "    y = idx[1][p]\n",
    "    \n",
    "    sums = 0\n",
    "    for k in range(-1,2,1):\n",
    "        for p in range(-1,2,1):\n",
    "            xx = x+k\n",
    "            yy = y+p\n",
    "            if xx < 0 or xx> 127 or yy<0 or yy>127:\n",
    "                pass\n",
    "            else:\n",
    "                sums+=mask_roi[xx,yy]\n",
    "                if sums>=2:\n",
    "                    return True\n",
    "    return False\n",
    "\n",
    "# \n",
    "def remove_single_pixels(maskwarp,\n",
    "                         min_pixels=10):\n",
    "\n",
    "    \n",
    "    \n",
    "    # load brain mask (i.e. no tissue areas) and apply it to the image mask first\n",
    "    if True:\n",
    "        temp = np.int32(np.loadtxt('/media/cat/1TB/yuki/IA1/genericmask.txt'))\n",
    "        brain_mask = np.ones((128,128),'float32')\n",
    "        for t in temp:\n",
    "            brain_mask[t[0],t[1]]=0\n",
    "\n",
    "        maskwarp = maskwarp*brain_mask\n",
    "    \n",
    "    # \n",
    "    ids = np.unique(maskwarp)\n",
    "\n",
    "    ids_selected = []\n",
    "    masks = []\n",
    "    mask_b = np.zeros((128,128),'int32')\n",
    "    for id_ in ids: \n",
    "        idx = np.where(maskwarp==id_)\n",
    "        if idx[0].shape[0]>min_pixels:\n",
    "            \n",
    "            # make the mask for the specific ROI\n",
    "            mask_roi = np.zeros((128,128))\n",
    "            idx = np.where(maskwarp==id_)\n",
    "\n",
    "            mask_roi[idx] = 1\n",
    "            \n",
    "            #idx_connected = []\n",
    "            x = []\n",
    "            y = []\n",
    "            for p in range(idx[0].shape[0]):\n",
    "                connected = check_neighbours(mask_roi, idx, p)\n",
    "                if connected:\n",
    "                    x.append(idx[0][p])\n",
    "                    y.append(idx[1][p])\n",
    "            \n",
    "            # \n",
    "            if len(x)>min_pixels:\n",
    "                ids_selected.append(int(id_))\n",
    "                temp = mask_b.copy()\n",
    "                for p in range(len(x)):\n",
    "                     temp[x[p],y[p]]=1\n",
    "                \n",
    "                masks.append(temp)\n",
    "                \n",
    "        \n",
    "    ids_selected = np.array(ids_selected)\n",
    "    return ids_selected, masks\n",
    "# \n",
    "maskwarp= np.load('/media/cat/1TB/yuki/maskwarp.npy')\n",
    "\n",
    "min_pixels = 50\n",
    "ids, masks = remove_single_pixels(maskwarp,\n",
    "                                 min_pixels)\n",
    "print (ids, len(ids))\n",
    "\n",
    "#ids, courses = sum_pixels_in_registered_mask(data, maskwarp)\n",
    "\n",
    "# remove certain specific areas:\n",
    "idx_del =  [0,16,20]\n",
    "ids = np.delete(ids,0,0)\n",
    "masks = np.delete(masks,0,0)\n",
    "print (ids, len(ids))\n"
   ]
  },
  {
   "cell_type": "code",
   "execution_count": 141,
   "metadata": {},
   "outputs": [],
   "source": [
    "# Load names of ROIs\n",
    "with open('/home/cat/dorsalMaps_name.txt') as f:\n",
    "    fs = list(f)\n",
    "\n",
    "fs = np.vstack(fs)\n",
    "names = []\n",
    "for name in fs:\n",
    "    temp = name[0][1:-2]\n",
    "    names.append(temp)\n",
    "\n",
    "# load brain mask (i.e. no tissue areas)\n",
    "temp = np.int32(np.loadtxt('/media/cat/1TB/yuki/IA1/genericmask.txt'))\n",
    "mask = np.ones((128,128),'float32')\n",
    "for t in temp:\n",
    "    mask[t[0],t[1]]=np.nan\n",
    "    \n",
    "    \n",
    "# Plot ROIs\n",
    "rois = []\n",
    "final_names = []\n",
    "for ctr, id_ in enumerate(ids):\n",
    "    ax=plt.subplot(5,7,ctr+1)\n",
    "    temp = np.zeros((128,128))+np.nan\n",
    "\n",
    "    roi = masks[ctr]*mask\n",
    "    plt.imshow(roi)\n",
    "    rois.append(roi)\n",
    "    #\n",
    "    plt.xticks([])\n",
    "    plt.yticks([])\n",
    "    plt.ylabel(str(id_))\n",
    "    plt.title(names[id_], fontsize=6)\n",
    "    final_names.append(names[id_])\n",
    "    \n",
    "plt.show()\n",
    "np.savez('/home/cat/rois_'+str(min_pixels)+'.npz',\n",
    "        rois = rois,\n",
    "        ids = ids,\n",
    "        names = final_names)"
   ]
  },
  {
   "cell_type": "code",
   "execution_count": 120,
   "metadata": {},
   "outputs": [
    {
     "data": {
      "text/plain": [
       "<matplotlib.image.AxesImage at 0x7fc75992d160>"
      ]
     },
     "execution_count": 120,
     "metadata": {},
     "output_type": "execute_result"
    }
   ],
   "source": [
    "data = np.load('/home/cat/roi.npz')\n",
    "rois = data['rois']\n",
    "plt.imshow(rois[1])"
   ]
  },
  {
   "cell_type": "code",
   "execution_count": 4,
   "metadata": {},
   "outputs": [
    {
     "name": "stdout",
     "output_type": "stream",
     "text": [
      "(81, 5, 901)\n",
      "(82, 5, 901)\n"
     ]
    }
   ],
   "source": [
    "data = np.load('/media/cat/4TBSSD/yuki/AQ2/tif_files/AQ2am_Apr29_Week8_30Hz/AQ2am_Apr29_Week8_30Hz_code_04_random_ROItimeCourses_15sec_pca_0.95.npy')\n",
    "print (data.shape)\n",
    "data2 = np.load('/media/cat/4TBSSD/yuki/AQ2/tif_files/AQ2am_Apr29_Week8_30Hz/AQ2am_Apr29_Week8_30Hz_code_04_trial_ROItimeCourses_15sec_pca_0.95.npy')\n",
    "print (data2.shape)"
   ]
  },
  {
   "cell_type": "code",
   "execution_count": 20,
   "metadata": {},
   "outputs": [
    {
     "data": {
      "text/plain": [
       "(901, 10)"
      ]
     },
     "execution_count": 20,
     "metadata": {},
     "output_type": "execute_result"
    }
   ],
   "source": [
    "data = np.load('/media/cat/4TBSSD/yuki/AQ2/SVM_Scores/SVM_Scores_AQ2am_Dec29_30Hz_code_04_trial_ROItimeCourses_15sec_pca_0.95.npy')\n",
    "data.shape"
   ]
  },
  {
   "cell_type": "code",
   "execution_count": 29,
   "metadata": {},
   "outputs": [
    {
     "data": {
      "text/plain": [
       "array([list([]), list([]), list([]), list([]), list([]),\n",
       "       list([15, 17, 18, 19, 20, 27, 28, 29, 30, 32, 48, 49, 50, 51, 52, 53, 54, 56, 57, 58, 59, 60, 61, 62, 63, 64, 65, 66, 67, 69, 70, 71, 72, 73, 74, 75, 76, 77, 78, 79, 80, 81, 82, 83, 84, 85, 86, 87, 88, 89, 90, 91, 92, 93, 94, 95, 96, 97, 98, 99, 100, 101, 102, 103, 104, 105, 106, 107, 108, 109])],\n",
       "      dtype=object)"
      ]
     },
     "execution_count": 29,
     "metadata": {},
     "output_type": "execute_result"
    }
   ],
   "source": [
    "data = np.load('/media/cat/4TBSSD/yuki/first_decoding_time_all.npz', allow_pickle=True)\n",
    "session_nos = data['all_session_nos']\n",
    "session_nos\n"
   ]
  },
  {
   "cell_type": "code",
   "execution_count": 21,
   "metadata": {},
   "outputs": [
    {
     "name": "stdout",
     "output_type": "stream",
     "text": [
      "rnn data:  (10, 10)\n",
      "svm data:  (300, 10)\n"
     ]
    }
   ],
   "source": [
    "# load rnn\n",
    "import numpy as np\n",
    "import matplotlib.pyplot as plt\n",
    "import os\n",
    "import glob\n",
    "\n",
    "# \n",
    "rnn_dir = '/mnt/f418adc0-4ff9-410c-93c9-d6d21a1e9c35/yuki/IJ2/temp/rnn/'\n",
    "svm_dir = '/mnt/f418adc0-4ff9-410c-93c9-d6d21a1e9c35/yuki/IJ2/temp/svm/'\n",
    "\n",
    "# session:\n",
    "session = 'Mar9_'\n",
    "\n",
    "# \n",
    "data_rnn = np.load(glob.glob(rnn_dir+'/*'+session+\"*.npz\")[0])\n",
    "b_rnn = data_rnn['b_rnn']\n",
    "print (\"rnn data: \", b_rnn.shape)\n",
    "\n",
    "# load svm\n",
    "data_svm = np.load(glob.glob(svm_dir+'/*'+session+\"*.npy\")[0])\n",
    "data_svm = data_svm[:data_svm.shape[0]//2]\n",
    "print (\"svm data: \", data_svm.shape)\n",
    "\n",
    "ax=plt.subplot(111)\n",
    "\n",
    "# plot rnn\n",
    "std = np.std(b_rnn,1)\n",
    "mean = np.mean(b_rnn,1)\n",
    "t=np.arange(b_rnn.shape[0])-9.5\n",
    "plt.plot(t, mean, color='black')\n",
    "ax.fill_between(t, mean-std, mean+std, color='black', alpha = 0.2)\n",
    "\n",
    "# plot svm\n",
    "std = np.std(data_svm,1)\n",
    "mean = np.mean(data_svm,1)\n",
    "t=np.arange(data_svm.shape[0])/30.-10\n",
    "plt.plot(t, mean, color='blue')\n",
    "ax.fill_between(t, mean-std, mean+std, color='blue', alpha = 0.2)\n",
    "\n",
    "plt.xlim(-10,0)\n",
    "plt.ylim(0.3, 1.0)\n",
    "plt.show()\n"
   ]
  },
  {
   "cell_type": "code",
   "execution_count": 113,
   "metadata": {},
   "outputs": [
    {
     "name": "stdout",
     "output_type": "stream",
     "text": [
      "(93, 6, 900)\n"
     ]
    }
   ],
   "source": [
    "data = np.load('/media/cat/4TBSSD/yuki/IJ2/concatenation_tests/IJ2pm_Feb29_30Hz_random.npy')\n",
    "print (data.shape)"
   ]
  },
  {
   "cell_type": "code",
   "execution_count": 178,
   "metadata": {},
   "outputs": [],
   "source": [
    "animals = ['IA1','IA2','IA3','IJ1','IJ2','AQ2']\n",
    "root_dir = '/media/cat/4TBSSD/yuki/'\n",
    "ctr=0\n",
    "clrs=['black','blue','red','green','magenta','cyan']\n",
    "for animal in animals:\n",
    "    fnames = np.load('/media/cat/4TBSSD/yuki/'+animal+'/tif_files.npy')\n",
    "    n = []\n",
    "    for fname in fnames:\n",
    "        session = os.path.split(fname)[1][:-4]\n",
    "        try:\n",
    "            data = np.loadtxt(root_dir+animal+'/tif_files/'+session+'/'+session+'_all_locs_selected.txt')\n",
    "        except:\n",
    "            continue\n",
    "        n.append(len(data))\n",
    "\n",
    "    median = np.mean(n)\n",
    "    plt.plot([median,median],[0,25],'--',\n",
    "             linewidth=3,\n",
    "             c=clrs[ctr])\n",
    "\n",
    "    #\n",
    "    total_trials = np.sum(n)\n",
    "    bins=np.arange(0,210,10)\n",
    "    y = np.histogram(n, bins)\n",
    "    plt.plot(y[1][:-1]+5, y[0],\n",
    "             linewidth=4,\n",
    "            label=animal+\" - \"+str(int(median)),\n",
    "            c=clrs[ctr])\n",
    "    \n",
    "    ctr+=1\n",
    "plt.xlim(bins[0],bins[-1])\n",
    "plt.legend(fontsize=34)\n",
    "plt.ylim(0,25)\n",
    "plt.show()"
   ]
  },
  {
   "cell_type": "code",
   "execution_count": 33,
   "metadata": {},
   "outputs": [
    {
     "name": "stdout",
     "output_type": "stream",
     "text": [
      "(1771, 10)\n"
     ]
    }
   ],
   "source": [
    "data = np.load('/media/cat/4TBSSD/yuki/IA1/SVM_Scores/SVM_Scores_IA1pm_Mar2_30Hzcode_04_trial_ROItimeCourses_30sec_Xvalid10_Slidewindow30.npz')\n",
    "acc = data['accuracy']\n",
    "print (acc.shape)"
   ]
  },
  {
   "cell_type": "code",
   "execution_count": 185,
   "metadata": {},
   "outputs": [
    {
     "name": "stdout",
     "output_type": "stream",
     "text": [
      "[ 7353 22587 31547]\n"
     ]
    }
   ],
   "source": [
    "data = np.load('/media/cat/4TBSSD/yuki/IA1/tif_files/IA1pm_Feb1_30Hz/blue_light_frame_triggers.npz')\n",
    "\n",
    "frame_triggers = data['img_frame_triggers']\n",
    "print (frame_triggers)"
   ]
  },
  {
   "cell_type": "code",
   "execution_count": 186,
   "metadata": {},
   "outputs": [
    {
     "name": "stdout",
     "output_type": "stream",
     "text": [
      "77 39207\n"
     ]
    }
   ],
   "source": [
    "start = data['start_blue']\n",
    "end = data['end_blue']\n",
    "print (start,end)\n",
    "\n"
   ]
  },
  {
   "cell_type": "code",
   "execution_count": null,
   "metadata": {},
   "outputs": [],
   "source": []
  },
  {
   "cell_type": "code",
   "execution_count": null,
   "metadata": {},
   "outputs": [],
   "source": []
  },
  {
   "cell_type": "code",
   "execution_count": null,
   "metadata": {},
   "outputs": [],
   "source": []
  },
  {
   "cell_type": "code",
   "execution_count": null,
   "metadata": {},
   "outputs": [],
   "source": []
  },
  {
   "cell_type": "code",
   "execution_count": null,
   "metadata": {},
   "outputs": [],
   "source": []
  }
 ],
 "metadata": {
  "kernelspec": {
   "display_name": "Python 3",
   "language": "python",
   "name": "python3"
  },
  "language_info": {
   "codemirror_mode": {
    "name": "ipython",
    "version": 3
   },
   "file_extension": ".py",
   "mimetype": "text/x-python",
   "name": "python",
   "nbconvert_exporter": "python",
   "pygments_lexer": "ipython3",
   "version": "3.8.0"
  }
 },
 "nbformat": 4,
 "nbformat_minor": 4
}
