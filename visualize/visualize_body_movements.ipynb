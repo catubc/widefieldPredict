{
 "cells": [
  {
   "cell_type": "code",
   "execution_count": 4,
   "metadata": {},
   "outputs": [
    {
     "name": "stdout",
     "output_type": "stream",
     "text": [
      "The autoreload extension is already loaded. To reload it, use:\n",
      "  %reload_ext autoreload\n"
     ]
    },
    {
     "data": {
      "application/javascript": [
       "IPython.notebook.set_autosave_interval(180000)"
      ]
     },
     "metadata": {},
     "output_type": "display_data"
    },
    {
     "name": "stdout",
     "output_type": "stream",
     "text": [
      "Autosaving every 180 seconds\n"
     ]
    },
    {
     "data": {
      "text/html": [
       "<style>.container { width:100% !important; }</style>"
      ],
      "text/plain": [
       "<IPython.core.display.HTML object>"
      ]
     },
     "metadata": {},
     "output_type": "display_data"
    }
   ],
   "source": [
    "import matplotlib\n",
    "matplotlib.use('Agg')\n",
    "\n",
    "%load_ext autoreload\n",
    "%autoreload 2\n",
    "\n",
    "%matplotlib tk\n",
    "%autosave 180\n",
    "import matplotlib.pyplot as plt\n",
    "from IPython.core.display import display, HTML\n",
    "display(HTML(\"<style>.container { width:100% !important; }</style>\"))\n",
    "\n",
    "import numpy as np\n",
    "import os\n",
    "\n",
    "import glob2\n",
    "\n",
    "# visualize results module\n",
    "from Visualize import Visualize\n",
    "\n",
    "from utility_DLC import *\n",
    "\n",
    "\n",
    "# \n",
    "#data_dir = '/media/cat/4TBSSD/yuki/'\n",
    "data_dir = '/media/cat/4TBSSD/yuki/'\n",
    "\n",
    "\n",
    "labels = ['left_paw', \n",
    "'right_paw',\n",
    "'nose',\n",
    "'jaw',\n",
    "'right_ear',\n",
    "'tongue',\n",
    "'lever']\n",
    "\n"
   ]
  },
  {
   "cell_type": "code",
   "execution_count": 2,
   "metadata": {},
   "outputs": [],
   "source": [
    "##########################\n",
    "####### INITIALIZE #######\n",
    "##########################\n",
    "# LEVER PULL\n",
    "vis = Visualize()\n",
    "\n",
    "# lever-related data\n",
    "vis.main_dir = data_dir\n",
    "vis.random_flag = False  # shuffle data to show baseline\n",
    "\n",
    "# \n",
    "vis.window = 15\n",
    "vis.lockout_window = 10\n",
    "vis.lockout = False\n",
    "\n",
    "vis.pca_var = 0.95\n",
    "vis.pca_flag = True\n"
   ]
  },
  {
   "cell_type": "code",
   "execution_count": 24,
   "metadata": {
    "scrolled": true
   },
   "outputs": [
    {
     "name": "stdout",
     "output_type": "stream",
     "text": [
      "   session:  Feb1_\n",
      "SHIFT Loaded:  4.605\n",
      "... shift applied:  4.605\n",
      "LOADED: DATA (871, 10)\n",
      " post fname:  (871, 10)\n",
      "post process:  (862, 10)\n",
      "self n trials:  73\n",
      "self.data:  (862, 10)\n",
      "Self sig save:  (862,)\n",
      "data into multi-hypothesis tes: (862,)\n",
      "Final sig:  (1, 862)\n",
      "earliest:  0  in sec:  -28.733333333333334\n",
      "vmin, vmax;  0.0 0.05 ticks:  [0.         0.01666667 0.03333333 0.05      ]\n",
      "/media/cat/4TBSSD/yuki/IA1/tif_files/IA1pm_Feb1_30Hz/shift.txt\n",
      "SHIFT Loaded:  4.605\n",
      "... shift applied:  4.605\n",
      "LOADED: DATA (871, 10)\n",
      " post fname:  (871, 10)\n",
      "post process:  (862, 10)\n",
      "self n trials:  60\n",
      "self.data:  (862, 10)\n",
      "Self sig save:  (862,)\n",
      "data into multi-hypothesis tes: (862,)\n",
      "Final sig:  (1, 862)\n",
      "earliest:  0  in sec:  -28.733333333333334\n",
      "vmin, vmax;  0.0 0.05 ticks:  [0.         0.01666667 0.03333333 0.05      ]\n",
      "/media/cat/4TBSSD/yuki/IA1/tif_files/IA1pm_Feb1_30Hz/shift.txt\n",
      "SHIFT Loaded:  4.605\n",
      "... shift applied:  4.605\n",
      "LOADED: DATA (871, 10)\n",
      " post fname:  (871, 10)\n",
      "post process:  (862, 10)\n",
      "self n trials:  75\n",
      "self.data:  (862, 10)\n",
      "Self sig save:  (862,)\n",
      "data into multi-hypothesis tes: (862,)\n",
      "Final sig:  (1, 862)\n",
      "earliest:  0  in sec:  -28.733333333333334\n",
      "vmin, vmax;  0.0 0.05 ticks:  [0.         0.01666667 0.03333333 0.05      ]\n",
      "/media/cat/4TBSSD/yuki/IA1/tif_files/IA1pm_Feb1_30Hz/shift.txt\n"
     ]
    }
   ],
   "source": [
    "#########################################\n",
    "######## PLOT SVM CHOICE SESSION ########\n",
    "#########################################\n",
    "vis.significance = 0.05\n",
    "vis.linewidth=10\n",
    "\n",
    "#\n",
    "vis.smooth_window = 10\n",
    "vis.lockout = False\n",
    "vis.xvalidation = 10\n",
    "vis.sliding_window = 30\n",
    "\n",
    "# \n",
    "vis.window = 15\n",
    "vis.cbar_thick = 0.05\n",
    "vis.alpha = 1.0\n",
    "    \n",
    "# \n",
    "vis.min_trials = 10\n",
    "# \n",
    "vis.fig=plt.figure(figsize=(10,20))\n",
    "vis.ctr_plot = 0\n",
    "vis.ax = plt.subplot(1,1,1)\n",
    "    \n",
    "    \n",
    "\n",
    "# \n",
    "vis.animal_id= 'IA1'\n",
    "session = 'Feb1_'\n",
    "\n",
    "print (\"   session: \", session)\n",
    "vis.session_id = session\n",
    "vis.cbar_offset = 0\n",
    "\n",
    "############################\n",
    "\n",
    "codes = ['left_paw','right_paw','jaw']\n",
    "#code = 'left_paw'\n",
    "cmaps = ['Reds_r',\"Blues_r\",\"Greens_r\"]\n",
    "clrs = ['red','blue','green']\n",
    "vis.show_title=False\n",
    "vis.show_legend=False\n",
    "vis.legend_location = 2\n",
    "vis.cbar=False\n",
    "vis.show_EDT = False\n",
    "vis.edt_offset = 0\n",
    "vis.linewidth = 1\n",
    "\n",
    "# alignment tools\n",
    "vis.show_all_times = True\n",
    "vis.shift_flag = True\n",
    "vis.shift = 0\n",
    "\n",
    "# \n",
    "vis.plotted= False # flag to indicate at least 1 plot was made\n",
    "vis.n_trials_plotting = []\n",
    "for ctr,code in enumerate(codes):\n",
    "    vis.ctr = ctr\n",
    "    vis.code = code\n",
    "\n",
    "    vis.cbar_offset=0.05*ctr\n",
    "    vis.cmap = cmaps[ctr]\n",
    "    vis.title = vis.code\n",
    "    vis.title_offset = .35\n",
    "    vis.plot_significant(clrs[ctr],vis.code)\n",
    "    vis.cbar=False\n",
    "    \n",
    "    #vis.ax.set_xticks([])\n",
    "\n",
    "if vis.plotted:\n",
    "    plt.title(str(vis.n_trials_plotting))\n",
    "    vis.ctr_plot+=1\n",
    "\n",
    "        \n",
    "   # if ctrs>30:\n",
    "   #     break\n",
    "plt.suptitle(\"Animal ID: \"+ vis.animal_id, fontsize=20)\n",
    "\n",
    "if False:\n",
    "    plt.savefig('/home/cat/'+vis.animal_id+'.png')\n",
    "    plt.close()\n",
    "else:\n",
    "    plt.show()\n",
    "#plt.xlim(-5,0)\n",
    "#plt.show()\n",
    "\n",
    "\n",
    "\n"
   ]
  },
  {
   "cell_type": "code",
   "execution_count": null,
   "metadata": {},
   "outputs": [],
   "source": []
  },
  {
   "cell_type": "code",
   "execution_count": 153,
   "metadata": {
    "scrolled": true
   },
   "outputs": [
    {
     "name": "stdout",
     "output_type": "stream",
     "text": [
      "video file not found:  /media/cat/4TBSSD/yuki/IA1/tif_files/IA1pm_Feb18_30Hz\n",
      "video file not found:  /media/cat/4TBSSD/yuki/IA1/tif_files/IA1pm_Feb19_30Hz\n",
      "video file not found:  /media/cat/4TBSSD/yuki/IA1/tif_files/IA1pm_Feb22_30Hz\n",
      "video file not found:  /media/cat/4TBSSD/yuki/IA1/tif_files/IA1pm_Feb23_30Hz\n",
      "video file not found:  /media/cat/4TBSSD/yuki/IA1/tif_files/IA1pm_Feb24_30Hz\n",
      "video file not found:  /media/cat/4TBSSD/yuki/IA1/tif_files/IA1pm_Feb25_30Hz\n",
      "video file not found:  /media/cat/4TBSSD/yuki/IA1/tif_files/IA1pm_Feb26_30Hz\n",
      "video file not found:  /media/cat/4TBSSD/yuki/IA1/tif_files/IA1pm_Feb29_30Hz\n",
      "video file not found:  /media/cat/4TBSSD/yuki/IA1/tif_files/IA1pm_Mar1_30Hz\n",
      "video file not found:  /media/cat/4TBSSD/yuki/IA1/tif_files/IA1pm_Mar2_30Hz\n",
      "video file not found:  /media/cat/4TBSSD/yuki/IA1/tif_files/IA1pm_Mar3_30Hz\n",
      "video file not found:  /media/cat/4TBSSD/yuki/IA1/tif_files/IA1am_Mar4_30Hz\n",
      "video file not found:  /media/cat/4TBSSD/yuki/IA1/tif_files/IA1am_Mar7_30Hz\n",
      "video file not found:  /media/cat/4TBSSD/yuki/IA1/tif_files/IA1pm_Mar8_30Hz\n",
      "video file not found:  /media/cat/4TBSSD/yuki/IA1/tif_files/IA1am_Mar9_30Hz\n",
      "video file not found:  /media/cat/4TBSSD/yuki/IA1/tif_files/IA1am_Mar10_30Hz\n",
      "video file not found:  /media/cat/4TBSSD/yuki/IA1/tif_files/IA1am_Mar11_30Hz\n",
      "video file not found:  /media/cat/4TBSSD/yuki/IA1/tif_files/IA1pm_Mar14_30Hz\n",
      "video file not found:  /media/cat/4TBSSD/yuki/IA1/tif_files/IA1am_Mar15_30Hz\n",
      "video file not found:  /media/cat/4TBSSD/yuki/IA1/tif_files/IA1pm_Mar16_30Hz\n",
      "video file not found:  /media/cat/4TBSSD/yuki/IA1/tif_files/IA1pm_Mar17_30Hz\n",
      "video file not found:  /media/cat/4TBSSD/yuki/IA1/tif_files/IA1pm_Mar18_30Hz\n",
      "video file not found:  /media/cat/4TBSSD/yuki/IA1/tif_files/IA1pm_Mar21_30Hz\n",
      "video file not found:  /media/cat/4TBSSD/yuki/IA1/tif_files/IA1pm_Mar22_30Hz\n",
      "video file not found:  /media/cat/4TBSSD/yuki/IA1/tif_files/IA1pm_Mar23_30Hz\n",
      "video file not found:  /media/cat/4TBSSD/yuki/IA1/tif_files/IA1pm_Mar24_30Hz\n",
      "video file not found:  /media/cat/4TBSSD/yuki/IA1/tif_files/IA1pm_Mar29_30Hz\n",
      "video file not found:  /media/cat/4TBSSD/yuki/IA1/tif_files/IA1pm_Mar30_30Hz\n",
      "video file not found:  /media/cat/4TBSSD/yuki/IA1/tif_files/IA1pm_Mar31_30Hz\n",
      "video file not found:  /media/cat/4TBSSD/yuki/IA1/tif_files/IA1pm_Apr1_30Hz\n",
      "video file not found:  /media/cat/4TBSSD/yuki/IA1/tif_files/IA1pm_Apr4_30Hz\n",
      "video file not found:  /media/cat/4TBSSD/yuki/IA1/tif_files/IA1pm_Apr5_30Hz\n",
      "video file not found:  /media/cat/4TBSSD/yuki/IA1/tif_files/IA1pm_Apr6_30Hz\n",
      "video file not found:  /media/cat/4TBSSD/yuki/IA1/tif_files/IA1pm_Apr7_30Hz\n",
      "video file not found:  /media/cat/4TBSSD/yuki/IA1/tif_files/IA1pm_Apr11_Day3_30Hz\n",
      "video file not found:  /media/cat/4TBSSD/yuki/IA1/tif_files/IA1pm_Apr13_Day5_30Hz\n",
      "video file not found:  /media/cat/4TBSSD/yuki/IA1/tif_files/IA1pm_Apr15_Day7_30Hz\n",
      "video file not found:  /media/cat/4TBSSD/yuki/IA1/tif_files/IA1pm_Apr18_Week2_30Hz\n",
      "video file not found:  /media/cat/4TBSSD/yuki/IA1/tif_files/IA1pm_Apr19_Week2_30Hz\n",
      "video file not found:  /media/cat/4TBSSD/yuki/IA1/tif_files/IA1pm_Apr20_Week2_30Hz\n",
      "video file not found:  /media/cat/4TBSSD/yuki/IA1/tif_files/IA1am_May4_Week4_30Hz\n"
     ]
    }
   ],
   "source": [
    "# manually add labels from DLC\n",
    "from tqdm import tqdm, trange\n",
    "import scipy\n",
    "\n",
    "def clean_traces(data,\n",
    "                smooth_window = 10):\n",
    "    \n",
    "    # \n",
    "    for k in trange(data.shape[0]):\n",
    "        temp = data[k]\n",
    "        probs = temp[:,2]\n",
    "        \n",
    "        threshold = 0.5\n",
    "        idx = np.where(probs<threshold)[0]\n",
    "        x = temp[:,0]\n",
    "        y = temp[:,1]\n",
    "        x[idx] = np.nan\n",
    "        y[idx] = np.nan\n",
    "        \n",
    "        # \n",
    "\n",
    "        for i in range(10000):\n",
    "            idx = np.where(np.isnan(x))[0]\n",
    "            #print (idx.shape)\n",
    "            if idx.shape[0]==0:\n",
    "                break\n",
    "\n",
    "            if idx[0]==0:\n",
    "                idx=idx[1:]\n",
    "                \n",
    "            x[idx] = x[idx-1]\n",
    "            y[idx] = y[idx-1]\n",
    "\n",
    "        x = scipy.ndimage.median_filter(x, size=smooth_window)\n",
    "        y = scipy.ndimage.median_filter(y, size=smooth_window)\n",
    "        #print (x.shape, y.shape, data.shape)\n",
    "        \n",
    "        data[k,:,0]=x\n",
    "        data[k,:,1]=y\n",
    "    return data\n",
    "            \n",
    "\n",
    "\n",
    "# \n",
    "import glob\n",
    "\n",
    "fnames = np.loadtxt('/media/cat/4TBSSD/yuki/IA1/tif_files/sessions.txt',dtype='str')\n",
    "#root_dir = '/media/cat/4TBSSD/yuki/IA1/tif_files/IA1pm_Feb1_30Hz/'\n",
    "for root_dir in fnames:\n",
    "    \n",
    "    try:\n",
    "        fname_h5 = glob.glob(root_dir + '/*.h5')[0]\n",
    "        fname_npy = fname_h5.replace('h5','npy')\n",
    "    except:\n",
    "        print(\"video file not found: \", root_dir)\n",
    "        continue\n",
    "    \n",
    "    fname_out = fname_npy.replace('.npy','_clean.npy')\n",
    "\n",
    "    if os.path.exists(fname_out)==False:\n",
    "        print ('processing: ', root_dir)\n",
    "        traces_original = np.load(fname_npy)\n",
    "        if True:\n",
    "            traces_original[:,:,0] = np.int32(traces_original[:,:,0])\n",
    "            traces_original[:,:,1] = np.int32(traces_original[:,:,1])\n",
    "\n",
    "        print (traces_original.shape)\n",
    "\n",
    "        # plt.plot(traces_original[0,:,0])\n",
    "        smooth_window = 3\n",
    "        traces = clean_traces(traces_original, smooth_window)\n",
    "        print (traces.shape)\n",
    "\n",
    "        np.save(fname_out,traces)\n",
    "        print ('')\n",
    "# process traces\n"
   ]
  },
  {
   "cell_type": "code",
   "execution_count": 29,
   "metadata": {},
   "outputs": [
    {
     "name": "stderr",
     "output_type": "stream",
     "text": [
      "100%|██████████| 73/73 [00:00<00:00, 5568.91it/s]"
     ]
    },
    {
     "name": "stdout",
     "output_type": "stream",
     "text": [
      "(73,)\n"
     ]
    },
    {
     "name": "stderr",
     "output_type": "stream",
     "text": [
      "\n",
      "*c* argument looks like a single numeric RGB or RGBA sequence, which should be avoided as value-mapping will have precedence in case its length matches with *x* & *y*.  Please use the *color* keyword-argument or provide a 2D array with a single row if you intend to specify the same RGB or RGBA value for all points.\n",
      "100%|██████████| 54/54 [00:00<00:00, 5626.30it/s]\n",
      "*c* argument looks like a single numeric RGB or RGBA sequence, which should be avoided as value-mapping will have precedence in case its length matches with *x* & *y*.  Please use the *color* keyword-argument or provide a 2D array with a single row if you intend to specify the same RGB or RGBA value for all points.\n",
      "100%|██████████| 48/48 [00:00<00:00, 5589.61it/s]\n"
     ]
    },
    {
     "name": "stdout",
     "output_type": "stream",
     "text": [
      "(54,)\n",
      "(48,)\n"
     ]
    },
    {
     "name": "stderr",
     "output_type": "stream",
     "text": [
      "*c* argument looks like a single numeric RGB or RGBA sequence, which should be avoided as value-mapping will have precedence in case its length matches with *x* & *y*.  Please use the *color* keyword-argument or provide a 2D array with a single row if you intend to specify the same RGB or RGBA value for all points.\n",
      "100%|██████████| 74/74 [00:00<00:00, 5822.14it/s]\n",
      "*c* argument looks like a single numeric RGB or RGBA sequence, which should be avoided as value-mapping will have precedence in case its length matches with *x* & *y*.  Please use the *color* keyword-argument or provide a 2D array with a single row if you intend to specify the same RGB or RGBA value for all points.\n",
      "100%|██████████| 84/84 [00:00<00:00, 5644.19it/s]\n"
     ]
    },
    {
     "name": "stdout",
     "output_type": "stream",
     "text": [
      "(74,)\n",
      "(84,)\n"
     ]
    },
    {
     "name": "stderr",
     "output_type": "stream",
     "text": [
      "*c* argument looks like a single numeric RGB or RGBA sequence, which should be avoided as value-mapping will have precedence in case its length matches with *x* & *y*.  Please use the *color* keyword-argument or provide a 2D array with a single row if you intend to specify the same RGB or RGBA value for all points.\n",
      "100%|██████████| 57/57 [00:00<00:00, 5587.05it/s]\n",
      "*c* argument looks like a single numeric RGB or RGBA sequence, which should be avoided as value-mapping will have precedence in case its length matches with *x* & *y*.  Please use the *color* keyword-argument or provide a 2D array with a single row if you intend to specify the same RGB or RGBA value for all points.\n",
      "100%|██████████| 82/82 [00:00<00:00, 5696.33it/s]\n"
     ]
    },
    {
     "name": "stdout",
     "output_type": "stream",
     "text": [
      "(57,)\n",
      "(82,)\n"
     ]
    },
    {
     "name": "stderr",
     "output_type": "stream",
     "text": [
      "*c* argument looks like a single numeric RGB or RGBA sequence, which should be avoided as value-mapping will have precedence in case its length matches with *x* & *y*.  Please use the *color* keyword-argument or provide a 2D array with a single row if you intend to specify the same RGB or RGBA value for all points.\n",
      "100%|██████████| 77/77 [00:00<00:00, 5743.68it/s]\n",
      "*c* argument looks like a single numeric RGB or RGBA sequence, which should be avoided as value-mapping will have precedence in case its length matches with *x* & *y*.  Please use the *color* keyword-argument or provide a 2D array with a single row if you intend to specify the same RGB or RGBA value for all points.\n",
      "100%|██████████| 66/66 [00:00<00:00, 5649.93it/s]\n"
     ]
    },
    {
     "name": "stdout",
     "output_type": "stream",
     "text": [
      "(77,)\n",
      "(66,)\n"
     ]
    },
    {
     "name": "stderr",
     "output_type": "stream",
     "text": [
      "*c* argument looks like a single numeric RGB or RGBA sequence, which should be avoided as value-mapping will have precedence in case its length matches with *x* & *y*.  Please use the *color* keyword-argument or provide a 2D array with a single row if you intend to specify the same RGB or RGBA value for all points.\n",
      "100%|██████████| 61/61 [00:00<00:00, 5629.07it/s]\n"
     ]
    },
    {
     "name": "stdout",
     "output_type": "stream",
     "text": [
      "(61,)\n"
     ]
    },
    {
     "name": "stderr",
     "output_type": "stream",
     "text": [
      "*c* argument looks like a single numeric RGB or RGBA sequence, which should be avoided as value-mapping will have precedence in case its length matches with *x* & *y*.  Please use the *color* keyword-argument or provide a 2D array with a single row if you intend to specify the same RGB or RGBA value for all points.\n",
      "100%|██████████| 81/81 [00:00<00:00, 5651.38it/s]\n",
      "*c* argument looks like a single numeric RGB or RGBA sequence, which should be avoided as value-mapping will have precedence in case its length matches with *x* & *y*.  Please use the *color* keyword-argument or provide a 2D array with a single row if you intend to specify the same RGB or RGBA value for all points.\n",
      "100%|██████████| 68/68 [00:00<00:00, 5639.29it/s]\n"
     ]
    },
    {
     "name": "stdout",
     "output_type": "stream",
     "text": [
      "(81,)\n",
      "(68,)\n"
     ]
    },
    {
     "name": "stderr",
     "output_type": "stream",
     "text": [
      "*c* argument looks like a single numeric RGB or RGBA sequence, which should be avoided as value-mapping will have precedence in case its length matches with *x* & *y*.  Please use the *color* keyword-argument or provide a 2D array with a single row if you intend to specify the same RGB or RGBA value for all points.\n",
      "100%|██████████| 40/40 [00:00<00:00, 5420.05it/s]\n",
      "*c* argument looks like a single numeric RGB or RGBA sequence, which should be avoided as value-mapping will have precedence in case its length matches with *x* & *y*.  Please use the *color* keyword-argument or provide a 2D array with a single row if you intend to specify the same RGB or RGBA value for all points.\n",
      "100%|██████████| 36/36 [00:00<00:00, 5506.34it/s]\n"
     ]
    },
    {
     "name": "stdout",
     "output_type": "stream",
     "text": [
      "(40,)\n",
      "(36,)\n"
     ]
    },
    {
     "name": "stderr",
     "output_type": "stream",
     "text": [
      "*c* argument looks like a single numeric RGB or RGBA sequence, which should be avoided as value-mapping will have precedence in case its length matches with *x* & *y*.  Please use the *color* keyword-argument or provide a 2D array with a single row if you intend to specify the same RGB or RGBA value for all points.\n",
      "100%|██████████| 23/23 [00:00<00:00, 5178.15it/s]\n",
      "*c* argument looks like a single numeric RGB or RGBA sequence, which should be avoided as value-mapping will have precedence in case its length matches with *x* & *y*.  Please use the *color* keyword-argument or provide a 2D array with a single row if you intend to specify the same RGB or RGBA value for all points.\n",
      "100%|██████████| 13/13 [00:00<00:00, 4448.92it/s]\n"
     ]
    },
    {
     "name": "stdout",
     "output_type": "stream",
     "text": [
      "(23,)\n",
      "(13,)\n"
     ]
    },
    {
     "name": "stderr",
     "output_type": "stream",
     "text": [
      "*c* argument looks like a single numeric RGB or RGBA sequence, which should be avoided as value-mapping will have precedence in case its length matches with *x* & *y*.  Please use the *color* keyword-argument or provide a 2D array with a single row if you intend to specify the same RGB or RGBA value for all points.\n",
      "100%|██████████| 16/16 [00:00<00:00, 4930.13it/s]\n",
      "*c* argument looks like a single numeric RGB or RGBA sequence, which should be avoided as value-mapping will have precedence in case its length matches with *x* & *y*.  Please use the *color* keyword-argument or provide a 2D array with a single row if you intend to specify the same RGB or RGBA value for all points.\n",
      "100%|██████████| 18/18 [00:00<00:00, 4722.43it/s]\n"
     ]
    },
    {
     "name": "stdout",
     "output_type": "stream",
     "text": [
      "(16,)\n",
      "(18,)\n"
     ]
    },
    {
     "name": "stderr",
     "output_type": "stream",
     "text": [
      "*c* argument looks like a single numeric RGB or RGBA sequence, which should be avoided as value-mapping will have precedence in case its length matches with *x* & *y*.  Please use the *color* keyword-argument or provide a 2D array with a single row if you intend to specify the same RGB or RGBA value for all points.\n",
      "100%|██████████| 49/49 [00:00<00:00, 5759.95it/s]\n",
      "*c* argument looks like a single numeric RGB or RGBA sequence, which should be avoided as value-mapping will have precedence in case its length matches with *x* & *y*.  Please use the *color* keyword-argument or provide a 2D array with a single row if you intend to specify the same RGB or RGBA value for all points.\n",
      "100%|██████████| 55/55 [00:00<00:00, 5529.67it/s]\n"
     ]
    },
    {
     "name": "stdout",
     "output_type": "stream",
     "text": [
      "(49,)\n",
      "(55,)\n"
     ]
    },
    {
     "name": "stderr",
     "output_type": "stream",
     "text": [
      "*c* argument looks like a single numeric RGB or RGBA sequence, which should be avoided as value-mapping will have precedence in case its length matches with *x* & *y*.  Please use the *color* keyword-argument or provide a 2D array with a single row if you intend to specify the same RGB or RGBA value for all points.\n",
      "100%|██████████| 34/34 [00:00<00:00, 5407.49it/s]"
     ]
    },
    {
     "name": "stdout",
     "output_type": "stream",
     "text": [
      "(34,)\n"
     ]
    },
    {
     "name": "stderr",
     "output_type": "stream",
     "text": [
      "\n"
     ]
    },
    {
     "ename": "IndexError",
     "evalue": "index 20 is out of bounds for axis 0 with size 20",
     "output_type": "error",
     "traceback": [
      "\u001b[0;31m---------------------------------------------------------------------------\u001b[0m",
      "\u001b[0;31mIndexError\u001b[0m                                Traceback (most recent call last)",
      "\u001b[0;32m<ipython-input-29-b01fd3b4f943>\u001b[0m in \u001b[0;36m<module>\u001b[0;34m\u001b[0m\n\u001b[1;32m    161\u001b[0m \u001b[0;34m\u001b[0m\u001b[0m\n\u001b[1;32m    162\u001b[0m     plot_average_positions(mean_trace,\n\u001b[0;32m--> 163\u001b[0;31m                            colors_all[ctr])\n\u001b[0m\u001b[1;32m    164\u001b[0m \u001b[0;34m\u001b[0m\u001b[0m\n\u001b[1;32m    165\u001b[0m     \u001b[0mctr\u001b[0m\u001b[0;34m+=\u001b[0m\u001b[0;36m1\u001b[0m\u001b[0;34m\u001b[0m\u001b[0;34m\u001b[0m\u001b[0m\n",
      "\u001b[0;31mIndexError\u001b[0m: index 20 is out of bounds for axis 0 with size 20"
     ]
    }
   ],
   "source": [
    "# triggers load\n",
    "\n",
    "def plot_velocities(traces, movements, window):\n",
    "    \n",
    "    # \n",
    "    t=np.linspace(-window, window,window*2*15-1)\n",
    "\n",
    "    \n",
    "    fig=plt.figure()\n",
    "    ax1=plt.subplot(111)\n",
    "    mean_vel=[]\n",
    "    for k in trange(movements.shape[0]):\n",
    "        t_start = int(movements[k]-window)*15\n",
    "        t_end = int(movements[k]+window)*15\n",
    "\n",
    "        temp = traces[feature_selected,t_start:t_end,:2]\n",
    "\n",
    "        if True:\n",
    "            ax1=plt.subplot(221)\n",
    "            vel = np.sqrt((temp[1:,0]-temp[:-1,0])**2+\n",
    "                          (temp[1:,1]-temp[:-1,1])**2)\n",
    "\n",
    "            mean_vel.append(vel)\n",
    "            plt.plot(t,vel,c='black',linewidth=2,alpha=.1)\n",
    "\n",
    "    # complete ax1 plots\n",
    "    mean_vel = np.array(mean_vel).mean(0)\n",
    "    ax1.plot(t,mean_vel,c='black',linewidth=5,alpha=1)\n",
    "    ax1.plot([0,0],[0.1,250],'--',linewidth=5,c='black')\n",
    "    ax1.set_ylim(0.1,250)\n",
    "    ax1.set_xlim(t[0],t[-1])\n",
    "    ax1.semilogy()\n",
    "\n",
    "\n",
    "\n",
    "\n",
    "def get_positions(movements,\n",
    "                   traces,\n",
    "                   colors,\n",
    "                   plotting=False):\n",
    "    \n",
    "    padding_x = 20\n",
    "    padding_y = 20\n",
    "\n",
    "    if plotting:\n",
    "        fig=plt.figure()\n",
    "        ax1=plt.subplot(111)\n",
    "    \n",
    "    # \n",
    "    mean_trace = []\n",
    "    for k in trange(movements.shape[0]):\n",
    "        t_start = int(movements[k]-window)*15\n",
    "        t_end = int(movements[k]+window)*15\n",
    "\n",
    "        temp = traces[feature_selected,t_start:t_end,:2]\n",
    "        \n",
    "        temp = temp - temp[temp.shape[0]//2]\n",
    "        temp[:,0] = scipy.ndimage.median_filter(temp[:,0], size=3)\n",
    "        temp[:,1] = scipy.ndimage.median_filter(temp[:,1], size=3)\n",
    "\n",
    "        if plotting:\n",
    "            if True:\n",
    "                for p in range(1, temp.shape[0]-1,1):\n",
    "                    plt.plot([temp[p-1,0],temp[p,0]],\n",
    "                             [temp[p-1,1],temp[p,1]], \n",
    "                             c=colors[p],\n",
    "                             linewidth=3,\n",
    "                             alpha=.1)\n",
    "            else:\n",
    "                plt.plot(temp[:,0], temp[:,1], \n",
    "                         c=colors[k],alpha=.4)\n",
    "\n",
    "\n",
    "            plt.scatter(temp[:,0],temp[:,1], \n",
    "                         c=colors, \n",
    "                        s=100, alpha=.1)\n",
    "        \n",
    "        #print (temp.shape, t_end, t_start)\n",
    "        if temp.shape[0]==(t_end-t_start):\n",
    "            mean_trace.append(temp)\n",
    "    \n",
    "    # complete ax2 plots\n",
    "    if plotting:\n",
    "        ax1.set_xlim(ax1.get_xlim()[0]-padding_x,\n",
    "                     ax1.get_xlim()[1]+padding_x)\n",
    "        ax1.set_ylim(ax1.get_ylim()[0]-padding_y,\n",
    "                     ax1.get_ylim()[1]+padding_y)\n",
    "\n",
    "\n",
    "    mean_trace = np.array(mean_trace)\n",
    "\n",
    "\n",
    "    return np.array(mean_trace)\n",
    "\n",
    "# \n",
    "def plot_average_positions(mean_trace, color):\n",
    "    \n",
    "    #fig = plt.figure()\n",
    "    ax1=plt.subplot(111)\n",
    "    #\n",
    "    mean_trace = mean_trace.mean(0)\n",
    "    mean_trace[:,0] = scipy.ndimage.median_filter(mean_trace[:,0], size=10)\n",
    "    mean_trace[:,1] = scipy.ndimage.median_filter(mean_trace[:,1], size=10)\n",
    "\n",
    "    # \n",
    "    for p in range(1, mean_trace.shape[0]-1,1):\n",
    "        ax1.plot([mean_trace[p-1,0],mean_trace[p,0]],\n",
    "                 [mean_trace[p-1,1],mean_trace[p,1]], \n",
    "                 c=color,\n",
    "                 linewidth=5, alpha=.1)\n",
    "\n",
    "    ax1.scatter(mean_trace[:,0],mean_trace[:,1], \n",
    "                #c=colors,alpha=1)\n",
    "                c=color,alpha=.1)\n",
    "\n",
    "    ax1.set_xlim(np.min(mean_trace[:,0])-1,\n",
    "                 np.max(mean_trace[:,0])+1)\n",
    "    ax1.set_ylim(np.min(mean_trace[:,1])-1,\n",
    "                 np.max(mean_trace[:,1])+1)\n",
    "\n",
    "\n",
    "\n",
    "import glob\n",
    "window = 5\n",
    "\n",
    "n = int(window)*15*2\n",
    "colors = plt.cm.cool(np.linspace(0,1,n))\n",
    "\n",
    "\n",
    "colors_all = plt.cm.viridis(np.linspace(0,1,20))\n",
    "\n",
    "fnames = np.loadtxt('/media/cat/4TBSSD/yuki/IA1/tif_files/sessions.txt',dtype='str')\n",
    "#root_dir = '/media/cat/4TBSSD/yuki/IA1/tif_files/IA1pm_Feb1_30Hz/'\n",
    "ctr=0\n",
    "for root_dir in fnames:\n",
    "    \n",
    "    try:\n",
    "        fname_h5 = glob.glob(root_dir + '/*.h5')[0]\n",
    "        fname_npy = fname_h5.replace('h5','npy')\n",
    "    except:\n",
    "        continue\n",
    "        \n",
    "    feature_selected = 0\n",
    "    fname_feature = glob.glob(root_dir + \"/*\"+labels[feature_selected]+\"_trial*selected.txt\")\n",
    "    movements = np.loadtxt(fname_feature[0])\n",
    "    print (movements.shape)\n",
    "\n",
    "\n",
    "    traces = np.load(fname_npy)\n",
    "\n",
    "    # \n",
    "    if False:\n",
    "        plot_velocities(traces, \n",
    "                    movements, \n",
    "                    window)\n",
    "\n",
    "    mean_trace = get_positions(movements,\n",
    "                       traces,\n",
    "                       colors)\n",
    "\n",
    "\n",
    "    plot_average_positions(mean_trace,\n",
    "                           colors_all[ctr])\n",
    "\n",
    "    ctr+=1\n",
    "    #break\n",
    "\n",
    "plt.suptitle(labels[feature_selected],fontsize=20)\n",
    "\n",
    "\n",
    "if False:\n",
    "    plt.savefig('/home/cat/'+labels[feature_selected]+'.png',dpi=300)\n",
    "    plt.close()\n",
    "else:\n",
    "    plt.show()\n"
   ]
  },
  {
   "cell_type": "code",
   "execution_count": null,
   "metadata": {},
   "outputs": [],
   "source": []
  },
  {
   "cell_type": "code",
   "execution_count": null,
   "metadata": {},
   "outputs": [],
   "source": []
  },
  {
   "cell_type": "code",
   "execution_count": null,
   "metadata": {},
   "outputs": [],
   "source": []
  },
  {
   "cell_type": "code",
   "execution_count": null,
   "metadata": {},
   "outputs": [],
   "source": []
  },
  {
   "cell_type": "code",
   "execution_count": null,
   "metadata": {},
   "outputs": [],
   "source": []
  },
  {
   "cell_type": "code",
   "execution_count": 50,
   "metadata": {},
   "outputs": [
    {
     "name": "stderr",
     "output_type": "stream",
     "text": [
      "  3%|▎         | 30/900 [00:00<00:02, 293.48it/s]"
     ]
    },
    {
     "name": "stdout",
     "output_type": "stream",
     "text": [
      "(7, 20059, 3)\n",
      "Traces:  (7, 20059, 3)\n",
      "loadin gmovie:  /media/cat/4TBSSD/yuki/IA1/vids/prestroke/IA1pm_Feb1_30Hz.mp4\n",
      "Frame size read:  (360, 640, 3)\n"
     ]
    },
    {
     "name": "stderr",
     "output_type": "stream",
     "text": [
      "100%|██████████| 900/900 [00:03<00:00, 286.22it/s]\n"
     ]
    }
   ],
   "source": [
    "#############################################\n",
    "######### MAKE A MOVIE WITH DLC TRACES ######\n",
    "#############################################\n",
    "\n",
    "# #\n",
    "# fname_traces = ''\n",
    "# traces = np.load(fname_traces)\n",
    "print (traces.shape)\n",
    "\n",
    "# \n",
    "fname_video = '/media/cat/4TBSSD/yuki/IA1/vids/prestroke/IA1pm_Feb1_30Hz.mp4'\n",
    "movements = np.zeros((traces.shape[0],traces.shape[1]),'int32')\n",
    "\n",
    "# \n",
    "start = 0*15+1\n",
    "end = start+60*15\n",
    "make_video_dlc(traces_original,\n",
    "               movements,\n",
    "               fname_video,\n",
    "               start,\n",
    "               end)"
   ]
  },
  {
   "cell_type": "code",
   "execution_count": null,
   "metadata": {},
   "outputs": [],
   "source": []
  },
  {
   "cell_type": "code",
   "execution_count": null,
   "metadata": {},
   "outputs": [],
   "source": []
  },
  {
   "cell_type": "code",
   "execution_count": null,
   "metadata": {},
   "outputs": [],
   "source": []
  },
  {
   "cell_type": "code",
   "execution_count": null,
   "metadata": {},
   "outputs": [],
   "source": []
  },
  {
   "cell_type": "code",
   "execution_count": null,
   "metadata": {},
   "outputs": [],
   "source": []
  },
  {
   "cell_type": "code",
   "execution_count": null,
   "metadata": {},
   "outputs": [],
   "source": []
  },
  {
   "cell_type": "code",
   "execution_count": null,
   "metadata": {},
   "outputs": [],
   "source": []
  },
  {
   "cell_type": "code",
   "execution_count": null,
   "metadata": {},
   "outputs": [],
   "source": []
  },
  {
   "cell_type": "code",
   "execution_count": null,
   "metadata": {},
   "outputs": [],
   "source": []
  },
  {
   "cell_type": "code",
   "execution_count": null,
   "metadata": {},
   "outputs": [],
   "source": []
  },
  {
   "cell_type": "code",
   "execution_count": null,
   "metadata": {},
   "outputs": [],
   "source": []
  },
  {
   "cell_type": "code",
   "execution_count": null,
   "metadata": {},
   "outputs": [],
   "source": []
  },
  {
   "cell_type": "code",
   "execution_count": null,
   "metadata": {},
   "outputs": [],
   "source": []
  },
  {
   "cell_type": "code",
   "execution_count": null,
   "metadata": {},
   "outputs": [],
   "source": []
  },
  {
   "cell_type": "code",
   "execution_count": null,
   "metadata": {},
   "outputs": [],
   "source": []
  },
  {
   "cell_type": "code",
   "execution_count": null,
   "metadata": {},
   "outputs": [],
   "source": []
  },
  {
   "cell_type": "code",
   "execution_count": null,
   "metadata": {},
   "outputs": [],
   "source": []
  }
 ],
 "metadata": {
  "kernelspec": {
   "display_name": "Python 3",
   "language": "python",
   "name": "python3"
  },
  "language_info": {
   "codemirror_mode": {
    "name": "ipython",
    "version": 3
   },
   "file_extension": ".py",
   "mimetype": "text/x-python",
   "name": "python",
   "nbconvert_exporter": "python",
   "pygments_lexer": "ipython3",
   "version": "3.8.0"
  }
 },
 "nbformat": 4,
 "nbformat_minor": 4
}
