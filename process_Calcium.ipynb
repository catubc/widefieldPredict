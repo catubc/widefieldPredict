{
 "cells": [
  {
   "cell_type": "code",
   "execution_count": 1,
   "metadata": {},
   "outputs": [
    {
     "data": {
      "application/javascript": [
       "IPython.notebook.set_autosave_interval(180000)"
      ]
     },
     "metadata": {},
     "output_type": "display_data"
    },
    {
     "name": "stdout",
     "output_type": "stream",
     "text": [
      "Autosaving every 180 seconds\n"
     ]
    },
    {
     "data": {
      "text/html": [
       "<style>.container { width:100% !important; }</style>"
      ],
      "text/plain": [
       "<IPython.core.display.HTML object>"
      ]
     },
     "metadata": {},
     "output_type": "display_data"
    }
   ],
   "source": [
    "import matplotlib\n",
    "#matplotlib.use('Agg')\n",
    "\n",
    "%load_ext autoreload\n",
    "%autoreload 2\n",
    "\n",
    "%matplotlib tk\n",
    "%autosave 180\n",
    "import matplotlib.pyplot as plt\n",
    "from IPython.core.display import display, HTML\n",
    "display(HTML(\"<style>.container { width:100% !important; }</style>\"))\n",
    "\n",
    "import numpy as np\n",
    "import os\n"
   ]
  },
  {
   "cell_type": "code",
   "execution_count": 4,
   "metadata": {},
   "outputs": [],
   "source": [
    "# pre process data module\n",
    "from ProcessCalcium import ProcessCalcium\n",
    "\n",
    "# \n",
    "data_dir = '/media/cat/4TBSSD/yuki/'\n"
   ]
  },
  {
   "cell_type": "code",
   "execution_count": null,
   "metadata": {
    "scrolled": true
   },
   "outputs": [
    {
     "name": "stderr",
     "output_type": "stream",
     "text": [
      "\r",
      "  0%|          | 0/71 [00:00<?, ?it/s]"
     ]
    },
    {
     "name": "stdout",
     "output_type": "stream",
     "text": [
      "PROCESSING:  IA1\n"
     ]
    },
    {
     "name": "stderr",
     "output_type": "stream",
     "text": [
      "/media/cat/4TBSSD/anaconda3/envs/wide/lib/python3.8/site-packages/sklearn/base.py:310: UserWarning: Trying to unpickle estimator PCA from version 0.24.1 when using version 0.24.2. This might lead to breaking code or invalid results. Use at your own risk.\n",
      "  warnings.warn(\n"
     ]
    },
    {
     "name": "stdout",
     "output_type": "stream",
     "text": [
      "Found sufficient randomized data chunks\n"
     ]
    },
    {
     "name": "stderr",
     "output_type": "stream",
     "text": [
      "/media/cat/4TBSSD/anaconda3/envs/wide/lib/python3.8/site-packages/sklearn/base.py:310: UserWarning: Trying to unpickle estimator PCA from version 0.24.1 when using version 0.24.2. This might lead to breaking code or invalid results. Use at your own risk.\n",
      "  warnings.warn(\n"
     ]
    },
    {
     "name": "stdout",
     "output_type": "stream",
     "text": [
      "Found sufficient randomized data chunks\n"
     ]
    },
    {
     "name": "stderr",
     "output_type": "stream",
     "text": [
      "  1%|▏         | 1/71 [00:26<30:32, 26.17s/it]/media/cat/4TBSSD/anaconda3/envs/wide/lib/python3.8/site-packages/sklearn/base.py:310: UserWarning: Trying to unpickle estimator PCA from version 0.24.1 when using version 0.24.2. This might lead to breaking code or invalid results. Use at your own risk.\n",
      "  warnings.warn(\n"
     ]
    },
    {
     "name": "stdout",
     "output_type": "stream",
     "text": [
      "Found sufficient randomized data chunks\n"
     ]
    },
    {
     "name": "stderr",
     "output_type": "stream",
     "text": [
      "/media/cat/4TBSSD/anaconda3/envs/wide/lib/python3.8/site-packages/sklearn/base.py:310: UserWarning: Trying to unpickle estimator PCA from version 0.24.1 when using version 0.24.2. This might lead to breaking code or invalid results. Use at your own risk.\n",
      "  warnings.warn(\n"
     ]
    },
    {
     "name": "stdout",
     "output_type": "stream",
     "text": [
      "Found sufficient randomized data chunks\n"
     ]
    },
    {
     "name": "stderr",
     "output_type": "stream",
     "text": [
      "\r",
      "  3%|▎         | 2/71 [02:03<1:18:25, 68.19s/it]"
     ]
    },
    {
     "name": "stdout",
     "output_type": "stream",
     "text": [
      "Found sufficient randomized data chunks\n",
      "Found sufficient randomized data chunks\n"
     ]
    },
    {
     "name": "stderr",
     "output_type": "stream",
     "text": [
      "\r",
      "  4%|▍         | 3/71 [05:28<2:27:49, 130.44s/it]"
     ]
    },
    {
     "name": "stdout",
     "output_type": "stream",
     "text": [
      " ... session does not have lever pulls  IA1pm_Feb4_30Hz\n",
      "Found sufficient randomized data chunks\n",
      "Found sufficient randomized data chunks\n"
     ]
    },
    {
     "name": "stderr",
     "output_type": "stream",
     "text": [
      "\r",
      "  7%|▋         | 5/71 [05:59<1:12:02, 65.50s/it] "
     ]
    },
    {
     "name": "stdout",
     "output_type": "stream",
     "text": [
      "Found sufficient randomized data chunks\n",
      "Found sufficient randomized data chunks\n"
     ]
    },
    {
     "name": "stderr",
     "output_type": "stream",
     "text": [
      "\r",
      "  8%|▊         | 6/71 [09:19<1:52:54, 104.22s/it]"
     ]
    },
    {
     "name": "stdout",
     "output_type": "stream",
     "text": [
      "Found sufficient randomized data chunks\n",
      "Found sufficient randomized data chunks\n"
     ]
    },
    {
     "name": "stderr",
     "output_type": "stream",
     "text": [
      "\r",
      " 10%|▉         | 7/71 [10:15<1:35:58, 89.98s/it] "
     ]
    },
    {
     "name": "stdout",
     "output_type": "stream",
     "text": [
      "Found sufficient randomized data chunks\n",
      "Found sufficient randomized data chunks\n"
     ]
    },
    {
     "name": "stderr",
     "output_type": "stream",
     "text": [
      "\r",
      " 11%|█▏        | 8/71 [12:48<1:53:59, 108.57s/it]"
     ]
    },
    {
     "name": "stdout",
     "output_type": "stream",
     "text": [
      "Found sufficient randomized data chunks\n",
      "Found sufficient randomized data chunks\n"
     ]
    },
    {
     "name": "stderr",
     "output_type": "stream",
     "text": [
      "\r",
      " 13%|█▎        | 9/71 [13:10<1:25:41, 82.93s/it] "
     ]
    },
    {
     "name": "stdout",
     "output_type": "stream",
     "text": [
      "Found sufficient randomized data chunks\n",
      "Found sufficient randomized data chunks\n"
     ]
    },
    {
     "name": "stderr",
     "output_type": "stream",
     "text": [
      "\r",
      " 14%|█▍        | 10/71 [14:21<1:20:52, 79.55s/it]"
     ]
    },
    {
     "name": "stdout",
     "output_type": "stream",
     "text": [
      "Found sufficient randomized data chunks\n",
      "Found sufficient randomized data chunks\n"
     ]
    },
    {
     "name": "stderr",
     "output_type": "stream",
     "text": [
      "\r",
      " 15%|█▌        | 11/71 [17:01<1:43:35, 103.59s/it]"
     ]
    },
    {
     "name": "stdout",
     "output_type": "stream",
     "text": [
      "Found sufficient randomized data chunks\n",
      "Found sufficient randomized data chunks\n"
     ]
    },
    {
     "name": "stderr",
     "output_type": "stream",
     "text": [
      "\r",
      " 17%|█▋        | 12/71 [19:25<1:53:35, 115.51s/it]"
     ]
    },
    {
     "name": "stdout",
     "output_type": "stream",
     "text": [
      "Found sufficient randomized data chunks\n",
      "Found sufficient randomized data chunks\n"
     ]
    },
    {
     "name": "stderr",
     "output_type": "stream",
     "text": [
      "\r",
      " 18%|█▊        | 13/71 [20:19<1:33:56, 97.18s/it] "
     ]
    },
    {
     "name": "stdout",
     "output_type": "stream",
     "text": [
      "Found sufficient randomized data chunks\n",
      "Found sufficient randomized data chunks\n"
     ]
    },
    {
     "name": "stderr",
     "output_type": "stream",
     "text": [
      "\r",
      " 20%|█▉        | 14/71 [24:59<2:24:21, 151.96s/it]"
     ]
    },
    {
     "name": "stdout",
     "output_type": "stream",
     "text": [
      "Found sufficient randomized data chunks\n",
      "Found sufficient randomized data chunks\n"
     ]
    },
    {
     "name": "stderr",
     "output_type": "stream",
     "text": [
      "\r",
      " 21%|██        | 15/71 [25:29<1:47:40, 115.36s/it]"
     ]
    },
    {
     "name": "stdout",
     "output_type": "stream",
     "text": [
      "Found sufficient randomized data chunks\n",
      "Found sufficient randomized data chunks\n"
     ]
    },
    {
     "name": "stderr",
     "output_type": "stream",
     "text": [
      "\r",
      " 23%|██▎       | 16/71 [30:33<2:37:34, 171.90s/it]"
     ]
    },
    {
     "name": "stdout",
     "output_type": "stream",
     "text": [
      "locs 44 thrshold missing IA1pm_Feb24_30Hz\n",
      " ... session does not have lever pulls  IA1pm_Feb24_30Hz\n",
      "locs 44 thrshold missing IA1pm_Feb25_30Hz\n",
      " ... session does not have lever pulls  IA1pm_Feb25_30Hz\n",
      "Found sufficient randomized data chunks\n",
      "Found sufficient randomized data chunks\n"
     ]
    },
    {
     "name": "stderr",
     "output_type": "stream",
     "text": [
      "\r",
      " 27%|██▋       | 19/71 [31:36<1:15:21, 86.95s/it] "
     ]
    },
    {
     "name": "stdout",
     "output_type": "stream",
     "text": [
      "Found sufficient randomized data chunks\n",
      "Found sufficient randomized data chunks\n"
     ]
    },
    {
     "name": "stderr",
     "output_type": "stream",
     "text": [
      "\r",
      " 28%|██▊       | 20/71 [33:48<1:21:59, 96.46s/it]"
     ]
    },
    {
     "name": "stdout",
     "output_type": "stream",
     "text": [
      "Found sufficient randomized data chunks\n",
      "Found sufficient randomized data chunks\n"
     ]
    },
    {
     "name": "stderr",
     "output_type": "stream",
     "text": [
      "\r",
      " 30%|██▉       | 21/71 [34:12<1:06:26, 79.74s/it]"
     ]
    },
    {
     "name": "stdout",
     "output_type": "stream",
     "text": [
      "Found sufficient randomized data chunks\n",
      "Found sufficient randomized data chunks\n"
     ]
    },
    {
     "name": "stderr",
     "output_type": "stream",
     "text": [
      "\r",
      " 31%|███       | 22/71 [36:39<1:18:44, 96.41s/it]"
     ]
    },
    {
     "name": "stdout",
     "output_type": "stream",
     "text": [
      "Found sufficient randomized data chunks\n",
      "Found sufficient randomized data chunks\n"
     ]
    },
    {
     "name": "stderr",
     "output_type": "stream",
     "text": [
      "\r",
      " 32%|███▏      | 23/71 [38:23<1:18:53, 98.61s/it]"
     ]
    },
    {
     "name": "stdout",
     "output_type": "stream",
     "text": [
      "Found sufficient randomized data chunks\n",
      "Found sufficient randomized data chunks\n"
     ]
    },
    {
     "name": "stderr",
     "output_type": "stream",
     "text": [
      "\r",
      " 34%|███▍      | 24/71 [40:36<1:24:33, 107.95s/it]"
     ]
    },
    {
     "name": "stdout",
     "output_type": "stream",
     "text": [
      "Found sufficient randomized data chunks\n",
      "Found sufficient randomized data chunks\n"
     ]
    },
    {
     "name": "stderr",
     "output_type": "stream",
     "text": [
      "\r",
      " 35%|███▌      | 25/71 [42:06<1:18:52, 102.88s/it]"
     ]
    },
    {
     "name": "stdout",
     "output_type": "stream",
     "text": [
      "Found sufficient randomized data chunks\n",
      "Found sufficient randomized data chunks\n"
     ]
    },
    {
     "name": "stderr",
     "output_type": "stream",
     "text": [
      "\r",
      " 37%|███▋      | 26/71 [42:51<1:04:42, 86.27s/it] "
     ]
    },
    {
     "name": "stdout",
     "output_type": "stream",
     "text": [
      "Found sufficient randomized data chunks\n",
      "Found sufficient randomized data chunks\n"
     ]
    },
    {
     "name": "stderr",
     "output_type": "stream",
     "text": [
      "\r",
      " 38%|███▊      | 27/71 [44:28<1:05:35, 89.44s/it]"
     ]
    },
    {
     "name": "stdout",
     "output_type": "stream",
     "text": [
      "Found sufficient randomized data chunks\n",
      "Found sufficient randomized data chunks\n"
     ]
    },
    {
     "name": "stderr",
     "output_type": "stream",
     "text": [
      "\r",
      " 39%|███▉      | 28/71 [45:59<1:04:19, 89.76s/it]"
     ]
    },
    {
     "name": "stdout",
     "output_type": "stream",
     "text": [
      "Found sufficient randomized data chunks\n",
      "Found sufficient randomized data chunks\n"
     ]
    },
    {
     "name": "stderr",
     "output_type": "stream",
     "text": [
      "\r",
      " 41%|████      | 29/71 [47:41<1:05:22, 93.39s/it]"
     ]
    },
    {
     "name": "stdout",
     "output_type": "stream",
     "text": [
      "Found sufficient randomized data chunks\n",
      "Found sufficient randomized data chunks\n"
     ]
    },
    {
     "name": "stderr",
     "output_type": "stream",
     "text": [
      "\r",
      " 42%|████▏     | 30/71 [50:22<1:17:34, 113.51s/it]"
     ]
    },
    {
     "name": "stdout",
     "output_type": "stream",
     "text": [
      "Found sufficient randomized data chunks\n",
      "Found sufficient randomized data chunks\n"
     ]
    },
    {
     "name": "stderr",
     "output_type": "stream",
     "text": [
      "\r",
      " 44%|████▎     | 31/71 [52:01<1:12:49, 109.25s/it]"
     ]
    },
    {
     "name": "stdout",
     "output_type": "stream",
     "text": [
      "Found sufficient randomized data chunks\n",
      "Found sufficient randomized data chunks\n"
     ]
    },
    {
     "name": "stderr",
     "output_type": "stream",
     "text": [
      "\r",
      " 45%|████▌     | 32/71 [52:46<58:30, 90.01s/it]   "
     ]
    },
    {
     "name": "stdout",
     "output_type": "stream",
     "text": [
      "Found sufficient randomized data chunks\n",
      "Found sufficient randomized data chunks\n"
     ]
    },
    {
     "name": "stderr",
     "output_type": "stream",
     "text": [
      "\r",
      " 46%|████▋     | 33/71 [53:50<52:04, 82.23s/it]"
     ]
    },
    {
     "name": "stdout",
     "output_type": "stream",
     "text": [
      "Found sufficient randomized data chunks\n",
      "Found sufficient randomized data chunks\n"
     ]
    },
    {
     "name": "stderr",
     "output_type": "stream",
     "text": [
      "\r",
      " 48%|████▊     | 34/71 [55:02<48:54, 79.32s/it]"
     ]
    },
    {
     "name": "stdout",
     "output_type": "stream",
     "text": [
      "Found sufficient randomized data chunks\n",
      "Found sufficient randomized data chunks\n"
     ]
    },
    {
     "name": "stderr",
     "output_type": "stream",
     "text": [
      "\r",
      " 49%|████▉     | 35/71 [56:01<43:48, 73.02s/it]"
     ]
    },
    {
     "name": "stdout",
     "output_type": "stream",
     "text": [
      "Found sufficient randomized data chunks\n",
      "Found sufficient randomized data chunks\n"
     ]
    },
    {
     "name": "stderr",
     "output_type": "stream",
     "text": [
      "\r",
      " 51%|█████     | 36/71 [56:40<36:39, 62.86s/it]"
     ]
    },
    {
     "name": "stdout",
     "output_type": "stream",
     "text": [
      "Found sufficient randomized data chunks\n",
      "Found sufficient randomized data chunks\n"
     ]
    },
    {
     "name": "stderr",
     "output_type": "stream",
     "text": [
      "\r",
      " 52%|█████▏    | 37/71 [57:46<36:09, 63.81s/it]"
     ]
    },
    {
     "name": "stdout",
     "output_type": "stream",
     "text": [
      "Found sufficient randomized data chunks\n",
      "Found sufficient randomized data chunks\n"
     ]
    },
    {
     "name": "stderr",
     "output_type": "stream",
     "text": [
      "\r",
      " 54%|█████▎    | 38/71 [58:43<33:58, 61.78s/it]"
     ]
    },
    {
     "name": "stdout",
     "output_type": "stream",
     "text": [
      "Found sufficient randomized data chunks\n",
      "Found sufficient randomized data chunks\n"
     ]
    },
    {
     "name": "stderr",
     "output_type": "stream",
     "text": [
      "\r",
      " 55%|█████▍    | 39/71 [1:00:21<38:47, 72.75s/it]"
     ]
    },
    {
     "name": "stdout",
     "output_type": "stream",
     "text": [
      "Found sufficient randomized data chunks\n",
      "Found sufficient randomized data chunks\n"
     ]
    },
    {
     "name": "stderr",
     "output_type": "stream",
     "text": [
      "\r",
      " 56%|█████▋    | 40/71 [1:01:24<36:00, 69.69s/it]"
     ]
    },
    {
     "name": "stdout",
     "output_type": "stream",
     "text": [
      "Found sufficient randomized data chunks\n",
      "Found sufficient randomized data chunks\n"
     ]
    },
    {
     "name": "stderr",
     "output_type": "stream",
     "text": [
      "\r",
      " 58%|█████▊    | 41/71 [1:02:26<33:41, 67.38s/it]"
     ]
    },
    {
     "name": "stdout",
     "output_type": "stream",
     "text": [
      "Found sufficient randomized data chunks\n",
      "Found sufficient randomized data chunks\n"
     ]
    },
    {
     "name": "stderr",
     "output_type": "stream",
     "text": [
      "\r",
      " 59%|█████▉    | 42/71 [1:03:35<32:53, 68.06s/it]"
     ]
    },
    {
     "name": "stdout",
     "output_type": "stream",
     "text": [
      "Imaging rates between aligned and session are incorrect, exiting:  30.63092397998583\n",
      "data_stm is empty (could not compute stm, skipping) IA1pm_Apr4_30Hz\n"
     ]
    },
    {
     "name": "stderr",
     "output_type": "stream",
     "text": [
      "\r",
      " 61%|██████    | 43/71 [1:03:46<23:42, 50.79s/it]"
     ]
    },
    {
     "name": "stdout",
     "output_type": "stream",
     "text": [
      "Imaging rates between aligned and session are incorrect, exiting:  30.63092397998583\n",
      "data_stm is empty (could not compute stm, skipping) IA1pm_Apr4_30Hz\n",
      "Found sufficient randomized data chunks\n",
      "Found sufficient randomized data chunks\n"
     ]
    },
    {
     "name": "stderr",
     "output_type": "stream",
     "text": [
      "\r",
      " 62%|██████▏   | 44/71 [1:04:24<21:05, 46.87s/it]"
     ]
    },
    {
     "name": "stdout",
     "output_type": "stream",
     "text": [
      "Found sufficient randomized data chunks\n",
      "Found sufficient randomized data chunks\n"
     ]
    },
    {
     "name": "stderr",
     "output_type": "stream",
     "text": [
      "\r",
      " 63%|██████▎   | 45/71 [1:05:48<25:13, 58.23s/it]"
     ]
    },
    {
     "name": "stdout",
     "output_type": "stream",
     "text": [
      "Found sufficient randomized data chunks\n",
      "Found sufficient randomized data chunks\n"
     ]
    },
    {
     "name": "stderr",
     "output_type": "stream",
     "text": [
      "\r",
      " 65%|██████▍   | 46/71 [1:06:33<22:34, 54.17s/it]"
     ]
    },
    {
     "name": "stdout",
     "output_type": "stream",
     "text": [
      "Found sufficient randomized data chunks\n",
      "Found sufficient randomized data chunks\n"
     ]
    },
    {
     "name": "stderr",
     "output_type": "stream",
     "text": [
      "\r",
      " 66%|██████▌   | 47/71 [1:07:05<19:02, 47.62s/it]"
     ]
    },
    {
     "name": "stdout",
     "output_type": "stream",
     "text": [
      "Found sufficient randomized data chunks\n",
      "Found sufficient randomized data chunks\n"
     ]
    },
    {
     "name": "stderr",
     "output_type": "stream",
     "text": [
      "\r",
      " 68%|██████▊   | 48/71 [1:08:39<23:33, 61.45s/it]"
     ]
    },
    {
     "name": "stdout",
     "output_type": "stream",
     "text": [
      "Found sufficient randomized data chunks\n",
      "Found sufficient randomized data chunks\n"
     ]
    },
    {
     "name": "stderr",
     "output_type": "stream",
     "text": [
      "\r",
      " 69%|██████▉   | 49/71 [1:10:07<25:24, 69.28s/it]"
     ]
    },
    {
     "name": "stdout",
     "output_type": "stream",
     "text": [
      "Found sufficient randomized data chunks\n",
      "Found sufficient randomized data chunks\n"
     ]
    },
    {
     "name": "stderr",
     "output_type": "stream",
     "text": [
      "\r",
      " 70%|███████   | 50/71 [1:11:10<23:39, 67.57s/it]"
     ]
    },
    {
     "name": "stdout",
     "output_type": "stream",
     "text": [
      "Found sufficient randomized data chunks\n",
      "Found sufficient randomized data chunks\n"
     ]
    },
    {
     "name": "stderr",
     "output_type": "stream",
     "text": [
      "\r",
      " 72%|███████▏  | 51/71 [1:12:28<23:31, 70.57s/it]"
     ]
    },
    {
     "name": "stdout",
     "output_type": "stream",
     "text": [
      "Found sufficient randomized data chunks\n",
      "Found sufficient randomized data chunks\n"
     ]
    },
    {
     "name": "stderr",
     "output_type": "stream",
     "text": [
      "\r",
      " 73%|███████▎  | 52/71 [1:13:40<22:29, 71.02s/it]"
     ]
    },
    {
     "name": "stdout",
     "output_type": "stream",
     "text": [
      "Found sufficient randomized data chunks\n",
      "Found sufficient randomized data chunks\n"
     ]
    },
    {
     "name": "stderr",
     "output_type": "stream",
     "text": [
      "\r",
      " 75%|███████▍  | 53/71 [1:16:42<31:15, 104.21s/it]"
     ]
    },
    {
     "name": "stdout",
     "output_type": "stream",
     "text": [
      " ... session does not have lever pulls  IA1pm_Apr22_Week2_30Hz\n",
      "Found sufficient randomized data chunks\n",
      "Found sufficient randomized data chunks\n"
     ]
    },
    {
     "name": "stderr",
     "output_type": "stream",
     "text": [
      "\r",
      " 77%|███████▋  | 55/71 [1:19:26<25:06, 94.15s/it] "
     ]
    },
    {
     "name": "stdout",
     "output_type": "stream",
     "text": [
      "Found sufficient randomized data chunks\n",
      "Found sufficient randomized data chunks\n"
     ]
    },
    {
     "name": "stderr",
     "output_type": "stream",
     "text": [
      "\r",
      " 79%|███████▉  | 56/71 [1:21:03<23:41, 94.74s/it]"
     ]
    },
    {
     "name": "stdout",
     "output_type": "stream",
     "text": [
      "Found sufficient randomized data chunks\n",
      "Found sufficient randomized data chunks\n"
     ]
    },
    {
     "name": "stderr",
     "output_type": "stream",
     "text": [
      "\r",
      " 80%|████████  | 57/71 [1:22:19<20:56, 89.76s/it]"
     ]
    },
    {
     "name": "stdout",
     "output_type": "stream",
     "text": [
      "Found sufficient randomized data chunks\n",
      "Found sufficient randomized data chunks\n"
     ]
    },
    {
     "name": "stderr",
     "output_type": "stream",
     "text": [
      "\r",
      " 82%|████████▏ | 58/71 [1:23:19<17:44, 81.89s/it]"
     ]
    },
    {
     "name": "stdout",
     "output_type": "stream",
     "text": [
      "Found sufficient randomized data chunks\n",
      "Found sufficient randomized data chunks\n"
     ]
    },
    {
     "name": "stderr",
     "output_type": "stream",
     "text": [
      "\r",
      " 83%|████████▎ | 59/71 [1:24:22<15:17, 76.45s/it]"
     ]
    },
    {
     "name": "stdout",
     "output_type": "stream",
     "text": [
      " ... session does not have lever pulls  IA1am_May2_Week4_30Hz\n",
      "Found sufficient randomized data chunks\n",
      "Found sufficient randomized data chunks\n"
     ]
    },
    {
     "name": "stderr",
     "output_type": "stream",
     "text": [
      "\r",
      " 86%|████████▌ | 61/71 [1:26:45<12:21, 74.16s/it]"
     ]
    },
    {
     "name": "stdout",
     "output_type": "stream",
     "text": [
      "Found sufficient randomized data chunks\n",
      "Found sufficient randomized data chunks\n"
     ]
    },
    {
     "name": "stderr",
     "output_type": "stream",
     "text": [
      "\r",
      " 87%|████████▋ | 62/71 [1:27:34<10:14, 68.27s/it]"
     ]
    },
    {
     "name": "stdout",
     "output_type": "stream",
     "text": [
      "Found sufficient randomized data chunks\n",
      "Found sufficient randomized data chunks\n"
     ]
    },
    {
     "name": "stderr",
     "output_type": "stream",
     "text": [
      "\r",
      " 89%|████████▊ | 63/71 [1:29:26<10:35, 79.41s/it]"
     ]
    },
    {
     "name": "stdout",
     "output_type": "stream",
     "text": [
      "Found sufficient randomized data chunks\n",
      "Found sufficient randomized data chunks\n"
     ]
    },
    {
     "name": "stderr",
     "output_type": "stream",
     "text": [
      "\r",
      " 90%|█████████ | 64/71 [1:31:18<10:17, 88.24s/it]"
     ]
    },
    {
     "name": "stdout",
     "output_type": "stream",
     "text": [
      "Found sufficient randomized data chunks\n",
      "Found sufficient randomized data chunks\n"
     ]
    },
    {
     "name": "stderr",
     "output_type": "stream",
     "text": [
      "\r",
      " 92%|█████████▏| 65/71 [1:33:01<09:13, 92.29s/it]"
     ]
    },
    {
     "name": "stdout",
     "output_type": "stream",
     "text": [
      "Found sufficient randomized data chunks\n",
      "Found sufficient randomized data chunks\n"
     ]
    },
    {
     "name": "stderr",
     "output_type": "stream",
     "text": [
      "\r",
      " 93%|█████████▎| 66/71 [1:35:44<09:20, 112.19s/it]"
     ]
    },
    {
     "name": "stdout",
     "output_type": "stream",
     "text": [
      "Found sufficient randomized data chunks\n",
      "Found sufficient randomized data chunks\n"
     ]
    },
    {
     "name": "stderr",
     "output_type": "stream",
     "text": [
      "\r",
      " 94%|█████████▍| 67/71 [1:36:09<05:48, 87.23s/it] "
     ]
    },
    {
     "name": "stdout",
     "output_type": "stream",
     "text": [
      "Found sufficient randomized data chunks\n",
      "Found sufficient randomized data chunks\n"
     ]
    },
    {
     "name": "stderr",
     "output_type": "stream",
     "text": [
      "\r",
      " 96%|█████████▌| 68/71 [1:36:31<03:24, 68.15s/it]"
     ]
    },
    {
     "name": "stdout",
     "output_type": "stream",
     "text": [
      "Found sufficient randomized data chunks\n",
      "Found sufficient randomized data chunks\n"
     ]
    },
    {
     "name": "stderr",
     "output_type": "stream",
     "text": [
      "\r",
      " 97%|█████████▋| 69/71 [1:38:41<02:52, 86.30s/it]"
     ]
    },
    {
     "name": "stdout",
     "output_type": "stream",
     "text": [
      "Found sufficient randomized data chunks\n",
      "Found sufficient randomized data chunks\n"
     ]
    },
    {
     "name": "stderr",
     "output_type": "stream",
     "text": [
      "\r",
      " 99%|█████████▊| 70/71 [1:39:51<01:21, 81.61s/it]"
     ]
    },
    {
     "name": "stdout",
     "output_type": "stream",
     "text": [
      "Found sufficient randomized data chunks\n",
      "Found sufficient randomized data chunks\n"
     ]
    },
    {
     "name": "stderr",
     "output_type": "stream",
     "text": [
      "100%|██████████| 71/71 [1:40:46<00:00, 85.16s/it]\n",
      "  0%|          | 0/44 [00:00<?, ?it/s]"
     ]
    },
    {
     "name": "stdout",
     "output_type": "stream",
     "text": [
      "PROCESSING:  IA2\n",
      " ... session does not have lever pulls  IA2pm_Feb1_30Hz\n",
      "Found sufficient randomized data chunks\n",
      "Found sufficient randomized data chunks\n"
     ]
    },
    {
     "name": "stderr",
     "output_type": "stream",
     "text": [
      "\r",
      "  5%|▍         | 2/44 [00:28<10:02, 14.35s/it]"
     ]
    },
    {
     "name": "stdout",
     "output_type": "stream",
     "text": [
      "Found sufficient randomized data chunks\n",
      "Found sufficient randomized data chunks\n"
     ]
    },
    {
     "name": "stderr",
     "output_type": "stream",
     "text": [
      "\r",
      "  7%|▋         | 3/44 [03:01<49:11, 71.98s/it]"
     ]
    },
    {
     "name": "stdout",
     "output_type": "stream",
     "text": [
      "Found sufficient randomized data chunks\n",
      "Found sufficient randomized data chunks\n"
     ]
    },
    {
     "name": "stderr",
     "output_type": "stream",
     "text": [
      "\r",
      "  9%|▉         | 4/44 [08:47<1:56:13, 174.34s/it]"
     ]
    },
    {
     "name": "stdout",
     "output_type": "stream",
     "text": [
      "Found sufficient randomized data chunks\n",
      "Found sufficient randomized data chunks\n"
     ]
    },
    {
     "name": "stderr",
     "output_type": "stream",
     "text": [
      "\r",
      " 11%|█▏        | 5/44 [12:32<2:04:45, 191.94s/it]"
     ]
    },
    {
     "name": "stdout",
     "output_type": "stream",
     "text": [
      "Found sufficient randomized data chunks\n",
      "Found sufficient randomized data chunks\n"
     ]
    },
    {
     "name": "stderr",
     "output_type": "stream",
     "text": [
      "\r",
      " 14%|█▎        | 6/44 [12:52<1:25:19, 134.72s/it]"
     ]
    },
    {
     "name": "stdout",
     "output_type": "stream",
     "text": [
      "Found sufficient randomized data chunks\n",
      "Found sufficient randomized data chunks\n"
     ]
    },
    {
     "name": "stderr",
     "output_type": "stream",
     "text": [
      "\r",
      " 16%|█▌        | 7/44 [13:22<1:02:18, 101.03s/it]"
     ]
    },
    {
     "name": "stdout",
     "output_type": "stream",
     "text": [
      "Found sufficient randomized data chunks\n",
      "Found sufficient randomized data chunks\n"
     ]
    },
    {
     "name": "stderr",
     "output_type": "stream",
     "text": [
      "\r",
      " 18%|█▊        | 8/44 [13:45<46:00, 76.68s/it]   "
     ]
    },
    {
     "name": "stdout",
     "output_type": "stream",
     "text": [
      "Found sufficient randomized data chunks\n",
      "Found sufficient randomized data chunks\n"
     ]
    },
    {
     "name": "stderr",
     "output_type": "stream",
     "text": [
      " 20%|██        | 9/44 [15:08<45:44, 78.40s/it]/home/cat/code/widefieldPredict/ProcessCalcium.py:108: FutureWarning: elementwise comparison failed; returning scalar instead, but in the future will perform elementwise comparison\n",
      "  idx = np.where(codes==code)[0]\n"
     ]
    },
    {
     "name": "stdout",
     "output_type": "stream",
     "text": [
      " ... session does not have lever pulls  IA2pm_Feb15_30Hz\n",
      "Found sufficient randomized data chunks\n",
      "Found sufficient randomized data chunks\n"
     ]
    },
    {
     "name": "stderr",
     "output_type": "stream",
     "text": [
      "\r",
      " 25%|██▌       | 11/44 [18:12<46:40, 84.88s/it]"
     ]
    },
    {
     "name": "stdout",
     "output_type": "stream",
     "text": [
      "Found sufficient randomized data chunks\n",
      "Found sufficient randomized data chunks\n"
     ]
    },
    {
     "name": "stderr",
     "output_type": "stream",
     "text": [
      "\r",
      " 27%|██▋       | 12/44 [19:37<45:20, 85.01s/it]"
     ]
    },
    {
     "name": "stdout",
     "output_type": "stream",
     "text": [
      "Found sufficient randomized data chunks\n",
      "Found sufficient randomized data chunks\n"
     ]
    },
    {
     "name": "stderr",
     "output_type": "stream",
     "text": [
      "\r",
      " 30%|██▉       | 13/44 [22:13<53:37, 103.78s/it]"
     ]
    },
    {
     "name": "stdout",
     "output_type": "stream",
     "text": [
      "Found sufficient randomized data chunks\n",
      "Found sufficient randomized data chunks\n"
     ]
    },
    {
     "name": "stderr",
     "output_type": "stream",
     "text": [
      "\r",
      " 32%|███▏      | 14/44 [26:30<1:12:47, 145.58s/it]"
     ]
    },
    {
     "name": "stdout",
     "output_type": "stream",
     "text": [
      "Found sufficient randomized data chunks\n",
      "Found sufficient randomized data chunks\n"
     ]
    },
    {
     "name": "stderr",
     "output_type": "stream",
     "text": [
      "\r",
      " 34%|███▍      | 15/44 [29:10<1:12:20, 149.66s/it]"
     ]
    },
    {
     "name": "stdout",
     "output_type": "stream",
     "text": [
      "Found sufficient randomized data chunks\n",
      "Found sufficient randomized data chunks\n"
     ]
    },
    {
     "name": "stderr",
     "output_type": "stream",
     "text": [
      "\r",
      " 36%|███▋      | 16/44 [29:44<54:23, 116.56s/it]  "
     ]
    },
    {
     "name": "stdout",
     "output_type": "stream",
     "text": [
      "locs 44 thrshold missing IA2pm_Feb24_30Hz\n",
      " ... session does not have lever pulls  IA2pm_Feb24_30Hz\n",
      "locs 44 thrshold missing IA2pm_Feb25_30Hz\n",
      " ... session does not have lever pulls  IA2pm_Feb25_30Hz\n",
      "Found sufficient randomized data chunks\n",
      "Found sufficient randomized data chunks\n"
     ]
    },
    {
     "name": "stderr",
     "output_type": "stream",
     "text": [
      "\r",
      " 43%|████▎     | 19/44 [31:41<30:44, 73.79s/it] "
     ]
    },
    {
     "name": "stdout",
     "output_type": "stream",
     "text": [
      "Found sufficient randomized data chunks\n",
      "Found sufficient randomized data chunks\n"
     ]
    },
    {
     "name": "stderr",
     "output_type": "stream",
     "text": [
      "\r",
      " 45%|████▌     | 20/44 [35:20<41:33, 103.91s/it]"
     ]
    },
    {
     "name": "stdout",
     "output_type": "stream",
     "text": [
      "Found sufficient randomized data chunks\n",
      "Found sufficient randomized data chunks\n"
     ]
    },
    {
     "name": "stderr",
     "output_type": "stream",
     "text": [
      "\r",
      " 48%|████▊     | 21/44 [36:44<38:09, 99.53s/it] "
     ]
    },
    {
     "name": "stdout",
     "output_type": "stream",
     "text": [
      "Found sufficient randomized data chunks\n",
      "Found sufficient randomized data chunks\n"
     ]
    },
    {
     "name": "stderr",
     "output_type": "stream",
     "text": [
      "\r",
      " 50%|█████     | 22/44 [40:24<47:20, 129.10s/it]"
     ]
    },
    {
     "name": "stdout",
     "output_type": "stream",
     "text": [
      "Found sufficient randomized data chunks\n",
      "Found sufficient randomized data chunks\n"
     ]
    },
    {
     "name": "stderr",
     "output_type": "stream",
     "text": [
      "\r",
      " 52%|█████▏    | 23/44 [42:25<44:26, 126.97s/it]"
     ]
    },
    {
     "name": "stdout",
     "output_type": "stream",
     "text": [
      "Found sufficient randomized data chunks\n",
      "Found sufficient randomized data chunks\n"
     ]
    },
    {
     "name": "stderr",
     "output_type": "stream",
     "text": [
      "\r",
      " 55%|█████▍    | 24/44 [44:28<41:57, 125.87s/it]"
     ]
    },
    {
     "name": "stdout",
     "output_type": "stream",
     "text": [
      "Found sufficient randomized data chunks\n",
      "Found sufficient randomized data chunks\n"
     ]
    },
    {
     "name": "stderr",
     "output_type": "stream",
     "text": [
      "\r",
      " 57%|█████▋    | 25/44 [48:10<48:23, 152.83s/it]"
     ]
    },
    {
     "name": "stdout",
     "output_type": "stream",
     "text": [
      "Found sufficient randomized data chunks\n",
      "Found sufficient randomized data chunks\n"
     ]
    },
    {
     "name": "stderr",
     "output_type": "stream",
     "text": [
      "\r",
      " 59%|█████▉    | 26/44 [49:09<37:47, 125.98s/it]"
     ]
    },
    {
     "name": "stdout",
     "output_type": "stream",
     "text": [
      "Found sufficient randomized data chunks\n",
      "Found sufficient randomized data chunks\n"
     ]
    },
    {
     "name": "stderr",
     "output_type": "stream",
     "text": [
      " 61%|██████▏   | 27/44 [50:01<29:40, 104.76s/it]/home/cat/code/widefieldPredict/ProcessCalcium.py:108: FutureWarning: elementwise comparison failed; returning scalar instead, but in the future will perform elementwise comparison\n",
      "  idx = np.where(codes==code)[0]\n"
     ]
    },
    {
     "name": "stdout",
     "output_type": "stream",
     "text": [
      " ... session does not have lever pulls  IA2am_Mar10_30Hz\n",
      "Found sufficient randomized data chunks\n",
      "Found sufficient randomized data chunks\n"
     ]
    },
    {
     "name": "stderr",
     "output_type": "stream",
     "text": [
      "\r",
      " 66%|██████▌   | 29/44 [55:12<31:53, 127.57s/it]"
     ]
    },
    {
     "name": "stdout",
     "output_type": "stream",
     "text": [
      "Found sufficient randomized data chunks\n",
      "Found sufficient randomized data chunks\n"
     ]
    },
    {
     "name": "stderr",
     "output_type": "stream",
     "text": [
      "\r",
      " 68%|██████▊   | 30/44 [59:41<37:49, 162.08s/it]"
     ]
    },
    {
     "name": "stdout",
     "output_type": "stream",
     "text": [
      "Found sufficient randomized data chunks\n",
      "Found sufficient randomized data chunks\n"
     ]
    },
    {
     "name": "stderr",
     "output_type": "stream",
     "text": [
      "\r",
      " 70%|███████   | 31/44 [1:03:04<37:24, 172.67s/it]"
     ]
    },
    {
     "name": "stdout",
     "output_type": "stream",
     "text": [
      "Found sufficient randomized data chunks\n",
      "Found sufficient randomized data chunks\n"
     ]
    },
    {
     "name": "stderr",
     "output_type": "stream",
     "text": [
      "\r",
      " 73%|███████▎  | 32/44 [1:09:05<44:42, 223.53s/it]"
     ]
    },
    {
     "name": "stdout",
     "output_type": "stream",
     "text": [
      "Found sufficient randomized data chunks\n",
      "Found sufficient randomized data chunks\n"
     ]
    },
    {
     "name": "stderr",
     "output_type": "stream",
     "text": [
      "\r",
      " 75%|███████▌  | 33/44 [1:13:15<42:19, 230.84s/it]"
     ]
    },
    {
     "name": "stdout",
     "output_type": "stream",
     "text": [
      "Found sufficient randomized data chunks\n",
      "Found sufficient randomized data chunks\n"
     ]
    },
    {
     "name": "stderr",
     "output_type": "stream",
     "text": [
      "\r",
      " 77%|███████▋  | 34/44 [1:16:25<36:33, 219.39s/it]"
     ]
    },
    {
     "name": "stdout",
     "output_type": "stream",
     "text": [
      "Found sufficient randomized data chunks\n",
      "Found sufficient randomized data chunks\n"
     ]
    },
    {
     "name": "stderr",
     "output_type": "stream",
     "text": [
      "\r",
      " 80%|███████▉  | 35/44 [1:19:08<30:27, 203.00s/it]"
     ]
    },
    {
     "name": "stdout",
     "output_type": "stream",
     "text": [
      "Found sufficient randomized data chunks\n",
      "Found sufficient randomized data chunks\n"
     ]
    },
    {
     "name": "stderr",
     "output_type": "stream",
     "text": [
      "\r",
      " 82%|████████▏ | 36/44 [1:22:32<27:08, 203.51s/it]"
     ]
    },
    {
     "name": "stdout",
     "output_type": "stream",
     "text": [
      "Found sufficient randomized data chunks\n",
      "Found sufficient randomized data chunks\n"
     ]
    },
    {
     "name": "stderr",
     "output_type": "stream",
     "text": [
      "\r",
      " 84%|████████▍ | 37/44 [1:25:07<22:04, 189.18s/it]"
     ]
    },
    {
     "name": "stdout",
     "output_type": "stream",
     "text": [
      "Found sufficient randomized data chunks\n",
      "Found sufficient randomized data chunks\n"
     ]
    },
    {
     "name": "stderr",
     "output_type": "stream",
     "text": [
      "\r",
      " 86%|████████▋ | 38/44 [1:25:36<14:09, 141.62s/it]"
     ]
    },
    {
     "name": "stdout",
     "output_type": "stream",
     "text": [
      "Found sufficient randomized data chunks\n",
      "Found sufficient randomized data chunks\n"
     ]
    },
    {
     "name": "stderr",
     "output_type": "stream",
     "text": [
      "\r",
      " 89%|████████▊ | 39/44 [1:28:02<11:54, 142.81s/it]"
     ]
    },
    {
     "name": "stdout",
     "output_type": "stream",
     "text": [
      "Found sufficient randomized data chunks\n",
      "Found sufficient randomized data chunks\n"
     ]
    },
    {
     "name": "stderr",
     "output_type": "stream",
     "text": [
      "\r",
      " 91%|█████████ | 40/44 [1:31:46<11:08, 167.15s/it]"
     ]
    },
    {
     "name": "stdout",
     "output_type": "stream",
     "text": [
      "Found sufficient randomized data chunks\n",
      "Found sufficient randomized data chunks\n"
     ]
    },
    {
     "name": "stderr",
     "output_type": "stream",
     "text": [
      "\r",
      " 93%|█████████▎| 41/44 [1:36:44<10:18, 206.12s/it]"
     ]
    },
    {
     "name": "stdout",
     "output_type": "stream",
     "text": [
      "Found sufficient randomized data chunks\n",
      "Found sufficient randomized data chunks\n"
     ]
    },
    {
     "name": "stderr",
     "output_type": "stream",
     "text": [
      "\r",
      " 95%|█████████▌| 42/44 [1:38:29<05:51, 175.85s/it]"
     ]
    },
    {
     "name": "stdout",
     "output_type": "stream",
     "text": [
      "Found sufficient randomized data chunks\n",
      "Found sufficient randomized data chunks\n"
     ]
    },
    {
     "name": "stderr",
     "output_type": "stream",
     "text": [
      "\r",
      " 98%|█████████▊| 43/44 [1:40:03<02:31, 151.49s/it]"
     ]
    },
    {
     "name": "stdout",
     "output_type": "stream",
     "text": [
      "Found sufficient randomized data chunks\n",
      "Found sufficient randomized data chunks\n"
     ]
    },
    {
     "name": "stderr",
     "output_type": "stream",
     "text": [
      "100%|██████████| 44/44 [1:43:29<00:00, 141.12s/it]\n",
      "  0%|          | 0/44 [00:00<?, ?it/s]"
     ]
    },
    {
     "name": "stdout",
     "output_type": "stream",
     "text": [
      "PROCESSING:  IA3\n",
      "Found sufficient randomized data chunks\n",
      "Found sufficient randomized data chunks\n"
     ]
    },
    {
     "name": "stderr",
     "output_type": "stream",
     "text": [
      "\r",
      "  2%|▏         | 1/44 [01:46<1:16:14, 106.40s/it]"
     ]
    },
    {
     "name": "stdout",
     "output_type": "stream",
     "text": [
      "Found sufficient randomized data chunks\n",
      "Found sufficient randomized data chunks\n"
     ]
    },
    {
     "name": "stderr",
     "output_type": "stream",
     "text": [
      "\r",
      "  5%|▍         | 2/44 [05:35<2:05:08, 178.77s/it]"
     ]
    },
    {
     "name": "stdout",
     "output_type": "stream",
     "text": [
      "Found sufficient randomized data chunks\n",
      "Found sufficient randomized data chunks\n"
     ]
    },
    {
     "name": "stderr",
     "output_type": "stream",
     "text": [
      "\r",
      "  7%|▋         | 3/44 [10:34<2:39:26, 233.33s/it]"
     ]
    },
    {
     "name": "stdout",
     "output_type": "stream",
     "text": [
      "Found sufficient randomized data chunks\n",
      "Found sufficient randomized data chunks\n"
     ]
    },
    {
     "name": "stderr",
     "output_type": "stream",
     "text": [
      "\r",
      "  9%|▉         | 4/44 [13:55<2:27:15, 220.89s/it]"
     ]
    },
    {
     "name": "stdout",
     "output_type": "stream",
     "text": [
      "Found sufficient randomized data chunks\n",
      "Found sufficient randomized data chunks\n"
     ]
    },
    {
     "name": "stderr",
     "output_type": "stream",
     "text": [
      "\r",
      " 11%|█▏        | 5/44 [14:51<1:44:49, 161.27s/it]"
     ]
    },
    {
     "name": "stdout",
     "output_type": "stream",
     "text": [
      "Found sufficient randomized data chunks\n",
      "Found sufficient randomized data chunks\n"
     ]
    },
    {
     "name": "stderr",
     "output_type": "stream",
     "text": [
      "\r",
      " 14%|█▎        | 6/44 [15:28<1:15:19, 118.94s/it]"
     ]
    },
    {
     "name": "stdout",
     "output_type": "stream",
     "text": [
      "Found sufficient randomized data chunks\n",
      "Found sufficient randomized data chunks\n"
     ]
    },
    {
     "name": "stderr",
     "output_type": "stream",
     "text": [
      "\r",
      " 16%|█▌        | 7/44 [16:30<1:01:52, 100.34s/it]"
     ]
    },
    {
     "name": "stdout",
     "output_type": "stream",
     "text": [
      "Found sufficient randomized data chunks\n",
      "Found sufficient randomized data chunks\n"
     ]
    },
    {
     "name": "stderr",
     "output_type": "stream",
     "text": [
      "\r",
      " 18%|█▊        | 8/44 [21:17<1:35:58, 159.96s/it]"
     ]
    },
    {
     "name": "stdout",
     "output_type": "stream",
     "text": [
      "Found sufficient randomized data chunks\n",
      "Found sufficient randomized data chunks\n"
     ]
    },
    {
     "name": "stderr",
     "output_type": "stream",
     "text": [
      "\r",
      " 20%|██        | 9/44 [23:55<1:32:50, 159.15s/it]"
     ]
    },
    {
     "name": "stdout",
     "output_type": "stream",
     "text": [
      "Found sufficient randomized data chunks\n",
      "Found sufficient randomized data chunks\n"
     ]
    },
    {
     "name": "stderr",
     "output_type": "stream",
     "text": [
      "\r",
      " 23%|██▎       | 10/44 [27:41<1:41:50, 179.72s/it]"
     ]
    },
    {
     "name": "stdout",
     "output_type": "stream",
     "text": [
      "Found sufficient randomized data chunks\n",
      "Found sufficient randomized data chunks\n"
     ]
    },
    {
     "name": "stderr",
     "output_type": "stream",
     "text": [
      "\r",
      " 25%|██▌       | 11/44 [30:42<1:39:06, 180.20s/it]"
     ]
    },
    {
     "name": "stdout",
     "output_type": "stream",
     "text": [
      "Found sufficient randomized data chunks\n",
      "Found sufficient randomized data chunks\n"
     ]
    },
    {
     "name": "stderr",
     "output_type": "stream",
     "text": [
      "\r",
      " 27%|██▋       | 12/44 [33:01<1:29:29, 167.80s/it]"
     ]
    },
    {
     "name": "stdout",
     "output_type": "stream",
     "text": [
      "Found sufficient randomized data chunks\n",
      "Found sufficient randomized data chunks\n"
     ]
    },
    {
     "name": "stderr",
     "output_type": "stream",
     "text": [
      "\r",
      " 30%|██▉       | 13/44 [34:56<1:18:24, 151.75s/it]"
     ]
    },
    {
     "name": "stdout",
     "output_type": "stream",
     "text": [
      "Found sufficient randomized data chunks\n",
      "Found sufficient randomized data chunks\n"
     ]
    },
    {
     "name": "stderr",
     "output_type": "stream",
     "text": [
      "\r",
      " 32%|███▏      | 14/44 [36:36<1:08:03, 136.11s/it]"
     ]
    },
    {
     "name": "stdout",
     "output_type": "stream",
     "text": [
      "Found sufficient randomized data chunks\n",
      "Found sufficient randomized data chunks\n"
     ]
    },
    {
     "name": "stderr",
     "output_type": "stream",
     "text": [
      "\r",
      " 34%|███▍      | 15/44 [37:34<54:20, 112.43s/it]  "
     ]
    },
    {
     "name": "stdout",
     "output_type": "stream",
     "text": [
      "locs 44 thrshold missing IA3pm_Feb24_30Hz\n",
      " ... session does not have lever pulls  IA3pm_Feb24_30Hz\n",
      "locs 44 thrshold missing IA3pm_Feb25_30Hz\n",
      " ... session does not have lever pulls  IA3pm_Feb25_30Hz\n",
      "Found sufficient randomized data chunks\n",
      "Found sufficient randomized data chunks\n"
     ]
    },
    {
     "name": "stderr",
     "output_type": "stream",
     "text": [
      "\r",
      " 41%|████      | 18/44 [41:21<39:47, 91.83s/it] "
     ]
    },
    {
     "name": "stdout",
     "output_type": "stream",
     "text": [
      "Found sufficient randomized data chunks\n",
      "Found sufficient randomized data chunks\n"
     ]
    },
    {
     "name": "stderr",
     "output_type": "stream",
     "text": [
      "\r",
      " 43%|████▎     | 19/44 [44:02<44:21, 106.47s/it]"
     ]
    },
    {
     "name": "stdout",
     "output_type": "stream",
     "text": [
      "Found sufficient randomized data chunks\n",
      "Found sufficient randomized data chunks\n"
     ]
    },
    {
     "name": "stderr",
     "output_type": "stream",
     "text": [
      "\r",
      " 45%|████▌     | 20/44 [45:39<41:39, 104.16s/it]"
     ]
    },
    {
     "name": "stdout",
     "output_type": "stream",
     "text": [
      "Found sufficient randomized data chunks\n",
      "Found sufficient randomized data chunks\n"
     ]
    },
    {
     "name": "stderr",
     "output_type": "stream",
     "text": [
      "\r",
      " 48%|████▊     | 21/44 [47:40<41:33, 108.42s/it]"
     ]
    },
    {
     "name": "stdout",
     "output_type": "stream",
     "text": [
      "Found sufficient randomized data chunks\n",
      "Found sufficient randomized data chunks\n"
     ]
    },
    {
     "name": "stderr",
     "output_type": "stream",
     "text": [
      "\r",
      " 50%|█████     | 22/44 [50:42<46:49, 127.70s/it]"
     ]
    },
    {
     "name": "stdout",
     "output_type": "stream",
     "text": [
      "Found sufficient randomized data chunks\n",
      "Found sufficient randomized data chunks\n"
     ]
    },
    {
     "name": "stderr",
     "output_type": "stream",
     "text": [
      "\r",
      " 52%|█████▏    | 23/44 [52:55<45:14, 129.25s/it]"
     ]
    },
    {
     "name": "stdout",
     "output_type": "stream",
     "text": [
      "Found sufficient randomized data chunks\n",
      "Found sufficient randomized data chunks\n"
     ]
    },
    {
     "name": "stderr",
     "output_type": "stream",
     "text": [
      "\r",
      " 55%|█████▍    | 24/44 [55:07<43:19, 129.97s/it]"
     ]
    },
    {
     "name": "stdout",
     "output_type": "stream",
     "text": [
      "Found sufficient randomized data chunks\n",
      "Found sufficient randomized data chunks\n"
     ]
    },
    {
     "name": "stderr",
     "output_type": "stream",
     "text": [
      "\r",
      " 57%|█████▋    | 25/44 [57:46<43:43, 138.10s/it]"
     ]
    },
    {
     "name": "stdout",
     "output_type": "stream",
     "text": [
      "Found sufficient randomized data chunks\n",
      "Found sufficient randomized data chunks\n"
     ]
    },
    {
     "name": "stderr",
     "output_type": "stream",
     "text": [
      "\r",
      " 59%|█████▉    | 26/44 [1:01:40<49:50, 166.16s/it]"
     ]
    },
    {
     "name": "stdout",
     "output_type": "stream",
     "text": [
      "Found sufficient randomized data chunks\n",
      "Found sufficient randomized data chunks\n"
     ]
    },
    {
     "name": "stderr",
     "output_type": "stream",
     "text": [
      "\r",
      " 61%|██████▏   | 27/44 [1:05:00<49:50, 175.92s/it]"
     ]
    },
    {
     "name": "stdout",
     "output_type": "stream",
     "text": [
      "Found sufficient randomized data chunks\n",
      "Found sufficient randomized data chunks\n"
     ]
    },
    {
     "name": "stderr",
     "output_type": "stream",
     "text": [
      "\r",
      " 64%|██████▎   | 28/44 [1:06:45<41:19, 154.96s/it]"
     ]
    },
    {
     "name": "stdout",
     "output_type": "stream",
     "text": [
      "Found sufficient randomized data chunks\n",
      "Found sufficient randomized data chunks\n"
     ]
    },
    {
     "name": "stderr",
     "output_type": "stream",
     "text": [
      "\r",
      " 66%|██████▌   | 29/44 [1:08:51<36:36, 146.43s/it]"
     ]
    },
    {
     "name": "stdout",
     "output_type": "stream",
     "text": [
      "Found sufficient randomized data chunks\n",
      "Found sufficient randomized data chunks\n"
     ]
    },
    {
     "name": "stderr",
     "output_type": "stream",
     "text": [
      "\r",
      " 68%|██████▊   | 30/44 [1:11:44<36:02, 154.45s/it]"
     ]
    },
    {
     "name": "stdout",
     "output_type": "stream",
     "text": [
      "Found sufficient randomized data chunks\n",
      "Found sufficient randomized data chunks\n"
     ]
    },
    {
     "name": "stderr",
     "output_type": "stream",
     "text": [
      "\r",
      " 70%|███████   | 31/44 [1:15:19<37:19, 172.31s/it]"
     ]
    },
    {
     "name": "stdout",
     "output_type": "stream",
     "text": [
      "Found sufficient randomized data chunks\n",
      "Found sufficient randomized data chunks\n"
     ]
    },
    {
     "name": "stderr",
     "output_type": "stream",
     "text": [
      "\r",
      " 73%|███████▎  | 32/44 [1:20:28<42:39, 213.31s/it]"
     ]
    },
    {
     "name": "stdout",
     "output_type": "stream",
     "text": [
      "Found sufficient randomized data chunks\n",
      "Found sufficient randomized data chunks\n"
     ]
    },
    {
     "name": "stderr",
     "output_type": "stream",
     "text": [
      "\r",
      " 75%|███████▌  | 33/44 [1:26:07<46:00, 250.93s/it]"
     ]
    },
    {
     "name": "stdout",
     "output_type": "stream",
     "text": [
      "Found sufficient randomized data chunks\n",
      "Found sufficient randomized data chunks\n"
     ]
    },
    {
     "name": "stderr",
     "output_type": "stream",
     "text": [
      "\r",
      " 77%|███████▋  | 34/44 [1:30:37<42:46, 256.62s/it]"
     ]
    },
    {
     "name": "stdout",
     "output_type": "stream",
     "text": [
      "Found sufficient randomized data chunks\n",
      "Found sufficient randomized data chunks\n"
     ]
    },
    {
     "name": "stderr",
     "output_type": "stream",
     "text": [
      "\r",
      " 80%|███████▉  | 35/44 [1:35:50<41:00, 273.40s/it]"
     ]
    },
    {
     "name": "stdout",
     "output_type": "stream",
     "text": [
      "Found sufficient randomized data chunks\n",
      "Found sufficient randomized data chunks\n"
     ]
    },
    {
     "name": "stderr",
     "output_type": "stream",
     "text": [
      "\r",
      " 82%|████████▏ | 36/44 [1:42:09<40:41, 305.14s/it]"
     ]
    },
    {
     "name": "stdout",
     "output_type": "stream",
     "text": [
      "Found sufficient randomized data chunks\n",
      "Found sufficient randomized data chunks\n"
     ]
    },
    {
     "name": "stderr",
     "output_type": "stream",
     "text": [
      "\r",
      " 84%|████████▍ | 37/44 [1:45:59<32:58, 282.60s/it]"
     ]
    },
    {
     "name": "stdout",
     "output_type": "stream",
     "text": [
      "Found sufficient randomized data chunks\n",
      "Found sufficient randomized data chunks\n"
     ]
    },
    {
     "name": "stderr",
     "output_type": "stream",
     "text": [
      "\r",
      " 86%|████████▋ | 38/44 [1:48:50<24:54, 249.15s/it]"
     ]
    },
    {
     "name": "stdout",
     "output_type": "stream",
     "text": [
      "Found sufficient randomized data chunks\n",
      "Found sufficient randomized data chunks\n"
     ]
    },
    {
     "name": "stderr",
     "output_type": "stream",
     "text": [
      "\r",
      " 89%|████████▊ | 39/44 [1:52:59<20:45, 249.12s/it]"
     ]
    },
    {
     "name": "stdout",
     "output_type": "stream",
     "text": [
      "Found sufficient randomized data chunks\n",
      "Found sufficient randomized data chunks\n"
     ]
    },
    {
     "name": "stderr",
     "output_type": "stream",
     "text": [
      "\r",
      " 91%|█████████ | 40/44 [1:56:57<16:23, 245.82s/it]"
     ]
    },
    {
     "name": "stdout",
     "output_type": "stream",
     "text": [
      "Found sufficient randomized data chunks\n",
      "Found sufficient randomized data chunks\n"
     ]
    },
    {
     "name": "stderr",
     "output_type": "stream",
     "text": [
      "\r",
      " 93%|█████████▎| 41/44 [2:00:28<11:45, 235.18s/it]"
     ]
    },
    {
     "name": "stdout",
     "output_type": "stream",
     "text": [
      "Found sufficient randomized data chunks\n",
      "Found sufficient randomized data chunks\n"
     ]
    },
    {
     "name": "stderr",
     "output_type": "stream",
     "text": [
      "\r",
      " 95%|█████████▌| 42/44 [2:06:45<09:15, 277.71s/it]"
     ]
    },
    {
     "name": "stdout",
     "output_type": "stream",
     "text": [
      "Found sufficient randomized data chunks\n",
      "Found sufficient randomized data chunks\n"
     ]
    },
    {
     "name": "stderr",
     "output_type": "stream",
     "text": [
      "\r",
      " 98%|█████████▊| 43/44 [2:10:41<04:25, 265.18s/it]"
     ]
    },
    {
     "name": "stdout",
     "output_type": "stream",
     "text": [
      "Found sufficient randomized data chunks\n",
      "Found sufficient randomized data chunks\n"
     ]
    },
    {
     "name": "stderr",
     "output_type": "stream",
     "text": [
      "100%|██████████| 44/44 [2:16:02<00:00, 185.51s/it]\n",
      "  0%|          | 0/44 [00:00<?, ?it/s]"
     ]
    },
    {
     "name": "stdout",
     "output_type": "stream",
     "text": [
      "PROCESSING:  IJ1\n",
      "Found sufficient randomized data chunks\n",
      "Found sufficient randomized data chunks\n"
     ]
    },
    {
     "name": "stderr",
     "output_type": "stream",
     "text": [
      "\r",
      "  2%|▏         | 1/44 [02:03<1:28:09, 123.01s/it]"
     ]
    },
    {
     "name": "stdout",
     "output_type": "stream",
     "text": [
      "Found sufficient randomized data chunks\n",
      "Found sufficient randomized data chunks\n"
     ]
    },
    {
     "name": "stderr",
     "output_type": "stream",
     "text": [
      "\r",
      "  5%|▍         | 2/44 [04:18<1:31:23, 130.55s/it]"
     ]
    },
    {
     "name": "stdout",
     "output_type": "stream",
     "text": [
      "Found sufficient randomized data chunks\n",
      "Found sufficient randomized data chunks\n"
     ]
    },
    {
     "name": "stderr",
     "output_type": "stream",
     "text": [
      "\r",
      "  7%|▋         | 3/44 [06:59<1:38:33, 144.24s/it]"
     ]
    },
    {
     "name": "stdout",
     "output_type": "stream",
     "text": [
      "Found sufficient randomized data chunks\n",
      "Found sufficient randomized data chunks\n"
     ]
    },
    {
     "name": "stderr",
     "output_type": "stream",
     "text": [
      "\r",
      "  9%|▉         | 4/44 [09:26<1:36:54, 145.35s/it]"
     ]
    },
    {
     "name": "stdout",
     "output_type": "stream",
     "text": [
      "Found sufficient randomized data chunks\n",
      "Found sufficient randomized data chunks\n"
     ]
    },
    {
     "name": "stderr",
     "output_type": "stream",
     "text": [
      "\r",
      " 11%|█▏        | 5/44 [12:08<1:38:17, 151.21s/it]"
     ]
    },
    {
     "name": "stdout",
     "output_type": "stream",
     "text": [
      "Found sufficient randomized data chunks\n",
      "Found sufficient randomized data chunks\n"
     ]
    },
    {
     "name": "stderr",
     "output_type": "stream",
     "text": [
      "\r",
      " 14%|█▎        | 6/44 [15:03<1:40:53, 159.31s/it]"
     ]
    },
    {
     "name": "stdout",
     "output_type": "stream",
     "text": [
      "Found sufficient randomized data chunks\n",
      "Found sufficient randomized data chunks\n"
     ]
    },
    {
     "name": "stderr",
     "output_type": "stream",
     "text": [
      "\r",
      " 16%|█▌        | 7/44 [18:18<1:45:30, 171.11s/it]"
     ]
    },
    {
     "name": "stdout",
     "output_type": "stream",
     "text": [
      "Found sufficient randomized data chunks\n",
      "Found sufficient randomized data chunks\n"
     ]
    },
    {
     "name": "stderr",
     "output_type": "stream",
     "text": [
      "\r",
      " 18%|█▊        | 8/44 [21:09<1:42:35, 170.97s/it]"
     ]
    },
    {
     "name": "stdout",
     "output_type": "stream",
     "text": [
      "Found sufficient randomized data chunks\n",
      "Found sufficient randomized data chunks\n"
     ]
    },
    {
     "name": "stderr",
     "output_type": "stream",
     "text": [
      "\r",
      " 20%|██        | 9/44 [24:41<1:47:22, 184.06s/it]"
     ]
    },
    {
     "name": "stdout",
     "output_type": "stream",
     "text": [
      "Found sufficient randomized data chunks\n",
      "Found sufficient randomized data chunks\n"
     ]
    },
    {
     "name": "stderr",
     "output_type": "stream",
     "text": [
      "\r",
      " 23%|██▎       | 10/44 [26:50<1:34:30, 166.79s/it]"
     ]
    },
    {
     "name": "stdout",
     "output_type": "stream",
     "text": [
      "Found sufficient randomized data chunks\n",
      "Found sufficient randomized data chunks\n"
     ]
    },
    {
     "name": "stderr",
     "output_type": "stream",
     "text": [
      "\r",
      " 25%|██▌       | 11/44 [30:22<1:39:26, 180.82s/it]"
     ]
    },
    {
     "name": "stdout",
     "output_type": "stream",
     "text": [
      "Found sufficient randomized data chunks\n",
      "Found sufficient randomized data chunks\n"
     ]
    },
    {
     "name": "stderr",
     "output_type": "stream",
     "text": [
      "\r",
      " 27%|██▋       | 12/44 [32:17<1:25:43, 160.73s/it]"
     ]
    },
    {
     "name": "stdout",
     "output_type": "stream",
     "text": [
      "Found sufficient randomized data chunks\n",
      "Found sufficient randomized data chunks\n"
     ]
    },
    {
     "name": "stderr",
     "output_type": "stream",
     "text": [
      "\r",
      " 30%|██▉       | 13/44 [34:48<1:21:34, 157.88s/it]"
     ]
    },
    {
     "name": "stdout",
     "output_type": "stream",
     "text": [
      "Found sufficient randomized data chunks\n",
      "Found sufficient randomized data chunks\n"
     ]
    },
    {
     "name": "stderr",
     "output_type": "stream",
     "text": [
      "\r",
      " 32%|███▏      | 14/44 [36:39<1:11:51, 143.73s/it]"
     ]
    },
    {
     "name": "stdout",
     "output_type": "stream",
     "text": [
      "Found sufficient randomized data chunks\n",
      "Found sufficient randomized data chunks\n"
     ]
    },
    {
     "name": "stderr",
     "output_type": "stream",
     "text": [
      "\r",
      " 34%|███▍      | 15/44 [41:53<1:34:09, 194.80s/it]"
     ]
    },
    {
     "name": "stdout",
     "output_type": "stream",
     "text": [
      " ... session does not have lever pulls  IJ1pm_Feb24_30Hz\n",
      " ... session does not have lever pulls  IJ1pm_Feb25_30Hz\n",
      "Found sufficient randomized data chunks\n",
      "Found sufficient randomized data chunks\n"
     ]
    },
    {
     "name": "stderr",
     "output_type": "stream",
     "text": [
      "\r",
      " 41%|████      | 18/44 [44:33<49:53, 115.13s/it]  "
     ]
    },
    {
     "name": "stdout",
     "output_type": "stream",
     "text": [
      "Found sufficient randomized data chunks\n",
      "Found sufficient randomized data chunks\n"
     ]
    },
    {
     "name": "stderr",
     "output_type": "stream",
     "text": [
      "\r",
      " 43%|████▎     | 19/44 [48:27<58:25, 140.24s/it]"
     ]
    },
    {
     "name": "stdout",
     "output_type": "stream",
     "text": [
      "Found sufficient randomized data chunks\n",
      "Found sufficient randomized data chunks\n"
     ]
    },
    {
     "name": "stderr",
     "output_type": "stream",
     "text": [
      "\r",
      " 45%|████▌     | 20/44 [49:37<49:38, 124.09s/it]"
     ]
    },
    {
     "name": "stdout",
     "output_type": "stream",
     "text": [
      "Found sufficient randomized data chunks\n",
      "Found sufficient randomized data chunks\n"
     ]
    },
    {
     "name": "stderr",
     "output_type": "stream",
     "text": [
      "\r",
      " 48%|████▊     | 21/44 [53:04<55:27, 144.65s/it]"
     ]
    },
    {
     "name": "stdout",
     "output_type": "stream",
     "text": [
      "Found sufficient randomized data chunks\n",
      "Found sufficient randomized data chunks\n"
     ]
    },
    {
     "name": "stderr",
     "output_type": "stream",
     "text": [
      "\r",
      " 50%|█████     | 22/44 [59:36<1:16:51, 209.62s/it]"
     ]
    },
    {
     "name": "stdout",
     "output_type": "stream",
     "text": [
      "Found sufficient randomized data chunks\n",
      "Found sufficient randomized data chunks\n"
     ]
    },
    {
     "name": "stderr",
     "output_type": "stream",
     "text": [
      "\r",
      " 52%|█████▏    | 23/44 [1:04:46<1:22:56, 236.97s/it]"
     ]
    },
    {
     "name": "stdout",
     "output_type": "stream",
     "text": [
      "Found sufficient randomized data chunks\n",
      "Found sufficient randomized data chunks\n"
     ]
    },
    {
     "name": "stderr",
     "output_type": "stream",
     "text": [
      "\r",
      " 55%|█████▍    | 24/44 [1:07:19<1:11:06, 213.31s/it]"
     ]
    },
    {
     "name": "stdout",
     "output_type": "stream",
     "text": [
      "Found sufficient randomized data chunks\n",
      "Found sufficient randomized data chunks\n"
     ]
    },
    {
     "name": "stderr",
     "output_type": "stream",
     "text": [
      "\r",
      " 57%|█████▋    | 25/44 [1:07:58<51:49, 163.63s/it]  "
     ]
    },
    {
     "name": "stdout",
     "output_type": "stream",
     "text": [
      "Found sufficient randomized data chunks\n",
      "Found sufficient randomized data chunks\n"
     ]
    },
    {
     "name": "stderr",
     "output_type": "stream",
     "text": [
      "\r",
      " 59%|█████▉    | 26/44 [1:10:23<47:27, 158.18s/it]"
     ]
    },
    {
     "name": "stdout",
     "output_type": "stream",
     "text": [
      "Found sufficient randomized data chunks\n",
      "Found sufficient randomized data chunks\n"
     ]
    },
    {
     "name": "stderr",
     "output_type": "stream",
     "text": [
      "\r",
      " 61%|██████▏   | 27/44 [1:11:45<38:29, 135.85s/it]"
     ]
    },
    {
     "name": "stdout",
     "output_type": "stream",
     "text": [
      "Found sufficient randomized data chunks\n",
      "Found sufficient randomized data chunks\n"
     ]
    },
    {
     "name": "stderr",
     "output_type": "stream",
     "text": [
      "\r",
      " 64%|██████▎   | 28/44 [1:12:39<29:47, 111.74s/it]"
     ]
    },
    {
     "name": "stdout",
     "output_type": "stream",
     "text": [
      "Found sufficient randomized data chunks\n",
      "Found sufficient randomized data chunks\n"
     ]
    },
    {
     "name": "stderr",
     "output_type": "stream",
     "text": [
      "\r",
      " 66%|██████▌   | 29/44 [1:15:24<31:49, 127.32s/it]"
     ]
    },
    {
     "name": "stdout",
     "output_type": "stream",
     "text": [
      "Found sufficient randomized data chunks\n",
      "Found sufficient randomized data chunks\n"
     ]
    },
    {
     "name": "stderr",
     "output_type": "stream",
     "text": [
      "\r",
      " 68%|██████▊   | 30/44 [1:17:15<28:35, 122.52s/it]"
     ]
    },
    {
     "name": "stdout",
     "output_type": "stream",
     "text": [
      "Found sufficient randomized data chunks\n",
      "Found sufficient randomized data chunks\n"
     ]
    },
    {
     "name": "stderr",
     "output_type": "stream",
     "text": [
      "\r",
      " 70%|███████   | 31/44 [1:18:41<24:12, 111.70s/it]"
     ]
    },
    {
     "name": "stdout",
     "output_type": "stream",
     "text": [
      "Found sufficient randomized data chunks\n",
      "Found sufficient randomized data chunks\n"
     ]
    },
    {
     "name": "stderr",
     "output_type": "stream",
     "text": [
      "\r",
      " 73%|███████▎  | 32/44 [1:21:09<24:31, 122.60s/it]"
     ]
    },
    {
     "name": "stdout",
     "output_type": "stream",
     "text": [
      "Found sufficient randomized data chunks\n",
      "Found sufficient randomized data chunks\n"
     ]
    },
    {
     "name": "stderr",
     "output_type": "stream",
     "text": [
      "\r",
      " 75%|███████▌  | 33/44 [1:22:11<19:08, 104.37s/it]"
     ]
    },
    {
     "name": "stdout",
     "output_type": "stream",
     "text": [
      "Found sufficient randomized data chunks\n",
      "Found sufficient randomized data chunks\n"
     ]
    },
    {
     "name": "stderr",
     "output_type": "stream",
     "text": [
      "\r",
      " 77%|███████▋  | 34/44 [1:23:26<15:56, 95.64s/it] "
     ]
    },
    {
     "name": "stdout",
     "output_type": "stream",
     "text": [
      "Found sufficient randomized data chunks\n",
      "Found sufficient randomized data chunks\n"
     ]
    },
    {
     "name": "stderr",
     "output_type": "stream",
     "text": [
      "\r",
      " 80%|███████▉  | 35/44 [1:24:51<13:51, 92.37s/it]"
     ]
    },
    {
     "name": "stdout",
     "output_type": "stream",
     "text": [
      "Found sufficient randomized data chunks\n",
      "Found sufficient randomized data chunks\n"
     ]
    },
    {
     "name": "stderr",
     "output_type": "stream",
     "text": [
      "\r",
      " 82%|████████▏ | 36/44 [1:26:25<12:23, 92.96s/it]"
     ]
    },
    {
     "name": "stdout",
     "output_type": "stream",
     "text": [
      "Found sufficient randomized data chunks\n",
      "Found sufficient randomized data chunks\n"
     ]
    },
    {
     "name": "stderr",
     "output_type": "stream",
     "text": [
      "\r",
      " 84%|████████▍ | 37/44 [1:27:50<10:34, 90.59s/it]"
     ]
    },
    {
     "name": "stdout",
     "output_type": "stream",
     "text": [
      "Found sufficient randomized data chunks\n",
      "Found sufficient randomized data chunks\n"
     ]
    },
    {
     "name": "stderr",
     "output_type": "stream",
     "text": [
      "\r",
      " 86%|████████▋ | 38/44 [1:30:30<11:07, 111.24s/it]"
     ]
    },
    {
     "name": "stdout",
     "output_type": "stream",
     "text": [
      "Found sufficient randomized data chunks\n",
      "Found sufficient randomized data chunks\n"
     ]
    },
    {
     "name": "stderr",
     "output_type": "stream",
     "text": [
      "\r",
      " 89%|████████▊ | 39/44 [1:33:45<11:22, 136.43s/it]"
     ]
    },
    {
     "name": "stdout",
     "output_type": "stream",
     "text": [
      "Found sufficient randomized data chunks\n",
      "Found sufficient randomized data chunks\n"
     ]
    },
    {
     "name": "stderr",
     "output_type": "stream",
     "text": [
      "\r",
      " 91%|█████████ | 40/44 [1:34:56<07:47, 116.99s/it]"
     ]
    },
    {
     "name": "stdout",
     "output_type": "stream",
     "text": [
      "Found sufficient randomized data chunks\n",
      "Found sufficient randomized data chunks\n"
     ]
    },
    {
     "name": "stderr",
     "output_type": "stream",
     "text": [
      "\r",
      " 93%|█████████▎| 41/44 [1:36:40<05:38, 112.83s/it]"
     ]
    },
    {
     "name": "stdout",
     "output_type": "stream",
     "text": [
      "Found sufficient randomized data chunks\n",
      "Found sufficient randomized data chunks\n"
     ]
    },
    {
     "name": "stderr",
     "output_type": "stream",
     "text": [
      "\r",
      " 95%|█████████▌| 42/44 [1:39:09<04:07, 123.77s/it]"
     ]
    },
    {
     "name": "stdout",
     "output_type": "stream",
     "text": [
      "Found sufficient randomized data chunks\n",
      "Found sufficient randomized data chunks\n"
     ]
    },
    {
     "name": "stderr",
     "output_type": "stream",
     "text": [
      "\r",
      " 98%|█████████▊| 43/44 [1:40:57<01:59, 119.11s/it]"
     ]
    },
    {
     "name": "stdout",
     "output_type": "stream",
     "text": [
      "Imaging rates between aligned and session are incorrect, exiting:  29.32955815846582\n",
      "data_stm is empty (could not compute stm, skipping) IJ1pm_Apr7_30Hz\n"
     ]
    },
    {
     "name": "stderr",
     "output_type": "stream",
     "text": [
      "100%|██████████| 44/44 [1:41:08<00:00, 137.91s/it]\n",
      "  0%|          | 0/44 [00:00<?, ?it/s]"
     ]
    },
    {
     "name": "stdout",
     "output_type": "stream",
     "text": [
      "Imaging rates between aligned and session are incorrect, exiting:  29.32955815846582\n",
      "data_stm is empty (could not compute stm, skipping) IJ1pm_Apr7_30Hz\n",
      "PROCESSING:  IJ2\n",
      "Found sufficient randomized data chunks\n",
      "Found sufficient randomized data chunks\n"
     ]
    },
    {
     "name": "stderr",
     "output_type": "stream",
     "text": [
      "\r",
      "  2%|▏         | 1/44 [00:51<37:13, 51.94s/it]"
     ]
    },
    {
     "name": "stdout",
     "output_type": "stream",
     "text": [
      "Found sufficient randomized data chunks\n",
      "Found sufficient randomized data chunks\n"
     ]
    },
    {
     "name": "stderr",
     "output_type": "stream",
     "text": [
      "\r",
      "  5%|▍         | 2/44 [02:09<46:43, 66.76s/it]"
     ]
    },
    {
     "name": "stdout",
     "output_type": "stream",
     "text": [
      "Found sufficient randomized data chunks\n",
      "Found sufficient randomized data chunks\n"
     ]
    },
    {
     "name": "stderr",
     "output_type": "stream",
     "text": [
      "\r",
      "  7%|▋         | 3/44 [04:57<1:17:14, 113.05s/it]"
     ]
    },
    {
     "name": "stdout",
     "output_type": "stream",
     "text": [
      "Found sufficient randomized data chunks\n",
      "Found sufficient randomized data chunks\n"
     ]
    },
    {
     "name": "stderr",
     "output_type": "stream",
     "text": [
      "\r",
      "  9%|▉         | 4/44 [08:07<1:35:42, 143.57s/it]"
     ]
    },
    {
     "name": "stdout",
     "output_type": "stream",
     "text": [
      "Found sufficient randomized data chunks\n",
      "Found sufficient randomized data chunks\n"
     ]
    },
    {
     "name": "stderr",
     "output_type": "stream",
     "text": [
      "\r",
      " 11%|█▏        | 5/44 [11:41<1:49:52, 169.04s/it]"
     ]
    },
    {
     "name": "stdout",
     "output_type": "stream",
     "text": [
      "Imaging rates between aligned and session are incorrect, exiting:  29.86750178037435\n",
      "data_stm is empty (could not compute stm, skipping) IJ2pm_Feb9_30Hz\n"
     ]
    },
    {
     "name": "stderr",
     "output_type": "stream",
     "text": [
      "\r",
      " 14%|█▎        | 6/44 [11:52<1:12:56, 115.16s/it]"
     ]
    },
    {
     "name": "stdout",
     "output_type": "stream",
     "text": [
      "Imaging rates between aligned and session are incorrect, exiting:  29.86750178037435\n",
      "data_stm is empty (could not compute stm, skipping) IJ2pm_Feb9_30Hz\n",
      "Found sufficient randomized data chunks\n",
      "Found sufficient randomized data chunks\n"
     ]
    },
    {
     "name": "stderr",
     "output_type": "stream",
     "text": [
      "\r",
      " 16%|█▌        | 7/44 [14:49<1:23:30, 135.41s/it]"
     ]
    },
    {
     "name": "stdout",
     "output_type": "stream",
     "text": [
      "Found sufficient randomized data chunks\n",
      "Found sufficient randomized data chunks\n"
     ]
    },
    {
     "name": "stderr",
     "output_type": "stream",
     "text": [
      "\r",
      " 18%|█▊        | 8/44 [17:31<1:26:17, 143.83s/it]"
     ]
    },
    {
     "name": "stdout",
     "output_type": "stream",
     "text": [
      "Found sufficient randomized data chunks\n",
      "Found sufficient randomized data chunks\n"
     ]
    },
    {
     "name": "stderr",
     "output_type": "stream",
     "text": [
      "\r",
      " 20%|██        | 9/44 [19:18<1:17:14, 132.41s/it]"
     ]
    },
    {
     "name": "stdout",
     "output_type": "stream",
     "text": [
      "Imaging rates between aligned and session are incorrect, exiting:  29.88114874250808\n",
      "data_stm is empty (could not compute stm, skipping) IJ2pm_Feb15_30Hz\n"
     ]
    },
    {
     "name": "stderr",
     "output_type": "stream",
     "text": [
      "\r",
      " 23%|██▎       | 10/44 [19:29<53:43, 94.81s/it]  "
     ]
    },
    {
     "name": "stdout",
     "output_type": "stream",
     "text": [
      "Imaging rates between aligned and session are incorrect, exiting:  29.88114874250808\n",
      "data_stm is empty (could not compute stm, skipping) IJ2pm_Feb15_30Hz\n",
      "Found sufficient randomized data chunks\n",
      "Found sufficient randomized data chunks\n"
     ]
    },
    {
     "name": "stderr",
     "output_type": "stream",
     "text": [
      "\r",
      " 25%|██▌       | 11/44 [23:29<1:16:35, 139.27s/it]"
     ]
    },
    {
     "name": "stdout",
     "output_type": "stream",
     "text": [
      "Found sufficient randomized data chunks\n",
      "Found sufficient randomized data chunks\n"
     ]
    },
    {
     "name": "stderr",
     "output_type": "stream",
     "text": [
      "\r",
      " 27%|██▋       | 12/44 [24:26<1:00:56, 114.25s/it]"
     ]
    },
    {
     "name": "stdout",
     "output_type": "stream",
     "text": [
      "Found sufficient randomized data chunks\n",
      "Found sufficient randomized data chunks\n"
     ]
    },
    {
     "name": "stderr",
     "output_type": "stream",
     "text": [
      "\r",
      " 30%|██▉       | 13/44 [26:25<59:46, 115.71s/it]  "
     ]
    },
    {
     "name": "stdout",
     "output_type": "stream",
     "text": [
      "Found sufficient randomized data chunks\n",
      "Found sufficient randomized data chunks\n"
     ]
    },
    {
     "name": "stderr",
     "output_type": "stream",
     "text": [
      "\r",
      " 32%|███▏      | 14/44 [28:44<1:01:19, 122.66s/it]"
     ]
    },
    {
     "name": "stdout",
     "output_type": "stream",
     "text": [
      "Imaging rates between aligned and session are incorrect, exiting:  29.986168441059675\n",
      "data_stm is empty (could not compute stm, skipping) IJ2pm_Feb23_30Hz\n"
     ]
    },
    {
     "name": "stderr",
     "output_type": "stream",
     "text": [
      "\r",
      " 34%|███▍      | 15/44 [28:54<42:57, 88.88s/it]   "
     ]
    },
    {
     "name": "stdout",
     "output_type": "stream",
     "text": [
      "Imaging rates between aligned and session are incorrect, exiting:  29.986168441059675\n",
      "data_stm is empty (could not compute stm, skipping) IJ2pm_Feb23_30Hz\n",
      "locs 44 thrshold missing IJ2pm_Feb24_30Hz\n",
      " ... session does not have lever pulls  IJ2pm_Feb24_30Hz\n",
      "locs 44 thrshold missing IJ2pm_Feb25_30Hz\n",
      " ... session does not have lever pulls  IJ2pm_Feb25_30Hz\n",
      "Found sufficient randomized data chunks\n",
      "Found sufficient randomized data chunks\n"
     ]
    },
    {
     "name": "stderr",
     "output_type": "stream",
     "text": [
      "\r",
      " 41%|████      | 18/44 [33:01<36:52, 85.09s/it]"
     ]
    },
    {
     "name": "stdout",
     "output_type": "stream",
     "text": [
      "Found sufficient randomized data chunks\n",
      "Found sufficient randomized data chunks\n"
     ]
    },
    {
     "name": "stderr",
     "output_type": "stream",
     "text": [
      "\r",
      " 43%|████▎     | 19/44 [38:28<56:46, 136.28s/it]"
     ]
    },
    {
     "name": "stdout",
     "output_type": "stream",
     "text": [
      "Found sufficient randomized data chunks\n",
      "Found sufficient randomized data chunks\n"
     ]
    },
    {
     "name": "stderr",
     "output_type": "stream",
     "text": [
      "\r",
      " 45%|████▌     | 20/44 [41:54<1:01:02, 152.62s/it]"
     ]
    },
    {
     "name": "stdout",
     "output_type": "stream",
     "text": [
      "Found sufficient randomized data chunks\n",
      "Found sufficient randomized data chunks\n"
     ]
    },
    {
     "name": "stderr",
     "output_type": "stream",
     "text": [
      "\r",
      " 48%|████▊     | 21/44 [47:50<1:17:54, 203.25s/it]"
     ]
    },
    {
     "name": "stdout",
     "output_type": "stream",
     "text": [
      "Found sufficient randomized data chunks\n",
      "Found sufficient randomized data chunks\n"
     ]
    },
    {
     "name": "stderr",
     "output_type": "stream",
     "text": [
      "\r",
      " 50%|█████     | 22/44 [50:46<1:11:55, 196.15s/it]"
     ]
    },
    {
     "name": "stdout",
     "output_type": "stream",
     "text": [
      "Found sufficient randomized data chunks\n",
      "Found sufficient randomized data chunks\n"
     ]
    },
    {
     "name": "stderr",
     "output_type": "stream",
     "text": [
      "\r",
      " 52%|█████▏    | 23/44 [52:46<1:01:20, 175.24s/it]"
     ]
    },
    {
     "name": "stdout",
     "output_type": "stream",
     "text": [
      "Found sufficient randomized data chunks\n",
      "Found sufficient randomized data chunks\n"
     ]
    },
    {
     "name": "stderr",
     "output_type": "stream",
     "text": [
      "\r",
      " 55%|█████▍    | 24/44 [54:07<49:38, 148.93s/it]  "
     ]
    },
    {
     "name": "stdout",
     "output_type": "stream",
     "text": [
      "Found sufficient randomized data chunks\n",
      "Found sufficient randomized data chunks\n"
     ]
    },
    {
     "name": "stderr",
     "output_type": "stream",
     "text": [
      "\r",
      " 57%|█████▋    | 25/44 [57:19<50:59, 161.03s/it]"
     ]
    },
    {
     "name": "stdout",
     "output_type": "stream",
     "text": [
      "Found sufficient randomized data chunks\n",
      "Found sufficient randomized data chunks\n"
     ]
    },
    {
     "name": "stderr",
     "output_type": "stream",
     "text": [
      "\r",
      " 59%|█████▉    | 26/44 [1:00:54<53:00, 176.69s/it]"
     ]
    },
    {
     "name": "stdout",
     "output_type": "stream",
     "text": [
      "Found sufficient randomized data chunks\n",
      "Found sufficient randomized data chunks\n"
     ]
    },
    {
     "name": "stderr",
     "output_type": "stream",
     "text": [
      "\r",
      " 61%|██████▏   | 27/44 [1:04:21<52:37, 185.74s/it]"
     ]
    },
    {
     "name": "stdout",
     "output_type": "stream",
     "text": [
      "Found sufficient randomized data chunks\n",
      "Found sufficient randomized data chunks\n"
     ]
    },
    {
     "name": "stderr",
     "output_type": "stream",
     "text": [
      "\r",
      " 64%|██████▎   | 28/44 [1:06:15<43:53, 164.62s/it]"
     ]
    },
    {
     "name": "stdout",
     "output_type": "stream",
     "text": [
      "Found sufficient randomized data chunks\n",
      "Found sufficient randomized data chunks\n"
     ]
    },
    {
     "name": "stderr",
     "output_type": "stream",
     "text": [
      "\r",
      " 66%|██████▌   | 29/44 [1:08:11<37:32, 150.15s/it]"
     ]
    },
    {
     "name": "stdout",
     "output_type": "stream",
     "text": [
      "Found sufficient randomized data chunks\n",
      "Found sufficient randomized data chunks\n"
     ]
    },
    {
     "name": "stderr",
     "output_type": "stream",
     "text": [
      "\r",
      " 68%|██████▊   | 30/44 [1:10:50<35:40, 152.87s/it]"
     ]
    },
    {
     "name": "stdout",
     "output_type": "stream",
     "text": [
      "Found sufficient randomized data chunks\n",
      "Found sufficient randomized data chunks\n"
     ]
    },
    {
     "name": "stderr",
     "output_type": "stream",
     "text": [
      "\r",
      " 70%|███████   | 31/44 [1:12:18<28:52, 133.30s/it]"
     ]
    },
    {
     "name": "stdout",
     "output_type": "stream",
     "text": [
      "Found sufficient randomized data chunks\n",
      "Found sufficient randomized data chunks\n"
     ]
    },
    {
     "name": "stderr",
     "output_type": "stream",
     "text": [
      "\r",
      " 73%|███████▎  | 32/44 [1:15:06<28:45, 143.81s/it]"
     ]
    },
    {
     "name": "stdout",
     "output_type": "stream",
     "text": [
      "Found sufficient randomized data chunks\n",
      "Found sufficient randomized data chunks\n"
     ]
    },
    {
     "name": "stderr",
     "output_type": "stream",
     "text": [
      "\r",
      " 75%|███████▌  | 33/44 [1:17:33<26:31, 144.68s/it]"
     ]
    },
    {
     "name": "stdout",
     "output_type": "stream",
     "text": [
      "Found sufficient randomized data chunks\n",
      "Found sufficient randomized data chunks\n"
     ]
    },
    {
     "name": "stderr",
     "output_type": "stream",
     "text": [
      "\r",
      " 77%|███████▋  | 34/44 [1:21:54<29:55, 179.57s/it]"
     ]
    },
    {
     "name": "stdout",
     "output_type": "stream",
     "text": [
      "Found sufficient randomized data chunks\n",
      "Found sufficient randomized data chunks\n"
     ]
    },
    {
     "name": "stderr",
     "output_type": "stream",
     "text": [
      "\r",
      " 80%|███████▉  | 35/44 [1:24:04<24:41, 164.56s/it]"
     ]
    },
    {
     "name": "stdout",
     "output_type": "stream",
     "text": [
      "Found sufficient randomized data chunks\n",
      "Found sufficient randomized data chunks\n"
     ]
    },
    {
     "name": "stderr",
     "output_type": "stream",
     "text": [
      "\r",
      " 82%|████████▏ | 36/44 [1:26:43<21:45, 163.15s/it]"
     ]
    },
    {
     "name": "stdout",
     "output_type": "stream",
     "text": [
      "Found sufficient randomized data chunks\n",
      "Found sufficient randomized data chunks\n"
     ]
    },
    {
     "name": "stderr",
     "output_type": "stream",
     "text": [
      "\r",
      " 84%|████████▍ | 37/44 [1:29:52<19:54, 170.68s/it]"
     ]
    },
    {
     "name": "stdout",
     "output_type": "stream",
     "text": [
      "Found sufficient randomized data chunks\n",
      "Found sufficient randomized data chunks\n"
     ]
    },
    {
     "name": "stderr",
     "output_type": "stream",
     "text": [
      "\r",
      " 86%|████████▋ | 38/44 [1:33:47<19:00, 190.05s/it]"
     ]
    },
    {
     "name": "stdout",
     "output_type": "stream",
     "text": [
      "Found sufficient randomized data chunks\n",
      "Found sufficient randomized data chunks\n"
     ]
    },
    {
     "name": "stderr",
     "output_type": "stream",
     "text": [
      "\r",
      " 89%|████████▊ | 39/44 [1:35:57<14:20, 172.11s/it]"
     ]
    },
    {
     "name": "stdout",
     "output_type": "stream",
     "text": [
      "Found sufficient randomized data chunks\n",
      "Found sufficient randomized data chunks\n"
     ]
    },
    {
     "name": "stderr",
     "output_type": "stream",
     "text": [
      "\r",
      " 91%|█████████ | 40/44 [1:39:51<12:42, 190.64s/it]"
     ]
    },
    {
     "name": "stdout",
     "output_type": "stream",
     "text": [
      "Found sufficient randomized data chunks\n",
      "Found sufficient randomized data chunks\n"
     ]
    },
    {
     "name": "stderr",
     "output_type": "stream",
     "text": [
      "\r",
      " 93%|█████████▎| 41/44 [1:44:54<11:12, 224.20s/it]"
     ]
    },
    {
     "name": "stdout",
     "output_type": "stream",
     "text": [
      "Found sufficient randomized data chunks\n",
      "Found sufficient randomized data chunks\n"
     ]
    },
    {
     "name": "stderr",
     "output_type": "stream",
     "text": [
      "\r",
      " 95%|█████████▌| 42/44 [1:48:28<07:22, 221.30s/it]"
     ]
    },
    {
     "name": "stdout",
     "output_type": "stream",
     "text": [
      "Found sufficient randomized data chunks\n",
      "Found sufficient randomized data chunks\n"
     ]
    },
    {
     "name": "stderr",
     "output_type": "stream",
     "text": [
      "\r",
      " 98%|█████████▊| 43/44 [1:50:35<03:12, 192.95s/it]"
     ]
    },
    {
     "name": "stdout",
     "output_type": "stream",
     "text": [
      "Found sufficient randomized data chunks\n",
      "Found sufficient randomized data chunks\n"
     ]
    },
    {
     "name": "stderr",
     "output_type": "stream",
     "text": [
      "100%|██████████| 44/44 [1:53:51<00:00, 155.26s/it]\n",
      "  0%|          | 0/110 [00:00<?, ?it/s]/home/cat/code/widefieldPredict/ProcessCalcium.py:108: FutureWarning: elementwise comparison failed; returning scalar instead, but in the future will perform elementwise comparison\n",
      "  idx = np.where(codes==code)[0]\n"
     ]
    },
    {
     "name": "stdout",
     "output_type": "stream",
     "text": [
      "PROCESSING:  AQ2\n",
      " ... session does not have lever pulls  AQ2am_Dec9_30Hz\n",
      " ... session does not have lever pulls  AQ2am_Dec10_30Hz\n",
      " ... session does not have lever pulls  AQ2pm_Dec10_30Hz\n",
      "Found sufficient randomized data chunks\n",
      "Found sufficient randomized data chunks\n"
     ]
    },
    {
     "name": "stderr",
     "output_type": "stream",
     "text": [
      "\r",
      "  4%|▎         | 4/110 [00:40<17:57, 10.17s/it]"
     ]
    },
    {
     "name": "stdout",
     "output_type": "stream",
     "text": [
      "Found sufficient randomized data chunks\n",
      "Found sufficient randomized data chunks\n"
     ]
    },
    {
     "name": "stderr",
     "output_type": "stream",
     "text": [
      "  5%|▍         | 5/110 [01:22<32:20, 18.48s/it]/home/cat/code/widefieldPredict/ProcessCalcium.py:108: FutureWarning: elementwise comparison failed; returning scalar instead, but in the future will perform elementwise comparison\n",
      "  idx = np.where(codes==code)[0]\n"
     ]
    },
    {
     "name": "stdout",
     "output_type": "stream",
     "text": [
      " ... session does not have lever pulls  AQ2am_Dec14_30Hz\n",
      "Found sufficient randomized data chunks\n",
      "Found sufficient randomized data chunks\n"
     ]
    },
    {
     "name": "stderr",
     "output_type": "stream",
     "text": [
      "\r",
      "  6%|▋         | 7/110 [02:58<53:27, 31.15s/it]"
     ]
    },
    {
     "name": "stdout",
     "output_type": "stream",
     "text": [
      "Found sufficient randomized data chunks\n",
      "Found sufficient randomized data chunks\n"
     ]
    },
    {
     "name": "stderr",
     "output_type": "stream",
     "text": [
      "\r",
      "  7%|▋         | 8/110 [04:14<1:10:55, 41.72s/it]"
     ]
    },
    {
     "name": "stdout",
     "output_type": "stream",
     "text": [
      "Found sufficient randomized data chunks\n",
      "Found sufficient randomized data chunks\n"
     ]
    },
    {
     "name": "stderr",
     "output_type": "stream",
     "text": [
      "\r",
      "  8%|▊         | 9/110 [04:47<1:06:39, 39.60s/it]"
     ]
    },
    {
     "name": "stdout",
     "output_type": "stream",
     "text": [
      "Found sufficient randomized data chunks\n",
      "Found sufficient randomized data chunks\n"
     ]
    },
    {
     "name": "stderr",
     "output_type": "stream",
     "text": [
      "\r",
      "  9%|▉         | 10/110 [05:28<1:06:32, 39.93s/it]"
     ]
    },
    {
     "name": "stdout",
     "output_type": "stream",
     "text": [
      "Found sufficient randomized data chunks\n",
      "Found sufficient randomized data chunks\n"
     ]
    },
    {
     "name": "stderr",
     "output_type": "stream",
     "text": [
      "\r",
      " 10%|█         | 11/110 [06:01<1:02:39, 37.98s/it]"
     ]
    },
    {
     "name": "stdout",
     "output_type": "stream",
     "text": [
      "Found sufficient randomized data chunks\n",
      "Found sufficient randomized data chunks\n"
     ]
    },
    {
     "name": "stderr",
     "output_type": "stream",
     "text": [
      " 11%|█         | 12/110 [06:23<54:47, 33.55s/it]  /home/cat/code/widefieldPredict/ProcessCalcium.py:108: FutureWarning: elementwise comparison failed; returning scalar instead, but in the future will perform elementwise comparison\n",
      "  idx = np.where(codes==code)[0]\n"
     ]
    },
    {
     "name": "stdout",
     "output_type": "stream",
     "text": [
      " ... session does not have lever pulls  AQ2am_Dec22_30Hz\n",
      " ... session does not have lever pulls  AQ2am_Dec23_30Hz\n",
      "Found sufficient randomized data chunks\n",
      "Found sufficient randomized data chunks\n"
     ]
    },
    {
     "name": "stderr",
     "output_type": "stream",
     "text": [
      "\r",
      " 14%|█▎        | 15/110 [08:08<54:26, 34.38s/it]"
     ]
    },
    {
     "name": "stdout",
     "output_type": "stream",
     "text": [
      "Found sufficient randomized data chunks\n",
      "Found sufficient randomized data chunks\n"
     ]
    },
    {
     "name": "stderr",
     "output_type": "stream",
     "text": [
      "\r",
      " 15%|█▍        | 16/110 [10:26<1:27:10, 55.64s/it]"
     ]
    },
    {
     "name": "stdout",
     "output_type": "stream",
     "text": [
      "Imaging rates between aligned and session are incorrect, exiting:  0.3096286204551007\n",
      "data_stm is empty (could not compute stm, skipping) AQ2am_Dec30_30Hz\n"
     ]
    },
    {
     "name": "stderr",
     "output_type": "stream",
     "text": [
      "\r",
      " 15%|█▌        | 17/110 [10:36<1:10:16, 45.34s/it]"
     ]
    },
    {
     "name": "stdout",
     "output_type": "stream",
     "text": [
      "Imaging rates between aligned and session are incorrect, exiting:  0.3096286204551007\n",
      "data_stm is empty (could not compute stm, skipping) AQ2am_Dec30_30Hz\n",
      "Found sufficient randomized data chunks\n",
      "Found sufficient randomized data chunks\n"
     ]
    },
    {
     "name": "stderr",
     "output_type": "stream",
     "text": [
      "\r",
      " 16%|█▋        | 18/110 [15:02<2:32:23, 99.39s/it]"
     ]
    },
    {
     "name": "stdout",
     "output_type": "stream",
     "text": [
      "Found sufficient randomized data chunks\n",
      "Found sufficient randomized data chunks\n"
     ]
    },
    {
     "name": "stderr",
     "output_type": "stream",
     "text": [
      "\r",
      " 17%|█▋        | 19/110 [18:19<3:09:26, 124.91s/it]"
     ]
    },
    {
     "name": "stdout",
     "output_type": "stream",
     "text": [
      "Found sufficient randomized data chunks\n",
      "Found sufficient randomized data chunks\n"
     ]
    },
    {
     "name": "stderr",
     "output_type": "stream",
     "text": [
      "\r",
      " 18%|█▊        | 20/110 [21:22<3:30:37, 140.41s/it]"
     ]
    },
    {
     "name": "stdout",
     "output_type": "stream",
     "text": [
      "Found sufficient randomized data chunks\n",
      "Found sufficient randomized data chunks\n"
     ]
    },
    {
     "name": "stderr",
     "output_type": "stream",
     "text": [
      "\r",
      " 19%|█▉        | 21/110 [24:54<3:57:59, 160.44s/it]"
     ]
    },
    {
     "name": "stdout",
     "output_type": "stream",
     "text": [
      "Found sufficient randomized data chunks\n",
      "Found sufficient randomized data chunks\n"
     ]
    },
    {
     "name": "stderr",
     "output_type": "stream",
     "text": [
      "\r",
      " 20%|██        | 22/110 [25:23<3:00:35, 123.13s/it]"
     ]
    },
    {
     "name": "stdout",
     "output_type": "stream",
     "text": [
      "Found sufficient randomized data chunks\n",
      "Found sufficient randomized data chunks\n"
     ]
    },
    {
     "name": "stderr",
     "output_type": "stream",
     "text": [
      "\r",
      " 21%|██        | 23/110 [27:08<2:50:44, 117.75s/it]"
     ]
    },
    {
     "name": "stdout",
     "output_type": "stream",
     "text": [
      "Found sufficient randomized data chunks\n",
      "Found sufficient randomized data chunks\n"
     ]
    },
    {
     "name": "stderr",
     "output_type": "stream",
     "text": [
      " 22%|██▏       | 24/110 [28:24<2:31:24, 105.64s/it]/home/cat/code/widefieldPredict/ProcessCalcium.py:108: FutureWarning: elementwise comparison failed; returning scalar instead, but in the future will perform elementwise comparison\n",
      "  idx = np.where(codes==code)[0]\n"
     ]
    },
    {
     "name": "stdout",
     "output_type": "stream",
     "text": [
      " ... session does not have lever pulls  AQ2am_Jan11_30Hz\n",
      "Found sufficient randomized data chunks\n",
      "Found sufficient randomized data chunks\n"
     ]
    },
    {
     "name": "stderr",
     "output_type": "stream",
     "text": [
      "\r",
      " 24%|██▎       | 26/110 [28:48<1:28:05, 62.93s/it] "
     ]
    },
    {
     "name": "stdout",
     "output_type": "stream",
     "text": [
      " ... session does not have lever pulls  AQ2am_Jan12_30Hz\n",
      "Found sufficient randomized data chunks\n",
      "Found sufficient randomized data chunks\n"
     ]
    },
    {
     "name": "stderr",
     "output_type": "stream",
     "text": [
      "\r",
      " 25%|██▌       | 28/110 [31:21<1:33:19, 68.28s/it]"
     ]
    },
    {
     "name": "stdout",
     "output_type": "stream",
     "text": [
      "Found sufficient randomized data chunks\n",
      "Found sufficient randomized data chunks\n"
     ]
    },
    {
     "name": "stderr",
     "output_type": "stream",
     "text": [
      "\r",
      " 26%|██▋       | 29/110 [34:55<2:15:26, 100.33s/it]"
     ]
    },
    {
     "name": "stdout",
     "output_type": "stream",
     "text": [
      "Found sufficient randomized data chunks\n",
      "Found sufficient randomized data chunks\n"
     ]
    },
    {
     "name": "stderr",
     "output_type": "stream",
     "text": [
      "\r",
      " 27%|██▋       | 30/110 [37:21<2:28:15, 111.19s/it]"
     ]
    },
    {
     "name": "stdout",
     "output_type": "stream",
     "text": [
      "Found sufficient randomized data chunks\n",
      "Found sufficient randomized data chunks\n"
     ]
    },
    {
     "name": "stderr",
     "output_type": "stream",
     "text": [
      "\r",
      " 28%|██▊       | 31/110 [39:59<2:42:17, 123.26s/it]"
     ]
    },
    {
     "name": "stdout",
     "output_type": "stream",
     "text": [
      "Found sufficient randomized data chunks\n",
      "Found sufficient randomized data chunks\n"
     ]
    },
    {
     "name": "stderr",
     "output_type": "stream",
     "text": [
      "\r",
      " 29%|██▉       | 32/110 [41:45<2:33:57, 118.43s/it]"
     ]
    },
    {
     "name": "stdout",
     "output_type": "stream",
     "text": [
      "Found sufficient randomized data chunks\n",
      "Found sufficient randomized data chunks\n"
     ]
    },
    {
     "name": "stderr",
     "output_type": "stream",
     "text": [
      "\r",
      " 30%|███       | 33/110 [46:18<3:26:47, 161.14s/it]"
     ]
    },
    {
     "name": "stdout",
     "output_type": "stream",
     "text": [
      " ... session does not have lever pulls  AQ2pm_Jan18_30Hz\n",
      "Found sufficient randomized data chunks\n",
      "Found sufficient randomized data chunks\n"
     ]
    },
    {
     "name": "stderr",
     "output_type": "stream",
     "text": [
      "\r",
      " 32%|███▏      | 35/110 [47:14<2:08:06, 102.49s/it]"
     ]
    },
    {
     "name": "stdout",
     "output_type": "stream",
     "text": [
      " ... session does not have lever pulls  AQ2am_Jan19_30Hz\n",
      " ... session does not have lever pulls  AQ2pm_Jan19_30Hz\n",
      " ... session does not have lever pulls  AQ2pm_Jan20_30Hz\n",
      "Found sufficient randomized data chunks\n",
      "Found sufficient randomized data chunks\n"
     ]
    },
    {
     "name": "stderr",
     "output_type": "stream",
     "text": [
      "\r",
      " 35%|███▌      | 39/110 [47:37<57:31, 48.62s/it]   "
     ]
    },
    {
     "name": "stdout",
     "output_type": "stream",
     "text": [
      " ... session does not have lever pulls  AQ2pm_Jan21_30Hz\n",
      " ... session does not have lever pulls  AQ2am_Jan21_30Hz\n",
      "Found sufficient randomized data chunks\n",
      "Found sufficient randomized data chunks\n"
     ]
    },
    {
     "name": "stderr",
     "output_type": "stream",
     "text": [
      "\r",
      " 38%|███▊      | 42/110 [48:00<37:45, 33.32s/it]"
     ]
    },
    {
     "name": "stdout",
     "output_type": "stream",
     "text": [
      "Found sufficient randomized data chunks\n",
      "Found sufficient randomized data chunks\n"
     ]
    },
    {
     "name": "stderr",
     "output_type": "stream",
     "text": [
      "\r",
      " 39%|███▉      | 43/110 [48:30<36:37, 32.80s/it]"
     ]
    },
    {
     "name": "stdout",
     "output_type": "stream",
     "text": [
      " ... session does not have lever pulls  AQ2am_Jan25_30Hz\n",
      " ... session does not have lever pulls  AQ2pm_Jan25_30Hz\n",
      " ... session does not have lever pulls  AQ2pm_Jan26_30Hz\n",
      " ... session does not have lever pulls  AQ2am_Jan26_30Hz\n",
      "Found sufficient randomized data chunks\n",
      "Found sufficient randomized data chunks\n"
     ]
    },
    {
     "name": "stderr",
     "output_type": "stream",
     "text": [
      "\r",
      " 44%|████▎     | 48/110 [48:56<19:00, 18.39s/it]"
     ]
    },
    {
     "name": "stdout",
     "output_type": "stream",
     "text": [
      "Found sufficient randomized data chunks\n",
      "Found sufficient randomized data chunks\n"
     ]
    },
    {
     "name": "stderr",
     "output_type": "stream",
     "text": [
      "\r",
      " 45%|████▍     | 49/110 [52:21<43:17, 42.58s/it]"
     ]
    },
    {
     "name": "stdout",
     "output_type": "stream",
     "text": [
      "Found sufficient randomized data chunks\n",
      "Found sufficient randomized data chunks\n"
     ]
    },
    {
     "name": "stderr",
     "output_type": "stream",
     "text": [
      "\r",
      " 45%|████▌     | 50/110 [55:18<1:03:30, 63.51s/it]"
     ]
    },
    {
     "name": "stdout",
     "output_type": "stream",
     "text": [
      "Found sufficient randomized data chunks\n",
      "Found sufficient randomized data chunks\n"
     ]
    },
    {
     "name": "stderr",
     "output_type": "stream",
     "text": [
      "\r",
      " 46%|████▋     | 51/110 [59:05<1:31:44, 93.30s/it]"
     ]
    },
    {
     "name": "stdout",
     "output_type": "stream",
     "text": [
      "Found sufficient randomized data chunks\n",
      "Found sufficient randomized data chunks\n"
     ]
    },
    {
     "name": "stderr",
     "output_type": "stream",
     "text": [
      "\r",
      " 47%|████▋     | 52/110 [1:01:54<1:45:09, 108.79s/it]"
     ]
    },
    {
     "name": "stdout",
     "output_type": "stream",
     "text": [
      "Found sufficient randomized data chunks\n",
      "Found sufficient randomized data chunks\n"
     ]
    },
    {
     "name": "stderr",
     "output_type": "stream",
     "text": [
      "\r",
      " 48%|████▊     | 53/110 [1:04:20<1:51:31, 117.40s/it]"
     ]
    },
    {
     "name": "stdout",
     "output_type": "stream",
     "text": [
      "Found sufficient randomized data chunks\n",
      "Found sufficient randomized data chunks\n"
     ]
    },
    {
     "name": "stderr",
     "output_type": "stream",
     "text": [
      "\r",
      " 49%|████▉     | 54/110 [1:08:20<2:17:41, 147.53s/it]"
     ]
    },
    {
     "name": "stdout",
     "output_type": "stream",
     "text": [
      "Found sufficient randomized data chunks\n",
      "Found sufficient randomized data chunks\n"
     ]
    },
    {
     "name": "stderr",
     "output_type": "stream",
     "text": [
      "\r",
      " 50%|█████     | 55/110 [1:13:01<2:47:00, 182.18s/it]"
     ]
    },
    {
     "name": "stdout",
     "output_type": "stream",
     "text": [
      "Found sufficient randomized data chunks\n",
      "Found sufficient randomized data chunks\n"
     ]
    },
    {
     "name": "stderr",
     "output_type": "stream",
     "text": [
      "\r",
      " 51%|█████     | 56/110 [1:14:34<2:22:15, 158.06s/it]"
     ]
    },
    {
     "name": "stdout",
     "output_type": "stream",
     "text": [
      "Found sufficient randomized data chunks\n",
      "Found sufficient randomized data chunks\n"
     ]
    },
    {
     "name": "stderr",
     "output_type": "stream",
     "text": [
      "\r",
      " 52%|█████▏    | 57/110 [1:18:54<2:44:44, 186.49s/it]"
     ]
    },
    {
     "name": "stdout",
     "output_type": "stream",
     "text": [
      "Found sufficient randomized data chunks\n",
      "Found sufficient randomized data chunks\n"
     ]
    },
    {
     "name": "stderr",
     "output_type": "stream",
     "text": [
      "\r",
      " 53%|█████▎    | 58/110 [1:24:12<3:13:55, 223.76s/it]"
     ]
    },
    {
     "name": "stdout",
     "output_type": "stream",
     "text": [
      "Found sufficient randomized data chunks\n",
      "Found sufficient randomized data chunks\n"
     ]
    },
    {
     "name": "stderr",
     "output_type": "stream",
     "text": [
      "\r",
      " 54%|█████▎    | 59/110 [1:29:30<3:33:23, 251.05s/it]"
     ]
    },
    {
     "name": "stdout",
     "output_type": "stream",
     "text": [
      "Found sufficient randomized data chunks\n",
      "Found sufficient randomized data chunks\n"
     ]
    },
    {
     "name": "stderr",
     "output_type": "stream",
     "text": [
      "\r",
      " 55%|█████▍    | 60/110 [1:36:35<4:11:42, 302.05s/it]"
     ]
    },
    {
     "name": "stdout",
     "output_type": "stream",
     "text": [
      "Found sufficient randomized data chunks\n",
      "Found sufficient randomized data chunks\n"
     ]
    },
    {
     "name": "stderr",
     "output_type": "stream",
     "text": [
      "\r",
      " 55%|█████▌    | 61/110 [1:45:27<5:01:54, 369.69s/it]"
     ]
    },
    {
     "name": "stdout",
     "output_type": "stream",
     "text": [
      "Found sufficient randomized data chunks\n",
      "Found sufficient randomized data chunks\n"
     ]
    },
    {
     "name": "stderr",
     "output_type": "stream",
     "text": [
      "\r",
      " 56%|█████▋    | 62/110 [1:51:38<4:56:03, 370.07s/it]"
     ]
    },
    {
     "name": "stdout",
     "output_type": "stream",
     "text": [
      "Found sufficient randomized data chunks\n",
      "Found sufficient randomized data chunks\n"
     ]
    },
    {
     "name": "stderr",
     "output_type": "stream",
     "text": [
      "\r",
      " 57%|█████▋    | 63/110 [1:57:45<4:49:14, 369.24s/it]"
     ]
    },
    {
     "name": "stdout",
     "output_type": "stream",
     "text": [
      "Found sufficient randomized data chunks\n",
      "Found sufficient randomized data chunks\n"
     ]
    },
    {
     "name": "stderr",
     "output_type": "stream",
     "text": [
      "\r",
      " 58%|█████▊    | 64/110 [2:03:03<4:31:19, 353.91s/it]"
     ]
    },
    {
     "name": "stdout",
     "output_type": "stream",
     "text": [
      "Found sufficient randomized data chunks\n",
      "Found sufficient randomized data chunks\n"
     ]
    },
    {
     "name": "stderr",
     "output_type": "stream",
     "text": [
      "\r",
      " 59%|█████▉    | 65/110 [2:09:43<4:35:43, 367.64s/it]"
     ]
    },
    {
     "name": "stdout",
     "output_type": "stream",
     "text": [
      "Found sufficient randomized data chunks\n",
      "Found sufficient randomized data chunks\n"
     ]
    },
    {
     "name": "stderr",
     "output_type": "stream",
     "text": [
      "\r",
      " 60%|██████    | 66/110 [2:14:26<4:10:58, 342.23s/it]"
     ]
    },
    {
     "name": "stdout",
     "output_type": "stream",
     "text": [
      "Found sufficient randomized data chunks\n",
      "Found sufficient randomized data chunks\n"
     ]
    },
    {
     "name": "stderr",
     "output_type": "stream",
     "text": [
      "\r",
      " 61%|██████    | 67/110 [2:20:40<4:12:05, 351.75s/it]"
     ]
    },
    {
     "name": "stdout",
     "output_type": "stream",
     "text": [
      "Found sufficient randomized data chunks\n",
      "Found sufficient randomized data chunks\n"
     ]
    },
    {
     "name": "stderr",
     "output_type": "stream",
     "text": [
      "\r",
      " 62%|██████▏   | 68/110 [2:26:18<4:03:18, 347.58s/it]"
     ]
    },
    {
     "name": "stdout",
     "output_type": "stream",
     "text": [
      "zero length recording exiting (excitation light failure) AQ2am_Feb25_30Hz\n",
      "data_stm is empty (could not compute stm, skipping) AQ2am_Feb25_30Hz\n"
     ]
    },
    {
     "name": "stderr",
     "output_type": "stream",
     "text": [
      "\r",
      " 63%|██████▎   | 69/110 [2:26:28<2:48:27, 246.53s/it]"
     ]
    },
    {
     "name": "stdout",
     "output_type": "stream",
     "text": [
      "zero length recording exiting (excitation light failure) AQ2am_Feb25_30Hz\n",
      "data_stm is empty (could not compute stm, skipping) AQ2am_Feb25_30Hz\n",
      "Found sufficient randomized data chunks\n",
      "Found sufficient randomized data chunks\n"
     ]
    },
    {
     "name": "stderr",
     "output_type": "stream",
     "text": [
      "\r",
      " 64%|██████▎   | 70/110 [2:30:23<2:42:08, 243.21s/it]"
     ]
    },
    {
     "name": "stdout",
     "output_type": "stream",
     "text": [
      "Found sufficient randomized data chunks\n",
      "Found sufficient randomized data chunks\n"
     ]
    },
    {
     "name": "stderr",
     "output_type": "stream",
     "text": [
      "\r",
      " 65%|██████▍   | 71/110 [2:35:07<2:45:58, 255.35s/it]"
     ]
    },
    {
     "name": "stdout",
     "output_type": "stream",
     "text": [
      "Found sufficient randomized data chunks\n",
      "Found sufficient randomized data chunks\n"
     ]
    },
    {
     "name": "stderr",
     "output_type": "stream",
     "text": [
      "\r",
      " 65%|██████▌   | 72/110 [2:41:00<3:00:18, 284.71s/it]"
     ]
    },
    {
     "name": "stdout",
     "output_type": "stream",
     "text": [
      "Found sufficient randomized data chunks\n",
      "Found sufficient randomized data chunks\n"
     ]
    },
    {
     "name": "stderr",
     "output_type": "stream",
     "text": [
      "\r",
      " 66%|██████▋   | 73/110 [2:44:19<2:39:40, 258.93s/it]"
     ]
    },
    {
     "name": "stdout",
     "output_type": "stream",
     "text": [
      "Found sufficient randomized data chunks\n",
      "Found sufficient randomized data chunks\n"
     ]
    },
    {
     "name": "stderr",
     "output_type": "stream",
     "text": [
      "\r",
      " 67%|██████▋   | 74/110 [2:50:25<2:54:31, 290.88s/it]"
     ]
    },
    {
     "name": "stdout",
     "output_type": "stream",
     "text": [
      "Found sufficient randomized data chunks\n",
      "Found sufficient randomized data chunks\n"
     ]
    },
    {
     "name": "stderr",
     "output_type": "stream",
     "text": [
      "\r",
      " 68%|██████▊   | 75/110 [2:55:06<2:48:05, 288.15s/it]"
     ]
    },
    {
     "name": "stdout",
     "output_type": "stream",
     "text": [
      "Found sufficient randomized data chunks\n",
      "Found sufficient randomized data chunks\n"
     ]
    },
    {
     "name": "stderr",
     "output_type": "stream",
     "text": [
      "\r",
      " 69%|██████▉   | 76/110 [2:58:10<2:25:34, 256.89s/it]"
     ]
    },
    {
     "name": "stdout",
     "output_type": "stream",
     "text": [
      "Found sufficient randomized data chunks\n",
      "Found sufficient randomized data chunks\n"
     ]
    },
    {
     "name": "stderr",
     "output_type": "stream",
     "text": [
      "\r",
      " 70%|███████   | 77/110 [3:02:48<2:24:38, 263.00s/it]"
     ]
    },
    {
     "name": "stdout",
     "output_type": "stream",
     "text": [
      "Found sufficient randomized data chunks\n",
      "Found sufficient randomized data chunks\n"
     ]
    },
    {
     "name": "stderr",
     "output_type": "stream",
     "text": [
      "\r",
      " 71%|███████   | 78/110 [3:07:49<2:26:21, 274.43s/it]"
     ]
    },
    {
     "name": "stdout",
     "output_type": "stream",
     "text": [
      "Found sufficient randomized data chunks\n",
      "Found sufficient randomized data chunks\n"
     ]
    },
    {
     "name": "stderr",
     "output_type": "stream",
     "text": [
      "\r",
      " 72%|███████▏  | 79/110 [3:14:36<2:42:27, 314.43s/it]"
     ]
    },
    {
     "name": "stdout",
     "output_type": "stream",
     "text": [
      "Found sufficient randomized data chunks\n",
      "Found sufficient randomized data chunks\n"
     ]
    },
    {
     "name": "stderr",
     "output_type": "stream",
     "text": [
      "\r",
      " 73%|███████▎  | 80/110 [3:19:59<2:38:28, 316.97s/it]"
     ]
    },
    {
     "name": "stdout",
     "output_type": "stream",
     "text": [
      "Found sufficient randomized data chunks\n",
      "Found sufficient randomized data chunks\n"
     ]
    },
    {
     "name": "stderr",
     "output_type": "stream",
     "text": [
      "\r",
      " 74%|███████▎  | 81/110 [3:24:55<2:30:10, 310.72s/it]"
     ]
    },
    {
     "name": "stdout",
     "output_type": "stream",
     "text": [
      "Found sufficient randomized data chunks\n",
      "Found sufficient randomized data chunks\n"
     ]
    },
    {
     "name": "stderr",
     "output_type": "stream",
     "text": [
      "\r",
      " 75%|███████▍  | 82/110 [3:31:45<2:38:49, 340.33s/it]"
     ]
    },
    {
     "name": "stdout",
     "output_type": "stream",
     "text": [
      "Found sufficient randomized data chunks\n",
      "Found sufficient randomized data chunks\n"
     ]
    },
    {
     "name": "stderr",
     "output_type": "stream",
     "text": [
      "\r",
      " 75%|███████▌  | 83/110 [3:34:16<2:07:36, 283.57s/it]"
     ]
    },
    {
     "name": "stdout",
     "output_type": "stream",
     "text": [
      "Found sufficient randomized data chunks\n",
      "Found sufficient randomized data chunks\n"
     ]
    },
    {
     "name": "stderr",
     "output_type": "stream",
     "text": [
      "\r",
      " 76%|███████▋  | 84/110 [3:38:05<1:55:46, 267.18s/it]"
     ]
    },
    {
     "name": "stdout",
     "output_type": "stream",
     "text": [
      "Found sufficient randomized data chunks\n",
      "Found sufficient randomized data chunks\n"
     ]
    },
    {
     "name": "stderr",
     "output_type": "stream",
     "text": [
      "\r",
      " 77%|███████▋  | 85/110 [3:42:27<1:50:41, 265.65s/it]"
     ]
    },
    {
     "name": "stdout",
     "output_type": "stream",
     "text": [
      "Found sufficient randomized data chunks\n",
      "Found sufficient randomized data chunks\n"
     ]
    },
    {
     "name": "stderr",
     "output_type": "stream",
     "text": [
      "\r",
      " 78%|███████▊  | 86/110 [3:48:02<1:54:31, 286.33s/it]"
     ]
    },
    {
     "name": "stdout",
     "output_type": "stream",
     "text": [
      "Found sufficient randomized data chunks\n",
      "Found sufficient randomized data chunks\n"
     ]
    },
    {
     "name": "stderr",
     "output_type": "stream",
     "text": [
      "\r",
      " 79%|███████▉  | 87/110 [3:52:30<1:47:43, 281.04s/it]"
     ]
    },
    {
     "name": "stdout",
     "output_type": "stream",
     "text": [
      "Found sufficient randomized data chunks\n",
      "Found sufficient randomized data chunks\n"
     ]
    },
    {
     "name": "stderr",
     "output_type": "stream",
     "text": [
      "\r",
      " 80%|████████  | 88/110 [3:59:44<1:59:49, 326.80s/it]"
     ]
    },
    {
     "name": "stdout",
     "output_type": "stream",
     "text": [
      "Found sufficient randomized data chunks\n",
      "Found sufficient randomized data chunks\n"
     ]
    },
    {
     "name": "stderr",
     "output_type": "stream",
     "text": [
      "\r",
      " 81%|████████  | 89/110 [4:04:53<1:52:32, 321.55s/it]"
     ]
    },
    {
     "name": "stdout",
     "output_type": "stream",
     "text": [
      "Found sufficient randomized data chunks\n",
      "Found sufficient randomized data chunks\n"
     ]
    },
    {
     "name": "stderr",
     "output_type": "stream",
     "text": [
      "\r",
      " 82%|████████▏ | 90/110 [4:10:57<1:51:23, 334.16s/it]"
     ]
    },
    {
     "name": "stdout",
     "output_type": "stream",
     "text": [
      "Found sufficient randomized data chunks\n",
      "Found sufficient randomized data chunks\n"
     ]
    }
   ],
   "source": [
    "###########################################################################\n",
    "##### PROCESS [CA] DATA (EVENT TRIGGERED MAPS): ROI OR PCA TIME SERIES ####\n",
    "###########################################################################\n",
    "'''  Compute calcium activity in ROIs selected (35) for \n",
    "     lever pull actiivty\n",
    "     \n",
    "     or just use PCA time courses \n",
    "'''\n",
    "\n",
    "# Processing flags\n",
    "parallel = False\n",
    "n_cores = 3\n",
    "\n",
    "# select animal names\n",
    "names = ['IA1','IA2','IA3','IJ1','IJ2','AQ2'] # \"AR4\" and other datase\n",
    "#names = ['IJ2']\n",
    "\n",
    "# window to compute\n",
    "n_sec_window = 30\n",
    "lockout_window = 10\n",
    "recompute = True  # overwrite previously generated data\n",
    "\n",
    "# save PCA vs. ROI data; if selected, each dataset will be reduced to the PCs rquired to get to the explained var value\n",
    "pca_etm = True\n",
    "pca_explained_var_val = 0.95\n",
    "#\n",
    "# \n",
    "etm = ProcessCalcium()\n",
    "etm.main_dir = data_dir\n",
    "\n",
    "#\n",
    "etm.random_events_lockout = 3.0  # minimum number of seconds difference between a rewarded pull and a random/control \n",
    "etm.n_sec_window = n_sec_window \n",
    "etm.recompute = recompute\n",
    "etm.pca_fixed_comps = None  # fixed numer of components overrides explained_variance amount above\n",
    "\n",
    "#\n",
    "#sessions = ['Feb29', 'Mar1_', 'Mar2_', 'Mar3_', 'Mar7_']  #or 'all'\n",
    "sessions = ['all']\n",
    "#\n",
    "for session in sessions:\n",
    "    # \n",
    "    etm.sessions = session\n",
    "\n",
    "    # \n",
    "    etm.generate_etm(names,\n",
    "                     n_sec_window,\n",
    "                     lockout_window,\n",
    "                     recompute,\n",
    "                     pca_etm,\n",
    "                     pca_explained_var_val,\n",
    "                     parallel,\n",
    "                     n_cores,\n",
    "                     )                \n",
    "                "
   ]
  },
  {
   "cell_type": "code",
   "execution_count": null,
   "metadata": {},
   "outputs": [],
   "source": []
  },
  {
   "cell_type": "code",
   "execution_count": null,
   "metadata": {},
   "outputs": [],
   "source": []
  },
  {
   "cell_type": "code",
   "execution_count": null,
   "metadata": {},
   "outputs": [],
   "source": []
  },
  {
   "cell_type": "code",
   "execution_count": null,
   "metadata": {},
   "outputs": [],
   "source": []
  },
  {
   "cell_type": "code",
   "execution_count": null,
   "metadata": {},
   "outputs": [],
   "source": []
  },
  {
   "cell_type": "code",
   "execution_count": null,
   "metadata": {},
   "outputs": [],
   "source": []
  },
  {
   "cell_type": "code",
   "execution_count": null,
   "metadata": {},
   "outputs": [],
   "source": []
  },
  {
   "cell_type": "code",
   "execution_count": null,
   "metadata": {},
   "outputs": [],
   "source": []
  },
  {
   "cell_type": "code",
   "execution_count": null,
   "metadata": {},
   "outputs": [],
   "source": []
  },
  {
   "cell_type": "code",
   "execution_count": null,
   "metadata": {},
   "outputs": [],
   "source": []
  },
  {
   "cell_type": "code",
   "execution_count": null,
   "metadata": {},
   "outputs": [],
   "source": []
  },
  {
   "cell_type": "code",
   "execution_count": null,
   "metadata": {},
   "outputs": [],
   "source": []
  },
  {
   "cell_type": "code",
   "execution_count": null,
   "metadata": {},
   "outputs": [],
   "source": []
  },
  {
   "cell_type": "code",
   "execution_count": null,
   "metadata": {},
   "outputs": [],
   "source": []
  },
  {
   "cell_type": "code",
   "execution_count": null,
   "metadata": {},
   "outputs": [],
   "source": []
  },
  {
   "cell_type": "code",
   "execution_count": null,
   "metadata": {},
   "outputs": [],
   "source": []
  },
  {
   "cell_type": "code",
   "execution_count": null,
   "metadata": {},
   "outputs": [],
   "source": []
  },
  {
   "cell_type": "code",
   "execution_count": null,
   "metadata": {},
   "outputs": [],
   "source": [
    "OLDER CODE BELOW"
   ]
  },
  {
   "cell_type": "code",
   "execution_count": 11,
   "metadata": {},
   "outputs": [
    {
     "name": "stdout",
     "output_type": "stream",
     "text": [
      "Self session: IA1pm_Feb23_30Hz\n",
      "Self session: IA1pm_Feb23_30Hz\n"
     ]
    }
   ],
   "source": [
    "#############################################\n",
    "############## VISUALIZE RESULTS ############\n",
    "#############################################\n",
    "    \n",
    "# LEVER PULL\n",
    "vis = Visualize()\n",
    "\n",
    "# lever-related data\n",
    "vis.main_dir = data_dir\n",
    "vis.random_flag = False  # shuffle data to show baseline\n",
    "\n",
    "# \n",
    "vis.window = 10\n",
    "vis.lockout_window = 10\n",
    "vis.code = 'code_04'\n",
    "vis.lockout = False\n",
    "\n",
    "vis.animal_id = \"IA1\"\n",
    "vis.session_id = \"Feb23_\"\n",
    "title = vis.animal_id + \"  \"+vis.session_id\n",
    "\n",
    "#############################################\n",
    "############## DECISION TYPE ################\n",
    "#############################################\n",
    "# select animal and session\n",
    "\n",
    "# load pca \n",
    "fig =plt.figure()\n",
    "\n",
    "# ax=plt.subplot(2,3,1)\n",
    "# vis.pca_flag = False\n",
    "# vis.lockout = True\n",
    "# vis.pca_var = 0.99\n",
    "# vis.plot_decision_choice('black',str(vis.pca_var),title, ax)\n",
    "\n",
    "# vis.lockout = True\n",
    "# vis.plot_decision_choice('blue',str(vis.pca_var)+\" lockout\",title, ax)\n",
    "\n",
    "# \n",
    "# vis.lockout = True\n",
    "# vis.plot_decision_choice('blue',str(vis.pca_var) + \" lockout\",title, ax)\n",
    "\n",
    "\n",
    "# \n",
    "vars_ = [0.95]\n",
    "for k in range(len(vars_)):\n",
    "    #ax=plt.subplot(2,3,k+2)\n",
    "    ax=plt.subplot(1,1,k+1)\n",
    "    vis.pca_flag = True\n",
    "    vis.lockout = False\n",
    "    vis.pca_var = vars_[k]\n",
    "    vis.plot_decision_choice('black',str(vis.pca_var),title, ax)\n",
    "\n",
    "    # \n",
    "    vis.pca_flag = True\n",
    "    vis.lockout = True\n",
    "    vis.plot_decision_choice('blue',str(vis.pca_var)+\" lockout\",title, ax)\n",
    "\n",
    "# vis.pca_flag = True\n",
    "# vis.pca_var = 0.99\n",
    "# ax=plt.subplot(2,3,2)\n",
    "# vis.plot_decision_choice('blue','xxpcs_0.99Variance',title, ax)\n",
    "\n",
    "\n",
    "# vis.pca_flag = True\n",
    "# vis.pca_var = 0.95\n",
    "# ax=plt.subplot(2,3,3)\n",
    "# vis.plot_decision_choice('red','8pcs_0.95Variance',title, ax)\n",
    "\n",
    "# vis.pca_flag = True\n",
    "# vis.pca_var = 0.90\n",
    "# ax=plt.subplot(2,3,4)\n",
    "# vis.plot_decision_choice('green','4pcs_0.90Variance',title, ax)\n",
    "\n",
    "\n",
    "# vis.pca_var = 0.50\n",
    "# ax=plt.subplot(2,3,5)\n",
    "# vis.plot_decision_choice('magenta','2pcs_0.50Variance',title, ax)\n",
    "\n",
    "\n",
    "# fname = vis.main_dir+'/'+animal_id+'/SVM_scores_'+animal_id+'_lockout_'+str(session)+'.npy'\n",
    "# vis.load_data(fname)\n",
    "# vis.plot_decision_choice('blue','lockout-denoised')\n"
   ]
  },
  {
   "cell_type": "code",
   "execution_count": null,
   "metadata": {},
   "outputs": [],
   "source": []
  },
  {
   "cell_type": "code",
   "execution_count": null,
   "metadata": {},
   "outputs": [],
   "source": []
  },
  {
   "cell_type": "code",
   "execution_count": 7,
   "metadata": {},
   "outputs": [
    {
     "name": "stdout",
     "output_type": "stream",
     "text": [
      "(1500, 16384)\n"
     ]
    }
   ],
   "source": [
    "import pickle as pk\n",
    "\n",
    "file = open('/media/cat/4TBSSD/yuki/IA1/tif_files/IA1pm_Feb3_30Hz/IA1pm_Feb3_30Hz_code_04_lockout_10sec_trial_ROItimeCourses_10sec_pca.pkl', 'rb')\n",
    "\n",
    "# dump information to that file\n",
    "pca = pk.load(file)\n",
    "\n",
    "print (pca.components_.shape)\n"
   ]
  },
  {
   "cell_type": "code",
   "execution_count": 9,
   "metadata": {},
   "outputs": [
    {
     "name": "stdout",
     "output_type": "stream",
     "text": [
      "(62, 601, 128, 128)\n"
     ]
    }
   ],
   "source": [
    "data_stm = np.load('/media/cat/4TBSSD/yuki/IA1/tif_files/IA1pm_Feb3_30Hz/IA1pm_Feb3_30Hz_10.0sec_butterworth_globalAverage_0.1hz_6.0hz_04code_stm.npy')\n",
    "print (data_stm.shape)"
   ]
  },
  {
   "cell_type": "code",
   "execution_count": 10,
   "metadata": {},
   "outputs": [
    {
     "ename": "NameError",
     "evalue": "name 'nComp' is not defined",
     "output_type": "error",
     "traceback": [
      "\u001b[0;31m---------------------------------------------------------------------------\u001b[0m",
      "\u001b[0;31mNameError\u001b[0m                                 Traceback (most recent call last)",
      "\u001b[0;32m<ipython-input-10-f869b1fe5d18>\u001b[0m in \u001b[0;36m<module>\u001b[0;34m\u001b[0m\n\u001b[1;32m      5\u001b[0m \u001b[0mmu\u001b[0m\u001b[0;34m=\u001b[0m \u001b[0mnp\u001b[0m\u001b[0;34m.\u001b[0m\u001b[0mmean\u001b[0m\u001b[0;34m(\u001b[0m\u001b[0mX\u001b[0m\u001b[0;34m,\u001b[0m \u001b[0maxis\u001b[0m\u001b[0;34m=\u001b[0m\u001b[0;36m0\u001b[0m\u001b[0;34m)\u001b[0m\u001b[0;34m\u001b[0m\u001b[0;34m\u001b[0m\u001b[0m\n\u001b[1;32m      6\u001b[0m \u001b[0;34m\u001b[0m\u001b[0m\n\u001b[0;32m----> 7\u001b[0;31m Xnew = np.dot(pca.transform(X)[:,:nComp],\n\u001b[0m\u001b[1;32m      8\u001b[0m              pca.components_[:nComp,:])\n\u001b[1;32m      9\u001b[0m \u001b[0;34m\u001b[0m\u001b[0m\n",
      "\u001b[0;31mNameError\u001b[0m: name 'nComp' is not defined"
     ]
    }
   ],
   "source": [
    "# \n",
    "X = data_stm.reshape(data_stm.shape[0]*data_stm.shape[1],\n",
    "                     data_stm.shape[2]*data_stm.shape[3])\n",
    "\n",
    "mu= np.mean(X, axis=0)\n"
   ]
  },
  {
   "cell_type": "code",
   "execution_count": 11,
   "metadata": {},
   "outputs": [],
   "source": [
    "nComp = 9\n",
    "Xnew = np.dot(pca.transform(X)[:,:nComp],\n",
    "             pca.components_[:nComp,:])\n",
    "\n",
    "Xnew+=mu\n",
    "\n",
    "data_stm_denoised_reshaped = Xnew.reshape(data_stm.shape[0], data_stm.shape[1],\n",
    "                                          data_stm.shape[2], data_stm.shape[3])\n"
   ]
  },
  {
   "cell_type": "code",
   "execution_count": 17,
   "metadata": {},
   "outputs": [
    {
     "name": "stdout",
     "output_type": "stream",
     "text": [
      "(62, 9, 601)\n"
     ]
    }
   ],
   "source": [
    "time_filters = pca.transform(X)[:,:nComp]\n",
    "pca_time_filters_only = time_filters.reshape(data_stm.shape[0], data_stm.shape[1],-1).transpose(0,2,1)\n",
    "print (pca_time_filters_only.shape)\n"
   ]
  },
  {
   "cell_type": "code",
   "execution_count": 15,
   "metadata": {},
   "outputs": [
    {
     "name": "stdout",
     "output_type": "stream",
     "text": [
      "(62, 601, 9)\n"
     ]
    }
   ],
   "source": []
  },
  {
   "cell_type": "code",
   "execution_count": 21,
   "metadata": {},
   "outputs": [
    {
     "name": "stdout",
     "output_type": "stream",
     "text": [
      "(82, 2, 601)\n"
     ]
    }
   ],
   "source": [
    "data = np.load('/media/cat/4TBSSD/yuki/IA1/tif_files/IA1pm_Feb23_30Hz/IA1pm_Feb23_30Hz_code_04_trial_ROItimeCourses_10sec_pca_0.5.npy')\n",
    "print (data.shape)"
   ]
  },
  {
   "cell_type": "code",
   "execution_count": 76,
   "metadata": {},
   "outputs": [
    {
     "name": "stdout",
     "output_type": "stream",
     "text": [
      "(62, 35, 601)\n"
     ]
    }
   ],
   "source": [
    "# -*- coding: utf-8 -*-\n",
    "\"\"\"Cat Data.ipynb\n",
    "\n",
    "Automatically generated by Colaboratory.\n",
    "\n",
    "Original file is located at\n",
    "    https://colab.research.google.com/drive/1r-NABuBJOITVlW03VvhsQivPNzmNp4yp\n",
    "\"\"\"\n",
    "\n",
    "import numpy as np\n",
    "import sklearn\n",
    "from sklearn.model_selection import train_test_split\n",
    "import matplotlib.pyplot as plt\n",
    "from sklearn.model_selection import KFold \n",
    "from sklearn import preprocessing\n",
    "from sklearn.model_selection import cross_val_score\n",
    "from sklearn import svm\n",
    "import pandas as pd\n",
    "from sklearn.metrics import confusion_matrix  \n",
    "import random\n",
    "from scipy import stats\n",
    "from matplotlib.pyplot import MultipleLocator\n",
    "import os\n",
    "\n",
    "\n",
    "jobid = os.getenv('SLURM_ARRAY_TASK_ID')\n",
    "name='IA1_lockout'\n",
    "\n",
    "data_leverpress = np.load('/media/cat/4TBSSD/yuki/temp/IA1/data_04.npy',allow_pickle=True)[0]\n",
    "data_random = np.load('/media/cat/4TBSSD/yuki/temp/IA1/data_04_random.npy',allow_pickle=True)[0]\n",
    "\n",
    "print (data_leverpress.shape)\n"
   ]
  },
  {
   "cell_type": "code",
   "execution_count": 77,
   "metadata": {},
   "outputs": [
    {
     "name": "stderr",
     "output_type": "stream",
     "text": [
      "<ipython-input-77-0c90c545bbff>:41: RuntimeWarning: invalid value encountered in true_divide\n",
      "  conf_matrix_norm = confusion_m.astype('float') / confusion_m.sum(axis=1)[:,np.newaxis] #calculate the precision\n",
      "<ipython-input-77-0c90c545bbff>:41: RuntimeWarning: invalid value encountered in true_divide\n",
      "  conf_matrix_norm = confusion_m.astype('float') / confusion_m.sum(axis=1)[:,np.newaxis] #calculate the precision\n",
      "<ipython-input-77-0c90c545bbff>:41: RuntimeWarning: invalid value encountered in true_divide\n",
      "  conf_matrix_norm = confusion_m.astype('float') / confusion_m.sum(axis=1)[:,np.newaxis] #calculate the precision\n",
      "<ipython-input-77-0c90c545bbff>:41: RuntimeWarning: invalid value encountered in true_divide\n",
      "  conf_matrix_norm = confusion_m.astype('float') / confusion_m.sum(axis=1)[:,np.newaxis] #calculate the precision\n",
      "<ipython-input-77-0c90c545bbff>:41: RuntimeWarning: invalid value encountered in true_divide\n",
      "  conf_matrix_norm = confusion_m.astype('float') / confusion_m.sum(axis=1)[:,np.newaxis] #calculate the precision\n",
      "<ipython-input-77-0c90c545bbff>:41: RuntimeWarning: invalid value encountered in true_divide\n",
      "  conf_matrix_norm = confusion_m.astype('float') / confusion_m.sum(axis=1)[:,np.newaxis] #calculate the precision\n",
      "<ipython-input-77-0c90c545bbff>:41: RuntimeWarning: invalid value encountered in true_divide\n",
      "  conf_matrix_norm = confusion_m.astype('float') / confusion_m.sum(axis=1)[:,np.newaxis] #calculate the precision\n",
      "<ipython-input-77-0c90c545bbff>:41: RuntimeWarning: invalid value encountered in true_divide\n",
      "  conf_matrix_norm = confusion_m.astype('float') / confusion_m.sum(axis=1)[:,np.newaxis] #calculate the precision\n"
     ]
    }
   ],
   "source": [
    "\n",
    "\n",
    "#classification of time (10-class)\n",
    "X_l=data_leverpress #  [n_trials, n_areas, n_time_steps]\n",
    "X_l=X_l.transpose((0,2,1))\n",
    "\n",
    "\n",
    "X_R_l= X_l.reshape(-1,X_l.shape[1]*X_l.shape[2])\n",
    "normal_X_l = preprocessing.normalize(X_R_l)\n",
    "n_X_l=normal_X_l.reshape(X_l.shape[0],X_l.shape[1],X_l.shape[2])\n",
    "X_l=n_X_l\n",
    "\n",
    "X_l=X_l[:,:300,:]\n",
    "X_k=X_l[:,0:30,:]\n",
    "X_k=X_k.reshape(X_k.shape[0],X_k.shape[1]*X_k.shape[2])\n",
    "for i in range(30,271,30):\n",
    "    X_t = X_l[:,i:i+30,:]\n",
    "    X_t=X_t.reshape(X_t.shape[0],X_t.shape[1]*X_t.shape[2])\n",
    "    X_k=np.concatenate((X_k,X_t),axis=0)\n",
    "\n",
    "y_ct=np.zeros(data_leverpress.shape[0])\n",
    "for i in range(1,10):\n",
    "    Z_ct=i*np.ones(data_leverpress.shape[0])\n",
    "    y_ct=np.concatenate((y_ct,Z_ct))\n",
    "\n",
    "# \n",
    "X_tSVM=X_k # 10s * 30frams\n",
    "y_tSVM=y_ct # labels\n",
    "\n",
    "#10-fold confusion matrix\n",
    "clf = svm.SVC() # Non-linear classifier\n",
    "ten_svm=[]\n",
    "conf_matrix_ten=[]\n",
    "kf = KFold(n_splits=10,random_state=None, shuffle=True) \n",
    "for train_index, test_index in kf.split(X_tSVM):\n",
    "    X_train_k, X_test_k = X_tSVM[train_index], X_tSVM[test_index] \n",
    "    y_train_k, y_test_k = y_tSVM[train_index], y_tSVM[test_index]\n",
    "    clf.fit(X_train_k, y_train_k)\n",
    "    score=clf.score(X_test_k, y_test_k)\n",
    "    y_predicted=clf.predict(X_test_k)\n",
    "    cm=confusion_matrix(y_test_k,y_predicted)\n",
    "    confusion_m=cm.T # make each row be the prediction\n",
    "    conf_matrix_norm = confusion_m.astype('float') / confusion_m.sum(axis=1)[:,np.newaxis] #calculate the precision\n",
    "    conf_matrix_norm = np.nan_to_num(conf_matrix_norm)\n",
    "    ten_svm.append(score)\n",
    "    conf_matrix_ten.append(conf_matrix_norm)\n",
    "np.save('conf_10_'+str(name)+'_'+str(jobid)+'.npy',conf_matrix_ten)\n",
    "sc=np.mean(conf_matrix_ten,axis=0) # mean of confusion matrix\n",
    "np.save('conf_avg_'+str(name)+'_'+str(jobid)+'.npy',sc)"
   ]
  },
  {
   "cell_type": "code",
   "execution_count": 78,
   "metadata": {},
   "outputs": [
    {
     "name": "stderr",
     "output_type": "stream",
     "text": [
      "<ipython-input-78-40a74f02ec5b>:57: RuntimeWarning: divide by zero encountered in double_scalars\n",
      "  t=(a-(1/10))/s\n"
     ]
    }
   ],
   "source": [
    "\n",
    "#Next is the plotting.\n",
    "\n",
    "confusion_10=sc.diagonal()\n",
    "np.save('diagonal_'+str(name)+'_'+str(jobid)+'.npy',confusion_10)\n",
    "confusion_s=conf_matrix_ten\n",
    "\n",
    "confusion_d=[]\n",
    "for i in range(0,10):\n",
    "    confusion_d.append(confusion_s[i].diagonal())\n",
    "x_std=np.std(confusion_d,axis=0)/(10**0.5)\n",
    "x_s=x_std\n",
    "\n",
    "\n",
    "fig = plt.figure(figsize=(21.5,20), dpi=64, facecolor='white')\n",
    "plt.xticks(fontsize=60)\n",
    "plt.yticks(fontsize=60)\n",
    "axes = plt.subplot(111)\n",
    "axes.tick_params(axis ='both', which ='both', length = 10,width=4,pad=20)\n",
    "\n",
    "bwith = 3 \n",
    "ax = plt.gca()\n",
    "ax.spines['bottom'].set_linewidth(bwith)\n",
    "ax.spines['left'].set_linewidth(bwith)\n",
    "ax.spines['top'].set_linewidth(bwith)\n",
    "ax.spines['right'].set_linewidth(bwith)\n",
    "l=15\n",
    "\n",
    "Y=np.linspace(0,1,12)\n",
    "X=np.ones(Y.size)\n",
    "x=np.arange(-9.5,0.5,1)\n",
    "plt.text(0.1, 0.2, 'Lever Pull', fontdict={'size': 70}, rotation=90)\n",
    "plt.text(-12.95, 1/10, 'Chance', fontdict={'size': 60}, rotation=0)\n",
    "plt.axhline(y=1/10, color='black', linestyle='--',linewidth=6)\n",
    "\n",
    "plt.errorbar(x,confusion_10,x_s,c='red',alpha=0.6,marker='s', mec='red', ms=3, mew=3,label='SVM',linewidth=l,elinewidth=12)\n",
    "\n",
    "plt.plot( (0+0)*X, Y, color='black',ls='--',linewidth=6)\n",
    "\n",
    "plt.title('Decoding decision time',fontdict={'size': 110},pad=60)\n",
    "plt.xlabel('Time before Lever Pull (s)',fontdict={'size': 110},labelpad=60)\n",
    "plt.ylabel('Decoding Accuracy',fontdict={'size': 110},labelpad=180)\n",
    "plt.ylim(ymax = 1.09)\n",
    "ax=plt.gca()\n",
    "ax.xaxis.set_major_locator(MultipleLocator(2))\n",
    "ax.xaxis.set_minor_locator(MultipleLocator(1))\n",
    "ax.yaxis.set_major_locator(MultipleLocator(0.2))\n",
    "ax.yaxis.set_minor_locator(MultipleLocator(0.1))\n",
    "\n",
    "plt.xlim(xmin = -10.5)\n",
    "plt.xlim(xmax = 0.9)\n",
    "\n",
    "for i in range(0,10):\n",
    "    a=confusion_10[i]\n",
    "    b=x_s[i]\n",
    "    n=10\n",
    "    s=b\n",
    "    t=(a-(1/10))/s\n",
    "    df=n-1\n",
    "    p = (1 - stats.t.cdf(t,df=df))\n",
    "    \n",
    "    if (p > 0.01 and p <= 0.05):\n",
    "        plt.plot(-9.5+i, confusion_10[i]+x_std[i]+0.06, '*',c='black', ms=20)\n",
    "        \n",
    "    if (p > 0.00001 and p <= 0.01):\n",
    "        plt.plot(-9.5+i,confusion_10[i]+x_std[i]+0.06,'*',c='black', ms=20)\n",
    "        plt.plot(-9.5+i,confusion_10[i]+x_std[i]+0.08,'*',c='black', ms=20)\n",
    "    if  p <= 0.00001:\n",
    "        plt.plot(-9.5+i,confusion_10[i]+x_std[i]+0.06,'*',c='black', ms=20)\n",
    "        plt.plot(-9.5+i,confusion_10[i]+x_std[i]+0.08,'*',c='black', ms=20)\n",
    "        plt.plot(-9.5+i,confusion_10[i]+x_std[i]+0.10,'*',c='black', ms=20)\n",
    "\n",
    "plt.show()\n",
    "#plt.savefig('./time_svm_'+str(jobid)+'.jpg')\n",
    "#plt.close()"
   ]
  },
  {
   "cell_type": "code",
   "execution_count": 10,
   "metadata": {},
   "outputs": [
    {
     "name": "stdout",
     "output_type": "stream",
     "text": [
      "(7, 16384)\n"
     ]
    }
   ],
   "source": [
    "data= np.load('/media/cat/4TBSSD/yuki/IJ2/tif_files/IJ2pm_Mar3_30Hz/IJ2pm_Mar3_30Hz_code_04_lockout_10sec_random_ROItimeCourses_10sec_pca_0.95_spatial.npy')\n",
    "print (data.shape)"
   ]
  },
  {
   "cell_type": "code",
   "execution_count": null,
   "metadata": {},
   "outputs": [],
   "source": []
  }
 ],
 "metadata": {
  "kernelspec": {
   "display_name": "Python 3",
   "language": "python",
   "name": "python3"
  },
  "language_info": {
   "codemirror_mode": {
    "name": "ipython",
    "version": 3
   },
   "file_extension": ".py",
   "mimetype": "text/x-python",
   "name": "python",
   "nbconvert_exporter": "python",
   "pygments_lexer": "ipython3",
   "version": "3.8.0"
  }
 },
 "nbformat": 4,
 "nbformat_minor": 4
}
