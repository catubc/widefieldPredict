{
 "cells": [
  {
   "cell_type": "code",
   "execution_count": 1,
   "metadata": {},
   "outputs": [],
   "source": [
    "from numpy import array\n",
    "import keras\n",
    "from keras.models import Sequential, Model\n",
    "from keras.layers import Dense\n",
    "from keras.layers import LSTM\n",
    "from keras.layers import Input\n",
    "from keras.layers import TimeDistributed\n",
    "import tensorflow as tf\n",
    "\n",
    "import keras.backend as K"
   ]
  },
  {
   "cell_type": "code",
   "execution_count": 2,
   "metadata": {
    "collapsed": true
   },
   "outputs": [
    {
     "ename": "IndexError",
     "evalue": "list index out of range",
     "output_type": "error",
     "traceback": [
      "\u001b[0;31m---------------------------------------------------------------------------\u001b[0m",
      "\u001b[0;31mIndexError\u001b[0m                                Traceback (most recent call last)",
      "\u001b[0;32m<ipython-input-2-a307a117e7a4>\u001b[0m in \u001b[0;36m<module>\u001b[0;34m\u001b[0m\n\u001b[1;32m      1\u001b[0m \u001b[0;32mimport\u001b[0m \u001b[0mtensorflow\u001b[0m \u001b[0;32mas\u001b[0m \u001b[0mtf\u001b[0m\u001b[0;34m\u001b[0m\u001b[0;34m\u001b[0m\u001b[0m\n\u001b[1;32m      2\u001b[0m \u001b[0mphysical_devices\u001b[0m \u001b[0;34m=\u001b[0m \u001b[0mtf\u001b[0m\u001b[0;34m.\u001b[0m\u001b[0mconfig\u001b[0m\u001b[0;34m.\u001b[0m\u001b[0mlist_physical_devices\u001b[0m\u001b[0;34m(\u001b[0m\u001b[0;34m'GPU'\u001b[0m\u001b[0;34m)\u001b[0m\u001b[0;34m\u001b[0m\u001b[0;34m\u001b[0m\u001b[0m\n\u001b[0;32m----> 3\u001b[0;31m \u001b[0mtf\u001b[0m\u001b[0;34m.\u001b[0m\u001b[0mconfig\u001b[0m\u001b[0;34m.\u001b[0m\u001b[0mexperimental\u001b[0m\u001b[0;34m.\u001b[0m\u001b[0mset_memory_growth\u001b[0m\u001b[0;34m(\u001b[0m\u001b[0mphysical_devices\u001b[0m\u001b[0;34m[\u001b[0m\u001b[0;36m0\u001b[0m\u001b[0;34m]\u001b[0m\u001b[0;34m,\u001b[0m \u001b[0menable\u001b[0m\u001b[0;34m=\u001b[0m\u001b[0;32mTrue\u001b[0m\u001b[0;34m)\u001b[0m\u001b[0;34m\u001b[0m\u001b[0;34m\u001b[0m\u001b[0m\n\u001b[0m\u001b[1;32m      4\u001b[0m \u001b[0mprint\u001b[0m \u001b[0;34m(\u001b[0m\u001b[0mphysical_devices\u001b[0m\u001b[0;34m)\u001b[0m\u001b[0;34m\u001b[0m\u001b[0;34m\u001b[0m\u001b[0m\n",
      "\u001b[0;31mIndexError\u001b[0m: list index out of range"
     ]
    }
   ],
   "source": [
    "# physical_devices = tf.config.list_physical_devices('GPU')\n",
    "# tf.config.experimental.set_memory_growth(physical_devices[0], enable=True)\n",
    "# print (physical_devices)"
   ]
  },
  {
   "cell_type": "code",
   "execution_count": 65,
   "metadata": {
    "scrolled": true
   },
   "outputs": [
    {
     "name": "stdout",
     "output_type": "stream",
     "text": [
      "X:  (1, 5, 1) [[[0. ]\n",
      "  [0.2]\n",
      "  [0.4]\n",
      "  [0.6]\n",
      "  [0.8]]]\n",
      "y:  (1, 5, 1) [[[0. ]\n",
      "  [0.2]\n",
      "  [0.4]\n",
      "  [0.6]\n",
      "  [0.8]]]\n",
      "\n",
      "WARNING:tensorflow:Layer lstm_45 is casting an input tensor from dtype float64 to the layer's dtype of float32, which is new behavior in TensorFlow 2.  The layer has dtype float32 because its dtype defaults to floatx.\n",
      "\n",
      "If you intended to run this layer in float32, you can safely ignore this warning. If in doubt, this warning is likely only an issue if you are porting a TensorFlow 1.X model to TensorFlow 2.\n",
      "\n",
      "To change all layers to have dtype float64 by default, call `tf.keras.backend.set_floatx('float64')`. To change just this layer, pass dtype='float64' to the layer constructor. If you are the author of this layer, you can disable autocasting by passing autocast=False to the base Layer constructor.\n",
      "\n",
      "[[[0 0 0 0 0]\n",
      "  [0.00652822526 0.0233266409 0.0151992282 0.0197222568 -0.0229926836]\n",
      "  [0.0159459766 0.0626661405 0.0442581847 0.0565559976 -0.0625331104]\n",
      "  [0.0259212554 0.111707494 0.0842512548 0.108747967 -0.111463018]\n",
      "  [0.0349170268 0.164147601 0.13072823 0.174196288 -0.162145495]]]\n",
      "STARTING PREDICTION:  None\n",
      "\n",
      "\n",
      "\n"
     ]
    }
   ],
   "source": [
    "length = 5\n",
    "seq = array([i/float(length) for i in range(length)],'float64')\n",
    "X = seq.reshape(1, length, 1)\n",
    "y = seq.reshape(1, length, 1)\n",
    "print (\"X: \", X.shape, X)\n",
    "print (\"y: \", y.shape, y)\n",
    "\n",
    "\n",
    "# define LSTM configuration\n",
    "n_neurons = length\n",
    "n_batch = 1\n",
    "n_epoch = 1000\n",
    "\n",
    "# create LSTM\n",
    "model = Sequential()\n",
    "layer1 = LSTM(n_neurons, input_shape=(length, 1), return_sequences=True)\n",
    "model.add(layer1)\n",
    "\n",
    "# \n",
    "layer2 = Dense(n_neurons)\n",
    "model.add(layer2)\n",
    "\n",
    "# \n",
    "print (\"\")\n",
    "print (\"STARTING PREDICTION: \", tf.print(layer1(X)))\n",
    "print (\"\")\n",
    "print (\"\")\n",
    "print (\"\")\n",
    "#print (\"STARTING PREDICTION: \", tf.print(layer1(X)))\n",
    "\n",
    "# # Define custom loss\n",
    "# def custom_loss(layer1):\n",
    "    \n",
    "#     # Create a loss function that adds the MSE loss to the mean of all squared activations of a specific layer\n",
    "#     def loss(y_true,y_pred):\n",
    "#         res = K.mean(K.square(y_pred - y_true) + K.square(layer1(X)), axis=-1)\n",
    "#         #print (\"Resulting error: \", tf.print(res))\n",
    "#         print (tf.print(''))\n",
    "#         print (tf.print(layer1(X)))\n",
    "#         print (tf.print(''))\n",
    "#         #ctr+=1\n",
    "#         return res\n",
    "    \n",
    "#     # Return a function\n",
    "#     return loss\n",
    "\n",
    "# #global ctr\n",
    "# ctr=0\n",
    "# # compile model\n",
    "# model.compile(loss=custom_loss(layer1), optimizer='adam')\n",
    "\n",
    "# # train LSTM\n",
    "# model.fit(X, y, epochs=n_epoch, batch_size=n_batch, verbose=0)\n",
    "# print (\"DONE\")"
   ]
  },
  {
   "cell_type": "code",
   "execution_count": 46,
   "metadata": {
    "scrolled": true
   },
   "outputs": [
    {
     "name": "stdout",
     "output_type": "stream",
     "text": [
      "FUL RESTUL:  [[0.002135   0.19825363 0.39113748 0.5685448  0.7384079 ]]\n"
     ]
    }
   ],
   "source": [
    "# evaluate\n",
    "import numpy as np\n",
    "result = model.predict(X, batch_size=n_batch, verbose=0)\n",
    "print (\"FUL RESTUL: \", result)\n",
    "#print (\"result: \", result.shape, np.round(result.mean(2),2))\n",
    "#for value in result[0,:,0]:\n",
    "#\tprint('%.1f' % value)"
   ]
  },
  {
   "cell_type": "code",
   "execution_count": 13,
   "metadata": {},
   "outputs": [],
   "source": [
    "# Build a model\n",
    "inputs = Input(shape=(128,))\n",
    "layer1 = Dense(64, activation='relu')(inputs)\n",
    "layer2 = Dense(64, activation='relu')(layer1)\n",
    "predictions = Dense(10, activation='softmax')(layer2)\n",
    "model = Model(inputs=inputs, outputs=predictions)\n",
    "\n",
    "def custom_loss(y_true, y_pred):\n",
    "            \n",
    "    # calculate loss, using y_pred\n",
    "        \n",
    "    return loss\n",
    "  \n",
    "model.compile(loss=custom_loss, optimizer='adam')\n"
   ]
  },
  {
   "cell_type": "code",
   "execution_count": 15,
   "metadata": {},
   "outputs": [
    {
     "name": "stdout",
     "output_type": "stream",
     "text": [
      "Model: \"functional_7\"\n",
      "_________________________________________________________________\n",
      "Layer (type)                 Output Shape              Param #   \n",
      "=================================================================\n",
      "input_5 (InputLayer)         [(None, 128)]             0         \n",
      "_________________________________________________________________\n",
      "dense_13 (Dense)             (None, 64)                8256      \n",
      "_________________________________________________________________\n",
      "dense_14 (Dense)             (None, 64)                4160      \n",
      "_________________________________________________________________\n",
      "dense_15 (Dense)             (None, 10)                650       \n",
      "=================================================================\n",
      "Total params: 13,066\n",
      "Trainable params: 13,066\n",
      "Non-trainable params: 0\n",
      "_________________________________________________________________\n"
     ]
    },
    {
     "ename": "NameError",
     "evalue": "name 'data' is not defined",
     "output_type": "error",
     "traceback": [
      "\u001b[0;31m---------------------------------------------------------------------------\u001b[0m",
      "\u001b[0;31mNameError\u001b[0m                                 Traceback (most recent call last)",
      "\u001b[0;32m<ipython-input-15-69a0b8c22359>\u001b[0m in \u001b[0;36m<module>\u001b[0;34m\u001b[0m\n\u001b[1;32m     23\u001b[0m \u001b[0mmodel\u001b[0m\u001b[0;34m.\u001b[0m\u001b[0msummary\u001b[0m\u001b[0;34m(\u001b[0m\u001b[0;34m)\u001b[0m\u001b[0;34m\u001b[0m\u001b[0;34m\u001b[0m\u001b[0m\n\u001b[1;32m     24\u001b[0m \u001b[0;31m# train\u001b[0m\u001b[0;34m\u001b[0m\u001b[0;34m\u001b[0m\u001b[0;34m\u001b[0m\u001b[0m\n\u001b[0;32m---> 25\u001b[0;31m \u001b[0mmodel\u001b[0m\u001b[0;34m.\u001b[0m\u001b[0mfit\u001b[0m\u001b[0;34m(\u001b[0m\u001b[0mdata\u001b[0m\u001b[0;34m,\u001b[0m \u001b[0mlabels\u001b[0m\u001b[0;34m)\u001b[0m\u001b[0;34m\u001b[0m\u001b[0;34m\u001b[0m\u001b[0m\n\u001b[0m",
      "\u001b[0;31mNameError\u001b[0m: name 'data' is not defined"
     ]
    }
   ],
   "source": [
    "# Build a model\n",
    "inputs = Input(shape=(128,))\n",
    "layer1 = Dense(64, activation='relu')(inputs)\n",
    "layer2 = Dense(64, activation='relu')(layer1)\n",
    "predictions = Dense(10, activation='softmax')(layer2)\n",
    "model = Model(inputs=inputs, outputs=predictions)\n",
    "\n",
    "# Define custom loss\n",
    "def custom_loss(layer):\n",
    "\n",
    "    # Create a loss function that adds the MSE loss to the mean of all squared activations of a specific layer\n",
    "    def loss(y_true,y_pred):\n",
    "        return K.mean(K.square(y_pred - y_true) + K.square(layer), axis=-1)\n",
    "   \n",
    "    # Return a function\n",
    "    return loss\n",
    "    \n",
    "# Compile the model\n",
    "model.compile(optimizer='adam',\n",
    "              loss=custom_loss(layer1), # Call the loss function with the selected layer\n",
    "              metrics=['accuracy'])\n",
    "\n",
    "model.summary()\n",
    "\n",
    "# train\n",
    "model.fit(data, labels)  "
   ]
  },
  {
   "cell_type": "code",
   "execution_count": null,
   "metadata": {},
   "outputs": [],
   "source": []
  }
 ],
 "metadata": {
  "kernelspec": {
   "display_name": "Python 3",
   "language": "python",
   "name": "python3"
  },
  "language_info": {
   "codemirror_mode": {
    "name": "ipython",
    "version": 3
   },
   "file_extension": ".py",
   "mimetype": "text/x-python",
   "name": "python",
   "nbconvert_exporter": "python",
   "pygments_lexer": "ipython3",
   "version": "3.8.8"
  }
 },
 "nbformat": 4,
 "nbformat_minor": 4
}
