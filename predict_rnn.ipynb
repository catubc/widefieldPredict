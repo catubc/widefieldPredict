{
 "cells": [
  {
   "cell_type": "code",
   "execution_count": 2,
   "metadata": {},
   "outputs": [
    {
     "data": {
      "application/javascript": [
       "IPython.notebook.set_autosave_interval(180000)"
      ]
     },
     "metadata": {},
     "output_type": "display_data"
    },
    {
     "name": "stdout",
     "output_type": "stream",
     "text": [
      "Autosaving every 180 seconds\n"
     ]
    },
    {
     "data": {
      "text/html": [
       "<style>.container { width:100% !important; }</style>"
      ],
      "text/plain": [
       "<IPython.core.display.HTML object>"
      ]
     },
     "metadata": {},
     "output_type": "display_data"
    },
    {
     "data": {
      "text/plain": [
       "0"
      ]
     },
     "execution_count": 2,
     "metadata": {},
     "output_type": "execute_result"
    }
   ],
   "source": [
    "import matplotlib\n",
    "#matplotlib.use('Agg')\n",
    "\n",
    "%load_ext autoreload\n",
    "%autoreload 2\n",
    "\n",
    "%matplotlib tk\n",
    "%autosave 180\n",
    "import matplotlib.pyplot as plt\n",
    "from IPython.core.display import display, HTML\n",
    "display(HTML(\"<style>.container { width:100% !important; }</style>\"))\n",
    "\n",
    "import numpy as np\n",
    "import os\n",
    "\n",
    "\n",
    "os.system(\"export PATH=/usr/local/cuda-11.0/bin${PATH:+:${PATH}}\")\n",
    "os.system(\"export LD_LIBRARY_PATH=/usr/local/cuda-11.0/lib64${LD_LIBRARY_PATH:+:${LD_LIBRARY_PATH}}\")\n",
    "\n",
    "\n"
   ]
  },
  {
   "cell_type": "code",
   "execution_count": 3,
   "metadata": {},
   "outputs": [],
   "source": [
    "# # # Disable layout optimizer to not change input data_format.\n",
    "# # tf.config.optimizer.set_experimental_options({'layout_optimizer': False})\n",
    "\n",
    "# # # Enable MLIR Graph Optimizations\n",
    "# # tf.config.experimental.enable_mlir_graph_optimization()\n",
    "\n",
    "\n",
    "# from numba import cuda \n",
    "# device = cuda.get_current_device()\n",
    "# device.reset()"
   ]
  },
  {
   "cell_type": "code",
   "execution_count": 12,
   "metadata": {},
   "outputs": [],
   "source": [
    "# RNN module\n",
    "from PredictRNN import PredictRNN\n",
    "\n",
    "# visualize results module\n",
    "from Visualize import Visualize\n",
    "\n",
    "# \n",
    "data_dir = '/media/cat/4TBSSD/yuki/'\n",
    "\n"
   ]
  },
  {
   "cell_type": "code",
   "execution_count": 15,
   "metadata": {
    "scrolled": true
   },
   "outputs": [
    {
     "name": "stdout",
     "output_type": "stream",
     "text": [
      "self session:  IJ2pm_Mar2_30Hz\n",
      "X train R:  (172, 601, 6)  y_train_R:  (172,)\n",
      "X train RN:  (172, 300, 6) (44, 300, 6) (172,) (44,)\n",
      "Model: \"sequential\"\n",
      "_________________________________________________________________\n",
      "Layer (type)                 Output Shape              Param #   \n",
      "=================================================================\n",
      "lstm (LSTM)                  (None, 256)               269312    \n",
      "_________________________________________________________________\n",
      "dense (Dense)                (None, 1)                 257       \n",
      "=================================================================\n",
      "Total params: 269,569\n",
      "Trainable params: 269,569\n",
      "Non-trainable params: 0\n",
      "_________________________________________________________________\n"
     ]
    },
    {
     "data": {
      "application/vnd.jupyter.widget-view+json": {
       "model_id": "8374c86b53494028872fc38ca11816cf",
       "version_major": 2,
       "version_minor": 0
      },
      "text/plain": [
       "Training:   0%|           0/1000 ETA: ?s,  ?epochs/s"
      ]
     },
     "metadata": {},
     "output_type": "display_data"
    },
    {
     "name": "stdout",
     "output_type": "stream",
     "text": [
      "Epoch 1/1000\n"
     ]
    },
    {
     "data": {
      "application/vnd.jupyter.widget-view+json": {
       "model_id": "08ef1a37e56b4bdaa50dc3b470e5b904",
       "version_major": 2,
       "version_minor": 0
      },
      "text/plain": [
       "0/1           ETA: ?s - "
      ]
     },
     "metadata": {},
     "output_type": "display_data"
    },
    {
     "name": "stdout",
     "output_type": "stream",
     "text": [
      "Epoch 2/1000\n"
     ]
    },
    {
     "data": {
      "application/vnd.jupyter.widget-view+json": {
       "model_id": "8d7a5159c7384c40b0ba5f927f63dd60",
       "version_major": 2,
       "version_minor": 0
      },
      "text/plain": [
       "0/1           ETA: ?s - "
      ]
     },
     "metadata": {},
     "output_type": "display_data"
    },
    {
     "name": "stdout",
     "output_type": "stream",
     "text": [
      "Epoch 3/1000\n"
     ]
    },
    {
     "data": {
      "application/vnd.jupyter.widget-view+json": {
       "model_id": "b6b76a82402446088a443edab882a222",
       "version_major": 2,
       "version_minor": 0
      },
      "text/plain": [
       "0/1           ETA: ?s - "
      ]
     },
     "metadata": {},
     "output_type": "display_data"
    },
    {
     "name": "stdout",
     "output_type": "stream",
     "text": [
      "Epoch 4/1000\n"
     ]
    },
    {
     "data": {
      "application/vnd.jupyter.widget-view+json": {
       "model_id": "b79258e56bba46dfba5818c89e3fc556",
       "version_major": 2,
       "version_minor": 0
      },
      "text/plain": [
       "0/1           ETA: ?s - "
      ]
     },
     "metadata": {},
     "output_type": "display_data"
    },
    {
     "name": "stdout",
     "output_type": "stream",
     "text": [
      "Epoch 5/1000\n"
     ]
    },
    {
     "data": {
      "application/vnd.jupyter.widget-view+json": {
       "model_id": "c1734b6d9b6a4df3bca817aadfcf6f9b",
       "version_major": 2,
       "version_minor": 0
      },
      "text/plain": [
       "0/1           ETA: ?s - "
      ]
     },
     "metadata": {},
     "output_type": "display_data"
    },
    {
     "name": "stdout",
     "output_type": "stream",
     "text": [
      "Epoch 6/1000\n"
     ]
    },
    {
     "data": {
      "application/vnd.jupyter.widget-view+json": {
       "model_id": "ecf0b8466ae8442fa7e2c0a727d3bd3e",
       "version_major": 2,
       "version_minor": 0
      },
      "text/plain": [
       "0/1           ETA: ?s - "
      ]
     },
     "metadata": {},
     "output_type": "display_data"
    },
    {
     "name": "stdout",
     "output_type": "stream",
     "text": [
      "Epoch 7/1000\n"
     ]
    },
    {
     "data": {
      "application/vnd.jupyter.widget-view+json": {
       "model_id": "e8660b90166641e8b49f67d77e0f0f6c",
       "version_major": 2,
       "version_minor": 0
      },
      "text/plain": [
       "0/1           ETA: ?s - "
      ]
     },
     "metadata": {},
     "output_type": "display_data"
    },
    {
     "name": "stdout",
     "output_type": "stream",
     "text": [
      "Epoch 8/1000\n"
     ]
    },
    {
     "data": {
      "application/vnd.jupyter.widget-view+json": {
       "model_id": "235941f0fa064cac89eb1262f6205f71",
       "version_major": 2,
       "version_minor": 0
      },
      "text/plain": [
       "0/1           ETA: ?s - "
      ]
     },
     "metadata": {},
     "output_type": "display_data"
    },
    {
     "name": "stdout",
     "output_type": "stream",
     "text": [
      "Epoch 9/1000\n"
     ]
    },
    {
     "data": {
      "application/vnd.jupyter.widget-view+json": {
       "model_id": "a2bf467d9dfa41c6a7e6d95c0e33bf52",
       "version_major": 2,
       "version_minor": 0
      },
      "text/plain": [
       "0/1           ETA: ?s - "
      ]
     },
     "metadata": {},
     "output_type": "display_data"
    },
    {
     "name": "stdout",
     "output_type": "stream",
     "text": [
      "Epoch 10/1000\n"
     ]
    },
    {
     "data": {
      "application/vnd.jupyter.widget-view+json": {
       "model_id": "3cd201f0e1664ca1bb62b539b2d3e25e",
       "version_major": 2,
       "version_minor": 0
      },
      "text/plain": [
       "0/1           ETA: ?s - "
      ]
     },
     "metadata": {},
     "output_type": "display_data"
    },
    {
     "name": "stdout",
     "output_type": "stream",
     "text": [
      "Epoch 11/1000\n"
     ]
    },
    {
     "data": {
      "application/vnd.jupyter.widget-view+json": {
       "model_id": "756c19fdfc1f4599ad1cef16e8e57c4e",
       "version_major": 2,
       "version_minor": 0
      },
      "text/plain": [
       "0/1           ETA: ?s - "
      ]
     },
     "metadata": {},
     "output_type": "display_data"
    },
    {
     "name": "stdout",
     "output_type": "stream",
     "text": [
      "Epoch 12/1000\n"
     ]
    },
    {
     "data": {
      "application/vnd.jupyter.widget-view+json": {
       "model_id": "99444f3b894e4f22a82c13a89a3ce6df",
       "version_major": 2,
       "version_minor": 0
      },
      "text/plain": [
       "0/1           ETA: ?s - "
      ]
     },
     "metadata": {},
     "output_type": "display_data"
    },
    {
     "name": "stdout",
     "output_type": "stream",
     "text": [
      "Epoch 13/1000\n"
     ]
    },
    {
     "data": {
      "application/vnd.jupyter.widget-view+json": {
       "model_id": "8b1ade2374da4550bd16f6ed74ac04c1",
       "version_major": 2,
       "version_minor": 0
      },
      "text/plain": [
       "0/1           ETA: ?s - "
      ]
     },
     "metadata": {},
     "output_type": "display_data"
    },
    {
     "name": "stdout",
     "output_type": "stream",
     "text": [
      "Epoch 14/1000\n"
     ]
    },
    {
     "data": {
      "application/vnd.jupyter.widget-view+json": {
       "model_id": "5bedab778d0b4a3c89f78ec23939297a",
       "version_major": 2,
       "version_minor": 0
      },
      "text/plain": [
       "0/1           ETA: ?s - "
      ]
     },
     "metadata": {},
     "output_type": "display_data"
    },
    {
     "name": "stdout",
     "output_type": "stream",
     "text": [
      "Epoch 15/1000\n"
     ]
    },
    {
     "data": {
      "application/vnd.jupyter.widget-view+json": {
       "model_id": "bfbe93a598a2436baaf831884c636cf8",
       "version_major": 2,
       "version_minor": 0
      },
      "text/plain": [
       "0/1           ETA: ?s - "
      ]
     },
     "metadata": {},
     "output_type": "display_data"
    },
    {
     "name": "stdout",
     "output_type": "stream",
     "text": [
      "Epoch 16/1000\n"
     ]
    },
    {
     "data": {
      "application/vnd.jupyter.widget-view+json": {
       "model_id": "6437683e804244f0a62ba7d4942e704f",
       "version_major": 2,
       "version_minor": 0
      },
      "text/plain": [
       "0/1           ETA: ?s - "
      ]
     },
     "metadata": {},
     "output_type": "display_data"
    },
    {
     "name": "stdout",
     "output_type": "stream",
     "text": [
      "Epoch 17/1000\n"
     ]
    },
    {
     "data": {
      "application/vnd.jupyter.widget-view+json": {
       "model_id": "a330e4623ac048b3a160867b796c8d9d",
       "version_major": 2,
       "version_minor": 0
      },
      "text/plain": [
       "0/1           ETA: ?s - "
      ]
     },
     "metadata": {},
     "output_type": "display_data"
    },
    {
     "name": "stdout",
     "output_type": "stream",
     "text": [
      "Epoch 18/1000\n"
     ]
    },
    {
     "data": {
      "application/vnd.jupyter.widget-view+json": {
       "model_id": "e505a1f4bab94c7c85d46d898ef89838",
       "version_major": 2,
       "version_minor": 0
      },
      "text/plain": [
       "0/1           ETA: ?s - "
      ]
     },
     "metadata": {},
     "output_type": "display_data"
    },
    {
     "name": "stdout",
     "output_type": "stream",
     "text": [
      "Epoch 19/1000\n"
     ]
    },
    {
     "data": {
      "application/vnd.jupyter.widget-view+json": {
       "model_id": "497f837a5a1a4679a0ff566f1f8d09a0",
       "version_major": 2,
       "version_minor": 0
      },
      "text/plain": [
       "0/1           ETA: ?s - "
      ]
     },
     "metadata": {},
     "output_type": "display_data"
    },
    {
     "name": "stdout",
     "output_type": "stream",
     "text": [
      "Epoch 20/1000\n"
     ]
    },
    {
     "data": {
      "application/vnd.jupyter.widget-view+json": {
       "model_id": "3a22439a07db43329e2f1745203889af",
       "version_major": 2,
       "version_minor": 0
      },
      "text/plain": [
       "0/1           ETA: ?s - "
      ]
     },
     "metadata": {},
     "output_type": "display_data"
    },
    {
     "name": "stdout",
     "output_type": "stream",
     "text": [
      "Epoch 21/1000\n"
     ]
    },
    {
     "data": {
      "application/vnd.jupyter.widget-view+json": {
       "model_id": "52d3fe8faa6b4d9b95b1c4b363d027b0",
       "version_major": 2,
       "version_minor": 0
      },
      "text/plain": [
       "0/1           ETA: ?s - "
      ]
     },
     "metadata": {},
     "output_type": "display_data"
    },
    {
     "name": "stdout",
     "output_type": "stream",
     "text": [
      "Epoch 22/1000\n"
     ]
    },
    {
     "data": {
      "application/vnd.jupyter.widget-view+json": {
       "model_id": "b397ef961d924725abaca030d44c4207",
       "version_major": 2,
       "version_minor": 0
      },
      "text/plain": [
       "0/1           ETA: ?s - "
      ]
     },
     "metadata": {},
     "output_type": "display_data"
    },
    {
     "name": "stdout",
     "output_type": "stream",
     "text": [
      "Epoch 23/1000\n"
     ]
    },
    {
     "data": {
      "application/vnd.jupyter.widget-view+json": {
       "model_id": "e7977f66b2574cc4b1757295ccbd0202",
       "version_major": 2,
       "version_minor": 0
      },
      "text/plain": [
       "0/1           ETA: ?s - "
      ]
     },
     "metadata": {},
     "output_type": "display_data"
    },
    {
     "name": "stdout",
     "output_type": "stream",
     "text": [
      "Epoch 24/1000\n"
     ]
    },
    {
     "data": {
      "application/vnd.jupyter.widget-view+json": {
       "model_id": "c48cd93d511e416893bcc5d38be9ebee",
       "version_major": 2,
       "version_minor": 0
      },
      "text/plain": [
       "0/1           ETA: ?s - "
      ]
     },
     "metadata": {},
     "output_type": "display_data"
    },
    {
     "name": "stdout",
     "output_type": "stream",
     "text": [
      "Epoch 25/1000\n"
     ]
    },
    {
     "data": {
      "application/vnd.jupyter.widget-view+json": {
       "model_id": "d1aa4f6438b4411080b07b6947b0b959",
       "version_major": 2,
       "version_minor": 0
      },
      "text/plain": [
       "0/1           ETA: ?s - "
      ]
     },
     "metadata": {},
     "output_type": "display_data"
    },
    {
     "name": "stdout",
     "output_type": "stream",
     "text": [
      "Epoch 26/1000\n"
     ]
    },
    {
     "data": {
      "application/vnd.jupyter.widget-view+json": {
       "model_id": "029776e720084f7c8394d37813b42c5c",
       "version_major": 2,
       "version_minor": 0
      },
      "text/plain": [
       "0/1           ETA: ?s - "
      ]
     },
     "metadata": {},
     "output_type": "display_data"
    },
    {
     "name": "stdout",
     "output_type": "stream",
     "text": [
      "Epoch 27/1000\n"
     ]
    },
    {
     "data": {
      "application/vnd.jupyter.widget-view+json": {
       "model_id": "aa7d0326e55c4fae859e5ec018c839d3",
       "version_major": 2,
       "version_minor": 0
      },
      "text/plain": [
       "0/1           ETA: ?s - "
      ]
     },
     "metadata": {},
     "output_type": "display_data"
    },
    {
     "name": "stdout",
     "output_type": "stream",
     "text": [
      "Epoch 28/1000\n"
     ]
    },
    {
     "data": {
      "application/vnd.jupyter.widget-view+json": {
       "model_id": "54f8f85059164b579e5e1a9c92025bd9",
       "version_major": 2,
       "version_minor": 0
      },
      "text/plain": [
       "0/1           ETA: ?s - "
      ]
     },
     "metadata": {},
     "output_type": "display_data"
    },
    {
     "name": "stdout",
     "output_type": "stream",
     "text": [
      "Epoch 29/1000\n"
     ]
    },
    {
     "data": {
      "application/vnd.jupyter.widget-view+json": {
       "model_id": "16de4e3dd9b6492d83c18cb4775ea236",
       "version_major": 2,
       "version_minor": 0
      },
      "text/plain": [
       "0/1           ETA: ?s - "
      ]
     },
     "metadata": {},
     "output_type": "display_data"
    },
    {
     "name": "stdout",
     "output_type": "stream",
     "text": [
      "Epoch 30/1000\n"
     ]
    },
    {
     "data": {
      "application/vnd.jupyter.widget-view+json": {
       "model_id": "4c5d701633fb41f08d3c46a3196df0e3",
       "version_major": 2,
       "version_minor": 0
      },
      "text/plain": [
       "0/1           ETA: ?s - "
      ]
     },
     "metadata": {},
     "output_type": "display_data"
    },
    {
     "name": "stdout",
     "output_type": "stream",
     "text": [
      "Epoch 31/1000\n"
     ]
    },
    {
     "data": {
      "application/vnd.jupyter.widget-view+json": {
       "model_id": "fdda3d0ebe2543f18d0508f401f8fefa",
       "version_major": 2,
       "version_minor": 0
      },
      "text/plain": [
       "0/1           ETA: ?s - "
      ]
     },
     "metadata": {},
     "output_type": "display_data"
    },
    {
     "name": "stdout",
     "output_type": "stream",
     "text": [
      "Epoch 32/1000\n"
     ]
    },
    {
     "data": {
      "application/vnd.jupyter.widget-view+json": {
       "model_id": "cdf9c041f3cb41aaaef7efd00fa9ea29",
       "version_major": 2,
       "version_minor": 0
      },
      "text/plain": [
       "0/1           ETA: ?s - "
      ]
     },
     "metadata": {},
     "output_type": "display_data"
    },
    {
     "name": "stdout",
     "output_type": "stream",
     "text": [
      "Epoch 33/1000\n"
     ]
    },
    {
     "data": {
      "application/vnd.jupyter.widget-view+json": {
       "model_id": "2719bbcbb28444fc83f15f7725403885",
       "version_major": 2,
       "version_minor": 0
      },
      "text/plain": [
       "0/1           ETA: ?s - "
      ]
     },
     "metadata": {},
     "output_type": "display_data"
    },
    {
     "name": "stdout",
     "output_type": "stream",
     "text": [
      "Epoch 34/1000\n"
     ]
    },
    {
     "data": {
      "application/vnd.jupyter.widget-view+json": {
       "model_id": "95c6ba9fc2dc406b93fc2ac946ce0c9e",
       "version_major": 2,
       "version_minor": 0
      },
      "text/plain": [
       "0/1           ETA: ?s - "
      ]
     },
     "metadata": {},
     "output_type": "display_data"
    },
    {
     "name": "stdout",
     "output_type": "stream",
     "text": [
      "Epoch 35/1000\n"
     ]
    },
    {
     "data": {
      "application/vnd.jupyter.widget-view+json": {
       "model_id": "112e4b480fb84f8788309281aaf6a933",
       "version_major": 2,
       "version_minor": 0
      },
      "text/plain": [
       "0/1           ETA: ?s - "
      ]
     },
     "metadata": {},
     "output_type": "display_data"
    },
    {
     "name": "stdout",
     "output_type": "stream",
     "text": [
      "Epoch 36/1000\n"
     ]
    },
    {
     "data": {
      "application/vnd.jupyter.widget-view+json": {
       "model_id": "9c87b24739714ebd98977e1af45bc36e",
       "version_major": 2,
       "version_minor": 0
      },
      "text/plain": [
       "0/1           ETA: ?s - "
      ]
     },
     "metadata": {},
     "output_type": "display_data"
    },
    {
     "name": "stdout",
     "output_type": "stream",
     "text": [
      "Epoch 37/1000\n"
     ]
    },
    {
     "data": {
      "application/vnd.jupyter.widget-view+json": {
       "model_id": "071d16817bf84296950b3e19dc7e6b60",
       "version_major": 2,
       "version_minor": 0
      },
      "text/plain": [
       "0/1           ETA: ?s - "
      ]
     },
     "metadata": {},
     "output_type": "display_data"
    },
    {
     "name": "stdout",
     "output_type": "stream",
     "text": [
      "Epoch 38/1000\n"
     ]
    },
    {
     "data": {
      "application/vnd.jupyter.widget-view+json": {
       "model_id": "c2018194d40445dbb96b76ba7faeabfc",
       "version_major": 2,
       "version_minor": 0
      },
      "text/plain": [
       "0/1           ETA: ?s - "
      ]
     },
     "metadata": {},
     "output_type": "display_data"
    },
    {
     "name": "stdout",
     "output_type": "stream",
     "text": [
      "Epoch 39/1000\n"
     ]
    },
    {
     "data": {
      "application/vnd.jupyter.widget-view+json": {
       "model_id": "beeb72f0d9c148b094f356d1515f172c",
       "version_major": 2,
       "version_minor": 0
      },
      "text/plain": [
       "0/1           ETA: ?s - "
      ]
     },
     "metadata": {},
     "output_type": "display_data"
    },
    {
     "name": "stdout",
     "output_type": "stream",
     "text": [
      "Epoch 40/1000\n"
     ]
    },
    {
     "data": {
      "application/vnd.jupyter.widget-view+json": {
       "model_id": "873f1043c7de48f5b8efd3f3ef89a053",
       "version_major": 2,
       "version_minor": 0
      },
      "text/plain": [
       "0/1           ETA: ?s - "
      ]
     },
     "metadata": {},
     "output_type": "display_data"
    },
    {
     "name": "stdout",
     "output_type": "stream",
     "text": [
      "Epoch 41/1000\n"
     ]
    },
    {
     "data": {
      "application/vnd.jupyter.widget-view+json": {
       "model_id": "7a153f6b767944f090dc65f16d67a093",
       "version_major": 2,
       "version_minor": 0
      },
      "text/plain": [
       "0/1           ETA: ?s - "
      ]
     },
     "metadata": {},
     "output_type": "display_data"
    },
    {
     "name": "stdout",
     "output_type": "stream",
     "text": [
      "Epoch 42/1000\n"
     ]
    },
    {
     "data": {
      "application/vnd.jupyter.widget-view+json": {
       "model_id": "d941e8cba75144b59a93096e6575edb3",
       "version_major": 2,
       "version_minor": 0
      },
      "text/plain": [
       "0/1           ETA: ?s - "
      ]
     },
     "metadata": {},
     "output_type": "display_data"
    },
    {
     "name": "stdout",
     "output_type": "stream",
     "text": [
      "Epoch 43/1000\n"
     ]
    },
    {
     "data": {
      "application/vnd.jupyter.widget-view+json": {
       "model_id": "6c659b1200694b3ab7ef8b253ad5b2e2",
       "version_major": 2,
       "version_minor": 0
      },
      "text/plain": [
       "0/1           ETA: ?s - "
      ]
     },
     "metadata": {},
     "output_type": "display_data"
    },
    {
     "name": "stdout",
     "output_type": "stream",
     "text": [
      "Epoch 44/1000\n"
     ]
    },
    {
     "data": {
      "application/vnd.jupyter.widget-view+json": {
       "model_id": "b4e15cdc76fe426f9e52e0d5f64b99cf",
       "version_major": 2,
       "version_minor": 0
      },
      "text/plain": [
       "0/1           ETA: ?s - "
      ]
     },
     "metadata": {},
     "output_type": "display_data"
    },
    {
     "name": "stdout",
     "output_type": "stream",
     "text": [
      "Epoch 45/1000\n"
     ]
    },
    {
     "data": {
      "application/vnd.jupyter.widget-view+json": {
       "model_id": "5b0edcddcfdf4093be8d8438a2c390f0",
       "version_major": 2,
       "version_minor": 0
      },
      "text/plain": [
       "0/1           ETA: ?s - "
      ]
     },
     "metadata": {},
     "output_type": "display_data"
    },
    {
     "name": "stdout",
     "output_type": "stream",
     "text": [
      "Epoch 46/1000\n"
     ]
    },
    {
     "data": {
      "application/vnd.jupyter.widget-view+json": {
       "model_id": "0274b1447a4f4e3a91d1087e3200768b",
       "version_major": 2,
       "version_minor": 0
      },
      "text/plain": [
       "0/1           ETA: ?s - "
      ]
     },
     "metadata": {},
     "output_type": "display_data"
    },
    {
     "name": "stdout",
     "output_type": "stream",
     "text": [
      "Epoch 47/1000\n"
     ]
    },
    {
     "data": {
      "application/vnd.jupyter.widget-view+json": {
       "model_id": "90ceb01be3de49119fb3576c418edcef",
       "version_major": 2,
       "version_minor": 0
      },
      "text/plain": [
       "0/1           ETA: ?s - "
      ]
     },
     "metadata": {},
     "output_type": "display_data"
    },
    {
     "name": "stdout",
     "output_type": "stream",
     "text": [
      "Epoch 48/1000\n"
     ]
    },
    {
     "data": {
      "application/vnd.jupyter.widget-view+json": {
       "model_id": "28f415159f7e407bbc8dd877de873542",
       "version_major": 2,
       "version_minor": 0
      },
      "text/plain": [
       "0/1           ETA: ?s - "
      ]
     },
     "metadata": {},
     "output_type": "display_data"
    },
    {
     "name": "stdout",
     "output_type": "stream",
     "text": [
      "Epoch 49/1000\n"
     ]
    },
    {
     "data": {
      "application/vnd.jupyter.widget-view+json": {
       "model_id": "6687abde508d49aa90bd963c895ee730",
       "version_major": 2,
       "version_minor": 0
      },
      "text/plain": [
       "0/1           ETA: ?s - "
      ]
     },
     "metadata": {},
     "output_type": "display_data"
    },
    {
     "name": "stdout",
     "output_type": "stream",
     "text": [
      "Epoch 50/1000\n"
     ]
    },
    {
     "data": {
      "application/vnd.jupyter.widget-view+json": {
       "model_id": "b3093ac0c63048838ca20626eaaaf4c5",
       "version_major": 2,
       "version_minor": 0
      },
      "text/plain": [
       "0/1           ETA: ?s - "
      ]
     },
     "metadata": {},
     "output_type": "display_data"
    },
    {
     "name": "stdout",
     "output_type": "stream",
     "text": [
      "Epoch 51/1000\n"
     ]
    },
    {
     "data": {
      "application/vnd.jupyter.widget-view+json": {
       "model_id": "f98e2f97244c4dbbbe7249299b7d3170",
       "version_major": 2,
       "version_minor": 0
      },
      "text/plain": [
       "0/1           ETA: ?s - "
      ]
     },
     "metadata": {},
     "output_type": "display_data"
    },
    {
     "name": "stdout",
     "output_type": "stream",
     "text": [
      "Epoch 52/1000\n"
     ]
    },
    {
     "data": {
      "application/vnd.jupyter.widget-view+json": {
       "model_id": "4c66a40638f146a8a5cc607a6a1be32a",
       "version_major": 2,
       "version_minor": 0
      },
      "text/plain": [
       "0/1           ETA: ?s - "
      ]
     },
     "metadata": {},
     "output_type": "display_data"
    },
    {
     "name": "stdout",
     "output_type": "stream",
     "text": [
      "Epoch 53/1000\n"
     ]
    },
    {
     "data": {
      "application/vnd.jupyter.widget-view+json": {
       "model_id": "758012522ebf43d9880c53561339e47a",
       "version_major": 2,
       "version_minor": 0
      },
      "text/plain": [
       "0/1           ETA: ?s - "
      ]
     },
     "metadata": {},
     "output_type": "display_data"
    },
    {
     "name": "stdout",
     "output_type": "stream",
     "text": [
      "Epoch 54/1000\n"
     ]
    },
    {
     "data": {
      "application/vnd.jupyter.widget-view+json": {
       "model_id": "17a5681e62f846c796b98fc5576308f0",
       "version_major": 2,
       "version_minor": 0
      },
      "text/plain": [
       "0/1           ETA: ?s - "
      ]
     },
     "metadata": {},
     "output_type": "display_data"
    },
    {
     "name": "stdout",
     "output_type": "stream",
     "text": [
      "Epoch 55/1000\n"
     ]
    },
    {
     "data": {
      "application/vnd.jupyter.widget-view+json": {
       "model_id": "c79130a022454f30acf16bb374244c85",
       "version_major": 2,
       "version_minor": 0
      },
      "text/plain": [
       "0/1           ETA: ?s - "
      ]
     },
     "metadata": {},
     "output_type": "display_data"
    },
    {
     "name": "stdout",
     "output_type": "stream",
     "text": [
      "Epoch 56/1000\n"
     ]
    },
    {
     "data": {
      "application/vnd.jupyter.widget-view+json": {
       "model_id": "c2c64740c43c4dad9e2b2e4591262ff0",
       "version_major": 2,
       "version_minor": 0
      },
      "text/plain": [
       "0/1           ETA: ?s - "
      ]
     },
     "metadata": {},
     "output_type": "display_data"
    },
    {
     "name": "stdout",
     "output_type": "stream",
     "text": [
      "Epoch 57/1000\n"
     ]
    },
    {
     "data": {
      "application/vnd.jupyter.widget-view+json": {
       "model_id": "ede4f240994442949cc62fcda51e888a",
       "version_major": 2,
       "version_minor": 0
      },
      "text/plain": [
       "0/1           ETA: ?s - "
      ]
     },
     "metadata": {},
     "output_type": "display_data"
    },
    {
     "name": "stdout",
     "output_type": "stream",
     "text": [
      "Epoch 58/1000\n"
     ]
    },
    {
     "data": {
      "application/vnd.jupyter.widget-view+json": {
       "model_id": "11679cbbb2b9423bb453db0a7e3ab8e6",
       "version_major": 2,
       "version_minor": 0
      },
      "text/plain": [
       "0/1           ETA: ?s - "
      ]
     },
     "metadata": {},
     "output_type": "display_data"
    },
    {
     "name": "stdout",
     "output_type": "stream",
     "text": [
      "Epoch 59/1000\n"
     ]
    },
    {
     "data": {
      "application/vnd.jupyter.widget-view+json": {
       "model_id": "ed1ba555beaa43e6b43d070bc953b693",
       "version_major": 2,
       "version_minor": 0
      },
      "text/plain": [
       "0/1           ETA: ?s - "
      ]
     },
     "metadata": {},
     "output_type": "display_data"
    },
    {
     "name": "stdout",
     "output_type": "stream",
     "text": [
      "Epoch 60/1000\n"
     ]
    },
    {
     "data": {
      "application/vnd.jupyter.widget-view+json": {
       "model_id": "5f092bd248cc423d9b3b78cfc2b24080",
       "version_major": 2,
       "version_minor": 0
      },
      "text/plain": [
       "0/1           ETA: ?s - "
      ]
     },
     "metadata": {},
     "output_type": "display_data"
    },
    {
     "name": "stdout",
     "output_type": "stream",
     "text": [
      "Epoch 61/1000\n"
     ]
    },
    {
     "data": {
      "application/vnd.jupyter.widget-view+json": {
       "model_id": "2114fc9472a842a2b3261aa200a62f19",
       "version_major": 2,
       "version_minor": 0
      },
      "text/plain": [
       "0/1           ETA: ?s - "
      ]
     },
     "metadata": {},
     "output_type": "display_data"
    },
    {
     "name": "stdout",
     "output_type": "stream",
     "text": [
      "Epoch 62/1000\n"
     ]
    },
    {
     "data": {
      "application/vnd.jupyter.widget-view+json": {
       "model_id": "9275ecf059dc4ff7bfe31dc60c63489d",
       "version_major": 2,
       "version_minor": 0
      },
      "text/plain": [
       "0/1           ETA: ?s - "
      ]
     },
     "metadata": {},
     "output_type": "display_data"
    },
    {
     "name": "stdout",
     "output_type": "stream",
     "text": [
      "Epoch 63/1000\n"
     ]
    },
    {
     "data": {
      "application/vnd.jupyter.widget-view+json": {
       "model_id": "844ff9f6a8984decaf2a2576a5fa49bd",
       "version_major": 2,
       "version_minor": 0
      },
      "text/plain": [
       "0/1           ETA: ?s - "
      ]
     },
     "metadata": {},
     "output_type": "display_data"
    },
    {
     "name": "stdout",
     "output_type": "stream",
     "text": [
      "Epoch 64/1000\n"
     ]
    },
    {
     "data": {
      "application/vnd.jupyter.widget-view+json": {
       "model_id": "75f15d2fbbbd4985a894908225f4f046",
       "version_major": 2,
       "version_minor": 0
      },
      "text/plain": [
       "0/1           ETA: ?s - "
      ]
     },
     "metadata": {},
     "output_type": "display_data"
    },
    {
     "name": "stdout",
     "output_type": "stream",
     "text": [
      "Epoch 65/1000\n"
     ]
    },
    {
     "data": {
      "application/vnd.jupyter.widget-view+json": {
       "model_id": "44aa2932e2ca4998a1de36a11ab36e8d",
       "version_major": 2,
       "version_minor": 0
      },
      "text/plain": [
       "0/1           ETA: ?s - "
      ]
     },
     "metadata": {},
     "output_type": "display_data"
    },
    {
     "name": "stdout",
     "output_type": "stream",
     "text": [
      "Epoch 66/1000\n"
     ]
    },
    {
     "data": {
      "application/vnd.jupyter.widget-view+json": {
       "model_id": "6388679f69f44f489ce9b2a0fd1f7c1f",
       "version_major": 2,
       "version_minor": 0
      },
      "text/plain": [
       "0/1           ETA: ?s - "
      ]
     },
     "metadata": {},
     "output_type": "display_data"
    },
    {
     "name": "stdout",
     "output_type": "stream",
     "text": [
      "Epoch 67/1000\n"
     ]
    },
    {
     "data": {
      "application/vnd.jupyter.widget-view+json": {
       "model_id": "e5dfe9359e03446c9b561f1530179590",
       "version_major": 2,
       "version_minor": 0
      },
      "text/plain": [
       "0/1           ETA: ?s - "
      ]
     },
     "metadata": {},
     "output_type": "display_data"
    },
    {
     "name": "stdout",
     "output_type": "stream",
     "text": [
      "Epoch 68/1000\n"
     ]
    },
    {
     "data": {
      "application/vnd.jupyter.widget-view+json": {
       "model_id": "c3e07cc70a3a4ba8abf94a41be086e78",
       "version_major": 2,
       "version_minor": 0
      },
      "text/plain": [
       "0/1           ETA: ?s - "
      ]
     },
     "metadata": {},
     "output_type": "display_data"
    },
    {
     "name": "stdout",
     "output_type": "stream",
     "text": [
      "Epoch 69/1000\n"
     ]
    },
    {
     "data": {
      "application/vnd.jupyter.widget-view+json": {
       "model_id": "ba086d9071b7466997a6224ac82c929a",
       "version_major": 2,
       "version_minor": 0
      },
      "text/plain": [
       "0/1           ETA: ?s - "
      ]
     },
     "metadata": {},
     "output_type": "display_data"
    },
    {
     "name": "stdout",
     "output_type": "stream",
     "text": [
      "Epoch 70/1000\n"
     ]
    },
    {
     "data": {
      "application/vnd.jupyter.widget-view+json": {
       "model_id": "bcdca9ec391848e49d1876fc088570e6",
       "version_major": 2,
       "version_minor": 0
      },
      "text/plain": [
       "0/1           ETA: ?s - "
      ]
     },
     "metadata": {},
     "output_type": "display_data"
    },
    {
     "name": "stdout",
     "output_type": "stream",
     "text": [
      "Epoch 71/1000\n"
     ]
    },
    {
     "data": {
      "application/vnd.jupyter.widget-view+json": {
       "model_id": "6afd5f0625c848c9a64967c30ad90976",
       "version_major": 2,
       "version_minor": 0
      },
      "text/plain": [
       "0/1           ETA: ?s - "
      ]
     },
     "metadata": {},
     "output_type": "display_data"
    },
    {
     "name": "stdout",
     "output_type": "stream",
     "text": [
      "Epoch 72/1000\n"
     ]
    },
    {
     "data": {
      "application/vnd.jupyter.widget-view+json": {
       "model_id": "31d4649f88f64d218610672940bd69d5",
       "version_major": 2,
       "version_minor": 0
      },
      "text/plain": [
       "0/1           ETA: ?s - "
      ]
     },
     "metadata": {},
     "output_type": "display_data"
    },
    {
     "name": "stdout",
     "output_type": "stream",
     "text": [
      "Epoch 73/1000\n"
     ]
    },
    {
     "data": {
      "application/vnd.jupyter.widget-view+json": {
       "model_id": "9c6d12f747c94eb689dba34710a98708",
       "version_major": 2,
       "version_minor": 0
      },
      "text/plain": [
       "0/1           ETA: ?s - "
      ]
     },
     "metadata": {},
     "output_type": "display_data"
    },
    {
     "name": "stdout",
     "output_type": "stream",
     "text": [
      "Epoch 74/1000\n"
     ]
    },
    {
     "data": {
      "application/vnd.jupyter.widget-view+json": {
       "model_id": "9b7edb6c62c84234b3e8a4c192d82631",
       "version_major": 2,
       "version_minor": 0
      },
      "text/plain": [
       "0/1           ETA: ?s - "
      ]
     },
     "metadata": {},
     "output_type": "display_data"
    },
    {
     "name": "stdout",
     "output_type": "stream",
     "text": [
      "Epoch 75/1000\n"
     ]
    },
    {
     "data": {
      "application/vnd.jupyter.widget-view+json": {
       "model_id": "5216b051aa934d4f98bb48ed4d606971",
       "version_major": 2,
       "version_minor": 0
      },
      "text/plain": [
       "0/1           ETA: ?s - "
      ]
     },
     "metadata": {},
     "output_type": "display_data"
    },
    {
     "name": "stdout",
     "output_type": "stream",
     "text": [
      "Epoch 76/1000\n"
     ]
    },
    {
     "data": {
      "application/vnd.jupyter.widget-view+json": {
       "model_id": "bd8293e863cd4628a0efa9a2e5df5f9a",
       "version_major": 2,
       "version_minor": 0
      },
      "text/plain": [
       "0/1           ETA: ?s - "
      ]
     },
     "metadata": {},
     "output_type": "display_data"
    },
    {
     "name": "stdout",
     "output_type": "stream",
     "text": [
      "Epoch 77/1000\n"
     ]
    },
    {
     "data": {
      "application/vnd.jupyter.widget-view+json": {
       "model_id": "3b6303b5f7a7462b945e91f4dddcb8d9",
       "version_major": 2,
       "version_minor": 0
      },
      "text/plain": [
       "0/1           ETA: ?s - "
      ]
     },
     "metadata": {},
     "output_type": "display_data"
    },
    {
     "name": "stdout",
     "output_type": "stream",
     "text": [
      "Epoch 78/1000\n"
     ]
    },
    {
     "data": {
      "application/vnd.jupyter.widget-view+json": {
       "model_id": "ba4a31cb67254905ad6b643cf557129a",
       "version_major": 2,
       "version_minor": 0
      },
      "text/plain": [
       "0/1           ETA: ?s - "
      ]
     },
     "metadata": {},
     "output_type": "display_data"
    },
    {
     "name": "stdout",
     "output_type": "stream",
     "text": [
      "Epoch 79/1000\n"
     ]
    },
    {
     "data": {
      "application/vnd.jupyter.widget-view+json": {
       "model_id": "f1b09941db1443cc83a670dd1abcdf6b",
       "version_major": 2,
       "version_minor": 0
      },
      "text/plain": [
       "0/1           ETA: ?s - "
      ]
     },
     "metadata": {},
     "output_type": "display_data"
    },
    {
     "name": "stdout",
     "output_type": "stream",
     "text": [
      "Epoch 80/1000\n"
     ]
    },
    {
     "data": {
      "application/vnd.jupyter.widget-view+json": {
       "model_id": "47d7386facfe415bb3e78efaac871ead",
       "version_major": 2,
       "version_minor": 0
      },
      "text/plain": [
       "0/1           ETA: ?s - "
      ]
     },
     "metadata": {},
     "output_type": "display_data"
    },
    {
     "name": "stdout",
     "output_type": "stream",
     "text": [
      "Epoch 81/1000\n"
     ]
    },
    {
     "data": {
      "application/vnd.jupyter.widget-view+json": {
       "model_id": "e26cb01eabf044928d5453c7441971b9",
       "version_major": 2,
       "version_minor": 0
      },
      "text/plain": [
       "0/1           ETA: ?s - "
      ]
     },
     "metadata": {},
     "output_type": "display_data"
    },
    {
     "name": "stdout",
     "output_type": "stream",
     "text": [
      "Epoch 82/1000\n"
     ]
    },
    {
     "data": {
      "application/vnd.jupyter.widget-view+json": {
       "model_id": "6646eec08c5d404da60d25b3fdc578e1",
       "version_major": 2,
       "version_minor": 0
      },
      "text/plain": [
       "0/1           ETA: ?s - "
      ]
     },
     "metadata": {},
     "output_type": "display_data"
    },
    {
     "name": "stdout",
     "output_type": "stream",
     "text": [
      "Epoch 83/1000\n"
     ]
    },
    {
     "data": {
      "application/vnd.jupyter.widget-view+json": {
       "model_id": "e9911e45034243a5928f637363d2dde6",
       "version_major": 2,
       "version_minor": 0
      },
      "text/plain": [
       "0/1           ETA: ?s - "
      ]
     },
     "metadata": {},
     "output_type": "display_data"
    },
    {
     "name": "stdout",
     "output_type": "stream",
     "text": [
      "Epoch 84/1000\n"
     ]
    },
    {
     "data": {
      "application/vnd.jupyter.widget-view+json": {
       "model_id": "0fd9cde19ae0446085237db7df47c218",
       "version_major": 2,
       "version_minor": 0
      },
      "text/plain": [
       "0/1           ETA: ?s - "
      ]
     },
     "metadata": {},
     "output_type": "display_data"
    },
    {
     "name": "stdout",
     "output_type": "stream",
     "text": [
      "Epoch 85/1000\n"
     ]
    },
    {
     "data": {
      "application/vnd.jupyter.widget-view+json": {
       "model_id": "fbdbcc61f34540a1b8a42bcf91f1d2f7",
       "version_major": 2,
       "version_minor": 0
      },
      "text/plain": [
       "0/1           ETA: ?s - "
      ]
     },
     "metadata": {},
     "output_type": "display_data"
    },
    {
     "name": "stdout",
     "output_type": "stream",
     "text": [
      "Epoch 86/1000\n"
     ]
    },
    {
     "data": {
      "application/vnd.jupyter.widget-view+json": {
       "model_id": "954e839e5ad145ac9af34119b69853ea",
       "version_major": 2,
       "version_minor": 0
      },
      "text/plain": [
       "0/1           ETA: ?s - "
      ]
     },
     "metadata": {},
     "output_type": "display_data"
    },
    {
     "name": "stdout",
     "output_type": "stream",
     "text": [
      "Epoch 87/1000\n"
     ]
    },
    {
     "data": {
      "application/vnd.jupyter.widget-view+json": {
       "model_id": "bc537410f1294e6c8f7afc03d8b663ec",
       "version_major": 2,
       "version_minor": 0
      },
      "text/plain": [
       "0/1           ETA: ?s - "
      ]
     },
     "metadata": {},
     "output_type": "display_data"
    },
    {
     "name": "stdout",
     "output_type": "stream",
     "text": [
      "Epoch 88/1000\n"
     ]
    },
    {
     "data": {
      "application/vnd.jupyter.widget-view+json": {
       "model_id": "08945f3fa7c147e893a636e375d7defd",
       "version_major": 2,
       "version_minor": 0
      },
      "text/plain": [
       "0/1           ETA: ?s - "
      ]
     },
     "metadata": {},
     "output_type": "display_data"
    },
    {
     "name": "stdout",
     "output_type": "stream",
     "text": [
      "Epoch 89/1000\n"
     ]
    },
    {
     "data": {
      "application/vnd.jupyter.widget-view+json": {
       "model_id": "6cb0e046960942bfb1e2fc6e5a361951",
       "version_major": 2,
       "version_minor": 0
      },
      "text/plain": [
       "0/1           ETA: ?s - "
      ]
     },
     "metadata": {},
     "output_type": "display_data"
    },
    {
     "name": "stdout",
     "output_type": "stream",
     "text": [
      "Epoch 90/1000\n"
     ]
    },
    {
     "data": {
      "application/vnd.jupyter.widget-view+json": {
       "model_id": "980e6bce8c334d39b1c1c151e1cda72c",
       "version_major": 2,
       "version_minor": 0
      },
      "text/plain": [
       "0/1           ETA: ?s - "
      ]
     },
     "metadata": {},
     "output_type": "display_data"
    },
    {
     "name": "stdout",
     "output_type": "stream",
     "text": [
      "Epoch 91/1000\n"
     ]
    },
    {
     "data": {
      "application/vnd.jupyter.widget-view+json": {
       "model_id": "7abdef30a0ac4719b8cbdfd380dd765c",
       "version_major": 2,
       "version_minor": 0
      },
      "text/plain": [
       "0/1           ETA: ?s - "
      ]
     },
     "metadata": {},
     "output_type": "display_data"
    },
    {
     "name": "stdout",
     "output_type": "stream",
     "text": [
      "Epoch 92/1000\n"
     ]
    },
    {
     "data": {
      "application/vnd.jupyter.widget-view+json": {
       "model_id": "fa127f63d60e42f6b78fc89d53161d6d",
       "version_major": 2,
       "version_minor": 0
      },
      "text/plain": [
       "0/1           ETA: ?s - "
      ]
     },
     "metadata": {},
     "output_type": "display_data"
    },
    {
     "name": "stdout",
     "output_type": "stream",
     "text": [
      "Epoch 93/1000\n"
     ]
    },
    {
     "data": {
      "application/vnd.jupyter.widget-view+json": {
       "model_id": "318505169f574b47ab277d8a41853c1e",
       "version_major": 2,
       "version_minor": 0
      },
      "text/plain": [
       "0/1           ETA: ?s - "
      ]
     },
     "metadata": {},
     "output_type": "display_data"
    },
    {
     "name": "stdout",
     "output_type": "stream",
     "text": [
      "Epoch 94/1000\n"
     ]
    },
    {
     "data": {
      "application/vnd.jupyter.widget-view+json": {
       "model_id": "8180096c1a9e474b809679e035ddc9e2",
       "version_major": 2,
       "version_minor": 0
      },
      "text/plain": [
       "0/1           ETA: ?s - "
      ]
     },
     "metadata": {},
     "output_type": "display_data"
    },
    {
     "name": "stdout",
     "output_type": "stream",
     "text": [
      "Epoch 95/1000\n"
     ]
    },
    {
     "data": {
      "application/vnd.jupyter.widget-view+json": {
       "model_id": "e570b675b5db4dc4807987b91291d437",
       "version_major": 2,
       "version_minor": 0
      },
      "text/plain": [
       "0/1           ETA: ?s - "
      ]
     },
     "metadata": {},
     "output_type": "display_data"
    },
    {
     "name": "stdout",
     "output_type": "stream",
     "text": [
      "Epoch 96/1000\n"
     ]
    },
    {
     "data": {
      "application/vnd.jupyter.widget-view+json": {
       "model_id": "2874a2b1424a4bb1b5fcd51ddb7295cb",
       "version_major": 2,
       "version_minor": 0
      },
      "text/plain": [
       "0/1           ETA: ?s - "
      ]
     },
     "metadata": {},
     "output_type": "display_data"
    },
    {
     "name": "stdout",
     "output_type": "stream",
     "text": [
      "Epoch 97/1000\n"
     ]
    },
    {
     "data": {
      "application/vnd.jupyter.widget-view+json": {
       "model_id": "19e20035d5954eb89493d6737c330491",
       "version_major": 2,
       "version_minor": 0
      },
      "text/plain": [
       "0/1           ETA: ?s - "
      ]
     },
     "metadata": {},
     "output_type": "display_data"
    },
    {
     "name": "stdout",
     "output_type": "stream",
     "text": [
      "Epoch 98/1000\n"
     ]
    },
    {
     "data": {
      "application/vnd.jupyter.widget-view+json": {
       "model_id": "4faf59f8503e4a11be25a5f2aa2b35e5",
       "version_major": 2,
       "version_minor": 0
      },
      "text/plain": [
       "0/1           ETA: ?s - "
      ]
     },
     "metadata": {},
     "output_type": "display_data"
    },
    {
     "name": "stdout",
     "output_type": "stream",
     "text": [
      "Epoch 99/1000\n"
     ]
    },
    {
     "data": {
      "application/vnd.jupyter.widget-view+json": {
       "model_id": "6f8a17de1aa34b33b7d00ab9e3fe80e4",
       "version_major": 2,
       "version_minor": 0
      },
      "text/plain": [
       "0/1           ETA: ?s - "
      ]
     },
     "metadata": {},
     "output_type": "display_data"
    },
    {
     "name": "stdout",
     "output_type": "stream",
     "text": [
      "Epoch 100/1000\n"
     ]
    },
    {
     "data": {
      "application/vnd.jupyter.widget-view+json": {
       "model_id": "b841e24369d349bc97d3a97c382ca336",
       "version_major": 2,
       "version_minor": 0
      },
      "text/plain": [
       "0/1           ETA: ?s - "
      ]
     },
     "metadata": {},
     "output_type": "display_data"
    },
    {
     "name": "stdout",
     "output_type": "stream",
     "text": [
      "Epoch 101/1000\n"
     ]
    },
    {
     "data": {
      "application/vnd.jupyter.widget-view+json": {
       "model_id": "48b3542476744657af9c4847099f7fb3",
       "version_major": 2,
       "version_minor": 0
      },
      "text/plain": [
       "0/1           ETA: ?s - "
      ]
     },
     "metadata": {},
     "output_type": "display_data"
    },
    {
     "name": "stdout",
     "output_type": "stream",
     "text": [
      "Epoch 102/1000\n"
     ]
    },
    {
     "data": {
      "application/vnd.jupyter.widget-view+json": {
       "model_id": "a53a7157f12a41fcbd197e4380fa6498",
       "version_major": 2,
       "version_minor": 0
      },
      "text/plain": [
       "0/1           ETA: ?s - "
      ]
     },
     "metadata": {},
     "output_type": "display_data"
    },
    {
     "name": "stdout",
     "output_type": "stream",
     "text": [
      "Epoch 103/1000\n"
     ]
    },
    {
     "data": {
      "application/vnd.jupyter.widget-view+json": {
       "model_id": "7dc7ad4707d2442ebb3a71f150bf18b8",
       "version_major": 2,
       "version_minor": 0
      },
      "text/plain": [
       "0/1           ETA: ?s - "
      ]
     },
     "metadata": {},
     "output_type": "display_data"
    },
    {
     "name": "stdout",
     "output_type": "stream",
     "text": [
      "Epoch 104/1000\n"
     ]
    },
    {
     "data": {
      "application/vnd.jupyter.widget-view+json": {
       "model_id": "f63ecce3129d44d99d659aeb192655f3",
       "version_major": 2,
       "version_minor": 0
      },
      "text/plain": [
       "0/1           ETA: ?s - "
      ]
     },
     "metadata": {},
     "output_type": "display_data"
    },
    {
     "name": "stdout",
     "output_type": "stream",
     "text": [
      "Epoch 105/1000\n"
     ]
    },
    {
     "data": {
      "application/vnd.jupyter.widget-view+json": {
       "model_id": "520ab8b85aef42c79688db57d6809fab",
       "version_major": 2,
       "version_minor": 0
      },
      "text/plain": [
       "0/1           ETA: ?s - "
      ]
     },
     "metadata": {},
     "output_type": "display_data"
    },
    {
     "name": "stdout",
     "output_type": "stream",
     "text": [
      "Epoch 106/1000\n"
     ]
    },
    {
     "data": {
      "application/vnd.jupyter.widget-view+json": {
       "model_id": "ae27b999151a4ba9af4b6f6cf00610aa",
       "version_major": 2,
       "version_minor": 0
      },
      "text/plain": [
       "0/1           ETA: ?s - "
      ]
     },
     "metadata": {},
     "output_type": "display_data"
    },
    {
     "name": "stdout",
     "output_type": "stream",
     "text": [
      "Epoch 107/1000\n"
     ]
    },
    {
     "data": {
      "application/vnd.jupyter.widget-view+json": {
       "model_id": "48e1aee893614ad19f0db377ae8515d7",
       "version_major": 2,
       "version_minor": 0
      },
      "text/plain": [
       "0/1           ETA: ?s - "
      ]
     },
     "metadata": {},
     "output_type": "display_data"
    },
    {
     "name": "stdout",
     "output_type": "stream",
     "text": [
      "Epoch 108/1000\n"
     ]
    },
    {
     "data": {
      "application/vnd.jupyter.widget-view+json": {
       "model_id": "d77cd3837c994d3c96d7f906f78c502d",
       "version_major": 2,
       "version_minor": 0
      },
      "text/plain": [
       "0/1           ETA: ?s - "
      ]
     },
     "metadata": {},
     "output_type": "display_data"
    },
    {
     "name": "stdout",
     "output_type": "stream",
     "text": [
      "Epoch 109/1000\n"
     ]
    },
    {
     "data": {
      "application/vnd.jupyter.widget-view+json": {
       "model_id": "2c6cdde83ecb4e23a778c812da91a400",
       "version_major": 2,
       "version_minor": 0
      },
      "text/plain": [
       "0/1           ETA: ?s - "
      ]
     },
     "metadata": {},
     "output_type": "display_data"
    },
    {
     "name": "stdout",
     "output_type": "stream",
     "text": [
      "Epoch 110/1000\n"
     ]
    },
    {
     "data": {
      "application/vnd.jupyter.widget-view+json": {
       "model_id": "83f25e8fc6e247cf8c401da0fd79952e",
       "version_major": 2,
       "version_minor": 0
      },
      "text/plain": [
       "0/1           ETA: ?s - "
      ]
     },
     "metadata": {},
     "output_type": "display_data"
    },
    {
     "name": "stdout",
     "output_type": "stream",
     "text": [
      "Epoch 111/1000\n"
     ]
    },
    {
     "data": {
      "application/vnd.jupyter.widget-view+json": {
       "model_id": "5b27881a768749a3aa44dec351977d73",
       "version_major": 2,
       "version_minor": 0
      },
      "text/plain": [
       "0/1           ETA: ?s - "
      ]
     },
     "metadata": {},
     "output_type": "display_data"
    },
    {
     "name": "stdout",
     "output_type": "stream",
     "text": [
      "Epoch 112/1000\n"
     ]
    },
    {
     "data": {
      "application/vnd.jupyter.widget-view+json": {
       "model_id": "c3f67e855ba24860ab084af9f98ee598",
       "version_major": 2,
       "version_minor": 0
      },
      "text/plain": [
       "0/1           ETA: ?s - "
      ]
     },
     "metadata": {},
     "output_type": "display_data"
    },
    {
     "name": "stdout",
     "output_type": "stream",
     "text": [
      "Epoch 113/1000\n"
     ]
    },
    {
     "data": {
      "application/vnd.jupyter.widget-view+json": {
       "model_id": "4a7e08e43ad24156aeccc496541bd863",
       "version_major": 2,
       "version_minor": 0
      },
      "text/plain": [
       "0/1           ETA: ?s - "
      ]
     },
     "metadata": {},
     "output_type": "display_data"
    },
    {
     "name": "stdout",
     "output_type": "stream",
     "text": [
      "Epoch 114/1000\n"
     ]
    },
    {
     "data": {
      "application/vnd.jupyter.widget-view+json": {
       "model_id": "9587c27286de418393edbd3f53349764",
       "version_major": 2,
       "version_minor": 0
      },
      "text/plain": [
       "0/1           ETA: ?s - "
      ]
     },
     "metadata": {},
     "output_type": "display_data"
    },
    {
     "name": "stdout",
     "output_type": "stream",
     "text": [
      "Epoch 115/1000\n"
     ]
    },
    {
     "data": {
      "application/vnd.jupyter.widget-view+json": {
       "model_id": "c40fa611e1c44cb1ae060860c690769c",
       "version_major": 2,
       "version_minor": 0
      },
      "text/plain": [
       "0/1           ETA: ?s - "
      ]
     },
     "metadata": {},
     "output_type": "display_data"
    },
    {
     "name": "stdout",
     "output_type": "stream",
     "text": [
      "Epoch 116/1000\n"
     ]
    },
    {
     "data": {
      "application/vnd.jupyter.widget-view+json": {
       "model_id": "cf8e9949629043cab04ca816b08c47b7",
       "version_major": 2,
       "version_minor": 0
      },
      "text/plain": [
       "0/1           ETA: ?s - "
      ]
     },
     "metadata": {},
     "output_type": "display_data"
    },
    {
     "name": "stdout",
     "output_type": "stream",
     "text": [
      "Epoch 117/1000\n"
     ]
    },
    {
     "data": {
      "application/vnd.jupyter.widget-view+json": {
       "model_id": "2247a6e6634a4e0e8020eb324313af11",
       "version_major": 2,
       "version_minor": 0
      },
      "text/plain": [
       "0/1           ETA: ?s - "
      ]
     },
     "metadata": {},
     "output_type": "display_data"
    },
    {
     "name": "stdout",
     "output_type": "stream",
     "text": [
      "Epoch 118/1000\n"
     ]
    },
    {
     "data": {
      "application/vnd.jupyter.widget-view+json": {
       "model_id": "7d8eb64f24834e7c9e6f54da652f3ccc",
       "version_major": 2,
       "version_minor": 0
      },
      "text/plain": [
       "0/1           ETA: ?s - "
      ]
     },
     "metadata": {},
     "output_type": "display_data"
    },
    {
     "name": "stdout",
     "output_type": "stream",
     "text": [
      "Epoch 119/1000\n"
     ]
    },
    {
     "data": {
      "application/vnd.jupyter.widget-view+json": {
       "model_id": "1dea82eb7d0c44dd8058cbf5e8113f8c",
       "version_major": 2,
       "version_minor": 0
      },
      "text/plain": [
       "0/1           ETA: ?s - "
      ]
     },
     "metadata": {},
     "output_type": "display_data"
    },
    {
     "name": "stdout",
     "output_type": "stream",
     "text": [
      "Epoch 120/1000\n"
     ]
    },
    {
     "data": {
      "application/vnd.jupyter.widget-view+json": {
       "model_id": "2c02c1874ed64b8aa0bc84032f60da13",
       "version_major": 2,
       "version_minor": 0
      },
      "text/plain": [
       "0/1           ETA: ?s - "
      ]
     },
     "metadata": {},
     "output_type": "display_data"
    },
    {
     "name": "stdout",
     "output_type": "stream",
     "text": [
      "Epoch 121/1000\n"
     ]
    },
    {
     "data": {
      "application/vnd.jupyter.widget-view+json": {
       "model_id": "68009e13b17b40f0840cda2bf27155f0",
       "version_major": 2,
       "version_minor": 0
      },
      "text/plain": [
       "0/1           ETA: ?s - "
      ]
     },
     "metadata": {},
     "output_type": "display_data"
    },
    {
     "name": "stdout",
     "output_type": "stream",
     "text": [
      "Epoch 122/1000\n"
     ]
    },
    {
     "data": {
      "application/vnd.jupyter.widget-view+json": {
       "model_id": "d436ff30b5b441c6980e87f997dddd0d",
       "version_major": 2,
       "version_minor": 0
      },
      "text/plain": [
       "0/1           ETA: ?s - "
      ]
     },
     "metadata": {},
     "output_type": "display_data"
    },
    {
     "name": "stdout",
     "output_type": "stream",
     "text": [
      "Epoch 123/1000\n"
     ]
    },
    {
     "data": {
      "application/vnd.jupyter.widget-view+json": {
       "model_id": "6c6f23925f04480a935bb0a8dce755cf",
       "version_major": 2,
       "version_minor": 0
      },
      "text/plain": [
       "0/1           ETA: ?s - "
      ]
     },
     "metadata": {},
     "output_type": "display_data"
    },
    {
     "name": "stdout",
     "output_type": "stream",
     "text": [
      "Epoch 124/1000\n"
     ]
    },
    {
     "data": {
      "application/vnd.jupyter.widget-view+json": {
       "model_id": "1dbe7b45d42249f0ab88f6069d81b731",
       "version_major": 2,
       "version_minor": 0
      },
      "text/plain": [
       "0/1           ETA: ?s - "
      ]
     },
     "metadata": {},
     "output_type": "display_data"
    },
    {
     "name": "stdout",
     "output_type": "stream",
     "text": [
      "Epoch 125/1000\n"
     ]
    },
    {
     "data": {
      "application/vnd.jupyter.widget-view+json": {
       "model_id": "12844857be4f43ad9ea1e5cf8214b0b2",
       "version_major": 2,
       "version_minor": 0
      },
      "text/plain": [
       "0/1           ETA: ?s - "
      ]
     },
     "metadata": {},
     "output_type": "display_data"
    },
    {
     "name": "stdout",
     "output_type": "stream",
     "text": [
      "Epoch 126/1000\n"
     ]
    },
    {
     "data": {
      "application/vnd.jupyter.widget-view+json": {
       "model_id": "abe4ead2d9dd46a78595908a87f63b50",
       "version_major": 2,
       "version_minor": 0
      },
      "text/plain": [
       "0/1           ETA: ?s - "
      ]
     },
     "metadata": {},
     "output_type": "display_data"
    },
    {
     "name": "stdout",
     "output_type": "stream",
     "text": [
      "Epoch 127/1000\n"
     ]
    },
    {
     "data": {
      "application/vnd.jupyter.widget-view+json": {
       "model_id": "dec824c14c2e4fd289bd8c57b0527deb",
       "version_major": 2,
       "version_minor": 0
      },
      "text/plain": [
       "0/1           ETA: ?s - "
      ]
     },
     "metadata": {},
     "output_type": "display_data"
    },
    {
     "name": "stdout",
     "output_type": "stream",
     "text": [
      "Epoch 128/1000\n"
     ]
    },
    {
     "data": {
      "application/vnd.jupyter.widget-view+json": {
       "model_id": "fa4eb2f90f944ee8af7c56609d93a343",
       "version_major": 2,
       "version_minor": 0
      },
      "text/plain": [
       "0/1           ETA: ?s - "
      ]
     },
     "metadata": {},
     "output_type": "display_data"
    },
    {
     "name": "stdout",
     "output_type": "stream",
     "text": [
      "Epoch 129/1000\n"
     ]
    },
    {
     "data": {
      "application/vnd.jupyter.widget-view+json": {
       "model_id": "0ca24b793d74444f94be44d4869c2198",
       "version_major": 2,
       "version_minor": 0
      },
      "text/plain": [
       "0/1           ETA: ?s - "
      ]
     },
     "metadata": {},
     "output_type": "display_data"
    },
    {
     "name": "stdout",
     "output_type": "stream",
     "text": [
      "Epoch 130/1000\n"
     ]
    },
    {
     "data": {
      "application/vnd.jupyter.widget-view+json": {
       "model_id": "3941868cd8a24fcf9bf0e1f15688aae5",
       "version_major": 2,
       "version_minor": 0
      },
      "text/plain": [
       "0/1           ETA: ?s - "
      ]
     },
     "metadata": {},
     "output_type": "display_data"
    },
    {
     "name": "stdout",
     "output_type": "stream",
     "text": [
      "Epoch 131/1000\n"
     ]
    },
    {
     "data": {
      "application/vnd.jupyter.widget-view+json": {
       "model_id": "8ea1e921820f4d699a160a748129422c",
       "version_major": 2,
       "version_minor": 0
      },
      "text/plain": [
       "0/1           ETA: ?s - "
      ]
     },
     "metadata": {},
     "output_type": "display_data"
    },
    {
     "name": "stdout",
     "output_type": "stream",
     "text": [
      "Epoch 132/1000\n"
     ]
    },
    {
     "data": {
      "application/vnd.jupyter.widget-view+json": {
       "model_id": "c2a305e71bb249c3acbb2b5472b51252",
       "version_major": 2,
       "version_minor": 0
      },
      "text/plain": [
       "0/1           ETA: ?s - "
      ]
     },
     "metadata": {},
     "output_type": "display_data"
    },
    {
     "name": "stdout",
     "output_type": "stream",
     "text": [
      "Epoch 133/1000\n"
     ]
    },
    {
     "data": {
      "application/vnd.jupyter.widget-view+json": {
       "model_id": "5af1ad8815784e85951786793521779b",
       "version_major": 2,
       "version_minor": 0
      },
      "text/plain": [
       "0/1           ETA: ?s - "
      ]
     },
     "metadata": {},
     "output_type": "display_data"
    },
    {
     "name": "stdout",
     "output_type": "stream",
     "text": [
      "Epoch 134/1000\n"
     ]
    },
    {
     "data": {
      "application/vnd.jupyter.widget-view+json": {
       "model_id": "0e5a390312e84c2d96b9859b6fac4a61",
       "version_major": 2,
       "version_minor": 0
      },
      "text/plain": [
       "0/1           ETA: ?s - "
      ]
     },
     "metadata": {},
     "output_type": "display_data"
    },
    {
     "name": "stdout",
     "output_type": "stream",
     "text": [
      "Epoch 135/1000\n"
     ]
    },
    {
     "data": {
      "application/vnd.jupyter.widget-view+json": {
       "model_id": "d84dd383c5a04961801cec72ece666aa",
       "version_major": 2,
       "version_minor": 0
      },
      "text/plain": [
       "0/1           ETA: ?s - "
      ]
     },
     "metadata": {},
     "output_type": "display_data"
    },
    {
     "name": "stdout",
     "output_type": "stream",
     "text": [
      "Epoch 136/1000\n"
     ]
    },
    {
     "data": {
      "application/vnd.jupyter.widget-view+json": {
       "model_id": "76fdd96378f742a6910dd85a5909486c",
       "version_major": 2,
       "version_minor": 0
      },
      "text/plain": [
       "0/1           ETA: ?s - "
      ]
     },
     "metadata": {},
     "output_type": "display_data"
    },
    {
     "name": "stdout",
     "output_type": "stream",
     "text": [
      "Epoch 137/1000\n"
     ]
    },
    {
     "data": {
      "application/vnd.jupyter.widget-view+json": {
       "model_id": "ec6dc2ac00f242bb9ad279dd303f0c74",
       "version_major": 2,
       "version_minor": 0
      },
      "text/plain": [
       "0/1           ETA: ?s - "
      ]
     },
     "metadata": {},
     "output_type": "display_data"
    },
    {
     "name": "stdout",
     "output_type": "stream",
     "text": [
      "Epoch 138/1000\n"
     ]
    },
    {
     "data": {
      "application/vnd.jupyter.widget-view+json": {
       "model_id": "679ddff3d9c648bcaea03aa6584d3669",
       "version_major": 2,
       "version_minor": 0
      },
      "text/plain": [
       "0/1           ETA: ?s - "
      ]
     },
     "metadata": {},
     "output_type": "display_data"
    },
    {
     "name": "stdout",
     "output_type": "stream",
     "text": [
      "Epoch 139/1000\n"
     ]
    },
    {
     "data": {
      "application/vnd.jupyter.widget-view+json": {
       "model_id": "63fe129b0e8040e2a415cde76d60e4c9",
       "version_major": 2,
       "version_minor": 0
      },
      "text/plain": [
       "0/1           ETA: ?s - "
      ]
     },
     "metadata": {},
     "output_type": "display_data"
    },
    {
     "name": "stdout",
     "output_type": "stream",
     "text": [
      "Epoch 140/1000\n"
     ]
    },
    {
     "data": {
      "application/vnd.jupyter.widget-view+json": {
       "model_id": "119fcd5c0e244c268ca7a632a9c93a4f",
       "version_major": 2,
       "version_minor": 0
      },
      "text/plain": [
       "0/1           ETA: ?s - "
      ]
     },
     "metadata": {},
     "output_type": "display_data"
    },
    {
     "name": "stdout",
     "output_type": "stream",
     "text": [
      "Epoch 141/1000\n"
     ]
    },
    {
     "data": {
      "application/vnd.jupyter.widget-view+json": {
       "model_id": "198cd86da1a24da0bca3dc6a430ae97f",
       "version_major": 2,
       "version_minor": 0
      },
      "text/plain": [
       "0/1           ETA: ?s - "
      ]
     },
     "metadata": {},
     "output_type": "display_data"
    },
    {
     "name": "stdout",
     "output_type": "stream",
     "text": [
      "Epoch 142/1000\n"
     ]
    },
    {
     "data": {
      "application/vnd.jupyter.widget-view+json": {
       "model_id": "88244044c96947569eb07e93278bc495",
       "version_major": 2,
       "version_minor": 0
      },
      "text/plain": [
       "0/1           ETA: ?s - "
      ]
     },
     "metadata": {},
     "output_type": "display_data"
    },
    {
     "name": "stdout",
     "output_type": "stream",
     "text": [
      "Epoch 143/1000\n"
     ]
    },
    {
     "data": {
      "application/vnd.jupyter.widget-view+json": {
       "model_id": "9dee95eed3364d3a80d49ca948200bdf",
       "version_major": 2,
       "version_minor": 0
      },
      "text/plain": [
       "0/1           ETA: ?s - "
      ]
     },
     "metadata": {},
     "output_type": "display_data"
    },
    {
     "name": "stdout",
     "output_type": "stream",
     "text": [
      "Epoch 144/1000\n"
     ]
    },
    {
     "data": {
      "application/vnd.jupyter.widget-view+json": {
       "model_id": "60f75bc67f934006aa8b6e8524ca31a5",
       "version_major": 2,
       "version_minor": 0
      },
      "text/plain": [
       "0/1           ETA: ?s - "
      ]
     },
     "metadata": {},
     "output_type": "display_data"
    },
    {
     "name": "stdout",
     "output_type": "stream",
     "text": [
      "Epoch 145/1000\n"
     ]
    },
    {
     "data": {
      "application/vnd.jupyter.widget-view+json": {
       "model_id": "b5d885eaaf714e38ae043df6c7559b0b",
       "version_major": 2,
       "version_minor": 0
      },
      "text/plain": [
       "0/1           ETA: ?s - "
      ]
     },
     "metadata": {},
     "output_type": "display_data"
    },
    {
     "name": "stdout",
     "output_type": "stream",
     "text": [
      "Epoch 146/1000\n"
     ]
    },
    {
     "data": {
      "application/vnd.jupyter.widget-view+json": {
       "model_id": "9691c22208434fbdaf582d9be1375b32",
       "version_major": 2,
       "version_minor": 0
      },
      "text/plain": [
       "0/1           ETA: ?s - "
      ]
     },
     "metadata": {},
     "output_type": "display_data"
    },
    {
     "name": "stdout",
     "output_type": "stream",
     "text": [
      "Epoch 147/1000\n"
     ]
    },
    {
     "data": {
      "application/vnd.jupyter.widget-view+json": {
       "model_id": "2d98e27bbbaf4241a8afd706a5247ca8",
       "version_major": 2,
       "version_minor": 0
      },
      "text/plain": [
       "0/1           ETA: ?s - "
      ]
     },
     "metadata": {},
     "output_type": "display_data"
    },
    {
     "name": "stdout",
     "output_type": "stream",
     "text": [
      "Epoch 148/1000\n"
     ]
    },
    {
     "data": {
      "application/vnd.jupyter.widget-view+json": {
       "model_id": "a38df8fdbbf04795858f7b684173388e",
       "version_major": 2,
       "version_minor": 0
      },
      "text/plain": [
       "0/1           ETA: ?s - "
      ]
     },
     "metadata": {},
     "output_type": "display_data"
    },
    {
     "name": "stdout",
     "output_type": "stream",
     "text": [
      "Epoch 149/1000\n"
     ]
    },
    {
     "data": {
      "application/vnd.jupyter.widget-view+json": {
       "model_id": "7ecd89def9a6449b827eb30f23ad7d77",
       "version_major": 2,
       "version_minor": 0
      },
      "text/plain": [
       "0/1           ETA: ?s - "
      ]
     },
     "metadata": {},
     "output_type": "display_data"
    },
    {
     "name": "stdout",
     "output_type": "stream",
     "text": [
      "Epoch 150/1000\n"
     ]
    },
    {
     "data": {
      "application/vnd.jupyter.widget-view+json": {
       "model_id": "73a20e4dc57f4f90bb3d570ae3527435",
       "version_major": 2,
       "version_minor": 0
      },
      "text/plain": [
       "0/1           ETA: ?s - "
      ]
     },
     "metadata": {},
     "output_type": "display_data"
    },
    {
     "name": "stdout",
     "output_type": "stream",
     "text": [
      "Epoch 151/1000\n"
     ]
    },
    {
     "data": {
      "application/vnd.jupyter.widget-view+json": {
       "model_id": "d148068ca8ec4c3b9c9ab10eb13316e7",
       "version_major": 2,
       "version_minor": 0
      },
      "text/plain": [
       "0/1           ETA: ?s - "
      ]
     },
     "metadata": {},
     "output_type": "display_data"
    },
    {
     "name": "stdout",
     "output_type": "stream",
     "text": [
      "Epoch 152/1000\n"
     ]
    },
    {
     "data": {
      "application/vnd.jupyter.widget-view+json": {
       "model_id": "55ee059e70954010a32581ae8da94dd7",
       "version_major": 2,
       "version_minor": 0
      },
      "text/plain": [
       "0/1           ETA: ?s - "
      ]
     },
     "metadata": {},
     "output_type": "display_data"
    },
    {
     "name": "stdout",
     "output_type": "stream",
     "text": [
      "Epoch 153/1000\n"
     ]
    },
    {
     "data": {
      "application/vnd.jupyter.widget-view+json": {
       "model_id": "39f077fb99854ee3adffce4baf5a0c45",
       "version_major": 2,
       "version_minor": 0
      },
      "text/plain": [
       "0/1           ETA: ?s - "
      ]
     },
     "metadata": {},
     "output_type": "display_data"
    },
    {
     "name": "stdout",
     "output_type": "stream",
     "text": [
      "Epoch 154/1000\n"
     ]
    },
    {
     "data": {
      "application/vnd.jupyter.widget-view+json": {
       "model_id": "8e3327516ae44ed4a563e9695810f93a",
       "version_major": 2,
       "version_minor": 0
      },
      "text/plain": [
       "0/1           ETA: ?s - "
      ]
     },
     "metadata": {},
     "output_type": "display_data"
    },
    {
     "name": "stdout",
     "output_type": "stream",
     "text": [
      "Epoch 155/1000\n"
     ]
    },
    {
     "data": {
      "application/vnd.jupyter.widget-view+json": {
       "model_id": "af86926e05bf4a1c9431b22946fd4069",
       "version_major": 2,
       "version_minor": 0
      },
      "text/plain": [
       "0/1           ETA: ?s - "
      ]
     },
     "metadata": {},
     "output_type": "display_data"
    },
    {
     "name": "stdout",
     "output_type": "stream",
     "text": [
      "Epoch 156/1000\n"
     ]
    },
    {
     "data": {
      "application/vnd.jupyter.widget-view+json": {
       "model_id": "0f1210e139fd4dd895869cca7aeb091d",
       "version_major": 2,
       "version_minor": 0
      },
      "text/plain": [
       "0/1           ETA: ?s - "
      ]
     },
     "metadata": {},
     "output_type": "display_data"
    },
    {
     "name": "stdout",
     "output_type": "stream",
     "text": [
      "Epoch 157/1000\n"
     ]
    },
    {
     "data": {
      "application/vnd.jupyter.widget-view+json": {
       "model_id": "878530eb4e584cc6b79fd196743308d1",
       "version_major": 2,
       "version_minor": 0
      },
      "text/plain": [
       "0/1           ETA: ?s - "
      ]
     },
     "metadata": {},
     "output_type": "display_data"
    },
    {
     "name": "stdout",
     "output_type": "stream",
     "text": [
      "Epoch 158/1000\n"
     ]
    },
    {
     "data": {
      "application/vnd.jupyter.widget-view+json": {
       "model_id": "3ee95ec95a93461e9b9fddca69aa41a8",
       "version_major": 2,
       "version_minor": 0
      },
      "text/plain": [
       "0/1           ETA: ?s - "
      ]
     },
     "metadata": {},
     "output_type": "display_data"
    },
    {
     "name": "stdout",
     "output_type": "stream",
     "text": [
      "Epoch 159/1000\n"
     ]
    },
    {
     "data": {
      "application/vnd.jupyter.widget-view+json": {
       "model_id": "9740a62286d84eb89f25294daf94ab7a",
       "version_major": 2,
       "version_minor": 0
      },
      "text/plain": [
       "0/1           ETA: ?s - "
      ]
     },
     "metadata": {},
     "output_type": "display_data"
    },
    {
     "name": "stdout",
     "output_type": "stream",
     "text": [
      "Epoch 160/1000\n"
     ]
    },
    {
     "data": {
      "application/vnd.jupyter.widget-view+json": {
       "model_id": "54ed7c38c22b47b78b246a53b967d17f",
       "version_major": 2,
       "version_minor": 0
      },
      "text/plain": [
       "0/1           ETA: ?s - "
      ]
     },
     "metadata": {},
     "output_type": "display_data"
    },
    {
     "name": "stdout",
     "output_type": "stream",
     "text": [
      "Epoch 161/1000\n"
     ]
    },
    {
     "data": {
      "application/vnd.jupyter.widget-view+json": {
       "model_id": "28ff2bc7aebd418d8387a4333bce5974",
       "version_major": 2,
       "version_minor": 0
      },
      "text/plain": [
       "0/1           ETA: ?s - "
      ]
     },
     "metadata": {},
     "output_type": "display_data"
    },
    {
     "name": "stdout",
     "output_type": "stream",
     "text": [
      "Epoch 162/1000\n"
     ]
    },
    {
     "data": {
      "application/vnd.jupyter.widget-view+json": {
       "model_id": "a6846264f3d048b9ad59518c63153ac5",
       "version_major": 2,
       "version_minor": 0
      },
      "text/plain": [
       "0/1           ETA: ?s - "
      ]
     },
     "metadata": {},
     "output_type": "display_data"
    },
    {
     "name": "stdout",
     "output_type": "stream",
     "text": [
      "Epoch 163/1000\n"
     ]
    },
    {
     "data": {
      "application/vnd.jupyter.widget-view+json": {
       "model_id": "ebceaabc8ee1481d80657acf956401f9",
       "version_major": 2,
       "version_minor": 0
      },
      "text/plain": [
       "0/1           ETA: ?s - "
      ]
     },
     "metadata": {},
     "output_type": "display_data"
    },
    {
     "name": "stdout",
     "output_type": "stream",
     "text": [
      "Epoch 164/1000\n"
     ]
    },
    {
     "data": {
      "application/vnd.jupyter.widget-view+json": {
       "model_id": "9a41c27b89fe43fd91edfd9093beb74e",
       "version_major": 2,
       "version_minor": 0
      },
      "text/plain": [
       "0/1           ETA: ?s - "
      ]
     },
     "metadata": {},
     "output_type": "display_data"
    },
    {
     "ename": "KeyboardInterrupt",
     "evalue": "",
     "output_type": "error",
     "traceback": [
      "\u001b[0;31m---------------------------------------------------------------------------\u001b[0m",
      "\u001b[0;31mKeyboardInterrupt\u001b[0m                         Traceback (most recent call last)",
      "\u001b[0;32m<ipython-input-15-36f488569365>\u001b[0m in \u001b[0;36m<module>\u001b[0;34m\u001b[0m\n\u001b[1;32m     24\u001b[0m \u001b[0mrnn\u001b[0m\u001b[0;34m.\u001b[0m\u001b[0mepochs\u001b[0m \u001b[0;34m=\u001b[0m \u001b[0;36m1000\u001b[0m\u001b[0;34m\u001b[0m\u001b[0;34m\u001b[0m\u001b[0m\n\u001b[1;32m     25\u001b[0m \u001b[0;31m#\u001b[0m\u001b[0;34m\u001b[0m\u001b[0;34m\u001b[0m\u001b[0;34m\u001b[0m\u001b[0m\n\u001b[0;32m---> 26\u001b[0;31m \u001b[0mrnn\u001b[0m\u001b[0;34m.\u001b[0m\u001b[0mrun_rnn\u001b[0m\u001b[0;34m(\u001b[0m\u001b[0;34m)\u001b[0m\u001b[0;34m\u001b[0m\u001b[0;34m\u001b[0m\u001b[0m\n\u001b[0m",
      "\u001b[0;32m~/code/widefieldPredict/PredictRNN.py\u001b[0m in \u001b[0;36mrun_rnn\u001b[0;34m(self)\u001b[0m\n\u001b[1;32m    581\u001b[0m \u001b[0;34m\u001b[0m\u001b[0m\n\u001b[1;32m    582\u001b[0m             \u001b[0;31m#\u001b[0m\u001b[0;34m\u001b[0m\u001b[0;34m\u001b[0m\u001b[0;34m\u001b[0m\u001b[0m\n\u001b[0;32m--> 583\u001b[0;31m             \u001b[0mself\u001b[0m\u001b[0;34m.\u001b[0m\u001b[0mrun_whole\u001b[0m\u001b[0;34m(\u001b[0m\u001b[0;34m)\u001b[0m\u001b[0;34m\u001b[0m\u001b[0;34m\u001b[0m\u001b[0m\n\u001b[0m",
      "\u001b[0;32m~/code/widefieldPredict/PredictRNN.py\u001b[0m in \u001b[0;36mrun_whole\u001b[0;34m(self)\u001b[0m\n\u001b[1;32m    396\u001b[0m             \u001b[0;32mreturn\u001b[0m\u001b[0;34m\u001b[0m\u001b[0;34m\u001b[0m\u001b[0m\n\u001b[1;32m    397\u001b[0m \u001b[0;34m\u001b[0m\u001b[0m\n\u001b[0;32m--> 398\u001b[0;31m         \u001b[0mself\u001b[0m\u001b[0;34m.\u001b[0m\u001b[0mmodel_run_whole\u001b[0m\u001b[0;34m(\u001b[0m\u001b[0;34m)\u001b[0m\u001b[0;34m\u001b[0m\u001b[0;34m\u001b[0m\u001b[0m\n\u001b[0m\u001b[1;32m    399\u001b[0m \u001b[0;34m\u001b[0m\u001b[0m\n\u001b[1;32m    400\u001b[0m         \u001b[0mprint\u001b[0m \u001b[0;34m(\u001b[0m\u001b[0;34m\"FINISHED PREDICTION...\"\u001b[0m\u001b[0;34m)\u001b[0m\u001b[0;34m\u001b[0m\u001b[0;34m\u001b[0m\u001b[0m\n",
      "\u001b[0;32m~/code/widefieldPredict/PredictRNN.py\u001b[0m in \u001b[0;36mmodel_run_whole\u001b[0;34m(self)\u001b[0m\n\u001b[1;32m    310\u001b[0m         \u001b[0mearly_stop_callback\u001b[0m\u001b[0;34m=\u001b[0m\u001b[0mMyThresholdCallback\u001b[0m\u001b[0;34m(\u001b[0m\u001b[0mthreshold\u001b[0m\u001b[0;34m=\u001b[0m\u001b[0;36m0.99\u001b[0m\u001b[0;34m)\u001b[0m\u001b[0;34m\u001b[0m\u001b[0;34m\u001b[0m\u001b[0m\n\u001b[1;32m    311\u001b[0m         \u001b[0;31m#\u001b[0m\u001b[0;34m\u001b[0m\u001b[0;34m\u001b[0m\u001b[0;34m\u001b[0m\u001b[0m\n\u001b[0;32m--> 312\u001b[0;31m         history=self.model.fit(self.X_train_RN,\n\u001b[0m\u001b[1;32m    313\u001b[0m                           \u001b[0mself\u001b[0m\u001b[0;34m.\u001b[0m\u001b[0my_train_RN\u001b[0m\u001b[0;34m,\u001b[0m\u001b[0;34m\u001b[0m\u001b[0;34m\u001b[0m\u001b[0m\n\u001b[1;32m    314\u001b[0m                           \u001b[0mepochs\u001b[0m\u001b[0;34m=\u001b[0m\u001b[0mself\u001b[0m\u001b[0;34m.\u001b[0m\u001b[0mepochs\u001b[0m\u001b[0;34m,\u001b[0m\u001b[0;34m\u001b[0m\u001b[0;34m\u001b[0m\u001b[0m\n",
      "\u001b[0;32m/mnt/f418adc0-4ff9-410c-93c9-d6d21a1e9c35/anaconda3/envs/wide/lib/python3.8/site-packages/tensorflow/python/keras/engine/training.py\u001b[0m in \u001b[0;36mfit\u001b[0;34m(self, x, y, batch_size, epochs, verbose, callbacks, validation_split, validation_data, shuffle, class_weight, sample_weight, initial_epoch, steps_per_epoch, validation_steps, validation_batch_size, validation_freq, max_queue_size, workers, use_multiprocessing)\u001b[0m\n\u001b[1;32m   1186\u001b[0m                 _r=1):\n\u001b[1;32m   1187\u001b[0m               \u001b[0mcallbacks\u001b[0m\u001b[0;34m.\u001b[0m\u001b[0mon_train_batch_begin\u001b[0m\u001b[0;34m(\u001b[0m\u001b[0mstep\u001b[0m\u001b[0;34m)\u001b[0m\u001b[0;34m\u001b[0m\u001b[0;34m\u001b[0m\u001b[0m\n\u001b[0;32m-> 1188\u001b[0;31m               \u001b[0mtmp_logs\u001b[0m \u001b[0;34m=\u001b[0m \u001b[0mself\u001b[0m\u001b[0;34m.\u001b[0m\u001b[0mtrain_function\u001b[0m\u001b[0;34m(\u001b[0m\u001b[0miterator\u001b[0m\u001b[0;34m)\u001b[0m\u001b[0;34m\u001b[0m\u001b[0;34m\u001b[0m\u001b[0m\n\u001b[0m\u001b[1;32m   1189\u001b[0m               \u001b[0;32mif\u001b[0m \u001b[0mdata_handler\u001b[0m\u001b[0;34m.\u001b[0m\u001b[0mshould_sync\u001b[0m\u001b[0;34m:\u001b[0m\u001b[0;34m\u001b[0m\u001b[0;34m\u001b[0m\u001b[0m\n\u001b[1;32m   1190\u001b[0m                 \u001b[0mcontext\u001b[0m\u001b[0;34m.\u001b[0m\u001b[0masync_wait\u001b[0m\u001b[0;34m(\u001b[0m\u001b[0;34m)\u001b[0m\u001b[0;34m\u001b[0m\u001b[0;34m\u001b[0m\u001b[0m\n",
      "\u001b[0;32m/mnt/f418adc0-4ff9-410c-93c9-d6d21a1e9c35/anaconda3/envs/wide/lib/python3.8/site-packages/tensorflow/python/eager/def_function.py\u001b[0m in \u001b[0;36m__call__\u001b[0;34m(self, *args, **kwds)\u001b[0m\n\u001b[1;32m    883\u001b[0m \u001b[0;34m\u001b[0m\u001b[0m\n\u001b[1;32m    884\u001b[0m       \u001b[0;32mwith\u001b[0m \u001b[0mOptionalXlaContext\u001b[0m\u001b[0;34m(\u001b[0m\u001b[0mself\u001b[0m\u001b[0;34m.\u001b[0m\u001b[0m_jit_compile\u001b[0m\u001b[0;34m)\u001b[0m\u001b[0;34m:\u001b[0m\u001b[0;34m\u001b[0m\u001b[0;34m\u001b[0m\u001b[0m\n\u001b[0;32m--> 885\u001b[0;31m         \u001b[0mresult\u001b[0m \u001b[0;34m=\u001b[0m \u001b[0mself\u001b[0m\u001b[0;34m.\u001b[0m\u001b[0m_call\u001b[0m\u001b[0;34m(\u001b[0m\u001b[0;34m*\u001b[0m\u001b[0margs\u001b[0m\u001b[0;34m,\u001b[0m \u001b[0;34m**\u001b[0m\u001b[0mkwds\u001b[0m\u001b[0;34m)\u001b[0m\u001b[0;34m\u001b[0m\u001b[0;34m\u001b[0m\u001b[0m\n\u001b[0m\u001b[1;32m    886\u001b[0m \u001b[0;34m\u001b[0m\u001b[0m\n\u001b[1;32m    887\u001b[0m       \u001b[0mnew_tracing_count\u001b[0m \u001b[0;34m=\u001b[0m \u001b[0mself\u001b[0m\u001b[0;34m.\u001b[0m\u001b[0mexperimental_get_tracing_count\u001b[0m\u001b[0;34m(\u001b[0m\u001b[0;34m)\u001b[0m\u001b[0;34m\u001b[0m\u001b[0;34m\u001b[0m\u001b[0m\n",
      "\u001b[0;32m/mnt/f418adc0-4ff9-410c-93c9-d6d21a1e9c35/anaconda3/envs/wide/lib/python3.8/site-packages/tensorflow/python/eager/def_function.py\u001b[0m in \u001b[0;36m_call\u001b[0;34m(self, *args, **kwds)\u001b[0m\n\u001b[1;32m    911\u001b[0m       \u001b[0;31m# In this case we have created variables on the first call, so we run the\u001b[0m\u001b[0;34m\u001b[0m\u001b[0;34m\u001b[0m\u001b[0;34m\u001b[0m\u001b[0m\n\u001b[1;32m    912\u001b[0m       \u001b[0;31m# defunned version which is guaranteed to never create variables.\u001b[0m\u001b[0;34m\u001b[0m\u001b[0;34m\u001b[0m\u001b[0;34m\u001b[0m\u001b[0m\n\u001b[0;32m--> 913\u001b[0;31m       \u001b[0;32mreturn\u001b[0m \u001b[0mself\u001b[0m\u001b[0;34m.\u001b[0m\u001b[0m_stateless_fn\u001b[0m\u001b[0;34m(\u001b[0m\u001b[0;34m*\u001b[0m\u001b[0margs\u001b[0m\u001b[0;34m,\u001b[0m \u001b[0;34m**\u001b[0m\u001b[0mkwds\u001b[0m\u001b[0;34m)\u001b[0m  \u001b[0;31m# pylint: disable=not-callable\u001b[0m\u001b[0;34m\u001b[0m\u001b[0;34m\u001b[0m\u001b[0m\n\u001b[0m\u001b[1;32m    914\u001b[0m     \u001b[0;32melif\u001b[0m \u001b[0mself\u001b[0m\u001b[0;34m.\u001b[0m\u001b[0m_stateful_fn\u001b[0m \u001b[0;32mis\u001b[0m \u001b[0;32mnot\u001b[0m \u001b[0;32mNone\u001b[0m\u001b[0;34m:\u001b[0m\u001b[0;34m\u001b[0m\u001b[0;34m\u001b[0m\u001b[0m\n\u001b[1;32m    915\u001b[0m       \u001b[0;31m# Release the lock early so that multiple threads can perform the call\u001b[0m\u001b[0;34m\u001b[0m\u001b[0;34m\u001b[0m\u001b[0;34m\u001b[0m\u001b[0m\n",
      "\u001b[0;32m/mnt/f418adc0-4ff9-410c-93c9-d6d21a1e9c35/anaconda3/envs/wide/lib/python3.8/site-packages/tensorflow/python/eager/function.py\u001b[0m in \u001b[0;36m__call__\u001b[0;34m(self, *args, **kwargs)\u001b[0m\n\u001b[1;32m   3030\u001b[0m       (graph_function,\n\u001b[1;32m   3031\u001b[0m        filtered_flat_args) = self._maybe_define_function(args, kwargs)\n\u001b[0;32m-> 3032\u001b[0;31m     return graph_function._call_flat(\n\u001b[0m\u001b[1;32m   3033\u001b[0m         filtered_flat_args, captured_inputs=graph_function.captured_inputs)  # pylint: disable=protected-access\n\u001b[1;32m   3034\u001b[0m \u001b[0;34m\u001b[0m\u001b[0m\n",
      "\u001b[0;32m/mnt/f418adc0-4ff9-410c-93c9-d6d21a1e9c35/anaconda3/envs/wide/lib/python3.8/site-packages/tensorflow/python/eager/function.py\u001b[0m in \u001b[0;36m_call_flat\u001b[0;34m(self, args, captured_inputs, cancellation_manager)\u001b[0m\n\u001b[1;32m   1954\u001b[0m         and executing_eagerly):\n\u001b[1;32m   1955\u001b[0m       \u001b[0;31m# No tape is watching; skip to running the function.\u001b[0m\u001b[0;34m\u001b[0m\u001b[0;34m\u001b[0m\u001b[0;34m\u001b[0m\u001b[0m\n\u001b[0;32m-> 1956\u001b[0;31m       return self._build_call_outputs(self._inference_function.call(\n\u001b[0m\u001b[1;32m   1957\u001b[0m           ctx, args, cancellation_manager=cancellation_manager))\n\u001b[1;32m   1958\u001b[0m     forward_backward = self._select_forward_and_backward_functions(\n",
      "\u001b[0;32m/mnt/f418adc0-4ff9-410c-93c9-d6d21a1e9c35/anaconda3/envs/wide/lib/python3.8/site-packages/tensorflow/python/eager/function.py\u001b[0m in \u001b[0;36mcall\u001b[0;34m(self, ctx, args, cancellation_manager)\u001b[0m\n\u001b[1;32m    589\u001b[0m       \u001b[0;32mwith\u001b[0m \u001b[0m_InterpolateFunctionError\u001b[0m\u001b[0;34m(\u001b[0m\u001b[0mself\u001b[0m\u001b[0;34m)\u001b[0m\u001b[0;34m:\u001b[0m\u001b[0;34m\u001b[0m\u001b[0;34m\u001b[0m\u001b[0m\n\u001b[1;32m    590\u001b[0m         \u001b[0;32mif\u001b[0m \u001b[0mcancellation_manager\u001b[0m \u001b[0;32mis\u001b[0m \u001b[0;32mNone\u001b[0m\u001b[0;34m:\u001b[0m\u001b[0;34m\u001b[0m\u001b[0;34m\u001b[0m\u001b[0m\n\u001b[0;32m--> 591\u001b[0;31m           outputs = execute.execute(\n\u001b[0m\u001b[1;32m    592\u001b[0m               \u001b[0mstr\u001b[0m\u001b[0;34m(\u001b[0m\u001b[0mself\u001b[0m\u001b[0;34m.\u001b[0m\u001b[0msignature\u001b[0m\u001b[0;34m.\u001b[0m\u001b[0mname\u001b[0m\u001b[0;34m)\u001b[0m\u001b[0;34m,\u001b[0m\u001b[0;34m\u001b[0m\u001b[0;34m\u001b[0m\u001b[0m\n\u001b[1;32m    593\u001b[0m               \u001b[0mnum_outputs\u001b[0m\u001b[0;34m=\u001b[0m\u001b[0mself\u001b[0m\u001b[0;34m.\u001b[0m\u001b[0m_num_outputs\u001b[0m\u001b[0;34m,\u001b[0m\u001b[0;34m\u001b[0m\u001b[0;34m\u001b[0m\u001b[0m\n",
      "\u001b[0;32m/mnt/f418adc0-4ff9-410c-93c9-d6d21a1e9c35/anaconda3/envs/wide/lib/python3.8/site-packages/tensorflow/python/eager/execute.py\u001b[0m in \u001b[0;36mquick_execute\u001b[0;34m(op_name, num_outputs, inputs, attrs, ctx, name)\u001b[0m\n\u001b[1;32m     57\u001b[0m   \u001b[0;32mtry\u001b[0m\u001b[0;34m:\u001b[0m\u001b[0;34m\u001b[0m\u001b[0;34m\u001b[0m\u001b[0m\n\u001b[1;32m     58\u001b[0m     \u001b[0mctx\u001b[0m\u001b[0;34m.\u001b[0m\u001b[0mensure_initialized\u001b[0m\u001b[0;34m(\u001b[0m\u001b[0;34m)\u001b[0m\u001b[0;34m\u001b[0m\u001b[0;34m\u001b[0m\u001b[0m\n\u001b[0;32m---> 59\u001b[0;31m     tensors = pywrap_tfe.TFE_Py_Execute(ctx._handle, device_name, op_name,\n\u001b[0m\u001b[1;32m     60\u001b[0m                                         inputs, attrs, num_outputs)\n\u001b[1;32m     61\u001b[0m   \u001b[0;32mexcept\u001b[0m \u001b[0mcore\u001b[0m\u001b[0;34m.\u001b[0m\u001b[0m_NotOkStatusException\u001b[0m \u001b[0;32mas\u001b[0m \u001b[0me\u001b[0m\u001b[0;34m:\u001b[0m\u001b[0;34m\u001b[0m\u001b[0;34m\u001b[0m\u001b[0m\n",
      "\u001b[0;31mKeyboardInterrupt\u001b[0m: "
     ]
    }
   ],
   "source": [
    "#######################\n",
    "##### PREDICT RNN #####\n",
    "#######################\n",
    "rnn = PredictRNN()\n",
    "\n",
    "# \n",
    "#rnn.main_dir = '/media/cat/4TBSSD/yuki/'\n",
    "rnn.main_dir = '/mnt/f418adc0-4ff9-410c-93c9-d6d21a1e9c35/yuki/'\n",
    "\n",
    "# default params\n",
    "rnn.lockout = False\n",
    "rnn.pca_flag = True\n",
    "rnn.pca_var = 0.95\n",
    "rnn.window = 10\n",
    "\n",
    "# \n",
    "rnn.rnn = \"LSTM\"\n",
    "\n",
    "# \n",
    "rnn.animal_id = 'IJ2'\n",
    "rnn.session_id = 'Mar2_'\n",
    "\n",
    "# optional\n",
    "rnn.epochs = 1000\n",
    "#\n",
    "rnn.run_rnn()"
   ]
  },
  {
   "cell_type": "code",
   "execution_count": 124,
   "metadata": {
    "scrolled": true
   },
   "outputs": [
    {
     "name": "stderr",
     "output_type": "stream",
     "text": [
      "/home/cat/miniconda3/envs/wide/lib/python3.8/site-packages/tensorflow/python/keras/engine/sequential.py:455: UserWarning: `model.predict_classes()` is deprecated and will be removed after 2021-01-01. Please use instead:* `np.argmax(model.predict(x), axis=-1)`,   if your model does multi-class classification   (e.g. if it uses a `softmax` last-layer activation).* `(model.predict(x) > 0.5).astype(\"int32\")`,   if your model does binary classification   (e.g. if it uses a `sigmoid` last-layer activation).\n",
      "  warnings.warn('`model.predict_classes()` is deprecated and '\n"
     ]
    },
    {
     "name": "stdout",
     "output_type": "stream",
     "text": [
      "prediction on target model:  (44, 1)\n",
      "Predicting on X-test-RN:  (44, 300, 6)\n",
      "OUPTUS:  (44, 300, 256)\n",
      "prediction on target model:  (44, 1)\n",
      "Predicting on X-test-RN:  (44, 300, 6)\n",
      "OUPTUS:  (44, 300, 256)\n",
      "Outputs of target model ( ... x times): outputs  (44, 300, 512)\n",
      "y_predict:  (44, 1)\n",
      "Explained variance:  [0.37357458 0.22614278 0.20203327]\n",
      "Layer PCA:  (13200, 3)\n",
      "Layer vi:  (44, 300, 3)\n"
     ]
    },
    {
     "name": "stderr",
     "output_type": "stream",
     "text": [
      "/home/cat/miniconda3/envs/wide/lib/python3.8/site-packages/tensorflow/python/keras/engine/sequential.py:455: UserWarning: `model.predict_classes()` is deprecated and will be removed after 2021-01-01. Please use instead:* `np.argmax(model.predict(x), axis=-1)`,   if your model does multi-class classification   (e.g. if it uses a `softmax` last-layer activation).* `(model.predict(x) > 0.5).astype(\"int32\")`,   if your model does binary classification   (e.g. if it uses a `sigmoid` last-layer activation).\n",
      "  warnings.warn('`model.predict_classes()` is deprecated and '\n"
     ]
    },
    {
     "name": "stdout",
     "output_type": "stream",
     "text": [
      "temp dist:  (300, 300)\n",
      "temp dist:  (300, 300)\n"
     ]
    }
   ],
   "source": [
    "#################################################### \n",
    "####### VISUALIZE 2D DYNAMICS OF HIDDEN LAYER ######\n",
    "#################################################### \n",
    "from sklearn.metrics import accuracy_score\n",
    "from sklearn.preprocessing import StandardScaler\n",
    "from sklearn.decomposition import PCA\n",
    "import matplotlib.cm as cm\n",
    "from tensorflow.keras.models import Model\n",
    "\n",
    "# select layer for analysis\n",
    "selected_layer = 1\n",
    "single_layer = False\n",
    "\n",
    "# select layer \n",
    "if single_layer:\n",
    "    target_layer = rnn.model.layers[selected_layer]\n",
    "    target_layer.return_sequences = True\n",
    "    target_outputs = target_layer(target_layer.input)\n",
    "\n",
    "    # make a target model that outputs NODE information;\n",
    "    rnn.target_model = Model(rnn.model.input, target_outputs)\n",
    "    rnn.y_predict_target_model=rnn.model.predict_classes(rnn.X_test_RN)\n",
    "    print (\"prediction on target model: \", rnn.y_predict_target_model.shape)\n",
    "\n",
    "\n",
    "    #\n",
    "    print (\"Predicting on X-test-RN: \", rnn.X_test_RN.shape)\n",
    "    outputs=rnn.target_model.predict(rnn.X_test_RN)\n",
    "    #outputs=rnn.model.predict(rnn.X_test_RN)\n",
    "    #outputs=rnn.target_model.predict(data_r)\n",
    "else:\n",
    "    \n",
    "    outputs_all = []\n",
    "    for selected_layer in [0,1]:\n",
    "        target_layer = rnn.model.layers[selected_layer]\n",
    "        target_layer.return_sequences = True\n",
    "        target_outputs = target_layer(target_layer.input)\n",
    "\n",
    "        # make a target model that outputs NODE information;\n",
    "        rnn.target_model = Model(rnn.model.input, target_outputs)\n",
    "        rnn.y_predict_target_model=rnn.model.predict_classes(rnn.X_test_RN)\n",
    "        print (\"prediction on target model: \", rnn.y_predict_target_model.shape)\n",
    "\n",
    "\n",
    "        #\n",
    "        print (\"Predicting on X-test-RN: \", rnn.X_test_RN.shape)\n",
    "        outputs=rnn.target_model.predict(rnn.X_test_RN)\n",
    "        print (\"OUPTUS: \", outputs.shape)\n",
    "        outputs_all.append(outputs.transpose(2,0,1))\n",
    "        \n",
    "    outputs = np.vstack(outputs_all).transpose(1,2,0)\n",
    "        \n",
    "# grab     \n",
    "print (\"Outputs of target model ( ... x times): outputs \", outputs.shape)\n",
    "\n",
    "# full model prediction\n",
    "y_predict = rnn.model.predict_classes(rnn.X_test_RN)\n",
    "print (\"y_predict: \", y_predict.shape)\n",
    "    \n",
    "\n",
    "# \n",
    "out=outputs.reshape(outputs.shape[0]*outputs.shape[1],\n",
    "                    outputs.shape[2])\n",
    "\n",
    "\n",
    "\n",
    "#####################################################\n",
    "#####------- PCA Dimensionality Reduction --------###\n",
    "#####################################################\n",
    "scaler = StandardScaler()\n",
    "pca = PCA(n_components=3)\n",
    "\n",
    "# \n",
    "scaler.fit(out)\n",
    "scaled_layer_output = scaler.transform(out)   \n",
    "pca.fit(scaled_layer_output)\n",
    "print(\"Explained variance: \", pca.explained_variance_ratio_)\n",
    "layer_pca = pca.transform(scaled_layer_output)\n",
    "print(\"Layer PCA: \", layer_pca.shape)\n",
    "\n",
    "# \n",
    "layer_vi=layer_pca.reshape((outputs.shape[0],outputs.shape[1],-1))\n",
    "print(\"Layer vi: \", layer_vi.shape)\n",
    "\n",
    "\n",
    "# also run prediction\n",
    "predicted_r=rnn.model.predict_classes(rnn.X_test_RN)\n",
    "\n",
    "#\n",
    "fig=plt.figure()\n",
    "class0 = np.zeros((layer_vi.shape[0],300, 3))\n",
    "class1 = np.zeros((layer_vi.shape[0],300, 3))\n",
    "use_gt = False\n",
    "ctr=1\n",
    "dists_array = []\n",
    "dists_array_sametime = []\n",
    "for gt in [False, True]:\n",
    "    for i in range(layer_vi.shape[0]):\n",
    "        if gt:\n",
    "            f = rnn.y_test_RN[i]\n",
    "        else:\n",
    "            f=predicted_r[i][0]\n",
    "\n",
    "        f=int(f)\n",
    "        if f==0:\n",
    "            #plt.plot(layer_vi[i,:,2].T,c='blue')\n",
    "            class0[i] = layer_vi[i]\n",
    "            #plot_d3_blue.append(layer_vi[i,:,1])\n",
    "        else:\n",
    "            #plt.plot(layer_vi[i,:,2].T,c='red')\n",
    "            #plot_d3_red.append(layer_vi[i,:,1])\n",
    "            class1[i] = layer_vi[i]\n",
    "            #plt.savefig('120visual_d3.eps',format='eps',bbox_inches = 'tight')\n",
    "\n",
    "    #\n",
    "    mean0_pc1 = np.mean(class0[:,:,0],axis=0)\n",
    "    mean0_pc2 = np.mean(class0[:,:,1],axis=0)\n",
    "    mean0 = np.mean(class0,axis=0)\n",
    "    mean1 = np.mean(class1,axis=0)\n",
    "    \n",
    "    ax=plt.subplot(1,2,ctr)\n",
    "    scatter = plt.scatter(mean0_pc1,mean0_pc2, \n",
    "                          c='red',\n",
    "                          s=100,\n",
    "                           alpha=np.linspace(0.1,1,mean0_pc1.shape[0]),\n",
    "                          edgecolor='black',\n",
    "                          label='control')\n",
    "\n",
    "    # \n",
    "    mean1_pc1 = np.mean(class1[:,:,0],axis=0)\n",
    "    mean1_pc2 = np.mean(class1[:,:,1],axis=0)\n",
    "\n",
    "    scatter2 = plt.scatter(mean1_pc1,mean1_pc2,\n",
    "                           c='blue', \n",
    "                           s=100,\n",
    "                           alpha=np.linspace(0.1,1,mean1_pc1.shape[0]),\n",
    "                           edgecolor='black',\n",
    "                           label='rewarded lever pull')\n",
    "    plt.legend(fontsize=16)\n",
    "    \n",
    "    import scipy\n",
    "    temp_dist = scipy.spatial.distance.cdist(mean0, mean1)\n",
    "    dist_min = np.min(temp_dist,axis=0)\n",
    "    dists_array.append(dist_min)\n",
    "    dists_array_sametime.append(np.diagonal(temp_dist))\n",
    "    \n",
    "    print (\"temp dist: \", temp_dist.shape)\n",
    "    \n",
    "    # \n",
    "    if gt:\n",
    "        plt.title(\"Population dynamics of NN post training \\n(average dynamics of node populations across gt labels)\")\n",
    "    else:\n",
    "        plt.title(\"Population dynamics of NN post training \\n(average dynamics of node populations across predicted labels)\")\n",
    "    plt.xlabel(\"PC1\")\n",
    "    plt.ylabel(\"PC2\")\n",
    "    ctr+=1\n",
    "    plt.suptitle(\"LSTM; IA1 Mar2; expl variance: \"+str(pca.explained_variance_ratio_))\n",
    "\n",
    "#plt.savefig('120visual_d3_mean.eps',format='eps',bbox_inches = 'tight')\n",
    "plt.show()"
   ]
  },
  {
   "cell_type": "code",
   "execution_count": 126,
   "metadata": {},
   "outputs": [],
   "source": [
    "# plt.plot(dists_array[0],c='black')\n",
    "# plt.plot(dists_array[1],'--',c='black')\n",
    "# plt.plot(dists_array_sametime[0],c='blue')\n",
    "# plt.plot(dists_array_sametime[1],'--', c='blue')\n",
    "\n",
    "\n",
    "# plt.show()"
   ]
  },
  {
   "cell_type": "code",
   "execution_count": 139,
   "metadata": {
    "scrolled": true
   },
   "outputs": [
    {
     "name": "stdout",
     "output_type": "stream",
     "text": [
      "prediction on target model:  (44, 1)\n",
      "Predicting on X-test-RN:  (44, 300, 6)\n",
      "Outputs of target model ( ... x times): outputs  (44, 300)\n",
      "[[0.36908585 0.2269664  0.11399759 ... 0.9774854  0.9827733  0.9855995 ]\n",
      " [0.3691745  0.22723483 0.11443135 ... 0.9902552  0.9883279  0.9854767 ]\n",
      " [0.3692147  0.22734348 0.11448041 ... 0.9852925  0.97898644 0.96875095]\n",
      " ...\n",
      " [0.36938214 0.22746177 0.11427633 ... 0.8734912  0.82904065 0.7758101 ]\n",
      " [0.36938792 0.22764048 0.114754   ... 0.9903397  0.9868263  0.9813502 ]\n",
      " [0.3695901  0.22794694 0.11485693 ... 0.81582564 0.7682117  0.70916647]]\n"
     ]
    }
   ],
   "source": [
    "####################################################\n",
    "############# ACCURACY ON ALL DATA #################\n",
    "####################################################\n",
    "\n",
    "# original model final layer / final time point prediction\n",
    "rnn.y_predict=rnn.model.predict_classes(rnn.X_test_RN)\n",
    "print (\"prediction on target model: \", rnn.y_predict.shape)\n",
    "\n",
    "# make a target model that outputs NODE information;\n",
    "target_layer = rnn.model.layers[-1]\n",
    "target_layer.return_sequences = True\n",
    "\n",
    "for k in range(len(rnn.model.layers)):\n",
    "    target_layer_init = rnn.model.layers[k]\n",
    "    target_layer_init.return_sequences = True\n",
    "    # \n",
    "    target_outputs = target_layer_init(target_layer_init.input)\n",
    "    rnn.target_model = Model(rnn.model.input, target_outputs)\n",
    "    \n",
    "    # run the target model to ensure initialization\n",
    "    rnn.target_model.predict(rnn.X_test_RN).squeeze()\n",
    "\n",
    "# predict on hold-out data\n",
    "print (\"Predicting on X-test-RN: \", rnn.X_test_RN.shape)\n",
    "outputs=rnn.target_model.predict(rnn.X_test_RN).squeeze()\n",
    "\n",
    "#y_predict = rnn.model.predict_classes(rnn.X_test_RN)\n",
    "#print (\"y_predict: \", y_predict.shape)\n",
    "#outputs=rnn.model.predict(rnn.X_test_RN)\n",
    "#outputs=rnn.target_model.predict(data_r)\n",
    "\n",
    "print (\"Outputs of target model ( ... x times): outputs \", outputs.shape)\n",
    "print (outputs)\n",
    "\n",
    "acc = np.zeros(300,'int32')\n",
    "\n",
    "for k in range(outputs.shape[0]):\n",
    "    res = np.int32(outputs[k]+0.5).squeeze()\n",
    "    idx = np.where(res != rnn.y_test_RN[k])[0]\n",
    "    acc[idx]+=1\n",
    "\n",
    "acc = 1-acc/outputs.shape[0]\n",
    "t=np.arange(-300,0,1)/30.\n",
    "plt.plot([t[0],t[-1]],[0.5,0.5],'r--')\n",
    "plt.plot(t,acc)\n",
    "plt.show()\n",
    "\n",
    "np.save('/home/cat/lstm_300.npy',acc)\n"
   ]
  },
  {
   "cell_type": "code",
   "execution_count": 140,
   "metadata": {},
   "outputs": [
    {
     "name": "stdout",
     "output_type": "stream",
     "text": [
      "(44, 300)\n",
      "(44, 300)\n"
     ]
    }
   ],
   "source": [
    "print (outputs.shape)\n",
    "\n",
    "outputs_shifted = []\n",
    "for k in range(rnn.y_test_RN.shape[0]):\n",
    "    outputs_shifted.append(rnn.y_test_RN[k]-outputs[k])\n",
    "\n",
    "outputs_shifted = np.array(outputs_shifted)\n",
    "print (outputs_shifted.shape)\n",
    "\n",
    "fig=plt.figure()\n",
    "ax=plt.subplot(111)\n",
    "ax.violinplot(outputs_shifted,\n",
    "                  showmeans=True,\n",
    "                  showmedians=True)\n",
    "plt.show()"
   ]
  },
  {
   "cell_type": "code",
   "execution_count": 68,
   "metadata": {},
   "outputs": [],
   "source": [
    "# # FRAMEWISE PREDICTION\n",
    "\n",
    "# print (rnn.y_predict.squeeze().shape)\n",
    "# print (rnn.y_test_RN)\n",
    "# for k in range(15):\n",
    "#     ax=plt.subplot(3,5,k+1)\n",
    "#     plt.plot(rnn.y_predict.squeeze()[k], c='black')\n",
    "#     plt.title(\"Correct : \"+str(rnn.y_test_RN[k])+\n",
    "#              \" Label[-1]: \"+str(rnn.y_predict[k,-1][0])+\n",
    "#              \" Ave Label: \"+str(np.median(rnn.y_predict[k])),\n",
    "#              fontsize=8)\n",
    "# plt.ylabel(\"Predicted label\")\n",
    "# plt.xlabel(\"Time (frames)\")\n",
    "# plt.suptitle(\"Frame-wise RNN prediction on all test sesions from \"+rnn.session_id,fontsize=20)\n",
    "# plt.show()\n"
   ]
  },
  {
   "cell_type": "code",
   "execution_count": 108,
   "metadata": {
    "scrolled": true
   },
   "outputs": [
    {
     "name": "stderr",
     "output_type": "stream",
     "text": [
      "/home/cat/miniconda3/envs/wide/lib/python3.8/site-packages/tensorflow/python/keras/engine/sequential.py:455: UserWarning: `model.predict_classes()` is deprecated and will be removed after 2021-01-01. Please use instead:* `np.argmax(model.predict(x), axis=-1)`,   if your model does multi-class classification   (e.g. if it uses a `softmax` last-layer activation).* `(model.predict(x) > 0.5).astype(\"int32\")`,   if your model does binary classification   (e.g. if it uses a `sigmoid` last-layer activation).\n",
      "  warnings.warn('`model.predict_classes()` is deprecated and '\n"
     ]
    },
    {
     "name": "stdout",
     "output_type": "stream",
     "text": [
      "RNN Nodes x time:  (18, 300, 256)\n",
      "Data going into PCA scalar:  (5400, 256)\n",
      "UmaP:  (256, 2)\n",
      "[3 1 0 1 1 3 2 3 1 1 0 2 2 2 0 1 0 2 3 1 0 1 0 1 3 3 3 3 2 0 0 0 2 3 2 1 0\n",
      " 2 0 0 3 3 2 0 3 2 0 0 0 3 3 2 2 3 1 3 0 0 2 2 2 3 0 3 3 2 2 0 1 3 3 2 0 0\n",
      " 2 1 3 1 1 3 3 2 1 3 2 3 2 2 1 3 3 3 3 2 0 3 0 2 0 0 2 2 0 0 2 1 2 0 2 2 1\n",
      " 2 2 2 0 2 1 3 0 3 0 2 2 1 0 3 2 0 2 0 0 2 2 1 0 1 2 3 0 2 2 0 1 2 0 0 1 3\n",
      " 2 0 0 3 0 0 1 0 2 3 0 0 2 2 2 2 3 2 0 1 1 3 2 3 0 2 3 3 3 0 2 3 2 1 2 3 2\n",
      " 1 1 0 3 2 0 0 1 2 0 2 0 3 3 0 3 3 1 2 2 2 2 2 2 0 2 1 1 0 1 2 3 1 3 2 2 3\n",
      " 3 1 2 3 0 1 2 0 3 0 2 3 1 3 3 0 0 3 0 3 0 3 3 3 1 2 1 0 0 0 0 3 0 2]\n",
      "RNN Nodes x time:  (20, 300, 256)\n",
      "Data going into PCA scalar:  (6000, 256)\n",
      "UmaP:  (256, 2)\n",
      "[2 1 3 1 1 0 2 2 1 1 3 2 2 1 3 1 0 2 2 1 3 1 3 1 0 2 2 2 2 3 3 3 2 0 2 1 0\n",
      " 2 0 0 0 0 2 0 0 2 3 3 3 0 0 2 2 0 1 0 3 3 2 0 2 0 3 0 0 2 2 1 1 0 0 1 3 3\n",
      " 2 1 0 1 1 2 0 2 1 0 2 0 2 2 1 0 0 2 0 2 0 0 3 2 3 0 2 2 3 3 2 1 1 3 2 2 1\n",
      " 2 2 1 3 2 1 2 3 0 0 2 2 1 3 2 2 0 2 3 3 2 2 1 3 1 2 0 3 2 2 3 1 2 1 3 1 0\n",
      " 2 0 0 0 3 0 1 3 2 2 0 3 2 2 2 2 0 2 3 1 1 2 2 0 3 2 0 0 0 3 2 0 2 1 0 0 2\n",
      " 1 1 3 0 2 3 0 1 1 3 2 0 0 0 3 0 0 1 2 2 2 2 2 2 3 2 1 3 3 1 2 0 1 0 2 2 0\n",
      " 0 1 2 0 3 1 2 3 0 3 2 0 1 0 0 3 0 0 3 0 0 2 0 0 1 2 1 0 3 0 3 2 3 2]\n",
      "RNN Nodes x time:  (18, 300, 256)\n",
      "Data going into PCA scalar:  (5400, 256)\n",
      "UmaP:  (256, 2)\n",
      "[3 2 0 2 2 3 1 3 2 2 0 1 2 2 0 2 0 1 3 2 0 2 0 2 3 3 3 3 1 0 0 0 1 3 1 2 0\n",
      " 1 0 0 3 3 2 0 3 1 0 0 0 1 3 1 1 3 2 3 0 0 1 1 1 3 0 3 3 1 2 2 2 3 3 2 0 0\n",
      " 1 2 3 2 2 3 3 1 2 3 1 3 1 1 2 3 3 3 3 1 0 3 0 1 0 0 1 1 0 0 1 2 2 0 1 1 2\n",
      " 1 1 2 0 1 2 3 0 3 0 1 1 2 0 3 1 0 1 2 0 1 1 2 0 2 1 3 0 1 1 0 2 1 2 0 2 3\n",
      " 1 0 0 3 2 0 2 0 1 3 0 2 1 1 1 1 3 1 0 2 2 3 1 3 0 1 3 3 3 2 1 3 1 2 3 3 1\n",
      " 2 2 0 3 1 0 0 2 2 0 1 0 3 3 0 3 3 2 1 1 1 1 1 1 0 1 2 2 0 2 1 3 2 3 1 1 3\n",
      " 3 2 2 3 0 2 1 0 3 0 1 3 2 3 3 2 0 3 0 3 0 3 3 3 2 1 2 0 0 0 0 3 0 1]\n",
      "RNN Nodes x time:  (24, 300, 256)\n",
      "Data going into PCA scalar:  (7200, 256)\n",
      "UmaP:  (256, 2)\n",
      "[0 1 3 1 1 0 2 0 1 1 3 2 2 1 3 1 3 2 0 1 3 1 3 1 0 0 0 0 2 3 3 3 2 0 2 1 3\n",
      " 2 3 3 0 0 2 3 0 2 3 3 3 0 0 2 2 0 1 0 3 3 2 2 2 0 3 0 0 2 2 1 1 0 0 2 3 3\n",
      " 2 1 0 1 1 0 0 2 1 0 2 0 2 2 1 0 0 0 0 2 0 0 3 2 3 3 2 2 3 3 2 1 2 3 2 2 1\n",
      " 2 2 2 3 2 1 0 3 0 3 2 2 1 3 0 2 3 2 3 3 2 2 1 3 1 2 0 3 2 2 3 1 2 1 3 1 0\n",
      " 2 3 3 0 3 3 1 3 2 0 3 3 2 2 2 2 0 2 3 1 1 0 2 0 3 2 0 0 0 3 2 0 2 1 2 0 2\n",
      " 1 1 3 0 2 3 3 1 2 3 2 3 0 0 3 0 0 1 2 2 2 2 2 2 3 2 1 1 3 1 2 0 1 0 2 2 0\n",
      " 0 1 2 0 3 1 2 3 0 3 2 0 1 0 0 3 3 0 3 0 3 0 0 0 1 2 1 3 3 3 3 0 3 2]\n"
     ]
    }
   ],
   "source": [
    "########################################### \n",
    "######### CLUSTER NODE DYNAMICS ########### \n",
    "########################################### \n",
    "from sklearn.metrics import accuracy_score\n",
    "from sklearn.preprocessing import StandardScaler\n",
    "from sklearn.decomposition import PCA\n",
    "import matplotlib.cm as cm\n",
    "\n",
    "# \n",
    "# predicted_r=rnn.y_predict[:,-1,:]\n",
    "# print (\"rnn.y_predict: \", rnn.y_predict.shape)\n",
    "# print (\"predicted_r: \", predicted_r.shape)\n",
    "# print (\"predictions: \", predicted_r.squeeze())\n",
    "# predictions = predicted_r.squeeze()\n",
    "\n",
    "predictions = rnn.model.predict_classes(rnn.X_test_RN)\n",
    "# \n",
    "\n",
    "selected_layer = 0\n",
    "\n",
    "#\n",
    "target_layer = rnn.model.layers[selected_layer]\n",
    "target_layer.return_sequences = True\n",
    "target_outputs = target_layer(target_layer.input)\n",
    "\n",
    "# make a target model that outputs NODE information;\n",
    "rnn.target_model = Model(rnn.model.input, target_outputs)\n",
    "#rnn.y_predict_target_model=rnn.model.predict_classes(rnn.X_test_RN)\n",
    "# print (\"prediction on target model: \", rnn.y_predict_target_model.shape)\n",
    "\n",
    "#rnn.target_model.summary()\n",
    "\n",
    "\n",
    "ctr=0\n",
    "selected_vals = [0,1]\n",
    "labels_array=[]\n",
    "for selected_val in selected_vals:\n",
    "    for k in [False, True]:\n",
    "        ax=plt.subplot(2,2,ctr+1)\n",
    "\n",
    "        if k:\n",
    "            #idx = np.where(predictions==selected_val)[0]\n",
    "            #print (\"Predicting on ground truth:: \", rnn.y_test_RN)\n",
    "            idx = np.where(rnn.y_test_RN==selected_val)[0]\n",
    "\n",
    "            plt.title(\"Using ground truth labels to split\")\n",
    "            # \n",
    "            outputs=rnn.target_model.predict(rnn.X_test_RN[idx])\n",
    "            #outputs=rnn.target_model.predict(data_r)\n",
    "        else:\n",
    "            idx = np.where(predictions==1)[0]\n",
    "            outputs=rnn.target_model.predict(rnn.X_test_RN[idx])\n",
    "            plt.title(\"Using predicted labels to split\")\n",
    "\n",
    "        # \n",
    "        print (\"RNN Nodes x time: \", outputs.shape)\n",
    "\n",
    "        # \n",
    "        out=outputs.reshape(outputs.shape[0]*outputs.shape[1],\n",
    "                            outputs.shape[2])\n",
    "\n",
    "        # \n",
    "        print (\"Data going into PCA scalar: \", out.shape)\n",
    "\n",
    "        # transpose it to do dynamical clustering\n",
    "        out = out.T\n",
    "\n",
    "        #out_\n",
    "\n",
    "        # \n",
    "        scaler = StandardScaler()\n",
    "\n",
    "        if False:\n",
    "            pca = PCA(n_components=3)\n",
    "\n",
    "            #------- PCA Dimensionality Reduction --------\n",
    "            scaler.fit(out)\n",
    "            scaled_layer_output = scaler.transform(out)   \n",
    "            pca.fit(out)\n",
    "            print(\"Explained variance: \", pca.explained_variance_ratio_)\n",
    "            layer_pca = pca.transform(out)\n",
    "            print(\"Layer PCA: \", layer_pca.shape)\n",
    "\n",
    "            layer_vi=layer_pca #.reshape((outputs.shape[0],outputs.shape[1],-1))\n",
    "            print(\"Layer vi: \", layer_vi.shape)\n",
    "\n",
    "        else:\n",
    "            import umap\n",
    "            scaler.fit(out)\n",
    "            scaled_layer_output = scaler.transform(out)  \n",
    "            layer_vi = umap.UMAP().fit_transform(out)\n",
    "            print (\"UmaP: \", layer_vi.shape)\n",
    "\n",
    "\n",
    "        from sklearn.cluster import SpectralClustering\n",
    "        import numpy as np\n",
    "        #X = np.array([[1, 1], [2, 1], [1, 0],\n",
    "\n",
    "        clustering = SpectralClustering(n_clusters=4,\n",
    "                                        assign_labels=\"discretize\",\n",
    "                                        random_state=0).fit(layer_vi)\n",
    "\n",
    "        print (clustering.labels_)\n",
    "        labels_array.append(clustering.labels_)\n",
    "\n",
    "        #\n",
    "        plt.scatter(layer_vi[:,0], layer_vi[:,1], c=clustering.labels_)\n",
    "\n",
    "\n",
    "        #plt.legend()\n",
    "        # produce a legend with the unique colors from the scatter\n",
    "        #legend2 = ax.legend(*scatter2.legend_elements(),\n",
    "        #                    loc=\"lower right\", title=\"Class 1\",\n",
    "        #                    ncol=2)\n",
    "\n",
    "        plt.xlabel(\"Dimension 1\")\n",
    "        plt.ylabel(\"Dimension 2\")\n",
    "        ctr+=1\n",
    "\n",
    "#plt.savefig('120visual_d3_mean.eps',format='eps',bbox_inches = 'tight')\n",
    "plt.show()"
   ]
  },
  {
   "cell_type": "code",
   "execution_count": 110,
   "metadata": {},
   "outputs": [
    {
     "name": "stdout",
     "output_type": "stream",
     "text": [
      "(256, 7200) (24, 300, 256)\n",
      "(73,)\n",
      "(48,)\n",
      "(84,)\n",
      "(51,)\n"
     ]
    }
   ],
   "source": [
    "#\n",
    "print (out.shape, outputs.shape)\n",
    "clustering.labels_\n",
    "\n",
    "fig=plt.figure()\n",
    "t=np.arange(-300,0,1)/30.\n",
    "selected_pca = 1\n",
    "for k in range(4):\n",
    "    ax=plt.subplot(2,2,k+1)\n",
    "    \n",
    "    idx = np.where(labels_array[selected_pca]==k)[0]\n",
    "    print (idx.shape)\n",
    "    traces = outputs[:,:,idx]\n",
    "    #for id_ in range(idx.shape[0]):\n",
    "    plt.plot(t, outputs[:,:,idx].mean(0))\n",
    "    plt.ylim(-.2,.2)\n",
    "    plt.title(\"Node class: \"+str(k))\n",
    "    \n",
    "    if k>1:\n",
    "        plt.xlabel(\"Time (sec)\")\n",
    "plt.suptitle(\"Node populations dynamics \\n(i.e. average unit activation over all trials)\",fontsize=20)\n",
    "plt.show()\n"
   ]
  },
  {
   "cell_type": "code",
   "execution_count": 34,
   "metadata": {},
   "outputs": [
    {
     "name": "stdout",
     "output_type": "stream",
     "text": [
      "(44, 300, 6)\n"
     ]
    },
    {
     "ename": "AttributeError",
     "evalue": "'PredictRNN' object has no attribute 'ac'",
     "output_type": "error",
     "traceback": [
      "\u001b[0;31m---------------------------------------------------------------------------\u001b[0m",
      "\u001b[0;31mAttributeError\u001b[0m                            Traceback (most recent call last)",
      "\u001b[0;32m<ipython-input-34-acdc2c047dae>\u001b[0m in \u001b[0;36m<module>\u001b[0;34m\u001b[0m\n\u001b[1;32m      8\u001b[0m print (x_values.shape,\n\u001b[1;32m      9\u001b[0m       \u001b[0my_values\u001b[0m\u001b[0;34m.\u001b[0m\u001b[0mshape\u001b[0m\u001b[0;34m,\u001b[0m\u001b[0;34m\u001b[0m\u001b[0;34m\u001b[0m\u001b[0m\n\u001b[0;32m---> 10\u001b[0;31m       rnn.ac.shape)\n\u001b[0m\u001b[1;32m     11\u001b[0m \u001b[0;34m\u001b[0m\u001b[0m\n\u001b[1;32m     12\u001b[0m plt.scatter(x_values, y_values, \n",
      "\u001b[0;31mAttributeError\u001b[0m: 'PredictRNN' object has no attribute 'ac'"
     ]
    }
   ],
   "source": [
    "###################################\n",
    "###################################\n",
    "###################################\n",
    "print (rnn.X_test_RN.shape)\n",
    "x_values = np.arange(0, 300,1)\n",
    "y_values = rnn.X_test_RN[:,:,0].mean(0)\n",
    "\n",
    "print (x_values.shape,\n",
    "      y_values.shape,\n",
    "      rnn.ac.shape)\n",
    "\n",
    "plt.scatter(x_values, y_values, \n",
    "            c=rnn.ac, \n",
    "            edgecolors='face',s=30)\n",
    "\n",
    "# \n",
    "plt.plot(x_values, y_values,alpha=0.3)\n",
    "plt.xlabel('Time Step', fontsize=14)\n",
    "plt.ylabel('Neural Activity', fontsize=14)\n",
    "plt.tick_params(axis='both', which='major', labelsize=14)\n",
    "plt.colorbar(label='accuracy')\n",
    "plt.savefig('200frames_visual.eps',format='eps',bbox_inches = 'tight')\n",
    "plt.show()\n",
    "\n"
   ]
  },
  {
   "cell_type": "code",
   "execution_count": 35,
   "metadata": {},
   "outputs": [
    {
     "ename": "ValueError",
     "evalue": "in user code:\n\n    /home/cat/miniconda3/envs/wide/lib/python3.8/site-packages/tensorflow/python/keras/engine/training.py:1574 predict_function  *\n        return step_function(self, iterator)\n    /home/cat/miniconda3/envs/wide/lib/python3.8/site-packages/tensorflow/python/keras/engine/training.py:1564 step_function  **\n        outputs = model.distribute_strategy.run(run_step, args=(data,))\n    /home/cat/miniconda3/envs/wide/lib/python3.8/site-packages/tensorflow/python/distribute/distribute_lib.py:1285 run\n        return self._extended.call_for_each_replica(fn, args=args, kwargs=kwargs)\n    /home/cat/miniconda3/envs/wide/lib/python3.8/site-packages/tensorflow/python/distribute/distribute_lib.py:2833 call_for_each_replica\n        return self._call_for_each_replica(fn, args, kwargs)\n    /home/cat/miniconda3/envs/wide/lib/python3.8/site-packages/tensorflow/python/distribute/distribute_lib.py:3608 _call_for_each_replica\n        return fn(*args, **kwargs)\n    /home/cat/miniconda3/envs/wide/lib/python3.8/site-packages/tensorflow/python/keras/engine/training.py:1557 run_step  **\n        outputs = model.predict_step(data)\n    /home/cat/miniconda3/envs/wide/lib/python3.8/site-packages/tensorflow/python/keras/engine/training.py:1530 predict_step\n        return self(x, training=False)\n    /home/cat/miniconda3/envs/wide/lib/python3.8/site-packages/tensorflow/python/keras/engine/base_layer.py:1014 __call__\n        input_spec.assert_input_compatibility(self.input_spec, inputs, self.name)\n    /home/cat/miniconda3/envs/wide/lib/python3.8/site-packages/tensorflow/python/keras/engine/input_spec.py:267 assert_input_compatibility\n        raise ValueError('Input ' + str(input_index) +\n\n    ValueError: Input 0 is incompatible with layer model_9: expected shape=(None, 300, 6), found shape=(None, 300, 7)\n",
     "output_type": "error",
     "traceback": [
      "\u001b[0;31m---------------------------------------------------------------------------\u001b[0m",
      "\u001b[0;31mValueError\u001b[0m                                Traceback (most recent call last)",
      "\u001b[0;32m<ipython-input-35-99e3c2f8492b>\u001b[0m in \u001b[0;36m<module>\u001b[0;34m\u001b[0m\n\u001b[1;32m    101\u001b[0m \u001b[0mdata\u001b[0m \u001b[0;34m=\u001b[0m \u001b[0mnp\u001b[0m\u001b[0;34m.\u001b[0m\u001b[0mload\u001b[0m\u001b[0;34m(\u001b[0m\u001b[0mfname\u001b[0m\u001b[0;34m)\u001b[0m\u001b[0;34m\u001b[0m\u001b[0;34m\u001b[0m\u001b[0m\n\u001b[1;32m    102\u001b[0m \u001b[0mdata_r\u001b[0m \u001b[0;34m=\u001b[0m \u001b[0mdata\u001b[0m\u001b[0;34m.\u001b[0m\u001b[0mtranspose\u001b[0m\u001b[0;34m(\u001b[0m\u001b[0;36m0\u001b[0m\u001b[0;34m,\u001b[0m\u001b[0;36m2\u001b[0m\u001b[0;34m,\u001b[0m\u001b[0;36m1\u001b[0m\u001b[0;34m)\u001b[0m\u001b[0;34m[\u001b[0m\u001b[0;34m:\u001b[0m\u001b[0;34m,\u001b[0m\u001b[0;34m:\u001b[0m\u001b[0;36m300\u001b[0m\u001b[0;34m]\u001b[0m\u001b[0;34m\u001b[0m\u001b[0;34m\u001b[0m\u001b[0m\n\u001b[0;32m--> 103\u001b[0;31m plot_3D(data_r, \n\u001b[0m\u001b[1;32m    104\u001b[0m         \u001b[0mrnn\u001b[0m\u001b[0;34m,\u001b[0m\u001b[0;34m\u001b[0m\u001b[0;34m\u001b[0m\u001b[0m\n\u001b[1;32m    105\u001b[0m         \u001b[0;34m'black'\u001b[0m\u001b[0;34m,\u001b[0m\u001b[0;34m\u001b[0m\u001b[0;34m\u001b[0m\u001b[0m\n",
      "\u001b[0;32m<ipython-input-35-99e3c2f8492b>\u001b[0m in \u001b[0;36mplot_3D\u001b[0;34m(data_r, rnn, color, ax)\u001b[0m\n\u001b[1;32m     10\u001b[0m     \u001b[0;32mfrom\u001b[0m \u001b[0msklearn\u001b[0m\u001b[0;34m.\u001b[0m\u001b[0mdecomposition\u001b[0m \u001b[0;32mimport\u001b[0m \u001b[0mPCA\u001b[0m\u001b[0;34m\u001b[0m\u001b[0;34m\u001b[0m\u001b[0m\n\u001b[1;32m     11\u001b[0m     \u001b[0;32mimport\u001b[0m \u001b[0mmatplotlib\u001b[0m\u001b[0;34m.\u001b[0m\u001b[0mcm\u001b[0m \u001b[0;32mas\u001b[0m \u001b[0mcm\u001b[0m\u001b[0;34m\u001b[0m\u001b[0;34m\u001b[0m\u001b[0m\n\u001b[0;32m---> 12\u001b[0;31m     \u001b[0moutputs\u001b[0m\u001b[0;34m=\u001b[0m\u001b[0mrnn\u001b[0m\u001b[0;34m.\u001b[0m\u001b[0mtarget_model\u001b[0m\u001b[0;34m.\u001b[0m\u001b[0mpredict\u001b[0m\u001b[0;34m(\u001b[0m\u001b[0mdata_r\u001b[0m\u001b[0;34m)\u001b[0m\u001b[0;34m\u001b[0m\u001b[0;34m\u001b[0m\u001b[0m\n\u001b[0m\u001b[1;32m     13\u001b[0m     \u001b[0mpredicted_r\u001b[0m\u001b[0;34m=\u001b[0m\u001b[0mnp\u001b[0m\u001b[0;34m.\u001b[0m\u001b[0mones\u001b[0m\u001b[0;34m(\u001b[0m\u001b[0mdata_r\u001b[0m\u001b[0;34m.\u001b[0m\u001b[0mshape\u001b[0m\u001b[0;34m[\u001b[0m\u001b[0;36m0\u001b[0m\u001b[0;34m]\u001b[0m\u001b[0;34m,\u001b[0m\u001b[0;34m'int32'\u001b[0m\u001b[0;34m)\u001b[0m\u001b[0;34m[\u001b[0m\u001b[0;34m:\u001b[0m\u001b[0;34m,\u001b[0m\u001b[0;32mNone\u001b[0m\u001b[0;34m]\u001b[0m\u001b[0;34m\u001b[0m\u001b[0;34m\u001b[0m\u001b[0m\n\u001b[1;32m     14\u001b[0m     \u001b[0mprint\u001b[0m \u001b[0;34m(\u001b[0m\u001b[0;34m\"RNN Nodes x time: \"\u001b[0m\u001b[0;34m,\u001b[0m \u001b[0moutputs\u001b[0m\u001b[0;34m.\u001b[0m\u001b[0mshape\u001b[0m\u001b[0;34m)\u001b[0m\u001b[0;34m\u001b[0m\u001b[0;34m\u001b[0m\u001b[0m\n",
      "\u001b[0;32m~/miniconda3/envs/wide/lib/python3.8/site-packages/tensorflow/python/keras/engine/training.py\u001b[0m in \u001b[0;36mpredict\u001b[0;34m(self, x, batch_size, verbose, steps, callbacks, max_queue_size, workers, use_multiprocessing)\u001b[0m\n\u001b[1;32m   1730\u001b[0m           \u001b[0;32mfor\u001b[0m \u001b[0mstep\u001b[0m \u001b[0;32min\u001b[0m \u001b[0mdata_handler\u001b[0m\u001b[0;34m.\u001b[0m\u001b[0msteps\u001b[0m\u001b[0;34m(\u001b[0m\u001b[0;34m)\u001b[0m\u001b[0;34m:\u001b[0m\u001b[0;34m\u001b[0m\u001b[0;34m\u001b[0m\u001b[0m\n\u001b[1;32m   1731\u001b[0m             \u001b[0mcallbacks\u001b[0m\u001b[0;34m.\u001b[0m\u001b[0mon_predict_batch_begin\u001b[0m\u001b[0;34m(\u001b[0m\u001b[0mstep\u001b[0m\u001b[0;34m)\u001b[0m\u001b[0;34m\u001b[0m\u001b[0;34m\u001b[0m\u001b[0m\n\u001b[0;32m-> 1732\u001b[0;31m             \u001b[0mtmp_batch_outputs\u001b[0m \u001b[0;34m=\u001b[0m \u001b[0mself\u001b[0m\u001b[0;34m.\u001b[0m\u001b[0mpredict_function\u001b[0m\u001b[0;34m(\u001b[0m\u001b[0miterator\u001b[0m\u001b[0;34m)\u001b[0m\u001b[0;34m\u001b[0m\u001b[0;34m\u001b[0m\u001b[0m\n\u001b[0m\u001b[1;32m   1733\u001b[0m             \u001b[0;32mif\u001b[0m \u001b[0mdata_handler\u001b[0m\u001b[0;34m.\u001b[0m\u001b[0mshould_sync\u001b[0m\u001b[0;34m:\u001b[0m\u001b[0;34m\u001b[0m\u001b[0;34m\u001b[0m\u001b[0m\n\u001b[1;32m   1734\u001b[0m               \u001b[0mcontext\u001b[0m\u001b[0;34m.\u001b[0m\u001b[0masync_wait\u001b[0m\u001b[0;34m(\u001b[0m\u001b[0;34m)\u001b[0m\u001b[0;34m\u001b[0m\u001b[0;34m\u001b[0m\u001b[0m\n",
      "\u001b[0;32m~/miniconda3/envs/wide/lib/python3.8/site-packages/tensorflow/python/eager/def_function.py\u001b[0m in \u001b[0;36m__call__\u001b[0;34m(self, *args, **kwds)\u001b[0m\n\u001b[1;32m    883\u001b[0m \u001b[0;34m\u001b[0m\u001b[0m\n\u001b[1;32m    884\u001b[0m       \u001b[0;32mwith\u001b[0m \u001b[0mOptionalXlaContext\u001b[0m\u001b[0;34m(\u001b[0m\u001b[0mself\u001b[0m\u001b[0;34m.\u001b[0m\u001b[0m_jit_compile\u001b[0m\u001b[0;34m)\u001b[0m\u001b[0;34m:\u001b[0m\u001b[0;34m\u001b[0m\u001b[0;34m\u001b[0m\u001b[0m\n\u001b[0;32m--> 885\u001b[0;31m         \u001b[0mresult\u001b[0m \u001b[0;34m=\u001b[0m \u001b[0mself\u001b[0m\u001b[0;34m.\u001b[0m\u001b[0m_call\u001b[0m\u001b[0;34m(\u001b[0m\u001b[0;34m*\u001b[0m\u001b[0margs\u001b[0m\u001b[0;34m,\u001b[0m \u001b[0;34m**\u001b[0m\u001b[0mkwds\u001b[0m\u001b[0;34m)\u001b[0m\u001b[0;34m\u001b[0m\u001b[0;34m\u001b[0m\u001b[0m\n\u001b[0m\u001b[1;32m    886\u001b[0m \u001b[0;34m\u001b[0m\u001b[0m\n\u001b[1;32m    887\u001b[0m       \u001b[0mnew_tracing_count\u001b[0m \u001b[0;34m=\u001b[0m \u001b[0mself\u001b[0m\u001b[0;34m.\u001b[0m\u001b[0mexperimental_get_tracing_count\u001b[0m\u001b[0;34m(\u001b[0m\u001b[0;34m)\u001b[0m\u001b[0;34m\u001b[0m\u001b[0;34m\u001b[0m\u001b[0m\n",
      "\u001b[0;32m~/miniconda3/envs/wide/lib/python3.8/site-packages/tensorflow/python/eager/def_function.py\u001b[0m in \u001b[0;36m_call\u001b[0;34m(self, *args, **kwds)\u001b[0m\n\u001b[1;32m    918\u001b[0m       \u001b[0;31m# In this case we have not created variables on the first call. So we can\u001b[0m\u001b[0;34m\u001b[0m\u001b[0;34m\u001b[0m\u001b[0;34m\u001b[0m\u001b[0m\n\u001b[1;32m    919\u001b[0m       \u001b[0;31m# run the first trace but we should fail if variables are created.\u001b[0m\u001b[0;34m\u001b[0m\u001b[0;34m\u001b[0m\u001b[0;34m\u001b[0m\u001b[0m\n\u001b[0;32m--> 920\u001b[0;31m       \u001b[0mresults\u001b[0m \u001b[0;34m=\u001b[0m \u001b[0mself\u001b[0m\u001b[0;34m.\u001b[0m\u001b[0m_stateful_fn\u001b[0m\u001b[0;34m(\u001b[0m\u001b[0;34m*\u001b[0m\u001b[0margs\u001b[0m\u001b[0;34m,\u001b[0m \u001b[0;34m**\u001b[0m\u001b[0mkwds\u001b[0m\u001b[0;34m)\u001b[0m\u001b[0;34m\u001b[0m\u001b[0;34m\u001b[0m\u001b[0m\n\u001b[0m\u001b[1;32m    921\u001b[0m       \u001b[0;32mif\u001b[0m \u001b[0mself\u001b[0m\u001b[0;34m.\u001b[0m\u001b[0m_created_variables\u001b[0m\u001b[0;34m:\u001b[0m\u001b[0;34m\u001b[0m\u001b[0;34m\u001b[0m\u001b[0m\n\u001b[1;32m    922\u001b[0m         raise ValueError(\"Creating variables on a non-first call to a function\"\n",
      "\u001b[0;32m~/miniconda3/envs/wide/lib/python3.8/site-packages/tensorflow/python/eager/function.py\u001b[0m in \u001b[0;36m__call__\u001b[0;34m(self, *args, **kwargs)\u001b[0m\n\u001b[1;32m   3029\u001b[0m     \u001b[0;32mwith\u001b[0m \u001b[0mself\u001b[0m\u001b[0;34m.\u001b[0m\u001b[0m_lock\u001b[0m\u001b[0;34m:\u001b[0m\u001b[0;34m\u001b[0m\u001b[0;34m\u001b[0m\u001b[0m\n\u001b[1;32m   3030\u001b[0m       (graph_function,\n\u001b[0;32m-> 3031\u001b[0;31m        filtered_flat_args) = self._maybe_define_function(args, kwargs)\n\u001b[0m\u001b[1;32m   3032\u001b[0m     return graph_function._call_flat(\n\u001b[1;32m   3033\u001b[0m         filtered_flat_args, captured_inputs=graph_function.captured_inputs)  # pylint: disable=protected-access\n",
      "\u001b[0;32m~/miniconda3/envs/wide/lib/python3.8/site-packages/tensorflow/python/eager/function.py\u001b[0m in \u001b[0;36m_maybe_define_function\u001b[0;34m(self, args, kwargs)\u001b[0m\n\u001b[1;32m   3450\u001b[0m               \u001b[0mself\u001b[0m\u001b[0;34m.\u001b[0m\u001b[0minput_signature\u001b[0m \u001b[0;32mis\u001b[0m \u001b[0;32mNone\u001b[0m \u001b[0;32mand\u001b[0m\u001b[0;34m\u001b[0m\u001b[0;34m\u001b[0m\u001b[0m\n\u001b[1;32m   3451\u001b[0m               call_context_key in self._function_cache.missed):\n\u001b[0;32m-> 3452\u001b[0;31m             return self._define_function_with_shape_relaxation(\n\u001b[0m\u001b[1;32m   3453\u001b[0m                 args, kwargs, flat_args, filtered_flat_args, cache_key_context)\n\u001b[1;32m   3454\u001b[0m \u001b[0;34m\u001b[0m\u001b[0m\n",
      "\u001b[0;32m~/miniconda3/envs/wide/lib/python3.8/site-packages/tensorflow/python/eager/function.py\u001b[0m in \u001b[0;36m_define_function_with_shape_relaxation\u001b[0;34m(self, args, kwargs, flat_args, filtered_flat_args, cache_key_context)\u001b[0m\n\u001b[1;32m   3372\u001b[0m           expand_composites=True)\n\u001b[1;32m   3373\u001b[0m \u001b[0;34m\u001b[0m\u001b[0m\n\u001b[0;32m-> 3374\u001b[0;31m     graph_function = self._create_graph_function(\n\u001b[0m\u001b[1;32m   3375\u001b[0m         args, kwargs, override_flat_arg_shapes=relaxed_arg_shapes)\n\u001b[1;32m   3376\u001b[0m     \u001b[0mself\u001b[0m\u001b[0;34m.\u001b[0m\u001b[0m_function_cache\u001b[0m\u001b[0;34m.\u001b[0m\u001b[0marg_relaxed\u001b[0m\u001b[0;34m[\u001b[0m\u001b[0mrank_only_cache_key\u001b[0m\u001b[0;34m]\u001b[0m \u001b[0;34m=\u001b[0m \u001b[0mgraph_function\u001b[0m\u001b[0;34m\u001b[0m\u001b[0;34m\u001b[0m\u001b[0m\n",
      "\u001b[0;32m~/miniconda3/envs/wide/lib/python3.8/site-packages/tensorflow/python/eager/function.py\u001b[0m in \u001b[0;36m_create_graph_function\u001b[0;34m(self, args, kwargs, override_flat_arg_shapes)\u001b[0m\n\u001b[1;32m   3289\u001b[0m     \u001b[0marg_names\u001b[0m \u001b[0;34m=\u001b[0m \u001b[0mbase_arg_names\u001b[0m \u001b[0;34m+\u001b[0m \u001b[0mmissing_arg_names\u001b[0m\u001b[0;34m\u001b[0m\u001b[0;34m\u001b[0m\u001b[0m\n\u001b[1;32m   3290\u001b[0m     graph_function = ConcreteFunction(\n\u001b[0;32m-> 3291\u001b[0;31m         func_graph_module.func_graph_from_py_func(\n\u001b[0m\u001b[1;32m   3292\u001b[0m             \u001b[0mself\u001b[0m\u001b[0;34m.\u001b[0m\u001b[0m_name\u001b[0m\u001b[0;34m,\u001b[0m\u001b[0;34m\u001b[0m\u001b[0;34m\u001b[0m\u001b[0m\n\u001b[1;32m   3293\u001b[0m             \u001b[0mself\u001b[0m\u001b[0;34m.\u001b[0m\u001b[0m_python_function\u001b[0m\u001b[0;34m,\u001b[0m\u001b[0;34m\u001b[0m\u001b[0;34m\u001b[0m\u001b[0m\n",
      "\u001b[0;32m~/miniconda3/envs/wide/lib/python3.8/site-packages/tensorflow/python/framework/func_graph.py\u001b[0m in \u001b[0;36mfunc_graph_from_py_func\u001b[0;34m(name, python_func, args, kwargs, signature, func_graph, autograph, autograph_options, add_control_dependencies, arg_names, op_return_value, collections, capture_by_value, override_flat_arg_shapes)\u001b[0m\n\u001b[1;32m    997\u001b[0m         \u001b[0m_\u001b[0m\u001b[0;34m,\u001b[0m \u001b[0moriginal_func\u001b[0m \u001b[0;34m=\u001b[0m \u001b[0mtf_decorator\u001b[0m\u001b[0;34m.\u001b[0m\u001b[0munwrap\u001b[0m\u001b[0;34m(\u001b[0m\u001b[0mpython_func\u001b[0m\u001b[0;34m)\u001b[0m\u001b[0;34m\u001b[0m\u001b[0;34m\u001b[0m\u001b[0m\n\u001b[1;32m    998\u001b[0m \u001b[0;34m\u001b[0m\u001b[0m\n\u001b[0;32m--> 999\u001b[0;31m       \u001b[0mfunc_outputs\u001b[0m \u001b[0;34m=\u001b[0m \u001b[0mpython_func\u001b[0m\u001b[0;34m(\u001b[0m\u001b[0;34m*\u001b[0m\u001b[0mfunc_args\u001b[0m\u001b[0;34m,\u001b[0m \u001b[0;34m**\u001b[0m\u001b[0mfunc_kwargs\u001b[0m\u001b[0;34m)\u001b[0m\u001b[0;34m\u001b[0m\u001b[0;34m\u001b[0m\u001b[0m\n\u001b[0m\u001b[1;32m   1000\u001b[0m \u001b[0;34m\u001b[0m\u001b[0m\n\u001b[1;32m   1001\u001b[0m       \u001b[0;31m# invariant: `func_outputs` contains only Tensors, CompositeTensors,\u001b[0m\u001b[0;34m\u001b[0m\u001b[0;34m\u001b[0m\u001b[0;34m\u001b[0m\u001b[0m\n",
      "\u001b[0;32m~/miniconda3/envs/wide/lib/python3.8/site-packages/tensorflow/python/eager/def_function.py\u001b[0m in \u001b[0;36mwrapped_fn\u001b[0;34m(*args, **kwds)\u001b[0m\n\u001b[1;32m    666\u001b[0m         \u001b[0;31m# the function a weak reference to itself to avoid a reference cycle.\u001b[0m\u001b[0;34m\u001b[0m\u001b[0;34m\u001b[0m\u001b[0;34m\u001b[0m\u001b[0m\n\u001b[1;32m    667\u001b[0m         \u001b[0;32mwith\u001b[0m \u001b[0mOptionalXlaContext\u001b[0m\u001b[0;34m(\u001b[0m\u001b[0mcompile_with_xla\u001b[0m\u001b[0;34m)\u001b[0m\u001b[0;34m:\u001b[0m\u001b[0;34m\u001b[0m\u001b[0;34m\u001b[0m\u001b[0m\n\u001b[0;32m--> 668\u001b[0;31m           \u001b[0mout\u001b[0m \u001b[0;34m=\u001b[0m \u001b[0mweak_wrapped_fn\u001b[0m\u001b[0;34m(\u001b[0m\u001b[0;34m)\u001b[0m\u001b[0;34m.\u001b[0m\u001b[0m__wrapped__\u001b[0m\u001b[0;34m(\u001b[0m\u001b[0;34m*\u001b[0m\u001b[0margs\u001b[0m\u001b[0;34m,\u001b[0m \u001b[0;34m**\u001b[0m\u001b[0mkwds\u001b[0m\u001b[0;34m)\u001b[0m\u001b[0;34m\u001b[0m\u001b[0;34m\u001b[0m\u001b[0m\n\u001b[0m\u001b[1;32m    669\u001b[0m         \u001b[0;32mreturn\u001b[0m \u001b[0mout\u001b[0m\u001b[0;34m\u001b[0m\u001b[0;34m\u001b[0m\u001b[0m\n\u001b[1;32m    670\u001b[0m \u001b[0;34m\u001b[0m\u001b[0m\n",
      "\u001b[0;32m~/miniconda3/envs/wide/lib/python3.8/site-packages/tensorflow/python/framework/func_graph.py\u001b[0m in \u001b[0;36mwrapper\u001b[0;34m(*args, **kwargs)\u001b[0m\n\u001b[1;32m    984\u001b[0m           \u001b[0;32mexcept\u001b[0m \u001b[0mException\u001b[0m \u001b[0;32mas\u001b[0m \u001b[0me\u001b[0m\u001b[0;34m:\u001b[0m  \u001b[0;31m# pylint:disable=broad-except\u001b[0m\u001b[0;34m\u001b[0m\u001b[0;34m\u001b[0m\u001b[0m\n\u001b[1;32m    985\u001b[0m             \u001b[0;32mif\u001b[0m \u001b[0mhasattr\u001b[0m\u001b[0;34m(\u001b[0m\u001b[0me\u001b[0m\u001b[0;34m,\u001b[0m \u001b[0;34m\"ag_error_metadata\"\u001b[0m\u001b[0;34m)\u001b[0m\u001b[0;34m:\u001b[0m\u001b[0;34m\u001b[0m\u001b[0;34m\u001b[0m\u001b[0m\n\u001b[0;32m--> 986\u001b[0;31m               \u001b[0;32mraise\u001b[0m \u001b[0me\u001b[0m\u001b[0;34m.\u001b[0m\u001b[0mag_error_metadata\u001b[0m\u001b[0;34m.\u001b[0m\u001b[0mto_exception\u001b[0m\u001b[0;34m(\u001b[0m\u001b[0me\u001b[0m\u001b[0;34m)\u001b[0m\u001b[0;34m\u001b[0m\u001b[0;34m\u001b[0m\u001b[0m\n\u001b[0m\u001b[1;32m    987\u001b[0m             \u001b[0;32melse\u001b[0m\u001b[0;34m:\u001b[0m\u001b[0;34m\u001b[0m\u001b[0;34m\u001b[0m\u001b[0m\n\u001b[1;32m    988\u001b[0m               \u001b[0;32mraise\u001b[0m\u001b[0;34m\u001b[0m\u001b[0;34m\u001b[0m\u001b[0m\n",
      "\u001b[0;31mValueError\u001b[0m: in user code:\n\n    /home/cat/miniconda3/envs/wide/lib/python3.8/site-packages/tensorflow/python/keras/engine/training.py:1574 predict_function  *\n        return step_function(self, iterator)\n    /home/cat/miniconda3/envs/wide/lib/python3.8/site-packages/tensorflow/python/keras/engine/training.py:1564 step_function  **\n        outputs = model.distribute_strategy.run(run_step, args=(data,))\n    /home/cat/miniconda3/envs/wide/lib/python3.8/site-packages/tensorflow/python/distribute/distribute_lib.py:1285 run\n        return self._extended.call_for_each_replica(fn, args=args, kwargs=kwargs)\n    /home/cat/miniconda3/envs/wide/lib/python3.8/site-packages/tensorflow/python/distribute/distribute_lib.py:2833 call_for_each_replica\n        return self._call_for_each_replica(fn, args, kwargs)\n    /home/cat/miniconda3/envs/wide/lib/python3.8/site-packages/tensorflow/python/distribute/distribute_lib.py:3608 _call_for_each_replica\n        return fn(*args, **kwargs)\n    /home/cat/miniconda3/envs/wide/lib/python3.8/site-packages/tensorflow/python/keras/engine/training.py:1557 run_step  **\n        outputs = model.predict_step(data)\n    /home/cat/miniconda3/envs/wide/lib/python3.8/site-packages/tensorflow/python/keras/engine/training.py:1530 predict_step\n        return self(x, training=False)\n    /home/cat/miniconda3/envs/wide/lib/python3.8/site-packages/tensorflow/python/keras/engine/base_layer.py:1014 __call__\n        input_spec.assert_input_compatibility(self.input_spec, inputs, self.name)\n    /home/cat/miniconda3/envs/wide/lib/python3.8/site-packages/tensorflow/python/keras/engine/input_spec.py:267 assert_input_compatibility\n        raise ValueError('Input ' + str(input_index) +\n\n    ValueError: Input 0 is incompatible with layer model_9: expected shape=(None, 300, 6), found shape=(None, 300, 7)\n"
     ]
    }
   ],
   "source": [
    "#############################################\n",
    "###### PCA 3 components and 2 components ####\n",
    "#############################################\n",
    "\n",
    "def plot_3D(data_r, \n",
    "            rnn,\n",
    "            color,\n",
    "           ax):\n",
    "    \n",
    "    from sklearn.decomposition import PCA\n",
    "    import matplotlib.cm as cm\n",
    "    outputs=rnn.target_model.predict(data_r)\n",
    "    predicted_r=np.ones(data_r.shape[0],'int32')[:,None]\n",
    "    print (\"RNN Nodes x time: \", outputs.shape)\n",
    "\n",
    "    # \n",
    "    out=outputs.reshape(outputs.shape[0]*outputs.shape[1],\n",
    "                        outputs.shape[2])\n",
    "    print (\"outputs: \", out.shape)\n",
    "\n",
    "    # \n",
    "    scaler = StandardScaler()\n",
    "    pca = PCA(n_components=3)\n",
    "\n",
    "    #------- PCA Dimensionality Reduction --------\n",
    "    scaler.fit(out)\n",
    "    scaled_layer_output = scaler.transform(out)   \n",
    "    pca.fit(scaled_layer_output)\n",
    "    print(pca.explained_variance_ratio_)\n",
    "    layer_pca = pca.transform(scaled_layer_output)\n",
    "    print(layer_pca.shape)\n",
    "\n",
    "    layer_vi=layer_pca.reshape((outputs.shape[0],outputs.shape[1],-1))\n",
    "    print(\"Layer vi: \", layer_vi.shape)\n",
    "    l=outputs.shape[0]\n",
    "\n",
    "    # \n",
    "    plot_3d0=[]\n",
    "    plot_3d1=[]\n",
    "    con= int(layer_pca.shape[0]/l)\n",
    "    for i in range(l):\n",
    "        f=predicted_r[i][0]\n",
    "        f=int(f)\n",
    "        col = (((i/l*255))/255)\n",
    "        if f == 0:\n",
    "            plot_3d0.append(layer_pca[(con*i):((con*(i+1))),:])\n",
    "        else:\n",
    "            plot_3d1.append(layer_pca[(con*i):((con*(i+1))),:])\n",
    "\n",
    "        #\n",
    "    x_plot3d1=np.array(plot_3d1)\n",
    "    x3d1=np.mean(x_plot3d1,axis=0)\n",
    "    x_plot3d0=np.array(plot_3d0)\n",
    "    x3d0=np.mean(x_plot3d0,axis=0)\n",
    "    \n",
    "    #ax.plot3D(x3d1[:,0],x3d1[:,1],x3d1[:,2], c= color, linewidth= '5')\n",
    "    alpha=np.arange(x3d1[:,0].shape[0])/x3d1[:,0].shape[0]\n",
    "    print (alpha.shape)\n",
    "    s= ax.scatter(x3d1[:,0],x3d1[:,1],x3d1[:,2],\n",
    "                  s=100, \n",
    "                  c = np.arange(x3d1.shape[0])/x3d1.shape[0],\n",
    "                  cmap=cm.viridis,\n",
    "                  shade=False,\n",
    "              )\n",
    "    #s.set_edgecolors = s.set_facecolors = lambda *args:None\n",
    "    \n",
    "# load specific session\n",
    "fnames = [\n",
    "'/media/cat/4TBSSD/yuki/IA1/tif_files/IA1pm_Feb11_30Hz/IA1pm_Feb11_30Hz_code_04_trial_ROItimeCourses_10sec_pca_0.95.npy',\n",
    "'/media/cat/4TBSSD/yuki/IA1/tif_files/IA1am_Mar4_30Hz/IA1am_Mar4_30Hz_code_04_trial_ROItimeCourses_10sec_pca_0.95.npy',\n",
    "'/media/cat/4TBSSD/yuki/IA1/tif_files/IA1am_Mar7_30Hz/IA1am_Mar7_30Hz_code_04_trial_ROItimeCourses_10sec_pca_0.95.npy',\n",
    "'/media/cat/4TBSSD/yuki/IA1/tif_files/IA1am_Mar9_30Hz/IA1am_Mar9_30Hz_code_04_trial_ROItimeCourses_10sec_pca_0.95.npy',\n",
    "'/media/cat/4TBSSD/yuki/IA1/tif_files/IA1pm_Apr1_30Hz/IA1pm_Apr1_30Hz_code_04_trial_ROItimeCourses_10sec_pca_0.95.npy',\n",
    "'/media/cat/4TBSSD/yuki/IA1/tif_files/IA1pm_Apr5_30Hz/IA1pm_Apr5_30Hz_code_04_trial_ROItimeCourses_10sec_pca_0.95.npy',\n",
    "'/media/cat/4TBSSD/yuki/IA1/tif_files/IA1pm_Apr6_30Hz/IA1pm_Apr6_30Hz_code_04_trial_ROItimeCourses_10sec_pca_0.95.npy',\n",
    "'/media/cat/4TBSSD/yuki/IA1/tif_files/IA1pm_Apr7_30Hz/IA1pm_Apr7_30Hz_code_04_trial_ROItimeCourses_10sec_pca_0.95.npy',\n",
    "'/media/cat/4TBSSD/yuki/IA1/tif_files/IA1pm_Feb1_30Hz/IA1pm_Feb1_30Hz_code_04_trial_ROItimeCourses_10sec_pca_0.95.npy',\n",
    "]\n",
    "\n",
    "# \n",
    "fig = plt.figure(figsize=(20, 20), dpi=40, facecolor='w', edgecolor='k')\n",
    "ax = plt.axes(projection= '3d')\n",
    "\n",
    "# \n",
    "colors = ['blue','red','green','magenta','pink','cyan']\n",
    "ctr=0\n",
    "for fname in fnames:\n",
    "    break\n",
    "    data = np.load(fname)\n",
    "    data_r = data.transpose(0,2,1)[:,:300]\n",
    "    print (data_r.shape)\n",
    "    if data_r.shape[2]==7:\n",
    "        plot_3D(data_r, \n",
    "                rnn,\n",
    "                colors[ctr],\n",
    "               ax)\n",
    "        ctr+=1\n",
    "        #break\n",
    "        \n",
    "fname = '/media/cat/4TBSSD/yuki/IA1/tif_files/IA1pm_Feb11_30Hz/IA1pm_Feb11_30Hz_code_04_random_ROItimeCourses_10sec_pca_0.95.npy'\n",
    "data = np.load(fname)\n",
    "data_r = data.transpose(0,2,1)[:,:300]\n",
    "plot_3D(data_r, \n",
    "        rnn,\n",
    "        'black',\n",
    "        ax)\n",
    "\n",
    "        \n",
    "plt.title(rnn.session_id, fontsize=30)\n",
    "plt.show()"
   ]
  },
  {
   "cell_type": "code",
   "execution_count": 18,
   "metadata": {
    "scrolled": true
   },
   "outputs": [
    {
     "name": "stdout",
     "output_type": "stream",
     "text": [
      "RNN Nodes x time:  (15, 300, 128)\n",
      "outputs:  (4500, 128)\n",
      "[0.8750575  0.08939186 0.02321223]\n",
      "(4500, 3)\n",
      "Layer vi:  (15, 300, 3)\n"
     ]
    },
    {
     "name": "stderr",
     "output_type": "stream",
     "text": [
      "/home/cat/miniconda3/envs/wide/lib/python3.8/site-packages/numpy/core/fromnumeric.py:3372: RuntimeWarning: Mean of empty slice.\n",
      "  return _methods._mean(a, axis=axis, dtype=dtype,\n",
      "/home/cat/miniconda3/envs/wide/lib/python3.8/site-packages/numpy/core/_methods.py:170: RuntimeWarning: invalid value encountered in double_scalars\n",
      "  ret = ret.dtype.type(ret / rcount)\n"
     ]
    },
    {
     "ename": "IndexError",
     "evalue": "invalid index to scalar variable.",
     "output_type": "error",
     "traceback": [
      "\u001b[0;31m---------------------------------------------------------------------------\u001b[0m",
      "\u001b[0;31mIndexError\u001b[0m                                Traceback (most recent call last)",
      "\u001b[0;32m<ipython-input-18-ab3fc815d972>\u001b[0m in \u001b[0;36m<module>\u001b[0;34m\u001b[0m\n\u001b[1;32m     49\u001b[0m \u001b[0mfig\u001b[0m \u001b[0;34m=\u001b[0m \u001b[0mplt\u001b[0m\u001b[0;34m.\u001b[0m\u001b[0mfigure\u001b[0m\u001b[0;34m(\u001b[0m\u001b[0mfigsize\u001b[0m\u001b[0;34m=\u001b[0m\u001b[0;34m(\u001b[0m\u001b[0;36m20\u001b[0m\u001b[0;34m,\u001b[0m \u001b[0;36m20\u001b[0m\u001b[0;34m)\u001b[0m\u001b[0;34m,\u001b[0m \u001b[0mdpi\u001b[0m\u001b[0;34m=\u001b[0m\u001b[0;36m40\u001b[0m\u001b[0;34m,\u001b[0m \u001b[0mfacecolor\u001b[0m\u001b[0;34m=\u001b[0m\u001b[0;34m'w'\u001b[0m\u001b[0;34m,\u001b[0m \u001b[0medgecolor\u001b[0m\u001b[0;34m=\u001b[0m\u001b[0;34m'k'\u001b[0m\u001b[0;34m)\u001b[0m\u001b[0;34m\u001b[0m\u001b[0;34m\u001b[0m\u001b[0m\n\u001b[1;32m     50\u001b[0m \u001b[0max\u001b[0m \u001b[0;34m=\u001b[0m \u001b[0mfig\u001b[0m\u001b[0;34m.\u001b[0m\u001b[0madd_subplot\u001b[0m\u001b[0;34m(\u001b[0m\u001b[0;36m111\u001b[0m\u001b[0;34m,\u001b[0m \u001b[0mprojection\u001b[0m\u001b[0;34m=\u001b[0m\u001b[0;34m'3d'\u001b[0m\u001b[0;34m)\u001b[0m\u001b[0;34m\u001b[0m\u001b[0;34m\u001b[0m\u001b[0m\n\u001b[0;32m---> 51\u001b[0;31m \u001b[0max\u001b[0m\u001b[0;34m.\u001b[0m\u001b[0mscatter\u001b[0m\u001b[0;34m(\u001b[0m\u001b[0mx3d0\u001b[0m\u001b[0;34m[\u001b[0m\u001b[0;34m:\u001b[0m\u001b[0;34m,\u001b[0m\u001b[0;36m0\u001b[0m\u001b[0;34m]\u001b[0m\u001b[0;34m,\u001b[0m\u001b[0mx3d0\u001b[0m\u001b[0;34m[\u001b[0m\u001b[0;34m:\u001b[0m\u001b[0;34m,\u001b[0m\u001b[0;36m1\u001b[0m\u001b[0;34m]\u001b[0m\u001b[0;34m,\u001b[0m\u001b[0mx3d0\u001b[0m\u001b[0;34m[\u001b[0m\u001b[0;34m:\u001b[0m\u001b[0;34m,\u001b[0m\u001b[0;36m2\u001b[0m\u001b[0;34m]\u001b[0m\u001b[0;34m,\u001b[0m \u001b[0mc\u001b[0m\u001b[0;34m=\u001b[0m \u001b[0my_values\u001b[0m\u001b[0;34m,\u001b[0m \u001b[0mcmap\u001b[0m\u001b[0;34m=\u001b[0m\u001b[0mplt\u001b[0m\u001b[0;34m.\u001b[0m\u001b[0mcm\u001b[0m\u001b[0;34m.\u001b[0m\u001b[0mBlues\u001b[0m\u001b[0;34m,\u001b[0m \u001b[0mmarker\u001b[0m\u001b[0;34m=\u001b[0m\u001b[0;34m'o'\u001b[0m\u001b[0;34m,\u001b[0m\u001b[0ms\u001b[0m\u001b[0;34m=\u001b[0m\u001b[0;36m100\u001b[0m\u001b[0;34m)\u001b[0m\u001b[0;34m\u001b[0m\u001b[0;34m\u001b[0m\u001b[0m\n\u001b[0m\u001b[1;32m     52\u001b[0m \u001b[0max\u001b[0m\u001b[0;34m.\u001b[0m\u001b[0mscatter\u001b[0m\u001b[0;34m(\u001b[0m\u001b[0mx3d1\u001b[0m\u001b[0;34m[\u001b[0m\u001b[0;34m:\u001b[0m\u001b[0;34m,\u001b[0m\u001b[0;36m0\u001b[0m\u001b[0;34m]\u001b[0m\u001b[0;34m,\u001b[0m\u001b[0mx3d1\u001b[0m\u001b[0;34m[\u001b[0m\u001b[0;34m:\u001b[0m\u001b[0;34m,\u001b[0m\u001b[0;36m1\u001b[0m\u001b[0;34m]\u001b[0m\u001b[0;34m,\u001b[0m\u001b[0mx3d1\u001b[0m\u001b[0;34m[\u001b[0m\u001b[0;34m:\u001b[0m\u001b[0;34m,\u001b[0m\u001b[0;36m2\u001b[0m\u001b[0;34m]\u001b[0m\u001b[0;34m,\u001b[0m \u001b[0mc\u001b[0m\u001b[0;34m=\u001b[0m \u001b[0my_values\u001b[0m\u001b[0;34m,\u001b[0m \u001b[0mcmap\u001b[0m\u001b[0;34m=\u001b[0m\u001b[0mplt\u001b[0m\u001b[0;34m.\u001b[0m\u001b[0mcm\u001b[0m\u001b[0;34m.\u001b[0m\u001b[0mReds\u001b[0m\u001b[0;34m,\u001b[0m \u001b[0mmarker\u001b[0m\u001b[0;34m=\u001b[0m\u001b[0;34m'o'\u001b[0m\u001b[0;34m,\u001b[0m\u001b[0ms\u001b[0m\u001b[0;34m=\u001b[0m\u001b[0;36m100\u001b[0m\u001b[0;34m)\u001b[0m\u001b[0;34m\u001b[0m\u001b[0;34m\u001b[0m\u001b[0m\n\u001b[1;32m     53\u001b[0m \u001b[0max\u001b[0m\u001b[0;34m.\u001b[0m\u001b[0mplot3D\u001b[0m\u001b[0;34m(\u001b[0m\u001b[0mx3d0\u001b[0m\u001b[0;34m[\u001b[0m\u001b[0;34m:\u001b[0m\u001b[0;34m,\u001b[0m\u001b[0;36m0\u001b[0m\u001b[0;34m]\u001b[0m\u001b[0;34m,\u001b[0m\u001b[0mx3d0\u001b[0m\u001b[0;34m[\u001b[0m\u001b[0;34m:\u001b[0m\u001b[0;34m,\u001b[0m\u001b[0;36m1\u001b[0m\u001b[0;34m]\u001b[0m\u001b[0;34m,\u001b[0m\u001b[0mx3d0\u001b[0m\u001b[0;34m[\u001b[0m\u001b[0;34m:\u001b[0m\u001b[0;34m,\u001b[0m\u001b[0;36m2\u001b[0m\u001b[0;34m]\u001b[0m\u001b[0;34m,\u001b[0m \u001b[0mc\u001b[0m\u001b[0;34m=\u001b[0m \u001b[0;34m'blue'\u001b[0m\u001b[0;34m,\u001b[0m\u001b[0malpha\u001b[0m\u001b[0;34m=\u001b[0m\u001b[0;36m0.3\u001b[0m\u001b[0;34m,\u001b[0m \u001b[0mlinewidth\u001b[0m\u001b[0;34m=\u001b[0m \u001b[0;34m'5'\u001b[0m\u001b[0;34m)\u001b[0m\u001b[0;34m\u001b[0m\u001b[0;34m\u001b[0m\u001b[0m\n",
      "\u001b[0;31mIndexError\u001b[0m: invalid index to scalar variable."
     ]
    }
   ],
   "source": [
    "#############################################\n",
    "###### PCA 3 components and 2 components ####\n",
    "#############################################\n",
    "\n",
    "outputs=rnn.target_model.predict(rnn.X_test_RN)\n",
    "predicted_r=np.ones(rnn.X_test_RN.shape[0],'int32')[:,None]\n",
    "print (\"RNN Nodes x time: \", outputs.shape)\n",
    "\n",
    "# \n",
    "out=outputs.reshape(outputs.shape[0]*outputs.shape[1],\n",
    "                    outputs.shape[2])\n",
    "print (\"outputs: \", out.shape)\n",
    "\n",
    "# \n",
    "scaler = StandardScaler()\n",
    "pca = PCA(n_components=3)\n",
    "\n",
    "#------- PCA Dimensionality Reduction --------\n",
    "scaler.fit(out)\n",
    "scaled_layer_output = scaler.transform(out)   \n",
    "pca.fit(scaled_layer_output)\n",
    "print(pca.explained_variance_ratio_)\n",
    "layer_pca = pca.transform(scaled_layer_output)\n",
    "print(layer_pca.shape)\n",
    "\n",
    "layer_vi=layer_pca.reshape((outputs.shape[0],outputs.shape[1],-1))\n",
    "print(\"Layer vi: \", layer_vi.shape)\n",
    "l=outputs.shape[0]\n",
    "\n",
    "# \n",
    "    # \n",
    "plot_3d0=[]\n",
    "plot_3d1=[]\n",
    "con= int(layer_pca.shape[0]/l)\n",
    "for i in range(l):\n",
    "    f=predicted_r[i][0]\n",
    "    f=int(f)\n",
    "    col = (((i/l*255))/255)\n",
    "    if f == 0:\n",
    "        plot_3d0.append(layer_pca[(con*i):((con*(i+1))),:])\n",
    "    else:\n",
    "        plot_3d1.append(layer_pca[(con*i):((con*(i+1))),:])\n",
    "\n",
    "x_plot3d1=np.array(plot_3d1)\n",
    "x3d1=np.mean(x_plot3d1,axis=0)\n",
    "x_plot3d0=np.array(plot_3d0)\n",
    "x3d0=np.mean(x_plot3d0,axis=0)\n",
    "    \n",
    "fig = plt.figure(figsize=(20, 20), dpi=40, facecolor='w', edgecolor='k')\n",
    "ax = fig.add_subplot(111, projection='3d')\n",
    "ax.scatter(x3d0[:,0],x3d0[:,1],x3d0[:,2], c= y_values, cmap=plt.cm.Blues, marker='o',s=100)\n",
    "ax.scatter(x3d1[:,0],x3d1[:,1],x3d1[:,2], c= y_values, cmap=plt.cm.Reds, marker='o',s=100)\n",
    "ax.plot3D(x3d0[:,0],x3d0[:,1],x3d0[:,2], c= 'blue',alpha=0.3, linewidth= '5')\n",
    "ax.plot3D(x3d1[:,0],x3d1[:,1],x3d1[:,2], c= 'red',alpha=0.3,linewidth= '5')\n",
    "ax.grid(False)\n",
    "ax.set_xticks([])\n",
    "ax.set_yticks([])\n",
    "ax.set_zticks([])\n",
    "plt.show()"
   ]
  },
  {
   "cell_type": "code",
   "execution_count": 15,
   "metadata": {
    "scrolled": true
   },
   "outputs": [
    {
     "ename": "NameError",
     "evalue": "name 'l' is not defined",
     "output_type": "error",
     "traceback": [
      "\u001b[0;31m---------------------------------------------------------------------------\u001b[0m",
      "\u001b[0;31mNameError\u001b[0m                                 Traceback (most recent call last)",
      "\u001b[0;32m<ipython-input-15-f2752c2afe37>\u001b[0m in \u001b[0;36m<module>\u001b[0;34m\u001b[0m\n\u001b[1;32m      3\u001b[0m \u001b[0;34m\u001b[0m\u001b[0m\n\u001b[1;32m      4\u001b[0m \u001b[0;34m\u001b[0m\u001b[0m\n\u001b[0;32m----> 5\u001b[0;31m \u001b[0mcon\u001b[0m\u001b[0;34m=\u001b[0m \u001b[0mint\u001b[0m\u001b[0;34m(\u001b[0m\u001b[0mlayer_pca\u001b[0m\u001b[0;34m.\u001b[0m\u001b[0mshape\u001b[0m\u001b[0;34m[\u001b[0m\u001b[0;36m0\u001b[0m\u001b[0;34m]\u001b[0m\u001b[0;34m/\u001b[0m\u001b[0ml\u001b[0m\u001b[0;34m)\u001b[0m\u001b[0;34m\u001b[0m\u001b[0;34m\u001b[0m\u001b[0m\n\u001b[0m\u001b[1;32m      6\u001b[0m \u001b[0;32mfor\u001b[0m \u001b[0mi\u001b[0m \u001b[0;32min\u001b[0m \u001b[0mrange\u001b[0m\u001b[0;34m(\u001b[0m\u001b[0ml\u001b[0m\u001b[0;34m)\u001b[0m\u001b[0;34m:\u001b[0m\u001b[0;34m\u001b[0m\u001b[0;34m\u001b[0m\u001b[0m\n\u001b[1;32m      7\u001b[0m   \u001b[0mf\u001b[0m\u001b[0;34m=\u001b[0m\u001b[0mpredicted_r\u001b[0m\u001b[0;34m[\u001b[0m\u001b[0mi\u001b[0m\u001b[0;34m]\u001b[0m\u001b[0;34m[\u001b[0m\u001b[0;36m0\u001b[0m\u001b[0;34m]\u001b[0m\u001b[0;34m\u001b[0m\u001b[0;34m\u001b[0m\u001b[0m\n",
      "\u001b[0;31mNameError\u001b[0m: name 'l' is not defined"
     ]
    }
   ],
   "source": [
    "##########################################\n",
    "fig = plt.figure(figsize=(20, 20), dpi=40, facecolor='w', edgecolor='k')\n",
    "\n",
    "\n",
    "con= int(layer_pca.shape[0]/l)\n",
    "for i in range(l):\n",
    "  f=predicted_r[i][0]\n",
    "  f=int(f)\n",
    "  col = (((i/l*255))/255)\n",
    "  if f == 0:\n",
    "    plt.plot(layer_pca[(con*i):((con*(i+1))-1),0],layer_pca[(con*i):((con*(i+1))-1),1], c= 'blue', linewidth= '5')\n",
    "  else:\n",
    "    plt.plot(layer_pca[(con*i):((con*(i+1))-1),0],layer_pca[(con*i):((con*(i+1))-1),1], c= 'red', linewidth= '5')\n",
    "\n",
    "scaler = StandardScaler()\n",
    "pca = PCA(n_components=2)\n",
    "#------- PCA Dimensionality Reduction --------\n",
    "scaler.fit(out)\n",
    "scaled_layer_output = scaler.transform(out)   \n",
    "pca.fit(scaled_layer_output)\n",
    "print(pca.explained_variance_ratio_)\n",
    "layer_pca = pca.transform(scaled_layer_output)\n",
    "print(layer_pca.shape)\n",
    "\n",
    "plot_0=[]\n",
    "plot_1=[]\n",
    "con= int(layer_pca.shape[0]/l)\n",
    "for i in range(l):\n",
    "  f=predicted_r[i][0]\n",
    "  f=int(f)\n",
    "  col = (((i/l*255))/255)\n",
    "  if f == 0:\n",
    "    plot_0.append(layer_pca[(con*i):((con*(i+1))),:])\n",
    "  else:\n",
    "    plot_1.append(layer_pca[(con*i):((con*(i+1))),:])\n",
    "\n",
    "x_plot0=np.array(plot_0)\n",
    "x_plot1=np.array(plot_1)\n",
    "x0=np.mean(x_plot0,axis=0)\n",
    "x1=np.mean(x_plot1,axis=0)\n",
    "\n",
    "x_values = np.arange(1,61,0.5)\n",
    "y_values = [-x**2 for x in x_values]\n",
    "\n",
    "fig = plt.figure(figsize=(10, 8), dpi=40)\n",
    "# plt.scatter(x_values, y_values, c=y_values,  cmap=plt.cm.Blues,edgecolors='none', s=10)\n",
    "plt.scatter(x0[:,0],x0[:,1], c= y_values, cmap=plt.cm.Blues,edgecolors='none',s=100)\n",
    "plt.scatter(x1[:,0],x1[:,1], c= y_values, cmap=plt.cm.Reds,edgecolors='none',s=100)\n",
    "#plt.savefig('120visual.eps',format='eps',bbox_inches = 'tight')\n",
    "plt.show()\n"
   ]
  },
  {
   "cell_type": "code",
   "execution_count": 24,
   "metadata": {},
   "outputs": [],
   "source": [
    "\n"
   ]
  },
  {
   "cell_type": "code",
   "execution_count": 48,
   "metadata": {},
   "outputs": [],
   "source": [
    "###################################################### \n",
    "###################################################### \n",
    "###################################################### \n",
    "\n",
    "#fig=plt.figure()\n"
   ]
  },
  {
   "cell_type": "code",
   "execution_count": null,
   "metadata": {},
   "outputs": [],
   "source": []
  },
  {
   "cell_type": "code",
   "execution_count": null,
   "metadata": {},
   "outputs": [],
   "source": [
    "names = ['IA1','IA2','IA3','IJ1','AQ2'] # \"AR4\" and other datasets could work\n",
    "\n",
    "for name in names:\n",
    "    rnn.animal_id = name\n",
    "    rnn.session_id = 'all'\n",
    "\n",
    "    rnn.run_rnn()"
   ]
  },
  {
   "cell_type": "code",
   "execution_count": 12,
   "metadata": {},
   "outputs": [
    {
     "name": "stdout",
     "output_type": "stream",
     "text": [
      "(10, 10)\n",
      "(10, 10)\n"
     ]
    },
    {
     "name": "stderr",
     "output_type": "stream",
     "text": [
      "<ipython-input-12-e7b69b6f7608>:48: UserWarning: color is redundantly defined by the 'color' keyword argument and the fmt string \"r--\" (-> color='r'). The keyword argument will take precedence.\n",
      "  plt.plot([-10,0],[0.5,0.5],'r--',c='black')\n"
     ]
    }
   ],
   "source": [
    "#\n",
    "data1 = np.load('/media/cat/4TBSSD/yuki/IJ2/RNN_scores/Mar3_200_0.0001.npy.npz')\n",
    "data1 = np.load('/media/cat/4TBSSD/yuki/IJ2/RNN_scores/IJ2pm_Mar2_30Hz_1000_0.0001.npz')\n",
    "#data1 = np.load('/media/cat/4TBSSD/yuki/IJ2/RNN_scores/IJ2pm_Feb29_30Hz_1000_0.0001.npz')\n",
    "b = data1['b_rnn']\n",
    "c = data1['c_s']\n",
    "\n",
    "#\n",
    "print (b.shape)\n",
    "mean = b.mean(1)\n",
    "t=np.linspace(-9.5, 0, mean.shape[0])\n",
    "\n",
    "ax=plt.subplot(111)\n",
    "\n",
    "plt.plot(t, mean, c='black')\n",
    "plt.fill_between(t, mean+c, mean-c, color='black', alpha=.2,\n",
    "                label='RNN - 1000epochs')\n",
    "\n",
    "#\n",
    "data1 = np.load('/media/cat/4TBSSD/yuki/IJ2/RNN_scores/IJ2pm_Mar2_30Hz_200_0.0001.npz')\n",
    "#data1 = np.load('/media/cat/4TBSSD/yuki/IJ2/RNN_scores/IJ2pm_Feb29_30Hz_200_0.0001.npz')\n",
    "b = data1['b_rnn']\n",
    "c = data1['c_s']\n",
    "\n",
    "#\n",
    "print (b.shape)\n",
    "mean = b.mean(1)\n",
    "t=np.linspace(-9.5, 0, mean.shape[0])\n",
    "plt.plot(t, mean, c='red')\n",
    "plt.fill_between(t, mean+c, mean-c, color='red', alpha=.2,\n",
    "                label='RNN - 200epochs')\n",
    "#\n",
    "if False:\n",
    "    fname_svm = '/media/cat/4TBSSD/yuki/IJ2/SVM_Scores/SVM_Scores_IJ2pm_Mar2_30Hz_code_04_trial_ROItimeCourses_10sec_pca_0.95.npy'\n",
    "    data2 = np.load(fname_svm)\n",
    "    print (data2.shape)\n",
    "    data2 = data2[:300]\n",
    "    mean = data2.mean(1)\n",
    "    std = data2.std(1)\n",
    "    t= np.linspace(t[0],t[-1],mean.shape[0])\n",
    "    plt.plot(t, mean, 'blue')\n",
    "    plt.fill_between(t, mean+std, mean-std, color='blue', alpha=.2,\n",
    "                    label='SVM - 2 frames sliding window')\n",
    "\n",
    "plt.legend(fontsize=20)\n",
    "plt.xlim(-10,0)\n",
    "plt.ylim(0.4, 1.0)\n",
    "plt.plot([-10,0],[0.5,0.5],'r--',c='black')\n",
    "ax.tick_params(axis='both', which='major', labelsize=20)\n",
    "#plt.suptitle(os.path.split(fname_svm)[1])\n",
    "plt.xlabel(\"Time (sec)\",fontsize=20)\n",
    "plt.ylabel(\"Decoding accuracy\", fontsize=20)\n",
    "\n",
    "plt.show()"
   ]
  },
  {
   "cell_type": "code",
   "execution_count": null,
   "metadata": {},
   "outputs": [],
   "source": []
  },
  {
   "cell_type": "code",
   "execution_count": null,
   "metadata": {},
   "outputs": [],
   "source": []
  },
  {
   "cell_type": "code",
   "execution_count": null,
   "metadata": {},
   "outputs": [],
   "source": []
  },
  {
   "cell_type": "code",
   "execution_count": null,
   "metadata": {},
   "outputs": [],
   "source": []
  },
  {
   "cell_type": "code",
   "execution_count": null,
   "metadata": {},
   "outputs": [],
   "source": []
  },
  {
   "cell_type": "code",
   "execution_count": null,
   "metadata": {},
   "outputs": [],
   "source": []
  },
  {
   "cell_type": "code",
   "execution_count": null,
   "metadata": {},
   "outputs": [],
   "source": []
  },
  {
   "cell_type": "code",
   "execution_count": null,
   "metadata": {},
   "outputs": [],
   "source": [
    "OLDER CODE BELOW"
   ]
  },
  {
   "cell_type": "code",
   "execution_count": 11,
   "metadata": {},
   "outputs": [
    {
     "name": "stdout",
     "output_type": "stream",
     "text": [
      "Self session: IA1pm_Feb23_30Hz\n",
      "Self session: IA1pm_Feb23_30Hz\n"
     ]
    }
   ],
   "source": [
    "#############################################\n",
    "############## VISUALIZE RESULTS ############\n",
    "#############################################\n",
    "    \n",
    "# LEVER PULL\n",
    "vis = Visualize()\n",
    "\n",
    "# lever-related data\n",
    "vis.main_dir = data_dir\n",
    "vis.random_flag = False  # shuffle data to show baseline\n",
    "\n",
    "# \n",
    "vis.window = 10\n",
    "vis.lockout_window = 10\n",
    "vis.code = 'code_04'\n",
    "vis.lockout = False\n",
    "\n",
    "vis.animal_id = \"IA1\"\n",
    "vis.session_id = \"Feb23_\"\n",
    "title = vis.animal_id + \"  \"+vis.session_id\n",
    "\n",
    "#############################################\n",
    "############## DECISION TYPE ################\n",
    "#############################################\n",
    "# select animal and session\n",
    "\n",
    "# load pca \n",
    "fig =plt.figure()\n",
    "\n",
    "# ax=plt.subplot(2,3,1)\n",
    "# vis.pca_flag = False\n",
    "# vis.lockout = True\n",
    "# vis.pca_var = 0.99\n",
    "# vis.plot_decision_choice('black',str(vis.pca_var),title, ax)\n",
    "\n",
    "# vis.lockout = True\n",
    "# vis.plot_decision_choice('blue',str(vis.pca_var)+\" lockout\",title, ax)\n",
    "\n",
    "# \n",
    "# vis.lockout = True\n",
    "# vis.plot_decision_choice('blue',str(vis.pca_var) + \" lockout\",title, ax)\n",
    "\n",
    "\n",
    "# \n",
    "vars_ = [0.95]\n",
    "for k in range(len(vars_)):\n",
    "    #ax=plt.subplot(2,3,k+2)\n",
    "    ax=plt.subplot(1,1,k+1)\n",
    "    vis.pca_flag = True\n",
    "    vis.lockout = False\n",
    "    vis.pca_var = vars_[k]\n",
    "    vis.plot_decision_choice('black',str(vis.pca_var),title, ax)\n",
    "\n",
    "    # \n",
    "    vis.pca_flag = True\n",
    "    vis.lockout = True\n",
    "    vis.plot_decision_choice('blue',str(vis.pca_var)+\" lockout\",title, ax)\n",
    "\n",
    "# vis.pca_flag = True\n",
    "# vis.pca_var = 0.99\n",
    "# ax=plt.subplot(2,3,2)\n",
    "# vis.plot_decision_choice('blue','xxpcs_0.99Variance',title, ax)\n",
    "\n",
    "\n",
    "# vis.pca_flag = True\n",
    "# vis.pca_var = 0.95\n",
    "# ax=plt.subplot(2,3,3)\n",
    "# vis.plot_decision_choice('red','8pcs_0.95Variance',title, ax)\n",
    "\n",
    "# vis.pca_flag = True\n",
    "# vis.pca_var = 0.90\n",
    "# ax=plt.subplot(2,3,4)\n",
    "# vis.plot_decision_choice('green','4pcs_0.90Variance',title, ax)\n",
    "\n",
    "\n",
    "# vis.pca_var = 0.50\n",
    "# ax=plt.subplot(2,3,5)\n",
    "# vis.plot_decision_choice('magenta','2pcs_0.50Variance',title, ax)\n",
    "\n",
    "\n",
    "# fname = vis.main_dir+'/'+animal_id+'/SVM_scores_'+animal_id+'_lockout_'+str(session)+'.npy'\n",
    "# vis.load_data(fname)\n",
    "# vis.plot_decision_choice('blue','lockout-denoised')\n"
   ]
  },
  {
   "cell_type": "code",
   "execution_count": null,
   "metadata": {},
   "outputs": [],
   "source": []
  },
  {
   "cell_type": "code",
   "execution_count": null,
   "metadata": {},
   "outputs": [],
   "source": []
  },
  {
   "cell_type": "code",
   "execution_count": 7,
   "metadata": {},
   "outputs": [
    {
     "name": "stdout",
     "output_type": "stream",
     "text": [
      "(1500, 16384)\n"
     ]
    }
   ],
   "source": [
    "import pickle as pk\n",
    "\n",
    "file = open('/media/cat/4TBSSD/yuki/IA1/tif_files/IA1pm_Feb3_30Hz/IA1pm_Feb3_30Hz_code_04_lockout_10sec_trial_ROItimeCourses_10sec_pca.pkl', 'rb')\n",
    "\n",
    "# dump information to that file\n",
    "pca = pk.load(file)\n",
    "\n",
    "print (pca.components_.shape)\n"
   ]
  },
  {
   "cell_type": "code",
   "execution_count": 9,
   "metadata": {},
   "outputs": [
    {
     "name": "stdout",
     "output_type": "stream",
     "text": [
      "(62, 601, 128, 128)\n"
     ]
    }
   ],
   "source": [
    "data_stm = np.load('/media/cat/4TBSSD/yuki/IA1/tif_files/IA1pm_Feb3_30Hz/IA1pm_Feb3_30Hz_10.0sec_butterworth_globalAverage_0.1hz_6.0hz_04code_stm.npy')\n",
    "print (data_stm.shape)"
   ]
  },
  {
   "cell_type": "code",
   "execution_count": 10,
   "metadata": {},
   "outputs": [
    {
     "ename": "NameError",
     "evalue": "name 'nComp' is not defined",
     "output_type": "error",
     "traceback": [
      "\u001b[0;31m---------------------------------------------------------------------------\u001b[0m",
      "\u001b[0;31mNameError\u001b[0m                                 Traceback (most recent call last)",
      "\u001b[0;32m<ipython-input-10-f869b1fe5d18>\u001b[0m in \u001b[0;36m<module>\u001b[0;34m\u001b[0m\n\u001b[1;32m      5\u001b[0m \u001b[0mmu\u001b[0m\u001b[0;34m=\u001b[0m \u001b[0mnp\u001b[0m\u001b[0;34m.\u001b[0m\u001b[0mmean\u001b[0m\u001b[0;34m(\u001b[0m\u001b[0mX\u001b[0m\u001b[0;34m,\u001b[0m \u001b[0maxis\u001b[0m\u001b[0;34m=\u001b[0m\u001b[0;36m0\u001b[0m\u001b[0;34m)\u001b[0m\u001b[0;34m\u001b[0m\u001b[0;34m\u001b[0m\u001b[0m\n\u001b[1;32m      6\u001b[0m \u001b[0;34m\u001b[0m\u001b[0m\n\u001b[0;32m----> 7\u001b[0;31m Xnew = np.dot(pca.transform(X)[:,:nComp],\n\u001b[0m\u001b[1;32m      8\u001b[0m              pca.components_[:nComp,:])\n\u001b[1;32m      9\u001b[0m \u001b[0;34m\u001b[0m\u001b[0m\n",
      "\u001b[0;31mNameError\u001b[0m: name 'nComp' is not defined"
     ]
    }
   ],
   "source": [
    "# \n",
    "X = data_stm.reshape(data_stm.shape[0]*data_stm.shape[1],\n",
    "                     data_stm.shape[2]*data_stm.shape[3])\n",
    "\n",
    "mu= np.mean(X, axis=0)\n"
   ]
  },
  {
   "cell_type": "code",
   "execution_count": 11,
   "metadata": {},
   "outputs": [],
   "source": [
    "nComp = 9\n",
    "Xnew = np.dot(pca.transform(X)[:,:nComp],\n",
    "             pca.components_[:nComp,:])\n",
    "\n",
    "Xnew+=mu\n",
    "\n",
    "data_stm_denoised_reshaped = Xnew.reshape(data_stm.shape[0], data_stm.shape[1],\n",
    "                                          data_stm.shape[2], data_stm.shape[3])\n"
   ]
  },
  {
   "cell_type": "code",
   "execution_count": 17,
   "metadata": {},
   "outputs": [
    {
     "name": "stdout",
     "output_type": "stream",
     "text": [
      "(62, 9, 601)\n"
     ]
    }
   ],
   "source": [
    "time_filters = pca.transform(X)[:,:nComp]\n",
    "pca_time_filters_only = time_filters.reshape(data_stm.shape[0], data_stm.shape[1],-1).transpose(0,2,1)\n",
    "print (pca_time_filters_only.shape)\n"
   ]
  },
  {
   "cell_type": "code",
   "execution_count": 15,
   "metadata": {},
   "outputs": [
    {
     "name": "stdout",
     "output_type": "stream",
     "text": [
      "(62, 601, 9)\n"
     ]
    }
   ],
   "source": []
  },
  {
   "cell_type": "code",
   "execution_count": 21,
   "metadata": {},
   "outputs": [
    {
     "name": "stdout",
     "output_type": "stream",
     "text": [
      "(82, 2, 601)\n"
     ]
    }
   ],
   "source": [
    "data = np.load('/media/cat/4TBSSD/yuki/IA1/tif_files/IA1pm_Feb23_30Hz/IA1pm_Feb23_30Hz_code_04_trial_ROItimeCourses_10sec_pca_0.5.npy')\n",
    "print (data.shape)"
   ]
  },
  {
   "cell_type": "code",
   "execution_count": 76,
   "metadata": {},
   "outputs": [
    {
     "name": "stdout",
     "output_type": "stream",
     "text": [
      "(62, 35, 601)\n"
     ]
    }
   ],
   "source": [
    "# -*- coding: utf-8 -*-\n",
    "\"\"\"Cat Data.ipynb\n",
    "\n",
    "Automatically generated by Colaboratory.\n",
    "\n",
    "Original file is located at\n",
    "    https://colab.research.google.com/drive/1r-NABuBJOITVlW03VvhsQivPNzmNp4yp\n",
    "\"\"\"\n",
    "\n",
    "import numpy as np\n",
    "import sklearn\n",
    "from sklearn.model_selection import train_test_split\n",
    "import matplotlib.pyplot as plt\n",
    "from sklearn.model_selection import KFold \n",
    "from sklearn import preprocessing\n",
    "from sklearn.model_selection import cross_val_score\n",
    "from sklearn import svm\n",
    "import pandas as pd\n",
    "from sklearn.metrics import confusion_matrix  \n",
    "import random\n",
    "from scipy import stats\n",
    "from matplotlib.pyplot import MultipleLocator\n",
    "import os\n",
    "\n",
    "\n",
    "jobid = os.getenv('SLURM_ARRAY_TASK_ID')\n",
    "name='IA1_lockout'\n",
    "\n",
    "data_leverpress = np.load('/media/cat/4TBSSD/yuki/temp/IA1/data_04.npy',allow_pickle=True)[0]\n",
    "data_random = np.load('/media/cat/4TBSSD/yuki/temp/IA1/data_04_random.npy',allow_pickle=True)[0]\n",
    "\n",
    "print (data_leverpress.shape)\n"
   ]
  },
  {
   "cell_type": "code",
   "execution_count": 77,
   "metadata": {},
   "outputs": [
    {
     "name": "stderr",
     "output_type": "stream",
     "text": [
      "<ipython-input-77-0c90c545bbff>:41: RuntimeWarning: invalid value encountered in true_divide\n",
      "  conf_matrix_norm = confusion_m.astype('float') / confusion_m.sum(axis=1)[:,np.newaxis] #calculate the precision\n",
      "<ipython-input-77-0c90c545bbff>:41: RuntimeWarning: invalid value encountered in true_divide\n",
      "  conf_matrix_norm = confusion_m.astype('float') / confusion_m.sum(axis=1)[:,np.newaxis] #calculate the precision\n",
      "<ipython-input-77-0c90c545bbff>:41: RuntimeWarning: invalid value encountered in true_divide\n",
      "  conf_matrix_norm = confusion_m.astype('float') / confusion_m.sum(axis=1)[:,np.newaxis] #calculate the precision\n",
      "<ipython-input-77-0c90c545bbff>:41: RuntimeWarning: invalid value encountered in true_divide\n",
      "  conf_matrix_norm = confusion_m.astype('float') / confusion_m.sum(axis=1)[:,np.newaxis] #calculate the precision\n",
      "<ipython-input-77-0c90c545bbff>:41: RuntimeWarning: invalid value encountered in true_divide\n",
      "  conf_matrix_norm = confusion_m.astype('float') / confusion_m.sum(axis=1)[:,np.newaxis] #calculate the precision\n",
      "<ipython-input-77-0c90c545bbff>:41: RuntimeWarning: invalid value encountered in true_divide\n",
      "  conf_matrix_norm = confusion_m.astype('float') / confusion_m.sum(axis=1)[:,np.newaxis] #calculate the precision\n",
      "<ipython-input-77-0c90c545bbff>:41: RuntimeWarning: invalid value encountered in true_divide\n",
      "  conf_matrix_norm = confusion_m.astype('float') / confusion_m.sum(axis=1)[:,np.newaxis] #calculate the precision\n",
      "<ipython-input-77-0c90c545bbff>:41: RuntimeWarning: invalid value encountered in true_divide\n",
      "  conf_matrix_norm = confusion_m.astype('float') / confusion_m.sum(axis=1)[:,np.newaxis] #calculate the precision\n"
     ]
    }
   ],
   "source": [
    "\n",
    "\n",
    "#classification of time (10-class)\n",
    "X_l=data_leverpress #  [n_trials, n_areas, n_time_steps]\n",
    "X_l=X_l.transpose((0,2,1))\n",
    "\n",
    "\n",
    "X_R_l= X_l.reshape(-1,X_l.shape[1]*X_l.shape[2])\n",
    "normal_X_l = preprocessing.normalize(X_R_l)\n",
    "n_X_l=normal_X_l.reshape(X_l.shape[0],X_l.shape[1],X_l.shape[2])\n",
    "X_l=n_X_l\n",
    "\n",
    "X_l=X_l[:,:300,:]\n",
    "X_k=X_l[:,0:30,:]\n",
    "X_k=X_k.reshape(X_k.shape[0],X_k.shape[1]*X_k.shape[2])\n",
    "for i in range(30,271,30):\n",
    "    X_t = X_l[:,i:i+30,:]\n",
    "    X_t=X_t.reshape(X_t.shape[0],X_t.shape[1]*X_t.shape[2])\n",
    "    X_k=np.concatenate((X_k,X_t),axis=0)\n",
    "\n",
    "y_ct=np.zeros(data_leverpress.shape[0])\n",
    "for i in range(1,10):\n",
    "    Z_ct=i*np.ones(data_leverpress.shape[0])\n",
    "    y_ct=np.concatenate((y_ct,Z_ct))\n",
    "\n",
    "# \n",
    "X_tSVM=X_k # 10s * 30frams\n",
    "y_tSVM=y_ct # labels\n",
    "\n",
    "#10-fold confusion matrix\n",
    "clf = svm.SVC() # Non-linear classifier\n",
    "ten_svm=[]\n",
    "conf_matrix_ten=[]\n",
    "kf = KFold(n_splits=10,random_state=None, shuffle=True) \n",
    "for train_index, test_index in kf.split(X_tSVM):\n",
    "    X_train_k, X_test_k = X_tSVM[train_index], X_tSVM[test_index] \n",
    "    y_train_k, y_test_k = y_tSVM[train_index], y_tSVM[test_index]\n",
    "    clf.fit(X_train_k, y_train_k)\n",
    "    score=clf.score(X_test_k, y_test_k)\n",
    "    y_predicted=clf.predict(X_test_k)\n",
    "    cm=confusion_matrix(y_test_k,y_predicted)\n",
    "    confusion_m=cm.T # make each row be the prediction\n",
    "    conf_matrix_norm = confusion_m.astype('float') / confusion_m.sum(axis=1)[:,np.newaxis] #calculate the precision\n",
    "    conf_matrix_norm = np.nan_to_num(conf_matrix_norm)\n",
    "    ten_svm.append(score)\n",
    "    conf_matrix_ten.append(conf_matrix_norm)\n",
    "np.save('conf_10_'+str(name)+'_'+str(jobid)+'.npy',conf_matrix_ten)\n",
    "sc=np.mean(conf_matrix_ten,axis=0) # mean of confusion matrix\n",
    "np.save('conf_avg_'+str(name)+'_'+str(jobid)+'.npy',sc)"
   ]
  },
  {
   "cell_type": "code",
   "execution_count": 78,
   "metadata": {},
   "outputs": [
    {
     "name": "stderr",
     "output_type": "stream",
     "text": [
      "<ipython-input-78-40a74f02ec5b>:57: RuntimeWarning: divide by zero encountered in double_scalars\n",
      "  t=(a-(1/10))/s\n"
     ]
    }
   ],
   "source": [
    "\n",
    "#Next is the plotting.\n",
    "\n",
    "confusion_10=sc.diagonal()\n",
    "np.save('diagonal_'+str(name)+'_'+str(jobid)+'.npy',confusion_10)\n",
    "confusion_s=conf_matrix_ten\n",
    "\n",
    "confusion_d=[]\n",
    "for i in range(0,10):\n",
    "    confusion_d.append(confusion_s[i].diagonal())\n",
    "x_std=np.std(confusion_d,axis=0)/(10**0.5)\n",
    "x_s=x_std\n",
    "\n",
    "\n",
    "fig = plt.figure(figsize=(21.5,20), dpi=64, facecolor='white')\n",
    "plt.xticks(fontsize=60)\n",
    "plt.yticks(fontsize=60)\n",
    "axes = plt.subplot(111)\n",
    "axes.tick_params(axis ='both', which ='both', length = 10,width=4,pad=20)\n",
    "\n",
    "bwith = 3 \n",
    "ax = plt.gca()\n",
    "ax.spines['bottom'].set_linewidth(bwith)\n",
    "ax.spines['left'].set_linewidth(bwith)\n",
    "ax.spines['top'].set_linewidth(bwith)\n",
    "ax.spines['right'].set_linewidth(bwith)\n",
    "l=15\n",
    "\n",
    "Y=np.linspace(0,1,12)\n",
    "X=np.ones(Y.size)\n",
    "x=np.arange(-9.5,0.5,1)\n",
    "plt.text(0.1, 0.2, 'Lever Pull', fontdict={'size': 70}, rotation=90)\n",
    "plt.text(-12.95, 1/10, 'Chance', fontdict={'size': 60}, rotation=0)\n",
    "plt.axhline(y=1/10, color='black', linestyle='--',linewidth=6)\n",
    "\n",
    "plt.errorbar(x,confusion_10,x_s,c='red',alpha=0.6,marker='s', mec='red', ms=3, mew=3,label='SVM',linewidth=l,elinewidth=12)\n",
    "\n",
    "plt.plot( (0+0)*X, Y, color='black',ls='--',linewidth=6)\n",
    "\n",
    "plt.title('Decoding decision time',fontdict={'size': 110},pad=60)\n",
    "plt.xlabel('Time before Lever Pull (s)',fontdict={'size': 110},labelpad=60)\n",
    "plt.ylabel('Decoding Accuracy',fontdict={'size': 110},labelpad=180)\n",
    "plt.ylim(ymax = 1.09)\n",
    "ax=plt.gca()\n",
    "ax.xaxis.set_major_locator(MultipleLocator(2))\n",
    "ax.xaxis.set_minor_locator(MultipleLocator(1))\n",
    "ax.yaxis.set_major_locator(MultipleLocator(0.2))\n",
    "ax.yaxis.set_minor_locator(MultipleLocator(0.1))\n",
    "\n",
    "plt.xlim(xmin = -10.5)\n",
    "plt.xlim(xmax = 0.9)\n",
    "\n",
    "for i in range(0,10):\n",
    "    a=confusion_10[i]\n",
    "    b=x_s[i]\n",
    "    n=10\n",
    "    s=b\n",
    "    t=(a-(1/10))/s\n",
    "    df=n-1\n",
    "    p = (1 - stats.t.cdf(t,df=df))\n",
    "    \n",
    "    if (p > 0.01 and p <= 0.05):\n",
    "        plt.plot(-9.5+i, confusion_10[i]+x_std[i]+0.06, '*',c='black', ms=20)\n",
    "        \n",
    "    if (p > 0.00001 and p <= 0.01):\n",
    "        plt.plot(-9.5+i,confusion_10[i]+x_std[i]+0.06,'*',c='black', ms=20)\n",
    "        plt.plot(-9.5+i,confusion_10[i]+x_std[i]+0.08,'*',c='black', ms=20)\n",
    "    if  p <= 0.00001:\n",
    "        plt.plot(-9.5+i,confusion_10[i]+x_std[i]+0.06,'*',c='black', ms=20)\n",
    "        plt.plot(-9.5+i,confusion_10[i]+x_std[i]+0.08,'*',c='black', ms=20)\n",
    "        plt.plot(-9.5+i,confusion_10[i]+x_std[i]+0.10,'*',c='black', ms=20)\n",
    "\n",
    "plt.show()\n",
    "#plt.savefig('./time_svm_'+str(jobid)+'.jpg')\n",
    "#plt.close()"
   ]
  },
  {
   "cell_type": "code",
   "execution_count": 10,
   "metadata": {},
   "outputs": [
    {
     "name": "stdout",
     "output_type": "stream",
     "text": [
      "(7, 16384)\n"
     ]
    }
   ],
   "source": [
    "data= np.load('/media/cat/4TBSSD/yuki/IJ2/tif_files/IJ2pm_Mar3_30Hz/IJ2pm_Mar3_30Hz_code_04_lockout_10sec_random_ROItimeCourses_10sec_pca_0.95_spatial.npy')\n",
    "print (data.shape)"
   ]
  },
  {
   "cell_type": "code",
   "execution_count": null,
   "metadata": {},
   "outputs": [],
   "source": []
  }
 ],
 "metadata": {
  "kernelspec": {
   "display_name": "Python 3",
   "language": "python",
   "name": "python3"
  },
  "language_info": {
   "codemirror_mode": {
    "name": "ipython",
    "version": 3
   },
   "file_extension": ".py",
   "mimetype": "text/x-python",
   "name": "python",
   "nbconvert_exporter": "python",
   "pygments_lexer": "ipython3",
   "version": "3.8.5"
  }
 },
 "nbformat": 4,
 "nbformat_minor": 4
}
