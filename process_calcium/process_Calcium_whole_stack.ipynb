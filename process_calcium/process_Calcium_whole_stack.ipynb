{
 "cells": [
  {
   "cell_type": "code",
   "execution_count": 2,
   "metadata": {},
   "outputs": [
    {
     "data": {
      "application/javascript": [
       "IPython.notebook.set_autosave_interval(180000)"
      ]
     },
     "metadata": {},
     "output_type": "display_data"
    },
    {
     "name": "stdout",
     "output_type": "stream",
     "text": [
      "Autosaving every 180 seconds\n"
     ]
    },
    {
     "data": {
      "text/html": [
       "<style>.container { width:100% !important; }</style>"
      ],
      "text/plain": [
       "<IPython.core.display.HTML object>"
      ]
     },
     "metadata": {},
     "output_type": "display_data"
    }
   ],
   "source": [
    "import matplotlib\n",
    "#matplotlib.use('Agg')\n",
    "\n",
    "%load_ext autoreload\n",
    "%autoreload 2\n",
    "\n",
    "%matplotlib tk\n",
    "%autosave 180\n",
    "import matplotlib.pyplot as plt\n",
    "from IPython.core.display import display, HTML\n",
    "display(HTML(\"<style>.container { width:100% !important; }</style>\"))\n",
    "\n",
    "import numpy as np\n",
    "import os\n",
    "\n",
    "# pre process data module\n",
    "from ProcessCalcium import ProcessCalcium\n",
    "\n",
    "# \n",
    "data_dir = '/media/cat/1TB/yuki/'\n",
    "data_dir = '/media/cat/4TBSSD/yuki/'\n",
    "\n"
   ]
  },
  {
   "cell_type": "code",
   "execution_count": 5,
   "metadata": {
    "scrolled": true
   },
   "outputs": [
    {
     "name": "stderr",
     "output_type": "stream",
     "text": [
      "100%|██████████| 71/71 [00:00<00:00, 38659.69it/s]"
     ]
    },
    {
     "name": "stdout",
     "output_type": "stream",
     "text": [
      "PROCESSING:  IA1\n",
      "   recording:  IA1pm_Feb1_30Hz\n",
      "No video available:  IA1pm_Feb1_30Hz\n",
      "fname-locs:  /media/cat/1TB/yuki/IA1/tif_files/IA1pm_Feb1_30Hz/IA1pm_Feb1_30Hz_whole_stack_trial_ROItimeCourses_15sec_locs_selected.txt\n",
      "    computing DFF\n",
      "missing aligned images - skipping session IA1pm_Feb1_30Hz\n",
      "data_stm is empty (could not compute stm, skipping :  IA1pm_Feb1_30Hz  )\n"
     ]
    },
    {
     "name": "stderr",
     "output_type": "stream",
     "text": [
      "\n"
     ]
    }
   ],
   "source": [
    "###########################################################################\n",
    "##### PROCESS [CA] DATA (EVENT TRIGGERED MAPS): ROI OR PCA TIME SERIES ####\n",
    "###########################################################################\n",
    "'''  Compute calcium activity in ROIs selected (35) for \n",
    "     lever pull actiivty\n",
    "     \n",
    "     or just use PCA time courses \n",
    "'''\n",
    "\n",
    "# Processing flags\n",
    "parallel = False  # THIS DOESN\"T REALLY WORK TOO MUCH MEMORY...\n",
    "n_cores = 3\n",
    "\n",
    "# select animal names\n",
    "names = ['IA1','IA2','IA3','IJ1','IJ2','AQ2'] # \"AR4\" and other datase\n",
    "# names = ['IA1']\n",
    "\n",
    "\n",
    "# window to compute\n",
    "n_sec_window = 15\n",
    "lockout_window = 10   # no of seconds of previous movement / lever pull lockout\n",
    "recompute = True      # overwrite previously generated data\n",
    "\n",
    "# # save PCA vs. ROI data; if selected, each dataset will be reduced to the PCs rquired to get to the explained var value\n",
    "pca_etm = True\n",
    "pca_explained_var_val = 0.95\n",
    "\n",
    "################################\n",
    "etm = ProcessCalcium()\n",
    "etm.main_dir = data_dir\n",
    "etm.verbose = True\n",
    "\n",
    "#\n",
    "etm.random_events_lockout = 3.0  # minimum number of seconds difference between a rewarded pull and a random/control \n",
    "etm.n_sec_window = n_sec_window \n",
    "etm.recompute = recompute\n",
    "etm.pca_fixed_comps = 30  # fixed numer of components overrides explained_variance amount above\n",
    "\n",
    "# \n",
    "# etm.remove_shift = True     # don't use shift\n",
    "#etm.pca_n_components = 20\n",
    "etm.whole_stack = True\n",
    "etm.feature_name = \"whole_stack\"\n",
    "\n",
    "#\n",
    "#features = ['left_paw','right_paw','jaw']\n",
    "\n",
    "# \n",
    "etm.feature_quiescence = 3    # number of seconds of no-movement prior to feature movement ;not applicable to code-04\n",
    "                                # this value is computed in generate_movements_quiescence_periods notebook;\n",
    "# \n",
    "#etm.skip_to = 'Mar14_'  # flag to pickup reprocessing at some point; only used if overwrite flag is set to True and need to partially restart\n",
    "etm.skip_to = None  # \n",
    "\n",
    "# \n",
    "etm.sessions = 'all'\n",
    "\n",
    "# \n",
    "etm.generate_etm(names,\n",
    "                 n_sec_window,\n",
    "                 lockout_window,\n",
    "                 recompute,\n",
    "                 pca_etm,\n",
    "                 pca_explained_var_val,\n",
    "                 parallel,\n",
    "                 n_cores,\n",
    "                 )                \n"
   ]
  },
  {
   "cell_type": "code",
   "execution_count": 26,
   "metadata": {},
   "outputs": [
    {
     "name": "stdout",
     "output_type": "stream",
     "text": [
      "['__abstractmethods__', '__class__', '__delattr__', '__dict__', '__dir__', '__doc__', '__eq__', '__format__', '__ge__', '__getattribute__', '__getstate__', '__gt__', '__hash__', '__init__', '__init_subclass__', '__le__', '__lt__', '__module__', '__ne__', '__new__', '__reduce__', '__reduce_ex__', '__repr__', '__setattr__', '__setstate__', '__sizeof__', '__str__', '__subclasshook__', '__weakref__', '_abc_impl', '_check_n_features', '_fit', '_fit_full', '_fit_svd_solver', '_fit_truncated', '_get_param_names', '_get_tags', '_more_tags', '_repr_html_', '_repr_html_inner', '_repr_mimebundle_', '_validate_data', 'components_', 'copy', 'explained_variance_', 'explained_variance_ratio_', 'fit', 'fit_transform', 'get_covariance', 'get_params', 'get_precision', 'inverse_transform', 'iterated_power', 'mean_', 'n_components', 'n_components_', 'n_features_', 'n_features_in_', 'n_samples_', 'noise_variance_', 'random_state', 'score', 'score_samples', 'set_params', 'singular_values_', 'svd_solver', 'tol', 'transform', 'whiten']\n",
      "[[8.12053213e-01]\n",
      " [6.87111556e-02]\n",
      " [3.87839627e-02]\n",
      " [1.69313439e-02]\n",
      " [9.80342350e-03]\n",
      " [7.27561852e-03]\n",
      " [5.51628843e-03]\n",
      " [4.37944292e-03]\n",
      " [3.78595445e-03]\n",
      " [3.19313960e-03]\n",
      " [2.51568140e-03]\n",
      " [2.18007820e-03]\n",
      " [1.57007952e-03]\n",
      " [1.40179515e-03]\n",
      " [1.30111680e-03]\n",
      " [9.87688471e-04]\n",
      " [8.30515122e-04]\n",
      " [7.73165577e-04]\n",
      " [6.72644156e-04]\n",
      " [6.20169420e-04]]\n"
     ]
    }
   ],
   "source": [
    "import pickle\n",
    "fname = '/media/cat/1TB/yuki/IA1/tif_files/IA1pm_Feb3_30Hz/IA1pm_Feb3_30Hz_whole_stack_trial_ROItimeCourses_15sec_pca.pkl'\n",
    "\n",
    "file = open(fname,'rb')\n",
    "object_file = pickle.load(file)\n",
    "file.close()\n",
    "\n",
    "print(dir(object_file))\n",
    "print (np.vstack(object_file.explained_variance_ratio_[:20]))\n"
   ]
  },
  {
   "cell_type": "code",
   "execution_count": 10,
   "metadata": {},
   "outputs": [
    {
     "name": "stdout",
     "output_type": "stream",
     "text": [
      "(1000, 20)\n"
     ]
    }
   ],
   "source": [
    "clrs = ['black','blue','red','green','cyan','magenta','yellow','pink','brown','orange']\n",
    "d1 = np.load('/media/cat/1TB/yuki/IA1/tif_files/IA1pm_Feb3_30Hz/IA1pm_Feb3_30Hz_whole_stack_trial_ROItimeCourses_15sec_pca_0.95.npy')\n",
    "print (d1.shape)\n",
    "for k in range(10):\n",
    "    plt.plot(d1[:,k]-d1[:,k].mean(0),c=clrs[k])\n",
    "plt.show()"
   ]
  },
  {
   "cell_type": "code",
   "execution_count": 28,
   "metadata": {},
   "outputs": [
    {
     "name": "stdout",
     "output_type": "stream",
     "text": [
      "(20, 16384)\n"
     ]
    }
   ],
   "source": [
    "d1 = np.load('/media/cat/1TB/yuki/IA1/tif_files/IA1pm_Feb3_30Hz/IA1pm_Feb3_30Hz_whole_stack_trial_ROItimeCourses_15sec_pca_0.95_spatial.npy')\n",
    "print (d1.shape)\n",
    "for k in range(20):\n",
    "    ax=plt.subplot(2,10,k+1)\n",
    "    plt.imshow(d1[k].reshape(128,128))\n",
    "    plt.title(str(round(object_file.explained_variance_ratio_[k],4)))\n",
    "plt.show()"
   ]
  },
  {
   "cell_type": "code",
   "execution_count": null,
   "metadata": {},
   "outputs": [],
   "source": []
  },
  {
   "cell_type": "code",
   "execution_count": 12,
   "metadata": {},
   "outputs": [
    {
     "name": "stdout",
     "output_type": "stream",
     "text": [
      "['left_paw' 'right_paw' 'nose' 'jaw' 'right_ear' 'tongue' 'lever']\n"
     ]
    }
   ],
   "source": [
    "data = np.load('/media/cat/4TBSSD/yuki/IA1/tif_files/IA1pm_Feb1_30Hz/IA1pm_Feb1_30Hz_5secNoMove_movements.npz',allow_pickle=True)\n",
    "labels=data['labels']\n",
    "print (labels)"
   ]
  },
  {
   "cell_type": "code",
   "execution_count": 5,
   "metadata": {},
   "outputs": [
    {
     "name": "stdout",
     "output_type": "stream",
     "text": [
      "7\n"
     ]
    }
   ],
   "source": [
    "data = np.load('/media/cat/4TBSSD/yuki/IJ1/tif_files/IJ1pm_Feb3_30Hz/IJ1pm_Feb3_30Hz_5secNoMove_movements.npz',allow_pickle=True)\n",
    "features = data['feature_movements']\n",
    "print (len(features))"
   ]
  },
  {
   "cell_type": "code",
   "execution_count": null,
   "metadata": {},
   "outputs": [],
   "source": []
  },
  {
   "cell_type": "code",
   "execution_count": null,
   "metadata": {},
   "outputs": [],
   "source": []
  },
  {
   "cell_type": "code",
   "execution_count": null,
   "metadata": {},
   "outputs": [],
   "source": []
  },
  {
   "cell_type": "code",
   "execution_count": null,
   "metadata": {},
   "outputs": [],
   "source": []
  },
  {
   "cell_type": "code",
   "execution_count": null,
   "metadata": {},
   "outputs": [],
   "source": []
  },
  {
   "cell_type": "code",
   "execution_count": null,
   "metadata": {},
   "outputs": [],
   "source": []
  },
  {
   "cell_type": "code",
   "execution_count": null,
   "metadata": {},
   "outputs": [],
   "source": []
  },
  {
   "cell_type": "code",
   "execution_count": null,
   "metadata": {},
   "outputs": [],
   "source": []
  },
  {
   "cell_type": "code",
   "execution_count": null,
   "metadata": {},
   "outputs": [],
   "source": []
  },
  {
   "cell_type": "code",
   "execution_count": null,
   "metadata": {},
   "outputs": [],
   "source": []
  },
  {
   "cell_type": "code",
   "execution_count": null,
   "metadata": {},
   "outputs": [],
   "source": []
  },
  {
   "cell_type": "code",
   "execution_count": null,
   "metadata": {},
   "outputs": [],
   "source": []
  },
  {
   "cell_type": "code",
   "execution_count": null,
   "metadata": {},
   "outputs": [],
   "source": []
  },
  {
   "cell_type": "code",
   "execution_count": null,
   "metadata": {},
   "outputs": [],
   "source": []
  },
  {
   "cell_type": "code",
   "execution_count": null,
   "metadata": {},
   "outputs": [],
   "source": [
    "OLDER CODE BELOW"
   ]
  },
  {
   "cell_type": "code",
   "execution_count": 11,
   "metadata": {},
   "outputs": [
    {
     "name": "stdout",
     "output_type": "stream",
     "text": [
      "Self session: IA1pm_Feb23_30Hz\n",
      "Self session: IA1pm_Feb23_30Hz\n"
     ]
    }
   ],
   "source": [
    "#############################################\n",
    "############## VISUALIZE RESULTS ############\n",
    "#############################################\n",
    "    \n",
    "# LEVER PULL\n",
    "vis = Visualize()\n",
    "\n",
    "# lever-related data\n",
    "vis.main_dir = data_dir\n",
    "vis.random_flag = False  # shuffle data to show baseline\n",
    "\n",
    "# \n",
    "vis.window = 10\n",
    "vis.lockout_window = 10\n",
    "vis.code = 'code_04'\n",
    "vis.lockout = False\n",
    "\n",
    "vis.animal_id = \"IA1\"\n",
    "vis.session_id = \"Feb23_\"\n",
    "title = vis.animal_id + \"  \"+vis.session_id\n",
    "\n",
    "#############################################\n",
    "############## DECISION TYPE ################\n",
    "#############################################\n",
    "# select animal and session\n",
    "\n",
    "# load pca \n",
    "fig =plt.figure()\n",
    "\n",
    "# ax=plt.subplot(2,3,1)\n",
    "# vis.pca_flag = False\n",
    "# vis.lockout = True\n",
    "# vis.pca_var = 0.99\n",
    "# vis.plot_decision_choice('black',str(vis.pca_var),title, ax)\n",
    "\n",
    "# vis.lockout = True\n",
    "# vis.plot_decision_choice('blue',str(vis.pca_var)+\" lockout\",title, ax)\n",
    "\n",
    "# \n",
    "# vis.lockout = True\n",
    "# vis.plot_decision_choice('blue',str(vis.pca_var) + \" lockout\",title, ax)\n",
    "\n",
    "\n",
    "# \n",
    "vars_ = [0.95]\n",
    "for k in range(len(vars_)):\n",
    "    #ax=plt.subplot(2,3,k+2)\n",
    "    ax=plt.subplot(1,1,k+1)\n",
    "    vis.pca_flag = True\n",
    "    vis.lockout = False\n",
    "    vis.pca_var = vars_[k]\n",
    "    vis.plot_decision_choice('black',str(vis.pca_var),title, ax)\n",
    "\n",
    "    # \n",
    "    vis.pca_flag = True\n",
    "    vis.lockout = True\n",
    "    vis.plot_decision_choice('blue',str(vis.pca_var)+\" lockout\",title, ax)\n",
    "\n",
    "# vis.pca_flag = True\n",
    "# vis.pca_var = 0.99\n",
    "# ax=plt.subplot(2,3,2)\n",
    "# vis.plot_decision_choice('blue','xxpcs_0.99Variance',title, ax)\n",
    "\n",
    "\n",
    "# vis.pca_flag = True\n",
    "# vis.pca_var = 0.95\n",
    "# ax=plt.subplot(2,3,3)\n",
    "# vis.plot_decision_choice('red','8pcs_0.95Variance',title, ax)\n",
    "\n",
    "# vis.pca_flag = True\n",
    "# vis.pca_var = 0.90\n",
    "# ax=plt.subplot(2,3,4)\n",
    "# vis.plot_decision_choice('green','4pcs_0.90Variance',title, ax)\n",
    "\n",
    "\n",
    "# vis.pca_var = 0.50\n",
    "# ax=plt.subplot(2,3,5)\n",
    "# vis.plot_decision_choice('magenta','2pcs_0.50Variance',title, ax)\n",
    "\n",
    "\n",
    "# fname = vis.main_dir+'/'+animal_id+'/SVM_scores_'+animal_id+'_lockout_'+str(session)+'.npy'\n",
    "# vis.load_data(fname)\n",
    "# vis.plot_decision_choice('blue','lockout-denoised')\n"
   ]
  },
  {
   "cell_type": "code",
   "execution_count": null,
   "metadata": {},
   "outputs": [],
   "source": []
  },
  {
   "cell_type": "code",
   "execution_count": null,
   "metadata": {},
   "outputs": [],
   "source": []
  },
  {
   "cell_type": "code",
   "execution_count": 7,
   "metadata": {},
   "outputs": [
    {
     "name": "stdout",
     "output_type": "stream",
     "text": [
      "(1500, 16384)\n"
     ]
    }
   ],
   "source": [
    "import pickle as pk\n",
    "\n",
    "file = open('/media/cat/4TBSSD/yuki/IA1/tif_files/IA1pm_Feb3_30Hz/IA1pm_Feb3_30Hz_code_04_lockout_10sec_trial_ROItimeCourses_10sec_pca.pkl', 'rb')\n",
    "\n",
    "# dump information to that file\n",
    "pca = pk.load(file)\n",
    "\n",
    "print (pca.components_.shape)\n"
   ]
  },
  {
   "cell_type": "code",
   "execution_count": 9,
   "metadata": {},
   "outputs": [
    {
     "name": "stdout",
     "output_type": "stream",
     "text": [
      "(62, 601, 128, 128)\n"
     ]
    }
   ],
   "source": [
    "data_stm = np.load('/media/cat/4TBSSD/yuki/IA1/tif_files/IA1pm_Feb3_30Hz/IA1pm_Feb3_30Hz_10.0sec_butterworth_globalAverage_0.1hz_6.0hz_04code_stm.npy')\n",
    "print (data_stm.shape)"
   ]
  },
  {
   "cell_type": "code",
   "execution_count": 10,
   "metadata": {},
   "outputs": [
    {
     "ename": "NameError",
     "evalue": "name 'nComp' is not defined",
     "output_type": "error",
     "traceback": [
      "\u001b[0;31m---------------------------------------------------------------------------\u001b[0m",
      "\u001b[0;31mNameError\u001b[0m                                 Traceback (most recent call last)",
      "\u001b[0;32m<ipython-input-10-f869b1fe5d18>\u001b[0m in \u001b[0;36m<module>\u001b[0;34m\u001b[0m\n\u001b[1;32m      5\u001b[0m \u001b[0mmu\u001b[0m\u001b[0;34m=\u001b[0m \u001b[0mnp\u001b[0m\u001b[0;34m.\u001b[0m\u001b[0mmean\u001b[0m\u001b[0;34m(\u001b[0m\u001b[0mX\u001b[0m\u001b[0;34m,\u001b[0m \u001b[0maxis\u001b[0m\u001b[0;34m=\u001b[0m\u001b[0;36m0\u001b[0m\u001b[0;34m)\u001b[0m\u001b[0;34m\u001b[0m\u001b[0;34m\u001b[0m\u001b[0m\n\u001b[1;32m      6\u001b[0m \u001b[0;34m\u001b[0m\u001b[0m\n\u001b[0;32m----> 7\u001b[0;31m Xnew = np.dot(pca.transform(X)[:,:nComp],\n\u001b[0m\u001b[1;32m      8\u001b[0m              pca.components_[:nComp,:])\n\u001b[1;32m      9\u001b[0m \u001b[0;34m\u001b[0m\u001b[0m\n",
      "\u001b[0;31mNameError\u001b[0m: name 'nComp' is not defined"
     ]
    }
   ],
   "source": [
    "# \n",
    "X = data_stm.reshape(data_stm.shape[0]*data_stm.shape[1],\n",
    "                     data_stm.shape[2]*data_stm.shape[3])\n",
    "\n",
    "mu= np.mean(X, axis=0)\n"
   ]
  },
  {
   "cell_type": "code",
   "execution_count": 11,
   "metadata": {},
   "outputs": [],
   "source": [
    "nComp = 9\n",
    "Xnew = np.dot(pca.transform(X)[:,:nComp],\n",
    "             pca.components_[:nComp,:])\n",
    "\n",
    "Xnew+=mu\n",
    "\n",
    "data_stm_denoised_reshaped = Xnew.reshape(data_stm.shape[0], data_stm.shape[1],\n",
    "                                          data_stm.shape[2], data_stm.shape[3])\n"
   ]
  },
  {
   "cell_type": "code",
   "execution_count": 17,
   "metadata": {},
   "outputs": [
    {
     "name": "stdout",
     "output_type": "stream",
     "text": [
      "(62, 9, 601)\n"
     ]
    }
   ],
   "source": [
    "time_filters = pca.transform(X)[:,:nComp]\n",
    "pca_time_filters_only = time_filters.reshape(data_stm.shape[0], data_stm.shape[1],-1).transpose(0,2,1)\n",
    "print (pca_time_filters_only.shape)\n"
   ]
  },
  {
   "cell_type": "code",
   "execution_count": 15,
   "metadata": {},
   "outputs": [
    {
     "name": "stdout",
     "output_type": "stream",
     "text": [
      "(62, 601, 9)\n"
     ]
    }
   ],
   "source": []
  },
  {
   "cell_type": "code",
   "execution_count": 21,
   "metadata": {},
   "outputs": [
    {
     "name": "stdout",
     "output_type": "stream",
     "text": [
      "(82, 2, 601)\n"
     ]
    }
   ],
   "source": [
    "data = np.load('/media/cat/4TBSSD/yuki/IA1/tif_files/IA1pm_Feb23_30Hz/IA1pm_Feb23_30Hz_code_04_trial_ROItimeCourses_10sec_pca_0.5.npy')\n",
    "print (data.shape)"
   ]
  },
  {
   "cell_type": "code",
   "execution_count": 76,
   "metadata": {},
   "outputs": [
    {
     "name": "stdout",
     "output_type": "stream",
     "text": [
      "(62, 35, 601)\n"
     ]
    }
   ],
   "source": [
    "# -*- coding: utf-8 -*-\n",
    "\"\"\"Cat Data.ipynb\n",
    "\n",
    "Automatically generated by Colaboratory.\n",
    "\n",
    "Original file is located at\n",
    "    https://colab.research.google.com/drive/1r-NABuBJOITVlW03VvhsQivPNzmNp4yp\n",
    "\"\"\"\n",
    "\n",
    "import numpy as np\n",
    "import sklearn\n",
    "from sklearn.model_selection import train_test_split\n",
    "import matplotlib.pyplot as plt\n",
    "from sklearn.model_selection import KFold \n",
    "from sklearn import preprocessing\n",
    "from sklearn.model_selection import cross_val_score\n",
    "from sklearn import svm\n",
    "import pandas as pd\n",
    "from sklearn.metrics import confusion_matrix  \n",
    "import random\n",
    "from scipy import stats\n",
    "from matplotlib.pyplot import MultipleLocator\n",
    "import os\n",
    "\n",
    "\n",
    "jobid = os.getenv('SLURM_ARRAY_TASK_ID')\n",
    "name='IA1_lockout'\n",
    "\n",
    "data_leverpress = np.load('/media/cat/4TBSSD/yuki/temp/IA1/data_04.npy',allow_pickle=True)[0]\n",
    "data_random = np.load('/media/cat/4TBSSD/yuki/temp/IA1/data_04_random.npy',allow_pickle=True)[0]\n",
    "\n",
    "print (data_leverpress.shape)\n"
   ]
  },
  {
   "cell_type": "code",
   "execution_count": 77,
   "metadata": {},
   "outputs": [
    {
     "name": "stderr",
     "output_type": "stream",
     "text": [
      "<ipython-input-77-0c90c545bbff>:41: RuntimeWarning: invalid value encountered in true_divide\n",
      "  conf_matrix_norm = confusion_m.astype('float') / confusion_m.sum(axis=1)[:,np.newaxis] #calculate the precision\n",
      "<ipython-input-77-0c90c545bbff>:41: RuntimeWarning: invalid value encountered in true_divide\n",
      "  conf_matrix_norm = confusion_m.astype('float') / confusion_m.sum(axis=1)[:,np.newaxis] #calculate the precision\n",
      "<ipython-input-77-0c90c545bbff>:41: RuntimeWarning: invalid value encountered in true_divide\n",
      "  conf_matrix_norm = confusion_m.astype('float') / confusion_m.sum(axis=1)[:,np.newaxis] #calculate the precision\n",
      "<ipython-input-77-0c90c545bbff>:41: RuntimeWarning: invalid value encountered in true_divide\n",
      "  conf_matrix_norm = confusion_m.astype('float') / confusion_m.sum(axis=1)[:,np.newaxis] #calculate the precision\n",
      "<ipython-input-77-0c90c545bbff>:41: RuntimeWarning: invalid value encountered in true_divide\n",
      "  conf_matrix_norm = confusion_m.astype('float') / confusion_m.sum(axis=1)[:,np.newaxis] #calculate the precision\n",
      "<ipython-input-77-0c90c545bbff>:41: RuntimeWarning: invalid value encountered in true_divide\n",
      "  conf_matrix_norm = confusion_m.astype('float') / confusion_m.sum(axis=1)[:,np.newaxis] #calculate the precision\n",
      "<ipython-input-77-0c90c545bbff>:41: RuntimeWarning: invalid value encountered in true_divide\n",
      "  conf_matrix_norm = confusion_m.astype('float') / confusion_m.sum(axis=1)[:,np.newaxis] #calculate the precision\n",
      "<ipython-input-77-0c90c545bbff>:41: RuntimeWarning: invalid value encountered in true_divide\n",
      "  conf_matrix_norm = confusion_m.astype('float') / confusion_m.sum(axis=1)[:,np.newaxis] #calculate the precision\n"
     ]
    }
   ],
   "source": [
    "\n",
    "\n",
    "#classification of time (10-class)\n",
    "X_l=data_leverpress #  [n_trials, n_areas, n_time_steps]\n",
    "X_l=X_l.transpose((0,2,1))\n",
    "\n",
    "\n",
    "X_R_l= X_l.reshape(-1,X_l.shape[1]*X_l.shape[2])\n",
    "normal_X_l = preprocessing.normalize(X_R_l)\n",
    "n_X_l=normal_X_l.reshape(X_l.shape[0],X_l.shape[1],X_l.shape[2])\n",
    "X_l=n_X_l\n",
    "\n",
    "X_l=X_l[:,:300,:]\n",
    "X_k=X_l[:,0:30,:]\n",
    "X_k=X_k.reshape(X_k.shape[0],X_k.shape[1]*X_k.shape[2])\n",
    "for i in range(30,271,30):\n",
    "    X_t = X_l[:,i:i+30,:]\n",
    "    X_t=X_t.reshape(X_t.shape[0],X_t.shape[1]*X_t.shape[2])\n",
    "    X_k=np.concatenate((X_k,X_t),axis=0)\n",
    "\n",
    "y_ct=np.zeros(data_leverpress.shape[0])\n",
    "for i in range(1,10):\n",
    "    Z_ct=i*np.ones(data_leverpress.shape[0])\n",
    "    y_ct=np.concatenate((y_ct,Z_ct))\n",
    "\n",
    "# \n",
    "X_tSVM=X_k # 10s * 30frams\n",
    "y_tSVM=y_ct # labels\n",
    "\n",
    "#10-fold confusion matrix\n",
    "clf = svm.SVC() # Non-linear classifier\n",
    "ten_svm=[]\n",
    "conf_matrix_ten=[]\n",
    "kf = KFold(n_splits=10,random_state=None, shuffle=True) \n",
    "for train_index, test_index in kf.split(X_tSVM):\n",
    "    X_train_k, X_test_k = X_tSVM[train_index], X_tSVM[test_index] \n",
    "    y_train_k, y_test_k = y_tSVM[train_index], y_tSVM[test_index]\n",
    "    clf.fit(X_train_k, y_train_k)\n",
    "    score=clf.score(X_test_k, y_test_k)\n",
    "    y_predicted=clf.predict(X_test_k)\n",
    "    cm=confusion_matrix(y_test_k,y_predicted)\n",
    "    confusion_m=cm.T # make each row be the prediction\n",
    "    conf_matrix_norm = confusion_m.astype('float') / confusion_m.sum(axis=1)[:,np.newaxis] #calculate the precision\n",
    "    conf_matrix_norm = np.nan_to_num(conf_matrix_norm)\n",
    "    ten_svm.append(score)\n",
    "    conf_matrix_ten.append(conf_matrix_norm)\n",
    "np.save('conf_10_'+str(name)+'_'+str(jobid)+'.npy',conf_matrix_ten)\n",
    "sc=np.mean(conf_matrix_ten,axis=0) # mean of confusion matrix\n",
    "np.save('conf_avg_'+str(name)+'_'+str(jobid)+'.npy',sc)"
   ]
  },
  {
   "cell_type": "code",
   "execution_count": 78,
   "metadata": {},
   "outputs": [
    {
     "name": "stderr",
     "output_type": "stream",
     "text": [
      "<ipython-input-78-40a74f02ec5b>:57: RuntimeWarning: divide by zero encountered in double_scalars\n",
      "  t=(a-(1/10))/s\n"
     ]
    }
   ],
   "source": [
    "\n",
    "#Next is the plotting.\n",
    "\n",
    "confusion_10=sc.diagonal()\n",
    "np.save('diagonal_'+str(name)+'_'+str(jobid)+'.npy',confusion_10)\n",
    "confusion_s=conf_matrix_ten\n",
    "\n",
    "confusion_d=[]\n",
    "for i in range(0,10):\n",
    "    confusion_d.append(confusion_s[i].diagonal())\n",
    "x_std=np.std(confusion_d,axis=0)/(10**0.5)\n",
    "x_s=x_std\n",
    "\n",
    "\n",
    "fig = plt.figure(figsize=(21.5,20), dpi=64, facecolor='white')\n",
    "plt.xticks(fontsize=60)\n",
    "plt.yticks(fontsize=60)\n",
    "axes = plt.subplot(111)\n",
    "axes.tick_params(axis ='both', which ='both', length = 10,width=4,pad=20)\n",
    "\n",
    "bwith = 3 \n",
    "ax = plt.gca()\n",
    "ax.spines['bottom'].set_linewidth(bwith)\n",
    "ax.spines['left'].set_linewidth(bwith)\n",
    "ax.spines['top'].set_linewidth(bwith)\n",
    "ax.spines['right'].set_linewidth(bwith)\n",
    "l=15\n",
    "\n",
    "Y=np.linspace(0,1,12)\n",
    "X=np.ones(Y.size)\n",
    "x=np.arange(-9.5,0.5,1)\n",
    "plt.text(0.1, 0.2, 'Lever Pull', fontdict={'size': 70}, rotation=90)\n",
    "plt.text(-12.95, 1/10, 'Chance', fontdict={'size': 60}, rotation=0)\n",
    "plt.axhline(y=1/10, color='black', linestyle='--',linewidth=6)\n",
    "\n",
    "plt.errorbar(x,confusion_10,x_s,c='red',alpha=0.6,marker='s', mec='red', ms=3, mew=3,label='SVM',linewidth=l,elinewidth=12)\n",
    "\n",
    "plt.plot( (0+0)*X, Y, color='black',ls='--',linewidth=6)\n",
    "\n",
    "plt.title('Decoding decision time',fontdict={'size': 110},pad=60)\n",
    "plt.xlabel('Time before Lever Pull (s)',fontdict={'size': 110},labelpad=60)\n",
    "plt.ylabel('Decoding Accuracy',fontdict={'size': 110},labelpad=180)\n",
    "plt.ylim(ymax = 1.09)\n",
    "ax=plt.gca()\n",
    "ax.xaxis.set_major_locator(MultipleLocator(2))\n",
    "ax.xaxis.set_minor_locator(MultipleLocator(1))\n",
    "ax.yaxis.set_major_locator(MultipleLocator(0.2))\n",
    "ax.yaxis.set_minor_locator(MultipleLocator(0.1))\n",
    "\n",
    "plt.xlim(xmin = -10.5)\n",
    "plt.xlim(xmax = 0.9)\n",
    "\n",
    "for i in range(0,10):\n",
    "    a=confusion_10[i]\n",
    "    b=x_s[i]\n",
    "    n=10\n",
    "    s=b\n",
    "    t=(a-(1/10))/s\n",
    "    df=n-1\n",
    "    p = (1 - stats.t.cdf(t,df=df))\n",
    "    \n",
    "    if (p > 0.01 and p <= 0.05):\n",
    "        plt.plot(-9.5+i, confusion_10[i]+x_std[i]+0.06, '*',c='black', ms=20)\n",
    "        \n",
    "    if (p > 0.00001 and p <= 0.01):\n",
    "        plt.plot(-9.5+i,confusion_10[i]+x_std[i]+0.06,'*',c='black', ms=20)\n",
    "        plt.plot(-9.5+i,confusion_10[i]+x_std[i]+0.08,'*',c='black', ms=20)\n",
    "    if  p <= 0.00001:\n",
    "        plt.plot(-9.5+i,confusion_10[i]+x_std[i]+0.06,'*',c='black', ms=20)\n",
    "        plt.plot(-9.5+i,confusion_10[i]+x_std[i]+0.08,'*',c='black', ms=20)\n",
    "        plt.plot(-9.5+i,confusion_10[i]+x_std[i]+0.10,'*',c='black', ms=20)\n",
    "\n",
    "plt.show()\n",
    "#plt.savefig('./time_svm_'+str(jobid)+'.jpg')\n",
    "#plt.close()"
   ]
  },
  {
   "cell_type": "code",
   "execution_count": 10,
   "metadata": {},
   "outputs": [
    {
     "name": "stdout",
     "output_type": "stream",
     "text": [
      "(7, 16384)\n"
     ]
    }
   ],
   "source": [
    "data= np.load('/media/cat/4TBSSD/yuki/IJ2/tif_files/IJ2pm_Mar3_30Hz/IJ2pm_Mar3_30Hz_code_04_lockout_10sec_random_ROItimeCourses_10sec_pca_0.95_spatial.npy')\n",
    "print (data.shape)"
   ]
  },
  {
   "cell_type": "code",
   "execution_count": null,
   "metadata": {},
   "outputs": [],
   "source": []
  }
 ],
 "metadata": {
  "kernelspec": {
   "display_name": "Python 3",
   "language": "python",
   "name": "python3"
  },
  "language_info": {
   "codemirror_mode": {
    "name": "ipython",
    "version": 3
   },
   "file_extension": ".py",
   "mimetype": "text/x-python",
   "name": "python",
   "nbconvert_exporter": "python",
   "pygments_lexer": "ipython3",
   "version": "3.8.8"
  }
 },
 "nbformat": 4,
 "nbformat_minor": 4
}
