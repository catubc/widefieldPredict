{
 "cells": [
  {
   "cell_type": "code",
   "execution_count": 1,
   "metadata": {},
   "outputs": [
    {
     "data": {
      "application/javascript": [
       "IPython.notebook.set_autosave_interval(180000)"
      ]
     },
     "metadata": {},
     "output_type": "display_data"
    },
    {
     "name": "stdout",
     "output_type": "stream",
     "text": [
      "Autosaving every 180 seconds\n"
     ]
    },
    {
     "data": {
      "text/html": [
       "<style>.container { width:100% !important; }</style>"
      ],
      "text/plain": [
       "<IPython.core.display.HTML object>"
      ]
     },
     "metadata": {},
     "output_type": "display_data"
    }
   ],
   "source": [
    "import matplotlib\n",
    "#matplotlib.use('Agg')\n",
    "\n",
    "%load_ext autoreload\n",
    "%autoreload 2\n",
    "\n",
    "%matplotlib tk\n",
    "%autosave 180\n",
    "import matplotlib.pyplot as plt\n",
    "from IPython.core.display import display, HTML\n",
    "display(HTML(\"<style>.container { width:100% !important; }</style>\"))\n",
    "\n",
    "import numpy as np\n",
    "import os\n",
    "\n",
    "# pre process data module\n",
    "from ProcessCalcium import ProcessCalcium\n",
    "\n",
    "# \n",
    "data_dir = '/media/cat/4TBSSD/yuki/'\n",
    "\n"
   ]
  },
  {
   "cell_type": "code",
   "execution_count": 9,
   "metadata": {
    "scrolled": true
   },
   "outputs": [
    {
     "name": "stderr",
     "output_type": "stream",
     "text": [
      "\r",
      "  0%|          | 0/71 [00:00<?, ?it/s]"
     ]
    },
    {
     "name": "stdout",
     "output_type": "stream",
     "text": [
      "PROCESSING:  IA1\n",
      "\n",
      "   recording:  IA1pm_Feb1_30Hz\n",
      "    computing DFF\n",
      "data_stm is empty (could not compute stm, skipping :  IA1pm_Feb1_30Hz  )\n",
      "    computing DFF\n"
     ]
    },
    {
     "name": "stderr",
     "output_type": "stream",
     "text": [
      "\r",
      "  1%|▏         | 1/71 [00:02<02:40,  2.30s/it]"
     ]
    },
    {
     "name": "stdout",
     "output_type": "stream",
     "text": [
      "data_stm is empty (could not compute stm, skipping :  IA1pm_Feb1_30Hz  )\n",
      "\n",
      "   recording:  IA1pm_Feb2_30Hz\n",
      "    computing DFF\n",
      "data_stm is empty (could not compute stm, skipping :  IA1pm_Feb2_30Hz  )\n",
      "    computing DFF\n"
     ]
    },
    {
     "name": "stderr",
     "output_type": "stream",
     "text": [
      "\r",
      "  3%|▎         | 2/71 [00:12<08:05,  7.04s/it]"
     ]
    },
    {
     "name": "stdout",
     "output_type": "stream",
     "text": [
      "data_stm is empty (could not compute stm, skipping :  IA1pm_Feb2_30Hz  )\n",
      "\n",
      "   recording:  IA1pm_Feb3_30Hz\n",
      "    computing DFF\n",
      "data_stm is empty (could not compute stm, skipping :  IA1pm_Feb3_30Hz  )\n",
      "    computing DFF\n"
     ]
    },
    {
     "name": "stderr",
     "output_type": "stream",
     "text": [
      "\r",
      "  4%|▍         | 3/71 [00:23<09:43,  8.57s/it]"
     ]
    },
    {
     "name": "stdout",
     "output_type": "stream",
     "text": [
      "data_stm is empty (could not compute stm, skipping :  IA1pm_Feb3_30Hz  )\n",
      "\n",
      "   recording:  IA1pm_Feb4_30Hz\n",
      " ... session has no events  IA1pm_Feb4_30Hz\n",
      "\n",
      "   recording:  IA1pm_Feb5_30Hz\n",
      "    computing DFF\n",
      "data_stm is empty (could not compute stm, skipping :  IA1pm_Feb5_30Hz  )\n",
      "    computing DFF\n"
     ]
    },
    {
     "name": "stderr",
     "output_type": "stream",
     "text": [
      "\r",
      "  7%|▋         | 5/71 [00:33<07:19,  6.66s/it]"
     ]
    },
    {
     "name": "stdout",
     "output_type": "stream",
     "text": [
      "data_stm is empty (could not compute stm, skipping :  IA1pm_Feb5_30Hz  )\n",
      "\n",
      "   recording:  IA1pm_Feb9_30Hz\n",
      "    computing DFF\n",
      "data_stm is empty (could not compute stm, skipping :  IA1pm_Feb9_30Hz  )\n",
      "    computing DFF\n"
     ]
    },
    {
     "name": "stderr",
     "output_type": "stream",
     "text": [
      "\r",
      "  8%|▊         | 6/71 [00:43<08:22,  7.73s/it]"
     ]
    },
    {
     "name": "stdout",
     "output_type": "stream",
     "text": [
      "data_stm is empty (could not compute stm, skipping :  IA1pm_Feb9_30Hz  )\n",
      "\n",
      "   recording:  IA1pm_Feb10_30Hz\n",
      "    computing DFF\n",
      "data_stm is empty (could not compute stm, skipping :  IA1pm_Feb10_30Hz  )\n",
      "    computing DFF\n"
     ]
    },
    {
     "name": "stderr",
     "output_type": "stream",
     "text": [
      "\r",
      " 10%|▉         | 7/71 [00:54<09:04,  8.50s/it]"
     ]
    },
    {
     "name": "stdout",
     "output_type": "stream",
     "text": [
      "data_stm is empty (could not compute stm, skipping :  IA1pm_Feb10_30Hz  )\n",
      "\n",
      "   recording:  IA1pm_Feb11_30Hz\n",
      "    computing DFF\n",
      "data_stm is empty (could not compute stm, skipping :  IA1pm_Feb11_30Hz  )\n",
      "    computing DFF\n"
     ]
    },
    {
     "name": "stderr",
     "output_type": "stream",
     "text": [
      "\r",
      " 11%|█▏        | 8/71 [01:04<09:29,  9.05s/it]"
     ]
    },
    {
     "name": "stdout",
     "output_type": "stream",
     "text": [
      "data_stm is empty (could not compute stm, skipping :  IA1pm_Feb11_30Hz  )\n",
      "\n",
      "   recording:  IA1pm_Feb12_30Hz\n",
      "    computing DFF\n",
      "data_stm is empty (could not compute stm, skipping :  IA1pm_Feb12_30Hz  )\n",
      "    computing DFF\n"
     ]
    },
    {
     "name": "stderr",
     "output_type": "stream",
     "text": [
      "\r",
      " 13%|█▎        | 9/71 [01:14<09:45,  9.44s/it]"
     ]
    },
    {
     "name": "stdout",
     "output_type": "stream",
     "text": [
      "data_stm is empty (could not compute stm, skipping :  IA1pm_Feb12_30Hz  )\n",
      "\n",
      "   recording:  IA1pm_Feb15_30Hz\n",
      "    computing DFF\n",
      "data_stm is empty (could not compute stm, skipping :  IA1pm_Feb15_30Hz  )\n",
      "    computing DFF\n"
     ]
    },
    {
     "name": "stderr",
     "output_type": "stream",
     "text": [
      "\r",
      " 14%|█▍        | 10/71 [01:25<09:53,  9.72s/it]"
     ]
    },
    {
     "name": "stdout",
     "output_type": "stream",
     "text": [
      "data_stm is empty (could not compute stm, skipping :  IA1pm_Feb15_30Hz  )\n",
      "\n",
      "   recording:  IA1pm_Feb16_30Hz\n",
      "    computing DFF\n",
      "data_stm is empty (could not compute stm, skipping :  IA1pm_Feb16_30Hz  )\n",
      "    computing DFF\n"
     ]
    },
    {
     "name": "stderr",
     "output_type": "stream",
     "text": [
      "\r",
      " 15%|█▌        | 11/71 [01:36<10:02, 10.04s/it]"
     ]
    },
    {
     "name": "stdout",
     "output_type": "stream",
     "text": [
      "data_stm is empty (could not compute stm, skipping :  IA1pm_Feb16_30Hz  )\n",
      "\n",
      "   recording:  IA1pm_Feb17_30Hz\n",
      "    computing DFF\n",
      "data_stm is empty (could not compute stm, skipping :  IA1pm_Feb17_30Hz  )\n",
      "    computing DFF\n"
     ]
    },
    {
     "name": "stderr",
     "output_type": "stream",
     "text": [
      "\r",
      " 17%|█▋        | 12/71 [01:46<10:02, 10.21s/it]"
     ]
    },
    {
     "name": "stdout",
     "output_type": "stream",
     "text": [
      "data_stm is empty (could not compute stm, skipping :  IA1pm_Feb17_30Hz  )\n",
      "\n",
      "   recording:  IA1pm_Feb18_30Hz\n",
      "    computing DFF\n",
      "data_stm is empty (could not compute stm, skipping :  IA1pm_Feb18_30Hz  )\n",
      "    computing DFF\n"
     ]
    },
    {
     "name": "stderr",
     "output_type": "stream",
     "text": [
      "\r",
      " 18%|█▊        | 13/71 [01:57<09:59, 10.34s/it]"
     ]
    },
    {
     "name": "stdout",
     "output_type": "stream",
     "text": [
      "data_stm is empty (could not compute stm, skipping :  IA1pm_Feb18_30Hz  )\n",
      "\n",
      "   recording:  IA1pm_Feb19_30Hz\n",
      "    computing DFF\n",
      "data_stm is empty (could not compute stm, skipping :  IA1pm_Feb19_30Hz  )\n",
      "    computing DFF\n"
     ]
    },
    {
     "name": "stderr",
     "output_type": "stream",
     "text": [
      "\r",
      " 20%|█▉        | 14/71 [02:09<10:16, 10.81s/it]"
     ]
    },
    {
     "name": "stdout",
     "output_type": "stream",
     "text": [
      "data_stm is empty (could not compute stm, skipping :  IA1pm_Feb19_30Hz  )\n",
      "\n",
      "   recording:  IA1pm_Feb22_30Hz\n",
      "    computing DFF\n",
      "data_stm is empty (could not compute stm, skipping :  IA1pm_Feb22_30Hz  )\n",
      "    computing DFF\n"
     ]
    },
    {
     "name": "stderr",
     "output_type": "stream",
     "text": [
      "\r",
      " 21%|██        | 15/71 [02:20<10:17, 11.03s/it]"
     ]
    },
    {
     "name": "stdout",
     "output_type": "stream",
     "text": [
      "data_stm is empty (could not compute stm, skipping :  IA1pm_Feb22_30Hz  )\n",
      "\n",
      "   recording:  IA1pm_Feb23_30Hz\n",
      "    computing DFF\n",
      "data_stm is empty (could not compute stm, skipping :  IA1pm_Feb23_30Hz  )\n",
      "    computing DFF\n"
     ]
    },
    {
     "name": "stderr",
     "output_type": "stream",
     "text": [
      "\r",
      " 23%|██▎       | 16/71 [02:32<10:20, 11.28s/it]"
     ]
    },
    {
     "name": "stdout",
     "output_type": "stream",
     "text": [
      "data_stm is empty (could not compute stm, skipping :  IA1pm_Feb23_30Hz  )\n",
      "\n",
      "   recording:  IA1pm_Feb24_30Hz\n",
      "locs 44 thrshold missing IA1pm_Feb24_30Hz\n",
      " ... session has no events  IA1pm_Feb24_30Hz\n",
      "\n",
      "   recording:  IA1pm_Feb25_30Hz\n",
      "locs 44 thrshold missing IA1pm_Feb25_30Hz\n",
      " ... session has no events  IA1pm_Feb25_30Hz\n",
      "\n",
      "   recording:  IA1pm_Feb26_30Hz\n",
      "    computing DFF\n",
      "data_stm is empty (could not compute stm, skipping :  IA1pm_Feb26_30Hz  )\n",
      "    computing DFF\n"
     ]
    },
    {
     "name": "stderr",
     "output_type": "stream",
     "text": [
      "\r",
      " 27%|██▋       | 19/71 [02:44<06:11,  7.14s/it]"
     ]
    },
    {
     "name": "stdout",
     "output_type": "stream",
     "text": [
      "data_stm is empty (could not compute stm, skipping :  IA1pm_Feb26_30Hz  )\n",
      "\n",
      "   recording:  IA1pm_Feb29_30Hz\n",
      "    computing DFF\n",
      "data_stm is empty (could not compute stm, skipping :  IA1pm_Feb29_30Hz  )\n",
      "    computing DFF\n"
     ]
    },
    {
     "name": "stderr",
     "output_type": "stream",
     "text": [
      "\r",
      " 28%|██▊       | 20/71 [02:55<06:50,  8.05s/it]"
     ]
    },
    {
     "name": "stdout",
     "output_type": "stream",
     "text": [
      "data_stm is empty (could not compute stm, skipping :  IA1pm_Feb29_30Hz  )\n",
      "\n",
      "   recording:  IA1pm_Mar1_30Hz\n",
      "    computing DFF\n",
      "data_stm is empty (could not compute stm, skipping :  IA1pm_Mar1_30Hz  )\n",
      "    computing DFF\n"
     ]
    },
    {
     "name": "stderr",
     "output_type": "stream",
     "text": [
      "\r",
      " 30%|██▉       | 21/71 [03:09<07:44,  9.29s/it]"
     ]
    },
    {
     "name": "stdout",
     "output_type": "stream",
     "text": [
      "data_stm is empty (could not compute stm, skipping :  IA1pm_Mar1_30Hz  )\n",
      "\n",
      "   recording:  IA1pm_Mar2_30Hz\n",
      "    computing DFF\n",
      "data_stm is empty (could not compute stm, skipping :  IA1pm_Mar2_30Hz  )\n",
      "    computing DFF\n"
     ]
    },
    {
     "name": "stderr",
     "output_type": "stream",
     "text": [
      "\r",
      " 31%|███       | 22/71 [03:22<08:18, 10.18s/it]"
     ]
    },
    {
     "name": "stdout",
     "output_type": "stream",
     "text": [
      "data_stm is empty (could not compute stm, skipping :  IA1pm_Mar2_30Hz  )\n",
      "\n",
      "   recording:  IA1pm_Mar3_30Hz\n",
      "    computing DFF\n",
      "data_stm is empty (could not compute stm, skipping :  IA1pm_Mar3_30Hz  )\n",
      "    computing DFF\n"
     ]
    },
    {
     "name": "stderr",
     "output_type": "stream",
     "text": [
      "\r",
      " 32%|███▏      | 23/71 [03:33<08:25, 10.52s/it]"
     ]
    },
    {
     "name": "stdout",
     "output_type": "stream",
     "text": [
      "data_stm is empty (could not compute stm, skipping :  IA1pm_Mar3_30Hz  )\n",
      "\n",
      "   recording:  IA1am_Mar4_30Hz\n",
      "    computing DFF\n",
      "data_stm is empty (could not compute stm, skipping :  IA1am_Mar4_30Hz  )\n",
      "    computing DFF\n"
     ]
    },
    {
     "name": "stderr",
     "output_type": "stream",
     "text": [
      "\r",
      " 34%|███▍      | 24/71 [03:45<08:29, 10.85s/it]"
     ]
    },
    {
     "name": "stdout",
     "output_type": "stream",
     "text": [
      "data_stm is empty (could not compute stm, skipping :  IA1am_Mar4_30Hz  )\n",
      "\n",
      "   recording:  IA1am_Mar7_30Hz\n",
      "    computing DFF\n",
      "data_stm is empty (could not compute stm, skipping :  IA1am_Mar7_30Hz  )\n",
      "    computing DFF\n"
     ]
    },
    {
     "name": "stderr",
     "output_type": "stream",
     "text": [
      "\r",
      " 35%|███▌      | 25/71 [03:58<08:50, 11.53s/it]"
     ]
    },
    {
     "name": "stdout",
     "output_type": "stream",
     "text": [
      "data_stm is empty (could not compute stm, skipping :  IA1am_Mar7_30Hz  )\n",
      "\n",
      "   recording:  IA1pm_Mar8_30Hz\n",
      "    computing DFF\n",
      "data_stm is empty (could not compute stm, skipping :  IA1pm_Mar8_30Hz  )\n",
      "    computing DFF\n"
     ]
    },
    {
     "name": "stderr",
     "output_type": "stream",
     "text": [
      "\r",
      " 37%|███▋      | 26/71 [04:10<08:38, 11.51s/it]"
     ]
    },
    {
     "name": "stdout",
     "output_type": "stream",
     "text": [
      "data_stm is empty (could not compute stm, skipping :  IA1pm_Mar8_30Hz  )\n",
      "\n",
      "   recording:  IA1am_Mar9_30Hz\n",
      "    computing DFF\n",
      "data_stm is empty (could not compute stm, skipping :  IA1am_Mar9_30Hz  )\n",
      "    computing DFF\n"
     ]
    },
    {
     "name": "stderr",
     "output_type": "stream",
     "text": [
      "\r",
      " 38%|███▊      | 27/71 [04:21<08:29, 11.59s/it]"
     ]
    },
    {
     "name": "stdout",
     "output_type": "stream",
     "text": [
      "data_stm is empty (could not compute stm, skipping :  IA1am_Mar9_30Hz  )\n",
      "\n",
      "   recording:  IA1am_Mar10_30Hz\n",
      "    computing DFF\n",
      "data_stm is empty (could not compute stm, skipping :  IA1am_Mar10_30Hz  )\n",
      "    computing DFF\n"
     ]
    },
    {
     "name": "stderr",
     "output_type": "stream",
     "text": [
      "\r",
      " 39%|███▉      | 28/71 [04:50<11:53, 16.60s/it]"
     ]
    },
    {
     "name": "stdout",
     "output_type": "stream",
     "text": [
      "data_stm is empty (could not compute stm, skipping :  IA1am_Mar10_30Hz  )\n",
      "\n",
      "   recording:  IA1am_Mar11_30Hz\n",
      "    computing DFF\n",
      "data_stm is empty (could not compute stm, skipping :  IA1am_Mar11_30Hz  )\n",
      "    computing DFF\n"
     ]
    },
    {
     "name": "stderr",
     "output_type": "stream",
     "text": [
      "\r",
      " 41%|████      | 29/71 [05:01<10:29, 14.98s/it]"
     ]
    },
    {
     "name": "stdout",
     "output_type": "stream",
     "text": [
      "data_stm is empty (could not compute stm, skipping :  IA1am_Mar11_30Hz  )\n",
      "\n",
      "   recording:  IA1pm_Mar14_30Hz\n",
      "    computing DFF\n",
      "data_stm is empty (could not compute stm, skipping :  IA1pm_Mar14_30Hz  )\n",
      "    computing DFF\n"
     ]
    },
    {
     "name": "stderr",
     "output_type": "stream",
     "text": [
      "\r",
      " 42%|████▏     | 30/71 [05:12<09:22, 13.72s/it]"
     ]
    },
    {
     "name": "stdout",
     "output_type": "stream",
     "text": [
      "data_stm is empty (could not compute stm, skipping :  IA1pm_Mar14_30Hz  )\n",
      "\n",
      "   recording:  IA1am_Mar15_30Hz\n",
      "    computing DFF\n",
      "data_stm is empty (could not compute stm, skipping :  IA1am_Mar15_30Hz  )\n",
      "    computing DFF\n"
     ]
    },
    {
     "name": "stderr",
     "output_type": "stream",
     "text": [
      "\r",
      " 44%|████▎     | 31/71 [05:23<08:32, 12.80s/it]"
     ]
    },
    {
     "name": "stdout",
     "output_type": "stream",
     "text": [
      "data_stm is empty (could not compute stm, skipping :  IA1am_Mar15_30Hz  )\n",
      "\n",
      "   recording:  IA1pm_Mar16_30Hz\n",
      "    computing DFF\n",
      "data_stm is empty (could not compute stm, skipping :  IA1pm_Mar16_30Hz  )\n",
      "    computing DFF\n"
     ]
    },
    {
     "name": "stderr",
     "output_type": "stream",
     "text": [
      "\r",
      " 45%|████▌     | 32/71 [05:33<07:56, 12.22s/it]"
     ]
    },
    {
     "name": "stdout",
     "output_type": "stream",
     "text": [
      "data_stm is empty (could not compute stm, skipping :  IA1pm_Mar16_30Hz  )\n",
      "\n",
      "   recording:  IA1pm_Mar17_30Hz\n",
      "    computing DFF\n",
      "data_stm is empty (could not compute stm, skipping :  IA1pm_Mar17_30Hz  )\n",
      "    computing DFF\n"
     ]
    },
    {
     "name": "stderr",
     "output_type": "stream",
     "text": [
      "\r",
      " 46%|████▋     | 33/71 [05:44<07:26, 11.76s/it]"
     ]
    },
    {
     "name": "stdout",
     "output_type": "stream",
     "text": [
      "data_stm is empty (could not compute stm, skipping :  IA1pm_Mar17_30Hz  )\n",
      "\n",
      "   recording:  IA1pm_Mar18_30Hz\n",
      "    computing DFF\n",
      "data_stm is empty (could not compute stm, skipping :  IA1pm_Mar18_30Hz  )\n",
      "    computing DFF\n"
     ]
    },
    {
     "name": "stderr",
     "output_type": "stream",
     "text": [
      "\r",
      " 48%|████▊     | 34/71 [05:57<07:30, 12.18s/it]"
     ]
    },
    {
     "name": "stdout",
     "output_type": "stream",
     "text": [
      "data_stm is empty (could not compute stm, skipping :  IA1pm_Mar18_30Hz  )\n",
      "\n",
      "   recording:  IA1pm_Mar21_30Hz\n",
      "    computing DFF\n",
      "data_stm is empty (could not compute stm, skipping :  IA1pm_Mar21_30Hz  )\n",
      "    computing DFF\n"
     ]
    },
    {
     "name": "stderr",
     "output_type": "stream",
     "text": [
      "\r",
      " 49%|████▉     | 35/71 [06:09<07:10, 11.95s/it]"
     ]
    },
    {
     "name": "stdout",
     "output_type": "stream",
     "text": [
      "data_stm is empty (could not compute stm, skipping :  IA1pm_Mar21_30Hz  )\n",
      "\n",
      "   recording:  IA1pm_Mar22_30Hz\n",
      "    computing DFF\n",
      "data_stm is empty (could not compute stm, skipping :  IA1pm_Mar22_30Hz  )\n",
      "    computing DFF\n"
     ]
    },
    {
     "name": "stderr",
     "output_type": "stream",
     "text": [
      "\r",
      " 51%|█████     | 36/71 [06:20<06:49, 11.70s/it]"
     ]
    },
    {
     "name": "stdout",
     "output_type": "stream",
     "text": [
      "data_stm is empty (could not compute stm, skipping :  IA1pm_Mar22_30Hz  )\n",
      "\n",
      "   recording:  IA1pm_Mar23_30Hz\n",
      "    computing DFF\n",
      "data_stm is empty (could not compute stm, skipping :  IA1pm_Mar23_30Hz  )\n",
      "    computing DFF\n"
     ]
    },
    {
     "name": "stderr",
     "output_type": "stream",
     "text": [
      "\r",
      " 52%|█████▏    | 37/71 [06:32<06:41, 11.81s/it]"
     ]
    },
    {
     "name": "stdout",
     "output_type": "stream",
     "text": [
      "data_stm is empty (could not compute stm, skipping :  IA1pm_Mar23_30Hz  )\n",
      "\n",
      "   recording:  IA1pm_Mar24_30Hz\n",
      "    computing DFF\n",
      "data_stm is empty (could not compute stm, skipping :  IA1pm_Mar24_30Hz  )\n",
      "    computing DFF\n"
     ]
    },
    {
     "name": "stderr",
     "output_type": "stream",
     "text": [
      "\r",
      " 54%|█████▎    | 38/71 [06:46<06:51, 12.46s/it]"
     ]
    },
    {
     "name": "stdout",
     "output_type": "stream",
     "text": [
      "data_stm is empty (could not compute stm, skipping :  IA1pm_Mar24_30Hz  )\n",
      "\n",
      "   recording:  IA1pm_Mar29_30Hz\n",
      "    computing DFF\n",
      "data_stm is empty (could not compute stm, skipping :  IA1pm_Mar29_30Hz  )\n",
      "    computing DFF\n"
     ]
    },
    {
     "name": "stderr",
     "output_type": "stream",
     "text": [
      "\r",
      " 55%|█████▍    | 39/71 [06:58<06:32, 12.26s/it]"
     ]
    },
    {
     "name": "stdout",
     "output_type": "stream",
     "text": [
      "data_stm is empty (could not compute stm, skipping :  IA1pm_Mar29_30Hz  )\n",
      "\n",
      "   recording:  IA1pm_Mar30_30Hz\n",
      "    computing DFF\n",
      "data_stm is empty (could not compute stm, skipping :  IA1pm_Mar30_30Hz  )\n",
      "    computing DFF\n"
     ]
    },
    {
     "name": "stderr",
     "output_type": "stream",
     "text": [
      "\r",
      " 56%|█████▋    | 40/71 [07:09<06:10, 11.94s/it]"
     ]
    },
    {
     "name": "stdout",
     "output_type": "stream",
     "text": [
      "data_stm is empty (could not compute stm, skipping :  IA1pm_Mar30_30Hz  )\n",
      "\n",
      "   recording:  IA1pm_Mar31_30Hz\n",
      "    computing DFF\n",
      "data_stm is empty (could not compute stm, skipping :  IA1pm_Mar31_30Hz  )\n",
      "    computing DFF\n"
     ]
    },
    {
     "name": "stderr",
     "output_type": "stream",
     "text": [
      "\r",
      " 58%|█████▊    | 41/71 [07:20<05:54, 11.83s/it]"
     ]
    },
    {
     "name": "stdout",
     "output_type": "stream",
     "text": [
      "data_stm is empty (could not compute stm, skipping :  IA1pm_Mar31_30Hz  )\n",
      "\n",
      "   recording:  IA1pm_Apr1_30Hz\n",
      "    computing DFF\n",
      "data_stm is empty (could not compute stm, skipping :  IA1pm_Apr1_30Hz  )\n",
      "    computing DFF\n"
     ]
    },
    {
     "name": "stderr",
     "output_type": "stream",
     "text": [
      "\r",
      " 59%|█████▉    | 42/71 [07:32<05:41, 11.79s/it]"
     ]
    },
    {
     "name": "stdout",
     "output_type": "stream",
     "text": [
      "data_stm is empty (could not compute stm, skipping :  IA1pm_Apr1_30Hz  )\n",
      "\n",
      "   recording:  IA1pm_Apr4_30Hz\n",
      "    computing DFF\n",
      "Imaging rates between aligned and session are incorrect, exiting:  30.63092397998583\n",
      "data_stm is empty (could not compute stm, skipping :  IA1pm_Apr4_30Hz  )\n",
      "    computing DFF\n"
     ]
    },
    {
     "name": "stderr",
     "output_type": "stream",
     "text": [
      "\r",
      " 61%|██████    | 43/71 [07:44<05:33, 11.92s/it]"
     ]
    },
    {
     "name": "stdout",
     "output_type": "stream",
     "text": [
      "Imaging rates between aligned and session are incorrect, exiting:  30.63092397998583\n",
      "data_stm is empty (could not compute stm, skipping :  IA1pm_Apr4_30Hz  )\n",
      "\n",
      "   recording:  IA1pm_Apr5_30Hz\n",
      "    computing DFF\n",
      "data_stm is empty (could not compute stm, skipping :  IA1pm_Apr5_30Hz  )\n",
      "    computing DFF\n"
     ]
    },
    {
     "name": "stderr",
     "output_type": "stream",
     "text": [
      "\r",
      " 62%|██████▏   | 44/71 [07:55<05:16, 11.70s/it]"
     ]
    },
    {
     "name": "stdout",
     "output_type": "stream",
     "text": [
      "data_stm is empty (could not compute stm, skipping :  IA1pm_Apr5_30Hz  )\n",
      "\n",
      "   recording:  IA1pm_Apr6_30Hz\n",
      "    computing DFF\n",
      "data_stm is empty (could not compute stm, skipping :  IA1pm_Apr6_30Hz  )\n",
      "    computing DFF\n"
     ]
    },
    {
     "name": "stderr",
     "output_type": "stream",
     "text": [
      "\r",
      " 63%|██████▎   | 45/71 [08:07<05:04, 11.69s/it]"
     ]
    },
    {
     "name": "stdout",
     "output_type": "stream",
     "text": [
      "data_stm is empty (could not compute stm, skipping :  IA1pm_Apr6_30Hz  )\n",
      "\n",
      "   recording:  IA1pm_Apr7_30Hz\n",
      "    computing DFF\n",
      "data_stm is empty (could not compute stm, skipping :  IA1pm_Apr7_30Hz  )\n",
      "    computing DFF\n"
     ]
    },
    {
     "name": "stderr",
     "output_type": "stream",
     "text": [
      "\r",
      " 65%|██████▍   | 46/71 [08:20<05:01, 12.06s/it]"
     ]
    },
    {
     "name": "stdout",
     "output_type": "stream",
     "text": [
      "data_stm is empty (could not compute stm, skipping :  IA1pm_Apr7_30Hz  )\n",
      "\n",
      "   recording:  IA1pm_Apr11_Day3_30Hz\n",
      "    computing DFF\n",
      "data_stm is empty (could not compute stm, skipping :  IA1pm_Apr11_Day3_30Hz  )\n",
      "    computing DFF\n"
     ]
    },
    {
     "name": "stderr",
     "output_type": "stream",
     "text": [
      "\r",
      " 66%|██████▌   | 47/71 [08:31<04:44, 11.84s/it]"
     ]
    },
    {
     "name": "stdout",
     "output_type": "stream",
     "text": [
      "data_stm is empty (could not compute stm, skipping :  IA1pm_Apr11_Day3_30Hz  )\n",
      "\n",
      "   recording:  IA1pm_Apr13_Day5_30Hz\n",
      "    computing DFF\n",
      "data_stm is empty (could not compute stm, skipping :  IA1pm_Apr13_Day5_30Hz  )\n",
      "    computing DFF\n"
     ]
    },
    {
     "name": "stderr",
     "output_type": "stream",
     "text": [
      "\r",
      " 68%|██████▊   | 48/71 [08:43<04:30, 11.78s/it]"
     ]
    },
    {
     "name": "stdout",
     "output_type": "stream",
     "text": [
      "data_stm is empty (could not compute stm, skipping :  IA1pm_Apr13_Day5_30Hz  )\n",
      "\n",
      "   recording:  IA1pm_Apr15_Day7_30Hz\n",
      "    computing DFF\n",
      "data_stm is empty (could not compute stm, skipping :  IA1pm_Apr15_Day7_30Hz  )\n",
      "    computing DFF\n"
     ]
    },
    {
     "name": "stderr",
     "output_type": "stream",
     "text": [
      "\r",
      " 69%|██████▉   | 49/71 [08:56<04:26, 12.11s/it]"
     ]
    },
    {
     "name": "stdout",
     "output_type": "stream",
     "text": [
      "data_stm is empty (could not compute stm, skipping :  IA1pm_Apr15_Day7_30Hz  )\n",
      "\n",
      "   recording:  IA1pm_Apr18_Week2_30Hz\n",
      "    computing DFF\n",
      "data_stm is empty (could not compute stm, skipping :  IA1pm_Apr18_Week2_30Hz  )\n",
      "    computing DFF\n"
     ]
    },
    {
     "name": "stderr",
     "output_type": "stream",
     "text": [
      "\r",
      " 70%|███████   | 50/71 [09:08<04:15, 12.17s/it]"
     ]
    },
    {
     "name": "stdout",
     "output_type": "stream",
     "text": [
      "data_stm is empty (could not compute stm, skipping :  IA1pm_Apr18_Week2_30Hz  )\n",
      "\n",
      "   recording:  IA1pm_Apr19_Week2_30Hz\n",
      "    computing DFF\n",
      "data_stm is empty (could not compute stm, skipping :  IA1pm_Apr19_Week2_30Hz  )\n",
      "    computing DFF\n"
     ]
    },
    {
     "name": "stderr",
     "output_type": "stream",
     "text": [
      "\r",
      " 72%|███████▏  | 51/71 [09:20<04:00, 12.03s/it]"
     ]
    },
    {
     "name": "stdout",
     "output_type": "stream",
     "text": [
      "data_stm is empty (could not compute stm, skipping :  IA1pm_Apr19_Week2_30Hz  )\n",
      "\n",
      "   recording:  IA1pm_Apr20_Week2_30Hz\n",
      "    computing DFF\n",
      "data_stm is empty (could not compute stm, skipping :  IA1pm_Apr20_Week2_30Hz  )\n",
      "    computing DFF\n"
     ]
    },
    {
     "name": "stderr",
     "output_type": "stream",
     "text": [
      "\r",
      " 73%|███████▎  | 52/71 [09:32<03:46, 11.94s/it]"
     ]
    },
    {
     "name": "stdout",
     "output_type": "stream",
     "text": [
      "data_stm is empty (could not compute stm, skipping :  IA1pm_Apr20_Week2_30Hz  )\n",
      "\n",
      "   recording:  IA1pm_Apr21_Week2_30Hz\n",
      "    computing DFF\n",
      "data_stm is empty (could not compute stm, skipping :  IA1pm_Apr21_Week2_30Hz  )\n",
      "    computing DFF\n"
     ]
    },
    {
     "name": "stderr",
     "output_type": "stream",
     "text": [
      "\r",
      " 75%|███████▍  | 53/71 [09:45<03:41, 12.28s/it]"
     ]
    },
    {
     "name": "stdout",
     "output_type": "stream",
     "text": [
      "data_stm is empty (could not compute stm, skipping :  IA1pm_Apr21_Week2_30Hz  )\n",
      "\n",
      "   recording:  IA1pm_Apr22_Week2_30Hz\n",
      " ... session has no events  IA1pm_Apr22_Week2_30Hz\n",
      "\n",
      "   recording:  IA1pm_Apr25_Week3_30Hz\n",
      "    computing DFF\n",
      "data_stm is empty (could not compute stm, skipping :  IA1pm_Apr25_Week3_30Hz  )\n",
      "    computing DFF\n"
     ]
    },
    {
     "name": "stderr",
     "output_type": "stream",
     "text": [
      "\r",
      " 77%|███████▋  | 55/71 [10:03<02:53, 10.84s/it]"
     ]
    },
    {
     "name": "stdout",
     "output_type": "stream",
     "text": [
      "data_stm is empty (could not compute stm, skipping :  IA1pm_Apr25_Week3_30Hz  )\n",
      "\n",
      "   recording:  IA1pm_Apr26_Week3_30Hz\n",
      "    computing DFF\n",
      "data_stm is empty (could not compute stm, skipping :  IA1pm_Apr26_Week3_30Hz  )\n",
      "    computing DFF\n"
     ]
    },
    {
     "name": "stderr",
     "output_type": "stream",
     "text": [
      "\r",
      " 79%|███████▉  | 56/71 [10:14<02:44, 10.96s/it]"
     ]
    },
    {
     "name": "stdout",
     "output_type": "stream",
     "text": [
      "data_stm is empty (could not compute stm, skipping :  IA1pm_Apr26_Week3_30Hz  )\n",
      "\n",
      "   recording:  IA1pm_Apr27_Week3_30Hz\n",
      "    computing DFF\n",
      "data_stm is empty (could not compute stm, skipping :  IA1pm_Apr27_Week3_30Hz  )\n",
      "    computing DFF\n"
     ]
    },
    {
     "name": "stderr",
     "output_type": "stream",
     "text": [
      "\r",
      " 80%|████████  | 57/71 [10:25<02:33, 10.99s/it]"
     ]
    },
    {
     "name": "stdout",
     "output_type": "stream",
     "text": [
      "data_stm is empty (could not compute stm, skipping :  IA1pm_Apr27_Week3_30Hz  )\n",
      "\n",
      "   recording:  IA1pm_Apr28_Week3_30Hz\n",
      "    computing DFF\n",
      "data_stm is empty (could not compute stm, skipping :  IA1pm_Apr28_Week3_30Hz  )\n",
      "    computing DFF\n"
     ]
    },
    {
     "name": "stderr",
     "output_type": "stream",
     "text": [
      "\r",
      " 82%|████████▏ | 58/71 [10:37<02:25, 11.21s/it]"
     ]
    },
    {
     "name": "stdout",
     "output_type": "stream",
     "text": [
      "data_stm is empty (could not compute stm, skipping :  IA1pm_Apr28_Week3_30Hz  )\n",
      "\n",
      "   recording:  IA1pm_Apr29_Week3_30Hz\n",
      "    computing DFF\n",
      "data_stm is empty (could not compute stm, skipping :  IA1pm_Apr29_Week3_30Hz  )\n",
      "    computing DFF\n"
     ]
    },
    {
     "name": "stderr",
     "output_type": "stream",
     "text": [
      "\r",
      " 83%|████████▎ | 59/71 [10:49<02:15, 11.26s/it]"
     ]
    },
    {
     "name": "stdout",
     "output_type": "stream",
     "text": [
      "data_stm is empty (could not compute stm, skipping :  IA1pm_Apr29_Week3_30Hz  )\n",
      "\n",
      "   recording:  IA1am_May2_Week4_30Hz\n",
      " ... session has no events  IA1am_May2_Week4_30Hz\n",
      "\n",
      "   recording:  IA1am_May4_Week4_30Hz\n",
      "    computing DFF\n",
      "data_stm is empty (could not compute stm, skipping :  IA1am_May4_Week4_30Hz  )\n",
      "    computing DFF\n"
     ]
    },
    {
     "name": "stderr",
     "output_type": "stream",
     "text": [
      "\r",
      " 86%|████████▌ | 61/71 [11:00<01:27,  8.80s/it]"
     ]
    },
    {
     "name": "stdout",
     "output_type": "stream",
     "text": [
      "data_stm is empty (could not compute stm, skipping :  IA1am_May4_Week4_30Hz  )\n",
      "\n",
      "   recording:  IA1am_May5_Week4_30Hz\n",
      "    computing DFF\n",
      "data_stm is empty (could not compute stm, skipping :  IA1am_May5_Week4_30Hz  )\n",
      "    computing DFF\n"
     ]
    },
    {
     "name": "stderr",
     "output_type": "stream",
     "text": [
      "\r",
      " 87%|████████▋ | 62/71 [11:07<01:15,  8.41s/it]"
     ]
    },
    {
     "name": "stdout",
     "output_type": "stream",
     "text": [
      "data_stm is empty (could not compute stm, skipping :  IA1am_May5_Week4_30Hz  )\n",
      "\n",
      "   recording:  IA1am_May6_Week4_30Hz\n",
      "    computing DFF\n",
      "data_stm is empty (could not compute stm, skipping :  IA1am_May6_Week4_30Hz  )\n",
      "    computing DFF\n"
     ]
    },
    {
     "name": "stderr",
     "output_type": "stream",
     "text": [
      "\r",
      " 89%|████████▊ | 63/71 [11:19<01:13,  9.15s/it]"
     ]
    },
    {
     "name": "stdout",
     "output_type": "stream",
     "text": [
      "data_stm is empty (could not compute stm, skipping :  IA1am_May6_Week4_30Hz  )\n",
      "\n",
      "   recording:  IA1am_May9_Week5_30Hz\n",
      "    computing DFF\n",
      "data_stm is empty (could not compute stm, skipping :  IA1am_May9_Week5_30Hz  )\n",
      "    computing DFF\n"
     ]
    },
    {
     "name": "stderr",
     "output_type": "stream",
     "text": [
      "\r",
      " 90%|█████████ | 64/71 [11:34<01:16, 10.91s/it]"
     ]
    },
    {
     "name": "stdout",
     "output_type": "stream",
     "text": [
      "data_stm is empty (could not compute stm, skipping :  IA1am_May9_Week5_30Hz  )\n",
      "\n",
      "   recording:  IA1am_May10_Week5_30Hz\n",
      "    computing DFF\n",
      "data_stm is empty (could not compute stm, skipping :  IA1am_May10_Week5_30Hz  )\n",
      "    computing DFF\n"
     ]
    },
    {
     "name": "stderr",
     "output_type": "stream",
     "text": [
      "\r",
      " 92%|█████████▏| 65/71 [11:46<01:07, 11.17s/it]"
     ]
    },
    {
     "name": "stdout",
     "output_type": "stream",
     "text": [
      "data_stm is empty (could not compute stm, skipping :  IA1am_May10_Week5_30Hz  )\n",
      "\n",
      "   recording:  IA1am_May12_Week5_30Hz\n",
      "    computing DFF\n",
      "data_stm is empty (could not compute stm, skipping :  IA1am_May12_Week5_30Hz  )\n",
      "    computing DFF\n"
     ]
    },
    {
     "name": "stderr",
     "output_type": "stream",
     "text": [
      "\r",
      " 93%|█████████▎| 66/71 [11:59<00:58, 11.77s/it]"
     ]
    },
    {
     "name": "stdout",
     "output_type": "stream",
     "text": [
      "data_stm is empty (could not compute stm, skipping :  IA1am_May12_Week5_30Hz  )\n",
      "\n",
      "   recording:  IA1am_May13_Week5_30Hz\n",
      "    computing DFF\n",
      "data_stm is empty (could not compute stm, skipping :  IA1am_May13_Week5_30Hz  )\n",
      "    computing DFF\n"
     ]
    },
    {
     "name": "stderr",
     "output_type": "stream",
     "text": [
      "\r",
      " 94%|█████████▍| 67/71 [12:08<00:43, 10.89s/it]"
     ]
    },
    {
     "name": "stdout",
     "output_type": "stream",
     "text": [
      "data_stm is empty (could not compute stm, skipping :  IA1am_May13_Week5_30Hz  )\n",
      "\n",
      "   recording:  IA1am_May16_Week6_30Hz\n",
      "    computing DFF\n",
      "data_stm is empty (could not compute stm, skipping :  IA1am_May16_Week6_30Hz  )\n",
      "    computing DFF\n"
     ]
    },
    {
     "name": "stderr",
     "output_type": "stream",
     "text": [
      "\r",
      " 96%|█████████▌| 68/71 [12:18<00:31, 10.64s/it]"
     ]
    },
    {
     "name": "stdout",
     "output_type": "stream",
     "text": [
      "data_stm is empty (could not compute stm, skipping :  IA1am_May16_Week6_30Hz  )\n",
      "\n",
      "   recording:  IA1am_May17_Week6_30Hz\n",
      "    computing DFF\n",
      "data_stm is empty (could not compute stm, skipping :  IA1am_May17_Week6_30Hz  )\n",
      "    computing DFF\n"
     ]
    },
    {
     "name": "stderr",
     "output_type": "stream",
     "text": [
      "\r",
      " 97%|█████████▋| 69/71 [12:30<00:21, 10.93s/it]"
     ]
    },
    {
     "name": "stdout",
     "output_type": "stream",
     "text": [
      "data_stm is empty (could not compute stm, skipping :  IA1am_May17_Week6_30Hz  )\n",
      "\n",
      "   recording:  IA1am_May18_Week6_30Hz\n",
      "    computing DFF\n",
      "data_stm is empty (could not compute stm, skipping :  IA1am_May18_Week6_30Hz  )\n",
      "    computing DFF\n"
     ]
    },
    {
     "name": "stderr",
     "output_type": "stream",
     "text": [
      "\r",
      " 99%|█████████▊| 70/71 [12:42<00:11, 11.34s/it]"
     ]
    },
    {
     "name": "stdout",
     "output_type": "stream",
     "text": [
      "data_stm is empty (could not compute stm, skipping :  IA1am_May18_Week6_30Hz  )\n",
      "\n",
      "   recording:  IA1am_May20_Week6_30Hz\n",
      "    computing DFF\n",
      "data_stm is empty (could not compute stm, skipping :  IA1am_May20_Week6_30Hz  )\n",
      "    computing DFF\n"
     ]
    },
    {
     "name": "stderr",
     "output_type": "stream",
     "text": [
      "100%|██████████| 71/71 [12:53<00:00, 10.90s/it]\n",
      "  0%|          | 0/44 [00:00<?, ?it/s]"
     ]
    },
    {
     "name": "stdout",
     "output_type": "stream",
     "text": [
      "data_stm is empty (could not compute stm, skipping :  IA1am_May20_Week6_30Hz  )\n",
      "PROCESSING:  IA2\n",
      "\n",
      "   recording:  IA2pm_Feb1_30Hz\n",
      " ... session has no events  IA2pm_Feb1_30Hz\n",
      "\n",
      "   recording:  IA2pm_Feb2_30Hz\n",
      "    computing DFF\n",
      "data_stm is empty (could not compute stm, skipping :  IA2pm_Feb2_30Hz  )\n",
      "    computing DFF\n"
     ]
    },
    {
     "name": "stderr",
     "output_type": "stream",
     "text": [
      "\r",
      "  5%|▍         | 2/44 [00:12<04:27,  6.37s/it]"
     ]
    },
    {
     "name": "stdout",
     "output_type": "stream",
     "text": [
      "data_stm is empty (could not compute stm, skipping :  IA2pm_Feb2_30Hz  )\n",
      "\n",
      "   recording:  IA2pm_Feb3_30Hz\n",
      "    computing DFF\n",
      "data_stm is empty (could not compute stm, skipping :  IA2pm_Feb3_30Hz  )\n",
      "    computing DFF\n"
     ]
    },
    {
     "name": "stderr",
     "output_type": "stream",
     "text": [
      "\r",
      "  7%|▋         | 3/44 [00:24<05:45,  8.43s/it]"
     ]
    },
    {
     "name": "stdout",
     "output_type": "stream",
     "text": [
      "data_stm is empty (could not compute stm, skipping :  IA2pm_Feb3_30Hz  )\n",
      "\n",
      "   recording:  IA2pm_Feb4_30Hz\n",
      "    computing DFF\n",
      "data_stm is empty (could not compute stm, skipping :  IA2pm_Feb4_30Hz  )\n",
      "    computing DFF\n"
     ]
    },
    {
     "name": "stderr",
     "output_type": "stream",
     "text": [
      "\r",
      "  9%|▉         | 4/44 [00:35<06:29,  9.74s/it]"
     ]
    },
    {
     "name": "stdout",
     "output_type": "stream",
     "text": [
      "data_stm is empty (could not compute stm, skipping :  IA2pm_Feb4_30Hz  )\n",
      "\n",
      "   recording:  IA2pm_Feb5_30Hz\n",
      "    computing DFF\n",
      "data_stm is empty (could not compute stm, skipping :  IA2pm_Feb5_30Hz  )\n",
      "    computing DFF\n"
     ]
    },
    {
     "name": "stderr",
     "output_type": "stream",
     "text": [
      "\r",
      " 11%|█▏        | 5/44 [00:48<06:52, 10.58s/it]"
     ]
    },
    {
     "name": "stdout",
     "output_type": "stream",
     "text": [
      "data_stm is empty (could not compute stm, skipping :  IA2pm_Feb5_30Hz  )\n",
      "\n",
      "   recording:  IA2pm_Feb9_30Hz\n",
      "    computing DFF\n",
      "data_stm is empty (could not compute stm, skipping :  IA2pm_Feb9_30Hz  )\n",
      "    computing DFF\n"
     ]
    },
    {
     "name": "stderr",
     "output_type": "stream",
     "text": [
      "\r",
      " 14%|█▎        | 6/44 [01:01<07:11, 11.34s/it]"
     ]
    },
    {
     "name": "stdout",
     "output_type": "stream",
     "text": [
      "data_stm is empty (could not compute stm, skipping :  IA2pm_Feb9_30Hz  )\n",
      "\n",
      "   recording:  IA2pm_Feb10_30Hz\n",
      "    computing DFF\n",
      "data_stm is empty (could not compute stm, skipping :  IA2pm_Feb10_30Hz  )\n",
      "    computing DFF\n"
     ]
    },
    {
     "name": "stderr",
     "output_type": "stream",
     "text": [
      "\r",
      " 16%|█▌        | 7/44 [01:12<07:03, 11.44s/it]"
     ]
    },
    {
     "name": "stdout",
     "output_type": "stream",
     "text": [
      "data_stm is empty (could not compute stm, skipping :  IA2pm_Feb10_30Hz  )\n",
      "\n",
      "   recording:  IA2pm_Feb11_30Hz\n",
      "    computing DFF\n",
      "data_stm is empty (could not compute stm, skipping :  IA2pm_Feb11_30Hz  )\n",
      "    computing DFF\n"
     ]
    },
    {
     "name": "stderr",
     "output_type": "stream",
     "text": [
      "\r",
      " 18%|█▊        | 8/44 [01:25<07:02, 11.74s/it]"
     ]
    },
    {
     "name": "stdout",
     "output_type": "stream",
     "text": [
      "data_stm is empty (could not compute stm, skipping :  IA2pm_Feb11_30Hz  )\n",
      "\n",
      "   recording:  IA2pm_Feb12_30Hz\n",
      "    computing DFF\n",
      "data_stm is empty (could not compute stm, skipping :  IA2pm_Feb12_30Hz  )\n",
      "    computing DFF\n"
     ]
    },
    {
     "name": "stderr",
     "output_type": "stream",
     "text": [
      "\r",
      " 20%|██        | 9/44 [01:36<06:48, 11.68s/it]"
     ]
    },
    {
     "name": "stdout",
     "output_type": "stream",
     "text": [
      "data_stm is empty (could not compute stm, skipping :  IA2pm_Feb12_30Hz  )\n",
      "\n",
      "   recording:  IA2pm_Feb15_30Hz\n",
      " ... session has no events  IA2pm_Feb15_30Hz\n",
      "\n",
      "   recording:  IA2pm_Feb16_30Hz\n",
      "    computing DFF\n"
     ]
    },
    {
     "name": "stderr",
     "output_type": "stream",
     "text": [
      "/home/cat/code/widefieldPredict/process_calcium/ProcessCalcium.py:111: FutureWarning: elementwise comparison failed; returning scalar instead, but in the future will perform elementwise comparison\n",
      "  idx = np.where(codes==code)[0]\n"
     ]
    },
    {
     "name": "stdout",
     "output_type": "stream",
     "text": [
      "data_stm is empty (could not compute stm, skipping :  IA2pm_Feb16_30Hz  )\n",
      "    computing DFF\n"
     ]
    },
    {
     "name": "stderr",
     "output_type": "stream",
     "text": [
      "\r",
      " 25%|██▌       | 11/44 [01:48<04:58,  9.05s/it]"
     ]
    },
    {
     "name": "stdout",
     "output_type": "stream",
     "text": [
      "data_stm is empty (could not compute stm, skipping :  IA2pm_Feb16_30Hz  )\n",
      "\n",
      "   recording:  IA2pm_Feb17_30Hz\n",
      "    computing DFF\n",
      "data_stm is empty (could not compute stm, skipping :  IA2pm_Feb17_30Hz  )\n",
      "    computing DFF\n"
     ]
    },
    {
     "name": "stderr",
     "output_type": "stream",
     "text": [
      "\r",
      " 27%|██▋       | 12/44 [02:00<05:09,  9.68s/it]"
     ]
    },
    {
     "name": "stdout",
     "output_type": "stream",
     "text": [
      "data_stm is empty (could not compute stm, skipping :  IA2pm_Feb17_30Hz  )\n",
      "\n",
      "   recording:  IA2pm_Feb18_30Hz\n",
      "    computing DFF\n",
      "data_stm is empty (could not compute stm, skipping :  IA2pm_Feb18_30Hz  )\n",
      "    computing DFF\n"
     ]
    },
    {
     "name": "stderr",
     "output_type": "stream",
     "text": [
      "\r",
      " 30%|██▉       | 13/44 [02:11<05:14, 10.14s/it]"
     ]
    },
    {
     "name": "stdout",
     "output_type": "stream",
     "text": [
      "data_stm is empty (could not compute stm, skipping :  IA2pm_Feb18_30Hz  )\n",
      "\n",
      "   recording:  IA2pm_Feb19_30Hz\n",
      "    computing DFF\n",
      "data_stm is empty (could not compute stm, skipping :  IA2pm_Feb19_30Hz  )\n",
      "    computing DFF\n"
     ]
    },
    {
     "name": "stderr",
     "output_type": "stream",
     "text": [
      "\r",
      " 32%|███▏      | 14/44 [02:24<05:21, 10.72s/it]"
     ]
    },
    {
     "name": "stdout",
     "output_type": "stream",
     "text": [
      "data_stm is empty (could not compute stm, skipping :  IA2pm_Feb19_30Hz  )\n",
      "\n",
      "   recording:  IA2pm_Feb22_30Hz\n",
      "    computing DFF\n",
      "data_stm is empty (could not compute stm, skipping :  IA2pm_Feb22_30Hz  )\n",
      "    computing DFF\n"
     ]
    },
    {
     "name": "stderr",
     "output_type": "stream",
     "text": [
      "\r",
      " 34%|███▍      | 15/44 [02:35<05:16, 10.92s/it]"
     ]
    },
    {
     "name": "stdout",
     "output_type": "stream",
     "text": [
      "data_stm is empty (could not compute stm, skipping :  IA2pm_Feb22_30Hz  )\n",
      "\n",
      "   recording:  IA2pm_Feb23_30Hz\n",
      "    computing DFF\n",
      "data_stm is empty (could not compute stm, skipping :  IA2pm_Feb23_30Hz  )\n",
      "    computing DFF\n"
     ]
    },
    {
     "name": "stderr",
     "output_type": "stream",
     "text": [
      "\r",
      " 36%|███▋      | 16/44 [02:46<05:10, 11.09s/it]"
     ]
    },
    {
     "name": "stdout",
     "output_type": "stream",
     "text": [
      "data_stm is empty (could not compute stm, skipping :  IA2pm_Feb23_30Hz  )\n",
      "\n",
      "   recording:  IA2pm_Feb24_30Hz\n",
      "locs 44 thrshold missing IA2pm_Feb24_30Hz\n",
      " ... session has no events  IA2pm_Feb24_30Hz\n",
      "\n",
      "   recording:  IA2pm_Feb25_30Hz\n",
      "locs 44 thrshold missing IA2pm_Feb25_30Hz\n",
      " ... session has no events  IA2pm_Feb25_30Hz\n",
      "\n",
      "   recording:  IA2pm_Feb26_30Hz\n",
      "    computing DFF\n",
      "data_stm is empty (could not compute stm, skipping :  IA2pm_Feb26_30Hz  )\n",
      "    computing DFF\n"
     ]
    },
    {
     "name": "stderr",
     "output_type": "stream",
     "text": [
      "\r",
      " 43%|████▎     | 19/44 [02:58<02:56,  7.05s/it]"
     ]
    },
    {
     "name": "stdout",
     "output_type": "stream",
     "text": [
      "data_stm is empty (could not compute stm, skipping :  IA2pm_Feb26_30Hz  )\n",
      "\n",
      "   recording:  IA2pm_Feb29_30Hz\n",
      "    computing DFF\n",
      "data_stm is empty (could not compute stm, skipping :  IA2pm_Feb29_30Hz  )\n",
      "    computing DFF\n"
     ]
    },
    {
     "name": "stderr",
     "output_type": "stream",
     "text": [
      "\r",
      " 45%|████▌     | 20/44 [03:10<03:14,  8.12s/it]"
     ]
    },
    {
     "name": "stdout",
     "output_type": "stream",
     "text": [
      "data_stm is empty (could not compute stm, skipping :  IA2pm_Feb29_30Hz  )\n",
      "\n",
      "   recording:  IA2pm_Mar1_30Hz\n",
      "    computing DFF\n",
      "data_stm is empty (could not compute stm, skipping :  IA2pm_Mar1_30Hz  )\n",
      "    computing DFF\n"
     ]
    },
    {
     "name": "stderr",
     "output_type": "stream",
     "text": [
      "\r",
      " 48%|████▊     | 21/44 [03:22<03:25,  8.94s/it]"
     ]
    },
    {
     "name": "stdout",
     "output_type": "stream",
     "text": [
      "data_stm is empty (could not compute stm, skipping :  IA2pm_Mar1_30Hz  )\n",
      "\n",
      "   recording:  IA2pm_Mar2_30Hz\n",
      "    computing DFF\n",
      "data_stm is empty (could not compute stm, skipping :  IA2pm_Mar2_30Hz  )\n",
      "    computing DFF\n"
     ]
    },
    {
     "name": "stderr",
     "output_type": "stream",
     "text": [
      "\r",
      " 50%|█████     | 22/44 [03:33<03:31,  9.61s/it]"
     ]
    },
    {
     "name": "stdout",
     "output_type": "stream",
     "text": [
      "data_stm is empty (could not compute stm, skipping :  IA2pm_Mar2_30Hz  )\n",
      "\n",
      "   recording:  IA2pm_Mar3_30Hz\n",
      "    computing DFF\n",
      "data_stm is empty (could not compute stm, skipping :  IA2pm_Mar3_30Hz  )\n",
      "    computing DFF\n"
     ]
    },
    {
     "name": "stderr",
     "output_type": "stream",
     "text": [
      "\r",
      " 52%|█████▏    | 23/44 [03:44<03:30, 10.02s/it]"
     ]
    },
    {
     "name": "stdout",
     "output_type": "stream",
     "text": [
      "data_stm is empty (could not compute stm, skipping :  IA2pm_Mar3_30Hz  )\n",
      "\n",
      "   recording:  IA2am_Mar4_30Hz\n",
      "    computing DFF\n",
      "data_stm is empty (could not compute stm, skipping :  IA2am_Mar4_30Hz  )\n",
      "    computing DFF\n"
     ]
    },
    {
     "name": "stderr",
     "output_type": "stream",
     "text": [
      "\r",
      " 55%|█████▍    | 24/44 [03:57<03:33, 10.70s/it]"
     ]
    },
    {
     "name": "stdout",
     "output_type": "stream",
     "text": [
      "data_stm is empty (could not compute stm, skipping :  IA2am_Mar4_30Hz  )\n",
      "\n",
      "   recording:  IA2am_Mar7_30Hz\n",
      "    computing DFF\n",
      "data_stm is empty (could not compute stm, skipping :  IA2am_Mar7_30Hz  )\n",
      "    computing DFF\n"
     ]
    },
    {
     "name": "stderr",
     "output_type": "stream",
     "text": [
      "\r",
      " 57%|█████▋    | 25/44 [04:08<03:27, 10.90s/it]"
     ]
    },
    {
     "name": "stdout",
     "output_type": "stream",
     "text": [
      "data_stm is empty (could not compute stm, skipping :  IA2am_Mar7_30Hz  )\n",
      "\n",
      "   recording:  IA2pm_Mar8_30Hz\n",
      "    computing DFF\n",
      "data_stm is empty (could not compute stm, skipping :  IA2pm_Mar8_30Hz  )\n",
      "    computing DFF\n"
     ]
    },
    {
     "name": "stderr",
     "output_type": "stream",
     "text": [
      "\r",
      " 59%|█████▉    | 26/44 [04:21<03:22, 11.25s/it]"
     ]
    },
    {
     "name": "stdout",
     "output_type": "stream",
     "text": [
      "data_stm is empty (could not compute stm, skipping :  IA2pm_Mar8_30Hz  )\n",
      "\n",
      "   recording:  IA2am_Mar9_30Hz\n",
      "    computing DFF\n",
      "data_stm is empty (could not compute stm, skipping :  IA2am_Mar9_30Hz  )\n",
      "    computing DFF\n"
     ]
    },
    {
     "name": "stderr",
     "output_type": "stream",
     "text": [
      "\r",
      " 61%|██████▏   | 27/44 [04:49<04:33, 16.12s/it]"
     ]
    },
    {
     "name": "stdout",
     "output_type": "stream",
     "text": [
      "data_stm is empty (could not compute stm, skipping :  IA2am_Mar9_30Hz  )\n",
      "\n",
      "   recording:  IA2am_Mar10_30Hz\n",
      " ... session has no events  IA2am_Mar10_30Hz\n",
      "\n",
      "   recording:  IA2am_Mar11_30Hz\n",
      "    computing DFF\n",
      "data_stm is empty (could not compute stm, skipping :  IA2am_Mar11_30Hz  )\n",
      "    computing DFF\n"
     ]
    },
    {
     "name": "stderr",
     "output_type": "stream",
     "text": [
      "\r",
      " 66%|██████▌   | 29/44 [05:00<02:49, 11.32s/it]"
     ]
    },
    {
     "name": "stdout",
     "output_type": "stream",
     "text": [
      "data_stm is empty (could not compute stm, skipping :  IA2am_Mar11_30Hz  )\n",
      "\n",
      "   recording:  IA2pm_Mar14_30Hz\n",
      "    computing DFF\n",
      "data_stm is empty (could not compute stm, skipping :  IA2pm_Mar14_30Hz  )\n",
      "    computing DFF\n"
     ]
    },
    {
     "name": "stderr",
     "output_type": "stream",
     "text": [
      "\r",
      " 68%|██████▊   | 30/44 [05:11<02:39, 11.43s/it]"
     ]
    },
    {
     "name": "stdout",
     "output_type": "stream",
     "text": [
      "data_stm is empty (could not compute stm, skipping :  IA2pm_Mar14_30Hz  )\n",
      "\n",
      "   recording:  IA2am_Mar15_30Hz\n",
      "    computing DFF\n",
      "data_stm is empty (could not compute stm, skipping :  IA2am_Mar15_30Hz  )\n",
      "    computing DFF\n"
     ]
    },
    {
     "name": "stderr",
     "output_type": "stream",
     "text": [
      "\r",
      " 70%|███████   | 31/44 [05:23<02:28, 11.44s/it]"
     ]
    },
    {
     "name": "stdout",
     "output_type": "stream",
     "text": [
      "data_stm is empty (could not compute stm, skipping :  IA2am_Mar15_30Hz  )\n",
      "\n",
      "   recording:  IA2pm_Mar16_30Hz\n",
      "    computing DFF\n",
      "data_stm is empty (could not compute stm, skipping :  IA2pm_Mar16_30Hz  )\n",
      "    computing DFF\n"
     ]
    },
    {
     "name": "stderr",
     "output_type": "stream",
     "text": [
      "\r",
      " 73%|███████▎  | 32/44 [05:34<02:16, 11.41s/it]"
     ]
    },
    {
     "name": "stdout",
     "output_type": "stream",
     "text": [
      "data_stm is empty (could not compute stm, skipping :  IA2pm_Mar16_30Hz  )\n",
      "\n",
      "   recording:  IA2pm_Mar17_30Hz\n",
      "    computing DFF\n",
      "data_stm is empty (could not compute stm, skipping :  IA2pm_Mar17_30Hz  )\n",
      "    computing DFF\n"
     ]
    },
    {
     "name": "stderr",
     "output_type": "stream",
     "text": [
      "\r",
      " 75%|███████▌  | 33/44 [05:46<02:05, 11.41s/it]"
     ]
    },
    {
     "name": "stdout",
     "output_type": "stream",
     "text": [
      "data_stm is empty (could not compute stm, skipping :  IA2pm_Mar17_30Hz  )\n",
      "\n",
      "   recording:  IA2pm_Mar18_30Hz\n",
      "    computing DFF\n",
      "data_stm is empty (could not compute stm, skipping :  IA2pm_Mar18_30Hz  )\n",
      "    computing DFF\n"
     ]
    },
    {
     "name": "stderr",
     "output_type": "stream",
     "text": [
      "\r",
      " 77%|███████▋  | 34/44 [05:57<01:54, 11.48s/it]"
     ]
    },
    {
     "name": "stdout",
     "output_type": "stream",
     "text": [
      "data_stm is empty (could not compute stm, skipping :  IA2pm_Mar18_30Hz  )\n",
      "\n",
      "   recording:  IA2pm_Mar21_30Hz\n",
      "    computing DFF\n",
      "data_stm is empty (could not compute stm, skipping :  IA2pm_Mar21_30Hz  )\n",
      "    computing DFF\n"
     ]
    },
    {
     "name": "stderr",
     "output_type": "stream",
     "text": [
      "\r",
      " 80%|███████▉  | 35/44 [06:10<01:46, 11.80s/it]"
     ]
    },
    {
     "name": "stdout",
     "output_type": "stream",
     "text": [
      "data_stm is empty (could not compute stm, skipping :  IA2pm_Mar21_30Hz  )\n",
      "\n",
      "   recording:  IA2pm_Mar23_30Hz\n",
      "    computing DFF\n",
      "data_stm is empty (could not compute stm, skipping :  IA2pm_Mar23_30Hz  )\n",
      "    computing DFF\n"
     ]
    },
    {
     "name": "stderr",
     "output_type": "stream",
     "text": [
      "\r",
      " 82%|████████▏ | 36/44 [06:22<01:34, 11.80s/it]"
     ]
    },
    {
     "name": "stdout",
     "output_type": "stream",
     "text": [
      "data_stm is empty (could not compute stm, skipping :  IA2pm_Mar23_30Hz  )\n",
      "\n",
      "   recording:  IA2pm_Mar24_30Hz\n",
      "    computing DFF\n",
      "data_stm is empty (could not compute stm, skipping :  IA2pm_Mar24_30Hz  )\n",
      "    computing DFF\n"
     ]
    },
    {
     "name": "stderr",
     "output_type": "stream",
     "text": [
      "\r",
      " 84%|████████▍ | 37/44 [06:33<01:22, 11.76s/it]"
     ]
    },
    {
     "name": "stdout",
     "output_type": "stream",
     "text": [
      "data_stm is empty (could not compute stm, skipping :  IA2pm_Mar24_30Hz  )\n",
      "\n",
      "   recording:  IA2pm_Mar29_30Hz\n",
      "    computing DFF\n",
      "data_stm is empty (could not compute stm, skipping :  IA2pm_Mar29_30Hz  )\n",
      "    computing DFF\n"
     ]
    },
    {
     "name": "stderr",
     "output_type": "stream",
     "text": [
      "\r",
      " 86%|████████▋ | 38/44 [06:45<01:09, 11.63s/it]"
     ]
    },
    {
     "name": "stdout",
     "output_type": "stream",
     "text": [
      "data_stm is empty (could not compute stm, skipping :  IA2pm_Mar29_30Hz  )\n",
      "\n",
      "   recording:  IA2pm_Mar30_30Hz\n",
      "    computing DFF\n",
      "data_stm is empty (could not compute stm, skipping :  IA2pm_Mar30_30Hz  )\n",
      "    computing DFF\n"
     ]
    },
    {
     "name": "stderr",
     "output_type": "stream",
     "text": [
      "\r",
      " 89%|████████▊ | 39/44 [06:56<00:57, 11.59s/it]"
     ]
    },
    {
     "name": "stdout",
     "output_type": "stream",
     "text": [
      "data_stm is empty (could not compute stm, skipping :  IA2pm_Mar30_30Hz  )\n",
      "\n",
      "   recording:  IA2pm_Mar31_30Hz\n",
      "    computing DFF\n",
      "data_stm is empty (could not compute stm, skipping :  IA2pm_Mar31_30Hz  )\n",
      "    computing DFF\n"
     ]
    },
    {
     "name": "stderr",
     "output_type": "stream",
     "text": [
      "\r",
      " 91%|█████████ | 40/44 [07:08<00:47, 11.77s/it]"
     ]
    },
    {
     "name": "stdout",
     "output_type": "stream",
     "text": [
      "data_stm is empty (could not compute stm, skipping :  IA2pm_Mar31_30Hz  )\n",
      "\n",
      "   recording:  IA2pm_Apr1_30Hz\n",
      "    computing DFF\n",
      "data_stm is empty (could not compute stm, skipping :  IA2pm_Apr1_30Hz  )\n",
      "    computing DFF\n"
     ]
    },
    {
     "name": "stderr",
     "output_type": "stream",
     "text": [
      "\r",
      " 93%|█████████▎| 41/44 [07:20<00:35, 11.78s/it]"
     ]
    },
    {
     "name": "stdout",
     "output_type": "stream",
     "text": [
      "data_stm is empty (could not compute stm, skipping :  IA2pm_Apr1_30Hz  )\n",
      "\n",
      "   recording:  IA2pm_Apr4_30Hz\n",
      "    computing DFF\n",
      "data_stm is empty (could not compute stm, skipping :  IA2pm_Apr4_30Hz  )\n",
      "    computing DFF\n"
     ]
    },
    {
     "name": "stderr",
     "output_type": "stream",
     "text": [
      "\r",
      " 95%|█████████▌| 42/44 [07:32<00:23, 11.92s/it]"
     ]
    },
    {
     "name": "stdout",
     "output_type": "stream",
     "text": [
      "data_stm is empty (could not compute stm, skipping :  IA2pm_Apr4_30Hz  )\n",
      "\n",
      "   recording:  IA2pm_Apr5_30Hz\n",
      "    computing DFF\n",
      "data_stm is empty (could not compute stm, skipping :  IA2pm_Apr5_30Hz  )\n",
      "    computing DFF\n"
     ]
    },
    {
     "name": "stderr",
     "output_type": "stream",
     "text": [
      "\r",
      " 98%|█████████▊| 43/44 [07:44<00:11, 11.77s/it]"
     ]
    },
    {
     "name": "stdout",
     "output_type": "stream",
     "text": [
      "data_stm is empty (could not compute stm, skipping :  IA2pm_Apr5_30Hz  )\n",
      "\n",
      "   recording:  IA2pm_Apr6_30Hz\n",
      "    computing DFF\n",
      "data_stm is empty (could not compute stm, skipping :  IA2pm_Apr6_30Hz  )\n",
      "    computing DFF\n"
     ]
    },
    {
     "name": "stderr",
     "output_type": "stream",
     "text": [
      "100%|██████████| 44/44 [07:55<00:00, 10.82s/it]\n",
      "  0%|          | 0/44 [00:00<?, ?it/s]"
     ]
    },
    {
     "name": "stdout",
     "output_type": "stream",
     "text": [
      "data_stm is empty (could not compute stm, skipping :  IA2pm_Apr6_30Hz  )\n",
      "PROCESSING:  IA3\n",
      "\n",
      "   recording:  IA3pm_Feb1_30Hz\n",
      "    computing DFF\n",
      "data_stm is empty (could not compute stm, skipping :  IA3pm_Feb1_30Hz  )\n",
      "    computing DFF\n"
     ]
    },
    {
     "name": "stderr",
     "output_type": "stream",
     "text": [
      "\r",
      "  2%|▏         | 1/44 [00:07<05:19,  7.43s/it]"
     ]
    },
    {
     "name": "stdout",
     "output_type": "stream",
     "text": [
      "data_stm is empty (could not compute stm, skipping :  IA3pm_Feb1_30Hz  )\n",
      "\n",
      "   recording:  IA3pm_Feb2_30Hz\n",
      "    computing DFF\n",
      "data_stm is empty (could not compute stm, skipping :  IA3pm_Feb2_30Hz  )\n",
      "    computing DFF\n"
     ]
    },
    {
     "name": "stderr",
     "output_type": "stream",
     "text": [
      "\r",
      "  5%|▍         | 2/44 [00:19<06:55,  9.89s/it]"
     ]
    },
    {
     "name": "stdout",
     "output_type": "stream",
     "text": [
      "data_stm is empty (could not compute stm, skipping :  IA3pm_Feb2_30Hz  )\n",
      "\n",
      "   recording:  IA3pm_Feb3_30Hz\n",
      "    computing DFF\n",
      "data_stm is empty (could not compute stm, skipping :  IA3pm_Feb3_30Hz  )\n",
      "    computing DFF\n"
     ]
    },
    {
     "name": "stderr",
     "output_type": "stream",
     "text": [
      "\r",
      "  7%|▋         | 3/44 [00:31<07:35, 11.10s/it]"
     ]
    },
    {
     "name": "stdout",
     "output_type": "stream",
     "text": [
      "data_stm is empty (could not compute stm, skipping :  IA3pm_Feb3_30Hz  )\n",
      "\n",
      "   recording:  IA3pm_Feb4_30Hz\n",
      "    computing DFF\n",
      "data_stm is empty (could not compute stm, skipping :  IA3pm_Feb4_30Hz  )\n",
      "    computing DFF\n"
     ]
    },
    {
     "name": "stderr",
     "output_type": "stream",
     "text": [
      "\r",
      "  9%|▉         | 4/44 [00:42<07:28, 11.21s/it]"
     ]
    },
    {
     "name": "stdout",
     "output_type": "stream",
     "text": [
      "data_stm is empty (could not compute stm, skipping :  IA3pm_Feb4_30Hz  )\n",
      "\n",
      "   recording:  IA3pm_Feb9_30Hz\n",
      "    computing DFF\n",
      "data_stm is empty (could not compute stm, skipping :  IA3pm_Feb9_30Hz  )\n",
      "    computing DFF\n"
     ]
    },
    {
     "name": "stderr",
     "output_type": "stream",
     "text": [
      "\r",
      " 11%|█▏        | 5/44 [00:55<07:35, 11.67s/it]"
     ]
    },
    {
     "name": "stdout",
     "output_type": "stream",
     "text": [
      "data_stm is empty (could not compute stm, skipping :  IA3pm_Feb9_30Hz  )\n",
      "\n",
      "   recording:  IA3pm_Feb10_30Hz\n",
      "    computing DFF\n",
      "data_stm is empty (could not compute stm, skipping :  IA3pm_Feb10_30Hz  )\n",
      "    computing DFF\n"
     ]
    },
    {
     "name": "stderr",
     "output_type": "stream",
     "text": [
      "\r",
      " 14%|█▎        | 6/44 [01:07<07:26, 11.76s/it]"
     ]
    },
    {
     "name": "stdout",
     "output_type": "stream",
     "text": [
      "data_stm is empty (could not compute stm, skipping :  IA3pm_Feb10_30Hz  )\n",
      "\n",
      "   recording:  IA3pm_Feb11_30Hz\n",
      "    computing DFF\n",
      "data_stm is empty (could not compute stm, skipping :  IA3pm_Feb11_30Hz  )\n",
      "    computing DFF\n"
     ]
    },
    {
     "name": "stderr",
     "output_type": "stream",
     "text": [
      "\r",
      " 16%|█▌        | 7/44 [01:18<07:13, 11.71s/it]"
     ]
    },
    {
     "name": "stdout",
     "output_type": "stream",
     "text": [
      "data_stm is empty (could not compute stm, skipping :  IA3pm_Feb11_30Hz  )\n",
      "\n",
      "   recording:  IA3pm_Feb12_30Hz\n",
      "    computing DFF\n",
      "data_stm is empty (could not compute stm, skipping :  IA3pm_Feb12_30Hz  )\n",
      "    computing DFF\n"
     ]
    },
    {
     "name": "stderr",
     "output_type": "stream",
     "text": [
      "\r",
      " 18%|█▊        | 8/44 [01:32<07:21, 12.28s/it]"
     ]
    },
    {
     "name": "stdout",
     "output_type": "stream",
     "text": [
      "data_stm is empty (could not compute stm, skipping :  IA3pm_Feb12_30Hz  )\n",
      "\n",
      "   recording:  IA3pm_Feb15_30Hz\n",
      "    computing DFF\n",
      "data_stm is empty (could not compute stm, skipping :  IA3pm_Feb15_30Hz  )\n",
      "    computing DFF\n"
     ]
    },
    {
     "name": "stderr",
     "output_type": "stream",
     "text": [
      "\r",
      " 20%|██        | 9/44 [01:43<07:00, 12.02s/it]"
     ]
    },
    {
     "name": "stdout",
     "output_type": "stream",
     "text": [
      "data_stm is empty (could not compute stm, skipping :  IA3pm_Feb15_30Hz  )\n",
      "\n",
      "   recording:  IA3pm_Feb16_30Hz\n",
      "    computing DFF\n",
      "data_stm is empty (could not compute stm, skipping :  IA3pm_Feb16_30Hz  )\n",
      "    computing DFF\n"
     ]
    },
    {
     "name": "stderr",
     "output_type": "stream",
     "text": [
      "\r",
      " 23%|██▎       | 10/44 [01:55<06:48, 12.02s/it]"
     ]
    },
    {
     "name": "stdout",
     "output_type": "stream",
     "text": [
      "data_stm is empty (could not compute stm, skipping :  IA3pm_Feb16_30Hz  )\n",
      "\n",
      "   recording:  IA3pm_Feb17_30Hz\n",
      "    computing DFF\n",
      "data_stm is empty (could not compute stm, skipping :  IA3pm_Feb17_30Hz  )\n",
      "    computing DFF\n"
     ]
    },
    {
     "name": "stderr",
     "output_type": "stream",
     "text": [
      "\r",
      " 25%|██▌       | 11/44 [02:07<06:32, 11.90s/it]"
     ]
    },
    {
     "name": "stdout",
     "output_type": "stream",
     "text": [
      "data_stm is empty (could not compute stm, skipping :  IA3pm_Feb17_30Hz  )\n",
      "\n",
      "   recording:  IA3pm_Feb18_30Hz\n",
      "    computing DFF\n",
      "data_stm is empty (could not compute stm, skipping :  IA3pm_Feb18_30Hz  )\n",
      "    computing DFF\n"
     ]
    },
    {
     "name": "stderr",
     "output_type": "stream",
     "text": [
      "\r",
      " 27%|██▋       | 12/44 [02:20<06:27, 12.11s/it]"
     ]
    },
    {
     "name": "stdout",
     "output_type": "stream",
     "text": [
      "data_stm is empty (could not compute stm, skipping :  IA3pm_Feb18_30Hz  )\n",
      "\n",
      "   recording:  IA3pm_Feb19_30Hz\n",
      "    computing DFF\n",
      "data_stm is empty (could not compute stm, skipping :  IA3pm_Feb19_30Hz  )\n",
      "    computing DFF\n"
     ]
    },
    {
     "name": "stderr",
     "output_type": "stream",
     "text": [
      "\r",
      " 30%|██▉       | 13/44 [02:32<06:21, 12.29s/it]"
     ]
    },
    {
     "name": "stdout",
     "output_type": "stream",
     "text": [
      "data_stm is empty (could not compute stm, skipping :  IA3pm_Feb19_30Hz  )\n",
      "\n",
      "   recording:  IA3pm_Feb22_30Hz\n",
      "    computing DFF\n",
      "data_stm is empty (could not compute stm, skipping :  IA3pm_Feb22_30Hz  )\n",
      "    computing DFF\n"
     ]
    },
    {
     "name": "stderr",
     "output_type": "stream",
     "text": [
      "\r",
      " 32%|███▏      | 14/44 [02:44<06:01, 12.03s/it]"
     ]
    },
    {
     "name": "stdout",
     "output_type": "stream",
     "text": [
      "data_stm is empty (could not compute stm, skipping :  IA3pm_Feb22_30Hz  )\n",
      "\n",
      "   recording:  IA3pm_Feb23_30Hz\n",
      "    computing DFF\n",
      "data_stm is empty (could not compute stm, skipping :  IA3pm_Feb23_30Hz  )\n",
      "    computing DFF\n"
     ]
    },
    {
     "name": "stderr",
     "output_type": "stream",
     "text": [
      "\r",
      " 34%|███▍      | 15/44 [02:55<05:45, 11.91s/it]"
     ]
    },
    {
     "name": "stdout",
     "output_type": "stream",
     "text": [
      "data_stm is empty (could not compute stm, skipping :  IA3pm_Feb23_30Hz  )\n",
      "\n",
      "   recording:  IA3pm_Feb24_30Hz\n",
      "locs 44 thrshold missing IA3pm_Feb24_30Hz\n",
      " ... session has no events  IA3pm_Feb24_30Hz\n",
      "\n",
      "   recording:  IA3pm_Feb25_30Hz\n",
      "locs 44 thrshold missing IA3pm_Feb25_30Hz\n",
      " ... session has no events  IA3pm_Feb25_30Hz\n",
      "\n",
      "   recording:  IA3pm_Feb26_30Hz\n",
      "    computing DFF\n",
      "data_stm is empty (could not compute stm, skipping :  IA3pm_Feb26_30Hz  )\n",
      "    computing DFF\n"
     ]
    },
    {
     "name": "stderr",
     "output_type": "stream",
     "text": [
      "\r",
      " 41%|████      | 18/44 [03:07<03:11,  7.36s/it]"
     ]
    },
    {
     "name": "stdout",
     "output_type": "stream",
     "text": [
      "data_stm is empty (could not compute stm, skipping :  IA3pm_Feb26_30Hz  )\n",
      "\n",
      "   recording:  IA3pm_Feb29_30Hz\n",
      "    computing DFF\n",
      "data_stm is empty (could not compute stm, skipping :  IA3pm_Feb29_30Hz  )\n",
      "    computing DFF\n"
     ]
    },
    {
     "name": "stderr",
     "output_type": "stream",
     "text": [
      "\r",
      " 43%|████▎     | 19/44 [03:18<03:25,  8.23s/it]"
     ]
    },
    {
     "name": "stdout",
     "output_type": "stream",
     "text": [
      "data_stm is empty (could not compute stm, skipping :  IA3pm_Feb29_30Hz  )\n",
      "\n",
      "   recording:  IA3pm_Mar1_30Hz\n",
      "    computing DFF\n",
      "data_stm is empty (could not compute stm, skipping :  IA3pm_Mar1_30Hz  )\n",
      "    computing DFF\n"
     ]
    },
    {
     "name": "stderr",
     "output_type": "stream",
     "text": [
      "\r",
      " 45%|████▌     | 20/44 [03:30<03:34,  8.96s/it]"
     ]
    },
    {
     "name": "stdout",
     "output_type": "stream",
     "text": [
      "data_stm is empty (could not compute stm, skipping :  IA3pm_Mar1_30Hz  )\n",
      "\n",
      "   recording:  IA3pm_Mar2_30Hz\n",
      "    computing DFF\n",
      "data_stm is empty (could not compute stm, skipping :  IA3pm_Mar2_30Hz  )\n",
      "    computing DFF\n"
     ]
    },
    {
     "name": "stderr",
     "output_type": "stream",
     "text": [
      "\r",
      " 48%|████▊     | 21/44 [03:42<03:44,  9.77s/it]"
     ]
    },
    {
     "name": "stdout",
     "output_type": "stream",
     "text": [
      "data_stm is empty (could not compute stm, skipping :  IA3pm_Mar2_30Hz  )\n",
      "\n",
      "   recording:  IA3pm_Mar3_30Hz\n",
      "    computing DFF\n",
      "data_stm is empty (could not compute stm, skipping :  IA3pm_Mar3_30Hz  )\n",
      "    computing DFF\n"
     ]
    },
    {
     "name": "stderr",
     "output_type": "stream",
     "text": [
      "\r",
      " 50%|█████     | 22/44 [03:53<03:44, 10.19s/it]"
     ]
    },
    {
     "name": "stdout",
     "output_type": "stream",
     "text": [
      "data_stm is empty (could not compute stm, skipping :  IA3pm_Mar3_30Hz  )\n",
      "\n",
      "   recording:  IA3am_Mar7_30Hz\n",
      "    computing DFF\n",
      "data_stm is empty (could not compute stm, skipping :  IA3am_Mar7_30Hz  )\n",
      "    computing DFF\n"
     ]
    },
    {
     "name": "stderr",
     "output_type": "stream",
     "text": [
      "\r",
      " 52%|█████▏    | 23/44 [04:05<03:44, 10.68s/it]"
     ]
    },
    {
     "name": "stdout",
     "output_type": "stream",
     "text": [
      "data_stm is empty (could not compute stm, skipping :  IA3am_Mar7_30Hz  )\n",
      "\n",
      "   recording:  IA3pm_Mar8_30Hz\n",
      "    computing DFF\n",
      "data_stm is empty (could not compute stm, skipping :  IA3pm_Mar8_30Hz  )\n",
      "    computing DFF\n"
     ]
    },
    {
     "name": "stderr",
     "output_type": "stream",
     "text": [
      "\r",
      " 55%|█████▍    | 24/44 [04:17<03:38, 10.92s/it]"
     ]
    },
    {
     "name": "stdout",
     "output_type": "stream",
     "text": [
      "data_stm is empty (could not compute stm, skipping :  IA3pm_Mar8_30Hz  )\n",
      "\n",
      "   recording:  IA3am_Mar9_30Hz\n",
      "    computing DFF\n",
      "data_stm is empty (could not compute stm, skipping :  IA3am_Mar9_30Hz  )\n",
      "    computing DFF\n"
     ]
    },
    {
     "name": "stderr",
     "output_type": "stream",
     "text": [
      "\r",
      " 57%|█████▋    | 25/44 [04:29<03:31, 11.15s/it]"
     ]
    },
    {
     "name": "stdout",
     "output_type": "stream",
     "text": [
      "data_stm is empty (could not compute stm, skipping :  IA3am_Mar9_30Hz  )\n",
      "\n",
      "   recording:  IA3am_Mar10_30Hz\n",
      "    computing DFF\n",
      "data_stm is empty (could not compute stm, skipping :  IA3am_Mar10_30Hz  )\n",
      "    computing DFF\n"
     ]
    },
    {
     "name": "stderr",
     "output_type": "stream",
     "text": [
      "\r",
      " 59%|█████▉    | 26/44 [04:40<03:23, 11.31s/it]"
     ]
    },
    {
     "name": "stdout",
     "output_type": "stream",
     "text": [
      "data_stm is empty (could not compute stm, skipping :  IA3am_Mar10_30Hz  )\n",
      "\n",
      "   recording:  IA3am_Mar11_30Hz\n",
      "    computing DFF\n",
      "data_stm is empty (could not compute stm, skipping :  IA3am_Mar11_30Hz  )\n",
      "    computing DFF\n"
     ]
    },
    {
     "name": "stderr",
     "output_type": "stream",
     "text": [
      "\r",
      " 61%|██████▏   | 27/44 [04:53<03:20, 11.81s/it]"
     ]
    },
    {
     "name": "stdout",
     "output_type": "stream",
     "text": [
      "data_stm is empty (could not compute stm, skipping :  IA3am_Mar11_30Hz  )\n",
      "\n",
      "   recording:  IA3pm_Mar14_30Hz\n",
      "    computing DFF\n",
      "data_stm is empty (could not compute stm, skipping :  IA3pm_Mar14_30Hz  )\n",
      "    computing DFF\n"
     ]
    },
    {
     "name": "stderr",
     "output_type": "stream",
     "text": [
      "\r",
      " 64%|██████▎   | 28/44 [05:05<03:07, 11.73s/it]"
     ]
    },
    {
     "name": "stdout",
     "output_type": "stream",
     "text": [
      "data_stm is empty (could not compute stm, skipping :  IA3pm_Mar14_30Hz  )\n",
      "\n",
      "   recording:  IA3am_Mar15_30Hz\n",
      "    computing DFF\n",
      "data_stm is empty (could not compute stm, skipping :  IA3am_Mar15_30Hz  )\n",
      "    computing DFF\n"
     ]
    },
    {
     "name": "stderr",
     "output_type": "stream",
     "text": [
      "\r",
      " 66%|██████▌   | 29/44 [05:17<02:56, 11.79s/it]"
     ]
    },
    {
     "name": "stdout",
     "output_type": "stream",
     "text": [
      "data_stm is empty (could not compute stm, skipping :  IA3am_Mar15_30Hz  )\n",
      "\n",
      "   recording:  IA3pm_Mar16_30Hz\n",
      "    computing DFF\n",
      "data_stm is empty (could not compute stm, skipping :  IA3pm_Mar16_30Hz  )\n",
      "    computing DFF\n"
     ]
    },
    {
     "name": "stderr",
     "output_type": "stream",
     "text": [
      "\r",
      " 68%|██████▊   | 30/44 [05:29<02:45, 11.84s/it]"
     ]
    },
    {
     "name": "stdout",
     "output_type": "stream",
     "text": [
      "data_stm is empty (could not compute stm, skipping :  IA3pm_Mar16_30Hz  )\n",
      "\n",
      "   recording:  IA3pm_Mar17_30Hz\n",
      "    computing DFF\n",
      "data_stm is empty (could not compute stm, skipping :  IA3pm_Mar17_30Hz  )\n",
      "    computing DFF\n"
     ]
    },
    {
     "name": "stderr",
     "output_type": "stream",
     "text": [
      "\r",
      " 70%|███████   | 31/44 [05:41<02:35, 11.97s/it]"
     ]
    },
    {
     "name": "stdout",
     "output_type": "stream",
     "text": [
      "data_stm is empty (could not compute stm, skipping :  IA3pm_Mar17_30Hz  )\n",
      "\n",
      "   recording:  IA3pm_Mar18_30Hz\n",
      "    computing DFF\n",
      "data_stm is empty (could not compute stm, skipping :  IA3pm_Mar18_30Hz  )\n",
      "    computing DFF\n"
     ]
    },
    {
     "name": "stderr",
     "output_type": "stream",
     "text": [
      "\r",
      " 73%|███████▎  | 32/44 [05:54<02:25, 12.13s/it]"
     ]
    },
    {
     "name": "stdout",
     "output_type": "stream",
     "text": [
      "data_stm is empty (could not compute stm, skipping :  IA3pm_Mar18_30Hz  )\n",
      "\n",
      "   recording:  IA3pm_Mar21_30Hz\n",
      "    computing DFF\n",
      "data_stm is empty (could not compute stm, skipping :  IA3pm_Mar21_30Hz  )\n",
      "    computing DFF\n"
     ]
    },
    {
     "name": "stderr",
     "output_type": "stream",
     "text": [
      "\r",
      " 75%|███████▌  | 33/44 [06:05<02:12, 12.00s/it]"
     ]
    },
    {
     "name": "stdout",
     "output_type": "stream",
     "text": [
      "data_stm is empty (could not compute stm, skipping :  IA3pm_Mar21_30Hz  )\n",
      "\n",
      "   recording:  IA3pm_Mar22_30Hz\n",
      "    computing DFF\n",
      "data_stm is empty (could not compute stm, skipping :  IA3pm_Mar22_30Hz  )\n",
      "    computing DFF\n"
     ]
    },
    {
     "name": "stderr",
     "output_type": "stream",
     "text": [
      "\r",
      " 77%|███████▋  | 34/44 [06:19<02:05, 12.55s/it]"
     ]
    },
    {
     "name": "stdout",
     "output_type": "stream",
     "text": [
      "data_stm is empty (could not compute stm, skipping :  IA3pm_Mar22_30Hz  )\n",
      "\n",
      "   recording:  IA3pm_Mar23_30Hz\n",
      "    computing DFF\n",
      "data_stm is empty (could not compute stm, skipping :  IA3pm_Mar23_30Hz  )\n",
      "    computing DFF\n"
     ]
    },
    {
     "name": "stderr",
     "output_type": "stream",
     "text": [
      "\r",
      " 80%|███████▉  | 35/44 [06:31<01:50, 12.28s/it]"
     ]
    },
    {
     "name": "stdout",
     "output_type": "stream",
     "text": [
      "data_stm is empty (could not compute stm, skipping :  IA3pm_Mar23_30Hz  )\n",
      "\n",
      "   recording:  IA3pm_Mar24_30Hz\n",
      "    computing DFF\n",
      "data_stm is empty (could not compute stm, skipping :  IA3pm_Mar24_30Hz  )\n",
      "    computing DFF\n"
     ]
    },
    {
     "name": "stderr",
     "output_type": "stream",
     "text": [
      "\r",
      " 82%|████████▏ | 36/44 [06:43<01:38, 12.26s/it]"
     ]
    },
    {
     "name": "stdout",
     "output_type": "stream",
     "text": [
      "data_stm is empty (could not compute stm, skipping :  IA3pm_Mar24_30Hz  )\n",
      "\n",
      "   recording:  IA3pm_Mar29_30Hz\n",
      "    computing DFF\n",
      "data_stm is empty (could not compute stm, skipping :  IA3pm_Mar29_30Hz  )\n",
      "    computing DFF\n"
     ]
    },
    {
     "name": "stderr",
     "output_type": "stream",
     "text": [
      "\r",
      " 84%|████████▍ | 37/44 [06:55<01:24, 12.07s/it]"
     ]
    },
    {
     "name": "stdout",
     "output_type": "stream",
     "text": [
      "data_stm is empty (could not compute stm, skipping :  IA3pm_Mar29_30Hz  )\n",
      "\n",
      "   recording:  IA3pm_Mar30_30Hz\n",
      "    computing DFF\n",
      "data_stm is empty (could not compute stm, skipping :  IA3pm_Mar30_30Hz  )\n",
      "    computing DFF\n"
     ]
    },
    {
     "name": "stderr",
     "output_type": "stream",
     "text": [
      "\r",
      " 86%|████████▋ | 38/44 [07:06<01:11, 11.95s/it]"
     ]
    },
    {
     "name": "stdout",
     "output_type": "stream",
     "text": [
      "data_stm is empty (could not compute stm, skipping :  IA3pm_Mar30_30Hz  )\n",
      "\n",
      "   recording:  IA3pm_Mar31_30Hz\n",
      "    computing DFF\n",
      "data_stm is empty (could not compute stm, skipping :  IA3pm_Mar31_30Hz  )\n",
      "    computing DFF\n"
     ]
    },
    {
     "name": "stderr",
     "output_type": "stream",
     "text": [
      "\r",
      " 89%|████████▊ | 39/44 [07:18<00:59, 11.86s/it]"
     ]
    },
    {
     "name": "stdout",
     "output_type": "stream",
     "text": [
      "data_stm is empty (could not compute stm, skipping :  IA3pm_Mar31_30Hz  )\n",
      "\n",
      "   recording:  IA3pm_Apr1_30Hz\n",
      "    computing DFF\n",
      "data_stm is empty (could not compute stm, skipping :  IA3pm_Apr1_30Hz  )\n",
      "    computing DFF\n"
     ]
    },
    {
     "name": "stderr",
     "output_type": "stream",
     "text": [
      "\r",
      " 91%|█████████ | 40/44 [07:29<00:46, 11.73s/it]"
     ]
    },
    {
     "name": "stdout",
     "output_type": "stream",
     "text": [
      "data_stm is empty (could not compute stm, skipping :  IA3pm_Apr1_30Hz  )\n",
      "\n",
      "   recording:  IA3pm_Apr4_30Hz\n",
      "    computing DFF\n",
      "data_stm is empty (could not compute stm, skipping :  IA3pm_Apr4_30Hz  )\n",
      "    computing DFF\n"
     ]
    },
    {
     "name": "stderr",
     "output_type": "stream",
     "text": [
      "\r",
      " 93%|█████████▎| 41/44 [07:41<00:35, 11.75s/it]"
     ]
    },
    {
     "name": "stdout",
     "output_type": "stream",
     "text": [
      "data_stm is empty (could not compute stm, skipping :  IA3pm_Apr4_30Hz  )\n",
      "\n",
      "   recording:  IA3pm_Apr5_30Hz\n",
      "    computing DFF\n",
      "data_stm is empty (could not compute stm, skipping :  IA3pm_Apr5_30Hz  )\n",
      "    computing DFF\n"
     ]
    },
    {
     "name": "stderr",
     "output_type": "stream",
     "text": [
      "\r",
      " 95%|█████████▌| 42/44 [07:55<00:24, 12.42s/it]"
     ]
    },
    {
     "name": "stdout",
     "output_type": "stream",
     "text": [
      "data_stm is empty (could not compute stm, skipping :  IA3pm_Apr5_30Hz  )\n",
      "\n",
      "   recording:  IA3pm_Apr6_30Hz\n",
      "    computing DFF\n",
      "data_stm is empty (could not compute stm, skipping :  IA3pm_Apr6_30Hz  )\n",
      "    computing DFF\n"
     ]
    },
    {
     "name": "stderr",
     "output_type": "stream",
     "text": [
      "\r",
      " 98%|█████████▊| 43/44 [08:07<00:12, 12.26s/it]"
     ]
    },
    {
     "name": "stdout",
     "output_type": "stream",
     "text": [
      "data_stm is empty (could not compute stm, skipping :  IA3pm_Apr6_30Hz  )\n",
      "\n",
      "   recording:  IA3pm_Apr7_30Hz\n",
      "    computing DFF\n",
      "data_stm is empty (could not compute stm, skipping :  IA3pm_Apr7_30Hz  )\n",
      "    computing DFF\n"
     ]
    },
    {
     "name": "stderr",
     "output_type": "stream",
     "text": [
      "100%|██████████| 44/44 [08:19<00:00, 11.36s/it]\n",
      "  0%|          | 0/44 [00:00<?, ?it/s]"
     ]
    },
    {
     "name": "stdout",
     "output_type": "stream",
     "text": [
      "data_stm is empty (could not compute stm, skipping :  IA3pm_Apr7_30Hz  )\n",
      "PROCESSING:  IJ1\n",
      "\n",
      "   recording:  IJ1pm_Feb1_30Hz\n",
      "    computing DFF\n",
      "data_stm is empty (could not compute stm, skipping :  IJ1pm_Feb1_30Hz  )\n",
      "    computing DFF\n"
     ]
    },
    {
     "name": "stderr",
     "output_type": "stream",
     "text": [
      "\r",
      "  2%|▏         | 1/44 [00:10<07:42, 10.75s/it]"
     ]
    },
    {
     "name": "stdout",
     "output_type": "stream",
     "text": [
      "data_stm is empty (could not compute stm, skipping :  IJ1pm_Feb1_30Hz  )\n",
      "\n",
      "   recording:  IJ1pm_Feb2_30Hz\n",
      "    computing DFF\n",
      "data_stm is empty (could not compute stm, skipping :  IJ1pm_Feb2_30Hz  )\n",
      "    computing DFF\n"
     ]
    },
    {
     "name": "stderr",
     "output_type": "stream",
     "text": [
      "\r",
      "  5%|▍         | 2/44 [00:22<07:50, 11.21s/it]"
     ]
    },
    {
     "name": "stdout",
     "output_type": "stream",
     "text": [
      "data_stm is empty (could not compute stm, skipping :  IJ1pm_Feb2_30Hz  )\n",
      "\n",
      "   recording:  IJ1pm_Feb3_30Hz\n",
      "    computing DFF\n",
      "data_stm is empty (could not compute stm, skipping :  IJ1pm_Feb3_30Hz  )\n",
      "    computing DFF\n"
     ]
    },
    {
     "name": "stderr",
     "output_type": "stream",
     "text": [
      "\r",
      "  7%|▋         | 3/44 [00:33<07:46, 11.38s/it]"
     ]
    },
    {
     "name": "stdout",
     "output_type": "stream",
     "text": [
      "data_stm is empty (could not compute stm, skipping :  IJ1pm_Feb3_30Hz  )\n",
      "\n",
      "   recording:  IJ1pm_Feb4_30Hz\n",
      "    computing DFF\n",
      "data_stm is empty (could not compute stm, skipping :  IJ1pm_Feb4_30Hz  )\n",
      "    computing DFF\n"
     ]
    },
    {
     "name": "stderr",
     "output_type": "stream",
     "text": [
      "\r",
      "  9%|▉         | 4/44 [00:46<07:52, 11.81s/it]"
     ]
    },
    {
     "name": "stdout",
     "output_type": "stream",
     "text": [
      "data_stm is empty (could not compute stm, skipping :  IJ1pm_Feb4_30Hz  )\n",
      "\n",
      "   recording:  IJ1pm_Feb5_30Hz\n",
      "    computing DFF\n",
      "data_stm is empty (could not compute stm, skipping :  IJ1pm_Feb5_30Hz  )\n",
      "    computing DFF\n"
     ]
    },
    {
     "name": "stderr",
     "output_type": "stream",
     "text": [
      "\r",
      " 11%|█▏        | 5/44 [00:58<07:39, 11.79s/it]"
     ]
    },
    {
     "name": "stdout",
     "output_type": "stream",
     "text": [
      "data_stm is empty (could not compute stm, skipping :  IJ1pm_Feb5_30Hz  )\n",
      "\n",
      "   recording:  IJ1pm_Feb9_30Hz\n",
      "    computing DFF\n",
      "data_stm is empty (could not compute stm, skipping :  IJ1pm_Feb9_30Hz  )\n",
      "    computing DFF\n"
     ]
    },
    {
     "name": "stderr",
     "output_type": "stream",
     "text": [
      "\r",
      " 14%|█▎        | 6/44 [01:11<07:47, 12.29s/it]"
     ]
    },
    {
     "name": "stdout",
     "output_type": "stream",
     "text": [
      "data_stm is empty (could not compute stm, skipping :  IJ1pm_Feb9_30Hz  )\n",
      "\n",
      "   recording:  IJ1pm_Feb10_30Hz\n",
      "    computing DFF\n",
      "data_stm is empty (could not compute stm, skipping :  IJ1pm_Feb10_30Hz  )\n",
      "    computing DFF\n"
     ]
    },
    {
     "name": "stderr",
     "output_type": "stream",
     "text": [
      "\r",
      " 16%|█▌        | 7/44 [01:24<07:47, 12.63s/it]"
     ]
    },
    {
     "name": "stdout",
     "output_type": "stream",
     "text": [
      "data_stm is empty (could not compute stm, skipping :  IJ1pm_Feb10_30Hz  )\n",
      "\n",
      "   recording:  IJ1pm_Feb11_30Hz\n",
      "    computing DFF\n",
      "data_stm is empty (could not compute stm, skipping :  IJ1pm_Feb11_30Hz  )\n",
      "    computing DFF\n"
     ]
    },
    {
     "name": "stderr",
     "output_type": "stream",
     "text": [
      "\r",
      " 18%|█▊        | 8/44 [01:36<07:28, 12.45s/it]"
     ]
    },
    {
     "name": "stdout",
     "output_type": "stream",
     "text": [
      "data_stm is empty (could not compute stm, skipping :  IJ1pm_Feb11_30Hz  )\n",
      "\n",
      "   recording:  IJ1pm_Feb12_30Hz\n",
      "    computing DFF\n",
      "data_stm is empty (could not compute stm, skipping :  IJ1pm_Feb12_30Hz  )\n",
      "    computing DFF\n"
     ]
    },
    {
     "name": "stderr",
     "output_type": "stream",
     "text": [
      "\r",
      " 20%|██        | 9/44 [01:49<07:21, 12.62s/it]"
     ]
    },
    {
     "name": "stdout",
     "output_type": "stream",
     "text": [
      "data_stm is empty (could not compute stm, skipping :  IJ1pm_Feb12_30Hz  )\n",
      "\n",
      "   recording:  IJ1pm_Feb16_30Hz\n",
      "    computing DFF\n",
      "data_stm is empty (could not compute stm, skipping :  IJ1pm_Feb16_30Hz  )\n",
      "    computing DFF\n"
     ]
    },
    {
     "name": "stderr",
     "output_type": "stream",
     "text": [
      "\r",
      " 23%|██▎       | 10/44 [02:01<07:03, 12.47s/it]"
     ]
    },
    {
     "name": "stdout",
     "output_type": "stream",
     "text": [
      "data_stm is empty (could not compute stm, skipping :  IJ1pm_Feb16_30Hz  )\n",
      "\n",
      "   recording:  IJ1pm_Feb17_30Hz\n",
      "    computing DFF\n",
      "data_stm is empty (could not compute stm, skipping :  IJ1pm_Feb17_30Hz  )\n",
      "    computing DFF\n"
     ]
    },
    {
     "name": "stderr",
     "output_type": "stream",
     "text": [
      "\r",
      " 25%|██▌       | 11/44 [02:13<06:44, 12.26s/it]"
     ]
    },
    {
     "name": "stdout",
     "output_type": "stream",
     "text": [
      "data_stm is empty (could not compute stm, skipping :  IJ1pm_Feb17_30Hz  )\n",
      "\n",
      "   recording:  IJ1pm_Feb18_30Hz\n",
      "    computing DFF\n",
      "data_stm is empty (could not compute stm, skipping :  IJ1pm_Feb18_30Hz  )\n",
      "    computing DFF\n"
     ]
    },
    {
     "name": "stderr",
     "output_type": "stream",
     "text": [
      "\r",
      " 27%|██▋       | 12/44 [02:25<06:31, 12.23s/it]"
     ]
    },
    {
     "name": "stdout",
     "output_type": "stream",
     "text": [
      "data_stm is empty (could not compute stm, skipping :  IJ1pm_Feb18_30Hz  )\n",
      "\n",
      "   recording:  IJ1pm_Feb19_30Hz\n",
      "    computing DFF\n",
      "data_stm is empty (could not compute stm, skipping :  IJ1pm_Feb19_30Hz  )\n",
      "    computing DFF\n"
     ]
    },
    {
     "name": "stderr",
     "output_type": "stream",
     "text": [
      "\r",
      " 30%|██▉       | 13/44 [02:37<06:14, 12.09s/it]"
     ]
    },
    {
     "name": "stdout",
     "output_type": "stream",
     "text": [
      "data_stm is empty (could not compute stm, skipping :  IJ1pm_Feb19_30Hz  )\n",
      "\n",
      "   recording:  IJ1pm_Feb22_30Hz\n",
      "    computing DFF\n",
      "data_stm is empty (could not compute stm, skipping :  IJ1pm_Feb22_30Hz  )\n",
      "    computing DFF\n"
     ]
    },
    {
     "name": "stderr",
     "output_type": "stream",
     "text": [
      "\r",
      " 32%|███▏      | 14/44 [02:49<06:02, 12.07s/it]"
     ]
    },
    {
     "name": "stdout",
     "output_type": "stream",
     "text": [
      "data_stm is empty (could not compute stm, skipping :  IJ1pm_Feb22_30Hz  )\n",
      "\n",
      "   recording:  IJ1pm_Feb23_30Hz\n",
      "    computing DFF\n",
      "data_stm is empty (could not compute stm, skipping :  IJ1pm_Feb23_30Hz  )\n",
      "    computing DFF\n"
     ]
    },
    {
     "name": "stderr",
     "output_type": "stream",
     "text": [
      "\r",
      " 34%|███▍      | 15/44 [03:02<05:53, 12.19s/it]"
     ]
    },
    {
     "name": "stdout",
     "output_type": "stream",
     "text": [
      "data_stm is empty (could not compute stm, skipping :  IJ1pm_Feb23_30Hz  )\n",
      "\n",
      "   recording:  IJ1pm_Feb24_30Hz\n",
      " ... session has no events  IJ1pm_Feb24_30Hz\n",
      "\n",
      "   recording:  IJ1pm_Feb25_30Hz\n",
      " ... session has no events  IJ1pm_Feb25_30Hz\n",
      "\n",
      "   recording:  IJ1pm_Feb26_30Hz\n",
      "    computing DFF\n",
      "data_stm is empty (could not compute stm, skipping :  IJ1pm_Feb26_30Hz  )\n",
      "    computing DFF\n"
     ]
    },
    {
     "name": "stderr",
     "output_type": "stream",
     "text": [
      "\r",
      " 41%|████      | 18/44 [03:13<03:14,  7.48s/it]"
     ]
    },
    {
     "name": "stdout",
     "output_type": "stream",
     "text": [
      "data_stm is empty (could not compute stm, skipping :  IJ1pm_Feb26_30Hz  )\n",
      "\n",
      "   recording:  IJ1pm_Feb29_30Hz\n",
      "    computing DFF\n",
      "data_stm is empty (could not compute stm, skipping :  IJ1pm_Feb29_30Hz  )\n",
      "    computing DFF\n"
     ]
    },
    {
     "name": "stderr",
     "output_type": "stream",
     "text": [
      "\r",
      " 43%|████▎     | 19/44 [03:25<03:29,  8.36s/it]"
     ]
    },
    {
     "name": "stdout",
     "output_type": "stream",
     "text": [
      "data_stm is empty (could not compute stm, skipping :  IJ1pm_Feb29_30Hz  )\n",
      "\n",
      "   recording:  IJ1pm_Mar1_30Hz\n",
      "    computing DFF\n",
      "data_stm is empty (could not compute stm, skipping :  IJ1pm_Mar1_30Hz  )\n",
      "    computing DFF\n"
     ]
    },
    {
     "name": "stderr",
     "output_type": "stream",
     "text": [
      "\r",
      " 45%|████▌     | 20/44 [03:36<03:38,  9.11s/it]"
     ]
    },
    {
     "name": "stdout",
     "output_type": "stream",
     "text": [
      "data_stm is empty (could not compute stm, skipping :  IJ1pm_Mar1_30Hz  )\n",
      "\n",
      "   recording:  IJ1pm_Mar2_30Hz\n",
      "    computing DFF\n",
      "data_stm is empty (could not compute stm, skipping :  IJ1pm_Mar2_30Hz  )\n",
      "    computing DFF\n"
     ]
    },
    {
     "name": "stderr",
     "output_type": "stream",
     "text": [
      "\r",
      " 48%|████▊     | 21/44 [03:48<03:43,  9.70s/it]"
     ]
    },
    {
     "name": "stdout",
     "output_type": "stream",
     "text": [
      "data_stm is empty (could not compute stm, skipping :  IJ1pm_Mar2_30Hz  )\n",
      "\n",
      "   recording:  IJ1pm_Mar3_30Hz\n",
      "    computing DFF\n",
      "data_stm is empty (could not compute stm, skipping :  IJ1pm_Mar3_30Hz  )\n",
      "    computing DFF\n"
     ]
    },
    {
     "name": "stderr",
     "output_type": "stream",
     "text": [
      "\r",
      " 50%|█████     | 22/44 [03:59<03:43, 10.17s/it]"
     ]
    },
    {
     "name": "stdout",
     "output_type": "stream",
     "text": [
      "data_stm is empty (could not compute stm, skipping :  IJ1pm_Mar3_30Hz  )\n",
      "\n",
      "   recording:  IJ1am_Mar7_30Hz\n",
      "    computing DFF\n",
      "data_stm is empty (could not compute stm, skipping :  IJ1am_Mar7_30Hz  )\n",
      "    computing DFF\n"
     ]
    },
    {
     "name": "stderr",
     "output_type": "stream",
     "text": [
      "\r",
      " 52%|█████▏    | 23/44 [04:12<03:45, 10.74s/it]"
     ]
    },
    {
     "name": "stdout",
     "output_type": "stream",
     "text": [
      "data_stm is empty (could not compute stm, skipping :  IJ1am_Mar7_30Hz  )\n",
      "\n",
      "   recording:  IJ1pm_Mar8_30Hz\n",
      "    computing DFF\n",
      "data_stm is empty (could not compute stm, skipping :  IJ1pm_Mar8_30Hz  )\n",
      "    computing DFF\n"
     ]
    },
    {
     "name": "stderr",
     "output_type": "stream",
     "text": [
      "\r",
      " 55%|█████▍    | 24/44 [04:23<03:39, 11.00s/it]"
     ]
    },
    {
     "name": "stdout",
     "output_type": "stream",
     "text": [
      "data_stm is empty (could not compute stm, skipping :  IJ1pm_Mar8_30Hz  )\n",
      "\n",
      "   recording:  IJ1am_Mar9_30Hz\n",
      "    computing DFF\n",
      "data_stm is empty (could not compute stm, skipping :  IJ1am_Mar9_30Hz  )\n",
      "    computing DFF\n"
     ]
    },
    {
     "name": "stderr",
     "output_type": "stream",
     "text": [
      "\r",
      " 57%|█████▋    | 25/44 [04:36<03:37, 11.42s/it]"
     ]
    },
    {
     "name": "stdout",
     "output_type": "stream",
     "text": [
      "data_stm is empty (could not compute stm, skipping :  IJ1am_Mar9_30Hz  )\n",
      "\n",
      "   recording:  IJ1am_Mar10_30Hz\n",
      "    computing DFF\n",
      "data_stm is empty (could not compute stm, skipping :  IJ1am_Mar10_30Hz  )\n",
      "    computing DFF\n"
     ]
    },
    {
     "name": "stderr",
     "output_type": "stream",
     "text": [
      "\r",
      " 59%|█████▉    | 26/44 [04:47<03:26, 11.45s/it]"
     ]
    },
    {
     "name": "stdout",
     "output_type": "stream",
     "text": [
      "data_stm is empty (could not compute stm, skipping :  IJ1am_Mar10_30Hz  )\n",
      "\n",
      "   recording:  IJ1am_Mar11_30Hz\n",
      "    computing DFF\n",
      "data_stm is empty (could not compute stm, skipping :  IJ1am_Mar11_30Hz  )\n",
      "    computing DFF\n"
     ]
    },
    {
     "name": "stderr",
     "output_type": "stream",
     "text": [
      "\r",
      " 61%|██████▏   | 27/44 [04:59<03:16, 11.53s/it]"
     ]
    },
    {
     "name": "stdout",
     "output_type": "stream",
     "text": [
      "data_stm is empty (could not compute stm, skipping :  IJ1am_Mar11_30Hz  )\n",
      "\n",
      "   recording:  IJ1pm_Mar14_30Hz\n",
      "    computing DFF\n",
      "data_stm is empty (could not compute stm, skipping :  IJ1pm_Mar14_30Hz  )\n",
      "    computing DFF\n"
     ]
    },
    {
     "name": "stderr",
     "output_type": "stream",
     "text": [
      "\r",
      " 64%|██████▎   | 28/44 [05:11<03:04, 11.56s/it]"
     ]
    },
    {
     "name": "stdout",
     "output_type": "stream",
     "text": [
      "data_stm is empty (could not compute stm, skipping :  IJ1pm_Mar14_30Hz  )\n",
      "\n",
      "   recording:  IJ1am_Mar15_30Hz\n",
      "    computing DFF\n",
      "data_stm is empty (could not compute stm, skipping :  IJ1am_Mar15_30Hz  )\n",
      "    computing DFF\n"
     ]
    },
    {
     "name": "stderr",
     "output_type": "stream",
     "text": [
      "\r",
      " 66%|██████▌   | 29/44 [05:23<02:56, 11.78s/it]"
     ]
    },
    {
     "name": "stdout",
     "output_type": "stream",
     "text": [
      "data_stm is empty (could not compute stm, skipping :  IJ1am_Mar15_30Hz  )\n",
      "\n",
      "   recording:  IJ1pm_Mar16_30Hz\n",
      "    computing DFF\n",
      "data_stm is empty (could not compute stm, skipping :  IJ1pm_Mar16_30Hz  )\n",
      "    computing DFF\n"
     ]
    },
    {
     "name": "stderr",
     "output_type": "stream",
     "text": [
      "\r",
      " 68%|██████▊   | 30/44 [05:35<02:47, 11.95s/it]"
     ]
    },
    {
     "name": "stdout",
     "output_type": "stream",
     "text": [
      "data_stm is empty (could not compute stm, skipping :  IJ1pm_Mar16_30Hz  )\n",
      "\n",
      "   recording:  IJ1pm_Mar17_30Hz\n",
      "    computing DFF\n",
      "data_stm is empty (could not compute stm, skipping :  IJ1pm_Mar17_30Hz  )\n",
      "    computing DFF\n"
     ]
    },
    {
     "name": "stderr",
     "output_type": "stream",
     "text": [
      "\r",
      " 70%|███████   | 31/44 [05:48<02:36, 12.07s/it]"
     ]
    },
    {
     "name": "stdout",
     "output_type": "stream",
     "text": [
      "data_stm is empty (could not compute stm, skipping :  IJ1pm_Mar17_30Hz  )\n",
      "\n",
      "   recording:  IJ1pm_Mar18_30Hz\n",
      "    computing DFF\n",
      "data_stm is empty (could not compute stm, skipping :  IJ1pm_Mar18_30Hz  )\n",
      "    computing DFF\n"
     ]
    },
    {
     "name": "stderr",
     "output_type": "stream",
     "text": [
      "\r",
      " 73%|███████▎  | 32/44 [06:09<02:59, 14.94s/it]"
     ]
    },
    {
     "name": "stdout",
     "output_type": "stream",
     "text": [
      "data_stm is empty (could not compute stm, skipping :  IJ1pm_Mar18_30Hz  )\n",
      "\n",
      "   recording:  IJ1pm_Mar21_30Hz\n",
      "    computing DFF\n",
      "data_stm is empty (could not compute stm, skipping :  IJ1pm_Mar21_30Hz  )\n",
      "    computing DFF\n"
     ]
    },
    {
     "name": "stderr",
     "output_type": "stream",
     "text": [
      "\r",
      " 75%|███████▌  | 33/44 [06:23<02:39, 14.50s/it]"
     ]
    },
    {
     "name": "stdout",
     "output_type": "stream",
     "text": [
      "data_stm is empty (could not compute stm, skipping :  IJ1pm_Mar21_30Hz  )\n",
      "\n",
      "   recording:  IJ1pm_Mar22_30Hz\n",
      "    computing DFF\n",
      "data_stm is empty (could not compute stm, skipping :  IJ1pm_Mar22_30Hz  )\n",
      "    computing DFF\n"
     ]
    },
    {
     "name": "stderr",
     "output_type": "stream",
     "text": [
      "\r",
      " 77%|███████▋  | 34/44 [06:35<02:17, 13.72s/it]"
     ]
    },
    {
     "name": "stdout",
     "output_type": "stream",
     "text": [
      "data_stm is empty (could not compute stm, skipping :  IJ1pm_Mar22_30Hz  )\n",
      "\n",
      "   recording:  IJ1pm_Mar23_30Hz\n",
      "    computing DFF\n",
      "data_stm is empty (could not compute stm, skipping :  IJ1pm_Mar23_30Hz  )\n",
      "    computing DFF\n"
     ]
    },
    {
     "name": "stderr",
     "output_type": "stream",
     "text": [
      "\r",
      " 80%|███████▉  | 35/44 [06:47<01:59, 13.32s/it]"
     ]
    },
    {
     "name": "stdout",
     "output_type": "stream",
     "text": [
      "data_stm is empty (could not compute stm, skipping :  IJ1pm_Mar23_30Hz  )\n",
      "\n",
      "   recording:  IJ1pm_Mar24_30Hz\n",
      "    computing DFF\n",
      "data_stm is empty (could not compute stm, skipping :  IJ1pm_Mar24_30Hz  )\n",
      "    computing DFF\n"
     ]
    },
    {
     "name": "stderr",
     "output_type": "stream",
     "text": [
      "\r",
      " 82%|████████▏ | 36/44 [06:59<01:42, 12.86s/it]"
     ]
    },
    {
     "name": "stdout",
     "output_type": "stream",
     "text": [
      "data_stm is empty (could not compute stm, skipping :  IJ1pm_Mar24_30Hz  )\n",
      "\n",
      "   recording:  IJ1pm_Mar29_30Hz\n",
      "    computing DFF\n",
      "data_stm is empty (could not compute stm, skipping :  IJ1pm_Mar29_30Hz  )\n",
      "    computing DFF\n"
     ]
    },
    {
     "name": "stderr",
     "output_type": "stream",
     "text": [
      "\r",
      " 84%|████████▍ | 37/44 [07:11<01:28, 12.63s/it]"
     ]
    },
    {
     "name": "stdout",
     "output_type": "stream",
     "text": [
      "data_stm is empty (could not compute stm, skipping :  IJ1pm_Mar29_30Hz  )\n",
      "\n",
      "   recording:  IJ1pm_Mar30_30Hz\n",
      "    computing DFF\n",
      "data_stm is empty (could not compute stm, skipping :  IJ1pm_Mar30_30Hz  )\n",
      "    computing DFF\n"
     ]
    },
    {
     "name": "stderr",
     "output_type": "stream",
     "text": [
      "\r",
      " 86%|████████▋ | 38/44 [07:22<01:13, 12.33s/it]"
     ]
    },
    {
     "name": "stdout",
     "output_type": "stream",
     "text": [
      "data_stm is empty (could not compute stm, skipping :  IJ1pm_Mar30_30Hz  )\n",
      "\n",
      "   recording:  IJ1pm_Mar31_30Hz\n",
      "    computing DFF\n",
      "data_stm is empty (could not compute stm, skipping :  IJ1pm_Mar31_30Hz  )\n",
      "    computing DFF\n"
     ]
    },
    {
     "name": "stderr",
     "output_type": "stream",
     "text": [
      "\r",
      " 89%|████████▊ | 39/44 [07:34<01:00, 12.17s/it]"
     ]
    },
    {
     "name": "stdout",
     "output_type": "stream",
     "text": [
      "data_stm is empty (could not compute stm, skipping :  IJ1pm_Mar31_30Hz  )\n",
      "\n",
      "   recording:  IJ1pm_Apr1_30Hz\n",
      "    computing DFF\n",
      "data_stm is empty (could not compute stm, skipping :  IJ1pm_Apr1_30Hz  )\n",
      "    computing DFF\n"
     ]
    },
    {
     "name": "stderr",
     "output_type": "stream",
     "text": [
      "\r",
      " 91%|█████████ | 40/44 [07:46<00:48, 12.04s/it]"
     ]
    },
    {
     "name": "stdout",
     "output_type": "stream",
     "text": [
      "data_stm is empty (could not compute stm, skipping :  IJ1pm_Apr1_30Hz  )\n",
      "\n",
      "   recording:  IJ1pm_Apr4_30Hz\n",
      "    computing DFF\n",
      "data_stm is empty (could not compute stm, skipping :  IJ1pm_Apr4_30Hz  )\n",
      "    computing DFF\n"
     ]
    },
    {
     "name": "stderr",
     "output_type": "stream",
     "text": [
      "\r",
      " 93%|█████████▎| 41/44 [07:58<00:35, 11.98s/it]"
     ]
    },
    {
     "name": "stdout",
     "output_type": "stream",
     "text": [
      "data_stm is empty (could not compute stm, skipping :  IJ1pm_Apr4_30Hz  )\n",
      "\n",
      "   recording:  IJ1pm_Apr5_30Hz\n",
      "    computing DFF\n",
      "data_stm is empty (could not compute stm, skipping :  IJ1pm_Apr5_30Hz  )\n",
      "    computing DFF\n"
     ]
    },
    {
     "name": "stderr",
     "output_type": "stream",
     "text": [
      "\r",
      " 95%|█████████▌| 42/44 [08:08<00:23, 11.56s/it]"
     ]
    },
    {
     "name": "stdout",
     "output_type": "stream",
     "text": [
      "data_stm is empty (could not compute stm, skipping :  IJ1pm_Apr5_30Hz  )\n",
      "\n",
      "   recording:  IJ1pm_Apr6_30Hz\n",
      "    computing DFF\n",
      "data_stm is empty (could not compute stm, skipping :  IJ1pm_Apr6_30Hz  )\n",
      "    computing DFF\n"
     ]
    },
    {
     "name": "stderr",
     "output_type": "stream",
     "text": [
      "\r",
      " 98%|█████████▊| 43/44 [08:20<00:11, 11.55s/it]"
     ]
    },
    {
     "name": "stdout",
     "output_type": "stream",
     "text": [
      "data_stm is empty (could not compute stm, skipping :  IJ1pm_Apr6_30Hz  )\n",
      "\n",
      "   recording:  IJ1pm_Apr7_30Hz\n",
      "    computing DFF\n",
      "Imaging rates between aligned and session are incorrect, exiting:  29.32955815846582\n",
      "data_stm is empty (could not compute stm, skipping :  IJ1pm_Apr7_30Hz  )\n",
      "    computing DFF\n"
     ]
    },
    {
     "name": "stderr",
     "output_type": "stream",
     "text": [
      "100%|██████████| 44/44 [08:31<00:00, 11.63s/it]\n",
      "  0%|          | 0/44 [00:00<?, ?it/s]"
     ]
    },
    {
     "name": "stdout",
     "output_type": "stream",
     "text": [
      "Imaging rates between aligned and session are incorrect, exiting:  29.32955815846582\n",
      "data_stm is empty (could not compute stm, skipping :  IJ1pm_Apr7_30Hz  )\n",
      "PROCESSING:  IJ2\n",
      "\n",
      "   recording:  IJ2pm_Feb1_30Hz\n",
      "    computing DFF\n",
      "data_stm is empty (could not compute stm, skipping :  IJ2pm_Feb1_30Hz  )\n",
      "    computing DFF\n"
     ]
    },
    {
     "name": "stderr",
     "output_type": "stream",
     "text": [
      "\r",
      "  2%|▏         | 1/44 [00:10<07:41, 10.74s/it]"
     ]
    },
    {
     "name": "stdout",
     "output_type": "stream",
     "text": [
      "data_stm is empty (could not compute stm, skipping :  IJ2pm_Feb1_30Hz  )\n",
      "\n",
      "   recording:  IJ2pm_Feb2_30Hz\n",
      "    computing DFF\n",
      "data_stm is empty (could not compute stm, skipping :  IJ2pm_Feb2_30Hz  )\n",
      "    computing DFF\n"
     ]
    },
    {
     "name": "stderr",
     "output_type": "stream",
     "text": [
      "\r",
      "  5%|▍         | 2/44 [00:23<08:09, 11.64s/it]"
     ]
    },
    {
     "name": "stdout",
     "output_type": "stream",
     "text": [
      "data_stm is empty (could not compute stm, skipping :  IJ2pm_Feb2_30Hz  )\n",
      "\n",
      "   recording:  IJ2pm_Feb3_30Hz\n",
      "    computing DFF\n",
      "data_stm is empty (could not compute stm, skipping :  IJ2pm_Feb3_30Hz  )\n",
      "    computing DFF\n"
     ]
    },
    {
     "name": "stderr",
     "output_type": "stream",
     "text": [
      "\r",
      "  7%|▋         | 3/44 [00:35<08:06, 11.88s/it]"
     ]
    },
    {
     "name": "stdout",
     "output_type": "stream",
     "text": [
      "data_stm is empty (could not compute stm, skipping :  IJ2pm_Feb3_30Hz  )\n",
      "\n",
      "   recording:  IJ2pm_Feb4_30Hz\n",
      "    computing DFF\n",
      "data_stm is empty (could not compute stm, skipping :  IJ2pm_Feb4_30Hz  )\n",
      "    computing DFF\n"
     ]
    },
    {
     "name": "stderr",
     "output_type": "stream",
     "text": [
      "\r",
      "  9%|▉         | 4/44 [00:46<07:50, 11.76s/it]"
     ]
    },
    {
     "name": "stdout",
     "output_type": "stream",
     "text": [
      "data_stm is empty (could not compute stm, skipping :  IJ2pm_Feb4_30Hz  )\n",
      "\n",
      "   recording:  IJ2pm_Feb5_30Hz\n",
      "    computing DFF\n",
      "data_stm is empty (could not compute stm, skipping :  IJ2pm_Feb5_30Hz  )\n",
      "    computing DFF\n"
     ]
    },
    {
     "name": "stderr",
     "output_type": "stream",
     "text": [
      "\r",
      " 11%|█▏        | 5/44 [00:59<07:50, 12.07s/it]"
     ]
    },
    {
     "name": "stdout",
     "output_type": "stream",
     "text": [
      "data_stm is empty (could not compute stm, skipping :  IJ2pm_Feb5_30Hz  )\n",
      "\n",
      "   recording:  IJ2pm_Feb9_30Hz\n",
      "    computing DFF\n",
      "Imaging rates between aligned and session are incorrect, exiting:  29.86750178037435\n",
      "data_stm is empty (could not compute stm, skipping :  IJ2pm_Feb9_30Hz  )\n",
      "    computing DFF\n"
     ]
    },
    {
     "name": "stderr",
     "output_type": "stream",
     "text": [
      "\r",
      " 14%|█▎        | 6/44 [01:09<07:20, 11.58s/it]"
     ]
    },
    {
     "name": "stdout",
     "output_type": "stream",
     "text": [
      "Imaging rates between aligned and session are incorrect, exiting:  29.86750178037435\n",
      "data_stm is empty (could not compute stm, skipping :  IJ2pm_Feb9_30Hz  )\n",
      "\n",
      "   recording:  IJ2pm_Feb10_30Hz\n",
      "    computing DFF\n",
      "data_stm is empty (could not compute stm, skipping :  IJ2pm_Feb10_30Hz  )\n",
      "    computing DFF\n"
     ]
    },
    {
     "name": "stderr",
     "output_type": "stream",
     "text": [
      "\r",
      " 16%|█▌        | 7/44 [01:21<07:01, 11.39s/it]"
     ]
    },
    {
     "name": "stdout",
     "output_type": "stream",
     "text": [
      "data_stm is empty (could not compute stm, skipping :  IJ2pm_Feb10_30Hz  )\n",
      "\n",
      "   recording:  IJ2pm_Feb11_30Hz\n",
      "    computing DFF\n",
      "data_stm is empty (could not compute stm, skipping :  IJ2pm_Feb11_30Hz  )\n",
      "    computing DFF\n"
     ]
    },
    {
     "name": "stderr",
     "output_type": "stream",
     "text": [
      "\r",
      " 18%|█▊        | 8/44 [01:31<06:41, 11.15s/it]"
     ]
    },
    {
     "name": "stdout",
     "output_type": "stream",
     "text": [
      "data_stm is empty (could not compute stm, skipping :  IJ2pm_Feb11_30Hz  )\n",
      "\n",
      "   recording:  IJ2pm_Feb12_30Hz\n",
      "    computing DFF\n",
      "data_stm is empty (could not compute stm, skipping :  IJ2pm_Feb12_30Hz  )\n",
      "    computing DFF\n"
     ]
    },
    {
     "name": "stderr",
     "output_type": "stream",
     "text": [
      "\r",
      " 20%|██        | 9/44 [01:44<06:45, 11.59s/it]"
     ]
    },
    {
     "name": "stdout",
     "output_type": "stream",
     "text": [
      "data_stm is empty (could not compute stm, skipping :  IJ2pm_Feb12_30Hz  )\n",
      "\n",
      "   recording:  IJ2pm_Feb15_30Hz\n",
      "    computing DFF\n",
      "Imaging rates between aligned and session are incorrect, exiting:  29.88114874250808\n",
      "data_stm is empty (could not compute stm, skipping :  IJ2pm_Feb15_30Hz  )\n",
      "    computing DFF\n"
     ]
    },
    {
     "name": "stderr",
     "output_type": "stream",
     "text": [
      "\r",
      " 23%|██▎       | 10/44 [01:57<06:56, 12.24s/it]"
     ]
    },
    {
     "name": "stdout",
     "output_type": "stream",
     "text": [
      "Imaging rates between aligned and session are incorrect, exiting:  29.88114874250808\n",
      "data_stm is empty (could not compute stm, skipping :  IJ2pm_Feb15_30Hz  )\n",
      "\n",
      "   recording:  IJ2pm_Feb16_30Hz\n",
      "    computing DFF\n",
      "data_stm is empty (could not compute stm, skipping :  IJ2pm_Feb16_30Hz  )\n",
      "    computing DFF\n"
     ]
    },
    {
     "name": "stderr",
     "output_type": "stream",
     "text": [
      "\r",
      " 25%|██▌       | 11/44 [02:12<07:07, 12.95s/it]"
     ]
    },
    {
     "name": "stdout",
     "output_type": "stream",
     "text": [
      "data_stm is empty (could not compute stm, skipping :  IJ2pm_Feb16_30Hz  )\n",
      "\n",
      "   recording:  IJ2pm_Feb17_30Hz\n",
      "    computing DFF\n",
      "data_stm is empty (could not compute stm, skipping :  IJ2pm_Feb17_30Hz  )\n",
      "    computing DFF\n"
     ]
    },
    {
     "name": "stderr",
     "output_type": "stream",
     "text": [
      "\r",
      " 27%|██▋       | 12/44 [02:23<06:38, 12.46s/it]"
     ]
    },
    {
     "name": "stdout",
     "output_type": "stream",
     "text": [
      "data_stm is empty (could not compute stm, skipping :  IJ2pm_Feb17_30Hz  )\n",
      "\n",
      "   recording:  IJ2pm_Feb18_30Hz\n",
      "    computing DFF\n",
      "data_stm is empty (could not compute stm, skipping :  IJ2pm_Feb18_30Hz  )\n",
      "    computing DFF\n"
     ]
    },
    {
     "name": "stderr",
     "output_type": "stream",
     "text": [
      "\r",
      " 30%|██▉       | 13/44 [02:35<06:16, 12.15s/it]"
     ]
    },
    {
     "name": "stdout",
     "output_type": "stream",
     "text": [
      "data_stm is empty (could not compute stm, skipping :  IJ2pm_Feb18_30Hz  )\n",
      "\n",
      "   recording:  IJ2pm_Feb22_30Hz\n",
      "    computing DFF\n",
      "data_stm is empty (could not compute stm, skipping :  IJ2pm_Feb22_30Hz  )\n",
      "    computing DFF\n"
     ]
    },
    {
     "name": "stderr",
     "output_type": "stream",
     "text": [
      "\r",
      " 32%|███▏      | 14/44 [02:47<06:04, 12.15s/it]"
     ]
    },
    {
     "name": "stdout",
     "output_type": "stream",
     "text": [
      "data_stm is empty (could not compute stm, skipping :  IJ2pm_Feb22_30Hz  )\n",
      "\n",
      "   recording:  IJ2pm_Feb23_30Hz\n",
      "    computing DFF\n",
      "Imaging rates between aligned and session are incorrect, exiting:  29.986168441059675\n",
      "data_stm is empty (could not compute stm, skipping :  IJ2pm_Feb23_30Hz  )\n",
      "    computing DFF\n"
     ]
    },
    {
     "name": "stderr",
     "output_type": "stream",
     "text": [
      "\r",
      " 34%|███▍      | 15/44 [02:58<05:46, 11.96s/it]"
     ]
    },
    {
     "name": "stdout",
     "output_type": "stream",
     "text": [
      "Imaging rates between aligned and session are incorrect, exiting:  29.986168441059675\n",
      "data_stm is empty (could not compute stm, skipping :  IJ2pm_Feb23_30Hz  )\n",
      "\n",
      "   recording:  IJ2pm_Feb24_30Hz\n",
      "locs 44 thrshold missing IJ2pm_Feb24_30Hz\n",
      " ... session has no events  IJ2pm_Feb24_30Hz\n",
      "\n",
      "   recording:  IJ2pm_Feb25_30Hz\n",
      "locs 44 thrshold missing IJ2pm_Feb25_30Hz\n",
      " ... session has no events  IJ2pm_Feb25_30Hz\n",
      "\n",
      "   recording:  IJ2pm_Feb26_30Hz\n",
      "    computing DFF\n",
      "data_stm is empty (could not compute stm, skipping :  IJ2pm_Feb26_30Hz  )\n",
      "    computing DFF\n"
     ]
    },
    {
     "name": "stderr",
     "output_type": "stream",
     "text": [
      "\r",
      " 41%|████      | 18/44 [03:10<03:12,  7.39s/it]"
     ]
    },
    {
     "name": "stdout",
     "output_type": "stream",
     "text": [
      "data_stm is empty (could not compute stm, skipping :  IJ2pm_Feb26_30Hz  )\n",
      "\n",
      "   recording:  IJ2pm_Feb29_30Hz\n",
      "    computing DFF\n",
      "data_stm is empty (could not compute stm, skipping :  IJ2pm_Feb29_30Hz  )\n",
      "    computing DFF\n"
     ]
    },
    {
     "name": "stderr",
     "output_type": "stream",
     "text": [
      "\r",
      " 43%|████▎     | 19/44 [03:22<03:27,  8.32s/it]"
     ]
    },
    {
     "name": "stdout",
     "output_type": "stream",
     "text": [
      "data_stm is empty (could not compute stm, skipping :  IJ2pm_Feb29_30Hz  )\n",
      "\n",
      "   recording:  IJ2pm_Mar1_30Hz\n",
      "    computing DFF\n",
      "data_stm is empty (could not compute stm, skipping :  IJ2pm_Mar1_30Hz  )\n",
      "    computing DFF\n"
     ]
    },
    {
     "name": "stderr",
     "output_type": "stream",
     "text": [
      "\r",
      " 45%|████▌     | 20/44 [03:37<03:58,  9.92s/it]"
     ]
    },
    {
     "name": "stdout",
     "output_type": "stream",
     "text": [
      "data_stm is empty (could not compute stm, skipping :  IJ2pm_Mar1_30Hz  )\n",
      "\n",
      "   recording:  IJ2pm_Mar2_30Hz\n",
      "    computing DFF\n",
      "data_stm is empty (could not compute stm, skipping :  IJ2pm_Mar2_30Hz  )\n",
      "    computing DFF\n"
     ]
    },
    {
     "name": "stderr",
     "output_type": "stream",
     "text": [
      "\r",
      " 48%|████▊     | 21/44 [03:49<04:02, 10.53s/it]"
     ]
    },
    {
     "name": "stdout",
     "output_type": "stream",
     "text": [
      "data_stm is empty (could not compute stm, skipping :  IJ2pm_Mar2_30Hz  )\n",
      "\n",
      "   recording:  IJ2pm_Mar3_30Hz\n",
      "    computing DFF\n",
      "data_stm is empty (could not compute stm, skipping :  IJ2pm_Mar3_30Hz  )\n",
      "    computing DFF\n"
     ]
    },
    {
     "name": "stderr",
     "output_type": "stream",
     "text": [
      "\r",
      " 50%|█████     | 22/44 [04:01<03:58, 10.86s/it]"
     ]
    },
    {
     "name": "stdout",
     "output_type": "stream",
     "text": [
      "data_stm is empty (could not compute stm, skipping :  IJ2pm_Mar3_30Hz  )\n",
      "\n",
      "   recording:  IJ2am_Mar7_30Hz\n",
      "    computing DFF\n",
      "data_stm is empty (could not compute stm, skipping :  IJ2am_Mar7_30Hz  )\n",
      "    computing DFF\n"
     ]
    },
    {
     "name": "stderr",
     "output_type": "stream",
     "text": [
      "\r",
      " 52%|█████▏    | 23/44 [04:14<04:01, 11.50s/it]"
     ]
    },
    {
     "name": "stdout",
     "output_type": "stream",
     "text": [
      "data_stm is empty (could not compute stm, skipping :  IJ2am_Mar7_30Hz  )\n",
      "\n",
      "   recording:  IJ2pm_Mar8_30Hz\n",
      "    computing DFF\n",
      "data_stm is empty (could not compute stm, skipping :  IJ2pm_Mar8_30Hz  )\n",
      "    computing DFF\n"
     ]
    },
    {
     "name": "stderr",
     "output_type": "stream",
     "text": [
      "\r",
      " 55%|█████▍    | 24/44 [04:26<03:50, 11.52s/it]"
     ]
    },
    {
     "name": "stdout",
     "output_type": "stream",
     "text": [
      "data_stm is empty (could not compute stm, skipping :  IJ2pm_Mar8_30Hz  )\n",
      "\n",
      "   recording:  IJ2am_Mar9_30Hz\n",
      "    computing DFF\n",
      "data_stm is empty (could not compute stm, skipping :  IJ2am_Mar9_30Hz  )\n",
      "    computing DFF\n"
     ]
    },
    {
     "name": "stderr",
     "output_type": "stream",
     "text": [
      "\r",
      " 57%|█████▋    | 25/44 [04:39<03:49, 12.10s/it]"
     ]
    },
    {
     "name": "stdout",
     "output_type": "stream",
     "text": [
      "data_stm is empty (could not compute stm, skipping :  IJ2am_Mar9_30Hz  )\n",
      "\n",
      "   recording:  IJ2am_Mar10_30Hz\n",
      "    computing DFF\n",
      "data_stm is empty (could not compute stm, skipping :  IJ2am_Mar10_30Hz  )\n",
      "    computing DFF\n"
     ]
    },
    {
     "name": "stderr",
     "output_type": "stream",
     "text": [
      "\r",
      " 59%|█████▉    | 26/44 [04:51<03:35, 11.98s/it]"
     ]
    },
    {
     "name": "stdout",
     "output_type": "stream",
     "text": [
      "data_stm is empty (could not compute stm, skipping :  IJ2am_Mar10_30Hz  )\n",
      "\n",
      "   recording:  IJ2am_Mar11_30Hz\n",
      "    computing DFF\n",
      "data_stm is empty (could not compute stm, skipping :  IJ2am_Mar11_30Hz  )\n",
      "    computing DFF\n"
     ]
    },
    {
     "name": "stderr",
     "output_type": "stream",
     "text": [
      "\r",
      " 61%|██████▏   | 27/44 [05:03<03:24, 12.03s/it]"
     ]
    },
    {
     "name": "stdout",
     "output_type": "stream",
     "text": [
      "data_stm is empty (could not compute stm, skipping :  IJ2am_Mar11_30Hz  )\n",
      "\n",
      "   recording:  IJ2pm_Mar14_30Hz\n",
      "    computing DFF\n",
      "data_stm is empty (could not compute stm, skipping :  IJ2pm_Mar14_30Hz  )\n",
      "    computing DFF\n"
     ]
    },
    {
     "name": "stderr",
     "output_type": "stream",
     "text": [
      "\r",
      " 64%|██████▎   | 28/44 [05:18<03:23, 12.74s/it]"
     ]
    },
    {
     "name": "stdout",
     "output_type": "stream",
     "text": [
      "data_stm is empty (could not compute stm, skipping :  IJ2pm_Mar14_30Hz  )\n",
      "\n",
      "   recording:  IJ2am_Mar15_30Hz\n",
      "    computing DFF\n",
      "data_stm is empty (could not compute stm, skipping :  IJ2am_Mar15_30Hz  )\n",
      "    computing DFF\n"
     ]
    },
    {
     "name": "stderr",
     "output_type": "stream",
     "text": [
      "\r",
      " 66%|██████▌   | 29/44 [05:29<03:05, 12.35s/it]"
     ]
    },
    {
     "name": "stdout",
     "output_type": "stream",
     "text": [
      "data_stm is empty (could not compute stm, skipping :  IJ2am_Mar15_30Hz  )\n",
      "\n",
      "   recording:  IJ2pm_Mar16_30Hz\n",
      "    computing DFF\n",
      "data_stm is empty (could not compute stm, skipping :  IJ2pm_Mar16_30Hz  )\n",
      "    computing DFF\n"
     ]
    },
    {
     "name": "stderr",
     "output_type": "stream",
     "text": [
      "\r",
      " 68%|██████▊   | 30/44 [05:43<02:58, 12.78s/it]"
     ]
    },
    {
     "name": "stdout",
     "output_type": "stream",
     "text": [
      "data_stm is empty (could not compute stm, skipping :  IJ2pm_Mar16_30Hz  )\n",
      "\n",
      "   recording:  IJ2pm_Mar17_30Hz\n",
      "    computing DFF\n",
      "data_stm is empty (could not compute stm, skipping :  IJ2pm_Mar17_30Hz  )\n",
      "    computing DFF\n"
     ]
    },
    {
     "name": "stderr",
     "output_type": "stream",
     "text": [
      "\r",
      " 70%|███████   | 31/44 [05:54<02:40, 12.36s/it]"
     ]
    },
    {
     "name": "stdout",
     "output_type": "stream",
     "text": [
      "data_stm is empty (could not compute stm, skipping :  IJ2pm_Mar17_30Hz  )\n",
      "\n",
      "   recording:  IJ2pm_Mar18_30Hz\n",
      "    computing DFF\n",
      "data_stm is empty (could not compute stm, skipping :  IJ2pm_Mar18_30Hz  )\n",
      "    computing DFF\n"
     ]
    },
    {
     "name": "stderr",
     "output_type": "stream",
     "text": [
      "\r",
      " 73%|███████▎  | 32/44 [06:05<02:23, 11.99s/it]"
     ]
    },
    {
     "name": "stdout",
     "output_type": "stream",
     "text": [
      "data_stm is empty (could not compute stm, skipping :  IJ2pm_Mar18_30Hz  )\n",
      "\n",
      "   recording:  IJ2pm_Mar21_30Hz\n",
      "    computing DFF\n",
      "data_stm is empty (could not compute stm, skipping :  IJ2pm_Mar21_30Hz  )\n",
      "    computing DFF\n"
     ]
    },
    {
     "name": "stderr",
     "output_type": "stream",
     "text": [
      "\r",
      " 75%|███████▌  | 33/44 [06:17<02:10, 11.87s/it]"
     ]
    },
    {
     "name": "stdout",
     "output_type": "stream",
     "text": [
      "data_stm is empty (could not compute stm, skipping :  IJ2pm_Mar21_30Hz  )\n",
      "\n",
      "   recording:  IJ2pm_Mar22_30Hz\n",
      "    computing DFF\n",
      "data_stm is empty (could not compute stm, skipping :  IJ2pm_Mar22_30Hz  )\n",
      "    computing DFF\n"
     ]
    },
    {
     "name": "stderr",
     "output_type": "stream",
     "text": [
      "\r",
      " 77%|███████▋  | 34/44 [06:29<01:59, 11.97s/it]"
     ]
    },
    {
     "name": "stdout",
     "output_type": "stream",
     "text": [
      "data_stm is empty (could not compute stm, skipping :  IJ2pm_Mar22_30Hz  )\n",
      "\n",
      "   recording:  IJ2pm_Mar23_30Hz\n",
      "    computing DFF\n",
      "data_stm is empty (could not compute stm, skipping :  IJ2pm_Mar23_30Hz  )\n",
      "    computing DFF\n"
     ]
    },
    {
     "name": "stderr",
     "output_type": "stream",
     "text": [
      "\r",
      " 80%|███████▉  | 35/44 [06:41<01:47, 11.93s/it]"
     ]
    },
    {
     "name": "stdout",
     "output_type": "stream",
     "text": [
      "data_stm is empty (could not compute stm, skipping :  IJ2pm_Mar23_30Hz  )\n",
      "\n",
      "   recording:  IJ2pm_Mar24_30Hz\n",
      "    computing DFF\n",
      "data_stm is empty (could not compute stm, skipping :  IJ2pm_Mar24_30Hz  )\n",
      "    computing DFF\n"
     ]
    },
    {
     "name": "stderr",
     "output_type": "stream",
     "text": [
      "\r",
      " 82%|████████▏ | 36/44 [06:53<01:34, 11.85s/it]"
     ]
    },
    {
     "name": "stdout",
     "output_type": "stream",
     "text": [
      "data_stm is empty (could not compute stm, skipping :  IJ2pm_Mar24_30Hz  )\n",
      "\n",
      "   recording:  IJ2pm_Mar29_30Hz\n",
      "    computing DFF\n",
      "data_stm is empty (could not compute stm, skipping :  IJ2pm_Mar29_30Hz  )\n",
      "    computing DFF\n"
     ]
    },
    {
     "name": "stderr",
     "output_type": "stream",
     "text": [
      "\r",
      " 84%|████████▍ | 37/44 [07:07<01:28, 12.60s/it]"
     ]
    },
    {
     "name": "stdout",
     "output_type": "stream",
     "text": [
      "data_stm is empty (could not compute stm, skipping :  IJ2pm_Mar29_30Hz  )\n",
      "\n",
      "   recording:  IJ2pm_Mar30_30Hz\n",
      "    computing DFF\n",
      "data_stm is empty (could not compute stm, skipping :  IJ2pm_Mar30_30Hz  )\n",
      "    computing DFF\n"
     ]
    },
    {
     "name": "stderr",
     "output_type": "stream",
     "text": [
      "\r",
      " 86%|████████▋ | 38/44 [07:19<01:14, 12.42s/it]"
     ]
    },
    {
     "name": "stdout",
     "output_type": "stream",
     "text": [
      "data_stm is empty (could not compute stm, skipping :  IJ2pm_Mar30_30Hz  )\n",
      "\n",
      "   recording:  IJ2pm_Mar31_30Hz\n",
      "    computing DFF\n",
      "data_stm is empty (could not compute stm, skipping :  IJ2pm_Mar31_30Hz  )\n",
      "    computing DFF\n"
     ]
    },
    {
     "name": "stderr",
     "output_type": "stream",
     "text": [
      "\r",
      " 89%|████████▊ | 39/44 [07:34<01:05, 13.07s/it]"
     ]
    },
    {
     "name": "stdout",
     "output_type": "stream",
     "text": [
      "data_stm is empty (could not compute stm, skipping :  IJ2pm_Mar31_30Hz  )\n",
      "\n",
      "   recording:  IJ2pm_Apr1_30Hz\n",
      "    computing DFF\n",
      "data_stm is empty (could not compute stm, skipping :  IJ2pm_Apr1_30Hz  )\n",
      "    computing DFF\n"
     ]
    },
    {
     "name": "stderr",
     "output_type": "stream",
     "text": [
      "\r",
      " 91%|█████████ | 40/44 [07:45<00:50, 12.53s/it]"
     ]
    },
    {
     "name": "stdout",
     "output_type": "stream",
     "text": [
      "data_stm is empty (could not compute stm, skipping :  IJ2pm_Apr1_30Hz  )\n",
      "\n",
      "   recording:  IJ2pm_Apr4_30Hz\n",
      "    computing DFF\n",
      "data_stm is empty (could not compute stm, skipping :  IJ2pm_Apr4_30Hz  )\n",
      "    computing DFF\n"
     ]
    },
    {
     "name": "stderr",
     "output_type": "stream",
     "text": [
      "\r",
      " 93%|█████████▎| 41/44 [08:01<00:40, 13.52s/it]"
     ]
    },
    {
     "name": "stdout",
     "output_type": "stream",
     "text": [
      "data_stm is empty (could not compute stm, skipping :  IJ2pm_Apr4_30Hz  )\n",
      "\n",
      "   recording:  IJ2pm_Apr5_30Hz\n",
      "    computing DFF\n",
      "data_stm is empty (could not compute stm, skipping :  IJ2pm_Apr5_30Hz  )\n",
      "    computing DFF\n"
     ]
    },
    {
     "name": "stderr",
     "output_type": "stream",
     "text": [
      "\r",
      " 95%|█████████▌| 42/44 [08:12<00:25, 12.95s/it]"
     ]
    },
    {
     "name": "stdout",
     "output_type": "stream",
     "text": [
      "data_stm is empty (could not compute stm, skipping :  IJ2pm_Apr5_30Hz  )\n",
      "\n",
      "   recording:  IJ2pm_Apr6_30Hz\n",
      "    computing DFF\n",
      "data_stm is empty (could not compute stm, skipping :  IJ2pm_Apr6_30Hz  )\n",
      "    computing DFF\n"
     ]
    },
    {
     "name": "stderr",
     "output_type": "stream",
     "text": [
      "\r",
      " 98%|█████████▊| 43/44 [08:28<00:13, 13.64s/it]"
     ]
    },
    {
     "name": "stdout",
     "output_type": "stream",
     "text": [
      "data_stm is empty (could not compute stm, skipping :  IJ2pm_Apr6_30Hz  )\n",
      "\n",
      "   recording:  IJ2pm_Apr7_30Hz\n",
      "    computing DFF\n",
      "data_stm is empty (could not compute stm, skipping :  IJ2pm_Apr7_30Hz  )\n",
      "    computing DFF\n"
     ]
    },
    {
     "name": "stderr",
     "output_type": "stream",
     "text": [
      "100%|██████████| 44/44 [08:40<00:00, 11.83s/it]\n",
      "  0%|          | 0/110 [00:00<?, ?it/s]"
     ]
    },
    {
     "name": "stdout",
     "output_type": "stream",
     "text": [
      "data_stm is empty (could not compute stm, skipping :  IJ2pm_Apr7_30Hz  )\n",
      "PROCESSING:  AQ2\n",
      "\n",
      "   recording:  AQ2am_Dec9_30Hz\n",
      " ... session has no events  AQ2am_Dec9_30Hz\n",
      "\n",
      "   recording:  AQ2am_Dec10_30Hz\n",
      " ... session has no events  AQ2am_Dec10_30Hz\n",
      "\n",
      "   recording:  AQ2pm_Dec10_30Hz\n",
      " ... session has no events  AQ2pm_Dec10_30Hz\n",
      "\n",
      "   recording:  AQ2am_Dec11_30Hz\n",
      "    computing DFF\n",
      "data_stm is empty (could not compute stm, skipping :  AQ2am_Dec11_30Hz  )\n",
      "    computing DFF\n"
     ]
    },
    {
     "name": "stderr",
     "output_type": "stream",
     "text": [
      "\r",
      "  4%|▎         | 4/110 [00:15<06:48,  3.85s/it]"
     ]
    },
    {
     "name": "stdout",
     "output_type": "stream",
     "text": [
      "data_stm is empty (could not compute stm, skipping :  AQ2am_Dec11_30Hz  )\n",
      "\n",
      "   recording:  AQ2pm_Dec14_30Hz\n",
      "    computing DFF\n",
      "data_stm is empty (could not compute stm, skipping :  AQ2pm_Dec14_30Hz  )\n",
      "    computing DFF\n"
     ]
    },
    {
     "name": "stderr",
     "output_type": "stream",
     "text": [
      "\r",
      "  5%|▍         | 5/110 [00:27<10:20,  5.91s/it]"
     ]
    },
    {
     "name": "stdout",
     "output_type": "stream",
     "text": [
      "data_stm is empty (could not compute stm, skipping :  AQ2pm_Dec14_30Hz  )\n",
      "\n",
      "   recording:  AQ2am_Dec14_30Hz\n",
      " ... session has no events  AQ2am_Dec14_30Hz\n",
      "\n",
      "   recording:  AQ2pm_Dec16_30Hz\n",
      "    computing DFF\n",
      "data_stm is empty (could not compute stm, skipping :  AQ2pm_Dec16_30Hz  )\n",
      "    computing DFF\n"
     ]
    },
    {
     "name": "stderr",
     "output_type": "stream",
     "text": [
      "\r",
      "  6%|▋         | 7/110 [00:38<10:07,  5.90s/it]"
     ]
    },
    {
     "name": "stdout",
     "output_type": "stream",
     "text": [
      "data_stm is empty (could not compute stm, skipping :  AQ2pm_Dec16_30Hz  )\n",
      "\n",
      "   recording:  AQ2am_Dec17_30Hz\n",
      "    computing DFF\n",
      "data_stm is empty (could not compute stm, skipping :  AQ2am_Dec17_30Hz  )\n",
      "    computing DFF\n"
     ]
    },
    {
     "name": "stderr",
     "output_type": "stream",
     "text": [
      "\r",
      "  7%|▋         | 8/110 [00:50<12:13,  7.19s/it]"
     ]
    },
    {
     "name": "stdout",
     "output_type": "stream",
     "text": [
      "data_stm is empty (could not compute stm, skipping :  AQ2am_Dec17_30Hz  )\n",
      "\n",
      "   recording:  AQ2pm_Dec17_30Hz\n",
      "    computing DFF\n",
      "data_stm is empty (could not compute stm, skipping :  AQ2pm_Dec17_30Hz  )\n",
      "    computing DFF\n"
     ]
    },
    {
     "name": "stderr",
     "output_type": "stream",
     "text": [
      "\r",
      "  8%|▊         | 9/110 [01:02<14:02,  8.34s/it]"
     ]
    },
    {
     "name": "stdout",
     "output_type": "stream",
     "text": [
      "data_stm is empty (could not compute stm, skipping :  AQ2pm_Dec17_30Hz  )\n",
      "\n",
      "   recording:  AQ2am_Dec18_30Hz\n",
      "    computing DFF\n",
      "data_stm is empty (could not compute stm, skipping :  AQ2am_Dec18_30Hz  )\n",
      "    computing DFF\n"
     ]
    },
    {
     "name": "stderr",
     "output_type": "stream",
     "text": [
      "\r",
      "  9%|▉         | 10/110 [01:13<15:23,  9.24s/it]"
     ]
    },
    {
     "name": "stdout",
     "output_type": "stream",
     "text": [
      "data_stm is empty (could not compute stm, skipping :  AQ2am_Dec18_30Hz  )\n",
      "\n",
      "   recording:  AQ2pm_Dec18_30Hz\n",
      "    computing DFF\n",
      "data_stm is empty (could not compute stm, skipping :  AQ2pm_Dec18_30Hz  )\n",
      "    computing DFF\n"
     ]
    },
    {
     "name": "stderr",
     "output_type": "stream",
     "text": [
      "\r",
      " 10%|█         | 11/110 [01:27<17:16, 10.47s/it]"
     ]
    },
    {
     "name": "stdout",
     "output_type": "stream",
     "text": [
      "data_stm is empty (could not compute stm, skipping :  AQ2pm_Dec18_30Hz  )\n",
      "\n",
      "   recording:  AQ2am_Dec21_30Hz\n",
      "    computing DFF\n",
      "data_stm is empty (could not compute stm, skipping :  AQ2am_Dec21_30Hz  )\n",
      "    computing DFF\n"
     ]
    },
    {
     "name": "stderr",
     "output_type": "stream",
     "text": [
      "\r",
      " 11%|█         | 12/110 [01:39<17:44, 10.86s/it]"
     ]
    },
    {
     "name": "stdout",
     "output_type": "stream",
     "text": [
      "data_stm is empty (could not compute stm, skipping :  AQ2am_Dec21_30Hz  )\n",
      "\n",
      "   recording:  AQ2am_Dec22_30Hz\n",
      " ... session has no events  AQ2am_Dec22_30Hz\n",
      "\n",
      "   recording:  AQ2am_Dec23_30Hz\n",
      " ... session has no events  AQ2am_Dec23_30Hz\n",
      "\n",
      "   recording:  AQ2am_Dec28_30Hz\n",
      "    computing DFF\n",
      "data_stm is empty (could not compute stm, skipping :  AQ2am_Dec28_30Hz  )\n",
      "    computing DFF\n"
     ]
    },
    {
     "name": "stderr",
     "output_type": "stream",
     "text": [
      "\r",
      " 14%|█▎        | 15/110 [01:51<11:09,  7.05s/it]"
     ]
    },
    {
     "name": "stdout",
     "output_type": "stream",
     "text": [
      "data_stm is empty (could not compute stm, skipping :  AQ2am_Dec28_30Hz  )\n",
      "\n",
      "   recording:  AQ2am_Dec29_30Hz\n",
      "    computing DFF\n",
      "data_stm is empty (could not compute stm, skipping :  AQ2am_Dec29_30Hz  )\n",
      "    computing DFF\n"
     ]
    },
    {
     "name": "stderr",
     "output_type": "stream",
     "text": [
      "\r",
      " 15%|█▍        | 16/110 [02:04<13:13,  8.44s/it]"
     ]
    },
    {
     "name": "stdout",
     "output_type": "stream",
     "text": [
      "data_stm is empty (could not compute stm, skipping :  AQ2am_Dec29_30Hz  )\n",
      "\n",
      "   recording:  AQ2am_Dec30_30Hz\n",
      "    computing DFF\n",
      "Imaging rates between aligned and session are incorrect, exiting:  0.3096286204551007\n",
      "data_stm is empty (could not compute stm, skipping :  AQ2am_Dec30_30Hz  )\n",
      "    computing DFF\n"
     ]
    },
    {
     "name": "stderr",
     "output_type": "stream",
     "text": [
      "\r",
      " 15%|█▌        | 17/110 [02:16<14:05,  9.09s/it]"
     ]
    },
    {
     "name": "stdout",
     "output_type": "stream",
     "text": [
      "Imaging rates between aligned and session are incorrect, exiting:  0.3096286204551007\n",
      "data_stm is empty (could not compute stm, skipping :  AQ2am_Dec30_30Hz  )\n",
      "\n",
      "   recording:  AQ2am_Dec31_30Hz\n",
      "    computing DFF\n",
      "data_stm is empty (could not compute stm, skipping :  AQ2am_Dec31_30Hz  )\n",
      "    computing DFF\n"
     ]
    },
    {
     "name": "stderr",
     "output_type": "stream",
     "text": [
      "\r",
      " 16%|█▋        | 18/110 [02:30<16:04, 10.48s/it]"
     ]
    },
    {
     "name": "stdout",
     "output_type": "stream",
     "text": [
      "data_stm is empty (could not compute stm, skipping :  AQ2am_Dec31_30Hz  )\n",
      "\n",
      "   recording:  AQ2am_Jan4_30Hz\n",
      "    computing DFF\n",
      "data_stm is empty (could not compute stm, skipping :  AQ2am_Jan4_30Hz  )\n",
      "    computing DFF\n"
     ]
    },
    {
     "name": "stderr",
     "output_type": "stream",
     "text": [
      "\r",
      " 17%|█▋        | 19/110 [02:42<16:29, 10.87s/it]"
     ]
    },
    {
     "name": "stdout",
     "output_type": "stream",
     "text": [
      "data_stm is empty (could not compute stm, skipping :  AQ2am_Jan4_30Hz  )\n",
      "\n",
      "   recording:  AQ2am_Jan5_30Hz\n",
      "    computing DFF\n",
      "data_stm is empty (could not compute stm, skipping :  AQ2am_Jan5_30Hz  )\n",
      "    computing DFF\n"
     ]
    },
    {
     "name": "stderr",
     "output_type": "stream",
     "text": [
      "\r",
      " 18%|█▊        | 20/110 [02:57<17:52, 11.92s/it]"
     ]
    },
    {
     "name": "stdout",
     "output_type": "stream",
     "text": [
      "data_stm is empty (could not compute stm, skipping :  AQ2am_Jan5_30Hz  )\n",
      "\n",
      "   recording:  AQ2am_Jan6_30Hz\n",
      "    computing DFF\n",
      "data_stm is empty (could not compute stm, skipping :  AQ2am_Jan6_30Hz  )\n",
      "    computing DFF\n"
     ]
    },
    {
     "name": "stderr",
     "output_type": "stream",
     "text": [
      "\r",
      " 19%|█▉        | 21/110 [03:09<17:33, 11.84s/it]"
     ]
    },
    {
     "name": "stdout",
     "output_type": "stream",
     "text": [
      "data_stm is empty (could not compute stm, skipping :  AQ2am_Jan6_30Hz  )\n",
      "\n",
      "   recording:  AQ2am_Jan7_30Hz\n",
      "    computing DFF\n",
      "data_stm is empty (could not compute stm, skipping :  AQ2am_Jan7_30Hz  )\n",
      "    computing DFF\n"
     ]
    },
    {
     "name": "stderr",
     "output_type": "stream",
     "text": [
      "\r",
      " 20%|██        | 22/110 [03:24<18:46, 12.80s/it]"
     ]
    },
    {
     "name": "stdout",
     "output_type": "stream",
     "text": [
      "data_stm is empty (could not compute stm, skipping :  AQ2am_Jan7_30Hz  )\n",
      "\n",
      "   recording:  AQ2am_Jan8_30Hz\n",
      "    computing DFF\n",
      "data_stm is empty (could not compute stm, skipping :  AQ2am_Jan8_30Hz  )\n",
      "    computing DFF\n"
     ]
    },
    {
     "name": "stderr",
     "output_type": "stream",
     "text": [
      "\r",
      " 21%|██        | 23/110 [03:35<18:01, 12.43s/it]"
     ]
    },
    {
     "name": "stdout",
     "output_type": "stream",
     "text": [
      "data_stm is empty (could not compute stm, skipping :  AQ2am_Jan8_30Hz  )\n",
      "\n",
      "   recording:  AQ2pm_Jan11_30Hz\n",
      "    computing DFF\n",
      "data_stm is empty (could not compute stm, skipping :  AQ2pm_Jan11_30Hz  )\n",
      "    computing DFF\n"
     ]
    },
    {
     "name": "stderr",
     "output_type": "stream",
     "text": [
      "\r",
      " 22%|██▏       | 24/110 [03:50<18:41, 13.04s/it]"
     ]
    },
    {
     "name": "stdout",
     "output_type": "stream",
     "text": [
      "data_stm is empty (could not compute stm, skipping :  AQ2pm_Jan11_30Hz  )\n",
      "\n",
      "   recording:  AQ2am_Jan11_30Hz\n",
      " ... session has no events  AQ2am_Jan11_30Hz\n",
      "\n",
      "   recording:  AQ2pm_Jan12_30Hz\n",
      "    computing DFF\n",
      "data_stm is empty (could not compute stm, skipping :  AQ2pm_Jan12_30Hz  )\n",
      "    computing DFF\n"
     ]
    },
    {
     "name": "stderr",
     "output_type": "stream",
     "text": [
      "\r",
      " 24%|██▎       | 26/110 [04:01<13:31,  9.66s/it]"
     ]
    },
    {
     "name": "stdout",
     "output_type": "stream",
     "text": [
      "data_stm is empty (could not compute stm, skipping :  AQ2pm_Jan12_30Hz  )\n",
      "\n",
      "   recording:  AQ2am_Jan12_30Hz\n",
      " ... session has no events  AQ2am_Jan12_30Hz\n",
      "\n",
      "   recording:  AQ2pm_Jan13_30Hz\n",
      "    computing DFF\n",
      "data_stm is empty (could not compute stm, skipping :  AQ2pm_Jan13_30Hz  )\n",
      "    computing DFF\n"
     ]
    },
    {
     "name": "stderr",
     "output_type": "stream",
     "text": [
      "\r",
      " 25%|██▌       | 28/110 [04:13<11:06,  8.13s/it]"
     ]
    },
    {
     "name": "stdout",
     "output_type": "stream",
     "text": [
      "data_stm is empty (could not compute stm, skipping :  AQ2pm_Jan13_30Hz  )\n",
      "\n",
      "   recording:  AQ2am_Jan13_30Hz\n",
      "    computing DFF\n",
      "data_stm is empty (could not compute stm, skipping :  AQ2am_Jan13_30Hz  )\n",
      "    computing DFF\n"
     ]
    },
    {
     "name": "stderr",
     "output_type": "stream",
     "text": [
      "\r",
      " 26%|██▋       | 29/110 [04:26<12:21,  9.15s/it]"
     ]
    },
    {
     "name": "stdout",
     "output_type": "stream",
     "text": [
      "data_stm is empty (could not compute stm, skipping :  AQ2am_Jan13_30Hz  )\n",
      "\n",
      "   recording:  AQ2pm_Jan14_30Hz\n",
      "    computing DFF\n",
      "data_stm is empty (could not compute stm, skipping :  AQ2pm_Jan14_30Hz  )\n",
      "    computing DFF\n"
     ]
    },
    {
     "name": "stderr",
     "output_type": "stream",
     "text": [
      "\r",
      " 27%|██▋       | 30/110 [04:41<14:10, 10.64s/it]"
     ]
    },
    {
     "name": "stdout",
     "output_type": "stream",
     "text": [
      "data_stm is empty (could not compute stm, skipping :  AQ2pm_Jan14_30Hz  )\n",
      "\n",
      "   recording:  AQ2am_Jan14_30Hz\n",
      "    computing DFF\n",
      "data_stm is empty (could not compute stm, skipping :  AQ2am_Jan14_30Hz  )\n",
      "    computing DFF\n"
     ]
    },
    {
     "name": "stderr",
     "output_type": "stream",
     "text": [
      "\r",
      " 28%|██▊       | 31/110 [04:53<14:21, 10.90s/it]"
     ]
    },
    {
     "name": "stdout",
     "output_type": "stream",
     "text": [
      "data_stm is empty (could not compute stm, skipping :  AQ2am_Jan14_30Hz  )\n",
      "\n",
      "   recording:  AQ2am_Jan15_30Hz\n",
      "    computing DFF\n",
      "data_stm is empty (could not compute stm, skipping :  AQ2am_Jan15_30Hz  )\n",
      "    computing DFF\n"
     ]
    },
    {
     "name": "stderr",
     "output_type": "stream",
     "text": [
      "\r",
      " 29%|██▉       | 32/110 [05:08<15:36, 12.01s/it]"
     ]
    },
    {
     "name": "stdout",
     "output_type": "stream",
     "text": [
      "data_stm is empty (could not compute stm, skipping :  AQ2am_Jan15_30Hz  )\n",
      "\n",
      "   recording:  AQ2pm_Jan15_30Hz\n",
      "    computing DFF\n",
      "data_stm is empty (could not compute stm, skipping :  AQ2pm_Jan15_30Hz  )\n",
      "    computing DFF\n"
     ]
    },
    {
     "name": "stderr",
     "output_type": "stream",
     "text": [
      "\r",
      " 30%|███       | 33/110 [05:20<15:40, 12.22s/it]"
     ]
    },
    {
     "name": "stdout",
     "output_type": "stream",
     "text": [
      "data_stm is empty (could not compute stm, skipping :  AQ2pm_Jan15_30Hz  )\n",
      "\n",
      "   recording:  AQ2pm_Jan18_30Hz\n",
      " ... session has no events  AQ2pm_Jan18_30Hz\n",
      "\n",
      "   recording:  AQ2am_Jan18_30Hz\n",
      "    computing DFF\n",
      "data_stm is empty (could not compute stm, skipping :  AQ2am_Jan18_30Hz  )\n",
      "    computing DFF\n"
     ]
    },
    {
     "name": "stderr",
     "output_type": "stream",
     "text": [
      "\r",
      " 32%|███▏      | 35/110 [05:32<11:40,  9.33s/it]"
     ]
    },
    {
     "name": "stdout",
     "output_type": "stream",
     "text": [
      "data_stm is empty (could not compute stm, skipping :  AQ2am_Jan18_30Hz  )\n",
      "\n",
      "   recording:  AQ2am_Jan19_30Hz\n",
      " ... session has no events  AQ2am_Jan19_30Hz\n",
      "\n",
      "   recording:  AQ2pm_Jan19_30Hz\n",
      " ... session has no events  AQ2pm_Jan19_30Hz\n",
      "\n",
      "   recording:  AQ2pm_Jan20_30Hz\n",
      " ... session has no events  AQ2pm_Jan20_30Hz\n",
      "\n",
      "   recording:  AQ2am_Jan20_30Hz\n",
      "    computing DFF\n",
      "data_stm is empty (could not compute stm, skipping :  AQ2am_Jan20_30Hz  )\n",
      "    computing DFF\n"
     ]
    },
    {
     "name": "stderr",
     "output_type": "stream",
     "text": [
      "\r",
      " 35%|███▌      | 39/110 [05:46<07:17,  6.16s/it]"
     ]
    },
    {
     "name": "stdout",
     "output_type": "stream",
     "text": [
      "data_stm is empty (could not compute stm, skipping :  AQ2am_Jan20_30Hz  )\n",
      "\n",
      "   recording:  AQ2pm_Jan21_30Hz\n",
      " ... session has no events  AQ2pm_Jan21_30Hz\n",
      "\n",
      "   recording:  AQ2am_Jan21_30Hz\n",
      " ... session has no events  AQ2am_Jan21_30Hz\n",
      "\n",
      "   recording:  AQ2pm_Jan22_30Hz\n",
      "    computing DFF\n",
      "data_stm is empty (could not compute stm, skipping :  AQ2pm_Jan22_30Hz  )\n",
      "    computing DFF\n"
     ]
    },
    {
     "name": "stderr",
     "output_type": "stream",
     "text": [
      "\r",
      " 38%|███▊      | 42/110 [05:59<06:11,  5.46s/it]"
     ]
    },
    {
     "name": "stdout",
     "output_type": "stream",
     "text": [
      "data_stm is empty (could not compute stm, skipping :  AQ2pm_Jan22_30Hz  )\n",
      "\n",
      "   recording:  AQ2am_Jan22_30Hz\n",
      "    computing DFF\n",
      "data_stm is empty (could not compute stm, skipping :  AQ2am_Jan22_30Hz  )\n",
      "    computing DFF\n"
     ]
    },
    {
     "name": "stderr",
     "output_type": "stream",
     "text": [
      "\r",
      " 39%|███▉      | 43/110 [06:14<07:38,  6.85s/it]"
     ]
    },
    {
     "name": "stdout",
     "output_type": "stream",
     "text": [
      "data_stm is empty (could not compute stm, skipping :  AQ2am_Jan22_30Hz  )\n",
      "\n",
      "   recording:  AQ2am_Jan25_30Hz\n",
      " ... session has no events  AQ2am_Jan25_30Hz\n",
      "\n",
      "   recording:  AQ2pm_Jan25_30Hz\n",
      " ... session has no events  AQ2pm_Jan25_30Hz\n",
      "\n",
      "   recording:  AQ2pm_Jan26_30Hz\n",
      " ... session has no events  AQ2pm_Jan26_30Hz\n",
      "\n",
      "   recording:  AQ2am_Jan26_30Hz\n",
      " ... session has no events  AQ2am_Jan26_30Hz\n",
      "\n",
      "   recording:  AQ2am_Jan27_30Hz\n",
      "    computing DFF\n",
      "data_stm is empty (could not compute stm, skipping :  AQ2am_Jan27_30Hz  )\n",
      "    computing DFF\n"
     ]
    },
    {
     "name": "stderr",
     "output_type": "stream",
     "text": [
      "\r",
      " 44%|████▎     | 48/110 [06:25<04:37,  4.48s/it]"
     ]
    },
    {
     "name": "stdout",
     "output_type": "stream",
     "text": [
      "data_stm is empty (could not compute stm, skipping :  AQ2am_Jan27_30Hz  )\n",
      "\n",
      "   recording:  AQ2pm_Jan27_30Hz\n",
      "    computing DFF\n",
      "data_stm is empty (could not compute stm, skipping :  AQ2pm_Jan27_30Hz  )\n",
      "    computing DFF\n"
     ]
    },
    {
     "name": "stderr",
     "output_type": "stream",
     "text": [
      "\r",
      " 45%|████▍     | 49/110 [06:40<05:56,  5.84s/it]"
     ]
    },
    {
     "name": "stdout",
     "output_type": "stream",
     "text": [
      "data_stm is empty (could not compute stm, skipping :  AQ2pm_Jan27_30Hz  )\n",
      "\n",
      "   recording:  AQ2am_Jan28_30Hz\n",
      "    computing DFF\n",
      "data_stm is empty (could not compute stm, skipping :  AQ2am_Jan28_30Hz  )\n",
      "    computing DFF\n"
     ]
    },
    {
     "name": "stderr",
     "output_type": "stream",
     "text": [
      "\r",
      " 45%|████▌     | 50/110 [06:51<06:40,  6.67s/it]"
     ]
    },
    {
     "name": "stdout",
     "output_type": "stream",
     "text": [
      "data_stm is empty (could not compute stm, skipping :  AQ2am_Jan28_30Hz  )\n",
      "\n",
      "   recording:  AQ2pm_Jan28_30Hz\n",
      "    computing DFF\n",
      "data_stm is empty (could not compute stm, skipping :  AQ2pm_Jan28_30Hz  )\n",
      "    computing DFF\n"
     ]
    },
    {
     "name": "stderr",
     "output_type": "stream",
     "text": [
      "\r",
      " 46%|████▋     | 51/110 [07:06<08:02,  8.17s/it]"
     ]
    },
    {
     "name": "stdout",
     "output_type": "stream",
     "text": [
      "data_stm is empty (could not compute stm, skipping :  AQ2pm_Jan28_30Hz  )\n",
      "\n",
      "   recording:  AQ2am_Jan29_30Hz\n",
      "    computing DFF\n",
      "data_stm is empty (could not compute stm, skipping :  AQ2am_Jan29_30Hz  )\n",
      "    computing DFF\n"
     ]
    },
    {
     "name": "stderr",
     "output_type": "stream",
     "text": [
      "\r",
      " 47%|████▋     | 52/110 [07:18<08:38,  8.94s/it]"
     ]
    },
    {
     "name": "stdout",
     "output_type": "stream",
     "text": [
      "data_stm is empty (could not compute stm, skipping :  AQ2am_Jan29_30Hz  )\n",
      "\n",
      "   recording:  AQ2pm_Jan29_30Hz\n",
      "    computing DFF\n",
      "data_stm is empty (could not compute stm, skipping :  AQ2pm_Jan29_30Hz  )\n",
      "    computing DFF\n"
     ]
    },
    {
     "name": "stderr",
     "output_type": "stream",
     "text": [
      "\r",
      " 48%|████▊     | 53/110 [07:33<09:47, 10.31s/it]"
     ]
    },
    {
     "name": "stdout",
     "output_type": "stream",
     "text": [
      "data_stm is empty (could not compute stm, skipping :  AQ2pm_Jan29_30Hz  )\n",
      "\n",
      "   recording:  AQ2am_Feb2_30Hz\n",
      "    computing DFF\n",
      "data_stm is empty (could not compute stm, skipping :  AQ2am_Feb2_30Hz  )\n",
      "    computing DFF\n"
     ]
    },
    {
     "name": "stderr",
     "output_type": "stream",
     "text": [
      "\r",
      " 49%|████▉     | 54/110 [07:45<10:02, 10.76s/it]"
     ]
    },
    {
     "name": "stdout",
     "output_type": "stream",
     "text": [
      "data_stm is empty (could not compute stm, skipping :  AQ2am_Feb2_30Hz  )\n",
      "\n",
      "   recording:  AQ2am_Feb3_30Hz\n",
      "    computing DFF\n",
      "data_stm is empty (could not compute stm, skipping :  AQ2am_Feb3_30Hz  )\n",
      "    computing DFF\n"
     ]
    },
    {
     "name": "stderr",
     "output_type": "stream",
     "text": [
      "\r",
      " 50%|█████     | 55/110 [08:01<11:01, 12.03s/it]"
     ]
    },
    {
     "name": "stdout",
     "output_type": "stream",
     "text": [
      "data_stm is empty (could not compute stm, skipping :  AQ2am_Feb3_30Hz  )\n",
      "\n",
      "   recording:  AQ2am_Feb4_30Hz\n",
      "    computing DFF\n",
      "data_stm is empty (could not compute stm, skipping :  AQ2am_Feb4_30Hz  )\n",
      "    computing DFF\n"
     ]
    },
    {
     "name": "stderr",
     "output_type": "stream",
     "text": [
      "\r",
      " 51%|█████     | 56/110 [08:13<10:49, 12.03s/it]"
     ]
    },
    {
     "name": "stdout",
     "output_type": "stream",
     "text": [
      "data_stm is empty (could not compute stm, skipping :  AQ2am_Feb4_30Hz  )\n",
      "\n",
      "   recording:  AQ2am_Feb5_30Hz\n",
      "    computing DFF\n",
      "data_stm is empty (could not compute stm, skipping :  AQ2am_Feb5_30Hz  )\n",
      "    computing DFF\n"
     ]
    },
    {
     "name": "stderr",
     "output_type": "stream",
     "text": [
      "\r",
      " 52%|█████▏    | 57/110 [08:28<11:26, 12.96s/it]"
     ]
    },
    {
     "name": "stdout",
     "output_type": "stream",
     "text": [
      "data_stm is empty (could not compute stm, skipping :  AQ2am_Feb5_30Hz  )\n",
      "\n",
      "   recording:  AQ2am_Feb9_30Hz\n",
      "    computing DFF\n",
      "data_stm is empty (could not compute stm, skipping :  AQ2am_Feb9_30Hz  )\n",
      "    computing DFF\n"
     ]
    },
    {
     "name": "stderr",
     "output_type": "stream",
     "text": [
      "\r",
      " 53%|█████▎    | 58/110 [08:41<11:02, 12.73s/it]"
     ]
    },
    {
     "name": "stdout",
     "output_type": "stream",
     "text": [
      "data_stm is empty (could not compute stm, skipping :  AQ2am_Feb9_30Hz  )\n",
      "\n",
      "   recording:  AQ2am_Feb10_30Hz\n",
      "    computing DFF\n",
      "data_stm is empty (could not compute stm, skipping :  AQ2am_Feb10_30Hz  )\n",
      "    computing DFF\n"
     ]
    },
    {
     "name": "stderr",
     "output_type": "stream",
     "text": [
      "\r",
      " 54%|█████▎    | 59/110 [08:55<11:18, 13.31s/it]"
     ]
    },
    {
     "name": "stdout",
     "output_type": "stream",
     "text": [
      "data_stm is empty (could not compute stm, skipping :  AQ2am_Feb10_30Hz  )\n",
      "\n",
      "   recording:  AQ2am_Feb11_30Hz\n",
      "    computing DFF\n",
      "data_stm is empty (could not compute stm, skipping :  AQ2am_Feb11_30Hz  )\n",
      "    computing DFF\n"
     ]
    },
    {
     "name": "stderr",
     "output_type": "stream",
     "text": [
      "\r",
      " 55%|█████▍    | 60/110 [09:07<10:45, 12.92s/it]"
     ]
    },
    {
     "name": "stdout",
     "output_type": "stream",
     "text": [
      "data_stm is empty (could not compute stm, skipping :  AQ2am_Feb11_30Hz  )\n",
      "\n",
      "   recording:  AQ2am_Feb12_30Hz\n",
      "    computing DFF\n",
      "data_stm is empty (could not compute stm, skipping :  AQ2am_Feb12_30Hz  )\n",
      "    computing DFF\n"
     ]
    },
    {
     "name": "stderr",
     "output_type": "stream",
     "text": [
      "\r",
      " 55%|█████▌    | 61/110 [09:20<10:32, 12.91s/it]"
     ]
    },
    {
     "name": "stdout",
     "output_type": "stream",
     "text": [
      "data_stm is empty (could not compute stm, skipping :  AQ2am_Feb12_30Hz  )\n",
      "\n",
      "   recording:  AQ2am_Feb15_30Hz\n",
      "    computing DFF\n",
      "data_stm is empty (could not compute stm, skipping :  AQ2am_Feb15_30Hz  )\n",
      "    computing DFF\n"
     ]
    },
    {
     "name": "stderr",
     "output_type": "stream",
     "text": [
      "\r",
      " 56%|█████▋    | 62/110 [09:32<10:10, 12.72s/it]"
     ]
    },
    {
     "name": "stdout",
     "output_type": "stream",
     "text": [
      "data_stm is empty (could not compute stm, skipping :  AQ2am_Feb15_30Hz  )\n",
      "\n",
      "   recording:  AQ2am_Feb16_30Hz\n",
      "    computing DFF\n",
      "data_stm is empty (could not compute stm, skipping :  AQ2am_Feb16_30Hz  )\n",
      "    computing DFF\n"
     ]
    },
    {
     "name": "stderr",
     "output_type": "stream",
     "text": [
      "\r",
      " 57%|█████▋    | 63/110 [09:45<10:03, 12.84s/it]"
     ]
    },
    {
     "name": "stdout",
     "output_type": "stream",
     "text": [
      "data_stm is empty (could not compute stm, skipping :  AQ2am_Feb16_30Hz  )\n",
      "\n",
      "   recording:  AQ2am_Feb17_30Hz\n",
      "    computing DFF\n",
      "data_stm is empty (could not compute stm, skipping :  AQ2am_Feb17_30Hz  )\n",
      "    computing DFF\n"
     ]
    },
    {
     "name": "stderr",
     "output_type": "stream",
     "text": [
      "\r",
      " 58%|█████▊    | 64/110 [09:58<09:43, 12.68s/it]"
     ]
    },
    {
     "name": "stdout",
     "output_type": "stream",
     "text": [
      "data_stm is empty (could not compute stm, skipping :  AQ2am_Feb17_30Hz  )\n",
      "\n",
      "   recording:  AQ2am_Feb18_30Hz\n",
      "    computing DFF\n",
      "data_stm is empty (could not compute stm, skipping :  AQ2am_Feb18_30Hz  )\n",
      "    computing DFF\n"
     ]
    },
    {
     "name": "stderr",
     "output_type": "stream",
     "text": [
      "\r",
      " 59%|█████▉    | 65/110 [10:10<09:19, 12.44s/it]"
     ]
    },
    {
     "name": "stdout",
     "output_type": "stream",
     "text": [
      "data_stm is empty (could not compute stm, skipping :  AQ2am_Feb18_30Hz  )\n",
      "\n",
      "   recording:  AQ2am_Feb19_30Hz\n",
      "    computing DFF\n",
      "data_stm is empty (could not compute stm, skipping :  AQ2am_Feb19_30Hz  )\n",
      "    computing DFF\n"
     ]
    },
    {
     "name": "stderr",
     "output_type": "stream",
     "text": [
      "\r",
      " 60%|██████    | 66/110 [10:21<08:54, 12.14s/it]"
     ]
    },
    {
     "name": "stdout",
     "output_type": "stream",
     "text": [
      "data_stm is empty (could not compute stm, skipping :  AQ2am_Feb19_30Hz  )\n",
      "\n",
      "   recording:  AQ2am_Feb22_30Hz\n",
      "    computing DFF\n",
      "data_stm is empty (could not compute stm, skipping :  AQ2am_Feb22_30Hz  )\n",
      "    computing DFF\n"
     ]
    },
    {
     "name": "stderr",
     "output_type": "stream",
     "text": [
      "\r",
      " 61%|██████    | 67/110 [10:33<08:34, 11.97s/it]"
     ]
    },
    {
     "name": "stdout",
     "output_type": "stream",
     "text": [
      "data_stm is empty (could not compute stm, skipping :  AQ2am_Feb22_30Hz  )\n",
      "\n",
      "   recording:  AQ2am_Feb23_30Hz\n",
      "    computing DFF\n",
      "data_stm is empty (could not compute stm, skipping :  AQ2am_Feb23_30Hz  )\n",
      "    computing DFF\n"
     ]
    },
    {
     "name": "stderr",
     "output_type": "stream",
     "text": [
      "\r",
      " 62%|██████▏   | 68/110 [10:48<08:59, 12.85s/it]"
     ]
    },
    {
     "name": "stdout",
     "output_type": "stream",
     "text": [
      "data_stm is empty (could not compute stm, skipping :  AQ2am_Feb23_30Hz  )\n",
      "\n",
      "   recording:  AQ2am_Feb25_30Hz\n",
      "    computing DFF\n",
      "zero length recording exiting (excitation light failure) AQ2am_Feb25_30Hz\n",
      "data_stm is empty (could not compute stm, skipping :  AQ2am_Feb25_30Hz  )\n",
      "    computing DFF\n"
     ]
    },
    {
     "name": "stderr",
     "output_type": "stream",
     "text": [
      "\r",
      " 63%|██████▎   | 69/110 [11:00<08:43, 12.77s/it]"
     ]
    },
    {
     "name": "stdout",
     "output_type": "stream",
     "text": [
      "zero length recording exiting (excitation light failure) AQ2am_Feb25_30Hz\n",
      "data_stm is empty (could not compute stm, skipping :  AQ2am_Feb25_30Hz  )\n",
      "\n",
      "   recording:  AQ2am_Feb26_30Hz\n",
      "    computing DFF\n",
      "data_stm is empty (could not compute stm, skipping :  AQ2am_Feb26_30Hz  )\n",
      "    computing DFF\n"
     ]
    },
    {
     "name": "stderr",
     "output_type": "stream",
     "text": [
      "\r",
      " 64%|██████▎   | 70/110 [11:12<08:20, 12.51s/it]"
     ]
    },
    {
     "name": "stdout",
     "output_type": "stream",
     "text": [
      "data_stm is empty (could not compute stm, skipping :  AQ2am_Feb26_30Hz  )\n",
      "\n",
      "   recording:  AQ2am_Feb29_30Hz\n",
      "    computing DFF\n",
      "data_stm is empty (could not compute stm, skipping :  AQ2am_Feb29_30Hz  )\n",
      "    computing DFF\n"
     ]
    },
    {
     "name": "stderr",
     "output_type": "stream",
     "text": [
      "\r",
      " 65%|██████▍   | 71/110 [11:24<08:00, 12.33s/it]"
     ]
    },
    {
     "name": "stdout",
     "output_type": "stream",
     "text": [
      "data_stm is empty (could not compute stm, skipping :  AQ2am_Feb29_30Hz  )\n",
      "\n",
      "   recording:  AQ2am_Mar1_30Hz\n",
      "    computing DFF\n",
      "data_stm is empty (could not compute stm, skipping :  AQ2am_Mar1_30Hz  )\n",
      "    computing DFF\n"
     ]
    },
    {
     "name": "stderr",
     "output_type": "stream",
     "text": [
      "\r",
      " 65%|██████▌   | 72/110 [11:37<07:52, 12.43s/it]"
     ]
    },
    {
     "name": "stdout",
     "output_type": "stream",
     "text": [
      "data_stm is empty (could not compute stm, skipping :  AQ2am_Mar1_30Hz  )\n",
      "\n",
      "   recording:  AQ2am_Mar2_30Hz\n",
      "    computing DFF\n",
      "data_stm is empty (could not compute stm, skipping :  AQ2am_Mar2_30Hz  )\n",
      "    computing DFF\n"
     ]
    },
    {
     "name": "stderr",
     "output_type": "stream",
     "text": [
      "\r",
      " 66%|██████▋   | 73/110 [11:49<07:43, 12.54s/it]"
     ]
    },
    {
     "name": "stdout",
     "output_type": "stream",
     "text": [
      "data_stm is empty (could not compute stm, skipping :  AQ2am_Mar2_30Hz  )\n",
      "\n",
      "   recording:  AQ2am_Mar3_30Hz\n",
      "    computing DFF\n",
      "data_stm is empty (could not compute stm, skipping :  AQ2am_Mar3_30Hz  )\n",
      "    computing DFF\n"
     ]
    },
    {
     "name": "stderr",
     "output_type": "stream",
     "text": [
      "\r",
      " 67%|██████▋   | 74/110 [12:03<07:40, 12.80s/it]"
     ]
    },
    {
     "name": "stdout",
     "output_type": "stream",
     "text": [
      "data_stm is empty (could not compute stm, skipping :  AQ2am_Mar3_30Hz  )\n",
      "\n",
      "   recording:  AQ2pm_Mar7_Day3_30Hz\n",
      "    computing DFF\n",
      "data_stm is empty (could not compute stm, skipping :  AQ2pm_Mar7_Day3_30Hz  )\n",
      "    computing DFF\n"
     ]
    },
    {
     "name": "stderr",
     "output_type": "stream",
     "text": [
      "\r",
      " 68%|██████▊   | 75/110 [12:14<07:15, 12.44s/it]"
     ]
    },
    {
     "name": "stdout",
     "output_type": "stream",
     "text": [
      "data_stm is empty (could not compute stm, skipping :  AQ2pm_Mar7_Day3_30Hz  )\n",
      "\n",
      "   recording:  AQ2pm_Mar9_Day5_30Hz\n",
      "    computing DFF\n",
      "data_stm is empty (could not compute stm, skipping :  AQ2pm_Mar9_Day5_30Hz  )\n",
      "    computing DFF\n"
     ]
    },
    {
     "name": "stderr",
     "output_type": "stream",
     "text": [
      "\r",
      " 69%|██████▉   | 76/110 [12:27<06:59, 12.35s/it]"
     ]
    },
    {
     "name": "stdout",
     "output_type": "stream",
     "text": [
      "data_stm is empty (could not compute stm, skipping :  AQ2pm_Mar9_Day5_30Hz  )\n",
      "\n",
      "   recording:  AQ2pm_Mar11_Day7_30Hz\n",
      "    computing DFF\n",
      "data_stm is empty (could not compute stm, skipping :  AQ2pm_Mar11_Day7_30Hz  )\n",
      "    computing DFF\n"
     ]
    },
    {
     "name": "stderr",
     "output_type": "stream",
     "text": [
      "\r",
      " 70%|███████   | 77/110 [12:40<06:59, 12.70s/it]"
     ]
    },
    {
     "name": "stdout",
     "output_type": "stream",
     "text": [
      "data_stm is empty (could not compute stm, skipping :  AQ2pm_Mar11_Day7_30Hz  )\n",
      "\n",
      "   recording:  AQ2am_Mar14_Week2_30Hz\n",
      "    computing DFF\n",
      "data_stm is empty (could not compute stm, skipping :  AQ2am_Mar14_Week2_30Hz  )\n",
      "    computing DFF\n"
     ]
    },
    {
     "name": "stderr",
     "output_type": "stream",
     "text": [
      "\r",
      " 71%|███████   | 78/110 [12:52<06:37, 12.42s/it]"
     ]
    },
    {
     "name": "stdout",
     "output_type": "stream",
     "text": [
      "data_stm is empty (could not compute stm, skipping :  AQ2am_Mar14_Week2_30Hz  )\n",
      "\n",
      "   recording:  AQ2pm_Mar15_Week2_30Hz\n",
      "    computing DFF\n",
      "data_stm is empty (could not compute stm, skipping :  AQ2pm_Mar15_Week2_30Hz  )\n",
      "    computing DFF\n"
     ]
    },
    {
     "name": "stderr",
     "output_type": "stream",
     "text": [
      "\r",
      " 72%|███████▏  | 79/110 [13:04<06:20, 12.28s/it]"
     ]
    },
    {
     "name": "stdout",
     "output_type": "stream",
     "text": [
      "data_stm is empty (could not compute stm, skipping :  AQ2pm_Mar15_Week2_30Hz  )\n",
      "\n",
      "   recording:  AQ2am_Mar16_Week2_30Hz\n",
      "    computing DFF\n",
      "data_stm is empty (could not compute stm, skipping :  AQ2am_Mar16_Week2_30Hz  )\n",
      "    computing DFF\n"
     ]
    },
    {
     "name": "stderr",
     "output_type": "stream",
     "text": [
      "\r",
      " 73%|███████▎  | 80/110 [13:18<06:27, 12.92s/it]"
     ]
    },
    {
     "name": "stdout",
     "output_type": "stream",
     "text": [
      "data_stm is empty (could not compute stm, skipping :  AQ2am_Mar16_Week2_30Hz  )\n",
      "\n",
      "   recording:  AQ2am_Mar17_Week2_30Hz\n",
      "    computing DFF\n",
      "data_stm is empty (could not compute stm, skipping :  AQ2am_Mar17_Week2_30Hz  )\n",
      "    computing DFF\n"
     ]
    },
    {
     "name": "stderr",
     "output_type": "stream",
     "text": [
      "\r",
      " 74%|███████▎  | 81/110 [13:30<06:05, 12.62s/it]"
     ]
    },
    {
     "name": "stdout",
     "output_type": "stream",
     "text": [
      "data_stm is empty (could not compute stm, skipping :  AQ2am_Mar17_Week2_30Hz  )\n",
      "\n",
      "   recording:  AQ2am_Mar18_Week2_30Hz\n",
      "    computing DFF\n",
      "data_stm is empty (could not compute stm, skipping :  AQ2am_Mar18_Week2_30Hz  )\n",
      "    computing DFF\n"
     ]
    },
    {
     "name": "stderr",
     "output_type": "stream",
     "text": [
      "\r",
      " 75%|███████▍  | 82/110 [13:44<06:03, 12.97s/it]"
     ]
    },
    {
     "name": "stdout",
     "output_type": "stream",
     "text": [
      "data_stm is empty (could not compute stm, skipping :  AQ2am_Mar18_Week2_30Hz  )\n",
      "\n",
      "   recording:  AQ2am_Mar21_Week3_30Hz\n",
      "    computing DFF\n",
      "data_stm is empty (could not compute stm, skipping :  AQ2am_Mar21_Week3_30Hz  )\n",
      "    computing DFF\n"
     ]
    },
    {
     "name": "stderr",
     "output_type": "stream",
     "text": [
      "\r",
      " 75%|███████▌  | 83/110 [13:56<05:43, 12.72s/it]"
     ]
    },
    {
     "name": "stdout",
     "output_type": "stream",
     "text": [
      "data_stm is empty (could not compute stm, skipping :  AQ2am_Mar21_Week3_30Hz  )\n",
      "\n",
      "   recording:  AQ2am_Mar22_Week3_30Hz\n",
      "    computing DFF\n",
      "data_stm is empty (could not compute stm, skipping :  AQ2am_Mar22_Week3_30Hz  )\n",
      "    computing DFF\n"
     ]
    },
    {
     "name": "stderr",
     "output_type": "stream",
     "text": [
      "\r",
      " 76%|███████▋  | 84/110 [14:11<05:44, 13.25s/it]"
     ]
    },
    {
     "name": "stdout",
     "output_type": "stream",
     "text": [
      "data_stm is empty (could not compute stm, skipping :  AQ2am_Mar22_Week3_30Hz  )\n",
      "\n",
      "   recording:  AQ2am_Mar23_Week3_30Hz\n",
      "    computing DFF\n",
      "data_stm is empty (could not compute stm, skipping :  AQ2am_Mar23_Week3_30Hz  )\n",
      "    computing DFF\n"
     ]
    },
    {
     "name": "stderr",
     "output_type": "stream",
     "text": [
      "\r",
      " 77%|███████▋  | 85/110 [14:23<05:24, 13.00s/it]"
     ]
    },
    {
     "name": "stdout",
     "output_type": "stream",
     "text": [
      "data_stm is empty (could not compute stm, skipping :  AQ2am_Mar23_Week3_30Hz  )\n",
      "\n",
      "   recording:  AQ2am_Mar24_Week3_30Hz\n",
      "    computing DFF\n",
      "data_stm is empty (could not compute stm, skipping :  AQ2am_Mar24_Week3_30Hz  )\n",
      "    computing DFF\n"
     ]
    },
    {
     "name": "stderr",
     "output_type": "stream",
     "text": [
      "\r",
      " 78%|███████▊  | 86/110 [14:37<05:21, 13.40s/it]"
     ]
    },
    {
     "name": "stdout",
     "output_type": "stream",
     "text": [
      "data_stm is empty (could not compute stm, skipping :  AQ2am_Mar24_Week3_30Hz  )\n",
      "\n",
      "   recording:  AQ2am_Mar29_Week4_30Hz\n",
      "    computing DFF\n",
      "data_stm is empty (could not compute stm, skipping :  AQ2am_Mar29_Week4_30Hz  )\n",
      "    computing DFF\n"
     ]
    },
    {
     "name": "stderr",
     "output_type": "stream",
     "text": [
      "\r",
      " 79%|███████▉  | 87/110 [14:49<04:57, 12.94s/it]"
     ]
    },
    {
     "name": "stdout",
     "output_type": "stream",
     "text": [
      "data_stm is empty (could not compute stm, skipping :  AQ2am_Mar29_Week4_30Hz  )\n",
      "\n",
      "   recording:  AQ2am_Mar30_Week4_30Hz\n",
      "    computing DFF\n",
      "data_stm is empty (could not compute stm, skipping :  AQ2am_Mar30_Week4_30Hz  )\n",
      "    computing DFF\n"
     ]
    },
    {
     "name": "stderr",
     "output_type": "stream",
     "text": [
      "\r",
      " 80%|████████  | 88/110 [15:04<04:56, 13.50s/it]"
     ]
    },
    {
     "name": "stdout",
     "output_type": "stream",
     "text": [
      "data_stm is empty (could not compute stm, skipping :  AQ2am_Mar30_Week4_30Hz  )\n",
      "\n",
      "   recording:  AQ2am_Mar31_Week4_30Hz\n",
      "    computing DFF\n",
      "data_stm is empty (could not compute stm, skipping :  AQ2am_Mar31_Week4_30Hz  )\n",
      "    computing DFF\n"
     ]
    },
    {
     "name": "stderr",
     "output_type": "stream",
     "text": [
      "\r",
      " 81%|████████  | 89/110 [15:15<04:30, 12.86s/it]"
     ]
    },
    {
     "name": "stdout",
     "output_type": "stream",
     "text": [
      "data_stm is empty (could not compute stm, skipping :  AQ2am_Mar31_Week4_30Hz  )\n",
      "\n",
      "   recording:  AQ2am_Apr1_Week4_30Hz\n",
      "    computing DFF\n",
      "data_stm is empty (could not compute stm, skipping :  AQ2am_Apr1_Week4_30Hz  )\n",
      "    computing DFF\n"
     ]
    },
    {
     "name": "stderr",
     "output_type": "stream",
     "text": [
      "\r",
      " 82%|████████▏ | 90/110 [15:30<04:27, 13.36s/it]"
     ]
    },
    {
     "name": "stdout",
     "output_type": "stream",
     "text": [
      "data_stm is empty (could not compute stm, skipping :  AQ2am_Apr1_Week4_30Hz  )\n",
      "\n",
      "   recording:  AQ2am_Apr4_Week5_30Hz\n",
      "    computing DFF\n",
      "data_stm is empty (could not compute stm, skipping :  AQ2am_Apr4_Week5_30Hz  )\n",
      "    computing DFF\n"
     ]
    },
    {
     "name": "stderr",
     "output_type": "stream",
     "text": [
      "\r",
      " 83%|████████▎ | 91/110 [15:42<04:06, 12.96s/it]"
     ]
    },
    {
     "name": "stdout",
     "output_type": "stream",
     "text": [
      "data_stm is empty (could not compute stm, skipping :  AQ2am_Apr4_Week5_30Hz  )\n",
      "\n",
      "   recording:  AQ2am_Apr5_Week5_30Hz\n",
      "    computing DFF\n",
      "data_stm is empty (could not compute stm, skipping :  AQ2am_Apr5_Week5_30Hz  )\n",
      "    computing DFF\n"
     ]
    },
    {
     "name": "stderr",
     "output_type": "stream",
     "text": [
      "\r",
      " 84%|████████▎ | 92/110 [15:57<04:04, 13.57s/it]"
     ]
    },
    {
     "name": "stdout",
     "output_type": "stream",
     "text": [
      "data_stm is empty (could not compute stm, skipping :  AQ2am_Apr5_Week5_30Hz  )\n",
      "\n",
      "   recording:  AQ2am_Apr6_Week5_30Hz\n",
      "    computing DFF\n",
      "data_stm is empty (could not compute stm, skipping :  AQ2am_Apr6_Week5_30Hz  )\n",
      "    computing DFF\n"
     ]
    },
    {
     "name": "stderr",
     "output_type": "stream",
     "text": [
      "\r",
      " 85%|████████▍ | 93/110 [16:09<03:41, 13.01s/it]"
     ]
    },
    {
     "name": "stdout",
     "output_type": "stream",
     "text": [
      "data_stm is empty (could not compute stm, skipping :  AQ2am_Apr6_Week5_30Hz  )\n",
      "\n",
      "   recording:  AQ2am_Apr7_Week5_30Hz\n",
      "    computing DFF\n",
      "data_stm is empty (could not compute stm, skipping :  AQ2am_Apr7_Week5_30Hz  )\n",
      "    computing DFF\n"
     ]
    },
    {
     "name": "stderr",
     "output_type": "stream",
     "text": [
      "\r",
      " 85%|████████▌ | 94/110 [16:24<03:38, 13.67s/it]"
     ]
    },
    {
     "name": "stdout",
     "output_type": "stream",
     "text": [
      "data_stm is empty (could not compute stm, skipping :  AQ2am_Apr7_Week5_30Hz  )\n",
      "\n",
      "   recording:  AQ2am_Apr8_Week5_30Hz\n",
      "    computing DFF\n",
      "data_stm is empty (could not compute stm, skipping :  AQ2am_Apr8_Week5_30Hz  )\n",
      "    computing DFF\n"
     ]
    },
    {
     "name": "stderr",
     "output_type": "stream",
     "text": [
      "\r",
      " 86%|████████▋ | 95/110 [16:35<03:14, 12.94s/it]"
     ]
    },
    {
     "name": "stdout",
     "output_type": "stream",
     "text": [
      "data_stm is empty (could not compute stm, skipping :  AQ2am_Apr8_Week5_30Hz  )\n",
      "\n",
      "   recording:  AQ2am_Apr11_Week6_30Hz\n",
      "    computing DFF\n",
      "data_stm is empty (could not compute stm, skipping :  AQ2am_Apr11_Week6_30Hz  )\n",
      "    computing DFF\n"
     ]
    },
    {
     "name": "stderr",
     "output_type": "stream",
     "text": [
      "\r",
      " 87%|████████▋ | 96/110 [16:50<03:11, 13.65s/it]"
     ]
    },
    {
     "name": "stdout",
     "output_type": "stream",
     "text": [
      "data_stm is empty (could not compute stm, skipping :  AQ2am_Apr11_Week6_30Hz  )\n",
      "\n",
      "   recording:  AQ2am_Apr12_Week6_30Hz\n",
      "    computing DFF\n",
      "data_stm is empty (could not compute stm, skipping :  AQ2am_Apr12_Week6_30Hz  )\n",
      "    computing DFF\n"
     ]
    },
    {
     "name": "stderr",
     "output_type": "stream",
     "text": [
      "\r",
      " 88%|████████▊ | 97/110 [17:02<02:48, 12.98s/it]"
     ]
    },
    {
     "name": "stdout",
     "output_type": "stream",
     "text": [
      "data_stm is empty (could not compute stm, skipping :  AQ2am_Apr12_Week6_30Hz  )\n",
      "\n",
      "   recording:  AQ2am_Apr13_Week6_30Hz\n",
      "    computing DFF\n",
      "data_stm is empty (could not compute stm, skipping :  AQ2am_Apr13_Week6_30Hz  )\n",
      "    computing DFF\n"
     ]
    },
    {
     "name": "stderr",
     "output_type": "stream",
     "text": [
      "\r",
      " 89%|████████▉ | 98/110 [17:19<02:50, 14.23s/it]"
     ]
    },
    {
     "name": "stdout",
     "output_type": "stream",
     "text": [
      "data_stm is empty (could not compute stm, skipping :  AQ2am_Apr13_Week6_30Hz  )\n",
      "\n",
      "   recording:  AQ2am_Apr14_Week6_30Hz\n",
      "    computing DFF\n",
      "data_stm is empty (could not compute stm, skipping :  AQ2am_Apr14_Week6_30Hz  )\n",
      "    computing DFF\n"
     ]
    },
    {
     "name": "stderr",
     "output_type": "stream",
     "text": [
      "\r",
      " 90%|█████████ | 99/110 [17:31<02:27, 13.45s/it]"
     ]
    },
    {
     "name": "stdout",
     "output_type": "stream",
     "text": [
      "data_stm is empty (could not compute stm, skipping :  AQ2am_Apr14_Week6_30Hz  )\n",
      "\n",
      "   recording:  AQ2am_Apr15_Week6_30Hz\n",
      "    computing DFF\n",
      "data_stm is empty (could not compute stm, skipping :  AQ2am_Apr15_Week6_30Hz  )\n",
      "    computing DFF\n"
     ]
    },
    {
     "name": "stderr",
     "output_type": "stream",
     "text": [
      "\r",
      " 91%|█████████ | 100/110 [17:44<02:14, 13.41s/it]"
     ]
    },
    {
     "name": "stdout",
     "output_type": "stream",
     "text": [
      "data_stm is empty (could not compute stm, skipping :  AQ2am_Apr15_Week6_30Hz  )\n",
      "\n",
      "   recording:  AQ2am_Apr18_Week7_30Hz\n",
      "    computing DFF\n",
      "data_stm is empty (could not compute stm, skipping :  AQ2am_Apr18_Week7_30Hz  )\n",
      "    computing DFF\n"
     ]
    },
    {
     "name": "stderr",
     "output_type": "stream",
     "text": [
      "\r",
      " 92%|█████████▏| 101/110 [17:56<01:57, 13.06s/it]"
     ]
    },
    {
     "name": "stdout",
     "output_type": "stream",
     "text": [
      "data_stm is empty (could not compute stm, skipping :  AQ2am_Apr18_Week7_30Hz  )\n",
      "\n",
      "   recording:  AQ2am_Apr19_Week7_30Hz\n",
      "    computing DFF\n",
      "data_stm is empty (could not compute stm, skipping :  AQ2am_Apr19_Week7_30Hz  )\n",
      "    computing DFF\n"
     ]
    },
    {
     "name": "stderr",
     "output_type": "stream",
     "text": [
      "\r",
      " 93%|█████████▎| 102/110 [18:11<01:49, 13.63s/it]"
     ]
    },
    {
     "name": "stdout",
     "output_type": "stream",
     "text": [
      "data_stm is empty (could not compute stm, skipping :  AQ2am_Apr19_Week7_30Hz  )\n",
      "\n",
      "   recording:  AQ2am_Apr20_Week7_30Hz\n",
      "    computing DFF\n",
      "data_stm is empty (could not compute stm, skipping :  AQ2am_Apr20_Week7_30Hz  )\n",
      "    computing DFF\n"
     ]
    },
    {
     "name": "stderr",
     "output_type": "stream",
     "text": [
      "\r",
      " 94%|█████████▎| 103/110 [18:23<01:31, 13.01s/it]"
     ]
    },
    {
     "name": "stdout",
     "output_type": "stream",
     "text": [
      "data_stm is empty (could not compute stm, skipping :  AQ2am_Apr20_Week7_30Hz  )\n",
      "\n",
      "   recording:  AQ2am_Apr21_Week7_30Hz\n",
      "    computing DFF\n",
      "data_stm is empty (could not compute stm, skipping :  AQ2am_Apr21_Week7_30Hz  )\n",
      "    computing DFF\n"
     ]
    },
    {
     "name": "stderr",
     "output_type": "stream",
     "text": [
      "\r",
      " 95%|█████████▍| 104/110 [18:38<01:22, 13.71s/it]"
     ]
    },
    {
     "name": "stdout",
     "output_type": "stream",
     "text": [
      "data_stm is empty (could not compute stm, skipping :  AQ2am_Apr21_Week7_30Hz  )\n",
      "\n",
      "   recording:  AQ2am_Apr22_Week7_30Hz\n",
      "    computing DFF\n",
      "data_stm is empty (could not compute stm, skipping :  AQ2am_Apr22_Week7_30Hz  )\n",
      "    computing DFF\n"
     ]
    },
    {
     "name": "stderr",
     "output_type": "stream",
     "text": [
      "\r",
      " 95%|█████████▌| 105/110 [18:49<01:05, 13.05s/it]"
     ]
    },
    {
     "name": "stdout",
     "output_type": "stream",
     "text": [
      "data_stm is empty (could not compute stm, skipping :  AQ2am_Apr22_Week7_30Hz  )\n",
      "\n",
      "   recording:  AQ2am_Apr25_Week8_30Hz\n",
      "    computing DFF\n",
      "data_stm is empty (could not compute stm, skipping :  AQ2am_Apr25_Week8_30Hz  )\n",
      "    computing DFF\n"
     ]
    },
    {
     "name": "stderr",
     "output_type": "stream",
     "text": [
      "\r",
      " 96%|█████████▋| 106/110 [19:05<00:55, 13.83s/it]"
     ]
    },
    {
     "name": "stdout",
     "output_type": "stream",
     "text": [
      "data_stm is empty (could not compute stm, skipping :  AQ2am_Apr25_Week8_30Hz  )\n",
      "\n",
      "   recording:  AQ2am_Apr26_Week8_30Hz\n",
      "    computing DFF\n",
      "data_stm is empty (could not compute stm, skipping :  AQ2am_Apr26_Week8_30Hz  )\n",
      "    computing DFF\n"
     ]
    },
    {
     "name": "stderr",
     "output_type": "stream",
     "text": [
      "\r",
      " 97%|█████████▋| 107/110 [19:17<00:39, 13.16s/it]"
     ]
    },
    {
     "name": "stdout",
     "output_type": "stream",
     "text": [
      "data_stm is empty (could not compute stm, skipping :  AQ2am_Apr26_Week8_30Hz  )\n",
      "\n",
      "   recording:  AQ2am_Apr27_Week8_30Hz\n",
      "    computing DFF\n",
      "data_stm is empty (could not compute stm, skipping :  AQ2am_Apr27_Week8_30Hz  )\n",
      "    computing DFF\n"
     ]
    },
    {
     "name": "stderr",
     "output_type": "stream",
     "text": [
      "\r",
      " 98%|█████████▊| 108/110 [19:32<00:27, 13.65s/it]"
     ]
    },
    {
     "name": "stdout",
     "output_type": "stream",
     "text": [
      "data_stm is empty (could not compute stm, skipping :  AQ2am_Apr27_Week8_30Hz  )\n",
      "\n",
      "   recording:  AQ2am_Apr28_Week8_30Hz\n",
      "    computing DFF\n",
      "data_stm is empty (could not compute stm, skipping :  AQ2am_Apr28_Week8_30Hz  )\n",
      "    computing DFF\n"
     ]
    },
    {
     "name": "stderr",
     "output_type": "stream",
     "text": [
      "\r",
      " 99%|█████████▉| 109/110 [19:43<00:13, 13.11s/it]"
     ]
    },
    {
     "name": "stdout",
     "output_type": "stream",
     "text": [
      "data_stm is empty (could not compute stm, skipping :  AQ2am_Apr28_Week8_30Hz  )\n",
      "\n",
      "   recording:  AQ2am_Apr29_Week8_30Hz\n",
      "    computing DFF\n",
      "data_stm is empty (could not compute stm, skipping :  AQ2am_Apr29_Week8_30Hz  )\n",
      "    computing DFF\n"
     ]
    },
    {
     "name": "stderr",
     "output_type": "stream",
     "text": [
      "100%|██████████| 110/110 [19:55<00:00, 10.87s/it]"
     ]
    },
    {
     "name": "stdout",
     "output_type": "stream",
     "text": [
      "data_stm is empty (could not compute stm, skipping :  AQ2am_Apr29_Week8_30Hz  )\n"
     ]
    },
    {
     "name": "stderr",
     "output_type": "stream",
     "text": [
      "\n"
     ]
    }
   ],
   "source": [
    "###########################################################################\n",
    "##### PROCESS [CA] DATA (EVENT TRIGGERED MAPS): ROI OR PCA TIME SERIES ####\n",
    "###########################################################################\n",
    "'''  Compute calcium activity in ROIs selected (35) for \n",
    "     lever pull actiivty\n",
    "     \n",
    "     or just use PCA time courses \n",
    "'''\n",
    "\n",
    "# Processing flags\n",
    "parallel = False  # THIS DOESN\"T REALLY WORK TOO MUCH MEMORY...\n",
    "n_cores = 3\n",
    "\n",
    "# select animal names\n",
    "names = ['IA1','IA2','IA3','IJ1','IJ2','AQ2'] # \"AR4\" and other datase\n",
    "#names = ['IJ1','IJ2','AQ2']\n",
    "\n",
    "\n",
    "# window to compute\n",
    "n_sec_window = 15\n",
    "lockout_window = 10   # no of seconds of previous movement / lever pull lockout\n",
    "recompute = True      # overwrite previously generated data\n",
    "\n",
    "# save PCA vs. ROI data; if selected, each dataset will be reduced to the PCs rquired to get to the explained var value\n",
    "pca_etm = True\n",
    "pca_explained_var_val = 0.95\n",
    "\n",
    "################################\n",
    "etm = ProcessCalcium()\n",
    "etm.main_dir = data_dir\n",
    "etm.export_blue_light_times = True\n",
    "#\n",
    "etm.random_events_lockout = 3.0  # minimum number of seconds difference between a rewarded pull and a random/control \n",
    "etm.n_sec_window = n_sec_window \n",
    "etm.recompute = recompute\n",
    "etm.pca_fixed_comps = None  # fixed numer of components overrides explained_variance amount above\n",
    "\n",
    "# \n",
    "etm.remove_shift = True\n",
    "etm.whole_stack = False\n",
    "etm.verbose = True\n",
    "#\n",
    "sessions = ['all']\n",
    "#features = ['left_paw','right_paw','jaw']\n",
    "etm.features = 'code_04'\n",
    "for feature in features:\n",
    "    etm.feature_name = feature\n",
    "    etm.feature_quiescence = 3    # number of seconds of no-movement prior to feature movement ;not applicable to code-04\n",
    "                                    # this value is computed in generate_movements_quiescence_periods notebook;\n",
    "\n",
    "    # \n",
    "    #etm.skip_to = 'Mar14_'  # flag to pickup reprocessing at some point; only used if overwrite flag is set to True and need to partially restart\n",
    "    etm.skip_to = None  # \n",
    "\n",
    "    #\n",
    "    for session in sessions:\n",
    "        # \n",
    "        etm.sessions = session\n",
    "\n",
    "        # \n",
    "        etm.generate_etm(names,\n",
    "                         n_sec_window,\n",
    "                         lockout_window,\n",
    "                         recompute,\n",
    "                         pca_etm,\n",
    "                         pca_explained_var_val,\n",
    "                         parallel,\n",
    "                         n_cores,\n",
    "                         )                \n"
   ]
  },
  {
   "cell_type": "code",
   "execution_count": 4,
   "metadata": {},
   "outputs": [
    {
     "name": "stdout",
     "output_type": "stream",
     "text": [
      "(10, 11, 1801)\n",
      "(10, 11, 1801)\n"
     ]
    }
   ],
   "source": [
    "d1 = np.load('/media/cat/4TBSSD/yuki/IA1/tif_files/IA1pm_Apr7_30Hz/IA1pm_Apr7_30Hz_code_04_trial_ROItimeCourses_30sec_pca_0.95.npy')\n",
    "print (d1.shape)\n",
    "\n",
    "d2 = np.load('/media/cat/4TBSSD/yuki/IA1/tif_files/IA1pm_Apr7_30Hz/IA1pm_Apr7_30Hz_code_04_random_ROItimeCourses_30sec_pca_0.95.npy')\n",
    "print (d2.shape)"
   ]
  },
  {
   "cell_type": "code",
   "execution_count": 12,
   "metadata": {},
   "outputs": [
    {
     "name": "stdout",
     "output_type": "stream",
     "text": [
      "['left_paw' 'right_paw' 'nose' 'jaw' 'right_ear' 'tongue' 'lever']\n"
     ]
    }
   ],
   "source": [
    "data = np.load('/media/cat/4TBSSD/yuki/IA1/tif_files/IA1pm_Feb1_30Hz/IA1pm_Feb1_30Hz_5secNoMove_movements.npz',allow_pickle=True)\n",
    "labels=data['labels']\n",
    "print (labels)"
   ]
  },
  {
   "cell_type": "code",
   "execution_count": 5,
   "metadata": {},
   "outputs": [
    {
     "name": "stdout",
     "output_type": "stream",
     "text": [
      "7\n"
     ]
    }
   ],
   "source": [
    "data = np.load('/media/cat/4TBSSD/yuki/IJ1/tif_files/IJ1pm_Feb3_30Hz/IJ1pm_Feb3_30Hz_5secNoMove_movements.npz',allow_pickle=True)\n",
    "features = data['feature_movements']\n",
    "print (len(features))"
   ]
  },
  {
   "cell_type": "code",
   "execution_count": null,
   "metadata": {},
   "outputs": [],
   "source": []
  },
  {
   "cell_type": "code",
   "execution_count": null,
   "metadata": {},
   "outputs": [],
   "source": []
  },
  {
   "cell_type": "code",
   "execution_count": null,
   "metadata": {},
   "outputs": [],
   "source": []
  },
  {
   "cell_type": "code",
   "execution_count": null,
   "metadata": {},
   "outputs": [],
   "source": []
  },
  {
   "cell_type": "code",
   "execution_count": null,
   "metadata": {},
   "outputs": [],
   "source": []
  },
  {
   "cell_type": "code",
   "execution_count": null,
   "metadata": {},
   "outputs": [],
   "source": []
  },
  {
   "cell_type": "code",
   "execution_count": null,
   "metadata": {},
   "outputs": [],
   "source": []
  },
  {
   "cell_type": "code",
   "execution_count": null,
   "metadata": {},
   "outputs": [],
   "source": []
  },
  {
   "cell_type": "code",
   "execution_count": null,
   "metadata": {},
   "outputs": [],
   "source": []
  },
  {
   "cell_type": "code",
   "execution_count": null,
   "metadata": {},
   "outputs": [],
   "source": []
  },
  {
   "cell_type": "code",
   "execution_count": null,
   "metadata": {},
   "outputs": [],
   "source": []
  },
  {
   "cell_type": "code",
   "execution_count": null,
   "metadata": {},
   "outputs": [],
   "source": []
  },
  {
   "cell_type": "code",
   "execution_count": null,
   "metadata": {},
   "outputs": [],
   "source": []
  },
  {
   "cell_type": "code",
   "execution_count": null,
   "metadata": {},
   "outputs": [],
   "source": []
  },
  {
   "cell_type": "code",
   "execution_count": null,
   "metadata": {},
   "outputs": [],
   "source": [
    "OLDER CODE BELOW"
   ]
  },
  {
   "cell_type": "code",
   "execution_count": 11,
   "metadata": {},
   "outputs": [
    {
     "name": "stdout",
     "output_type": "stream",
     "text": [
      "Self session: IA1pm_Feb23_30Hz\n",
      "Self session: IA1pm_Feb23_30Hz\n"
     ]
    }
   ],
   "source": [
    "#############################################\n",
    "############## VISUALIZE RESULTS ############\n",
    "#############################################\n",
    "    \n",
    "# LEVER PULL\n",
    "vis = Visualize()\n",
    "\n",
    "# lever-related data\n",
    "vis.main_dir = data_dir\n",
    "vis.random_flag = False  # shuffle data to show baseline\n",
    "\n",
    "# \n",
    "vis.window = 10\n",
    "vis.lockout_window = 10\n",
    "vis.code = 'code_04'\n",
    "vis.lockout = False\n",
    "\n",
    "vis.animal_id = \"IA1\"\n",
    "vis.session_id = \"Feb23_\"\n",
    "title = vis.animal_id + \"  \"+vis.session_id\n",
    "\n",
    "#############################################\n",
    "############## DECISION TYPE ################\n",
    "#############################################\n",
    "# select animal and session\n",
    "\n",
    "# load pca \n",
    "fig =plt.figure()\n",
    "\n",
    "# ax=plt.subplot(2,3,1)\n",
    "# vis.pca_flag = False\n",
    "# vis.lockout = True\n",
    "# vis.pca_var = 0.99\n",
    "# vis.plot_decision_choice('black',str(vis.pca_var),title, ax)\n",
    "\n",
    "# vis.lockout = True\n",
    "# vis.plot_decision_choice('blue',str(vis.pca_var)+\" lockout\",title, ax)\n",
    "\n",
    "# \n",
    "# vis.lockout = True\n",
    "# vis.plot_decision_choice('blue',str(vis.pca_var) + \" lockout\",title, ax)\n",
    "\n",
    "\n",
    "# \n",
    "vars_ = [0.95]\n",
    "for k in range(len(vars_)):\n",
    "    #ax=plt.subplot(2,3,k+2)\n",
    "    ax=plt.subplot(1,1,k+1)\n",
    "    vis.pca_flag = True\n",
    "    vis.lockout = False\n",
    "    vis.pca_var = vars_[k]\n",
    "    vis.plot_decision_choice('black',str(vis.pca_var),title, ax)\n",
    "\n",
    "    # \n",
    "    vis.pca_flag = True\n",
    "    vis.lockout = True\n",
    "    vis.plot_decision_choice('blue',str(vis.pca_var)+\" lockout\",title, ax)\n",
    "\n",
    "# vis.pca_flag = True\n",
    "# vis.pca_var = 0.99\n",
    "# ax=plt.subplot(2,3,2)\n",
    "# vis.plot_decision_choice('blue','xxpcs_0.99Variance',title, ax)\n",
    "\n",
    "\n",
    "# vis.pca_flag = True\n",
    "# vis.pca_var = 0.95\n",
    "# ax=plt.subplot(2,3,3)\n",
    "# vis.plot_decision_choice('red','8pcs_0.95Variance',title, ax)\n",
    "\n",
    "# vis.pca_flag = True\n",
    "# vis.pca_var = 0.90\n",
    "# ax=plt.subplot(2,3,4)\n",
    "# vis.plot_decision_choice('green','4pcs_0.90Variance',title, ax)\n",
    "\n",
    "\n",
    "# vis.pca_var = 0.50\n",
    "# ax=plt.subplot(2,3,5)\n",
    "# vis.plot_decision_choice('magenta','2pcs_0.50Variance',title, ax)\n",
    "\n",
    "\n",
    "# fname = vis.main_dir+'/'+animal_id+'/SVM_scores_'+animal_id+'_lockout_'+str(session)+'.npy'\n",
    "# vis.load_data(fname)\n",
    "# vis.plot_decision_choice('blue','lockout-denoised')\n"
   ]
  },
  {
   "cell_type": "code",
   "execution_count": null,
   "metadata": {},
   "outputs": [],
   "source": []
  },
  {
   "cell_type": "code",
   "execution_count": null,
   "metadata": {},
   "outputs": [],
   "source": []
  },
  {
   "cell_type": "code",
   "execution_count": 7,
   "metadata": {},
   "outputs": [
    {
     "name": "stdout",
     "output_type": "stream",
     "text": [
      "(1500, 16384)\n"
     ]
    }
   ],
   "source": [
    "import pickle as pk\n",
    "\n",
    "file = open('/media/cat/4TBSSD/yuki/IA1/tif_files/IA1pm_Feb3_30Hz/IA1pm_Feb3_30Hz_code_04_lockout_10sec_trial_ROItimeCourses_10sec_pca.pkl', 'rb')\n",
    "\n",
    "# dump information to that file\n",
    "pca = pk.load(file)\n",
    "\n",
    "print (pca.components_.shape)\n"
   ]
  },
  {
   "cell_type": "code",
   "execution_count": 9,
   "metadata": {},
   "outputs": [
    {
     "name": "stdout",
     "output_type": "stream",
     "text": [
      "(62, 601, 128, 128)\n"
     ]
    }
   ],
   "source": [
    "data_stm = np.load('/media/cat/4TBSSD/yuki/IA1/tif_files/IA1pm_Feb3_30Hz/IA1pm_Feb3_30Hz_10.0sec_butterworth_globalAverage_0.1hz_6.0hz_04code_stm.npy')\n",
    "print (data_stm.shape)"
   ]
  },
  {
   "cell_type": "code",
   "execution_count": 10,
   "metadata": {},
   "outputs": [
    {
     "ename": "NameError",
     "evalue": "name 'nComp' is not defined",
     "output_type": "error",
     "traceback": [
      "\u001b[0;31m---------------------------------------------------------------------------\u001b[0m",
      "\u001b[0;31mNameError\u001b[0m                                 Traceback (most recent call last)",
      "\u001b[0;32m<ipython-input-10-f869b1fe5d18>\u001b[0m in \u001b[0;36m<module>\u001b[0;34m\u001b[0m\n\u001b[1;32m      5\u001b[0m \u001b[0mmu\u001b[0m\u001b[0;34m=\u001b[0m \u001b[0mnp\u001b[0m\u001b[0;34m.\u001b[0m\u001b[0mmean\u001b[0m\u001b[0;34m(\u001b[0m\u001b[0mX\u001b[0m\u001b[0;34m,\u001b[0m \u001b[0maxis\u001b[0m\u001b[0;34m=\u001b[0m\u001b[0;36m0\u001b[0m\u001b[0;34m)\u001b[0m\u001b[0;34m\u001b[0m\u001b[0;34m\u001b[0m\u001b[0m\n\u001b[1;32m      6\u001b[0m \u001b[0;34m\u001b[0m\u001b[0m\n\u001b[0;32m----> 7\u001b[0;31m Xnew = np.dot(pca.transform(X)[:,:nComp],\n\u001b[0m\u001b[1;32m      8\u001b[0m              pca.components_[:nComp,:])\n\u001b[1;32m      9\u001b[0m \u001b[0;34m\u001b[0m\u001b[0m\n",
      "\u001b[0;31mNameError\u001b[0m: name 'nComp' is not defined"
     ]
    }
   ],
   "source": [
    "# \n",
    "X = data_stm.reshape(data_stm.shape[0]*data_stm.shape[1],\n",
    "                     data_stm.shape[2]*data_stm.shape[3])\n",
    "\n",
    "mu= np.mean(X, axis=0)\n"
   ]
  },
  {
   "cell_type": "code",
   "execution_count": 11,
   "metadata": {},
   "outputs": [],
   "source": [
    "nComp = 9\n",
    "Xnew = np.dot(pca.transform(X)[:,:nComp],\n",
    "             pca.components_[:nComp,:])\n",
    "\n",
    "Xnew+=mu\n",
    "\n",
    "data_stm_denoised_reshaped = Xnew.reshape(data_stm.shape[0], data_stm.shape[1],\n",
    "                                          data_stm.shape[2], data_stm.shape[3])\n"
   ]
  },
  {
   "cell_type": "code",
   "execution_count": 17,
   "metadata": {},
   "outputs": [
    {
     "name": "stdout",
     "output_type": "stream",
     "text": [
      "(62, 9, 601)\n"
     ]
    }
   ],
   "source": [
    "time_filters = pca.transform(X)[:,:nComp]\n",
    "pca_time_filters_only = time_filters.reshape(data_stm.shape[0], data_stm.shape[1],-1).transpose(0,2,1)\n",
    "print (pca_time_filters_only.shape)\n"
   ]
  },
  {
   "cell_type": "code",
   "execution_count": 15,
   "metadata": {},
   "outputs": [
    {
     "name": "stdout",
     "output_type": "stream",
     "text": [
      "(62, 601, 9)\n"
     ]
    }
   ],
   "source": []
  },
  {
   "cell_type": "code",
   "execution_count": 21,
   "metadata": {},
   "outputs": [
    {
     "name": "stdout",
     "output_type": "stream",
     "text": [
      "(82, 2, 601)\n"
     ]
    }
   ],
   "source": [
    "data = np.load('/media/cat/4TBSSD/yuki/IA1/tif_files/IA1pm_Feb23_30Hz/IA1pm_Feb23_30Hz_code_04_trial_ROItimeCourses_10sec_pca_0.5.npy')\n",
    "print (data.shape)"
   ]
  },
  {
   "cell_type": "code",
   "execution_count": 76,
   "metadata": {},
   "outputs": [
    {
     "name": "stdout",
     "output_type": "stream",
     "text": [
      "(62, 35, 601)\n"
     ]
    }
   ],
   "source": [
    "# -*- coding: utf-8 -*-\n",
    "\"\"\"Cat Data.ipynb\n",
    "\n",
    "Automatically generated by Colaboratory.\n",
    "\n",
    "Original file is located at\n",
    "    https://colab.research.google.com/drive/1r-NABuBJOITVlW03VvhsQivPNzmNp4yp\n",
    "\"\"\"\n",
    "\n",
    "import numpy as np\n",
    "import sklearn\n",
    "from sklearn.model_selection import train_test_split\n",
    "import matplotlib.pyplot as plt\n",
    "from sklearn.model_selection import KFold \n",
    "from sklearn import preprocessing\n",
    "from sklearn.model_selection import cross_val_score\n",
    "from sklearn import svm\n",
    "import pandas as pd\n",
    "from sklearn.metrics import confusion_matrix  \n",
    "import random\n",
    "from scipy import stats\n",
    "from matplotlib.pyplot import MultipleLocator\n",
    "import os\n",
    "\n",
    "\n",
    "jobid = os.getenv('SLURM_ARRAY_TASK_ID')\n",
    "name='IA1_lockout'\n",
    "\n",
    "data_leverpress = np.load('/media/cat/4TBSSD/yuki/temp/IA1/data_04.npy',allow_pickle=True)[0]\n",
    "data_random = np.load('/media/cat/4TBSSD/yuki/temp/IA1/data_04_random.npy',allow_pickle=True)[0]\n",
    "\n",
    "print (data_leverpress.shape)\n"
   ]
  },
  {
   "cell_type": "code",
   "execution_count": 77,
   "metadata": {},
   "outputs": [
    {
     "name": "stderr",
     "output_type": "stream",
     "text": [
      "<ipython-input-77-0c90c545bbff>:41: RuntimeWarning: invalid value encountered in true_divide\n",
      "  conf_matrix_norm = confusion_m.astype('float') / confusion_m.sum(axis=1)[:,np.newaxis] #calculate the precision\n",
      "<ipython-input-77-0c90c545bbff>:41: RuntimeWarning: invalid value encountered in true_divide\n",
      "  conf_matrix_norm = confusion_m.astype('float') / confusion_m.sum(axis=1)[:,np.newaxis] #calculate the precision\n",
      "<ipython-input-77-0c90c545bbff>:41: RuntimeWarning: invalid value encountered in true_divide\n",
      "  conf_matrix_norm = confusion_m.astype('float') / confusion_m.sum(axis=1)[:,np.newaxis] #calculate the precision\n",
      "<ipython-input-77-0c90c545bbff>:41: RuntimeWarning: invalid value encountered in true_divide\n",
      "  conf_matrix_norm = confusion_m.astype('float') / confusion_m.sum(axis=1)[:,np.newaxis] #calculate the precision\n",
      "<ipython-input-77-0c90c545bbff>:41: RuntimeWarning: invalid value encountered in true_divide\n",
      "  conf_matrix_norm = confusion_m.astype('float') / confusion_m.sum(axis=1)[:,np.newaxis] #calculate the precision\n",
      "<ipython-input-77-0c90c545bbff>:41: RuntimeWarning: invalid value encountered in true_divide\n",
      "  conf_matrix_norm = confusion_m.astype('float') / confusion_m.sum(axis=1)[:,np.newaxis] #calculate the precision\n",
      "<ipython-input-77-0c90c545bbff>:41: RuntimeWarning: invalid value encountered in true_divide\n",
      "  conf_matrix_norm = confusion_m.astype('float') / confusion_m.sum(axis=1)[:,np.newaxis] #calculate the precision\n",
      "<ipython-input-77-0c90c545bbff>:41: RuntimeWarning: invalid value encountered in true_divide\n",
      "  conf_matrix_norm = confusion_m.astype('float') / confusion_m.sum(axis=1)[:,np.newaxis] #calculate the precision\n"
     ]
    }
   ],
   "source": [
    "\n",
    "\n",
    "#classification of time (10-class)\n",
    "X_l=data_leverpress #  [n_trials, n_areas, n_time_steps]\n",
    "X_l=X_l.transpose((0,2,1))\n",
    "\n",
    "\n",
    "X_R_l= X_l.reshape(-1,X_l.shape[1]*X_l.shape[2])\n",
    "normal_X_l = preprocessing.normalize(X_R_l)\n",
    "n_X_l=normal_X_l.reshape(X_l.shape[0],X_l.shape[1],X_l.shape[2])\n",
    "X_l=n_X_l\n",
    "\n",
    "X_l=X_l[:,:300,:]\n",
    "X_k=X_l[:,0:30,:]\n",
    "X_k=X_k.reshape(X_k.shape[0],X_k.shape[1]*X_k.shape[2])\n",
    "for i in range(30,271,30):\n",
    "    X_t = X_l[:,i:i+30,:]\n",
    "    X_t=X_t.reshape(X_t.shape[0],X_t.shape[1]*X_t.shape[2])\n",
    "    X_k=np.concatenate((X_k,X_t),axis=0)\n",
    "\n",
    "y_ct=np.zeros(data_leverpress.shape[0])\n",
    "for i in range(1,10):\n",
    "    Z_ct=i*np.ones(data_leverpress.shape[0])\n",
    "    y_ct=np.concatenate((y_ct,Z_ct))\n",
    "\n",
    "# \n",
    "X_tSVM=X_k # 10s * 30frams\n",
    "y_tSVM=y_ct # labels\n",
    "\n",
    "#10-fold confusion matrix\n",
    "clf = svm.SVC() # Non-linear classifier\n",
    "ten_svm=[]\n",
    "conf_matrix_ten=[]\n",
    "kf = KFold(n_splits=10,random_state=None, shuffle=True) \n",
    "for train_index, test_index in kf.split(X_tSVM):\n",
    "    X_train_k, X_test_k = X_tSVM[train_index], X_tSVM[test_index] \n",
    "    y_train_k, y_test_k = y_tSVM[train_index], y_tSVM[test_index]\n",
    "    clf.fit(X_train_k, y_train_k)\n",
    "    score=clf.score(X_test_k, y_test_k)\n",
    "    y_predicted=clf.predict(X_test_k)\n",
    "    cm=confusion_matrix(y_test_k,y_predicted)\n",
    "    confusion_m=cm.T # make each row be the prediction\n",
    "    conf_matrix_norm = confusion_m.astype('float') / confusion_m.sum(axis=1)[:,np.newaxis] #calculate the precision\n",
    "    conf_matrix_norm = np.nan_to_num(conf_matrix_norm)\n",
    "    ten_svm.append(score)\n",
    "    conf_matrix_ten.append(conf_matrix_norm)\n",
    "np.save('conf_10_'+str(name)+'_'+str(jobid)+'.npy',conf_matrix_ten)\n",
    "sc=np.mean(conf_matrix_ten,axis=0) # mean of confusion matrix\n",
    "np.save('conf_avg_'+str(name)+'_'+str(jobid)+'.npy',sc)"
   ]
  },
  {
   "cell_type": "code",
   "execution_count": 78,
   "metadata": {},
   "outputs": [
    {
     "name": "stderr",
     "output_type": "stream",
     "text": [
      "<ipython-input-78-40a74f02ec5b>:57: RuntimeWarning: divide by zero encountered in double_scalars\n",
      "  t=(a-(1/10))/s\n"
     ]
    }
   ],
   "source": [
    "\n",
    "#Next is the plotting.\n",
    "\n",
    "confusion_10=sc.diagonal()\n",
    "np.save('diagonal_'+str(name)+'_'+str(jobid)+'.npy',confusion_10)\n",
    "confusion_s=conf_matrix_ten\n",
    "\n",
    "confusion_d=[]\n",
    "for i in range(0,10):\n",
    "    confusion_d.append(confusion_s[i].diagonal())\n",
    "x_std=np.std(confusion_d,axis=0)/(10**0.5)\n",
    "x_s=x_std\n",
    "\n",
    "\n",
    "fig = plt.figure(figsize=(21.5,20), dpi=64, facecolor='white')\n",
    "plt.xticks(fontsize=60)\n",
    "plt.yticks(fontsize=60)\n",
    "axes = plt.subplot(111)\n",
    "axes.tick_params(axis ='both', which ='both', length = 10,width=4,pad=20)\n",
    "\n",
    "bwith = 3 \n",
    "ax = plt.gca()\n",
    "ax.spines['bottom'].set_linewidth(bwith)\n",
    "ax.spines['left'].set_linewidth(bwith)\n",
    "ax.spines['top'].set_linewidth(bwith)\n",
    "ax.spines['right'].set_linewidth(bwith)\n",
    "l=15\n",
    "\n",
    "Y=np.linspace(0,1,12)\n",
    "X=np.ones(Y.size)\n",
    "x=np.arange(-9.5,0.5,1)\n",
    "plt.text(0.1, 0.2, 'Lever Pull', fontdict={'size': 70}, rotation=90)\n",
    "plt.text(-12.95, 1/10, 'Chance', fontdict={'size': 60}, rotation=0)\n",
    "plt.axhline(y=1/10, color='black', linestyle='--',linewidth=6)\n",
    "\n",
    "plt.errorbar(x,confusion_10,x_s,c='red',alpha=0.6,marker='s', mec='red', ms=3, mew=3,label='SVM',linewidth=l,elinewidth=12)\n",
    "\n",
    "plt.plot( (0+0)*X, Y, color='black',ls='--',linewidth=6)\n",
    "\n",
    "plt.title('Decoding decision time',fontdict={'size': 110},pad=60)\n",
    "plt.xlabel('Time before Lever Pull (s)',fontdict={'size': 110},labelpad=60)\n",
    "plt.ylabel('Decoding Accuracy',fontdict={'size': 110},labelpad=180)\n",
    "plt.ylim(ymax = 1.09)\n",
    "ax=plt.gca()\n",
    "ax.xaxis.set_major_locator(MultipleLocator(2))\n",
    "ax.xaxis.set_minor_locator(MultipleLocator(1))\n",
    "ax.yaxis.set_major_locator(MultipleLocator(0.2))\n",
    "ax.yaxis.set_minor_locator(MultipleLocator(0.1))\n",
    "\n",
    "plt.xlim(xmin = -10.5)\n",
    "plt.xlim(xmax = 0.9)\n",
    "\n",
    "for i in range(0,10):\n",
    "    a=confusion_10[i]\n",
    "    b=x_s[i]\n",
    "    n=10\n",
    "    s=b\n",
    "    t=(a-(1/10))/s\n",
    "    df=n-1\n",
    "    p = (1 - stats.t.cdf(t,df=df))\n",
    "    \n",
    "    if (p > 0.01 and p <= 0.05):\n",
    "        plt.plot(-9.5+i, confusion_10[i]+x_std[i]+0.06, '*',c='black', ms=20)\n",
    "        \n",
    "    if (p > 0.00001 and p <= 0.01):\n",
    "        plt.plot(-9.5+i,confusion_10[i]+x_std[i]+0.06,'*',c='black', ms=20)\n",
    "        plt.plot(-9.5+i,confusion_10[i]+x_std[i]+0.08,'*',c='black', ms=20)\n",
    "    if  p <= 0.00001:\n",
    "        plt.plot(-9.5+i,confusion_10[i]+x_std[i]+0.06,'*',c='black', ms=20)\n",
    "        plt.plot(-9.5+i,confusion_10[i]+x_std[i]+0.08,'*',c='black', ms=20)\n",
    "        plt.plot(-9.5+i,confusion_10[i]+x_std[i]+0.10,'*',c='black', ms=20)\n",
    "\n",
    "plt.show()\n",
    "#plt.savefig('./time_svm_'+str(jobid)+'.jpg')\n",
    "#plt.close()"
   ]
  },
  {
   "cell_type": "code",
   "execution_count": 10,
   "metadata": {},
   "outputs": [
    {
     "name": "stdout",
     "output_type": "stream",
     "text": [
      "(7, 16384)\n"
     ]
    }
   ],
   "source": [
    "data= np.load('/media/cat/4TBSSD/yuki/IJ2/tif_files/IJ2pm_Mar3_30Hz/IJ2pm_Mar3_30Hz_code_04_lockout_10sec_random_ROItimeCourses_10sec_pca_0.95_spatial.npy')\n",
    "print (data.shape)"
   ]
  },
  {
   "cell_type": "code",
   "execution_count": null,
   "metadata": {},
   "outputs": [],
   "source": []
  }
 ],
 "metadata": {
  "kernelspec": {
   "display_name": "Python 3",
   "language": "python",
   "name": "python3"
  },
  "language_info": {
   "codemirror_mode": {
    "name": "ipython",
    "version": 3
   },
   "file_extension": ".py",
   "mimetype": "text/x-python",
   "name": "python",
   "nbconvert_exporter": "python",
   "pygments_lexer": "ipython3",
   "version": "3.8.0"
  }
 },
 "nbformat": 4,
 "nbformat_minor": 4
}
