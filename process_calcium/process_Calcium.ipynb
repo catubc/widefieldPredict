{
 "cells": [
  {
   "cell_type": "code",
   "execution_count": 1,
   "metadata": {},
   "outputs": [
    {
     "data": {
      "application/javascript": [
       "IPython.notebook.set_autosave_interval(180000)"
      ]
     },
     "metadata": {},
     "output_type": "display_data"
    },
    {
     "name": "stdout",
     "output_type": "stream",
     "text": [
      "Autosaving every 180 seconds\n"
     ]
    },
    {
     "data": {
      "text/html": [
       "<style>.container { width:100% !important; }</style>"
      ],
      "text/plain": [
       "<IPython.core.display.HTML object>"
      ]
     },
     "metadata": {},
     "output_type": "display_data"
    }
   ],
   "source": [
    "import matplotlib\n",
    "#matplotlib.use('Agg')\n",
    "\n",
    "%load_ext autoreload\n",
    "%autoreload 2\n",
    "\n",
    "%matplotlib tk\n",
    "%autosave 180\n",
    "import matplotlib.pyplot as plt\n",
    "from IPython.core.display import display, HTML\n",
    "display(HTML(\"<style>.container { width:100% !important; }</style>\"))\n",
    "\n",
    "import numpy as np\n",
    "import os\n",
    "\n",
    "# pre process data module\n",
    "from ProcessCalcium import ProcessCalcium\n",
    "\n",
    "# \n",
    "data_dir = '/media/cat/4TBSSD/yuki/'\n",
    "\n"
   ]
  },
  {
   "cell_type": "code",
   "execution_count": 2,
   "metadata": {
    "scrolled": true
   },
   "outputs": [
    {
     "name": "stderr",
     "output_type": "stream",
     "text": [
      "\r",
      "  0%|          | 0/71 [00:00<?, ?it/s]"
     ]
    },
    {
     "name": "stdout",
     "output_type": "stream",
     "text": [
      "PROCESSING:  IA1\n",
      "DATA_STM:  (71, 901, 128, 128)\n",
      "    denoising data (pca.transofrm(X)) \n",
      "        done denoising data\n",
      "DATA_STM:  (71, 901, 128, 128)\n",
      "    denoising data (pca.transofrm(X)) \n",
      "        done denoising data\n"
     ]
    },
    {
     "name": "stderr",
     "output_type": "stream",
     "text": [
      "\r",
      "  1%|▏         | 1/71 [07:08<8:19:32, 428.18s/it]"
     ]
    },
    {
     "name": "stdout",
     "output_type": "stream",
     "text": [
      "data_stm is empty (could not compute stm, skipping :  IA1pm_Feb1_30Hz  )\n",
      "DATA_STM:  (53, 901, 128, 128)\n",
      "    denoising data (pca.transofrm(X)) \n",
      "        done denoising data\n",
      "DATA_STM:  (53, 901, 128, 128)\n",
      "    denoising data (pca.transofrm(X)) \n",
      "        done denoising data\n"
     ]
    },
    {
     "name": "stderr",
     "output_type": "stream",
     "text": [
      "\r",
      "  3%|▎         | 2/71 [11:01<6:00:30, 313.48s/it]"
     ]
    },
    {
     "name": "stdout",
     "output_type": "stream",
     "text": [
      "data_stm is empty (could not compute stm, skipping :  IA1pm_Feb2_30Hz  )\n",
      "DATA_STM:  (46, 901, 128, 128)\n",
      "    denoising data (pca.transofrm(X)) \n",
      "        done denoising data\n",
      "DATA_STM:  (46, 901, 128, 128)\n",
      "    denoising data (pca.transofrm(X)) \n",
      "        done denoising data\n"
     ]
    },
    {
     "name": "stderr",
     "output_type": "stream",
     "text": [
      "\r",
      "  4%|▍         | 3/71 [14:09<4:50:30, 256.34s/it]"
     ]
    },
    {
     "name": "stdout",
     "output_type": "stream",
     "text": [
      "data_stm is empty (could not compute stm, skipping :  IA1pm_Feb3_30Hz  )\n",
      "DATA_STM:  (70, 901, 128, 128)\n",
      "    denoising data (pca.transofrm(X)) \n",
      "        done denoising data\n",
      "DATA_STM:  (70, 901, 128, 128)\n",
      "    denoising data (pca.transofrm(X)) \n",
      "        done denoising data\n"
     ]
    },
    {
     "name": "stderr",
     "output_type": "stream",
     "text": [
      "\r",
      "  6%|▌         | 4/71 [20:54<5:51:43, 314.98s/it]"
     ]
    },
    {
     "name": "stdout",
     "output_type": "stream",
     "text": [
      "data_stm is empty (could not compute stm, skipping :  IA1pm_Feb4_30Hz  )\n",
      "DATA_STM:  (81, 901, 128, 128)\n",
      "    denoising data (pca.transofrm(X)) \n",
      "        done denoising data\n",
      "DATA_STM:  (81, 901, 128, 128)\n",
      "    denoising data (pca.transofrm(X)) \n",
      "        done denoising data\n"
     ]
    },
    {
     "name": "stderr",
     "output_type": "stream",
     "text": [
      "\r",
      "  7%|▋         | 5/71 [29:38<7:09:27, 390.42s/it]"
     ]
    },
    {
     "name": "stdout",
     "output_type": "stream",
     "text": [
      "data_stm is empty (could not compute stm, skipping :  IA1pm_Feb5_30Hz  )\n",
      "DATA_STM:  (56, 901, 128, 128)\n",
      "    denoising data (pca.transofrm(X)) \n",
      "        done denoising data\n",
      "DATA_STM:  (56, 901, 128, 128)\n",
      "    denoising data (pca.transofrm(X)) \n",
      "        done denoising data\n"
     ]
    },
    {
     "name": "stderr",
     "output_type": "stream",
     "text": [
      "\r",
      "  8%|▊         | 6/71 [33:58<6:14:52, 346.04s/it]"
     ]
    },
    {
     "name": "stdout",
     "output_type": "stream",
     "text": [
      "data_stm is empty (could not compute stm, skipping :  IA1pm_Feb9_30Hz  )\n",
      "DATA_STM:  (78, 901, 128, 128)\n",
      "    denoising data (pca.transofrm(X)) \n",
      "        done denoising data\n",
      "DATA_STM:  (78, 901, 128, 128)\n",
      "    denoising data (pca.transofrm(X)) \n",
      "        done denoising data\n"
     ]
    },
    {
     "name": "stderr",
     "output_type": "stream",
     "text": [
      "\r",
      " 10%|▉         | 7/71 [42:00<6:56:33, 390.53s/it]"
     ]
    },
    {
     "name": "stdout",
     "output_type": "stream",
     "text": [
      "data_stm is empty (could not compute stm, skipping :  IA1pm_Feb10_30Hz  )\n",
      "DATA_STM:  (73, 901, 128, 128)\n",
      "    denoising data (pca.transofrm(X)) \n",
      "        done denoising data\n",
      "DATA_STM:  (73, 901, 128, 128)\n",
      "    denoising data (pca.transofrm(X)) \n",
      "        done denoising data\n"
     ]
    },
    {
     "name": "stderr",
     "output_type": "stream",
     "text": [
      "\r",
      " 11%|█▏        | 8/71 [48:47<6:55:29, 395.71s/it]"
     ]
    },
    {
     "name": "stdout",
     "output_type": "stream",
     "text": [
      "data_stm is empty (could not compute stm, skipping :  IA1pm_Feb11_30Hz  )\n",
      "DATA_STM:  (62, 901, 128, 128)\n",
      "    denoising data (pca.transofrm(X)) \n",
      "        done denoising data\n",
      "DATA_STM:  (62, 901, 128, 128)\n",
      "    denoising data (pca.transofrm(X)) \n",
      "        done denoising data\n"
     ]
    },
    {
     "name": "stderr",
     "output_type": "stream",
     "text": [
      "\r",
      " 13%|█▎        | 9/71 [53:49<6:18:31, 366.31s/it]"
     ]
    },
    {
     "name": "stdout",
     "output_type": "stream",
     "text": [
      "data_stm is empty (could not compute stm, skipping :  IA1pm_Feb12_30Hz  )\n",
      "DATA_STM:  (56, 901, 128, 128)\n",
      "    denoising data (pca.transofrm(X)) \n",
      "        done denoising data\n",
      "DATA_STM:  (56, 901, 128, 128)\n",
      "    denoising data (pca.transofrm(X)) \n",
      "        done denoising data\n"
     ]
    },
    {
     "name": "stderr",
     "output_type": "stream",
     "text": [
      "\r",
      " 14%|█▍        | 10/71 [58:04<5:37:31, 331.99s/it]"
     ]
    },
    {
     "name": "stdout",
     "output_type": "stream",
     "text": [
      "data_stm is empty (could not compute stm, skipping :  IA1pm_Feb15_30Hz  )\n",
      "DATA_STM:  (76, 901, 128, 128)\n",
      "    denoising data (pca.transofrm(X)) \n",
      "        done denoising data\n",
      "DATA_STM:  (76, 901, 128, 128)\n",
      "    denoising data (pca.transofrm(X)) \n",
      "        done denoising data\n"
     ]
    },
    {
     "name": "stderr",
     "output_type": "stream",
     "text": [
      "\r",
      " 15%|█▌        | 11/71 [1:05:35<6:08:30, 368.52s/it]"
     ]
    },
    {
     "name": "stdout",
     "output_type": "stream",
     "text": [
      "data_stm is empty (could not compute stm, skipping :  IA1pm_Feb16_30Hz  )\n",
      "DATA_STM:  (67, 901, 128, 128)\n",
      "    denoising data (pca.transofrm(X)) \n",
      "        done denoising data\n",
      "DATA_STM:  (67, 901, 128, 128)\n",
      "    denoising data (pca.transofrm(X)) \n",
      "        done denoising data\n"
     ]
    },
    {
     "name": "stderr",
     "output_type": "stream",
     "text": [
      "\r",
      " 17%|█▋        | 12/71 [1:11:18<5:54:41, 360.70s/it]"
     ]
    },
    {
     "name": "stdout",
     "output_type": "stream",
     "text": [
      "data_stm is empty (could not compute stm, skipping :  IA1pm_Feb17_30Hz  )\n",
      "No video available:  IA1pm_Feb18_30Hz\n",
      " ... session has no lever pulls  IA1pm_Feb18_30Hz\n",
      "No video available:  IA1pm_Feb19_30Hz\n",
      " ... session has no lever pulls  IA1pm_Feb19_30Hz\n",
      "No video available:  IA1pm_Feb22_30Hz\n",
      " ... session has no lever pulls  IA1pm_Feb22_30Hz\n",
      "No video available:  IA1pm_Feb23_30Hz\n",
      " ... session has no lever pulls  IA1pm_Feb23_30Hz\n",
      "No video available:  IA1pm_Feb24_30Hz\n",
      " ... session has no lever pulls  IA1pm_Feb24_30Hz\n",
      "No video available:  IA1pm_Feb25_30Hz\n",
      " ... session has no lever pulls  IA1pm_Feb25_30Hz\n",
      "No video available:  IA1pm_Feb26_30Hz\n",
      " ... session has no lever pulls  IA1pm_Feb26_30Hz\n",
      "No video available:  IA1pm_Feb29_30Hz\n",
      " ... session has no lever pulls  IA1pm_Feb29_30Hz\n",
      "No video available:  IA1pm_Mar1_30Hz\n",
      " ... session has no lever pulls  IA1pm_Mar1_30Hz\n",
      "No video available:  IA1pm_Mar2_30Hz\n",
      " ... session has no lever pulls  IA1pm_Mar2_30Hz\n",
      "No video available:  IA1pm_Mar3_30Hz\n",
      " ... session has no lever pulls  IA1pm_Mar3_30Hz\n",
      "No video available:  IA1am_Mar4_30Hz\n",
      " ... session has no lever pulls  IA1am_Mar4_30Hz\n",
      "No video available:  IA1am_Mar7_30Hz\n",
      " ... session has no lever pulls  IA1am_Mar7_30Hz\n",
      "No video available:  IA1pm_Mar8_30Hz\n",
      " ... session has no lever pulls  IA1pm_Mar8_30Hz\n",
      "No video available:  IA1am_Mar9_30Hz\n",
      " ... session has no lever pulls  IA1am_Mar9_30Hz\n",
      "No video available:  IA1am_Mar10_30Hz\n",
      " ... session has no lever pulls  IA1am_Mar10_30Hz\n",
      "No video available:  IA1am_Mar11_30Hz\n",
      " ... session has no lever pulls  IA1am_Mar11_30Hz\n",
      "No video available:  IA1pm_Mar14_30Hz\n",
      " ... session has no lever pulls  IA1pm_Mar14_30Hz\n",
      "No video available:  IA1am_Mar15_30Hz\n",
      " ... session has no lever pulls  IA1am_Mar15_30Hz\n",
      "No video available:  IA1pm_Mar16_30Hz\n",
      " ... session has no lever pulls  IA1pm_Mar16_30Hz\n",
      "No video available:  IA1pm_Mar17_30Hz\n",
      " ... session has no lever pulls  IA1pm_Mar17_30Hz\n",
      "No video available:  IA1pm_Mar18_30Hz\n",
      " ... session has no lever pulls  IA1pm_Mar18_30Hz\n",
      "No video available:  IA1pm_Mar21_30Hz\n",
      " ... session has no lever pulls  IA1pm_Mar21_30Hz\n",
      "No video available:  IA1pm_Mar22_30Hz\n",
      " ... session has no lever pulls  IA1pm_Mar22_30Hz\n",
      "No video available:  IA1pm_Mar23_30Hz\n",
      " ... session has no lever pulls  IA1pm_Mar23_30Hz\n",
      "No video available:  IA1pm_Mar24_30Hz\n",
      " ... session has no lever pulls  IA1pm_Mar24_30Hz\n",
      "No video available:  IA1pm_Mar29_30Hz\n",
      " ... session has no lever pulls  IA1pm_Mar29_30Hz\n",
      "No video available:  IA1pm_Mar30_30Hz\n",
      " ... session has no lever pulls  IA1pm_Mar30_30Hz\n",
      "No video available:  IA1pm_Mar31_30Hz\n",
      " ... session has no lever pulls  IA1pm_Mar31_30Hz\n",
      "No video available:  IA1pm_Apr1_30Hz\n",
      " ... session has no lever pulls  IA1pm_Apr1_30Hz\n",
      "No video available:  IA1pm_Apr4_30Hz\n",
      " ... session has no lever pulls  IA1pm_Apr4_30Hz\n",
      "No video available:  IA1pm_Apr5_30Hz\n",
      " ... session has no lever pulls  IA1pm_Apr5_30Hz\n",
      "No video available:  IA1pm_Apr6_30Hz\n",
      " ... session has no lever pulls  IA1pm_Apr6_30Hz\n",
      "No video available:  IA1pm_Apr7_30Hz\n",
      " ... session has no lever pulls  IA1pm_Apr7_30Hz\n",
      "No video available:  IA1pm_Apr11_Day3_30Hz\n",
      " ... session has no lever pulls  IA1pm_Apr11_Day3_30Hz\n",
      "No video available:  IA1pm_Apr13_Day5_30Hz\n",
      " ... session has no lever pulls  IA1pm_Apr13_Day5_30Hz\n",
      "No video available:  IA1pm_Apr15_Day7_30Hz\n",
      " ... session has no lever pulls  IA1pm_Apr15_Day7_30Hz\n",
      "No video available:  IA1pm_Apr18_Week2_30Hz\n",
      " ... session has no lever pulls  IA1pm_Apr18_Week2_30Hz\n",
      "No video available:  IA1pm_Apr19_Week2_30Hz\n",
      " ... session has no lever pulls  IA1pm_Apr19_Week2_30Hz\n",
      "No video available:  IA1pm_Apr20_Week2_30Hz\n",
      " ... session has no lever pulls  IA1pm_Apr20_Week2_30Hz\n",
      "DATA_STM:  (37, 901, 128, 128)\n",
      "    denoising data (pca.transofrm(X)) \n",
      "        done denoising data\n",
      "DATA_STM:  (37, 901, 128, 128)\n",
      "    denoising data (pca.transofrm(X)) \n",
      "        done denoising data\n"
     ]
    },
    {
     "name": "stderr",
     "output_type": "stream",
     "text": [
      "\r",
      " 75%|███████▍  | 53/71 [1:13:20<06:35, 21.99s/it]   "
     ]
    },
    {
     "name": "stdout",
     "output_type": "stream",
     "text": [
      "data_stm is empty (could not compute stm, skipping :  IA1pm_Apr21_Week2_30Hz  )\n",
      "DATA_STM:  (34, 901, 128, 128)\n",
      "    denoising data (pca.transofrm(X)) \n",
      "        done denoising data\n",
      "DATA_STM:  (34, 901, 128, 128)\n",
      "    denoising data (pca.transofrm(X)) \n",
      "        done denoising data\n"
     ]
    },
    {
     "name": "stderr",
     "output_type": "stream",
     "text": [
      "\r",
      " 76%|███████▌  | 54/71 [1:15:14<07:03, 24.92s/it]"
     ]
    },
    {
     "name": "stdout",
     "output_type": "stream",
     "text": [
      "data_stm is empty (could not compute stm, skipping :  IA1pm_Apr22_Week2_30Hz  )\n",
      "DATA_STM:  (22, 901, 128, 128)\n",
      "    denoising data (pca.transofrm(X)) \n",
      "        done denoising data\n",
      "DATA_STM:  (22, 901, 128, 128)\n",
      "    denoising data (pca.transofrm(X)) \n",
      "        done denoising data\n"
     ]
    },
    {
     "name": "stderr",
     "output_type": "stream",
     "text": [
      "\r",
      " 77%|███████▋  | 55/71 [1:16:15<07:04, 26.51s/it]"
     ]
    },
    {
     "name": "stdout",
     "output_type": "stream",
     "text": [
      "data_stm is empty (could not compute stm, skipping :  IA1pm_Apr25_Week3_30Hz  )\n",
      "DATA_STM:  (13, 901, 128, 128)\n",
      "    denoising data (pca.transofrm(X)) \n",
      "        done denoising data\n",
      "DATA_STM:  (13, 901, 128, 128)\n",
      "    denoising data (pca.transofrm(X)) \n",
      "        done denoising data\n"
     ]
    },
    {
     "name": "stderr",
     "output_type": "stream",
     "text": [
      "\r",
      " 79%|███████▉  | 56/71 [1:16:42<06:38, 26.54s/it]"
     ]
    },
    {
     "name": "stdout",
     "output_type": "stream",
     "text": [
      "data_stm is empty (could not compute stm, skipping :  IA1pm_Apr26_Week3_30Hz  )\n",
      "DATA_STM:  (15, 901, 128, 128)\n",
      "    denoising data (pca.transofrm(X)) \n",
      "        done denoising data\n",
      "DATA_STM:  (15, 901, 128, 128)\n",
      "    denoising data (pca.transofrm(X)) \n",
      "        done denoising data\n"
     ]
    },
    {
     "name": "stderr",
     "output_type": "stream",
     "text": [
      "\r",
      " 80%|████████  | 57/71 [1:17:24<06:27, 27.70s/it]"
     ]
    },
    {
     "name": "stdout",
     "output_type": "stream",
     "text": [
      "data_stm is empty (could not compute stm, skipping :  IA1pm_Apr27_Week3_30Hz  )\n",
      "DATA_STM:  (17, 901, 128, 128)\n",
      "    denoising data (pca.transofrm(X)) \n",
      "        done denoising data\n",
      "DATA_STM:  (17, 901, 128, 128)\n",
      "    denoising data (pca.transofrm(X)) \n",
      "        done denoising data\n"
     ]
    },
    {
     "name": "stderr",
     "output_type": "stream",
     "text": [
      "\r",
      " 82%|████████▏ | 58/71 [1:18:02<06:13, 28.71s/it]"
     ]
    },
    {
     "name": "stdout",
     "output_type": "stream",
     "text": [
      "data_stm is empty (could not compute stm, skipping :  IA1pm_Apr28_Week3_30Hz  )\n",
      "DATA_STM:  (44, 901, 128, 128)\n",
      "    denoising data (pca.transofrm(X)) \n",
      "        done denoising data\n",
      "DATA_STM:  (44, 901, 128, 128)\n",
      "    denoising data (pca.transofrm(X)) \n",
      "        done denoising data\n"
     ]
    },
    {
     "name": "stderr",
     "output_type": "stream",
     "text": [
      "\r",
      " 83%|████████▎ | 59/71 [1:21:03<09:31, 47.65s/it]"
     ]
    },
    {
     "name": "stdout",
     "output_type": "stream",
     "text": [
      "data_stm is empty (could not compute stm, skipping :  IA1pm_Apr29_Week3_30Hz  )\n",
      "DATA_STM:  (52, 901, 128, 128)\n",
      "    denoising data (pca.transofrm(X)) \n",
      "        done denoising data\n",
      "DATA_STM:  (52, 901, 128, 128)\n",
      "    denoising data (pca.transofrm(X)) \n",
      "        done denoising data\n"
     ]
    },
    {
     "name": "stderr",
     "output_type": "stream",
     "text": [
      "\r",
      " 85%|████████▍ | 60/71 [1:24:49<13:41, 74.64s/it]"
     ]
    },
    {
     "name": "stdout",
     "output_type": "stream",
     "text": [
      "data_stm is empty (could not compute stm, skipping :  IA1am_May2_Week4_30Hz  )\n",
      "No video available:  IA1am_May4_Week4_30Hz\n",
      " ... session has no lever pulls  IA1am_May4_Week4_30Hz\n",
      "DATA_STM:  (29, 901, 128, 128)\n",
      "    denoising data (pca.transofrm(X)) \n",
      "        done denoising data\n",
      "DATA_STM:  (29, 901, 128, 128)\n",
      "    denoising data (pca.transofrm(X)) \n",
      "        done denoising data\n"
     ]
    },
    {
     "name": "stderr",
     "output_type": "stream",
     "text": [
      "\r",
      " 87%|████████▋ | 62/71 [1:26:13<09:43, 64.78s/it]"
     ]
    },
    {
     "name": "stdout",
     "output_type": "stream",
     "text": [
      "data_stm is empty (could not compute stm, skipping :  IA1am_May5_Week4_30Hz  )\n",
      "DATA_STM:  (15, 901, 128, 128)\n",
      "    denoising data (pca.transofrm(X)) \n",
      "        done denoising data\n",
      "DATA_STM:  (15, 901, 128, 128)\n",
      "    denoising data (pca.transofrm(X)) \n",
      "        done denoising data\n"
     ]
    },
    {
     "name": "stderr",
     "output_type": "stream",
     "text": [
      "\r",
      " 89%|████████▊ | 63/71 [1:26:57<08:08, 61.05s/it]"
     ]
    },
    {
     "name": "stdout",
     "output_type": "stream",
     "text": [
      "data_stm is empty (could not compute stm, skipping :  IA1am_May6_Week4_30Hz  )\n",
      "DATA_STM:  (27, 901, 128, 128)\n",
      "    denoising data (pca.transofrm(X)) \n",
      "        done denoising data\n",
      "DATA_STM:  (27, 901, 128, 128)\n",
      "    denoising data (pca.transofrm(X)) \n",
      "        done denoising data\n"
     ]
    },
    {
     "name": "stderr",
     "output_type": "stream",
     "text": [
      "\r",
      " 90%|█████████ | 64/71 [1:28:15<07:31, 64.57s/it]"
     ]
    },
    {
     "name": "stdout",
     "output_type": "stream",
     "text": [
      "data_stm is empty (could not compute stm, skipping :  IA1am_May9_Week5_30Hz  )\n",
      "DATA_STM:  (39, 901, 128, 128)\n",
      "    denoising data (pca.transofrm(X)) \n",
      "        done denoising data\n",
      "DATA_STM:  (39, 901, 128, 128)\n",
      "    denoising data (pca.transofrm(X)) \n",
      "        done denoising data\n"
     ]
    },
    {
     "name": "stderr",
     "output_type": "stream",
     "text": [
      "\r",
      " 92%|█████████▏| 65/71 [1:30:49<08:26, 84.50s/it]"
     ]
    },
    {
     "name": "stdout",
     "output_type": "stream",
     "text": [
      "data_stm is empty (could not compute stm, skipping :  IA1am_May10_Week5_30Hz  )\n",
      "DATA_STM:  (21, 901, 128, 128)\n",
      "    denoising data (pca.transofrm(X)) \n",
      "        done denoising data\n",
      "DATA_STM:  (21, 901, 128, 128)\n",
      "    denoising data (pca.transofrm(X)) \n",
      "        done denoising data\n"
     ]
    },
    {
     "name": "stderr",
     "output_type": "stream",
     "text": [
      "\r",
      " 93%|█████████▎| 66/71 [1:31:50<06:34, 78.94s/it]"
     ]
    },
    {
     "name": "stdout",
     "output_type": "stream",
     "text": [
      "data_stm is empty (could not compute stm, skipping :  IA1am_May12_Week5_30Hz  )\n",
      "DATA_STM:  (44, 901, 128, 128)\n",
      "    denoising data (pca.transofrm(X)) \n",
      "        done denoising data\n",
      "DATA_STM:  (44, 901, 128, 128)\n",
      "    denoising data (pca.transofrm(X)) \n",
      "        done denoising data\n"
     ]
    },
    {
     "name": "stderr",
     "output_type": "stream",
     "text": [
      "\r",
      " 94%|█████████▍| 67/71 [1:35:10<07:19, 109.91s/it]"
     ]
    },
    {
     "name": "stdout",
     "output_type": "stream",
     "text": [
      "data_stm is empty (could not compute stm, skipping :  IA1am_May13_Week5_30Hz  )\n",
      "DATA_STM:  (30, 901, 128, 128)\n",
      "    denoising data (pca.transofrm(X)) \n",
      "        done denoising data\n",
      "DATA_STM:  (30, 901, 128, 128)\n",
      "    denoising data (pca.transofrm(X)) \n",
      "        done denoising data\n"
     ]
    },
    {
     "name": "stderr",
     "output_type": "stream",
     "text": [
      "\r",
      " 96%|█████████▌| 68/71 [1:36:55<05:26, 108.75s/it]"
     ]
    },
    {
     "name": "stdout",
     "output_type": "stream",
     "text": [
      "data_stm is empty (could not compute stm, skipping :  IA1am_May16_Week6_30Hz  )\n",
      "DATA_STM:  (32, 901, 128, 128)\n",
      "    denoising data (pca.transofrm(X)) \n",
      "        done denoising data\n",
      "DATA_STM:  (32, 901, 128, 128)\n",
      "    denoising data (pca.transofrm(X)) \n",
      "        done denoising data\n"
     ]
    },
    {
     "name": "stderr",
     "output_type": "stream",
     "text": [
      "\r",
      " 97%|█████████▋| 69/71 [1:38:53<03:42, 111.27s/it]"
     ]
    },
    {
     "name": "stdout",
     "output_type": "stream",
     "text": [
      "data_stm is empty (could not compute stm, skipping :  IA1am_May17_Week6_30Hz  )\n",
      "DATA_STM:  (48, 901, 128, 128)\n",
      "    denoising data (pca.transofrm(X)) \n",
      "        done denoising data\n",
      "DATA_STM:  (48, 901, 128, 128)\n",
      "    denoising data (pca.transofrm(X)) \n",
      "        done denoising data\n"
     ]
    },
    {
     "name": "stderr",
     "output_type": "stream",
     "text": [
      "\r",
      " 99%|█████████▊| 70/71 [1:42:30<02:21, 141.12s/it]"
     ]
    },
    {
     "name": "stdout",
     "output_type": "stream",
     "text": [
      "data_stm is empty (could not compute stm, skipping :  IA1am_May18_Week6_30Hz  )\n",
      "DATA_STM:  (54, 901, 128, 128)\n",
      "    denoising data (pca.transofrm(X)) \n",
      "        done denoising data\n",
      "DATA_STM:  (54, 901, 128, 128)\n",
      "    denoising data (pca.transofrm(X)) \n",
      "        done denoising data\n"
     ]
    },
    {
     "name": "stderr",
     "output_type": "stream",
     "text": [
      "100%|██████████| 71/71 [1:46:56<00:00, 90.38s/it] \n",
      "  0%|          | 0/44 [00:00<?, ?it/s]"
     ]
    },
    {
     "name": "stdout",
     "output_type": "stream",
     "text": [
      "data_stm is empty (could not compute stm, skipping :  IA1am_May20_Week6_30Hz  )\n",
      "PROCESSING:  IA2\n",
      "DATA_STM:  (53, 901, 128, 128)\n",
      "    denoising data (pca.transofrm(X)) \n",
      "        done denoising data\n",
      "DATA_STM:  (53, 901, 128, 128)\n",
      "    denoising data (pca.transofrm(X)) \n",
      "        done denoising data\n"
     ]
    },
    {
     "name": "stderr",
     "output_type": "stream",
     "text": [
      "\r",
      "  2%|▏         | 1/44 [03:51<2:45:54, 231.50s/it]"
     ]
    },
    {
     "name": "stdout",
     "output_type": "stream",
     "text": [
      "data_stm is empty (could not compute stm, skipping :  IA2pm_Feb1_30Hz  )\n",
      "DATA_STM:  (40, 901, 128, 128)\n",
      "    denoising data (pca.transofrm(X)) \n",
      "        done denoising data\n",
      "DATA_STM:  (40, 901, 128, 128)\n",
      "    denoising data (pca.transofrm(X)) \n",
      "        done denoising data\n"
     ]
    },
    {
     "name": "stderr",
     "output_type": "stream",
     "text": [
      "\r",
      "  5%|▍         | 2/44 [06:18<2:07:07, 181.61s/it]"
     ]
    },
    {
     "name": "stdout",
     "output_type": "stream",
     "text": [
      "data_stm is empty (could not compute stm, skipping :  IA2pm_Feb2_30Hz  )\n",
      "DATA_STM:  (54, 901, 128, 128)\n",
      "    denoising data (pca.transofrm(X)) \n",
      "        done denoising data\n",
      "DATA_STM:  (54, 901, 128, 128)\n",
      "    denoising data (pca.transofrm(X)) \n",
      "        done denoising data\n"
     ]
    },
    {
     "name": "stderr",
     "output_type": "stream",
     "text": [
      "\r",
      "  7%|▋         | 3/44 [10:16<2:21:51, 207.59s/it]"
     ]
    },
    {
     "name": "stdout",
     "output_type": "stream",
     "text": [
      "data_stm is empty (could not compute stm, skipping :  IA2pm_Feb3_30Hz  )\n",
      "DATA_STM:  (80, 901, 128, 128)\n",
      "    denoising data (pca.transofrm(X)) \n",
      "        done denoising data\n",
      "DATA_STM:  (80, 901, 128, 128)\n",
      "    denoising data (pca.transofrm(X)) \n",
      "        done denoising data\n"
     ]
    },
    {
     "name": "stderr",
     "output_type": "stream",
     "text": [
      "\r",
      "  9%|▉         | 4/44 [19:08<3:43:42, 335.57s/it]"
     ]
    },
    {
     "name": "stdout",
     "output_type": "stream",
     "text": [
      "data_stm is empty (could not compute stm, skipping :  IA2pm_Feb4_30Hz  )\n",
      "DATA_STM:  (63, 901, 128, 128)\n",
      "    denoising data (pca.transofrm(X)) \n",
      "        done denoising data\n",
      "DATA_STM:  (63, 901, 128, 128)\n",
      "    denoising data (pca.transofrm(X)) \n",
      "        done denoising data\n"
     ]
    },
    {
     "name": "stderr",
     "output_type": "stream",
     "text": [
      "\r",
      " 11%|█▏        | 5/44 [24:52<3:40:13, 338.80s/it]"
     ]
    },
    {
     "name": "stdout",
     "output_type": "stream",
     "text": [
      "data_stm is empty (could not compute stm, skipping :  IA2pm_Feb5_30Hz  )\n",
      "DATA_STM:  (60, 901, 128, 128)\n",
      "    denoising data (pca.transofrm(X)) \n",
      "        done denoising data\n",
      "DATA_STM:  (60, 901, 128, 128)\n",
      "    denoising data (pca.transofrm(X)) \n",
      "        done denoising data\n"
     ]
    },
    {
     "name": "stderr",
     "output_type": "stream",
     "text": [
      "\r",
      " 14%|█▎        | 6/44 [29:11<3:17:16, 311.48s/it]"
     ]
    },
    {
     "name": "stdout",
     "output_type": "stream",
     "text": [
      "data_stm is empty (could not compute stm, skipping :  IA2pm_Feb9_30Hz  )\n",
      "DATA_STM:  (27, 901, 128, 128)\n",
      "    denoising data (pca.transofrm(X)) \n",
      "        done denoising data\n",
      "DATA_STM:  (27, 901, 128, 128)\n",
      "    denoising data (pca.transofrm(X)) \n",
      "        done denoising data\n"
     ]
    },
    {
     "name": "stderr",
     "output_type": "stream",
     "text": [
      "\r",
      " 16%|█▌        | 7/44 [30:21<2:23:28, 232.66s/it]"
     ]
    },
    {
     "name": "stdout",
     "output_type": "stream",
     "text": [
      "data_stm is empty (could not compute stm, skipping :  IA2pm_Feb10_30Hz  )\n",
      "DATA_STM:  (61, 901, 128, 128)\n",
      "    denoising data (pca.transofrm(X)) \n",
      "        done denoising data\n",
      "DATA_STM:  (61, 901, 128, 128)\n",
      "    denoising data (pca.transofrm(X)) \n",
      "        done denoising data\n"
     ]
    },
    {
     "name": "stderr",
     "output_type": "stream",
     "text": [
      "\r",
      " 18%|█▊        | 8/44 [35:24<2:33:00, 255.01s/it]"
     ]
    },
    {
     "name": "stdout",
     "output_type": "stream",
     "text": [
      "data_stm is empty (could not compute stm, skipping :  IA2pm_Feb11_30Hz  )\n",
      "DATA_STM:  (47, 901, 128, 128)\n",
      "    denoising data (pca.transofrm(X)) \n",
      "        done denoising data\n",
      "DATA_STM:  (47, 901, 128, 128)\n",
      "    denoising data (pca.transofrm(X)) \n",
      "        done denoising data\n"
     ]
    },
    {
     "name": "stderr",
     "output_type": "stream",
     "text": [
      "\r",
      " 20%|██        | 9/44 [38:23<2:14:50, 231.16s/it]"
     ]
    },
    {
     "name": "stdout",
     "output_type": "stream",
     "text": [
      "data_stm is empty (could not compute stm, skipping :  IA2pm_Feb12_30Hz  )\n",
      "DATA_STM:  (68, 901, 128, 128)\n",
      "    denoising data (pca.transofrm(X)) \n",
      "        done denoising data\n",
      "DATA_STM:  (68, 901, 128, 128)\n",
      "    denoising data (pca.transofrm(X)) \n",
      "        done denoising data\n"
     ]
    },
    {
     "name": "stderr",
     "output_type": "stream",
     "text": [
      "\r",
      " 23%|██▎       | 10/44 [44:33<2:35:19, 274.11s/it]"
     ]
    },
    {
     "name": "stdout",
     "output_type": "stream",
     "text": [
      "data_stm is empty (could not compute stm, skipping :  IA2pm_Feb15_30Hz  )\n",
      "DATA_STM:  (36, 901, 128, 128)\n",
      "    denoising data (pca.transofrm(X)) \n",
      "        done denoising data\n",
      "DATA_STM:  (36, 901, 128, 128)\n",
      "    denoising data (pca.transofrm(X)) \n",
      "        done denoising data\n"
     ]
    },
    {
     "name": "stderr",
     "output_type": "stream",
     "text": [
      "\r",
      " 25%|██▌       | 11/44 [46:31<2:04:26, 226.26s/it]"
     ]
    },
    {
     "name": "stdout",
     "output_type": "stream",
     "text": [
      "data_stm is empty (could not compute stm, skipping :  IA2pm_Feb16_30Hz  )\n",
      "DATA_STM:  (24, 901, 128, 128)\n",
      "    denoising data (pca.transofrm(X)) \n",
      "        done denoising data\n",
      "DATA_STM:  (24, 901, 128, 128)\n",
      "    denoising data (pca.transofrm(X)) \n",
      "        done denoising data\n"
     ]
    },
    {
     "name": "stderr",
     "output_type": "stream",
     "text": [
      "100%|██████████| 44/44 [47:37<00:00, 64.95s/it]   \n",
      "  0%|          | 0/44 [00:00<?, ?it/s]"
     ]
    },
    {
     "name": "stdout",
     "output_type": "stream",
     "text": [
      "data_stm is empty (could not compute stm, skipping :  IA2pm_Feb17_30Hz  )\n",
      "No video available:  IA2pm_Feb18_30Hz\n",
      " ... session has no lever pulls  IA2pm_Feb18_30Hz\n",
      "No video available:  IA2pm_Feb19_30Hz\n",
      " ... session has no lever pulls  IA2pm_Feb19_30Hz\n",
      "No video available:  IA2pm_Feb22_30Hz\n",
      " ... session has no lever pulls  IA2pm_Feb22_30Hz\n",
      "No video available:  IA2pm_Feb23_30Hz\n",
      " ... session has no lever pulls  IA2pm_Feb23_30Hz\n",
      "No video available:  IA2pm_Feb24_30Hz\n",
      " ... session has no lever pulls  IA2pm_Feb24_30Hz\n",
      "No video available:  IA2pm_Feb25_30Hz\n",
      " ... session has no lever pulls  IA2pm_Feb25_30Hz\n",
      "No video available:  IA2pm_Feb26_30Hz\n",
      " ... session has no lever pulls  IA2pm_Feb26_30Hz\n",
      "No video available:  IA2pm_Feb29_30Hz\n",
      " ... session has no lever pulls  IA2pm_Feb29_30Hz\n",
      "No video available:  IA2pm_Mar1_30Hz\n",
      " ... session has no lever pulls  IA2pm_Mar1_30Hz\n",
      "No video available:  IA2pm_Mar2_30Hz\n",
      " ... session has no lever pulls  IA2pm_Mar2_30Hz\n",
      "No video available:  IA2pm_Mar3_30Hz\n",
      " ... session has no lever pulls  IA2pm_Mar3_30Hz\n",
      "No video available:  IA2am_Mar4_30Hz\n",
      " ... session has no lever pulls  IA2am_Mar4_30Hz\n",
      "No video available:  IA2am_Mar7_30Hz\n",
      " ... session has no lever pulls  IA2am_Mar7_30Hz\n",
      "No video available:  IA2pm_Mar8_30Hz\n",
      " ... session has no lever pulls  IA2pm_Mar8_30Hz\n",
      "No video available:  IA2am_Mar9_30Hz\n",
      " ... session has no lever pulls  IA2am_Mar9_30Hz\n",
      "No video available:  IA2am_Mar10_30Hz\n",
      " ... session has no lever pulls  IA2am_Mar10_30Hz\n",
      "No video available:  IA2am_Mar11_30Hz\n",
      " ... session has no lever pulls  IA2am_Mar11_30Hz\n",
      "No video available:  IA2pm_Mar14_30Hz\n",
      " ... session has no lever pulls  IA2pm_Mar14_30Hz\n",
      "No video available:  IA2am_Mar15_30Hz\n",
      " ... session has no lever pulls  IA2am_Mar15_30Hz\n",
      "No video available:  IA2pm_Mar16_30Hz\n",
      " ... session has no lever pulls  IA2pm_Mar16_30Hz\n",
      "No video available:  IA2pm_Mar17_30Hz\n",
      " ... session has no lever pulls  IA2pm_Mar17_30Hz\n",
      "No video available:  IA2pm_Mar18_30Hz\n",
      " ... session has no lever pulls  IA2pm_Mar18_30Hz\n",
      "No video available:  IA2pm_Mar21_30Hz\n",
      " ... session has no lever pulls  IA2pm_Mar21_30Hz\n",
      "No video available:  IA2pm_Mar23_30Hz\n",
      " ... session has no lever pulls  IA2pm_Mar23_30Hz\n",
      "No video available:  IA2pm_Mar24_30Hz\n",
      " ... session has no lever pulls  IA2pm_Mar24_30Hz\n",
      "No video available:  IA2pm_Mar29_30Hz\n",
      " ... session has no lever pulls  IA2pm_Mar29_30Hz\n",
      "No video available:  IA2pm_Mar30_30Hz\n",
      " ... session has no lever pulls  IA2pm_Mar30_30Hz\n",
      "No video available:  IA2pm_Mar31_30Hz\n",
      " ... session has no lever pulls  IA2pm_Mar31_30Hz\n",
      "No video available:  IA2pm_Apr1_30Hz\n",
      " ... session has no lever pulls  IA2pm_Apr1_30Hz\n",
      "No video available:  IA2pm_Apr4_30Hz\n",
      " ... session has no lever pulls  IA2pm_Apr4_30Hz\n",
      "No video available:  IA2pm_Apr5_30Hz\n",
      " ... session has no lever pulls  IA2pm_Apr5_30Hz\n",
      "No video available:  IA2pm_Apr6_30Hz\n",
      " ... session has no lever pulls  IA2pm_Apr6_30Hz\n",
      "PROCESSING:  IA3\n",
      "DATA_STM:  (74, 901, 128, 128)\n",
      "    denoising data (pca.transofrm(X)) \n",
      "        done denoising data\n",
      "DATA_STM:  (74, 901, 128, 128)\n",
      "    denoising data (pca.transofrm(X)) \n",
      "        done denoising data\n"
     ]
    },
    {
     "name": "stderr",
     "output_type": "stream",
     "text": [
      "\r",
      "  2%|▏         | 1/44 [06:57<4:59:15, 417.57s/it]"
     ]
    },
    {
     "name": "stdout",
     "output_type": "stream",
     "text": [
      "data_stm is empty (could not compute stm, skipping :  IA3pm_Feb1_30Hz  )\n",
      "DATA_STM:  (85, 901, 128, 128)\n",
      "    denoising data (pca.transofrm(X)) \n",
      "        done denoising data\n",
      "DATA_STM:  (85, 901, 128, 128)\n",
      "    denoising data (pca.transofrm(X)) \n",
      "        done denoising data\n"
     ]
    },
    {
     "name": "stderr",
     "output_type": "stream",
     "text": [
      "\r",
      "  5%|▍         | 2/44 [15:58<5:43:11, 490.28s/it]"
     ]
    },
    {
     "name": "stdout",
     "output_type": "stream",
     "text": [
      "data_stm is empty (could not compute stm, skipping :  IA3pm_Feb2_30Hz  )\n",
      "DATA_STM:  (47, 901, 128, 128)\n",
      "    denoising data (pca.transofrm(X)) \n",
      "        done denoising data\n",
      "DATA_STM:  (47, 901, 128, 128)\n",
      "    denoising data (pca.transofrm(X)) \n",
      "        done denoising data\n"
     ]
    },
    {
     "name": "stderr",
     "output_type": "stream",
     "text": [
      "\r",
      "  7%|▋         | 3/44 [18:52<3:56:23, 345.93s/it]"
     ]
    },
    {
     "name": "stdout",
     "output_type": "stream",
     "text": [
      "data_stm is empty (could not compute stm, skipping :  IA3pm_Feb3_30Hz  )\n",
      "DATA_STM:  (14, 901, 128, 128)\n",
      "    denoising data (pca.transofrm(X)) \n",
      "        done denoising data\n",
      "DATA_STM:  (14, 901, 128, 128)\n",
      "    denoising data (pca.transofrm(X)) \n",
      "        done denoising data\n"
     ]
    },
    {
     "name": "stderr",
     "output_type": "stream",
     "text": [
      "\r",
      "  9%|▉         | 4/44 [19:28<2:28:48, 223.22s/it]"
     ]
    },
    {
     "name": "stdout",
     "output_type": "stream",
     "text": [
      "data_stm is empty (could not compute stm, skipping :  IA3pm_Feb4_30Hz  )\n",
      "DATA_STM:  (39, 901, 128, 128)\n",
      "    denoising data (pca.transofrm(X)) \n",
      "        done denoising data\n",
      "DATA_STM:  (39, 901, 128, 128)\n",
      "    denoising data (pca.transofrm(X)) \n",
      "        done denoising data\n"
     ]
    },
    {
     "name": "stderr",
     "output_type": "stream",
     "text": [
      "\r",
      " 11%|█▏        | 5/44 [21:36<2:02:56, 189.15s/it]"
     ]
    },
    {
     "name": "stdout",
     "output_type": "stream",
     "text": [
      "data_stm is empty (could not compute stm, skipping :  IA3pm_Feb9_30Hz  )\n",
      "DATA_STM:  (72, 901, 128, 128)\n",
      "    denoising data (pca.transofrm(X)) \n",
      "        done denoising data\n",
      "DATA_STM:  (72, 901, 128, 128)\n",
      "    denoising data (pca.transofrm(X)) \n",
      "        done denoising data\n"
     ]
    },
    {
     "name": "stderr",
     "output_type": "stream",
     "text": [
      "\r",
      " 14%|█▎        | 6/44 [28:18<2:45:30, 261.32s/it]"
     ]
    },
    {
     "name": "stdout",
     "output_type": "stream",
     "text": [
      "data_stm is empty (could not compute stm, skipping :  IA3pm_Feb10_30Hz  )\n",
      "DATA_STM:  (78, 901, 128, 128)\n",
      "    denoising data (pca.transofrm(X)) \n",
      "        done denoising data\n",
      "DATA_STM:  (78, 901, 128, 128)\n",
      "    denoising data (pca.transofrm(X)) \n",
      "        done denoising data\n"
     ]
    },
    {
     "name": "stderr",
     "output_type": "stream",
     "text": [
      "\r",
      " 16%|█▌        | 7/44 [36:12<3:24:10, 331.10s/it]"
     ]
    },
    {
     "name": "stdout",
     "output_type": "stream",
     "text": [
      "data_stm is empty (could not compute stm, skipping :  IA3pm_Feb11_30Hz  )\n",
      "DATA_STM:  (37, 901, 128, 128)\n",
      "    denoising data (pca.transofrm(X)) \n",
      "        done denoising data\n",
      "DATA_STM:  (37, 901, 128, 128)\n",
      "    denoising data (pca.transofrm(X)) \n",
      "        done denoising data\n"
     ]
    },
    {
     "name": "stderr",
     "output_type": "stream",
     "text": [
      "\r",
      " 18%|█▊        | 8/44 [38:13<2:38:26, 264.08s/it]"
     ]
    },
    {
     "name": "stdout",
     "output_type": "stream",
     "text": [
      "data_stm is empty (could not compute stm, skipping :  IA3pm_Feb12_30Hz  )\n",
      "DATA_STM:  (47, 901, 128, 128)\n",
      "    denoising data (pca.transofrm(X)) \n",
      "        done denoising data\n",
      "DATA_STM:  (47, 901, 128, 128)\n",
      "    denoising data (pca.transofrm(X)) \n",
      "        done denoising data\n"
     ]
    },
    {
     "name": "stderr",
     "output_type": "stream",
     "text": [
      "\r",
      " 20%|██        | 9/44 [41:13<2:18:41, 237.76s/it]"
     ]
    },
    {
     "name": "stdout",
     "output_type": "stream",
     "text": [
      "data_stm is empty (could not compute stm, skipping :  IA3pm_Feb15_30Hz  )\n",
      "DATA_STM:  (14, 901, 128, 128)\n",
      "    denoising data (pca.transofrm(X)) \n",
      "        done denoising data\n",
      "DATA_STM:  (14, 901, 128, 128)\n",
      "    denoising data (pca.transofrm(X)) \n",
      "        done denoising data\n"
     ]
    },
    {
     "name": "stderr",
     "output_type": "stream",
     "text": [
      "\r",
      " 23%|██▎       | 10/44 [41:50<1:39:38, 175.83s/it]"
     ]
    },
    {
     "name": "stdout",
     "output_type": "stream",
     "text": [
      "data_stm is empty (could not compute stm, skipping :  IA3pm_Feb16_30Hz  )\n",
      "DATA_STM:  (16, 901, 128, 128)\n",
      "    denoising data (pca.transofrm(X)) \n",
      "        done denoising data\n",
      "DATA_STM:  (16, 901, 128, 128)\n",
      "    denoising data (pca.transofrm(X)) \n",
      "        done denoising data\n"
     ]
    },
    {
     "name": "stderr",
     "output_type": "stream",
     "text": [
      "100%|██████████| 44/44 [42:33<00:00, 58.02s/it]   \n",
      "  0%|          | 0/44 [00:00<?, ?it/s]"
     ]
    },
    {
     "name": "stdout",
     "output_type": "stream",
     "text": [
      "data_stm is empty (could not compute stm, skipping :  IA3pm_Feb17_30Hz  )\n",
      "No video available:  IA3pm_Feb18_30Hz\n",
      " ... session has no lever pulls  IA3pm_Feb18_30Hz\n",
      "No video available:  IA3pm_Feb19_30Hz\n",
      " ... session has no lever pulls  IA3pm_Feb19_30Hz\n",
      "No video available:  IA3pm_Feb22_30Hz\n",
      " ... session has no lever pulls  IA3pm_Feb22_30Hz\n",
      "No video available:  IA3pm_Feb23_30Hz\n",
      " ... session has no lever pulls  IA3pm_Feb23_30Hz\n",
      "No video available:  IA3pm_Feb24_30Hz\n",
      " ... session has no lever pulls  IA3pm_Feb24_30Hz\n",
      "No video available:  IA3pm_Feb25_30Hz\n",
      " ... session has no lever pulls  IA3pm_Feb25_30Hz\n",
      "No video available:  IA3pm_Feb26_30Hz\n",
      " ... session has no lever pulls  IA3pm_Feb26_30Hz\n",
      "No video available:  IA3pm_Feb29_30Hz\n",
      " ... session has no lever pulls  IA3pm_Feb29_30Hz\n",
      "No video available:  IA3pm_Mar1_30Hz\n",
      " ... session has no lever pulls  IA3pm_Mar1_30Hz\n",
      "No video available:  IA3pm_Mar2_30Hz\n",
      " ... session has no lever pulls  IA3pm_Mar2_30Hz\n",
      "No video available:  IA3pm_Mar3_30Hz\n",
      " ... session has no lever pulls  IA3pm_Mar3_30Hz\n",
      "No video available:  IA3am_Mar7_30Hz\n",
      " ... session has no lever pulls  IA3am_Mar7_30Hz\n",
      "No video available:  IA3pm_Mar8_30Hz\n",
      " ... session has no lever pulls  IA3pm_Mar8_30Hz\n",
      "No video available:  IA3am_Mar9_30Hz\n",
      " ... session has no lever pulls  IA3am_Mar9_30Hz\n",
      "No video available:  IA3am_Mar10_30Hz\n",
      " ... session has no lever pulls  IA3am_Mar10_30Hz\n",
      "No video available:  IA3am_Mar11_30Hz\n",
      " ... session has no lever pulls  IA3am_Mar11_30Hz\n",
      "No video available:  IA3pm_Mar14_30Hz\n",
      " ... session has no lever pulls  IA3pm_Mar14_30Hz\n",
      "No video available:  IA3am_Mar15_30Hz\n",
      " ... session has no lever pulls  IA3am_Mar15_30Hz\n",
      "No video available:  IA3pm_Mar16_30Hz\n",
      " ... session has no lever pulls  IA3pm_Mar16_30Hz\n",
      "No video available:  IA3pm_Mar17_30Hz\n",
      " ... session has no lever pulls  IA3pm_Mar17_30Hz\n",
      "No video available:  IA3pm_Mar18_30Hz\n",
      " ... session has no lever pulls  IA3pm_Mar18_30Hz\n",
      "No video available:  IA3pm_Mar21_30Hz\n",
      " ... session has no lever pulls  IA3pm_Mar21_30Hz\n",
      "No video available:  IA3pm_Mar22_30Hz\n",
      " ... session has no lever pulls  IA3pm_Mar22_30Hz\n",
      "No video available:  IA3pm_Mar23_30Hz\n",
      " ... session has no lever pulls  IA3pm_Mar23_30Hz\n",
      "No video available:  IA3pm_Mar24_30Hz\n",
      " ... session has no lever pulls  IA3pm_Mar24_30Hz\n",
      "No video available:  IA3pm_Mar29_30Hz\n",
      " ... session has no lever pulls  IA3pm_Mar29_30Hz\n",
      "No video available:  IA3pm_Mar30_30Hz\n",
      " ... session has no lever pulls  IA3pm_Mar30_30Hz\n",
      "No video available:  IA3pm_Mar31_30Hz\n",
      " ... session has no lever pulls  IA3pm_Mar31_30Hz\n",
      "No video available:  IA3pm_Apr1_30Hz\n",
      " ... session has no lever pulls  IA3pm_Apr1_30Hz\n",
      "No video available:  IA3pm_Apr4_30Hz\n",
      " ... session has no lever pulls  IA3pm_Apr4_30Hz\n",
      "No video available:  IA3pm_Apr5_30Hz\n",
      " ... session has no lever pulls  IA3pm_Apr5_30Hz\n",
      "No video available:  IA3pm_Apr6_30Hz\n",
      " ... session has no lever pulls  IA3pm_Apr6_30Hz\n",
      "No video available:  IA3pm_Apr7_30Hz\n",
      " ... session has no lever pulls  IA3pm_Apr7_30Hz\n",
      "PROCESSING:  IJ1\n",
      "DATA_STM:  (67, 901, 128, 128)\n",
      "    denoising data (pca.transofrm(X)) \n",
      "        done denoising data\n",
      "DATA_STM:  (67, 901, 128, 128)\n",
      "    denoising data (pca.transofrm(X)) \n",
      "        done denoising data\n"
     ]
    },
    {
     "name": "stderr",
     "output_type": "stream",
     "text": [
      "\r",
      "  2%|▏         | 1/44 [05:22<3:51:24, 322.89s/it]"
     ]
    },
    {
     "name": "stdout",
     "output_type": "stream",
     "text": [
      "data_stm is empty (could not compute stm, skipping :  IJ1pm_Feb1_30Hz  )\n",
      "DATA_STM:  (80, 901, 128, 128)\n",
      "    denoising data (pca.transofrm(X)) \n",
      "        done denoising data\n",
      "DATA_STM:  (80, 901, 128, 128)\n",
      "    denoising data (pca.transofrm(X)) \n",
      "        done denoising data\n"
     ]
    },
    {
     "name": "stderr",
     "output_type": "stream",
     "text": [
      "\r",
      "  5%|▍         | 2/44 [13:34<4:55:35, 422.28s/it]"
     ]
    },
    {
     "name": "stdout",
     "output_type": "stream",
     "text": [
      "data_stm is empty (could not compute stm, skipping :  IJ1pm_Feb2_30Hz  )\n",
      " ... session has no lever pulls  IJ1pm_Feb3_30Hz\n",
      "DATA_STM:  (80, 901, 128, 128)\n",
      "    denoising data (pca.transofrm(X)) \n",
      "        done denoising data\n",
      "DATA_STM:  (80, 901, 128, 128)\n",
      "    denoising data (pca.transofrm(X)) \n",
      "        done denoising data\n"
     ]
    },
    {
     "name": "stderr",
     "output_type": "stream",
     "text": [
      "\r",
      "  9%|▉         | 4/44 [21:48<3:28:11, 312.28s/it]"
     ]
    },
    {
     "name": "stdout",
     "output_type": "stream",
     "text": [
      "data_stm is empty (could not compute stm, skipping :  IJ1pm_Feb4_30Hz  )\n",
      "DATA_STM:  (60, 901, 128, 128)\n",
      "    denoising data (pca.transofrm(X)) \n",
      "        done denoising data\n",
      "DATA_STM:  (60, 901, 128, 128)\n",
      "    denoising data (pca.transofrm(X)) \n",
      "        done denoising data\n"
     ]
    },
    {
     "name": "stderr",
     "output_type": "stream",
     "text": [
      "\r",
      " 11%|█▏        | 5/44 [26:08<3:12:23, 295.99s/it]"
     ]
    },
    {
     "name": "stdout",
     "output_type": "stream",
     "text": [
      "data_stm is empty (could not compute stm, skipping :  IJ1pm_Feb5_30Hz  )\n",
      "DATA_STM:  (41, 901, 128, 128)\n",
      "    denoising data (pca.transofrm(X)) \n",
      "        done denoising data\n",
      "DATA_STM:  (41, 901, 128, 128)\n",
      "    denoising data (pca.transofrm(X)) \n",
      "        done denoising data\n"
     ]
    },
    {
     "name": "stderr",
     "output_type": "stream",
     "text": [
      "\r",
      " 14%|█▎        | 6/44 [28:34<2:38:30, 250.29s/it]"
     ]
    },
    {
     "name": "stdout",
     "output_type": "stream",
     "text": [
      "data_stm is empty (could not compute stm, skipping :  IJ1pm_Feb9_30Hz  )\n",
      "DATA_STM:  (35, 901, 128, 128)\n",
      "    denoising data (pca.transofrm(X)) \n",
      "        done denoising data\n",
      "DATA_STM:  (35, 901, 128, 128)\n",
      "    denoising data (pca.transofrm(X)) \n",
      "        done denoising data\n"
     ]
    },
    {
     "name": "stderr",
     "output_type": "stream",
     "text": [
      "\r",
      " 16%|█▌        | 7/44 [30:24<2:07:59, 207.56s/it]"
     ]
    },
    {
     "name": "stdout",
     "output_type": "stream",
     "text": [
      "data_stm is empty (could not compute stm, skipping :  IJ1pm_Feb10_30Hz  )\n",
      "DATA_STM:  (57, 901, 128, 128)\n",
      "    denoising data (pca.transofrm(X)) \n",
      "        done denoising data\n",
      "DATA_STM:  (57, 901, 128, 128)\n",
      "    denoising data (pca.transofrm(X)) \n",
      "        done denoising data\n"
     ]
    },
    {
     "name": "stderr",
     "output_type": "stream",
     "text": [
      "\r",
      " 18%|█▊        | 8/44 [34:21<2:09:49, 216.38s/it]"
     ]
    },
    {
     "name": "stdout",
     "output_type": "stream",
     "text": [
      "data_stm is empty (could not compute stm, skipping :  IJ1pm_Feb11_30Hz  )\n",
      "DATA_STM:  (17, 901, 128, 128)\n",
      "    denoising data (pca.transofrm(X)) \n",
      "        done denoising data\n",
      "DATA_STM:  (17, 901, 128, 128)\n",
      "    denoising data (pca.transofrm(X)) \n",
      "        done denoising data\n"
     ]
    },
    {
     "name": "stderr",
     "output_type": "stream",
     "text": [
      "\r",
      " 20%|██        | 9/44 [35:03<1:35:26, 163.62s/it]"
     ]
    },
    {
     "name": "stdout",
     "output_type": "stream",
     "text": [
      "data_stm is empty (could not compute stm, skipping :  IJ1pm_Feb12_30Hz  )\n",
      "DATA_STM:  (16, 901, 128, 128)\n",
      "    denoising data (pca.transofrm(X)) \n",
      "        done denoising data\n",
      "DATA_STM:  (16, 901, 128, 128)\n",
      "    denoising data (pca.transofrm(X)) \n",
      "        done denoising data\n"
     ]
    },
    {
     "name": "stderr",
     "output_type": "stream",
     "text": [
      "100%|██████████| 44/44 [35:43<00:00, 48.71s/it]   \n",
      "  0%|          | 0/44 [00:00<?, ?it/s]"
     ]
    },
    {
     "name": "stdout",
     "output_type": "stream",
     "text": [
      "data_stm is empty (could not compute stm, skipping :  IJ1pm_Feb16_30Hz  )\n",
      "No video available:  IJ1pm_Feb17_30Hz\n",
      " ... session has no lever pulls  IJ1pm_Feb17_30Hz\n",
      "No video available:  IJ1pm_Feb18_30Hz\n",
      " ... session has no lever pulls  IJ1pm_Feb18_30Hz\n",
      "No video available:  IJ1pm_Feb19_30Hz\n",
      " ... session has no lever pulls  IJ1pm_Feb19_30Hz\n",
      "No video available:  IJ1pm_Feb22_30Hz\n",
      " ... session has no lever pulls  IJ1pm_Feb22_30Hz\n",
      "No video available:  IJ1pm_Feb23_30Hz\n",
      " ... session has no lever pulls  IJ1pm_Feb23_30Hz\n",
      "No video available:  IJ1pm_Feb24_30Hz\n",
      " ... session has no lever pulls  IJ1pm_Feb24_30Hz\n",
      "No video available:  IJ1pm_Feb25_30Hz\n",
      " ... session has no lever pulls  IJ1pm_Feb25_30Hz\n",
      "No video available:  IJ1pm_Feb26_30Hz\n",
      " ... session has no lever pulls  IJ1pm_Feb26_30Hz\n",
      "No video available:  IJ1pm_Feb29_30Hz\n",
      " ... session has no lever pulls  IJ1pm_Feb29_30Hz\n",
      "No video available:  IJ1pm_Mar1_30Hz\n",
      " ... session has no lever pulls  IJ1pm_Mar1_30Hz\n",
      "No video available:  IJ1pm_Mar2_30Hz\n",
      " ... session has no lever pulls  IJ1pm_Mar2_30Hz\n",
      "No video available:  IJ1pm_Mar3_30Hz\n",
      " ... session has no lever pulls  IJ1pm_Mar3_30Hz\n",
      "No video available:  IJ1am_Mar7_30Hz\n",
      " ... session has no lever pulls  IJ1am_Mar7_30Hz\n",
      "No video available:  IJ1pm_Mar8_30Hz\n",
      " ... session has no lever pulls  IJ1pm_Mar8_30Hz\n",
      "No video available:  IJ1am_Mar9_30Hz\n",
      " ... session has no lever pulls  IJ1am_Mar9_30Hz\n",
      "No video available:  IJ1am_Mar10_30Hz\n",
      " ... session has no lever pulls  IJ1am_Mar10_30Hz\n",
      "No video available:  IJ1am_Mar11_30Hz\n",
      " ... session has no lever pulls  IJ1am_Mar11_30Hz\n",
      "No video available:  IJ1pm_Mar14_30Hz\n",
      " ... session has no lever pulls  IJ1pm_Mar14_30Hz\n",
      "No video available:  IJ1am_Mar15_30Hz\n",
      " ... session has no lever pulls  IJ1am_Mar15_30Hz\n",
      "No video available:  IJ1pm_Mar16_30Hz\n",
      " ... session has no lever pulls  IJ1pm_Mar16_30Hz\n",
      "No video available:  IJ1pm_Mar17_30Hz\n",
      " ... session has no lever pulls  IJ1pm_Mar17_30Hz\n",
      "No video available:  IJ1pm_Mar18_30Hz\n",
      " ... session has no lever pulls  IJ1pm_Mar18_30Hz\n",
      "No video available:  IJ1pm_Mar21_30Hz\n",
      " ... session has no lever pulls  IJ1pm_Mar21_30Hz\n",
      "No video available:  IJ1pm_Mar22_30Hz\n",
      " ... session has no lever pulls  IJ1pm_Mar22_30Hz\n",
      "No video available:  IJ1pm_Mar23_30Hz\n",
      " ... session has no lever pulls  IJ1pm_Mar23_30Hz\n",
      "No video available:  IJ1pm_Mar24_30Hz\n",
      " ... session has no lever pulls  IJ1pm_Mar24_30Hz\n",
      "No video available:  IJ1pm_Mar29_30Hz\n",
      " ... session has no lever pulls  IJ1pm_Mar29_30Hz\n",
      "No video available:  IJ1pm_Mar30_30Hz\n",
      " ... session has no lever pulls  IJ1pm_Mar30_30Hz\n",
      "No video available:  IJ1pm_Mar31_30Hz\n",
      " ... session has no lever pulls  IJ1pm_Mar31_30Hz\n",
      "No video available:  IJ1pm_Apr1_30Hz\n",
      " ... session has no lever pulls  IJ1pm_Apr1_30Hz\n",
      "No video available:  IJ1pm_Apr4_30Hz\n",
      " ... session has no lever pulls  IJ1pm_Apr4_30Hz\n",
      "No video available:  IJ1pm_Apr5_30Hz\n",
      " ... session has no lever pulls  IJ1pm_Apr5_30Hz\n",
      "No video available:  IJ1pm_Apr6_30Hz\n",
      " ... session has no lever pulls  IJ1pm_Apr6_30Hz\n",
      "No video available:  IJ1pm_Apr7_30Hz\n",
      " ... session has no lever pulls  IJ1pm_Apr7_30Hz\n",
      "PROCESSING:  IJ2\n",
      "DATA_STM:  (55, 901, 128, 128)\n",
      "    denoising data (pca.transofrm(X)) \n",
      "        done denoising data\n",
      "DATA_STM:  (55, 901, 128, 128)\n",
      "    denoising data (pca.transofrm(X)) \n",
      "        done denoising data\n"
     ]
    },
    {
     "name": "stderr",
     "output_type": "stream",
     "text": [
      "\r",
      "  2%|▏         | 1/44 [03:48<2:44:05, 228.97s/it]"
     ]
    },
    {
     "name": "stdout",
     "output_type": "stream",
     "text": [
      "data_stm is empty (could not compute stm, skipping :  IJ2pm_Feb1_30Hz  )\n",
      "DATA_STM:  (73, 901, 128, 128)\n",
      "    denoising data (pca.transofrm(X)) \n",
      "        done denoising data\n",
      "DATA_STM:  (73, 901, 128, 128)\n",
      "    denoising data (pca.transofrm(X)) \n",
      "        done denoising data\n"
     ]
    },
    {
     "name": "stderr",
     "output_type": "stream",
     "text": [
      "\r",
      "  5%|▍         | 2/44 [10:32<3:51:58, 331.40s/it]"
     ]
    },
    {
     "name": "stdout",
     "output_type": "stream",
     "text": [
      "data_stm is empty (could not compute stm, skipping :  IJ2pm_Feb2_30Hz  )\n",
      "DATA_STM:  (68, 901, 128, 128)\n",
      "    denoising data (pca.transofrm(X)) \n",
      "        done denoising data\n",
      "DATA_STM:  (68, 901, 128, 128)\n",
      "    denoising data (pca.transofrm(X)) \n",
      "        done denoising data\n"
     ]
    },
    {
     "name": "stderr",
     "output_type": "stream",
     "text": [
      "\r",
      "  7%|▋         | 3/44 [16:28<3:54:24, 343.03s/it]"
     ]
    },
    {
     "name": "stdout",
     "output_type": "stream",
     "text": [
      "data_stm is empty (could not compute stm, skipping :  IJ2pm_Feb3_30Hz  )\n",
      "DATA_STM:  (78, 901, 128, 128)\n",
      "    denoising data (pca.transofrm(X)) \n",
      "        done denoising data\n",
      "DATA_STM:  (78, 901, 128, 128)\n",
      "    denoising data (pca.transofrm(X)) \n",
      "        done denoising data\n"
     ]
    },
    {
     "name": "stderr",
     "output_type": "stream",
     "text": [
      "\r",
      "  9%|▉         | 4/44 [24:22<4:23:01, 394.55s/it]"
     ]
    },
    {
     "name": "stdout",
     "output_type": "stream",
     "text": [
      "data_stm is empty (could not compute stm, skipping :  IJ2pm_Feb4_30Hz  )\n",
      "DATA_STM:  (71, 901, 128, 128)\n",
      "    denoising data (pca.transofrm(X)) \n",
      "        done denoising data\n",
      "DATA_STM:  (71, 901, 128, 128)\n",
      "    denoising data (pca.transofrm(X)) \n",
      "        done denoising data\n"
     ]
    },
    {
     "name": "stderr",
     "output_type": "stream",
     "text": [
      "\r",
      " 11%|█▏        | 5/44 [30:50<4:14:58, 392.28s/it]"
     ]
    },
    {
     "name": "stdout",
     "output_type": "stream",
     "text": [
      "data_stm is empty (could not compute stm, skipping :  IJ2pm_Feb5_30Hz  )\n",
      "Imaging rates between aligned and session are incorrect, exiting:  29.86750178037435\n",
      "data_stm is empty (could not compute stm, skipping :  IJ2pm_Feb9_30Hz  )\n"
     ]
    },
    {
     "name": "stderr",
     "output_type": "stream",
     "text": [
      "\r",
      " 14%|█▎        | 6/44 [31:01<2:46:11, 262.40s/it]"
     ]
    },
    {
     "name": "stdout",
     "output_type": "stream",
     "text": [
      "Imaging rates between aligned and session are incorrect, exiting:  29.86750178037435\n",
      "data_stm is empty (could not compute stm, skipping :  IJ2pm_Feb9_30Hz  )\n",
      "DATA_STM:  (22, 901, 128, 128)\n",
      "    denoising data (pca.transofrm(X)) \n",
      "        done denoising data\n",
      "DATA_STM:  (22, 901, 128, 128)\n",
      "    denoising data (pca.transofrm(X)) \n",
      "        done denoising data\n"
     ]
    },
    {
     "name": "stderr",
     "output_type": "stream",
     "text": [
      "\r",
      " 16%|█▌        | 7/44 [31:58<2:00:26, 195.31s/it]"
     ]
    },
    {
     "name": "stdout",
     "output_type": "stream",
     "text": [
      "data_stm is empty (could not compute stm, skipping :  IJ2pm_Feb10_30Hz  )\n",
      "DATA_STM:  (32, 901, 128, 128)\n",
      "    denoising data (pca.transofrm(X)) \n",
      "        done denoising data\n",
      "DATA_STM:  (32, 901, 128, 128)\n",
      "    denoising data (pca.transofrm(X)) \n",
      "        done denoising data\n"
     ]
    },
    {
     "name": "stderr",
     "output_type": "stream",
     "text": [
      "\r",
      " 18%|█▊        | 8/44 [33:34<1:38:19, 163.86s/it]"
     ]
    },
    {
     "name": "stdout",
     "output_type": "stream",
     "text": [
      "data_stm is empty (could not compute stm, skipping :  IJ2pm_Feb11_30Hz  )\n",
      "DATA_STM:  (53, 901, 128, 128)\n",
      "    denoising data (pca.transofrm(X)) \n",
      "        done denoising data\n",
      "DATA_STM:  (53, 901, 128, 128)\n",
      "    denoising data (pca.transofrm(X)) \n",
      "        done denoising data\n"
     ]
    },
    {
     "name": "stderr",
     "output_type": "stream",
     "text": [
      "\r",
      " 20%|██        | 9/44 [37:21<1:47:08, 183.68s/it]"
     ]
    },
    {
     "name": "stdout",
     "output_type": "stream",
     "text": [
      "data_stm is empty (could not compute stm, skipping :  IJ2pm_Feb12_30Hz  )\n",
      "Imaging rates between aligned and session are incorrect, exiting:  29.88114874250808\n",
      "data_stm is empty (could not compute stm, skipping :  IJ2pm_Feb15_30Hz  )\n"
     ]
    },
    {
     "name": "stderr",
     "output_type": "stream",
     "text": [
      "\r",
      " 23%|██▎       | 10/44 [37:32<1:13:44, 130.14s/it]"
     ]
    },
    {
     "name": "stdout",
     "output_type": "stream",
     "text": [
      "Imaging rates between aligned and session are incorrect, exiting:  29.88114874250808\n",
      "data_stm is empty (could not compute stm, skipping :  IJ2pm_Feb15_30Hz  )\n",
      "DATA_STM:  (27, 901, 128, 128)\n",
      "    denoising data (pca.transofrm(X)) \n",
      "        done denoising data\n",
      "DATA_STM:  (27, 901, 128, 128)\n",
      "    denoising data (pca.transofrm(X)) \n",
      "        done denoising data\n"
     ]
    },
    {
     "name": "stderr",
     "output_type": "stream",
     "text": [
      "100%|██████████| 44/44 [38:47<00:00, 52.89s/it]   \n",
      "  0%|          | 0/110 [00:00<?, ?it/s]"
     ]
    },
    {
     "name": "stdout",
     "output_type": "stream",
     "text": [
      "data_stm is empty (could not compute stm, skipping :  IJ2pm_Feb16_30Hz  )\n",
      "No video available:  IJ2pm_Feb17_30Hz\n",
      " ... session has no lever pulls  IJ2pm_Feb17_30Hz\n",
      "No video available:  IJ2pm_Feb18_30Hz\n",
      " ... session has no lever pulls  IJ2pm_Feb18_30Hz\n",
      "No video available:  IJ2pm_Feb22_30Hz\n",
      " ... session has no lever pulls  IJ2pm_Feb22_30Hz\n",
      "No video available:  IJ2pm_Feb23_30Hz\n",
      " ... session has no lever pulls  IJ2pm_Feb23_30Hz\n",
      "No video available:  IJ2pm_Feb24_30Hz\n",
      " ... session has no lever pulls  IJ2pm_Feb24_30Hz\n",
      "No video available:  IJ2pm_Feb25_30Hz\n",
      " ... session has no lever pulls  IJ2pm_Feb25_30Hz\n",
      "No video available:  IJ2pm_Feb26_30Hz\n",
      " ... session has no lever pulls  IJ2pm_Feb26_30Hz\n",
      "No video available:  IJ2pm_Feb29_30Hz\n",
      " ... session has no lever pulls  IJ2pm_Feb29_30Hz\n",
      "No video available:  IJ2pm_Mar1_30Hz\n",
      " ... session has no lever pulls  IJ2pm_Mar1_30Hz\n",
      "No video available:  IJ2pm_Mar2_30Hz\n",
      " ... session has no lever pulls  IJ2pm_Mar2_30Hz\n",
      "No video available:  IJ2pm_Mar3_30Hz\n",
      " ... session has no lever pulls  IJ2pm_Mar3_30Hz\n",
      "No video available:  IJ2am_Mar7_30Hz\n",
      " ... session has no lever pulls  IJ2am_Mar7_30Hz\n",
      "No video available:  IJ2pm_Mar8_30Hz\n",
      " ... session has no lever pulls  IJ2pm_Mar8_30Hz\n",
      "No video available:  IJ2am_Mar9_30Hz\n",
      " ... session has no lever pulls  IJ2am_Mar9_30Hz\n",
      "No video available:  IJ2am_Mar10_30Hz\n",
      " ... session has no lever pulls  IJ2am_Mar10_30Hz\n",
      "No video available:  IJ2am_Mar11_30Hz\n",
      " ... session has no lever pulls  IJ2am_Mar11_30Hz\n",
      "No video available:  IJ2pm_Mar14_30Hz\n",
      " ... session has no lever pulls  IJ2pm_Mar14_30Hz\n",
      "No video available:  IJ2am_Mar15_30Hz\n",
      " ... session has no lever pulls  IJ2am_Mar15_30Hz\n",
      "No video available:  IJ2pm_Mar16_30Hz\n",
      " ... session has no lever pulls  IJ2pm_Mar16_30Hz\n",
      "No video available:  IJ2pm_Mar17_30Hz\n",
      " ... session has no lever pulls  IJ2pm_Mar17_30Hz\n",
      "No video available:  IJ2pm_Mar18_30Hz\n",
      " ... session has no lever pulls  IJ2pm_Mar18_30Hz\n",
      "No video available:  IJ2pm_Mar21_30Hz\n",
      " ... session has no lever pulls  IJ2pm_Mar21_30Hz\n",
      "No video available:  IJ2pm_Mar22_30Hz\n",
      " ... session has no lever pulls  IJ2pm_Mar22_30Hz\n",
      "No video available:  IJ2pm_Mar23_30Hz\n",
      " ... session has no lever pulls  IJ2pm_Mar23_30Hz\n",
      "No video available:  IJ2pm_Mar24_30Hz\n",
      " ... session has no lever pulls  IJ2pm_Mar24_30Hz\n",
      "No video available:  IJ2pm_Mar29_30Hz\n",
      " ... session has no lever pulls  IJ2pm_Mar29_30Hz\n",
      "No video available:  IJ2pm_Mar30_30Hz\n",
      " ... session has no lever pulls  IJ2pm_Mar30_30Hz\n",
      "No video available:  IJ2pm_Mar31_30Hz\n",
      " ... session has no lever pulls  IJ2pm_Mar31_30Hz\n",
      "No video available:  IJ2pm_Apr1_30Hz\n",
      " ... session has no lever pulls  IJ2pm_Apr1_30Hz\n",
      "No video available:  IJ2pm_Apr4_30Hz\n",
      " ... session has no lever pulls  IJ2pm_Apr4_30Hz\n",
      "No video available:  IJ2pm_Apr5_30Hz\n",
      " ... session has no lever pulls  IJ2pm_Apr5_30Hz\n",
      "No video available:  IJ2pm_Apr6_30Hz\n",
      " ... session has no lever pulls  IJ2pm_Apr6_30Hz\n",
      "No video available:  IJ2pm_Apr7_30Hz\n",
      " ... session has no lever pulls  IJ2pm_Apr7_30Hz\n",
      "PROCESSING:  AQ2\n",
      "DATA_STM:  (72, 901, 128, 128)\n",
      "    denoising data (pca.transofrm(X)) \n",
      "        done denoising data\n",
      "DATA_STM:  (72, 901, 128, 128)\n",
      "    denoising data (pca.transofrm(X)) \n",
      "        done denoising data\n"
     ]
    },
    {
     "name": "stderr",
     "output_type": "stream",
     "text": [
      "\r",
      "  1%|          | 1/110 [06:39<12:05:41, 399.46s/it]"
     ]
    },
    {
     "name": "stdout",
     "output_type": "stream",
     "text": [
      "data_stm is empty (could not compute stm, skipping :  AQ2am_Dec9_30Hz  )\n",
      "DATA_STM:  (69, 901, 128, 128)\n",
      "    denoising data (pca.transofrm(X)) \n",
      "        done denoising data\n",
      "DATA_STM:  (69, 901, 128, 128)\n",
      "    denoising data (pca.transofrm(X)) \n",
      "        done denoising data\n"
     ]
    },
    {
     "name": "stderr",
     "output_type": "stream",
     "text": [
      "\r",
      "  2%|▏         | 2/110 [12:59<11:38:29, 388.05s/it]"
     ]
    },
    {
     "name": "stdout",
     "output_type": "stream",
     "text": [
      "data_stm is empty (could not compute stm, skipping :  AQ2am_Dec10_30Hz  )\n",
      "DATA_STM:  (73, 901, 128, 128)\n",
      "    denoising data (pca.transofrm(X)) \n",
      "        done denoising data\n",
      "DATA_STM:  (73, 901, 128, 128)\n",
      "    denoising data (pca.transofrm(X)) \n",
      "        done denoising data\n"
     ]
    },
    {
     "name": "stderr",
     "output_type": "stream",
     "text": [
      "\r",
      "  3%|▎         | 3/110 [19:28<11:33:04, 388.64s/it]"
     ]
    },
    {
     "name": "stdout",
     "output_type": "stream",
     "text": [
      "data_stm is empty (could not compute stm, skipping :  AQ2pm_Dec10_30Hz  )\n",
      "DATA_STM:  (64, 901, 128, 128)\n",
      "    denoising data (pca.transofrm(X)) \n",
      "        done denoising data\n",
      "DATA_STM:  (64, 901, 128, 128)\n",
      "    denoising data (pca.transofrm(X)) \n",
      "        done denoising data\n"
     ]
    },
    {
     "name": "stderr",
     "output_type": "stream",
     "text": [
      "\r",
      "  4%|▎         | 4/110 [24:17<10:16:31, 348.98s/it]"
     ]
    },
    {
     "name": "stdout",
     "output_type": "stream",
     "text": [
      "data_stm is empty (could not compute stm, skipping :  AQ2am_Dec11_30Hz  )\n",
      "DATA_STM:  (60, 901, 128, 128)\n",
      "    denoising data (pca.transofrm(X)) \n",
      "        done denoising data\n",
      "DATA_STM:  (60, 901, 128, 128)\n",
      "    denoising data (pca.transofrm(X)) \n",
      "        done denoising data\n"
     ]
    },
    {
     "name": "stderr",
     "output_type": "stream",
     "text": [
      "\r",
      "  5%|▍         | 5/110 [28:52<9:24:00, 322.29s/it] "
     ]
    },
    {
     "name": "stdout",
     "output_type": "stream",
     "text": [
      "data_stm is empty (could not compute stm, skipping :  AQ2pm_Dec14_30Hz  )\n",
      "DATA_STM:  (61, 901, 128, 128)\n",
      "    denoising data (pca.transofrm(X)) \n",
      "        done denoising data\n",
      "DATA_STM:  (61, 901, 128, 128)\n",
      "    denoising data (pca.transofrm(X)) \n",
      "        done denoising data\n"
     ]
    },
    {
     "name": "stderr",
     "output_type": "stream",
     "text": [
      "\r",
      "  5%|▌         | 6/110 [33:33<8:54:50, 308.56s/it]"
     ]
    },
    {
     "name": "stdout",
     "output_type": "stream",
     "text": [
      "data_stm is empty (could not compute stm, skipping :  AQ2am_Dec14_30Hz  )\n",
      "DATA_STM:  (47, 901, 128, 128)\n",
      "    denoising data (pca.transofrm(X)) \n",
      "        done denoising data\n",
      "DATA_STM:  (47, 901, 128, 128)\n",
      "    denoising data (pca.transofrm(X)) \n",
      "        done denoising data\n"
     ]
    },
    {
     "name": "stderr",
     "output_type": "stream",
     "text": [
      "\r",
      "  6%|▋         | 7/110 [36:26<7:33:11, 263.99s/it]"
     ]
    },
    {
     "name": "stdout",
     "output_type": "stream",
     "text": [
      "data_stm is empty (could not compute stm, skipping :  AQ2pm_Dec16_30Hz  )\n",
      "DATA_STM:  (50, 901, 128, 128)\n",
      "    denoising data (pca.transofrm(X)) \n",
      "        done denoising data\n",
      "DATA_STM:  (50, 901, 128, 128)\n",
      "    denoising data (pca.transofrm(X)) \n",
      "        done denoising data\n"
     ]
    },
    {
     "name": "stderr",
     "output_type": "stream",
     "text": [
      "\r",
      "  7%|▋         | 8/110 [39:40<6:51:20, 241.97s/it]"
     ]
    },
    {
     "name": "stdout",
     "output_type": "stream",
     "text": [
      "data_stm is empty (could not compute stm, skipping :  AQ2am_Dec17_30Hz  )\n",
      "DATA_STM:  (53, 901, 128, 128)\n",
      "    denoising data (pca.transofrm(X)) \n",
      "        done denoising data\n",
      "DATA_STM:  (53, 901, 128, 128)\n",
      "    denoising data (pca.transofrm(X)) \n",
      "        done denoising data\n"
     ]
    },
    {
     "name": "stderr",
     "output_type": "stream",
     "text": [
      "\r",
      "  8%|▊         | 9/110 [43:34<6:42:46, 239.27s/it]"
     ]
    },
    {
     "name": "stdout",
     "output_type": "stream",
     "text": [
      "data_stm is empty (could not compute stm, skipping :  AQ2pm_Dec17_30Hz  )\n",
      "DATA_STM:  (61, 901, 128, 128)\n",
      "    denoising data (pca.transofrm(X)) \n",
      "        done denoising data\n",
      "DATA_STM:  (61, 901, 128, 128)\n",
      "    denoising data (pca.transofrm(X)) \n",
      "        done denoising data\n"
     ]
    },
    {
     "name": "stderr",
     "output_type": "stream",
     "text": [
      "\r",
      "  9%|▉         | 10/110 [48:23<7:04:23, 254.64s/it]"
     ]
    },
    {
     "name": "stdout",
     "output_type": "stream",
     "text": [
      "data_stm is empty (could not compute stm, skipping :  AQ2am_Dec18_30Hz  )\n",
      "DATA_STM:  (54, 901, 128, 128)\n",
      "    denoising data (pca.transofrm(X)) \n",
      "        done denoising data\n",
      "DATA_STM:  (54, 901, 128, 128)\n",
      "    denoising data (pca.transofrm(X)) \n",
      "        done denoising data\n"
     ]
    },
    {
     "name": "stderr",
     "output_type": "stream",
     "text": [
      "\r",
      " 10%|█         | 11/110 [52:09<6:45:52, 245.98s/it]"
     ]
    },
    {
     "name": "stdout",
     "output_type": "stream",
     "text": [
      "data_stm is empty (could not compute stm, skipping :  AQ2pm_Dec18_30Hz  )\n",
      "DATA_STM:  (59, 901, 128, 128)\n",
      "    denoising data (pca.transofrm(X)) \n",
      "        done denoising data\n",
      "DATA_STM:  (59, 901, 128, 128)\n",
      "    denoising data (pca.transofrm(X)) \n",
      "        done denoising data\n"
     ]
    },
    {
     "name": "stderr",
     "output_type": "stream",
     "text": [
      "\r",
      " 11%|█         | 12/110 [56:38<6:53:06, 252.92s/it]"
     ]
    },
    {
     "name": "stdout",
     "output_type": "stream",
     "text": [
      "data_stm is empty (could not compute stm, skipping :  AQ2am_Dec21_30Hz  )\n",
      "DATA_STM:  (61, 901, 128, 128)\n",
      "    denoising data (pca.transofrm(X)) \n",
      "        done denoising data\n",
      "DATA_STM:  (61, 901, 128, 128)\n",
      "    denoising data (pca.transofrm(X)) \n",
      "        done denoising data\n"
     ]
    },
    {
     "name": "stderr",
     "output_type": "stream",
     "text": [
      "\r",
      " 12%|█▏        | 13/110 [1:01:27<7:06:19, 263.71s/it]"
     ]
    },
    {
     "name": "stdout",
     "output_type": "stream",
     "text": [
      "data_stm is empty (could not compute stm, skipping :  AQ2am_Dec22_30Hz  )\n",
      "DATA_STM:  (56, 901, 128, 128)\n",
      "    denoising data (pca.transofrm(X)) \n",
      "        done denoising data\n",
      "DATA_STM:  (56, 901, 128, 128)\n",
      "    denoising data (pca.transofrm(X)) \n",
      "        done denoising data\n"
     ]
    },
    {
     "name": "stderr",
     "output_type": "stream",
     "text": [
      "\r",
      " 13%|█▎        | 14/110 [1:05:37<6:55:20, 259.58s/it]"
     ]
    },
    {
     "name": "stdout",
     "output_type": "stream",
     "text": [
      "data_stm is empty (could not compute stm, skipping :  AQ2am_Dec23_30Hz  )\n",
      "DATA_STM:  (66, 901, 128, 128)\n",
      "    denoising data (pca.transofrm(X)) \n",
      "        done denoising data\n",
      "DATA_STM:  (66, 901, 128, 128)\n",
      "    denoising data (pca.transofrm(X)) \n",
      "        done denoising data\n"
     ]
    },
    {
     "name": "stderr",
     "output_type": "stream",
     "text": [
      "\r",
      " 14%|█▎        | 15/110 [1:11:29<7:35:28, 287.67s/it]"
     ]
    },
    {
     "name": "stdout",
     "output_type": "stream",
     "text": [
      "data_stm is empty (could not compute stm, skipping :  AQ2am_Dec28_30Hz  )\n",
      "DATA_STM:  (51, 901, 128, 128)\n",
      "    denoising data (pca.transofrm(X)) \n",
      "        done denoising data\n",
      "DATA_STM:  (51, 901, 128, 128)\n",
      "    denoising data (pca.transofrm(X)) \n",
      "        done denoising data\n"
     ]
    },
    {
     "name": "stderr",
     "output_type": "stream",
     "text": [
      "\r",
      " 15%|█▍        | 16/110 [1:14:43<6:46:28, 259.45s/it]"
     ]
    },
    {
     "name": "stdout",
     "output_type": "stream",
     "text": [
      "data_stm is empty (could not compute stm, skipping :  AQ2am_Dec29_30Hz  )\n",
      "Imaging rates between aligned and session are incorrect, exiting:  0.3096286204551007\n",
      "data_stm is empty (could not compute stm, skipping :  AQ2am_Dec30_30Hz  )\n"
     ]
    },
    {
     "name": "stderr",
     "output_type": "stream",
     "text": [
      "\r",
      " 15%|█▌        | 17/110 [1:14:54<4:46:00, 184.53s/it]"
     ]
    },
    {
     "name": "stdout",
     "output_type": "stream",
     "text": [
      "Imaging rates between aligned and session are incorrect, exiting:  0.3096286204551007\n",
      "data_stm is empty (could not compute stm, skipping :  AQ2am_Dec30_30Hz  )\n",
      "No video available:  AQ2am_Dec31_30Hz\n",
      " ... session has no lever pulls  AQ2am_Dec31_30Hz\n",
      "DATA_STM:  (65, 901, 128, 128)\n",
      "    denoising data (pca.transofrm(X)) \n",
      "        done denoising data\n",
      "DATA_STM:  (65, 901, 128, 128)\n",
      "    denoising data (pca.transofrm(X)) \n",
      "        done denoising data\n"
     ]
    },
    {
     "name": "stderr",
     "output_type": "stream",
     "text": [
      "\r",
      " 17%|█▋        | 19/110 [1:20:50<4:35:35, 181.70s/it]"
     ]
    },
    {
     "name": "stdout",
     "output_type": "stream",
     "text": [
      "data_stm is empty (could not compute stm, skipping :  AQ2am_Jan4_30Hz  )\n",
      "DATA_STM:  (60, 901, 128, 128)\n",
      "    denoising data (pca.transofrm(X)) \n",
      "        done denoising data\n",
      "DATA_STM:  (60, 901, 128, 128)\n",
      "    denoising data (pca.transofrm(X)) \n",
      "        done denoising data\n"
     ]
    },
    {
     "name": "stderr",
     "output_type": "stream",
     "text": [
      "\r",
      " 18%|█▊        | 20/110 [1:25:21<5:05:29, 203.66s/it]"
     ]
    },
    {
     "name": "stdout",
     "output_type": "stream",
     "text": [
      "data_stm is empty (could not compute stm, skipping :  AQ2am_Jan5_30Hz  )\n",
      "DATA_STM:  (27, 901, 128, 128)\n",
      "    denoising data (pca.transofrm(X)) \n",
      "        done denoising data\n",
      "DATA_STM:  (27, 901, 128, 128)\n",
      "    denoising data (pca.transofrm(X)) \n",
      "        done denoising data\n"
     ]
    },
    {
     "name": "stderr",
     "output_type": "stream",
     "text": [
      "\r",
      " 19%|█▉        | 21/110 [1:26:35<4:11:58, 169.87s/it]"
     ]
    },
    {
     "name": "stdout",
     "output_type": "stream",
     "text": [
      "data_stm is empty (could not compute stm, skipping :  AQ2am_Jan6_30Hz  )\n",
      "DATA_STM:  (49, 901, 128, 128)\n",
      "    denoising data (pca.transofrm(X)) \n",
      "        done denoising data\n",
      "DATA_STM:  (49, 901, 128, 128)\n",
      "    denoising data (pca.transofrm(X)) \n",
      "        done denoising data\n"
     ]
    },
    {
     "name": "stderr",
     "output_type": "stream",
     "text": [
      "\r",
      " 20%|██        | 22/110 [1:29:46<4:17:24, 175.51s/it]"
     ]
    },
    {
     "name": "stdout",
     "output_type": "stream",
     "text": [
      "data_stm is empty (could not compute stm, skipping :  AQ2am_Jan7_30Hz  )\n",
      "DATA_STM:  (58, 901, 128, 128)\n",
      "    denoising data (pca.transofrm(X)) \n",
      "        done denoising data\n",
      "DATA_STM:  (58, 901, 128, 128)\n",
      "    denoising data (pca.transofrm(X)) \n",
      "        done denoising data\n"
     ]
    },
    {
     "name": "stderr",
     "output_type": "stream",
     "text": [
      "\r",
      " 21%|██        | 23/110 [1:33:53<4:43:28, 195.50s/it]"
     ]
    },
    {
     "name": "stdout",
     "output_type": "stream",
     "text": [
      "data_stm is empty (could not compute stm, skipping :  AQ2am_Jan8_30Hz  )\n",
      "DATA_STM:  (43, 901, 128, 128)\n",
      "    denoising data (pca.transofrm(X)) \n",
      "        done denoising data\n",
      "DATA_STM:  (43, 901, 128, 128)\n",
      "    denoising data (pca.transofrm(X)) \n",
      "        done denoising data\n"
     ]
    },
    {
     "name": "stderr",
     "output_type": "stream",
     "text": [
      "\r",
      " 22%|██▏       | 24/110 [1:36:30<4:24:32, 184.56s/it]"
     ]
    },
    {
     "name": "stdout",
     "output_type": "stream",
     "text": [
      "data_stm is empty (could not compute stm, skipping :  AQ2pm_Jan11_30Hz  )\n",
      "DATA_STM:  (73, 901, 128, 128)\n",
      "    denoising data (pca.transofrm(X)) \n",
      "        done denoising data\n",
      "DATA_STM:  (73, 901, 128, 128)\n",
      "    denoising data (pca.transofrm(X)) \n",
      "        done denoising data\n"
     ]
    },
    {
     "name": "stderr",
     "output_type": "stream",
     "text": [
      "\r",
      " 23%|██▎       | 25/110 [1:43:11<5:50:23, 247.34s/it]"
     ]
    },
    {
     "name": "stdout",
     "output_type": "stream",
     "text": [
      "data_stm is empty (could not compute stm, skipping :  AQ2am_Jan11_30Hz  )\n",
      "DATA_STM:  (68, 901, 128, 128)\n",
      "    denoising data (pca.transofrm(X)) \n",
      "        done denoising data\n",
      "DATA_STM:  (68, 901, 128, 128)\n",
      "    denoising data (pca.transofrm(X)) \n",
      "        done denoising data\n"
     ]
    },
    {
     "name": "stderr",
     "output_type": "stream",
     "text": [
      "\r",
      " 24%|██▎       | 26/110 [1:48:39<6:19:08, 270.82s/it]"
     ]
    },
    {
     "name": "stdout",
     "output_type": "stream",
     "text": [
      "data_stm is empty (could not compute stm, skipping :  AQ2pm_Jan12_30Hz  )\n",
      "DATA_STM:  (40, 901, 128, 128)\n",
      "    denoising data (pca.transofrm(X)) \n",
      "        done denoising data\n",
      "DATA_STM:  (40, 901, 128, 128)\n",
      "    denoising data (pca.transofrm(X)) \n",
      "        done denoising data\n"
     ]
    },
    {
     "name": "stderr",
     "output_type": "stream",
     "text": [
      "\r",
      " 25%|██▍       | 27/110 [1:50:49<5:17:17, 229.37s/it]"
     ]
    },
    {
     "name": "stdout",
     "output_type": "stream",
     "text": [
      "data_stm is empty (could not compute stm, skipping :  AQ2am_Jan12_30Hz  )\n",
      "DATA_STM:  (38, 901, 128, 128)\n",
      "    denoising data (pca.transofrm(X)) \n",
      "        done denoising data\n",
      "DATA_STM:  (38, 901, 128, 128)\n",
      "    denoising data (pca.transofrm(X)) \n",
      "        done denoising data\n"
     ]
    },
    {
     "name": "stderr",
     "output_type": "stream",
     "text": [
      "\r",
      " 25%|██▌       | 28/110 [1:52:54<4:31:28, 198.64s/it]"
     ]
    },
    {
     "name": "stdout",
     "output_type": "stream",
     "text": [
      "data_stm is empty (could not compute stm, skipping :  AQ2pm_Jan13_30Hz  )\n",
      "DATA_STM:  (71, 901, 128, 128)\n",
      "    denoising data (pca.transofrm(X)) \n",
      "        done denoising data\n",
      "DATA_STM:  (71, 901, 128, 128)\n",
      "    denoising data (pca.transofrm(X)) \n",
      "        done denoising data\n"
     ]
    },
    {
     "name": "stderr",
     "output_type": "stream",
     "text": [
      "\r",
      " 26%|██▋       | 29/110 [1:59:19<5:42:40, 253.84s/it]"
     ]
    },
    {
     "name": "stdout",
     "output_type": "stream",
     "text": [
      "data_stm is empty (could not compute stm, skipping :  AQ2am_Jan13_30Hz  )\n",
      "DATA_STM:  (30, 901, 128, 128)\n",
      "    denoising data (pca.transofrm(X)) \n",
      "        done denoising data\n",
      "DATA_STM:  (30, 901, 128, 128)\n",
      "    denoising data (pca.transofrm(X)) \n",
      "        done denoising data\n"
     ]
    },
    {
     "name": "stderr",
     "output_type": "stream",
     "text": [
      "\r",
      " 27%|██▋       | 30/110 [2:00:44<4:31:19, 203.50s/it]"
     ]
    },
    {
     "name": "stdout",
     "output_type": "stream",
     "text": [
      "data_stm is empty (could not compute stm, skipping :  AQ2pm_Jan14_30Hz  )\n",
      "DATA_STM:  (74, 901, 128, 128)\n",
      "    denoising data (pca.transofrm(X)) \n",
      "        done denoising data\n",
      "DATA_STM:  (74, 901, 128, 128)\n",
      "    denoising data (pca.transofrm(X)) \n",
      "        done denoising data\n"
     ]
    },
    {
     "name": "stderr",
     "output_type": "stream",
     "text": [
      "\r",
      " 28%|██▊       | 31/110 [2:07:26<5:46:09, 262.91s/it]"
     ]
    },
    {
     "name": "stdout",
     "output_type": "stream",
     "text": [
      "data_stm is empty (could not compute stm, skipping :  AQ2am_Jan14_30Hz  )\n",
      "DATA_STM:  (29, 901, 128, 128)\n",
      "    denoising data (pca.transofrm(X)) \n",
      "        done denoising data\n",
      "DATA_STM:  (29, 901, 128, 128)\n",
      "    denoising data (pca.transofrm(X)) \n",
      "        done denoising data\n"
     ]
    },
    {
     "name": "stderr",
     "output_type": "stream",
     "text": [
      "\r",
      " 29%|██▉       | 32/110 [2:08:50<4:32:10, 209.36s/it]"
     ]
    },
    {
     "name": "stdout",
     "output_type": "stream",
     "text": [
      "data_stm is empty (could not compute stm, skipping :  AQ2am_Jan15_30Hz  )\n",
      "DATA_STM:  (47, 901, 128, 128)\n",
      "    denoising data (pca.transofrm(X)) \n",
      "        done denoising data\n",
      "DATA_STM:  (47, 901, 128, 128)\n",
      "    denoising data (pca.transofrm(X)) \n",
      "        done denoising data\n"
     ]
    },
    {
     "name": "stderr",
     "output_type": "stream",
     "text": [
      "\r",
      " 30%|███       | 33/110 [2:11:42<4:14:12, 198.09s/it]"
     ]
    },
    {
     "name": "stdout",
     "output_type": "stream",
     "text": [
      "data_stm is empty (could not compute stm, skipping :  AQ2pm_Jan15_30Hz  )\n",
      "DATA_STM:  (70, 901, 128, 128)\n",
      "    denoising data (pca.transofrm(X)) \n",
      "        done denoising data\n",
      "DATA_STM:  (70, 901, 128, 128)\n",
      "    denoising data (pca.transofrm(X)) \n",
      "        done denoising data\n"
     ]
    },
    {
     "name": "stderr",
     "output_type": "stream",
     "text": [
      "\r",
      " 31%|███       | 34/110 [2:17:28<5:07:12, 242.53s/it]"
     ]
    },
    {
     "name": "stdout",
     "output_type": "stream",
     "text": [
      "data_stm is empty (could not compute stm, skipping :  AQ2pm_Jan18_30Hz  )\n",
      "DATA_STM:  (59, 901, 128, 128)\n",
      "    denoising data (pca.transofrm(X)) \n",
      "        done denoising data\n",
      "DATA_STM:  (59, 901, 128, 128)\n",
      "    denoising data (pca.transofrm(X)) \n",
      "        done denoising data\n"
     ]
    },
    {
     "name": "stderr",
     "output_type": "stream",
     "text": [
      "\r",
      " 32%|███▏      | 35/110 [2:21:45<5:08:42, 246.97s/it]"
     ]
    },
    {
     "name": "stdout",
     "output_type": "stream",
     "text": [
      "data_stm is empty (could not compute stm, skipping :  AQ2am_Jan18_30Hz  )\n",
      "DATA_STM:  (86, 901, 128, 128)\n",
      "    denoising data (pca.transofrm(X)) \n",
      "        done denoising data\n",
      "DATA_STM:  (86, 901, 128, 128)\n",
      "    denoising data (pca.transofrm(X)) \n",
      "        done denoising data\n"
     ]
    },
    {
     "name": "stderr",
     "output_type": "stream",
     "text": [
      "\r",
      " 33%|███▎      | 36/110 [2:30:21<6:44:02, 327.60s/it]"
     ]
    },
    {
     "name": "stdout",
     "output_type": "stream",
     "text": [
      "data_stm is empty (could not compute stm, skipping :  AQ2am_Jan19_30Hz  )\n",
      "DATA_STM:  (69, 901, 128, 128)\n",
      "    denoising data (pca.transofrm(X)) \n",
      "        done denoising data\n",
      "DATA_STM:  (69, 901, 128, 128)\n",
      "    denoising data (pca.transofrm(X)) \n",
      "        done denoising data\n"
     ]
    },
    {
     "name": "stderr",
     "output_type": "stream",
     "text": [
      "\r",
      " 34%|███▎      | 37/110 [2:36:03<6:43:39, 331.78s/it]"
     ]
    },
    {
     "name": "stdout",
     "output_type": "stream",
     "text": [
      "data_stm is empty (could not compute stm, skipping :  AQ2pm_Jan19_30Hz  )\n",
      "DATA_STM:  (36, 901, 128, 128)\n",
      "    denoising data (pca.transofrm(X)) \n",
      "        done denoising data\n",
      "DATA_STM:  (36, 901, 128, 128)\n",
      "    denoising data (pca.transofrm(X)) \n",
      "        done denoising data\n"
     ]
    },
    {
     "name": "stderr",
     "output_type": "stream",
     "text": [
      "\r",
      " 35%|███▍      | 38/110 [2:37:52<5:18:06, 265.10s/it]"
     ]
    },
    {
     "name": "stdout",
     "output_type": "stream",
     "text": [
      "data_stm is empty (could not compute stm, skipping :  AQ2pm_Jan20_30Hz  )\n",
      "DATA_STM:  (31, 901, 128, 128)\n",
      "    denoising data (pca.transofrm(X)) \n",
      "        done denoising data\n",
      "DATA_STM:  (31, 901, 128, 128)\n",
      "    denoising data (pca.transofrm(X)) \n",
      "        done denoising data\n"
     ]
    },
    {
     "name": "stderr",
     "output_type": "stream",
     "text": [
      "\r",
      " 35%|███▌      | 39/110 [2:39:24<4:11:59, 212.95s/it]"
     ]
    },
    {
     "name": "stdout",
     "output_type": "stream",
     "text": [
      "data_stm is empty (could not compute stm, skipping :  AQ2am_Jan20_30Hz  )\n",
      "DATA_STM:  (38, 901, 128, 128)\n",
      "    denoising data (pca.transofrm(X)) \n",
      "        done denoising data\n",
      "DATA_STM:  (38, 901, 128, 128)\n",
      "    denoising data (pca.transofrm(X)) \n",
      "        done denoising data\n"
     ]
    },
    {
     "name": "stderr",
     "output_type": "stream",
     "text": [
      "\r",
      " 36%|███▋      | 40/110 [2:41:27<3:36:58, 185.99s/it]"
     ]
    },
    {
     "name": "stdout",
     "output_type": "stream",
     "text": [
      "data_stm is empty (could not compute stm, skipping :  AQ2pm_Jan21_30Hz  )\n",
      "DATA_STM:  (70, 901, 128, 128)\n",
      "    denoising data (pca.transofrm(X)) \n",
      "        done denoising data\n",
      "DATA_STM:  (70, 901, 128, 128)\n",
      "    denoising data (pca.transofrm(X)) \n",
      "        done denoising data\n"
     ]
    },
    {
     "name": "stderr",
     "output_type": "stream",
     "text": [
      "\r",
      " 37%|███▋      | 41/110 [2:47:07<4:27:08, 232.30s/it]"
     ]
    },
    {
     "name": "stdout",
     "output_type": "stream",
     "text": [
      "data_stm is empty (could not compute stm, skipping :  AQ2am_Jan21_30Hz  )\n",
      "DATA_STM:  (74, 901, 128, 128)\n",
      "    denoising data (pca.transofrm(X)) \n",
      "        done denoising data\n",
      "DATA_STM:  (74, 901, 128, 128)\n",
      "    denoising data (pca.transofrm(X)) \n",
      "        done denoising data\n"
     ]
    },
    {
     "name": "stderr",
     "output_type": "stream",
     "text": [
      "\r",
      " 38%|███▊      | 42/110 [2:53:45<5:19:25, 281.85s/it]"
     ]
    },
    {
     "name": "stdout",
     "output_type": "stream",
     "text": [
      "data_stm is empty (could not compute stm, skipping :  AQ2pm_Jan22_30Hz  )\n",
      "DATA_STM:  (67, 901, 128, 128)\n",
      "    denoising data (pca.transofrm(X)) \n",
      "        done denoising data\n",
      "DATA_STM:  (67, 901, 128, 128)\n",
      "    denoising data (pca.transofrm(X)) \n",
      "        done denoising data\n"
     ]
    },
    {
     "name": "stderr",
     "output_type": "stream",
     "text": [
      "\r",
      " 39%|███▉      | 43/110 [2:59:10<5:29:24, 294.99s/it]"
     ]
    },
    {
     "name": "stdout",
     "output_type": "stream",
     "text": [
      "data_stm is empty (could not compute stm, skipping :  AQ2am_Jan22_30Hz  )\n",
      "DATA_STM:  (76, 901, 128, 128)\n",
      "    denoising data (pca.transofrm(X)) \n",
      "        done denoising data\n",
      "DATA_STM:  (76, 901, 128, 128)\n",
      "    denoising data (pca.transofrm(X)) \n",
      "        done denoising data\n"
     ]
    },
    {
     "name": "stderr",
     "output_type": "stream",
     "text": [
      "\r",
      " 40%|████      | 44/110 [3:06:29<6:11:59, 338.17s/it]"
     ]
    },
    {
     "name": "stdout",
     "output_type": "stream",
     "text": [
      "data_stm is empty (could not compute stm, skipping :  AQ2am_Jan25_30Hz  )\n",
      "DATA_STM:  (49, 901, 128, 128)\n",
      "    denoising data (pca.transofrm(X)) \n",
      "        done denoising data\n",
      "DATA_STM:  (49, 901, 128, 128)\n",
      "    denoising data (pca.transofrm(X)) \n",
      "        done denoising data\n"
     ]
    },
    {
     "name": "stderr",
     "output_type": "stream",
     "text": [
      "\r",
      " 41%|████      | 45/110 [3:09:36<5:17:10, 292.78s/it]"
     ]
    },
    {
     "name": "stdout",
     "output_type": "stream",
     "text": [
      "data_stm is empty (could not compute stm, skipping :  AQ2pm_Jan25_30Hz  )\n",
      "DATA_STM:  (54, 901, 128, 128)\n",
      "    denoising data (pca.transofrm(X)) \n",
      "        done denoising data\n",
      "DATA_STM:  (54, 901, 128, 128)\n",
      "    denoising data (pca.transofrm(X)) \n",
      "        done denoising data\n"
     ]
    },
    {
     "name": "stderr",
     "output_type": "stream",
     "text": [
      "\r",
      " 42%|████▏     | 46/110 [3:13:19<4:50:03, 271.92s/it]"
     ]
    },
    {
     "name": "stdout",
     "output_type": "stream",
     "text": [
      "data_stm is empty (could not compute stm, skipping :  AQ2pm_Jan26_30Hz  )\n",
      "DATA_STM:  (55, 901, 128, 128)\n",
      "    denoising data (pca.transofrm(X)) \n",
      "        done denoising data\n",
      "DATA_STM:  (55, 901, 128, 128)\n",
      "    denoising data (pca.transofrm(X)) \n",
      "        done denoising data\n"
     ]
    },
    {
     "name": "stderr",
     "output_type": "stream",
     "text": [
      "\r",
      " 43%|████▎     | 47/110 [3:17:09<4:32:06, 259.14s/it]"
     ]
    },
    {
     "name": "stdout",
     "output_type": "stream",
     "text": [
      "data_stm is empty (could not compute stm, skipping :  AQ2am_Jan26_30Hz  )\n",
      "DATA_STM:  (82, 901, 128, 128)\n",
      "    denoising data (pca.transofrm(X)) \n",
      "        done denoising data\n",
      "DATA_STM:  (82, 901, 128, 128)\n",
      "    denoising data (pca.transofrm(X)) \n",
      "        done denoising data\n"
     ]
    },
    {
     "name": "stderr",
     "output_type": "stream",
     "text": [
      "\r",
      " 44%|████▎     | 48/110 [3:25:36<5:44:52, 333.75s/it]"
     ]
    },
    {
     "name": "stdout",
     "output_type": "stream",
     "text": [
      "data_stm is empty (could not compute stm, skipping :  AQ2am_Jan27_30Hz  )\n",
      "DATA_STM:  (59, 901, 128, 128)\n",
      "    denoising data (pca.transofrm(X)) \n",
      "        done denoising data\n",
      "DATA_STM:  (59, 901, 128, 128)\n",
      "    denoising data (pca.transofrm(X)) \n",
      "        done denoising data\n"
     ]
    },
    {
     "name": "stderr",
     "output_type": "stream",
     "text": [
      "\r",
      " 45%|████▍     | 49/110 [3:29:54<5:16:10, 310.99s/it]"
     ]
    },
    {
     "name": "stdout",
     "output_type": "stream",
     "text": [
      "data_stm is empty (could not compute stm, skipping :  AQ2pm_Jan27_30Hz  )\n",
      "DATA_STM:  (30, 901, 128, 128)\n",
      "    denoising data (pca.transofrm(X)) \n",
      "        done denoising data\n",
      "DATA_STM:  (30, 901, 128, 128)\n",
      "    denoising data (pca.transofrm(X)) \n",
      "        done denoising data\n"
     ]
    },
    {
     "name": "stderr",
     "output_type": "stream",
     "text": [
      "\r",
      " 45%|████▌     | 50/110 [3:31:19<4:03:09, 243.16s/it]"
     ]
    },
    {
     "name": "stdout",
     "output_type": "stream",
     "text": [
      "data_stm is empty (could not compute stm, skipping :  AQ2am_Jan28_30Hz  )\n",
      "DATA_STM:  (44, 901, 128, 128)\n",
      "    denoising data (pca.transofrm(X)) \n",
      "        done denoising data\n",
      "DATA_STM:  (44, 901, 128, 128)\n",
      "    denoising data (pca.transofrm(X)) \n",
      "        done denoising data\n"
     ]
    },
    {
     "name": "stderr",
     "output_type": "stream",
     "text": [
      "\r",
      " 46%|████▋     | 51/110 [3:33:58<3:34:20, 217.97s/it]"
     ]
    },
    {
     "name": "stdout",
     "output_type": "stream",
     "text": [
      "data_stm is empty (could not compute stm, skipping :  AQ2pm_Jan28_30Hz  )\n",
      "DATA_STM:  (43, 901, 128, 128)\n",
      "    denoising data (pca.transofrm(X)) \n",
      "        done denoising data\n",
      "DATA_STM:  (43, 901, 128, 128)\n",
      "    denoising data (pca.transofrm(X)) \n",
      "        done denoising data\n"
     ]
    },
    {
     "name": "stderr",
     "output_type": "stream",
     "text": [
      "\r",
      " 47%|████▋     | 52/110 [3:36:32<3:12:05, 198.72s/it]"
     ]
    },
    {
     "name": "stdout",
     "output_type": "stream",
     "text": [
      "data_stm is empty (could not compute stm, skipping :  AQ2am_Jan29_30Hz  )\n",
      "DATA_STM:  (28, 901, 128, 128)\n",
      "    denoising data (pca.transofrm(X)) \n",
      "        done denoising data\n",
      "DATA_STM:  (28, 901, 128, 128)\n",
      "    denoising data (pca.transofrm(X)) \n",
      "        done denoising data\n"
     ]
    },
    {
     "name": "stderr",
     "output_type": "stream",
     "text": [
      "\r",
      " 48%|████▊     | 53/110 [3:37:54<2:35:28, 163.66s/it]"
     ]
    },
    {
     "name": "stdout",
     "output_type": "stream",
     "text": [
      "data_stm is empty (could not compute stm, skipping :  AQ2pm_Jan29_30Hz  )\n",
      "DATA_STM:  (22, 901, 128, 128)\n",
      "    denoising data (pca.transofrm(X)) \n",
      "        done denoising data\n",
      "DATA_STM:  (22, 901, 128, 128)\n",
      "    denoising data (pca.transofrm(X)) \n",
      "        done denoising data\n"
     ]
    },
    {
     "name": "stderr",
     "output_type": "stream",
     "text": [
      "\r",
      " 49%|████▉     | 54/110 [3:38:51<2:02:58, 131.76s/it]"
     ]
    },
    {
     "name": "stdout",
     "output_type": "stream",
     "text": [
      "data_stm is empty (could not compute stm, skipping :  AQ2am_Feb2_30Hz  )\n",
      "DATA_STM:  (12, 901, 128, 128)\n",
      "    denoising data (pca.transofrm(X)) \n",
      "        done denoising data\n",
      "DATA_STM:  (12, 901, 128, 128)\n",
      "    denoising data (pca.transofrm(X)) \n",
      "        done denoising data\n"
     ]
    },
    {
     "name": "stderr",
     "output_type": "stream",
     "text": [
      "\r",
      " 50%|█████     | 55/110 [3:39:23<1:33:19, 101.80s/it]"
     ]
    },
    {
     "name": "stdout",
     "output_type": "stream",
     "text": [
      "data_stm is empty (could not compute stm, skipping :  AQ2am_Feb3_30Hz  )\n",
      "DATA_STM:  (13, 901, 128, 128)\n",
      "    denoising data (pca.transofrm(X)) \n",
      "        done denoising data\n",
      "DATA_STM:  (13, 901, 128, 128)\n",
      "    denoising data (pca.transofrm(X)) \n",
      "        done denoising data\n"
     ]
    },
    {
     "name": "stderr",
     "output_type": "stream",
     "text": [
      "\r",
      " 51%|█████     | 56/110 [3:39:59<1:13:39, 81.85s/it] "
     ]
    },
    {
     "name": "stdout",
     "output_type": "stream",
     "text": [
      "data_stm is empty (could not compute stm, skipping :  AQ2am_Feb4_30Hz  )\n",
      "DATA_STM:  (7, 901, 128, 128)\n",
      "    denoising data (pca.transofrm(X)) \n",
      "        done denoising data\n",
      "DATA_STM:  (7, 901, 128, 128)\n",
      "    denoising data (pca.transofrm(X)) \n",
      "        done denoising data\n"
     ]
    },
    {
     "name": "stderr",
     "output_type": "stream",
     "text": [
      "\r",
      " 52%|█████▏    | 57/110 [3:40:21<56:29, 63.95s/it]  "
     ]
    },
    {
     "name": "stdout",
     "output_type": "stream",
     "text": [
      "data_stm is empty (could not compute stm, skipping :  AQ2am_Feb5_30Hz  )\n",
      "DATA_STM:  (2, 901, 128, 128)\n",
      "    denoising data (pca.transofrm(X)) \n",
      "        done denoising data\n",
      "DATA_STM:  (2, 901, 128, 128)\n",
      "    denoising data (pca.transofrm(X)) \n",
      "        done denoising data\n"
     ]
    },
    {
     "name": "stderr",
     "output_type": "stream",
     "text": [
      "\r",
      " 53%|█████▎    | 58/110 [3:40:36<42:39, 49.23s/it]"
     ]
    },
    {
     "name": "stdout",
     "output_type": "stream",
     "text": [
      "data_stm is empty (could not compute stm, skipping :  AQ2am_Feb9_30Hz  )\n",
      "DATA_STM:  (23, 901, 128, 128)\n",
      "    denoising data (pca.transofrm(X)) \n",
      "        done denoising data\n",
      "DATA_STM:  (23, 901, 128, 128)\n",
      "    denoising data (pca.transofrm(X)) \n",
      "        done denoising data\n"
     ]
    },
    {
     "name": "stderr",
     "output_type": "stream",
     "text": [
      "\r",
      " 54%|█████▎    | 59/110 [3:41:53<48:56, 57.59s/it]"
     ]
    },
    {
     "name": "stdout",
     "output_type": "stream",
     "text": [
      "data_stm is empty (could not compute stm, skipping :  AQ2am_Feb10_30Hz  )\n",
      "DATA_STM:  (2, 901, 128, 128)\n",
      "    denoising data (pca.transofrm(X)) \n",
      "        done denoising data\n",
      "DATA_STM:  (2, 901, 128, 128)\n",
      "    denoising data (pca.transofrm(X)) \n",
      "        done denoising data\n"
     ]
    },
    {
     "name": "stderr",
     "output_type": "stream",
     "text": [
      "\r",
      " 55%|█████▍    | 60/110 [3:42:07<37:05, 44.51s/it]"
     ]
    },
    {
     "name": "stdout",
     "output_type": "stream",
     "text": [
      "data_stm is empty (could not compute stm, skipping :  AQ2am_Feb11_30Hz  )\n",
      "DATA_STM:  (3, 901, 128, 128)\n",
      "    denoising data (pca.transofrm(X)) \n",
      "        done denoising data\n",
      "DATA_STM:  (3, 901, 128, 128)\n",
      "    denoising data (pca.transofrm(X)) \n",
      "        done denoising data\n"
     ]
    },
    {
     "name": "stderr",
     "output_type": "stream",
     "text": [
      "\r",
      " 55%|█████▌    | 61/110 [3:42:23<29:24, 36.01s/it]"
     ]
    },
    {
     "name": "stdout",
     "output_type": "stream",
     "text": [
      "data_stm is empty (could not compute stm, skipping :  AQ2am_Feb12_30Hz  )\n",
      "DATA_STM:  (12, 901, 128, 128)\n",
      "    denoising data (pca.transofrm(X)) \n",
      "        done denoising data\n",
      "DATA_STM:  (12, 901, 128, 128)\n",
      "    denoising data (pca.transofrm(X)) \n",
      "        done denoising data\n"
     ]
    },
    {
     "name": "stderr",
     "output_type": "stream",
     "text": [
      "\r",
      " 56%|█████▋    | 62/110 [3:42:59<28:45, 35.95s/it]"
     ]
    },
    {
     "name": "stdout",
     "output_type": "stream",
     "text": [
      "data_stm is empty (could not compute stm, skipping :  AQ2am_Feb15_30Hz  )\n",
      "DATA_STM:  (20, 901, 128, 128)\n",
      "    denoising data (pca.transofrm(X)) \n",
      "        done denoising data\n",
      "DATA_STM:  (20, 901, 128, 128)\n",
      "    denoising data (pca.transofrm(X)) \n",
      "        done denoising data\n"
     ]
    },
    {
     "name": "stderr",
     "output_type": "stream",
     "text": [
      "\r",
      " 57%|█████▋    | 63/110 [3:43:58<33:34, 42.86s/it]"
     ]
    },
    {
     "name": "stdout",
     "output_type": "stream",
     "text": [
      "data_stm is empty (could not compute stm, skipping :  AQ2am_Feb16_30Hz  )\n",
      "DATA_STM:  (19, 901, 128, 128)\n",
      "    denoising data (pca.transofrm(X)) \n",
      "        done denoising data\n",
      "DATA_STM:  (19, 901, 128, 128)\n",
      "    denoising data (pca.transofrm(X)) \n",
      "        done denoising data\n"
     ]
    },
    {
     "name": "stderr",
     "output_type": "stream",
     "text": [
      "\r",
      " 58%|█████▊    | 64/110 [3:44:49<34:43, 45.29s/it]"
     ]
    },
    {
     "name": "stdout",
     "output_type": "stream",
     "text": [
      "data_stm is empty (could not compute stm, skipping :  AQ2am_Feb17_30Hz  )\n",
      "No video available:  AQ2am_Feb18_30Hz\n",
      " ... session has no lever pulls  AQ2am_Feb18_30Hz\n",
      "No video available:  AQ2am_Feb19_30Hz\n",
      " ... session has no lever pulls  AQ2am_Feb19_30Hz\n",
      "No video available:  AQ2am_Feb22_30Hz\n",
      " ... session has no lever pulls  AQ2am_Feb22_30Hz\n",
      "No video available:  AQ2am_Feb23_30Hz\n",
      " ... session has no lever pulls  AQ2am_Feb23_30Hz\n",
      "No video available:  AQ2am_Feb25_30Hz\n",
      " ... session has no lever pulls  AQ2am_Feb25_30Hz\n",
      "No video available:  AQ2am_Feb26_30Hz\n",
      " ... session has no lever pulls  AQ2am_Feb26_30Hz\n",
      "No video available:  AQ2am_Feb29_30Hz\n",
      " ... session has no lever pulls  AQ2am_Feb29_30Hz\n",
      "No video available:  AQ2am_Mar1_30Hz\n",
      " ... session has no lever pulls  AQ2am_Mar1_30Hz\n",
      "No video available:  AQ2am_Mar2_30Hz\n",
      " ... session has no lever pulls  AQ2am_Mar2_30Hz\n",
      "No video available:  AQ2am_Mar3_30Hz\n",
      " ... session has no lever pulls  AQ2am_Mar3_30Hz\n",
      "No video available:  AQ2pm_Mar7_Day3_30Hz\n",
      " ... session has no lever pulls  AQ2pm_Mar7_Day3_30Hz\n",
      "No video available:  AQ2pm_Mar9_Day5_30Hz\n",
      " ... session has no lever pulls  AQ2pm_Mar9_Day5_30Hz\n",
      "No video available:  AQ2pm_Mar11_Day7_30Hz\n",
      " ... session has no lever pulls  AQ2pm_Mar11_Day7_30Hz\n",
      "No video available:  AQ2am_Mar14_Week2_30Hz\n",
      " ... session has no lever pulls  AQ2am_Mar14_Week2_30Hz\n",
      "No video available:  AQ2pm_Mar15_Week2_30Hz\n",
      " ... session has no lever pulls  AQ2pm_Mar15_Week2_30Hz\n",
      "No video available:  AQ2am_Mar16_Week2_30Hz\n",
      " ... session has no lever pulls  AQ2am_Mar16_Week2_30Hz\n",
      "No video available:  AQ2am_Mar17_Week2_30Hz\n",
      " ... session has no lever pulls  AQ2am_Mar17_Week2_30Hz\n",
      "No video available:  AQ2am_Mar18_Week2_30Hz\n",
      " ... session has no lever pulls  AQ2am_Mar18_Week2_30Hz\n",
      "No video available:  AQ2am_Mar21_Week3_30Hz\n",
      " ... session has no lever pulls  AQ2am_Mar21_Week3_30Hz\n",
      "No video available:  AQ2am_Mar22_Week3_30Hz\n",
      " ... session has no lever pulls  AQ2am_Mar22_Week3_30Hz\n",
      "No video available:  AQ2am_Mar23_Week3_30Hz\n",
      " ... session has no lever pulls  AQ2am_Mar23_Week3_30Hz\n",
      "No video available:  AQ2am_Mar24_Week3_30Hz\n",
      " ... session has no lever pulls  AQ2am_Mar24_Week3_30Hz\n",
      "No video available:  AQ2am_Mar29_Week4_30Hz\n",
      " ... session has no lever pulls  AQ2am_Mar29_Week4_30Hz\n",
      "No video available:  AQ2am_Mar30_Week4_30Hz\n",
      " ... session has no lever pulls  AQ2am_Mar30_Week4_30Hz\n",
      "No video available:  AQ2am_Mar31_Week4_30Hz\n",
      " ... session has no lever pulls  AQ2am_Mar31_Week4_30Hz\n",
      "No video available:  AQ2am_Apr1_Week4_30Hz\n",
      " ... session has no lever pulls  AQ2am_Apr1_Week4_30Hz\n",
      "No video available:  AQ2am_Apr4_Week5_30Hz\n",
      " ... session has no lever pulls  AQ2am_Apr4_Week5_30Hz\n",
      "No video available:  AQ2am_Apr5_Week5_30Hz\n",
      " ... session has no lever pulls  AQ2am_Apr5_Week5_30Hz\n",
      "No video available:  AQ2am_Apr6_Week5_30Hz\n",
      " ... session has no lever pulls  AQ2am_Apr6_Week5_30Hz\n",
      "No video available:  AQ2am_Apr7_Week5_30Hz\n",
      " ... session has no lever pulls  AQ2am_Apr7_Week5_30Hz\n",
      "No video available:  AQ2am_Apr8_Week5_30Hz\n",
      " ... session has no lever pulls  AQ2am_Apr8_Week5_30Hz\n",
      "No video available:  AQ2am_Apr11_Week6_30Hz\n",
      " ... session has no lever pulls  AQ2am_Apr11_Week6_30Hz\n",
      "No video available:  AQ2am_Apr12_Week6_30Hz\n",
      " ... session has no lever pulls  AQ2am_Apr12_Week6_30Hz\n",
      "No video available:  AQ2am_Apr13_Week6_30Hz\n",
      " ... session has no lever pulls  AQ2am_Apr13_Week6_30Hz\n",
      "No video available:  AQ2am_Apr14_Week6_30Hz\n",
      " ... session has no lever pulls  AQ2am_Apr14_Week6_30Hz\n",
      "No video available:  AQ2am_Apr15_Week6_30Hz\n",
      " ... session has no lever pulls  AQ2am_Apr15_Week6_30Hz\n",
      "No video available:  AQ2am_Apr18_Week7_30Hz\n",
      " ... session has no lever pulls  AQ2am_Apr18_Week7_30Hz\n",
      "No video available:  AQ2am_Apr19_Week7_30Hz\n",
      " ... session has no lever pulls  AQ2am_Apr19_Week7_30Hz\n",
      "No video available:  AQ2am_Apr20_Week7_30Hz\n",
      " ... session has no lever pulls  AQ2am_Apr20_Week7_30Hz\n",
      " ... session has no lever pulls  AQ2am_Apr21_Week7_30Hz\n",
      "data_stm is empty (could not compute stm, skipping :  AQ2am_Apr22_Week7_30Hz  )\n"
     ]
    },
    {
     "name": "stderr",
     "output_type": "stream",
     "text": [
      "\r",
      " 95%|█████████▌| 105/110 [3:45:00<00:13,  2.71s/it]"
     ]
    },
    {
     "name": "stdout",
     "output_type": "stream",
     "text": [
      "data_stm is empty (could not compute stm, skipping :  AQ2am_Apr22_Week7_30Hz  )\n",
      "DATA_STM:  (3, 901, 128, 128)\n",
      "    denoising data (pca.transofrm(X)) \n",
      "        done denoising data\n",
      "DATA_STM:  (3, 901, 128, 128)\n",
      "    denoising data (pca.transofrm(X)) \n",
      "        done denoising data\n"
     ]
    },
    {
     "name": "stderr",
     "output_type": "stream",
     "text": [
      "\r",
      " 96%|█████████▋| 106/110 [3:45:18<00:12,  3.18s/it]"
     ]
    },
    {
     "name": "stdout",
     "output_type": "stream",
     "text": [
      "data_stm is empty (could not compute stm, skipping :  AQ2am_Apr25_Week8_30Hz  )\n",
      "DATA_STM:  (3, 901, 128, 128)\n",
      "    denoising data (pca.transofrm(X)) \n",
      "        done denoising data\n",
      "DATA_STM:  (3, 901, 128, 128)\n",
      "    denoising data (pca.transofrm(X)) \n",
      "        done denoising data\n"
     ]
    },
    {
     "name": "stderr",
     "output_type": "stream",
     "text": [
      "\r",
      " 97%|█████████▋| 107/110 [3:45:35<00:11,  3.79s/it]"
     ]
    },
    {
     "name": "stdout",
     "output_type": "stream",
     "text": [
      "data_stm is empty (could not compute stm, skipping :  AQ2am_Apr26_Week8_30Hz  )\n",
      "DATA_STM:  (13, 901, 128, 128)\n",
      "    denoising data (pca.transofrm(X)) \n",
      "        done denoising data\n",
      "DATA_STM:  (13, 901, 128, 128)\n",
      "    denoising data (pca.transofrm(X)) \n",
      "        done denoising data\n"
     ]
    },
    {
     "name": "stderr",
     "output_type": "stream",
     "text": [
      "\r",
      " 98%|█████████▊| 108/110 [3:46:15<00:11,  5.93s/it]"
     ]
    },
    {
     "name": "stdout",
     "output_type": "stream",
     "text": [
      "data_stm is empty (could not compute stm, skipping :  AQ2am_Apr27_Week8_30Hz  )\n",
      "DATA_STM:  (5, 901, 128, 128)\n",
      "    denoising data (pca.transofrm(X)) \n",
      "        done denoising data\n",
      "DATA_STM:  (5, 901, 128, 128)\n",
      "    denoising data (pca.transofrm(X)) \n",
      "        done denoising data\n"
     ]
    },
    {
     "name": "stderr",
     "output_type": "stream",
     "text": [
      "100%|██████████| 110/110 [3:46:35<00:00, 123.60s/it]\n",
      "  0%|          | 0/71 [00:00<?, ?it/s]"
     ]
    },
    {
     "name": "stdout",
     "output_type": "stream",
     "text": [
      "data_stm is empty (could not compute stm, skipping :  AQ2am_Apr28_Week8_30Hz  )\n",
      " ... session has no lever pulls  AQ2am_Apr29_Week8_30Hz\n",
      "PROCESSING:  IA1\n",
      "DATA_STM:  (57, 901, 128, 128)\n",
      "    denoising data (pca.transofrm(X)) \n",
      "        done denoising data\n",
      "DATA_STM:  (57, 901, 128, 128)\n",
      "    denoising data (pca.transofrm(X)) \n",
      "        done denoising data\n"
     ]
    },
    {
     "name": "stderr",
     "output_type": "stream",
     "text": [
      "\r",
      "  1%|▏         | 1/71 [04:26<5:10:59, 266.56s/it]"
     ]
    },
    {
     "name": "stdout",
     "output_type": "stream",
     "text": [
      "data_stm is empty (could not compute stm, skipping :  IA1pm_Feb1_30Hz  )\n",
      "DATA_STM:  (39, 901, 128, 128)\n",
      "    denoising data (pca.transofrm(X)) \n",
      "        done denoising data\n",
      "DATA_STM:  (39, 901, 128, 128)\n",
      "    denoising data (pca.transofrm(X)) \n",
      "        done denoising data\n"
     ]
    },
    {
     "name": "stderr",
     "output_type": "stream",
     "text": [
      "\r",
      "  3%|▎         | 2/71 [06:40<3:36:42, 188.44s/it]"
     ]
    },
    {
     "name": "stdout",
     "output_type": "stream",
     "text": [
      "data_stm is empty (could not compute stm, skipping :  IA1pm_Feb2_30Hz  )\n",
      "DATA_STM:  (44, 901, 128, 128)\n",
      "    denoising data (pca.transofrm(X)) \n",
      "        done denoising data\n",
      "DATA_STM:  (44, 901, 128, 128)\n",
      "    denoising data (pca.transofrm(X)) \n",
      "        done denoising data\n"
     ]
    },
    {
     "name": "stderr",
     "output_type": "stream",
     "text": [
      "\r",
      "  4%|▍         | 3/71 [09:23<3:20:14, 176.69s/it]"
     ]
    },
    {
     "name": "stdout",
     "output_type": "stream",
     "text": [
      "data_stm is empty (could not compute stm, skipping :  IA1pm_Feb3_30Hz  )\n",
      "DATA_STM:  (46, 901, 128, 128)\n",
      "    denoising data (pca.transofrm(X)) \n",
      "        done denoising data\n",
      "DATA_STM:  (46, 901, 128, 128)\n",
      "    denoising data (pca.transofrm(X)) \n",
      "        done denoising data\n"
     ]
    },
    {
     "name": "stderr",
     "output_type": "stream",
     "text": [
      "\r",
      "  6%|▌         | 4/71 [12:25<3:19:48, 178.94s/it]"
     ]
    },
    {
     "name": "stdout",
     "output_type": "stream",
     "text": [
      "data_stm is empty (could not compute stm, skipping :  IA1pm_Feb4_30Hz  )\n",
      "DATA_STM:  (51, 901, 128, 128)\n",
      "    denoising data (pca.transofrm(X)) \n",
      "        done denoising data\n",
      "DATA_STM:  (51, 901, 128, 128)\n",
      "    denoising data (pca.transofrm(X)) \n",
      "        done denoising data\n"
     ]
    },
    {
     "name": "stderr",
     "output_type": "stream",
     "text": [
      "\r",
      "  7%|▋         | 5/71 [16:00<3:31:11, 191.99s/it]"
     ]
    },
    {
     "name": "stdout",
     "output_type": "stream",
     "text": [
      "data_stm is empty (could not compute stm, skipping :  IA1pm_Feb5_30Hz  )\n",
      "DATA_STM:  (30, 901, 128, 128)\n",
      "    denoising data (pca.transofrm(X)) \n",
      "        done denoising data\n",
      "DATA_STM:  (30, 901, 128, 128)\n",
      "    denoising data (pca.transofrm(X)) \n",
      "        done denoising data\n"
     ]
    },
    {
     "name": "stderr",
     "output_type": "stream",
     "text": [
      "\r",
      "  8%|▊         | 6/71 [17:29<2:50:10, 157.09s/it]"
     ]
    },
    {
     "name": "stdout",
     "output_type": "stream",
     "text": [
      "data_stm is empty (could not compute stm, skipping :  IA1pm_Feb9_30Hz  )\n",
      "DATA_STM:  (42, 901, 128, 128)\n",
      "    denoising data (pca.transofrm(X)) \n",
      "        done denoising data\n",
      "DATA_STM:  (42, 901, 128, 128)\n",
      "    denoising data (pca.transofrm(X)) \n",
      "        done denoising data\n"
     ]
    },
    {
     "name": "stderr",
     "output_type": "stream",
     "text": [
      "\r",
      " 10%|▉         | 7/71 [19:52<2:42:38, 152.47s/it]"
     ]
    },
    {
     "name": "stdout",
     "output_type": "stream",
     "text": [
      "data_stm is empty (could not compute stm, skipping :  IA1pm_Feb10_30Hz  )\n",
      "DATA_STM:  (42, 901, 128, 128)\n",
      "    denoising data (pca.transofrm(X)) \n",
      "        done denoising data\n",
      "DATA_STM:  (42, 901, 128, 128)\n",
      "    denoising data (pca.transofrm(X)) \n",
      "        done denoising data\n"
     ]
    },
    {
     "name": "stderr",
     "output_type": "stream",
     "text": [
      "\r",
      " 11%|█▏        | 8/71 [22:21<2:38:41, 151.14s/it]"
     ]
    },
    {
     "name": "stdout",
     "output_type": "stream",
     "text": [
      "data_stm is empty (could not compute stm, skipping :  IA1pm_Feb11_30Hz  )\n",
      "DATA_STM:  (57, 901, 128, 128)\n",
      "    denoising data (pca.transofrm(X)) \n",
      "        done denoising data\n",
      "DATA_STM:  (57, 901, 128, 128)\n",
      "    denoising data (pca.transofrm(X)) \n",
      "        done denoising data\n"
     ]
    },
    {
     "name": "stderr",
     "output_type": "stream",
     "text": [
      "\r",
      " 13%|█▎        | 9/71 [26:37<3:10:19, 184.19s/it]"
     ]
    },
    {
     "name": "stdout",
     "output_type": "stream",
     "text": [
      "data_stm is empty (could not compute stm, skipping :  IA1pm_Feb12_30Hz  )\n",
      "DATA_STM:  (61, 901, 128, 128)\n",
      "    denoising data (pca.transofrm(X)) \n",
      "        done denoising data\n",
      "DATA_STM:  (61, 901, 128, 128)\n",
      "    denoising data (pca.transofrm(X)) \n",
      "        done denoising data\n"
     ]
    },
    {
     "name": "stderr",
     "output_type": "stream",
     "text": [
      "\r",
      " 14%|█▍        | 10/71 [31:22<3:38:52, 215.28s/it]"
     ]
    },
    {
     "name": "stdout",
     "output_type": "stream",
     "text": [
      "data_stm is empty (could not compute stm, skipping :  IA1pm_Feb15_30Hz  )\n",
      "DATA_STM:  (61, 901, 128, 128)\n",
      "    denoising data (pca.transofrm(X)) \n",
      "        done denoising data\n",
      "DATA_STM:  (61, 901, 128, 128)\n",
      "    denoising data (pca.transofrm(X)) \n",
      "        done denoising data\n"
     ]
    },
    {
     "name": "stderr",
     "output_type": "stream",
     "text": [
      "\r",
      " 15%|█▌        | 11/71 [36:07<3:56:34, 236.57s/it]"
     ]
    },
    {
     "name": "stdout",
     "output_type": "stream",
     "text": [
      "data_stm is empty (could not compute stm, skipping :  IA1pm_Feb16_30Hz  )\n",
      "DATA_STM:  (67, 901, 128, 128)\n",
      "    denoising data (pca.transofrm(X)) \n",
      "        done denoising data\n",
      "DATA_STM:  (67, 901, 128, 128)\n",
      "    denoising data (pca.transofrm(X)) \n",
      "        done denoising data\n"
     ]
    },
    {
     "name": "stderr",
     "output_type": "stream",
     "text": [
      "\r",
      " 17%|█▋        | 12/71 [41:51<4:24:44, 269.24s/it]"
     ]
    },
    {
     "name": "stdout",
     "output_type": "stream",
     "text": [
      "data_stm is empty (could not compute stm, skipping :  IA1pm_Feb17_30Hz  )\n",
      "No video available:  IA1pm_Feb18_30Hz\n",
      " ... session has no lever pulls  IA1pm_Feb18_30Hz\n",
      "No video available:  IA1pm_Feb19_30Hz\n",
      " ... session has no lever pulls  IA1pm_Feb19_30Hz\n",
      "No video available:  IA1pm_Feb22_30Hz\n",
      " ... session has no lever pulls  IA1pm_Feb22_30Hz\n",
      "No video available:  IA1pm_Feb23_30Hz\n",
      " ... session has no lever pulls  IA1pm_Feb23_30Hz\n",
      "No video available:  IA1pm_Feb24_30Hz\n",
      " ... session has no lever pulls  IA1pm_Feb24_30Hz\n",
      "No video available:  IA1pm_Feb25_30Hz\n",
      " ... session has no lever pulls  IA1pm_Feb25_30Hz\n",
      "No video available:  IA1pm_Feb26_30Hz\n",
      " ... session has no lever pulls  IA1pm_Feb26_30Hz\n",
      "No video available:  IA1pm_Feb29_30Hz\n",
      " ... session has no lever pulls  IA1pm_Feb29_30Hz\n",
      "No video available:  IA1pm_Mar1_30Hz\n",
      " ... session has no lever pulls  IA1pm_Mar1_30Hz\n",
      "No video available:  IA1pm_Mar2_30Hz\n",
      " ... session has no lever pulls  IA1pm_Mar2_30Hz\n",
      "No video available:  IA1pm_Mar3_30Hz\n",
      " ... session has no lever pulls  IA1pm_Mar3_30Hz\n",
      "No video available:  IA1am_Mar4_30Hz\n",
      " ... session has no lever pulls  IA1am_Mar4_30Hz\n",
      "No video available:  IA1am_Mar7_30Hz\n",
      " ... session has no lever pulls  IA1am_Mar7_30Hz\n",
      "No video available:  IA1pm_Mar8_30Hz\n",
      " ... session has no lever pulls  IA1pm_Mar8_30Hz\n",
      "No video available:  IA1am_Mar9_30Hz\n",
      " ... session has no lever pulls  IA1am_Mar9_30Hz\n",
      "No video available:  IA1am_Mar10_30Hz\n",
      " ... session has no lever pulls  IA1am_Mar10_30Hz\n",
      "No video available:  IA1am_Mar11_30Hz\n",
      " ... session has no lever pulls  IA1am_Mar11_30Hz\n",
      "No video available:  IA1pm_Mar14_30Hz\n",
      " ... session has no lever pulls  IA1pm_Mar14_30Hz\n",
      "No video available:  IA1am_Mar15_30Hz\n",
      " ... session has no lever pulls  IA1am_Mar15_30Hz\n",
      "No video available:  IA1pm_Mar16_30Hz\n",
      " ... session has no lever pulls  IA1pm_Mar16_30Hz\n",
      "No video available:  IA1pm_Mar17_30Hz\n",
      " ... session has no lever pulls  IA1pm_Mar17_30Hz\n",
      "No video available:  IA1pm_Mar18_30Hz\n",
      " ... session has no lever pulls  IA1pm_Mar18_30Hz\n",
      "No video available:  IA1pm_Mar21_30Hz\n",
      " ... session has no lever pulls  IA1pm_Mar21_30Hz\n",
      "No video available:  IA1pm_Mar22_30Hz\n",
      " ... session has no lever pulls  IA1pm_Mar22_30Hz\n",
      "No video available:  IA1pm_Mar23_30Hz\n",
      " ... session has no lever pulls  IA1pm_Mar23_30Hz\n",
      "No video available:  IA1pm_Mar24_30Hz\n",
      " ... session has no lever pulls  IA1pm_Mar24_30Hz\n",
      "No video available:  IA1pm_Mar29_30Hz\n",
      " ... session has no lever pulls  IA1pm_Mar29_30Hz\n",
      "No video available:  IA1pm_Mar30_30Hz\n",
      " ... session has no lever pulls  IA1pm_Mar30_30Hz\n",
      "No video available:  IA1pm_Mar31_30Hz\n",
      " ... session has no lever pulls  IA1pm_Mar31_30Hz\n",
      "No video available:  IA1pm_Apr1_30Hz\n",
      " ... session has no lever pulls  IA1pm_Apr1_30Hz\n",
      "No video available:  IA1pm_Apr4_30Hz\n",
      " ... session has no lever pulls  IA1pm_Apr4_30Hz\n",
      "No video available:  IA1pm_Apr5_30Hz\n",
      " ... session has no lever pulls  IA1pm_Apr5_30Hz\n",
      "No video available:  IA1pm_Apr6_30Hz\n",
      " ... session has no lever pulls  IA1pm_Apr6_30Hz\n",
      "No video available:  IA1pm_Apr7_30Hz\n",
      " ... session has no lever pulls  IA1pm_Apr7_30Hz\n",
      "No video available:  IA1pm_Apr11_Day3_30Hz\n",
      " ... session has no lever pulls  IA1pm_Apr11_Day3_30Hz\n",
      "No video available:  IA1pm_Apr13_Day5_30Hz\n",
      " ... session has no lever pulls  IA1pm_Apr13_Day5_30Hz\n",
      "No video available:  IA1pm_Apr15_Day7_30Hz\n",
      " ... session has no lever pulls  IA1pm_Apr15_Day7_30Hz\n",
      "No video available:  IA1pm_Apr18_Week2_30Hz\n",
      " ... session has no lever pulls  IA1pm_Apr18_Week2_30Hz\n",
      "No video available:  IA1pm_Apr19_Week2_30Hz\n",
      " ... session has no lever pulls  IA1pm_Apr19_Week2_30Hz\n",
      "No video available:  IA1pm_Apr20_Week2_30Hz\n",
      " ... session has no lever pulls  IA1pm_Apr20_Week2_30Hz\n",
      "DATA_STM:  (34, 901, 128, 128)\n",
      "    denoising data (pca.transofrm(X)) \n",
      "        done denoising data\n",
      "DATA_STM:  (34, 901, 128, 128)\n",
      "    denoising data (pca.transofrm(X)) \n",
      "        done denoising data\n"
     ]
    },
    {
     "name": "stderr",
     "output_type": "stream",
     "text": [
      "\r",
      " 75%|███████▍  | 53/71 [43:31<04:59, 16.62s/it]   "
     ]
    },
    {
     "name": "stdout",
     "output_type": "stream",
     "text": [
      "data_stm is empty (could not compute stm, skipping :  IA1pm_Apr21_Week2_30Hz  )\n",
      "DATA_STM:  (25, 901, 128, 128)\n",
      "    denoising data (pca.transofrm(X)) \n",
      "        done denoising data\n",
      "DATA_STM:  (25, 901, 128, 128)\n",
      "    denoising data (pca.transofrm(X)) \n",
      "        done denoising data\n"
     ]
    },
    {
     "name": "stderr",
     "output_type": "stream",
     "text": [
      "\r",
      " 76%|███████▌  | 54/71 [44:38<05:09, 18.21s/it]"
     ]
    },
    {
     "name": "stdout",
     "output_type": "stream",
     "text": [
      "data_stm is empty (could not compute stm, skipping :  IA1pm_Apr22_Week2_30Hz  )\n",
      "DATA_STM:  (27, 901, 128, 128)\n",
      "    denoising data (pca.transofrm(X)) \n",
      "        done denoising data\n",
      "DATA_STM:  (27, 901, 128, 128)\n",
      "    denoising data (pca.transofrm(X)) \n",
      "        done denoising data\n"
     ]
    },
    {
     "name": "stderr",
     "output_type": "stream",
     "text": [
      "\r",
      " 77%|███████▋  | 55/71 [45:52<05:30, 20.64s/it]"
     ]
    },
    {
     "name": "stdout",
     "output_type": "stream",
     "text": [
      "data_stm is empty (could not compute stm, skipping :  IA1pm_Apr25_Week3_30Hz  )\n",
      "DATA_STM:  (25, 901, 128, 128)\n",
      "    denoising data (pca.transofrm(X)) \n",
      "        done denoising data\n",
      "DATA_STM:  (25, 901, 128, 128)\n",
      "    denoising data (pca.transofrm(X)) \n",
      "        done denoising data\n"
     ]
    },
    {
     "name": "stderr",
     "output_type": "stream",
     "text": [
      "\r",
      " 79%|███████▉  | 56/71 [46:58<05:50, 23.34s/it]"
     ]
    },
    {
     "name": "stdout",
     "output_type": "stream",
     "text": [
      "data_stm is empty (could not compute stm, skipping :  IA1pm_Apr26_Week3_30Hz  )\n",
      "DATA_STM:  (23, 901, 128, 128)\n",
      "    denoising data (pca.transofrm(X)) \n",
      "        done denoising data\n",
      "DATA_STM:  (23, 901, 128, 128)\n",
      "    denoising data (pca.transofrm(X)) \n",
      "        done denoising data\n"
     ]
    },
    {
     "name": "stderr",
     "output_type": "stream",
     "text": [
      "\r",
      " 80%|████████  | 57/71 [47:57<06:05, 26.08s/it]"
     ]
    },
    {
     "name": "stdout",
     "output_type": "stream",
     "text": [
      "data_stm is empty (could not compute stm, skipping :  IA1pm_Apr27_Week3_30Hz  )\n",
      "DATA_STM:  (15, 901, 128, 128)\n",
      "    denoising data (pca.transofrm(X)) \n",
      "        done denoising data\n",
      "DATA_STM:  (15, 901, 128, 128)\n",
      "    denoising data (pca.transofrm(X)) \n",
      "        done denoising data\n"
     ]
    },
    {
     "name": "stderr",
     "output_type": "stream",
     "text": [
      "\r",
      " 82%|████████▏ | 58/71 [48:35<05:54, 27.25s/it]"
     ]
    },
    {
     "name": "stdout",
     "output_type": "stream",
     "text": [
      "data_stm is empty (could not compute stm, skipping :  IA1pm_Apr28_Week3_30Hz  )\n",
      "DATA_STM:  (33, 901, 128, 128)\n",
      "    denoising data (pca.transofrm(X)) \n",
      "        done denoising data\n",
      "DATA_STM:  (33, 901, 128, 128)\n",
      "    denoising data (pca.transofrm(X)) \n",
      "        done denoising data\n"
     ]
    },
    {
     "name": "stderr",
     "output_type": "stream",
     "text": [
      "\r",
      " 83%|████████▎ | 59/71 [50:14<07:14, 36.19s/it]"
     ]
    },
    {
     "name": "stdout",
     "output_type": "stream",
     "text": [
      "data_stm is empty (could not compute stm, skipping :  IA1pm_Apr29_Week3_30Hz  )\n",
      "DATA_STM:  (65, 901, 128, 128)\n",
      "    denoising data (pca.transofrm(X)) \n",
      "        done denoising data\n",
      "DATA_STM:  (65, 901, 128, 128)\n",
      "    denoising data (pca.transofrm(X)) \n",
      "        done denoising data\n"
     ]
    },
    {
     "name": "stderr",
     "output_type": "stream",
     "text": [
      "\r",
      " 85%|████████▍ | 60/71 [55:22<14:10, 77.28s/it]"
     ]
    },
    {
     "name": "stdout",
     "output_type": "stream",
     "text": [
      "data_stm is empty (could not compute stm, skipping :  IA1am_May2_Week4_30Hz  )\n",
      "No video available:  IA1am_May4_Week4_30Hz\n",
      " ... session has no lever pulls  IA1am_May4_Week4_30Hz\n",
      "DATA_STM:  (23, 901, 128, 128)\n",
      "    denoising data (pca.transofrm(X)) \n",
      "        done denoising data\n",
      "DATA_STM:  (23, 901, 128, 128)\n",
      "    denoising data (pca.transofrm(X)) \n",
      "        done denoising data\n"
     ]
    },
    {
     "name": "stderr",
     "output_type": "stream",
     "text": [
      "\r",
      " 87%|████████▋ | 62/71 [56:23<09:28, 63.15s/it]"
     ]
    },
    {
     "name": "stdout",
     "output_type": "stream",
     "text": [
      "data_stm is empty (could not compute stm, skipping :  IA1am_May5_Week4_30Hz  )\n",
      "DATA_STM:  (18, 901, 128, 128)\n",
      "    denoising data (pca.transofrm(X)) \n",
      "        done denoising data\n",
      "DATA_STM:  (18, 901, 128, 128)\n",
      "    denoising data (pca.transofrm(X)) \n",
      "        done denoising data\n"
     ]
    },
    {
     "name": "stderr",
     "output_type": "stream",
     "text": [
      "\r",
      " 89%|████████▊ | 63/71 [57:09<08:01, 60.13s/it]"
     ]
    },
    {
     "name": "stdout",
     "output_type": "stream",
     "text": [
      "data_stm is empty (could not compute stm, skipping :  IA1am_May6_Week4_30Hz  )\n",
      "DATA_STM:  (28, 901, 128, 128)\n",
      "    denoising data (pca.transofrm(X)) \n",
      "        done denoising data\n",
      "DATA_STM:  (28, 901, 128, 128)\n",
      "    denoising data (pca.transofrm(X)) \n",
      "        done denoising data\n"
     ]
    },
    {
     "name": "stderr",
     "output_type": "stream",
     "text": [
      "\r",
      " 90%|█████████ | 64/71 [58:27<07:26, 63.79s/it]"
     ]
    },
    {
     "name": "stdout",
     "output_type": "stream",
     "text": [
      "data_stm is empty (could not compute stm, skipping :  IA1am_May9_Week5_30Hz  )\n",
      "DATA_STM:  (22, 901, 128, 128)\n",
      "    denoising data (pca.transofrm(X)) \n",
      "        done denoising data\n",
      "DATA_STM:  (22, 901, 128, 128)\n",
      "    denoising data (pca.transofrm(X)) \n",
      "        done denoising data\n"
     ]
    },
    {
     "name": "stderr",
     "output_type": "stream",
     "text": [
      "\r",
      " 92%|█████████▏| 65/71 [59:24<06:13, 62.21s/it]"
     ]
    },
    {
     "name": "stdout",
     "output_type": "stream",
     "text": [
      "data_stm is empty (could not compute stm, skipping :  IA1am_May10_Week5_30Hz  )\n",
      "DATA_STM:  (13, 901, 128, 128)\n",
      "    denoising data (pca.transofrm(X)) \n",
      "        done denoising data\n",
      "DATA_STM:  (13, 901, 128, 128)\n",
      "    denoising data (pca.transofrm(X)) \n",
      "        done denoising data\n"
     ]
    },
    {
     "name": "stderr",
     "output_type": "stream",
     "text": [
      "\r",
      " 93%|█████████▎| 66/71 [59:59<04:37, 55.45s/it]"
     ]
    },
    {
     "name": "stdout",
     "output_type": "stream",
     "text": [
      "data_stm is empty (could not compute stm, skipping :  IA1am_May12_Week5_30Hz  )\n",
      "DATA_STM:  (57, 901, 128, 128)\n",
      "    denoising data (pca.transofrm(X)) \n",
      "        done denoising data\n",
      "DATA_STM:  (57, 901, 128, 128)\n",
      "    denoising data (pca.transofrm(X)) \n",
      "        done denoising data\n"
     ]
    },
    {
     "name": "stderr",
     "output_type": "stream",
     "text": [
      "\r",
      " 94%|█████████▍| 67/71 [1:04:24<07:17, 109.37s/it]"
     ]
    },
    {
     "name": "stdout",
     "output_type": "stream",
     "text": [
      "data_stm is empty (could not compute stm, skipping :  IA1am_May13_Week5_30Hz  )\n",
      "DATA_STM:  (43, 901, 128, 128)\n",
      "    denoising data (pca.transofrm(X)) \n",
      "        done denoising data\n",
      "DATA_STM:  (43, 901, 128, 128)\n",
      "    denoising data (pca.transofrm(X)) \n",
      "        done denoising data\n"
     ]
    },
    {
     "name": "stderr",
     "output_type": "stream",
     "text": [
      "\r",
      " 96%|█████████▌| 68/71 [1:06:59<06:05, 121.74s/it]"
     ]
    },
    {
     "name": "stdout",
     "output_type": "stream",
     "text": [
      "data_stm is empty (could not compute stm, skipping :  IA1am_May16_Week6_30Hz  )\n",
      "DATA_STM:  (35, 901, 128, 128)\n",
      "    denoising data (pca.transofrm(X)) \n",
      "        done denoising data\n",
      "DATA_STM:  (35, 901, 128, 128)\n",
      "    denoising data (pca.transofrm(X)) \n",
      "        done denoising data\n"
     ]
    },
    {
     "name": "stderr",
     "output_type": "stream",
     "text": [
      "\r",
      " 97%|█████████▋| 69/71 [1:08:46<03:55, 117.67s/it]"
     ]
    },
    {
     "name": "stdout",
     "output_type": "stream",
     "text": [
      "data_stm is empty (could not compute stm, skipping :  IA1am_May17_Week6_30Hz  )\n",
      "DATA_STM:  (64, 901, 128, 128)\n",
      "    denoising data (pca.transofrm(X)) \n",
      "        done denoising data\n",
      "DATA_STM:  (64, 901, 128, 128)\n",
      "    denoising data (pca.transofrm(X)) \n",
      "        done denoising data\n"
     ]
    },
    {
     "name": "stderr",
     "output_type": "stream",
     "text": [
      "\r",
      " 99%|█████████▊| 70/71 [1:13:55<02:51, 171.96s/it]"
     ]
    },
    {
     "name": "stdout",
     "output_type": "stream",
     "text": [
      "data_stm is empty (could not compute stm, skipping :  IA1am_May18_Week6_30Hz  )\n",
      "DATA_STM:  (23, 901, 128, 128)\n",
      "    denoising data (pca.transofrm(X)) \n",
      "        done denoising data\n",
      "DATA_STM:  (23, 901, 128, 128)\n",
      "    denoising data (pca.transofrm(X)) \n",
      "        done denoising data\n"
     ]
    },
    {
     "name": "stderr",
     "output_type": "stream",
     "text": [
      "100%|██████████| 71/71 [1:14:57<00:00, 63.34s/it] \n",
      "  0%|          | 0/44 [00:00<?, ?it/s]"
     ]
    },
    {
     "name": "stdout",
     "output_type": "stream",
     "text": [
      "data_stm is empty (could not compute stm, skipping :  IA1am_May20_Week6_30Hz  )\n",
      "PROCESSING:  IA2\n",
      "DATA_STM:  (48, 901, 128, 128)\n",
      "    denoising data (pca.transofrm(X)) \n",
      "        done denoising data\n",
      "DATA_STM:  (48, 901, 128, 128)\n",
      "    denoising data (pca.transofrm(X)) \n",
      "        done denoising data\n"
     ]
    },
    {
     "name": "stderr",
     "output_type": "stream",
     "text": [
      "\r",
      "  2%|▏         | 1/44 [03:12<2:17:41, 192.12s/it]"
     ]
    },
    {
     "name": "stdout",
     "output_type": "stream",
     "text": [
      "data_stm is empty (could not compute stm, skipping :  IA2pm_Feb1_30Hz  )\n",
      "DATA_STM:  (35, 901, 128, 128)\n",
      "    denoising data (pca.transofrm(X)) \n",
      "        done denoising data\n",
      "DATA_STM:  (35, 901, 128, 128)\n",
      "    denoising data (pca.transofrm(X)) \n",
      "        done denoising data\n"
     ]
    },
    {
     "name": "stderr",
     "output_type": "stream",
     "text": [
      "\r",
      "  5%|▍         | 2/44 [05:04<1:41:45, 145.38s/it]"
     ]
    },
    {
     "name": "stdout",
     "output_type": "stream",
     "text": [
      "data_stm is empty (could not compute stm, skipping :  IA2pm_Feb2_30Hz  )\n",
      "DATA_STM:  (33, 901, 128, 128)\n",
      "    denoising data (pca.transofrm(X)) \n",
      "        done denoising data\n",
      "DATA_STM:  (33, 901, 128, 128)\n",
      "    denoising data (pca.transofrm(X)) \n",
      "        done denoising data\n"
     ]
    },
    {
     "name": "stderr",
     "output_type": "stream",
     "text": [
      "\r",
      "  7%|▋         | 3/44 [06:52<1:27:36, 128.20s/it]"
     ]
    },
    {
     "name": "stdout",
     "output_type": "stream",
     "text": [
      "data_stm is empty (could not compute stm, skipping :  IA2pm_Feb3_30Hz  )\n",
      "DATA_STM:  (63, 901, 128, 128)\n",
      "    denoising data (pca.transofrm(X)) \n",
      "        done denoising data\n",
      "DATA_STM:  (63, 901, 128, 128)\n",
      "    denoising data (pca.transofrm(X)) \n",
      "        done denoising data\n"
     ]
    },
    {
     "name": "stderr",
     "output_type": "stream",
     "text": [
      "\r",
      "  9%|▉         | 4/44 [12:31<2:21:00, 211.51s/it]"
     ]
    },
    {
     "name": "stdout",
     "output_type": "stream",
     "text": [
      "data_stm is empty (could not compute stm, skipping :  IA2pm_Feb4_30Hz  )\n",
      "DATA_STM:  (40, 901, 128, 128)\n",
      "    denoising data (pca.transofrm(X)) \n",
      "        done denoising data\n",
      "DATA_STM:  (40, 901, 128, 128)\n",
      "    denoising data (pca.transofrm(X)) \n",
      "        done denoising data\n"
     ]
    },
    {
     "name": "stderr",
     "output_type": "stream",
     "text": [
      "\r",
      " 11%|█▏        | 5/44 [14:50<2:00:25, 185.27s/it]"
     ]
    },
    {
     "name": "stdout",
     "output_type": "stream",
     "text": [
      "data_stm is empty (could not compute stm, skipping :  IA2pm_Feb5_30Hz  )\n",
      "DATA_STM:  (65, 901, 128, 128)\n",
      "    denoising data (pca.transofrm(X)) \n",
      "        done denoising data\n",
      "DATA_STM:  (65, 901, 128, 128)\n",
      "    denoising data (pca.transofrm(X)) \n",
      "        done denoising data\n"
     ]
    },
    {
     "name": "stderr",
     "output_type": "stream",
     "text": [
      "\r",
      " 14%|█▎        | 6/44 [20:33<2:31:12, 238.75s/it]"
     ]
    },
    {
     "name": "stdout",
     "output_type": "stream",
     "text": [
      "data_stm is empty (could not compute stm, skipping :  IA2pm_Feb9_30Hz  )\n",
      "DATA_STM:  (26, 901, 128, 128)\n",
      "    denoising data (pca.transofrm(X)) \n",
      "        done denoising data\n",
      "DATA_STM:  (26, 901, 128, 128)\n",
      "    denoising data (pca.transofrm(X)) \n",
      "        done denoising data\n"
     ]
    },
    {
     "name": "stderr",
     "output_type": "stream",
     "text": [
      "\r",
      " 16%|█▌        | 7/44 [21:42<1:53:07, 183.44s/it]"
     ]
    },
    {
     "name": "stdout",
     "output_type": "stream",
     "text": [
      "data_stm is empty (could not compute stm, skipping :  IA2pm_Feb10_30Hz  )\n",
      "DATA_STM:  (63, 901, 128, 128)\n",
      "    denoising data (pca.transofrm(X)) \n",
      "        done denoising data\n",
      "DATA_STM:  (63, 901, 128, 128)\n",
      "    denoising data (pca.transofrm(X)) \n",
      "        done denoising data\n"
     ]
    },
    {
     "name": "stderr",
     "output_type": "stream",
     "text": [
      "\r",
      " 18%|█▊        | 8/44 [27:11<2:17:53, 229.81s/it]"
     ]
    },
    {
     "name": "stdout",
     "output_type": "stream",
     "text": [
      "data_stm is empty (could not compute stm, skipping :  IA2pm_Feb11_30Hz  )\n",
      "DATA_STM:  (46, 901, 128, 128)\n",
      "    denoising data (pca.transofrm(X)) \n",
      "        done denoising data\n",
      "DATA_STM:  (46, 901, 128, 128)\n",
      "    denoising data (pca.transofrm(X)) \n",
      "        done denoising data\n"
     ]
    },
    {
     "name": "stderr",
     "output_type": "stream",
     "text": [
      "\r",
      " 20%|██        | 9/44 [30:04<2:03:37, 211.92s/it]"
     ]
    },
    {
     "name": "stdout",
     "output_type": "stream",
     "text": [
      "data_stm is empty (could not compute stm, skipping :  IA2pm_Feb12_30Hz  )\n",
      "DATA_STM:  (53, 901, 128, 128)\n",
      "    denoising data (pca.transofrm(X)) \n",
      "        done denoising data\n",
      "DATA_STM:  (53, 901, 128, 128)\n",
      "    denoising data (pca.transofrm(X)) \n",
      "        done denoising data\n"
     ]
    },
    {
     "name": "stderr",
     "output_type": "stream",
     "text": [
      "\r",
      " 23%|██▎       | 10/44 [33:44<2:01:36, 214.60s/it]"
     ]
    },
    {
     "name": "stdout",
     "output_type": "stream",
     "text": [
      "data_stm is empty (could not compute stm, skipping :  IA2pm_Feb15_30Hz  )\n",
      "DATA_STM:  (37, 901, 128, 128)\n",
      "    denoising data (pca.transofrm(X)) \n",
      "        done denoising data\n",
      "DATA_STM:  (37, 901, 128, 128)\n",
      "    denoising data (pca.transofrm(X)) \n",
      "        done denoising data\n"
     ]
    },
    {
     "name": "stderr",
     "output_type": "stream",
     "text": [
      "\r",
      " 25%|██▌       | 11/44 [35:42<1:41:36, 184.75s/it]"
     ]
    },
    {
     "name": "stdout",
     "output_type": "stream",
     "text": [
      "data_stm is empty (could not compute stm, skipping :  IA2pm_Feb16_30Hz  )\n",
      "DATA_STM:  (38, 901, 128, 128)\n",
      "    denoising data (pca.transofrm(X)) \n",
      "        done denoising data\n",
      "DATA_STM:  (38, 901, 128, 128)\n",
      "    denoising data (pca.transofrm(X)) \n",
      "        done denoising data\n"
     ]
    },
    {
     "name": "stderr",
     "output_type": "stream",
     "text": [
      "100%|██████████| 44/44 [37:44<00:00, 51.47s/it]   \n",
      "  0%|          | 0/44 [00:00<?, ?it/s]"
     ]
    },
    {
     "name": "stdout",
     "output_type": "stream",
     "text": [
      "data_stm is empty (could not compute stm, skipping :  IA2pm_Feb17_30Hz  )\n",
      "No video available:  IA2pm_Feb18_30Hz\n",
      " ... session has no lever pulls  IA2pm_Feb18_30Hz\n",
      "No video available:  IA2pm_Feb19_30Hz\n",
      " ... session has no lever pulls  IA2pm_Feb19_30Hz\n",
      "No video available:  IA2pm_Feb22_30Hz\n",
      " ... session has no lever pulls  IA2pm_Feb22_30Hz\n",
      "No video available:  IA2pm_Feb23_30Hz\n",
      " ... session has no lever pulls  IA2pm_Feb23_30Hz\n",
      "No video available:  IA2pm_Feb24_30Hz\n",
      " ... session has no lever pulls  IA2pm_Feb24_30Hz\n",
      "No video available:  IA2pm_Feb25_30Hz\n",
      " ... session has no lever pulls  IA2pm_Feb25_30Hz\n",
      "No video available:  IA2pm_Feb26_30Hz\n",
      " ... session has no lever pulls  IA2pm_Feb26_30Hz\n",
      "No video available:  IA2pm_Feb29_30Hz\n",
      " ... session has no lever pulls  IA2pm_Feb29_30Hz\n",
      "No video available:  IA2pm_Mar1_30Hz\n",
      " ... session has no lever pulls  IA2pm_Mar1_30Hz\n",
      "No video available:  IA2pm_Mar2_30Hz\n",
      " ... session has no lever pulls  IA2pm_Mar2_30Hz\n",
      "No video available:  IA2pm_Mar3_30Hz\n",
      " ... session has no lever pulls  IA2pm_Mar3_30Hz\n",
      "No video available:  IA2am_Mar4_30Hz\n",
      " ... session has no lever pulls  IA2am_Mar4_30Hz\n",
      "No video available:  IA2am_Mar7_30Hz\n",
      " ... session has no lever pulls  IA2am_Mar7_30Hz\n",
      "No video available:  IA2pm_Mar8_30Hz\n",
      " ... session has no lever pulls  IA2pm_Mar8_30Hz\n",
      "No video available:  IA2am_Mar9_30Hz\n",
      " ... session has no lever pulls  IA2am_Mar9_30Hz\n",
      "No video available:  IA2am_Mar10_30Hz\n",
      " ... session has no lever pulls  IA2am_Mar10_30Hz\n",
      "No video available:  IA2am_Mar11_30Hz\n",
      " ... session has no lever pulls  IA2am_Mar11_30Hz\n",
      "No video available:  IA2pm_Mar14_30Hz\n",
      " ... session has no lever pulls  IA2pm_Mar14_30Hz\n",
      "No video available:  IA2am_Mar15_30Hz\n",
      " ... session has no lever pulls  IA2am_Mar15_30Hz\n",
      "No video available:  IA2pm_Mar16_30Hz\n",
      " ... session has no lever pulls  IA2pm_Mar16_30Hz\n",
      "No video available:  IA2pm_Mar17_30Hz\n",
      " ... session has no lever pulls  IA2pm_Mar17_30Hz\n",
      "No video available:  IA2pm_Mar18_30Hz\n",
      " ... session has no lever pulls  IA2pm_Mar18_30Hz\n",
      "No video available:  IA2pm_Mar21_30Hz\n",
      " ... session has no lever pulls  IA2pm_Mar21_30Hz\n",
      "No video available:  IA2pm_Mar23_30Hz\n",
      " ... session has no lever pulls  IA2pm_Mar23_30Hz\n",
      "No video available:  IA2pm_Mar24_30Hz\n",
      " ... session has no lever pulls  IA2pm_Mar24_30Hz\n",
      "No video available:  IA2pm_Mar29_30Hz\n",
      " ... session has no lever pulls  IA2pm_Mar29_30Hz\n",
      "No video available:  IA2pm_Mar30_30Hz\n",
      " ... session has no lever pulls  IA2pm_Mar30_30Hz\n",
      "No video available:  IA2pm_Mar31_30Hz\n",
      " ... session has no lever pulls  IA2pm_Mar31_30Hz\n",
      "No video available:  IA2pm_Apr1_30Hz\n",
      " ... session has no lever pulls  IA2pm_Apr1_30Hz\n",
      "No video available:  IA2pm_Apr4_30Hz\n",
      " ... session has no lever pulls  IA2pm_Apr4_30Hz\n",
      "No video available:  IA2pm_Apr5_30Hz\n",
      " ... session has no lever pulls  IA2pm_Apr5_30Hz\n",
      "No video available:  IA2pm_Apr6_30Hz\n",
      " ... session has no lever pulls  IA2pm_Apr6_30Hz\n",
      "PROCESSING:  IA3\n",
      "DATA_STM:  (56, 901, 128, 128)\n",
      "    denoising data (pca.transofrm(X)) \n",
      "        done denoising data\n",
      "DATA_STM:  (56, 901, 128, 128)\n",
      "    denoising data (pca.transofrm(X)) \n",
      "        done denoising data\n"
     ]
    },
    {
     "name": "stderr",
     "output_type": "stream",
     "text": [
      "\r",
      "  2%|▏         | 1/44 [04:20<3:06:52, 260.76s/it]"
     ]
    },
    {
     "name": "stdout",
     "output_type": "stream",
     "text": [
      "data_stm is empty (could not compute stm, skipping :  IA3pm_Feb1_30Hz  )\n",
      "DATA_STM:  (59, 901, 128, 128)\n",
      "    denoising data (pca.transofrm(X)) \n",
      "        done denoising data\n",
      "DATA_STM:  (59, 901, 128, 128)\n",
      "    denoising data (pca.transofrm(X)) \n",
      "        done denoising data\n"
     ]
    },
    {
     "name": "stderr",
     "output_type": "stream",
     "text": [
      "\r",
      "  5%|▍         | 2/44 [08:45<3:04:13, 263.17s/it]"
     ]
    },
    {
     "name": "stdout",
     "output_type": "stream",
     "text": [
      "data_stm is empty (could not compute stm, skipping :  IA3pm_Feb2_30Hz  )\n",
      "DATA_STM:  (4, 901, 128, 128)\n",
      "    denoising data (pca.transofrm(X)) \n",
      "        done denoising data\n",
      "DATA_STM:  (4, 901, 128, 128)\n",
      "    denoising data (pca.transofrm(X)) \n",
      "        done denoising data\n"
     ]
    },
    {
     "name": "stderr",
     "output_type": "stream",
     "text": [
      "\r",
      "  7%|▋         | 3/44 [09:02<1:42:50, 150.50s/it]"
     ]
    },
    {
     "name": "stdout",
     "output_type": "stream",
     "text": [
      "data_stm is empty (could not compute stm, skipping :  IA3pm_Feb3_30Hz  )\n",
      "DATA_STM:  (2, 901, 128, 128)\n",
      "    denoising data (pca.transofrm(X)) \n",
      "        done denoising data\n",
      "DATA_STM:  (2, 901, 128, 128)\n",
      "    denoising data (pca.transofrm(X)) \n",
      "        done denoising data\n"
     ]
    },
    {
     "name": "stderr",
     "output_type": "stream",
     "text": [
      "\r",
      "  9%|▉         | 4/44 [09:16<1:04:24, 96.60s/it] "
     ]
    },
    {
     "name": "stdout",
     "output_type": "stream",
     "text": [
      "data_stm is empty (could not compute stm, skipping :  IA3pm_Feb4_30Hz  )\n",
      "DATA_STM:  (19, 901, 128, 128)\n",
      "    denoising data (pca.transofrm(X)) \n",
      "        done denoising data\n",
      "DATA_STM:  (19, 901, 128, 128)\n",
      "    denoising data (pca.transofrm(X)) \n",
      "        done denoising data\n"
     ]
    },
    {
     "name": "stderr",
     "output_type": "stream",
     "text": [
      "\r",
      " 11%|█▏        | 5/44 [10:04<51:26, 79.14s/it]  "
     ]
    },
    {
     "name": "stdout",
     "output_type": "stream",
     "text": [
      "data_stm is empty (could not compute stm, skipping :  IA3pm_Feb9_30Hz  )\n",
      "DATA_STM:  (44, 901, 128, 128)\n",
      "    denoising data (pca.transofrm(X)) \n",
      "        done denoising data\n",
      "DATA_STM:  (44, 901, 128, 128)\n",
      "    denoising data (pca.transofrm(X)) \n",
      "        done denoising data\n"
     ]
    },
    {
     "name": "stderr",
     "output_type": "stream",
     "text": [
      "\r",
      " 14%|█▎        | 6/44 [13:01<1:11:18, 112.60s/it]"
     ]
    },
    {
     "name": "stdout",
     "output_type": "stream",
     "text": [
      "data_stm is empty (could not compute stm, skipping :  IA3pm_Feb10_30Hz  )\n",
      "DATA_STM:  (55, 901, 128, 128)\n",
      "    denoising data (pca.transofrm(X)) \n",
      "        done denoising data\n",
      "DATA_STM:  (55, 901, 128, 128)\n",
      "    denoising data (pca.transofrm(X)) \n",
      "        done denoising data\n"
     ]
    },
    {
     "name": "stderr",
     "output_type": "stream",
     "text": [
      "\r",
      " 16%|█▌        | 7/44 [17:22<1:39:16, 160.99s/it]"
     ]
    },
    {
     "name": "stdout",
     "output_type": "stream",
     "text": [
      "data_stm is empty (could not compute stm, skipping :  IA3pm_Feb11_30Hz  )\n",
      "DATA_STM:  (27, 901, 128, 128)\n",
      "    denoising data (pca.transofrm(X)) \n",
      "        done denoising data\n",
      "DATA_STM:  (27, 901, 128, 128)\n",
      "    denoising data (pca.transofrm(X)) \n",
      "        done denoising data\n"
     ]
    },
    {
     "name": "stderr",
     "output_type": "stream",
     "text": [
      "\r",
      " 18%|█▊        | 8/44 [18:36<1:19:57, 133.25s/it]"
     ]
    },
    {
     "name": "stdout",
     "output_type": "stream",
     "text": [
      "data_stm is empty (could not compute stm, skipping :  IA3pm_Feb12_30Hz  )\n",
      "DATA_STM:  (38, 901, 128, 128)\n",
      "    denoising data (pca.transofrm(X)) \n",
      "        done denoising data\n",
      "DATA_STM:  (38, 901, 128, 128)\n",
      "    denoising data (pca.transofrm(X)) \n",
      "        done denoising data\n"
     ]
    },
    {
     "name": "stderr",
     "output_type": "stream",
     "text": [
      "\r",
      " 20%|██        | 9/44 [20:39<1:15:51, 130.05s/it]"
     ]
    },
    {
     "name": "stdout",
     "output_type": "stream",
     "text": [
      "data_stm is empty (could not compute stm, skipping :  IA3pm_Feb15_30Hz  )\n",
      "DATA_STM:  (2, 901, 128, 128)\n",
      "    denoising data (pca.transofrm(X)) \n",
      "        done denoising data\n",
      "DATA_STM:  (2, 901, 128, 128)\n",
      "    denoising data (pca.transofrm(X)) \n",
      "        done denoising data\n"
     ]
    },
    {
     "name": "stderr",
     "output_type": "stream",
     "text": [
      "100%|██████████| 44/44 [20:53<00:00, 28.49s/it]  \n",
      "  0%|          | 0/44 [00:00<?, ?it/s]"
     ]
    },
    {
     "name": "stdout",
     "output_type": "stream",
     "text": [
      "data_stm is empty (could not compute stm, skipping :  IA3pm_Feb16_30Hz  )\n",
      " ... session has no lever pulls  IA3pm_Feb17_30Hz\n",
      "No video available:  IA3pm_Feb18_30Hz\n",
      " ... session has no lever pulls  IA3pm_Feb18_30Hz\n",
      "No video available:  IA3pm_Feb19_30Hz\n",
      " ... session has no lever pulls  IA3pm_Feb19_30Hz\n",
      "No video available:  IA3pm_Feb22_30Hz\n",
      " ... session has no lever pulls  IA3pm_Feb22_30Hz\n",
      "No video available:  IA3pm_Feb23_30Hz\n",
      " ... session has no lever pulls  IA3pm_Feb23_30Hz\n",
      "No video available:  IA3pm_Feb24_30Hz\n",
      " ... session has no lever pulls  IA3pm_Feb24_30Hz\n",
      "No video available:  IA3pm_Feb25_30Hz\n",
      " ... session has no lever pulls  IA3pm_Feb25_30Hz\n",
      "No video available:  IA3pm_Feb26_30Hz\n",
      " ... session has no lever pulls  IA3pm_Feb26_30Hz\n",
      "No video available:  IA3pm_Feb29_30Hz\n",
      " ... session has no lever pulls  IA3pm_Feb29_30Hz\n",
      "No video available:  IA3pm_Mar1_30Hz\n",
      " ... session has no lever pulls  IA3pm_Mar1_30Hz\n",
      "No video available:  IA3pm_Mar2_30Hz\n",
      " ... session has no lever pulls  IA3pm_Mar2_30Hz\n",
      "No video available:  IA3pm_Mar3_30Hz\n",
      " ... session has no lever pulls  IA3pm_Mar3_30Hz\n",
      "No video available:  IA3am_Mar7_30Hz\n",
      " ... session has no lever pulls  IA3am_Mar7_30Hz\n",
      "No video available:  IA3pm_Mar8_30Hz\n",
      " ... session has no lever pulls  IA3pm_Mar8_30Hz\n",
      "No video available:  IA3am_Mar9_30Hz\n",
      " ... session has no lever pulls  IA3am_Mar9_30Hz\n",
      "No video available:  IA3am_Mar10_30Hz\n",
      " ... session has no lever pulls  IA3am_Mar10_30Hz\n",
      "No video available:  IA3am_Mar11_30Hz\n",
      " ... session has no lever pulls  IA3am_Mar11_30Hz\n",
      "No video available:  IA3pm_Mar14_30Hz\n",
      " ... session has no lever pulls  IA3pm_Mar14_30Hz\n",
      "No video available:  IA3am_Mar15_30Hz\n",
      " ... session has no lever pulls  IA3am_Mar15_30Hz\n",
      "No video available:  IA3pm_Mar16_30Hz\n",
      " ... session has no lever pulls  IA3pm_Mar16_30Hz\n",
      "No video available:  IA3pm_Mar17_30Hz\n",
      " ... session has no lever pulls  IA3pm_Mar17_30Hz\n",
      "No video available:  IA3pm_Mar18_30Hz\n",
      " ... session has no lever pulls  IA3pm_Mar18_30Hz\n",
      "No video available:  IA3pm_Mar21_30Hz\n",
      " ... session has no lever pulls  IA3pm_Mar21_30Hz\n",
      "No video available:  IA3pm_Mar22_30Hz\n",
      " ... session has no lever pulls  IA3pm_Mar22_30Hz\n",
      "No video available:  IA3pm_Mar23_30Hz\n",
      " ... session has no lever pulls  IA3pm_Mar23_30Hz\n",
      "No video available:  IA3pm_Mar24_30Hz\n",
      " ... session has no lever pulls  IA3pm_Mar24_30Hz\n",
      "No video available:  IA3pm_Mar29_30Hz\n",
      " ... session has no lever pulls  IA3pm_Mar29_30Hz\n",
      "No video available:  IA3pm_Mar30_30Hz\n",
      " ... session has no lever pulls  IA3pm_Mar30_30Hz\n",
      "No video available:  IA3pm_Mar31_30Hz\n",
      " ... session has no lever pulls  IA3pm_Mar31_30Hz\n",
      "No video available:  IA3pm_Apr1_30Hz\n",
      " ... session has no lever pulls  IA3pm_Apr1_30Hz\n",
      "No video available:  IA3pm_Apr4_30Hz\n",
      " ... session has no lever pulls  IA3pm_Apr4_30Hz\n",
      "No video available:  IA3pm_Apr5_30Hz\n",
      " ... session has no lever pulls  IA3pm_Apr5_30Hz\n",
      "No video available:  IA3pm_Apr6_30Hz\n",
      " ... session has no lever pulls  IA3pm_Apr6_30Hz\n",
      "No video available:  IA3pm_Apr7_30Hz\n",
      " ... session has no lever pulls  IA3pm_Apr7_30Hz\n",
      "PROCESSING:  IJ1\n",
      "DATA_STM:  (71, 901, 128, 128)\n",
      "    denoising data (pca.transofrm(X)) \n",
      "        done denoising data\n",
      "DATA_STM:  (71, 901, 128, 128)\n",
      "    denoising data (pca.transofrm(X)) \n",
      "        done denoising data\n"
     ]
    },
    {
     "name": "stderr",
     "output_type": "stream",
     "text": [
      "\r",
      "  2%|▏         | 1/44 [06:32<4:41:07, 392.26s/it]"
     ]
    },
    {
     "name": "stdout",
     "output_type": "stream",
     "text": [
      "data_stm is empty (could not compute stm, skipping :  IJ1pm_Feb1_30Hz  )\n",
      "DATA_STM:  (66, 901, 128, 128)\n",
      "    denoising data (pca.transofrm(X)) \n",
      "        done denoising data\n",
      "DATA_STM:  (66, 901, 128, 128)\n",
      "    denoising data (pca.transofrm(X)) \n",
      "        done denoising data\n"
     ]
    },
    {
     "name": "stderr",
     "output_type": "stream",
     "text": [
      "\r",
      "  5%|▍         | 2/44 [12:11<4:12:51, 361.22s/it]"
     ]
    },
    {
     "name": "stdout",
     "output_type": "stream",
     "text": [
      "data_stm is empty (could not compute stm, skipping :  IJ1pm_Feb2_30Hz  )\n",
      "DATA_STM:  (86, 901, 128, 128)\n",
      "    denoising data (pca.transofrm(X)) \n",
      "        done denoising data\n",
      "DATA_STM:  (86, 901, 128, 128)\n",
      "    denoising data (pca.transofrm(X)) \n",
      "        done denoising data\n"
     ]
    },
    {
     "name": "stderr",
     "output_type": "stream",
     "text": [
      "\r",
      "  7%|▋         | 3/44 [21:22<5:05:50, 447.57s/it]"
     ]
    },
    {
     "name": "stdout",
     "output_type": "stream",
     "text": [
      "data_stm is empty (could not compute stm, skipping :  IJ1pm_Feb3_30Hz  )\n",
      "DATA_STM:  (68, 901, 128, 128)\n",
      "    denoising data (pca.transofrm(X)) \n",
      "        done denoising data\n",
      "DATA_STM:  (68, 901, 128, 128)\n",
      "    denoising data (pca.transofrm(X)) \n",
      "        done denoising data\n"
     ]
    },
    {
     "name": "stderr",
     "output_type": "stream",
     "text": [
      "\r",
      "  9%|▉         | 4/44 [27:10<4:32:18, 408.45s/it]"
     ]
    },
    {
     "name": "stdout",
     "output_type": "stream",
     "text": [
      "data_stm is empty (could not compute stm, skipping :  IJ1pm_Feb4_30Hz  )\n",
      "DATA_STM:  (66, 901, 128, 128)\n",
      "    denoising data (pca.transofrm(X)) \n",
      "        done denoising data\n",
      "DATA_STM:  (66, 901, 128, 128)\n",
      "    denoising data (pca.transofrm(X)) \n",
      "        done denoising data\n"
     ]
    },
    {
     "name": "stderr",
     "output_type": "stream",
     "text": [
      "\r",
      " 11%|█▏        | 5/44 [32:25<4:03:33, 374.69s/it]"
     ]
    },
    {
     "name": "stdout",
     "output_type": "stream",
     "text": [
      "data_stm is empty (could not compute stm, skipping :  IJ1pm_Feb5_30Hz  )\n",
      "DATA_STM:  (30, 901, 128, 128)\n",
      "    denoising data (pca.transofrm(X)) \n",
      "        done denoising data\n",
      "DATA_STM:  (30, 901, 128, 128)\n",
      "    denoising data (pca.transofrm(X)) \n",
      "        done denoising data\n"
     ]
    },
    {
     "name": "stderr",
     "output_type": "stream",
     "text": [
      "\r",
      " 14%|█▎        | 6/44 [33:53<2:55:39, 277.35s/it]"
     ]
    },
    {
     "name": "stdout",
     "output_type": "stream",
     "text": [
      "data_stm is empty (could not compute stm, skipping :  IJ1pm_Feb9_30Hz  )\n",
      "DATA_STM:  (13, 901, 128, 128)\n",
      "    denoising data (pca.transofrm(X)) \n",
      "        done denoising data\n",
      "DATA_STM:  (13, 901, 128, 128)\n",
      "    denoising data (pca.transofrm(X)) \n",
      "        done denoising data\n"
     ]
    },
    {
     "name": "stderr",
     "output_type": "stream",
     "text": [
      "\r",
      " 16%|█▌        | 7/44 [34:27<2:01:52, 197.64s/it]"
     ]
    },
    {
     "name": "stdout",
     "output_type": "stream",
     "text": [
      "data_stm is empty (could not compute stm, skipping :  IJ1pm_Feb10_30Hz  )\n",
      "DATA_STM:  (66, 901, 128, 128)\n",
      "    denoising data (pca.transofrm(X)) \n",
      "        done denoising data\n",
      "DATA_STM:  (66, 901, 128, 128)\n",
      "    denoising data (pca.transofrm(X)) \n",
      "        done denoising data\n"
     ]
    },
    {
     "name": "stderr",
     "output_type": "stream",
     "text": [
      "\r",
      " 18%|█▊        | 8/44 [40:08<2:25:56, 243.24s/it]"
     ]
    },
    {
     "name": "stdout",
     "output_type": "stream",
     "text": [
      "data_stm is empty (could not compute stm, skipping :  IJ1pm_Feb11_30Hz  )\n",
      "DATA_STM:  (11, 901, 128, 128)\n",
      "    denoising data (pca.transofrm(X)) \n",
      "        done denoising data\n",
      "DATA_STM:  (11, 901, 128, 128)\n",
      "    denoising data (pca.transofrm(X)) \n",
      "        done denoising data\n"
     ]
    },
    {
     "name": "stderr",
     "output_type": "stream",
     "text": [
      "\r",
      " 20%|██        | 9/44 [40:37<1:42:49, 176.27s/it]"
     ]
    },
    {
     "name": "stdout",
     "output_type": "stream",
     "text": [
      "data_stm is empty (could not compute stm, skipping :  IJ1pm_Feb12_30Hz  )\n",
      "DATA_STM:  (12, 901, 128, 128)\n",
      "    denoising data (pca.transofrm(X)) \n",
      "        done denoising data\n",
      "DATA_STM:  (12, 901, 128, 128)\n",
      "    denoising data (pca.transofrm(X)) \n",
      "        done denoising data\n"
     ]
    },
    {
     "name": "stderr",
     "output_type": "stream",
     "text": [
      "100%|██████████| 44/44 [41:08<00:00, 56.10s/it]   \n",
      "  0%|          | 0/44 [00:00<?, ?it/s]"
     ]
    },
    {
     "name": "stdout",
     "output_type": "stream",
     "text": [
      "data_stm is empty (could not compute stm, skipping :  IJ1pm_Feb16_30Hz  )\n",
      "No video available:  IJ1pm_Feb17_30Hz\n",
      " ... session has no lever pulls  IJ1pm_Feb17_30Hz\n",
      "No video available:  IJ1pm_Feb18_30Hz\n",
      " ... session has no lever pulls  IJ1pm_Feb18_30Hz\n",
      "No video available:  IJ1pm_Feb19_30Hz\n",
      " ... session has no lever pulls  IJ1pm_Feb19_30Hz\n",
      "No video available:  IJ1pm_Feb22_30Hz\n",
      " ... session has no lever pulls  IJ1pm_Feb22_30Hz\n",
      "No video available:  IJ1pm_Feb23_30Hz\n",
      " ... session has no lever pulls  IJ1pm_Feb23_30Hz\n",
      "No video available:  IJ1pm_Feb24_30Hz\n",
      " ... session has no lever pulls  IJ1pm_Feb24_30Hz\n",
      "No video available:  IJ1pm_Feb25_30Hz\n",
      " ... session has no lever pulls  IJ1pm_Feb25_30Hz\n",
      "No video available:  IJ1pm_Feb26_30Hz\n",
      " ... session has no lever pulls  IJ1pm_Feb26_30Hz\n",
      "No video available:  IJ1pm_Feb29_30Hz\n",
      " ... session has no lever pulls  IJ1pm_Feb29_30Hz\n",
      "No video available:  IJ1pm_Mar1_30Hz\n",
      " ... session has no lever pulls  IJ1pm_Mar1_30Hz\n",
      "No video available:  IJ1pm_Mar2_30Hz\n",
      " ... session has no lever pulls  IJ1pm_Mar2_30Hz\n",
      "No video available:  IJ1pm_Mar3_30Hz\n",
      " ... session has no lever pulls  IJ1pm_Mar3_30Hz\n",
      "No video available:  IJ1am_Mar7_30Hz\n",
      " ... session has no lever pulls  IJ1am_Mar7_30Hz\n",
      "No video available:  IJ1pm_Mar8_30Hz\n",
      " ... session has no lever pulls  IJ1pm_Mar8_30Hz\n",
      "No video available:  IJ1am_Mar9_30Hz\n",
      " ... session has no lever pulls  IJ1am_Mar9_30Hz\n",
      "No video available:  IJ1am_Mar10_30Hz\n",
      " ... session has no lever pulls  IJ1am_Mar10_30Hz\n",
      "No video available:  IJ1am_Mar11_30Hz\n",
      " ... session has no lever pulls  IJ1am_Mar11_30Hz\n",
      "No video available:  IJ1pm_Mar14_30Hz\n",
      " ... session has no lever pulls  IJ1pm_Mar14_30Hz\n",
      "No video available:  IJ1am_Mar15_30Hz\n",
      " ... session has no lever pulls  IJ1am_Mar15_30Hz\n",
      "No video available:  IJ1pm_Mar16_30Hz\n",
      " ... session has no lever pulls  IJ1pm_Mar16_30Hz\n",
      "No video available:  IJ1pm_Mar17_30Hz\n",
      " ... session has no lever pulls  IJ1pm_Mar17_30Hz\n",
      "No video available:  IJ1pm_Mar18_30Hz\n",
      " ... session has no lever pulls  IJ1pm_Mar18_30Hz\n",
      "No video available:  IJ1pm_Mar21_30Hz\n",
      " ... session has no lever pulls  IJ1pm_Mar21_30Hz\n",
      "No video available:  IJ1pm_Mar22_30Hz\n",
      " ... session has no lever pulls  IJ1pm_Mar22_30Hz\n",
      "No video available:  IJ1pm_Mar23_30Hz\n",
      " ... session has no lever pulls  IJ1pm_Mar23_30Hz\n",
      "No video available:  IJ1pm_Mar24_30Hz\n",
      " ... session has no lever pulls  IJ1pm_Mar24_30Hz\n",
      "No video available:  IJ1pm_Mar29_30Hz\n",
      " ... session has no lever pulls  IJ1pm_Mar29_30Hz\n",
      "No video available:  IJ1pm_Mar30_30Hz\n",
      " ... session has no lever pulls  IJ1pm_Mar30_30Hz\n",
      "No video available:  IJ1pm_Mar31_30Hz\n",
      " ... session has no lever pulls  IJ1pm_Mar31_30Hz\n",
      "No video available:  IJ1pm_Apr1_30Hz\n",
      " ... session has no lever pulls  IJ1pm_Apr1_30Hz\n",
      "No video available:  IJ1pm_Apr4_30Hz\n",
      " ... session has no lever pulls  IJ1pm_Apr4_30Hz\n",
      "No video available:  IJ1pm_Apr5_30Hz\n",
      " ... session has no lever pulls  IJ1pm_Apr5_30Hz\n",
      "No video available:  IJ1pm_Apr6_30Hz\n",
      " ... session has no lever pulls  IJ1pm_Apr6_30Hz\n",
      "No video available:  IJ1pm_Apr7_30Hz\n",
      " ... session has no lever pulls  IJ1pm_Apr7_30Hz\n",
      "PROCESSING:  IJ2\n",
      "DATA_STM:  (64, 901, 128, 128)\n",
      "    denoising data (pca.transofrm(X)) \n",
      "        done denoising data\n",
      "DATA_STM:  (64, 901, 128, 128)\n",
      "    denoising data (pca.transofrm(X)) \n",
      "        done denoising data\n"
     ]
    },
    {
     "name": "stderr",
     "output_type": "stream",
     "text": [
      "\r",
      "  2%|▏         | 1/44 [05:40<4:04:11, 340.72s/it]"
     ]
    },
    {
     "name": "stdout",
     "output_type": "stream",
     "text": [
      "data_stm is empty (could not compute stm, skipping :  IJ2pm_Feb1_30Hz  )\n",
      "DATA_STM:  (71, 901, 128, 128)\n",
      "    denoising data (pca.transofrm(X)) \n",
      "        done denoising data\n",
      "DATA_STM:  (71, 901, 128, 128)\n",
      "    denoising data (pca.transofrm(X)) \n",
      "        done denoising data\n"
     ]
    },
    {
     "name": "stderr",
     "output_type": "stream",
     "text": [
      "\r",
      "  5%|▍         | 2/44 [11:43<4:07:32, 353.64s/it]"
     ]
    },
    {
     "name": "stdout",
     "output_type": "stream",
     "text": [
      "data_stm is empty (could not compute stm, skipping :  IJ2pm_Feb2_30Hz  )\n",
      "DATA_STM:  (57, 901, 128, 128)\n",
      "    denoising data (pca.transofrm(X)) \n",
      "        done denoising data\n",
      "DATA_STM:  (57, 901, 128, 128)\n",
      "    denoising data (pca.transofrm(X)) \n",
      "        done denoising data\n"
     ]
    },
    {
     "name": "stderr",
     "output_type": "stream",
     "text": [
      "\r",
      "  7%|▋         | 3/44 [16:01<3:31:53, 310.08s/it]"
     ]
    },
    {
     "name": "stdout",
     "output_type": "stream",
     "text": [
      "data_stm is empty (could not compute stm, skipping :  IJ2pm_Feb3_30Hz  )\n",
      "DATA_STM:  (60, 901, 128, 128)\n",
      "    denoising data (pca.transofrm(X)) \n",
      "        done denoising data\n",
      "DATA_STM:  (60, 901, 128, 128)\n",
      "    denoising data (pca.transofrm(X)) \n",
      "        done denoising data\n"
     ]
    },
    {
     "name": "stderr",
     "output_type": "stream",
     "text": [
      "\r",
      "  9%|▉         | 4/44 [20:50<3:21:08, 301.72s/it]"
     ]
    },
    {
     "name": "stdout",
     "output_type": "stream",
     "text": [
      "data_stm is empty (could not compute stm, skipping :  IJ2pm_Feb4_30Hz  )\n",
      "DATA_STM:  (50, 901, 128, 128)\n",
      "    denoising data (pca.transofrm(X)) \n",
      "        done denoising data\n",
      "DATA_STM:  (50, 901, 128, 128)\n",
      "    denoising data (pca.transofrm(X)) \n",
      "        done denoising data\n"
     ]
    },
    {
     "name": "stderr",
     "output_type": "stream",
     "text": [
      "\r",
      " 11%|█▏        | 5/44 [24:13<2:53:04, 266.26s/it]"
     ]
    },
    {
     "name": "stdout",
     "output_type": "stream",
     "text": [
      "data_stm is empty (could not compute stm, skipping :  IJ2pm_Feb5_30Hz  )\n",
      "Imaging rates between aligned and session are incorrect, exiting:  29.86750178037435\n",
      "data_stm is empty (could not compute stm, skipping :  IJ2pm_Feb9_30Hz  )\n"
     ]
    },
    {
     "name": "stderr",
     "output_type": "stream",
     "text": [
      "\r",
      " 14%|█▎        | 6/44 [24:24<1:53:29, 179.21s/it]"
     ]
    },
    {
     "name": "stdout",
     "output_type": "stream",
     "text": [
      "Imaging rates between aligned and session are incorrect, exiting:  29.86750178037435\n",
      "data_stm is empty (could not compute stm, skipping :  IJ2pm_Feb9_30Hz  )\n",
      "DATA_STM:  (5, 901, 128, 128)\n",
      "    denoising data (pca.transofrm(X)) \n",
      "        done denoising data\n",
      "DATA_STM:  (5, 901, 128, 128)\n",
      "    denoising data (pca.transofrm(X)) \n",
      "        done denoising data\n"
     ]
    },
    {
     "name": "stderr",
     "output_type": "stream",
     "text": [
      "\r",
      " 16%|█▌        | 7/44 [24:42<1:18:01, 126.52s/it]"
     ]
    },
    {
     "name": "stdout",
     "output_type": "stream",
     "text": [
      "data_stm is empty (could not compute stm, skipping :  IJ2pm_Feb10_30Hz  )\n",
      "DATA_STM:  (14, 901, 128, 128)\n",
      "    denoising data (pca.transofrm(X)) \n",
      "        done denoising data\n",
      "DATA_STM:  (14, 901, 128, 128)\n",
      "    denoising data (pca.transofrm(X)) \n",
      "        done denoising data\n"
     ]
    },
    {
     "name": "stderr",
     "output_type": "stream",
     "text": [
      "\r",
      " 18%|█▊        | 8/44 [25:19<58:53, 98.16s/it]   "
     ]
    },
    {
     "name": "stdout",
     "output_type": "stream",
     "text": [
      "data_stm is empty (could not compute stm, skipping :  IJ2pm_Feb11_30Hz  )\n",
      "DATA_STM:  (10, 901, 128, 128)\n",
      "    denoising data (pca.transofrm(X)) \n",
      "        done denoising data\n",
      "DATA_STM:  (10, 901, 128, 128)\n",
      "    denoising data (pca.transofrm(X)) \n",
      "        done denoising data\n"
     ]
    },
    {
     "name": "stderr",
     "output_type": "stream",
     "text": [
      "\r",
      " 20%|██        | 9/44 [25:47<44:30, 76.30s/it]"
     ]
    },
    {
     "name": "stdout",
     "output_type": "stream",
     "text": [
      "data_stm is empty (could not compute stm, skipping :  IJ2pm_Feb12_30Hz  )\n",
      "Imaging rates between aligned and session are incorrect, exiting:  29.88114874250808\n",
      "data_stm is empty (could not compute stm, skipping :  IJ2pm_Feb15_30Hz  )\n"
     ]
    },
    {
     "name": "stderr",
     "output_type": "stream",
     "text": [
      "\r",
      " 23%|██▎       | 10/44 [25:58<31:47, 56.10s/it]"
     ]
    },
    {
     "name": "stdout",
     "output_type": "stream",
     "text": [
      "Imaging rates between aligned and session are incorrect, exiting:  29.88114874250808\n",
      "data_stm is empty (could not compute stm, skipping :  IJ2pm_Feb15_30Hz  )\n",
      "DATA_STM:  (14, 901, 128, 128)\n",
      "    denoising data (pca.transofrm(X)) \n",
      "        done denoising data\n",
      "DATA_STM:  (14, 901, 128, 128)\n",
      "    denoising data (pca.transofrm(X)) \n",
      "        done denoising data\n"
     ]
    },
    {
     "name": "stderr",
     "output_type": "stream",
     "text": [
      "100%|██████████| 44/44 [26:39<00:00, 36.34s/it]\n",
      "  0%|          | 0/110 [00:00<?, ?it/s]"
     ]
    },
    {
     "name": "stdout",
     "output_type": "stream",
     "text": [
      "data_stm is empty (could not compute stm, skipping :  IJ2pm_Feb16_30Hz  )\n",
      "No video available:  IJ2pm_Feb17_30Hz\n",
      " ... session has no lever pulls  IJ2pm_Feb17_30Hz\n",
      "No video available:  IJ2pm_Feb18_30Hz\n",
      " ... session has no lever pulls  IJ2pm_Feb18_30Hz\n",
      "No video available:  IJ2pm_Feb22_30Hz\n",
      " ... session has no lever pulls  IJ2pm_Feb22_30Hz\n",
      "No video available:  IJ2pm_Feb23_30Hz\n",
      " ... session has no lever pulls  IJ2pm_Feb23_30Hz\n",
      "No video available:  IJ2pm_Feb24_30Hz\n",
      " ... session has no lever pulls  IJ2pm_Feb24_30Hz\n",
      "No video available:  IJ2pm_Feb25_30Hz\n",
      " ... session has no lever pulls  IJ2pm_Feb25_30Hz\n",
      "No video available:  IJ2pm_Feb26_30Hz\n",
      " ... session has no lever pulls  IJ2pm_Feb26_30Hz\n",
      "No video available:  IJ2pm_Feb29_30Hz\n",
      " ... session has no lever pulls  IJ2pm_Feb29_30Hz\n",
      "No video available:  IJ2pm_Mar1_30Hz\n",
      " ... session has no lever pulls  IJ2pm_Mar1_30Hz\n",
      "No video available:  IJ2pm_Mar2_30Hz\n",
      " ... session has no lever pulls  IJ2pm_Mar2_30Hz\n",
      "No video available:  IJ2pm_Mar3_30Hz\n",
      " ... session has no lever pulls  IJ2pm_Mar3_30Hz\n",
      "No video available:  IJ2am_Mar7_30Hz\n",
      " ... session has no lever pulls  IJ2am_Mar7_30Hz\n",
      "No video available:  IJ2pm_Mar8_30Hz\n",
      " ... session has no lever pulls  IJ2pm_Mar8_30Hz\n",
      "No video available:  IJ2am_Mar9_30Hz\n",
      " ... session has no lever pulls  IJ2am_Mar9_30Hz\n",
      "No video available:  IJ2am_Mar10_30Hz\n",
      " ... session has no lever pulls  IJ2am_Mar10_30Hz\n",
      "No video available:  IJ2am_Mar11_30Hz\n",
      " ... session has no lever pulls  IJ2am_Mar11_30Hz\n",
      "No video available:  IJ2pm_Mar14_30Hz\n",
      " ... session has no lever pulls  IJ2pm_Mar14_30Hz\n",
      "No video available:  IJ2am_Mar15_30Hz\n",
      " ... session has no lever pulls  IJ2am_Mar15_30Hz\n",
      "No video available:  IJ2pm_Mar16_30Hz\n",
      " ... session has no lever pulls  IJ2pm_Mar16_30Hz\n",
      "No video available:  IJ2pm_Mar17_30Hz\n",
      " ... session has no lever pulls  IJ2pm_Mar17_30Hz\n",
      "No video available:  IJ2pm_Mar18_30Hz\n",
      " ... session has no lever pulls  IJ2pm_Mar18_30Hz\n",
      "No video available:  IJ2pm_Mar21_30Hz\n",
      " ... session has no lever pulls  IJ2pm_Mar21_30Hz\n",
      "No video available:  IJ2pm_Mar22_30Hz\n",
      " ... session has no lever pulls  IJ2pm_Mar22_30Hz\n",
      "No video available:  IJ2pm_Mar23_30Hz\n",
      " ... session has no lever pulls  IJ2pm_Mar23_30Hz\n",
      "No video available:  IJ2pm_Mar24_30Hz\n",
      " ... session has no lever pulls  IJ2pm_Mar24_30Hz\n",
      "No video available:  IJ2pm_Mar29_30Hz\n",
      " ... session has no lever pulls  IJ2pm_Mar29_30Hz\n",
      "No video available:  IJ2pm_Mar30_30Hz\n",
      " ... session has no lever pulls  IJ2pm_Mar30_30Hz\n",
      "No video available:  IJ2pm_Mar31_30Hz\n",
      " ... session has no lever pulls  IJ2pm_Mar31_30Hz\n",
      "No video available:  IJ2pm_Apr1_30Hz\n",
      " ... session has no lever pulls  IJ2pm_Apr1_30Hz\n",
      "No video available:  IJ2pm_Apr4_30Hz\n",
      " ... session has no lever pulls  IJ2pm_Apr4_30Hz\n",
      "No video available:  IJ2pm_Apr5_30Hz\n",
      " ... session has no lever pulls  IJ2pm_Apr5_30Hz\n",
      "No video available:  IJ2pm_Apr6_30Hz\n",
      " ... session has no lever pulls  IJ2pm_Apr6_30Hz\n",
      "No video available:  IJ2pm_Apr7_30Hz\n",
      " ... session has no lever pulls  IJ2pm_Apr7_30Hz\n",
      "PROCESSING:  AQ2\n",
      "DATA_STM:  (62, 901, 128, 128)\n",
      "    denoising data (pca.transofrm(X)) \n",
      "        done denoising data\n",
      "DATA_STM:  (62, 901, 128, 128)\n",
      "    denoising data (pca.transofrm(X)) \n",
      "        done denoising data\n"
     ]
    },
    {
     "name": "stderr",
     "output_type": "stream",
     "text": [
      "\r",
      "  1%|          | 1/110 [04:53<8:53:53, 293.89s/it]"
     ]
    },
    {
     "name": "stdout",
     "output_type": "stream",
     "text": [
      "data_stm is empty (could not compute stm, skipping :  AQ2am_Dec9_30Hz  )\n",
      "DATA_STM:  (57, 901, 128, 128)\n",
      "    denoising data (pca.transofrm(X)) \n",
      "        done denoising data\n",
      "DATA_STM:  (57, 901, 128, 128)\n",
      "    denoising data (pca.transofrm(X)) \n",
      "        done denoising data\n"
     ]
    },
    {
     "name": "stderr",
     "output_type": "stream",
     "text": [
      "\r",
      "  2%|▏         | 2/110 [08:53<7:51:53, 262.16s/it]"
     ]
    },
    {
     "name": "stdout",
     "output_type": "stream",
     "text": [
      "data_stm is empty (could not compute stm, skipping :  AQ2am_Dec10_30Hz  )\n",
      "DATA_STM:  (64, 901, 128, 128)\n",
      "    denoising data (pca.transofrm(X)) \n",
      "        done denoising data\n",
      "DATA_STM:  (64, 901, 128, 128)\n",
      "    denoising data (pca.transofrm(X)) \n",
      "        done denoising data\n"
     ]
    },
    {
     "name": "stderr",
     "output_type": "stream",
     "text": [
      "\r",
      "  3%|▎         | 3/110 [14:16<8:37:00, 289.91s/it]"
     ]
    },
    {
     "name": "stdout",
     "output_type": "stream",
     "text": [
      "data_stm is empty (could not compute stm, skipping :  AQ2pm_Dec10_30Hz  )\n",
      "DATA_STM:  (63, 901, 128, 128)\n",
      "    denoising data (pca.transofrm(X)) \n",
      "        done denoising data\n",
      "DATA_STM:  (63, 901, 128, 128)\n",
      "    denoising data (pca.transofrm(X)) \n",
      "        done denoising data\n"
     ]
    },
    {
     "name": "stderr",
     "output_type": "stream",
     "text": [
      "\r",
      "  4%|▎         | 4/110 [19:05<8:31:00, 289.25s/it]"
     ]
    },
    {
     "name": "stdout",
     "output_type": "stream",
     "text": [
      "data_stm is empty (could not compute stm, skipping :  AQ2am_Dec11_30Hz  )\n",
      "DATA_STM:  (61, 901, 128, 128)\n",
      "    denoising data (pca.transofrm(X)) \n",
      "        done denoising data\n",
      "DATA_STM:  (61, 901, 128, 128)\n",
      "    denoising data (pca.transofrm(X)) \n",
      "        done denoising data\n"
     ]
    },
    {
     "name": "stderr",
     "output_type": "stream",
     "text": [
      "\r",
      "  5%|▍         | 5/110 [23:57<8:28:10, 290.39s/it]"
     ]
    },
    {
     "name": "stdout",
     "output_type": "stream",
     "text": [
      "data_stm is empty (could not compute stm, skipping :  AQ2pm_Dec14_30Hz  )\n",
      "DATA_STM:  (71, 901, 128, 128)\n",
      "    denoising data (pca.transofrm(X)) \n",
      "        done denoising data\n",
      "DATA_STM:  (71, 901, 128, 128)\n",
      "    denoising data (pca.transofrm(X)) \n",
      "        done denoising data\n"
     ]
    },
    {
     "name": "stderr",
     "output_type": "stream",
     "text": [
      "\r",
      "  5%|▌         | 6/110 [30:26<9:21:23, 323.88s/it]"
     ]
    },
    {
     "name": "stdout",
     "output_type": "stream",
     "text": [
      "data_stm is empty (could not compute stm, skipping :  AQ2am_Dec14_30Hz  )\n",
      "DATA_STM:  (66, 901, 128, 128)\n",
      "    denoising data (pca.transofrm(X)) \n",
      "        done denoising data\n",
      "DATA_STM:  (66, 901, 128, 128)\n",
      "    denoising data (pca.transofrm(X)) \n",
      "        done denoising data\n"
     ]
    },
    {
     "name": "stderr",
     "output_type": "stream",
     "text": [
      "\r",
      "  6%|▋         | 7/110 [35:29<9:04:22, 317.11s/it]"
     ]
    },
    {
     "name": "stdout",
     "output_type": "stream",
     "text": [
      "data_stm is empty (could not compute stm, skipping :  AQ2pm_Dec16_30Hz  )\n",
      "DATA_STM:  (55, 901, 128, 128)\n",
      "    denoising data (pca.transofrm(X)) \n",
      "        done denoising data\n",
      "DATA_STM:  (55, 901, 128, 128)\n",
      "    denoising data (pca.transofrm(X)) \n",
      "        done denoising data\n"
     ]
    },
    {
     "name": "stderr",
     "output_type": "stream",
     "text": [
      "\r",
      "  7%|▋         | 8/110 [39:25<8:15:28, 291.45s/it]"
     ]
    },
    {
     "name": "stdout",
     "output_type": "stream",
     "text": [
      "data_stm is empty (could not compute stm, skipping :  AQ2am_Dec17_30Hz  )\n",
      "DATA_STM:  (58, 901, 128, 128)\n",
      "    denoising data (pca.transofrm(X)) \n",
      "        done denoising data\n",
      "DATA_STM:  (58, 901, 128, 128)\n",
      "    denoising data (pca.transofrm(X)) \n",
      "        done denoising data\n"
     ]
    },
    {
     "name": "stderr",
     "output_type": "stream",
     "text": [
      "\r",
      "  8%|▊         | 9/110 [43:54<7:58:24, 284.21s/it]"
     ]
    },
    {
     "name": "stdout",
     "output_type": "stream",
     "text": [
      "data_stm is empty (could not compute stm, skipping :  AQ2pm_Dec17_30Hz  )\n",
      "DATA_STM:  (47, 901, 128, 128)\n",
      "    denoising data (pca.transofrm(X)) \n",
      "        done denoising data\n",
      "DATA_STM:  (47, 901, 128, 128)\n",
      "    denoising data (pca.transofrm(X)) \n",
      "        done denoising data\n"
     ]
    },
    {
     "name": "stderr",
     "output_type": "stream",
     "text": [
      "\r",
      "  9%|▉         | 10/110 [46:51<6:58:43, 251.23s/it]"
     ]
    },
    {
     "name": "stdout",
     "output_type": "stream",
     "text": [
      "data_stm is empty (could not compute stm, skipping :  AQ2am_Dec18_30Hz  )\n",
      "DATA_STM:  (62, 901, 128, 128)\n",
      "    denoising data (pca.transofrm(X)) \n",
      "        done denoising data\n",
      "DATA_STM:  (62, 901, 128, 128)\n",
      "    denoising data (pca.transofrm(X)) \n",
      "        done denoising data\n"
     ]
    },
    {
     "name": "stderr",
     "output_type": "stream",
     "text": [
      "\r",
      " 10%|█         | 11/110 [52:16<7:31:49, 273.83s/it]"
     ]
    },
    {
     "name": "stdout",
     "output_type": "stream",
     "text": [
      "data_stm is empty (could not compute stm, skipping :  AQ2pm_Dec18_30Hz  )\n",
      "DATA_STM:  (49, 901, 128, 128)\n",
      "    denoising data (pca.transofrm(X)) \n",
      "        done denoising data\n",
      "DATA_STM:  (49, 901, 128, 128)\n",
      "    denoising data (pca.transofrm(X)) \n",
      "        done denoising data\n"
     ]
    },
    {
     "name": "stderr",
     "output_type": "stream",
     "text": [
      "\r",
      " 11%|█         | 12/110 [55:30<6:47:39, 249.59s/it]"
     ]
    },
    {
     "name": "stdout",
     "output_type": "stream",
     "text": [
      "data_stm is empty (could not compute stm, skipping :  AQ2am_Dec21_30Hz  )\n",
      "DATA_STM:  (57, 901, 128, 128)\n",
      "    denoising data (pca.transofrm(X)) \n",
      "        done denoising data\n",
      "DATA_STM:  (57, 901, 128, 128)\n",
      "    denoising data (pca.transofrm(X)) \n",
      "        done denoising data\n"
     ]
    },
    {
     "name": "stderr",
     "output_type": "stream",
     "text": [
      "\r",
      " 12%|█▏        | 13/110 [59:57<6:51:39, 254.63s/it]"
     ]
    },
    {
     "name": "stdout",
     "output_type": "stream",
     "text": [
      "data_stm is empty (could not compute stm, skipping :  AQ2am_Dec22_30Hz  )\n",
      "DATA_STM:  (38, 901, 128, 128)\n",
      "    denoising data (pca.transofrm(X)) \n",
      "        done denoising data\n",
      "DATA_STM:  (38, 901, 128, 128)\n",
      "    denoising data (pca.transofrm(X)) \n",
      "        done denoising data\n"
     ]
    },
    {
     "name": "stderr",
     "output_type": "stream",
     "text": [
      "\r",
      " 13%|█▎        | 14/110 [1:02:07<5:47:20, 217.09s/it]"
     ]
    },
    {
     "name": "stdout",
     "output_type": "stream",
     "text": [
      "data_stm is empty (could not compute stm, skipping :  AQ2am_Dec23_30Hz  )\n",
      "DATA_STM:  (70, 901, 128, 128)\n",
      "    denoising data (pca.transofrm(X)) \n",
      "        done denoising data\n",
      "DATA_STM:  (70, 901, 128, 128)\n",
      "    denoising data (pca.transofrm(X)) \n",
      "        done denoising data\n"
     ]
    },
    {
     "name": "stderr",
     "output_type": "stream",
     "text": [
      "\r",
      " 14%|█▎        | 15/110 [1:07:55<6:46:08, 256.51s/it]"
     ]
    },
    {
     "name": "stdout",
     "output_type": "stream",
     "text": [
      "data_stm is empty (could not compute stm, skipping :  AQ2am_Dec28_30Hz  )\n",
      "DATA_STM:  (50, 901, 128, 128)\n",
      "    denoising data (pca.transofrm(X)) \n",
      "        done denoising data\n",
      "DATA_STM:  (50, 901, 128, 128)\n",
      "    denoising data (pca.transofrm(X)) \n",
      "        done denoising data\n"
     ]
    },
    {
     "name": "stderr",
     "output_type": "stream",
     "text": [
      "\r",
      " 15%|█▍        | 16/110 [1:11:09<6:12:28, 237.75s/it]"
     ]
    },
    {
     "name": "stdout",
     "output_type": "stream",
     "text": [
      "data_stm is empty (could not compute stm, skipping :  AQ2am_Dec29_30Hz  )\n",
      "Imaging rates between aligned and session are incorrect, exiting:  0.3096286204551007\n",
      "data_stm is empty (could not compute stm, skipping :  AQ2am_Dec30_30Hz  )\n"
     ]
    },
    {
     "name": "stderr",
     "output_type": "stream",
     "text": [
      "\r",
      " 15%|█▌        | 17/110 [1:11:19<4:22:30, 169.36s/it]"
     ]
    },
    {
     "name": "stdout",
     "output_type": "stream",
     "text": [
      "Imaging rates between aligned and session are incorrect, exiting:  0.3096286204551007\n",
      "data_stm is empty (could not compute stm, skipping :  AQ2am_Dec30_30Hz  )\n",
      "No video available:  AQ2am_Dec31_30Hz\n",
      " ... session has no lever pulls  AQ2am_Dec31_30Hz\n",
      "DATA_STM:  (32, 901, 128, 128)\n",
      "    denoising data (pca.transofrm(X)) \n",
      "        done denoising data\n",
      "DATA_STM:  (32, 901, 128, 128)\n",
      "    denoising data (pca.transofrm(X)) \n",
      "        done denoising data\n"
     ]
    },
    {
     "name": "stderr",
     "output_type": "stream",
     "text": [
      "\r",
      " 17%|█▋        | 19/110 [1:12:57<2:52:22, 113.66s/it]"
     ]
    },
    {
     "name": "stdout",
     "output_type": "stream",
     "text": [
      "data_stm is empty (could not compute stm, skipping :  AQ2am_Jan4_30Hz  )\n",
      "DATA_STM:  (47, 901, 128, 128)\n",
      "    denoising data (pca.transofrm(X)) \n",
      "        done denoising data\n",
      "DATA_STM:  (47, 901, 128, 128)\n",
      "    denoising data (pca.transofrm(X)) \n",
      "        done denoising data\n"
     ]
    },
    {
     "name": "stderr",
     "output_type": "stream",
     "text": [
      "\r",
      " 18%|█▊        | 20/110 [1:16:02<3:17:00, 131.34s/it]"
     ]
    },
    {
     "name": "stdout",
     "output_type": "stream",
     "text": [
      "data_stm is empty (could not compute stm, skipping :  AQ2am_Jan5_30Hz  )\n",
      "DATA_STM:  (28, 901, 128, 128)\n",
      "    denoising data (pca.transofrm(X)) \n",
      "        done denoising data\n",
      "DATA_STM:  (28, 901, 128, 128)\n",
      "    denoising data (pca.transofrm(X)) \n",
      "        done denoising data\n"
     ]
    },
    {
     "name": "stderr",
     "output_type": "stream",
     "text": [
      "\r",
      " 19%|█▉        | 21/110 [1:17:20<2:54:00, 117.31s/it]"
     ]
    },
    {
     "name": "stdout",
     "output_type": "stream",
     "text": [
      "data_stm is empty (could not compute stm, skipping :  AQ2am_Jan6_30Hz  )\n",
      "DATA_STM:  (49, 901, 128, 128)\n",
      "    denoising data (pca.transofrm(X)) \n",
      "        done denoising data\n",
      "DATA_STM:  (49, 901, 128, 128)\n",
      "    denoising data (pca.transofrm(X)) \n",
      "        done denoising data\n"
     ]
    },
    {
     "name": "stderr",
     "output_type": "stream",
     "text": [
      "\r",
      " 20%|██        | 22/110 [1:20:51<3:29:33, 142.88s/it]"
     ]
    },
    {
     "name": "stdout",
     "output_type": "stream",
     "text": [
      "data_stm is empty (could not compute stm, skipping :  AQ2am_Jan7_30Hz  )\n",
      "DATA_STM:  (51, 901, 128, 128)\n",
      "    denoising data (pca.transofrm(X)) \n",
      "        done denoising data\n",
      "DATA_STM:  (51, 901, 128, 128)\n",
      "    denoising data (pca.transofrm(X)) \n",
      "        done denoising data\n"
     ]
    },
    {
     "name": "stderr",
     "output_type": "stream",
     "text": [
      "\r",
      " 21%|██        | 23/110 [1:24:32<3:58:53, 164.76s/it]"
     ]
    },
    {
     "name": "stdout",
     "output_type": "stream",
     "text": [
      "data_stm is empty (could not compute stm, skipping :  AQ2am_Jan8_30Hz  )\n",
      "DATA_STM:  (29, 901, 128, 128)\n",
      "    denoising data (pca.transofrm(X)) \n",
      "        done denoising data\n",
      "DATA_STM:  (29, 901, 128, 128)\n",
      "    denoising data (pca.transofrm(X)) \n",
      "        done denoising data\n"
     ]
    },
    {
     "name": "stderr",
     "output_type": "stream",
     "text": [
      "\r",
      " 22%|██▏       | 24/110 [1:25:56<3:23:03, 141.66s/it]"
     ]
    },
    {
     "name": "stdout",
     "output_type": "stream",
     "text": [
      "data_stm is empty (could not compute stm, skipping :  AQ2pm_Jan11_30Hz  )\n",
      "DATA_STM:  (71, 901, 128, 128)\n",
      "    denoising data (pca.transofrm(X)) \n",
      "        done denoising data\n",
      "DATA_STM:  (71, 901, 128, 128)\n",
      "    denoising data (pca.transofrm(X)) \n",
      "        done denoising data\n"
     ]
    },
    {
     "name": "stderr",
     "output_type": "stream",
     "text": [
      "\r",
      " 23%|██▎       | 25/110 [1:32:29<5:03:58, 214.57s/it]"
     ]
    },
    {
     "name": "stdout",
     "output_type": "stream",
     "text": [
      "data_stm is empty (could not compute stm, skipping :  AQ2am_Jan11_30Hz  )\n",
      "DATA_STM:  (39, 901, 128, 128)\n",
      "    denoising data (pca.transofrm(X)) \n",
      "        done denoising data\n",
      "DATA_STM:  (39, 901, 128, 128)\n",
      "    denoising data (pca.transofrm(X)) \n",
      "        done denoising data\n"
     ]
    },
    {
     "name": "stderr",
     "output_type": "stream",
     "text": [
      "\r",
      " 24%|██▎       | 26/110 [1:34:42<4:27:03, 190.76s/it]"
     ]
    },
    {
     "name": "stdout",
     "output_type": "stream",
     "text": [
      "data_stm is empty (could not compute stm, skipping :  AQ2pm_Jan12_30Hz  )\n",
      "DATA_STM:  (78, 901, 128, 128)\n",
      "    denoising data (pca.transofrm(X)) \n",
      "        done denoising data\n",
      "DATA_STM:  (78, 901, 128, 128)\n",
      "    denoising data (pca.transofrm(X)) \n",
      "        done denoising data\n"
     ]
    },
    {
     "name": "stderr",
     "output_type": "stream",
     "text": [
      "\r",
      " 25%|██▍       | 27/110 [1:41:54<6:02:09, 261.81s/it]"
     ]
    },
    {
     "name": "stdout",
     "output_type": "stream",
     "text": [
      "data_stm is empty (could not compute stm, skipping :  AQ2am_Jan12_30Hz  )\n",
      "DATA_STM:  (42, 901, 128, 128)\n",
      "    denoising data (pca.transofrm(X)) \n",
      "        done denoising data\n",
      "DATA_STM:  (42, 901, 128, 128)\n",
      "    denoising data (pca.transofrm(X)) \n",
      "        done denoising data\n"
     ]
    },
    {
     "name": "stderr",
     "output_type": "stream",
     "text": [
      "\r",
      " 25%|██▌       | 28/110 [1:44:25<5:12:56, 228.98s/it]"
     ]
    },
    {
     "name": "stdout",
     "output_type": "stream",
     "text": [
      "data_stm is empty (could not compute stm, skipping :  AQ2pm_Jan13_30Hz  )\n",
      "DATA_STM:  (65, 901, 128, 128)\n",
      "    denoising data (pca.transofrm(X)) \n",
      "        done denoising data\n",
      "DATA_STM:  (65, 901, 128, 128)\n",
      "    denoising data (pca.transofrm(X)) \n",
      "        done denoising data\n"
     ]
    },
    {
     "name": "stderr",
     "output_type": "stream",
     "text": [
      "\r",
      " 26%|██▋       | 29/110 [1:49:20<5:35:44, 248.70s/it]"
     ]
    },
    {
     "name": "stdout",
     "output_type": "stream",
     "text": [
      "data_stm is empty (could not compute stm, skipping :  AQ2am_Jan13_30Hz  )\n",
      "DATA_STM:  (34, 901, 128, 128)\n",
      "    denoising data (pca.transofrm(X)) \n",
      "        done denoising data\n",
      "DATA_STM:  (34, 901, 128, 128)\n",
      "    denoising data (pca.transofrm(X)) \n",
      "        done denoising data\n"
     ]
    },
    {
     "name": "stderr",
     "output_type": "stream",
     "text": [
      "\r",
      " 27%|██▋       | 30/110 [1:51:07<4:35:10, 206.38s/it]"
     ]
    },
    {
     "name": "stdout",
     "output_type": "stream",
     "text": [
      "data_stm is empty (could not compute stm, skipping :  AQ2pm_Jan14_30Hz  )\n",
      "DATA_STM:  (73, 901, 128, 128)\n",
      "    denoising data (pca.transofrm(X)) \n",
      "        done denoising data\n",
      "DATA_STM:  (73, 901, 128, 128)\n",
      "    denoising data (pca.transofrm(X)) \n",
      "        done denoising data\n"
     ]
    },
    {
     "name": "stderr",
     "output_type": "stream",
     "text": [
      "\r",
      " 28%|██▊       | 31/110 [1:57:46<5:47:20, 263.81s/it]"
     ]
    },
    {
     "name": "stdout",
     "output_type": "stream",
     "text": [
      "data_stm is empty (could not compute stm, skipping :  AQ2am_Jan14_30Hz  )\n",
      "DATA_STM:  (29, 901, 128, 128)\n",
      "    denoising data (pca.transofrm(X)) \n",
      "        done denoising data\n",
      "DATA_STM:  (29, 901, 128, 128)\n",
      "    denoising data (pca.transofrm(X)) \n",
      "        done denoising data\n"
     ]
    },
    {
     "name": "stderr",
     "output_type": "stream",
     "text": [
      "\r",
      " 29%|██▉       | 32/110 [1:59:13<4:34:23, 211.07s/it]"
     ]
    },
    {
     "name": "stdout",
     "output_type": "stream",
     "text": [
      "data_stm is empty (could not compute stm, skipping :  AQ2am_Jan15_30Hz  )\n",
      "DATA_STM:  (38, 901, 128, 128)\n",
      "    denoising data (pca.transofrm(X)) \n",
      "        done denoising data\n",
      "DATA_STM:  (38, 901, 128, 128)\n",
      "    denoising data (pca.transofrm(X)) \n",
      "        done denoising data\n"
     ]
    },
    {
     "name": "stderr",
     "output_type": "stream",
     "text": [
      "\r",
      " 30%|███       | 33/110 [2:01:24<4:00:07, 187.11s/it]"
     ]
    },
    {
     "name": "stdout",
     "output_type": "stream",
     "text": [
      "data_stm is empty (could not compute stm, skipping :  AQ2pm_Jan15_30Hz  )\n",
      "DATA_STM:  (42, 901, 128, 128)\n",
      "    denoising data (pca.transofrm(X)) \n",
      "        done denoising data\n",
      "DATA_STM:  (42, 901, 128, 128)\n",
      "    denoising data (pca.transofrm(X)) \n",
      "        done denoising data\n"
     ]
    },
    {
     "name": "stderr",
     "output_type": "stream",
     "text": [
      "\r",
      " 31%|███       | 34/110 [2:03:48<3:40:39, 174.20s/it]"
     ]
    },
    {
     "name": "stdout",
     "output_type": "stream",
     "text": [
      "data_stm is empty (could not compute stm, skipping :  AQ2pm_Jan18_30Hz  )\n",
      "DATA_STM:  (62, 901, 128, 128)\n",
      "    denoising data (pca.transofrm(X)) \n",
      "        done denoising data\n",
      "DATA_STM:  (62, 901, 128, 128)\n",
      "    denoising data (pca.transofrm(X)) \n",
      "        done denoising data\n"
     ]
    },
    {
     "name": "stderr",
     "output_type": "stream",
     "text": [
      "\r",
      " 32%|███▏      | 35/110 [2:08:53<4:26:45, 213.40s/it]"
     ]
    },
    {
     "name": "stdout",
     "output_type": "stream",
     "text": [
      "data_stm is empty (could not compute stm, skipping :  AQ2am_Jan18_30Hz  )\n",
      "DATA_STM:  (44, 901, 128, 128)\n",
      "    denoising data (pca.transofrm(X)) \n",
      "        done denoising data\n",
      "DATA_STM:  (44, 901, 128, 128)\n",
      "    denoising data (pca.transofrm(X)) \n",
      "        done denoising data\n"
     ]
    },
    {
     "name": "stderr",
     "output_type": "stream",
     "text": [
      "\r",
      " 33%|███▎      | 36/110 [2:11:37<4:04:59, 198.64s/it]"
     ]
    },
    {
     "name": "stdout",
     "output_type": "stream",
     "text": [
      "data_stm is empty (could not compute stm, skipping :  AQ2am_Jan19_30Hz  )\n",
      "DATA_STM:  (53, 901, 128, 128)\n",
      "    denoising data (pca.transofrm(X)) \n",
      "        done denoising data\n",
      "DATA_STM:  (53, 901, 128, 128)\n",
      "    denoising data (pca.transofrm(X)) \n",
      "        done denoising data\n"
     ]
    },
    {
     "name": "stderr",
     "output_type": "stream",
     "text": [
      "\r",
      " 34%|███▎      | 37/110 [2:15:16<4:09:06, 204.75s/it]"
     ]
    },
    {
     "name": "stdout",
     "output_type": "stream",
     "text": [
      "data_stm is empty (could not compute stm, skipping :  AQ2pm_Jan19_30Hz  )\n",
      "DATA_STM:  (54, 901, 128, 128)\n",
      "    denoising data (pca.transofrm(X)) \n",
      "        done denoising data\n",
      "DATA_STM:  (54, 901, 128, 128)\n",
      "    denoising data (pca.transofrm(X)) \n",
      "        done denoising data\n"
     ]
    },
    {
     "name": "stderr",
     "output_type": "stream",
     "text": [
      "\r",
      " 35%|███▍      | 38/110 [2:18:56<4:11:03, 209.21s/it]"
     ]
    },
    {
     "name": "stdout",
     "output_type": "stream",
     "text": [
      "data_stm is empty (could not compute stm, skipping :  AQ2pm_Jan20_30Hz  )\n",
      "DATA_STM:  (62, 901, 128, 128)\n",
      "    denoising data (pca.transofrm(X)) \n",
      "        done denoising data\n",
      "DATA_STM:  (62, 901, 128, 128)\n",
      "    denoising data (pca.transofrm(X)) \n",
      "        done denoising data\n"
     ]
    },
    {
     "name": "stderr",
     "output_type": "stream",
     "text": [
      "\r",
      " 35%|███▌      | 39/110 [2:23:40<4:34:13, 231.74s/it]"
     ]
    },
    {
     "name": "stdout",
     "output_type": "stream",
     "text": [
      "data_stm is empty (could not compute stm, skipping :  AQ2am_Jan20_30Hz  )\n",
      "DATA_STM:  (50, 901, 128, 128)\n",
      "    denoising data (pca.transofrm(X)) \n",
      "        done denoising data\n",
      "DATA_STM:  (50, 901, 128, 128)\n",
      "    denoising data (pca.transofrm(X)) \n",
      "        done denoising data\n"
     ]
    },
    {
     "name": "stderr",
     "output_type": "stream",
     "text": [
      "\r",
      " 36%|███▋      | 40/110 [2:26:51<4:15:58, 219.40s/it]"
     ]
    },
    {
     "name": "stdout",
     "output_type": "stream",
     "text": [
      "data_stm is empty (could not compute stm, skipping :  AQ2pm_Jan21_30Hz  )\n",
      "DATA_STM:  (78, 901, 128, 128)\n",
      "    denoising data (pca.transofrm(X)) \n",
      "        done denoising data\n",
      "DATA_STM:  (78, 901, 128, 128)\n",
      "    denoising data (pca.transofrm(X)) \n",
      "        done denoising data\n"
     ]
    },
    {
     "name": "stderr",
     "output_type": "stream",
     "text": [
      "\r",
      " 37%|███▋      | 41/110 [2:34:20<5:31:22, 288.16s/it]"
     ]
    },
    {
     "name": "stdout",
     "output_type": "stream",
     "text": [
      "data_stm is empty (could not compute stm, skipping :  AQ2am_Jan21_30Hz  )\n",
      "DATA_STM:  (41, 901, 128, 128)\n",
      "    denoising data (pca.transofrm(X)) \n",
      "        done denoising data\n",
      "DATA_STM:  (41, 901, 128, 128)\n",
      "    denoising data (pca.transofrm(X)) \n",
      "        done denoising data\n"
     ]
    },
    {
     "name": "stderr",
     "output_type": "stream",
     "text": [
      "\r",
      " 38%|███▊      | 42/110 [2:36:44<4:37:39, 244.99s/it]"
     ]
    },
    {
     "name": "stdout",
     "output_type": "stream",
     "text": [
      "data_stm is empty (could not compute stm, skipping :  AQ2pm_Jan22_30Hz  )\n",
      "DATA_STM:  (74, 901, 128, 128)\n",
      "    denoising data (pca.transofrm(X)) \n",
      "        done denoising data\n",
      "DATA_STM:  (74, 901, 128, 128)\n",
      "    denoising data (pca.transofrm(X)) \n",
      "        done denoising data\n"
     ]
    },
    {
     "name": "stderr",
     "output_type": "stream",
     "text": [
      "\r",
      " 39%|███▉      | 43/110 [2:43:22<5:24:46, 290.84s/it]"
     ]
    },
    {
     "name": "stdout",
     "output_type": "stream",
     "text": [
      "data_stm is empty (could not compute stm, skipping :  AQ2am_Jan22_30Hz  )\n",
      "DATA_STM:  (35, 901, 128, 128)\n",
      "    denoising data (pca.transofrm(X)) \n",
      "        done denoising data\n",
      "DATA_STM:  (35, 901, 128, 128)\n",
      "    denoising data (pca.transofrm(X)) \n",
      "        done denoising data\n"
     ]
    },
    {
     "name": "stderr",
     "output_type": "stream",
     "text": [
      "\r",
      " 40%|████      | 44/110 [2:45:10<4:19:49, 236.20s/it]"
     ]
    },
    {
     "name": "stdout",
     "output_type": "stream",
     "text": [
      "data_stm is empty (could not compute stm, skipping :  AQ2am_Jan25_30Hz  )\n",
      "DATA_STM:  (40, 901, 128, 128)\n",
      "    denoising data (pca.transofrm(X)) \n",
      "        done denoising data\n",
      "DATA_STM:  (40, 901, 128, 128)\n",
      "    denoising data (pca.transofrm(X)) \n",
      "        done denoising data\n"
     ]
    },
    {
     "name": "stderr",
     "output_type": "stream",
     "text": [
      "\r",
      " 41%|████      | 45/110 [2:47:28<3:43:50, 206.62s/it]"
     ]
    },
    {
     "name": "stdout",
     "output_type": "stream",
     "text": [
      "data_stm is empty (could not compute stm, skipping :  AQ2pm_Jan25_30Hz  )\n",
      "DATA_STM:  (39, 901, 128, 128)\n",
      "    denoising data (pca.transofrm(X)) \n",
      "        done denoising data\n",
      "DATA_STM:  (39, 901, 128, 128)\n",
      "    denoising data (pca.transofrm(X)) \n",
      "        done denoising data\n"
     ]
    },
    {
     "name": "stderr",
     "output_type": "stream",
     "text": [
      "\r",
      " 42%|████▏     | 46/110 [2:49:42<3:17:13, 184.90s/it]"
     ]
    },
    {
     "name": "stdout",
     "output_type": "stream",
     "text": [
      "data_stm is empty (could not compute stm, skipping :  AQ2pm_Jan26_30Hz  )\n",
      "DATA_STM:  (53, 901, 128, 128)\n",
      "    denoising data (pca.transofrm(X)) \n",
      "        done denoising data\n",
      "DATA_STM:  (53, 901, 128, 128)\n",
      "    denoising data (pca.transofrm(X)) \n",
      "        done denoising data\n"
     ]
    },
    {
     "name": "stderr",
     "output_type": "stream",
     "text": [
      "\r",
      " 43%|████▎     | 47/110 [2:53:23<3:25:24, 195.63s/it]"
     ]
    },
    {
     "name": "stdout",
     "output_type": "stream",
     "text": [
      "data_stm is empty (could not compute stm, skipping :  AQ2am_Jan26_30Hz  )\n",
      "DATA_STM:  (46, 901, 128, 128)\n",
      "    denoising data (pca.transofrm(X)) \n",
      "        done denoising data\n",
      "DATA_STM:  (46, 901, 128, 128)\n",
      "    denoising data (pca.transofrm(X)) \n",
      "        done denoising data\n"
     ]
    },
    {
     "name": "stderr",
     "output_type": "stream",
     "text": [
      "\r",
      " 44%|████▎     | 48/110 [2:56:11<3:13:34, 187.33s/it]"
     ]
    },
    {
     "name": "stdout",
     "output_type": "stream",
     "text": [
      "data_stm is empty (could not compute stm, skipping :  AQ2am_Jan27_30Hz  )\n",
      "DATA_STM:  (32, 901, 128, 128)\n",
      "    denoising data (pca.transofrm(X)) \n",
      "        done denoising data\n",
      "DATA_STM:  (32, 901, 128, 128)\n",
      "    denoising data (pca.transofrm(X)) \n",
      "        done denoising data\n"
     ]
    },
    {
     "name": "stderr",
     "output_type": "stream",
     "text": [
      "\r",
      " 45%|████▍     | 49/110 [2:57:49<2:43:15, 160.59s/it]"
     ]
    },
    {
     "name": "stdout",
     "output_type": "stream",
     "text": [
      "data_stm is empty (could not compute stm, skipping :  AQ2pm_Jan27_30Hz  )\n",
      "DATA_STM:  (9, 901, 128, 128)\n",
      "    denoising data (pca.transofrm(X)) \n",
      "        done denoising data\n",
      "DATA_STM:  (9, 901, 128, 128)\n",
      "    denoising data (pca.transofrm(X)) \n",
      "        done denoising data\n"
     ]
    },
    {
     "name": "stderr",
     "output_type": "stream",
     "text": [
      "\r",
      " 45%|████▌     | 50/110 [2:58:14<1:59:51, 119.85s/it]"
     ]
    },
    {
     "name": "stdout",
     "output_type": "stream",
     "text": [
      "data_stm is empty (could not compute stm, skipping :  AQ2am_Jan28_30Hz  )\n",
      "DATA_STM:  (5, 901, 128, 128)\n",
      "    denoising data (pca.transofrm(X)) \n",
      "        done denoising data\n",
      "DATA_STM:  (5, 901, 128, 128)\n",
      "    denoising data (pca.transofrm(X)) \n",
      "        done denoising data\n"
     ]
    },
    {
     "name": "stderr",
     "output_type": "stream",
     "text": [
      "\r",
      " 46%|████▋     | 51/110 [2:58:33<1:28:12, 89.71s/it] "
     ]
    },
    {
     "name": "stdout",
     "output_type": "stream",
     "text": [
      "data_stm is empty (could not compute stm, skipping :  AQ2pm_Jan28_30Hz  )\n",
      "DATA_STM:  (8, 901, 128, 128)\n",
      "    denoising data (pca.transofrm(X)) \n",
      "        done denoising data\n",
      "DATA_STM:  (8, 901, 128, 128)\n",
      "    denoising data (pca.transofrm(X)) \n",
      "        done denoising data\n"
     ]
    },
    {
     "name": "stderr",
     "output_type": "stream",
     "text": [
      "\r",
      " 47%|████▋     | 52/110 [2:58:59<1:08:12, 70.57s/it]"
     ]
    },
    {
     "name": "stdout",
     "output_type": "stream",
     "text": [
      "data_stm is empty (could not compute stm, skipping :  AQ2am_Jan29_30Hz  )\n",
      "DATA_STM:  (5, 901, 128, 128)\n",
      "    denoising data (pca.transofrm(X)) \n",
      "        done denoising data\n",
      "DATA_STM:  (5, 901, 128, 128)\n",
      "    denoising data (pca.transofrm(X)) \n",
      "        done denoising data\n"
     ]
    },
    {
     "name": "stderr",
     "output_type": "stream",
     "text": [
      "\r",
      " 48%|████▊     | 53/110 [2:59:18<52:23, 55.15s/it]  "
     ]
    },
    {
     "name": "stdout",
     "output_type": "stream",
     "text": [
      "data_stm is empty (could not compute stm, skipping :  AQ2pm_Jan29_30Hz  )\n",
      "DATA_STM:  (5, 901, 128, 128)\n",
      "    denoising data (pca.transofrm(X)) \n",
      "        done denoising data\n",
      "DATA_STM:  (5, 901, 128, 128)\n",
      "    denoising data (pca.transofrm(X)) \n",
      "        done denoising data\n"
     ]
    },
    {
     "name": "stderr",
     "output_type": "stream",
     "text": [
      "\r",
      " 49%|████▉     | 54/110 [2:59:38<41:27, 44.43s/it]"
     ]
    },
    {
     "name": "stdout",
     "output_type": "stream",
     "text": [
      "data_stm is empty (could not compute stm, skipping :  AQ2am_Feb2_30Hz  )\n",
      "DATA_STM:  (3, 901, 128, 128)\n",
      "    denoising data (pca.transofrm(X)) \n",
      "        done denoising data\n",
      "DATA_STM:  (3, 901, 128, 128)\n",
      "    denoising data (pca.transofrm(X)) \n",
      "        done denoising data\n"
     ]
    },
    {
     "name": "stderr",
     "output_type": "stream",
     "text": [
      "\r",
      " 50%|█████     | 55/110 [2:59:55<33:11, 36.21s/it]"
     ]
    },
    {
     "name": "stdout",
     "output_type": "stream",
     "text": [
      "data_stm is empty (could not compute stm, skipping :  AQ2am_Feb3_30Hz  )\n",
      " ... session has no lever pulls  AQ2am_Feb4_30Hz\n",
      "DATA_STM:  (7, 901, 128, 128)\n",
      "    denoising data (pca.transofrm(X)) \n",
      "        done denoising data\n",
      "DATA_STM:  (7, 901, 128, 128)\n",
      "    denoising data (pca.transofrm(X)) \n",
      "        done denoising data\n"
     ]
    },
    {
     "name": "stderr",
     "output_type": "stream",
     "text": [
      "\r",
      " 52%|█████▏    | 57/110 [3:00:18<22:02, 24.95s/it]"
     ]
    },
    {
     "name": "stdout",
     "output_type": "stream",
     "text": [
      "data_stm is empty (could not compute stm, skipping :  AQ2am_Feb5_30Hz  )\n",
      "DATA_STM:  (2, 901, 128, 128)\n",
      "    denoising data (pca.transofrm(X)) \n",
      "        done denoising data\n",
      "DATA_STM:  (2, 901, 128, 128)\n",
      "    denoising data (pca.transofrm(X)) \n",
      "        done denoising data\n"
     ]
    },
    {
     "name": "stderr",
     "output_type": "stream",
     "text": [
      "\r",
      " 53%|█████▎    | 58/110 [3:00:34<19:37, 22.64s/it]"
     ]
    },
    {
     "name": "stdout",
     "output_type": "stream",
     "text": [
      "data_stm is empty (could not compute stm, skipping :  AQ2am_Feb9_30Hz  )\n",
      "DATA_STM:  (32, 901, 128, 128)\n",
      "    denoising data (pca.transofrm(X)) \n",
      "        done denoising data\n",
      "DATA_STM:  (32, 901, 128, 128)\n",
      "    denoising data (pca.transofrm(X)) \n",
      "        done denoising data\n"
     ]
    },
    {
     "name": "stderr",
     "output_type": "stream",
     "text": [
      "\r",
      " 54%|█████▎    | 59/110 [3:02:29<39:48, 46.83s/it]"
     ]
    },
    {
     "name": "stdout",
     "output_type": "stream",
     "text": [
      "data_stm is empty (could not compute stm, skipping :  AQ2am_Feb10_30Hz  )\n",
      "DATA_STM:  (10, 901, 128, 128)\n",
      "    denoising data (pca.transofrm(X)) \n",
      "        done denoising data\n",
      "DATA_STM:  (10, 901, 128, 128)\n",
      "    denoising data (pca.transofrm(X)) \n",
      "        done denoising data\n"
     ]
    },
    {
     "name": "stderr",
     "output_type": "stream",
     "text": [
      "\r",
      " 55%|█████▍    | 60/110 [3:02:56<34:25, 41.31s/it]"
     ]
    },
    {
     "name": "stdout",
     "output_type": "stream",
     "text": [
      "data_stm is empty (could not compute stm, skipping :  AQ2am_Feb11_30Hz  )\n",
      "DATA_STM:  (10, 901, 128, 128)\n",
      "    denoising data (pca.transofrm(X)) \n",
      "        done denoising data\n",
      "DATA_STM:  (10, 901, 128, 128)\n",
      "    denoising data (pca.transofrm(X)) \n",
      "        done denoising data\n"
     ]
    },
    {
     "name": "stderr",
     "output_type": "stream",
     "text": [
      "\r",
      " 55%|█████▌    | 61/110 [3:03:22<30:20, 37.15s/it]"
     ]
    },
    {
     "name": "stdout",
     "output_type": "stream",
     "text": [
      "data_stm is empty (could not compute stm, skipping :  AQ2am_Feb12_30Hz  )\n",
      "DATA_STM:  (36, 901, 128, 128)\n",
      "    denoising data (pca.transofrm(X)) \n",
      "        done denoising data\n",
      "DATA_STM:  (36, 901, 128, 128)\n",
      "    denoising data (pca.transofrm(X)) \n",
      "        done denoising data\n"
     ]
    },
    {
     "name": "stderr",
     "output_type": "stream",
     "text": [
      "\r",
      " 56%|█████▋    | 62/110 [3:05:43<53:32, 66.92s/it]"
     ]
    },
    {
     "name": "stdout",
     "output_type": "stream",
     "text": [
      "data_stm is empty (could not compute stm, skipping :  AQ2am_Feb15_30Hz  )\n",
      "DATA_STM:  (73, 901, 128, 128)\n",
      "    denoising data (pca.transofrm(X)) \n",
      "        done denoising data\n",
      "DATA_STM:  (73, 901, 128, 128)\n",
      "    denoising data (pca.transofrm(X)) \n",
      "        done denoising data\n"
     ]
    },
    {
     "name": "stderr",
     "output_type": "stream",
     "text": [
      "\r",
      " 57%|█████▋    | 63/110 [3:12:52<2:14:33, 171.77s/it]"
     ]
    },
    {
     "name": "stdout",
     "output_type": "stream",
     "text": [
      "data_stm is empty (could not compute stm, skipping :  AQ2am_Feb16_30Hz  )\n",
      "DATA_STM:  (7, 901, 128, 128)\n",
      "    denoising data (pca.transofrm(X)) \n",
      "        done denoising data\n",
      "DATA_STM:  (7, 901, 128, 128)\n",
      "    denoising data (pca.transofrm(X)) \n",
      "        done denoising data\n"
     ]
    },
    {
     "name": "stderr",
     "output_type": "stream",
     "text": [
      "\r",
      " 58%|█████▊    | 64/110 [3:13:13<1:37:49, 127.60s/it]"
     ]
    },
    {
     "name": "stdout",
     "output_type": "stream",
     "text": [
      "data_stm is empty (could not compute stm, skipping :  AQ2am_Feb17_30Hz  )\n",
      "No video available:  AQ2am_Feb18_30Hz\n",
      " ... session has no lever pulls  AQ2am_Feb18_30Hz\n",
      "No video available:  AQ2am_Feb19_30Hz\n",
      " ... session has no lever pulls  AQ2am_Feb19_30Hz\n",
      "No video available:  AQ2am_Feb22_30Hz\n",
      " ... session has no lever pulls  AQ2am_Feb22_30Hz\n",
      "No video available:  AQ2am_Feb23_30Hz\n",
      " ... session has no lever pulls  AQ2am_Feb23_30Hz\n",
      "No video available:  AQ2am_Feb25_30Hz\n",
      " ... session has no lever pulls  AQ2am_Feb25_30Hz\n",
      "No video available:  AQ2am_Feb26_30Hz\n",
      " ... session has no lever pulls  AQ2am_Feb26_30Hz\n",
      "No video available:  AQ2am_Feb29_30Hz\n",
      " ... session has no lever pulls  AQ2am_Feb29_30Hz\n",
      "No video available:  AQ2am_Mar1_30Hz\n",
      " ... session has no lever pulls  AQ2am_Mar1_30Hz\n",
      "No video available:  AQ2am_Mar2_30Hz\n",
      " ... session has no lever pulls  AQ2am_Mar2_30Hz\n",
      "No video available:  AQ2am_Mar3_30Hz\n",
      " ... session has no lever pulls  AQ2am_Mar3_30Hz\n",
      "No video available:  AQ2pm_Mar7_Day3_30Hz\n",
      " ... session has no lever pulls  AQ2pm_Mar7_Day3_30Hz\n",
      "No video available:  AQ2pm_Mar9_Day5_30Hz\n",
      " ... session has no lever pulls  AQ2pm_Mar9_Day5_30Hz\n",
      "No video available:  AQ2pm_Mar11_Day7_30Hz\n",
      " ... session has no lever pulls  AQ2pm_Mar11_Day7_30Hz\n",
      "No video available:  AQ2am_Mar14_Week2_30Hz\n",
      " ... session has no lever pulls  AQ2am_Mar14_Week2_30Hz\n",
      "No video available:  AQ2pm_Mar15_Week2_30Hz\n",
      " ... session has no lever pulls  AQ2pm_Mar15_Week2_30Hz\n",
      "No video available:  AQ2am_Mar16_Week2_30Hz\n",
      " ... session has no lever pulls  AQ2am_Mar16_Week2_30Hz\n",
      "No video available:  AQ2am_Mar17_Week2_30Hz\n",
      " ... session has no lever pulls  AQ2am_Mar17_Week2_30Hz\n",
      "No video available:  AQ2am_Mar18_Week2_30Hz\n",
      " ... session has no lever pulls  AQ2am_Mar18_Week2_30Hz\n",
      "No video available:  AQ2am_Mar21_Week3_30Hz\n",
      " ... session has no lever pulls  AQ2am_Mar21_Week3_30Hz\n",
      "No video available:  AQ2am_Mar22_Week3_30Hz\n",
      " ... session has no lever pulls  AQ2am_Mar22_Week3_30Hz\n",
      "No video available:  AQ2am_Mar23_Week3_30Hz\n",
      " ... session has no lever pulls  AQ2am_Mar23_Week3_30Hz\n",
      "No video available:  AQ2am_Mar24_Week3_30Hz\n",
      " ... session has no lever pulls  AQ2am_Mar24_Week3_30Hz\n",
      "No video available:  AQ2am_Mar29_Week4_30Hz\n",
      " ... session has no lever pulls  AQ2am_Mar29_Week4_30Hz\n",
      "No video available:  AQ2am_Mar30_Week4_30Hz\n",
      " ... session has no lever pulls  AQ2am_Mar30_Week4_30Hz\n",
      "No video available:  AQ2am_Mar31_Week4_30Hz\n",
      " ... session has no lever pulls  AQ2am_Mar31_Week4_30Hz\n",
      "No video available:  AQ2am_Apr1_Week4_30Hz\n",
      " ... session has no lever pulls  AQ2am_Apr1_Week4_30Hz\n",
      "No video available:  AQ2am_Apr4_Week5_30Hz\n",
      " ... session has no lever pulls  AQ2am_Apr4_Week5_30Hz\n",
      "No video available:  AQ2am_Apr5_Week5_30Hz\n",
      " ... session has no lever pulls  AQ2am_Apr5_Week5_30Hz\n",
      "No video available:  AQ2am_Apr6_Week5_30Hz\n",
      " ... session has no lever pulls  AQ2am_Apr6_Week5_30Hz\n",
      "No video available:  AQ2am_Apr7_Week5_30Hz\n",
      " ... session has no lever pulls  AQ2am_Apr7_Week5_30Hz\n",
      "No video available:  AQ2am_Apr8_Week5_30Hz\n",
      " ... session has no lever pulls  AQ2am_Apr8_Week5_30Hz\n",
      "No video available:  AQ2am_Apr11_Week6_30Hz\n",
      " ... session has no lever pulls  AQ2am_Apr11_Week6_30Hz\n",
      "No video available:  AQ2am_Apr12_Week6_30Hz\n",
      " ... session has no lever pulls  AQ2am_Apr12_Week6_30Hz\n",
      "No video available:  AQ2am_Apr13_Week6_30Hz\n",
      " ... session has no lever pulls  AQ2am_Apr13_Week6_30Hz\n",
      "No video available:  AQ2am_Apr14_Week6_30Hz\n",
      " ... session has no lever pulls  AQ2am_Apr14_Week6_30Hz\n",
      "No video available:  AQ2am_Apr15_Week6_30Hz\n",
      " ... session has no lever pulls  AQ2am_Apr15_Week6_30Hz\n",
      "No video available:  AQ2am_Apr18_Week7_30Hz\n",
      " ... session has no lever pulls  AQ2am_Apr18_Week7_30Hz\n",
      "No video available:  AQ2am_Apr19_Week7_30Hz\n",
      " ... session has no lever pulls  AQ2am_Apr19_Week7_30Hz\n",
      "No video available:  AQ2am_Apr20_Week7_30Hz\n",
      " ... session has no lever pulls  AQ2am_Apr20_Week7_30Hz\n",
      " ... session has no lever pulls  AQ2am_Apr21_Week7_30Hz\n",
      "DATA_STM:  (1, 901, 128, 128)\n",
      "    denoising data (pca.transofrm(X)) \n",
      "        done denoising data\n",
      "DATA_STM:  (1, 901, 128, 128)\n",
      "    denoising data (pca.transofrm(X)) \n",
      "        done denoising data\n"
     ]
    },
    {
     "name": "stderr",
     "output_type": "stream",
     "text": [
      "\r",
      " 95%|█████████▌| 105/110 [3:13:26<00:36,  7.33s/it]  "
     ]
    },
    {
     "name": "stdout",
     "output_type": "stream",
     "text": [
      "data_stm is empty (could not compute stm, skipping :  AQ2am_Apr22_Week7_30Hz  )\n",
      "DATA_STM:  (3, 901, 128, 128)\n",
      "    denoising data (pca.transofrm(X)) \n",
      "        done denoising data\n",
      "DATA_STM:  (3, 901, 128, 128)\n",
      "    denoising data (pca.transofrm(X)) \n",
      "        done denoising data\n"
     ]
    },
    {
     "name": "stderr",
     "output_type": "stream",
     "text": [
      "\r",
      " 96%|█████████▋| 106/110 [3:13:42<00:30,  7.59s/it]"
     ]
    },
    {
     "name": "stdout",
     "output_type": "stream",
     "text": [
      "data_stm is empty (could not compute stm, skipping :  AQ2am_Apr25_Week8_30Hz  )\n",
      "DATA_STM:  (4, 901, 128, 128)\n",
      "    denoising data (pca.transofrm(X)) \n",
      "        done denoising data\n",
      "DATA_STM:  (4, 901, 128, 128)\n",
      "    denoising data (pca.transofrm(X)) \n",
      "        done denoising data\n"
     ]
    },
    {
     "name": "stderr",
     "output_type": "stream",
     "text": [
      "\r",
      " 97%|█████████▋| 107/110 [3:13:58<00:23,  7.98s/it]"
     ]
    },
    {
     "name": "stdout",
     "output_type": "stream",
     "text": [
      "data_stm is empty (could not compute stm, skipping :  AQ2am_Apr26_Week8_30Hz  )\n",
      "DATA_STM:  (10, 901, 128, 128)\n",
      "    denoising data (pca.transofrm(X)) \n",
      "        done denoising data\n",
      "DATA_STM:  (10, 901, 128, 128)\n",
      "    denoising data (pca.transofrm(X)) \n",
      "        done denoising data\n"
     ]
    },
    {
     "name": "stderr",
     "output_type": "stream",
     "text": [
      "\r",
      " 98%|█████████▊| 108/110 [3:14:25<00:18,  9.07s/it]"
     ]
    },
    {
     "name": "stdout",
     "output_type": "stream",
     "text": [
      "data_stm is empty (could not compute stm, skipping :  AQ2am_Apr27_Week8_30Hz  )\n",
      "DATA_STM:  (4, 901, 128, 128)\n",
      "    denoising data (pca.transofrm(X)) \n",
      "        done denoising data\n",
      "DATA_STM:  (4, 901, 128, 128)\n",
      "    denoising data (pca.transofrm(X)) \n",
      "        done denoising data\n"
     ]
    },
    {
     "name": "stderr",
     "output_type": "stream",
     "text": [
      "100%|██████████| 110/110 [3:14:42<00:00, 106.20s/it]\n",
      "  0%|          | 0/71 [00:00<?, ?it/s]"
     ]
    },
    {
     "name": "stdout",
     "output_type": "stream",
     "text": [
      "data_stm is empty (could not compute stm, skipping :  AQ2am_Apr28_Week8_30Hz  )\n",
      " ... session has no lever pulls  AQ2am_Apr29_Week8_30Hz\n",
      "PROCESSING:  IA1\n",
      "DATA_STM:  (74, 901, 128, 128)\n",
      "    denoising data (pca.transofrm(X)) \n",
      "        done denoising data\n",
      "DATA_STM:  (74, 901, 128, 128)\n",
      "    denoising data (pca.transofrm(X)) \n",
      "        done denoising data\n"
     ]
    },
    {
     "name": "stderr",
     "output_type": "stream",
     "text": [
      "\r",
      "  1%|▏         | 1/71 [07:28<8:43:22, 448.61s/it]"
     ]
    },
    {
     "name": "stdout",
     "output_type": "stream",
     "text": [
      "data_stm is empty (could not compute stm, skipping :  IA1pm_Feb1_30Hz  )\n",
      "DATA_STM:  (29, 901, 128, 128)\n",
      "    denoising data (pca.transofrm(X)) \n",
      "        done denoising data\n",
      "DATA_STM:  (29, 901, 128, 128)\n",
      "    denoising data (pca.transofrm(X)) \n",
      "        done denoising data\n"
     ]
    },
    {
     "name": "stderr",
     "output_type": "stream",
     "text": [
      "\r",
      "  3%|▎         | 2/71 [08:52<4:29:08, 234.03s/it]"
     ]
    },
    {
     "name": "stdout",
     "output_type": "stream",
     "text": [
      "data_stm is empty (could not compute stm, skipping :  IA1pm_Feb2_30Hz  )\n",
      "DATA_STM:  (43, 901, 128, 128)\n",
      "    denoising data (pca.transofrm(X)) \n",
      "        done denoising data\n",
      "DATA_STM:  (43, 901, 128, 128)\n",
      "    denoising data (pca.transofrm(X)) \n",
      "        done denoising data\n"
     ]
    },
    {
     "name": "stderr",
     "output_type": "stream",
     "text": [
      "\r",
      "  4%|▍         | 3/71 [11:28<3:44:55, 198.47s/it]"
     ]
    },
    {
     "name": "stdout",
     "output_type": "stream",
     "text": [
      "data_stm is empty (could not compute stm, skipping :  IA1pm_Feb3_30Hz  )\n",
      "DATA_STM:  (44, 901, 128, 128)\n",
      "    denoising data (pca.transofrm(X)) \n",
      "        done denoising data\n",
      "DATA_STM:  (44, 901, 128, 128)\n",
      "    denoising data (pca.transofrm(X)) \n",
      "        done denoising data\n"
     ]
    },
    {
     "name": "stderr",
     "output_type": "stream",
     "text": [
      "\r",
      "  6%|▌         | 4/71 [14:10<3:25:19, 183.87s/it]"
     ]
    },
    {
     "name": "stdout",
     "output_type": "stream",
     "text": [
      "data_stm is empty (could not compute stm, skipping :  IA1pm_Feb4_30Hz  )\n",
      "DATA_STM:  (27, 901, 128, 128)\n",
      "    denoising data (pca.transofrm(X)) \n",
      "        done denoising data\n",
      "DATA_STM:  (27, 901, 128, 128)\n",
      "    denoising data (pca.transofrm(X)) \n",
      "        done denoising data\n"
     ]
    },
    {
     "name": "stderr",
     "output_type": "stream",
     "text": [
      "\r",
      "  7%|▋         | 5/71 [15:24<2:38:41, 144.26s/it]"
     ]
    },
    {
     "name": "stdout",
     "output_type": "stream",
     "text": [
      "data_stm is empty (could not compute stm, skipping :  IA1pm_Feb5_30Hz  )\n",
      "DATA_STM:  (77, 901, 128, 128)\n",
      "    denoising data (pca.transofrm(X)) \n",
      "        done denoising data\n",
      "DATA_STM:  (77, 901, 128, 128)\n",
      "    denoising data (pca.transofrm(X)) \n",
      "        done denoising data\n"
     ]
    },
    {
     "name": "stderr",
     "output_type": "stream",
     "text": [
      "\r",
      "  8%|▊         | 6/71 [22:53<4:28:39, 247.99s/it]"
     ]
    },
    {
     "name": "stdout",
     "output_type": "stream",
     "text": [
      "data_stm is empty (could not compute stm, skipping :  IA1pm_Feb9_30Hz  )\n",
      "DATA_STM:  (28, 901, 128, 128)\n",
      "    denoising data (pca.transofrm(X)) \n",
      "        done denoising data\n",
      "DATA_STM:  (28, 901, 128, 128)\n",
      "    denoising data (pca.transofrm(X)) \n",
      "        done denoising data\n"
     ]
    },
    {
     "name": "stderr",
     "output_type": "stream",
     "text": [
      "\r",
      " 10%|▉         | 7/71 [24:11<3:25:15, 192.43s/it]"
     ]
    },
    {
     "name": "stdout",
     "output_type": "stream",
     "text": [
      "data_stm is empty (could not compute stm, skipping :  IA1pm_Feb10_30Hz  )\n",
      "DATA_STM:  (34, 901, 128, 128)\n",
      "    denoising data (pca.transofrm(X)) \n",
      "        done denoising data\n",
      "DATA_STM:  (34, 901, 128, 128)\n",
      "    denoising data (pca.transofrm(X)) \n",
      "        done denoising data\n"
     ]
    },
    {
     "name": "stderr",
     "output_type": "stream",
     "text": [
      "\r",
      " 11%|█▏        | 8/71 [25:51<2:51:07, 162.97s/it]"
     ]
    },
    {
     "name": "stdout",
     "output_type": "stream",
     "text": [
      "data_stm is empty (could not compute stm, skipping :  IA1pm_Feb11_30Hz  )\n",
      "DATA_STM:  (59, 901, 128, 128)\n",
      "    denoising data (pca.transofrm(X)) \n",
      "        done denoising data\n",
      "DATA_STM:  (59, 901, 128, 128)\n",
      "    denoising data (pca.transofrm(X)) \n",
      "        done denoising data\n"
     ]
    },
    {
     "name": "stderr",
     "output_type": "stream",
     "text": [
      "\r",
      " 13%|█▎        | 9/71 [30:12<3:19:57, 193.51s/it]"
     ]
    },
    {
     "name": "stdout",
     "output_type": "stream",
     "text": [
      "data_stm is empty (could not compute stm, skipping :  IA1pm_Feb12_30Hz  )\n",
      "DATA_STM:  (48, 901, 128, 128)\n",
      "    denoising data (pca.transofrm(X)) \n",
      "        done denoising data\n",
      "DATA_STM:  (48, 901, 128, 128)\n",
      "    denoising data (pca.transofrm(X)) \n",
      "        done denoising data\n"
     ]
    },
    {
     "name": "stderr",
     "output_type": "stream",
     "text": [
      "\r",
      " 14%|█▍        | 10/71 [33:12<3:12:33, 189.41s/it]"
     ]
    },
    {
     "name": "stdout",
     "output_type": "stream",
     "text": [
      "data_stm is empty (could not compute stm, skipping :  IA1pm_Feb15_30Hz  )\n",
      "DATA_STM:  (61, 901, 128, 128)\n",
      "    denoising data (pca.transofrm(X)) \n",
      "        done denoising data\n",
      "DATA_STM:  (61, 901, 128, 128)\n",
      "    denoising data (pca.transofrm(X)) \n",
      "        done denoising data\n"
     ]
    },
    {
     "name": "stderr",
     "output_type": "stream",
     "text": [
      "\r",
      " 15%|█▌        | 11/71 [38:57<3:57:04, 237.08s/it]"
     ]
    },
    {
     "name": "stdout",
     "output_type": "stream",
     "text": [
      "data_stm is empty (could not compute stm, skipping :  IA1pm_Feb16_30Hz  )\n",
      "DATA_STM:  (18, 901, 128, 128)\n",
      "    denoising data (pca.transofrm(X)) \n",
      "        done denoising data\n",
      "DATA_STM:  (18, 901, 128, 128)\n",
      "    denoising data (pca.transofrm(X)) \n",
      "        done denoising data\n"
     ]
    },
    {
     "name": "stderr",
     "output_type": "stream",
     "text": [
      "\r",
      " 17%|█▋        | 12/71 [39:58<3:00:35, 183.66s/it]"
     ]
    },
    {
     "name": "stdout",
     "output_type": "stream",
     "text": [
      "data_stm is empty (could not compute stm, skipping :  IA1pm_Feb17_30Hz  )\n",
      "No video available:  IA1pm_Feb18_30Hz\n",
      " ... session has no lever pulls  IA1pm_Feb18_30Hz\n",
      "No video available:  IA1pm_Feb19_30Hz\n",
      " ... session has no lever pulls  IA1pm_Feb19_30Hz\n",
      "No video available:  IA1pm_Feb22_30Hz\n",
      " ... session has no lever pulls  IA1pm_Feb22_30Hz\n",
      "No video available:  IA1pm_Feb23_30Hz\n",
      " ... session has no lever pulls  IA1pm_Feb23_30Hz\n",
      "No video available:  IA1pm_Feb24_30Hz\n",
      " ... session has no lever pulls  IA1pm_Feb24_30Hz\n",
      "No video available:  IA1pm_Feb25_30Hz\n",
      " ... session has no lever pulls  IA1pm_Feb25_30Hz\n",
      "No video available:  IA1pm_Feb26_30Hz\n",
      " ... session has no lever pulls  IA1pm_Feb26_30Hz\n",
      "No video available:  IA1pm_Feb29_30Hz\n",
      " ... session has no lever pulls  IA1pm_Feb29_30Hz\n",
      "No video available:  IA1pm_Mar1_30Hz\n",
      " ... session has no lever pulls  IA1pm_Mar1_30Hz\n",
      "No video available:  IA1pm_Mar2_30Hz\n",
      " ... session has no lever pulls  IA1pm_Mar2_30Hz\n",
      "No video available:  IA1pm_Mar3_30Hz\n",
      " ... session has no lever pulls  IA1pm_Mar3_30Hz\n",
      "No video available:  IA1am_Mar4_30Hz\n",
      " ... session has no lever pulls  IA1am_Mar4_30Hz\n",
      "No video available:  IA1am_Mar7_30Hz\n",
      " ... session has no lever pulls  IA1am_Mar7_30Hz\n",
      "No video available:  IA1pm_Mar8_30Hz\n",
      " ... session has no lever pulls  IA1pm_Mar8_30Hz\n",
      "No video available:  IA1am_Mar9_30Hz\n",
      " ... session has no lever pulls  IA1am_Mar9_30Hz\n",
      "No video available:  IA1am_Mar10_30Hz\n",
      " ... session has no lever pulls  IA1am_Mar10_30Hz\n",
      "No video available:  IA1am_Mar11_30Hz\n",
      " ... session has no lever pulls  IA1am_Mar11_30Hz\n",
      "No video available:  IA1pm_Mar14_30Hz\n",
      " ... session has no lever pulls  IA1pm_Mar14_30Hz\n",
      "No video available:  IA1am_Mar15_30Hz\n",
      " ... session has no lever pulls  IA1am_Mar15_30Hz\n",
      "No video available:  IA1pm_Mar16_30Hz\n",
      " ... session has no lever pulls  IA1pm_Mar16_30Hz\n",
      "No video available:  IA1pm_Mar17_30Hz\n",
      " ... session has no lever pulls  IA1pm_Mar17_30Hz\n",
      "No video available:  IA1pm_Mar18_30Hz\n",
      " ... session has no lever pulls  IA1pm_Mar18_30Hz\n",
      "No video available:  IA1pm_Mar21_30Hz\n",
      " ... session has no lever pulls  IA1pm_Mar21_30Hz\n",
      "No video available:  IA1pm_Mar22_30Hz\n",
      " ... session has no lever pulls  IA1pm_Mar22_30Hz\n",
      "No video available:  IA1pm_Mar23_30Hz\n",
      " ... session has no lever pulls  IA1pm_Mar23_30Hz\n",
      "No video available:  IA1pm_Mar24_30Hz\n",
      " ... session has no lever pulls  IA1pm_Mar24_30Hz\n",
      "No video available:  IA1pm_Mar29_30Hz\n",
      " ... session has no lever pulls  IA1pm_Mar29_30Hz\n",
      "No video available:  IA1pm_Mar30_30Hz\n",
      " ... session has no lever pulls  IA1pm_Mar30_30Hz\n",
      "No video available:  IA1pm_Mar31_30Hz\n",
      " ... session has no lever pulls  IA1pm_Mar31_30Hz\n",
      "No video available:  IA1pm_Apr1_30Hz\n",
      " ... session has no lever pulls  IA1pm_Apr1_30Hz\n",
      "No video available:  IA1pm_Apr4_30Hz\n",
      " ... session has no lever pulls  IA1pm_Apr4_30Hz\n",
      "No video available:  IA1pm_Apr5_30Hz\n",
      " ... session has no lever pulls  IA1pm_Apr5_30Hz\n",
      "No video available:  IA1pm_Apr6_30Hz\n",
      " ... session has no lever pulls  IA1pm_Apr6_30Hz\n",
      "No video available:  IA1pm_Apr7_30Hz\n",
      " ... session has no lever pulls  IA1pm_Apr7_30Hz\n",
      "No video available:  IA1pm_Apr11_Day3_30Hz\n",
      " ... session has no lever pulls  IA1pm_Apr11_Day3_30Hz\n",
      "No video available:  IA1pm_Apr13_Day5_30Hz\n",
      " ... session has no lever pulls  IA1pm_Apr13_Day5_30Hz\n",
      "No video available:  IA1pm_Apr15_Day7_30Hz\n",
      " ... session has no lever pulls  IA1pm_Apr15_Day7_30Hz\n",
      "No video available:  IA1pm_Apr18_Week2_30Hz\n",
      " ... session has no lever pulls  IA1pm_Apr18_Week2_30Hz\n",
      "No video available:  IA1pm_Apr19_Week2_30Hz\n",
      " ... session has no lever pulls  IA1pm_Apr19_Week2_30Hz\n",
      "No video available:  IA1pm_Apr20_Week2_30Hz\n",
      " ... session has no lever pulls  IA1pm_Apr20_Week2_30Hz\n",
      "DATA_STM:  (37, 901, 128, 128)\n",
      "    denoising data (pca.transofrm(X)) \n",
      "        done denoising data\n",
      "DATA_STM:  (37, 901, 128, 128)\n",
      "    denoising data (pca.transofrm(X)) \n",
      "        done denoising data\n"
     ]
    },
    {
     "name": "stderr",
     "output_type": "stream",
     "text": [
      "\r",
      " 75%|███████▍  | 53/71 [42:59<04:10, 13.93s/it]   "
     ]
    },
    {
     "name": "stdout",
     "output_type": "stream",
     "text": [
      "data_stm is empty (could not compute stm, skipping :  IA1pm_Apr21_Week2_30Hz  )\n",
      "DATA_STM:  (33, 901, 128, 128)\n",
      "    denoising data (pca.transofrm(X)) \n",
      "        done denoising data\n",
      "DATA_STM:  (33, 901, 128, 128)\n",
      "    denoising data (pca.transofrm(X)) \n",
      "        done denoising data\n"
     ]
    },
    {
     "name": "stderr",
     "output_type": "stream",
     "text": [
      "\r",
      " 76%|███████▌  | 54/71 [45:34<05:13, 18.43s/it]"
     ]
    },
    {
     "name": "stdout",
     "output_type": "stream",
     "text": [
      "data_stm is empty (could not compute stm, skipping :  IA1pm_Apr22_Week2_30Hz  )\n",
      "DATA_STM:  (17, 901, 128, 128)\n",
      "    denoising data (pca.transofrm(X)) \n",
      "        done denoising data\n",
      "DATA_STM:  (17, 901, 128, 128)\n",
      "    denoising data (pca.transofrm(X)) \n",
      "        done denoising data\n"
     ]
    },
    {
     "name": "stderr",
     "output_type": "stream",
     "text": [
      "\r",
      " 77%|███████▋  | 55/71 [46:23<05:16, 19.77s/it]"
     ]
    },
    {
     "name": "stdout",
     "output_type": "stream",
     "text": [
      "data_stm is empty (could not compute stm, skipping :  IA1pm_Apr25_Week3_30Hz  )\n",
      "DATA_STM:  (19, 901, 128, 128)\n",
      "    denoising data (pca.transofrm(X)) \n",
      "        done denoising data\n",
      "DATA_STM:  (19, 901, 128, 128)\n",
      "    denoising data (pca.transofrm(X)) \n",
      "        done denoising data\n"
     ]
    },
    {
     "name": "stderr",
     "output_type": "stream",
     "text": [
      "\r",
      " 79%|███████▉  | 56/71 [47:37<05:44, 22.94s/it]"
     ]
    },
    {
     "name": "stdout",
     "output_type": "stream",
     "text": [
      "data_stm is empty (could not compute stm, skipping :  IA1pm_Apr26_Week3_30Hz  )\n",
      "DATA_STM:  (18, 901, 128, 128)\n",
      "    denoising data (pca.transofrm(X)) \n",
      "        done denoising data\n",
      "DATA_STM:  (18, 901, 128, 128)\n",
      "    denoising data (pca.transofrm(X)) \n",
      "        done denoising data\n"
     ]
    },
    {
     "name": "stderr",
     "output_type": "stream",
     "text": [
      "\r",
      " 80%|████████  | 57/71 [48:44<06:09, 26.40s/it]"
     ]
    },
    {
     "name": "stdout",
     "output_type": "stream",
     "text": [
      "data_stm is empty (could not compute stm, skipping :  IA1pm_Apr27_Week3_30Hz  )\n",
      "DATA_STM:  (29, 901, 128, 128)\n",
      "    denoising data (pca.transofrm(X)) \n",
      "        done denoising data\n",
      "DATA_STM:  (29, 901, 128, 128)\n",
      "    denoising data (pca.transofrm(X)) \n",
      "        done denoising data\n"
     ]
    },
    {
     "name": "stderr",
     "output_type": "stream",
     "text": [
      "\r",
      " 82%|████████▏ | 58/71 [50:46<07:46, 35.87s/it]"
     ]
    },
    {
     "name": "stdout",
     "output_type": "stream",
     "text": [
      "data_stm is empty (could not compute stm, skipping :  IA1pm_Apr28_Week3_30Hz  )\n",
      "DATA_STM:  (33, 901, 128, 128)\n",
      "    denoising data (pca.transofrm(X)) \n",
      "        done denoising data\n",
      "DATA_STM:  (33, 901, 128, 128)\n",
      "    denoising data (pca.transofrm(X)) \n",
      "        done denoising data\n"
     ]
    },
    {
     "name": "stderr",
     "output_type": "stream",
     "text": [
      "\r",
      " 83%|████████▎ | 59/71 [53:08<09:49, 49.11s/it]"
     ]
    },
    {
     "name": "stdout",
     "output_type": "stream",
     "text": [
      "data_stm is empty (could not compute stm, skipping :  IA1pm_Apr29_Week3_30Hz  )\n",
      "DATA_STM:  (42, 901, 128, 128)\n",
      "    denoising data (pca.transofrm(X)) \n",
      "        done denoising data\n",
      "DATA_STM:  (42, 901, 128, 128)\n",
      "    denoising data (pca.transofrm(X)) \n",
      "        done denoising data\n"
     ]
    },
    {
     "name": "stderr",
     "output_type": "stream",
     "text": [
      "\r",
      " 85%|████████▍ | 60/71 [56:49<13:45, 75.03s/it]"
     ]
    },
    {
     "name": "stdout",
     "output_type": "stream",
     "text": [
      "data_stm is empty (could not compute stm, skipping :  IA1am_May2_Week4_30Hz  )\n",
      "No video available:  IA1am_May4_Week4_30Hz\n",
      " ... session has no lever pulls  IA1am_May4_Week4_30Hz\n",
      "DATA_STM:  (22, 901, 128, 128)\n",
      "    denoising data (pca.transofrm(X)) \n",
      "        done denoising data\n",
      "DATA_STM:  (22, 901, 128, 128)\n",
      "    denoising data (pca.transofrm(X)) \n",
      "        done denoising data\n"
     ]
    },
    {
     "name": "stderr",
     "output_type": "stream",
     "text": [
      "\r",
      " 87%|████████▋ | 62/71 [58:09<09:40, 64.50s/it]"
     ]
    },
    {
     "name": "stdout",
     "output_type": "stream",
     "text": [
      "data_stm is empty (could not compute stm, skipping :  IA1am_May5_Week4_30Hz  )\n",
      "DATA_STM:  (10, 901, 128, 128)\n",
      "    denoising data (pca.transofrm(X)) \n",
      "        done denoising data\n",
      "DATA_STM:  (10, 901, 128, 128)\n",
      "    denoising data (pca.transofrm(X)) \n",
      "        done denoising data\n"
     ]
    },
    {
     "name": "stderr",
     "output_type": "stream",
     "text": [
      "\r",
      " 89%|████████▊ | 63/71 [58:47<07:58, 59.76s/it]"
     ]
    },
    {
     "name": "stdout",
     "output_type": "stream",
     "text": [
      "data_stm is empty (could not compute stm, skipping :  IA1am_May6_Week4_30Hz  )\n",
      "DATA_STM:  (12, 901, 128, 128)\n",
      "    denoising data (pca.transofrm(X)) \n",
      "        done denoising data\n",
      "DATA_STM:  (12, 901, 128, 128)\n",
      "    denoising data (pca.transofrm(X)) \n",
      "        done denoising data\n"
     ]
    },
    {
     "name": "stderr",
     "output_type": "stream",
     "text": [
      "\r",
      " 90%|█████████ | 64/71 [59:29<06:33, 56.20s/it]"
     ]
    },
    {
     "name": "stdout",
     "output_type": "stream",
     "text": [
      "data_stm is empty (could not compute stm, skipping :  IA1am_May9_Week5_30Hz  )\n",
      "DATA_STM:  (33, 901, 128, 128)\n",
      "    denoising data (pca.transofrm(X)) \n",
      "        done denoising data\n",
      "DATA_STM:  (33, 901, 128, 128)\n",
      "    denoising data (pca.transofrm(X)) \n",
      "        done denoising data\n"
     ]
    },
    {
     "name": "stderr",
     "output_type": "stream",
     "text": [
      "\r",
      " 92%|█████████▏| 65/71 [1:02:07<07:53, 78.87s/it]"
     ]
    },
    {
     "name": "stdout",
     "output_type": "stream",
     "text": [
      "data_stm is empty (could not compute stm, skipping :  IA1am_May10_Week5_30Hz  )\n",
      "DATA_STM:  (15, 901, 128, 128)\n",
      "    denoising data (pca.transofrm(X)) \n",
      "        done denoising data\n",
      "DATA_STM:  (15, 901, 128, 128)\n",
      "    denoising data (pca.transofrm(X)) \n",
      "        done denoising data\n"
     ]
    },
    {
     "name": "stderr",
     "output_type": "stream",
     "text": [
      "\r",
      " 93%|█████████▎| 66/71 [1:02:59<06:01, 72.39s/it]"
     ]
    },
    {
     "name": "stdout",
     "output_type": "stream",
     "text": [
      "data_stm is empty (could not compute stm, skipping :  IA1am_May12_Week5_30Hz  )\n",
      "DATA_STM:  (43, 901, 128, 128)\n",
      "    denoising data (pca.transofrm(X)) \n",
      "        done denoising data\n",
      "DATA_STM:  (43, 901, 128, 128)\n",
      "    denoising data (pca.transofrm(X)) \n",
      "        done denoising data\n"
     ]
    },
    {
     "name": "stderr",
     "output_type": "stream",
     "text": [
      "\r",
      " 94%|█████████▍| 67/71 [1:07:56<08:40, 130.24s/it]"
     ]
    },
    {
     "name": "stdout",
     "output_type": "stream",
     "text": [
      "data_stm is empty (could not compute stm, skipping :  IA1am_May13_Week5_30Hz  )\n",
      "DATA_STM:  (33, 901, 128, 128)\n",
      "    denoising data (pca.transofrm(X)) \n",
      "        done denoising data\n",
      "DATA_STM:  (33, 901, 128, 128)\n",
      "    denoising data (pca.transofrm(X)) \n",
      "        done denoising data\n"
     ]
    },
    {
     "name": "stderr",
     "output_type": "stream",
     "text": [
      "\r",
      " 96%|█████████▌| 68/71 [1:11:10<07:22, 147.37s/it]"
     ]
    },
    {
     "name": "stdout",
     "output_type": "stream",
     "text": [
      "data_stm is empty (could not compute stm, skipping :  IA1am_May16_Week6_30Hz  )\n",
      "DATA_STM:  (31, 901, 128, 128)\n",
      "    denoising data (pca.transofrm(X)) \n",
      "        done denoising data\n",
      "DATA_STM:  (31, 901, 128, 128)\n",
      "    denoising data (pca.transofrm(X)) \n",
      "        done denoising data\n"
     ]
    },
    {
     "name": "stderr",
     "output_type": "stream",
     "text": [
      "\r",
      " 97%|█████████▋| 69/71 [1:13:50<05:01, 150.79s/it]"
     ]
    },
    {
     "name": "stdout",
     "output_type": "stream",
     "text": [
      "data_stm is empty (could not compute stm, skipping :  IA1am_May17_Week6_30Hz  )\n",
      "DATA_STM:  (40, 901, 128, 128)\n",
      "    denoising data (pca.transofrm(X)) \n",
      "        done denoising data\n",
      "DATA_STM:  (40, 901, 128, 128)\n",
      "    denoising data (pca.transofrm(X)) \n",
      "        done denoising data\n"
     ]
    },
    {
     "name": "stderr",
     "output_type": "stream",
     "text": [
      "\r",
      " 99%|█████████▊| 70/71 [1:16:41<02:36, 156.47s/it]"
     ]
    },
    {
     "name": "stdout",
     "output_type": "stream",
     "text": [
      "data_stm is empty (could not compute stm, skipping :  IA1am_May18_Week6_30Hz  )\n",
      "DATA_STM:  (44, 901, 128, 128)\n",
      "    denoising data (pca.transofrm(X)) \n",
      "        done denoising data\n",
      "DATA_STM:  (44, 901, 128, 128)\n",
      "    denoising data (pca.transofrm(X)) \n",
      "        done denoising data\n"
     ]
    },
    {
     "name": "stderr",
     "output_type": "stream",
     "text": [
      "100%|██████████| 71/71 [1:19:40<00:00, 67.34s/it] \n",
      "  0%|          | 0/44 [00:00<?, ?it/s]"
     ]
    },
    {
     "name": "stdout",
     "output_type": "stream",
     "text": [
      "data_stm is empty (could not compute stm, skipping :  IA1am_May20_Week6_30Hz  )\n",
      "PROCESSING:  IA2\n",
      "DATA_STM:  (36, 901, 128, 128)\n",
      "    denoising data (pca.transofrm(X)) \n",
      "        done denoising data\n",
      "DATA_STM:  (36, 901, 128, 128)\n",
      "    denoising data (pca.transofrm(X)) \n",
      "        done denoising data\n"
     ]
    },
    {
     "name": "stderr",
     "output_type": "stream",
     "text": [
      "\r",
      "  2%|▏         | 1/44 [02:09<1:32:34, 129.17s/it]"
     ]
    },
    {
     "name": "stdout",
     "output_type": "stream",
     "text": [
      "data_stm is empty (could not compute stm, skipping :  IA2pm_Feb1_30Hz  )\n",
      "DATA_STM:  (55, 901, 128, 128)\n",
      "    denoising data (pca.transofrm(X)) \n",
      "        done denoising data\n",
      "DATA_STM:  (55, 901, 128, 128)\n",
      "    denoising data (pca.transofrm(X)) \n",
      "        done denoising data\n"
     ]
    },
    {
     "name": "stderr",
     "output_type": "stream",
     "text": [
      "\r",
      "  5%|▍         | 2/44 [06:32<2:25:30, 207.86s/it]"
     ]
    },
    {
     "name": "stdout",
     "output_type": "stream",
     "text": [
      "data_stm is empty (could not compute stm, skipping :  IA2pm_Feb2_30Hz  )\n",
      "DATA_STM:  (45, 901, 128, 128)\n",
      "    denoising data (pca.transofrm(X)) \n",
      "        done denoising data\n",
      "DATA_STM:  (45, 901, 128, 128)\n",
      "    denoising data (pca.transofrm(X)) \n",
      "        done denoising data\n"
     ]
    },
    {
     "name": "stderr",
     "output_type": "stream",
     "text": [
      "\r",
      "  7%|▋         | 3/44 [09:28<2:12:17, 193.60s/it]"
     ]
    },
    {
     "name": "stdout",
     "output_type": "stream",
     "text": [
      "data_stm is empty (could not compute stm, skipping :  IA2pm_Feb3_30Hz  )\n",
      "DATA_STM:  (31, 901, 128, 128)\n",
      "    denoising data (pca.transofrm(X)) \n",
      "        done denoising data\n",
      "DATA_STM:  (31, 901, 128, 128)\n",
      "    denoising data (pca.transofrm(X)) \n",
      "        done denoising data\n"
     ]
    },
    {
     "name": "stderr",
     "output_type": "stream",
     "text": [
      "\r",
      "  9%|▉         | 4/44 [11:08<1:44:18, 156.47s/it]"
     ]
    },
    {
     "name": "stdout",
     "output_type": "stream",
     "text": [
      "data_stm is empty (could not compute stm, skipping :  IA2pm_Feb4_30Hz  )\n",
      "DATA_STM:  (17, 901, 128, 128)\n",
      "    denoising data (pca.transofrm(X)) \n",
      "        done denoising data\n",
      "DATA_STM:  (17, 901, 128, 128)\n",
      "    denoising data (pca.transofrm(X)) \n",
      "        done denoising data\n"
     ]
    },
    {
     "name": "stderr",
     "output_type": "stream",
     "text": [
      "\r",
      " 11%|█▏        | 5/44 [11:53<1:15:38, 116.38s/it]"
     ]
    },
    {
     "name": "stdout",
     "output_type": "stream",
     "text": [
      "data_stm is empty (could not compute stm, skipping :  IA2pm_Feb5_30Hz  )\n",
      "DATA_STM:  (48, 901, 128, 128)\n",
      "    denoising data (pca.transofrm(X)) \n",
      "        done denoising data\n",
      "DATA_STM:  (48, 901, 128, 128)\n",
      "    denoising data (pca.transofrm(X)) \n",
      "        done denoising data\n"
     ]
    },
    {
     "name": "stderr",
     "output_type": "stream",
     "text": [
      "\r",
      " 14%|█▎        | 6/44 [15:20<1:33:15, 147.25s/it]"
     ]
    },
    {
     "name": "stdout",
     "output_type": "stream",
     "text": [
      "data_stm is empty (could not compute stm, skipping :  IA2pm_Feb9_30Hz  )\n",
      "DATA_STM:  (4, 901, 128, 128)\n",
      "    denoising data (pca.transofrm(X)) \n",
      "        done denoising data\n",
      "DATA_STM:  (4, 901, 128, 128)\n",
      "    denoising data (pca.transofrm(X)) \n",
      "        done denoising data\n"
     ]
    },
    {
     "name": "stderr",
     "output_type": "stream",
     "text": [
      "\r",
      " 16%|█▌        | 7/44 [15:38<1:04:36, 104.78s/it]"
     ]
    },
    {
     "name": "stdout",
     "output_type": "stream",
     "text": [
      "data_stm is empty (could not compute stm, skipping :  IA2pm_Feb10_30Hz  )\n",
      "DATA_STM:  (55, 901, 128, 128)\n",
      "    denoising data (pca.transofrm(X)) \n",
      "        done denoising data\n",
      "DATA_STM:  (55, 901, 128, 128)\n",
      "    denoising data (pca.transofrm(X)) \n",
      "        done denoising data\n"
     ]
    },
    {
     "name": "stderr",
     "output_type": "stream",
     "text": [
      "\r",
      " 18%|█▊        | 8/44 [19:50<1:31:02, 151.75s/it]"
     ]
    },
    {
     "name": "stdout",
     "output_type": "stream",
     "text": [
      "data_stm is empty (could not compute stm, skipping :  IA2pm_Feb11_30Hz  )\n",
      "DATA_STM:  (60, 901, 128, 128)\n",
      "    denoising data (pca.transofrm(X)) \n",
      "        done denoising data\n",
      "DATA_STM:  (60, 901, 128, 128)\n",
      "    denoising data (pca.transofrm(X)) \n",
      "        done denoising data\n"
     ]
    },
    {
     "name": "stderr",
     "output_type": "stream",
     "text": [
      "\r",
      " 20%|██        | 9/44 [24:51<1:55:41, 198.34s/it]"
     ]
    },
    {
     "name": "stdout",
     "output_type": "stream",
     "text": [
      "data_stm is empty (could not compute stm, skipping :  IA2pm_Feb12_30Hz  )\n",
      "DATA_STM:  (37, 901, 128, 128)\n",
      "    denoising data (pca.transofrm(X)) \n",
      "        done denoising data\n",
      "DATA_STM:  (37, 901, 128, 128)\n",
      "    denoising data (pca.transofrm(X)) \n",
      "        done denoising data\n"
     ]
    },
    {
     "name": "stderr",
     "output_type": "stream",
     "text": [
      "\r",
      " 23%|██▎       | 10/44 [27:00<1:40:19, 177.05s/it]"
     ]
    },
    {
     "name": "stdout",
     "output_type": "stream",
     "text": [
      "data_stm is empty (could not compute stm, skipping :  IA2pm_Feb15_30Hz  )\n",
      "DATA_STM:  (36, 901, 128, 128)\n",
      "    denoising data (pca.transofrm(X)) \n",
      "        done denoising data\n",
      "DATA_STM:  (36, 901, 128, 128)\n",
      "    denoising data (pca.transofrm(X)) \n",
      "        done denoising data\n"
     ]
    },
    {
     "name": "stderr",
     "output_type": "stream",
     "text": [
      "\r",
      " 25%|██▌       | 11/44 [29:09<1:29:18, 162.39s/it]"
     ]
    },
    {
     "name": "stdout",
     "output_type": "stream",
     "text": [
      "data_stm is empty (could not compute stm, skipping :  IA2pm_Feb16_30Hz  )\n",
      "DATA_STM:  (11, 901, 128, 128)\n",
      "    denoising data (pca.transofrm(X)) \n",
      "        done denoising data\n",
      "DATA_STM:  (11, 901, 128, 128)\n",
      "    denoising data (pca.transofrm(X)) \n",
      "        done denoising data\n"
     ]
    },
    {
     "name": "stderr",
     "output_type": "stream",
     "text": [
      "100%|██████████| 44/44 [29:40<00:00, 40.47s/it]   \n",
      "  0%|          | 0/44 [00:00<?, ?it/s]"
     ]
    },
    {
     "name": "stdout",
     "output_type": "stream",
     "text": [
      "data_stm is empty (could not compute stm, skipping :  IA2pm_Feb17_30Hz  )\n",
      "No video available:  IA2pm_Feb18_30Hz\n",
      " ... session has no lever pulls  IA2pm_Feb18_30Hz\n",
      "No video available:  IA2pm_Feb19_30Hz\n",
      " ... session has no lever pulls  IA2pm_Feb19_30Hz\n",
      "No video available:  IA2pm_Feb22_30Hz\n",
      " ... session has no lever pulls  IA2pm_Feb22_30Hz\n",
      "No video available:  IA2pm_Feb23_30Hz\n",
      " ... session has no lever pulls  IA2pm_Feb23_30Hz\n",
      "No video available:  IA2pm_Feb24_30Hz\n",
      " ... session has no lever pulls  IA2pm_Feb24_30Hz\n",
      "No video available:  IA2pm_Feb25_30Hz\n",
      " ... session has no lever pulls  IA2pm_Feb25_30Hz\n",
      "No video available:  IA2pm_Feb26_30Hz\n",
      " ... session has no lever pulls  IA2pm_Feb26_30Hz\n",
      "No video available:  IA2pm_Feb29_30Hz\n",
      " ... session has no lever pulls  IA2pm_Feb29_30Hz\n",
      "No video available:  IA2pm_Mar1_30Hz\n",
      " ... session has no lever pulls  IA2pm_Mar1_30Hz\n",
      "No video available:  IA2pm_Mar2_30Hz\n",
      " ... session has no lever pulls  IA2pm_Mar2_30Hz\n",
      "No video available:  IA2pm_Mar3_30Hz\n",
      " ... session has no lever pulls  IA2pm_Mar3_30Hz\n",
      "No video available:  IA2am_Mar4_30Hz\n",
      " ... session has no lever pulls  IA2am_Mar4_30Hz\n",
      "No video available:  IA2am_Mar7_30Hz\n",
      " ... session has no lever pulls  IA2am_Mar7_30Hz\n",
      "No video available:  IA2pm_Mar8_30Hz\n",
      " ... session has no lever pulls  IA2pm_Mar8_30Hz\n",
      "No video available:  IA2am_Mar9_30Hz\n",
      " ... session has no lever pulls  IA2am_Mar9_30Hz\n",
      "No video available:  IA2am_Mar10_30Hz\n",
      " ... session has no lever pulls  IA2am_Mar10_30Hz\n",
      "No video available:  IA2am_Mar11_30Hz\n",
      " ... session has no lever pulls  IA2am_Mar11_30Hz\n",
      "No video available:  IA2pm_Mar14_30Hz\n",
      " ... session has no lever pulls  IA2pm_Mar14_30Hz\n",
      "No video available:  IA2am_Mar15_30Hz\n",
      " ... session has no lever pulls  IA2am_Mar15_30Hz\n",
      "No video available:  IA2pm_Mar16_30Hz\n",
      " ... session has no lever pulls  IA2pm_Mar16_30Hz\n",
      "No video available:  IA2pm_Mar17_30Hz\n",
      " ... session has no lever pulls  IA2pm_Mar17_30Hz\n",
      "No video available:  IA2pm_Mar18_30Hz\n",
      " ... session has no lever pulls  IA2pm_Mar18_30Hz\n",
      "No video available:  IA2pm_Mar21_30Hz\n",
      " ... session has no lever pulls  IA2pm_Mar21_30Hz\n",
      "No video available:  IA2pm_Mar23_30Hz\n",
      " ... session has no lever pulls  IA2pm_Mar23_30Hz\n",
      "No video available:  IA2pm_Mar24_30Hz\n",
      " ... session has no lever pulls  IA2pm_Mar24_30Hz\n",
      "No video available:  IA2pm_Mar29_30Hz\n",
      " ... session has no lever pulls  IA2pm_Mar29_30Hz\n",
      "No video available:  IA2pm_Mar30_30Hz\n",
      " ... session has no lever pulls  IA2pm_Mar30_30Hz\n",
      "No video available:  IA2pm_Mar31_30Hz\n",
      " ... session has no lever pulls  IA2pm_Mar31_30Hz\n",
      "No video available:  IA2pm_Apr1_30Hz\n",
      " ... session has no lever pulls  IA2pm_Apr1_30Hz\n",
      "No video available:  IA2pm_Apr4_30Hz\n",
      " ... session has no lever pulls  IA2pm_Apr4_30Hz\n",
      "No video available:  IA2pm_Apr5_30Hz\n",
      " ... session has no lever pulls  IA2pm_Apr5_30Hz\n",
      "No video available:  IA2pm_Apr6_30Hz\n",
      " ... session has no lever pulls  IA2pm_Apr6_30Hz\n",
      "PROCESSING:  IA3\n",
      "DATA_STM:  (44, 901, 128, 128)\n",
      "    denoising data (pca.transofrm(X)) \n",
      "        done denoising data\n",
      "DATA_STM:  (44, 901, 128, 128)\n",
      "    denoising data (pca.transofrm(X)) \n",
      "        done denoising data\n"
     ]
    },
    {
     "name": "stderr",
     "output_type": "stream",
     "text": [
      "\r",
      "  2%|▏         | 1/44 [03:03<2:11:43, 183.80s/it]"
     ]
    },
    {
     "name": "stdout",
     "output_type": "stream",
     "text": [
      "data_stm is empty (could not compute stm, skipping :  IA3pm_Feb1_30Hz  )\n",
      "DATA_STM:  (50, 901, 128, 128)\n",
      "    denoising data (pca.transofrm(X)) \n",
      "        done denoising data\n",
      "DATA_STM:  (50, 901, 128, 128)\n",
      "    denoising data (pca.transofrm(X)) \n",
      "        done denoising data\n"
     ]
    },
    {
     "name": "stderr",
     "output_type": "stream",
     "text": [
      "\r",
      "  5%|▍         | 2/44 [07:59<2:54:39, 249.51s/it]"
     ]
    },
    {
     "name": "stdout",
     "output_type": "stream",
     "text": [
      "data_stm is empty (could not compute stm, skipping :  IA3pm_Feb2_30Hz  )\n",
      "DATA_STM:  (2, 901, 128, 128)\n",
      "    denoising data (pca.transofrm(X)) \n",
      "        done denoising data\n",
      "DATA_STM:  (2, 901, 128, 128)\n",
      "    denoising data (pca.transofrm(X)) \n",
      "        done denoising data\n"
     ]
    },
    {
     "name": "stderr",
     "output_type": "stream",
     "text": [
      "\r",
      "  7%|▋         | 3/44 [08:13<1:37:07, 142.13s/it]"
     ]
    },
    {
     "name": "stdout",
     "output_type": "stream",
     "text": [
      "data_stm is empty (could not compute stm, skipping :  IA3pm_Feb3_30Hz  )\n",
      "DATA_STM:  (9, 901, 128, 128)\n",
      "    denoising data (pca.transofrm(X)) \n",
      "        done denoising data\n",
      "DATA_STM:  (9, 901, 128, 128)\n",
      "    denoising data (pca.transofrm(X)) \n",
      "        done denoising data\n"
     ]
    },
    {
     "name": "stderr",
     "output_type": "stream",
     "text": [
      "\r",
      "  9%|▉         | 4/44 [08:40<1:04:25, 96.64s/it] "
     ]
    },
    {
     "name": "stdout",
     "output_type": "stream",
     "text": [
      "data_stm is empty (could not compute stm, skipping :  IA3pm_Feb4_30Hz  )\n",
      "DATA_STM:  (28, 901, 128, 128)\n",
      "    denoising data (pca.transofrm(X)) \n",
      "        done denoising data\n",
      "DATA_STM:  (28, 901, 128, 128)\n",
      "    denoising data (pca.transofrm(X)) \n",
      "        done denoising data\n"
     ]
    },
    {
     "name": "stderr",
     "output_type": "stream",
     "text": [
      "\r",
      " 11%|█▏        | 5/44 [10:05<1:00:06, 92.48s/it]"
     ]
    },
    {
     "name": "stdout",
     "output_type": "stream",
     "text": [
      "data_stm is empty (could not compute stm, skipping :  IA3pm_Feb9_30Hz  )\n",
      "DATA_STM:  (69, 901, 128, 128)\n",
      "    denoising data (pca.transofrm(X)) \n",
      "        done denoising data\n",
      "DATA_STM:  (69, 901, 128, 128)\n",
      "    denoising data (pca.transofrm(X)) \n",
      "        done denoising data\n"
     ]
    },
    {
     "name": "stderr",
     "output_type": "stream",
     "text": [
      "\r",
      " 14%|█▎        | 6/44 [16:42<2:04:11, 196.08s/it]"
     ]
    },
    {
     "name": "stdout",
     "output_type": "stream",
     "text": [
      "data_stm is empty (could not compute stm, skipping :  IA3pm_Feb10_30Hz  )\n",
      "DATA_STM:  (81, 901, 128, 128)\n",
      "    denoising data (pca.transofrm(X)) \n",
      "        done denoising data\n",
      "DATA_STM:  (81, 901, 128, 128)\n",
      "    denoising data (pca.transofrm(X)) \n",
      "        done denoising data\n"
     ]
    },
    {
     "name": "stderr",
     "output_type": "stream",
     "text": [
      "\r",
      " 16%|█▌        | 7/44 [25:07<3:03:06, 296.93s/it]"
     ]
    },
    {
     "name": "stdout",
     "output_type": "stream",
     "text": [
      "data_stm is empty (could not compute stm, skipping :  IA3pm_Feb11_30Hz  )\n",
      "DATA_STM:  (38, 901, 128, 128)\n",
      "    denoising data (pca.transofrm(X)) \n",
      "        done denoising data\n",
      "DATA_STM:  (38, 901, 128, 128)\n",
      "    denoising data (pca.transofrm(X)) \n",
      "        done denoising data\n"
     ]
    },
    {
     "name": "stderr",
     "output_type": "stream",
     "text": [
      "\r",
      " 18%|█▊        | 8/44 [27:18<2:26:32, 244.24s/it]"
     ]
    },
    {
     "name": "stdout",
     "output_type": "stream",
     "text": [
      "data_stm is empty (could not compute stm, skipping :  IA3pm_Feb12_30Hz  )\n",
      "DATA_STM:  (15, 901, 128, 128)\n",
      "    denoising data (pca.transofrm(X)) \n",
      "        done denoising data\n",
      "DATA_STM:  (15, 901, 128, 128)\n",
      "    denoising data (pca.transofrm(X)) \n",
      "        done denoising data\n"
     ]
    },
    {
     "name": "stderr",
     "output_type": "stream",
     "text": [
      "\r",
      " 20%|██        | 9/44 [27:56<1:44:51, 179.76s/it]"
     ]
    },
    {
     "name": "stdout",
     "output_type": "stream",
     "text": [
      "data_stm is empty (could not compute stm, skipping :  IA3pm_Feb15_30Hz  )\n",
      "DATA_STM:  (5, 901, 128, 128)\n",
      "    denoising data (pca.transofrm(X)) \n",
      "        done denoising data\n",
      "DATA_STM:  (5, 901, 128, 128)\n",
      "    denoising data (pca.transofrm(X)) \n",
      "        done denoising data\n"
     ]
    },
    {
     "name": "stderr",
     "output_type": "stream",
     "text": [
      "\r",
      " 23%|██▎       | 10/44 [28:15<1:13:43, 130.12s/it]"
     ]
    },
    {
     "name": "stdout",
     "output_type": "stream",
     "text": [
      "data_stm is empty (could not compute stm, skipping :  IA3pm_Feb16_30Hz  )\n",
      "DATA_STM:  (18, 901, 128, 128)\n",
      "    denoising data (pca.transofrm(X)) \n",
      "        done denoising data\n",
      "DATA_STM:  (18, 901, 128, 128)\n",
      "    denoising data (pca.transofrm(X)) \n",
      "        done denoising data\n"
     ]
    },
    {
     "name": "stderr",
     "output_type": "stream",
     "text": [
      "100%|██████████| 44/44 [29:04<00:00, 39.65s/it]   \n",
      "  0%|          | 0/44 [00:00<?, ?it/s]"
     ]
    },
    {
     "name": "stdout",
     "output_type": "stream",
     "text": [
      "data_stm is empty (could not compute stm, skipping :  IA3pm_Feb17_30Hz  )\n",
      "No video available:  IA3pm_Feb18_30Hz\n",
      " ... session has no lever pulls  IA3pm_Feb18_30Hz\n",
      "No video available:  IA3pm_Feb19_30Hz\n",
      " ... session has no lever pulls  IA3pm_Feb19_30Hz\n",
      "No video available:  IA3pm_Feb22_30Hz\n",
      " ... session has no lever pulls  IA3pm_Feb22_30Hz\n",
      "No video available:  IA3pm_Feb23_30Hz\n",
      " ... session has no lever pulls  IA3pm_Feb23_30Hz\n",
      "No video available:  IA3pm_Feb24_30Hz\n",
      " ... session has no lever pulls  IA3pm_Feb24_30Hz\n",
      "No video available:  IA3pm_Feb25_30Hz\n",
      " ... session has no lever pulls  IA3pm_Feb25_30Hz\n",
      "No video available:  IA3pm_Feb26_30Hz\n",
      " ... session has no lever pulls  IA3pm_Feb26_30Hz\n",
      "No video available:  IA3pm_Feb29_30Hz\n",
      " ... session has no lever pulls  IA3pm_Feb29_30Hz\n",
      "No video available:  IA3pm_Mar1_30Hz\n",
      " ... session has no lever pulls  IA3pm_Mar1_30Hz\n",
      "No video available:  IA3pm_Mar2_30Hz\n",
      " ... session has no lever pulls  IA3pm_Mar2_30Hz\n",
      "No video available:  IA3pm_Mar3_30Hz\n",
      " ... session has no lever pulls  IA3pm_Mar3_30Hz\n",
      "No video available:  IA3am_Mar7_30Hz\n",
      " ... session has no lever pulls  IA3am_Mar7_30Hz\n",
      "No video available:  IA3pm_Mar8_30Hz\n",
      " ... session has no lever pulls  IA3pm_Mar8_30Hz\n",
      "No video available:  IA3am_Mar9_30Hz\n",
      " ... session has no lever pulls  IA3am_Mar9_30Hz\n",
      "No video available:  IA3am_Mar10_30Hz\n",
      " ... session has no lever pulls  IA3am_Mar10_30Hz\n",
      "No video available:  IA3am_Mar11_30Hz\n",
      " ... session has no lever pulls  IA3am_Mar11_30Hz\n",
      "No video available:  IA3pm_Mar14_30Hz\n",
      " ... session has no lever pulls  IA3pm_Mar14_30Hz\n",
      "No video available:  IA3am_Mar15_30Hz\n",
      " ... session has no lever pulls  IA3am_Mar15_30Hz\n",
      "No video available:  IA3pm_Mar16_30Hz\n",
      " ... session has no lever pulls  IA3pm_Mar16_30Hz\n",
      "No video available:  IA3pm_Mar17_30Hz\n",
      " ... session has no lever pulls  IA3pm_Mar17_30Hz\n",
      "No video available:  IA3pm_Mar18_30Hz\n",
      " ... session has no lever pulls  IA3pm_Mar18_30Hz\n",
      "No video available:  IA3pm_Mar21_30Hz\n",
      " ... session has no lever pulls  IA3pm_Mar21_30Hz\n",
      "No video available:  IA3pm_Mar22_30Hz\n",
      " ... session has no lever pulls  IA3pm_Mar22_30Hz\n",
      "No video available:  IA3pm_Mar23_30Hz\n",
      " ... session has no lever pulls  IA3pm_Mar23_30Hz\n",
      "No video available:  IA3pm_Mar24_30Hz\n",
      " ... session has no lever pulls  IA3pm_Mar24_30Hz\n",
      "No video available:  IA3pm_Mar29_30Hz\n",
      " ... session has no lever pulls  IA3pm_Mar29_30Hz\n",
      "No video available:  IA3pm_Mar30_30Hz\n",
      " ... session has no lever pulls  IA3pm_Mar30_30Hz\n",
      "No video available:  IA3pm_Mar31_30Hz\n",
      " ... session has no lever pulls  IA3pm_Mar31_30Hz\n",
      "No video available:  IA3pm_Apr1_30Hz\n",
      " ... session has no lever pulls  IA3pm_Apr1_30Hz\n",
      "No video available:  IA3pm_Apr4_30Hz\n",
      " ... session has no lever pulls  IA3pm_Apr4_30Hz\n",
      "No video available:  IA3pm_Apr5_30Hz\n",
      " ... session has no lever pulls  IA3pm_Apr5_30Hz\n",
      "No video available:  IA3pm_Apr6_30Hz\n",
      " ... session has no lever pulls  IA3pm_Apr6_30Hz\n",
      "No video available:  IA3pm_Apr7_30Hz\n",
      " ... session has no lever pulls  IA3pm_Apr7_30Hz\n",
      "PROCESSING:  IJ1\n",
      "DATA_STM:  (62, 901, 128, 128)\n",
      "    denoising data (pca.transofrm(X)) \n",
      "        done denoising data\n",
      "DATA_STM:  (62, 901, 128, 128)\n",
      "    denoising data (pca.transofrm(X)) \n",
      "        done denoising data\n"
     ]
    },
    {
     "name": "stderr",
     "output_type": "stream",
     "text": [
      "\r",
      "  2%|▏         | 1/44 [05:35<4:00:16, 335.28s/it]"
     ]
    },
    {
     "name": "stdout",
     "output_type": "stream",
     "text": [
      "data_stm is empty (could not compute stm, skipping :  IJ1pm_Feb1_30Hz  )\n",
      "DATA_STM:  (7, 901, 128, 128)\n",
      "    denoising data (pca.transofrm(X)) \n",
      "        done denoising data\n",
      "DATA_STM:  (7, 901, 128, 128)\n",
      "    denoising data (pca.transofrm(X)) \n",
      "        done denoising data\n"
     ]
    },
    {
     "name": "stderr",
     "output_type": "stream",
     "text": [
      "\r",
      "  5%|▍         | 2/44 [05:56<1:45:17, 150.42s/it]"
     ]
    },
    {
     "name": "stdout",
     "output_type": "stream",
     "text": [
      "data_stm is empty (could not compute stm, skipping :  IJ1pm_Feb2_30Hz  )\n",
      " ... session has no lever pulls  IJ1pm_Feb3_30Hz\n",
      "DATA_STM:  (10, 901, 128, 128)\n",
      "    denoising data (pca.transofrm(X)) \n",
      "        done denoising data\n",
      "DATA_STM:  (10, 901, 128, 128)\n",
      "    denoising data (pca.transofrm(X)) \n",
      "        done denoising data\n"
     ]
    },
    {
     "name": "stderr",
     "output_type": "stream",
     "text": [
      "\r",
      "  9%|▉         | 4/44 [06:22<42:55, 64.39s/it]   "
     ]
    },
    {
     "name": "stdout",
     "output_type": "stream",
     "text": [
      "data_stm is empty (could not compute stm, skipping :  IJ1pm_Feb4_30Hz  )\n",
      "DATA_STM:  (20, 901, 128, 128)\n",
      "    denoising data (pca.transofrm(X)) \n",
      "        done denoising data\n",
      "DATA_STM:  (20, 901, 128, 128)\n",
      "    denoising data (pca.transofrm(X)) \n",
      "        done denoising data\n"
     ]
    },
    {
     "name": "stderr",
     "output_type": "stream",
     "text": [
      "\r",
      " 11%|█▏        | 5/44 [07:15<39:26, 60.67s/it]"
     ]
    },
    {
     "name": "stdout",
     "output_type": "stream",
     "text": [
      "data_stm is empty (could not compute stm, skipping :  IJ1pm_Feb5_30Hz  )\n",
      "DATA_STM:  (6, 901, 128, 128)\n",
      "    denoising data (pca.transofrm(X)) \n",
      "        done denoising data\n",
      "DATA_STM:  (6, 901, 128, 128)\n",
      "    denoising data (pca.transofrm(X)) \n",
      "        done denoising data\n"
     ]
    },
    {
     "name": "stderr",
     "output_type": "stream",
     "text": [
      "\r",
      " 14%|█▎        | 6/44 [07:35<30:36, 48.32s/it]"
     ]
    },
    {
     "name": "stdout",
     "output_type": "stream",
     "text": [
      "data_stm is empty (could not compute stm, skipping :  IJ1pm_Feb9_30Hz  )\n",
      "DATA_STM:  (7, 901, 128, 128)\n",
      "    denoising data (pca.transofrm(X)) \n",
      "        done denoising data\n",
      "DATA_STM:  (7, 901, 128, 128)\n",
      "    denoising data (pca.transofrm(X)) \n",
      "        done denoising data\n"
     ]
    },
    {
     "name": "stderr",
     "output_type": "stream",
     "text": [
      "\r",
      " 16%|█▌        | 7/44 [07:57<24:49, 40.25s/it]"
     ]
    },
    {
     "name": "stdout",
     "output_type": "stream",
     "text": [
      "data_stm is empty (could not compute stm, skipping :  IJ1pm_Feb10_30Hz  )\n",
      "DATA_STM:  (11, 901, 128, 128)\n",
      "    denoising data (pca.transofrm(X)) \n",
      "        done denoising data\n",
      "DATA_STM:  (11, 901, 128, 128)\n",
      "    denoising data (pca.transofrm(X)) \n",
      "        done denoising data\n"
     ]
    },
    {
     "name": "stderr",
     "output_type": "stream",
     "text": [
      "\r",
      " 18%|█▊        | 8/44 [08:29<22:37, 37.71s/it]"
     ]
    },
    {
     "name": "stdout",
     "output_type": "stream",
     "text": [
      "data_stm is empty (could not compute stm, skipping :  IJ1pm_Feb11_30Hz  )\n",
      "DATA_STM:  (1, 901, 128, 128)\n",
      "    denoising data (pca.transofrm(X)) \n",
      "        done denoising data\n",
      "DATA_STM:  (1, 901, 128, 128)\n",
      "    denoising data (pca.transofrm(X)) \n",
      "        done denoising data\n"
     ]
    },
    {
     "name": "stderr",
     "output_type": "stream",
     "text": [
      "\r",
      " 20%|██        | 9/44 [08:42<17:46, 30.46s/it]"
     ]
    },
    {
     "name": "stdout",
     "output_type": "stream",
     "text": [
      "data_stm is empty (could not compute stm, skipping :  IJ1pm_Feb12_30Hz  )\n",
      "DATA_STM:  (14, 901, 128, 128)\n",
      "    denoising data (pca.transofrm(X)) \n",
      "        done denoising data\n",
      "DATA_STM:  (14, 901, 128, 128)\n",
      "    denoising data (pca.transofrm(X)) \n",
      "        done denoising data\n"
     ]
    },
    {
     "name": "stderr",
     "output_type": "stream",
     "text": [
      "100%|██████████| 44/44 [09:25<00:00, 12.86s/it]\n",
      "  0%|          | 0/44 [00:00<?, ?it/s]"
     ]
    },
    {
     "name": "stdout",
     "output_type": "stream",
     "text": [
      "data_stm is empty (could not compute stm, skipping :  IJ1pm_Feb16_30Hz  )\n",
      "No video available:  IJ1pm_Feb17_30Hz\n",
      " ... session has no lever pulls  IJ1pm_Feb17_30Hz\n",
      "No video available:  IJ1pm_Feb18_30Hz\n",
      " ... session has no lever pulls  IJ1pm_Feb18_30Hz\n",
      "No video available:  IJ1pm_Feb19_30Hz\n",
      " ... session has no lever pulls  IJ1pm_Feb19_30Hz\n",
      "No video available:  IJ1pm_Feb22_30Hz\n",
      " ... session has no lever pulls  IJ1pm_Feb22_30Hz\n",
      "No video available:  IJ1pm_Feb23_30Hz\n",
      " ... session has no lever pulls  IJ1pm_Feb23_30Hz\n",
      "No video available:  IJ1pm_Feb24_30Hz\n",
      " ... session has no lever pulls  IJ1pm_Feb24_30Hz\n",
      "No video available:  IJ1pm_Feb25_30Hz\n",
      " ... session has no lever pulls  IJ1pm_Feb25_30Hz\n",
      "No video available:  IJ1pm_Feb26_30Hz\n",
      " ... session has no lever pulls  IJ1pm_Feb26_30Hz\n",
      "No video available:  IJ1pm_Feb29_30Hz\n",
      " ... session has no lever pulls  IJ1pm_Feb29_30Hz\n",
      "No video available:  IJ1pm_Mar1_30Hz\n",
      " ... session has no lever pulls  IJ1pm_Mar1_30Hz\n",
      "No video available:  IJ1pm_Mar2_30Hz\n",
      " ... session has no lever pulls  IJ1pm_Mar2_30Hz\n",
      "No video available:  IJ1pm_Mar3_30Hz\n",
      " ... session has no lever pulls  IJ1pm_Mar3_30Hz\n",
      "No video available:  IJ1am_Mar7_30Hz\n",
      " ... session has no lever pulls  IJ1am_Mar7_30Hz\n",
      "No video available:  IJ1pm_Mar8_30Hz\n",
      " ... session has no lever pulls  IJ1pm_Mar8_30Hz\n",
      "No video available:  IJ1am_Mar9_30Hz\n",
      " ... session has no lever pulls  IJ1am_Mar9_30Hz\n",
      "No video available:  IJ1am_Mar10_30Hz\n",
      " ... session has no lever pulls  IJ1am_Mar10_30Hz\n",
      "No video available:  IJ1am_Mar11_30Hz\n",
      " ... session has no lever pulls  IJ1am_Mar11_30Hz\n",
      "No video available:  IJ1pm_Mar14_30Hz\n",
      " ... session has no lever pulls  IJ1pm_Mar14_30Hz\n",
      "No video available:  IJ1am_Mar15_30Hz\n",
      " ... session has no lever pulls  IJ1am_Mar15_30Hz\n",
      "No video available:  IJ1pm_Mar16_30Hz\n",
      " ... session has no lever pulls  IJ1pm_Mar16_30Hz\n",
      "No video available:  IJ1pm_Mar17_30Hz\n",
      " ... session has no lever pulls  IJ1pm_Mar17_30Hz\n",
      "No video available:  IJ1pm_Mar18_30Hz\n",
      " ... session has no lever pulls  IJ1pm_Mar18_30Hz\n",
      "No video available:  IJ1pm_Mar21_30Hz\n",
      " ... session has no lever pulls  IJ1pm_Mar21_30Hz\n",
      "No video available:  IJ1pm_Mar22_30Hz\n",
      " ... session has no lever pulls  IJ1pm_Mar22_30Hz\n",
      "No video available:  IJ1pm_Mar23_30Hz\n",
      " ... session has no lever pulls  IJ1pm_Mar23_30Hz\n",
      "No video available:  IJ1pm_Mar24_30Hz\n",
      " ... session has no lever pulls  IJ1pm_Mar24_30Hz\n",
      "No video available:  IJ1pm_Mar29_30Hz\n",
      " ... session has no lever pulls  IJ1pm_Mar29_30Hz\n",
      "No video available:  IJ1pm_Mar30_30Hz\n",
      " ... session has no lever pulls  IJ1pm_Mar30_30Hz\n",
      "No video available:  IJ1pm_Mar31_30Hz\n",
      " ... session has no lever pulls  IJ1pm_Mar31_30Hz\n",
      "No video available:  IJ1pm_Apr1_30Hz\n",
      " ... session has no lever pulls  IJ1pm_Apr1_30Hz\n",
      "No video available:  IJ1pm_Apr4_30Hz\n",
      " ... session has no lever pulls  IJ1pm_Apr4_30Hz\n",
      "No video available:  IJ1pm_Apr5_30Hz\n",
      " ... session has no lever pulls  IJ1pm_Apr5_30Hz\n",
      "No video available:  IJ1pm_Apr6_30Hz\n",
      " ... session has no lever pulls  IJ1pm_Apr6_30Hz\n",
      "No video available:  IJ1pm_Apr7_30Hz\n",
      " ... session has no lever pulls  IJ1pm_Apr7_30Hz\n",
      "PROCESSING:  IJ2\n",
      "DATA_STM:  (55, 901, 128, 128)\n",
      "    denoising data (pca.transofrm(X)) \n",
      "        done denoising data\n",
      "DATA_STM:  (55, 901, 128, 128)\n",
      "    denoising data (pca.transofrm(X)) \n",
      "        done denoising data\n"
     ]
    },
    {
     "name": "stderr",
     "output_type": "stream",
     "text": [
      "\r",
      "  2%|▏         | 1/44 [05:16<3:46:33, 316.14s/it]"
     ]
    },
    {
     "name": "stdout",
     "output_type": "stream",
     "text": [
      "data_stm is empty (could not compute stm, skipping :  IJ2pm_Feb1_30Hz  )\n",
      "DATA_STM:  (53, 901, 128, 128)\n",
      "    denoising data (pca.transofrm(X)) \n",
      "        done denoising data\n",
      "DATA_STM:  (53, 901, 128, 128)\n",
      "    denoising data (pca.transofrm(X)) \n",
      "        done denoising data\n"
     ]
    },
    {
     "name": "stderr",
     "output_type": "stream",
     "text": [
      "\r",
      "  5%|▍         | 2/44 [08:58<3:02:46, 261.10s/it]"
     ]
    },
    {
     "name": "stdout",
     "output_type": "stream",
     "text": [
      "data_stm is empty (could not compute stm, skipping :  IJ2pm_Feb2_30Hz  )\n",
      "DATA_STM:  (39, 901, 128, 128)\n",
      "    denoising data (pca.transofrm(X)) \n",
      "        done denoising data\n",
      "DATA_STM:  (39, 901, 128, 128)\n",
      "    denoising data (pca.transofrm(X)) \n",
      "        done denoising data\n"
     ]
    },
    {
     "name": "stderr",
     "output_type": "stream",
     "text": [
      "\r",
      "  7%|▋         | 3/44 [11:13<2:19:03, 203.50s/it]"
     ]
    },
    {
     "name": "stdout",
     "output_type": "stream",
     "text": [
      "data_stm is empty (could not compute stm, skipping :  IJ2pm_Feb3_30Hz  )\n",
      "DATA_STM:  (38, 901, 128, 128)\n",
      "    denoising data (pca.transofrm(X)) \n",
      "        done denoising data\n",
      "DATA_STM:  (38, 901, 128, 128)\n",
      "    denoising data (pca.transofrm(X)) \n",
      "        done denoising data\n"
     ]
    },
    {
     "name": "stderr",
     "output_type": "stream",
     "text": [
      "\r",
      "  9%|▉         | 4/44 [13:16<1:54:27, 171.68s/it]"
     ]
    },
    {
     "name": "stdout",
     "output_type": "stream",
     "text": [
      "data_stm is empty (could not compute stm, skipping :  IJ2pm_Feb4_30Hz  )\n",
      "DATA_STM:  (21, 901, 128, 128)\n",
      "    denoising data (pca.transofrm(X)) \n",
      "        done denoising data\n",
      "DATA_STM:  (21, 901, 128, 128)\n",
      "    denoising data (pca.transofrm(X)) \n",
      "        done denoising data\n"
     ]
    },
    {
     "name": "stderr",
     "output_type": "stream",
     "text": [
      "\r",
      " 11%|█▏        | 5/44 [14:17<1:25:32, 131.60s/it]"
     ]
    },
    {
     "name": "stdout",
     "output_type": "stream",
     "text": [
      "data_stm is empty (could not compute stm, skipping :  IJ2pm_Feb5_30Hz  )\n",
      " ... session has no lever pulls  IJ2pm_Feb9_30Hz\n",
      "DATA_STM:  (3, 901, 128, 128)\n",
      "    denoising data (pca.transofrm(X)) \n",
      "        done denoising data\n",
      "DATA_STM:  (3, 901, 128, 128)\n",
      "    denoising data (pca.transofrm(X)) \n",
      "        done denoising data\n"
     ]
    },
    {
     "name": "stderr",
     "output_type": "stream",
     "text": [
      "\r",
      " 16%|█▌        | 7/44 [14:33<42:33, 69.01s/it]   "
     ]
    },
    {
     "name": "stdout",
     "output_type": "stream",
     "text": [
      "data_stm is empty (could not compute stm, skipping :  IJ2pm_Feb10_30Hz  )\n",
      "DATA_STM:  (1, 901, 128, 128)\n",
      "    denoising data (pca.transofrm(X)) \n",
      "        done denoising data\n",
      "DATA_STM:  (1, 901, 128, 128)\n",
      "    denoising data (pca.transofrm(X)) \n",
      "        done denoising data\n"
     ]
    },
    {
     "name": "stderr",
     "output_type": "stream",
     "text": [
      "\r",
      " 18%|█▊        | 8/44 [14:46<32:26, 54.06s/it]"
     ]
    },
    {
     "name": "stdout",
     "output_type": "stream",
     "text": [
      "data_stm is empty (could not compute stm, skipping :  IJ2pm_Feb11_30Hz  )\n",
      " ... session has no lever pulls  IJ2pm_Feb12_30Hz\n",
      "Imaging rates between aligned and session are incorrect, exiting:  29.88114874250808\n",
      "data_stm is empty (could not compute stm, skipping :  IJ2pm_Feb15_30Hz  )\n"
     ]
    },
    {
     "name": "stderr",
     "output_type": "stream",
     "text": [
      "100%|██████████| 44/44 [14:56<00:00, 20.38s/it]\n",
      "  0%|          | 0/110 [00:00<?, ?it/s]"
     ]
    },
    {
     "name": "stdout",
     "output_type": "stream",
     "text": [
      "Imaging rates between aligned and session are incorrect, exiting:  29.88114874250808\n",
      "data_stm is empty (could not compute stm, skipping :  IJ2pm_Feb15_30Hz  )\n",
      " ... session has no lever pulls  IJ2pm_Feb16_30Hz\n",
      "No video available:  IJ2pm_Feb17_30Hz\n",
      " ... session has no lever pulls  IJ2pm_Feb17_30Hz\n",
      "No video available:  IJ2pm_Feb18_30Hz\n",
      " ... session has no lever pulls  IJ2pm_Feb18_30Hz\n",
      "No video available:  IJ2pm_Feb22_30Hz\n",
      " ... session has no lever pulls  IJ2pm_Feb22_30Hz\n",
      "No video available:  IJ2pm_Feb23_30Hz\n",
      " ... session has no lever pulls  IJ2pm_Feb23_30Hz\n",
      "No video available:  IJ2pm_Feb24_30Hz\n",
      " ... session has no lever pulls  IJ2pm_Feb24_30Hz\n",
      "No video available:  IJ2pm_Feb25_30Hz\n",
      " ... session has no lever pulls  IJ2pm_Feb25_30Hz\n",
      "No video available:  IJ2pm_Feb26_30Hz\n",
      " ... session has no lever pulls  IJ2pm_Feb26_30Hz\n",
      "No video available:  IJ2pm_Feb29_30Hz\n",
      " ... session has no lever pulls  IJ2pm_Feb29_30Hz\n",
      "No video available:  IJ2pm_Mar1_30Hz\n",
      " ... session has no lever pulls  IJ2pm_Mar1_30Hz\n",
      "No video available:  IJ2pm_Mar2_30Hz\n",
      " ... session has no lever pulls  IJ2pm_Mar2_30Hz\n",
      "No video available:  IJ2pm_Mar3_30Hz\n",
      " ... session has no lever pulls  IJ2pm_Mar3_30Hz\n",
      "No video available:  IJ2am_Mar7_30Hz\n",
      " ... session has no lever pulls  IJ2am_Mar7_30Hz\n",
      "No video available:  IJ2pm_Mar8_30Hz\n",
      " ... session has no lever pulls  IJ2pm_Mar8_30Hz\n",
      "No video available:  IJ2am_Mar9_30Hz\n",
      " ... session has no lever pulls  IJ2am_Mar9_30Hz\n",
      "No video available:  IJ2am_Mar10_30Hz\n",
      " ... session has no lever pulls  IJ2am_Mar10_30Hz\n",
      "No video available:  IJ2am_Mar11_30Hz\n",
      " ... session has no lever pulls  IJ2am_Mar11_30Hz\n",
      "No video available:  IJ2pm_Mar14_30Hz\n",
      " ... session has no lever pulls  IJ2pm_Mar14_30Hz\n",
      "No video available:  IJ2am_Mar15_30Hz\n",
      " ... session has no lever pulls  IJ2am_Mar15_30Hz\n",
      "No video available:  IJ2pm_Mar16_30Hz\n",
      " ... session has no lever pulls  IJ2pm_Mar16_30Hz\n",
      "No video available:  IJ2pm_Mar17_30Hz\n",
      " ... session has no lever pulls  IJ2pm_Mar17_30Hz\n",
      "No video available:  IJ2pm_Mar18_30Hz\n",
      " ... session has no lever pulls  IJ2pm_Mar18_30Hz\n",
      "No video available:  IJ2pm_Mar21_30Hz\n",
      " ... session has no lever pulls  IJ2pm_Mar21_30Hz\n",
      "No video available:  IJ2pm_Mar22_30Hz\n",
      " ... session has no lever pulls  IJ2pm_Mar22_30Hz\n",
      "No video available:  IJ2pm_Mar23_30Hz\n",
      " ... session has no lever pulls  IJ2pm_Mar23_30Hz\n",
      "No video available:  IJ2pm_Mar24_30Hz\n",
      " ... session has no lever pulls  IJ2pm_Mar24_30Hz\n",
      "No video available:  IJ2pm_Mar29_30Hz\n",
      " ... session has no lever pulls  IJ2pm_Mar29_30Hz\n",
      "No video available:  IJ2pm_Mar30_30Hz\n",
      " ... session has no lever pulls  IJ2pm_Mar30_30Hz\n",
      "No video available:  IJ2pm_Mar31_30Hz\n",
      " ... session has no lever pulls  IJ2pm_Mar31_30Hz\n",
      "No video available:  IJ2pm_Apr1_30Hz\n",
      " ... session has no lever pulls  IJ2pm_Apr1_30Hz\n",
      "No video available:  IJ2pm_Apr4_30Hz\n",
      " ... session has no lever pulls  IJ2pm_Apr4_30Hz\n",
      "No video available:  IJ2pm_Apr5_30Hz\n",
      " ... session has no lever pulls  IJ2pm_Apr5_30Hz\n",
      "No video available:  IJ2pm_Apr6_30Hz\n",
      " ... session has no lever pulls  IJ2pm_Apr6_30Hz\n",
      "No video available:  IJ2pm_Apr7_30Hz\n",
      " ... session has no lever pulls  IJ2pm_Apr7_30Hz\n",
      "PROCESSING:  AQ2\n",
      "DATA_STM:  (9, 901, 128, 128)\n",
      "    denoising data (pca.transofrm(X)) \n",
      "        done denoising data\n",
      "DATA_STM:  (9, 901, 128, 128)\n",
      "    denoising data (pca.transofrm(X)) \n",
      "        done denoising data\n"
     ]
    },
    {
     "name": "stderr",
     "output_type": "stream",
     "text": [
      "\r",
      "  1%|          | 1/110 [00:28<51:36, 28.41s/it]"
     ]
    },
    {
     "name": "stdout",
     "output_type": "stream",
     "text": [
      "data_stm is empty (could not compute stm, skipping :  AQ2am_Dec9_30Hz  )\n",
      "DATA_STM:  (6, 901, 128, 128)\n",
      "    denoising data (pca.transofrm(X)) \n",
      "        done denoising data\n",
      "DATA_STM:  (6, 901, 128, 128)\n",
      "    denoising data (pca.transofrm(X)) \n",
      "        done denoising data\n"
     ]
    },
    {
     "name": "stderr",
     "output_type": "stream",
     "text": [
      "\r",
      "  2%|▏         | 2/110 [00:52<46:10, 25.65s/it]"
     ]
    },
    {
     "name": "stdout",
     "output_type": "stream",
     "text": [
      "data_stm is empty (could not compute stm, skipping :  AQ2am_Dec10_30Hz  )\n",
      "DATA_STM:  (50, 901, 128, 128)\n",
      "    denoising data (pca.transofrm(X)) \n",
      "        done denoising data\n",
      "DATA_STM:  (50, 901, 128, 128)\n",
      "    denoising data (pca.transofrm(X)) \n",
      "        done denoising data\n"
     ]
    },
    {
     "name": "stderr",
     "output_type": "stream",
     "text": [
      "\r",
      "  3%|▎         | 3/110 [04:19<3:13:29, 108.50s/it]"
     ]
    },
    {
     "name": "stdout",
     "output_type": "stream",
     "text": [
      "data_stm is empty (could not compute stm, skipping :  AQ2pm_Dec10_30Hz  )\n",
      "DATA_STM:  (73, 901, 128, 128)\n",
      "    denoising data (pca.transofrm(X)) \n",
      "        done denoising data\n",
      "DATA_STM:  (73, 901, 128, 128)\n",
      "    denoising data (pca.transofrm(X)) \n",
      "        done denoising data\n"
     ]
    },
    {
     "name": "stderr",
     "output_type": "stream",
     "text": [
      "\r",
      "  4%|▎         | 4/110 [10:44<6:24:50, 217.84s/it]"
     ]
    },
    {
     "name": "stdout",
     "output_type": "stream",
     "text": [
      "data_stm is empty (could not compute stm, skipping :  AQ2am_Dec11_30Hz  )\n",
      "DATA_STM:  (5, 901, 128, 128)\n",
      "    denoising data (pca.transofrm(X)) \n",
      "        done denoising data\n",
      "DATA_STM:  (5, 901, 128, 128)\n",
      "    denoising data (pca.transofrm(X)) \n",
      "        done denoising data\n"
     ]
    },
    {
     "name": "stderr",
     "output_type": "stream",
     "text": [
      "\r",
      "  5%|▍         | 5/110 [11:02<4:15:07, 145.79s/it]"
     ]
    },
    {
     "name": "stdout",
     "output_type": "stream",
     "text": [
      "data_stm is empty (could not compute stm, skipping :  AQ2pm_Dec14_30Hz  )\n",
      "DATA_STM:  (58, 901, 128, 128)\n",
      "    denoising data (pca.transofrm(X)) \n",
      "        done denoising data\n",
      "DATA_STM:  (58, 901, 128, 128)\n",
      "    denoising data (pca.transofrm(X)) \n",
      "        done denoising data\n"
     ]
    },
    {
     "name": "stderr",
     "output_type": "stream",
     "text": [
      "\r",
      "  5%|▌         | 6/110 [15:21<5:19:22, 184.25s/it]"
     ]
    },
    {
     "name": "stdout",
     "output_type": "stream",
     "text": [
      "data_stm is empty (could not compute stm, skipping :  AQ2am_Dec14_30Hz  )\n",
      "DATA_STM:  (19, 901, 128, 128)\n",
      "    denoising data (pca.transofrm(X)) \n",
      "        done denoising data\n",
      "DATA_STM:  (19, 901, 128, 128)\n",
      "    denoising data (pca.transofrm(X)) \n",
      "        done denoising data\n"
     ]
    },
    {
     "name": "stderr",
     "output_type": "stream",
     "text": [
      "\r",
      "  6%|▋         | 7/110 [16:09<3:59:47, 139.69s/it]"
     ]
    },
    {
     "name": "stdout",
     "output_type": "stream",
     "text": [
      "data_stm is empty (could not compute stm, skipping :  AQ2pm_Dec16_30Hz  )\n",
      "DATA_STM:  (33, 901, 128, 128)\n",
      "    denoising data (pca.transofrm(X)) \n",
      "        done denoising data\n",
      "DATA_STM:  (33, 901, 128, 128)\n",
      "    denoising data (pca.transofrm(X)) \n",
      "        done denoising data\n"
     ]
    },
    {
     "name": "stderr",
     "output_type": "stream",
     "text": [
      "\r",
      "  7%|▋         | 8/110 [17:52<3:37:28, 127.93s/it]"
     ]
    },
    {
     "name": "stdout",
     "output_type": "stream",
     "text": [
      "data_stm is empty (could not compute stm, skipping :  AQ2am_Dec17_30Hz  )\n",
      "DATA_STM:  (52, 901, 128, 128)\n",
      "    denoising data (pca.transofrm(X)) \n",
      "        done denoising data\n",
      "DATA_STM:  (52, 901, 128, 128)\n",
      "    denoising data (pca.transofrm(X)) \n",
      "        done denoising data\n"
     ]
    },
    {
     "name": "stderr",
     "output_type": "stream",
     "text": [
      "\r",
      "  8%|▊         | 9/110 [21:23<4:19:09, 153.96s/it]"
     ]
    },
    {
     "name": "stdout",
     "output_type": "stream",
     "text": [
      "data_stm is empty (could not compute stm, skipping :  AQ2pm_Dec17_30Hz  )\n",
      "DATA_STM:  (27, 901, 128, 128)\n",
      "    denoising data (pca.transofrm(X)) \n",
      "        done denoising data\n",
      "DATA_STM:  (27, 901, 128, 128)\n",
      "    denoising data (pca.transofrm(X)) \n",
      "        done denoising data\n"
     ]
    },
    {
     "name": "stderr",
     "output_type": "stream",
     "text": [
      "\r",
      "  9%|▉         | 10/110 [22:38<3:36:12, 129.73s/it]"
     ]
    },
    {
     "name": "stdout",
     "output_type": "stream",
     "text": [
      "data_stm is empty (could not compute stm, skipping :  AQ2am_Dec18_30Hz  )\n",
      "DATA_STM:  (46, 901, 128, 128)\n",
      "    denoising data (pca.transofrm(X)) \n",
      "        done denoising data\n",
      "DATA_STM:  (46, 901, 128, 128)\n",
      "    denoising data (pca.transofrm(X)) \n",
      "        done denoising data\n"
     ]
    },
    {
     "name": "stderr",
     "output_type": "stream",
     "text": [
      "\r",
      " 10%|█         | 11/110 [25:23<3:51:43, 140.44s/it]"
     ]
    },
    {
     "name": "stdout",
     "output_type": "stream",
     "text": [
      "data_stm is empty (could not compute stm, skipping :  AQ2pm_Dec18_30Hz  )\n",
      "DATA_STM:  (37, 901, 128, 128)\n",
      "    denoising data (pca.transofrm(X)) \n",
      "        done denoising data\n",
      "DATA_STM:  (37, 901, 128, 128)\n",
      "    denoising data (pca.transofrm(X)) \n",
      "        done denoising data\n"
     ]
    },
    {
     "name": "stderr",
     "output_type": "stream",
     "text": [
      "\r",
      " 11%|█         | 12/110 [27:24<3:39:24, 134.33s/it]"
     ]
    },
    {
     "name": "stdout",
     "output_type": "stream",
     "text": [
      "data_stm is empty (could not compute stm, skipping :  AQ2am_Dec21_30Hz  )\n",
      "DATA_STM:  (10, 901, 128, 128)\n",
      "    denoising data (pca.transofrm(X)) \n",
      "        done denoising data\n",
      "DATA_STM:  (10, 901, 128, 128)\n",
      "    denoising data (pca.transofrm(X)) \n",
      "        done denoising data\n"
     ]
    },
    {
     "name": "stderr",
     "output_type": "stream",
     "text": [
      "\r",
      " 12%|█▏        | 13/110 [27:50<2:44:21, 101.66s/it]"
     ]
    },
    {
     "name": "stdout",
     "output_type": "stream",
     "text": [
      "data_stm is empty (could not compute stm, skipping :  AQ2am_Dec22_30Hz  )\n",
      "DATA_STM:  (61, 901, 128, 128)\n",
      "    denoising data (pca.transofrm(X)) \n",
      "        done denoising data\n",
      "DATA_STM:  (61, 901, 128, 128)\n",
      "    denoising data (pca.transofrm(X)) \n",
      "        done denoising data\n"
     ]
    },
    {
     "name": "stderr",
     "output_type": "stream",
     "text": [
      "\r",
      " 13%|█▎        | 14/110 [33:04<4:25:07, 165.70s/it]"
     ]
    },
    {
     "name": "stdout",
     "output_type": "stream",
     "text": [
      "data_stm is empty (could not compute stm, skipping :  AQ2am_Dec23_30Hz  )\n",
      "DATA_STM:  (35, 901, 128, 128)\n",
      "    denoising data (pca.transofrm(X)) \n",
      "        done denoising data\n",
      "DATA_STM:  (35, 901, 128, 128)\n",
      "    denoising data (pca.transofrm(X)) \n",
      "        done denoising data\n"
     ]
    },
    {
     "name": "stderr",
     "output_type": "stream",
     "text": [
      "\r",
      " 14%|█▎        | 15/110 [36:25<4:39:22, 176.45s/it]"
     ]
    },
    {
     "name": "stdout",
     "output_type": "stream",
     "text": [
      "data_stm is empty (could not compute stm, skipping :  AQ2am_Dec28_30Hz  )\n",
      "DATA_STM:  (44, 901, 128, 128)\n",
      "    denoising data (pca.transofrm(X)) \n",
      "        done denoising data\n",
      "DATA_STM:  (44, 901, 128, 128)\n",
      "    denoising data (pca.transofrm(X)) \n",
      "        done denoising data\n"
     ]
    },
    {
     "name": "stderr",
     "output_type": "stream",
     "text": [
      "\r",
      " 15%|█▍        | 16/110 [39:09<4:30:41, 172.78s/it]"
     ]
    },
    {
     "name": "stdout",
     "output_type": "stream",
     "text": [
      "data_stm is empty (could not compute stm, skipping :  AQ2am_Dec29_30Hz  )\n",
      "Imaging rates between aligned and session are incorrect, exiting:  0.3096286204551007\n",
      "data_stm is empty (could not compute stm, skipping :  AQ2am_Dec30_30Hz  )\n"
     ]
    },
    {
     "name": "stderr",
     "output_type": "stream",
     "text": [
      "\r",
      " 15%|█▌        | 17/110 [39:20<3:12:04, 123.92s/it]"
     ]
    },
    {
     "name": "stdout",
     "output_type": "stream",
     "text": [
      "Imaging rates between aligned and session are incorrect, exiting:  0.3096286204551007\n",
      "data_stm is empty (could not compute stm, skipping :  AQ2am_Dec30_30Hz  )\n",
      "No video available:  AQ2am_Dec31_30Hz\n",
      " ... session has no lever pulls  AQ2am_Dec31_30Hz\n",
      "DATA_STM:  (3, 901, 128, 128)\n",
      "    denoising data (pca.transofrm(X)) \n",
      "        done denoising data\n",
      "DATA_STM:  (3, 901, 128, 128)\n",
      "    denoising data (pca.transofrm(X)) \n",
      "        done denoising data\n"
     ]
    },
    {
     "name": "stderr",
     "output_type": "stream",
     "text": [
      "\r",
      " 17%|█▋        | 19/110 [39:35<1:46:23, 70.15s/it] "
     ]
    },
    {
     "name": "stdout",
     "output_type": "stream",
     "text": [
      "data_stm is empty (could not compute stm, skipping :  AQ2am_Jan4_30Hz  )\n",
      "DATA_STM:  (9, 901, 128, 128)\n",
      "    denoising data (pca.transofrm(X)) \n",
      "        done denoising data\n",
      "DATA_STM:  (9, 901, 128, 128)\n",
      "    denoising data (pca.transofrm(X)) \n",
      "        done denoising data\n"
     ]
    },
    {
     "name": "stderr",
     "output_type": "stream",
     "text": [
      "\r",
      " 18%|█▊        | 20/110 [40:00<1:28:21, 58.90s/it]"
     ]
    },
    {
     "name": "stdout",
     "output_type": "stream",
     "text": [
      "data_stm is empty (could not compute stm, skipping :  AQ2am_Jan5_30Hz  )\n",
      "DATA_STM:  (8, 901, 128, 128)\n",
      "    denoising data (pca.transofrm(X)) \n",
      "        done denoising data\n",
      "DATA_STM:  (8, 901, 128, 128)\n",
      "    denoising data (pca.transofrm(X)) \n",
      "        done denoising data\n"
     ]
    },
    {
     "name": "stderr",
     "output_type": "stream",
     "text": [
      "\r",
      " 19%|█▉        | 21/110 [40:23<1:13:45, 49.73s/it]"
     ]
    },
    {
     "name": "stdout",
     "output_type": "stream",
     "text": [
      "data_stm is empty (could not compute stm, skipping :  AQ2am_Jan6_30Hz  )\n",
      "DATA_STM:  (19, 901, 128, 128)\n",
      "    denoising data (pca.transofrm(X)) \n",
      "        done denoising data\n",
      "DATA_STM:  (19, 901, 128, 128)\n",
      "    denoising data (pca.transofrm(X)) \n",
      "        done denoising data\n"
     ]
    },
    {
     "name": "stderr",
     "output_type": "stream",
     "text": [
      "\r",
      " 20%|██        | 22/110 [41:16<1:14:06, 50.53s/it]"
     ]
    },
    {
     "name": "stdout",
     "output_type": "stream",
     "text": [
      "data_stm is empty (could not compute stm, skipping :  AQ2am_Jan7_30Hz  )\n",
      "DATA_STM:  (10, 901, 128, 128)\n",
      "    denoising data (pca.transofrm(X)) \n",
      "        done denoising data\n",
      "DATA_STM:  (10, 901, 128, 128)\n",
      "    denoising data (pca.transofrm(X)) \n",
      "        done denoising data\n"
     ]
    },
    {
     "name": "stderr",
     "output_type": "stream",
     "text": [
      "\r",
      " 21%|██        | 23/110 [41:44<1:04:02, 44.17s/it]"
     ]
    },
    {
     "name": "stdout",
     "output_type": "stream",
     "text": [
      "data_stm is empty (could not compute stm, skipping :  AQ2am_Jan8_30Hz  )\n",
      "DATA_STM:  (23, 901, 128, 128)\n",
      "    denoising data (pca.transofrm(X)) \n",
      "        done denoising data\n",
      "DATA_STM:  (23, 901, 128, 128)\n",
      "    denoising data (pca.transofrm(X)) \n",
      "        done denoising data\n"
     ]
    },
    {
     "name": "stderr",
     "output_type": "stream",
     "text": [
      "\r",
      " 22%|██▏       | 24/110 [42:47<1:11:08, 49.63s/it]"
     ]
    },
    {
     "name": "stdout",
     "output_type": "stream",
     "text": [
      "data_stm is empty (could not compute stm, skipping :  AQ2pm_Jan11_30Hz  )\n",
      "DATA_STM:  (75, 901, 128, 128)\n",
      "    denoising data (pca.transofrm(X)) \n",
      "        done denoising data\n",
      "DATA_STM:  (75, 901, 128, 128)\n",
      "    denoising data (pca.transofrm(X)) \n",
      "        done denoising data\n"
     ]
    },
    {
     "name": "stderr",
     "output_type": "stream",
     "text": [
      "\r",
      " 23%|██▎       | 25/110 [49:11<3:27:38, 146.57s/it]"
     ]
    },
    {
     "name": "stdout",
     "output_type": "stream",
     "text": [
      "data_stm is empty (could not compute stm, skipping :  AQ2am_Jan11_30Hz  )\n",
      "DATA_STM:  (4, 901, 128, 128)\n",
      "    denoising data (pca.transofrm(X)) \n",
      "        done denoising data\n",
      "DATA_STM:  (4, 901, 128, 128)\n",
      "    denoising data (pca.transofrm(X)) \n",
      "        done denoising data\n"
     ]
    },
    {
     "name": "stderr",
     "output_type": "stream",
     "text": [
      "\r",
      " 24%|██▎       | 26/110 [49:28<2:31:56, 108.53s/it]"
     ]
    },
    {
     "name": "stdout",
     "output_type": "stream",
     "text": [
      "data_stm is empty (could not compute stm, skipping :  AQ2pm_Jan12_30Hz  )\n",
      "DATA_STM:  (16, 901, 128, 128)\n",
      "    denoising data (pca.transofrm(X)) \n",
      "        done denoising data\n",
      "DATA_STM:  (16, 901, 128, 128)\n",
      "    denoising data (pca.transofrm(X)) \n",
      "        done denoising data\n"
     ]
    },
    {
     "name": "stderr",
     "output_type": "stream",
     "text": [
      "\r",
      " 25%|██▍       | 27/110 [50:08<2:02:03, 88.23s/it] "
     ]
    },
    {
     "name": "stdout",
     "output_type": "stream",
     "text": [
      "data_stm is empty (could not compute stm, skipping :  AQ2am_Jan12_30Hz  )\n",
      "DATA_STM:  (4, 901, 128, 128)\n",
      "    denoising data (pca.transofrm(X)) \n",
      "        done denoising data\n",
      "DATA_STM:  (4, 901, 128, 128)\n",
      "    denoising data (pca.transofrm(X)) \n",
      "        done denoising data\n"
     ]
    },
    {
     "name": "stderr",
     "output_type": "stream",
     "text": [
      "\r",
      " 25%|██▌       | 28/110 [50:24<1:31:30, 66.96s/it]"
     ]
    },
    {
     "name": "stdout",
     "output_type": "stream",
     "text": [
      "data_stm is empty (could not compute stm, skipping :  AQ2pm_Jan13_30Hz  )\n",
      "DATA_STM:  (28, 901, 128, 128)\n",
      "    denoising data (pca.transofrm(X)) \n",
      "        done denoising data\n",
      "DATA_STM:  (28, 901, 128, 128)\n",
      "    denoising data (pca.transofrm(X)) \n",
      "        done denoising data\n"
     ]
    },
    {
     "name": "stderr",
     "output_type": "stream",
     "text": [
      "\r",
      " 26%|██▋       | 29/110 [51:48<1:37:01, 71.87s/it]"
     ]
    },
    {
     "name": "stdout",
     "output_type": "stream",
     "text": [
      "data_stm is empty (could not compute stm, skipping :  AQ2am_Jan13_30Hz  )\n",
      "DATA_STM:  (15, 901, 128, 128)\n",
      "    denoising data (pca.transofrm(X)) \n",
      "        done denoising data\n",
      "DATA_STM:  (15, 901, 128, 128)\n",
      "    denoising data (pca.transofrm(X)) \n",
      "        done denoising data\n"
     ]
    },
    {
     "name": "stderr",
     "output_type": "stream",
     "text": [
      "\r",
      " 27%|██▋       | 30/110 [52:27<1:22:58, 62.23s/it]"
     ]
    },
    {
     "name": "stdout",
     "output_type": "stream",
     "text": [
      "data_stm is empty (could not compute stm, skipping :  AQ2pm_Jan14_30Hz  )\n",
      "DATA_STM:  (18, 901, 128, 128)\n",
      "    denoising data (pca.transofrm(X)) \n",
      "        done denoising data\n",
      "DATA_STM:  (18, 901, 128, 128)\n",
      "    denoising data (pca.transofrm(X)) \n",
      "        done denoising data\n"
     ]
    },
    {
     "name": "stderr",
     "output_type": "stream",
     "text": [
      "\r",
      " 28%|██▊       | 31/110 [53:15<1:16:20, 57.99s/it]"
     ]
    },
    {
     "name": "stdout",
     "output_type": "stream",
     "text": [
      "data_stm is empty (could not compute stm, skipping :  AQ2am_Jan14_30Hz  )\n",
      "DATA_STM:  (13, 901, 128, 128)\n",
      "    denoising data (pca.transofrm(X)) \n",
      "        done denoising data\n",
      "DATA_STM:  (13, 901, 128, 128)\n",
      "    denoising data (pca.transofrm(X)) \n",
      "        done denoising data\n"
     ]
    },
    {
     "name": "stderr",
     "output_type": "stream",
     "text": [
      "\r",
      " 29%|██▉       | 32/110 [53:50<1:06:26, 51.10s/it]"
     ]
    },
    {
     "name": "stdout",
     "output_type": "stream",
     "text": [
      "data_stm is empty (could not compute stm, skipping :  AQ2am_Jan15_30Hz  )\n",
      " ... session has no lever pulls  AQ2pm_Jan15_30Hz\n",
      "DATA_STM:  (58, 901, 128, 128)\n",
      "    denoising data (pca.transofrm(X)) \n",
      "        done denoising data\n",
      "DATA_STM:  (58, 901, 128, 128)\n",
      "    denoising data (pca.transofrm(X)) \n",
      "        done denoising data\n"
     ]
    },
    {
     "name": "stderr",
     "output_type": "stream",
     "text": [
      "\r",
      " 31%|███       | 34/110 [58:29<1:56:19, 91.84s/it]"
     ]
    },
    {
     "name": "stdout",
     "output_type": "stream",
     "text": [
      "data_stm is empty (could not compute stm, skipping :  AQ2pm_Jan18_30Hz  )\n",
      "DATA_STM:  (41, 901, 128, 128)\n",
      "    denoising data (pca.transofrm(X)) \n",
      "        done denoising data\n",
      "DATA_STM:  (41, 901, 128, 128)\n",
      "    denoising data (pca.transofrm(X)) \n",
      "        done denoising data\n"
     ]
    },
    {
     "name": "stderr",
     "output_type": "stream",
     "text": [
      "\r",
      " 32%|███▏      | 35/110 [1:00:55<2:11:27, 105.16s/it]"
     ]
    },
    {
     "name": "stdout",
     "output_type": "stream",
     "text": [
      "data_stm is empty (could not compute stm, skipping :  AQ2am_Jan18_30Hz  )\n",
      "DATA_STM:  (21, 901, 128, 128)\n",
      "    denoising data (pca.transofrm(X)) \n",
      "        done denoising data\n",
      "DATA_STM:  (21, 901, 128, 128)\n",
      "    denoising data (pca.transofrm(X)) \n",
      "        done denoising data\n"
     ]
    },
    {
     "name": "stderr",
     "output_type": "stream",
     "text": [
      "\r",
      " 33%|███▎      | 36/110 [1:01:50<1:53:32, 92.06s/it] "
     ]
    },
    {
     "name": "stdout",
     "output_type": "stream",
     "text": [
      "data_stm is empty (could not compute stm, skipping :  AQ2am_Jan19_30Hz  )\n",
      "DATA_STM:  (7, 901, 128, 128)\n",
      "    denoising data (pca.transofrm(X)) \n",
      "        done denoising data\n",
      "DATA_STM:  (7, 901, 128, 128)\n",
      "    denoising data (pca.transofrm(X)) \n",
      "        done denoising data\n"
     ]
    },
    {
     "name": "stderr",
     "output_type": "stream",
     "text": [
      "\r",
      " 34%|███▎      | 37/110 [1:02:12<1:28:55, 73.09s/it]"
     ]
    },
    {
     "name": "stdout",
     "output_type": "stream",
     "text": [
      "data_stm is empty (could not compute stm, skipping :  AQ2pm_Jan19_30Hz  )\n",
      " ... session has no lever pulls  AQ2pm_Jan20_30Hz\n",
      "DATA_STM:  (3, 901, 128, 128)\n",
      "    denoising data (pca.transofrm(X)) \n",
      "        done denoising data\n",
      "DATA_STM:  (3, 901, 128, 128)\n",
      "    denoising data (pca.transofrm(X)) \n",
      "        done denoising data\n"
     ]
    },
    {
     "name": "stderr",
     "output_type": "stream",
     "text": [
      "\r",
      " 35%|███▌      | 39/110 [1:02:28<52:47, 44.61s/it]  "
     ]
    },
    {
     "name": "stdout",
     "output_type": "stream",
     "text": [
      "data_stm is empty (could not compute stm, skipping :  AQ2am_Jan20_30Hz  )\n",
      "DATA_STM:  (19, 901, 128, 128)\n",
      "    denoising data (pca.transofrm(X)) \n",
      "        done denoising data\n",
      "DATA_STM:  (19, 901, 128, 128)\n",
      "    denoising data (pca.transofrm(X)) \n",
      "        done denoising data\n"
     ]
    },
    {
     "name": "stderr",
     "output_type": "stream",
     "text": [
      "\r",
      " 36%|███▋      | 40/110 [1:03:18<53:33, 45.90s/it]"
     ]
    },
    {
     "name": "stdout",
     "output_type": "stream",
     "text": [
      "data_stm is empty (could not compute stm, skipping :  AQ2pm_Jan21_30Hz  )\n",
      "DATA_STM:  (29, 901, 128, 128)\n",
      "    denoising data (pca.transofrm(X)) \n",
      "        done denoising data\n",
      "DATA_STM:  (29, 901, 128, 128)\n",
      "    denoising data (pca.transofrm(X)) \n",
      "        done denoising data\n"
     ]
    },
    {
     "name": "stderr",
     "output_type": "stream",
     "text": [
      "\r",
      " 37%|███▋      | 41/110 [1:04:47<1:05:17, 56.78s/it]"
     ]
    },
    {
     "name": "stdout",
     "output_type": "stream",
     "text": [
      "data_stm is empty (could not compute stm, skipping :  AQ2am_Jan21_30Hz  )\n",
      "DATA_STM:  (8, 901, 128, 128)\n",
      "    denoising data (pca.transofrm(X)) \n",
      "        done denoising data\n",
      "DATA_STM:  (8, 901, 128, 128)\n",
      "    denoising data (pca.transofrm(X)) \n",
      "        done denoising data\n"
     ]
    },
    {
     "name": "stderr",
     "output_type": "stream",
     "text": [
      "\r",
      " 38%|███▊      | 42/110 [1:05:10<54:16, 47.89s/it]  "
     ]
    },
    {
     "name": "stdout",
     "output_type": "stream",
     "text": [
      "data_stm is empty (could not compute stm, skipping :  AQ2pm_Jan22_30Hz  )\n",
      "DATA_STM:  (16, 901, 128, 128)\n",
      "    denoising data (pca.transofrm(X)) \n",
      "        done denoising data\n",
      "DATA_STM:  (16, 901, 128, 128)\n",
      "    denoising data (pca.transofrm(X)) \n",
      "        done denoising data\n"
     ]
    },
    {
     "name": "stderr",
     "output_type": "stream",
     "text": [
      "\r",
      " 39%|███▉      | 43/110 [1:05:52<51:30, 46.13s/it]"
     ]
    },
    {
     "name": "stdout",
     "output_type": "stream",
     "text": [
      "data_stm is empty (could not compute stm, skipping :  AQ2am_Jan22_30Hz  )\n",
      "DATA_STM:  (41, 901, 128, 128)\n",
      "    denoising data (pca.transofrm(X)) \n",
      "        done denoising data\n",
      "DATA_STM:  (41, 901, 128, 128)\n",
      "    denoising data (pca.transofrm(X)) \n",
      "        done denoising data\n"
     ]
    },
    {
     "name": "stderr",
     "output_type": "stream",
     "text": [
      "\r",
      " 40%|████      | 44/110 [1:08:19<1:22:16, 74.80s/it]"
     ]
    },
    {
     "name": "stdout",
     "output_type": "stream",
     "text": [
      "data_stm is empty (could not compute stm, skipping :  AQ2am_Jan25_30Hz  )\n",
      "DATA_STM:  (48, 901, 128, 128)\n",
      "    denoising data (pca.transofrm(X)) \n",
      "        done denoising data\n",
      "DATA_STM:  (48, 901, 128, 128)\n",
      "    denoising data (pca.transofrm(X)) \n",
      "        done denoising data\n"
     ]
    },
    {
     "name": "stderr",
     "output_type": "stream",
     "text": [
      "\r",
      " 41%|████      | 45/110 [1:11:40<2:00:13, 110.98s/it]"
     ]
    },
    {
     "name": "stdout",
     "output_type": "stream",
     "text": [
      "data_stm is empty (could not compute stm, skipping :  AQ2pm_Jan25_30Hz  )\n",
      "DATA_STM:  (42, 901, 128, 128)\n",
      "    denoising data (pca.transofrm(X)) \n",
      "        done denoising data\n",
      "DATA_STM:  (42, 901, 128, 128)\n",
      "    denoising data (pca.transofrm(X)) \n",
      "        done denoising data\n"
     ]
    },
    {
     "name": "stderr",
     "output_type": "stream",
     "text": [
      "\r",
      " 42%|████▏     | 46/110 [1:14:12<2:11:02, 122.86s/it]"
     ]
    },
    {
     "name": "stdout",
     "output_type": "stream",
     "text": [
      "data_stm is empty (could not compute stm, skipping :  AQ2pm_Jan26_30Hz  )\n",
      "DATA_STM:  (50, 901, 128, 128)\n",
      "    denoising data (pca.transofrm(X)) \n",
      "        done denoising data\n",
      "DATA_STM:  (50, 901, 128, 128)\n",
      "    denoising data (pca.transofrm(X)) \n",
      "        done denoising data\n"
     ]
    },
    {
     "name": "stderr",
     "output_type": "stream",
     "text": [
      "\r",
      " 43%|████▎     | 47/110 [1:17:48<2:37:40, 150.16s/it]"
     ]
    },
    {
     "name": "stdout",
     "output_type": "stream",
     "text": [
      "data_stm is empty (could not compute stm, skipping :  AQ2am_Jan26_30Hz  )\n",
      "DATA_STM:  (50, 901, 128, 128)\n",
      "    denoising data (pca.transofrm(X)) \n",
      "        done denoising data\n",
      "DATA_STM:  (50, 901, 128, 128)\n",
      "    denoising data (pca.transofrm(X)) \n",
      "        done denoising data\n"
     ]
    },
    {
     "name": "stderr",
     "output_type": "stream",
     "text": [
      "\r",
      " 44%|████▎     | 48/110 [1:21:04<2:49:11, 163.74s/it]"
     ]
    },
    {
     "name": "stdout",
     "output_type": "stream",
     "text": [
      "data_stm is empty (could not compute stm, skipping :  AQ2am_Jan27_30Hz  )\n",
      " ... session has no lever pulls  AQ2pm_Jan27_30Hz\n",
      " ... session has no lever pulls  AQ2am_Jan28_30Hz\n",
      " ... session has no lever pulls  AQ2pm_Jan28_30Hz\n",
      " ... session has no lever pulls  AQ2am_Jan29_30Hz\n",
      " ... session has no lever pulls  AQ2pm_Jan29_30Hz\n",
      "DATA_STM:  (17, 901, 128, 128)\n",
      "    denoising data (pca.transofrm(X)) \n",
      "        done denoising data\n",
      "DATA_STM:  (17, 901, 128, 128)\n",
      "    denoising data (pca.transofrm(X)) \n",
      "        done denoising data\n"
     ]
    },
    {
     "name": "stderr",
     "output_type": "stream",
     "text": [
      "\r",
      " 49%|████▉     | 54/110 [1:21:46<47:55, 51.34s/it]   "
     ]
    },
    {
     "name": "stdout",
     "output_type": "stream",
     "text": [
      "data_stm is empty (could not compute stm, skipping :  AQ2am_Feb2_30Hz  )\n",
      " ... session has no lever pulls  AQ2am_Feb3_30Hz\n",
      " ... session has no lever pulls  AQ2am_Feb4_30Hz\n",
      " ... session has no lever pulls  AQ2am_Feb5_30Hz\n",
      " ... session has no lever pulls  AQ2am_Feb9_30Hz\n",
      "DATA_STM:  (12, 901, 128, 128)\n",
      "    denoising data (pca.transofrm(X)) \n",
      "        done denoising data\n",
      "DATA_STM:  (12, 901, 128, 128)\n",
      "    denoising data (pca.transofrm(X)) \n",
      "        done denoising data\n"
     ]
    },
    {
     "name": "stderr",
     "output_type": "stream",
     "text": [
      "\r",
      " 54%|█████▎    | 59/110 [1:22:18<26:07, 30.73s/it]"
     ]
    },
    {
     "name": "stdout",
     "output_type": "stream",
     "text": [
      "data_stm is empty (could not compute stm, skipping :  AQ2am_Feb10_30Hz  )\n",
      "DATA_STM:  (1, 901, 128, 128)\n",
      "    denoising data (pca.transofrm(X)) \n",
      "        done denoising data\n",
      "DATA_STM:  (1, 901, 128, 128)\n",
      "    denoising data (pca.transofrm(X)) \n",
      "        done denoising data\n"
     ]
    },
    {
     "name": "stderr",
     "output_type": "stream",
     "text": [
      "\r",
      " 55%|█████▍    | 60/110 [1:22:32<23:54, 28.69s/it]"
     ]
    },
    {
     "name": "stdout",
     "output_type": "stream",
     "text": [
      "data_stm is empty (could not compute stm, skipping :  AQ2am_Feb11_30Hz  )\n",
      " ... session has no lever pulls  AQ2am_Feb12_30Hz\n",
      "data_stm is empty (could not compute stm, skipping :  AQ2am_Feb15_30Hz  )\n"
     ]
    },
    {
     "name": "stderr",
     "output_type": "stream",
     "text": [
      "\r",
      " 56%|█████▋    | 62/110 [1:22:43<18:19, 22.91s/it]"
     ]
    },
    {
     "name": "stdout",
     "output_type": "stream",
     "text": [
      "data_stm is empty (could not compute stm, skipping :  AQ2am_Feb15_30Hz  )\n",
      " ... session has no lever pulls  AQ2am_Feb16_30Hz\n",
      "DATA_STM:  (1, 901, 128, 128)\n",
      "    denoising data (pca.transofrm(X)) \n",
      "        done denoising data\n",
      "DATA_STM:  (1, 901, 128, 128)\n",
      "    denoising data (pca.transofrm(X)) \n",
      "        done denoising data\n"
     ]
    },
    {
     "name": "stderr",
     "output_type": "stream",
     "text": [
      "\r",
      " 58%|█████▊    | 64/110 [1:22:55<14:14, 18.57s/it]"
     ]
    },
    {
     "name": "stdout",
     "output_type": "stream",
     "text": [
      "data_stm is empty (could not compute stm, skipping :  AQ2am_Feb17_30Hz  )\n",
      "No video available:  AQ2am_Feb18_30Hz\n",
      " ... session has no lever pulls  AQ2am_Feb18_30Hz\n",
      "No video available:  AQ2am_Feb19_30Hz\n",
      " ... session has no lever pulls  AQ2am_Feb19_30Hz\n",
      "No video available:  AQ2am_Feb22_30Hz\n",
      " ... session has no lever pulls  AQ2am_Feb22_30Hz\n",
      "No video available:  AQ2am_Feb23_30Hz\n",
      " ... session has no lever pulls  AQ2am_Feb23_30Hz\n",
      "No video available:  AQ2am_Feb25_30Hz\n",
      " ... session has no lever pulls  AQ2am_Feb25_30Hz\n",
      "No video available:  AQ2am_Feb26_30Hz\n",
      " ... session has no lever pulls  AQ2am_Feb26_30Hz\n",
      "No video available:  AQ2am_Feb29_30Hz\n",
      " ... session has no lever pulls  AQ2am_Feb29_30Hz\n",
      "No video available:  AQ2am_Mar1_30Hz\n",
      " ... session has no lever pulls  AQ2am_Mar1_30Hz\n",
      "No video available:  AQ2am_Mar2_30Hz\n",
      " ... session has no lever pulls  AQ2am_Mar2_30Hz\n",
      "No video available:  AQ2am_Mar3_30Hz\n",
      " ... session has no lever pulls  AQ2am_Mar3_30Hz\n",
      "No video available:  AQ2pm_Mar7_Day3_30Hz\n",
      " ... session has no lever pulls  AQ2pm_Mar7_Day3_30Hz\n",
      "No video available:  AQ2pm_Mar9_Day5_30Hz\n",
      " ... session has no lever pulls  AQ2pm_Mar9_Day5_30Hz\n",
      "No video available:  AQ2pm_Mar11_Day7_30Hz\n",
      " ... session has no lever pulls  AQ2pm_Mar11_Day7_30Hz\n",
      "No video available:  AQ2am_Mar14_Week2_30Hz\n",
      " ... session has no lever pulls  AQ2am_Mar14_Week2_30Hz\n",
      "No video available:  AQ2pm_Mar15_Week2_30Hz\n",
      " ... session has no lever pulls  AQ2pm_Mar15_Week2_30Hz\n",
      "No video available:  AQ2am_Mar16_Week2_30Hz\n",
      " ... session has no lever pulls  AQ2am_Mar16_Week2_30Hz\n",
      "No video available:  AQ2am_Mar17_Week2_30Hz\n",
      " ... session has no lever pulls  AQ2am_Mar17_Week2_30Hz\n",
      "No video available:  AQ2am_Mar18_Week2_30Hz\n",
      " ... session has no lever pulls  AQ2am_Mar18_Week2_30Hz\n",
      "No video available:  AQ2am_Mar21_Week3_30Hz\n",
      " ... session has no lever pulls  AQ2am_Mar21_Week3_30Hz\n",
      "No video available:  AQ2am_Mar22_Week3_30Hz\n",
      " ... session has no lever pulls  AQ2am_Mar22_Week3_30Hz\n",
      "No video available:  AQ2am_Mar23_Week3_30Hz\n",
      " ... session has no lever pulls  AQ2am_Mar23_Week3_30Hz\n",
      "No video available:  AQ2am_Mar24_Week3_30Hz\n",
      " ... session has no lever pulls  AQ2am_Mar24_Week3_30Hz\n",
      "No video available:  AQ2am_Mar29_Week4_30Hz\n",
      " ... session has no lever pulls  AQ2am_Mar29_Week4_30Hz\n",
      "No video available:  AQ2am_Mar30_Week4_30Hz\n",
      " ... session has no lever pulls  AQ2am_Mar30_Week4_30Hz\n",
      "No video available:  AQ2am_Mar31_Week4_30Hz\n",
      " ... session has no lever pulls  AQ2am_Mar31_Week4_30Hz\n",
      "No video available:  AQ2am_Apr1_Week4_30Hz\n",
      " ... session has no lever pulls  AQ2am_Apr1_Week4_30Hz\n",
      "No video available:  AQ2am_Apr4_Week5_30Hz\n",
      " ... session has no lever pulls  AQ2am_Apr4_Week5_30Hz\n",
      "No video available:  AQ2am_Apr5_Week5_30Hz\n",
      " ... session has no lever pulls  AQ2am_Apr5_Week5_30Hz\n",
      "No video available:  AQ2am_Apr6_Week5_30Hz\n",
      " ... session has no lever pulls  AQ2am_Apr6_Week5_30Hz\n",
      "No video available:  AQ2am_Apr7_Week5_30Hz\n",
      " ... session has no lever pulls  AQ2am_Apr7_Week5_30Hz\n",
      "No video available:  AQ2am_Apr8_Week5_30Hz\n",
      " ... session has no lever pulls  AQ2am_Apr8_Week5_30Hz\n",
      "No video available:  AQ2am_Apr11_Week6_30Hz\n",
      " ... session has no lever pulls  AQ2am_Apr11_Week6_30Hz\n",
      "No video available:  AQ2am_Apr12_Week6_30Hz\n",
      " ... session has no lever pulls  AQ2am_Apr12_Week6_30Hz\n",
      "No video available:  AQ2am_Apr13_Week6_30Hz\n",
      " ... session has no lever pulls  AQ2am_Apr13_Week6_30Hz\n",
      "No video available:  AQ2am_Apr14_Week6_30Hz\n",
      " ... session has no lever pulls  AQ2am_Apr14_Week6_30Hz\n",
      "No video available:  AQ2am_Apr15_Week6_30Hz\n",
      " ... session has no lever pulls  AQ2am_Apr15_Week6_30Hz\n",
      "No video available:  AQ2am_Apr18_Week7_30Hz\n",
      " ... session has no lever pulls  AQ2am_Apr18_Week7_30Hz\n",
      "No video available:  AQ2am_Apr19_Week7_30Hz\n",
      " ... session has no lever pulls  AQ2am_Apr19_Week7_30Hz\n",
      "No video available:  AQ2am_Apr20_Week7_30Hz\n",
      " ... session has no lever pulls  AQ2am_Apr20_Week7_30Hz\n",
      " ... session has no lever pulls  AQ2am_Apr21_Week7_30Hz\n",
      "DATA_STM:  (1, 901, 128, 128)\n",
      "    denoising data (pca.transofrm(X)) \n",
      "        done denoising data\n",
      "DATA_STM:  (1, 901, 128, 128)\n",
      "    denoising data (pca.transofrm(X)) \n",
      "        done denoising data\n"
     ]
    },
    {
     "name": "stderr",
     "output_type": "stream",
     "text": [
      "\r",
      " 95%|█████████▌| 105/110 [1:23:10<00:12,  2.44s/it]"
     ]
    },
    {
     "name": "stdout",
     "output_type": "stream",
     "text": [
      "data_stm is empty (could not compute stm, skipping :  AQ2am_Apr22_Week7_30Hz  )\n",
      " ... session has no lever pulls  AQ2am_Apr25_Week8_30Hz\n",
      " ... session has no lever pulls  AQ2am_Apr26_Week8_30Hz\n",
      "DATA_STM:  (7, 901, 128, 128)\n",
      "    denoising data (pca.transofrm(X)) \n",
      "        done denoising data\n",
      "DATA_STM:  (7, 901, 128, 128)\n",
      "    denoising data (pca.transofrm(X)) \n",
      "        done denoising data\n"
     ]
    },
    {
     "name": "stderr",
     "output_type": "stream",
     "text": [
      "\r",
      " 98%|█████████▊| 108/110 [1:23:33<00:05,  2.89s/it]"
     ]
    },
    {
     "name": "stdout",
     "output_type": "stream",
     "text": [
      "data_stm is empty (could not compute stm, skipping :  AQ2am_Apr27_Week8_30Hz  )\n",
      "DATA_STM:  (2, 901, 128, 128)\n",
      "    denoising data (pca.transofrm(X)) \n",
      "        done denoising data\n",
      "DATA_STM:  (2, 901, 128, 128)\n",
      "    denoising data (pca.transofrm(X)) \n",
      "        done denoising data\n"
     ]
    },
    {
     "name": "stderr",
     "output_type": "stream",
     "text": [
      "100%|██████████| 110/110 [1:23:49<00:00, 45.72s/it]"
     ]
    },
    {
     "name": "stdout",
     "output_type": "stream",
     "text": [
      "data_stm is empty (could not compute stm, skipping :  AQ2am_Apr28_Week8_30Hz  )\n",
      " ... session has no lever pulls  AQ2am_Apr29_Week8_30Hz\n"
     ]
    },
    {
     "name": "stderr",
     "output_type": "stream",
     "text": [
      "\n"
     ]
    }
   ],
   "source": [
    "###########################################################################\n",
    "##### PROCESS [CA] DATA (EVENT TRIGGERED MAPS): ROI OR PCA TIME SERIES ####\n",
    "###########################################################################\n",
    "'''  Compute calcium activity in ROIs selected (35) for \n",
    "     lever pull actiivty\n",
    "     \n",
    "     or just use PCA time courses \n",
    "'''\n",
    "\n",
    "# Processing flags\n",
    "parallel = False  # THIS DOESN\"T REALLY WORK TOO MUCH MEMORY...\n",
    "n_cores = 3\n",
    "\n",
    "# select animal names\n",
    "names = ['IA1','IA2','IA3','IJ1','IJ2','AQ2'] # \"AR4\" and other datase\n",
    "#names = ['IJ1','IJ2','AQ2']\n",
    "\n",
    "\n",
    "# window to compute\n",
    "n_sec_window = 15\n",
    "lockout_window = 10   # no of seconds of previous movement / lever pull lockout\n",
    "recompute = True      # overwrite previously generated data\n",
    "\n",
    "# save PCA vs. ROI data; if selected, each dataset will be reduced to the PCs rquired to get to the explained var value\n",
    "pca_etm = True\n",
    "pca_explained_var_val = 0.95\n",
    "\n",
    "################################\n",
    "etm = ProcessCalcium()\n",
    "etm.main_dir = data_dir\n",
    "\n",
    "#\n",
    "etm.random_events_lockout = 3.0  # minimum number of seconds difference between a rewarded pull and a random/control \n",
    "etm.n_sec_window = n_sec_window \n",
    "etm.recompute = recompute\n",
    "etm.pca_fixed_comps = None  # fixed numer of components overrides explained_variance amount above\n",
    "\n",
    "# \n",
    "etm.remove_shift = True\n",
    "\n",
    "#\n",
    "sessions = ['all']\n",
    "features = ['left_paw','right_paw','jaw']\n",
    "for feature in features:\n",
    "    etm.feature_name = feature\n",
    "    etm.feature_quiescence = 3    # number of seconds of no-movement prior to feature movement ;not applicable to code-04\n",
    "                                    # this value is computed in generate_movements_quiescence_periods notebook;\n",
    "\n",
    "    # \n",
    "    #etm.skip_to = 'Mar14_'  # flag to pickup reprocessing at some point; only used if overwrite flag is set to True and need to partially restart\n",
    "    etm.skip_to = None  # \n",
    "\n",
    "    #\n",
    "    for session in sessions:\n",
    "        # \n",
    "        etm.sessions = session\n",
    "\n",
    "        # \n",
    "        etm.generate_etm(names,\n",
    "                         n_sec_window,\n",
    "                         lockout_window,\n",
    "                         recompute,\n",
    "                         pca_etm,\n",
    "                         pca_explained_var_val,\n",
    "                         parallel,\n",
    "                         n_cores,\n",
    "                         )                \n"
   ]
  },
  {
   "cell_type": "code",
   "execution_count": 4,
   "metadata": {},
   "outputs": [
    {
     "name": "stdout",
     "output_type": "stream",
     "text": [
      "(10, 11, 1801)\n",
      "(10, 11, 1801)\n"
     ]
    }
   ],
   "source": [
    "d1 = np.load('/media/cat/4TBSSD/yuki/IA1/tif_files/IA1pm_Apr7_30Hz/IA1pm_Apr7_30Hz_code_04_trial_ROItimeCourses_30sec_pca_0.95.npy')\n",
    "print (d1.shape)\n",
    "\n",
    "d2 = np.load('/media/cat/4TBSSD/yuki/IA1/tif_files/IA1pm_Apr7_30Hz/IA1pm_Apr7_30Hz_code_04_random_ROItimeCourses_30sec_pca_0.95.npy')\n",
    "print (d2.shape)"
   ]
  },
  {
   "cell_type": "code",
   "execution_count": 12,
   "metadata": {},
   "outputs": [
    {
     "name": "stdout",
     "output_type": "stream",
     "text": [
      "['left_paw' 'right_paw' 'nose' 'jaw' 'right_ear' 'tongue' 'lever']\n"
     ]
    }
   ],
   "source": [
    "data = np.load('/media/cat/4TBSSD/yuki/IA1/tif_files/IA1pm_Feb1_30Hz/IA1pm_Feb1_30Hz_5secNoMove_movements.npz',allow_pickle=True)\n",
    "labels=data['labels']\n",
    "print (labels)"
   ]
  },
  {
   "cell_type": "code",
   "execution_count": 5,
   "metadata": {},
   "outputs": [
    {
     "name": "stdout",
     "output_type": "stream",
     "text": [
      "7\n"
     ]
    }
   ],
   "source": [
    "data = np.load('/media/cat/4TBSSD/yuki/IJ1/tif_files/IJ1pm_Feb3_30Hz/IJ1pm_Feb3_30Hz_5secNoMove_movements.npz',allow_pickle=True)\n",
    "features = data['feature_movements']\n",
    "print (len(features))"
   ]
  },
  {
   "cell_type": "code",
   "execution_count": null,
   "metadata": {},
   "outputs": [],
   "source": []
  },
  {
   "cell_type": "code",
   "execution_count": null,
   "metadata": {},
   "outputs": [],
   "source": []
  },
  {
   "cell_type": "code",
   "execution_count": null,
   "metadata": {},
   "outputs": [],
   "source": []
  },
  {
   "cell_type": "code",
   "execution_count": null,
   "metadata": {},
   "outputs": [],
   "source": []
  },
  {
   "cell_type": "code",
   "execution_count": null,
   "metadata": {},
   "outputs": [],
   "source": []
  },
  {
   "cell_type": "code",
   "execution_count": null,
   "metadata": {},
   "outputs": [],
   "source": []
  },
  {
   "cell_type": "code",
   "execution_count": null,
   "metadata": {},
   "outputs": [],
   "source": []
  },
  {
   "cell_type": "code",
   "execution_count": null,
   "metadata": {},
   "outputs": [],
   "source": []
  },
  {
   "cell_type": "code",
   "execution_count": null,
   "metadata": {},
   "outputs": [],
   "source": []
  },
  {
   "cell_type": "code",
   "execution_count": null,
   "metadata": {},
   "outputs": [],
   "source": []
  },
  {
   "cell_type": "code",
   "execution_count": null,
   "metadata": {},
   "outputs": [],
   "source": []
  },
  {
   "cell_type": "code",
   "execution_count": null,
   "metadata": {},
   "outputs": [],
   "source": []
  },
  {
   "cell_type": "code",
   "execution_count": null,
   "metadata": {},
   "outputs": [],
   "source": []
  },
  {
   "cell_type": "code",
   "execution_count": null,
   "metadata": {},
   "outputs": [],
   "source": []
  },
  {
   "cell_type": "code",
   "execution_count": null,
   "metadata": {},
   "outputs": [],
   "source": [
    "OLDER CODE BELOW"
   ]
  },
  {
   "cell_type": "code",
   "execution_count": 11,
   "metadata": {},
   "outputs": [
    {
     "name": "stdout",
     "output_type": "stream",
     "text": [
      "Self session: IA1pm_Feb23_30Hz\n",
      "Self session: IA1pm_Feb23_30Hz\n"
     ]
    }
   ],
   "source": [
    "#############################################\n",
    "############## VISUALIZE RESULTS ############\n",
    "#############################################\n",
    "    \n",
    "# LEVER PULL\n",
    "vis = Visualize()\n",
    "\n",
    "# lever-related data\n",
    "vis.main_dir = data_dir\n",
    "vis.random_flag = False  # shuffle data to show baseline\n",
    "\n",
    "# \n",
    "vis.window = 10\n",
    "vis.lockout_window = 10\n",
    "vis.code = 'code_04'\n",
    "vis.lockout = False\n",
    "\n",
    "vis.animal_id = \"IA1\"\n",
    "vis.session_id = \"Feb23_\"\n",
    "title = vis.animal_id + \"  \"+vis.session_id\n",
    "\n",
    "#############################################\n",
    "############## DECISION TYPE ################\n",
    "#############################################\n",
    "# select animal and session\n",
    "\n",
    "# load pca \n",
    "fig =plt.figure()\n",
    "\n",
    "# ax=plt.subplot(2,3,1)\n",
    "# vis.pca_flag = False\n",
    "# vis.lockout = True\n",
    "# vis.pca_var = 0.99\n",
    "# vis.plot_decision_choice('black',str(vis.pca_var),title, ax)\n",
    "\n",
    "# vis.lockout = True\n",
    "# vis.plot_decision_choice('blue',str(vis.pca_var)+\" lockout\",title, ax)\n",
    "\n",
    "# \n",
    "# vis.lockout = True\n",
    "# vis.plot_decision_choice('blue',str(vis.pca_var) + \" lockout\",title, ax)\n",
    "\n",
    "\n",
    "# \n",
    "vars_ = [0.95]\n",
    "for k in range(len(vars_)):\n",
    "    #ax=plt.subplot(2,3,k+2)\n",
    "    ax=plt.subplot(1,1,k+1)\n",
    "    vis.pca_flag = True\n",
    "    vis.lockout = False\n",
    "    vis.pca_var = vars_[k]\n",
    "    vis.plot_decision_choice('black',str(vis.pca_var),title, ax)\n",
    "\n",
    "    # \n",
    "    vis.pca_flag = True\n",
    "    vis.lockout = True\n",
    "    vis.plot_decision_choice('blue',str(vis.pca_var)+\" lockout\",title, ax)\n",
    "\n",
    "# vis.pca_flag = True\n",
    "# vis.pca_var = 0.99\n",
    "# ax=plt.subplot(2,3,2)\n",
    "# vis.plot_decision_choice('blue','xxpcs_0.99Variance',title, ax)\n",
    "\n",
    "\n",
    "# vis.pca_flag = True\n",
    "# vis.pca_var = 0.95\n",
    "# ax=plt.subplot(2,3,3)\n",
    "# vis.plot_decision_choice('red','8pcs_0.95Variance',title, ax)\n",
    "\n",
    "# vis.pca_flag = True\n",
    "# vis.pca_var = 0.90\n",
    "# ax=plt.subplot(2,3,4)\n",
    "# vis.plot_decision_choice('green','4pcs_0.90Variance',title, ax)\n",
    "\n",
    "\n",
    "# vis.pca_var = 0.50\n",
    "# ax=plt.subplot(2,3,5)\n",
    "# vis.plot_decision_choice('magenta','2pcs_0.50Variance',title, ax)\n",
    "\n",
    "\n",
    "# fname = vis.main_dir+'/'+animal_id+'/SVM_scores_'+animal_id+'_lockout_'+str(session)+'.npy'\n",
    "# vis.load_data(fname)\n",
    "# vis.plot_decision_choice('blue','lockout-denoised')\n"
   ]
  },
  {
   "cell_type": "code",
   "execution_count": null,
   "metadata": {},
   "outputs": [],
   "source": []
  },
  {
   "cell_type": "code",
   "execution_count": null,
   "metadata": {},
   "outputs": [],
   "source": []
  },
  {
   "cell_type": "code",
   "execution_count": 7,
   "metadata": {},
   "outputs": [
    {
     "name": "stdout",
     "output_type": "stream",
     "text": [
      "(1500, 16384)\n"
     ]
    }
   ],
   "source": [
    "import pickle as pk\n",
    "\n",
    "file = open('/media/cat/4TBSSD/yuki/IA1/tif_files/IA1pm_Feb3_30Hz/IA1pm_Feb3_30Hz_code_04_lockout_10sec_trial_ROItimeCourses_10sec_pca.pkl', 'rb')\n",
    "\n",
    "# dump information to that file\n",
    "pca = pk.load(file)\n",
    "\n",
    "print (pca.components_.shape)\n"
   ]
  },
  {
   "cell_type": "code",
   "execution_count": 9,
   "metadata": {},
   "outputs": [
    {
     "name": "stdout",
     "output_type": "stream",
     "text": [
      "(62, 601, 128, 128)\n"
     ]
    }
   ],
   "source": [
    "data_stm = np.load('/media/cat/4TBSSD/yuki/IA1/tif_files/IA1pm_Feb3_30Hz/IA1pm_Feb3_30Hz_10.0sec_butterworth_globalAverage_0.1hz_6.0hz_04code_stm.npy')\n",
    "print (data_stm.shape)"
   ]
  },
  {
   "cell_type": "code",
   "execution_count": 10,
   "metadata": {},
   "outputs": [
    {
     "ename": "NameError",
     "evalue": "name 'nComp' is not defined",
     "output_type": "error",
     "traceback": [
      "\u001b[0;31m---------------------------------------------------------------------------\u001b[0m",
      "\u001b[0;31mNameError\u001b[0m                                 Traceback (most recent call last)",
      "\u001b[0;32m<ipython-input-10-f869b1fe5d18>\u001b[0m in \u001b[0;36m<module>\u001b[0;34m\u001b[0m\n\u001b[1;32m      5\u001b[0m \u001b[0mmu\u001b[0m\u001b[0;34m=\u001b[0m \u001b[0mnp\u001b[0m\u001b[0;34m.\u001b[0m\u001b[0mmean\u001b[0m\u001b[0;34m(\u001b[0m\u001b[0mX\u001b[0m\u001b[0;34m,\u001b[0m \u001b[0maxis\u001b[0m\u001b[0;34m=\u001b[0m\u001b[0;36m0\u001b[0m\u001b[0;34m)\u001b[0m\u001b[0;34m\u001b[0m\u001b[0;34m\u001b[0m\u001b[0m\n\u001b[1;32m      6\u001b[0m \u001b[0;34m\u001b[0m\u001b[0m\n\u001b[0;32m----> 7\u001b[0;31m Xnew = np.dot(pca.transform(X)[:,:nComp],\n\u001b[0m\u001b[1;32m      8\u001b[0m              pca.components_[:nComp,:])\n\u001b[1;32m      9\u001b[0m \u001b[0;34m\u001b[0m\u001b[0m\n",
      "\u001b[0;31mNameError\u001b[0m: name 'nComp' is not defined"
     ]
    }
   ],
   "source": [
    "# \n",
    "X = data_stm.reshape(data_stm.shape[0]*data_stm.shape[1],\n",
    "                     data_stm.shape[2]*data_stm.shape[3])\n",
    "\n",
    "mu= np.mean(X, axis=0)\n"
   ]
  },
  {
   "cell_type": "code",
   "execution_count": 11,
   "metadata": {},
   "outputs": [],
   "source": [
    "nComp = 9\n",
    "Xnew = np.dot(pca.transform(X)[:,:nComp],\n",
    "             pca.components_[:nComp,:])\n",
    "\n",
    "Xnew+=mu\n",
    "\n",
    "data_stm_denoised_reshaped = Xnew.reshape(data_stm.shape[0], data_stm.shape[1],\n",
    "                                          data_stm.shape[2], data_stm.shape[3])\n"
   ]
  },
  {
   "cell_type": "code",
   "execution_count": 17,
   "metadata": {},
   "outputs": [
    {
     "name": "stdout",
     "output_type": "stream",
     "text": [
      "(62, 9, 601)\n"
     ]
    }
   ],
   "source": [
    "time_filters = pca.transform(X)[:,:nComp]\n",
    "pca_time_filters_only = time_filters.reshape(data_stm.shape[0], data_stm.shape[1],-1).transpose(0,2,1)\n",
    "print (pca_time_filters_only.shape)\n"
   ]
  },
  {
   "cell_type": "code",
   "execution_count": 15,
   "metadata": {},
   "outputs": [
    {
     "name": "stdout",
     "output_type": "stream",
     "text": [
      "(62, 601, 9)\n"
     ]
    }
   ],
   "source": []
  },
  {
   "cell_type": "code",
   "execution_count": 21,
   "metadata": {},
   "outputs": [
    {
     "name": "stdout",
     "output_type": "stream",
     "text": [
      "(82, 2, 601)\n"
     ]
    }
   ],
   "source": [
    "data = np.load('/media/cat/4TBSSD/yuki/IA1/tif_files/IA1pm_Feb23_30Hz/IA1pm_Feb23_30Hz_code_04_trial_ROItimeCourses_10sec_pca_0.5.npy')\n",
    "print (data.shape)"
   ]
  },
  {
   "cell_type": "code",
   "execution_count": 76,
   "metadata": {},
   "outputs": [
    {
     "name": "stdout",
     "output_type": "stream",
     "text": [
      "(62, 35, 601)\n"
     ]
    }
   ],
   "source": [
    "# -*- coding: utf-8 -*-\n",
    "\"\"\"Cat Data.ipynb\n",
    "\n",
    "Automatically generated by Colaboratory.\n",
    "\n",
    "Original file is located at\n",
    "    https://colab.research.google.com/drive/1r-NABuBJOITVlW03VvhsQivPNzmNp4yp\n",
    "\"\"\"\n",
    "\n",
    "import numpy as np\n",
    "import sklearn\n",
    "from sklearn.model_selection import train_test_split\n",
    "import matplotlib.pyplot as plt\n",
    "from sklearn.model_selection import KFold \n",
    "from sklearn import preprocessing\n",
    "from sklearn.model_selection import cross_val_score\n",
    "from sklearn import svm\n",
    "import pandas as pd\n",
    "from sklearn.metrics import confusion_matrix  \n",
    "import random\n",
    "from scipy import stats\n",
    "from matplotlib.pyplot import MultipleLocator\n",
    "import os\n",
    "\n",
    "\n",
    "jobid = os.getenv('SLURM_ARRAY_TASK_ID')\n",
    "name='IA1_lockout'\n",
    "\n",
    "data_leverpress = np.load('/media/cat/4TBSSD/yuki/temp/IA1/data_04.npy',allow_pickle=True)[0]\n",
    "data_random = np.load('/media/cat/4TBSSD/yuki/temp/IA1/data_04_random.npy',allow_pickle=True)[0]\n",
    "\n",
    "print (data_leverpress.shape)\n"
   ]
  },
  {
   "cell_type": "code",
   "execution_count": 77,
   "metadata": {},
   "outputs": [
    {
     "name": "stderr",
     "output_type": "stream",
     "text": [
      "<ipython-input-77-0c90c545bbff>:41: RuntimeWarning: invalid value encountered in true_divide\n",
      "  conf_matrix_norm = confusion_m.astype('float') / confusion_m.sum(axis=1)[:,np.newaxis] #calculate the precision\n",
      "<ipython-input-77-0c90c545bbff>:41: RuntimeWarning: invalid value encountered in true_divide\n",
      "  conf_matrix_norm = confusion_m.astype('float') / confusion_m.sum(axis=1)[:,np.newaxis] #calculate the precision\n",
      "<ipython-input-77-0c90c545bbff>:41: RuntimeWarning: invalid value encountered in true_divide\n",
      "  conf_matrix_norm = confusion_m.astype('float') / confusion_m.sum(axis=1)[:,np.newaxis] #calculate the precision\n",
      "<ipython-input-77-0c90c545bbff>:41: RuntimeWarning: invalid value encountered in true_divide\n",
      "  conf_matrix_norm = confusion_m.astype('float') / confusion_m.sum(axis=1)[:,np.newaxis] #calculate the precision\n",
      "<ipython-input-77-0c90c545bbff>:41: RuntimeWarning: invalid value encountered in true_divide\n",
      "  conf_matrix_norm = confusion_m.astype('float') / confusion_m.sum(axis=1)[:,np.newaxis] #calculate the precision\n",
      "<ipython-input-77-0c90c545bbff>:41: RuntimeWarning: invalid value encountered in true_divide\n",
      "  conf_matrix_norm = confusion_m.astype('float') / confusion_m.sum(axis=1)[:,np.newaxis] #calculate the precision\n",
      "<ipython-input-77-0c90c545bbff>:41: RuntimeWarning: invalid value encountered in true_divide\n",
      "  conf_matrix_norm = confusion_m.astype('float') / confusion_m.sum(axis=1)[:,np.newaxis] #calculate the precision\n",
      "<ipython-input-77-0c90c545bbff>:41: RuntimeWarning: invalid value encountered in true_divide\n",
      "  conf_matrix_norm = confusion_m.astype('float') / confusion_m.sum(axis=1)[:,np.newaxis] #calculate the precision\n"
     ]
    }
   ],
   "source": [
    "\n",
    "\n",
    "#classification of time (10-class)\n",
    "X_l=data_leverpress #  [n_trials, n_areas, n_time_steps]\n",
    "X_l=X_l.transpose((0,2,1))\n",
    "\n",
    "\n",
    "X_R_l= X_l.reshape(-1,X_l.shape[1]*X_l.shape[2])\n",
    "normal_X_l = preprocessing.normalize(X_R_l)\n",
    "n_X_l=normal_X_l.reshape(X_l.shape[0],X_l.shape[1],X_l.shape[2])\n",
    "X_l=n_X_l\n",
    "\n",
    "X_l=X_l[:,:300,:]\n",
    "X_k=X_l[:,0:30,:]\n",
    "X_k=X_k.reshape(X_k.shape[0],X_k.shape[1]*X_k.shape[2])\n",
    "for i in range(30,271,30):\n",
    "    X_t = X_l[:,i:i+30,:]\n",
    "    X_t=X_t.reshape(X_t.shape[0],X_t.shape[1]*X_t.shape[2])\n",
    "    X_k=np.concatenate((X_k,X_t),axis=0)\n",
    "\n",
    "y_ct=np.zeros(data_leverpress.shape[0])\n",
    "for i in range(1,10):\n",
    "    Z_ct=i*np.ones(data_leverpress.shape[0])\n",
    "    y_ct=np.concatenate((y_ct,Z_ct))\n",
    "\n",
    "# \n",
    "X_tSVM=X_k # 10s * 30frams\n",
    "y_tSVM=y_ct # labels\n",
    "\n",
    "#10-fold confusion matrix\n",
    "clf = svm.SVC() # Non-linear classifier\n",
    "ten_svm=[]\n",
    "conf_matrix_ten=[]\n",
    "kf = KFold(n_splits=10,random_state=None, shuffle=True) \n",
    "for train_index, test_index in kf.split(X_tSVM):\n",
    "    X_train_k, X_test_k = X_tSVM[train_index], X_tSVM[test_index] \n",
    "    y_train_k, y_test_k = y_tSVM[train_index], y_tSVM[test_index]\n",
    "    clf.fit(X_train_k, y_train_k)\n",
    "    score=clf.score(X_test_k, y_test_k)\n",
    "    y_predicted=clf.predict(X_test_k)\n",
    "    cm=confusion_matrix(y_test_k,y_predicted)\n",
    "    confusion_m=cm.T # make each row be the prediction\n",
    "    conf_matrix_norm = confusion_m.astype('float') / confusion_m.sum(axis=1)[:,np.newaxis] #calculate the precision\n",
    "    conf_matrix_norm = np.nan_to_num(conf_matrix_norm)\n",
    "    ten_svm.append(score)\n",
    "    conf_matrix_ten.append(conf_matrix_norm)\n",
    "np.save('conf_10_'+str(name)+'_'+str(jobid)+'.npy',conf_matrix_ten)\n",
    "sc=np.mean(conf_matrix_ten,axis=0) # mean of confusion matrix\n",
    "np.save('conf_avg_'+str(name)+'_'+str(jobid)+'.npy',sc)"
   ]
  },
  {
   "cell_type": "code",
   "execution_count": 78,
   "metadata": {},
   "outputs": [
    {
     "name": "stderr",
     "output_type": "stream",
     "text": [
      "<ipython-input-78-40a74f02ec5b>:57: RuntimeWarning: divide by zero encountered in double_scalars\n",
      "  t=(a-(1/10))/s\n"
     ]
    }
   ],
   "source": [
    "\n",
    "#Next is the plotting.\n",
    "\n",
    "confusion_10=sc.diagonal()\n",
    "np.save('diagonal_'+str(name)+'_'+str(jobid)+'.npy',confusion_10)\n",
    "confusion_s=conf_matrix_ten\n",
    "\n",
    "confusion_d=[]\n",
    "for i in range(0,10):\n",
    "    confusion_d.append(confusion_s[i].diagonal())\n",
    "x_std=np.std(confusion_d,axis=0)/(10**0.5)\n",
    "x_s=x_std\n",
    "\n",
    "\n",
    "fig = plt.figure(figsize=(21.5,20), dpi=64, facecolor='white')\n",
    "plt.xticks(fontsize=60)\n",
    "plt.yticks(fontsize=60)\n",
    "axes = plt.subplot(111)\n",
    "axes.tick_params(axis ='both', which ='both', length = 10,width=4,pad=20)\n",
    "\n",
    "bwith = 3 \n",
    "ax = plt.gca()\n",
    "ax.spines['bottom'].set_linewidth(bwith)\n",
    "ax.spines['left'].set_linewidth(bwith)\n",
    "ax.spines['top'].set_linewidth(bwith)\n",
    "ax.spines['right'].set_linewidth(bwith)\n",
    "l=15\n",
    "\n",
    "Y=np.linspace(0,1,12)\n",
    "X=np.ones(Y.size)\n",
    "x=np.arange(-9.5,0.5,1)\n",
    "plt.text(0.1, 0.2, 'Lever Pull', fontdict={'size': 70}, rotation=90)\n",
    "plt.text(-12.95, 1/10, 'Chance', fontdict={'size': 60}, rotation=0)\n",
    "plt.axhline(y=1/10, color='black', linestyle='--',linewidth=6)\n",
    "\n",
    "plt.errorbar(x,confusion_10,x_s,c='red',alpha=0.6,marker='s', mec='red', ms=3, mew=3,label='SVM',linewidth=l,elinewidth=12)\n",
    "\n",
    "plt.plot( (0+0)*X, Y, color='black',ls='--',linewidth=6)\n",
    "\n",
    "plt.title('Decoding decision time',fontdict={'size': 110},pad=60)\n",
    "plt.xlabel('Time before Lever Pull (s)',fontdict={'size': 110},labelpad=60)\n",
    "plt.ylabel('Decoding Accuracy',fontdict={'size': 110},labelpad=180)\n",
    "plt.ylim(ymax = 1.09)\n",
    "ax=plt.gca()\n",
    "ax.xaxis.set_major_locator(MultipleLocator(2))\n",
    "ax.xaxis.set_minor_locator(MultipleLocator(1))\n",
    "ax.yaxis.set_major_locator(MultipleLocator(0.2))\n",
    "ax.yaxis.set_minor_locator(MultipleLocator(0.1))\n",
    "\n",
    "plt.xlim(xmin = -10.5)\n",
    "plt.xlim(xmax = 0.9)\n",
    "\n",
    "for i in range(0,10):\n",
    "    a=confusion_10[i]\n",
    "    b=x_s[i]\n",
    "    n=10\n",
    "    s=b\n",
    "    t=(a-(1/10))/s\n",
    "    df=n-1\n",
    "    p = (1 - stats.t.cdf(t,df=df))\n",
    "    \n",
    "    if (p > 0.01 and p <= 0.05):\n",
    "        plt.plot(-9.5+i, confusion_10[i]+x_std[i]+0.06, '*',c='black', ms=20)\n",
    "        \n",
    "    if (p > 0.00001 and p <= 0.01):\n",
    "        plt.plot(-9.5+i,confusion_10[i]+x_std[i]+0.06,'*',c='black', ms=20)\n",
    "        plt.plot(-9.5+i,confusion_10[i]+x_std[i]+0.08,'*',c='black', ms=20)\n",
    "    if  p <= 0.00001:\n",
    "        plt.plot(-9.5+i,confusion_10[i]+x_std[i]+0.06,'*',c='black', ms=20)\n",
    "        plt.plot(-9.5+i,confusion_10[i]+x_std[i]+0.08,'*',c='black', ms=20)\n",
    "        plt.plot(-9.5+i,confusion_10[i]+x_std[i]+0.10,'*',c='black', ms=20)\n",
    "\n",
    "plt.show()\n",
    "#plt.savefig('./time_svm_'+str(jobid)+'.jpg')\n",
    "#plt.close()"
   ]
  },
  {
   "cell_type": "code",
   "execution_count": 10,
   "metadata": {},
   "outputs": [
    {
     "name": "stdout",
     "output_type": "stream",
     "text": [
      "(7, 16384)\n"
     ]
    }
   ],
   "source": [
    "data= np.load('/media/cat/4TBSSD/yuki/IJ2/tif_files/IJ2pm_Mar3_30Hz/IJ2pm_Mar3_30Hz_code_04_lockout_10sec_random_ROItimeCourses_10sec_pca_0.95_spatial.npy')\n",
    "print (data.shape)"
   ]
  },
  {
   "cell_type": "code",
   "execution_count": null,
   "metadata": {},
   "outputs": [],
   "source": []
  }
 ],
 "metadata": {
  "kernelspec": {
   "display_name": "Python 3",
   "language": "python",
   "name": "python3"
  },
  "language_info": {
   "codemirror_mode": {
    "name": "ipython",
    "version": 3
   },
   "file_extension": ".py",
   "mimetype": "text/x-python",
   "name": "python",
   "nbconvert_exporter": "python",
   "pygments_lexer": "ipython3",
   "version": "3.8.8"
  }
 },
 "nbformat": 4,
 "nbformat_minor": 4
}
