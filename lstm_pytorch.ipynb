{
 "cells": [
  {
   "cell_type": "code",
   "execution_count": 2,
   "metadata": {},
   "outputs": [
    {
     "data": {
      "text/plain": [
       "<torch._C.Generator at 0x7fdbb83778b0>"
      ]
     },
     "execution_count": 2,
     "metadata": {},
     "output_type": "execute_result"
    }
   ],
   "source": [
    "# Author: Robert Guthrie\n",
    "\n",
    "import torch\n",
    "import torch.nn as nn\n",
    "import torch.nn.functional as F\n",
    "import torch.optim as optim\n",
    "\n",
    "torch.manual_seed(1)"
   ]
  },
  {
   "cell_type": "code",
   "execution_count": 6,
   "metadata": {},
   "outputs": [
    {
     "name": "stdout",
     "output_type": "stream",
     "text": [
      "inputs:  [tensor([[ 1.5980, -1.1685,  0.7591]]), tensor([[-1.8689,  0.5573,  0.1582]]), tensor([[-0.9813, -0.8757, -0.2630]]), tensor([[ 0.0085,  0.0678, -0.2043]]), tensor([[-0.5243, -0.3088,  0.4444]])]\n",
      "hidden:  (tensor([[[-0.0183,  0.0531,  0.2621]]], grad_fn=<StackBackward>), tensor([[[-0.0553,  0.0805,  0.6063]]], grad_fn=<StackBackward>))\n",
      "hidden:  (tensor([[[ 0.0085,  0.1370, -0.1178]]], grad_fn=<StackBackward>), tensor([[[ 0.0503,  0.4475, -0.1550]]], grad_fn=<StackBackward>))\n",
      "hidden:  (tensor([[[-0.0510,  0.0022, -0.1677]]], grad_fn=<StackBackward>), tensor([[[-0.1318,  0.0050, -0.3585]]], grad_fn=<StackBackward>))\n",
      "hidden:  (tensor([[[-0.0770, -0.1074, -0.1255]]], grad_fn=<StackBackward>), tensor([[[-0.1931, -0.2494, -0.2665]]], grad_fn=<StackBackward>))\n",
      "hidden:  (tensor([[[-0.0685, -0.0587, -0.1290]]], grad_fn=<StackBackward>), tensor([[[-0.2283, -0.1268, -0.2386]]], grad_fn=<StackBackward>))\n",
      "tensor([[[-0.3523, -0.1986, -0.0293]],\n",
      "\n",
      "        [[-0.0479,  0.0770, -0.2477]],\n",
      "\n",
      "        [[-0.0850, -0.0329, -0.1901]],\n",
      "\n",
      "        [[-0.0871, -0.1179, -0.1385]],\n",
      "\n",
      "        [[-0.0711, -0.0625, -0.1355]]], grad_fn=<StackBackward>)\n",
      "(tensor([[[-0.0711, -0.0625, -0.1355]]], grad_fn=<StackBackward>), tensor([[[-0.2366, -0.1357, -0.2507]]], grad_fn=<StackBackward>))\n"
     ]
    }
   ],
   "source": [
    "lstm = nn.LSTM(3, 3)  # Input dim is 3, output dim is 3\n",
    "inputs = [torch.randn(1, 3) for _ in range(5)]  # make a sequence of length 5\n",
    "print ('inputs: ', inputs)\n",
    "\n",
    "\n",
    "# initialize the hidden state.\n",
    "hidden = (torch.randn(1, 1, 3),\n",
    "          torch.randn(1, 1, 3))\n",
    "\n",
    "for i in inputs:\n",
    "    # Step through the sequence one element at a time.\n",
    "    # after each step, hidden contains the hidden state.\n",
    "    out, hidden = lstm(i.view(1, 1, -1), hidden)\n",
    "    print (\"hidden: \", hidden)\n",
    "\n",
    "# alternatively, we can do the entire sequence all at once.\n",
    "# the first value returned by LSTM is all of the hidden states throughout\n",
    "# the sequence. the second is just the most recent hidden state\n",
    "# (compare the last slice of \"out\" with \"hidden\" below, they are the same)\n",
    "# The reason for this is that:\n",
    "# \"out\" will give you access to all hidden states in the sequence\n",
    "# \"hidden\" will allow you to continue the sequence and backpropagate,\n",
    "# by passing it as an argument  to the lstm at a later time\n",
    "# Add the extra 2nd dimension\n",
    "inputs = torch.cat(inputs).view(len(inputs), 1, -1)\n",
    "hidden = (torch.randn(1, 1, 3), torch.randn(1, 1, 3))  # clean out hidden state\n",
    "out, hidden = lstm(inputs, hidden)\n",
    "print(out)\n",
    "print(hidden)"
   ]
  },
  {
   "cell_type": "code",
   "execution_count": null,
   "metadata": {},
   "outputs": [],
   "source": []
  }
 ],
 "metadata": {
  "kernelspec": {
   "display_name": "Python 3",
   "language": "python",
   "name": "python3"
  },
  "language_info": {
   "codemirror_mode": {
    "name": "ipython",
    "version": 3
   },
   "file_extension": ".py",
   "mimetype": "text/x-python",
   "name": "python",
   "nbconvert_exporter": "python",
   "pygments_lexer": "ipython3",
   "version": "3.8.8"
  }
 },
 "nbformat": 4,
 "nbformat_minor": 4
}
