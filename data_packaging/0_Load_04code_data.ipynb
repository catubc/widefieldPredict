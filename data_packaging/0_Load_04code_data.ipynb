{
 "cells": [
  {
   "cell_type": "code",
   "execution_count": 1,
   "metadata": {},
   "outputs": [
    {
     "data": {
      "application/javascript": [
       "IPython.notebook.set_autosave_interval(180000)"
      ]
     },
     "metadata": {},
     "output_type": "display_data"
    },
    {
     "name": "stdout",
     "output_type": "stream",
     "text": [
      "Autosaving every 180 seconds\n"
     ]
    },
    {
     "data": {
      "text/html": [
       "<style>.container { width:100% !important; }</style>"
      ],
      "text/plain": [
       "<IPython.core.display.HTML object>"
      ]
     },
     "metadata": {},
     "output_type": "display_data"
    }
   ],
   "source": [
    "import matplotlib\n",
    "#matplotlib.use('Agg')\n",
    "%matplotlib tk\n",
    "%autosave 180\n",
    "import matplotlib.pyplot as plt\n",
    "from IPython.core.display import display, HTML\n",
    "display(HTML(\"<style>.container { width:100% !important; }</style>\"))\n",
    "import numpy as np\n",
    "\n"
   ]
  },
  {
   "cell_type": "code",
   "execution_count": 2,
   "metadata": {},
   "outputs": [],
   "source": [
    "# LOAD DATA FROM .NPZ FILE\n",
    "def load_data(fname, \n",
    "              return_all_sessions=False,\n",
    "              return_good_sessions=False,\n",
    "              return_best_sessions=True):\n",
    "              \n",
    "    data = np.load(fname,allow_pickle=True)\n",
    "    data_04 = data['data_04']\n",
    "    data_04_random = data['data_04_random'] \n",
    "    data_04_lockout = data['data_04_lockout']\n",
    "    data_04_lockout_random= data['data_04_lockout_random']\n",
    "    session_list = data['session_list']\n",
    "    ctr_list = data['ctr_list']\n",
    "\n",
    "    selected_sessions = data['selected_sessions']\n",
    "    best_sessions = data['best_sessions']\n",
    "    \n",
    "    # MAKE PRINTOUT TABLE\n",
    "    print (\"rec id,          rec name,           all rewarded trials,   10sec lockout rewarded trials (*** good sessions; ####### best 3 sessions\")\n",
    "    for ctr,recording in enumerate(session_list):\n",
    "        prefix = '       '\n",
    "        if ctr in selected_sessions:\n",
    "            if ctr in best_sessions:\n",
    "                prefix=\"#######\"\n",
    "            else:\n",
    "                prefix='    ***'\n",
    "\n",
    "        print (prefix,ctr, \"     \", recording,\"    \", data_04[ctr].shape, \"        \", data_04_lockout[ctr].shape)\n",
    "\n",
    "    print (\"\")\n",
    "    print (\"\")\n",
    "        \n",
    "    # RETURN  SESSIONS\n",
    "    if return_all_sessions==True:\n",
    "        print (\"Returning all sessions\")\n",
    "        idx = ctr_list\n",
    "    elif return_good_sessions==True:\n",
    "        print (\"Returning good sessions\")\n",
    "        idx = selected_sessions\n",
    "    else:\n",
    "        print (\"Returning best sessions\")\n",
    "        idx = best_sessions\n",
    "        \n",
    "    return ctr_list[idx], \\\n",
    "           session_list[idx], \\\n",
    "           data_04[idx], \\\n",
    "           data_04_random[idx], \\\n",
    "           data_04_lockout[idx], \\\n",
    "           data_04_lockout_random[idx]\n",
    "    "
   ]
  },
  {
   "cell_type": "code",
   "execution_count": 10,
   "metadata": {
    "scrolled": false
   },
   "outputs": [
    {
     "name": "stdout",
     "output_type": "stream",
     "text": [
      "rec id,          rec name,           all rewarded trials,   10sec lockout rewarded trials (*** good sessions; ####### best 3 sessions\n",
      "        0       AQ2pm_Jan15_30Hz      (70, 35, 601)          (41, 35, 601)\n",
      "        1       AQ2pm_Jan28_30Hz      (61, 35, 601)          (47, 35, 601)\n",
      "        2       AQ2am_Feb2_30Hz      (68, 35, 601)          (46, 35, 601)\n",
      "        3       AQ2am_Feb3_30Hz      (79, 35, 601)          (52, 35, 601)\n",
      "        4       AQ2am_Feb5_30Hz      (74, 35, 601)          (52, 35, 601)\n",
      "        5       AQ2am_Feb9_30Hz      (91, 35, 601)          (47, 35, 601)\n",
      "        6       AQ2am_Feb10_30Hz      (93, 35, 601)          (54, 35, 601)\n",
      "        7       AQ2am_Feb11_30Hz      (131, 35, 601)          (44, 35, 601)\n",
      "        8       AQ2am_Feb17_30Hz      (104, 35, 601)          (54, 35, 601)\n",
      "        9       AQ2am_Feb18_30Hz      (156, 35, 601)          (35, 35, 601)\n",
      "        10       AQ2am_Feb19_30Hz      (96, 35, 601)          (41, 35, 601)\n",
      "        11       AQ2am_Feb22_30Hz      (145, 35, 601)          (39, 35, 601)\n",
      "        12       AQ2am_Feb23_30Hz      (121, 35, 601)          (51, 35, 601)\n",
      "        13       AQ2am_Feb29_30Hz      (91, 35, 601)          (44, 35, 601)\n",
      "        14       AQ2am_Mar1_30Hz      (127, 35, 601)          (37, 35, 601)\n",
      "        15       AQ2am_Mar2_30Hz      (58, 35, 601)          (36, 35, 601)\n",
      "        16       AQ2am_Mar3_30Hz      (131, 35, 601)          (38, 35, 601)\n",
      "        17       AQ2pm_Mar7_Day3_30Hz      (110, 35, 601)          (35, 35, 601)\n",
      "        18       AQ2am_Mar14_Week2_30Hz      (104, 35, 601)          (42, 35, 601)\n",
      "        19       AQ2pm_Mar15_Week2_30Hz      (144, 35, 601)          (36, 35, 601)\n",
      "        20       AQ2am_Mar16_Week2_30Hz      (122, 35, 601)          (37, 35, 601)\n",
      "        21       AQ2am_Mar17_Week2_30Hz      (104, 35, 601)          (50, 35, 601)\n",
      "        22       AQ2am_Mar18_Week2_30Hz      (140, 35, 601)          (45, 35, 601)\n",
      "        23       AQ2am_Mar22_Week3_30Hz      (64, 35, 601)          (47, 35, 601)\n",
      "        24       AQ2am_Mar23_Week3_30Hz      (85, 35, 601)          (42, 35, 601)\n",
      "        25       AQ2am_Mar24_Week3_30Hz      (125, 35, 601)          (44, 35, 601)\n",
      "        26       AQ2am_Mar29_Week4_30Hz      (91, 35, 601)          (47, 35, 601)\n",
      "        27       AQ2am_Mar30_Week4_30Hz      (149, 35, 601)          (43, 35, 601)\n",
      "        28       AQ2am_Mar31_Week4_30Hz      (116, 35, 601)          (45, 35, 601)\n",
      "        29       AQ2am_Apr1_Week4_30Hz      (138, 35, 601)          (44, 35, 601)\n",
      "        30       AQ2am_Apr4_Week5_30Hz      (127, 35, 601)          (48, 35, 601)\n",
      "        31       AQ2am_Apr5_Week5_30Hz      (100, 35, 601)          (56, 35, 601)\n",
      "####### 32       AQ2am_Apr6_Week5_30Hz      (118, 35, 601)          (44, 35, 601)\n",
      "        33       AQ2am_Apr7_Week5_30Hz      (93, 35, 601)          (49, 35, 601)\n",
      "        34       AQ2am_Apr8_Week5_30Hz      (105, 35, 601)          (46, 35, 601)\n",
      "        35       AQ2am_Apr11_Week6_30Hz      (144, 35, 601)          (51, 35, 601)\n",
      "        36       AQ2am_Apr12_Week6_30Hz      (94, 35, 601)          (52, 35, 601)\n",
      "        37       AQ2am_Apr13_Week6_30Hz      (106, 35, 601)          (57, 35, 601)\n",
      "        38       AQ2am_Apr14_Week6_30Hz      (99, 35, 601)          (60, 35, 601)\n",
      "        39       AQ2am_Apr15_Week6_30Hz      (84, 35, 601)          (53, 35, 601)\n",
      "        40       AQ2am_Apr18_Week7_30Hz      (77, 35, 601)          (53, 35, 601)\n",
      "        41       AQ2am_Apr19_Week7_30Hz      (71, 35, 601)          (49, 35, 601)\n",
      "        42       AQ2am_Apr20_Week7_30Hz      (69, 35, 601)          (45, 35, 601)\n",
      "        43       AQ2am_Apr21_Week7_30Hz      (53, 35, 601)          (37, 35, 601)\n",
      "        44       AQ2am_Apr22_Week7_30Hz      (123, 35, 601)          (47, 35, 601)\n",
      "        45       AQ2am_Apr25_Week8_30Hz      (114, 35, 601)          (36, 35, 601)\n",
      "        46       AQ2am_Apr28_Week8_30Hz      (86, 35, 601)          (53, 35, 601)\n",
      "        47       AQ2am_Apr29_Week8_30Hz      (85, 35, 601)          (51, 35, 601)\n",
      "\n",
      "\n",
      "Returning all sessions\n"
     ]
    },
    {
     "ename": "IndexError",
     "evalue": "index 50 is out of bounds for axis 0 with size 48",
     "output_type": "error",
     "traceback": [
      "\u001b[0;31m---------------------------------------------------------------------------\u001b[0m",
      "\u001b[0;31mIndexError\u001b[0m                                Traceback (most recent call last)",
      "\u001b[0;32m<ipython-input-10-06c3cf25aa95>\u001b[0m in \u001b[0;36m<module>\u001b[0;34m\u001b[0m\n\u001b[1;32m      8\u001b[0m \u001b[0;31m# LOAD SELECTED SESSIONS ONLY\u001b[0m\u001b[0;34m\u001b[0m\u001b[0;34m\u001b[0m\u001b[0;34m\u001b[0m\u001b[0m\n\u001b[1;32m      9\u001b[0m (ctr_list, selected_sessions, data_04, data_04_random,\n\u001b[0;32m---> 10\u001b[0;31m                 \u001b[0mdata_04_lockout\u001b[0m\u001b[0;34m,\u001b[0m\u001b[0mdata_04_lockout_random\u001b[0m\u001b[0;34m)\u001b[0m \u001b[0;34m=\u001b[0m \u001b[0mload_data\u001b[0m\u001b[0;34m(\u001b[0m\u001b[0mfname\u001b[0m\u001b[0;34m,\u001b[0m\u001b[0;34m\u001b[0m\u001b[0;34m\u001b[0m\u001b[0m\n\u001b[0m\u001b[1;32m     11\u001b[0m                                                                     \u001b[0mreturn_all_sessions\u001b[0m\u001b[0;34m=\u001b[0m\u001b[0;32mTrue\u001b[0m\u001b[0;34m,\u001b[0m\u001b[0;34m\u001b[0m\u001b[0;34m\u001b[0m\u001b[0m\n\u001b[1;32m     12\u001b[0m                                                                     \u001b[0mreturn_good_sessions\u001b[0m\u001b[0;34m=\u001b[0m\u001b[0;32mTrue\u001b[0m\u001b[0;34m,\u001b[0m\u001b[0;34m\u001b[0m\u001b[0;34m\u001b[0m\u001b[0m\n",
      "\u001b[0;32m<ipython-input-2-4939e3981d2d>\u001b[0m in \u001b[0;36mload_data\u001b[0;34m(fname, return_all_sessions, return_good_sessions, return_best_sessions)\u001b[0m\n\u001b[1;32m     42\u001b[0m         \u001b[0midx\u001b[0m \u001b[0;34m=\u001b[0m \u001b[0mbest_sessions\u001b[0m\u001b[0;34m\u001b[0m\u001b[0;34m\u001b[0m\u001b[0m\n\u001b[1;32m     43\u001b[0m \u001b[0;34m\u001b[0m\u001b[0m\n\u001b[0;32m---> 44\u001b[0;31m     \u001b[0;32mreturn\u001b[0m \u001b[0mctr_list\u001b[0m\u001b[0;34m[\u001b[0m\u001b[0midx\u001b[0m\u001b[0;34m]\u001b[0m\u001b[0;34m,\u001b[0m\u001b[0;31m \u001b[0m\u001b[0;31m\\\u001b[0m\u001b[0;34m\u001b[0m\u001b[0;34m\u001b[0m\u001b[0m\n\u001b[0m\u001b[1;32m     45\u001b[0m            \u001b[0msession_list\u001b[0m\u001b[0;34m[\u001b[0m\u001b[0midx\u001b[0m\u001b[0;34m]\u001b[0m\u001b[0;34m,\u001b[0m\u001b[0;31m \u001b[0m\u001b[0;31m\\\u001b[0m\u001b[0;34m\u001b[0m\u001b[0;34m\u001b[0m\u001b[0m\n\u001b[1;32m     46\u001b[0m            \u001b[0mdata_04\u001b[0m\u001b[0;34m[\u001b[0m\u001b[0midx\u001b[0m\u001b[0;34m]\u001b[0m\u001b[0;34m,\u001b[0m\u001b[0;31m \u001b[0m\u001b[0;31m\\\u001b[0m\u001b[0;34m\u001b[0m\u001b[0;34m\u001b[0m\u001b[0m\n",
      "\u001b[0;31mIndexError\u001b[0m: index 50 is out of bounds for axis 0 with size 48"
     ]
    }
   ],
   "source": [
    "#########################################################\n",
    "###################### LOAD DATA ########################\n",
    "#########################################################\n",
    "\n",
    "# INPUT ANIMAL DATA FILE NAME\n",
    "fname = '/media/cat/4TBSSD/yuki/AQ2.npz'\n",
    "\n",
    "# LOAD SELECTED SESSIONS ONLY\n",
    "(ctr_list, selected_sessions, data_04, data_04_random,\n",
    "                data_04_lockout,data_04_lockout_random) = load_data(fname, \n",
    "                                                                    return_all_sessions=True,\n",
    "                                                                    return_good_sessions=True,\n",
    "                                                                    return_best_sessions=True)\n",
    "\n",
    "#\n",
    "print (\"selected_sessions: \", selected_sessions)\n",
    "print (\"\")\n",
    "#\n",
    "print (\"Dimensions of the first selected session without lockout: \", data_04[0].shape)\n",
    "    "
   ]
  },
  {
   "cell_type": "code",
   "execution_count": 6,
   "metadata": {},
   "outputs": [
    {
     "name": "stdout",
     "output_type": "stream",
     "text": [
      "(100, 35, 601)\n"
     ]
    }
   ],
   "source": [
    "# select session\n",
    "session_id = 2\n",
    "\n",
    "data_selected = data_04[session_id]\n",
    "print (data_selected.shape)\n",
    "\n"
   ]
  },
  {
   "cell_type": "code",
   "execution_count": 19,
   "metadata": {},
   "outputs": [
    {
     "name": "stdout",
     "output_type": "stream",
     "text": [
      "(69, 35, 601)\n",
      "(48, 35, 601)\n"
     ]
    }
   ],
   "source": [
    "data1 = np.load('/media/cat/4TBSSD/yuki/temp/IA2pm_Feb5_30Hz_code_04_trial_ROItimeCourses_10sec.npy')\n",
    "print (data1.shape)\n",
    "\n",
    "fname2 = '/media/cat/4TBSSD/yuki/temp/IA2pm_Feb5_30Hz_tongue_lockout_4.0sec_random_ROItimeCourses_10.0sec.npy'\n",
    "data2 = np.load(fname2)\n",
    "print (data2.shape)\n",
    "\n"
   ]
  },
  {
   "cell_type": "code",
   "execution_count": 20,
   "metadata": {},
   "outputs": [],
   "source": [
    "np.save(fname2.replace('random','random2'),data1[:48])\n",
    "\n"
   ]
  },
  {
   "cell_type": "code",
   "execution_count": null,
   "metadata": {},
   "outputs": [],
   "source": []
  }
 ],
 "metadata": {
  "kernelspec": {
   "display_name": "Python 3",
   "language": "python",
   "name": "python3"
  },
  "language_info": {
   "codemirror_mode": {
    "name": "ipython",
    "version": 3
   },
   "file_extension": ".py",
   "mimetype": "text/x-python",
   "name": "python",
   "nbconvert_exporter": "python",
   "pygments_lexer": "ipython3",
   "version": "3.8.5"
  }
 },
 "nbformat": 4,
 "nbformat_minor": 4
}
