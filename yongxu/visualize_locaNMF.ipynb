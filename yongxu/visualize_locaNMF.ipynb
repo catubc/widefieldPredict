{
 "cells": [
  {
   "cell_type": "code",
   "execution_count": 7,
   "metadata": {},
   "outputs": [
    {
     "data": {
      "application/javascript": [
       "IPython.notebook.set_autosave_interval(180000)"
      ]
     },
     "metadata": {},
     "output_type": "display_data"
    },
    {
     "name": "stdout",
     "output_type": "stream",
     "text": [
      "Autosaving every 180 seconds\n",
      "The autoreload extension is already loaded. To reload it, use:\n",
      "  %reload_ext autoreload\n"
     ]
    }
   ],
   "source": [
    "import matplotlib\n",
    "#matplotlib.use('Agg')\n",
    "%matplotlib tk\n",
    "%autosave 180\n",
    "\n",
    "%load_ext autoreload\n",
    "%reload_ext autoreload\n",
    "%autoreload 2\n",
    "\n",
    "# \n",
    "import sys\n",
    "sys.path.append(\"..\") # Adds higher directory to python modules path.\n",
    "import h5py\n",
    "import numpy as np\n",
    "import scipy.io as sio\n",
    "import matplotlib.pyplot as plt\n",
    "from sklearn.cross_decomposition import CCA\n",
    "import torch\n",
    "import time\n",
    "import warnings\n",
    "warnings.filterwarnings(\"ignore\")\n",
    "from locanmf import LocaNMF\n",
    "import postprocess"
   ]
  },
  {
   "cell_type": "code",
   "execution_count": 8,
   "metadata": {},
   "outputs": [],
   "source": [
    "##################################################################################################################\n",
    "## PARAMETERS THAT YOU SHOULD CHANGE\n",
    "##################################################################################################################\n",
    "# Path to data and atlas\n",
    "mouse_name = 'IJ1'\n",
    "session_name = 'Mar3'\n",
    "root_dir = '/media/cat/4TBSSD/yuki/yongxu/data/'\n",
    "data_folder = root_dir+mouse_name+'/'+session_name+'/'\n"
   ]
  },
  {
   "cell_type": "code",
   "execution_count": 3,
   "metadata": {},
   "outputs": [],
   "source": [
    "# spatial = np.load(data_folder+spatial_data_filename)\n",
    "# # spatial_random = np.load(data_folder+random_spatial_data_filename)\n",
    "# # spatial=np.concatenate(spatial_trial,spatial_random,axis=0)\n",
    "# spatial = np.transpose(spatial,[1,0])\n",
    "# denoised_spatial_name = np.reshape(spatial,[128,128,-1])\n",
    "\n",
    "# temporal_trial = np.load(data_folder+temporal_data_filename)\n",
    "# temporal_random = np.load(data_folder+random_temporal_data_filename)\n",
    "# temporal=np.concatenate((temporal_trial,temporal_random),axis=0)\n",
    "# temporal = np.transpose(temporal,[1,0,2])\n",
    "# # denoised_temporal_name = np.reshape(temporal,[-1,42*601])\n",
    "# denoised_temporal_name = np.reshape(temporal,[-1,temporal.shape[1]*temporal.shape[2]])\n",
    "# print('loaded data\\n',flush=True)\n",
    "\n",
    "# atlas = np.load('./'+atlas_filename)#['atlas'].astype(float)\n",
    "# #areanames = sio.loadmat(data_folder+atlas_filename)['areanames']"
   ]
  },
  {
   "cell_type": "code",
   "execution_count": 5,
   "metadata": {},
   "outputs": [
    {
     "name": "stdout",
     "output_type": "stream",
     "text": [
      "(132, 16, 1801)\n",
      "[-255 -249 -150  -57  -43  -36  -21  -15   15   21   36   43   57  150\n",
      "  249  255]\n",
      "['Retrosplenial area, dorsal part, layer 1 - right'\n",
      " 'Retrosplenial area, lateral agranular part, layer 1 - right'\n",
      " 'Primary visual area, layer 1 - right'\n",
      " 'Primary somatosensory area, upper limb, layer 1 - right'\n",
      " 'Primary somatosensory area, lower limb, layer 1 - right'\n",
      " 'Primary somatosensory area, barrel field, layer 1 - right'\n",
      " 'Secondary motor area, layer 1 - right'\n",
      " 'Primary motor area, Layer 1 - right'\n",
      " 'Primary motor area, Layer 1 - left'\n",
      " 'Secondary motor area, layer 1 - left'\n",
      " 'Primary somatosensory area, barrel field, layer 1 - left'\n",
      " 'Primary somatosensory area, lower limb, layer 1 - left'\n",
      " 'Primary somatosensory area, upper limb, layer 1 - left'\n",
      " 'Primary visual area, layer 1 - left'\n",
      " 'Retrosplenial area, lateral agranular part, layer 1 - left'\n",
      " 'Retrosplenial area, dorsal part, layer 1 - left']\n"
     ]
    }
   ],
   "source": [
    "d = np.load('/media/cat/4TBSSD/yuki/yongxu/data/IJ1/Mar3/locanmf_trial.npz')\n",
    "temporal = d['temporal']\n",
    "areas = d['areas']\n",
    "names = d['names']\n",
    "print (temporal.shape)\n",
    "print (areas)\n",
    "print (names)"
   ]
  },
  {
   "cell_type": "code",
   "execution_count": 6,
   "metadata": {},
   "outputs": [
    {
     "name": "stdout",
     "output_type": "stream",
     "text": [
      "[0.05625315 0.05180758 0.05115577 0.04961621 0.04658525 0.04355635\n",
      " 0.03948382 0.03790749 0.03650551 0.03484949 0.02789505 0.02738658\n",
      " 0.02535531 0.01954653 0.01381519 0.01039247]\n",
      "['Primary somatosensory area, lower limb, layer 1 - left'\n",
      " 'Primary somatosensory area, lower limb, layer 1 - right'\n",
      " 'Primary somatosensory area, upper limb, layer 1 - left'\n",
      " 'Primary motor area, Layer 1 - left'\n",
      " 'Retrosplenial area, lateral agranular part, layer 1 - left'\n",
      " 'Primary somatosensory area, upper limb, layer 1 - right'\n",
      " 'Retrosplenial area, lateral agranular part, layer 1 - right'\n",
      " 'Retrosplenial area, dorsal part, layer 1 - left'\n",
      " 'Primary motor area, Layer 1 - right'\n",
      " 'Retrosplenial area, dorsal part, layer 1 - right'\n",
      " 'Secondary motor area, layer 1 - left'\n",
      " 'Primary somatosensory area, barrel field, layer 1 - left'\n",
      " 'Primary somatosensory area, barrel field, layer 1 - right'\n",
      " 'Secondary motor area, layer 1 - right'\n",
      " 'Primary visual area, layer 1 - right'\n",
      " 'Primary visual area, layer 1 - left']\n"
     ]
    }
   ],
   "source": [
    "from scipy.signal import savgol_filter\n",
    "\n",
    "t = np.arange(temporal.shape[2])/30 - 30\n",
    "max_vals = []\n",
    "for k in range(temporal.shape[1]):\n",
    "    temp = temporal[:,k].mean(0)\n",
    "    #plt.plot(temp)\n",
    "    temp2 = savgol_filter(temp, 15, 2)\n",
    "    \n",
    "    plt.subplot(121)\n",
    "    plt.xlim(-15,0)\n",
    "    plt.plot(t,temp2)\n",
    "    \n",
    "    m = np.max(temp2[:temp2.shape[0]//2])\n",
    "    max_vals.append(m)\n",
    "    \n",
    "    plt.subplot(122)\n",
    "    plt.xlim(-15,0)\n",
    "    temp2 = temp2/np.max(temp2)\n",
    "    plt.plot(t,temp2)\n",
    "    \n",
    "    #break\n",
    "plt.show()\n",
    "\n",
    "max_vals = np.array(max_vals)\n",
    "args = np.argsort(max_vals)[::-1]\n",
    "print (max_vals[args])\n",
    "print (names[args])\n",
    "\n"
   ]
  },
  {
   "cell_type": "code",
   "execution_count": 64,
   "metadata": {},
   "outputs": [
    {
     "name": "stdout",
     "output_type": "stream",
     "text": [
      "[ 15  21  29  36  43  50  57  64  71 136 150 164 186 198 249 255 261 268\n",
      " 275]\n"
     ]
    }
   ],
   "source": [
    "print (rois_ids)"
   ]
  },
  {
   "cell_type": "code",
   "execution_count": null,
   "metadata": {},
   "outputs": [],
   "source": []
  },
  {
   "cell_type": "code",
   "execution_count": null,
   "metadata": {},
   "outputs": [],
   "source": []
  },
  {
   "cell_type": "code",
   "execution_count": null,
   "metadata": {},
   "outputs": [],
   "source": []
  },
  {
   "cell_type": "code",
   "execution_count": null,
   "metadata": {},
   "outputs": [],
   "source": []
  },
  {
   "cell_type": "code",
   "execution_count": null,
   "metadata": {},
   "outputs": [],
   "source": []
  },
  {
   "cell_type": "code",
   "execution_count": null,
   "metadata": {},
   "outputs": [],
   "source": []
  },
  {
   "cell_type": "code",
   "execution_count": null,
   "metadata": {},
   "outputs": [],
   "source": []
  },
  {
   "cell_type": "code",
   "execution_count": null,
   "metadata": {},
   "outputs": [],
   "source": []
  },
  {
   "cell_type": "code",
   "execution_count": null,
   "metadata": {},
   "outputs": [],
   "source": []
  },
  {
   "cell_type": "code",
   "execution_count": null,
   "metadata": {},
   "outputs": [],
   "source": []
  },
  {
   "cell_type": "code",
   "execution_count": null,
   "metadata": {},
   "outputs": [],
   "source": []
  },
  {
   "cell_type": "code",
   "execution_count": null,
   "metadata": {},
   "outputs": [],
   "source": []
  },
  {
   "cell_type": "code",
   "execution_count": null,
   "metadata": {},
   "outputs": [],
   "source": []
  },
  {
   "cell_type": "code",
   "execution_count": null,
   "metadata": {},
   "outputs": [],
   "source": []
  },
  {
   "cell_type": "code",
   "execution_count": null,
   "metadata": {},
   "outputs": [],
   "source": []
  },
  {
   "cell_type": "code",
   "execution_count": 138,
   "metadata": {},
   "outputs": [
    {
     "name": "stdout",
     "output_type": "stream",
     "text": [
      "(7, 264, 1801)\n"
     ]
    }
   ],
   "source": [
    "# temp componetns of behavior + control data vstacked\n",
    "t_plot=temporal.transpose((1,0,2))\n",
    "\n",
    "print (temporal.shape)"
   ]
  },
  {
   "cell_type": "code",
   "execution_count": 139,
   "metadata": {},
   "outputs": [
    {
     "name": "stdout",
     "output_type": "stream",
     "text": [
      "tensor([ 21.3821, 311.1507,  33.4096, 159.3091, 248.9205,  81.5663,  52.2024,\n",
      "         81.5663,  52.2024,  33.4096,  26.7276, 127.4473, 101.9579,  13.6846,\n",
      "        311.1507,  21.3821])\n"
     ]
    }
   ],
   "source": [
    "# Plot the distribution of lambdas. OPTIONAL\n",
    "# If lots of values close to the minimum, decrease lambda_init.\n",
    "# If lots of values close to the maximum, increase maxiter_lambda or lambda_step.\n",
    "plt.hist(locanmf_comps.lambdas.data.cpu(), \n",
    "         bins=torch.unique(locanmf_comps.lambdas.data).shape[0])\n",
    "\n",
    "plt.show()\n",
    "print(locanmf_comps.lambdas.data.cpu())"
   ]
  },
  {
   "cell_type": "code",
   "execution_count": 140,
   "metadata": {},
   "outputs": [
    {
     "data": {
      "text/plain": [
       "(16,)"
      ]
     },
     "execution_count": 140,
     "metadata": {},
     "output_type": "execute_result"
    }
   ],
   "source": [
    "region_name=region_mats[2]\n",
    "region_name.shape\n",
    "\n",
    "region_name\n"
   ]
  },
  {
   "cell_type": "code",
   "execution_count": 141,
   "metadata": {},
   "outputs": [],
   "source": [
    "def parse_areanames_new(region_name,rois_name):\n",
    "    areainds=[]; areanames=[];\n",
    "    for i,area in enumerate(region_name):\n",
    "        areainds.append(area)\n",
    "        areanames.append(rois_name[np.where(rois_ids==np.abs(area))][0])\n",
    "    sortvec=np.argsort(np.abs(areainds))\n",
    "    areanames=[areanames[i] for i in sortvec]\n",
    "    areainds=[areainds[i] for i in sortvec]\n",
    "    return areainds,areanames\n"
   ]
  },
  {
   "cell_type": "code",
   "execution_count": 142,
   "metadata": {},
   "outputs": [],
   "source": [
    "# Get area names for all components\n",
    "areainds,areanames_all =parse_areanames_new(region_name,rois_name)\n",
    "areanames_area=[]\n",
    "for i,area in enumerate(areas):\n",
    "    areanames_area.append(areanames_all[areainds.index(area)])\n",
    "    "
   ]
  },
  {
   "cell_type": "code",
   "execution_count": 59,
   "metadata": {},
   "outputs": [
    {
     "name": "stdout",
     "output_type": "stream",
     "text": [
      "LocaNMF completed successfully in 87.10101079940796\n",
      "\n",
      "Results saved in /media/cat/4TBSSD/yuki/yongxu/data/IJ1/Mar3/locanmf_decomp_loc75.mat\n"
     ]
    }
   ],
   "source": [
    "# Save results! - USE .NPZ File\n",
    "print(\"LocaNMF completed successfully in \"+ str(time.time()-t0_global) + \"\\n\")\n",
    "print(\"Results saved in \"+data_folder+'locanmf_decomp_loc'+str(loc_thresh)+'.mat')\n",
    "\n",
    "# Prefer to save c_p which is already converted\n",
    "sio.savemat(data_folder+'locanmf_decomp_loc'+str(loc_thresh)+'.mat',\n",
    "            {'C':C_reshape,\n",
    "             'A':A_reshape,\n",
    "             'lambdas':lambdas,\n",
    "             'areas':areas,\n",
    "             'r2_fit':r2_fit,\n",
    "             'time_ests':time_ests,\n",
    "             'areanames':areanames_area\n",
    "            })\n",
    "\n",
    "\n",
    "torch.cuda.empty_cache()"
   ]
  },
  {
   "cell_type": "code",
   "execution_count": 60,
   "metadata": {},
   "outputs": [
    {
     "data": {
      "image/png": "[encoded data removed]",
      "text/plain": [
       "<Figure size 2880x2880 with 38 Axes>"
      ]
     },
     "metadata": {
      "needs_background": "light"
     },
     "output_type": "display_data"
    }
   ],
   "source": [
    "atlas_split=atlas\n",
    "itt=0\n",
    "fig=plt.figure(figsize=(40,40))\n",
    "b_=[]\n",
    "for it in np.unique(atlas_split):\n",
    "    if np.abs(it) !=0:\n",
    "        plotmap=np.zeros((atlas_split.shape)); plotmap.fill(np.nan); plotmap[atlas_split==it]=atlas_split[atlas_split==it]\n",
    "        plt.subplot(5,8,itt+1)\n",
    "        plt.imshow(plotmap,cmap='Spectral'); plt.axis('off'); \n",
    "        plt.title(rois_name[np.where(rois_ids==np.abs(it))][0],fontsize=10); \n",
    "        b_.append(plotmap)\n",
    "        #     plt.show()\n",
    "        itt=itt+1\n",
    "plt.tight_layout(h_pad=0.5,w_pad=0.5)"
   ]
  },
  {
   "cell_type": "code",
   "execution_count": 61,
   "metadata": {},
   "outputs": [
    {
     "data": {
      "text/plain": [
       "tensor([75.5541, 80.5709, 78.6952, 80.5908, 78.9629, 79.1756, 98.9053, 81.9381,\n",
       "        84.0245, 94.2150, 78.5193, 77.2639, 78.5326, 77.9467, 80.2672, 75.6619])"
      ]
     },
     "execution_count": 61,
     "metadata": {},
     "output_type": "execute_result"
    }
   ],
   "source": [
    "# how much of the spatial component is inside the ROI\n",
    "# per"
   ]
  },
  {
   "cell_type": "code",
   "execution_count": 143,
   "metadata": {},
   "outputs": [],
   "source": [
    "######################################################\n",
    "##### PLACE TO LOOK FOR large spatial components #####\n",
    "######################################################\n",
    "fig=plt.figure()\n",
    "for i in range(A_reshape.shape[2]):\n",
    "    plt.subplot(5,8,i+1)\n",
    "    plt.imshow(A_reshape[:,:,i])\n",
    "    plt.title(areanames_area[i],fontsize=6)\n",
    "plt.tight_layout(h_pad=0.5,w_pad=0.5)\n",
    "plt.show()"
   ]
  },
  {
   "cell_type": "code",
   "execution_count": 144,
   "metadata": {},
   "outputs": [
    {
     "data": {
      "text/plain": [
       "(132, 16, 1801)"
      ]
     },
     "execution_count": 144,
     "metadata": {},
     "output_type": "execute_result"
    }
   ],
   "source": [
    "# calculate ROI data\n",
    "roi_spatial=np.zeros((A_reshape.shape[2],denoised_spatial_name.shape[2]))\n",
    "for i in range(denoised_spatial_name.shape[2]):\n",
    "    for j in range(A_reshape.shape[2]):\n",
    "        A_masking=np.zeros((A_reshape[:,:,j].shape))\n",
    "        A_masking[A_reshape[:,:,j]!=0]=1\n",
    "        A_multiply=A_masking*denoised_spatial_name[:,:,i]\n",
    "        roi_spatial[j,i]=np.sum(A_multiply)/np.sum(A_masking)\n",
    "        \n",
    "roi_data=[]\n",
    "for s in range(temporal_trial.shape[0]):\n",
    "    roi_each=roi_spatial@temporal_trial[s]\n",
    "    roi_data.append(roi_each)\n",
    "roi_save_trial=np.array(roi_data)\n",
    "roi_save_trial.shape"
   ]
  },
  {
   "cell_type": "code",
   "execution_count": 145,
   "metadata": {},
   "outputs": [
    {
     "data": {
      "text/plain": [
       "(132, 16, 1801)"
      ]
     },
     "execution_count": 145,
     "metadata": {},
     "output_type": "execute_result"
    }
   ],
   "source": [
    "roi_spatial=np.zeros((A_reshape.shape[2],denoised_spatial_name.shape[2]))\n",
    "for i in range(denoised_spatial_name.shape[2]):\n",
    "    for j in range(A_reshape.shape[2]):\n",
    "        A_masking=np.zeros((A_reshape[:,:,j].shape))\n",
    "        A_masking[A_reshape[:,:,j]!=0]=1\n",
    "        A_multiply=A_masking*denoised_spatial_name[:,:,i]\n",
    "        roi_spatial[j,i]=np.sum(A_multiply)/np.sum(A_masking)\n",
    "        \n",
    "roi_data=[]\n",
    "for s in range(temporal_random.shape[0]):\n",
    "    roi_each=roi_spatial@temporal_random[s]\n",
    "    roi_data.append(roi_each)\n",
    "roi_save_random=np.array(roi_data)\n",
    "roi_save_random.shape"
   ]
  },
  {
   "cell_type": "code",
   "execution_count": 70,
   "metadata": {},
   "outputs": [],
   "source": [
    "# save ROI data\n",
    "# np.save(save_folder+save_name+'trial.npy',roi_save_trial)\n",
    "# np.save(save_folder+save_name+'random.npy',roi_save_random)"
   ]
  },
  {
   "cell_type": "markdown",
   "metadata": {},
   "source": [
    "# Visualization of components"
   ]
  },
  {
   "cell_type": "code",
   "execution_count": 146,
   "metadata": {},
   "outputs": [
    {
     "name": "stderr",
     "output_type": "stream",
     "text": [
      "Clipping input data to the valid range for imshow with RGB data ([0..1] for floats or [0..255] for integers).\n"
     ]
    }
   ],
   "source": [
    "# Spatial and Temporal Components: Summary\n",
    "atlascolor=np.zeros((atlas.shape[0],atlas.shape[1],4))\n",
    "A_color=np.zeros((A_reshape.shape[0],A_reshape.shape[1],4))\n",
    "cmap=plt.cm.get_cmap('jet')\n",
    "colors=cmap(np.arange(len(areainds))/len(areainds))\n",
    "for i,area_i in enumerate(areainds):\n",
    "    if area_i not in areas:\n",
    "        continue\n",
    "    atlascolor[atlas==area_i,:]=colors[i,:]\n",
    "    C_area=C[np.where(areas==area_i)[0],:]\n",
    "    for j in np.arange(colors.shape[1]):\n",
    "        A_color[:,:,j]=A_color[:,:,j]+colors[i,j]*A_reshape[:,:,np.where(areas==area_i)[0][0]]\n",
    "fig=plt.figure(figsize=(15,8))\n",
    "ax1=fig.add_subplot(2,2,1)\n",
    "ax1.imshow(atlascolor)\n",
    "ax1.set_title('Atlas Regions')\n",
    "ax1.axis('off')\n",
    "ax2=fig.add_subplot(2,2,3)\n",
    "ax2.imshow(A_color)\n",
    "ax2.set_title('Spatial Components (One per region)')\n",
    "ax2.axis('off')\n",
    "ax3=fig.add_subplot(1,2,2)\n",
    "axvar=0\n",
    "for i,area_i in enumerate(areainds):\n",
    "    if area_i not in areas:\n",
    "        continue\n",
    "    C_area=C[np.where(areas==area_i)[0][0],:min(1000,C.shape[1])]\n",
    "    ax3.plot(1.5*axvar+C_area/np.nanmax(np.abs(C_area)),color=colors[i,:])\n",
    "    axvar+=1\n",
    "ax3.set_title('Temporal Components (One per region)')\n",
    "ax3.axis('off') \n",
    "plt.show()"
   ]
  },
  {
   "cell_type": "code",
   "execution_count": 72,
   "metadata": {
    "scrolled": true
   },
   "outputs": [],
   "source": [
    "# Plotting all the regions' components\n",
    "for i,area in enumerate(areas):\n",
    "    try:\n",
    "        fig=plt.figure(figsize=(20,4))\n",
    "        ax1 = fig.add_subplot(1,3,1)\n",
    "        plotmap_area = np.zeros((atlas.shape));\n",
    "        plotmap_area.fill(np.nan);\n",
    "        plotmap_area[brainmask] = atlas[brainmask]==area\n",
    "        ax1.imshow(plotmap_area);\n",
    "        ax1.set_title('Atlas '+areanames_area[i])\n",
    "        ax1.axis('off')\n",
    "\n",
    "        ax2 = fig.add_subplot(1,3,2)\n",
    "        ax2.imshow(A_reshape[:,:,i])\n",
    "        ax2.set_title('LocaNMF A [%s]'%(i+1))\n",
    "        ax2.axis('off')\n",
    "\n",
    "        ax3 = fig.add_subplot(1,3,3)\n",
    "        ax3.plot(C[i,:min(1000,C.shape[1])],'k')\n",
    "        if simulation:\n",
    "            ax3.plot(V[np.where(area==trueareas)[0][0],:min(1000,V.shape[1])],'r');\n",
    "            if i==0: ax3.legend(('LocaNMF','True'))\n",
    "        ax3.set_title('LocaNMF C [%s]'%(i+1))\n",
    "        ax3.axis('off')\n",
    "        plt.show()\n",
    "    except:\n",
    "        pass\n"
   ]
  },
  {
   "cell_type": "code",
   "execution_count": 73,
   "metadata": {
    "scrolled": true
   },
   "outputs": [],
   "source": [
    "# Calculate Canonical Correlations between components in each pair of regions\n",
    "corrmat=np.zeros((len(areainds),len(areainds)))\n",
    "skipinds=[]\n",
    "for i,area_i in enumerate(areainds):\n",
    "    for j,area_j in enumerate(areainds):\n",
    "        if i==0 and area_j not in areas:\n",
    "            skipinds.append(j)\n",
    "        C_i=C[np.where(areas==area_i)[0],:].T\n",
    "        C_j=C[np.where(areas==area_j)[0],:].T\n",
    "        if i not in skipinds and j not in skipinds:\n",
    "            cca=CCA(n_components=1)\n",
    "            cca.fit(C_i,C_j)\n",
    "            C_i_cca,C_j_cca=cca.transform(C_i,C_j)\n",
    "            try: C_i_cca=C_i_cca[:,0]\n",
    "            except: pass\n",
    "            try: C_j_cca=C_j_cca[:,0]\n",
    "            except: pass               \n",
    "            corrmat[i,j]=np.corrcoef(C_i_cca,C_j_cca)[0,1]\n",
    "corrmat=np.delete(corrmat,skipinds,axis=0); \n",
    "corrmat=np.delete(corrmat,skipinds,axis=1);\n",
    "corr_areanames=np.delete(areanames_all,skipinds)"
   ]
  },
  {
   "cell_type": "code",
   "execution_count": 75,
   "metadata": {},
   "outputs": [],
   "source": [
    "# Plot correlations\n",
    "fig=plt.figure()\n",
    "plt.imshow(corrmat,cmap=plt.cm.get_cmap('jet')); plt.clim(-1,1); plt.colorbar(shrink=0.8)\n",
    "plt.get_cmap('jet')\n",
    "plt.xticks(ticks=np.arange(len(areainds)-len(skipinds)),labels=corr_areanames,rotation=90); \n",
    "plt.yticks(ticks=np.arange(len(areainds)-len(skipinds)),labels=corr_areanames); \n",
    "plt.title('CCA between all regions',fontsize=12)\n",
    "plt.xlabel('Region i',fontsize=12)\n",
    "plt.ylabel('Region j',fontsize=12)\n",
    "plt.show()"
   ]
  },
  {
   "cell_type": "code",
   "execution_count": 68,
   "metadata": {},
   "outputs": [],
   "source": [
    "# Save visualized components and correlations\n",
    "# print('Saving postprocessing results!')\n",
    "# postprocess.plot_components(A_reshape,C,areas,atlas,areanames,data_folder)\n",
    "# postprocess.plot_correlations(A_reshape,C,areas,atlas,areanames,data_folder)"
   ]
  },
  {
   "cell_type": "code",
   "execution_count": null,
   "metadata": {},
   "outputs": [],
   "source": []
  }
 ],
 "metadata": {
  "kernelspec": {
   "display_name": "Python 3",
   "language": "python",
   "name": "python3"
  },
  "language_info": {
   "codemirror_mode": {
    "name": "ipython",
    "version": 3
   },
   "file_extension": ".py",
   "mimetype": "text/x-python",
   "name": "python",
   "nbconvert_exporter": "python",
   "pygments_lexer": "ipython3",
   "version": "3.8.0"
  }
 },
 "nbformat": 4,
 "nbformat_minor": 4
}
