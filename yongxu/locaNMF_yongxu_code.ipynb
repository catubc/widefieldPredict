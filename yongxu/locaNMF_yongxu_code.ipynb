{
 "cells": [
  {
   "cell_type": "code",
   "execution_count": 8,
   "metadata": {},
   "outputs": [
    {
     "data": {
      "application/javascript": [
       "IPython.notebook.set_autosave_interval(180000)"
      ]
     },
     "metadata": {},
     "output_type": "display_data"
    },
    {
     "name": "stdout",
     "output_type": "stream",
     "text": [
      "Autosaving every 180 seconds\n",
      "The autoreload extension is already loaded. To reload it, use:\n",
      "  %reload_ext autoreload\n"
     ]
    }
   ],
   "source": [
    "import matplotlib\n",
    "#matplotlib.use('Agg')\n",
    "%matplotlib tk\n",
    "%autosave 180\n",
    "\n",
    "%load_ext autoreload\n",
    "%reload_ext autoreload\n",
    "%autoreload 2\n",
    "\n",
    "# \n",
    "import sys\n",
    "sys.path.append(\"..\") # Adds higher directory to python modules path.\n",
    "import h5py\n",
    "import numpy as np\n",
    "import scipy.io as sio\n",
    "import matplotlib.pyplot as plt\n",
    "from sklearn.cross_decomposition import CCA\n",
    "import torch\n",
    "import time\n",
    "import warnings\n",
    "warnings.filterwarnings(\"ignore\")\n",
    "from locanmf import LocaNMF\n",
    "import postprocess\n",
    "\n",
    "\n",
    "from analysis_fig4 import LocaNMFClass\n",
    "\n"
   ]
  },
  {
   "cell_type": "code",
   "execution_count": 14,
   "metadata": {
    "scrolled": true
   },
   "outputs": [
    {
     "name": "stdout",
     "output_type": "stream",
     "text": [
      "['IA3pm_Feb1_30Hz' 'IA3pm_Feb2_30Hz' 'IA3pm_Feb3_30Hz' 'IA3pm_Feb4_30Hz'\n",
      " 'IA3pm_Feb9_30Hz' 'IA3pm_Feb10_30Hz' 'IA3pm_Feb11_30Hz'\n",
      " 'IA3pm_Feb12_30Hz' 'IA3pm_Feb15_30Hz' 'IA3pm_Feb16_30Hz'\n",
      " 'IA3pm_Feb17_30Hz' 'IA3pm_Feb18_30Hz' 'IA3pm_Feb19_30Hz'\n",
      " 'IA3pm_Feb22_30Hz' 'IA3pm_Feb23_30Hz' 'IA3pm_Feb24_30Hz'\n",
      " 'IA3pm_Feb25_30Hz' 'IA3pm_Feb26_30Hz' 'IA3pm_Feb29_30Hz'\n",
      " 'IA3pm_Mar1_30Hz' 'IA3pm_Mar2_30Hz' 'IA3pm_Mar3_30Hz' 'IA3am_Mar7_30Hz'\n",
      " 'IA3pm_Mar8_30Hz' 'IA3am_Mar9_30Hz' 'IA3am_Mar10_30Hz' 'IA3am_Mar11_30Hz'\n",
      " 'IA3pm_Mar14_30Hz' 'IA3am_Mar15_30Hz' 'IA3pm_Mar16_30Hz'\n",
      " 'IA3pm_Mar17_30Hz' 'IA3pm_Mar18_30Hz' 'IA3pm_Mar21_30Hz'\n",
      " 'IA3pm_Mar22_30Hz' 'IA3pm_Mar23_30Hz' 'IA3pm_Mar24_30Hz'\n",
      " 'IA3pm_Mar29_30Hz' 'IA3pm_Mar30_30Hz' 'IA3pm_Mar31_30Hz'\n",
      " 'IA3pm_Apr1_30Hz' 'IA3pm_Apr4_30Hz' 'IA3pm_Apr5_30Hz' 'IA3pm_Apr6_30Hz'\n",
      " 'IA3pm_Apr7_30Hz']\n",
      "\n",
      "\n",
      "IA3pm_Feb1_30Hz  has n trials:  (31,)\n",
      "Rank of video : 11\n",
      "Number of timepoints : 100856\n",
      "v SVD Initialization\n",
      "'-total : 0.020317\n",
      "v Rank Line Search\n",
      "|--v Rank Line Search Iteration 0\n",
      "|  |--v Initialization\n",
      "|  |  '-total : 0.002770 seconds\n",
      "|  |--v Lambda Line Search\n",
      "|  |  '- 150 iterations took 12.427 seconds\n",
      "|  |--> R2 Evaluation took 1.16825e-05 seconds\n",
      "|  '-total : 12.4304 seconds\n",
      "n_comps, n_time pts x n_trials:  (16, 100856)\n",
      "\n",
      "\n",
      "IA3pm_Feb2_30Hz  has n trials:  (65,)\n",
      "Rank of video : 10\n",
      "Number of timepoints : 234130\n",
      "v SVD Initialization\n",
      "'-total : 0.020454\n",
      "v Rank Line Search\n",
      "|--v Rank Line Search Iteration 0\n",
      "|  |--v Initialization\n",
      "|  |  '-total : 0.002434 seconds\n",
      "|  |--v Lambda Line Search\n",
      "|  |  '- 150 iterations took 12.5476 seconds\n",
      "|  |--> R2 Evaluation took 1.14441e-05 seconds\n",
      "|  '-total : 12.5508 seconds\n",
      "n_comps, n_time pts x n_trials:  (16, 234130)\n",
      "\n",
      "\n",
      "IA3pm_Feb3_30Hz  has n trials:  (96,)\n",
      "Rank of video : 7\n",
      "Number of timepoints : 327782\n",
      "v SVD Initialization\n",
      "'-total : 0.019227\n",
      "v Rank Line Search\n",
      "|--v Rank Line Search Iteration 0\n",
      "|  |--v Initialization\n",
      "|  |  '-total : 0.003059 seconds\n",
      "|  |--v Lambda Line Search\n",
      "|  |  '- 150 iterations took 13.2292 seconds\n",
      "|  |--> R2 Evaluation took 1.93119e-05 seconds\n",
      "|  '-total : 13.2334 seconds\n",
      "n_comps, n_time pts x n_trials:  (16, 327782)\n",
      "\n",
      "\n",
      "IA3pm_Feb4_30Hz  has n trials:  (56,)\n",
      "Rank of video : 6\n",
      "Number of timepoints : 190906\n",
      "v SVD Initialization\n",
      "'-total : 0.018649\n",
      "v Rank Line Search\n",
      "|--v Rank Line Search Iteration 0\n",
      "|  |--v Initialization\n",
      "|  |  '-total : 0.003027 seconds\n",
      "|  |--v Lambda Line Search\n",
      "Removing components, num remaining: 15\n",
      " locaNMF Failed, skipping\n",
      "\n",
      "\n",
      "IA3pm_Feb9_30Hz  has n trials:  (11,)\n",
      "Rank of video : 5\n",
      "Number of timepoints : 39622\n",
      "v SVD Initialization\n",
      "'-total : 0.019051\n",
      "v Rank Line Search\n",
      "|--v Rank Line Search Iteration 0\n",
      "|  |--v Initialization\n",
      "|  |  '-total : 0.002863 seconds\n",
      "|  |--v Lambda Line Search\n",
      "|  |  '- 150 iterations took 12.2642 seconds\n",
      "|  |--> R2 Evaluation took 7.86781e-06 seconds\n",
      "|  '-total : 12.2677 seconds\n",
      "n_comps, n_time pts x n_trials:  (16, 39622)\n",
      "\n",
      "\n",
      "IA3pm_Feb10_30Hz  has n trials:  (7,)\n",
      "  too few trials, skipping  7\n",
      "\n",
      "\n",
      "IA3pm_Feb11_30Hz  has n trials:  (13,)\n",
      "Rank of video : 9\n",
      "Number of timepoints : 46826\n",
      "v SVD Initialization\n",
      "'-total : 0.025456\n",
      "v Rank Line Search\n",
      "|--v Rank Line Search Iteration 0\n",
      "|  |--v Initialization\n",
      "|  |  '-total : 0.002821 seconds\n",
      "|  |--v Lambda Line Search\n",
      "|  |  '- 150 iterations took 12.3068 seconds\n",
      "|  |--> R2 Evaluation took 1.71661e-05 seconds\n",
      "|  '-total : 12.3116 seconds\n",
      "n_comps, n_time pts x n_trials:  (16, 46826)\n",
      "\n",
      "\n",
      "IA3pm_Feb12_30Hz  has n trials:  (83,)\n",
      "Rank of video : 9\n",
      "Number of timepoints : 295364\n",
      "v SVD Initialization\n",
      "'-total : 0.020360\n",
      "v Rank Line Search\n",
      "|--v Rank Line Search Iteration 0\n",
      "|  |--v Initialization\n",
      "|  |  '-total : 0.002908 seconds\n",
      "|  |--v Lambda Line Search\n",
      "|  |  '- 150 iterations took 12.7699 seconds\n",
      "|  |--> R2 Evaluation took 8.10623e-06 seconds\n",
      "|  '-total : 12.773 seconds\n",
      "n_comps, n_time pts x n_trials:  (16, 295364)\n",
      "\n",
      "\n",
      "IA3pm_Feb15_30Hz  has n trials:  (49,)\n",
      "Rank of video : 6\n",
      "Number of timepoints : 172896\n",
      "v SVD Initialization\n",
      "'-total : 0.018919\n",
      "v Rank Line Search\n",
      "|--v Rank Line Search Iteration 0\n",
      "|  |--v Initialization\n",
      "|  |  '-total : 0.002804 seconds\n",
      "|  |--v Lambda Line Search\n",
      "|  |  '- 150 iterations took 11.7647 seconds\n",
      "|  |--> R2 Evaluation took 8.10623e-06 seconds\n",
      "|  '-total : 11.7678 seconds\n",
      "n_comps, n_time pts x n_trials:  (16, 172896)\n",
      "\n",
      "\n",
      "IA3pm_Feb16_30Hz  has n trials:  (67,)\n",
      "Rank of video : 7\n",
      "Number of timepoints : 237732\n",
      "v SVD Initialization\n",
      "'-total : 0.018916\n",
      "v Rank Line Search\n",
      "|--v Rank Line Search Iteration 0\n",
      "|  |--v Initialization\n",
      "|  |  '-total : 0.002909 seconds\n",
      "|  |--v Lambda Line Search\n",
      "|  |  '- 97 iterations took 7.76873 seconds\n",
      "|  |--> R2 Evaluation took 1.07288e-05 seconds\n",
      "|  '-total : 7.77191 seconds\n",
      "n_comps, n_time pts x n_trials:  (16, 237732)\n",
      "\n",
      "\n",
      "IA3pm_Feb17_30Hz  has n trials:  (53,)\n",
      "Rank of video : 8\n",
      "Number of timepoints : 176498\n",
      "v SVD Initialization\n",
      "'-total : 0.019477\n",
      "v Rank Line Search\n",
      "|--v Rank Line Search Iteration 0\n",
      "|  |--v Initialization\n",
      "|  |  '-total : 0.002718 seconds\n",
      "|  |--v Lambda Line Search\n",
      "|  |  '- 150 iterations took 11.9032 seconds\n",
      "|  |--> R2 Evaluation took 1.00136e-05 seconds\n",
      "|  '-total : 11.9062 seconds\n",
      "n_comps, n_time pts x n_trials:  (16, 176498)\n",
      "\n",
      "\n",
      "IA3pm_Feb18_30Hz  has n trials:  (41,)\n",
      "Rank of video : 9\n",
      "Number of timepoints : 136876\n",
      "v SVD Initialization\n",
      "'-total : 0.019130\n",
      "v Rank Line Search\n",
      "|--v Rank Line Search Iteration 0\n",
      "|  |--v Initialization\n",
      "|  |  '-total : 0.002599 seconds\n",
      "|  |--v Lambda Line Search\n",
      "|  |  '- 150 iterations took 12.4797 seconds\n",
      "|  |--> R2 Evaluation took 9.77516e-06 seconds\n",
      "|  '-total : 12.483 seconds\n",
      "n_comps, n_time pts x n_trials:  (16, 136876)\n",
      "\n",
      "\n",
      "IA3pm_Feb19_30Hz  has n trials:  (32,)\n",
      "Rank of video : 8\n",
      "Number of timepoints : 108060\n",
      "v SVD Initialization\n",
      "'-total : 0.019616\n",
      "v Rank Line Search\n",
      "|--v Rank Line Search Iteration 0\n",
      "|  |--v Initialization\n",
      "|  |  '-total : 0.002585 seconds\n",
      "|  |--v Lambda Line Search\n",
      "|  |  '- 140 iterations took 11.5997 seconds\n",
      "|  |--> R2 Evaluation took 3.60012e-05 seconds\n",
      "|  '-total : 11.603 seconds\n",
      "n_comps, n_time pts x n_trials:  (16, 108060)\n",
      "\n",
      "\n",
      "IA3pm_Feb22_30Hz  has n trials:  (25,)\n",
      "Rank of video : 9\n",
      "Number of timepoints : 86448\n",
      "v SVD Initialization\n",
      "'-total : 0.029468\n",
      "v Rank Line Search\n",
      "|--v Rank Line Search Iteration 0\n",
      "|  |--v Initialization\n",
      "|  |  '-total : 0.002868 seconds\n",
      "|  |--v Lambda Line Search\n",
      "|  |  '- 75 iterations took 6.3115 seconds\n",
      "|  |--> R2 Evaluation took 7.86781e-06 seconds\n",
      "|  '-total : 6.31464 seconds\n",
      "n_comps, n_time pts x n_trials:  (16, 86448)\n",
      "\n",
      "\n",
      "IA3pm_Feb23_30Hz  has n trials:  (12,)\n",
      "Rank of video : 8\n",
      "Number of timepoints : 39622\n",
      "v SVD Initialization\n",
      "'-total : 0.019147\n",
      "v Rank Line Search\n",
      "|--v Rank Line Search Iteration 0\n",
      "|  |--v Initialization\n",
      "|  |  '-total : 0.003176 seconds\n",
      "|  |--v Lambda Line Search\n",
      "|  |  '- 150 iterations took 12.2361 seconds\n",
      "|  |--> R2 Evaluation took 1.33514e-05 seconds\n",
      "|  '-total : 12.2397 seconds\n",
      "n_comps, n_time pts x n_trials:  (16, 39622)\n",
      "  no lever pulls, skipping \n",
      "  no lever pulls, skipping \n",
      "\n",
      "\n",
      "IA3pm_Feb26_30Hz  has n trials:  (70,)\n",
      "Rank of video : 12\n",
      "Number of timepoints : 234130\n",
      "v SVD Initialization\n",
      "'-total : 0.020766\n",
      "v Rank Line Search\n",
      "|--v Rank Line Search Iteration 0\n",
      "|  |--v Initialization\n",
      "|  |  '-total : 0.002903 seconds\n",
      "|  |--v Lambda Line Search\n",
      "Removing components, num remaining: 15\n",
      " locaNMF Failed, skipping\n",
      "\n",
      "\n",
      "IA3pm_Feb29_30Hz  has n trials:  (51,)\n",
      "Rank of video : 10\n",
      "Number of timepoints : 165692\n",
      "v SVD Initialization\n",
      "'-total : 0.020010\n",
      "v Rank Line Search\n",
      "|--v Rank Line Search Iteration 0\n",
      "|  |--v Initialization\n",
      "|  |  '-total : 0.002727 seconds\n",
      "|  |--v Lambda Line Search\n",
      "|  |  '- 79 iterations took 6.60855 seconds\n",
      "|  |--> R2 Evaluation took 7.15256e-06 seconds\n",
      "|  '-total : 6.61172 seconds\n",
      "n_comps, n_time pts x n_trials:  (16, 165692)\n",
      "\n",
      "\n",
      "IA3pm_Mar1_30Hz  has n trials:  (26,)\n",
      "Rank of video : 10\n",
      "Number of timepoints : 82846\n",
      "v SVD Initialization\n",
      "'-total : 0.022821\n",
      "v Rank Line Search\n",
      "|--v Rank Line Search Iteration 0\n",
      "|  |--v Initialization\n",
      "|  |  '-total : 0.002306 seconds\n",
      "|  |--v Lambda Line Search\n",
      "|  |  '- 79 iterations took 6.64368 seconds\n",
      "|  |--> R2 Evaluation took 7.86781e-06 seconds\n",
      "|  '-total : 6.64668 seconds\n",
      "n_comps, n_time pts x n_trials:  (16, 82846)\n",
      "\n",
      "\n",
      "IA3pm_Mar2_30Hz  has n trials:  (34,)\n",
      "Rank of video : 8\n",
      "Number of timepoints : 118866\n",
      "v SVD Initialization\n",
      "'-total : 0.019226\n",
      "v Rank Line Search\n",
      "|--v Rank Line Search Iteration 0\n",
      "|  |--v Initialization\n",
      "|  |  '-total : 0.002622 seconds\n",
      "|  |--v Lambda Line Search\n"
     ]
    },
    {
     "name": "stdout",
     "output_type": "stream",
     "text": [
      "|  |  '- 82 iterations took 6.86766 seconds\n",
      "|  |--> R2 Evaluation took 2.71797e-05 seconds\n",
      "|  '-total : 6.87062 seconds\n",
      "n_comps, n_time pts x n_trials:  (16, 118866)\n",
      "\n",
      "\n",
      "IA3pm_Mar3_30Hz  has n trials:  (53,)\n",
      "Rank of video : 10\n",
      "Number of timepoints : 183702\n",
      "v SVD Initialization\n",
      "'-total : 0.029885\n",
      "v Rank Line Search\n",
      "|--v Rank Line Search Iteration 0\n",
      "|  |--v Initialization\n",
      "|  |  '-total : 0.002669 seconds\n",
      "|  |--v Lambda Line Search\n",
      "|  |  '- 86 iterations took 7.26457 seconds\n",
      "|  |--> R2 Evaluation took 8.34465e-06 seconds\n",
      "|  '-total : 7.26783 seconds\n",
      "n_comps, n_time pts x n_trials:  (16, 183702)\n",
      "\n",
      "\n",
      "IA3am_Mar7_30Hz  has n trials:  (38,)\n",
      "Rank of video : 9\n",
      "Number of timepoints : 136876\n",
      "v SVD Initialization\n",
      "'-total : 0.019629\n",
      "v Rank Line Search\n",
      "|--v Rank Line Search Iteration 0\n",
      "|  |--v Initialization\n",
      "|  |  '-total : 0.003329 seconds\n",
      "|  |--v Lambda Line Search\n",
      "Removing components, num remaining: 15\n",
      " locaNMF Failed, skipping\n",
      "\n",
      "\n",
      "IA3pm_Mar8_30Hz  has n trials:  (35,)\n",
      "Rank of video : 14\n",
      "Number of timepoints : 122468\n",
      "v SVD Initialization\n",
      "'-total : 0.021003\n",
      "v Rank Line Search\n",
      "|--v Rank Line Search Iteration 0\n",
      "|  |--v Initialization\n",
      "|  |  '-total : 0.002892 seconds\n",
      "|  |--v Lambda Line Search\n",
      "|  |  '- 60 iterations took 5.10536 seconds\n",
      "|  |--> R2 Evaluation took 1.07288e-05 seconds\n",
      "|  '-total : 5.1086 seconds\n",
      "n_comps, n_time pts x n_trials:  (16, 122468)\n",
      "\n",
      "\n",
      "IA3am_Mar9_30Hz  has n trials:  (41,)\n",
      "Rank of video : 12\n",
      "Number of timepoints : 144080\n",
      "v SVD Initialization\n",
      "'-total : 0.020979\n",
      "v Rank Line Search\n",
      "|--v Rank Line Search Iteration 0\n",
      "|  |--v Initialization\n",
      "|  |  '-total : 0.002816 seconds\n",
      "|  |--v Lambda Line Search\n",
      "|  |  '- 85 iterations took 7.10254 seconds\n",
      "|  |--> R2 Evaluation took 7.62939e-06 seconds\n",
      "|  '-total : 7.10559 seconds\n",
      "n_comps, n_time pts x n_trials:  (16, 144080)\n",
      "\n",
      "\n",
      "IA3am_Mar10_30Hz  has n trials:  (69,)\n",
      "Rank of video : 8\n",
      "Number of timepoints : 234130\n",
      "v SVD Initialization\n",
      "'-total : 0.018532\n",
      "v Rank Line Search\n",
      "|--v Rank Line Search Iteration 0\n",
      "|  |--v Initialization\n",
      "|  |  '-total : 0.003683 seconds\n",
      "|  |--v Lambda Line Search\n",
      "|  |  '- 91 iterations took 7.27262 seconds\n",
      "|  |--> R2 Evaluation took 7.15256e-06 seconds\n",
      "|  '-total : 7.27696 seconds\n",
      "n_comps, n_time pts x n_trials:  (16, 234130)\n",
      "\n",
      "\n",
      "IA3am_Mar11_30Hz  has n trials:  (58,)\n",
      "Rank of video : 8\n",
      "Number of timepoints : 198110\n",
      "v SVD Initialization\n",
      "'-total : 0.019041\n",
      "v Rank Line Search\n",
      "|--v Rank Line Search Iteration 0\n",
      "|  |--v Initialization\n",
      "|  |  '-total : 0.003112 seconds\n",
      "|  |--v Lambda Line Search\n",
      "Removing components, num remaining: 15\n",
      " locaNMF Failed, skipping\n",
      "\n",
      "\n",
      "IA3pm_Mar14_30Hz  has n trials:  (24,)\n",
      "Rank of video : 11\n",
      "Number of timepoints : 79244\n",
      "v SVD Initialization\n",
      "'-total : 0.020284\n",
      "v Rank Line Search\n",
      "|--v Rank Line Search Iteration 0\n",
      "|  |--v Initialization\n",
      "|  |  '-total : 0.002641 seconds\n",
      "|  |--v Lambda Line Search\n",
      "|  |  '- 76 iterations took 6.29589 seconds\n",
      "|  |--> R2 Evaluation took 7.39098e-06 seconds\n",
      "|  '-total : 6.29907 seconds\n",
      "n_comps, n_time pts x n_trials:  (16, 79244)\n",
      "\n",
      "\n",
      "IA3am_Mar15_30Hz  has n trials:  (36,)\n",
      "Rank of video : 11\n",
      "Number of timepoints : 122468\n",
      "v SVD Initialization\n",
      "'-total : 0.020394\n",
      "v Rank Line Search\n",
      "|--v Rank Line Search Iteration 0\n",
      "|  |--v Initialization\n",
      "|  |  '-total : 0.002495 seconds\n",
      "|  |--v Lambda Line Search\n",
      "|  |  '- 150 iterations took 12.4897 seconds\n",
      "|  |--> R2 Evaluation took 1.50204e-05 seconds\n",
      "|  '-total : 12.4932 seconds\n",
      "n_comps, n_time pts x n_trials:  (16, 122468)\n",
      "\n",
      "\n",
      "IA3pm_Mar16_30Hz  has n trials:  (50,)\n",
      "Rank of video : 11\n",
      "Number of timepoints : 169294\n",
      "v SVD Initialization\n",
      "'-total : 0.020527\n",
      "v Rank Line Search\n",
      "|--v Rank Line Search Iteration 0\n",
      "|  |--v Initialization\n",
      "|  |  '-total : 0.002857 seconds\n",
      "|  |--v Lambda Line Search\n",
      "|  |  '- 75 iterations took 5.92678 seconds\n",
      "|  |--> R2 Evaluation took 1.62125e-05 seconds\n",
      "|  '-total : 5.93107 seconds\n",
      "n_comps, n_time pts x n_trials:  (16, 169294)\n",
      "\n",
      "\n",
      "IA3pm_Mar17_30Hz  has n trials:  (59,)\n",
      "Rank of video : 11\n",
      "Number of timepoints : 201712\n",
      "v SVD Initialization\n",
      "'-total : 0.020558\n",
      "v Rank Line Search\n",
      "|--v Rank Line Search Iteration 0\n",
      "|  |--v Initialization\n",
      "|  |  '-total : 0.002909 seconds\n",
      "|  |--v Lambda Line Search\n",
      "|  |  '- 75 iterations took 5.98516 seconds\n",
      "|  |--> R2 Evaluation took 8.82149e-06 seconds\n",
      "|  '-total : 5.98899 seconds\n",
      "n_comps, n_time pts x n_trials:  (16, 201712)\n",
      "\n",
      "\n",
      "IA3pm_Mar18_30Hz  has n trials:  (83,)\n",
      "Rank of video : 12\n",
      "Number of timepoints : 288160\n",
      "v SVD Initialization\n",
      "'-total : 0.020311\n",
      "v Rank Line Search\n",
      "|--v Rank Line Search Iteration 0\n",
      "|  |--v Initialization\n",
      "|  |  '-total : 0.002887 seconds\n",
      "|  |--v Lambda Line Search\n",
      "|  |  '- 150 iterations took 12.4192 seconds\n",
      "|  |--> R2 Evaluation took 8.58307e-06 seconds\n",
      "|  '-total : 12.4227 seconds\n",
      "n_comps, n_time pts x n_trials:  (16, 288160)\n",
      "\n",
      "\n",
      "IA3pm_Mar21_30Hz  has n trials:  (110,)\n",
      "Rank of video : 10\n",
      "Number of timepoints : 381812\n",
      "v SVD Initialization\n",
      "'-total : 0.019998\n",
      "v Rank Line Search\n",
      "|--v Rank Line Search Iteration 0\n",
      "|  |--v Initialization\n",
      "|  |  '-total : 0.002887 seconds\n",
      "|  |--v Lambda Line Search\n",
      "|  |  '- 150 iterations took 12.5309 seconds\n",
      "|  |--> R2 Evaluation took 2.57492e-05 seconds\n",
      "|  '-total : 12.5351 seconds\n",
      "n_comps, n_time pts x n_trials:  (16, 381812)\n",
      "\n",
      "\n",
      "IA3pm_Mar22_30Hz  has n trials:  (103,)\n",
      "Rank of video : 10\n",
      "Number of timepoints : 356598\n",
      "v SVD Initialization\n",
      "'-total : 0.023273\n",
      "v Rank Line Search\n",
      "|--v Rank Line Search Iteration 0\n",
      "|  |--v Initialization\n",
      "|  |  '-total : 0.002696 seconds\n",
      "|  |--v Lambda Line Search\n",
      "|  |  '- 150 iterations took 12.3239 seconds\n",
      "|  |--> R2 Evaluation took 1.00136e-05 seconds\n",
      "|  '-total : 12.3301 seconds\n",
      "n_comps, n_time pts x n_trials:  (16, 356598)\n",
      "\n",
      "\n",
      "IA3pm_Mar23_30Hz  has n trials:  (113,)\n",
      "Rank of video : 8\n",
      "Number of timepoints : 389016\n",
      "v SVD Initialization\n",
      "'-total : 0.018776\n",
      "v Rank Line Search\n",
      "|--v Rank Line Search Iteration 0\n",
      "|  |--v Initialization\n",
      "|  |  '-total : 0.002604 seconds\n",
      "|  |--v Lambda Line Search\n",
      "|  |  '- 100 iterations took 8.07538 seconds\n",
      "|  |--> R2 Evaluation took 6.91414e-06 seconds\n",
      "|  '-total : 8.07902 seconds\n",
      "n_comps, n_time pts x n_trials:  (16, 389016)\n",
      "\n",
      "\n",
      "IA3pm_Mar24_30Hz  has n trials:  (137,)\n",
      "Rank of video : 8\n",
      "Number of timepoints : 468260\n",
      "v SVD Initialization\n",
      "'-total : 0.018954\n",
      "v Rank Line Search\n",
      "|--v Rank Line Search Iteration 0\n",
      "|  |--v Initialization\n",
      "|  |  '-total : 0.002268 seconds\n",
      "|  |--v Lambda Line Search\n",
      "|  |  '- 150 iterations took 11.6928 seconds\n",
      "|  |--> R2 Evaluation took 7.15256e-06 seconds\n",
      "|  '-total : 11.6955 seconds\n",
      "n_comps, n_time pts x n_trials:  (16, 468260)\n",
      "\n",
      "\n",
      "IA3pm_Mar29_30Hz  has n trials:  (91,)\n",
      "Rank of video : 14\n",
      "Number of timepoints : 316976\n",
      "v SVD Initialization\n",
      "'-total : 0.020302\n",
      "v Rank Line Search\n",
      "|--v Rank Line Search Iteration 0\n",
      "|  |--v Initialization\n",
      "|  |  '-total : 0.002485 seconds\n",
      "|  |--v Lambda Line Search\n",
      "|  |  '- 63 iterations took 5.30384 seconds\n",
      "|  |--> R2 Evaluation took 1.4782e-05 seconds\n",
      "|  '-total : 5.30657 seconds\n",
      "n_comps, n_time pts x n_trials:  (16, 316976)\n",
      "\n",
      "\n",
      "IA3pm_Mar30_30Hz  has n trials:  (51,)\n",
      "Rank of video : 7\n",
      "Number of timepoints : 172896\n",
      "v SVD Initialization\n",
      "'-total : 0.018879\n",
      "v Rank Line Search\n",
      "|--v Rank Line Search Iteration 0\n",
      "|  |--v Initialization\n",
      "|  |  '-total : 0.002845 seconds\n",
      "|  |--v Lambda Line Search\n",
      "|  |  '- 98 iterations took 7.74194 seconds\n",
      "|  |--> R2 Evaluation took 2.36034e-05 seconds\n",
      "|  '-total : 7.74542 seconds\n",
      "n_comps, n_time pts x n_trials:  (16, 172896)\n",
      "\n",
      "\n",
      "IA3pm_Mar31_30Hz  has n trials:  (101,)\n",
      "Rank of video : 10\n",
      "Number of timepoints : 342190\n",
      "v SVD Initialization\n",
      "'-total : 0.019454\n",
      "v Rank Line Search\n",
      "|--v Rank Line Search Iteration 0\n",
      "|  |--v Initialization\n",
      "|  |  '-total : 0.002835 seconds\n",
      "|  |--v Lambda Line Search\n",
      "|  |  '- 150 iterations took 11.8771 seconds\n",
      "|  |--> R2 Evaluation took 1.52588e-05 seconds\n",
      "|  '-total : 11.8808 seconds\n",
      "n_comps, n_time pts x n_trials:  (16, 342190)\n",
      "\n",
      "\n",
      "IA3pm_Apr1_30Hz  has n trials:  (78,)\n",
      "Rank of video : 9\n",
      "Number of timepoints : 270150\n",
      "v SVD Initialization\n",
      "'-total : 0.020198\n",
      "v Rank Line Search\n",
      "|--v Rank Line Search Iteration 0\n",
      "|  |--v Initialization\n",
      "|  |  '-total : 0.003001 seconds\n",
      "|  |--v Lambda Line Search\n",
      "|  |  '- 106 iterations took 8.99462 seconds\n",
      "|  |--> R2 Evaluation took 6.67572e-06 seconds\n",
      "|  '-total : 8.99797 seconds\n",
      "n_comps, n_time pts x n_trials:  (16, 270150)\n",
      "\n",
      "\n",
      "IA3pm_Apr4_30Hz  has n trials:  (67,)\n",
      "Rank of video : 7\n",
      "Number of timepoints : 226926\n"
     ]
    },
    {
     "name": "stdout",
     "output_type": "stream",
     "text": [
      "v SVD Initialization\n",
      "'-total : 0.018533\n",
      "v Rank Line Search\n",
      "|--v Rank Line Search Iteration 0\n",
      "|  |--v Initialization\n",
      "|  |  '-total : 0.002540 seconds\n",
      "|  |--v Lambda Line Search\n",
      "|  |  '- 101 iterations took 7.65729 seconds\n",
      "|  |--> R2 Evaluation took 9.53674e-06 seconds\n",
      "|  '-total : 7.66011 seconds\n",
      "n_comps, n_time pts x n_trials:  (16, 226926)\n",
      "\n",
      "\n",
      "IA3pm_Apr5_30Hz  has n trials:  (120,)\n",
      "Rank of video : 7\n",
      "Number of timepoints : 421434\n",
      "v SVD Initialization\n",
      "'-total : 0.019283\n",
      "v Rank Line Search\n",
      "|--v Rank Line Search Iteration 0\n",
      "|  |--v Initialization\n",
      "|  |  '-total : 0.003095 seconds\n",
      "|  |--v Lambda Line Search\n",
      "|  |  '- 150 iterations took 11.6343 seconds\n",
      "|  |--> R2 Evaluation took 6.67572e-06 seconds\n",
      "|  '-total : 11.6382 seconds\n",
      "n_comps, n_time pts x n_trials:  (16, 421434)\n",
      "\n",
      "\n",
      "IA3pm_Apr6_30Hz  has n trials:  (72,)\n",
      "Rank of video : 6\n",
      "Number of timepoints : 241334\n",
      "v SVD Initialization\n",
      "'-total : 0.018848\n",
      "v Rank Line Search\n",
      "|--v Rank Line Search Iteration 0\n",
      "|  |--v Initialization\n",
      "|  |  '-total : 0.002325 seconds\n",
      "|  |--v Lambda Line Search\n",
      "|  |  '- 150 iterations took 11.441 seconds\n",
      "|  |--> R2 Evaluation took 6.91414e-06 seconds\n",
      "|  '-total : 11.4441 seconds\n",
      "n_comps, n_time pts x n_trials:  (16, 241334)\n",
      "\n",
      "\n",
      "IA3pm_Apr7_30Hz  has n trials:  (107,)\n",
      "Rank of video : 8\n",
      "Number of timepoints : 374608\n",
      "v SVD Initialization\n",
      "'-total : 0.018409\n",
      "v Rank Line Search\n",
      "|--v Rank Line Search Iteration 0\n",
      "|  |--v Initialization\n",
      "|  |  '-total : 0.002339 seconds\n",
      "|  |--v Lambda Line Search\n",
      "|  |  '- 98 iterations took 7.48334 seconds\n",
      "|  |--> R2 Evaluation took 7.39098e-06 seconds\n",
      "|  '-total : 7.48648 seconds\n",
      "n_comps, n_time pts x n_trials:  (16, 374608)\n"
     ]
    }
   ],
   "source": [
    "##############################################\n",
    "##############################################\n",
    "##############################################\n",
    "\n",
    "# \n",
    "root_dir = '/media/cat/4TBSSD/yuki/'\n",
    "animal_id = 'IA3'\n",
    "session = 'all'\n",
    "\n",
    "# \n",
    "loca = LocaNMFClass(root_dir, animal_id, session)\n",
    "print (loca.sessions)\n",
    "\n",
    "#\n",
    "loca.run_loca()\n"
   ]
  },
  {
   "cell_type": "code",
   "execution_count": 8,
   "metadata": {},
   "outputs": [],
   "source": [
    "##################################################\n",
    "##################################################\n",
    "##################################################\n",
    "loca.show_ROIs()"
   ]
  },
  {
   "cell_type": "code",
   "execution_count": 10,
   "metadata": {},
   "outputs": [
    {
     "name": "stdout",
     "output_type": "stream",
     "text": [
      "(106, 16, 1801)\n"
     ]
    }
   ],
   "source": [
    "##################################################\n",
    "##################################################\n",
    "##################################################\n",
    "\n",
    "d = np.load('/media/cat/4TBSSD/yuki/'+loca.animal_id+ '/tif_files/'+\n",
    "            loca.sessions[0]+'/'+loca.sessions[0]+'_locanmf.npz',\n",
    "            allow_pickle=True)\n",
    "\n",
    "temp_trial = d['temporal_trial']\n",
    "temp_rand = d['temporal_random']\n",
    "names = d['names']\n",
    "areas = d['areas']\n",
    "\n",
    "print (temp_trial.shape)\n",
    "colors = plt.cm.jet(np.linspace(0,1,temp_trial.shape[1]))\n",
    "\n",
    "\n",
    "temp_trial = temp_trial.mean(0)\n",
    "temp_rand = temp_rand.mean(0)\n",
    "t = np.arange(temp_rand.shape[1])/30.-30\n",
    "scale = 1\n",
    "fig=plt.figure()\n",
    "for k in range(temp_trial.shape[0]):\n",
    "    \n",
    "    plt.plot(t,temp_trial[k]*scale+k*5, c=colors[k], label=names[k])\n",
    "#         #plt.plot(t,temp_rand[k]*scale+k*5, '--', c=colors[k], label='random')\n",
    "#     else:\n",
    "#         plt.plot(t,temp_trial[k]*scale+k*5, c=colors[k])\n",
    "#         #plt.plot(t,temp_rand[k]*scale+k*5, '--', c=colors[k])\n",
    "\n",
    "plt.legend(fontsize=6)\n",
    "plt.ylabel(\"ROIs\")\n",
    "plt.xlabel(\"Time (sec)\")\n",
    "plt.xlim(-15,0)\n",
    "\n",
    "plt.suptitle(loca.sessions[0])\n",
    "plt.show()\n"
   ]
  },
  {
   "cell_type": "code",
   "execution_count": null,
   "metadata": {},
   "outputs": [],
   "source": []
  },
  {
   "cell_type": "code",
   "execution_count": null,
   "metadata": {},
   "outputs": [],
   "source": []
  },
  {
   "cell_type": "code",
   "execution_count": null,
   "metadata": {},
   "outputs": [],
   "source": []
  },
  {
   "cell_type": "code",
   "execution_count": null,
   "metadata": {},
   "outputs": [],
   "source": []
  },
  {
   "cell_type": "code",
   "execution_count": null,
   "metadata": {},
   "outputs": [],
   "source": []
  },
  {
   "cell_type": "code",
   "execution_count": 4,
   "metadata": {},
   "outputs": [],
   "source": [
    "import os\n",
    "# ## [OPTIONAL] if cuda support, uncomment following lines\n",
    "# os.environ[\"CUDA_DEVICE_ORDER\"]=\"PCI_BUS_ID\"\n",
    "# os.environ[\"CUDA_VISIBLE_DEVICES\"]=\"0\"\n",
    "# device='cuda'\n",
    "\n",
    "## else, if on cpu\n",
    "device='cpu'\n",
    "\n"
   ]
  },
  {
   "cell_type": "markdown",
   "metadata": {},
   "source": [
    "# User-defined Parameters"
   ]
  },
  {
   "cell_type": "code",
   "execution_count": 5,
   "metadata": {},
   "outputs": [],
   "source": [
    "##################################################################################################################\n",
    "## PARAMETERS THAT YOU SHOULD CHANGE\n",
    "##################################################################################################################\n",
    "# Path to data and atlas\n",
    "mouse_name = 'IJ1'\n",
    "session_name = 'Mar3'\n",
    "root_dir = '/media/cat/4TBSSD/yuki/yongxu/data/'\n",
    "data_folder = root_dir+mouse_name+'/'+session_name+'/'\n",
    "\n",
    "\n",
    "# spatial_data_filename = \"IA1_spatial.npy\" #\n",
    "spatial_data_filename =mouse_name+'pm_'+session_name+'_30Hz_code_04_trial_ROItimeCourses_30sec_pca_0.95_spatial.npy'\n",
    "# temporal_data_filename = \"IA1_temporal.npy\" # \n",
    "temporal_data_filename = mouse_name+'pm_'+session_name+'_30Hz_code_04_trial_ROItimeCourses_30sec_pca_0.95.npy'\n",
    "\n",
    "# atlas_filename = \"maskwarp_1.npy\" # contains 'atlas'\n",
    "random_spatial_data_filename =mouse_name+'pm_'+session_name+'_30Hz_code_04_random_ROItimeCourses_30sec_pca_0.95_spatial.npy'\n",
    "# temporal_data_filename = \"IA1_temporal.npy\" # \n",
    "random_temporal_data_filename = mouse_name+'pm_'+session_name+'_30Hz_code_04_random_ROItimeCourses_30sec_pca_0.95.npy'\n",
    "\n",
    "atlas_filename = \"atlas_split.npy\"\n",
    "\n",
    "# maxrank = how many max components per brain region. Set maxrank to around 4 for regular dataset.\n",
    "maxrank = 1\n",
    "  \n",
    "# min_pixels = minimum number of pixels in Allen map for it to be considered a brain region\n",
    "# default min_pixels = 100\n",
    "min_pixels = 200\n",
    "\n",
    "# loc_thresh = Localization threshold, i.e. percentage of area restricted to be inside the 'Allen boundary'\n",
    "# default loc_thresh = 80\n",
    "loc_thresh = 75\n",
    "\n",
    "# r2_thresh = Fraction of variance in the data to capture with LocaNMF\n",
    "# default r2_thresh = 0.99\n",
    "r2_thresh = 0.96\n",
    "\n",
    "# Do you want nonnegative temporal components? The data itself should also be nonnegative in this case.\n",
    "# default nonnegative_temporal = False\n",
    "nonnegative_temporal = False \n",
    "\n",
    "##################################################################################################################\n",
    "## PARAMETERS THAT YOU SHOULD PROBABLY NOT CHANGE (unless you know what you're doing)\n",
    "##################################################################################################################\n",
    "# maxiter_hals = Number of iterations in innermost loop (HALS). Keeping this low provides a sort of regularization.\n",
    "# default maxiter_hals = 20\n",
    "maxiter_hals = 20\n",
    "\n",
    "# maxiter_lambda = Number of iterations for the lambda loop. Keep this high for finding a good solution.\n",
    "# default maxiter_lambda = 100\n",
    "maxiter_lambda = 150\n",
    "\n",
    "# lambda_step = Amount to multiply lambda after every lambda iteration. \n",
    "# lambda_init = initial value of lambda. Keep this low. default lambda_init = 0.000001\n",
    "# lambda_{i+1}=lambda_i*lambda_step. lambda_0=lambda_init. default lambda_step = 1.35\n",
    "lambda_step = 1.25\n",
    "lambda_init = 1e-4\n"
   ]
  },
  {
   "cell_type": "code",
   "execution_count": 6,
   "metadata": {},
   "outputs": [],
   "source": [
    "# # spatial_data_filename.shape\n",
    "# a=np.load(data_folder+spatial_data_filename)\n",
    "# print(a.shape)\n",
    "# b=np.load(data_folder+temporal_data_filename)\n",
    "# print(b.shape)"
   ]
  },
  {
   "cell_type": "markdown",
   "metadata": {},
   "source": [
    "# Load & Format Data"
   ]
  },
  {
   "cell_type": "code",
   "execution_count": 7,
   "metadata": {},
   "outputs": [
    {
     "name": "stdout",
     "output_type": "stream",
     "text": [
      "loaded data\n",
      "\n"
     ]
    }
   ],
   "source": [
    "spatial = np.load(data_folder+spatial_data_filename)\n",
    "# spatial_random = np.load(data_folder+random_spatial_data_filename)\n",
    "# spatial=np.concatenate(spatial_trial,spatial_random,axis=0)\n",
    "spatial = np.transpose(spatial,[1,0])\n",
    "denoised_spatial_name = np.reshape(spatial,[128,128,-1])\n",
    "\n",
    "temporal_trial = np.load(data_folder+temporal_data_filename)\n",
    "temporal_random = np.load(data_folder+random_temporal_data_filename)\n",
    "temporal=np.concatenate((temporal_trial,temporal_random),axis=0)\n",
    "temporal = np.transpose(temporal,[1,0,2])\n",
    "# denoised_temporal_name = np.reshape(temporal,[-1,42*601])\n",
    "denoised_temporal_name = np.reshape(temporal,[-1,temporal.shape[1]*temporal.shape[2]])\n",
    "print('loaded data\\n',flush=True)\n",
    "\n",
    "atlas = np.load('./'+atlas_filename)#['atlas'].astype(float)\n",
    "#areanames = sio.loadmat(data_folder+atlas_filename)['areanames']"
   ]
  },
  {
   "cell_type": "code",
   "execution_count": 7,
   "metadata": {},
   "outputs": [],
   "source": [
    "# atlas.shape"
   ]
  },
  {
   "cell_type": "code",
   "execution_count": 8,
   "metadata": {
    "scrolled": false
   },
   "outputs": [
    {
     "data": {
      "text/plain": [
       "<matplotlib.image.AxesImage at 0x7f21939bb700>"
      ]
     },
     "execution_count": 8,
     "metadata": {},
     "output_type": "execute_result"
    }
   ],
   "source": [
    "fig = plt.figure()\n",
    "plt.imshow(atlas)\n",
    "# fig=plt.figure(figsize=(20,15))\n",
    "# for it in np.unique(atlas):\n",
    "#     plotmap=np.zeros((atlas.shape)); plotmap.fill(np.nan); plotmap[atlas==it]=atlas[atlas==it]\n",
    "# #     plt.subplot(5,6,it+1)\n",
    "#     plt.imshow(plotmap,cmap='Spectral'); plt.axis('off'); plt.title('Allen region map'); plt.show(); \n",
    "#     plt.show()\n"
   ]
  },
  {
   "cell_type": "code",
   "execution_count": 9,
   "metadata": {
    "scrolled": true
   },
   "outputs": [
    {
     "name": "stdout",
     "output_type": "stream",
     "text": [
      "(7, 475464)\n",
      "(128, 128, 7)\n",
      "(128, 128)\n"
     ]
    }
   ],
   "source": [
    "print(denoised_temporal_name.shape)\n",
    "print(denoised_spatial_name.shape)\n",
    "print(atlas.shape)\n",
    "\n",
    "fig = plt.figure()\n",
    "plt.plot(denoised_temporal_name[:,:601].T); plt.show()\n",
    "\n",
    "fig=plt.figure()\n",
    "for i in np.arange(7):\n",
    "    plt.imshow(denoised_spatial_name[:,:,i]); plt.show()"
   ]
  },
  {
   "cell_type": "code",
   "execution_count": 10,
   "metadata": {},
   "outputs": [],
   "source": [
    "# Get data in the correct format\n",
    "V=denoised_temporal_name\n",
    "U=denoised_spatial_name\n",
    "\n",
    "#\n",
    "brainmask = np.ones(U.shape[:2],dtype=bool)\n",
    "\n",
    "# Load true areas if simulated data\n",
    "simulation=0\n",
    "\n",
    "# Include nan values of U in brainmask, and put those values to 0 in U \n",
    "brainmask[np.isnan(np.sum(U,axis=2))]=False\n",
    "U[np.isnan(U)]=0\n",
    "\n",
    "# Preprocess V: flatten and remove nans\n",
    "dimsV=V.shape\n",
    "keepinds=np.nonzero(np.sum(np.isfinite(V),axis=0))[0]\n",
    "V=V[:,keepinds]\n",
    "\n",
    "# del arrays"
   ]
  },
  {
   "cell_type": "code",
   "execution_count": 10,
   "metadata": {},
   "outputs": [],
   "source": [
    "# U.shape"
   ]
  },
  {
   "cell_type": "code",
   "execution_count": 11,
   "metadata": {},
   "outputs": [
    {
     "name": "stdout",
     "output_type": "stream",
     "text": [
      "Rank of video : 7\n",
      "Number of timepoints : 475464\n"
     ]
    }
   ],
   "source": [
    "# Check that data has the correct shapes. V [K_d x T], U [X x Y x K_d], brainmask [X x Y]\n",
    "if V.shape[0]!=U.shape[-1]: \n",
    "    print('Wrong dimensions of U and V!')\n",
    "    \n",
    "print(\"Rank of video : %d\" % V.shape[0]); print(\"Number of timepoints : %d\" % V.shape[1]); \n",
    "\n",
    "# Plot the maximum of U\n",
    "# plotmap=np.zeros((atlas.shape)); plotmap.fill(np.nan); plotmap[brainmask]=atlas[brainmask]\n",
    "# fig=plt.figure()\n",
    "# plt.imshow(plotmap,cmap='Spectral'); plt.axis('off'); plt.title('Allen region map'); plt.show(); \n",
    "# fig=plt.figure()\n",
    "# plt.imshow(np.max(U,axis=2)); plt.axis('off'); plt.title('Max U'); plt.show()\n"
   ]
  },
  {
   "cell_type": "code",
   "execution_count": 12,
   "metadata": {},
   "outputs": [],
   "source": [
    "# Perform the LQ decomposition. Time everything.\n",
    "t0_global = time.time()\n",
    "t0 = time.time()\n",
    "if nonnegative_temporal:\n",
    "    r = V.T\n",
    "else:\n",
    "    q, r = np.linalg.qr(V.T)\n",
    "time_ests={'qr_decomp':time.time() - t0}"
   ]
  },
  {
   "cell_type": "markdown",
   "metadata": {},
   "source": [
    "# Initialize LocaNMF"
   ]
  },
  {
   "cell_type": "code",
   "execution_count": 13,
   "metadata": {},
   "outputs": [],
   "source": [
    "# Put in data structure for LocaNMF\n",
    "video_mats = (np.copy(U[brainmask]), r.T)\n",
    "rank_range = (1, maxrank, 1)\n",
    "del U\n"
   ]
  },
  {
   "cell_type": "code",
   "execution_count": 14,
   "metadata": {},
   "outputs": [],
   "source": [
    "# region_mats[0] = [unique regions x pixels] the mask of each region\n",
    "# region_mats[1] = [unique regions x pixels] the distance penalty of each region\n",
    "# region_mats[2] = [unique regions] area code\n",
    "region_mats = LocaNMF.extract_region_metadata(brainmask, atlas, min_size=min_pixels)\n",
    "\n",
    "region_metadata = LocaNMF.RegionMetadata(region_mats[0].shape[0],\n",
    "                                         region_mats[0].shape[1:],\n",
    "                                         device=device)\n",
    "\n",
    "region_metadata.set(torch.from_numpy(region_mats[0].astype(np.uint8)),\n",
    "                    torch.from_numpy(region_mats[1]),\n",
    "                    torch.from_numpy(region_mats[2].astype(np.int64)))\n"
   ]
  },
  {
   "cell_type": "code",
   "execution_count": 15,
   "metadata": {},
   "outputs": [],
   "source": [
    "# print (region_mats[1].shape)\n",
    "\n",
    "# print (region_mats[2])\n",
    "\n",
    "# print (region_mats[2].shape)"
   ]
  },
  {
   "cell_type": "code",
   "execution_count": 16,
   "metadata": {},
   "outputs": [],
   "source": [
    "# grab region names\n",
    "rois=np.load('./rois_50.npz')\n",
    "rois_name=rois['names']\n",
    "# rois_name\n",
    "\n",
    "rois_ids=rois['ids']\n",
    "# rois_ids"
   ]
  },
  {
   "cell_type": "code",
   "execution_count": 17,
   "metadata": {},
   "outputs": [
    {
     "name": "stdout",
     "output_type": "stream",
     "text": [
      "v SVD Initialization\n",
      "'-total : 0.021114\n"
     ]
    }
   ],
   "source": [
    "# Do SVD as initialization\n",
    "if device=='cuda': \n",
    "    torch.cuda.synchronize()\n",
    "\n",
    "# \n",
    "print('v SVD Initialization')\n",
    "t0 = time.time()\n",
    "region_videos = LocaNMF.factor_region_videos(video_mats,\n",
    "                                               region_mats[0],\n",
    "                                               rank_range[1],\n",
    "                                               device=device)\n",
    "#\n",
    "if device=='cuda': \n",
    "    torch.cuda.synchronize()\n",
    "print(\"\\'-total : %f\" % (time.time() - t0))\n",
    "time_ests['svd_init'] = time.time() - t0"
   ]
  },
  {
   "cell_type": "code",
   "execution_count": 18,
   "metadata": {},
   "outputs": [],
   "source": [
    "# \n",
    "low_rank_video = LocaNMF.LowRankVideo(\n",
    "    (int(np.sum(brainmask)),) + video_mats[1].shape, device=device\n",
    ")\n",
    "low_rank_video.set(torch.from_numpy(video_mats[0].T),\n",
    "                   torch.from_numpy(video_mats[1]))"
   ]
  },
  {
   "cell_type": "markdown",
   "metadata": {},
   "source": [
    "# LocaNMF"
   ]
  },
  {
   "cell_type": "code",
   "execution_count": 19,
   "metadata": {
    "scrolled": false
   },
   "outputs": [
    {
     "name": "stdout",
     "output_type": "stream",
     "text": [
      "v Rank Line Search\n",
      "|--v Rank Line Search Iteration 0\n",
      "|  |--v Initialization\n",
      "|  |  '-total : 0.004096 seconds\n",
      "|  |--v Lambda Line Search\n",
      "|  |  '- 114 iterations took 9.89176 seconds\n",
      "|  |--> R2 Evaluation took 5.8651e-05 seconds\n",
      "|  '-total : 9.8968 seconds\n",
      "'-total : 10.031570\n"
     ]
    }
   ],
   "source": [
    "# \n",
    "if device=='cuda': \n",
    "    torch.cuda.synchronize()\n",
    "\n",
    "# \n",
    "print('v Rank Line Search')\n",
    "t0 = time.time()\n",
    "locanmf_comps,loc_save = LocaNMF.rank_linesearch(low_rank_video,\n",
    "                                                 region_metadata,\n",
    "                                                 region_videos,\n",
    "                                                 maxiter_rank=maxrank,\n",
    "                                                 maxiter_lambda=maxiter_lambda,      # main param to tweak\n",
    "                                                 maxiter_hals=maxiter_hals,\n",
    "                                                 lambda_step=lambda_step,\n",
    "                                                 lambda_init=lambda_init, \n",
    "                                                 loc_thresh=loc_thresh,\n",
    "                                                 r2_thresh=r2_thresh,\n",
    "                                                 rank_range=rank_range,\n",
    "    #                                             nnt=nonnegative_temporal,\n",
    "                                                 verbose=[True, False, False],\n",
    "                                                 sample_prop=(1,1),\n",
    "                                                 device=device\n",
    "                                                )\n",
    "#\n",
    "if device=='cuda': \n",
    "    torch.cuda.synchronize()\n",
    "    \n",
    "# \n",
    "print(\"\\'-total : %f\" % (time.time() - t0))\n",
    "time_ests['rank_linesearch'] = time.time() - t0"
   ]
  },
  {
   "cell_type": "code",
   "execution_count": 115,
   "metadata": {},
   "outputs": [],
   "source": [
    "# print (loc_save.scale.data)\n",
    "\n",
    "# print (loc_save.spatial.data.shape)\n",
    "\n",
    "# print (loc_save.spatial.scratch.shape)\n"
   ]
  },
  {
   "cell_type": "code",
   "execution_count": 20,
   "metadata": {},
   "outputs": [
    {
     "name": "stdout",
     "output_type": "stream",
     "text": [
      "ratio:  tensor([0.8692, 0.8976, 0.8871, 0.8977, 0.8886, 0.8898, 0.9945, 0.9052, 0.9166,\n",
      "        0.9706, 0.8861, 0.8790, 0.8862, 0.8829, 0.8959, 0.8698])\n",
      "percentage;  tensor([75.5541, 80.5709, 78.6952, 80.5908, 78.9629, 79.1756, 98.9053, 81.9381,\n",
      "        84.0245, 94.2150, 78.5193, 77.2639, 78.5326, 77.9467, 80.2672, 75.6619])\n",
      "The threshold is 75%.  all copmonents should be above, otherwise increase lambda iterations \n"
     ]
    }
   ],
   "source": [
    "# how much of spatial components is in each region\n",
    "ratio=torch.norm(loc_save.spatial.scratch,p=2,dim=-1)/torch.norm(loc_save.spatial.data,p=2,dim=-1)\n",
    "print (\"ratio: \", ratio)\n",
    "\n",
    "# how much of the spatial component is inside the ROI\n",
    "per=100*(ratio**2)\n",
    "print ('percentage; ', per)\n",
    "\n",
    "#\n",
    "print (\"The threshold is 75%.  all copmonents should be above, otherwise increase lambda iterations \")"
   ]
  },
  {
   "cell_type": "code",
   "execution_count": 21,
   "metadata": {},
   "outputs": [],
   "source": [
    "# # \n",
    "# print(\"Number of components : %d\" % len(locanmf_comps))\n"
   ]
  },
  {
   "cell_type": "code",
   "execution_count": 21,
   "metadata": {},
   "outputs": [
    {
     "name": "stdout",
     "output_type": "stream",
     "text": [
      "Compute the variance explained by each component \n"
     ]
    }
   ],
   "source": [
    "# computing the variance in each component;\n",
    "print (\"Compute the variance explained by each component \")\n",
    "mov = torch.matmul(low_rank_video.spatial.data.t(),\n",
    "                   low_rank_video.temporal.data)\n",
    "\n",
    "# \n",
    "var = torch.mean(torch.var(mov, dim=1, unbiased=False))  # TODO: Precompute this\n",
    "var_ests=np.zeros((len(locanmf_comps)))\n",
    "for i in np.arange(len(locanmf_comps)):\n",
    "    mov = torch.matmul(torch.index_select(locanmf_comps.spatial.data,0,torch.tensor([i])).t(),\n",
    "                       torch.index_select(locanmf_comps.temporal.data,0,torch.tensor([i])))\n",
    "    var_i = torch.mean(torch.var(mov, dim=1, unbiased=False))  \n",
    "    \n",
    "    # mean(var(dataest))/mean(var(data))\n",
    "    var_ests[i] = var_i.item() / var.item()"
   ]
  },
  {
   "cell_type": "code",
   "execution_count": 22,
   "metadata": {},
   "outputs": [
    {
     "name": "stdout",
     "output_type": "stream",
     "text": [
      "[10  2  5 13 14  6  1  9  7  3 15  0 12  4  8 11]\n",
      "[0.01208417 0.02277447 0.02595966 0.02679086 0.02696665 0.0279273\n",
      " 0.02856583 0.050775   0.05264335 0.05978304 0.06260083 0.06371876\n",
      " 0.08338434 0.08469672 0.1196507  0.1410279 ]\n",
      "0.8893495767929668\n",
      "TODO: verify that locaNMF svm decoding is similar to pca\n"
     ]
    }
   ],
   "source": [
    "# to return to this; should sum to 1, perhaps\n",
    "plt.plot(var_ests); \n",
    "plt.show()\n",
    "\n",
    "# \n",
    "print (np.argsort(var_ests))\n",
    "print (var_ests[np.argsort(var_ests)])\n",
    "print (var_ests.sum())\n",
    "\n",
    "print (\"TODO: verify that locaNMF svm decoding is similar to pca\")\n"
   ]
  },
  {
   "cell_type": "code",
   "execution_count": 23,
   "metadata": {},
   "outputs": [
    {
     "name": "stdout",
     "output_type": "stream",
     "text": [
      "0.8911348110456525\n",
      "TODO: Save rsquared components\n"
     ]
    }
   ],
   "source": [
    "# compute the r-squared again\n",
    "mov = torch.matmul(low_rank_video.spatial.data.t(),low_rank_video.temporal.data)\n",
    "var = torch.mean(torch.var(mov, dim=1, unbiased=False))  # TODO: Precompute this\n",
    "\n",
    "torch.addmm(beta=1,\n",
    "            input=mov,\n",
    "            alpha=-1,\n",
    "            mat1=locanmf_comps.spatial.data.t(),\n",
    "            mat2=locanmf_comps.temporal.data,\n",
    "            out=mov)\n",
    "\n",
    "r2_est = 1 - (torch.mean(mov.pow_(2)).item() / var.item())\n",
    "\n",
    "print(r2_est); \n",
    "\n",
    "print (\"TODO: Save rsquared components\")\n"
   ]
  },
  {
   "cell_type": "code",
   "execution_count": 24,
   "metadata": {},
   "outputs": [],
   "source": [
    "# for each component what is the rsquared - OPTIONAL - for checks\n",
    "r2_ests=np.zeros((len(locanmf_comps)))\n",
    "for i in np.arange(len(locanmf_comps)):\n",
    "    mov = torch.matmul(low_rank_video.spatial.data.t(),low_rank_video.temporal.data)\n",
    "    var = torch.mean(torch.var(mov, dim=1, unbiased=False))  # TODO: Precompute this\n",
    "    \n",
    "    # mov = data-dataest = data-mat1*mat2\n",
    "    torch.addmm(beta=1,\n",
    "                input=mov,\n",
    "                alpha=-1,\n",
    "                mat1=torch.index_select(locanmf_comps.spatial.data,\n",
    "                                                0,\n",
    "                                                torch.tensor([i])).t(),\n",
    "                mat2=torch.index_select(locanmf_comps.temporal.data,\n",
    "                                                0,\n",
    "                                                torch.tensor([i])),\n",
    "                out=mov)\n",
    "    \n",
    "    # r2_ests = 1-mean(var(data-dataest))/mean(var(data))\n",
    "    r2_ests[i] = 1 - (torch.mean(mov.pow_(2)).item() / var.item())"
   ]
  },
  {
   "cell_type": "code",
   "execution_count": 25,
   "metadata": {},
   "outputs": [],
   "source": [
    "# for each component what is the rsquared - OPTIONAL - for checks\n",
    "mov = torch.matmul(low_rank_video.spatial.data.t(),low_rank_video.temporal.data)\n",
    "var = torch.mean(torch.var(mov, dim=1, unbiased=False))  # TODO: Precompute this\n",
    "\n",
    "r2_ests_2=np.zeros((len(locanmf_comps)))\n",
    "for i in np.arange(len(locanmf_comps)):\n",
    "    mov_i = torch.matmul(torch.index_select(locanmf_comps.spatial.data,0,torch.tensor([i])).t(),\n",
    "                       torch.index_select(locanmf_comps.temporal.data,0,torch.tensor([i])))\n",
    "    var_i = torch.mean(torch.var(mov-mov_i, dim=1, unbiased=False))  \n",
    "    \n",
    "    # 1 - mean(var(data-dataest))/mean(var(data))\n",
    "    r2_ests_2[i] = 1 - (var_i.item() / var.item())"
   ]
  },
  {
   "cell_type": "code",
   "execution_count": 26,
   "metadata": {},
   "outputs": [],
   "source": [
    "r2_ests_loo=np.zeros((len(locanmf_comps)))\n",
    "for i in np.arange(len(locanmf_comps)):\n",
    "    mov = torch.matmul(low_rank_video.spatial.data.t(),low_rank_video.temporal.data)\n",
    "    var = torch.mean(torch.var(mov, dim=1, unbiased=False))  # TODO: Precompute this\n",
    "\n",
    "    torch.addmm(beta=1,\n",
    "                input=mov,\n",
    "                alpha=-1,\n",
    "                mat1=torch.index_select(locanmf_comps.spatial.data,\n",
    "                                                0,\n",
    "                                                torch.tensor(np.concatenate((np.arange(0,i),np.arange(i+1,len(locanmf_comps)))))).t(),\n",
    "                mat2=torch.index_select(locanmf_comps.temporal.data,\n",
    "                                                0,\n",
    "                                                torch.tensor(np.concatenate((np.arange(0,i),np.arange(i+1,len(locanmf_comps)))))),\n",
    "                out=mov)\n",
    "\n",
    "    r2_ests_loo[i] = 1 - (torch.mean(mov.pow_(2)).item() / var.item())"
   ]
  },
  {
   "cell_type": "code",
   "execution_count": 28,
   "metadata": {},
   "outputs": [],
   "source": [
    "# _,r2_fit=LocaNMF.evaluate_fit_to_region(low_rank_video,\n",
    "#                                            locanmf_comps,\n",
    "#                                            region_metadata.support.data.sum(0),\n",
    "#                                            sample_prop=(1, 1))\n",
    "\n"
   ]
  },
  {
   "cell_type": "code",
   "execution_count": 27,
   "metadata": {},
   "outputs": [
    {
     "name": "stdout",
     "output_type": "stream",
     "text": [
      "R^2 fit on all data : 0.943604\n"
     ]
    }
   ],
   "source": [
    "# Evaluate R^2\n",
    "_,r2_fit=LocaNMF.evaluate_fit_to_region(low_rank_video,\n",
    "                                        locanmf_comps,\n",
    "                                        region_metadata.support.data.sum(0),\n",
    "                                        sample_prop=(1, 1)\n",
    "                                       )\n",
    "# \n",
    "print(\"R^2 fit on all data : %f\" % r2_fit)\n",
    "\n",
    "time_ests['global_time'] = time.time()-t0_global"
   ]
  },
  {
   "cell_type": "code",
   "execution_count": 28,
   "metadata": {},
   "outputs": [
    {
     "name": "stdout",
     "output_type": "stream",
     "text": [
      "n_comps, n_time pts x n_trials:  (16, 475464)\n"
     ]
    }
   ],
   "source": [
    "# C is the temporal components\n",
    "C = np.matmul(q,locanmf_comps.temporal.data.cpu().numpy().T).T\n",
    "print (\"n_comps, n_time pts x n_trials: \", C.shape)\n",
    "qc, rc = np.linalg.qr(C.T)"
   ]
  },
  {
   "cell_type": "code",
   "execution_count": 29,
   "metadata": {},
   "outputs": [
    {
     "name": "stdout",
     "output_type": "stream",
     "text": [
      "0.8893495767929668\n"
     ]
    }
   ],
   "source": [
    "# back to visualizing variance\n",
    "print(np.sum(var_ests))\n",
    "plt.bar(np.arange(len(locanmf_comps)),var_ests); plt.show()"
   ]
  },
  {
   "cell_type": "code",
   "execution_count": 30,
   "metadata": {},
   "outputs": [],
   "source": [
    "# \n",
    "var_est=np.zeros((len(locanmf_comps)))\n",
    "for i in np.arange(len(locanmf_comps)):\n",
    "    var_est[i]=np.var(C[i,:])/np.var(C)\n",
    "    "
   ]
  },
  {
   "cell_type": "code",
   "execution_count": 33,
   "metadata": {},
   "outputs": [],
   "source": [
    "# locanmf_comps.regions.data"
   ]
  },
  {
   "cell_type": "markdown",
   "metadata": {},
   "source": [
    "# Reformat spatial and temporal matrices, and save"
   ]
  },
  {
   "cell_type": "code",
   "execution_count": 31,
   "metadata": {},
   "outputs": [],
   "source": [
    "# Assigning regions to components\n",
    "region_ranks = []; region_idx = []\n",
    "\n",
    "for rdx in torch.unique(locanmf_comps.regions.data, sorted=True):\n",
    "    region_ranks.append(torch.sum(rdx == locanmf_comps.regions.data).item())\n",
    "    region_idx.append(rdx.item())\n",
    "\n",
    "areas=region_metadata.labels.data[locanmf_comps.regions.data].cpu().numpy()"
   ]
  },
  {
   "cell_type": "code",
   "execution_count": 32,
   "metadata": {},
   "outputs": [],
   "source": [
    "# Get LocaNMF spatial and temporal components\n",
    "A=locanmf_comps.spatial.data.cpu().numpy().T\n",
    "A_reshape=np.zeros((brainmask.shape[0],brainmask.shape[1],A.shape[1])); \n",
    "A_reshape.fill(np.nan)\n",
    "A_reshape[brainmask,:]=A\n",
    "\n",
    "# C is already computed above delete above\n",
    "if nonnegative_temporal:\n",
    "    C=locanmf_comps.temporal.data.cpu().numpy()\n",
    "else:\n",
    "    C=np.matmul(q,locanmf_comps.temporal.data.cpu().numpy().T).T\n",
    "    \n",
    "# Add back removed columns from C as nans\n",
    "C_reshape=np.full((C.shape[0],dimsV[1]),np.nan)\n",
    "C_reshape[:,keepinds]=C\n",
    "C_reshape=np.reshape(C_reshape,[C.shape[0],dimsV[1]])\n",
    "\n",
    "# Get lambdas\n",
    "lambdas=np.squeeze(locanmf_comps.lambdas.data.cpu().numpy())"
   ]
  },
  {
   "cell_type": "code",
   "execution_count": 33,
   "metadata": {},
   "outputs": [
    {
     "data": {
      "text/plain": [
       "(264, 16, 1801)"
      ]
     },
     "execution_count": 33,
     "metadata": {},
     "output_type": "execute_result"
    }
   ],
   "source": [
    "# A_reshape.shape\n",
    "\n",
    "# c_p is the trial sturcutre\n",
    "c_p=C_reshape.reshape(A_reshape.shape[2],int(C_reshape.shape[1]/1801),1801)\n",
    "\n",
    "# \n",
    "c_plot=c_p.transpose((1,0,2))\n",
    "c_plot.shape"
   ]
  },
  {
   "cell_type": "code",
   "execution_count": 91,
   "metadata": {},
   "outputs": [],
   "source": [
    "# save LocaNMF data\n",
    "data_folder = root_dir+mouse_name+'/'+session_name+'/'\n",
    "\n",
    "areas_saved = []\n",
    "for area in areas:\n",
    "    idx = np.where(rois_ids==np.abs(area))[0]\n",
    "    temp_name = str(rois_name[idx].squeeze())\n",
    "    if area <0:\n",
    "        temp_name += \" - right\"\n",
    "    else:\n",
    "        temp_name += \" - left\"\n",
    "    \n",
    "\n",
    "    areas_saved.append(temp_name)\n",
    "    \n",
    "np.savez(os.path.join(root_dir,mouse_name,session_name,'locanmf_trial.npz'),\n",
    "        temporal = c_plot[:int(c_plot.shape[0]/2),:,:],\n",
    "        areas = areas,\n",
    "        names = areas_saved)\n",
    "\n",
    "np.savez(os.path.join(root_dir,mouse_name,session_name,'locanmf_random.npz'),\n",
    "        temporal = c_plot[int(c_plot.shape[0]/2):,:,:],\n",
    "        areas = areas,\n",
    "        names = areas_saved)\n",
    "\n"
   ]
  },
  {
   "cell_type": "code",
   "execution_count": null,
   "metadata": {},
   "outputs": [],
   "source": []
  },
  {
   "cell_type": "code",
   "execution_count": null,
   "metadata": {},
   "outputs": [],
   "source": []
  },
  {
   "cell_type": "code",
   "execution_count": null,
   "metadata": {},
   "outputs": [],
   "source": []
  },
  {
   "cell_type": "code",
   "execution_count": null,
   "metadata": {},
   "outputs": [],
   "source": []
  },
  {
   "cell_type": "code",
   "execution_count": null,
   "metadata": {},
   "outputs": [],
   "source": []
  },
  {
   "cell_type": "code",
   "execution_count": null,
   "metadata": {},
   "outputs": [],
   "source": []
  },
  {
   "cell_type": "code",
   "execution_count": null,
   "metadata": {},
   "outputs": [],
   "source": []
  },
  {
   "cell_type": "code",
   "execution_count": null,
   "metadata": {},
   "outputs": [],
   "source": []
  },
  {
   "cell_type": "code",
   "execution_count": 34,
   "metadata": {},
   "outputs": [
    {
     "name": "stdout",
     "output_type": "stream",
     "text": [
      "(132, 16, 1801)\n",
      "[-255 -249 -150  -57  -43  -36  -21  -15   15   21   36   43   57  150\n",
      "  249  255]\n",
      "['Retrosplenial area, dorsal part, layer 1 - right'\n",
      " 'Retrosplenial area, lateral agranular part, layer 1 - right'\n",
      " 'Primary visual area, layer 1 - right'\n",
      " 'Primary somatosensory area, upper limb, layer 1 - right'\n",
      " 'Primary somatosensory area, lower limb, layer 1 - right'\n",
      " 'Primary somatosensory area, barrel field, layer 1 - right'\n",
      " 'Secondary motor area, layer 1 - right'\n",
      " 'Primary motor area, Layer 1 - right'\n",
      " 'Primary motor area, Layer 1 - left'\n",
      " 'Secondary motor area, layer 1 - left'\n",
      " 'Primary somatosensory area, barrel field, layer 1 - left'\n",
      " 'Primary somatosensory area, lower limb, layer 1 - left'\n",
      " 'Primary somatosensory area, upper limb, layer 1 - left'\n",
      " 'Primary visual area, layer 1 - left'\n",
      " 'Retrosplenial area, lateral agranular part, layer 1 - left'\n",
      " 'Retrosplenial area, dorsal part, layer 1 - left']\n"
     ]
    }
   ],
   "source": [
    "d = np.load('/media/cat/4TBSSD/yuki/yongxu/data/IJ1/Mar3/locanmf_trial.npz')\n",
    "temporal = d['temporal']\n",
    "areas = d['areas']\n",
    "names = d['names']\n",
    "print (temporal.shape)\n",
    "print (areas)\n",
    "print (names)"
   ]
  },
  {
   "cell_type": "code",
   "execution_count": 97,
   "metadata": {},
   "outputs": [],
   "source": [
    "# from scipy.signal import savgol_filter\n",
    "\n",
    "# t = np.arange(temporal.shape[2])/30 - 30\n",
    "# max_vals = []\n",
    "# for k in range(temporal.shape[1]):\n",
    "#     temp = temporal[:,k].mean(0)\n",
    "#     #plt.plot(temp)\n",
    "#     temp2 = savgol_filter(temp, 15, 2)\n",
    "    \n",
    "#     plt.subplot(121)\n",
    "#     plt.xlim(-15,0)\n",
    "#     plt.plot(t,temp2)\n",
    "    \n",
    "#     m = np.max(temp2[:temp2.shape[0]//2])\n",
    "#     max_vals.append(m)\n",
    "    \n",
    "#     plt.subplot(122)\n",
    "#     plt.xlim(-15,0)\n",
    "#     temp2 = temp2/np.max(temp2)\n",
    "#     plt.plot(t,temp2)\n",
    "    \n",
    "#     #break\n",
    "# plt.show()\n",
    "\n",
    "# max_vals = np.array(max_vals)\n",
    "# args = np.argsort(max_vals)[::-1]\n",
    "# print (max_vals[args])\n",
    "# print (names[args])\n",
    "\n"
   ]
  },
  {
   "cell_type": "code",
   "execution_count": null,
   "metadata": {},
   "outputs": [],
   "source": []
  },
  {
   "cell_type": "code",
   "execution_count": 98,
   "metadata": {},
   "outputs": [
    {
     "name": "stdout",
     "output_type": "stream",
     "text": [
      "(132, 16, 1801)\n"
     ]
    }
   ],
   "source": [
    "# temp componetns of behavior + control data vstacked\n",
    "t_plot=temporal.transpose((1,0,2))\n",
    "\n",
    "print (temporal.shape)"
   ]
  },
  {
   "cell_type": "code",
   "execution_count": 35,
   "metadata": {},
   "outputs": [
    {
     "name": "stdout",
     "output_type": "stream",
     "text": [
      "tensor([ 21.3821, 311.1507,  33.4096, 159.3091, 248.9205,  81.5663,  52.2024,\n",
      "         81.5663,  52.2024,  33.4096,  26.7276, 127.4473, 101.9579,  13.6846,\n",
      "        311.1507,  21.3821])\n"
     ]
    }
   ],
   "source": [
    "# Plot the distribution of lambdas. OPTIONAL\n",
    "# If lots of values close to the minimum, decrease lambda_init.\n",
    "# If lots of values close to the maximum, increase maxiter_lambda or lambda_step.\n",
    "plt.hist(locanmf_comps.lambdas.data.cpu(), \n",
    "         bins=torch.unique(locanmf_comps.lambdas.data).shape[0])\n",
    "\n",
    "plt.show()\n",
    "print(locanmf_comps.lambdas.data.cpu())"
   ]
  },
  {
   "cell_type": "code",
   "execution_count": 36,
   "metadata": {},
   "outputs": [
    {
     "data": {
      "text/plain": [
       "array([-255., -249., -150.,  -57.,  -43.,  -36.,  -21.,  -15.,   15.,\n",
       "         21.,   36.,   43.,   57.,  150.,  249.,  255.])"
      ]
     },
     "execution_count": 36,
     "metadata": {},
     "output_type": "execute_result"
    }
   ],
   "source": [
    "region_name=region_mats[2]\n",
    "region_name.shape\n",
    "\n",
    "region_name\n"
   ]
  },
  {
   "cell_type": "code",
   "execution_count": 37,
   "metadata": {},
   "outputs": [],
   "source": [
    "def parse_areanames_new(region_name,rois_name):\n",
    "    areainds=[]; areanames=[];\n",
    "    for i,area in enumerate(region_name):\n",
    "        areainds.append(area)\n",
    "        areanames.append(rois_name[np.where(rois_ids==np.abs(area))][0])\n",
    "    sortvec=np.argsort(np.abs(areainds))\n",
    "    areanames=[areanames[i] for i in sortvec]\n",
    "    areainds=[areainds[i] for i in sortvec]\n",
    "    return areainds,areanames\n",
    "\n",
    "# \n",
    "region_name=region_mats[2]\n",
    "\n",
    "\n",
    "# Get area names for all components\n",
    "areainds,areanames_all = parse_areanames_new(region_name,rois_name)\n",
    "areanames_area=[]\n",
    "for i,area in enumerate(areas):\n",
    "    areanames_area.append(areanames_all[areainds.index(area)])\n",
    "    "
   ]
  },
  {
   "cell_type": "code",
   "execution_count": 38,
   "metadata": {},
   "outputs": [],
   "source": [
    "# # Get area names for all components\n",
    "# areainds,areanames_all =parse_areanames_new(region_name,rois_name)\n",
    "# areanames_area=[]\n",
    "# for i,area in enumerate(areas):\n",
    "#     areanames_area.append(areanames_all[areainds.index(area)])\n",
    "    "
   ]
  },
  {
   "cell_type": "code",
   "execution_count": 39,
   "metadata": {},
   "outputs": [
    {
     "name": "stdout",
     "output_type": "stream",
     "text": [
      "LocaNMF completed successfully in 1959.585130929947\n",
      "\n",
      "Results saved in /media/cat/4TBSSD/yuki/yongxu/data/IJ1/Mar3/locanmf_decomp_loc75.mat\n"
     ]
    }
   ],
   "source": [
    "# Save results! - USE .NPZ File\n",
    "print(\"LocaNMF completed successfully in \"+ str(time.time()-t0_global) + \"\\n\")\n",
    "print(\"Results saved in \"+data_folder+'locanmf_decomp_loc'+str(loc_thresh)+'.mat')\n",
    "\n",
    "# Prefer to save c_p which is already converted\n",
    "sio.savemat(data_folder+'locanmf_decomp_loc'+str(loc_thresh)+'.mat',\n",
    "            {'C':C_reshape,\n",
    "             'A':A_reshape,\n",
    "             'lambdas':lambdas,\n",
    "             'areas':areas,\n",
    "             'r2_fit':r2_fit,\n",
    "             'time_ests':time_ests,\n",
    "             'areanames':areanames_area\n",
    "            })\n",
    "\n",
    "\n",
    "torch.cuda.empty_cache()"
   ]
  },
  {
   "cell_type": "code",
   "execution_count": 43,
   "metadata": {},
   "outputs": [],
   "source": [
    "atlas_split=atlas\n",
    "itt=0\n",
    "fig=plt.figure() #figsize=(10,10))\n",
    "b_=[]\n",
    "for it in np.unique(atlas_split):\n",
    "    if np.abs(it) !=0:\n",
    "        plotmap=np.zeros((atlas_split.shape)); plotmap.fill(np.nan); plotmap[atlas_split==it]=atlas_split[atlas_split==it]\n",
    "        plt.subplot(5,8,itt+1)\n",
    "        plt.imshow(plotmap,cmap='Spectral'); plt.axis('off'); \n",
    "        plt.title(rois_name[np.where(rois_ids==np.abs(it))][0],fontsize=6); \n",
    "        b_.append(plotmap)\n",
    "        #     plt.show()\n",
    "        itt=itt+1\n",
    "plt.tight_layout(h_pad=0.5,w_pad=0.5)"
   ]
  },
  {
   "cell_type": "code",
   "execution_count": 61,
   "metadata": {},
   "outputs": [
    {
     "data": {
      "text/plain": [
       "tensor([75.5541, 80.5709, 78.6952, 80.5908, 78.9629, 79.1756, 98.9053, 81.9381,\n",
       "        84.0245, 94.2150, 78.5193, 77.2639, 78.5326, 77.9467, 80.2672, 75.6619])"
      ]
     },
     "execution_count": 61,
     "metadata": {},
     "output_type": "execute_result"
    }
   ],
   "source": [
    "# how much of the spatial component is inside the ROI\n",
    "# per"
   ]
  },
  {
   "cell_type": "code",
   "execution_count": 44,
   "metadata": {},
   "outputs": [],
   "source": [
    "######################################################\n",
    "##### PLACE TO LOOK FOR large spatial components #####\n",
    "######################################################\n",
    "fig=plt.figure()\n",
    "for i in range(A_reshape.shape[2]):\n",
    "    plt.subplot(5,8,i+1)\n",
    "    plt.imshow(A_reshape[:,:,i])\n",
    "    plt.title(areanames_area[i],fontsize=6)\n",
    "plt.tight_layout(h_pad=0.5,w_pad=0.5)\n",
    "plt.show()"
   ]
  },
  {
   "cell_type": "code",
   "execution_count": 1,
   "metadata": {},
   "outputs": [
    {
     "ename": "NameError",
     "evalue": "name 'np' is not defined",
     "output_type": "error",
     "traceback": [
      "\u001b[0;31m---------------------------------------------------------------------------\u001b[0m",
      "\u001b[0;31mNameError\u001b[0m                                 Traceback (most recent call last)",
      "\u001b[0;32m<ipython-input-1-067c766b9534>\u001b[0m in \u001b[0;36m<module>\u001b[0;34m\u001b[0m\n\u001b[1;32m      1\u001b[0m \u001b[0;31m# calculate ROI data\u001b[0m\u001b[0;34m\u001b[0m\u001b[0;34m\u001b[0m\u001b[0;34m\u001b[0m\u001b[0m\n\u001b[0;32m----> 2\u001b[0;31m \u001b[0mroi_spatial\u001b[0m\u001b[0;34m=\u001b[0m\u001b[0mnp\u001b[0m\u001b[0;34m.\u001b[0m\u001b[0mzeros\u001b[0m\u001b[0;34m(\u001b[0m\u001b[0;34m(\u001b[0m\u001b[0mA_reshape\u001b[0m\u001b[0;34m.\u001b[0m\u001b[0mshape\u001b[0m\u001b[0;34m[\u001b[0m\u001b[0;36m2\u001b[0m\u001b[0;34m]\u001b[0m\u001b[0;34m,\u001b[0m\u001b[0mdenoised_spatial_name\u001b[0m\u001b[0;34m.\u001b[0m\u001b[0mshape\u001b[0m\u001b[0;34m[\u001b[0m\u001b[0;36m2\u001b[0m\u001b[0;34m]\u001b[0m\u001b[0;34m)\u001b[0m\u001b[0;34m)\u001b[0m\u001b[0;34m\u001b[0m\u001b[0;34m\u001b[0m\u001b[0m\n\u001b[0m\u001b[1;32m      3\u001b[0m \u001b[0;32mfor\u001b[0m \u001b[0mi\u001b[0m \u001b[0;32min\u001b[0m \u001b[0mrange\u001b[0m\u001b[0;34m(\u001b[0m\u001b[0mdenoised_spatial_name\u001b[0m\u001b[0;34m.\u001b[0m\u001b[0mshape\u001b[0m\u001b[0;34m[\u001b[0m\u001b[0;36m2\u001b[0m\u001b[0;34m]\u001b[0m\u001b[0;34m)\u001b[0m\u001b[0;34m:\u001b[0m\u001b[0;34m\u001b[0m\u001b[0;34m\u001b[0m\u001b[0m\n\u001b[1;32m      4\u001b[0m     \u001b[0;32mfor\u001b[0m \u001b[0mj\u001b[0m \u001b[0;32min\u001b[0m \u001b[0mrange\u001b[0m\u001b[0;34m(\u001b[0m\u001b[0mA_reshape\u001b[0m\u001b[0;34m.\u001b[0m\u001b[0mshape\u001b[0m\u001b[0;34m[\u001b[0m\u001b[0;36m2\u001b[0m\u001b[0;34m]\u001b[0m\u001b[0;34m)\u001b[0m\u001b[0;34m:\u001b[0m\u001b[0;34m\u001b[0m\u001b[0;34m\u001b[0m\u001b[0m\n\u001b[1;32m      5\u001b[0m         \u001b[0mA_masking\u001b[0m\u001b[0;34m=\u001b[0m\u001b[0mnp\u001b[0m\u001b[0;34m.\u001b[0m\u001b[0mzeros\u001b[0m\u001b[0;34m(\u001b[0m\u001b[0;34m(\u001b[0m\u001b[0mA_reshape\u001b[0m\u001b[0;34m[\u001b[0m\u001b[0;34m:\u001b[0m\u001b[0;34m,\u001b[0m\u001b[0;34m:\u001b[0m\u001b[0;34m,\u001b[0m\u001b[0mj\u001b[0m\u001b[0;34m]\u001b[0m\u001b[0;34m.\u001b[0m\u001b[0mshape\u001b[0m\u001b[0;34m)\u001b[0m\u001b[0;34m)\u001b[0m\u001b[0;34m\u001b[0m\u001b[0;34m\u001b[0m\u001b[0m\n",
      "\u001b[0;31mNameError\u001b[0m: name 'np' is not defined"
     ]
    }
   ],
   "source": [
    "# calculate ROI data\n",
    "roi_spatial=np.zeros((A_reshape.shape[2],denoised_spatial_name.shape[2]))\n",
    "for i in range(denoised_spatial_name.shape[2]):\n",
    "    for j in range(A_reshape.shape[2]):\n",
    "        A_masking=np.zeros((A_reshape[:,:,j].shape))\n",
    "        A_masking[A_reshape[:,:,j]!=0]=1\n",
    "        A_multiply=A_masking*denoised_spatial_name[:,:,i]\n",
    "        roi_spatial[j,i]=np.sum(A_multiply)/np.sum(A_masking)\n",
    "        \n",
    "roi_data=[]\n",
    "for s in range(temporal_trial.shape[0]):\n",
    "    roi_each=roi_spatial@temporal_trial[s]\n",
    "    roi_data.append(roi_each)\n",
    "roi_save_trial=np.array(roi_data)\n",
    "roi_save_trial.shape"
   ]
  },
  {
   "cell_type": "code",
   "execution_count": 115,
   "metadata": {},
   "outputs": [],
   "source": [
    "# roi_spatial=np.zeros((A_reshape.shape[2],denoised_spatial_name.shape[2]))\n",
    "# for i in range(denoised_spatial_name.shape[2]):\n",
    "#     for j in range(A_reshape.shape[2]):\n",
    "#         A_masking=np.zeros((A_reshape[:,:,j].shape))\n",
    "#         A_masking[A_reshape[:,:,j]!=0]=1\n",
    "#         A_multiply=A_masking*denoised_spatial_name[:,:,i]\n",
    "#         roi_spatial[j,i]=np.sum(A_multiply)/np.sum(A_masking)\n",
    "        \n",
    "# roi_data=[]\n",
    "# for s in range(temporal_random.shape[0]):\n",
    "#     roi_each=roi_spatial@temporal_random[s]\n",
    "#     roi_data.append(roi_each)\n",
    "# roi_save_random=np.array(roi_data)\n",
    "# roi_save_random.shape"
   ]
  },
  {
   "cell_type": "code",
   "execution_count": 123,
   "metadata": {},
   "outputs": [],
   "source": [
    "# save ROI data\n",
    "# np.save(save_folder+save_name+'trial.npy',roi_save_trial)\n",
    "# np.save(save_folder+save_name+'random.npy',roi_save_random)"
   ]
  },
  {
   "cell_type": "markdown",
   "metadata": {},
   "source": [
    "# Visualization of components"
   ]
  },
  {
   "cell_type": "code",
   "execution_count": 143,
   "metadata": {},
   "outputs": [
    {
     "name": "stdout",
     "output_type": "stream",
     "text": [
      "(16, 1801)\n"
     ]
    },
    {
     "name": "stderr",
     "output_type": "stream",
     "text": [
      "Clipping input data to the valid range for imshow with RGB data ([0..1] for floats or [0..255] for integers).\n"
     ]
    },
    {
     "name": "stdout",
     "output_type": "stream",
     "text": [
      "(1801,)\n",
      "(1801,)\n",
      "(1801,)\n",
      "(1801,)\n",
      "(1801,)\n",
      "(1801,)\n",
      "(1801,)\n",
      "(1801,)\n",
      "(1801,)\n",
      "(1801,)\n",
      "(1801,)\n",
      "(1801,)\n",
      "(1801,)\n",
      "(1801,)\n",
      "(1801,)\n",
      "(1801,)\n"
     ]
    }
   ],
   "source": [
    "# CAT: Use actual averages not random data\n",
    "C_area_rois = c_plot[:int(c_plot.shape[0]/2),:,:].mean(0)\n",
    "print (C_area_rois.shape)\n",
    "t = np.arange(C_area_rois.shape[1])/30.-30\n",
    "\n",
    "\n",
    "fig = plt.figure(figsize=(12,16))\n",
    "############### SHREYA\"S CODE ####################\n",
    "# Spatial and Temporal Components: Summary\n",
    "atlascolor=np.zeros((atlas.shape[0],atlas.shape[1],4))\n",
    "A_color=np.zeros((A_reshape.shape[0],A_reshape.shape[1],4))\n",
    "cmap=plt.cm.get_cmap('jet')\n",
    "colors=cmap(np.arange(len(areainds))/len(areainds))\n",
    "for i,area_i in enumerate(areainds):\n",
    "    if area_i not in areas:\n",
    "        continue\n",
    "    atlascolor[atlas==area_i,:]=colors[i,:]\n",
    "    C_area=C[np.where(areas==area_i)[0],:]\n",
    "    for j in np.arange(colors.shape[1]):\n",
    "        A_color[:,:,j]=A_color[:,:,j]+colors[i,j]*A_reshape[:,:,np.where(areas==area_i)[0][0]]\n",
    "#fig=plt.figure(figsize=(15,8))\n",
    "ax1=fig.add_subplot(2,2,1)\n",
    "ax1.imshow(atlascolor)\n",
    "#ax1.set_title('Atlas Regions')\n",
    "ax1.axis('off')\n",
    "ax2=fig.add_subplot(2,2,3)\n",
    "ax2.imshow(A_color)\n",
    "#ax2.set_title('Spatial Components (One per region)')\n",
    "ax2.axis('off')\n",
    "ax3=fig.add_subplot(1,2,2)\n",
    "axvar=0\n",
    "for i,area_i in enumerate(areainds):\n",
    "    if area_i not in areas:\n",
    "        continue\n",
    "    # C_area=C[np.where(areas==area_i)[0][0],:min(1000,C.shape[1])]\n",
    "    C_area=C_area_rois[np.where(areas==area_i)[0][0]]\n",
    "    #ax3.plot(1.5*axvar+C_area/np.nanmax(np.abs(C_area)),color=colors[i,:])\n",
    "    ax3.plot(t, 1.5*axvar+C_area*23,color=colors[i,:],\n",
    "             linewidth=3)\n",
    "    print (C_area.shape)\n",
    "    axvar+=1\n",
    "\n",
    "ax3.set_xlim(-15,0)\n",
    "#ax3.set_title('Temporal Components (One per region)')\n",
    "ax3.axis('off') \n",
    "\n",
    "if True:\n",
    "    plt.savefig('/home/cat/locanmf.png',dpi=300)\n",
    "    plt.close()\n",
    "else:\n",
    "    plt.show()"
   ]
  },
  {
   "cell_type": "code",
   "execution_count": 72,
   "metadata": {
    "scrolled": true
   },
   "outputs": [],
   "source": [
    "# Plotting all the regions' components\n",
    "for i,area in enumerate(areas):\n",
    "    try:\n",
    "        fig=plt.figure(figsize=(20,4))\n",
    "        ax1 = fig.add_subplot(1,3,1)\n",
    "        plotmap_area = np.zeros((atlas.shape));\n",
    "        plotmap_area.fill(np.nan);\n",
    "        plotmap_area[brainmask] = atlas[brainmask]==area\n",
    "        ax1.imshow(plotmap_area);\n",
    "        ax1.set_title('Atlas '+areanames_area[i])\n",
    "        ax1.axis('off')\n",
    "\n",
    "        ax2 = fig.add_subplot(1,3,2)\n",
    "        ax2.imshow(A_reshape[:,:,i])\n",
    "        ax2.set_title('LocaNMF A [%s]'%(i+1))\n",
    "        ax2.axis('off')\n",
    "\n",
    "        ax3 = fig.add_subplot(1,3,3)\n",
    "        ax3.plot(C[i,:min(1000,C.shape[1])],'k')\n",
    "        if simulation:\n",
    "            ax3.plot(V[np.where(area==trueareas)[0][0],:min(1000,V.shape[1])],'r');\n",
    "            if i==0: ax3.legend(('LocaNMF','True'))\n",
    "        ax3.set_title('LocaNMF C [%s]'%(i+1))\n",
    "        ax3.axis('off')\n",
    "        plt.show()\n",
    "    except:\n",
    "        pass\n"
   ]
  },
  {
   "cell_type": "code",
   "execution_count": 73,
   "metadata": {
    "scrolled": true
   },
   "outputs": [],
   "source": [
    "# Calculate Canonical Correlations between components in each pair of regions\n",
    "corrmat=np.zeros((len(areainds),len(areainds)))\n",
    "skipinds=[]\n",
    "for i,area_i in enumerate(areainds):\n",
    "    for j,area_j in enumerate(areainds):\n",
    "        if i==0 and area_j not in areas:\n",
    "            skipinds.append(j)\n",
    "        C_i=C[np.where(areas==area_i)[0],:].T\n",
    "        C_j=C[np.where(areas==area_j)[0],:].T\n",
    "        if i not in skipinds and j not in skipinds:\n",
    "            cca=CCA(n_components=1)\n",
    "            cca.fit(C_i,C_j)\n",
    "            C_i_cca,C_j_cca=cca.transform(C_i,C_j)\n",
    "            try: C_i_cca=C_i_cca[:,0]\n",
    "            except: pass\n",
    "            try: C_j_cca=C_j_cca[:,0]\n",
    "            except: pass               \n",
    "            corrmat[i,j]=np.corrcoef(C_i_cca,C_j_cca)[0,1]\n",
    "corrmat=np.delete(corrmat,skipinds,axis=0); \n",
    "corrmat=np.delete(corrmat,skipinds,axis=1);\n",
    "corr_areanames=np.delete(areanames_all,skipinds)"
   ]
  },
  {
   "cell_type": "code",
   "execution_count": 75,
   "metadata": {},
   "outputs": [],
   "source": [
    "# Plot correlations\n",
    "fig=plt.figure()\n",
    "plt.imshow(corrmat,cmap=plt.cm.get_cmap('jet')); plt.clim(-1,1); plt.colorbar(shrink=0.8)\n",
    "plt.get_cmap('jet')\n",
    "plt.xticks(ticks=np.arange(len(areainds)-len(skipinds)),labels=corr_areanames,rotation=90); \n",
    "plt.yticks(ticks=np.arange(len(areainds)-len(skipinds)),labels=corr_areanames); \n",
    "plt.title('CCA between all regions',fontsize=12)\n",
    "plt.xlabel('Region i',fontsize=12)\n",
    "plt.ylabel('Region j',fontsize=12)\n",
    "plt.show()"
   ]
  },
  {
   "cell_type": "code",
   "execution_count": 68,
   "metadata": {},
   "outputs": [],
   "source": [
    "# Save visualized components and correlations\n",
    "# print('Saving postprocessing results!')\n",
    "# postprocess.plot_components(A_reshape,C,areas,atlas,areanames,data_folder)\n",
    "# postprocess.plot_correlations(A_reshape,C,areas,atlas,areanames,data_folder)"
   ]
  },
  {
   "cell_type": "code",
   "execution_count": null,
   "metadata": {},
   "outputs": [],
   "source": []
  }
 ],
 "metadata": {
  "kernelspec": {
   "display_name": "Python 3",
   "language": "python",
   "name": "python3"
  },
  "language_info": {
   "codemirror_mode": {
    "name": "ipython",
    "version": 3
   },
   "file_extension": ".py",
   "mimetype": "text/x-python",
   "name": "python",
   "nbconvert_exporter": "python",
   "pygments_lexer": "ipython3",
   "version": "3.8.0"
  }
 },
 "nbformat": 4,
 "nbformat_minor": 4
}
