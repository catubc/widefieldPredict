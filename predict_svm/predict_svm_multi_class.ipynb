{
 "cells": [
  {
   "cell_type": "code",
   "execution_count": 2,
   "metadata": {},
   "outputs": [
    {
     "name": "stdout",
     "output_type": "stream",
     "text": [
      "The autoreload extension is already loaded. To reload it, use:\n",
      "  %reload_ext autoreload\n"
     ]
    },
    {
     "data": {
      "application/javascript": [
       "IPython.notebook.set_autosave_interval(180000)"
      ]
     },
     "metadata": {},
     "output_type": "display_data"
    },
    {
     "name": "stdout",
     "output_type": "stream",
     "text": [
      "Autosaving every 180 seconds\n"
     ]
    },
    {
     "data": {
      "text/html": [
       "<style>.container { width:100% !important; }</style>"
      ],
      "text/plain": [
       "<IPython.core.display.HTML object>"
      ]
     },
     "metadata": {},
     "output_type": "display_data"
    }
   ],
   "source": [
    "import matplotlib\n",
    "#matplotlib.use('Agg')\n",
    "\n",
    "%load_ext autoreload\n",
    "%autoreload 2\n",
    "\n",
    "%matplotlib tk\n",
    "%autosave 180\n",
    "import matplotlib.pyplot as plt\n",
    "from IPython.core.display import display, HTML\n",
    "display(HTML(\"<style>.container { width:100% !important; }</style>\"))\n",
    "\n",
    "import numpy as np\n",
    "import os\n",
    "\n",
    "#  SVM module\n",
    "from PredictSVM import PredictMultiState\n",
    "from PredictSVM import get_sessions, load_trial_times_whole_stack\n",
    "\n",
    "from PredictSVM import PredictSVMTime\n",
    "\n",
    "# \n",
    "data_dir = '/media/cat/4TBSSD/yuki/'\n",
    "#data_dir = '/mnt/f418adc0-4ff9-410c-93c9-d6d21a1e9c35/yuki/'\n",
    "#data_dir = '/media/cat/1TB/yuki/testdata/'\n",
    "\n",
    "labels = ['left_paw', \n",
    "            'right_paw',\n",
    "            'nose',\n",
    "            'jaw',\n",
    "            'right_ear',\n",
    "            'tongue',\n",
    "            'lever',\n",
    "            'all',\n",
    "            'code_04',\n",
    "            'code_04_lockout']"
   ]
  },
  {
   "cell_type": "code",
   "execution_count": 4,
   "metadata": {},
   "outputs": [
    {
     "name": "stdout",
     "output_type": "stream",
     "text": [
      "['IJ2pm_Feb1_30Hz']\n",
      "  running:  IJ2pm_Feb1_30Hz\n",
      "Lever to [Ca] shift:  2.533333333333333\n",
      "DLC to [Ca] shift:  -9.600000000000001\n",
      "Trials stack (make sure same across D1):  (2, 38, 900, 30)\n",
      "0  size:  (38, 900, 30)\n",
      "1  size:  (38, 900, 30)\n"
     ]
    },
    {
     "name": "stderr",
     "output_type": "stream",
     "text": [
      "904it [01:53,  7.94it/s]                         \n"
     ]
    }
   ],
   "source": [
    "######################################################\n",
    "##### PREDICT SVM DECISION CHOICE SINGLE SESSION #####\n",
    "######################################################\n",
    "\n",
    "# select animal names\n",
    "names = ['IA1','IA2','IA3','IJ1','IJ2','AQ2'] # \"AR4\" and other datasets could work\n",
    "names = ['IJ2']\n",
    "\n",
    "# \n",
    "svm = PredictMultiState()\n",
    "svm.root_dir = data_dir\n",
    "svm.parallel = True\n",
    "svm.n_cores = 30\n",
    "\n",
    "# \n",
    "svm.no_movement = 3            # number of sec intra-feature lockout\n",
    "svm.window = 15                # number of seconds pre movement to compute classification\n",
    "svm.sliding_window = 30         # number of time steps that go into classifier\n",
    "svm.sliding_window_step = 1    # number of frames to step the sliding window across\n",
    "svm.code = 'multi_class'\n",
    "svm.xvalidation = 10\n",
    "svm.all_comps = 30\n",
    "\n",
    "#\n",
    "svm.animal_id = names[0]\n",
    "svm.session_id = 'Feb1_'\n",
    "\n",
    "\n",
    "#\n",
    "svm.classifier = 'svm'               # 'svm',  'random_forest'\n",
    "svm.features_selected = [0,5]        # ['left_paw',          0\n",
    "                                     #  'right_paw',         1\n",
    "                                     #  'nose',              2\n",
    "                                     #  'jaw',               3 \n",
    "                                     #  'right_ear',         4 \n",
    "                                     #  'tongue',            5\n",
    "                                     #  'lever',             6\n",
    "                                     \n",
    "                                     #'all',                 7   NOT CODED\n",
    "                                     #'code_04',             8\n",
    "                                     #'code_04_lockout']     9\n",
    "\n",
    "#                                        \n",
    "svm.inter_feature_lockout_window = 0\n",
    "                                        \n",
    "\n",
    "# can add this to aut\n",
    "svm.get_sessions()\n",
    "#\n",
    "print (svm.sessions)\n",
    "\n",
    "#\n",
    "svm.load_trials()\n",
    "\n",
    "# convert data to train and test datasets;\n",
    "svm.prepare_and_run_classifier()\n",
    "\n",
    "# print (svm.acc)\n",
    "\n",
    "# \n",
    "fig=plt.figure()\n",
    "acc = np.array(svm.acc)\n",
    "mean = acc.mean(1)\n",
    "std = np.std(acc,1)\n",
    "t = np.arange(mean.shape[0])/30.-14\n",
    "plt.fill_between(t,mean+std, mean-std, alpha=.2)\n",
    "plt.plot(t,mean)\n",
    "\n",
    "# \n",
    "plt.ylim(bottom=0)\n",
    "#plt.xlim(-5,5)\n",
    "plt.plot([t[0],t[-1]],[1./len(svm.features_selected),1./len(svm.features_selected)],'--',c='black')\n",
    "plt.title(labels[svm.features_selected[0]]+ \" \"+labels[svm.features_selected[1]])\n",
    "plt.show()\n"
   ]
  },
  {
   "cell_type": "code",
   "execution_count": null,
   "metadata": {},
   "outputs": [],
   "source": []
  },
  {
   "cell_type": "code",
   "execution_count": null,
   "metadata": {},
   "outputs": [],
   "source": []
  },
  {
   "cell_type": "code",
   "execution_count": null,
   "metadata": {},
   "outputs": [],
   "source": []
  },
  {
   "cell_type": "code",
   "execution_count": 33,
   "metadata": {},
   "outputs": [],
   "source": [
    "##########################################################\n",
    "########## MOST SIGNIFICANT COEFFICIENT ANALYSIS #########\n",
    "##########################################################\n",
    "\n",
    "# print (len(svm.coef))\n",
    "# print (np.array(svm.coef[1]).shape)\n",
    "# ctr=1\n",
    "# arr = []\n",
    "# for k in range(0,len(svm.coef)-30,1):\n",
    "# #     ax=plt.subplot(5,6,ctr)\n",
    "#     temp = np.array(svm.coef[k]).squeeze().mean(0).reshape(30,30).T\n",
    "#     arr.append(temp)\n",
    "\n",
    "# # most significant analyais\n",
    "# arr = np.array(arr)\n",
    "# t = np.arange(arr.shape[0])/30-14\n",
    "# for k in range(arr.shape[1]):\n",
    "#     for p in range(arr.shape[2]):\n",
    "#         plt.plot(t,arr[:,k,p],alpha=.7)\n",
    "# plt.show()"
   ]
  },
  {
   "cell_type": "code",
   "execution_count": 5,
   "metadata": {},
   "outputs": [
    {
     "name": "stdout",
     "output_type": "stream",
     "text": [
      " shift:  -9.733333333333334\n",
      " shift:  -9.600000000000001\n",
      " shift:  0.5999999999999623\n",
      " shift:  -9.866666666666667\n",
      " shift:  3.5999999999999517\n",
      " shift:  -9.933333333333334\n",
      " shift:  3.799999999999951\n"
     ]
    }
   ],
   "source": [
    "# ###############################################\n",
    "# ############ LEVER TO BODY CORRELATION ########\n",
    "# ###############################################\n",
    "# import pycorrelate\n",
    "# t = svm.code_04_times_unshifted[:,1]\n",
    "\n",
    "# fig=plt.figure()\n",
    "# bins = np.arange(-10,10,1/15)\n",
    "# for k in range(7):\n",
    "#     ax=plt.subplot(3,3,k+1)\n",
    "#     u =  np.array(svm.features_unshifted[k])[:,1]\n",
    "#     res = pycorrelate.pcorrelate(t, u, bins=bins)\n",
    "\n",
    "#     plt.plot(bins[:-1],res)\n",
    "#     argmax = np.argmax(res)\n",
    "#     print (\" shift: \", bins[argmax])\n",
    "#     plt.title(labels[k]+ \" \"+str(round(bins[argmax],2))+\"sec\")\n",
    "# plt.suptitle(\"Correlation between body and lever \")\n",
    "# plt.show()\n"
   ]
  },
  {
   "cell_type": "code",
   "execution_count": 6,
   "metadata": {},
   "outputs": [
    {
     "ename": "NameError",
     "evalue": "name 'code_04' is not defined",
     "output_type": "error",
     "traceback": [
      "\u001b[0;31m---------------------------------------------------------------------------\u001b[0m",
      "\u001b[0;31mNameError\u001b[0m                                 Traceback (most recent call last)",
      "\u001b[0;32m<ipython-input-6-8d84527962b6>\u001b[0m in \u001b[0;36m<module>\u001b[0;34m\u001b[0m\n\u001b[1;32m     11\u001b[0m         \u001b[0mt\u001b[0m \u001b[0;34m=\u001b[0m \u001b[0mnp\u001b[0m\u001b[0;34m.\u001b[0m\u001b[0marray\u001b[0m\u001b[0;34m(\u001b[0m\u001b[0msvm\u001b[0m\u001b[0;34m.\u001b[0m\u001b[0mfeatures_unshifted\u001b[0m\u001b[0;34m[\u001b[0m\u001b[0mk\u001b[0m\u001b[0;34m]\u001b[0m\u001b[0;34m)\u001b[0m\u001b[0;34m[\u001b[0m\u001b[0;34m:\u001b[0m\u001b[0;34m,\u001b[0m\u001b[0;36m1\u001b[0m\u001b[0;34m]\u001b[0m\u001b[0;34m\u001b[0m\u001b[0;34m\u001b[0m\u001b[0m\n\u001b[1;32m     12\u001b[0m         \u001b[0;32mif\u001b[0m \u001b[0mp\u001b[0m\u001b[0;34m==\u001b[0m\u001b[0;36m7\u001b[0m\u001b[0;34m:\u001b[0m\u001b[0;34m\u001b[0m\u001b[0;34m\u001b[0m\u001b[0m\n\u001b[0;32m---> 13\u001b[0;31m             \u001b[0mu\u001b[0m \u001b[0;34m=\u001b[0m  \u001b[0mcode_04\u001b[0m\u001b[0;34m[\u001b[0m\u001b[0;34m:\u001b[0m\u001b[0;34m,\u001b[0m\u001b[0;36m1\u001b[0m\u001b[0;34m]\u001b[0m\u001b[0;34m\u001b[0m\u001b[0;34m\u001b[0m\u001b[0m\n\u001b[0m\u001b[1;32m     14\u001b[0m         \u001b[0;32melse\u001b[0m\u001b[0;34m:\u001b[0m\u001b[0;34m\u001b[0m\u001b[0;34m\u001b[0m\u001b[0m\n\u001b[1;32m     15\u001b[0m             \u001b[0mu\u001b[0m \u001b[0;34m=\u001b[0m  \u001b[0mnp\u001b[0m\u001b[0;34m.\u001b[0m\u001b[0marray\u001b[0m\u001b[0;34m(\u001b[0m\u001b[0msvm\u001b[0m\u001b[0;34m.\u001b[0m\u001b[0mfeatures_unshifted\u001b[0m\u001b[0;34m[\u001b[0m\u001b[0mp\u001b[0m\u001b[0;34m]\u001b[0m\u001b[0;34m)\u001b[0m\u001b[0;34m[\u001b[0m\u001b[0;34m:\u001b[0m\u001b[0;34m,\u001b[0m\u001b[0;36m1\u001b[0m\u001b[0;34m]\u001b[0m\u001b[0;34m\u001b[0m\u001b[0;34m\u001b[0m\u001b[0m\n",
      "\u001b[0;31mNameError\u001b[0m: name 'code_04' is not defined"
     ]
    }
   ],
   "source": [
    "##############################################\n",
    "############ BODY TO BODY CORRELATION ########\n",
    "##############################################\n",
    "fig=plt.figure()\n",
    "bins = np.arange(-10,10,.1)\n",
    "ctr=1\n",
    "bins = np.arange(-10,10,1/15.)\n",
    "for k in range(7):\n",
    "    for p in range(8):\n",
    "        ax=plt.subplot(7,8,ctr)\n",
    "        t = np.array(svm.features_unshifted[k])[:,1]\n",
    "        if p==7:\n",
    "            u =  code_04[:,1]  \n",
    "        else:\n",
    "            u =  np.array(svm.features_unshifted[p])[:,1]\n",
    "        res = pycorrelate.pcorrelate(t, u, bins=bins)\n",
    "\n",
    "        plt.plot(bins[:-1],res)\n",
    "        argmax = np.argmax(res)\n",
    "\n",
    "        if k==0:\n",
    "            plt.title(labels[p]+ \" \" + str(round(bins[argmax],2))+\"sec\",fontsize=10,pad=.9)\n",
    "        else:\n",
    "            plt.title(str(round(bins[argmax],2))+\"sec\",fontsize=10,pad=.9)\n",
    "            \n",
    "            \n",
    "        if p==0:\n",
    "            plt.ylabel(labels[k],fontsize=10)\n",
    "        if k!=6:\n",
    "            plt.xticks([])\n",
    "        plt.yticks([])\n",
    "        \n",
    "        std = np.std(res)\n",
    "        plt.plot([bins[0],bins[-1]],[std,std],'--',c='black')\n",
    "        \n",
    "        ctr+=1\n",
    "        \n",
    "plt.suptitle(\"Correlation between body and lever \")\n",
    "plt.show()\n"
   ]
  },
  {
   "cell_type": "code",
   "execution_count": 8,
   "metadata": {
    "scrolled": true
   },
   "outputs": [
    {
     "name": "stdout",
     "output_type": "stream",
     "text": [
      "IA1pm_Feb1_30Hz\n",
      "Lever to [Ca] shift:  2.566666666666667\n",
      "DLC to [Ca] shift:  -4.733333333333352\n",
      "IA1pm_Feb2_30Hz\n",
      "Lever to [Ca] shift:  2.5\n",
      "DLC to [Ca] shift:  -9.8\n",
      "IA1pm_Feb3_30Hz\n",
      "Lever to [Ca] shift:  2.033333333333333\n",
      "DLC to [Ca] shift:  4.1999999999999496\n",
      "IA1pm_Feb4_30Hz\n",
      "Lever to [Ca] shift:  2.4\n",
      "DLC to [Ca] shift:  -10.0\n",
      "IA1pm_Feb5_30Hz\n",
      "Lever to [Ca] shift:  2.2666666666666666\n",
      "DLC to [Ca] shift:  -9.533333333333335\n",
      "IA1pm_Feb9_30Hz\n",
      "Lever to [Ca] shift:  2.3333333333333335\n",
      "DLC to [Ca] shift:  2.7999999999999545\n",
      "IA1pm_Feb10_30Hz\n",
      "Lever to [Ca] shift:  2.7333333333333334\n",
      "DLC to [Ca] shift:  -4.466666666666686\n",
      "IA1pm_Feb11_30Hz\n",
      "Lever to [Ca] shift:  2.533333333333333\n",
      "DLC to [Ca] shift:  4.733333333333281\n",
      "IA1pm_Feb12_30Hz\n",
      "Lever to [Ca] shift:  2.466666666666667\n",
      "DLC to [Ca] shift:  -0.46666666666670054\n",
      "IA1pm_Feb15_30Hz\n",
      "Lever to [Ca] shift:  2.6666666666666665\n",
      "DLC to [Ca] shift:  4.266666666666616\n",
      "IA1pm_Feb16_30Hz\n",
      "Lever to [Ca] shift:  2.5\n",
      "DLC to [Ca] shift:  4.599999999999948\n",
      "IA1pm_Feb17_30Hz\n",
      "Lever to [Ca] shift:  2.8333333333333335\n",
      "DLC to [Ca] shift:  4.799999999999947\n",
      "IA1pm_Feb18_30Hz\n",
      "IA1pm_Feb19_30Hz\n",
      "IA1pm_Feb22_30Hz\n",
      "IA1pm_Feb23_30Hz\n",
      "IA1pm_Feb24_30Hz\n",
      "IA1pm_Feb25_30Hz\n",
      "IA1pm_Feb26_30Hz\n",
      "IA1pm_Feb29_30Hz\n",
      "IA1pm_Mar1_30Hz\n",
      "IA1pm_Mar2_30Hz\n",
      "IA1pm_Mar3_30Hz\n",
      "IA1am_Mar4_30Hz\n",
      "IA1am_Mar7_30Hz\n",
      "IA1pm_Mar8_30Hz\n",
      "IA1am_Mar9_30Hz\n",
      "IA1am_Mar10_30Hz\n",
      "IA1am_Mar11_30Hz\n",
      "IA1pm_Mar14_30Hz\n",
      "IA1am_Mar15_30Hz\n",
      "IA1pm_Mar16_30Hz\n",
      "IA1pm_Mar17_30Hz\n",
      "IA1pm_Mar18_30Hz\n",
      "IA1pm_Mar21_30Hz\n",
      "IA1pm_Mar22_30Hz\n",
      "IA1pm_Mar23_30Hz\n",
      "IA1pm_Mar24_30Hz\n",
      "IA1pm_Mar29_30Hz\n",
      "IA1pm_Mar30_30Hz\n",
      "IA1pm_Mar31_30Hz\n",
      "IA1pm_Apr1_30Hz\n",
      "IA1pm_Apr4_30Hz\n",
      "IA1pm_Apr5_30Hz\n",
      "IA1pm_Apr6_30Hz\n",
      "IA1pm_Apr7_30Hz\n",
      "IA1pm_Apr11_Day3_30Hz\n",
      "IA1pm_Apr13_Day5_30Hz\n",
      "IA1pm_Apr15_Day7_30Hz\n",
      "IA1pm_Apr18_Week2_30Hz\n",
      "IA1pm_Apr19_Week2_30Hz\n",
      "IA1pm_Apr20_Week2_30Hz\n",
      "IA1pm_Apr21_Week2_30Hz\n",
      "Lever to [Ca] shift:  2.2666666666666666\n",
      "DLC to [Ca] shift:  3.933333333333284\n",
      "IA1pm_Apr22_Week2_30Hz\n",
      "Lever to [Ca] shift:  2.033333333333333\n",
      "DLC to [Ca] shift:  -10.0\n",
      "IA1pm_Apr25_Week3_30Hz\n",
      "Lever to [Ca] shift:  2.2333333333333334\n",
      "DLC to [Ca] shift:  4.1999999999999496\n",
      "IA1pm_Apr26_Week3_30Hz\n",
      "Lever to [Ca] shift:  1.9333333333333333\n",
      "DLC to [Ca] shift:  -8.466666666666672\n",
      "IA1pm_Apr27_Week3_30Hz\n",
      "Lever to [Ca] shift:  2.7\n",
      "DLC to [Ca] shift:  8.199999999999935\n",
      "IA1pm_Apr28_Week3_30Hz\n",
      "Lever to [Ca] shift:  2.033333333333333\n",
      "DLC to [Ca] shift:  -7.866666666666674\n",
      "IA1pm_Apr29_Week3_30Hz\n",
      "Lever to [Ca] shift:  2.7\n",
      "DLC to [Ca] shift:  -8.466666666666672\n",
      "IA1am_May2_Week4_30Hz\n",
      "Lever to [Ca] shift:  2.2\n",
      "DLC to [Ca] shift:  -10.0\n",
      "IA1am_May4_Week4_30Hz\n",
      "IA1am_May5_Week4_30Hz\n",
      "Lever to [Ca] shift:  3.1333333333333333\n",
      "DLC to [Ca] shift:  -8.466666666666672\n",
      "IA1am_May6_Week4_30Hz\n",
      "Lever to [Ca] shift:  2.066666666666667\n",
      "DLC to [Ca] shift:  4.066666666666617\n",
      "IA1am_May9_Week5_30Hz\n",
      "Lever to [Ca] shift:  2.2\n",
      "DLC to [Ca] shift:  4.93333333333328\n",
      "IA1am_May10_Week5_30Hz\n",
      "Lever to [Ca] shift:  2.3\n",
      "DLC to [Ca] shift:  3.9999999999999503\n",
      "IA1am_May12_Week5_30Hz\n",
      "Lever to [Ca] shift:  2.066666666666667\n",
      "DLC to [Ca] shift:  -2.6000000000000263\n",
      "IA1am_May13_Week5_30Hz\n",
      "Lever to [Ca] shift:  2.4\n",
      "DLC to [Ca] shift:  -5.400000000000016\n",
      "IA1am_May16_Week6_30Hz\n",
      "Lever to [Ca] shift:  2.533333333333333\n",
      "DLC to [Ca] shift:  2.3333333333332895\n",
      "IA1am_May17_Week6_30Hz\n",
      "Lever to [Ca] shift:  2.0\n",
      "DLC to [Ca] shift:  3.666666666666618\n",
      "IA1am_May18_Week6_30Hz\n",
      "Lever to [Ca] shift:  2.3666666666666667\n",
      "DLC to [Ca] shift:  -1.2666666666666977\n",
      "IA1am_May20_Week6_30Hz\n",
      "Lever to [Ca] shift:  2.2\n",
      "DLC to [Ca] shift:  -10.0\n",
      "IA2pm_Feb1_30Hz\n",
      "Lever to [Ca] shift:  2.3\n",
      "DLC to [Ca] shift:  -10.0\n",
      "IA2pm_Feb2_30Hz\n",
      "Lever to [Ca] shift:  2.8333333333333335\n",
      "DLC to [Ca] shift:  -5.066666666666684\n",
      "IA2pm_Feb3_30Hz\n",
      "Lever to [Ca] shift:  2.3666666666666667\n",
      "DLC to [Ca] shift:  4.399999999999949\n",
      "IA2pm_Feb4_30Hz\n",
      "Lever to [Ca] shift:  2.2666666666666666\n",
      "DLC to [Ca] shift:  3.7333333333332845\n",
      "IA2pm_Feb5_30Hz\n",
      "Lever to [Ca] shift:  2.466666666666667\n",
      "DLC to [Ca] shift:  3.933333333333284\n",
      "IA2pm_Feb9_30Hz\n",
      "Lever to [Ca] shift:  2.2333333333333334\n",
      "DLC to [Ca] shift:  -8.86666666666667\n",
      "IA2pm_Feb10_30Hz\n",
      "Lever to [Ca] shift:  2.4\n",
      "DLC to [Ca] shift:  -5.466666666666683\n",
      "IA2pm_Feb11_30Hz\n",
      "Lever to [Ca] shift:  2.8333333333333335\n",
      "DLC to [Ca] shift:  -7.866666666666674\n",
      "IA2pm_Feb12_30Hz\n",
      "Lever to [Ca] shift:  2.033333333333333\n",
      "DLC to [Ca] shift:  0.3333333333332966\n",
      "IA2pm_Feb15_30Hz\n",
      "Lever to [Ca] shift:  2.9\n",
      "DLC to [Ca] shift:  -10.0\n",
      "IA2pm_Feb16_30Hz\n",
      "Lever to [Ca] shift:  2.7333333333333334\n",
      "DLC to [Ca] shift:  4.066666666666617\n",
      "IA2pm_Feb17_30Hz\n",
      "Lever to [Ca] shift:  2.7\n",
      "DLC to [Ca] shift:  -4.3333333333333535\n",
      "IA2pm_Feb18_30Hz\n",
      "IA2pm_Feb19_30Hz\n",
      "IA2pm_Feb22_30Hz\n",
      "IA2pm_Feb23_30Hz\n",
      "IA2pm_Feb24_30Hz\n",
      "IA2pm_Feb25_30Hz\n",
      "IA2pm_Feb26_30Hz\n",
      "IA2pm_Feb29_30Hz\n",
      "IA2pm_Mar1_30Hz\n",
      "IA2pm_Mar2_30Hz\n",
      "IA2pm_Mar3_30Hz\n",
      "IA2am_Mar4_30Hz\n",
      "IA2am_Mar7_30Hz\n",
      "IA2pm_Mar8_30Hz\n",
      "IA2am_Mar9_30Hz\n",
      "IA2am_Mar10_30Hz\n",
      "IA2am_Mar11_30Hz\n",
      "IA2pm_Mar14_30Hz\n",
      "IA2am_Mar15_30Hz\n",
      "IA2pm_Mar16_30Hz\n",
      "IA2pm_Mar17_30Hz\n",
      "IA2pm_Mar18_30Hz\n",
      "IA2pm_Mar21_30Hz\n",
      "IA2pm_Mar23_30Hz\n",
      "IA2pm_Mar24_30Hz\n",
      "IA2pm_Mar29_30Hz\n",
      "IA2pm_Mar30_30Hz\n",
      "IA2pm_Mar31_30Hz\n",
      "IA2pm_Apr1_30Hz\n",
      "IA2pm_Apr4_30Hz\n",
      "IA2pm_Apr5_30Hz\n",
      "IA2pm_Apr6_30Hz\n",
      "IA3pm_Feb1_30Hz\n",
      "Lever to [Ca] shift:  2.466666666666667\n",
      "DLC to [Ca] shift:  4.466666666666615\n",
      "IA3pm_Feb2_30Hz\n",
      "Lever to [Ca] shift:  2.3666666666666667\n",
      "DLC to [Ca] shift:  4.733333333333281\n",
      "IA3pm_Feb3_30Hz\n",
      "Lever to [Ca] shift:  2.433333333333333\n",
      "DLC to [Ca] shift:  4.533333333333282\n",
      "IA3pm_Feb4_30Hz\n",
      "Lever to [Ca] shift:  2.2333333333333334\n",
      "DLC to [Ca] shift:  3.5999999999999517\n",
      "IA3pm_Feb9_30Hz\n",
      "Lever to [Ca] shift:  3.0\n",
      "DLC to [Ca] shift:  4.599999999999948\n",
      "IA3pm_Feb10_30Hz\n",
      "Lever to [Ca] shift:  2.3\n",
      "DLC to [Ca] shift:  -8.400000000000006\n",
      "IA3pm_Feb11_30Hz\n",
      "Lever to [Ca] shift:  2.6333333333333333\n",
      "DLC to [Ca] shift:  -6.26666666666668\n",
      "IA3pm_Feb12_30Hz\n",
      "Lever to [Ca] shift:  1.9\n",
      "DLC to [Ca] shift:  3.5333333333332853\n",
      "IA3pm_Feb15_30Hz\n",
      "Lever to [Ca] shift:  2.466666666666667\n",
      "DLC to [Ca] shift:  4.599999999999948\n",
      "IA3pm_Feb16_30Hz\n",
      "Lever to [Ca] shift:  2.4\n",
      "DLC to [Ca] shift:  4.1999999999999496\n",
      "IA3pm_Feb17_30Hz\n",
      "Lever to [Ca] shift:  1.8\n",
      "DLC to [Ca] shift:  3.3999999999999524\n",
      "IA3pm_Feb18_30Hz\n",
      "IA3pm_Feb19_30Hz\n",
      "IA3pm_Feb22_30Hz\n",
      "IA3pm_Feb23_30Hz\n",
      "IA3pm_Feb24_30Hz\n",
      "IA3pm_Feb25_30Hz\n",
      "IA3pm_Feb26_30Hz\n",
      "IA3pm_Feb29_30Hz\n",
      "IA3pm_Mar1_30Hz\n",
      "IA3pm_Mar2_30Hz\n",
      "IA3pm_Mar3_30Hz\n",
      "IA3am_Mar7_30Hz\n",
      "IA3pm_Mar8_30Hz\n",
      "IA3am_Mar9_30Hz\n",
      "IA3am_Mar10_30Hz\n",
      "IA3am_Mar11_30Hz\n",
      "IA3pm_Mar14_30Hz\n",
      "IA3am_Mar15_30Hz\n",
      "IA3pm_Mar16_30Hz\n",
      "IA3pm_Mar17_30Hz\n",
      "IA3pm_Mar18_30Hz\n",
      "IA3pm_Mar21_30Hz\n",
      "IA3pm_Mar22_30Hz\n",
      "IA3pm_Mar23_30Hz\n",
      "IA3pm_Mar24_30Hz\n",
      "IA3pm_Mar29_30Hz\n",
      "IA3pm_Mar30_30Hz\n",
      "IA3pm_Mar31_30Hz\n",
      "IA3pm_Apr1_30Hz\n",
      "IA3pm_Apr4_30Hz\n",
      "IA3pm_Apr5_30Hz\n",
      "IA3pm_Apr6_30Hz\n",
      "IA3pm_Apr7_30Hz\n",
      "IJ1pm_Feb1_30Hz\n",
      "Lever to [Ca] shift:  2.8666666666666667\n",
      "DLC to [Ca] shift:  5.599999999999945\n",
      "IJ1pm_Feb2_30Hz\n",
      "Lever to [Ca] shift:  2.3666666666666667\n",
      "DLC to [Ca] shift:  4.333333333333282\n",
      "IJ1pm_Feb3_30Hz\n",
      "Lever to [Ca] shift:  2.7\n",
      "DLC to [Ca] shift:  3.199999999999953\n",
      "IJ1pm_Feb4_30Hz\n",
      "Lever to [Ca] shift:  2.1\n",
      "DLC to [Ca] shift:  4.1999999999999496\n",
      "IJ1pm_Feb5_30Hz\n",
      "Lever to [Ca] shift:  2.1333333333333333\n",
      "DLC to [Ca] shift:  4.066666666666617\n",
      "IJ1pm_Feb9_30Hz\n",
      "Lever to [Ca] shift:  2.6333333333333333\n",
      "DLC to [Ca] shift:  -8.400000000000006\n",
      "IJ1pm_Feb10_30Hz\n",
      "Lever to [Ca] shift:  2.1333333333333333\n",
      "DLC to [Ca] shift:  3.799999999999951\n",
      "IJ1pm_Feb11_30Hz\n",
      "Lever to [Ca] shift:  2.4\n",
      "DLC to [Ca] shift:  3.9999999999999503\n",
      "IJ1pm_Feb12_30Hz\n",
      "Lever to [Ca] shift:  3.1\n",
      "DLC to [Ca] shift:  4.599999999999948\n",
      "IJ1pm_Feb16_30Hz\n",
      "Lever to [Ca] shift:  2.533333333333333\n",
      "DLC to [Ca] shift:  4.466666666666615\n",
      "IJ1pm_Feb17_30Hz\n",
      "IJ1pm_Feb18_30Hz\n",
      "IJ1pm_Feb19_30Hz\n",
      "IJ1pm_Feb22_30Hz\n",
      "IJ1pm_Feb23_30Hz\n",
      "IJ1pm_Feb24_30Hz\n",
      "IJ1pm_Feb25_30Hz\n",
      "IJ1pm_Feb26_30Hz\n",
      "IJ1pm_Feb29_30Hz\n",
      "IJ1pm_Mar1_30Hz\n",
      "IJ1pm_Mar2_30Hz\n",
      "IJ1pm_Mar3_30Hz\n",
      "IJ1am_Mar7_30Hz\n",
      "IJ1pm_Mar8_30Hz\n",
      "IJ1am_Mar9_30Hz\n",
      "IJ1am_Mar10_30Hz\n",
      "IJ1am_Mar11_30Hz\n",
      "IJ1pm_Mar14_30Hz\n",
      "IJ1am_Mar15_30Hz\n",
      "IJ1pm_Mar16_30Hz\n",
      "IJ1pm_Mar17_30Hz\n",
      "IJ1pm_Mar18_30Hz\n",
      "IJ1pm_Mar21_30Hz\n",
      "IJ1pm_Mar22_30Hz\n",
      "IJ1pm_Mar23_30Hz\n",
      "IJ1pm_Mar24_30Hz\n",
      "IJ1pm_Mar29_30Hz\n",
      "IJ1pm_Mar30_30Hz\n",
      "IJ1pm_Mar31_30Hz\n",
      "IJ1pm_Apr1_30Hz\n",
      "IJ1pm_Apr4_30Hz\n",
      "IJ1pm_Apr5_30Hz\n",
      "IJ1pm_Apr6_30Hz\n",
      "IJ1pm_Apr7_30Hz\n",
      "IJ2pm_Feb1_30Hz\n",
      "Lever to [Ca] shift:  2.533333333333333\n",
      "DLC to [Ca] shift:  -9.600000000000001\n",
      "IJ2pm_Feb2_30Hz\n",
      "Lever to [Ca] shift:  2.3\n",
      "DLC to [Ca] shift:  4.266666666666616\n",
      "IJ2pm_Feb3_30Hz\n",
      "Lever to [Ca] shift:  2.2333333333333334\n",
      "DLC to [Ca] shift:  4.1999999999999496\n"
     ]
    },
    {
     "name": "stdout",
     "output_type": "stream",
     "text": [
      "IJ2pm_Feb4_30Hz\n",
      "Lever to [Ca] shift:  2.3\n",
      "DLC to [Ca] shift:  3.9999999999999503\n",
      "IJ2pm_Feb5_30Hz\n",
      "Lever to [Ca] shift:  2.6666666666666665\n",
      "DLC to [Ca] shift:  4.399999999999949\n",
      "IJ2pm_Feb9_30Hz\n",
      "Lever to [Ca] shift:  2.2333333333333334\n",
      "DLC to [Ca] shift:  4.066666666666617\n",
      "IJ2pm_Feb10_30Hz\n",
      "Lever to [Ca] shift:  2.1666666666666665\n",
      "DLC to [Ca] shift:  3.666666666666618\n",
      "IJ2pm_Feb11_30Hz\n",
      "Lever to [Ca] shift:  2.6666666666666665\n",
      "DLC to [Ca] shift:  4.599999999999948\n",
      "IJ2pm_Feb12_30Hz\n",
      "Lever to [Ca] shift:  2.433333333333333\n",
      "DLC to [Ca] shift:  4.599999999999948\n",
      "IJ2pm_Feb15_30Hz\n",
      "Lever to [Ca] shift:  2.533333333333333\n",
      "DLC to [Ca] shift:  4.266666666666616\n",
      "IJ2pm_Feb16_30Hz\n",
      "Lever to [Ca] shift:  3.2\n",
      "DLC to [Ca] shift:  5.333333333333279\n",
      "IJ2pm_Feb17_30Hz\n",
      "IJ2pm_Feb18_30Hz\n",
      "IJ2pm_Feb22_30Hz\n",
      "IJ2pm_Feb23_30Hz\n",
      "IJ2pm_Feb24_30Hz\n",
      "IJ2pm_Feb25_30Hz\n",
      "IJ2pm_Feb26_30Hz\n",
      "IJ2pm_Feb29_30Hz\n",
      "IJ2pm_Mar1_30Hz\n",
      "IJ2pm_Mar2_30Hz\n",
      "IJ2pm_Mar3_30Hz\n",
      "IJ2am_Mar7_30Hz\n",
      "IJ2pm_Mar8_30Hz\n",
      "IJ2am_Mar9_30Hz\n",
      "IJ2am_Mar10_30Hz\n",
      "IJ2am_Mar11_30Hz\n",
      "IJ2pm_Mar14_30Hz\n",
      "IJ2am_Mar15_30Hz\n",
      "IJ2pm_Mar16_30Hz\n",
      "IJ2pm_Mar17_30Hz\n",
      "IJ2pm_Mar18_30Hz\n",
      "IJ2pm_Mar21_30Hz\n",
      "IJ2pm_Mar22_30Hz\n",
      "IJ2pm_Mar23_30Hz\n",
      "IJ2pm_Mar24_30Hz\n",
      "IJ2pm_Mar29_30Hz\n",
      "IJ2pm_Mar30_30Hz\n",
      "IJ2pm_Mar31_30Hz\n",
      "IJ2pm_Apr1_30Hz\n",
      "IJ2pm_Apr4_30Hz\n",
      "IJ2pm_Apr5_30Hz\n",
      "IJ2pm_Apr6_30Hz\n",
      "IJ2pm_Apr7_30Hz\n",
      "AQ2am_Dec9_30Hz\n",
      "Lever to [Ca] shift:  2.1666666666666665\n",
      "DLC to [Ca] shift:  -10.0\n",
      "AQ2am_Dec10_30Hz\n",
      "Lever to [Ca] shift:  3.3\n",
      "DLC to [Ca] shift:  -10.0\n",
      "AQ2pm_Dec10_30Hz\n",
      "Lever to [Ca] shift:  1.8\n",
      "DLC to [Ca] shift:  -10.0\n",
      "AQ2am_Dec11_30Hz\n",
      "Lever to [Ca] shift:  2.1666666666666665\n",
      "DLC to [Ca] shift:  -6.6666666666666785\n",
      "AQ2pm_Dec14_30Hz\n",
      "Lever to [Ca] shift:  2.6\n",
      "DLC to [Ca] shift:  -5.600000000000016\n",
      "AQ2am_Dec14_30Hz\n",
      "Lever to [Ca] shift:  2.3333333333333335\n",
      "DLC to [Ca] shift:  -10.0\n",
      "AQ2pm_Dec16_30Hz\n",
      "Lever to [Ca] shift:  2.2666666666666666\n",
      "DLC to [Ca] shift:  2.4666666666666224\n",
      "AQ2am_Dec17_30Hz\n",
      "Lever to [Ca] shift:  2.066666666666667\n",
      "DLC to [Ca] shift:  -5.466666666666683\n",
      "AQ2pm_Dec17_30Hz\n",
      "Lever to [Ca] shift:  2.2\n",
      "DLC to [Ca] shift:  -7.266666666666676\n",
      "AQ2am_Dec18_30Hz\n",
      "Lever to [Ca] shift:  2.7\n",
      "DLC to [Ca] shift:  -9.06666666666667\n",
      "AQ2pm_Dec18_30Hz\n",
      "Lever to [Ca] shift:  2.533333333333333\n",
      "DLC to [Ca] shift:  4.799999999999947\n",
      "AQ2am_Dec21_30Hz\n",
      "Lever to [Ca] shift:  2.533333333333333\n",
      "DLC to [Ca] shift:  -8.466666666666672\n",
      "AQ2am_Dec22_30Hz\n",
      "Lever to [Ca] shift:  2.5\n",
      "DLC to [Ca] shift:  -10.0\n",
      "AQ2am_Dec23_30Hz\n",
      "Lever to [Ca] shift:  1.9333333333333333\n",
      "DLC to [Ca] shift:  -10.0\n",
      "AQ2am_Dec28_30Hz\n",
      "Lever to [Ca] shift:  2.7\n",
      "DLC to [Ca] shift:  3.8666666666666174\n",
      "AQ2am_Dec29_30Hz\n",
      "Lever to [Ca] shift:  2.8666666666666667\n",
      "DLC to [Ca] shift:  -8.800000000000004\n",
      "AQ2am_Dec30_30Hz\n",
      "Lever to [Ca] shift:  0.0\n",
      "DLC to [Ca] shift:  1.333333333333293\n",
      "AQ2am_Dec31_30Hz\n",
      "AQ2am_Jan4_30Hz\n",
      "Lever to [Ca] shift:  2.2333333333333334\n",
      "DLC to [Ca] shift:  3.333333333333286\n",
      "AQ2am_Jan5_30Hz\n",
      "Lever to [Ca] shift:  1.7333333333333334\n",
      "DLC to [Ca] shift:  3.799999999999951\n",
      "AQ2am_Jan6_30Hz\n",
      "Lever to [Ca] shift:  1.5333333333333334\n",
      "DLC to [Ca] shift:  2.733333333333288\n",
      "AQ2am_Jan7_30Hz\n",
      "Lever to [Ca] shift:  3.0\n",
      "DLC to [Ca] shift:  -5.666666666666682\n",
      "AQ2am_Jan8_30Hz\n",
      "Lever to [Ca] shift:  3.2333333333333334\n",
      "DLC to [Ca] shift:  4.733333333333281\n",
      "AQ2pm_Jan11_30Hz\n",
      "Lever to [Ca] shift:  2.6\n",
      "DLC to [Ca] shift:  0.4666666666666295\n",
      "AQ2am_Jan11_30Hz\n",
      "Lever to [Ca] shift:  2.3666666666666667\n",
      "DLC to [Ca] shift:  -10.0\n",
      "AQ2pm_Jan12_30Hz\n",
      "Lever to [Ca] shift:  2.466666666666667\n",
      "DLC to [Ca] shift:  -3.8666666666666885\n",
      "AQ2am_Jan12_30Hz\n",
      "Lever to [Ca] shift:  2.5\n",
      "DLC to [Ca] shift:  -10.0\n",
      "AQ2pm_Jan13_30Hz\n",
      "Lever to [Ca] shift:  2.2666666666666666\n",
      "DLC to [Ca] shift:  3.333333333333286\n",
      "AQ2am_Jan13_30Hz\n",
      "Lever to [Ca] shift:  2.9\n",
      "DLC to [Ca] shift:  5.13333333333328\n",
      "AQ2pm_Jan14_30Hz\n",
      "Lever to [Ca] shift:  2.1\n",
      "DLC to [Ca] shift:  3.933333333333284\n",
      "AQ2am_Jan14_30Hz\n",
      "Lever to [Ca] shift:  2.1\n",
      "DLC to [Ca] shift:  3.466666666666619\n",
      "AQ2am_Jan15_30Hz\n",
      "Lever to [Ca] shift:  3.1\n",
      "DLC to [Ca] shift:  5.199999999999946\n",
      "AQ2pm_Jan15_30Hz\n",
      "Lever to [Ca] shift:  2.7666666666666666\n",
      "DLC to [Ca] shift:  4.1999999999999496\n",
      "AQ2pm_Jan18_30Hz\n",
      "Lever to [Ca] shift:  2.6\n",
      "DLC to [Ca] shift:  -10.0\n",
      "AQ2am_Jan18_30Hz\n",
      "Lever to [Ca] shift:  2.066666666666667\n",
      "DLC to [Ca] shift:  4.266666666666616\n",
      "AQ2am_Jan19_30Hz\n",
      "Lever to [Ca] shift:  2.3\n",
      "DLC to [Ca] shift:  -10.0\n",
      "AQ2pm_Jan19_30Hz\n",
      "Lever to [Ca] shift:  2.2\n",
      "DLC to [Ca] shift:  -10.0\n",
      "AQ2pm_Jan20_30Hz\n",
      "Lever to [Ca] shift:  2.7666666666666666\n",
      "DLC to [Ca] shift:  -10.0\n",
      "AQ2am_Jan20_30Hz\n",
      "Lever to [Ca] shift:  2.3333333333333335\n",
      "DLC to [Ca] shift:  -5.533333333333349\n",
      "AQ2pm_Jan21_30Hz\n",
      "Lever to [Ca] shift:  2.3333333333333335\n",
      "DLC to [Ca] shift:  -10.0\n",
      "AQ2am_Jan21_30Hz\n",
      "Lever to [Ca] shift:  2.9\n",
      "DLC to [Ca] shift:  -10.0\n",
      "AQ2pm_Jan22_30Hz\n",
      "Lever to [Ca] shift:  2.8333333333333335\n",
      "DLC to [Ca] shift:  -8.266666666666673\n",
      "AQ2am_Jan22_30Hz\n",
      "Lever to [Ca] shift:  2.9\n",
      "DLC to [Ca] shift:  -6.600000000000012\n",
      "AQ2am_Jan25_30Hz\n",
      "Lever to [Ca] shift:  2.1666666666666665\n",
      "DLC to [Ca] shift:  -10.0\n",
      "AQ2pm_Jan25_30Hz\n",
      "Lever to [Ca] shift:  2.1333333333333333\n",
      "DLC to [Ca] shift:  -10.0\n",
      "AQ2pm_Jan26_30Hz\n",
      "Lever to [Ca] shift:  2.033333333333333\n",
      "DLC to [Ca] shift:  -10.0\n",
      "AQ2am_Jan26_30Hz\n",
      "Lever to [Ca] shift:  2.1\n",
      "DLC to [Ca] shift:  -10.0\n",
      "AQ2am_Jan27_30Hz\n",
      "Lever to [Ca] shift:  3.066666666666667\n",
      "DLC to [Ca] shift:  -5.33333333333335\n",
      "AQ2pm_Jan27_30Hz\n",
      "Lever to [Ca] shift:  2.533333333333333\n",
      "DLC to [Ca] shift:  4.1999999999999496\n",
      "AQ2am_Jan28_30Hz\n",
      "Lever to [Ca] shift:  2.8\n",
      "DLC to [Ca] shift:  4.733333333333281\n",
      "AQ2pm_Jan28_30Hz\n",
      "Lever to [Ca] shift:  2.066666666666667\n",
      "DLC to [Ca] shift:  3.199999999999953\n",
      "AQ2am_Jan29_30Hz\n",
      "Lever to [Ca] shift:  3.1333333333333333\n",
      "DLC to [Ca] shift:  5.666666666666611\n",
      "AQ2pm_Jan29_30Hz\n",
      "Lever to [Ca] shift:  2.6\n",
      "DLC to [Ca] shift:  4.799999999999947\n",
      "AQ2am_Feb2_30Hz\n",
      "Lever to [Ca] shift:  2.4\n",
      "DLC to [Ca] shift:  4.066666666666617\n",
      "AQ2am_Feb3_30Hz\n",
      "Lever to [Ca] shift:  2.8666666666666667\n",
      "DLC to [Ca] shift:  4.466666666666615\n",
      "AQ2am_Feb4_30Hz\n",
      "Lever to [Ca] shift:  3.0\n",
      "DLC to [Ca] shift:  4.799999999999947\n",
      "AQ2am_Feb5_30Hz\n",
      "Lever to [Ca] shift:  2.966666666666667\n",
      "DLC to [Ca] shift:  5.199999999999946\n",
      "AQ2am_Feb9_30Hz\n",
      "Lever to [Ca] shift:  3.1333333333333333\n",
      "DLC to [Ca] shift:  3.9999999999999503\n",
      "AQ2am_Feb10_30Hz\n",
      "Lever to [Ca] shift:  2.1\n",
      "DLC to [Ca] shift:  3.3999999999999524\n",
      "AQ2am_Feb11_30Hz\n",
      "Lever to [Ca] shift:  2.7666666666666666\n",
      "DLC to [Ca] shift:  4.733333333333281\n",
      "AQ2am_Feb12_30Hz\n",
      "Lever to [Ca] shift:  2.8333333333333335\n",
      "DLC to [Ca] shift:  4.799999999999947\n",
      "AQ2am_Feb15_30Hz\n",
      "Lever to [Ca] shift:  2.8333333333333335\n",
      "DLC to [Ca] shift:  4.866666666666614\n",
      "AQ2am_Feb16_30Hz\n",
      "Lever to [Ca] shift:  2.8333333333333335\n",
      "DLC to [Ca] shift:  4.799999999999947\n",
      "AQ2am_Feb17_30Hz\n",
      "Lever to [Ca] shift:  2.3666666666666667\n",
      "DLC to [Ca] shift:  4.999999999999947\n",
      "AQ2am_Feb18_30Hz\n",
      "AQ2am_Feb19_30Hz\n",
      "AQ2am_Feb22_30Hz\n",
      "AQ2am_Feb23_30Hz\n",
      "AQ2am_Feb25_30Hz\n",
      "AQ2am_Feb26_30Hz\n",
      "AQ2am_Feb29_30Hz\n",
      "AQ2am_Mar1_30Hz\n",
      "AQ2am_Mar2_30Hz\n",
      "AQ2am_Mar3_30Hz\n",
      "AQ2pm_Mar7_Day3_30Hz\n",
      "AQ2pm_Mar9_Day5_30Hz\n",
      "AQ2pm_Mar11_Day7_30Hz\n",
      "AQ2am_Mar14_Week2_30Hz\n",
      "AQ2pm_Mar15_Week2_30Hz\n",
      "AQ2am_Mar16_Week2_30Hz\n",
      "AQ2am_Mar17_Week2_30Hz\n",
      "AQ2am_Mar18_Week2_30Hz\n",
      "AQ2am_Mar21_Week3_30Hz\n",
      "AQ2am_Mar22_Week3_30Hz\n",
      "AQ2am_Mar23_Week3_30Hz\n",
      "AQ2am_Mar24_Week3_30Hz\n",
      "AQ2am_Mar29_Week4_30Hz\n",
      "AQ2am_Mar30_Week4_30Hz\n",
      "AQ2am_Mar31_Week4_30Hz\n",
      "AQ2am_Apr1_Week4_30Hz\n",
      "AQ2am_Apr4_Week5_30Hz\n",
      "AQ2am_Apr5_Week5_30Hz\n",
      "AQ2am_Apr6_Week5_30Hz\n",
      "AQ2am_Apr7_Week5_30Hz\n",
      "AQ2am_Apr8_Week5_30Hz\n",
      "AQ2am_Apr11_Week6_30Hz\n",
      "AQ2am_Apr12_Week6_30Hz\n",
      "AQ2am_Apr13_Week6_30Hz\n",
      "AQ2am_Apr14_Week6_30Hz\n",
      "AQ2am_Apr15_Week6_30Hz\n",
      "AQ2am_Apr18_Week7_30Hz\n",
      "AQ2am_Apr19_Week7_30Hz\n",
      "AQ2am_Apr20_Week7_30Hz\n",
      "AQ2am_Apr21_Week7_30Hz\n",
      "Lever to [Ca] shift:  2.1\n",
      "DLC to [Ca] shift:  3.5999999999999517\n",
      "AQ2am_Apr22_Week7_30Hz\n",
      "Lever to [Ca] shift:  2.2\n",
      "DLC to [Ca] shift:  3.199999999999953\n",
      "AQ2am_Apr25_Week8_30Hz\n",
      "Lever to [Ca] shift:  1.9333333333333333\n",
      "DLC to [Ca] shift:  3.5333333333332853\n",
      "AQ2am_Apr26_Week8_30Hz\n",
      "Lever to [Ca] shift:  1.9\n",
      "DLC to [Ca] shift:  3.199999999999953\n",
      "AQ2am_Apr27_Week8_30Hz\n",
      "Lever to [Ca] shift:  2.1333333333333333\n",
      "DLC to [Ca] shift:  3.5999999999999517\n",
      "AQ2am_Apr28_Week8_30Hz\n",
      "Lever to [Ca] shift:  2.0\n",
      "DLC to [Ca] shift:  2.533333333333289\n",
      "AQ2am_Apr29_Week8_30Hz\n",
      "Lever to [Ca] shift:  2.6\n",
      "DLC to [Ca] shift:  3.799999999999951\n"
     ]
    }
   ],
   "source": [
    "\n",
    "    \n",
    "    \n",
    "# \n"
   ]
  },
  {
   "cell_type": "code",
   "execution_count": 9,
   "metadata": {},
   "outputs": [
    {
     "name": "stdout",
     "output_type": "stream",
     "text": [
      "0 0 1 [ 1.33333333e-01 -3.55271368e-14 -3.55271368e-14 -3.55271368e-14\n",
      " -3.55271368e-14 -3.55271368e-14 -3.55271368e-14 -3.55271368e-14\n",
      " -2.66666667e-01 -3.55271368e-14 -3.55271368e-14 -3.55271368e-14\n",
      " -3.55271368e-14 -3.55271368e-14 -3.55271368e-14 -3.55271368e-14\n",
      " -3.55271368e-14 -3.55271368e-14 -3.55271368e-14 -3.55271368e-14\n",
      " -3.55271368e-14 -3.55271368e-14 -3.55271368e-14 -3.55271368e-14\n",
      " -3.55271368e-14 -3.55271368e-14 -3.55271368e-14  1.33333333e-01\n",
      " -3.55271368e-14 -6.66666667e-02]\n",
      "\n",
      "0 0 2 [-2.66666667e-01 -3.55271368e-14 -6.66666667e-01 -2.66666667e-01\n",
      " -4.00000000e-01  2.66666667e-01 -2.00000000e-01  7.33333333e-01\n",
      " -2.66666667e-01 -2.66666667e-01 -2.66666667e-01 -1.33333333e-01\n",
      " -3.55271368e-14  8.66666667e-01 -1.33333333e-01 -3.55271368e-14\n",
      "  2.66666667e-01  2.66666667e-01 -3.55271368e-14 -3.55271368e-14\n",
      " -1.33333333e-01  2.66666667e-01 -3.55271368e-14 -3.55271368e-14\n",
      " -3.55271368e-14 -1.33333333e-01 -3.55271368e-14 -3.55271368e-14\n",
      "  1.33333333e-01]\n",
      "\n",
      "0 0 3 [-3.55271368e-14 -3.55271368e-14 -6.66666667e-02 -3.55271368e-14\n",
      " -3.55271368e-14 -1.33333333e-01 -2.66666667e-01 -1.33333333e-01\n",
      " -1.33333333e-01 -2.66666667e-01 -2.66666667e-01 -3.55271368e-14\n",
      " -3.55271368e-14 -3.55271368e-14 -6.66666667e-02 -3.55271368e-14\n",
      " -3.55271368e-14 -3.55271368e-14 -3.55271368e-14  6.66666667e-02\n",
      " -3.55271368e-14 -3.55271368e-14 -6.66666667e-02 -3.55271368e-14\n",
      " -3.55271368e-14  6.66666667e-02  1.33333333e-01 -3.55271368e-14\n",
      " -6.66666667e-02 -3.55271368e-14]\n",
      "\n",
      "0 0 4 [-3.55271368e-14 -3.33333333e-01  6.00000000e-01 -7.33333333e-01\n",
      " -3.55271368e-14 -3.55271368e-14 -3.55271368e-14  2.66666667e-01\n",
      " -2.66666667e-01  1.33333333e-01 -1.33333333e-01 -3.55271368e-14\n",
      " -3.55271368e-14 -3.55271368e-14 -3.55271368e-14 -3.55271368e-14\n",
      "  1.33333333e-01 -3.55271368e-14 -3.55271368e-14 -3.55271368e-14\n",
      " -3.55271368e-14 -3.55271368e-14 -3.55271368e-14 -3.55271368e-14\n",
      "  1.33333333e-01  1.33333333e-01  6.66666667e-02 -3.55271368e-14\n",
      " -3.55271368e-14 -3.55271368e-14]\n",
      "\n",
      "0 0 5 [-2.00000000e-01 -3.55271368e-14 -2.66666667e-01 -1.60000000e+00\n",
      " -1.33333333e-01 -3.55271368e-14 -3.55271368e-14 -3.55271368e-14\n",
      " -3.55271368e-14 -3.55271368e-14 -1.33333333e-01 -3.55271368e-14\n",
      "  2.66666667e-01 -3.55271368e-14  6.66666667e-02  1.33333333e-01\n",
      "  2.66666667e-01  6.66666667e-02 -1.86666667e+00 -3.55271368e-14\n",
      "  1.33333333e-01  1.33333333e-01 -3.55271368e-14 -2.60000000e+00\n",
      "  2.00000000e-01  2.66666667e+00  6.66666667e-02  4.66666667e-01\n",
      "  1.33333333e-01]\n",
      "\n",
      "0 0 6 [-8.66666667e-01 -3.55271368e-14 -2.86666667e+00  8.66666667e-01\n",
      " -3.55271368e-14 -6.66666667e-02 -3.55271368e-14 -3.55271368e-14\n",
      " -3.55271368e-14 -3.55271368e-14 -3.55271368e-14  1.33333333e-01\n",
      " -3.55271368e-14  6.66666667e-02 -3.55271368e-14 -3.55271368e-14\n",
      " -3.55271368e-14 -3.55271368e-14 -3.55271368e-14 -3.55271368e-14\n",
      "  2.66666667e-01  1.33333333e-01  5.33333333e-01  2.00000000e-01]\n",
      "\n",
      "0 1 2 [-2.73333333e+00 -6.66666667e-02 -2.00000000e-01 -2.73333333e+00\n",
      " -8.66666667e-01 -3.55271368e-14 -3.55271368e-14 -1.33333333e-01\n",
      " -1.86666667e+00 -2.66666667e-01 -2.00000000e-01 -3.55271368e-14\n",
      " -3.55271368e-14 -3.55271368e-14 -3.55271368e-14 -6.66666667e-02\n",
      "  6.66666667e-02  2.66666667e-01 -3.55271368e-14 -1.33333333e-01\n",
      "  7.33333333e-01 -6.66666667e-02  5.33333333e-01  2.66666667e-01\n",
      " -1.33333333e-01 -3.55271368e-14 -1.33333333e-01  7.33333333e-01\n",
      " -3.55271368e-14 -3.55271368e-14]\n",
      "\n",
      "0 1 3 [-4.66666667e-01 -4.00000000e-01 -3.55271368e-14 -1.33333333e-01\n",
      " -1.33333333e-01 -3.55271368e-14 -3.55271368e-14 -3.55271368e-14\n",
      " -3.55271368e-14 -1.33333333e-01 -6.66666667e-02 -2.66666667e-01\n",
      " -3.55271368e-14  1.33333333e-01 -3.55271368e-14 -6.66666667e-02\n",
      " -3.55271368e-14 -3.55271368e-14  1.33333333e-01 -3.55271368e-14\n",
      " -6.66666667e-02 -1.33333333e-01 -3.55271368e-14 -3.55271368e-14\n",
      " -3.55271368e-14 -3.55271368e-14 -3.55271368e-14 -1.33333333e-01\n",
      " -3.55271368e-14 -3.55271368e-14]\n",
      "\n",
      "0 1 4 [-1.00000000e+00  2.40000000e+00  1.33333333e-01  4.00000000e-01\n",
      " -1.26666667e+00  3.33333333e-01 -1.33333333e-01  2.66666667e-01\n",
      " -3.55271368e-14 -3.55271368e-14 -3.55271368e-14 -3.55271368e-14\n",
      " -3.55271368e-14  1.33333333e-01 -3.55271368e-14 -2.00000000e-01\n",
      " -3.55271368e-14 -3.55271368e-14 -3.55271368e-14 -3.55271368e-14\n",
      "  2.66666667e-01 -3.55271368e-14 -3.55271368e-14  6.66666667e-02\n",
      " -3.55271368e-14 -3.55271368e-14 -3.55271368e-14 -3.55271368e-14\n",
      " -3.55271368e-14  6.66666667e-02]\n",
      "\n",
      "0 1 5 [-1.86666667e+00 -3.55271368e-14 -3.33333333e-01 -2.86666667e+00\n",
      " -2.00000000e+00 -3.55271368e-14 -4.00000000e-01  2.66666667e-01\n",
      " -8.66666667e-01 -3.55271368e-14 -1.33333333e-01 -3.55271368e-14\n",
      "  1.33333333e-01 -3.55271368e-14  6.66666667e-02  6.66666667e-02\n",
      "  2.66666667e-01  6.66666667e-02 -3.55271368e-14 -3.55271368e-14\n",
      "  1.33333333e-01 -3.55271368e-14  6.66666667e-02 -3.06666667e+00\n",
      "  2.66666667e-01 -2.33333333e+00 -3.55271368e-14  4.00000000e-01\n",
      "  1.33333333e-01]\n",
      "\n",
      "0 1 6 [-1.00000000e+00 -2.06666667e+00 -2.86666667e+00 -3.55271368e-14\n",
      " -3.55271368e-14 -3.55271368e-14 -3.55271368e-14 -3.55271368e-14\n",
      " -3.55271368e-14 -3.55271368e-14 -3.55271368e-14 -3.55271368e-14\n",
      " -3.55271368e-14 -3.55271368e-14 -3.55271368e-14 -3.55271368e-14\n",
      " -3.55271368e-14  1.33333333e-01 -3.55271368e-14  1.33333333e-01\n",
      " -3.55271368e-14 -3.55271368e-14 -3.55271368e-14 -2.80000000e+00]\n",
      "\n",
      "0 2 3 [-3.55271368e-14 -3.55271368e-14  1.33333333e-01 -3.55271368e-14\n",
      " -4.66666667e-01 -3.26666667e+00 -3.55271368e-14 -3.55271368e-14\n",
      " -3.55271368e-14 -1.46666667e+00 -3.55271368e-14 -7.33333333e-01\n",
      " -3.55271368e-14 -3.55271368e-14 -1.13333333e+00 -3.55271368e-14\n",
      " -3.55271368e-14  5.33333333e-01 -3.55271368e-14  6.66666667e-02\n",
      " -3.33333333e-01  6.66666667e-02  6.66666667e-02 -1.33333333e-01\n",
      " -6.00000000e-01 -3.55271368e-14  1.33333333e-01  1.33333333e-01\n",
      " -8.66666667e-01 -1.33333333e-01]\n",
      "\n",
      "0 2 4 [-2.66666667e-01 -2.46666667e+00  3.33333333e-01  4.00000000e-01\n",
      "  5.33333333e-01  4.00000000e-01  1.33333333e-01  5.33333333e-01\n",
      "  1.33333333e-01 -3.55271368e-14  1.33333333e-01  1.33333333e-01\n",
      "  1.33333333e-01  1.33333333e-01  1.33333333e-01 -4.66666667e-01\n",
      " -1.33333333e-01 -4.00000000e-01 -1.33333333e-01 -3.55271368e-14\n",
      " -4.00000000e-01 -4.66666667e-01 -2.66666667e-01 -6.66666667e-01\n",
      " -1.33333333e-01  6.66666667e-02 -3.55271368e-14 -8.00000000e-01\n",
      " -1.33333333e-01]\n",
      "\n",
      "0 2 5 [ 6.66666667e-02 -3.55271368e-14  1.33333333e-01  3.33333333e-01\n",
      "  7.33333333e-01 -4.66666667e-01  1.33333333e-01 -4.66666667e-01\n",
      " -9.33333333e-01  2.66666667e-01 -7.33333333e-01 -4.66666667e-01\n",
      "  2.66666667e-01 -7.33333333e-01  1.33333333e-01  4.00000000e-01\n",
      " -2.53333333e+00 -2.20000000e+00 -1.66666667e+00 -2.80000000e+00\n",
      " -2.66666667e+00 -1.60000000e+00 -1.06666667e+00 -5.33333333e-01\n",
      " -4.66666667e-01 -1.26666667e+00]\n",
      "\n",
      "0 2 6 [ 1.33333333e-01 -3.55271368e-14  1.33333333e-01 -2.66666667e-01\n",
      " -2.66666667e-01 -6.00000000e-01 -7.33333333e-01 -4.66666667e-01\n",
      " -1.33333333e-01 -3.55271368e-14 -4.66666667e-01 -5.33333333e-01\n",
      "  1.33333333e-01 -4.66666667e-01 -2.66666667e-01 -3.55271368e-14\n",
      " -3.55271368e-14 -1.60000000e+00  4.00000000e-01  6.66666667e-02\n",
      " -4.00000000e-01 -7.33333333e-01  7.33333333e-01]\n",
      "\n",
      "0 3 4 [-3.55271368e-14 -1.40000000e+00  1.33333333e-01 -6.66666667e-02\n",
      "  8.66666667e-01 -1.26666667e+00 -3.55271368e-14  5.33333333e-01\n",
      "  4.00000000e-01 -4.66666667e-01 -3.55271368e-14 -3.55271368e-14\n",
      " -3.55271368e-14 -3.55271368e-14 -3.55271368e-14 -3.55271368e-14\n",
      "  1.33333333e-01 -3.55271368e-14 -3.55271368e-14 -1.33333333e-01\n",
      "  6.66666667e-02 -3.55271368e-14 -3.55271368e-14 -3.55271368e-14\n",
      " -3.55271368e-14 -3.55271368e-14 -6.66666667e-02 -3.55271368e-14\n",
      "  6.66666667e-02 -6.66666667e-02]\n",
      "\n",
      "0 3 5 [-3.55271368e-14 -3.55271368e-14 -3.55271368e-14  3.33333333e-01\n",
      "  2.00000000e-01 -2.66666667e-01  2.00000000e-01  2.66666667e-01\n",
      " -1.33333333e-01  2.00000000e-01  1.33333333e-01  6.66666667e-02\n",
      "  1.33333333e-01  6.66666667e-02  6.66666667e-02  1.33333333e-01\n",
      "  6.66666667e-02 -3.55271368e-14 -3.55271368e-14  6.66666667e-02\n",
      "  1.33333333e-01  2.66666667e-01 -3.55271368e-14  6.66666667e-02\n",
      "  1.33333333e-01  2.00000000e-01  6.66666667e-02  4.00000000e-01\n",
      "  2.00000000e-01]\n",
      "\n",
      "0 3 6 [ 2.66666667e-01 -2.66666667e-01 -2.53333333e+00 -3.55271368e-14\n",
      "  6.66666667e-02  1.33333333e-01  1.33333333e-01 -3.55271368e-14\n",
      " -3.55271368e-14 -1.33333333e-01 -3.55271368e-14 -3.55271368e-14\n",
      " -1.33333333e-01 -3.55271368e-14  6.66666667e-02 -3.55271368e-14\n",
      " -3.55271368e-14  2.00000000e-01 -3.55271368e-14 -2.13333333e+00\n",
      " -3.55271368e-14  1.33333333e-01 -3.55271368e-14 -1.66666667e+00]\n",
      "\n",
      "0 4 5 [-2.80000000e+00 -3.55271368e-14 -1.33333333e-01 -3.33333333e+00\n",
      " -2.66666667e-01 -2.66666667e-01  1.33333333e-01 -1.33333333e-01\n",
      " -8.66666667e-01 -3.55271368e-14 -6.00000000e-01 -3.55271368e-14\n",
      " -3.55271368e-14 -3.55271368e-14 -3.55271368e-14 -3.55271368e-14\n",
      " -3.55271368e-14 -3.55271368e-14 -3.06666667e+00 -3.55271368e-14\n",
      "  1.33333333e-01  4.66666667e-01 -3.55271368e-14  2.00000000e-01\n",
      " -3.55271368e-14  1.40000000e+00  1.33333333e-01  3.33333333e-01\n",
      "  1.33333333e-01]\n",
      "\n",
      "0 4 6 [-2.60000000e+00 -1.26666667e+00 -3.55271368e-14  2.00000000e-01\n",
      " -3.55271368e-14 -1.33333333e-01 -3.55271368e-14 -3.55271368e-14\n",
      " -3.55271368e-14 -6.66666667e-02 -3.55271368e-14 -3.55271368e-14\n",
      " -1.33333333e-01 -3.55271368e-14 -3.55271368e-14 -3.55271368e-14\n",
      " -3.55271368e-14 -3.55271368e-14 -3.55271368e-14 -6.66666667e-02\n",
      " -1.33333333e-01  1.33333333e-01 -3.55271368e-14  1.33333333e-01]\n",
      "\n",
      "0 5 6 [-1.86666667e+00 -6.66666667e-02  2.60000000e+00  4.00000000e-01\n",
      " -1.33333333e-01 -1.33333333e-01 -3.55271368e-14 -1.33333333e-01\n",
      " -3.55271368e-14 -6.66666667e-02 -3.55271368e-14 -2.66666667e-01\n",
      " -1.33333333e-01  2.66666667e-01 -3.55271368e-14 -3.55271368e-14\n",
      " -1.33333333e-01 -2.00000000e-01 -1.33333333e-01 -1.33333333e-01\n",
      " -1.40000000e+00 -3.55271368e-14 -4.00000000e-01 -4.00000000e-01]\n",
      "\n",
      "1 0 1 [ 0.1264747   0.49372624  0.20089164 -0.3870705   0.45925368 -0.05417951\n",
      "  0.44149057 -0.33742925  0.25705241  0.21797269  0.38834379  0.58763189]\n",
      "\n",
      "1 0 2 [ 0.01272594 -0.18837344 -0.2471522  -0.31305778  0.27912827 -0.23782808\n",
      " -0.42067815  0.20020642 -0.13793505  0.05415697 -0.23447816 -0.2107304 ]\n",
      "\n",
      "1 0 3 [ 0.37676704 -1.20387349  0.31965404 -0.07805917  0.32175881  0.15081377\n",
      "  0.33648747 -0.42071912  0.48190555 -2.41880421 -0.14141447 -0.16442413]\n",
      "\n",
      "1 0 4 [ 0.43517716 -0.29565434  0.37459823  0.23257017  0.20584613  0.21597383\n",
      " -0.30319065  0.38871065 -0.45900743  0.08353926 -0.16727712  0.35241602]\n",
      "\n",
      "1 0 5 [-0.17402276 -0.4006055  -0.32914952 -0.22688481  0.45381711  0.00360145\n",
      " -0.27353235 -0.42422922  0.01277395 -1.46484471 -0.08348819 -0.46980499]\n",
      "\n",
      "1 0 6 [-0.20326419 -2.96120658 -0.90348723 -0.26172914  0.6079895  -0.10250222\n",
      " -0.06983905  0.16876195  0.78236641  0.72898511  0.47463275]\n",
      "\n"
     ]
    },
    {
     "name": "stdout",
     "output_type": "stream",
     "text": [
      "1 1 2 [-1.01923237 -3.52651398  0.12005946 -0.10683464 -0.75279353 -0.0253124\n",
      "  0.36311001  0.30762951 -0.40021119 -0.75904954  0.09374976  0.11530218]\n",
      "\n",
      "1 1 3 [-0.27441392 -0.90473067 -2.90962118  0.01503799 -0.37417175 -0.39644732\n",
      " -0.42632078 -0.11909424  0.40353845 -2.15570916  0.38519265 -1.76226368]\n",
      "\n",
      "1 1 4 [-0.20998118 -0.37057944 -0.44379132 -0.18056835 -0.07495841 -0.24926844\n",
      " -0.12897531  0.05088769 -0.17129844 -0.49799539 -0.22302022]\n",
      "\n",
      "1 1 5 [-0.25798218 -0.85351558 -2.80529177 -0.36813212  0.03942286 -0.25346105\n",
      "  0.04150899  0.27282508  0.05942363 -2.3684086   0.03849474 -2.25401303]\n",
      "\n",
      "1 1 6 [-0.64654654  2.54120454 -0.38663346  0.12050109  0.32944867 -0.33804299\n",
      "  0.11361698  0.47106383 -0.47942764  0.68607449 -1.04610972]\n",
      "\n",
      "1 2 3 [-6.59681616e-01 -1.78566630e+00  5.51851944e-02 -2.53453698e-02\n",
      "  1.44348877e-01 -4.33165678e-04  7.42453222e-02 -1.11350440e-01\n",
      " -2.19375213e-01 -4.50789432e-01  1.72020484e-01  1.27293452e-01]\n",
      "\n",
      "1 2 4 [-0.96681269 -0.1693804   0.27351162  0.57992611  0.50038651  0.0752336\n",
      "  0.0738912  -0.28930899 -0.39101752  0.3210621   0.17230965  0.38200915]\n",
      "\n",
      "1 2 5 [-0.8286112  -1.90571417  0.11033746 -0.09952879  0.4310856   0.01708055\n",
      "  0.19707159 -0.4633651   0.27705241 -0.2841913  -0.0150048   0.19528477]\n",
      "\n",
      "1 2 6 [-0.43397921 -1.39639309  0.50907997  0.67314564 -0.49866708 -0.11194148\n",
      " -0.31714736  0.03997221  0.25103406 -0.19298381 -0.12953151]\n",
      "\n",
      "1 3 4 [-0.15139712 -0.2211089   0.22820666 -0.07791349  0.23836272  0.01434614\n",
      " -0.10292642 -0.33367767 -0.46311167  0.42608853 -0.00869464  0.27129335]\n",
      "\n",
      "1 3 5 [-0.34433322  0.48879606  0.37134089 -0.37077665  0.375316   -0.3285408\n",
      " -0.26753512 -0.20532638 -0.29187148  0.362851   -0.49958655  0.36652253]\n",
      "\n",
      "1 3 6 [-3.66338748 -1.66143173 -0.46117178  0.48934408 -0.2914363   0.3688229\n",
      " -0.15156483 -0.15637514 -0.58122352  0.19143053 -2.21304026]\n",
      "\n",
      "1 4 5 [ 0.21149209  0.30575517 -0.68545544  0.23572483 -0.17456753  0.25506329\n",
      "  0.23009405  0.05705411 -0.09464744  0.42824242  0.15856821  0.06847394]\n",
      "\n",
      "1 4 6 [-2.17215712 -1.47300292 -0.3581649   0.14434489 -0.27554322  1.12606059\n",
      "  0.01211168  0.01603554  2.70713859 -0.22881509 -1.16334804]\n",
      "\n",
      "1 5 6 [-1.60976001  0.33945445  2.31896313  0.80259605  0.18607275 -0.34136592\n",
      "  0.13653557  0.00294218 -0.10291294  0.06091491 -0.3737346  -0.30418835\n",
      "  0.25511877  0.59214008 -0.11226383 -0.20359562  0.07379257 -0.31921279\n",
      "  0.1521696  -0.15031138 -1.07717477 -0.25832555 -0.2348785  -0.60271336]\n",
      "\n",
      "2 0 1 [-3.55271368e-14 -3.55271368e-14 -3.55271368e-14 -3.55271368e-14\n",
      " -3.55271368e-14 -3.55271368e-14 -3.55271368e-14 -3.55271368e-14\n",
      " -3.55271368e-14 -3.55271368e-14 -3.55271368e-14]\n",
      "\n",
      "2 0 2 [-3.55271368e-14 -1.33333333e-01 -1.33333333e-01  3.33333333e-01\n",
      " -3.55271368e-14 -6.66666667e-02 -6.66666667e-02 -3.55271368e-14\n",
      " -6.66666667e-02 -3.55271368e-14  3.33333333e-01]\n",
      "\n",
      "2 0 3 [-3.55271368e-14  1.33333333e-01  6.66666667e-02  2.66666667e-01\n",
      " -3.55271368e-14  2.66666667e-01  3.33333333e-01  1.33333333e-01\n",
      " -3.55271368e-14 -3.55271368e-14 -3.55271368e-14]\n",
      "\n",
      "2 0 4 [-3.55271368e-14 -3.55271368e-14 -3.55271368e-14 -3.55271368e-14\n",
      " -3.55271368e-14 -3.55271368e-14 -3.55271368e-14 -3.55271368e-14\n",
      " -3.55271368e-14 -3.55271368e-14 -3.55271368e-14]\n",
      "\n",
      "2 0 5 [-3.55271368e-14  3.33333333e-01  1.00000000e+00  4.00000000e-01\n",
      "  4.00000000e-01  2.66666667e-01  2.66666667e-01  2.66666667e-01\n",
      "  2.66666667e-01  3.33333333e-01  4.00000000e-01]\n",
      "\n",
      "2 0 6 [-3.55271368e-14 -3.55271368e-14 -3.55271368e-14 -3.55271368e-14\n",
      "  1.33333333e-01 -3.55271368e-14 -3.55271368e-14 -3.55271368e-14\n",
      " -3.55271368e-14 -3.55271368e-14]\n",
      "\n",
      "2 1 2 [-2.66666667e-01 -1.33333333e-01 -6.66666667e-02 -6.66666667e-02\n",
      "  4.00000000e-01  2.66666667e-01 -3.55271368e-14 -3.55271368e-14\n",
      " -3.55271368e-14 -3.55271368e-14  6.66666667e-01]\n",
      "\n",
      "2 1 3 [ 6.66666667e-02  1.33333333e-01 -6.66666667e-02  6.66666667e-02\n",
      " -3.55271368e-14  2.66666667e-01  2.66666667e-01  1.33333333e-01\n",
      " -3.55271368e-14 -3.55271368e-14 -3.55271368e-14]\n",
      "\n",
      "2 1 4 [-3.55271368e-14 -3.55271368e-14 -3.55271368e-14 -3.55271368e-14\n",
      " -3.55271368e-14 -3.55271368e-14 -3.55271368e-14 -3.55271368e-14\n",
      " -3.55271368e-14 -3.55271368e-14 -3.55271368e-14]\n",
      "\n",
      "2 1 5 [-3.55271368e-14  2.66666667e-01  2.00000000e-01  4.66666667e-01\n",
      "  4.00000000e-01  2.66666667e-01  2.66666667e-01  2.00000000e-01\n",
      "  4.00000000e-01  5.33333333e-01]\n",
      "\n",
      "2 1 6 [ 2.66666667e-01 -3.55271368e-14 -3.55271368e-14 -3.55271368e-14\n",
      "  1.33333333e-01 -3.55271368e-14 -3.55271368e-14 -3.55271368e-14\n",
      " -3.55271368e-14 -3.55271368e-14]\n",
      "\n",
      "2 2 3 [-3.55271368e-14 -3.55271368e-14  2.00000000e-01 -1.33333333e-01\n",
      " -4.00000000e-01  2.66666667e-01 -3.55271368e-14 -1.26666667e+00\n",
      " -4.66666667e-01 -4.00000000e-01 -3.55271368e-14]\n",
      "\n",
      "2 2 4 [ 1.33333333e-01  1.33333333e-01  1.33333333e-01 -2.66666667e-01\n",
      " -4.00000000e-01  3.33333333e-01  1.33333333e-01  1.33333333e-01\n",
      " -3.55271368e-14  6.66666667e-02 -3.55271368e-14]\n",
      "\n",
      "2 2 5 [ 1.33333333e-01  5.33333333e-01 -1.86666667e+00  2.66666667e-01\n",
      " -3.55271368e-14  3.33333333e-01  2.66666667e-01  3.33333333e-01\n",
      "  6.66666667e-02 -2.00000000e-01 -3.55271368e-14]\n",
      "\n",
      "2 2 6 [-0.26666667  0.13333333  0.06666667 -0.4         0.26666667  0.13333333\n",
      "  0.06666667 -1.          0.06666667 -0.73333333]\n",
      "\n",
      "2 3 4 [-3.55271368e-14 -3.55271368e-14 -3.55271368e-14 -3.55271368e-14\n",
      " -3.55271368e-14 -3.55271368e-14 -2.66666667e-01 -1.33333333e-01\n",
      " -3.55271368e-14 -3.55271368e-14 -3.55271368e-14]\n",
      "\n",
      "2 3 5 [ 4.00000000e-01  6.66666667e-01 -2.66666667e-01 -2.66666667e-01\n",
      "  2.66666667e-01  1.33333333e-01 -3.55271368e-14 -3.55271368e-14\n",
      "  2.66666667e-01  1.33333333e-01  5.33333333e-01]\n",
      "\n",
      "2 3 6 [ 6.66666667e-01 -1.33333333e-01 -4.00000000e-01 -3.55271368e-14\n",
      " -3.55271368e-14 -3.33333333e-01 -1.33333333e-01 -3.55271368e-14\n",
      " -3.55271368e-14 -3.55271368e-14]\n",
      "\n",
      "2 4 5 [-3.55271368e-14  7.33333333e-01  2.66666667e-01  4.00000000e-01\n",
      "  4.00000000e-01  4.00000000e-01  2.66666667e-01  1.33333333e-01\n",
      "  2.66666667e-01  2.66666667e-01  3.33333333e-01]\n",
      "\n",
      "2 4 6 [-2.66666667e-01 -3.55271368e-14 -6.66666667e-02 -3.55271368e-14\n",
      " -3.55271368e-14  1.33333333e-01 -3.55271368e-14  6.66666667e-02\n",
      " -3.55271368e-14 -6.66666667e-02]\n",
      "\n",
      "2 5 6 [-1.         -3.13333333 -0.6        -0.46666667 -0.4        -0.2\n",
      " -0.26666667 -0.26666667 -0.26666667 -0.46666667]\n",
      "\n",
      "3 0 1 [ 8.66666667e-01 -6.66666667e-02 -3.55271368e-14 -3.55271368e-14\n",
      " -3.55271368e-14 -3.55271368e-14 -3.55271368e-14 -3.55271368e-14\n",
      "  6.66666667e-02]\n",
      "\n",
      "3 0 2 [-3.33333333e-01 -3.55271368e-14 -1.60000000e+00 -6.66666667e-02\n",
      " -6.66666667e-02 -2.66666667e-01 -2.13333333e+00 -1.33333333e-01\n",
      " -2.66666667e-01]\n",
      "\n",
      "3 0 3 [-3.55271368e-14 -3.33333333e-01 -7.33333333e-01 -2.66666667e-01\n",
      " -3.55271368e-14 -1.33333333e-01 -2.66666667e-01 -1.33333333e-01\n",
      " -6.66666667e-02]\n",
      "\n",
      "3 0 4 [ 7.33333333e-01 -1.33333333e-01 -3.55271368e-14 -3.55271368e-14\n",
      " -3.55271368e-14 -3.55271368e-14 -3.55271368e-14 -3.55271368e-14\n",
      " -3.55271368e-14]\n",
      "\n",
      "3 0 5 [-2.66666667e+00 -2.00000000e+00 -3.55271368e-14 -3.55271368e-14\n",
      " -3.55271368e-14  2.66666667e-01 -3.55271368e-14  1.26666667e+00]\n",
      "\n",
      "3 0 6 [ 8.66666667e-01 -2.80000000e+00  2.66666667e-01 -3.55271368e-14\n",
      " -3.55271368e-14 -3.55271368e-14 -3.55271368e-14 -3.55271368e-14\n",
      "  2.00000000e-01]\n",
      "\n",
      "3 1 2 [-5.33333333e-01 -7.33333333e-01 -2.86666667e+00 -2.66666667e-01\n",
      " -1.33333333e-01 -6.66666667e-02 -3.55271368e-14 -2.66666667e-01\n",
      " -3.55271368e-14 -2.66666667e-01]\n",
      "\n",
      "3 1 3 [-5.33333333e-01 -4.00000000e-01 -1.33333333e-01 -2.00000000e-01\n",
      " -1.33333333e-01 -2.66666667e-01 -3.55271368e-14 -2.66666667e-01]\n",
      "\n",
      "3 1 4 [-3.55271368e-14 -1.33333333e-01 -1.33333333e-01 -3.55271368e-14\n",
      "  1.33333333e-01 -3.55271368e-14 -3.55271368e-14 -3.55271368e-14\n",
      " -3.55271368e-14]\n",
      "\n",
      "3 1 5 [ 1.86666667e+00  1.53333333e+00 -3.55271368e-14  2.66666667e-01\n",
      "  2.66666667e-01 -3.55271368e-14  4.00000000e-01  1.73333333e+00]\n",
      "\n",
      "3 1 6 [-3.55271368e-14 -5.33333333e-01 -2.00000000e+00  2.00000000e-01\n",
      " -3.55271368e-14 -3.55271368e-14 -3.55271368e-14 -3.55271368e-14\n",
      " -3.55271368e-14  6.66666667e-02]\n",
      "\n",
      "3 2 3 [-3.55271368e-14 -4.66666667e-01 -3.55271368e-14 -3.55271368e-14\n",
      " -3.55271368e-14 -4.66666667e-01 -2.66666667e-01 -3.55271368e-14\n",
      " -2.53333333e+00]\n",
      "\n",
      "3 2 4 [ 6.66666667e-01  6.66666667e-01 -3.55271368e-14 -3.55271368e-14\n",
      "  1.33333333e-01 -3.55271368e-14  2.66666667e-01 -3.55271368e-14\n",
      " -2.20000000e+00]\n",
      "\n",
      "3 2 5 [ 2.40000000e+00  1.53333333e+00  1.33333333e-01  2.00000000e-01\n",
      " -2.66666667e-01 -3.55271368e-14 -1.33333333e-01 -7.33333333e-01]\n",
      "\n",
      "3 2 6 [-3.55271368e-14  8.00000000e-01 -3.13333333e+00  1.33333333e-01\n",
      " -3.55271368e-14  7.33333333e-01 -3.55271368e-14 -3.55271368e-14\n",
      " -2.86666667e+00  5.33333333e-01]\n",
      "\n",
      "3 3 4 [ 5.33333333e-01  1.20000000e+00  6.66666667e-02  6.66666667e-02\n",
      " -3.55271368e-14  1.33333333e-01  2.80000000e+00 -6.66666667e-02\n",
      " -2.00000000e-01]\n",
      "\n",
      "3 3 5 [-3.26666667 -0.93333333  0.13333333  0.26666667  0.26666667  0.26666667\n",
      " -1.8         0.33333333]\n",
      "\n",
      "3 3 6 [-1.33333333e-01 -3.06666667e+00 -3.55271368e-14  2.00000000e-01\n",
      "  1.33333333e-01 -3.55271368e-14  6.66666667e-02 -3.55271368e-14\n",
      "  2.66666667e-01]\n",
      "\n",
      "3 4 5 [-1.33333333e-01  8.66666667e-01 -3.55271368e-14  1.33333333e-01\n",
      " -6.00000000e-01 -3.55271368e-14  1.33333333e-01 -1.46666667e+00]\n",
      "\n",
      "3 4 6 [-3.55271368e-14 -3.26666667e+00  6.66666667e-01 -3.55271368e-14\n",
      " -6.66666667e-02 -3.55271368e-14 -3.55271368e-14 -4.00000000e-01\n",
      " -1.00000000e+00]\n",
      "\n",
      "3 5 6 [-2.13333333  3.         -0.13333333 -0.26666667 -0.26666667 -0.4       ]\n",
      "\n",
      "4 0 1 [-3.55271368e-14 -3.55271368e-14 -3.55271368e-14  6.66666667e-02\n",
      " -3.55271368e-14 -3.55271368e-14 -3.55271368e-14 -3.55271368e-14\n",
      " -3.55271368e-14 -3.55271368e-14 -3.55271368e-14]\n",
      "\n",
      "4 0 2 [-3.55271368e-14 -1.40000000e+00 -1.33333333e-01 -3.55271368e-14\n",
      " -7.33333333e-01 -3.33333333e-01 -6.66666667e-02  7.33333333e-01\n",
      " -3.55271368e-14 -2.66666667e-01 -7.33333333e-01]\n",
      "\n",
      "4 0 3 [-3.55271368e-14 -6.66666667e-02 -3.55271368e-14 -3.55271368e-14\n",
      " -2.66666667e-01 -4.00000000e-01  1.33333333e-01 -3.55271368e-14\n",
      " -1.33333333e-01 -3.00000000e+00  2.00000000e-01]\n",
      "\n",
      "4 0 4 [-3.55271368e-14 -3.55271368e-14 -3.55271368e-14 -3.55271368e-14\n",
      " -3.55271368e-14 -3.55271368e-14 -3.55271368e-14 -3.55271368e-14\n",
      "  1.33333333e-01 -1.33333333e-01 -3.55271368e-14]\n",
      "\n",
      "4 0 5 [ 1.46666667  1.26666667  0.13333333  0.53333333  0.06666667 -1.86666667\n",
      "  0.4         1.4        -3.13333333]\n",
      "\n",
      "4 0 6 [ 7.33333333e-01 -5.33333333e-01 -3.55271368e-14  7.33333333e-01\n",
      " -3.55271368e-14 -3.55271368e-14 -3.55271368e-14  2.66666667e-01\n",
      "  2.00000000e-01 -3.55271368e-14]\n",
      "\n",
      "4 1 2 [-3.55271368e-14 -2.00000000e+00 -1.33333333e-01 -1.33333333e-01\n",
      " -3.55271368e-14 -6.66666667e-02 -3.55271368e-14  6.66666667e-01\n",
      " -1.33333333e-01  6.66666667e-01  2.66666667e-01]\n",
      "\n",
      "4 1 3 [-2.00000000e+00 -2.40000000e+00 -2.66666667e-01 -1.33333333e-01\n",
      " -6.00000000e-01 -6.66666667e-02  2.00000000e-01 -3.55271368e-14\n",
      " -6.66666667e-02 -6.66666667e-02  2.00000000e-01]\n",
      "\n",
      "4 1 4 [-3.55271368e-14  2.00000000e-01 -3.55271368e-14 -3.55271368e-14\n",
      " -3.55271368e-14 -3.55271368e-14 -3.55271368e-14 -3.55271368e-14\n",
      " -3.55271368e-14 -3.55271368e-14 -3.55271368e-14]\n",
      "\n",
      "4 1 5 [ 2.40000000e+00  5.33333333e-01 -3.55271368e-14 -2.66666667e-01\n",
      "  2.66666667e-01 -2.73333333e+00  5.33333333e-01  3.33333333e-01\n",
      "  3.33333333e-01  5.33333333e-01]\n",
      "\n",
      "4 1 6 [ 4.66666667e-01 -7.33333333e-01 -3.55271368e-14 -3.55271368e-14\n",
      " -3.55271368e-14 -3.55271368e-14 -3.55271368e-14  2.66666667e-01\n",
      "  1.33333333e-01 -3.55271368e-14  1.40000000e+00]\n",
      "\n",
      "4 2 3 [-3.55271368e-14 -3.55271368e-14 -6.66666667e-02 -3.55271368e-14\n",
      " -3.55271368e-14 -3.55271368e-14 -3.55271368e-14 -2.66666667e-01\n",
      " -5.33333333e-01 -3.55271368e-14 -3.55271368e-14]\n",
      "\n",
      "4 2 4 [ 3.33333333e-01  4.00000000e-01  4.00000000e-01  2.00000000e-01\n",
      " -3.55271368e-14 -3.55271368e-14 -3.55271368e-14 -6.00000000e-01\n",
      " -3.55271368e-14 -5.33333333e-01 -3.55271368e-14]\n",
      "\n",
      "4 2 5 [ 0.33333333  2.73333333  0.13333333  0.06666667  0.13333333  1.53333333\n"
     ]
    },
    {
     "name": "stdout",
     "output_type": "stream",
     "text": [
      " -0.13333333 -2.53333333  0.26666667 -2.13333333]\n",
      "\n",
      "4 2 6 [-2.13333333e+00  2.00000000e-01 -3.55271368e-14  2.00000000e-01\n",
      "  2.66666667e-01  6.66666667e-02 -4.66666667e-01 -2.66666667e-01\n",
      " -2.40000000e+00]\n",
      "\n",
      "4 3 4 [ 1.33333333e-01 -2.66666667e-01 -3.55271368e-14  1.26666667e+00\n",
      "  6.66666667e-02  2.00000000e-01 -3.55271368e-14 -3.55271368e-14\n",
      "  6.66666667e-02 -2.00000000e-01 -2.66666667e-01]\n",
      "\n",
      "4 3 5 [0.33333333 0.13333333 0.13333333 0.13333333 0.13333333 1.26666667\n",
      " 0.66666667 0.46666667 0.26666667 1.        ]\n",
      "\n",
      "4 3 6 [-3.55271368e-14 -2.73333333e+00 -3.55271368e-14 -1.33333333e-01\n",
      "  4.66666667e-01 -1.33333333e-01 -1.33333333e-01 -2.66666667e-01\n",
      "  2.00000000e-01 -1.53333333e+00]\n",
      "\n",
      "4 4 5 [-3.06666667e+00  2.66666667e-01 -3.55271368e-14 -2.66666667e-01\n",
      " -3.55271368e-14  6.00000000e-01  5.33333333e-01  3.33333333e-01\n",
      "  3.33333333e-01 -3.13333333e+00]\n",
      "\n",
      "4 4 6 [-2.86666667e+00 -4.00000000e-01  4.66666667e-01 -1.33333333e-01\n",
      " -3.55271368e-14 -1.33333333e-01 -3.55271368e-14  1.33333333e-01\n",
      " -3.55271368e-14 -3.55271368e-14  1.40000000e+00]\n",
      "\n",
      "4 5 6 [-1.8        -0.6        -0.26666667  0.26666667 -0.26666667 -1.6\n",
      " -0.26666667 -0.26666667 -1.46666667 -1.66666667]\n",
      "\n",
      "5 0 1 [-3.55271368e-14 -3.55271368e-14 -3.55271368e-14 -6.66666667e-02\n",
      " -3.55271368e-14 -3.55271368e-14 -3.55271368e-14 -6.66666667e-02\n",
      " -2.66666667e-01 -6.66666667e-02 -3.55271368e-14 -2.66666667e-01\n",
      " -6.66666667e-02  1.33333333e-01 -4.00000000e-01 -3.55271368e-14\n",
      " -3.55271368e-14 -3.55271368e-14 -3.55271368e-14 -3.55271368e-14\n",
      " -3.55271368e-14 -3.55271368e-14 -3.55271368e-14 -3.55271368e-14\n",
      " -3.55271368e-14 -3.55271368e-14 -3.55271368e-14 -3.55271368e-14\n",
      " -3.55271368e-14 -3.55271368e-14 -3.55271368e-14 -3.55271368e-14\n",
      " -3.55271368e-14 -3.55271368e-14 -3.55271368e-14 -3.55271368e-14\n",
      " -3.55271368e-14 -3.55271368e-14 -3.55271368e-14 -3.55271368e-14\n",
      " -3.55271368e-14 -3.55271368e-14 -3.55271368e-14 -3.55271368e-14\n",
      "  2.66666667e-01 -3.55271368e-14 -3.55271368e-14 -3.55271368e-14\n",
      " -3.55271368e-14 -3.55271368e-14 -3.55271368e-14 -3.55271368e-14\n",
      " -3.55271368e-14 -3.55271368e-14 -3.55271368e-14 -3.55271368e-14\n",
      " -3.55271368e-14 -3.55271368e-14 -3.55271368e-14 -3.55271368e-14\n",
      " -3.55271368e-14 -3.55271368e-14 -3.55271368e-14  6.66666667e-02\n",
      " -3.55271368e-14 -1.33333333e-01 -3.55271368e-14 -1.33333333e-01\n",
      " -6.66666667e-02 -3.55271368e-14]\n",
      "\n",
      "5 0 2 [-4.00000000e-01 -3.13333333e+00 -1.53333333e+00 -2.66666667e-01\n",
      " -3.13333333e+00 -6.66666667e-02 -3.00000000e+00 -2.26666667e+00\n",
      " -3.33333333e-01 -3.00000000e+00 -2.66666667e-01 -1.33333333e-01\n",
      " -4.00000000e-01 -2.66666667e-01 -3.55271368e-14 -2.66666667e-01\n",
      " -3.55271368e-14  2.66666667e-01  1.33333333e-01 -3.55271368e-14\n",
      " -3.55271368e-14  2.00000000e-01  1.33333333e-01 -1.33333333e-01\n",
      "  1.33333333e-01  7.33333333e-01 -3.55271368e-14  6.66666667e-01\n",
      " -3.55271368e-14  6.66666667e-01  7.33333333e-01  6.66666667e-02\n",
      "  5.33333333e-01  2.66666667e-01 -3.55271368e-14  1.33333333e-01\n",
      " -3.55271368e-14 -3.55271368e-14 -3.55271368e-14 -3.55271368e-14\n",
      " -6.66666667e-02  1.33333333e-01 -1.33333333e-01  1.33333333e-01\n",
      "  1.33333333e-01  1.33333333e-01 -2.66666667e-01  3.33333333e-01\n",
      " -3.33333333e-01  2.66666667e-01 -3.55271368e-14  6.00000000e-01\n",
      "  2.66666667e-01 -3.55271368e-14  6.66666667e-02  4.00000000e-01\n",
      "  1.33333333e-01  2.66666667e-01 -1.33333333e-01 -2.66666667e-01\n",
      " -6.66666667e-02 -1.33333333e-01 -3.00000000e+00  9.33333333e-01\n",
      "  1.00000000e+00  7.33333333e-01 -3.55271368e-14  1.13333333e+00\n",
      "  1.46666667e+00]\n",
      "\n",
      "5 0 3 [-4.00000000e-01 -1.06666667e+00 -3.55271368e-14 -3.55271368e-14\n",
      " -4.00000000e-01 -3.55271368e-14 -1.00000000e+00 -1.33333333e-01\n",
      " -6.66666667e-02 -3.55271368e-14 -3.55271368e-14 -2.66666667e-01\n",
      " -1.53333333e+00 -6.66666667e-01 -2.66666667e-01 -3.55271368e-14\n",
      " -2.66666667e-01 -3.55271368e-14 -1.33333333e-01 -6.66666667e-02\n",
      " -1.33333333e-01 -3.55271368e-14 -3.55271368e-14 -3.55271368e-14\n",
      " -3.13333333e+00 -3.55271368e-14 -2.66666667e-01 -1.33333333e-01\n",
      "  1.33333333e-01 -3.55271368e-14 -3.55271368e-14 -3.55271368e-14\n",
      " -3.55271368e-14 -3.55271368e-14 -3.55271368e-14 -3.55271368e-14\n",
      " -6.66666667e-02 -6.66666667e-02 -3.55271368e-14 -6.66666667e-02\n",
      " -3.55271368e-14 -2.66666667e-01 -3.55271368e-14 -3.55271368e-14\n",
      " -7.33333333e-01 -3.55271368e-14 -3.55271368e-14 -2.66666667e-01\n",
      " -3.55271368e-14 -3.55271368e-14 -3.55271368e-14 -4.00000000e-01\n",
      " -2.00000000e-01  5.33333333e-01 -1.33333333e-01  1.33333333e-01\n",
      "  6.66666667e-02  6.66666667e-02]\n",
      "\n",
      "5 0 4 [-3.55271368e-14 -3.55271368e-14 -3.55271368e-14  6.66666667e-02\n",
      " -2.00000000e-01 -3.55271368e-14 -6.66666667e-02 -3.55271368e-14\n",
      " -3.55271368e-14 -3.55271368e-14 -3.55271368e-14 -3.55271368e-14\n",
      " -2.66666667e-01 -3.26666667e+00 -3.55271368e-14 -3.55271368e-14\n",
      " -3.55271368e-14 -3.55271368e-14 -3.55271368e-14 -3.55271368e-14\n",
      " -3.55271368e-14 -3.55271368e-14 -3.55271368e-14 -3.55271368e-14\n",
      " -3.55271368e-14 -3.55271368e-14 -3.55271368e-14 -3.55271368e-14\n",
      " -3.55271368e-14 -3.55271368e-14 -3.55271368e-14 -3.55271368e-14\n",
      " -3.55271368e-14 -3.55271368e-14 -3.55271368e-14 -3.55271368e-14\n",
      " -3.55271368e-14 -3.55271368e-14 -3.55271368e-14 -6.66666667e-02\n",
      " -3.55271368e-14 -3.55271368e-14 -3.55271368e-14 -3.55271368e-14\n",
      " -6.66666667e-02 -3.55271368e-14 -3.55271368e-14 -2.66666667e-01\n",
      " -3.55271368e-14 -3.55271368e-14 -3.55271368e-14 -3.55271368e-14\n",
      " -3.55271368e-14  1.33333333e-01 -3.55271368e-14 -3.55271368e-14\n",
      " -3.55271368e-14 -3.55271368e-14 -3.55271368e-14 -3.55271368e-14\n",
      " -6.66666667e-02 -3.55271368e-14 -3.55271368e-14 -3.55271368e-14\n",
      "  6.66666667e-02 -3.55271368e-14 -3.55271368e-14 -1.33333333e-01\n",
      " -3.55271368e-14 -3.55271368e-14]\n",
      "\n",
      "5 0 5 [ 1.33333333e-01 -3.55271368e-14 -3.55271368e-14  6.66666667e-02\n",
      "  6.66666667e-02  2.66666667e-01 -3.55271368e-14 -3.55271368e-14\n",
      "  1.33333333e-01 -3.55271368e-14  1.33333333e-01 -3.55271368e-14\n",
      " -8.00000000e-01 -1.33333333e-01 -3.55271368e-14 -3.55271368e-14\n",
      " -2.00000000e-01 -3.55271368e-14 -1.33333333e-01 -3.55271368e-14\n",
      "  2.66666667e-01  2.66666667e-01  1.33333333e-01  2.06666667e+00\n",
      "  1.33333333e-01  6.66666667e-02  2.00000000e-01  2.66666667e-01\n",
      "  7.33333333e-01  5.33333333e-01  4.66666667e-01  2.66666667e-01\n",
      "  6.66666667e-02  2.00000000e-01  1.33333333e-01  6.66666667e-02\n",
      "  1.33333333e-01  1.33333333e-01  6.66666667e-02 -3.55271368e-14\n",
      " -3.55271368e-14 -3.55271368e-14  6.66666667e-02  6.66666667e-02\n",
      "  3.13333333e+00  1.33333333e-01  6.66666667e-02  6.66666667e-02\n",
      " -3.55271368e-14 -3.55271368e-14 -3.55271368e-14  1.33333333e-01\n",
      "  1.33333333e-01 -3.55271368e-14 -3.55271368e-14  2.00000000e-01\n",
      " -3.55271368e-14  2.66666667e-01  1.33333333e-01  1.33333333e-01\n",
      " -6.66666667e-02 -1.33333333e-01 -3.55271368e-14  2.66666667e-01\n",
      "  6.66666667e-02  6.66666667e-02  1.33333333e-01  1.33333333e-01\n",
      "  1.33333333e-01  1.33333333e-01]\n",
      "\n",
      "5 0 6 [-2.00000000e-01 -6.66666667e-01  1.73333333e+00  8.66666667e-01\n",
      "  6.66666667e-02 -1.33333333e-01  6.00000000e-01 -8.00000000e-01\n",
      " -1.13333333e+00 -6.66666667e-02 -2.73333333e+00  6.66666667e-02\n",
      "  6.00000000e-01 -3.55271368e-14  6.66666667e-02 -1.33333333e+00\n",
      " -3.55271368e-14  3.33333333e-01  1.33333333e-01  2.00000000e-01\n",
      "  6.66666667e-02 -3.06666667e+00  6.66666667e-02 -3.55271368e-14\n",
      "  6.66666667e-02 -9.33333333e-01 -1.33333333e-01 -2.13333333e+00\n",
      "  3.33333333e-01  2.13333333e+00 -1.66666667e+00 -2.33333333e+00\n",
      " -3.55271368e-14 -1.46666667e+00  2.00000000e-01  4.00000000e-01\n",
      " -1.33333333e-01 -3.20000000e+00 -2.66666667e-01  1.06666667e+00\n",
      " -3.55271368e-14  2.66666667e-01  2.66666667e-01 -6.66666667e-02\n",
      " -3.33333333e-01 -3.55271368e-14 -3.55271368e-14  6.66666667e-02\n",
      " -6.66666667e-02 -3.55271368e-14 -3.55271368e-14]\n",
      "\n",
      "5 1 2 [-1.00000000e+00 -2.00000000e+00 -3.13333333e+00 -2.00000000e+00\n",
      " -3.55271368e-14 -1.73333333e+00 -6.66666667e-02 -7.33333333e-01\n",
      " -4.66666667e-01 -3.55271368e-14 -2.93333333e+00 -8.66666667e-01\n",
      " -1.00000000e+00 -2.00000000e-01 -2.66666667e-01 -3.55271368e-14\n",
      " -1.33333333e-01 -2.00000000e-01  6.66666667e-02  1.33333333e-01\n",
      " -3.55271368e-14 -3.55271368e-14 -2.53333333e+00 -3.55271368e-14\n",
      " -3.55271368e-14 -2.66666667e-01  4.00000000e-01 -3.55271368e-14\n",
      "  4.00000000e-01 -3.55271368e-14  5.33333333e-01  7.33333333e-01\n",
      "  6.66666667e-02 -3.55271368e-14  2.66666667e-01  1.33333333e-01\n",
      " -7.33333333e-01 -6.66666667e-02 -3.55271368e-14 -3.55271368e-14\n",
      " -3.55271368e-14 -6.66666667e-02 -3.55271368e-14 -4.66666667e-01\n",
      " -2.66666667e-01 -8.66666667e-01  1.33333333e-01  1.33333333e-01\n",
      "  4.00000000e-01 -3.55271368e-14  2.66666667e-01  1.33333333e-01\n",
      "  3.33333333e-01  1.33333333e-01 -3.55271368e-14 -3.55271368e-14\n",
      "  4.00000000e-01 -3.55271368e-14  1.33333333e-01 -7.33333333e-01\n",
      " -2.66666667e-01  2.66666667e-01  6.66666667e-02 -3.13333333e+00\n",
      "  7.33333333e-01 -3.55271368e-14  9.33333333e-01  9.33333333e-01]\n",
      "\n",
      "5 1 3 [-2.00000000e-01 -2.60000000e+00 -3.55271368e-14 -3.55271368e-14\n",
      " -2.00000000e+00  1.33333333e-01 -6.00000000e-01 -1.33333333e-01\n",
      " -3.55271368e-14 -3.55271368e-14  6.66666667e-02 -4.00000000e-01\n",
      " -3.55271368e-14 -1.00000000e+00 -4.66666667e-01 -3.55271368e-14\n",
      " -2.66666667e-01 -1.33333333e-01 -2.66666667e-01 -6.66666667e-02\n",
      " -1.33333333e-01 -3.55271368e-14 -3.55271368e-14  1.33333333e-01\n",
      " -2.00000000e+00 -1.86666667e+00  6.66666667e-02 -1.33333333e-01\n",
      "  1.33333333e-01 -1.33333333e-01 -3.55271368e-14 -3.55271368e-14\n",
      " -2.66666667e-01 -1.33333333e-01 -2.33333333e+00 -2.60000000e+00\n",
      " -2.73333333e+00 -1.40000000e+00 -2.66666667e-01 -3.55271368e-14\n",
      " -3.55271368e-14 -1.33333333e-01 -3.55271368e-14 -1.13333333e+00\n",
      " -8.66666667e-01 -6.66666667e-02  1.33333333e-01 -2.66666667e-01\n",
      " -3.55271368e-14 -1.86666667e+00 -2.66666667e-01 -3.55271368e-14\n",
      " -2.66666667e-01 -4.00000000e-01 -3.55271368e-14 -3.55271368e-14\n",
      "  6.66666667e-02 -3.55271368e-14 -3.55271368e-14]\n",
      "\n",
      "5 1 4 [-3.55271368e-14 -7.33333333e-01 -1.33333333e-01 -3.55271368e-14\n",
      " -1.33333333e-01 -1.33333333e-01 -3.55271368e-14 -3.55271368e-14\n",
      " -3.55271368e-14 -3.55271368e-14 -1.33333333e-01 -3.55271368e-14\n",
      " -2.66666667e-01 -2.80000000e+00 -3.55271368e-14 -3.55271368e-14\n",
      " -3.55271368e-14 -3.55271368e-14 -3.55271368e-14 -3.55271368e-14\n",
      " -3.55271368e-14 -3.55271368e-14 -3.55271368e-14 -3.55271368e-14\n",
      " -4.00000000e-01  1.33333333e-01 -3.55271368e-14 -3.55271368e-14\n",
      " -3.55271368e-14 -3.55271368e-14 -3.55271368e-14 -3.55271368e-14\n",
      "  6.66666667e-02 -3.55271368e-14  6.66666667e-02 -3.55271368e-14\n",
      " -3.55271368e-14 -6.66666667e-02 -3.55271368e-14 -1.33333333e-01\n",
      " -3.55271368e-14 -3.55271368e-14 -3.55271368e-14  2.66666667e-01\n",
      " -3.55271368e-14 -3.55271368e-14 -3.55271368e-14 -3.55271368e-14\n",
      " -3.55271368e-14 -3.55271368e-14 -3.55271368e-14 -3.55271368e-14\n",
      " -3.55271368e-14 -3.55271368e-14 -3.55271368e-14 -1.33333333e-01\n",
      " -3.55271368e-14 -3.55271368e-14 -3.55271368e-14 -3.55271368e-14\n",
      " -3.55271368e-14 -2.66666667e-01 -3.55271368e-14  6.66666667e-02\n",
      " -3.55271368e-14 -3.55271368e-14 -3.55271368e-14 -3.55271368e-14\n",
      " -3.55271368e-14 -3.55271368e-14]\n",
      "\n",
      "5 1 5 [ 2.66666667e-01 -2.00000000e+00 -3.55271368e-14  2.00000000e-01\n",
      "  4.00000000e-01  1.33333333e-01 -5.33333333e-01 -6.66666667e-01\n",
      " -2.66666667e-01  4.00000000e-01  1.33333333e-01  1.33333333e-01\n",
      " -2.53333333e+00  6.66666667e-02 -2.66666667e-01 -2.66666667e-01\n",
      " -2.00000000e-01  2.00000000e-01 -3.55271368e-14  1.33333333e-01\n",
      "  2.66666667e-01  1.33333333e-01  6.66666667e-02  6.66666667e-02\n",
      "  2.00000000e-01 -2.00000000e-01  2.66666667e-01  2.00000000e-01\n",
      "  7.33333333e-01  2.66666667e-01  2.26666667e+00  4.00000000e-01\n",
      " -3.55271368e-14  2.66666667e-01  1.33333333e-01 -3.55271368e-14\n",
      "  1.33333333e-01  2.00000000e-01  2.00000000e-01 -3.55271368e-14\n",
      "  2.00000000e-01  6.66666667e-02  1.00000000e+00 -2.00000000e+00\n",
      "  2.66666667e-01  6.66666667e-02  2.66666667e-01 -3.55271368e-14\n",
      " -3.55271368e-14 -3.55271368e-14 -3.55271368e-14  1.33333333e-01\n",
      "  1.33333333e-01 -3.55271368e-14 -3.55271368e-14  1.33333333e-01\n",
      " -3.55271368e-14 -3.55271368e-14  2.66666667e-01  1.33333333e-01\n",
      " -2.66666667e-01 -2.66666667e-01 -3.55271368e-14  2.00000000e-01\n",
      "  1.33333333e-01  1.33333333e-01  1.33333333e-01  2.66666667e-01\n",
      "  6.66666667e-02  1.33333333e-01]\n",
      "\n",
      "5 1 6 [-3.55271368e-14 -3.55271368e-14  1.53333333e+00  6.00000000e-01\n",
      " -3.55271368e-14 -3.00000000e+00 -2.00000000e+00 -3.55271368e-14\n",
      " -7.33333333e-01 -2.46666667e+00  1.33333333e-01  1.33333333e-01\n",
      " -1.26666667e+00 -3.55271368e-14 -8.00000000e-01 -3.55271368e-14\n",
      " -3.55271368e-14 -3.55271368e-14 -2.93333333e+00 -8.00000000e-01\n",
      "  6.66666667e-02 -3.55271368e-14 -3.55271368e-14 -3.55271368e-14\n",
      " -3.55271368e-14  2.66666667e-01 -3.55271368e-14 -3.20000000e+00\n",
      " -3.20000000e+00 -6.66666667e-02 -3.55271368e-14 -2.20000000e+00\n",
      "  3.20000000e+00  2.66666667e-01 -3.55271368e-14 -2.66666667e+00\n",
      " -3.55271368e-14 -3.00000000e+00 -3.55271368e-14 -6.66666667e-01\n",
      " -3.33333333e-01 -4.66666667e-01  1.80000000e+00 -3.55271368e-14\n",
      "  2.66666667e-01  2.66666667e-01 -3.55271368e-14 -3.55271368e-14\n",
      " -3.55271368e-14 -3.55271368e-14 -3.55271368e-14 -3.55271368e-14\n",
      " -3.55271368e-14 -2.00000000e-01]\n",
      "\n",
      "5 2 3 [-2.66666667e+00 -2.00000000e+00 -2.26666667e+00  7.33333333e-01\n",
      " -1.20000000e+00  4.00000000e-01 -2.00000000e-01  6.66666667e-02\n",
      " -1.33333333e-01 -3.55271368e-14  3.00000000e+00 -3.55271368e-14\n",
      "  2.20000000e+00 -3.55271368e-14 -2.00000000e-01  1.00000000e+00\n",
      " -3.55271368e-14 -2.66666667e-01 -1.33333333e-01 -2.00000000e-01\n",
      " -1.33333333e-01 -4.66666667e-01 -2.66666667e-01 -3.55271368e-14\n",
      " -1.33333333e-01 -3.55271368e-14 -1.53333333e+00 -6.00000000e-01\n",
      " -6.66666667e-02 -3.55271368e-14 -2.66666667e-01 -1.06666667e+00\n",
      " -3.55271368e-14 -3.55271368e-14 -2.66666667e-01 -1.13333333e+00\n",
      " -2.66666667e-01 -6.66666667e-02 -3.55271368e-14 -3.55271368e-14\n",
      " -3.55271368e-14 -1.33333333e-01 -3.55271368e-14 -2.00000000e-01\n",
      " -2.00000000e-01 -1.33333333e-01 -1.33333333e-01 -2.66666667e-01\n",
      " -2.00000000e-01 -3.55271368e-14 -7.33333333e-01 -6.66666667e-02\n",
      "  3.33333333e-01 -2.00000000e+00 -2.06666667e+00 -3.26666667e+00\n",
      " -2.66666667e+00]\n",
      "\n",
      "5 2 4 [-6.66666667e-02  2.00000000e+00  1.40000000e+00 -2.00000000e-01\n",
      " -1.46666667e+00 -1.13333333e+00  7.33333333e-01  5.33333333e-01\n",
      "  8.66666667e-01 -1.33333333e-01 -3.55271368e-14 -2.00000000e-01\n",
      " -3.55271368e-14 -3.55271368e-14 -6.66666667e-02 -3.55271368e-14\n",
      "  1.33333333e-01 -1.33333333e-01 -2.66666667e-01 -1.33333333e-01\n",
      " -3.55271368e-14  1.33333333e-01 -2.66666667e-01 -6.66666667e-02\n",
      " -3.55271368e-14 -3.55271368e-14 -7.33333333e-01 -1.33333333e-01\n",
      " -4.66666667e-01 -3.55271368e-14 -4.66666667e-01 -8.66666667e-01\n",
      " -3.55271368e-14 -3.55271368e-14 -1.33333333e-01 -1.33333333e-01\n",
      " -3.55271368e-14 -3.55271368e-14 -3.55271368e-14 -1.33333333e-01\n",
      " -3.55271368e-14 -3.55271368e-14 -3.55271368e-14 -1.33333333e-01\n",
      " -3.55271368e-14 -3.55271368e-14 -3.55271368e-14 -1.33333333e-01\n",
      " -2.66666667e-01 -1.33333333e-01 -4.00000000e-01 -1.33333333e-01\n",
      " -4.00000000e-01 -7.33333333e-01 -6.66666667e-01 -3.26666667e+00\n",
      " -4.00000000e-01 -1.33333333e-01 -2.26666667e+00 -2.66666667e-01\n",
      " -6.00000000e-01 -3.55271368e-14 -4.66666667e-01 -1.93333333e+00\n",
      " -1.26666667e+00 -2.00000000e+00 -1.46666667e+00 -3.55271368e-14\n",
      " -1.00000000e+00 -4.66666667e-01]\n",
      "\n",
      "5 2 5 [ 2.66666667e-01  1.33333333e-01  1.33333333e-01 -3.55271368e-14\n",
      "  9.33333333e-01  8.00000000e-01 -3.55271368e-14  1.33333333e-01\n",
      "  8.66666667e-01  1.33333333e-01  2.00000000e-01 -3.55271368e-14\n",
      " -1.60000000e+00 -6.66666667e-02 -1.33333333e-01 -3.55271368e-14\n",
      " -2.00000000e-01  1.33333333e-01 -3.55271368e-14  1.33333333e-01\n",
      "  1.33333333e-01 -3.55271368e-14 -8.66666667e-01 -5.33333333e-01\n",
      "  1.33333333e-01  6.66666667e-02 -1.33333333e-01 -2.66666667e-01\n",
      "  2.00000000e-01 -2.66666667e-01 -2.66666667e-01 -4.00000000e-01\n",
      " -3.55271368e-14  2.00000000e-01 -6.66666667e-02  2.66666667e-01\n",
      " -6.66666667e-02  1.33333333e-01  6.66666667e-02 -2.00000000e-01\n",
      " -2.00000000e-01 -1.33333333e-01  6.66666667e-02 -1.33333333e-01\n",
      "  2.00000000e-01 -6.66666667e-02 -6.66666667e-02 -4.00000000e-01\n",
      " -2.66666667e-01 -2.66666667e-01 -4.00000000e-01 -2.00000000e-01\n",
      " -7.33333333e-01 -3.26666667e+00  2.66666667e-01  1.33333333e-01\n",
      " -2.66666667e-01 -6.00000000e-01 -2.13333333e+00 -2.20000000e+00\n",
      " -1.66666667e+00 -8.66666667e-01  3.33333333e-01 -4.66666667e-01\n",
      " -2.26666667e+00 -1.80000000e+00 -1.40000000e+00 -2.46666667e+00\n",
      " -7.33333333e-01 -4.66666667e-01]\n",
      "\n",
      "5 2 6 [-2.33333333e+00 -8.00000000e-01 -3.13333333e+00 -2.00000000e+00\n",
      " -2.53333333e+00 -3.55271368e-14 -8.66666667e-01  1.00000000e+00\n",
      "  6.00000000e-01 -6.66666667e-02  2.13333333e+00 -1.13333333e+00\n",
      " -3.26666667e+00 -2.93333333e+00 -2.86666667e+00 -3.33333333e-01\n",
      " -2.40000000e+00  1.33333333e-01 -2.66666667e-01 -2.00000000e+00\n",
      " -8.00000000e-01 -4.66666667e-01  1.73333333e+00 -1.40000000e+00\n",
      " -9.33333333e-01 -3.33333333e+00  2.00000000e-01  1.26666667e+00\n",
      " -2.26666667e+00 -4.00000000e-01 -3.55271368e-14 -3.55271368e-14\n",
      "  7.33333333e-01 -1.33333333e-01 -6.66666667e-02 -1.33333333e-01\n",
      " -2.20000000e+00 -1.13333333e+00 -3.55271368e-14 -2.80000000e+00\n",
      " -1.33333333e-01 -4.66666667e-01 -2.00000000e-01 -1.06666667e+00\n",
      " -4.00000000e-01 -1.46666667e+00 -3.13333333e+00 -8.00000000e-01\n",
      " -2.13333333e+00 -3.33333333e+00 -2.26666667e+00]\n",
      "\n",
      "5 3 4 [-3.55271368e-14 -3.55271368e-14 -3.55271368e-14 -3.55271368e-14\n",
      "  1.33333333e-01 -3.55271368e-14 -3.55271368e-14 -3.55271368e-14\n",
      "  6.66666667e-02 -3.55271368e-14 -3.55271368e-14 -3.55271368e-14\n",
      " -6.66666667e-02 -6.66666667e-02 -3.55271368e-14  1.33333333e-01\n",
      "  2.66666667e-01 -3.55271368e-14  1.33333333e-01  1.33333333e-01\n",
      " -3.55271368e-14 -3.55271368e-14 -3.55271368e-14 -3.55271368e-14\n",
      "  6.66666667e-02 -3.55271368e-14 -3.55271368e-14 -3.55271368e-14\n",
      " -3.55271368e-14 -3.55271368e-14 -3.55271368e-14 -3.55271368e-14\n",
      " -3.55271368e-14  1.33333333e-01  1.33333333e-01 -3.55271368e-14\n",
      " -3.55271368e-14 -3.55271368e-14 -3.55271368e-14 -3.55271368e-14\n",
      " -3.55271368e-14 -3.55271368e-14 -3.55271368e-14 -6.66666667e-02\n",
      "  6.66666667e-02  6.66666667e-02 -3.55271368e-14 -3.55271368e-14\n",
      " -3.55271368e-14 -1.40000000e+00 -3.55271368e-14 -3.55271368e-14\n",
      "  1.33333333e-01 -3.55271368e-14 -5.33333333e-01 -3.55271368e-14\n",
      " -4.66666667e-01 -1.33333333e-01 -3.55271368e-14]\n",
      "\n",
      "5 3 5 [ 2.00000000e-01  1.33333333e-01  1.33333333e-01  6.66666667e-02\n",
      "  1.33333333e-01  6.66666667e-01  1.33333333e-01  2.66666667e-01\n",
      "  6.66666667e-02  1.33333333e-01  1.33333333e-01  6.66666667e-02\n",
      " -3.55271368e-14  6.66666667e-02 -3.55271368e-14  1.33333333e-01\n",
      "  1.33333333e-01  1.33333333e-01  2.66666667e-01  2.00000000e-01\n",
      "  6.66666667e-02 -3.55271368e-14  6.66666667e-02  6.66666667e-02\n",
      "  6.66666667e-02 -3.55271368e-14 -3.55271368e-14  6.66666667e-02\n",
      "  7.33333333e-01  6.66666667e-01  2.26666667e+00  1.33333333e-01\n",
      "  6.66666667e-02  2.66666667e-01  1.33333333e-01  1.33333333e-01\n",
      " -3.55271368e-14  2.00000000e-01  1.33333333e-01  6.66666667e-02\n",
      "  1.06666667e+00  6.66666667e-02  1.33333333e-01 -3.55271368e-14\n",
      "  1.33333333e-01  6.66666667e-02  6.66666667e-02 -3.55271368e-14\n",
      " -3.55271368e-14 -2.86666667e+00  1.33333333e-01  6.66666667e-02\n",
      " -3.55271368e-14  2.66666667e-01 -2.66666667e-01 -3.26666667e+00\n",
      " -3.55271368e-14  1.33333333e-01 -3.55271368e-14]\n",
      "\n",
      "5 3 6 [ 6.66666667e-02 -1.60000000e+00  6.66666667e-02 -4.00000000e-01\n",
      "  5.33333333e-01 -8.00000000e-01  5.33333333e-01 -3.55271368e-14\n",
      "  6.00000000e-01 -2.66666667e-01  1.06666667e+00 -3.55271368e-14\n",
      " -1.33333333e-01  6.00000000e-01 -2.00000000e-01 -3.33333333e-01\n",
      " -2.66666667e-01  3.00000000e+00  1.73333333e+00 -3.55271368e-14\n",
      "  2.66666667e-01 -3.55271368e-14 -1.66666667e+00 -2.00000000e+00\n",
      "  1.33333333e-01  1.40000000e+00  1.53333333e+00 -3.13333333e+00\n",
      " -3.00000000e+00 -1.33333333e-01 -1.60000000e+00 -1.40000000e+00\n",
      " -4.66666667e-01 -3.33333333e+00 -2.00000000e+00 -4.00000000e-01\n",
      " -1.93333333e+00 -2.60000000e+00 -3.55271368e-14 -1.40000000e+00\n",
      "  1.33333333e-01 -6.66666667e-01 -2.33333333e+00 -2.00000000e-01\n",
      "  2.66666667e-01]\n",
      "\n",
      "5 4 5 [ 2.00000000e-01  6.66666667e-02  1.33333333e-01 -2.86666667e+00\n",
      "  4.00000000e-01 -6.66666667e-02  8.66666667e-01  1.33333333e-01\n",
      " -3.55271368e-14  1.33333333e-01 -2.66666667e-01  1.33333333e-01\n",
      "  2.00000000e-01 -3.55271368e-14 -3.55271368e-14  1.33333333e-01\n",
      " -3.55271368e-14 -1.33333333e-01  1.33333333e-01  2.66666667e-01\n",
      "  6.66666667e-02  1.33333333e-01 -1.33333333e-01 -3.55271368e-14\n",
      " -3.55271368e-14  2.66666667e-01 -3.55271368e-14  7.33333333e-01\n",
      " -3.55271368e-14  6.66666667e-01  3.33333333e-01 -3.55271368e-14\n",
      "  1.33333333e-01  6.66666667e-02  6.66666667e-02  6.66666667e-02\n",
      "  1.33333333e-01  6.66666667e-02 -3.55271368e-14 -2.66666667e-01\n",
      " -3.55271368e-14  2.66666667e-01 -3.55271368e-14  1.33333333e+00\n",
      " -3.55271368e-14  1.33333333e-01 -3.55271368e-14 -3.55271368e-14\n",
      " -3.55271368e-14 -3.55271368e-14 -3.55271368e-14 -3.55271368e-14\n",
      " -1.33333333e-01 -3.55271368e-14  2.00000000e-01  3.33333333e-01\n",
      " -3.55271368e-14  2.66666667e-01 -3.55271368e-14 -2.66666667e-01\n",
      " -3.55271368e-14 -3.55271368e-14 -3.55271368e-14 -1.33333333e-01\n",
      "  6.66666667e-02 -3.55271368e-14  2.00000000e-01  1.33333333e-01\n",
      " -3.55271368e-14]\n",
      "\n",
      "5 4 6 [-4.00000000e-01 -3.55271368e-14  4.00000000e-01  8.66666667e-01\n",
      " -8.00000000e-01 -1.20000000e+00 -3.00000000e+00 -1.73333333e+00\n",
      "  1.60000000e+00 -1.33333333e-01 -4.66666667e-01 -3.55271368e-14\n",
      "  1.33333333e-01 -2.66666667e-01  1.33333333e-01 -1.73333333e+00\n",
      " -1.33333333e-01 -3.26666667e+00 -3.55271368e-14  2.66666667e-01\n",
      "  1.33333333e-01 -3.20000000e+00  1.33333333e-01  2.66666667e-01\n",
      " -3.55271368e-14 -3.55271368e-14 -1.13333333e+00 -3.06666667e+00\n",
      "  1.33333333e-01 -3.55271368e-14 -3.55271368e-14 -3.55271368e-14\n",
      "  6.66666667e-02 -1.80000000e+00 -3.55271368e-14  1.33333333e-01\n",
      " -6.66666667e-02 -1.66666667e+00 -1.46666667e+00  6.66666667e-01\n",
      "  2.00000000e-01  2.66666667e-01  1.33333333e-01 -3.55271368e-14\n",
      " -2.00000000e-01 -6.66666667e-02 -7.33333333e-01 -2.66666667e-01\n",
      " -3.55271368e-14 -1.33333333e-01 -2.00000000e-01]\n",
      "\n",
      "5 5 6 [-1.13333333e+00 -3.33333333e+00 -4.00000000e-01 -1.06666667e+00\n",
      " -4.00000000e-01 -2.00000000e-01 -3.55271368e-14 -1.46666667e+00\n",
      " -1.20000000e+00  1.86666667e+00  6.66666667e-02 -1.73333333e+00\n",
      " -2.66666667e-01 -3.55271368e-14 -3.55271368e-14 -1.33333333e-01\n",
      " -3.55271368e-14 -2.66666667e-01 -2.00000000e+00 -1.26666667e+00\n",
      " -1.33333333e-01 -2.53333333e+00 -4.66666667e-01 -2.66666667e-01\n",
      " -4.66666667e-01 -3.13333333e+00 -2.86666667e+00 -3.06666667e+00\n",
      " -2.66666667e-01 -2.20000000e+00 -3.13333333e+00 -1.00000000e+00\n",
      "  1.33333333e-01 -1.60000000e+00 -1.33333333e+00 -2.13333333e+00\n",
      " -3.55271368e-14 -3.26666667e+00 -2.66666667e-01 -2.13333333e+00\n",
      " -2.00000000e+00 -3.55271368e-14  4.00000000e-01 -3.55271368e-14\n",
      " -2.66666667e-01 -6.66666667e-02 -2.66666667e-01  6.66666667e-02\n",
      " -1.33333333e-01 -2.66666667e-01  1.33333333e-01 -2.00000000e-01]\n",
      "\n"
     ]
    }
   ],
   "source": [
    "    "
   ]
  },
  {
   "cell_type": "code",
   "execution_count": 210,
   "metadata": {},
   "outputs": [],
   "source": [
    "from mpl_toolkits.axes_grid1 import make_axes_locatable\n",
    "\n",
    "def diagonalize(data):\n",
    "    for k in range(data.shape[0]):\n",
    "        for p in range(0,k,1):\n",
    "            data[k,p]=np.nan\n",
    "    return data\n",
    "            \n",
    "fig = plt.figure(figsize=(12,12))\n",
    "ax=plt.subplot(111)\n",
    "data = correlated[:-1,:-1].astype('float32')\n",
    "data = diagonalize(data)\n",
    "\n",
    "\n",
    "data2 = uncorrelated[:-1,:-1].astype('float32')\n",
    "data2 = diagonalize(data2)\n",
    "\n",
    "im = ax.imshow(data/(data+data2), extent = [0,6,0,6])\n",
    "\n",
    "# create an axes on the right side of ax. The width of cax will be 5%\n",
    "# of ax and the padding between cax and ax will be fixed at 0.05 inch.\n",
    "divider = make_axes_locatable(ax)\n",
    "cax = divider.append_axes(\"right\", size=\"5%\", pad=0.05)\n",
    "\n",
    "plt.colorbar(im, cax=cax)\n",
    "\n",
    "ax.set_xticks(np.arange(6)+0.5)\n",
    "ax.set_xticklabels(labels[1:7],rotation=45,fontsize=20)\n",
    "\n",
    "ax.set_yticks(np.arange(6)+0.5)\n",
    "ax.set_yticklabels(labels[0:6],rotation=0,fontsize=20)\n",
    "\n",
    "\n",
    "\n",
    "# # \n",
    "# ax=plt.subplot(122)\n",
    "# data = uncorrelated[:-1,:-1].astype('float32')\n",
    "# data = diagonalize(data)\n",
    "# im = ax.imshow(data, extent = [0,6,0,6])\n",
    "\n",
    "# # create an axes on the right side of ax. The width of cax will be 5%\n",
    "# # of ax and the padding between cax and ax will be fixed at 0.05 inch.\n",
    "# divider = make_axes_locatable(ax)\n",
    "# cax = divider.append_axes(\"right\", size=\"5%\", pad=0.05)\n",
    "\n",
    "# ax.set_xticks(np.arange(6)+0.5)\n",
    "# ax.set_xticklabels(labels[1:7],rotation=45,fontsize=12)\n",
    "\n",
    "\n",
    "#ax.xaxis.set_xticks(xticks)\n",
    "\n",
    "plt.colorbar(im, cax=cax)\n",
    "\n",
    "if True:\n",
    "    plt.savefig('/home/cat/correlated_bodyparts_matrices.png',dpi=100)\n",
    "    plt.close()\n",
    "else:\n",
    "    plt.show() \n",
    "    "
   ]
  },
  {
   "cell_type": "code",
   "execution_count": 202,
   "metadata": {},
   "outputs": [
    {
     "name": "stdout",
     "output_type": "stream",
     "text": [
      "0 23\n"
     ]
    }
   ],
   "source": [
    "fig = plt.figure()\n",
    "vmin = np.min(rejected)\n",
    "vmax = np.max(rejected)\n",
    "print (vmin,vmax)\n",
    "plt.imshow(rejected)\n",
    "plt.show()"
   ]
  },
  {
   "cell_type": "code",
   "execution_count": null,
   "metadata": {},
   "outputs": [],
   "source": [
    "fname = '/home/cat/concatenated_trials.npy'\n",
    "svm  = PredictSVMTime()\n",
    "svm.fname = fname"
   ]
  },
  {
   "cell_type": "code",
   "execution_count": 29,
   "metadata": {},
   "outputs": [
    {
     "name": "stdout",
     "output_type": "stream",
     "text": [
      "X_l:  (196, 900, 20)\n",
      "X_l:  (22, 900, 20)\n",
      "X_l:  (196, 900, 20)\n",
      "X_l:  (22, 900, 20)\n",
      "X_l:  (196, 900, 20)\n",
      "X_l:  (22, 900, 20)\n",
      "X_l:  (196, 900, 20)\n",
      "X_l:  (22, 900, 20)\n",
      "X_l:  (196, 900, 20)\n",
      "X_l:  (22, 900, 20)\n",
      "X_l:  (196, 900, 20)\n",
      "X_l:  (22, 900, 20)\n",
      "X_l:  (196, 900, 20)\n",
      "X_l:  (22, 900, 20)\n",
      "X_l:  (196, 900, 20)\n",
      "X_l:  (22, 900, 20)\n",
      "X_l:  (197, 900, 20)\n",
      "X_l:  (21, 900, 20)\n",
      "X_l:  (197, 900, 20)\n",
      "X_l:  (21, 900, 20)\n"
     ]
    }
   ],
   "source": [
    "svm.process_data2()"
   ]
  },
  {
   "cell_type": "code",
   "execution_count": 30,
   "metadata": {},
   "outputs": [
    {
     "name": "stdout",
     "output_type": "stream",
     "text": [
      "(10, 30, 30)\n"
     ]
    }
   ],
   "source": [
    "data = np.load('/home/cat/concatenated_res.npz')\n",
    "\n",
    "cf = data['conf_matrix_ten']\n",
    "print (cf.shape)"
   ]
  },
  {
   "cell_type": "code",
   "execution_count": 22,
   "metadata": {},
   "outputs": [],
   "source": [
    "res = cf.mean(0)\n",
    "\n",
    "plt.imshow(res)\n",
    "\n",
    "plt.show()"
   ]
  },
  {
   "cell_type": "code",
   "execution_count": null,
   "metadata": {},
   "outputs": [],
   "source": []
  },
  {
   "cell_type": "code",
   "execution_count": null,
   "metadata": {},
   "outputs": [],
   "source": []
  },
  {
   "cell_type": "code",
   "execution_count": null,
   "metadata": {},
   "outputs": [],
   "source": []
  },
  {
   "cell_type": "code",
   "execution_count": null,
   "metadata": {},
   "outputs": [],
   "source": []
  },
  {
   "cell_type": "code",
   "execution_count": null,
   "metadata": {},
   "outputs": [],
   "source": []
  },
  {
   "cell_type": "code",
   "execution_count": null,
   "metadata": {},
   "outputs": [],
   "source": []
  },
  {
   "cell_type": "code",
   "execution_count": null,
   "metadata": {},
   "outputs": [],
   "source": []
  },
  {
   "cell_type": "code",
   "execution_count": null,
   "metadata": {},
   "outputs": [],
   "source": []
  },
  {
   "cell_type": "code",
   "execution_count": null,
   "metadata": {},
   "outputs": [],
   "source": [
    "######################################################\n",
    "##### PREDICT SVM DECISION CHOICE SINGLE SESSION #####\n",
    "######################################################\n",
    "\n",
    "# select animal names\n",
    "names = ['IA1','IA2','IA3','IJ1','IJ2','AQ2'] # \"AR4\" and other datasets could work\n",
    "#names = ['IA1']\n",
    "\n",
    "# \n",
    "svm = PredictSVMChoice()\n",
    "svm.root_dir = data_dir\n",
    "svm.random_flag = False  # shuffle data to show baseline\n",
    "svm.verbose = True\n",
    "\n",
    "# window parameters\n",
    "svm.window = 15              # prediction window, backwards in time in seconds\n",
    "svm.lockout_window = 10      # time for locking out other pulls; OPTIONAL\n",
    "svm.sliding_window = 30      # number of frames in sliding window for SVM steps; usually 1 sec = 30 frames\n",
    "svm.lockout = False\n",
    "\n",
    "# movement related params\n",
    "svm.no_movement = 3          # number of seconds of quiescence before behavior initiation; parameter comes from\n",
    "                             #     the \"generate_movements_quiescent_periods\" notebook in behavior_analysis\n",
    "svm.random_lockout = 3       # number of seconds of buffer for selecting random trials for control\n",
    "\n",
    "# pca params\n",
    "svm.pca_flag = True\n",
    "svm.pca_var = 0.95      # this is total amount of var explained to be used - NOT USED FOR NOW\n",
    "svm.all_comps = 30      # this is the total # components saved\n",
    "svm.nComp = 30          # this is the total # of comps to be used for decoding\n",
    "            \n",
    "# svm parameters\n",
    "svm.min_trials = 10     # minimum number of trials to run SVM\n",
    "svm.xvalidation = 10    # KFold xvalidation step\n",
    "svm.data_split = 0.8    # split 80/20 data for training  NOT USED WITH XVALIDATION WHICH SPLITS 90/10\n",
    "svm.method = 'sigmoid'  # method used for computing SVM\n",
    "\n",
    "# run-time parameters\n",
    "svm.parallel = True\n",
    "svm.n_cores = svm.xvalidation\n",
    "svm.overwrite = False\n",
    "\n",
    "## session info\n",
    "# session_ids = ['Mar1_', 'Mar2_', 'Mar3_', 'Feb29', 'Mar7_']\n",
    "# svm.session_id = 'all'\n",
    "svm.session_id = 'all'\n",
    "\n",
    "# \n",
    "# codes = ['left_paw','right_paw','jaw']\n",
    "labels = ['left_paw', \n",
    "          'right_paw',\n",
    "          'nose',\n",
    "          'jaw',\n",
    "          'right_ear',\n",
    "          'tongue',\n",
    "          'lever',\n",
    "          'all',\n",
    "          'code_04',\n",
    "          'code_04_lockout']\n",
    "\n",
    "svm.labels = labels\n",
    "svm.code = '_whole_stack'\n",
    "\n",
    "# \n",
    "for name in names:\n",
    "    svm.animal_id = name\n",
    "\n",
    "    #\n",
    "    svm.predict_whole_stack()   # this requires PCA to be run on the entire imaging session first: 400000, 128, 128\n",
    "                                        # need also movement initiations \n",
    "                                        # need also shift between initiations and ca imaging\n",
    "                                # This bypasses the need to compute [Ca] stms for each behavior/trial\n"
   ]
  },
  {
   "cell_type": "code",
   "execution_count": null,
   "metadata": {},
   "outputs": [],
   "source": []
  },
  {
   "cell_type": "code",
   "execution_count": null,
   "metadata": {},
   "outputs": [],
   "source": []
  },
  {
   "cell_type": "code",
   "execution_count": null,
   "metadata": {},
   "outputs": [],
   "source": []
  },
  {
   "cell_type": "code",
   "execution_count": null,
   "metadata": {},
   "outputs": [],
   "source": []
  },
  {
   "cell_type": "code",
   "execution_count": null,
   "metadata": {},
   "outputs": [],
   "source": []
  },
  {
   "cell_type": "code",
   "execution_count": null,
   "metadata": {},
   "outputs": [],
   "source": []
  },
  {
   "cell_type": "code",
   "execution_count": null,
   "metadata": {},
   "outputs": [],
   "source": []
  },
  {
   "cell_type": "code",
   "execution_count": null,
   "metadata": {},
   "outputs": [],
   "source": []
  },
  {
   "cell_type": "code",
   "execution_count": null,
   "metadata": {},
   "outputs": [],
   "source": []
  },
  {
   "cell_type": "code",
   "execution_count": null,
   "metadata": {},
   "outputs": [],
   "source": []
  },
  {
   "cell_type": "code",
   "execution_count": null,
   "metadata": {},
   "outputs": [],
   "source": []
  },
  {
   "cell_type": "code",
   "execution_count": 5,
   "metadata": {},
   "outputs": [
    {
     "name": "stderr",
     "output_type": "stream",
     "text": [
      "<ipython-input-5-d794d1f35346>:9: VisibleDeprecationWarning: Creating an ndarray from ragged nested sequences (which is a list-or-tuple of lists-or-tuples-or ndarrays with different lengths or shapes) is deprecated. If you meant to do this, you must specify 'dtype=object' when creating the ndarray.\n",
      "  accuracy = np.array(pd.read_pickle(fname))\n"
     ]
    },
    {
     "name": "stdout",
     "output_type": "stream",
     "text": [
      "(870, 10)\n",
      "(870, 10)\n",
      "(870, 10)\n",
      "(870, 10)\n",
      "(870, 10)\n",
      "(870, 10)\n",
      "(0,)\n",
      "(870, 10)\n",
      "(870, 10)\n",
      "(870, 10)\n"
     ]
    }
   ],
   "source": [
    "##############################\n",
    "##### VISUALIZE A RESULT #####\n",
    "##############################\n",
    "\n",
    "import pandas as pd\n",
    "\n",
    "#\n",
    "fname = '/media/cat/4TBSSD/yuki/IA1/SVM_Scores/SVM_Scores_IA1pm_Feb2_30Hz_whole_stack_pca30Components_window15sec_Xvalid10_Slidewindow30Frames_accuracy.pk'\n",
    "accuracy = np.array(pd.read_pickle(fname))\n",
    "\n",
    "# \n",
    "fig = plt.figure()\n",
    "for k in range(len(accuracy)):\n",
    "    ax=plt.subplot(2,5,k+1)\n",
    "    acc = np.array(accuracy[k])\n",
    "    print (acc.shape)\n",
    "\n",
    "    if acc.shape[0]==0:\n",
    "        continue\n",
    "    t = np.arange(acc.shape[0])/30-14\n",
    "    \n",
    "    # \n",
    "    mean = acc.mean(1)\n",
    "    plt.plot(t,mean,label=labels[k])\n",
    "    std = np.std(acc)\n",
    "    ax.fill_between(t, mean+std,\n",
    "                   mean-std,\n",
    "                  alpha=.2)\n",
    "\n",
    "    # \n",
    "    plt.xlim(-14,15)\n",
    "    plt.xlim(-10,10)\n",
    "    plt.ylim(0.4,1.0)\n",
    "    plt.plot([-14,15],[0.5,0.5],'--',c='black')\n",
    "    \n",
    "    plt.legend()\n",
    "plt.show()"
   ]
  },
  {
   "cell_type": "code",
   "execution_count": 12,
   "metadata": {},
   "outputs": [
    {
     "name": "stdout",
     "output_type": "stream",
     "text": [
      "(71, 15, 901)\n"
     ]
    }
   ],
   "source": [
    "# ######################################################\n",
    "# ######## SET SHIFTS FOR LEVER PULL AND DLC DATA ######\n",
    "# ######################################################\n",
    "\n",
    "# # SET SHIFT FOR LEVER PULL\n",
    "# # Find blue light on/off\n",
    "# blue_light_threshold = 400  #Intensity threshold; when this value is reached - imaging light was turned on\n",
    "# start_blue = 0; end_blue = len(aligned_images)\n",
    "\n",
    "# if np.average(aligned_images[0])> blue_light_threshold:    #Case #1: imaging starts with light on; need to remove end chunk; though likely bad recording\n",
    "#     for k in range(len(aligned_images)):\n",
    "#         if np.average(aligned_images[k])< blue_light_threshold:\n",
    "#             #self.aligned_images = self.aligned_images[k:]\n",
    "#             end_blue = k\n",
    "#             break\n",
    "# else:                                                           #Case #2: start with light off; remove starting and end chunks;\n",
    "#     #Find first light on\n",
    "#     for k in range(len(aligned_images)):\n",
    "#         if np.average(aligned_images[k])> blue_light_threshold:\n",
    "#             start_blue = k\n",
    "#             break\n",
    "\n",
    "#     #Find light off - count backwards from end of imaging data\n",
    "#     for k in range(len(aligned_images)-1,0,-1):\n",
    "#         if np.average(aligned_images[k])> blue_light_threshold:\n",
    "#             end_blue= k\n",
    "#             break\n",
    "\n",
    "# #\n",
    "# filtered_filename = images_file[:-4]+'_'+selected_dff_filter+'_'+str(low_cut)+'hz_'+str(high_cut)+'hz.npy'\n",
    "# if os.path.exists(filtered_filename):\n",
    "#     try:\n",
    "#         aligned_images = np.load(filtered_filename, allow_pickle=True)\n",
    "#     except:\n",
    "#         print (\"aligned filtered images corrupt... recomputing: \", filtered_filename)\n",
    "#         self.filter_data(root_dir, recording)\n",
    "#         aligned_images = np.load(filtered_filename)\n",
    "# else:\n",
    "#     print (\"aligned filtered images missing... recomputing: \", filtered_filename)\n",
    "#     self.filter_data(root_dir, recording)\n",
    "#     aligned_images = np.load(filtered_filename)\n",
    "\n",
    "# aligned_images = aligned_images[start_blue:end_blue]\n",
    "\n",
    "\n",
    "        \n",
    "        "
   ]
  },
  {
   "cell_type": "code",
   "execution_count": null,
   "metadata": {},
   "outputs": [],
   "source": []
  },
  {
   "cell_type": "code",
   "execution_count": null,
   "metadata": {},
   "outputs": [],
   "source": []
  },
  {
   "cell_type": "code",
   "execution_count": null,
   "metadata": {},
   "outputs": [],
   "source": []
  },
  {
   "cell_type": "code",
   "execution_count": null,
   "metadata": {},
   "outputs": [],
   "source": []
  },
  {
   "cell_type": "code",
   "execution_count": null,
   "metadata": {},
   "outputs": [],
   "source": []
  },
  {
   "cell_type": "code",
   "execution_count": null,
   "metadata": {},
   "outputs": [],
   "source": []
  },
  {
   "cell_type": "code",
   "execution_count": null,
   "metadata": {},
   "outputs": [],
   "source": []
  },
  {
   "cell_type": "code",
   "execution_count": null,
   "metadata": {},
   "outputs": [],
   "source": []
  },
  {
   "cell_type": "code",
   "execution_count": null,
   "metadata": {},
   "outputs": [],
   "source": []
  },
  {
   "cell_type": "code",
   "execution_count": null,
   "metadata": {},
   "outputs": [],
   "source": []
  },
  {
   "cell_type": "code",
   "execution_count": null,
   "metadata": {},
   "outputs": [],
   "source": []
  },
  {
   "cell_type": "code",
   "execution_count": null,
   "metadata": {},
   "outputs": [],
   "source": []
  },
  {
   "cell_type": "code",
   "execution_count": null,
   "metadata": {},
   "outputs": [],
   "source": []
  },
  {
   "cell_type": "code",
   "execution_count": 3,
   "metadata": {},
   "outputs": [
    {
     "ename": "FileNotFoundError",
     "evalue": "[Errno 2] No such file or directory: '/mnt/f418adc0-4ff9-410c-93c9-d6d21a1e9c35/yuki/IA1/SVM_Scores/IA1pm_Mar3_30Hz/SVM_Scores_IA1pm_Mar3_30Hz_code_04_trial_ROItimeCourses_15sec_pca_0.95_Xvalid100_Slidewindow30.npy'",
     "output_type": "error",
     "traceback": [
      "\u001b[0;31m---------------------------------------------------------------------------\u001b[0m",
      "\u001b[0;31mFileNotFoundError\u001b[0m                         Traceback (most recent call last)",
      "\u001b[0;32m<ipython-input-3-b112cd831b88>\u001b[0m in \u001b[0;36m<module>\u001b[0;34m\u001b[0m\n\u001b[1;32m     20\u001b[0m \u001b[0mfig\u001b[0m\u001b[0;34m=\u001b[0m\u001b[0mplt\u001b[0m\u001b[0;34m.\u001b[0m\u001b[0mfigure\u001b[0m\u001b[0;34m(\u001b[0m\u001b[0;34m)\u001b[0m\u001b[0;34m\u001b[0m\u001b[0;34m\u001b[0m\u001b[0m\n\u001b[1;32m     21\u001b[0m \u001b[0;32mfor\u001b[0m \u001b[0mfname\u001b[0m \u001b[0;32min\u001b[0m \u001b[0mfnames\u001b[0m\u001b[0;34m:\u001b[0m\u001b[0;34m\u001b[0m\u001b[0;34m\u001b[0m\u001b[0m\n\u001b[0;32m---> 22\u001b[0;31m     \u001b[0mdata\u001b[0m \u001b[0;34m=\u001b[0m \u001b[0mnp\u001b[0m\u001b[0;34m.\u001b[0m\u001b[0mload\u001b[0m\u001b[0;34m(\u001b[0m\u001b[0mfname\u001b[0m\u001b[0;34m)\u001b[0m\u001b[0;34m.\u001b[0m\u001b[0mT\u001b[0m\u001b[0;34m\u001b[0m\u001b[0;34m\u001b[0m\u001b[0m\n\u001b[0m\u001b[1;32m     23\u001b[0m \u001b[0;34m\u001b[0m\u001b[0m\n\u001b[1;32m     24\u001b[0m     \u001b[0msd\u001b[0m \u001b[0;34m=\u001b[0m \u001b[0mnp\u001b[0m\u001b[0;34m.\u001b[0m\u001b[0mwhere\u001b[0m\u001b[0;34m(\u001b[0m\u001b[0mdata\u001b[0m\u001b[0;34m>\u001b[0m\u001b[0;36m1\u001b[0m\u001b[0;34m)\u001b[0m\u001b[0;34m\u001b[0m\u001b[0;34m\u001b[0m\u001b[0m\n",
      "\u001b[0;32m/media/cat/4TBSSD/anaconda3/envs/wide/lib/python3.8/site-packages/numpy/lib/npyio.py\u001b[0m in \u001b[0;36mload\u001b[0;34m(file, mmap_mode, allow_pickle, fix_imports, encoding)\u001b[0m\n\u001b[1;32m    415\u001b[0m             \u001b[0mown_fid\u001b[0m \u001b[0;34m=\u001b[0m \u001b[0;32mFalse\u001b[0m\u001b[0;34m\u001b[0m\u001b[0;34m\u001b[0m\u001b[0m\n\u001b[1;32m    416\u001b[0m         \u001b[0;32melse\u001b[0m\u001b[0;34m:\u001b[0m\u001b[0;34m\u001b[0m\u001b[0;34m\u001b[0m\u001b[0m\n\u001b[0;32m--> 417\u001b[0;31m             \u001b[0mfid\u001b[0m \u001b[0;34m=\u001b[0m \u001b[0mstack\u001b[0m\u001b[0;34m.\u001b[0m\u001b[0menter_context\u001b[0m\u001b[0;34m(\u001b[0m\u001b[0mopen\u001b[0m\u001b[0;34m(\u001b[0m\u001b[0mos_fspath\u001b[0m\u001b[0;34m(\u001b[0m\u001b[0mfile\u001b[0m\u001b[0;34m)\u001b[0m\u001b[0;34m,\u001b[0m \u001b[0;34m\"rb\"\u001b[0m\u001b[0;34m)\u001b[0m\u001b[0;34m)\u001b[0m\u001b[0;34m\u001b[0m\u001b[0;34m\u001b[0m\u001b[0m\n\u001b[0m\u001b[1;32m    418\u001b[0m             \u001b[0mown_fid\u001b[0m \u001b[0;34m=\u001b[0m \u001b[0;32mTrue\u001b[0m\u001b[0;34m\u001b[0m\u001b[0;34m\u001b[0m\u001b[0m\n\u001b[1;32m    419\u001b[0m \u001b[0;34m\u001b[0m\u001b[0m\n",
      "\u001b[0;31mFileNotFoundError\u001b[0m: [Errno 2] No such file or directory: '/mnt/f418adc0-4ff9-410c-93c9-d6d21a1e9c35/yuki/IA1/SVM_Scores/IA1pm_Mar3_30Hz/SVM_Scores_IA1pm_Mar3_30Hz_code_04_trial_ROItimeCourses_15sec_pca_0.95_Xvalid100_Slidewindow30.npy'"
     ]
    }
   ],
   "source": [
    "#############################################################\n",
    "##################VISUALIZe ################\n",
    "#############################################################\n",
    "data=[]\n",
    "#data.append(np.load('/mnt/f418adc0-4ff9-410c-93c9-d6d21a1e9c35/yuki/IJ2/SVM_Scores/SVM_Scores_IJ2pm_Mar3_30Hz_code_04_trial_ROItimeCourses_15sec_pca_0.95_10xvalid.npy').T)\n",
    "#data.append(np.load('/mnt/f418adc0-4ff9-410c-93c9-d6d21a1e9c35/yuki/IJ2/SVM_Scores/SVM_Scores_IJ2pm_Mar3_30Hz_code_04_trial_ROItimeCourses_15sec_pca_0.95_50xvalid.npy').T)\n",
    "#data.append(np.load('/mnt/f418adc0-4ff9-410c-93c9-d6d21a1e9c35/yuki/IJ2/SVM_Scores/SVM_Scores_IJ2pm_Mar3_30Hz_code_04_trial_ROItimeCourses_15sec_pca_0.95_100xvalid.npy').T)\n",
    "\n",
    "fnames = [\n",
    "    #'/mnt/f418adc0-4ff9-410c-93c9-d6d21a1e9c35/yuki/IA1/SVM_Scores/IA1pm_Mar3_30Hz/SVM_Scores_IA1pm_Mar3_30Hz_code_04_trial_ROItimeCourses_15sec_pca_0.95_Xvalid10_Slidewindow30.npy',\n",
    "    '/mnt/f418adc0-4ff9-410c-93c9-d6d21a1e9c35/yuki/IA1/SVM_Scores/IA1pm_Mar3_30Hz/SVM_Scores_IA1pm_Mar3_30Hz_code_04_trial_ROItimeCourses_15sec_pca_0.95_Xvalid100_Slidewindow30.npy',\n",
    "    '/mnt/f418adc0-4ff9-410c-93c9-d6d21a1e9c35/yuki/IA1/SVM_Scores/IA1pm_Mar3_30Hz/SVM_Scores_IA1pm_Mar3_30Hz_code_04_trial_ROItimeCourses_15sec_pca_0.95_Xvalid100_Slidewindow90.npy',\n",
    "    #     '/mnt/f418adc0-4ff9-410c-93c9-d6d21a1e9c35/yuki/IA1/SVM_Scores/IA1pm_Mar3_30Hz/SVM_Scores_IA1pm_Mar3_30Hz_code_04_trial_ROItimeCourses_15sec_pca_0.95_Xvalid20_Slidewindow30.npy'\n",
    "    #'/mnt/f418adc0-4ff9-410c-93c9-d6d21a1e9c35/yuki/IA1/SVM_Scores/IA1pm_Mar3_30Hz/SVM_Scores_IA1pm_Mar3_30Hz_code_04_trial_ROItimeCourses_15sec_pca_0.95_Xvalid100_Slidewindow10.npy'\n",
    "\n",
    "]\n",
    "# \n",
    "clrs=['black','blue','red']\n",
    "ctr=0\n",
    "fig=plt.figure()\n",
    "for fname in fnames:\n",
    "    data = np.load(fname).T\n",
    "    \n",
    "    sd = np.where(data>1)\n",
    "    print (\"sd: \", sd)\n",
    "    \n",
    "    idx = fname.find('Xvalid')\n",
    "    idx2 = fname[idx:].find(\"_\")\n",
    "    xvalid = int(fname[idx+6:idx+idx2])\n",
    "    print (\"xvalid: \", xvalid)\n",
    "    \n",
    "    idx = fname.find('Slidewindow')\n",
    "    idx2 = fname[idx:].find(\".npy\")\n",
    "    swindow = int(fname[idx+11:idx+idx2])\n",
    "    print (\"swindow: \", swindow)\n",
    "    \n",
    "    \n",
    "    \n",
    "    #ax=plt.subplot(2,2,k+1)\n",
    "    mean = data.mean(1)\n",
    "    std = np.std(data,1)\n",
    "    t=(np.arange(mean.shape[0]))/30-15.+swindow/30\n",
    "    plt.plot(t,mean,c=clrs[ctr])\n",
    "    plt.fill_between(t,mean+std, mean-std, color=clrs[ctr], alpha=.2,\n",
    "                    label=\"xvalid: \"+str(xvalid)+\n",
    "                          '  swindow: '+str(swindow),\n",
    "                    )\n",
    "    \n",
    "    plt.plot([t[0],t[-1]],[0.5,0.5],'--',c='black')\n",
    "    plt.legend()\n",
    "    plt.ylim(0.3,1.0)\n",
    "    ctr+=1\n",
    "plt.xlim(right=0)\n",
    "plt.show()"
   ]
  },
  {
   "cell_type": "code",
   "execution_count": null,
   "metadata": {},
   "outputs": [],
   "source": []
  },
  {
   "cell_type": "code",
   "execution_count": null,
   "metadata": {},
   "outputs": [],
   "source": []
  },
  {
   "cell_type": "code",
   "execution_count": null,
   "metadata": {},
   "outputs": [],
   "source": []
  },
  {
   "cell_type": "code",
   "execution_count": null,
   "metadata": {},
   "outputs": [],
   "source": []
  },
  {
   "cell_type": "code",
   "execution_count": null,
   "metadata": {},
   "outputs": [],
   "source": []
  },
  {
   "cell_type": "code",
   "execution_count": null,
   "metadata": {},
   "outputs": [],
   "source": []
  },
  {
   "cell_type": "code",
   "execution_count": 4,
   "metadata": {
    "scrolled": true
   },
   "outputs": [
    {
     "name": "stderr",
     "output_type": "stream",
     "text": [
      "\r",
      "  0%|          | 0/71 [00:00<?, ?it/s]"
     ]
    },
    {
     "name": "stdout",
     "output_type": "stream",
     "text": [
      " too few trials... skipping\n"
     ]
    },
    {
     "name": "stderr",
     "output_type": "stream",
     "text": [
      "  4%|▍         | 3/71 [00:01<00:27,  2.46it/s]"
     ]
    },
    {
     "name": "stdout",
     "output_type": "stream",
     "text": [
      "no such filename, skipping\n",
      " too few trials... skipping\n"
     ]
    },
    {
     "name": "stderr",
     "output_type": "stream",
     "text": [
      " 14%|█▍        | 10/71 [00:02<00:13,  4.64it/s]"
     ]
    },
    {
     "name": "stdout",
     "output_type": "stream",
     "text": [
      " too few trials... skipping\n"
     ]
    },
    {
     "name": "stderr",
     "output_type": "stream",
     "text": [
      " 20%|█▉        | 14/71 [00:05<00:33,  1.72it/s]"
     ]
    },
    {
     "name": "stdout",
     "output_type": "stream",
     "text": [
      " too few trials... skipping\n"
     ]
    },
    {
     "name": "stderr",
     "output_type": "stream",
     "text": [
      "\r",
      " 23%|██▎       | 16/71 [00:07<00:37,  1.45it/s]"
     ]
    },
    {
     "name": "stdout",
     "output_type": "stream",
     "text": [
      "no such filename, skipping\n",
      "no such filename, skipping\n"
     ]
    },
    {
     "name": "stderr",
     "output_type": "stream",
     "text": [
      "\r",
      " 28%|██▊       | 20/71 [00:07<00:20,  2.55it/s]"
     ]
    },
    {
     "name": "stdout",
     "output_type": "stream",
     "text": [
      " too few trials... skipping\n"
     ]
    },
    {
     "name": "stderr",
     "output_type": "stream",
     "text": [
      " 35%|███▌      | 25/71 [00:09<00:14,  3.12it/s]"
     ]
    },
    {
     "name": "stdout",
     "output_type": "stream",
     "text": [
      " too few trials... skipping\n"
     ]
    },
    {
     "name": "stderr",
     "output_type": "stream",
     "text": [
      " 46%|████▋     | 33/71 [00:10<00:07,  4.77it/s]"
     ]
    },
    {
     "name": "stdout",
     "output_type": "stream",
     "text": [
      " too few trials... skipping\n"
     ]
    },
    {
     "name": "stderr",
     "output_type": "stream",
     "text": [
      " 54%|█████▎    | 38/71 [00:11<00:03,  8.80it/s]"
     ]
    },
    {
     "name": "stdout",
     "output_type": "stream",
     "text": [
      " too few trials... skipping\n"
     ]
    },
    {
     "name": "stderr",
     "output_type": "stream",
     "text": [
      " 63%|██████▎   | 45/71 [00:12<00:02, 10.79it/s]"
     ]
    },
    {
     "name": "stdout",
     "output_type": "stream",
     "text": [
      "no such filename, skipping\n",
      " too few trials... skipping\n",
      " too few trials... skipping\n"
     ]
    },
    {
     "name": "stderr",
     "output_type": "stream",
     "text": [
      " 75%|███████▍  | 53/71 [00:13<00:04,  3.99it/s]"
     ]
    },
    {
     "name": "stdout",
     "output_type": "stream",
     "text": [
      "no such filename, skipping\n"
     ]
    },
    {
     "name": "stderr",
     "output_type": "stream",
     "text": [
      " 83%|████████▎ | 59/71 [00:14<00:02,  5.93it/s]"
     ]
    },
    {
     "name": "stdout",
     "output_type": "stream",
     "text": [
      "no such filename, skipping\n"
     ]
    },
    {
     "name": "stderr",
     "output_type": "stream",
     "text": [
      " 93%|█████████▎| 66/71 [00:16<00:01,  3.62it/s]"
     ]
    },
    {
     "name": "stdout",
     "output_type": "stream",
     "text": [
      " too few trials... skipping\n",
      " too few trials... skipping\n"
     ]
    },
    {
     "name": "stderr",
     "output_type": "stream",
     "text": [
      "100%|██████████| 71/71 [00:17<00:00,  4.17it/s]\n",
      "  0%|          | 0/44 [00:00<?, ?it/s]"
     ]
    },
    {
     "name": "stdout",
     "output_type": "stream",
     "text": [
      "no such filename, skipping\n",
      " too few trials... skipping\n"
     ]
    },
    {
     "name": "stderr",
     "output_type": "stream",
     "text": [
      " 20%|██        | 9/44 [00:03<00:11,  3.07it/s]"
     ]
    },
    {
     "name": "stdout",
     "output_type": "stream",
     "text": [
      " too few trials... skipping\n",
      " too few trials... skipping\n",
      " too few trials... skipping\n",
      "no such filename, skipping\n"
     ]
    },
    {
     "name": "stderr",
     "output_type": "stream",
     "text": [
      " 34%|███▍      | 15/44 [00:06<00:13,  2.21it/s]"
     ]
    },
    {
     "name": "stdout",
     "output_type": "stream",
     "text": [
      " too few trials... skipping\n",
      "no such filename, skipping\n",
      "no such filename, skipping\n"
     ]
    },
    {
     "name": "stderr",
     "output_type": "stream",
     "text": [
      " 61%|██████▏   | 27/44 [00:10<00:05,  2.90it/s]"
     ]
    },
    {
     "name": "stdout",
     "output_type": "stream",
     "text": [
      "no such filename, skipping\n"
     ]
    },
    {
     "name": "stderr",
     "output_type": "stream",
     "text": [
      " 84%|████████▍ | 37/44 [00:24<00:07,  1.08s/it]"
     ]
    },
    {
     "name": "stdout",
     "output_type": "stream",
     "text": [
      " too few trials... skipping\n"
     ]
    },
    {
     "name": "stderr",
     "output_type": "stream",
     "text": [
      "100%|██████████| 44/44 [00:30<00:00,  1.46it/s]\n",
      " 16%|█▌        | 7/44 [00:04<00:17,  2.11it/s]"
     ]
    },
    {
     "name": "stdout",
     "output_type": "stream",
     "text": [
      " too few trials... skipping\n"
     ]
    },
    {
     "name": "stderr",
     "output_type": "stream",
     "text": [
      " 32%|███▏      | 14/44 [00:09<00:14,  2.04it/s]"
     ]
    },
    {
     "name": "stdout",
     "output_type": "stream",
     "text": [
      "no such filename, skipping\n",
      "no such filename, skipping\n"
     ]
    },
    {
     "name": "stderr",
     "output_type": "stream",
     "text": [
      "100%|██████████| 44/44 [00:53<00:00,  1.21s/it]\n",
      " 34%|███▍      | 15/44 [00:11<00:32,  1.11s/it]"
     ]
    },
    {
     "name": "stdout",
     "output_type": "stream",
     "text": [
      "no such filename, skipping\n",
      "no such filename, skipping\n"
     ]
    },
    {
     "name": "stderr",
     "output_type": "stream",
     "text": [
      " 55%|█████▍    | 24/44 [00:24<00:41,  2.10s/it]"
     ]
    },
    {
     "name": "stdout",
     "output_type": "stream",
     "text": [
      " too few trials... skipping\n"
     ]
    },
    {
     "name": "stderr",
     "output_type": "stream",
     "text": [
      "100%|██████████| 44/44 [00:30<00:00,  1.44it/s]\n",
      "  5%|▍         | 2/44 [00:00<00:03, 11.21it/s]"
     ]
    },
    {
     "name": "stdout",
     "output_type": "stream",
     "text": [
      "no such filename, skipping\n"
     ]
    },
    {
     "name": "stderr",
     "output_type": "stream",
     "text": [
      " 11%|█▏        | 5/44 [00:02<00:26,  1.45it/s]"
     ]
    },
    {
     "name": "stdout",
     "output_type": "stream",
     "text": [
      "no such filename, skipping\n"
     ]
    },
    {
     "name": "stderr",
     "output_type": "stream",
     "text": [
      " 20%|██        | 9/44 [00:04<00:14,  2.37it/s]"
     ]
    },
    {
     "name": "stdout",
     "output_type": "stream",
     "text": [
      "no such filename, skipping\n"
     ]
    },
    {
     "name": "stderr",
     "output_type": "stream",
     "text": [
      " 32%|███▏      | 14/44 [00:05<00:09,  3.02it/s]"
     ]
    },
    {
     "name": "stdout",
     "output_type": "stream",
     "text": [
      "no such filename, skipping\n",
      "no such filename, skipping\n",
      "no such filename, skipping\n"
     ]
    },
    {
     "name": "stderr",
     "output_type": "stream",
     "text": [
      "100%|██████████| 44/44 [00:26<00:00,  1.64it/s]\n",
      "  0%|          | 0/110 [00:00<?, ?it/s]"
     ]
    },
    {
     "name": "stdout",
     "output_type": "stream",
     "text": [
      "no such filename, skipping\n",
      "no such filename, skipping\n",
      "no such filename, skipping\n",
      " too few trials... skipping\n",
      "no such filename, skipping\n"
     ]
    },
    {
     "name": "stderr",
     "output_type": "stream",
     "text": [
      "  9%|▉         | 10/110 [00:00<00:05, 18.80it/s]"
     ]
    },
    {
     "name": "stdout",
     "output_type": "stream",
     "text": [
      " too few trials... skipping\n",
      " too few trials... skipping\n",
      " too few trials... skipping\n",
      " too few trials... skipping\n",
      "no such filename, skipping\n",
      "no such filename, skipping\n"
     ]
    },
    {
     "name": "stderr",
     "output_type": "stream",
     "text": [
      "\r",
      " 14%|█▎        | 15/110 [00:00<00:04, 21.20it/s]"
     ]
    },
    {
     "name": "stdout",
     "output_type": "stream",
     "text": [
      "no such filename, skipping\n"
     ]
    },
    {
     "name": "stderr",
     "output_type": "stream",
     "text": [
      " 19%|█▉        | 21/110 [00:04<00:32,  2.75it/s]"
     ]
    },
    {
     "name": "stdout",
     "output_type": "stream",
     "text": [
      " too few trials... skipping\n"
     ]
    },
    {
     "name": "stderr",
     "output_type": "stream",
     "text": [
      " 22%|██▏       | 24/110 [00:04<00:22,  3.76it/s]"
     ]
    },
    {
     "name": "stdout",
     "output_type": "stream",
     "text": [
      "no such filename, skipping\n",
      " too few trials... skipping\n",
      "no such filename, skipping\n"
     ]
    },
    {
     "name": "stderr",
     "output_type": "stream",
     "text": [
      " 30%|███       | 33/110 [00:08<00:36,  2.09it/s]"
     ]
    },
    {
     "name": "stdout",
     "output_type": "stream",
     "text": [
      "no such filename, skipping\n",
      "no such filename, skipping\n",
      "no such filename, skipping\n",
      "no such filename, skipping\n",
      " too few trials... skipping\n",
      "no such filename, skipping\n",
      "no such filename, skipping\n",
      " too few trials... skipping\n",
      " too few trials... skipping\n",
      "no such filename, skipping\n",
      "no such filename, skipping\n",
      "no such filename, skipping\n",
      "no such filename, skipping\n",
      " too few trials... skipping\n"
     ]
    },
    {
     "name": "stderr",
     "output_type": "stream",
     "text": [
      " 62%|██████▏   | 68/110 [00:58<02:46,  3.97s/it]"
     ]
    },
    {
     "name": "stdout",
     "output_type": "stream",
     "text": [
      "no such filename, skipping\n"
     ]
    },
    {
     "name": "stderr",
     "output_type": "stream",
     "text": [
      "100%|██████████| 110/110 [02:51<00:00,  1.56s/it]\n",
      "  3%|▎         | 2/71 [00:00<00:05, 11.81it/s]"
     ]
    },
    {
     "name": "stdout",
     "output_type": "stream",
     "text": [
      " too few trials... skipping\n"
     ]
    },
    {
     "name": "stderr",
     "output_type": "stream",
     "text": [
      "\r",
      "  6%|▌         | 4/71 [00:00<00:09,  6.98it/s]"
     ]
    },
    {
     "name": "stdout",
     "output_type": "stream",
     "text": [
      "no such filename, skipping\n",
      " too few trials... skipping\n"
     ]
    },
    {
     "name": "stderr",
     "output_type": "stream",
     "text": [
      "\r",
      "  8%|▊         | 6/71 [00:01<00:13,  4.89it/s]"
     ]
    },
    {
     "name": "stdout",
     "output_type": "stream",
     "text": [
      " too few trials... skipping\n"
     ]
    },
    {
     "name": "stderr",
     "output_type": "stream",
     "text": [
      "\r",
      " 11%|█▏        | 8/71 [00:01<00:11,  5.33it/s]"
     ]
    },
    {
     "name": "stdout",
     "output_type": "stream",
     "text": [
      " too few trials... skipping\n"
     ]
    },
    {
     "name": "stderr",
     "output_type": "stream",
     "text": [
      " 17%|█▋        | 12/71 [00:02<00:10,  5.57it/s]"
     ]
    },
    {
     "name": "stdout",
     "output_type": "stream",
     "text": [
      " too few trials... skipping\n"
     ]
    },
    {
     "name": "stderr",
     "output_type": "stream",
     "text": [
      "\r",
      " 20%|█▉        | 14/71 [00:02<00:12,  4.61it/s]"
     ]
    },
    {
     "name": "stdout",
     "output_type": "stream",
     "text": [
      " too few trials... skipping\n"
     ]
    },
    {
     "name": "stderr",
     "output_type": "stream",
     "text": [
      "\r",
      " 23%|██▎       | 16/71 [00:03<00:15,  3.52it/s]"
     ]
    },
    {
     "name": "stdout",
     "output_type": "stream",
     "text": [
      "no such filename, skipping\n",
      "no such filename, skipping\n"
     ]
    },
    {
     "name": "stderr",
     "output_type": "stream",
     "text": [
      "\r",
      " 28%|██▊       | 20/71 [00:03<00:09,  5.58it/s]"
     ]
    },
    {
     "name": "stdout",
     "output_type": "stream",
     "text": [
      " too few trials... skipping\n"
     ]
    },
    {
     "name": "stderr",
     "output_type": "stream",
     "text": [
      " 38%|███▊      | 27/71 [00:04<00:06,  6.95it/s]"
     ]
    },
    {
     "name": "stdout",
     "output_type": "stream",
     "text": [
      " too few trials... skipping\n"
     ]
    },
    {
     "name": "stderr",
     "output_type": "stream",
     "text": [
      " 48%|████▊     | 34/71 [00:05<00:04,  7.78it/s]"
     ]
    },
    {
     "name": "stdout",
     "output_type": "stream",
     "text": [
      " too few trials... skipping\n"
     ]
    },
    {
     "name": "stderr",
     "output_type": "stream",
     "text": [
      "\r",
      " 52%|█████▏    | 37/71 [00:06<00:03, 10.13it/s]"
     ]
    },
    {
     "name": "stdout",
     "output_type": "stream",
     "text": [
      " too few trials... skipping\n"
     ]
    },
    {
     "name": "stderr",
     "output_type": "stream",
     "text": [
      " 63%|██████▎   | 45/71 [00:06<00:02, 11.57it/s]"
     ]
    },
    {
     "name": "stdout",
     "output_type": "stream",
     "text": [
      "no such filename, skipping\n",
      " too few trials... skipping\n"
     ]
    },
    {
     "name": "stderr",
     "output_type": "stream",
     "text": [
      "\r",
      " 68%|██████▊   | 48/71 [00:07<00:01, 11.83it/s]"
     ]
    },
    {
     "name": "stdout",
     "output_type": "stream",
     "text": [
      " too few trials... skipping\n"
     ]
    },
    {
     "name": "stderr",
     "output_type": "stream",
     "text": [
      " 75%|███████▍  | 53/71 [00:08<00:02,  6.01it/s]"
     ]
    },
    {
     "name": "stdout",
     "output_type": "stream",
     "text": [
      "no such filename, skipping\n"
     ]
    },
    {
     "name": "stderr",
     "output_type": "stream",
     "text": [
      " 83%|████████▎ | 59/71 [00:08<00:01,  7.51it/s]"
     ]
    },
    {
     "name": "stdout",
     "output_type": "stream",
     "text": [
      "no such filename, skipping\n"
     ]
    },
    {
     "name": "stderr",
     "output_type": "stream",
     "text": [
      "\r",
      " 86%|████████▌ | 61/71 [00:09<00:01,  7.62it/s]"
     ]
    },
    {
     "name": "stdout",
     "output_type": "stream",
     "text": [
      " too few trials... skipping\n"
     ]
    },
    {
     "name": "stderr",
     "output_type": "stream",
     "text": [
      " 93%|█████████▎| 66/71 [00:10<00:01,  4.56it/s]"
     ]
    },
    {
     "name": "stdout",
     "output_type": "stream",
     "text": [
      " too few trials... skipping\n",
      " too few trials... skipping\n"
     ]
    },
    {
     "name": "stderr",
     "output_type": "stream",
     "text": [
      "100%|██████████| 71/71 [00:10<00:00,  6.60it/s]\n",
      "  0%|          | 0/44 [00:00<?, ?it/s]"
     ]
    },
    {
     "name": "stdout",
     "output_type": "stream",
     "text": [
      "no such filename, skipping\n",
      " too few trials... skipping\n"
     ]
    },
    {
     "name": "stderr",
     "output_type": "stream",
     "text": [
      " 20%|██        | 9/44 [00:01<00:06,  5.29it/s]"
     ]
    },
    {
     "name": "stdout",
     "output_type": "stream",
     "text": [
      " too few trials... skipping\n",
      " too few trials... skipping\n",
      " too few trials... skipping\n",
      "no such filename, skipping\n"
     ]
    },
    {
     "name": "stderr",
     "output_type": "stream",
     "text": [
      " 43%|████▎     | 19/44 [00:03<00:04,  6.24it/s]"
     ]
    },
    {
     "name": "stdout",
     "output_type": "stream",
     "text": [
      " too few trials... skipping\n",
      "no such filename, skipping\n",
      "no such filename, skipping\n"
     ]
    },
    {
     "name": "stderr",
     "output_type": "stream",
     "text": [
      " 61%|██████▏   | 27/44 [00:06<00:03,  4.46it/s]"
     ]
    },
    {
     "name": "stdout",
     "output_type": "stream",
     "text": [
      "no such filename, skipping\n"
     ]
    },
    {
     "name": "stderr",
     "output_type": "stream",
     "text": [
      " 84%|████████▍ | 37/44 [00:12<00:03,  2.21it/s]"
     ]
    },
    {
     "name": "stdout",
     "output_type": "stream",
     "text": [
      " too few trials... skipping\n"
     ]
    },
    {
     "name": "stderr",
     "output_type": "stream",
     "text": [
      "100%|██████████| 44/44 [00:14<00:00,  2.96it/s]\n",
      " 16%|█▌        | 7/44 [00:02<00:08,  4.16it/s]"
     ]
    },
    {
     "name": "stdout",
     "output_type": "stream",
     "text": [
      " too few trials... skipping\n"
     ]
    },
    {
     "name": "stderr",
     "output_type": "stream",
     "text": [
      " 32%|███▏      | 14/44 [00:05<00:10,  2.95it/s]"
     ]
    },
    {
     "name": "stdout",
     "output_type": "stream",
     "text": [
      "no such filename, skipping\n",
      "no such filename, skipping\n"
     ]
    },
    {
     "name": "stderr",
     "output_type": "stream",
     "text": [
      "100%|██████████| 44/44 [00:19<00:00,  2.21it/s]\n",
      " 34%|███▍      | 15/44 [00:07<00:16,  1.78it/s]"
     ]
    },
    {
     "name": "stdout",
     "output_type": "stream",
     "text": [
      "no such filename, skipping\n",
      "no such filename, skipping\n"
     ]
    },
    {
     "name": "stderr",
     "output_type": "stream",
     "text": [
      " 55%|█████▍    | 24/44 [00:10<00:09,  2.08it/s]"
     ]
    },
    {
     "name": "stdout",
     "output_type": "stream",
     "text": [
      " too few trials... skipping\n"
     ]
    },
    {
     "name": "stderr",
     "output_type": "stream",
     "text": [
      "100%|██████████| 44/44 [00:15<00:00,  2.91it/s]\n",
      "  5%|▍         | 2/44 [00:00<00:03, 11.25it/s]"
     ]
    },
    {
     "name": "stdout",
     "output_type": "stream",
     "text": [
      "no such filename, skipping\n"
     ]
    },
    {
     "name": "stderr",
     "output_type": "stream",
     "text": [
      " 11%|█▏        | 5/44 [00:02<00:20,  1.89it/s]"
     ]
    },
    {
     "name": "stdout",
     "output_type": "stream",
     "text": [
      "no such filename, skipping\n"
     ]
    },
    {
     "name": "stderr",
     "output_type": "stream",
     "text": [
      " 20%|██        | 9/44 [00:03<00:11,  3.02it/s]"
     ]
    },
    {
     "name": "stdout",
     "output_type": "stream",
     "text": [
      "no such filename, skipping\n"
     ]
    },
    {
     "name": "stderr",
     "output_type": "stream",
     "text": [
      " 32%|███▏      | 14/44 [00:04<00:07,  4.04it/s]"
     ]
    },
    {
     "name": "stdout",
     "output_type": "stream",
     "text": [
      "no such filename, skipping\n",
      "no such filename, skipping\n",
      "no such filename, skipping\n"
     ]
    },
    {
     "name": "stderr",
     "output_type": "stream",
     "text": [
      "100%|██████████| 44/44 [00:15<00:00,  2.93it/s]\n",
      "  6%|▋         | 7/110 [00:00<00:02, 37.62it/s]"
     ]
    },
    {
     "name": "stdout",
     "output_type": "stream",
     "text": [
      "no such filename, skipping\n",
      "no such filename, skipping\n",
      "no such filename, skipping\n",
      " too few trials... skipping\n",
      " too few trials... skipping\n",
      "no such filename, skipping\n"
     ]
    },
    {
     "name": "stderr",
     "output_type": "stream",
     "text": [
      "\r",
      " 10%|█         | 11/110 [00:00<00:02, 34.43it/s]"
     ]
    },
    {
     "name": "stdout",
     "output_type": "stream",
     "text": [
      " too few trials... skipping\n",
      " too few trials... skipping\n",
      " too few trials... skipping\n",
      " too few trials... skipping\n",
      "no such filename, skipping\n",
      "no such filename, skipping\n"
     ]
    },
    {
     "name": "stderr",
     "output_type": "stream",
     "text": [
      "\r",
      " 15%|█▍        | 16/110 [00:00<00:03, 23.69it/s]"
     ]
    },
    {
     "name": "stdout",
     "output_type": "stream",
     "text": [
      "no such filename, skipping\n"
     ]
    },
    {
     "name": "stderr",
     "output_type": "stream",
     "text": [
      " 21%|██        | 23/110 [00:03<00:16,  5.24it/s]"
     ]
    },
    {
     "name": "stdout",
     "output_type": "stream",
     "text": [
      " too few trials... skipping\n"
     ]
    },
    {
     "name": "stderr",
     "output_type": "stream",
     "text": [
      "\r",
      " 24%|██▎       | 26/110 [00:03<00:11,  7.19it/s]"
     ]
    },
    {
     "name": "stdout",
     "output_type": "stream",
     "text": [
      "no such filename, skipping\n",
      " too few trials... skipping\n",
      "no such filename, skipping\n"
     ]
    },
    {
     "name": "stderr",
     "output_type": "stream",
     "text": [
      " 30%|███       | 33/110 [00:05<00:19,  3.93it/s]"
     ]
    },
    {
     "name": "stdout",
     "output_type": "stream",
     "text": [
      "no such filename, skipping\n",
      "no such filename, skipping\n",
      "no such filename, skipping\n",
      "no such filename, skipping\n",
      " too few trials... skipping\n",
      "no such filename, skipping\n",
      "no such filename, skipping\n",
      " too few trials... skipping\n",
      " too few trials... skipping\n",
      "no such filename, skipping\n",
      "no such filename, skipping\n",
      "no such filename, skipping\n",
      "no such filename, skipping\n",
      " too few trials... skipping\n"
     ]
    },
    {
     "name": "stderr",
     "output_type": "stream",
     "text": [
      " 62%|██████▏   | 68/110 [00:14<00:21,  1.97it/s]"
     ]
    },
    {
     "name": "stdout",
     "output_type": "stream",
     "text": [
      "no such filename, skipping\n"
     ]
    },
    {
     "name": "stderr",
     "output_type": "stream",
     "text": [
      "100%|██████████| 110/110 [00:35<00:00,  3.07it/s]\n"
     ]
    }
   ],
   "source": [
    "#####################################\n",
    "##### PREDICT SVM DECISION TIME #####\n",
    "#####################################\n",
    "svm = PredictSVMTime()\n",
    "svm.main_dir = '/media/cat/4TBSSD/yuki/'\n",
    "\n",
    "# default params\n",
    "svm.lockout = False\n",
    "svm.lockout_window = 10\n",
    "svm.pca_flag = True\n",
    "svm.pca_var = 0.95\n",
    "svm.window = 10\n",
    "svm.use_saved_model = False\n",
    "svm.fname_saved_model = '/media/cat/4TBSSD/yuki/AQ2/tif_files/AQ2am_Feb11_30Hz/analysis/00599_svm.pkl'\n",
    "\n",
    "# \n",
    "names = ['IA1','IA2','IA3','IJ1','IJ2','AQ2'] # \"AR4\" and other datasets could work\n",
    "\n",
    "# \n",
    "lockouts = [False, True]\n",
    "for lockout in lockouts:\n",
    "    svm.lockout=lockout\n",
    "    for id_ in names:\n",
    "        svm.animal_id = id_\n",
    "        svm.session_id = 'all'\n",
    "\n",
    "        # \n",
    "        svm.predict()\n",
    "\n",
    "# svm.process_data()"
   ]
  },
  {
   "cell_type": "code",
   "execution_count": 18,
   "metadata": {
    "scrolled": true
   },
   "outputs": [
    {
     "name": "stdout",
     "output_type": "stream",
     "text": [
      "['AQ2am_Dec9_30Hz' 'AQ2am_Dec10_30Hz' 'AQ2pm_Dec10_30Hz'\n",
      " 'AQ2am_Dec11_30Hz' 'AQ2pm_Dec14_30Hz' 'AQ2am_Dec14_30Hz'\n",
      " 'AQ2pm_Dec16_30Hz' 'AQ2am_Dec17_30Hz' 'AQ2pm_Dec17_30Hz'\n",
      " 'AQ2am_Dec18_30Hz' 'AQ2pm_Dec18_30Hz' 'AQ2am_Dec21_30Hz'\n",
      " 'AQ2am_Dec22_30Hz' 'AQ2am_Dec23_30Hz' 'AQ2am_Dec28_30Hz'\n",
      " 'AQ2am_Dec29_30Hz' 'AQ2am_Dec30_30Hz' 'AQ2am_Dec31_30Hz'\n",
      " 'AQ2am_Jan4_30Hz' 'AQ2am_Jan5_30Hz' 'AQ2am_Jan6_30Hz' 'AQ2am_Jan7_30Hz'\n",
      " 'AQ2am_Jan8_30Hz' 'AQ2pm_Jan11_30Hz' 'AQ2am_Jan11_30Hz'\n",
      " 'AQ2pm_Jan12_30Hz' 'AQ2am_Jan12_30Hz' 'AQ2pm_Jan13_30Hz'\n",
      " 'AQ2am_Jan13_30Hz' 'AQ2pm_Jan14_30Hz' 'AQ2am_Jan14_30Hz'\n",
      " 'AQ2am_Jan15_30Hz' 'AQ2pm_Jan15_30Hz' 'AQ2pm_Jan18_30Hz'\n",
      " 'AQ2am_Jan18_30Hz' 'AQ2am_Jan19_30Hz' 'AQ2pm_Jan19_30Hz'\n",
      " 'AQ2pm_Jan20_30Hz' 'AQ2am_Jan20_30Hz' 'AQ2pm_Jan21_30Hz'\n",
      " 'AQ2am_Jan21_30Hz' 'AQ2pm_Jan22_30Hz' 'AQ2am_Jan22_30Hz'\n",
      " 'AQ2am_Jan25_30Hz' 'AQ2pm_Jan25_30Hz' 'AQ2pm_Jan26_30Hz'\n",
      " 'AQ2am_Jan26_30Hz' 'AQ2am_Jan27_30Hz' 'AQ2pm_Jan27_30Hz'\n",
      " 'AQ2am_Jan28_30Hz' 'AQ2pm_Jan28_30Hz' 'AQ2am_Jan29_30Hz'\n",
      " 'AQ2pm_Jan29_30Hz' 'AQ2am_Feb2_30Hz' 'AQ2am_Feb3_30Hz' 'AQ2am_Feb4_30Hz'\n",
      " 'AQ2am_Feb5_30Hz' 'AQ2am_Feb9_30Hz' 'AQ2am_Feb10_30Hz' 'AQ2am_Feb11_30Hz'\n",
      " 'AQ2am_Feb12_30Hz' 'AQ2am_Feb15_30Hz' 'AQ2am_Feb16_30Hz'\n",
      " 'AQ2am_Feb17_30Hz' 'AQ2am_Feb18_30Hz' 'AQ2am_Feb19_30Hz'\n",
      " 'AQ2am_Feb22_30Hz' 'AQ2am_Feb23_30Hz' 'AQ2am_Feb25_30Hz'\n",
      " 'AQ2am_Feb26_30Hz' 'AQ2am_Feb29_30Hz' 'AQ2am_Mar1_30Hz' 'AQ2am_Mar2_30Hz'\n",
      " 'AQ2am_Mar3_30Hz' 'AQ2pm_Mar7_Day3_30Hz' 'AQ2pm_Mar9_Day5_30Hz'\n",
      " 'AQ2pm_Mar11_Day7_30Hz' 'AQ2am_Mar14_Week2_30Hz' 'AQ2pm_Mar15_Week2_30Hz'\n",
      " 'AQ2am_Mar16_Week2_30Hz' 'AQ2am_Mar17_Week2_30Hz'\n",
      " 'AQ2am_Mar18_Week2_30Hz' 'AQ2am_Mar21_Week3_30Hz'\n",
      " 'AQ2am_Mar22_Week3_30Hz' 'AQ2am_Mar23_Week3_30Hz'\n",
      " 'AQ2am_Mar24_Week3_30Hz' 'AQ2am_Mar29_Week4_30Hz'\n",
      " 'AQ2am_Mar30_Week4_30Hz' 'AQ2am_Mar31_Week4_30Hz' 'AQ2am_Apr1_Week4_30Hz'\n",
      " 'AQ2am_Apr4_Week5_30Hz' 'AQ2am_Apr5_Week5_30Hz' 'AQ2am_Apr6_Week5_30Hz'\n",
      " 'AQ2am_Apr7_Week5_30Hz' 'AQ2am_Apr8_Week5_30Hz' 'AQ2am_Apr11_Week6_30Hz'\n",
      " 'AQ2am_Apr12_Week6_30Hz' 'AQ2am_Apr13_Week6_30Hz'\n",
      " 'AQ2am_Apr14_Week6_30Hz' 'AQ2am_Apr15_Week6_30Hz'\n",
      " 'AQ2am_Apr18_Week7_30Hz' 'AQ2am_Apr19_Week7_30Hz'\n",
      " 'AQ2am_Apr20_Week7_30Hz' 'AQ2am_Apr21_Week7_30Hz'\n",
      " 'AQ2am_Apr22_Week7_30Hz' 'AQ2am_Apr25_Week8_30Hz'\n",
      " 'AQ2am_Apr26_Week8_30Hz' 'AQ2am_Apr27_Week8_30Hz'\n",
      " 'AQ2am_Apr28_Week8_30Hz' 'AQ2am_Apr29_Week8_30Hz']\n"
     ]
    },
    {
     "data": {
      "text/plain": [
       "Text(0.5, 0.98, 'AQ2')"
      ]
     },
     "execution_count": 18,
     "metadata": {},
     "output_type": "execute_result"
    }
   ],
   "source": [
    "################################################\n",
    "################################################\n",
    "################################################\n",
    "fig = plt.figure()\n",
    "svm.animal_id = 'AQ2'\n",
    "svm.session_id = 'all'\n",
    "svm.get_sessions()\n",
    "print (svm.sessions)\n",
    "\n",
    "#\n",
    "ctr=1\n",
    "for session_id in svm.sessions:\n",
    "    ax=plt.subplot(8,10,ctr)\n",
    "    svm.session_id = session_id\n",
    "    try:\n",
    "        svm.plot_decision_time(ax)\n",
    "        plt.title(session_id+\", #: \"+str(svm.n_trials), fontsize=6)\n",
    "        if ctr!=1:\n",
    "            plt.yticks([])\n",
    "        if ctr!=31:\n",
    "            plt.xticks([])\n",
    "\n",
    "        ctr+=1\n",
    "\n",
    "    except:\n",
    "        pass\n",
    "plt.suptitle(svm.animal_id,fontsize=20)"
   ]
  },
  {
   "cell_type": "code",
   "execution_count": null,
   "metadata": {},
   "outputs": [],
   "source": []
  },
  {
   "cell_type": "code",
   "execution_count": null,
   "metadata": {},
   "outputs": [],
   "source": []
  },
  {
   "cell_type": "code",
   "execution_count": null,
   "metadata": {},
   "outputs": [],
   "source": []
  },
  {
   "cell_type": "code",
   "execution_count": null,
   "metadata": {},
   "outputs": [],
   "source": []
  },
  {
   "cell_type": "code",
   "execution_count": null,
   "metadata": {},
   "outputs": [],
   "source": []
  },
  {
   "cell_type": "code",
   "execution_count": null,
   "metadata": {},
   "outputs": [],
   "source": []
  },
  {
   "cell_type": "code",
   "execution_count": null,
   "metadata": {},
   "outputs": [],
   "source": []
  },
  {
   "cell_type": "code",
   "execution_count": null,
   "metadata": {},
   "outputs": [],
   "source": []
  },
  {
   "cell_type": "code",
   "execution_count": null,
   "metadata": {},
   "outputs": [],
   "source": [
    "names = ['IA1','IA2','IA3','IJ1','AQ2'] # \"AR4\" and other datasets could work\n",
    "\n",
    "for name in names:\n",
    "    rnn.animal_id = name\n",
    "    rnn.session_id = 'all'\n",
    "\n",
    "    rnn.run_rnn()"
   ]
  },
  {
   "cell_type": "code",
   "execution_count": 12,
   "metadata": {},
   "outputs": [
    {
     "name": "stdout",
     "output_type": "stream",
     "text": [
      "(10, 10)\n",
      "(10, 10)\n"
     ]
    },
    {
     "name": "stderr",
     "output_type": "stream",
     "text": [
      "<ipython-input-12-e7b69b6f7608>:48: UserWarning: color is redundantly defined by the 'color' keyword argument and the fmt string \"r--\" (-> color='r'). The keyword argument will take precedence.\n",
      "  plt.plot([-10,0],[0.5,0.5],'r--',c='black')\n"
     ]
    }
   ],
   "source": [
    "#\n",
    "data1 = np.load('/media/cat/4TBSSD/yuki/IJ2/RNN_scores/Mar3_200_0.0001.npy.npz')\n",
    "data1 = np.load('/media/cat/4TBSSD/yuki/IJ2/RNN_scores/IJ2pm_Mar2_30Hz_1000_0.0001.npz')\n",
    "#data1 = np.load('/media/cat/4TBSSD/yuki/IJ2/RNN_scores/IJ2pm_Feb29_30Hz_1000_0.0001.npz')\n",
    "b = data1['b_rnn']\n",
    "c = data1['c_s']\n",
    "\n",
    "#\n",
    "print (b.shape)\n",
    "mean = b.mean(1)\n",
    "t=np.linspace(-9.5, 0, mean.shape[0])\n",
    "\n",
    "ax=plt.subplot(111)\n",
    "\n",
    "plt.plot(t, mean, c='black')\n",
    "plt.fill_between(t, mean+c, mean-c, color='black', alpha=.2,\n",
    "                label='RNN - 1000epochs')\n",
    "\n",
    "#\n",
    "data1 = np.load('/media/cat/4TBSSD/yuki/IJ2/RNN_scores/IJ2pm_Mar2_30Hz_200_0.0001.npz')\n",
    "#data1 = np.load('/media/cat/4TBSSD/yuki/IJ2/RNN_scores/IJ2pm_Feb29_30Hz_200_0.0001.npz')\n",
    "b = data1['b_rnn']\n",
    "c = data1['c_s']\n",
    "\n",
    "#\n",
    "print (b.shape)\n",
    "mean = b.mean(1)\n",
    "t=np.linspace(-9.5, 0, mean.shape[0])\n",
    "plt.plot(t, mean, c='red')\n",
    "plt.fill_between(t, mean+c, mean-c, color='red', alpha=.2,\n",
    "                label='RNN - 200epochs')\n",
    "#\n",
    "if False:\n",
    "    fname_svm = '/media/cat/4TBSSD/yuki/IJ2/SVM_Scores/SVM_Scores_IJ2pm_Mar2_30Hz_code_04_trial_ROItimeCourses_10sec_pca_0.95.npy'\n",
    "    data2 = np.load(fname_svm)\n",
    "    print (data2.shape)\n",
    "    data2 = data2[:300]\n",
    "    mean = data2.mean(1)\n",
    "    std = data2.std(1)\n",
    "    t= np.linspace(t[0],t[-1],mean.shape[0])\n",
    "    plt.plot(t, mean, 'blue')\n",
    "    plt.fill_between(t, mean+std, mean-std, color='blue', alpha=.2,\n",
    "                    label='SVM - 2 frames sliding window')\n",
    "\n",
    "plt.legend(fontsize=20)\n",
    "plt.xlim(-10,0)\n",
    "plt.ylim(0.4, 1.0)\n",
    "plt.plot([-10,0],[0.5,0.5],'r--',c='black')\n",
    "ax.tick_params(axis='both', which='major', labelsize=20)\n",
    "#plt.suptitle(os.path.split(fname_svm)[1])\n",
    "plt.xlabel(\"Time (sec)\",fontsize=20)\n",
    "plt.ylabel(\"Decoding accuracy\", fontsize=20)\n",
    "\n",
    "plt.show()"
   ]
  },
  {
   "cell_type": "code",
   "execution_count": null,
   "metadata": {},
   "outputs": [],
   "source": []
  },
  {
   "cell_type": "code",
   "execution_count": null,
   "metadata": {},
   "outputs": [],
   "source": []
  },
  {
   "cell_type": "code",
   "execution_count": null,
   "metadata": {},
   "outputs": [],
   "source": []
  },
  {
   "cell_type": "code",
   "execution_count": null,
   "metadata": {},
   "outputs": [],
   "source": []
  },
  {
   "cell_type": "code",
   "execution_count": null,
   "metadata": {},
   "outputs": [],
   "source": []
  },
  {
   "cell_type": "code",
   "execution_count": null,
   "metadata": {},
   "outputs": [],
   "source": []
  },
  {
   "cell_type": "code",
   "execution_count": null,
   "metadata": {},
   "outputs": [],
   "source": []
  },
  {
   "cell_type": "code",
   "execution_count": null,
   "metadata": {},
   "outputs": [],
   "source": [
    "OLDER CODE BELOW"
   ]
  },
  {
   "cell_type": "code",
   "execution_count": 11,
   "metadata": {},
   "outputs": [
    {
     "name": "stdout",
     "output_type": "stream",
     "text": [
      "Self session: IA1pm_Feb23_30Hz\n",
      "Self session: IA1pm_Feb23_30Hz\n"
     ]
    }
   ],
   "source": [
    "#############################################\n",
    "############## VISUALIZE RESULTS ############\n",
    "#############################################\n",
    "    \n",
    "# LEVER PULL\n",
    "vis = Visualize()\n",
    "\n",
    "# lever-related data\n",
    "vis.main_dir = data_dir\n",
    "vis.random_flag = False  # shuffle data to show baseline\n",
    "\n",
    "# \n",
    "vis.window = 10\n",
    "vis.lockout_window = 10\n",
    "vis.code = 'code_04'\n",
    "vis.lockout = False\n",
    "\n",
    "vis.animal_id = \"IA1\"\n",
    "vis.session_id = \"Feb23_\"\n",
    "title = vis.animal_id + \"  \"+vis.session_id\n",
    "\n",
    "#############################################\n",
    "############## DECISION TYPE ################\n",
    "#############################################\n",
    "# select animal and session\n",
    "\n",
    "# load pca \n",
    "fig =plt.figure()\n",
    "\n",
    "# ax=plt.subplot(2,3,1)\n",
    "# vis.pca_flag = False\n",
    "# vis.lockout = True\n",
    "# vis.pca_var = 0.99\n",
    "# vis.plot_decision_choice('black',str(vis.pca_var),title, ax)\n",
    "\n",
    "# vis.lockout = True\n",
    "# vis.plot_decision_choice('blue',str(vis.pca_var)+\" lockout\",title, ax)\n",
    "\n",
    "# \n",
    "# vis.lockout = True\n",
    "# vis.plot_decision_choice('blue',str(vis.pca_var) + \" lockout\",title, ax)\n",
    "\n",
    "\n",
    "# \n",
    "vars_ = [0.95]\n",
    "for k in range(len(vars_)):\n",
    "    #ax=plt.subplot(2,3,k+2)\n",
    "    ax=plt.subplot(1,1,k+1)\n",
    "    vis.pca_flag = True\n",
    "    vis.lockout = False\n",
    "    vis.pca_var = vars_[k]\n",
    "    vis.plot_decision_choice('black',str(vis.pca_var),title, ax)\n",
    "\n",
    "    # \n",
    "    vis.pca_flag = True\n",
    "    vis.lockout = True\n",
    "    vis.plot_decision_choice('blue',str(vis.pca_var)+\" lockout\",title, ax)\n",
    "\n",
    "# vis.pca_flag = True\n",
    "# vis.pca_var = 0.99\n",
    "# ax=plt.subplot(2,3,2)\n",
    "# vis.plot_decision_choice('blue','xxpcs_0.99Variance',title, ax)\n",
    "\n",
    "\n",
    "# vis.pca_flag = True\n",
    "# vis.pca_var = 0.95\n",
    "# ax=plt.subplot(2,3,3)\n",
    "# vis.plot_decision_choice('red','8pcs_0.95Variance',title, ax)\n",
    "\n",
    "# vis.pca_flag = True\n",
    "# vis.pca_var = 0.90\n",
    "# ax=plt.subplot(2,3,4)\n",
    "# vis.plot_decision_choice('green','4pcs_0.90Variance',title, ax)\n",
    "\n",
    "\n",
    "# vis.pca_var = 0.50\n",
    "# ax=plt.subplot(2,3,5)\n",
    "# vis.plot_decision_choice('magenta','2pcs_0.50Variance',title, ax)\n",
    "\n",
    "\n",
    "# fname = vis.main_dir+'/'+animal_id+'/SVM_scores_'+animal_id+'_lockout_'+str(session)+'.npy'\n",
    "# vis.load_data(fname)\n",
    "# vis.plot_decision_choice('blue','lockout-denoised')\n"
   ]
  },
  {
   "cell_type": "code",
   "execution_count": null,
   "metadata": {},
   "outputs": [],
   "source": []
  },
  {
   "cell_type": "code",
   "execution_count": null,
   "metadata": {},
   "outputs": [],
   "source": []
  },
  {
   "cell_type": "code",
   "execution_count": 7,
   "metadata": {},
   "outputs": [
    {
     "name": "stdout",
     "output_type": "stream",
     "text": [
      "(1500, 16384)\n"
     ]
    }
   ],
   "source": [
    "import pickle as pk\n",
    "\n",
    "file = open('/media/cat/4TBSSD/yuki/IA1/tif_files/IA1pm_Feb3_30Hz/IA1pm_Feb3_30Hz_code_04_lockout_10sec_trial_ROItimeCourses_10sec_pca.pkl', 'rb')\n",
    "\n",
    "# dump information to that file\n",
    "pca = pk.load(file)\n",
    "\n",
    "print (pca.components_.shape)\n"
   ]
  },
  {
   "cell_type": "code",
   "execution_count": 9,
   "metadata": {},
   "outputs": [
    {
     "name": "stdout",
     "output_type": "stream",
     "text": [
      "(62, 601, 128, 128)\n"
     ]
    }
   ],
   "source": [
    "data_stm = np.load('/media/cat/4TBSSD/yuki/IA1/tif_files/IA1pm_Feb3_30Hz/IA1pm_Feb3_30Hz_10.0sec_butterworth_globalAverage_0.1hz_6.0hz_04code_stm.npy')\n",
    "print (data_stm.shape)"
   ]
  },
  {
   "cell_type": "code",
   "execution_count": 10,
   "metadata": {},
   "outputs": [
    {
     "ename": "NameError",
     "evalue": "name 'nComp' is not defined",
     "output_type": "error",
     "traceback": [
      "\u001b[0;31m---------------------------------------------------------------------------\u001b[0m",
      "\u001b[0;31mNameError\u001b[0m                                 Traceback (most recent call last)",
      "\u001b[0;32m<ipython-input-10-f869b1fe5d18>\u001b[0m in \u001b[0;36m<module>\u001b[0;34m\u001b[0m\n\u001b[1;32m      5\u001b[0m \u001b[0mmu\u001b[0m\u001b[0;34m=\u001b[0m \u001b[0mnp\u001b[0m\u001b[0;34m.\u001b[0m\u001b[0mmean\u001b[0m\u001b[0;34m(\u001b[0m\u001b[0mX\u001b[0m\u001b[0;34m,\u001b[0m \u001b[0maxis\u001b[0m\u001b[0;34m=\u001b[0m\u001b[0;36m0\u001b[0m\u001b[0;34m)\u001b[0m\u001b[0;34m\u001b[0m\u001b[0;34m\u001b[0m\u001b[0m\n\u001b[1;32m      6\u001b[0m \u001b[0;34m\u001b[0m\u001b[0m\n\u001b[0;32m----> 7\u001b[0;31m Xnew = np.dot(pca.transform(X)[:,:nComp],\n\u001b[0m\u001b[1;32m      8\u001b[0m              pca.components_[:nComp,:])\n\u001b[1;32m      9\u001b[0m \u001b[0;34m\u001b[0m\u001b[0m\n",
      "\u001b[0;31mNameError\u001b[0m: name 'nComp' is not defined"
     ]
    }
   ],
   "source": [
    "# \n",
    "X = data_stm.reshape(data_stm.shape[0]*data_stm.shape[1],\n",
    "                     data_stm.shape[2]*data_stm.shape[3])\n",
    "\n",
    "mu= np.mean(X, axis=0)\n"
   ]
  },
  {
   "cell_type": "code",
   "execution_count": 11,
   "metadata": {},
   "outputs": [],
   "source": [
    "nComp = 9\n",
    "Xnew = np.dot(pca.transform(X)[:,:nComp],\n",
    "             pca.components_[:nComp,:])\n",
    "\n",
    "Xnew+=mu\n",
    "\n",
    "data_stm_denoised_reshaped = Xnew.reshape(data_stm.shape[0], data_stm.shape[1],\n",
    "                                          data_stm.shape[2], data_stm.shape[3])\n"
   ]
  },
  {
   "cell_type": "code",
   "execution_count": 17,
   "metadata": {},
   "outputs": [
    {
     "name": "stdout",
     "output_type": "stream",
     "text": [
      "(62, 9, 601)\n"
     ]
    }
   ],
   "source": [
    "time_filters = pca.transform(X)[:,:nComp]\n",
    "pca_time_filters_only = time_filters.reshape(data_stm.shape[0], data_stm.shape[1],-1).transpose(0,2,1)\n",
    "print (pca_time_filters_only.shape)\n"
   ]
  },
  {
   "cell_type": "code",
   "execution_count": 15,
   "metadata": {},
   "outputs": [
    {
     "name": "stdout",
     "output_type": "stream",
     "text": [
      "(62, 601, 9)\n"
     ]
    }
   ],
   "source": []
  },
  {
   "cell_type": "code",
   "execution_count": 21,
   "metadata": {},
   "outputs": [
    {
     "name": "stdout",
     "output_type": "stream",
     "text": [
      "(82, 2, 601)\n"
     ]
    }
   ],
   "source": [
    "data = np.load('/media/cat/4TBSSD/yuki/IA1/tif_files/IA1pm_Feb23_30Hz/IA1pm_Feb23_30Hz_code_04_trial_ROItimeCourses_10sec_pca_0.5.npy')\n",
    "print (data.shape)"
   ]
  },
  {
   "cell_type": "code",
   "execution_count": 76,
   "metadata": {},
   "outputs": [
    {
     "name": "stdout",
     "output_type": "stream",
     "text": [
      "(62, 35, 601)\n"
     ]
    }
   ],
   "source": [
    "# -*- coding: utf-8 -*-\n",
    "\"\"\"Cat Data.ipynb\n",
    "\n",
    "Automatically generated by Colaboratory.\n",
    "\n",
    "Original file is located at\n",
    "    https://colab.research.google.com/drive/1r-NABuBJOITVlW03VvhsQivPNzmNp4yp\n",
    "\"\"\"\n",
    "\n",
    "import numpy as np\n",
    "import sklearn\n",
    "from sklearn.model_selection import train_test_split\n",
    "import matplotlib.pyplot as plt\n",
    "from sklearn.model_selection import KFold \n",
    "from sklearn import preprocessing\n",
    "from sklearn.model_selection import cross_val_score\n",
    "from sklearn import svm\n",
    "import pandas as pd\n",
    "from sklearn.metrics import confusion_matrix  \n",
    "import random\n",
    "from scipy import stats\n",
    "from matplotlib.pyplot import MultipleLocator\n",
    "import os\n",
    "\n",
    "\n",
    "jobid = os.getenv('SLURM_ARRAY_TASK_ID')\n",
    "name='IA1_lockout'\n",
    "\n",
    "data_leverpress = np.load('/media/cat/4TBSSD/yuki/temp/IA1/data_04.npy',allow_pickle=True)[0]\n",
    "data_random = np.load('/media/cat/4TBSSD/yuki/temp/IA1/data_04_random.npy',allow_pickle=True)[0]\n",
    "\n",
    "print (data_leverpress.shape)\n"
   ]
  },
  {
   "cell_type": "code",
   "execution_count": 77,
   "metadata": {},
   "outputs": [
    {
     "name": "stderr",
     "output_type": "stream",
     "text": [
      "<ipython-input-77-0c90c545bbff>:41: RuntimeWarning: invalid value encountered in true_divide\n",
      "  conf_matrix_norm = confusion_m.astype('float') / confusion_m.sum(axis=1)[:,np.newaxis] #calculate the precision\n",
      "<ipython-input-77-0c90c545bbff>:41: RuntimeWarning: invalid value encountered in true_divide\n",
      "  conf_matrix_norm = confusion_m.astype('float') / confusion_m.sum(axis=1)[:,np.newaxis] #calculate the precision\n",
      "<ipython-input-77-0c90c545bbff>:41: RuntimeWarning: invalid value encountered in true_divide\n",
      "  conf_matrix_norm = confusion_m.astype('float') / confusion_m.sum(axis=1)[:,np.newaxis] #calculate the precision\n",
      "<ipython-input-77-0c90c545bbff>:41: RuntimeWarning: invalid value encountered in true_divide\n",
      "  conf_matrix_norm = confusion_m.astype('float') / confusion_m.sum(axis=1)[:,np.newaxis] #calculate the precision\n",
      "<ipython-input-77-0c90c545bbff>:41: RuntimeWarning: invalid value encountered in true_divide\n",
      "  conf_matrix_norm = confusion_m.astype('float') / confusion_m.sum(axis=1)[:,np.newaxis] #calculate the precision\n",
      "<ipython-input-77-0c90c545bbff>:41: RuntimeWarning: invalid value encountered in true_divide\n",
      "  conf_matrix_norm = confusion_m.astype('float') / confusion_m.sum(axis=1)[:,np.newaxis] #calculate the precision\n",
      "<ipython-input-77-0c90c545bbff>:41: RuntimeWarning: invalid value encountered in true_divide\n",
      "  conf_matrix_norm = confusion_m.astype('float') / confusion_m.sum(axis=1)[:,np.newaxis] #calculate the precision\n",
      "<ipython-input-77-0c90c545bbff>:41: RuntimeWarning: invalid value encountered in true_divide\n",
      "  conf_matrix_norm = confusion_m.astype('float') / confusion_m.sum(axis=1)[:,np.newaxis] #calculate the precision\n"
     ]
    }
   ],
   "source": [
    "\n",
    "\n",
    "#classification of time (10-class)\n",
    "X_l=data_leverpress #  [n_trials, n_areas, n_time_steps]\n",
    "X_l=X_l.transpose((0,2,1))\n",
    "\n",
    "\n",
    "X_R_l= X_l.reshape(-1,X_l.shape[1]*X_l.shape[2])\n",
    "normal_X_l = preprocessing.normalize(X_R_l)\n",
    "n_X_l=normal_X_l.reshape(X_l.shape[0],X_l.shape[1],X_l.shape[2])\n",
    "X_l=n_X_l\n",
    "\n",
    "X_l=X_l[:,:300,:]\n",
    "X_k=X_l[:,0:30,:]\n",
    "X_k=X_k.reshape(X_k.shape[0],X_k.shape[1]*X_k.shape[2])\n",
    "for i in range(30,271,30):\n",
    "    X_t = X_l[:,i:i+30,:]\n",
    "    X_t=X_t.reshape(X_t.shape[0],X_t.shape[1]*X_t.shape[2])\n",
    "    X_k=np.concatenate((X_k,X_t),axis=0)\n",
    "\n",
    "y_ct=np.zeros(data_leverpress.shape[0])\n",
    "for i in range(1,10):\n",
    "    Z_ct=i*np.ones(data_leverpress.shape[0])\n",
    "    y_ct=np.concatenate((y_ct,Z_ct))\n",
    "\n",
    "# \n",
    "X_tSVM=X_k # 10s * 30frams\n",
    "y_tSVM=y_ct # labels\n",
    "\n",
    "#10-fold confusion matrix\n",
    "clf = svm.SVC() # Non-linear classifier\n",
    "ten_svm=[]\n",
    "conf_matrix_ten=[]\n",
    "kf = KFold(n_splits=10,random_state=None, shuffle=True) \n",
    "for train_index, test_index in kf.split(X_tSVM):\n",
    "    X_train_k, X_test_k = X_tSVM[train_index], X_tSVM[test_index] \n",
    "    y_train_k, y_test_k = y_tSVM[train_index], y_tSVM[test_index]\n",
    "    clf.fit(X_train_k, y_train_k)\n",
    "    score=clf.score(X_test_k, y_test_k)\n",
    "    y_predicted=clf.predict(X_test_k)\n",
    "    cm=confusion_matrix(y_test_k,y_predicted)\n",
    "    confusion_m=cm.T # make each row be the prediction\n",
    "    conf_matrix_norm = confusion_m.astype('float') / confusion_m.sum(axis=1)[:,np.newaxis] #calculate the precision\n",
    "    conf_matrix_norm = np.nan_to_num(conf_matrix_norm)\n",
    "    ten_svm.append(score)\n",
    "    conf_matrix_ten.append(conf_matrix_norm)\n",
    "np.save('conf_10_'+str(name)+'_'+str(jobid)+'.npy',conf_matrix_ten)\n",
    "sc=np.mean(conf_matrix_ten,axis=0) # mean of confusion matrix\n",
    "np.save('conf_avg_'+str(name)+'_'+str(jobid)+'.npy',sc)"
   ]
  },
  {
   "cell_type": "code",
   "execution_count": 78,
   "metadata": {},
   "outputs": [
    {
     "name": "stderr",
     "output_type": "stream",
     "text": [
      "<ipython-input-78-40a74f02ec5b>:57: RuntimeWarning: divide by zero encountered in double_scalars\n",
      "  t=(a-(1/10))/s\n"
     ]
    }
   ],
   "source": [
    "\n",
    "#Next is the plotting.\n",
    "\n",
    "confusion_10=sc.diagonal()\n",
    "np.save('diagonal_'+str(name)+'_'+str(jobid)+'.npy',confusion_10)\n",
    "confusion_s=conf_matrix_ten\n",
    "\n",
    "confusion_d=[]\n",
    "for i in range(0,10):\n",
    "    confusion_d.append(confusion_s[i].diagonal())\n",
    "x_std=np.std(confusion_d,axis=0)/(10**0.5)\n",
    "x_s=x_std\n",
    "\n",
    "\n",
    "fig = plt.figure(figsize=(21.5,20), dpi=64, facecolor='white')\n",
    "plt.xticks(fontsize=60)\n",
    "plt.yticks(fontsize=60)\n",
    "axes = plt.subplot(111)\n",
    "axes.tick_params(axis ='both', which ='both', length = 10,width=4,pad=20)\n",
    "\n",
    "bwith = 3 \n",
    "ax = plt.gca()\n",
    "ax.spines['bottom'].set_linewidth(bwith)\n",
    "ax.spines['left'].set_linewidth(bwith)\n",
    "ax.spines['top'].set_linewidth(bwith)\n",
    "ax.spines['right'].set_linewidth(bwith)\n",
    "l=15\n",
    "\n",
    "Y=np.linspace(0,1,12)\n",
    "X=np.ones(Y.size)\n",
    "x=np.arange(-9.5,0.5,1)\n",
    "plt.text(0.1, 0.2, 'Lever Pull', fontdict={'size': 70}, rotation=90)\n",
    "plt.text(-12.95, 1/10, 'Chance', fontdict={'size': 60}, rotation=0)\n",
    "plt.axhline(y=1/10, color='black', linestyle='--',linewidth=6)\n",
    "\n",
    "plt.errorbar(x,confusion_10,x_s,c='red',alpha=0.6,marker='s', mec='red', ms=3, mew=3,label='SVM',linewidth=l,elinewidth=12)\n",
    "\n",
    "plt.plot( (0+0)*X, Y, color='black',ls='--',linewidth=6)\n",
    "\n",
    "plt.title('Decoding decision time',fontdict={'size': 110},pad=60)\n",
    "plt.xlabel('Time before Lever Pull (s)',fontdict={'size': 110},labelpad=60)\n",
    "plt.ylabel('Decoding Accuracy',fontdict={'size': 110},labelpad=180)\n",
    "plt.ylim(ymax = 1.09)\n",
    "ax=plt.gca()\n",
    "ax.xaxis.set_major_locator(MultipleLocator(2))\n",
    "ax.xaxis.set_minor_locator(MultipleLocator(1))\n",
    "ax.yaxis.set_major_locator(MultipleLocator(0.2))\n",
    "ax.yaxis.set_minor_locator(MultipleLocator(0.1))\n",
    "\n",
    "plt.xlim(xmin = -10.5)\n",
    "plt.xlim(xmax = 0.9)\n",
    "\n",
    "for i in range(0,10):\n",
    "    a=confusion_10[i]\n",
    "    b=x_s[i]\n",
    "    n=10\n",
    "    s=b\n",
    "    t=(a-(1/10))/s\n",
    "    df=n-1\n",
    "    p = (1 - stats.t.cdf(t,df=df))\n",
    "    \n",
    "    if (p > 0.01 and p <= 0.05):\n",
    "        plt.plot(-9.5+i, confusion_10[i]+x_std[i]+0.06, '*',c='black', ms=20)\n",
    "        \n",
    "    if (p > 0.00001 and p <= 0.01):\n",
    "        plt.plot(-9.5+i,confusion_10[i]+x_std[i]+0.06,'*',c='black', ms=20)\n",
    "        plt.plot(-9.5+i,confusion_10[i]+x_std[i]+0.08,'*',c='black', ms=20)\n",
    "    if  p <= 0.00001:\n",
    "        plt.plot(-9.5+i,confusion_10[i]+x_std[i]+0.06,'*',c='black', ms=20)\n",
    "        plt.plot(-9.5+i,confusion_10[i]+x_std[i]+0.08,'*',c='black', ms=20)\n",
    "        plt.plot(-9.5+i,confusion_10[i]+x_std[i]+0.10,'*',c='black', ms=20)\n",
    "\n",
    "plt.show()\n",
    "#plt.savefig('./time_svm_'+str(jobid)+'.jpg')\n",
    "#plt.close()"
   ]
  },
  {
   "cell_type": "code",
   "execution_count": 10,
   "metadata": {},
   "outputs": [
    {
     "name": "stdout",
     "output_type": "stream",
     "text": [
      "(7, 16384)\n"
     ]
    }
   ],
   "source": [
    "data= np.load('/media/cat/4TBSSD/yuki/IJ2/tif_files/IJ2pm_Mar3_30Hz/IJ2pm_Mar3_30Hz_code_04_lockout_10sec_random_ROItimeCourses_10sec_pca_0.95_spatial.npy')\n",
    "print (data.shape)"
   ]
  },
  {
   "cell_type": "code",
   "execution_count": 38,
   "metadata": {},
   "outputs": [],
   "source": [
    "\n",
    "def make_video_dlc(traces,\n",
    "                   movements,\n",
    "                   fname_video,\n",
    "                   start=0,\n",
    "                   end=1000):\n",
    "    \n",
    "    ####################################################################\n",
    "    ################## MAKE LABELED VIDEOS #############################\n",
    "    ####################################################################\n",
    "    import cv2\n",
    "    from tqdm import trange\n",
    "    \n",
    "    \n",
    "    clrs = ['blue','red','yellow','green', 'magenta','pink','cyan']\n",
    "\n",
    "\n",
    "    #\n",
    "    #traces = np.load(fname_traces)\n",
    "    print (\"Traces: \", traces.shape)\n",
    "\n",
    "    #\n",
    "    #fname_in = '/media/cat/4TBSSD/yuki_lever-ariadna-2020-07-21/IA1/videos_to_label/prestroke/IA1pm_Feb5_30Hz.mp4'\n",
    "    original_vid = cv2.VideoCapture(fname_video)\n",
    "\n",
    "    #\n",
    "    original_vid.set(cv2.CAP_PROP_POS_FRAMES, start)\n",
    "    ret, frame = original_vid.read()\n",
    "    original_vid.set(cv2.CAP_PROP_POS_FRAMES, start)\n",
    "    \n",
    "    # set video sizes\n",
    "    size_vid = np.array([frame.shape[1],frame.shape[0]])\n",
    "    dot_size = 16\n",
    "    \n",
    "    #\n",
    "    fname_out = fname_video.replace('.mp4','_labeled_'+str(start)+\"_\"+str(end)+'.mp4')\n",
    "    fourcc = cv2.VideoWriter_fourcc('M','P','E','G')\n",
    "    video_out = cv2.VideoWriter(fname_out,fourcc, 25, (size_vid[0],size_vid[1]), True)\n",
    "\n",
    "    #\n",
    "    dot_size = 5\n",
    "\n",
    "    # setup cutoff\n",
    "    pcutoff = 0.5\n",
    "    font = cv2.FONT_HERSHEY_PLAIN\n",
    "\n",
    "    #\n",
    "    for n in trange(start, end, 1):\n",
    "        ret, frame = original_vid.read()\n",
    "        if n==start:\n",
    "            print (\"Frame size read: \", frame.shape)\n",
    "\n",
    "        cv2.putText(frame, str(n)+ \"  \" +str(round(n/15.,1)),\n",
    "                    (50, 50),\n",
    "                    font, 3,\n",
    "                    (255, 255, 0),\n",
    "                    5)\n",
    "\n",
    "\n",
    "        # loop over the featuers\n",
    "        for f in range(traces.shape[0]):\n",
    "            if traces[f,n,2]<pcutoff:\n",
    "                continue\n",
    "\n",
    "            # check if movement occured\n",
    "            if movements[f][n]==1:\n",
    "                dot_size=15\n",
    "            else:\n",
    "                dot_size=5\n",
    "\n",
    "            #\n",
    "            x = int(traces[f,n,0])\n",
    "            y = int(traces[f,n,1])\n",
    "            frame[y-dot_size:y+dot_size,x-dot_size:x+dot_size]= (np.float32(\n",
    "                matplotlib.colors.to_rgb(clrs[f]))*255.).astype('uint8')\n",
    "                #matplotlib.colors.to_rgb('white'))*255.).astype('uint8')\n",
    "\n",
    "        video_out.write(frame)\n",
    "\n",
    "    video_out.release()\n",
    "    original_vid.release()\n",
    "    cv2.destroyAllWindows()"
   ]
  },
  {
   "cell_type": "code",
   "execution_count": 41,
   "metadata": {},
   "outputs": [
    {
     "name": "stderr",
     "output_type": "stream",
     "text": [
      "\r",
      "  0%|          | 0/900 [00:00<?, ?it/s]"
     ]
    },
    {
     "name": "stdout",
     "output_type": "stream",
     "text": [
      "(7, 19924, 3)\n",
      "movements:  (7, 19981)\n",
      "(7, 20782, 3)\n",
      "movements:  (20782,)\n",
      "Traces:  (7, 20782, 3)\n",
      "Frame size read:  (720, 1280, 3)\n"
     ]
    },
    {
     "name": "stderr",
     "output_type": "stream",
     "text": [
      "100%|██████████| 900/900 [00:14<00:00, 61.02it/s]\n"
     ]
    }
   ],
   "source": [
    "# traces = np.load('/media/cat/4TBSSD/yuki/IA3/tif_files/IA3pm_Feb11_30Hz/IA3_2016-02-11_14-19-04.641DLC_resnet50_yuki_leverJul21shuffle1_100000.npy')\n",
    "# fname_video = '/media/cat/4TBSSD/yuki/IA3/vids/prestroke/IA3_2016-02-11_14-19-04.641.mp4'\n",
    "# print (traces.shape)\n",
    "\n",
    "# data = np.load('/media/cat/4TBSSD/yuki/IA3/tif_files/IA3pm_Feb2_30Hz/IA3pm_Feb2_30Hz_5secNoMove_movements.npz', allow_pickle=True)\n",
    "# movements = data['feature_movements_times']\n",
    "# print (\"movements: \", movements.shape)\n",
    "#\n",
    "\n",
    "traces = np.load('/media/cat/4TBSSD/yuki/IJ2/tif_files/IJ2pm_Feb1_30Hz/IJ2_2016-02-01_15-31-33.662DLC_resnet50_yuki_leverJul21shuffle1_278000.npy')\n",
    "fname_video = '/media/cat/4TBSSD/yuki/IJ2/vids/prestroke/IJ2_2016-02-01_15-31-33.662.mp4'\n",
    "print (traces.shape)\n",
    "\n",
    "data = np.load('/media/cat/4TBSSD/yuki/IJ2/tif_files/IJ2pm_Feb1_30Hz/IJ2pm_Feb1_30Hz_5secNoMove_movements.npz', allow_pickle=True)\n",
    "movements = data['feature_movements_times']\n",
    "print (\"movements: \", movements[0].shape)\n",
    "\n",
    "\n",
    "# \n",
    "start = 478*15\n",
    "end = start+60*15\n",
    "make_video_dlc(traces,\n",
    "               movements,\n",
    "               fname_video,\n",
    "               start,\n",
    "               end)"
   ]
  },
  {
   "cell_type": "code",
   "execution_count": null,
   "metadata": {},
   "outputs": [],
   "source": []
  },
  {
   "cell_type": "code",
   "execution_count": null,
   "metadata": {},
   "outputs": [],
   "source": []
  }
 ],
 "metadata": {
  "kernelspec": {
   "display_name": "Python 3",
   "language": "python",
   "name": "python3"
  },
  "language_info": {
   "codemirror_mode": {
    "name": "ipython",
    "version": 3
   },
   "file_extension": ".py",
   "mimetype": "text/x-python",
   "name": "python",
   "nbconvert_exporter": "python",
   "pygments_lexer": "ipython3",
   "version": "3.8.0"
  }
 },
 "nbformat": 4,
 "nbformat_minor": 4
}
