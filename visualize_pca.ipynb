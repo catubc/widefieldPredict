{
 "cells": [
  {
   "cell_type": "code",
   "execution_count": 3,
   "metadata": {},
   "outputs": [
    {
     "name": "stdout",
     "output_type": "stream",
     "text": [
      "The autoreload extension is already loaded. To reload it, use:\n",
      "  %reload_ext autoreload\n"
     ]
    },
    {
     "data": {
      "application/javascript": [
       "IPython.notebook.set_autosave_interval(180000)"
      ]
     },
     "metadata": {},
     "output_type": "display_data"
    },
    {
     "name": "stdout",
     "output_type": "stream",
     "text": [
      "Autosaving every 180 seconds\n"
     ]
    },
    {
     "data": {
      "text/html": [
       "<style>.container { width:100% !important; }</style>"
      ],
      "text/plain": [
       "<IPython.core.display.HTML object>"
      ]
     },
     "metadata": {},
     "output_type": "display_data"
    }
   ],
   "source": [
    "import matplotlib\n",
    "matplotlib.use('Agg')\n",
    "\n",
    "%load_ext autoreload\n",
    "%autoreload 2\n",
    "\n",
    "%matplotlib tk\n",
    "%autosave 180\n",
    "import matplotlib.pyplot as plt\n",
    "from IPython.core.display import display, HTML\n",
    "display(HTML(\"<style>.container { width:100% !important; }</style>\"))\n",
    "\n",
    "import numpy as np\n",
    "import os\n",
    "\n",
    "import glob2\n",
    "\n",
    "# visualize results module\n",
    "from Visualize import Visualize\n",
    "\n",
    "# \n",
    "#data_dir = '/media/cat/4TBSSD/yuki/'\n",
    "data_dir = '/media/cat/4TBSSD/yuki/'\n"
   ]
  },
  {
   "cell_type": "code",
   "execution_count": 62,
   "metadata": {},
   "outputs": [],
   "source": [
    "##########################\n",
    "####### INITIALIZE #######\n",
    "##########################\n",
    "# LEVER PULL\n",
    "vis = Visualize()\n",
    "\n",
    "# lever-related data\n",
    "vis.main_dir = data_dir\n",
    "vis.random_flag = False  # shuffle data to show baseline\n",
    "\n",
    "# \n",
    "vis.window = 30\n",
    "vis.lockout_window = 10\n",
    "vis.code = 'code_04'\n",
    "vis.lockout = False\n",
    "\n",
    "vis.pca_var = 0.95\n",
    "vis.pca_flag = True\n"
   ]
  },
  {
   "cell_type": "code",
   "execution_count": 3,
   "metadata": {},
   "outputs": [],
   "source": [
    "# ###############################\n",
    "# ######## PLOT SVM CHOICE ######\n",
    "# ###############################\n",
    "# vis.animal_id = \"IJ2\"\n",
    "# vis.smooth_window = 30\n",
    "# vis.min_trials = 30\n",
    "\n",
    "# vis.plot_decision_choice_all()\n"
   ]
  },
  {
   "cell_type": "code",
   "execution_count": 25,
   "metadata": {
    "collapsed": true
   },
   "outputs": [
    {
     "ename": "NameError",
     "evalue": "name 'vis' is not defined",
     "output_type": "error",
     "traceback": [
      "\u001b[0;31m---------------------------------------------------------------------------\u001b[0m",
      "\u001b[0;31mNameError\u001b[0m                                 Traceback (most recent call last)",
      "\u001b[0;32m<ipython-input-25-6f5dc5603584>\u001b[0m in \u001b[0;36m<module>\u001b[0;34m\u001b[0m\n\u001b[1;32m      2\u001b[0m \u001b[0;31m######## PLOT SVM CHOICE SESSION ########\u001b[0m\u001b[0;34m\u001b[0m\u001b[0;34m\u001b[0m\u001b[0;34m\u001b[0m\u001b[0m\n\u001b[1;32m      3\u001b[0m \u001b[0;31m#########################################\u001b[0m\u001b[0;34m\u001b[0m\u001b[0;34m\u001b[0m\u001b[0;34m\u001b[0m\u001b[0m\n\u001b[0;32m----> 4\u001b[0;31m \u001b[0mvis\u001b[0m\u001b[0;34m.\u001b[0m\u001b[0msignificance\u001b[0m \u001b[0;34m=\u001b[0m \u001b[0;36m0.05\u001b[0m\u001b[0;34m\u001b[0m\u001b[0;34m\u001b[0m\u001b[0m\n\u001b[0m\u001b[1;32m      5\u001b[0m \u001b[0mvis\u001b[0m\u001b[0;34m.\u001b[0m\u001b[0mlinewidth\u001b[0m\u001b[0;34m=\u001b[0m\u001b[0;36m10\u001b[0m\u001b[0;34m\u001b[0m\u001b[0;34m\u001b[0m\u001b[0m\n\u001b[1;32m      6\u001b[0m \u001b[0;34m\u001b[0m\u001b[0m\n",
      "\u001b[0;31mNameError\u001b[0m: name 'vis' is not defined"
     ]
    }
   ],
   "source": [
    "#########################################\n",
    "######## PLOT SVM CHOICE SESSION ########\n",
    "#########################################\n",
    "vis.significance = 0.05\n",
    "vis.linewidth=10\n",
    "\n",
    "#\n",
    "vis.cbar_offset = 0\n",
    "vis.smooth_window = 30\n",
    "vis.lockout = False\n",
    "vis.xvalidation = 10\n",
    "vis.sliding_window = 30\n",
    "\n",
    "# \n",
    "vis.min_trials = 30\n",
    "\n",
    "############################\n",
    "# Fig 2E\n",
    "vis.window = 30\n",
    "\n",
    "# examples > 10 sec\n",
    "#vis.animal_id = \"AQ2\"\n",
    "#vis.session_id = 'Feb12_'\n",
    "#vis.session_id = 'Mar15_'\n",
    "#vis.session_id = 'Mar18_'\n",
    "#vis.session_id = 'Apr4_'\n",
    "#vis.session_id = 'Apr22_'\n",
    "\n",
    "vis.animal_id = 'IJ2'\n",
    "\n",
    "vis.cbar_thick = 0.05\n",
    "\n",
    "# # \n",
    "\n",
    "\n",
    "# # \n",
    "# vis.save_fname = '/home/cat/predict.png'\n",
    "\n",
    "# alpha = 1.0\n",
    "# #sessions = ['IJ2pm_Feb29_30Hz','IJ2pm_Mar1_30Hz','IJ2pm_Mar2_30Hz','IJ2pm_Mar3_30Hz','IJ2am_Mar7_30Hz' ]\n",
    "# sessions = ['IJ2pm_Mar2_30Hz' ]\n",
    "\n",
    "# for session in sessions:\n",
    "#     vis.fig=plt.figure(figsize=(10,20))\n",
    "#     vis.ax = plt.subplot(111)\n",
    "\n",
    "# #         #if lockout==False:\n",
    "# #     vis.session_id = session\n",
    "# #     vis.cmap = \"Blues_r\"\n",
    "# #     vis.alpha = alpha\n",
    "# #     vis.plot_significant('blue',vis.session_id)\n",
    "\n",
    "#     print (\"\")\n",
    "#     vis.session_id = 'concatenated'\n",
    "#     vis.fname = '/media/cat/4TBSSD/yuki/IJ2/SVM_Scores/SVM_Scores_concatenatedcode_04_trial_ROItimeCourses_30sec_Xvalid5_Slidewindow30_5PCA_5PCA.npz'\n",
    "#     vis.cmap = \"Greens_r\"\n",
    "#     vis.title = '5pca'\n",
    "#     vis.title_offset = 0\n",
    "#     vis.cbar=True\n",
    "#     vis.plot_significant_concatenated('green',vis.session_id)\n",
    "\n",
    "#     vis.session_id = 'concatenated'\n",
    "#     vis.fname = '/media/cat/4TBSSD/yuki/IJ2/SVM_Scores/SVM_Scores_concatenated_code_04_trial_ROItimeCourses_30sec_Xvalid10_Slidewindow30.npz'\n",
    "#     vis.cmap = \"Reds_r\"\n",
    "#     vis.title = '20pca'\n",
    "#     vis.cbar=False\n",
    "#     vis.title_offset = -0.05\n",
    "#     vis.plot_significant_concatenated('red',vis.session_id)\n",
    "    \n",
    "\n",
    "\n",
    "#     vis.cbar_offset=0\n",
    "#     plt.show()\n",
    "#     break"
   ]
  },
  {
   "cell_type": "code",
   "execution_count": 60,
   "metadata": {
    "collapsed": true
   },
   "outputs": [
    {
     "name": "stdout",
     "output_type": "stream",
     "text": [
      "(841,)\n",
      "(841,)\n",
      "(841,)\n",
      "(841,)\n",
      "(841,)\n",
      "(841,)\n",
      "(841,)\n",
      "(841,)\n",
      "(841,)\n",
      "(841,)\n",
      "(841,)\n",
      "(841,)\n",
      "(841,)\n",
      "(841,)\n",
      "(841,)\n",
      "(841,)\n",
      "(841,)\n",
      "(841,)\n",
      "(841,)\n",
      "(841,)\n",
      "(841,)\n",
      "(841,)\n",
      "(841,)\n",
      "(841,)\n",
      "(841,)\n",
      "(841,)\n",
      "(841,)\n",
      "(841,)\n",
      "(841,)\n",
      "(841,)\n",
      "(841,)\n",
      "(841,)\n",
      "(841,)\n",
      "(841,)\n",
      "(841,)\n",
      "(841,)\n",
      "(841,)\n",
      "(841,)\n",
      "(841,)\n",
      "(841,)\n",
      "(841,)\n",
      "(841,)\n",
      "(841,)\n",
      "(841,)\n",
      "(841,)\n",
      "(841,)\n",
      "(841,)\n",
      "(841,)\n",
      "(841,)\n",
      "(841,)\n",
      "(841,)\n",
      "(841,)\n",
      "(841,)\n",
      "(841,)\n",
      "(841,)\n",
      "(841,)\n",
      "(841,)\n",
      "(841,)\n",
      "(841,)\n",
      "(841,)\n",
      "(841,)\n",
      "(841,)\n",
      "(841,)\n",
      "(841,)\n",
      "(841,)\n",
      "(841,)\n",
      "(841,)\n",
      "(841,)\n",
      "(841,)\n",
      "(841,)\n",
      "(841,)\n",
      "(841,)\n",
      "(841,)\n",
      "(841,)\n",
      "(841,)\n",
      "(841,)\n",
      "(841,)\n",
      "(841,)\n",
      "(841,)\n",
      "(841,)\n",
      "(841,)\n",
      "(841,)\n",
      "(841,)\n",
      "(841,)\n",
      "(841,)\n",
      "(841,)\n",
      "(841,)\n",
      "(841,)\n",
      "(841,)\n",
      "(841,)\n",
      "(841,)\n",
      "(841,)\n",
      "(841,)\n",
      "(841,)\n",
      "(841,)\n",
      "(841,)\n",
      "(841,)\n",
      "(841,)\n",
      "(841,)\n",
      "(841,)\n",
      "(841,)\n",
      "(841,)\n",
      "(841,)\n",
      "(841,)\n",
      "(841,)\n",
      "(841,)\n",
      "(841,)\n",
      "(841,)\n",
      "(841,)\n",
      "(841,)\n",
      "(841,)\n",
      "(841,)\n",
      "(841,)\n",
      "(841,)\n",
      "(841,)\n",
      "(841,)\n",
      "(841,)\n",
      "(841,)\n",
      "(841,)\n",
      "(841,)\n",
      "(841,)\n",
      "(841,)\n",
      "(841,)\n",
      "(841,)\n",
      "(841,)\n",
      "(841,)\n",
      "(841,)\n",
      "(841,)\n",
      "(841,)\n",
      "(841,)\n",
      "(841,)\n",
      "(841,)\n",
      "(841,)\n",
      "(841,)\n",
      "(841,)\n",
      "(841,)\n",
      "(841,)\n",
      "(841,)\n",
      "(841,)\n",
      "(841,)\n",
      "(841,)\n",
      "(841,)\n",
      "(841,)\n",
      "(841,)\n",
      "(841,)\n",
      "(841,)\n",
      "(841,)\n",
      "(841,)\n",
      "(841,)\n",
      "(841,)\n",
      "(841,)\n",
      "(841,)\n",
      "(841,)\n",
      "(841,)\n",
      "(841,)\n",
      "(841,)\n",
      "(841,)\n",
      "(841,)\n",
      "(841,)\n",
      "(841,)\n",
      "(841,)\n",
      "(841,)\n",
      "(841,)\n",
      "(841,)\n",
      "(841,)\n",
      "(841,)\n",
      "(841,)\n",
      "(841,)\n",
      "(841,)\n",
      "(841,)\n",
      "(841,)\n",
      "(841,)\n",
      "(841,)\n",
      "(841,)\n",
      "(841,)\n",
      "(841,)\n",
      "(841,)\n",
      "(841,)\n",
      "(841,)\n",
      "(841,)\n",
      "(841,)\n",
      "(841,)\n",
      "(841,)\n",
      "(841,)\n",
      "(841,)\n",
      "(841,)\n",
      "(841,)\n",
      "(841,)\n",
      "(841,)\n",
      "(841,)\n",
      "(841,)\n",
      "(841,)\n",
      "(841,)\n",
      "(841,)\n",
      "(841,)\n",
      "(841,)\n",
      "(841,)\n",
      "(841,)\n",
      "(841,)\n"
     ]
    }
   ],
   "source": [
    "###################################################\n",
    "############# PLOT PREDICTOIN TRENDS ##############\n",
    "###################################################\n",
    "\n",
    "names = ['IA1','IA2','IA3','IJ1','IJ2']\n",
    "\n",
    "auc = []\n",
    "fig, ax = plt.subplots()\n",
    "\n",
    "for k, name in enumerate(names):\n",
    "    fnames = np.loadtxt('/media/cat/4TBSSD/yuki/'+name+'/concatenated_svm.txt',dtype='str') #[::-1]\n",
    "\n",
    "    ax=plt.subplot(2,3,k+1)\n",
    "    colors = plt.cm.viridis(np.linspace(0,1,len(fnames)))\n",
    "\n",
    "    smooth = True\n",
    "    smooth_window = 30\n",
    "    auc.append([])\n",
    "    for ctr,fname in enumerate(fnames):\n",
    "\n",
    "        data = np.load(fname, allow_pickle=True)\n",
    "        acc = data['accuracy']\n",
    "        #print (acc.shape)\n",
    "\n",
    "        if smooth:            \n",
    "            data = []\n",
    "            for p in range(acc.shape[1]):\n",
    "                box = np.ones(smooth_window)/smooth_window\n",
    "                trace_smooth = np.convolve(acc[:,p], \n",
    "                                           box, \n",
    "                                           mode='valid')\n",
    "\n",
    "                data.append(trace_smooth)\n",
    "\n",
    "            acc = np.array(data).copy().T\n",
    "\n",
    "        # \n",
    "        mean = acc.mean(1)\n",
    "\n",
    "        t = np.arange(mean.shape[0])/30-29\n",
    "        ax.plot(t,mean,\n",
    "                 linewidth=2,\n",
    "                color=colors[ctr])\n",
    "    \n",
    "        # append area under cruve up to t = -10sec\n",
    "        print (mean.shape)\n",
    "        temp = mean[-300:]  # last 10sec prior to movement\n",
    "        auc[k].append(temp.sum())\n",
    "\n",
    "# \n",
    "fig2=plt.figure()\n",
    "for k in range(len(auc)):\n",
    "    plt.plot(auc[k], label=names[k],\n",
    "            linewidth=4)\n",
    "plt.legend(fontsize=20)\n",
    "plt.show()\n",
    "    "
   ]
  },
  {
   "cell_type": "code",
   "execution_count": 143,
   "metadata": {},
   "outputs": [],
   "source": [
    "###############################################################\n",
    "################# VISUALIZE PCA 2D MAPS #######################\n",
    "###############################################################\n",
    "\n",
    "masktxt = np.int32(np.loadtxt('/media/cat/4TBSSD/yuki/IJ2/genericmask.txt'))\n",
    "#print (masktxt)\n",
    "\n",
    "mask = np.ones((128,128),'float32')\n",
    "for k in range(masktxt.shape[0]):\n",
    "    #print (masktxt[k][0],masktxt[k][1])\n",
    "    mask[masktxt[k][0],masktxt[k][1]]=np.nan\n",
    "\n",
    "# \n",
    "data = np.load('/media/cat/4TBSSD/yuki/IJ2/tif_files/IJ2pm_Mar2_30Hz/IJ2pm_Mar2_30Hz_code_04_trial_ROItimeCourses_30sec_pca_0.95_spatial.npy')\n",
    "#print (data.shape)\n",
    "data = data.reshape(data.shape[0],128,128)\n",
    "for k in range(4):\n",
    "    ax=plt.subplot(2,2,k+1)\n",
    "    vmin = np.min(data[k])\n",
    "    vmax = np.max(data[k])\n",
    "    \n",
    "    # \n",
    "    #print (k, vmin,vmax)\n",
    "    plt.imshow(data[k]*mask, vmin=vmin, vmax=vmax)\n",
    "    plt.xticks([])\n",
    "    plt.yticks([])\n",
    "plt.show()"
   ]
  },
  {
   "cell_type": "code",
   "execution_count": 151,
   "metadata": {},
   "outputs": [
    {
     "name": "stdout",
     "output_type": "stream",
     "text": [
      "fname:  /media/cat/4TBSSD/yuki/IJ1/tif_files/IJ1pm_Mar3_30Hz/IJ1pm_Mar3_30Hz_code_04_trial_ROItimeCourses_30sec_pca_0.95.npy\n",
      "pca_space:  (7, 128, 128)\n",
      "pca_trials:  (132, 6, 900)\n",
      "fname:  /media/cat/4TBSSD/yuki/IJ1/tif_files/IJ1pm_Mar3_30Hz/IJ1pm_Mar3_30Hz_code_04_random_ROItimeCourses_30sec_pca_0.95.npy\n",
      "pca_space:  (7, 128, 128)\n",
      "pca_trials:  (132, 6, 900)\n"
     ]
    }
   ],
   "source": [
    "###############################################################\n",
    "################# VISUALIZE PCA FILTERS #######################\n",
    "###############################################################\n",
    "\n",
    "#\n",
    "def plot_pca_timecourses(animal_id,\n",
    "                         session_id, \n",
    "                        class_type,\n",
    "                        n_pca,\n",
    "                        xlim):\n",
    "\n",
    "    class_types = ['trial','random']\n",
    "    clrs = ['blue','black']\n",
    "    ctr=0\n",
    "    fig =plt.figure()\n",
    "    for class_type in class_types:\n",
    "        # \n",
    "        fname = '/media/cat/4TBSSD/yuki/'+animal_id+'/tif_files/'+session_id+\"/\"+session_id+'_code_04_trial_ROItimeCourses_30sec_pca_0.95.npy'\n",
    "        fname = fname.replace('trial',class_type)\n",
    "        print (\"fname: \", fname)\n",
    "\n",
    "        fname_spatial = '/media/cat/4TBSSD/yuki/'+animal_id+'/tif_files/'+session_id+\"/\"+session_id+'_code_04_trial_ROItimeCourses_30sec_pca_0.95_spatial.npy'\n",
    "        pca_space =np.load(fname_spatial).reshape(-1, 128,128)\n",
    "        print (\"pca_space: \", pca_space.shape)\n",
    "        \n",
    "        # \n",
    "        pca_trials = np.load(fname)\n",
    "        pca_trials = pca_trials[:,:,:900]\n",
    "        n_pca = min(pca_trials.shape[1],n_pca)\n",
    "        pca_trials = pca_trials[:,:n_pca,:900]\n",
    "        print (\"pca_trials: \", pca_trials.shape)\n",
    "\n",
    "        # \n",
    "        means = np.mean(pca_trials,0)\n",
    "        std = np.std(pca_trials,0)\n",
    "        t = np.arange(means.shape[1])/30 - 30.\n",
    "        \n",
    "        if class_type=='trial':\n",
    "            ylims = []\n",
    "            \n",
    "        for k in range(means.shape[0]):\n",
    "            ax=plt.subplot(3,n_pca,ctr+1)\n",
    "            \n",
    "            for p in range(pca_trials.shape[0]):\n",
    "                plt.plot(t,pca_trials[p,k],\n",
    "                         c=clrs[ctr//n_pca],\n",
    "                         alpha=.1)\n",
    "                if p>50:\n",
    "                    break\n",
    "\n",
    "            plt.plot(t,means[k],\n",
    "                    linewidth=2,\n",
    "                    c='red',\n",
    "                    label=\"PC: \"+str(k+1))\n",
    "            plt.legend(fontsize=20)\n",
    "\n",
    "            \n",
    "            if class_type=='trial':\n",
    "                vmax = max(-np.min(means[k]),\n",
    "                           np.max(means[k]))*5\n",
    "                plt.ylim(-vmax,vmax)\n",
    "                ylims.append(vmax)\n",
    "            else:\n",
    "                plt.ylim(-ylims[k],ylims[k])\n",
    "                \n",
    "            \n",
    "            if ctr==0:\n",
    "                plt.ylabel(\"Trials\")\n",
    "            elif ctr==n_pca:\n",
    "                plt.ylabel(\"Random\")\n",
    "                \n",
    "            plt.xlim(xlim[0],0)\n",
    "            ctr+=1\n",
    "        plt.xlim(t[0],t[-1])\n",
    "        \n",
    "        \n",
    "    for k in range(n_pca):\n",
    "        ax=plt.subplot(3,n_pca,ctr+1)\n",
    "        if k==0:\n",
    "            plt.ylabel(\"PCA loadings\")\n",
    "        plt.imshow(pca_space[k])\n",
    "        ctr+=1\n",
    "\n",
    "    plt.suptitle(session_id+ \"  # trials: \"+str(pca_trials.shape[0]), fontsize=20)\n",
    "    plt.show()\n",
    "\n",
    "    return pca_trials\n",
    "\n",
    "animal_id = \"IJ1\"\n",
    "session_id = 'IJ1pm_Mar3_30Hz'\n",
    "n_pca = 6\n",
    "xlim=[-30,0]\n",
    "pca_trials = plot_pca_timecourses(animal_id,\n",
    "                                session_id,\n",
    "                                class_type,\n",
    "                                n_pca,\n",
    "                                xlim)"
   ]
  },
  {
   "cell_type": "code",
   "execution_count": 160,
   "metadata": {},
   "outputs": [
    {
     "name": "stdout",
     "output_type": "stream",
     "text": [
      "(79, 9, 1801) (9, 16384) torch.Size([79, 1801, 128, 128])\n",
      "DATA_STM:  torch.Size([79, 1801, 128, 128])\n",
      "    denoising data (pca.transofrm(X)) \n",
      "        done denoising data\n"
     ]
    }
   ],
   "source": [
    "#################################################################\n",
    "######### USE FILTERS FROM ONE SESSION DO DENOISE ANOTHER #######\n",
    "#################################################################\n",
    "import pickle as pk\n",
    "def get_pca_filters(pca, data_stm):\n",
    "\n",
    "    # compute # of components needed for reconsturction to the requierd limit\n",
    "    nComp = 6\n",
    "\n",
    "    print (\"DATA_STM: \", data_stm.shape)\n",
    "    X = data_stm.reshape(data_stm.shape[0]*data_stm.shape[1],\n",
    "                         data_stm.shape[2]*data_stm.shape[3])\n",
    "\n",
    "    #\n",
    "    print(\"    denoising data (pca.transofrm(X)) \")\n",
    "    time_filters = pca.transform(X)[:,:nComp]\n",
    "\n",
    "    time_filters = np.array(time_filters)\n",
    "    print(\"        done denoising data\")\n",
    "    pca_time_filters = time_filters.reshape(data_stm.shape[0],\n",
    "                                             data_stm.shape[1],\n",
    "                                             -1).transpose(0,2,1)\n",
    "    pca_spatial_filters = pca.components_[:nComp,:]\n",
    "\n",
    "    return pca_time_filters, pca_spatial_filters\n",
    "\n",
    "def expand(r1,r2):\n",
    "    import torch\n",
    "    \n",
    "    r1 = torch.from_numpy(r1.transpose(0,2,1))\n",
    "    r2 = torch.from_numpy(r2)\n",
    "    r3 = torch.matmul(r1, r2)\n",
    "\n",
    "    del r1\n",
    "    del r2\n",
    "    torch.cuda.empty_cache()\n",
    "\n",
    "    return r3\n",
    "\n",
    "# pca object\n",
    "fname_pca = '/media/cat/4TBSSD/yuki/IJ2/tif_files/IJ2pm_Mar2_30Hz/IJ2pm_Mar2_30Hz_code_04_trial_ROItimeCourses_30sec_pca.pkl'\n",
    "file = open(fname_pca, 'rb')\n",
    "pca = pk.load(file)\n",
    "\n",
    "\n",
    "# load data to be denoised\n",
    "r2 = np.load('/media/cat/4TBSSD/yuki/IA2/tif_files/IA2am_Mar11_30Hz/IA2am_Mar11_30Hz_code_04_trial_ROItimeCourses_30sec_pca_0.95_spatial.npy')\n",
    "r1 = np.load('/media/cat/4TBSSD/yuki/IA2/tif_files/IA2am_Mar11_30Hz/IA2am_Mar11_30Hz_code_04_trial_ROItimeCourses_30sec_pca_0.95.npy')\n",
    "r3 = expand(r1,r2)\n",
    "r3 = r3.reshape(r3.shape[0],r3.shape[1],128,128)\n",
    "print (r1.shape, r2.shape, r3.shape)\n",
    "\n",
    "# denoise data\n",
    "pca_time_filters, pca_spatial_filters = get_pca_filters(pca, r3)\n",
    "\n",
    "print (pca_time_filters.shape, pca_spatial_filters.shape)\n",
    "\n",
    "# plot results\n",
    "n_pca = 6\n",
    "for k in range(n_pca):\n",
    "    ax=plt.subplot(2,3,k+1)\n",
    "    t= np.arange(900)/30.-30\n",
    "    mean = r1.mean(0)\n",
    "    plt.plot(t,mean[k][:900],c='blue',label='original')\n",
    "    \n",
    "    # \n",
    "    mean = pca_time_filters.mean(0)\n",
    "    plt.plot(t,mean[k][:900],c='red', label='global denoised')\n",
    "\n",
    "    plt.legend()\n",
    "plt.show()\n",
    "    "
   ]
  },
  {
   "cell_type": "code",
   "execution_count": 169,
   "metadata": {},
   "outputs": [
    {
     "name": "stdout",
     "output_type": "stream",
     "text": [
      "(79, 6, 1801) (6, 16384)\n"
     ]
    }
   ],
   "source": [
    "\n",
    "    "
   ]
  },
  {
   "cell_type": "code",
   "execution_count": null,
   "metadata": {},
   "outputs": [],
   "source": []
  },
  {
   "cell_type": "code",
   "execution_count": null,
   "metadata": {},
   "outputs": [],
   "source": []
  },
  {
   "cell_type": "code",
   "execution_count": 153,
   "metadata": {},
   "outputs": [
    {
     "name": "stdout",
     "output_type": "stream",
     "text": [
      "(900, 6)\n",
      "(900, 2)\n"
     ]
    }
   ],
   "source": [
    "###############################################################\n",
    "########## VISUALIZE PC1 and PC2 DYNAMICS #####################\n",
    "###############################################################\n",
    "import numpy as np\n",
    "from sklearn.decomposition import PCA\n",
    "#X = np.array([[-1, -1], [-2, -1], [-3, -2], [1, 1], [2, 1], [3, 2]])\n",
    "#X = data_all.transpose(2,0,1).reshape(data_all.shape[2],-1)\n",
    "\n",
    "data_all = pca_trials\n",
    "X = np.mean(data_all,0).transpose(1,0)\n",
    "print (X.shape)\n",
    "\n",
    "if True:\n",
    "\n",
    "    pca = PCA(n_components=2)\n",
    "    pca.fit(X)\n",
    "    Xfit = pca.transform(X)\n",
    "    print (Xfit.shape)\n",
    "\n",
    "else:\n",
    "    Xfit = X.copy()\n",
    "    \n",
    "cmap = plt.cm.viridis\n",
    "cmap2 = plt.cm.magma\n",
    "\n",
    "# \n",
    "plt.scatter(Xfit[:,0], Xfit[:,1], \n",
    "            c=np.arange(X.shape[0]), s=100,\n",
    "            cmap=cmap)\n",
    "# \n",
    "for k in range(0,900,30):\n",
    "    if (k-900)/30.==-30 or (k-900)/30.>=-7:\n",
    "        plt.text(Xfit[k,0], Xfit[k,1],\n",
    "              str((k-900)/30.),fontsize=40)\n",
    "        \n",
    "        plt.scatter(\n",
    "            Xfit[k,0], Xfit[k,1], \n",
    "            c='red', s=200,\n",
    "        )\n",
    "\n",
    "k = 899\n",
    "plt.text(Xfit[k,0], Xfit[k,1],\n",
    "      str(0.0),fontsize=40)\n",
    "\n",
    "plt.scatter(\n",
    "    Xfit[k,0], Xfit[k,1], \n",
    "    c='red', s=200,\n",
    ")\n",
    "\n",
    "plt.xticks([])\n",
    "plt.yticks([])\n",
    "\n",
    "plt.show()\n",
    "\n",
    "# \n",
    "#PCA(n_components=2)\n",
    "#print(pca.explained_variance_ratio_)\n",
    "#print(pca.singular_values_)\n"
   ]
  },
  {
   "cell_type": "code",
   "execution_count": 154,
   "metadata": {
    "scrolled": true
   },
   "outputs": [
    {
     "name": "stderr",
     "output_type": "stream",
     "text": [
      "\r",
      "  0%|          | 0/6 [00:00<?, ?it/s]"
     ]
    },
    {
     "name": "stdout",
     "output_type": "stream",
     "text": [
      " ... data missing /media/cat/4TBSSD/yuki/IA1/SVM_Scores/SVM_Scores_IA1pm_Feb1_30Hzcode_04_lockout_10sec_trial_ROItimeCourses_30sec_Xvalid10_Slidewindow30.npz\n",
      "LOADED: DATA (900, 10)\n",
      " post fname:  (900, 10)\n",
      "self.data:  (871, 10)\n",
      "Self sig save:  (871,)\n",
      "data into multi-hypothesis tes: (871,)\n",
      "Final sig:  (1, 871)\n",
      "LOADED: DATA (900, 10)\n",
      " post fname:  (900, 10)\n",
      "self.data:  (871, 10)\n",
      "Self sig save:  (871,)\n",
      "data into multi-hypothesis tes: (871,)\n",
      "Final sig:  (1, 871)\n",
      " ... data missing /media/cat/4TBSSD/yuki/IA1/SVM_Scores/SVM_Scores_IA1pm_Feb4_30Hzcode_04_lockout_10sec_trial_ROItimeCourses_30sec_Xvalid10_Slidewindow30.npz\n",
      " ... data missing /media/cat/4TBSSD/yuki/IA1/SVM_Scores/SVM_Scores_IA1pm_Feb5_30Hzcode_04_lockout_10sec_trial_ROItimeCourses_30sec_Xvalid10_Slidewindow30.npz\n",
      "LOADED: DATA (900, 10)\n",
      " post fname:  (900, 10)\n",
      "self.data:  (871, 10)\n",
      "Self sig save:  (871,)\n",
      "data into multi-hypothesis tes: (871,)\n",
      "Final sig:  (1, 871)\n",
      " ... data missing /media/cat/4TBSSD/yuki/IA1/SVM_Scores/SVM_Scores_IA1pm_Feb10_30Hzcode_04_lockout_10sec_trial_ROItimeCourses_30sec_Xvalid10_Slidewindow30.npz\n",
      "LOADED: DATA (900, 10)\n",
      " post fname:  (900, 10)\n",
      "self.data:  (871, 10)\n",
      "Self sig save:  (871,)\n",
      "data into multi-hypothesis tes: (871,)\n",
      "Final sig:  (1, 871)\n",
      " ... data missing /media/cat/4TBSSD/yuki/IA1/SVM_Scores/SVM_Scores_IA1pm_Feb12_30Hzcode_04_lockout_10sec_trial_ROItimeCourses_30sec_Xvalid10_Slidewindow30.npz\n",
      "LOADED: DATA (900, 10)\n",
      "Insufficient trials... 12\n",
      "LOADED: DATA (900, 10)\n",
      " post fname:  (900, 10)\n",
      "self.data:  (871, 10)\n"
     ]
    },
    {
     "name": "stderr",
     "output_type": "stream",
     "text": [
      "\r",
      "  0%|          | 0/6 [00:01<?, ?it/s]"
     ]
    },
    {
     "name": "stdout",
     "output_type": "stream",
     "text": [
      "Self sig save:  (871,)\n",
      "data into multi-hypothesis tes: (871,)\n",
      "Final sig:  (1, 871)\n",
      "LOADED: DATA (900, 10)\n",
      " post fname:  (900, 10)\n",
      "self.data:  (871, 10)\n"
     ]
    },
    {
     "name": "stderr",
     "output_type": "stream",
     "text": [
      "\n"
     ]
    },
    {
     "ename": "KeyboardInterrupt",
     "evalue": "",
     "output_type": "error",
     "traceback": [
      "\u001b[0;31m---------------------------------------------------------------------------\u001b[0m",
      "\u001b[0;31mKeyboardInterrupt\u001b[0m                         Traceback (most recent call last)",
      "\u001b[0;32m<ipython-input-154-2c6dea53317c>\u001b[0m in \u001b[0;36m<module>\u001b[0;34m\u001b[0m\n\u001b[1;32m     30\u001b[0m     \u001b[0;31m#lockouts = [False, True]\u001b[0m\u001b[0;34m\u001b[0m\u001b[0;34m\u001b[0m\u001b[0;34m\u001b[0m\u001b[0m\n\u001b[1;32m     31\u001b[0m     \u001b[0mlockouts\u001b[0m \u001b[0;34m=\u001b[0m \u001b[0;34m[\u001b[0m\u001b[0;32mTrue\u001b[0m\u001b[0;34m]\u001b[0m\u001b[0;34m\u001b[0m\u001b[0;34m\u001b[0m\u001b[0m\n\u001b[0;32m---> 32\u001b[0;31m     \u001b[0mvis\u001b[0m\u001b[0;34m.\u001b[0m\u001b[0mcompute_first_decoding_time\u001b[0m\u001b[0;34m(\u001b[0m\u001b[0mlockouts\u001b[0m\u001b[0;34m)\u001b[0m\u001b[0;34m\u001b[0m\u001b[0;34m\u001b[0m\u001b[0m\n\u001b[0m\u001b[1;32m     33\u001b[0m \u001b[0;34m\u001b[0m\u001b[0m\n",
      "\u001b[0;32m~/code/widefieldPredict/Visualize.py\u001b[0m in \u001b[0;36mcompute_first_decoding_time\u001b[0;34m(self, lockouts)\u001b[0m\n\u001b[1;32m    488\u001b[0m \u001b[0;34m\u001b[0m\u001b[0m\n\u001b[1;32m    489\u001b[0m                     \u001b[0;31m# compute significance\u001b[0m\u001b[0;34m\u001b[0m\u001b[0;34m\u001b[0m\u001b[0;34m\u001b[0m\u001b[0m\n\u001b[0;32m--> 490\u001b[0;31m                     \u001b[0mself\u001b[0m\u001b[0;34m.\u001b[0m\u001b[0mcompute_significance\u001b[0m\u001b[0;34m(\u001b[0m\u001b[0;34m)\u001b[0m\u001b[0;34m\u001b[0m\u001b[0;34m\u001b[0m\u001b[0m\n\u001b[0m\u001b[1;32m    491\u001b[0m \u001b[0;34m\u001b[0m\u001b[0m\n\u001b[1;32m    492\u001b[0m                     \u001b[0;31m# save all the significant vals;\u001b[0m\u001b[0;34m\u001b[0m\u001b[0;34m\u001b[0m\u001b[0;34m\u001b[0m\u001b[0m\n",
      "\u001b[0;32m~/code/widefieldPredict/Visualize.py\u001b[0m in \u001b[0;36mcompute_significance\u001b[0;34m(self)\u001b[0m\n\u001b[1;32m    415\u001b[0m \u001b[0;34m\u001b[0m\u001b[0m\n\u001b[1;32m    416\u001b[0m             \u001b[0;31m#\u001b[0m\u001b[0;34m\u001b[0m\u001b[0;34m\u001b[0m\u001b[0;34m\u001b[0m\u001b[0m\n\u001b[0;32m--> 417\u001b[0;31m             \u001b[0mres\u001b[0m \u001b[0;34m=\u001b[0m \u001b[0mscipy\u001b[0m\u001b[0;34m.\u001b[0m\u001b[0mstats\u001b[0m\u001b[0;34m.\u001b[0m\u001b[0mttest_1samp\u001b[0m\u001b[0;34m(\u001b[0m\u001b[0mself\u001b[0m\u001b[0;34m.\u001b[0m\u001b[0mdata\u001b[0m\u001b[0;34m[\u001b[0m\u001b[0mk\u001b[0m\u001b[0;34m]\u001b[0m\u001b[0;34m,\u001b[0m \u001b[0;36m0.5\u001b[0m\u001b[0;34m)\u001b[0m\u001b[0;34m\u001b[0m\u001b[0;34m\u001b[0m\u001b[0m\n\u001b[0m\u001b[1;32m    418\u001b[0m \u001b[0;34m\u001b[0m\u001b[0m\n\u001b[1;32m    419\u001b[0m             \u001b[0msig\u001b[0m\u001b[0;34m.\u001b[0m\u001b[0mappend\u001b[0m\u001b[0;34m(\u001b[0m\u001b[0mres\u001b[0m\u001b[0;34m[\u001b[0m\u001b[0;36m1\u001b[0m\u001b[0;34m]\u001b[0m\u001b[0;34m)\u001b[0m\u001b[0;34m\u001b[0m\u001b[0;34m\u001b[0m\u001b[0m\n",
      "\u001b[0;32m/media/cat/4TBSSD/anaconda3/envs/wide/lib/python3.8/site-packages/scipy/stats/stats.py\u001b[0m in \u001b[0;36mttest_1samp\u001b[0;34m(a, popmean, axis, nan_policy, alternative)\u001b[0m\n\u001b[1;32m   5420\u001b[0m \u001b[0;34m\u001b[0m\u001b[0m\n\u001b[1;32m   5421\u001b[0m     \u001b[0md\u001b[0m \u001b[0;34m=\u001b[0m \u001b[0mnp\u001b[0m\u001b[0;34m.\u001b[0m\u001b[0mmean\u001b[0m\u001b[0;34m(\u001b[0m\u001b[0ma\u001b[0m\u001b[0;34m,\u001b[0m \u001b[0maxis\u001b[0m\u001b[0;34m)\u001b[0m \u001b[0;34m-\u001b[0m \u001b[0mpopmean\u001b[0m\u001b[0;34m\u001b[0m\u001b[0;34m\u001b[0m\u001b[0m\n\u001b[0;32m-> 5422\u001b[0;31m     \u001b[0mv\u001b[0m \u001b[0;34m=\u001b[0m \u001b[0mnp\u001b[0m\u001b[0;34m.\u001b[0m\u001b[0mvar\u001b[0m\u001b[0;34m(\u001b[0m\u001b[0ma\u001b[0m\u001b[0;34m,\u001b[0m \u001b[0maxis\u001b[0m\u001b[0;34m,\u001b[0m \u001b[0mddof\u001b[0m\u001b[0;34m=\u001b[0m\u001b[0;36m1\u001b[0m\u001b[0;34m)\u001b[0m\u001b[0;34m\u001b[0m\u001b[0;34m\u001b[0m\u001b[0m\n\u001b[0m\u001b[1;32m   5423\u001b[0m     \u001b[0mdenom\u001b[0m \u001b[0;34m=\u001b[0m \u001b[0mnp\u001b[0m\u001b[0;34m.\u001b[0m\u001b[0msqrt\u001b[0m\u001b[0;34m(\u001b[0m\u001b[0mv\u001b[0m \u001b[0;34m/\u001b[0m \u001b[0mn\u001b[0m\u001b[0;34m)\u001b[0m\u001b[0;34m\u001b[0m\u001b[0;34m\u001b[0m\u001b[0m\n\u001b[1;32m   5424\u001b[0m \u001b[0;34m\u001b[0m\u001b[0m\n",
      "\u001b[0;32m<__array_function__ internals>\u001b[0m in \u001b[0;36mvar\u001b[0;34m(*args, **kwargs)\u001b[0m\n",
      "\u001b[0;32m/media/cat/4TBSSD/anaconda3/envs/wide/lib/python3.8/site-packages/numpy/core/fromnumeric.py\u001b[0m in \u001b[0;36mvar\u001b[0;34m(a, axis, dtype, out, ddof, keepdims, where)\u001b[0m\n\u001b[1;32m   3700\u001b[0m             \u001b[0;32mreturn\u001b[0m \u001b[0mvar\u001b[0m\u001b[0;34m(\u001b[0m\u001b[0maxis\u001b[0m\u001b[0;34m=\u001b[0m\u001b[0maxis\u001b[0m\u001b[0;34m,\u001b[0m \u001b[0mdtype\u001b[0m\u001b[0;34m=\u001b[0m\u001b[0mdtype\u001b[0m\u001b[0;34m,\u001b[0m \u001b[0mout\u001b[0m\u001b[0;34m=\u001b[0m\u001b[0mout\u001b[0m\u001b[0;34m,\u001b[0m \u001b[0mddof\u001b[0m\u001b[0;34m=\u001b[0m\u001b[0mddof\u001b[0m\u001b[0;34m,\u001b[0m \u001b[0;34m**\u001b[0m\u001b[0mkwargs\u001b[0m\u001b[0;34m)\u001b[0m\u001b[0;34m\u001b[0m\u001b[0;34m\u001b[0m\u001b[0m\n\u001b[1;32m   3701\u001b[0m \u001b[0;34m\u001b[0m\u001b[0m\n\u001b[0;32m-> 3702\u001b[0;31m     return _methods._var(a, axis=axis, dtype=dtype, out=out, ddof=ddof,\n\u001b[0m\u001b[1;32m   3703\u001b[0m                          **kwargs)\n\u001b[1;32m   3704\u001b[0m \u001b[0;34m\u001b[0m\u001b[0m\n",
      "\u001b[0;32m/media/cat/4TBSSD/anaconda3/envs/wide/lib/python3.8/site-packages/numpy/core/_methods.py\u001b[0m in \u001b[0;36m_var\u001b[0;34m(a, axis, dtype, out, ddof, keepdims, where)\u001b[0m\n\u001b[1;32m    209\u001b[0m     \u001b[0;31m# Note that if dtype is not of inexact type then arraymean will\u001b[0m\u001b[0;34m\u001b[0m\u001b[0;34m\u001b[0m\u001b[0;34m\u001b[0m\u001b[0m\n\u001b[1;32m    210\u001b[0m     \u001b[0;31m# not be either.\u001b[0m\u001b[0;34m\u001b[0m\u001b[0;34m\u001b[0m\u001b[0;34m\u001b[0m\u001b[0m\n\u001b[0;32m--> 211\u001b[0;31m     \u001b[0marrmean\u001b[0m \u001b[0;34m=\u001b[0m \u001b[0mumr_sum\u001b[0m\u001b[0;34m(\u001b[0m\u001b[0marr\u001b[0m\u001b[0;34m,\u001b[0m \u001b[0maxis\u001b[0m\u001b[0;34m,\u001b[0m \u001b[0mdtype\u001b[0m\u001b[0;34m,\u001b[0m \u001b[0mkeepdims\u001b[0m\u001b[0;34m=\u001b[0m\u001b[0;32mTrue\u001b[0m\u001b[0;34m,\u001b[0m \u001b[0mwhere\u001b[0m\u001b[0;34m=\u001b[0m\u001b[0mwhere\u001b[0m\u001b[0;34m)\u001b[0m\u001b[0;34m\u001b[0m\u001b[0;34m\u001b[0m\u001b[0m\n\u001b[0m\u001b[1;32m    212\u001b[0m     \u001b[0;31m# The shape of rcount has to match arrmean to not change the shape of out\u001b[0m\u001b[0;34m\u001b[0m\u001b[0;34m\u001b[0m\u001b[0;34m\u001b[0m\u001b[0m\n\u001b[1;32m    213\u001b[0m     \u001b[0;31m# in broadcasting. Otherwise, it cannot be stored back to arrmean.\u001b[0m\u001b[0;34m\u001b[0m\u001b[0;34m\u001b[0m\u001b[0;34m\u001b[0m\u001b[0m\n",
      "\u001b[0;31mKeyboardInterrupt\u001b[0m: "
     ]
    }
   ],
   "source": [
    "#############################################################\n",
    "### COMPUTE DISTRIBUTION OF FIRST SIG DECODING ALL ANIMALS ##\n",
    "#############################################################\n",
    "from tqdm import trange\n",
    "\n",
    "# lever-related data\n",
    "vis.main_dir = data_dir\n",
    "vis.random_flag = False  # shuffle data to show baseline\n",
    "\n",
    "# \n",
    "vis.window = 30\n",
    "vis.lockout_window = 10\n",
    "vis.code = 'code_04'\n",
    "vis.lockout = False\n",
    "vis.imaging_rate = 30.\n",
    "vis.pca_var = 0.95\n",
    "vis.pca_flag = True\n",
    "vis.xvalidation = 10\n",
    "vis.sliding_window = 30\n",
    "\n",
    "# \n",
    "vis.smooth_window = 30\n",
    "vis.min_trials = 20\n",
    "\n",
    "#\n",
    "vis.significance=1E-2\n",
    "\n",
    "# if already computed\n",
    "if True:\n",
    "    #lockouts = [False, True]\n",
    "    lockouts = [True]\n",
    "    vis.compute_first_decoding_time(lockouts)\n",
    "\n"
   ]
  },
  {
   "cell_type": "code",
   "execution_count": 53,
   "metadata": {
    "collapsed": true
   },
   "outputs": [
    {
     "name": "stdout",
     "output_type": "stream",
     "text": [
      "all:  ['AQ2am_Feb12_30Hz' 'AQ2am_Feb15_30Hz']\n",
      "all:  [60 61]\n",
      "[[-2.8000000000000007, -7.266666666666666, -3.7333333333333343, -2.366666666666667, -3.033333333333335, -3.1999999999999993, -4.033333333333335, -3.466666666666665, -2.2666666666666657, -1.2333333333333343, -3.666666666666668, -2.533333333333335, -2.866666666666667, -2.966666666666665, -2.0666666666666664, -1.0, -2.0666666666666664, -3.2333333333333343, -2.333333333333332, -2.333333333333332, -1.9333333333333336, -1.0, -2.2666666666666657, -1.5666666666666664, -2.4333333333333336, -2.0666666666666664, -1.466666666666665, -1.1999999999999993, -2.0666666666666664, -2.0, -1.6999999999999993], [-1.0, -4.300000000000001, -3.7666666666666657, -1.0, -2.966666666666665, -1.0, -2.166666666666668, -1.5, -1.0, -1.0, -2.1000000000000014, -1.0, -1.533333333333335, -1.2666666666666657, -1.0, -1.0, -4.533333333333335, -4.533333333333335, -3.7666666666666657, -4.266666666666666, -3.7333333333333343, -5.300000000000001, -4.133333333333333, -4.600000000000001, -3.7333333333333343, -3.0666666666666664, -4.966666666666665, -5.866666666666667, -1.7666666666666657, -1.0, -4.766666666666666], [-2.2666666666666657, -4.699999999999999, -4.066666666666666, -3.633333333333333, -4.0, -3.1000000000000014, -4.733333333333334, -6.300000000000001, -4.666666666666668, -2.166666666666668, -2.133333333333333, -4.333333333333332, -1.966666666666665, -3.6000000000000014, -3.533333333333335, -3.5, -3.633333333333333, -1.6333333333333329, -2.333333333333332, -3.866666666666667, -3.2333333333333343, -1.8999999999999986, -3.033333333333335, -2.466666666666665, -4.166666666666668, -5.600000000000001, -8.833333333333332, -5.199999999999999, -5.366666666666667, -8.0, -4.466666666666665, -5.333333333333332, -6.566666666666666, -5.333333333333332, -2.1000000000000014, -6.133333333333333, -3.7666666666666657, -6.066666666666666], [-1.8333333333333321, -1.6333333333333329, -4.266666666666666, -1.4333333333333336, -2.833333333333332, -1.8999999999999986, -4.533333333333335, -3.7333333333333343, -2.8000000000000007, -3.966666666666665, -4.100000000000001, -2.8999999999999986, -2.3999999999999986, -2.8000000000000007, -3.1999999999999993, -2.866666666666667, -3.2333333333333343, -3.5, -7.733333333333334, -8.366666666666667, -4.0, -3.0, -3.0, -2.2333333333333343, -1.0, -3.133333333333333, -1.6333333333333329, -1.0, -2.533333333333335, -1.5, -2.6999999999999993, -3.6999999999999993, -2.6999999999999993], [-1.8333333333333321, -1.966666666666665, -1.6000000000000014, -3.4333333333333336, -2.666666666666668, -4.600000000000001, -5.366666666666667, -2.3000000000000007, -2.6999999999999993, -3.533333333333335, -5.800000000000001, -5.033333333333335, -5.866666666666667, -4.300000000000001, -5.699999999999999, -3.333333333333332, -5.766666666666666, -8.3, -6.166666666666668, -1.8333333333333321, -1.3333333333333321, -3.2333333333333343, -3.8000000000000007, -2.166666666666668, -1.6000000000000014, -5.100000000000001, -3.633333333333333, -2.033333333333335, -2.633333333333333, -4.433333333333334, -2.7666666666666657, -6.300000000000001, -5.300000000000001, -3.166666666666668, -1.6999999999999993, -4.600000000000001], [-2.033333333333335, -1.7333333333333343, -1.533333333333335, -1.6333333333333329, -3.4333333333333336, -2.5, -3.833333333333332, -2.633333333333333, -3.3000000000000007, -1.6999999999999993, -2.5666666666666664, -3.3000000000000007, -2.533333333333335, -1.533333333333335, -3.2666666666666657, -1.5, -1.8333333333333321, -2.5666666666666664, -2.533333333333335, -1.8999999999999986, -2.133333333333333, -3.966666666666665, -2.466666666666665, -3.533333333333335, -3.0, -5.600000000000001, -3.966666666666665, -12.066666666666666, -12.3, -9.333333333333332, -3.2333333333333343, -7.100000000000001, -5.733333333333334, -5.466666666666665, -3.633333333333333, -4.033333333333335, -2.7666666666666657, -4.333333333333332, -3.366666666666667, -4.699999999999999, -4.533333333333335, -4.633333333333333, -3.133333333333333, -6.766666666666666, -7.233333333333334, -4.933333333333334, -5.333333333333332, -6.666666666666668, -2.5666666666666664, -2.9333333333333336, -4.433333333333334, -5.766666666666666, -3.1999999999999993, -7.800000000000001, -4.600000000000001, -8.466666666666665, -6.366666666666667, -4.433333333333334, -5.666666666666668, -5.466666666666665, -6.266666666666666, -6.366666666666667, -5.133333333333333, -7.733333333333334, -5.933333333333334, -6.333333333333332, -3.8999999999999986, -2.133333333333333, -4.033333333333335, -2.5666666666666664, -6.5, -5.233333333333334, -2.1999999999999993, -8.399999999999999, -4.433333333333334, -3.0666666666666664]]\n",
      "GOT HERE\n"
     ]
    }
   ],
   "source": [
    "#############################################################\n",
    "#### PLOT DISTRIBUTION OF FIRST SIG DECODING ALL ANIMALS ####\n",
    "#############################################################\n",
    "\n",
    "# return all session ids that can be predicted longer than this:\n",
    "return_ids_threshold = -10\n",
    "\n",
    "vis.window = 30\n",
    "vis.lockout_window = 10\n",
    "\n",
    "# \n",
    "vis.min_trials = 20  #min trials used for SVM\n",
    "\n",
    "vis.lockout=False\n",
    "# \n",
    "vis.plot_first_decoding_time(return_ids_threshold)\n",
    "\n",
    "# \n",
    "if True:\n",
    "    plt.ylim(-15,0)\n",
    "    plt.show()\n",
    "else:\n",
    "    plt.savefig('/home/cat/first.png',dpi=600)\n",
    "    plt.close()"
   ]
  },
  {
   "cell_type": "code",
   "execution_count": 59,
   "metadata": {},
   "outputs": [
    {
     "name": "stdout",
     "output_type": "stream",
     "text": [
      "AQ2 AQ2am_Apr29_Week8_30Hz [-2.8        -7.26666667 -3.73333333 -2.36666667 -3.03333333 -3.2\n",
      " -4.03333333 -3.46666667 -2.26666667 -1.23333333 -3.66666667 -2.53333333\n",
      " -2.86666667 -2.96666667 -2.06666667 -1.         -2.06666667 -3.23333333\n",
      " -2.33333333 -2.33333333 -1.93333333 -1.         -2.26666667 -1.56666667\n",
      " -2.43333333 -2.06666667 -1.46666667 -1.2        -2.06666667 -2.\n",
      " -1.7       ]\n",
      "all preds:  (31, 1)\n",
      "AQ2 AQ2am_Apr29_Week8_30Hz [-1.         -4.3        -3.76666667 -1.         -2.96666667 -1.\n",
      " -2.16666667 -1.5        -1.         -1.         -2.1        -1.\n",
      " -1.53333333 -1.26666667 -1.         -1.         -4.53333333 -4.53333333\n",
      " -3.76666667 -4.26666667 -3.73333333 -5.3        -4.13333333 -4.6\n",
      " -3.73333333 -3.06666667 -4.96666667 -5.86666667 -1.76666667 -1.\n",
      " -4.76666667]\n",
      "all preds:  (31, 1)\n",
      "AQ2 AQ2am_Apr29_Week8_30Hz [-2.26666667 -4.7        -4.06666667 -3.63333333 -4.         -3.1\n",
      " -4.73333333 -6.3        -4.66666667 -2.16666667 -2.13333333 -4.33333333\n",
      " -1.96666667 -3.6        -3.53333333 -3.5        -3.63333333 -1.63333333\n",
      " -2.33333333 -3.86666667 -3.23333333 -1.9        -3.03333333 -2.46666667\n",
      " -4.16666667 -5.6        -8.83333333 -5.2        -5.36666667 -8.\n",
      " -4.46666667 -5.33333333 -6.56666667 -5.33333333 -2.1        -6.13333333\n",
      " -3.76666667 -6.06666667]\n",
      "all preds:  (38, 1)\n",
      "AQ2 AQ2am_Apr29_Week8_30Hz [-1.83333333 -1.63333333 -4.26666667 -1.43333333 -2.83333333 -1.9\n",
      " -4.53333333 -3.73333333 -2.8        -3.96666667 -4.1        -2.9\n",
      " -2.4        -2.8        -3.2        -2.86666667 -3.23333333 -3.5\n",
      " -7.73333333 -8.36666667 -4.         -3.         -3.         -2.23333333\n",
      " -1.         -3.13333333 -1.63333333 -1.         -2.53333333 -1.5\n",
      " -2.7        -3.7        -2.7       ]\n",
      "all preds:  (33, 1)\n",
      "AQ2 AQ2am_Apr29_Week8_30Hz [-1.83333333 -1.96666667 -1.6        -3.43333333 -2.66666667 -4.6\n",
      " -5.36666667 -2.3        -2.7        -3.53333333 -5.8        -5.03333333\n",
      " -5.86666667 -4.3        -5.7        -3.33333333 -5.76666667 -8.3\n",
      " -6.16666667 -1.83333333 -1.33333333 -3.23333333 -3.8        -2.16666667\n",
      " -1.6        -5.1        -3.63333333 -2.03333333 -2.63333333 -4.43333333\n",
      " -2.76666667 -6.3        -5.3        -3.16666667 -1.7        -4.6       ]\n",
      "all preds:  (36, 1)\n",
      "AQ2 AQ2am_Apr29_Week8_30Hz [ -2.03333333  -1.73333333  -1.53333333  -1.63333333  -3.43333333\n",
      "  -2.5         -3.83333333  -2.63333333  -3.3         -1.7\n",
      "  -2.56666667  -3.3         -2.53333333  -1.53333333  -3.26666667\n",
      "  -1.5         -1.83333333  -2.56666667  -2.53333333  -1.9\n",
      "  -2.13333333  -3.96666667  -2.46666667  -3.53333333  -3.\n",
      "  -5.6         -3.96666667 -12.06666667 -12.3         -9.33333333\n",
      "  -3.23333333  -7.1         -5.73333333  -5.46666667  -3.63333333\n",
      "  -4.03333333  -2.76666667  -4.33333333  -3.36666667  -4.7\n",
      "  -4.53333333  -4.63333333  -3.13333333  -6.76666667  -7.23333333\n",
      "  -4.93333333  -5.33333333  -6.66666667  -2.56666667  -2.93333333\n",
      "  -4.43333333  -5.76666667  -3.2         -7.8         -4.6\n",
      "  -8.46666667  -6.36666667  -4.43333333  -5.66666667  -5.46666667\n",
      "  -6.26666667  -6.36666667  -5.13333333  -7.73333333  -5.93333333\n",
      "  -6.33333333  -3.9         -2.13333333  -4.03333333  -2.56666667\n",
      "  -6.5         -5.23333333  -2.2         -8.4         -4.43333333\n",
      "  -3.06666667]\n",
      "all preds:  (76, 1)\n"
     ]
    }
   ],
   "source": [
    "############################################################\n",
    "#### PLOT CORRELATION OF DECODING TIME AND NO. SESSIONS ####\n",
    "############################################################\n",
    "from tqdm import trange\n",
    "\n",
    "vis.smooth_window = 30\n",
    "vis.min_trials = 20\n",
    "\n",
    "vis.window = 30\n",
    "vis.xlim=-15\n",
    "\n",
    "#\n",
    "vis.significance=0.05 #1E-2\n",
    "vis.lockout=False\n",
    "\n",
    "# \n",
    "vis.plot_first_decoding_time_vs_n_trials()\n",
    "\n",
    "# #\n",
    "if False:\n",
    "    plt.show()\n",
    "else:\n",
    "    plt.savefig('/home/cat/first.png',dpi=600)\n",
    "    plt.close()\n"
   ]
  },
  {
   "cell_type": "code",
   "execution_count": null,
   "metadata": {},
   "outputs": [],
   "source": []
  },
  {
   "cell_type": "code",
   "execution_count": 14,
   "metadata": {},
   "outputs": [
    {
     "name": "stdout",
     "output_type": "stream",
     "text": [
      "(10, 10)\n",
      "(601, 10)\n",
      "(300,)\n"
     ]
    },
    {
     "name": "stderr",
     "output_type": "stream",
     "text": [
      "<ipython-input-14-d8154ae9d834>:46: UserWarning: color is redundantly defined by the 'color' keyword argument and the fmt string \"r--\" (-> color='r'). The keyword argument will take precedence.\n",
      "  plt.plot([-10,0],[0.5,0.5],'r--',c='black')\n"
     ]
    }
   ],
   "source": [
    "######################################################\n",
    "######################################################\n",
    "######################################################\n",
    "#data1 = np.load('/media/cat/4TBSSD/yuki/IJ2/RNN_scores/Mar3_200_0.0001.npy.npz')\n",
    "data1 = np.load('/media/cat/4TBSSD/yuki/IJ2/RNN_scores/IJ2pm_Mar2_30Hz_1000_0.0001.npz')\n",
    "#data1 = np.load('/media/cat/4TBSSD/yuki/IJ2/RNN_scores/IJ2pm_Feb29_30Hz_1000_0.0001.npz')\n",
    "b = data1['b_rnn']\n",
    "c = data1['c_s']\n",
    "\n",
    "#\n",
    "print (b.shape)\n",
    "mean = b.mean(1)\n",
    "t=np.linspace(-9.5, 0, mean.shape[0])\n",
    "\n",
    "ax=plt.subplot(111)\n",
    "\n",
    "plt.plot(t, mean, linewidth=5, c='black', label='RNN - 30 frame sliding window')\n",
    "plt.fill_between(t, mean+c, mean-c, color='black', alpha=.2)\n",
    "\n",
    "#\n",
    "fname_svm = '/media/cat/4TBSSD/yuki/IJ2/SVM_Scores/SVM_Scores_IJ2pm_Mar2_30Hz_code_04_trial_ROItimeCourses_10sec_pca_0.95.npy'\n",
    "data2 = np.load(fname_svm)\n",
    "print (data2.shape)\n",
    "data2 = data2[:300]\n",
    "mean = data2.mean(1)\n",
    "std = data2.std(1)\n",
    "t= np.linspace(t[0],t[-1],mean.shape[0])\n",
    "plt.plot(t, mean, linewidth = 5, c='blue', label='SVM - 30 frame sliding window')\n",
    "plt.fill_between(t, mean+std, mean-std, color='blue', alpha=.2)\n",
    "\n",
    "\n",
    "fname_lstm = '/home/cat/lstm_300.npy'\n",
    "data2 = np.load(fname_lstm)\n",
    "mean = data2\n",
    "print (mean.shape)\n",
    "#std = data2.std(1)\n",
    "#t = np.linspace(t[0],t[-1],mean.shape[0])\n",
    "plt.plot(t, mean, linewidth=5, c= 'green', \n",
    "         label='LSTM - 300 frames')\n",
    "#plt.fill_between(t, mean+std, mean-std, color='blue', alpha=.2,\n",
    "#                label='SVM - 30 frame sliding window')\n",
    "\n",
    "plt.legend(fontsize=20)\n",
    "plt.xlim(-10,0)\n",
    "plt.ylim(0.0, 1.0)\n",
    "plt.plot([-10,0],[0.5,0.5],'r--',c='black')\n",
    "ax.tick_params(axis='both', which='major', labelsize=20)\n",
    "#plt.suptitle(os.path.split(fname_svm)[1])\n",
    "plt.xlabel(\"Time (sec)\",fontsize=20)\n",
    "plt.ylabel(\"Decoding accuracy\", fontsize=20)\n",
    "\n",
    "plt.show()"
   ]
  },
  {
   "cell_type": "code",
   "execution_count": null,
   "metadata": {},
   "outputs": [],
   "source": []
  },
  {
   "cell_type": "code",
   "execution_count": null,
   "metadata": {},
   "outputs": [],
   "source": []
  },
  {
   "cell_type": "code",
   "execution_count": 1,
   "metadata": {},
   "outputs": [
    {
     "ename": "NameError",
     "evalue": "name 'plt' is not defined",
     "output_type": "error",
     "traceback": [
      "\u001b[0;31m---------------------------------------------------------------------------\u001b[0m",
      "\u001b[0;31mNameError\u001b[0m                                 Traceback (most recent call last)",
      "\u001b[0;32m<ipython-input-1-3872754cebd0>\u001b[0m in \u001b[0;36m<module>\u001b[0;34m\u001b[0m\n\u001b[1;32m      4\u001b[0m     \u001b[0;32mreturn\u001b[0m \u001b[0ma\u001b[0m\u001b[0;34m*\u001b[0m\u001b[0mnp\u001b[0m\u001b[0;34m.\u001b[0m\u001b[0mexp\u001b[0m\u001b[0;34m(\u001b[0m\u001b[0;34m-\u001b[0m\u001b[0mc\u001b[0m\u001b[0;34m*\u001b[0m\u001b[0;34m(\u001b[0m\u001b[0mx\u001b[0m\u001b[0;34m-\u001b[0m\u001b[0mb\u001b[0m\u001b[0;34m)\u001b[0m\u001b[0;34m)\u001b[0m\u001b[0;34m+\u001b[0m\u001b[0md\u001b[0m\u001b[0;34m\u001b[0m\u001b[0;34m\u001b[0m\u001b[0m\n\u001b[1;32m      5\u001b[0m \u001b[0;34m\u001b[0m\u001b[0m\n\u001b[0;32m----> 6\u001b[0;31m \u001b[0mfig\u001b[0m\u001b[0;34m=\u001b[0m\u001b[0mplt\u001b[0m\u001b[0;34m.\u001b[0m\u001b[0mfigure\u001b[0m\u001b[0;34m(\u001b[0m\u001b[0;34m)\u001b[0m\u001b[0;34m\u001b[0m\u001b[0;34m\u001b[0m\u001b[0m\n\u001b[0m\u001b[1;32m      7\u001b[0m plt.scatter(vis.predictions1,\n\u001b[1;32m      8\u001b[0m     vis.trials1)\n",
      "\u001b[0;31mNameError\u001b[0m: name 'plt' is not defined"
     ]
    }
   ],
   "source": [
    "from scipy.optimize import curve_fit\n",
    "\n",
    "def func(x, a, b, c, d):\n",
    "    return a*np.exp(-c*(x-b))+d\n",
    "\n",
    "fig=plt.figure()        \n",
    "plt.scatter(vis.predictions1,\n",
    "    vis.trials1)\n",
    "plt.ylim(0,160)\n",
    "plt.xlim(-10,0)\n",
    "\n",
    "\n",
    "# fit exponentials\n",
    "popt, pcov = curve_fit(func,\n",
    "                       vis.predictions1+30,\n",
    "                       vis.trials1,\n",
    "                       [11,1e-6,1e-3,3],\n",
    "                       maxfev=10000)\n",
    "\n",
    "print(\"Popt: \", popt)\n",
    "\n",
    "x= np.linspace(0,10,1000)\n",
    "plt.plot(x-10,func(x,*popt))\n",
    "            \n",
    "        \n",
    "print (vis.trials1)\n",
    "print (vis.predictions1)"
   ]
  },
  {
   "cell_type": "code",
   "execution_count": 5,
   "metadata": {},
   "outputs": [],
   "source": [
    "#################################################\n",
    "######### COMPARE RNN VS SVM DECODING ###########\n",
    "#################################################\n",
    "# \n",
    "fnames_svm = glob2.glob('/media/cat/4TBSSD/yuki/IJ2/SVM_Scores/*.npy')\n",
    "fnames_rnn= glob2.glob('/media/cat/4TBSSD/yuki/IJ2/RNN_scores/*.npz')\n",
    "\n",
    "vis.compare_svm_rnn(fnames_svm, fnames_rnn)\n",
    "\n"
   ]
  },
  {
   "cell_type": "code",
   "execution_count": null,
   "metadata": {},
   "outputs": [],
   "source": []
  },
  {
   "cell_type": "code",
   "execution_count": null,
   "metadata": {},
   "outputs": [],
   "source": []
  },
  {
   "cell_type": "code",
   "execution_count": 8,
   "metadata": {},
   "outputs": [
    {
     "data": {
      "text/plain": [
       "Text(0.5, 0.98, 'AQ2')"
      ]
     },
     "execution_count": 8,
     "metadata": {},
     "output_type": "execute_result"
    }
   ],
   "source": [
    "#######################################\n",
    "######## PLOT SVM DECISION TIME #######\n",
    "#######################################\n",
    "svm = PredictSVMTime()\n",
    "svm.main_dir = '/media/cat/4TBSSD/yuki/'\n",
    "\n",
    "# default params\n",
    "svm.lockout = False\n",
    "svm.lockout_window = 10\n",
    "svm.pca_flag = True\n",
    "svm.pca_var = 0.95\n",
    "svm.window = 10\n",
    "\n",
    "fig = plt.figure()\n",
    "svm.animal_id = 'AQ2'\n",
    "svm.session_id = 'all'\n",
    "svm.get_sessions()\n",
    "\n",
    "#\n",
    "ctr=1\n",
    "for session_id in svm.sessions:\n",
    "    ax=plt.subplot(8,10,ctr)\n",
    "    svm.session_id = session_id\n",
    "    try:\n",
    "        svm.plot_decision_time(ax)\n",
    "        plt.title(session_id+\", #: \"+str(svm.n_trials_both[0]), fontsize=6)\n",
    "        if ctr!=1:\n",
    "            plt.yticks([])\n",
    "        if ctr!=31:\n",
    "            plt.xticks([])\n",
    "\n",
    "        ctr+=1\n",
    "\n",
    "    except:\n",
    "        pass\n",
    "plt.suptitle(svm.animal_id,fontsize=20)\n",
    "\n"
   ]
  },
  {
   "cell_type": "code",
   "execution_count": null,
   "metadata": {},
   "outputs": [],
   "source": []
  },
  {
   "cell_type": "code",
   "execution_count": null,
   "metadata": {},
   "outputs": [],
   "source": []
  },
  {
   "cell_type": "code",
   "execution_count": null,
   "metadata": {},
   "outputs": [],
   "source": []
  },
  {
   "cell_type": "code",
   "execution_count": null,
   "metadata": {},
   "outputs": [],
   "source": []
  },
  {
   "cell_type": "code",
   "execution_count": null,
   "metadata": {},
   "outputs": [],
   "source": []
  },
  {
   "cell_type": "code",
   "execution_count": 4,
   "metadata": {},
   "outputs": [
    {
     "name": "stdout",
     "output_type": "stream",
     "text": [
      "(601, 10)\n"
     ]
    }
   ],
   "source": [
    "data = np.load('/media/cat/4TBSSD/yuki/IJ2/SVM_Scores/SVM_Scores_IJ2am_Mar7_30Hz_code_04_trial_ROItimeCourses_10sec_pca_0.95.npy')\n",
    "print (data.shape)"
   ]
  },
  {
   "cell_type": "code",
   "execution_count": null,
   "metadata": {},
   "outputs": [],
   "source": [
    "\n",
    "# vis.main_dir = '/media/cat/4TBSSD/yuki/output_3.7-20210310T074752Z-001/output_3.7/no_midline_filter/'\n",
    "\n",
    "# fname = vis.main_dir+'/'+animal_id+'/SVM_scores_'+animal_id+'_'+str(session)+'.npy'\n",
    "# vis.load_data(fname)\n",
    "# vis.plot_decision_choice('black','all - 30frame windows')\n",
    "\n",
    "# fname = '/media/cat/4TBSSD/yuki/IA1/tif_files/IA1pm_Feb3_30Hz/analysis/all_accuracy.npy'\n",
    "# vis.load_data(fname)\n",
    "# vis.plot_decision_choice('red','all - 1 frame windows')\n",
    "\n",
    "# fname = vis.main_dir+'/'+animal_id+'/SVM_scores_'+animal_id+'_lockout_'+str(session)+'.npy'\n",
    "# vis.load_data(fname)\n",
    "# vis.plot_decision_choice('magenta','lockout')\n",
    "\n",
    "# # rnn\n",
    "# fname = vis.main_dir+'/'+animal_id+'/acc_rnn_'+animal_id+'_'+str(session)+'.npy'\n",
    "# vis.load_data(fname)\n",
    "# vis.plot_decision_choice('green','rnn-all-denoised')\n",
    "\n",
    "# fname = vis.main_dir+'/'+animal_id+'/acc_rnn_'+animal_id+'_lockout_'+str(session)+'.npy'\n",
    "# vis.load_data(fname)\n",
    "# vis.plot_decision_choice('cyan','rnn-lockout-denoised')\n",
    "\n",
    "\n",
    "# # #\n",
    "# # vis.load_data(fname)\n",
    "# fname = '/media/cat/4TBSSD/yuki/march_7/IA1pm_Feb23_30Hz_code_04_PCA_Denoised/analysis/all_accuracy.npy'\n",
    "# #fname = vis.main_dir+'/'+animal_id+'/SVM_scores_'+animal_id+'_'+str(session)+'.npy'\n",
    "\n",
    "# vis.load_data(fname)\n",
    "# vis.plot_significant('red','all',animal_id, session)\n",
    " \n",
    "# #\n",
    "# vis.plot_animal_decision_longitudinal('IA1')\n",
    "\n",
    "# # \n",
    "# vis.plot_animal_decision_AUC_longitudinal()\n",
    "\n",
    "# # # # # \n",
    "# lockout=False\n",
    "# for ctr, name in enumerate(vis.animal_names):\n",
    "#     ax=plt.subplot(2,3,ctr+1)\n",
    "#     vis.plot_animal_decision_longitudinal_matrix(name, lockout, ax)\n",
    "    \n",
    "\n",
    "#############################################\n",
    "############## DECISION TIME ################\n",
    "#############################################\n",
    "\n",
    "#\n",
    "# vis.main_dir = '/media/cat/1TB/yuki/yongxu/lever pull/'\n",
    "\n",
    "# fname = '/media/cat/4TBSSD/yuki/output_3.7-20210310T074752Z-001/output_3.7/no_midline_filter/IA1/conf_10_IA1_0.npy'\n",
    "# vis.load_data(fname)\n",
    "# vis.plot_decision_time('red','all')\n",
    "\n",
    "# animal_name = \"IA1\"\n",
    "# vis.plot_decision_time_animal(animal_name)\n",
    "\n",
    "# animal_name = 'IA1'\n",
    "# vis.plot_decision_time_animal_matrix(animal_name)\n",
    "\n",
    "# # \n",
    "# vis.filter=False\n",
    "# vis.plot_decision_time_all_matrix()\n",
    "\n",
    "\n",
    "\n",
    "#############################################\n",
    "############## BODY MOVEMENTS ###############\n",
    "#############################################\n",
    "\n",
    "# body movement related data\n",
    "#vis.main_dir = '/media/cat/1TB/yuki/yongxu/body movement/'\n",
    "\n",
    "# # \n",
    "# body_part = 'right_paw'\n",
    "# fname = vis.main_dir+'/SVM_scores_'+body_part+'_1.npy'\n",
    "# vis.load_data(fname)\n",
    "# vis.plot_decision_choice('red','1', body_part)\n",
    "\n",
    "# fname = vis.main_dir+'/SVM_scores_'+body_part+'_2.npy'\n",
    "# vis.load_data(fname)\n",
    "# vis.plot_decision_choice('blue','2', body_part)\n",
    "\n",
    "# # # \n",
    "# fname = vis.main_dir+'/conf_10_left_paw.npy'\n",
    "# vis.load_data(fname)\n",
    "# vis.plot_decision_time('red','left')\n",
    "\n",
    "# fname = vis.main_dir+'/conf_10_right_paw.npy'\n",
    "# vis.load_data(fname)\n",
    "# vis.plot_decision_time('blue','right')\n",
    "\n",
    "# fname = vis.main_dir+'/conf_10_tongue.npy'\n",
    "# vis.load_data(fname)\n",
    "# vis.plot_decision_time('green','tongue')\n"
   ]
  },
  {
   "cell_type": "code",
   "execution_count": 7,
   "metadata": {},
   "outputs": [
    {
     "name": "stdout",
     "output_type": "stream",
     "text": [
      "(1500, 16384)\n"
     ]
    }
   ],
   "source": [
    "import pickle as pk\n",
    "\n",
    "file = open('/media/cat/4TBSSD/yuki/IA1/tif_files/IA1pm_Feb3_30Hz/IA1pm_Feb3_30Hz_code_04_lockout_10sec_trial_ROItimeCourses_10sec_pca.pkl', 'rb')\n",
    "\n",
    "# dump information to that file\n",
    "pca = pk.load(file)\n",
    "\n",
    "print (pca.components_.shape)\n"
   ]
  },
  {
   "cell_type": "code",
   "execution_count": 9,
   "metadata": {},
   "outputs": [
    {
     "name": "stdout",
     "output_type": "stream",
     "text": [
      "(62, 601, 128, 128)\n"
     ]
    }
   ],
   "source": [
    "data_stm = np.load('/media/cat/4TBSSD/yuki/IA1/tif_files/IA1pm_Feb3_30Hz/IA1pm_Feb3_30Hz_10.0sec_butterworth_globalAverage_0.1hz_6.0hz_04code_stm.npy')\n",
    "print (data_stm.shape)"
   ]
  },
  {
   "cell_type": "code",
   "execution_count": 10,
   "metadata": {},
   "outputs": [
    {
     "ename": "NameError",
     "evalue": "name 'nComp' is not defined",
     "output_type": "error",
     "traceback": [
      "\u001b[0;31m---------------------------------------------------------------------------\u001b[0m",
      "\u001b[0;31mNameError\u001b[0m                                 Traceback (most recent call last)",
      "\u001b[0;32m<ipython-input-10-f869b1fe5d18>\u001b[0m in \u001b[0;36m<module>\u001b[0;34m\u001b[0m\n\u001b[1;32m      5\u001b[0m \u001b[0mmu\u001b[0m\u001b[0;34m=\u001b[0m \u001b[0mnp\u001b[0m\u001b[0;34m.\u001b[0m\u001b[0mmean\u001b[0m\u001b[0;34m(\u001b[0m\u001b[0mX\u001b[0m\u001b[0;34m,\u001b[0m \u001b[0maxis\u001b[0m\u001b[0;34m=\u001b[0m\u001b[0;36m0\u001b[0m\u001b[0;34m)\u001b[0m\u001b[0;34m\u001b[0m\u001b[0;34m\u001b[0m\u001b[0m\n\u001b[1;32m      6\u001b[0m \u001b[0;34m\u001b[0m\u001b[0m\n\u001b[0;32m----> 7\u001b[0;31m Xnew = np.dot(pca.transform(X)[:,:nComp],\n\u001b[0m\u001b[1;32m      8\u001b[0m              pca.components_[:nComp,:])\n\u001b[1;32m      9\u001b[0m \u001b[0;34m\u001b[0m\u001b[0m\n",
      "\u001b[0;31mNameError\u001b[0m: name 'nComp' is not defined"
     ]
    }
   ],
   "source": [
    "# \n",
    "X = data_stm.reshape(data_stm.shape[0]*data_stm.shape[1],\n",
    "                     data_stm.shape[2]*data_stm.shape[3])\n",
    "\n",
    "mu= np.mean(X, axis=0)\n"
   ]
  },
  {
   "cell_type": "code",
   "execution_count": 11,
   "metadata": {},
   "outputs": [],
   "source": [
    "nComp = 9\n",
    "Xnew = np.dot(pca.transform(X)[:,:nComp],\n",
    "             pca.components_[:nComp,:])\n",
    "\n",
    "Xnew+=mu\n",
    "\n",
    "data_stm_denoised_reshaped = Xnew.reshape(data_stm.shape[0], data_stm.shape[1],\n",
    "                                          data_stm.shape[2], data_stm.shape[3])\n"
   ]
  },
  {
   "cell_type": "code",
   "execution_count": 17,
   "metadata": {},
   "outputs": [
    {
     "name": "stdout",
     "output_type": "stream",
     "text": [
      "(62, 9, 601)\n"
     ]
    }
   ],
   "source": [
    "time_filters = pca.transform(X)[:,:nComp]\n",
    "pca_time_filters_only = time_filters.reshape(data_stm.shape[0], data_stm.shape[1],-1).transpose(0,2,1)\n",
    "print (pca_time_filters_only.shape)\n"
   ]
  },
  {
   "cell_type": "code",
   "execution_count": 15,
   "metadata": {},
   "outputs": [
    {
     "name": "stdout",
     "output_type": "stream",
     "text": [
      "(62, 601, 9)\n"
     ]
    }
   ],
   "source": []
  },
  {
   "cell_type": "code",
   "execution_count": 16,
   "metadata": {},
   "outputs": [
    {
     "name": "stdout",
     "output_type": "stream",
     "text": [
      "(40, 35, 601)\n"
     ]
    }
   ],
   "source": [
    "data2 = np.load('/media/cat/4TBSSD/yuki/IA1/tif_files/IA1pm_Feb3_30Hz/IA1pm_Feb3_30Hz_code_04_lockout_10sec_trial_ROItimeCourses_10sec.npy')\n",
    "print (data2.shape)"
   ]
  },
  {
   "cell_type": "code",
   "execution_count": null,
   "metadata": {},
   "outputs": [],
   "source": []
  },
  {
   "cell_type": "code",
   "execution_count": 12,
   "metadata": {},
   "outputs": [
    {
     "name": "stdout",
     "output_type": "stream",
     "text": [
      "(37262, 16384)\n"
     ]
    }
   ],
   "source": [
    "print (Xnew.shape)"
   ]
  },
  {
   "cell_type": "code",
   "execution_count": 13,
   "metadata": {},
   "outputs": [
    {
     "data": {
      "text/plain": [
       "(62, 601, 128, 128)"
      ]
     },
     "execution_count": 13,
     "metadata": {},
     "output_type": "execute_result"
    }
   ],
   "source": [
    "data_stm_denoised_reshaped.shape"
   ]
  },
  {
   "cell_type": "code",
   "execution_count": 6,
   "metadata": {},
   "outputs": [
    {
     "name": "stdout",
     "output_type": "stream",
     "text": [
      "['/media/cat/12TB/in_vivo/tim/yuki/IA1/tif_files/IA1pm_Feb1_30Hz/IA1pm_Feb1_30Hz.tif'\n",
      " '/media/cat/12TB/in_vivo/tim/yuki/IA1/tif_files/IA1pm_Feb2_30Hz/IA1pm_Feb2_30Hz.tif'\n",
      " '/media/cat/12TB/in_vivo/tim/yuki/IA1/tif_files/IA1pm_Feb3_30Hz/IA1pm_Feb3_30Hz.tif'\n",
      " '/media/cat/12TB/in_vivo/tim/yuki/IA1/tif_files/IA1pm_Feb4_30Hz/IA1pm_Feb4_30Hz.tif'\n",
      " '/media/cat/12TB/in_vivo/tim/yuki/IA1/tif_files/IA1pm_Feb5_30Hz/IA1pm_Feb5_30Hz.tif'\n",
      " '/media/cat/12TB/in_vivo/tim/yuki/IA1/tif_files/IA1pm_Feb9_30Hz/IA1pm_Feb9_30Hz.tif'\n",
      " '/media/cat/12TB/in_vivo/tim/yuki/IA1/tif_files/IA1pm_Feb10_30Hz/IA1pm_Feb10_30Hz.tif'\n",
      " '/media/cat/12TB/in_vivo/tim/yuki/IA1/tif_files/IA1pm_Feb11_30Hz/IA1pm_Feb11_30Hz.tif'\n",
      " '/media/cat/12TB/in_vivo/tim/yuki/IA1/tif_files/IA1pm_Feb12_30Hz/IA1pm_Feb12_30Hz.tif'\n",
      " '/media/cat/12TB/in_vivo/tim/yuki/IA1/tif_files/IA1pm_Feb15_30Hz/IA1pm_Feb15_30Hz.tif'\n",
      " '/media/cat/12TB/in_vivo/tim/yuki/IA1/tif_files/IA1pm_Feb16_30Hz/IA1pm_Feb16_30Hz.tif'\n",
      " '/media/cat/12TB/in_vivo/tim/yuki/IA1/tif_files/IA1pm_Feb17_30Hz/IA1pm_Feb17_30Hz.tif'\n",
      " '/media/cat/12TB/in_vivo/tim/yuki/IA1/tif_files/IA1pm_Feb18_30Hz/IA1pm_Feb18_30Hz.tif'\n",
      " '/media/cat/12TB/in_vivo/tim/yuki/IA1/tif_files/IA1pm_Feb19_30Hz/IA1pm_Feb19_30Hz.tif'\n",
      " '/media/cat/12TB/in_vivo/tim/yuki/IA1/tif_files/IA1pm_Feb22_30Hz/IA1pm_Feb22_30Hz.tif'\n",
      " '/media/cat/12TB/in_vivo/tim/yuki/IA1/tif_files/IA1pm_Feb23_30Hz/IA1pm_Feb23_30Hz.tif'\n",
      " '/media/cat/12TB/in_vivo/tim/yuki/IA1/tif_files/IA1pm_Feb24_30Hz/IA1pm_Feb24_30Hz.tif'\n",
      " '/media/cat/12TB/in_vivo/tim/yuki/IA1/tif_files/IA1pm_Feb25_30Hz/IA1pm_Feb25_30Hz.tif'\n",
      " '/media/cat/12TB/in_vivo/tim/yuki/IA1/tif_files/IA1pm_Feb26_30Hz/IA1pm_Feb26_30Hz.tif'\n",
      " '/media/cat/12TB/in_vivo/tim/yuki/IA1/tif_files/IA1pm_Feb29_30Hz/IA1pm_Feb29_30Hz.tif'\n",
      " '/media/cat/12TB/in_vivo/tim/yuki/IA1/tif_files/IA1pm_Mar1_30Hz/IA1pm_Mar1_30Hz.tif'\n",
      " '/media/cat/12TB/in_vivo/tim/yuki/IA1/tif_files/IA1pm_Mar2_30Hz/IA1pm_Mar2_30Hz.tif'\n",
      " '/media/cat/12TB/in_vivo/tim/yuki/IA1/tif_files/IA1pm_Mar3_30Hz/IA1pm_Mar3_30Hz.tif'\n",
      " '/media/cat/12TB/in_vivo/tim/yuki/IA1/tif_files/IA1am_Mar4_30Hz/IA1am_Mar4_30Hz.tif'\n",
      " '/media/cat/12TB/in_vivo/tim/yuki/IA1/tif_files/IA1am_Mar7_30Hz/IA1am_Mar7_30Hz.tif'\n",
      " '/media/cat/12TB/in_vivo/tim/yuki/IA1/tif_files/IA1pm_Mar8_30Hz/IA1pm_Mar8_30Hz.tif'\n",
      " '/media/cat/12TB/in_vivo/tim/yuki/IA1/tif_files/IA1am_Mar9_30Hz/IA1am_Mar9_30Hz.tif'\n",
      " '/media/cat/12TB/in_vivo/tim/yuki/IA1/tif_files/IA1am_Mar10_30Hz/IA1am_Mar10_30Hz.tif'\n",
      " '/media/cat/12TB/in_vivo/tim/yuki/IA1/tif_files/IA1am_Mar11_30Hz/IA1am_Mar11_30Hz.tif'\n",
      " '/media/cat/12TB/in_vivo/tim/yuki/IA1/tif_files/IA1pm_Mar14_30Hz/IA1pm_Mar14_30Hz.tif'\n",
      " '/media/cat/12TB/in_vivo/tim/yuki/IA1/tif_files/IA1am_Mar15_30Hz/IA1am_Mar15_30Hz.tif'\n",
      " '/media/cat/12TB/in_vivo/tim/yuki/IA1/tif_files/IA1pm_Mar16_30Hz/IA1pm_Mar16_30Hz.tif'\n",
      " '/media/cat/12TB/in_vivo/tim/yuki/IA1/tif_files/IA1pm_Mar17_30Hz/IA1pm_Mar17_30Hz.tif'\n",
      " '/media/cat/12TB/in_vivo/tim/yuki/IA1/tif_files/IA1pm_Mar18_30Hz/IA1pm_Mar18_30Hz.tif'\n",
      " '/media/cat/12TB/in_vivo/tim/yuki/IA1/tif_files/IA1pm_Mar21_30Hz/IA1pm_Mar21_30Hz.tif'\n",
      " '/media/cat/12TB/in_vivo/tim/yuki/IA1/tif_files/IA1pm_Mar22_30Hz/IA1pm_Mar22_30Hz.tif'\n",
      " '/media/cat/12TB/in_vivo/tim/yuki/IA1/tif_files/IA1pm_Mar23_30Hz/IA1pm_Mar23_30Hz.tif'\n",
      " '/media/cat/12TB/in_vivo/tim/yuki/IA1/tif_files/IA1pm_Mar24_30Hz/IA1pm_Mar24_30Hz.tif'\n",
      " '/media/cat/12TB/in_vivo/tim/yuki/IA1/tif_files/IA1pm_Mar29_30Hz/IA1pm_Mar29_30Hz.tif'\n",
      " '/media/cat/12TB/in_vivo/tim/yuki/IA1/tif_files/IA1pm_Mar30_30Hz/IA1pm_Mar30_30Hz.tif'\n",
      " '/media/cat/12TB/in_vivo/tim/yuki/IA1/tif_files/IA1pm_Mar31_30Hz/IA1pm_Mar31_30Hz.tif'\n",
      " '/media/cat/12TB/in_vivo/tim/yuki/IA1/tif_files/IA1pm_Apr1_30Hz/IA1pm_Apr1_30Hz.tif'\n",
      " '/media/cat/12TB/in_vivo/tim/yuki/IA1/tif_files/IA1pm_Apr4_30Hz/IA1pm_Apr4_30Hz.tif'\n",
      " '/media/cat/12TB/in_vivo/tim/yuki/IA1/tif_files/IA1pm_Apr5_30Hz/IA1pm_Apr5_30Hz.tif'\n",
      " '/media/cat/12TB/in_vivo/tim/yuki/IA1/tif_files/IA1pm_Apr6_30Hz/IA1pm_Apr6_30Hz.tif'\n",
      " '/media/cat/12TB/in_vivo/tim/yuki/IA1/tif_files/IA1pm_Apr7_30Hz/IA1pm_Apr7_30Hz.tif'\n",
      " '/media/cat/12TB/in_vivo/tim/yuki/IA1/tif_files/IA1pm_Apr11_Day3_30Hz/IA1pm_Apr11_Day3_30Hz.tif'\n",
      " '/media/cat/12TB/in_vivo/tim/yuki/IA1/tif_files/IA1pm_Apr13_Day5_30Hz/IA1pm_Apr13_Day5_30Hz.tif'\n",
      " '/media/cat/12TB/in_vivo/tim/yuki/IA1/tif_files/IA1pm_Apr15_Day7_30Hz/IA1pm_Apr15_Day7_30Hz.tif'\n",
      " '/media/cat/12TB/in_vivo/tim/yuki/IA1/tif_files/IA1pm_Apr18_Week2_30Hz/IA1pm_Apr18_Week2_30Hz.tif'\n",
      " '/media/cat/12TB/in_vivo/tim/yuki/IA1/tif_files/IA1pm_Apr19_Week2_30Hz/IA1pm_Apr19_Week2_30Hz.tif'\n",
      " '/media/cat/12TB/in_vivo/tim/yuki/IA1/tif_files/IA1pm_Apr20_Week2_30Hz/IA1pm_Apr20_Week2_30Hz.tif'\n",
      " '/media/cat/12TB/in_vivo/tim/yuki/IA1/tif_files/IA1pm_Apr21_Week2_30Hz/IA1pm_Apr21_Week2_30Hz.tif'\n",
      " '/media/cat/12TB/in_vivo/tim/yuki/IA1/tif_files/IA1pm_Apr22_Week2_30Hz/IA1pm_Apr22_Week2_30Hz.tif'\n",
      " '/media/cat/12TB/in_vivo/tim/yuki/IA1/tif_files/IA1pm_Apr25_Week3_30Hz/IA1pm_Apr25_Week3_30Hz.tif'\n",
      " '/media/cat/12TB/in_vivo/tim/yuki/IA1/tif_files/IA1pm_Apr26_Week3_30Hz/IA1pm_Apr26_Week3_30Hz.tif'\n",
      " '/media/cat/12TB/in_vivo/tim/yuki/IA1/tif_files/IA1pm_Apr27_Week3_30Hz/IA1pm_Apr27_Week3_30Hz.tif'\n",
      " '/media/cat/12TB/in_vivo/tim/yuki/IA1/tif_files/IA1pm_Apr28_Week3_30Hz/IA1pm_Apr28_Week3_30Hz.tif'\n",
      " '/media/cat/12TB/in_vivo/tim/yuki/IA1/tif_files/IA1pm_Apr29_Week3_30Hz/IA1pm_Apr29_Week3_30Hz.tif'\n",
      " '/media/cat/12TB/in_vivo/tim/yuki/IA1/tif_files/IA1am_May2_Week4_30Hz/IA1am_May2_Week4_30Hz.tif'\n",
      " '/media/cat/12TB/in_vivo/tim/yuki/IA1/tif_files/IA1am_May4_Week4_30Hz/IA1am_May4_Week4_30Hz.tif'\n",
      " '/media/cat/12TB/in_vivo/tim/yuki/IA1/tif_files/IA1am_May5_Week4_30Hz/IA1am_May5_Week4_30Hz.tif'\n",
      " '/media/cat/12TB/in_vivo/tim/yuki/IA1/tif_files/IA1am_May6_Week4_30Hz/IA1am_May6_Week4_30Hz.tif'\n",
      " '/media/cat/12TB/in_vivo/tim/yuki/IA1/tif_files/IA1am_May9_Week5_30Hz/IA1am_May9_Week5_30Hz.tif'\n",
      " '/media/cat/12TB/in_vivo/tim/yuki/IA1/tif_files/IA1am_May10_Week5_30Hz/IA1am_May10_Week5_30Hz.tif'\n",
      " '/media/cat/12TB/in_vivo/tim/yuki/IA1/tif_files/IA1am_May12_Week5_30Hz/IA1am_May12_Week5_30Hz.tif'\n",
      " '/media/cat/12TB/in_vivo/tim/yuki/IA1/tif_files/IA1am_May13_Week5_30Hz/IA1am_May13_Week5_30Hz.tif'\n",
      " '/media/cat/12TB/in_vivo/tim/yuki/IA1/tif_files/IA1am_May16_Week6_30Hz/IA1am_May16_Week6_30Hz.tif'\n",
      " '/media/cat/12TB/in_vivo/tim/yuki/IA1/tif_files/IA1am_May17_Week6_30Hz/IA1am_May17_Week6_30Hz.tif'\n",
      " '/media/cat/12TB/in_vivo/tim/yuki/IA1/tif_files/IA1am_May18_Week6_30Hz/IA1am_May18_Week6_30Hz.tif'\n",
      " '/media/cat/12TB/in_vivo/tim/yuki/IA1/tif_files/IA1am_May20_Week6_30Hz/IA1am_May20_Week6_30Hz.tif']\n"
     ]
    }
   ],
   "source": [
    "data = np.load('/media/cat/4TBSSD/yuki/IA1/tif_files.npy')\n",
    "print (data)"
   ]
  },
  {
   "cell_type": "code",
   "execution_count": 7,
   "metadata": {},
   "outputs": [
    {
     "name": "stdout",
     "output_type": "stream",
     "text": [
      "(82, 2, 601)\n"
     ]
    }
   ],
   "source": [
    "data = np.load('/media/cat/1TB/yuki/IA1/tif_files/IA1pm_Feb23_30Hz/IA1pm_Feb23_30Hz_code_04_trial_ROItimeCourses_10sec_pca_0.5.npy')\n",
    "print (data.shape)"
   ]
  },
  {
   "cell_type": "code",
   "execution_count": 9,
   "metadata": {},
   "outputs": [],
   "source": [
    "# #\n",
    "# data1 = np.load('/home/cat/acc_rnn.npy.npz')\n",
    "# b = data1['b_rnn']\n",
    "# c = data1['c_s']\n",
    "\n",
    "# #\n",
    "# print (b.shape)\n",
    "# mean = b.mean(1)\n",
    "# t=np.linspace(-9.5, 9.5, mean.shape[0])\n",
    "# plt.plot(t, mean, c='black')\n",
    "# plt.fill_between(t, mean+c, mean-c, color='black', alpha=.2)\n",
    "\n",
    "# # \n",
    "# data2 = np.load('/home/cat/acc_rnn.npy.npz')\n",
    "# b = data2['b_rnn']\n",
    "# c = data2['c_s']\n",
    "# mean = b.mean(1)\n",
    "# plt.plot(t, mean, 'blue')\n",
    "# plt.fill_between(t, mean+c, mean-c, color='blue', alpha=.2)\n",
    "\n",
    "\n",
    "# plt.show()"
   ]
  },
  {
   "cell_type": "code",
   "execution_count": 13,
   "metadata": {},
   "outputs": [
    {
     "name": "stdout",
     "output_type": "stream",
     "text": [
      "(128, 128)\n"
     ]
    }
   ],
   "source": [
    "import numpy as np\n",
    "import matplotlib.pyplot as plt\n",
    "data= np.load('/media/cat/1TB/yuki/maskwarp.npy')\n",
    "print (data.shape)\n",
    "\n",
    "plt.imshow(data)\n",
    "plt.show()"
   ]
  },
  {
   "cell_type": "code",
   "execution_count": 138,
   "metadata": {
    "scrolled": true
   },
   "outputs": [
    {
     "name": "stdout",
     "output_type": "stream",
     "text": [
      "[  0  15  21  29  36  43  50  57  64  71 136 150 164 186 198 249 255 261\n",
      " 268 275] 20\n",
      "[ 15  21  29  36  43  50  57  64  71 136 150 164 186 198 249 255 261 268\n",
      " 275] 19\n"
     ]
    }
   ],
   "source": [
    "# \n",
    "def sum_pixels_in_registered_mask(data, \n",
    "                                  maskwarp,\n",
    "                                  min_pixels=10):\n",
    "\n",
    "    \n",
    "    # \n",
    "    areas = np.unique(maskwarp)\n",
    "\n",
    "    \n",
    "    \n",
    "    # work in 1D vectors easier to mask\n",
    "    maskwarp1D = maskwarp.reshape(-1)\n",
    "    #maskwarp1D = maskwarp\n",
    "\n",
    "    trial_courses = []\n",
    "    area_ids = []\n",
    "    for k in range(data.shape[0]):\n",
    "        time_courses_local = []\n",
    "\n",
    "        # convert to 1D vector to mask faster\n",
    "        data1D = np.float32(data[k].reshape(data[k].shape[0],-1))\n",
    "\n",
    "        # \n",
    "        print (k,\"Data1D: \", data1D.shape)\n",
    "        for id_ in areas:\n",
    "            idx = np.where(maskwarp1D==id_)[0]\n",
    "            #idx = np.where(maskwarp1D==id_)\n",
    "\n",
    "            # only keep areas that have at least 10 pixels\n",
    "            if idx.shape[0]>min_pixels:\n",
    "                area_ids.append(id_)\n",
    "                \n",
    "                temp = data1D[:,idx]\n",
    "\n",
    "                if False:\n",
    "                    # compute DFF\n",
    "                    F0 = np.nanmean(temp,axis=0)\n",
    "                    dFF = (data1D[:,idx]-F0)/F0\n",
    "                else:\n",
    "                    # skip dFF computation;\n",
    "                    dFF = temp\n",
    "\n",
    "                # save average of all pixesl post DFF\n",
    "                time_courses_local.append(np.nanmean(dFF, axis=1))\n",
    "\n",
    "            #all_times.append(time_courses_local)\n",
    "        trial_courses.append(time_courses_local)\n",
    "\n",
    "    area_ids = np.int32(np.unique(area_ids))\n",
    "    trial_courses = np.float32(trial_courses)\n",
    "    print (\"# trials, # areas, # times: \", trial_courses.shape)\n",
    "    print (\"area ids: \", area_ids.shape)\n",
    "\n",
    "    return area_ids, trial_courses\n",
    "\n",
    "# \n",
    "def check_neighbours(mask_roi, idx, p):\n",
    "    \n",
    "    x = idx[0][p]\n",
    "    y = idx[1][p]\n",
    "    \n",
    "    sums = 0\n",
    "    for k in range(-1,2,1):\n",
    "        for p in range(-1,2,1):\n",
    "            xx = x+k\n",
    "            yy = y+p\n",
    "            if xx < 0 or xx> 127 or yy<0 or yy>127:\n",
    "                pass\n",
    "            else:\n",
    "                sums+=mask_roi[xx,yy]\n",
    "                if sums>=2:\n",
    "                    return True\n",
    "    return False\n",
    "\n",
    "# \n",
    "def remove_single_pixels(maskwarp,\n",
    "                         min_pixels=10):\n",
    "\n",
    "    \n",
    "    \n",
    "    # load brain mask (i.e. no tissue areas) and apply it to the image mask first\n",
    "    if True:\n",
    "        temp = np.int32(np.loadtxt('/media/cat/1TB/yuki/IA1/genericmask.txt'))\n",
    "        brain_mask = np.ones((128,128),'float32')\n",
    "        for t in temp:\n",
    "            brain_mask[t[0],t[1]]=0\n",
    "\n",
    "        maskwarp = maskwarp*brain_mask\n",
    "    \n",
    "    # \n",
    "    ids = np.unique(maskwarp)\n",
    "\n",
    "    ids_selected = []\n",
    "    masks = []\n",
    "    mask_b = np.zeros((128,128),'int32')\n",
    "    for id_ in ids: \n",
    "        idx = np.where(maskwarp==id_)\n",
    "        if idx[0].shape[0]>min_pixels:\n",
    "            \n",
    "            # make the mask for the specific ROI\n",
    "            mask_roi = np.zeros((128,128))\n",
    "            idx = np.where(maskwarp==id_)\n",
    "\n",
    "            mask_roi[idx] = 1\n",
    "            \n",
    "            #idx_connected = []\n",
    "            x = []\n",
    "            y = []\n",
    "            for p in range(idx[0].shape[0]):\n",
    "                connected = check_neighbours(mask_roi, idx, p)\n",
    "                if connected:\n",
    "                    x.append(idx[0][p])\n",
    "                    y.append(idx[1][p])\n",
    "            \n",
    "            # \n",
    "            if len(x)>min_pixels:\n",
    "                ids_selected.append(int(id_))\n",
    "                temp = mask_b.copy()\n",
    "                for p in range(len(x)):\n",
    "                     temp[x[p],y[p]]=1\n",
    "                \n",
    "                masks.append(temp)\n",
    "                \n",
    "        \n",
    "    ids_selected = np.array(ids_selected)\n",
    "    return ids_selected, masks\n",
    "# \n",
    "maskwarp= np.load('/media/cat/1TB/yuki/maskwarp.npy')\n",
    "\n",
    "min_pixels = 50\n",
    "ids, masks = remove_single_pixels(maskwarp,\n",
    "                                 min_pixels)\n",
    "print (ids, len(ids))\n",
    "\n",
    "#ids, courses = sum_pixels_in_registered_mask(data, maskwarp)\n",
    "\n",
    "# remove certain specific areas:\n",
    "idx_del =  [0,16,20]\n",
    "ids = np.delete(ids,0,0)\n",
    "masks = np.delete(masks,0,0)\n",
    "print (ids, len(ids))\n"
   ]
  },
  {
   "cell_type": "code",
   "execution_count": 141,
   "metadata": {},
   "outputs": [],
   "source": [
    "# Load names of ROIs\n",
    "with open('/home/cat/dorsalMaps_name.txt') as f:\n",
    "    fs = list(f)\n",
    "\n",
    "fs = np.vstack(fs)\n",
    "names = []\n",
    "for name in fs:\n",
    "    temp = name[0][1:-2]\n",
    "    names.append(temp)\n",
    "\n",
    "# load brain mask (i.e. no tissue areas)\n",
    "temp = np.int32(np.loadtxt('/media/cat/1TB/yuki/IA1/genericmask.txt'))\n",
    "mask = np.ones((128,128),'float32')\n",
    "for t in temp:\n",
    "    mask[t[0],t[1]]=np.nan\n",
    "    \n",
    "    \n",
    "# Plot ROIs\n",
    "rois = []\n",
    "final_names = []\n",
    "for ctr, id_ in enumerate(ids):\n",
    "    ax=plt.subplot(5,7,ctr+1)\n",
    "    temp = np.zeros((128,128))+np.nan\n",
    "\n",
    "    roi = masks[ctr]*mask\n",
    "    plt.imshow(roi)\n",
    "    rois.append(roi)\n",
    "    #\n",
    "    plt.xticks([])\n",
    "    plt.yticks([])\n",
    "    plt.ylabel(str(id_))\n",
    "    plt.title(names[id_], fontsize=6)\n",
    "    final_names.append(names[id_])\n",
    "    \n",
    "plt.show()\n",
    "np.savez('/home/cat/rois_'+str(min_pixels)+'.npz',\n",
    "        rois = rois,\n",
    "        ids = ids,\n",
    "        names = final_names)"
   ]
  },
  {
   "cell_type": "code",
   "execution_count": 120,
   "metadata": {},
   "outputs": [
    {
     "data": {
      "text/plain": [
       "<matplotlib.image.AxesImage at 0x7fc75992d160>"
      ]
     },
     "execution_count": 120,
     "metadata": {},
     "output_type": "execute_result"
    }
   ],
   "source": [
    "data = np.load('/home/cat/roi.npz')\n",
    "rois = data['rois']\n",
    "plt.imshow(rois[1])"
   ]
  },
  {
   "cell_type": "code",
   "execution_count": 4,
   "metadata": {},
   "outputs": [
    {
     "name": "stdout",
     "output_type": "stream",
     "text": [
      "(81, 5, 901)\n",
      "(82, 5, 901)\n"
     ]
    }
   ],
   "source": [
    "data = np.load('/media/cat/4TBSSD/yuki/AQ2/tif_files/AQ2am_Apr29_Week8_30Hz/AQ2am_Apr29_Week8_30Hz_code_04_random_ROItimeCourses_15sec_pca_0.95.npy')\n",
    "print (data.shape)\n",
    "data2 = np.load('/media/cat/4TBSSD/yuki/AQ2/tif_files/AQ2am_Apr29_Week8_30Hz/AQ2am_Apr29_Week8_30Hz_code_04_trial_ROItimeCourses_15sec_pca_0.95.npy')\n",
    "print (data2.shape)"
   ]
  },
  {
   "cell_type": "code",
   "execution_count": 20,
   "metadata": {},
   "outputs": [
    {
     "data": {
      "text/plain": [
       "(901, 10)"
      ]
     },
     "execution_count": 20,
     "metadata": {},
     "output_type": "execute_result"
    }
   ],
   "source": [
    "data = np.load('/media/cat/4TBSSD/yuki/AQ2/SVM_Scores/SVM_Scores_AQ2am_Dec29_30Hz_code_04_trial_ROItimeCourses_15sec_pca_0.95.npy')\n",
    "data.shape"
   ]
  },
  {
   "cell_type": "code",
   "execution_count": 29,
   "metadata": {},
   "outputs": [
    {
     "data": {
      "text/plain": [
       "array([list([]), list([]), list([]), list([]), list([]),\n",
       "       list([15, 17, 18, 19, 20, 27, 28, 29, 30, 32, 48, 49, 50, 51, 52, 53, 54, 56, 57, 58, 59, 60, 61, 62, 63, 64, 65, 66, 67, 69, 70, 71, 72, 73, 74, 75, 76, 77, 78, 79, 80, 81, 82, 83, 84, 85, 86, 87, 88, 89, 90, 91, 92, 93, 94, 95, 96, 97, 98, 99, 100, 101, 102, 103, 104, 105, 106, 107, 108, 109])],\n",
       "      dtype=object)"
      ]
     },
     "execution_count": 29,
     "metadata": {},
     "output_type": "execute_result"
    }
   ],
   "source": [
    "data = np.load('/media/cat/4TBSSD/yuki/first_decoding_time_all.npz', allow_pickle=True)\n",
    "session_nos = data['all_session_nos']\n",
    "session_nos\n"
   ]
  },
  {
   "cell_type": "code",
   "execution_count": 21,
   "metadata": {},
   "outputs": [
    {
     "name": "stdout",
     "output_type": "stream",
     "text": [
      "rnn data:  (10, 10)\n",
      "svm data:  (300, 10)\n"
     ]
    }
   ],
   "source": [
    "# load rnn\n",
    "import numpy as np\n",
    "import matplotlib.pyplot as plt\n",
    "import os\n",
    "import glob\n",
    "\n",
    "# \n",
    "rnn_dir = '/mnt/f418adc0-4ff9-410c-93c9-d6d21a1e9c35/yuki/IJ2/temp/rnn/'\n",
    "svm_dir = '/mnt/f418adc0-4ff9-410c-93c9-d6d21a1e9c35/yuki/IJ2/temp/svm/'\n",
    "\n",
    "# session:\n",
    "session = 'Mar9_'\n",
    "\n",
    "# \n",
    "data_rnn = np.load(glob.glob(rnn_dir+'/*'+session+\"*.npz\")[0])\n",
    "b_rnn = data_rnn['b_rnn']\n",
    "print (\"rnn data: \", b_rnn.shape)\n",
    "\n",
    "# load svm\n",
    "data_svm = np.load(glob.glob(svm_dir+'/*'+session+\"*.npy\")[0])\n",
    "data_svm = data_svm[:data_svm.shape[0]//2]\n",
    "print (\"svm data: \", data_svm.shape)\n",
    "\n",
    "ax=plt.subplot(111)\n",
    "\n",
    "# plot rnn\n",
    "std = np.std(b_rnn,1)\n",
    "mean = np.mean(b_rnn,1)\n",
    "t=np.arange(b_rnn.shape[0])-9.5\n",
    "plt.plot(t, mean, color='black')\n",
    "ax.fill_between(t, mean-std, mean+std, color='black', alpha = 0.2)\n",
    "\n",
    "# plot svm\n",
    "std = np.std(data_svm,1)\n",
    "mean = np.mean(data_svm,1)\n",
    "t=np.arange(data_svm.shape[0])/30.-10\n",
    "plt.plot(t, mean, color='blue')\n",
    "ax.fill_between(t, mean-std, mean+std, color='blue', alpha = 0.2)\n",
    "\n",
    "plt.xlim(-10,0)\n",
    "plt.ylim(0.3, 1.0)\n",
    "plt.show()\n"
   ]
  },
  {
   "cell_type": "code",
   "execution_count": 113,
   "metadata": {},
   "outputs": [
    {
     "name": "stdout",
     "output_type": "stream",
     "text": [
      "(93, 6, 900)\n"
     ]
    }
   ],
   "source": [
    "data = np.load('/media/cat/4TBSSD/yuki/IJ2/concatenation_tests/IJ2pm_Feb29_30Hz_random.npy')\n",
    "print (data.shape)"
   ]
  },
  {
   "cell_type": "code",
   "execution_count": 178,
   "metadata": {},
   "outputs": [],
   "source": [
    "animals = ['IA1','IA2','IA3','IJ1','IJ2','AQ2']\n",
    "root_dir = '/media/cat/4TBSSD/yuki/'\n",
    "ctr=0\n",
    "clrs=['black','blue','red','green','magenta','cyan']\n",
    "for animal in animals:\n",
    "    fnames = np.load('/media/cat/4TBSSD/yuki/'+animal+'/tif_files.npy')\n",
    "    n = []\n",
    "    for fname in fnames:\n",
    "        session = os.path.split(fname)[1][:-4]\n",
    "        try:\n",
    "            data = np.loadtxt(root_dir+animal+'/tif_files/'+session+'/'+session+'_all_locs_selected.txt')\n",
    "        except:\n",
    "            continue\n",
    "        n.append(len(data))\n",
    "\n",
    "    median = np.mean(n)\n",
    "    plt.plot([median,median],[0,25],'--',\n",
    "             linewidth=3,\n",
    "             c=clrs[ctr])\n",
    "\n",
    "    #\n",
    "    total_trials = np.sum(n)\n",
    "    bins=np.arange(0,210,10)\n",
    "    y = np.histogram(n, bins)\n",
    "    plt.plot(y[1][:-1]+5, y[0],\n",
    "             linewidth=4,\n",
    "            label=animal+\" - \"+str(int(median)),\n",
    "            c=clrs[ctr])\n",
    "    \n",
    "    ctr+=1\n",
    "plt.xlim(bins[0],bins[-1])\n",
    "plt.legend(fontsize=34)\n",
    "plt.ylim(0,25)\n",
    "plt.show()"
   ]
  },
  {
   "cell_type": "code",
   "execution_count": 33,
   "metadata": {},
   "outputs": [
    {
     "name": "stdout",
     "output_type": "stream",
     "text": [
      "(1771, 10)\n"
     ]
    }
   ],
   "source": [
    "data = np.load('/media/cat/4TBSSD/yuki/IA1/SVM_Scores/SVM_Scores_IA1pm_Mar2_30Hzcode_04_trial_ROItimeCourses_30sec_Xvalid10_Slidewindow30.npz')\n",
    "acc = data['accuracy']\n",
    "print (acc.shape)"
   ]
  },
  {
   "cell_type": "code",
   "execution_count": null,
   "metadata": {},
   "outputs": [],
   "source": []
  }
 ],
 "metadata": {
  "kernelspec": {
   "display_name": "Python 3",
   "language": "python",
   "name": "python3"
  },
  "language_info": {
   "codemirror_mode": {
    "name": "ipython",
    "version": 3
   },
   "file_extension": ".py",
   "mimetype": "text/x-python",
   "name": "python",
   "nbconvert_exporter": "python",
   "pygments_lexer": "ipython3",
   "version": "3.8.8"
  }
 },
 "nbformat": 4,
 "nbformat_minor": 4
}
