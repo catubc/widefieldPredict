{
 "cells": [
  {
   "cell_type": "code",
   "execution_count": 2,
   "metadata": {},
   "outputs": [
    {
     "data": {
      "application/javascript": [
       "IPython.notebook.set_autosave_interval(180000)"
      ]
     },
     "metadata": {},
     "output_type": "display_data"
    },
    {
     "name": "stdout",
     "output_type": "stream",
     "text": [
      "Autosaving every 180 seconds\n"
     ]
    },
    {
     "data": {
      "text/html": [
       "<style>.container { width:100% !important; }</style>"
      ],
      "text/plain": [
       "<IPython.core.display.HTML object>"
      ]
     },
     "metadata": {},
     "output_type": "display_data"
    }
   ],
   "source": [
    "import matplotlib\n",
    "#matplotlib.use('Agg')\n",
    "\n",
    "%load_ext autoreload\n",
    "%autoreload 2\n",
    "\n",
    "%matplotlib tk\n",
    "%autosave 180\n",
    "import matplotlib.pyplot as plt\n",
    "from IPython.core.display import display, HTML\n",
    "display(HTML(\"<style>.container { width:100% !important; }</style>\"))\n",
    "\n",
    "import numpy as np\n",
    "import os\n",
    "\n",
    "\n",
    "# pre process data module\n",
    "from EventTriggeredMaps import EventTriggeredMaps\n",
    "\n",
    "#  SVM module\n",
    "from PredictSVM import PredictSVMChoice, PredictSVMTime\n",
    "\n",
    "# RNN module\n",
    "from PredictRNN import PredictRNN\n",
    "\n",
    "# visualize results module\n",
    "from Visualize import Visualize\n",
    "\n",
    "# \n",
    "data_dir = '/media/cat/4TBSSD/yuki/'\n"
   ]
  },
  {
   "cell_type": "code",
   "execution_count": 6,
   "metadata": {
    "scrolled": true
   },
   "outputs": [
    {
     "name": "stderr",
     "output_type": "stream",
     "text": [
      "\r",
      "  0%|          | 0/44 [00:00<?, ?it/s]"
     ]
    },
    {
     "name": "stdout",
     "output_type": "stream",
     "text": [
      "PROCESSING:  IA3\n",
      "aligned filtered images missing... recomputing:  /media/cat/4TBSSD/yuki/IA3/tif_files/IA3am_Mar10_30Hz/IA3am_Mar10_30Hz_aligned_butterworth_0.1hz_6.0hz.npy\n",
      " ... saving pca:  /media/cat/4TBSSD/yuki/IA3/tif_files/IA3am_Mar10_30Hz/IA3am_Mar10_30Hz_code_04_trial_ROItimeCourses_10sec_pca.pkl\n",
      " ... saving pca:  /media/cat/4TBSSD/yuki/IA3/tif_files/IA3am_Mar10_30Hz/IA3am_Mar10_30Hz_code_04_lockout_10sec_trial_ROItimeCourses_10sec_pca.pkl\n"
     ]
    },
    {
     "name": "stderr",
     "output_type": "stream",
     "text": [
      "100%|██████████| 44/44 [02:29<00:00,  3.40s/it]"
     ]
    },
    {
     "name": "stdout",
     "output_type": "stream",
     "text": [
      "DONE STMs....\n"
     ]
    },
    {
     "name": "stderr",
     "output_type": "stream",
     "text": [
      "\n"
     ]
    }
   ],
   "source": [
    "###########################################################################\n",
    "##### PROCESS [CA] DATA (EVENT TRIGGERED MAPS): ROI OR PCA TIME SERIES ####\n",
    "###########################################################################\n",
    "'''  Compute calcium activity in ROIs selected (35) for \n",
    "     lever pull actiivty\n",
    "     \n",
    "     or just use PCA time courses \n",
    "'''\n",
    "\n",
    "# Processing flags\n",
    "parallel = False\n",
    "n_cores = 6\n",
    "\n",
    "# select animal names\n",
    "names = ['IA1','IA2','IA3','IJ1','IJ2','AQ2'] # \"AR4\" and other datase\n",
    "names = ['IA3']\n",
    "\n",
    "# window to compute\n",
    "n_sec_window = 10\n",
    "lockout_window = 10\n",
    "recompute = False  # overwrite previously generated data\n",
    "\n",
    "# save PCA vs. ROI data; if selected, each dataset will be reduced to the PCs rquired to get to the explained var value\n",
    "pca_etm = True\n",
    "pca_explained_var_val = 0.95\n",
    "\n",
    "# \n",
    "etm = EventTriggeredMaps()\n",
    "etm.main_dir = data_dir\n",
    "etm.sessions = 'all'  # or 'all'\n",
    "\n",
    "etm.generate_etm(names,\n",
    "                 n_sec_window,\n",
    "                 lockout_window,\n",
    "                 recompute,\n",
    "                 pca_etm,\n",
    "                 pca_explained_var_val,\n",
    "                 parallel,\n",
    "                 n_cores,\n",
    "                 )                \n",
    "                "
   ]
  },
  {
   "cell_type": "code",
   "execution_count": 3,
   "metadata": {
    "scrolled": true
   },
   "outputs": [
    {
     "name": "stdout",
     "output_type": "stream",
     "text": [
      " ....file not found, skippping \n",
      "Loading:  /media/cat/4TBSSD/yuki/IJ1/tif_files/IJ1pm_Feb24_30Hz/IJ1pm_Feb24_30Hz_code_04_trial_ROItimeCourses_10sec_pca_0.95.npy\n",
      " ....file not found, skippping \n",
      "Loading:  /media/cat/4TBSSD/yuki/IJ1/tif_files/IJ1pm_Feb25_30Hz/IJ1pm_Feb25_30Hz_code_04_trial_ROItimeCourses_10sec_pca_0.95.npy\n",
      " ....file not found, skippping \n",
      "Loading:  /media/cat/4TBSSD/yuki/IJ1/tif_files/IJ1pm_Apr7_30Hz/IJ1pm_Apr7_30Hz_code_04_trial_ROItimeCourses_10sec_pca_0.95.npy\n",
      "DONE predicting SVM on animal:  IJ1\n",
      " ....file not found, skippping \n",
      "Loading:  /media/cat/4TBSSD/yuki/IJ1/tif_files/IJ1pm_Feb24_30Hz/IJ1pm_Feb24_30Hz_code_04_lockout_10sec_trial_ROItimeCourses_10sec_pca_0.95.npy\n",
      " ....file not found, skippping \n",
      "Loading:  /media/cat/4TBSSD/yuki/IJ1/tif_files/IJ1pm_Feb25_30Hz/IJ1pm_Feb25_30Hz_code_04_lockout_10sec_trial_ROItimeCourses_10sec_pca_0.95.npy\n",
      " ....file not found, skippping \n",
      "Loading:  /media/cat/4TBSSD/yuki/IJ1/tif_files/IJ1pm_Apr7_30Hz/IJ1pm_Apr7_30Hz_code_04_lockout_10sec_trial_ROItimeCourses_10sec_pca_0.95.npy\n",
      "DONE predicting SVM on animal:  IJ1\n",
      " ....file not found, skippping \n",
      "Loading:  /media/cat/4TBSSD/yuki/AQ2/tif_files/AQ2am_Dec9_30Hz/AQ2am_Dec9_30Hz_code_04_trial_ROItimeCourses_10sec_pca_0.95.npy\n",
      " ....file not found, skippping \n",
      "Loading:  /media/cat/4TBSSD/yuki/AQ2/tif_files/AQ2am_Dec10_30Hz/AQ2am_Dec10_30Hz_code_04_trial_ROItimeCourses_10sec_pca_0.95.npy\n",
      " ....file not found, skippping \n",
      "Loading:  /media/cat/4TBSSD/yuki/AQ2/tif_files/AQ2pm_Dec10_30Hz/AQ2pm_Dec10_30Hz_code_04_trial_ROItimeCourses_10sec_pca_0.95.npy\n",
      " ....file not found, skippping \n",
      "Loading:  /media/cat/4TBSSD/yuki/AQ2/tif_files/AQ2am_Dec14_30Hz/AQ2am_Dec14_30Hz_code_04_trial_ROItimeCourses_10sec_pca_0.95.npy\n",
      " ....file not found, skippping \n",
      "Loading:  /media/cat/4TBSSD/yuki/AQ2/tif_files/AQ2am_Dec22_30Hz/AQ2am_Dec22_30Hz_code_04_trial_ROItimeCourses_10sec_pca_0.95.npy\n",
      " ....file not found, skippping \n",
      "Loading:  /media/cat/4TBSSD/yuki/AQ2/tif_files/AQ2am_Dec23_30Hz/AQ2am_Dec23_30Hz_code_04_trial_ROItimeCourses_10sec_pca_0.95.npy\n",
      " ....file not found, skippping \n",
      "Loading:  /media/cat/4TBSSD/yuki/AQ2/tif_files/AQ2am_Dec30_30Hz/AQ2am_Dec30_30Hz_code_04_trial_ROItimeCourses_10sec_pca_0.95.npy\n",
      " ....file not found, skippping \n",
      "Loading:  /media/cat/4TBSSD/yuki/AQ2/tif_files/AQ2am_Jan11_30Hz/AQ2am_Jan11_30Hz_code_04_trial_ROItimeCourses_10sec_pca_0.95.npy\n",
      " ....file not found, skippping \n",
      "Loading:  /media/cat/4TBSSD/yuki/AQ2/tif_files/AQ2am_Jan12_30Hz/AQ2am_Jan12_30Hz_code_04_trial_ROItimeCourses_10sec_pca_0.95.npy\n",
      " ....file not found, skippping \n",
      "Loading:  /media/cat/4TBSSD/yuki/AQ2/tif_files/AQ2pm_Jan18_30Hz/AQ2pm_Jan18_30Hz_code_04_trial_ROItimeCourses_10sec_pca_0.95.npy\n",
      " ....file not found, skippping \n",
      "Loading:  /media/cat/4TBSSD/yuki/AQ2/tif_files/AQ2am_Jan19_30Hz/AQ2am_Jan19_30Hz_code_04_trial_ROItimeCourses_10sec_pca_0.95.npy\n",
      " ....file not found, skippping \n",
      "Loading:  /media/cat/4TBSSD/yuki/AQ2/tif_files/AQ2pm_Jan19_30Hz/AQ2pm_Jan19_30Hz_code_04_trial_ROItimeCourses_10sec_pca_0.95.npy\n",
      " ....file not found, skippping \n",
      "Loading:  /media/cat/4TBSSD/yuki/AQ2/tif_files/AQ2pm_Jan20_30Hz/AQ2pm_Jan20_30Hz_code_04_trial_ROItimeCourses_10sec_pca_0.95.npy\n",
      " ....file not found, skippping \n",
      "Loading:  /media/cat/4TBSSD/yuki/AQ2/tif_files/AQ2pm_Jan21_30Hz/AQ2pm_Jan21_30Hz_code_04_trial_ROItimeCourses_10sec_pca_0.95.npy\n",
      " ....file not found, skippping \n",
      "Loading:  /media/cat/4TBSSD/yuki/AQ2/tif_files/AQ2am_Jan21_30Hz/AQ2am_Jan21_30Hz_code_04_trial_ROItimeCourses_10sec_pca_0.95.npy\n",
      " ....file not found, skippping \n",
      "Loading:  /media/cat/4TBSSD/yuki/AQ2/tif_files/AQ2am_Jan25_30Hz/AQ2am_Jan25_30Hz_code_04_trial_ROItimeCourses_10sec_pca_0.95.npy\n",
      " ....file not found, skippping \n",
      "Loading:  /media/cat/4TBSSD/yuki/AQ2/tif_files/AQ2pm_Jan25_30Hz/AQ2pm_Jan25_30Hz_code_04_trial_ROItimeCourses_10sec_pca_0.95.npy\n",
      " ....file not found, skippping \n",
      "Loading:  /media/cat/4TBSSD/yuki/AQ2/tif_files/AQ2pm_Jan26_30Hz/AQ2pm_Jan26_30Hz_code_04_trial_ROItimeCourses_10sec_pca_0.95.npy\n",
      " ....file not found, skippping \n",
      "Loading:  /media/cat/4TBSSD/yuki/AQ2/tif_files/AQ2am_Jan26_30Hz/AQ2am_Jan26_30Hz_code_04_trial_ROItimeCourses_10sec_pca_0.95.npy\n"
     ]
    },
    {
     "name": "stderr",
     "output_type": "stream",
     "text": [
      "610it [00:09, 61.17it/s]                         \n",
      "610it [00:09, 66.40it/s]                         \n",
      "610it [00:07, 76.39it/s]                         \n",
      "610it [00:09, 66.23it/s]                         \n",
      "610it [00:09, 65.55it/s]                         \n",
      "610it [00:10, 57.69it/s]                         \n",
      "610it [00:12, 49.64it/s]                         \n",
      "610it [00:10, 57.40it/s]                         \n",
      "610it [00:12, 47.76it/s]                         \n",
      "610it [00:12, 47.56it/s]                         \n",
      "610it [00:10, 55.80it/s]                         \n",
      "610it [00:16, 36.17it/s]                         \n",
      "610it [00:16, 37.87it/s]                         \n",
      "610it [00:13, 43.86it/s]                         \n",
      "610it [00:12, 47.03it/s]                         \n",
      "610it [00:13, 45.39it/s]                         \n",
      "610it [00:15, 38.28it/s]                         \n",
      "610it [00:12, 48.54it/s]                         \n",
      "610it [00:20, 29.82it/s]                         \n",
      "610it [00:17, 33.96it/s]                         \n"
     ]
    },
    {
     "name": "stdout",
     "output_type": "stream",
     "text": [
      " ....file not found, skippping \n",
      "Loading:  /media/cat/4TBSSD/yuki/AQ2/tif_files/AQ2am_Feb25_30Hz/AQ2am_Feb25_30Hz_code_04_trial_ROItimeCourses_10sec_pca_0.95.npy\n"
     ]
    },
    {
     "name": "stderr",
     "output_type": "stream",
     "text": [
      "610it [00:12, 48.60it/s]                         \n",
      "610it [00:15, 38.71it/s]                         \n",
      "610it [00:18, 33.78it/s]                         \n",
      "610it [00:13, 46.55it/s]                         \n",
      "610it [00:17, 35.51it/s]                         \n",
      "610it [00:13, 46.32it/s]                         \n",
      "610it [00:13, 44.31it/s]                         \n",
      "610it [00:15, 40.58it/s]                         \n",
      "610it [00:12, 48.27it/s]                         \n",
      "610it [00:15, 39.30it/s]                         \n",
      "610it [00:16, 35.94it/s]                         \n",
      "610it [00:11, 54.77it/s]                         \n",
      "610it [00:15, 39.58it/s]                         \n",
      "610it [00:10, 57.10it/s]                         \n",
      "610it [00:13, 45.57it/s]                         \n",
      "610it [00:15, 39.47it/s]                         \n",
      "610it [00:14, 42.42it/s]                         \n",
      "610it [00:14, 42.52it/s]                         \n",
      "610it [00:20, 30.29it/s]                         \n",
      "610it [00:19, 31.30it/s]                         \n",
      "610it [00:17, 34.35it/s]                         \n",
      "610it [00:16, 36.67it/s]                         \n",
      "610it [00:15, 40.51it/s]                         \n",
      "610it [00:16, 37.10it/s]                         \n",
      "610it [00:14, 42.50it/s]                         \n",
      "610it [00:17, 34.93it/s]                         \n",
      "610it [00:19, 32.09it/s]                         \n",
      "610it [00:10, 56.16it/s]                         \n",
      "610it [00:16, 36.76it/s]                         \n",
      "610it [00:14, 41.22it/s]                         \n",
      "610it [00:12, 50.22it/s]                         \n",
      "610it [00:12, 48.89it/s]                         \n",
      "610it [00:10, 59.76it/s]                         \n",
      "610it [00:11, 52.76it/s]                         \n",
      "610it [00:11, 51.95it/s]                         \n",
      "610it [00:24, 24.86it/s]                         \n",
      "610it [00:19, 31.13it/s]                         \n",
      "610it [00:14, 41.95it/s]                         \n",
      "610it [00:17, 34.01it/s]                         \n",
      "610it [00:16, 37.22it/s]                         \n",
      "610it [00:11, 55.42it/s]                         \n"
     ]
    },
    {
     "name": "stdout",
     "output_type": "stream",
     "text": [
      "DONE predicting SVM on animal:  AQ2\n",
      " ....file not found, skippping \n",
      "Loading:  /media/cat/4TBSSD/yuki/AQ2/tif_files/AQ2am_Dec9_30Hz/AQ2am_Dec9_30Hz_code_04_lockout_10sec_trial_ROItimeCourses_10sec_pca_0.95.npy\n",
      " ....file not found, skippping \n",
      "Loading:  /media/cat/4TBSSD/yuki/AQ2/tif_files/AQ2am_Dec10_30Hz/AQ2am_Dec10_30Hz_code_04_lockout_10sec_trial_ROItimeCourses_10sec_pca_0.95.npy\n",
      " ....file not found, skippping \n",
      "Loading:  /media/cat/4TBSSD/yuki/AQ2/tif_files/AQ2pm_Dec10_30Hz/AQ2pm_Dec10_30Hz_code_04_lockout_10sec_trial_ROItimeCourses_10sec_pca_0.95.npy\n"
     ]
    },
    {
     "name": "stderr",
     "output_type": "stream",
     "text": [
      "610it [00:13, 46.70it/s]                         \n",
      "610it [00:11, 53.00it/s]                         \n"
     ]
    },
    {
     "name": "stdout",
     "output_type": "stream",
     "text": [
      " ....file not found, skippping \n",
      "Loading:  /media/cat/4TBSSD/yuki/AQ2/tif_files/AQ2am_Dec14_30Hz/AQ2am_Dec14_30Hz_code_04_lockout_10sec_trial_ROItimeCourses_10sec_pca_0.95.npy\n"
     ]
    },
    {
     "name": "stderr",
     "output_type": "stream",
     "text": [
      "610it [00:13, 45.81it/s]                         \n",
      "610it [00:16, 37.50it/s]                         \n",
      "610it [00:13, 46.36it/s]                         \n",
      "610it [00:12, 47.11it/s]                         \n",
      "610it [00:17, 33.93it/s]                         \n",
      "610it [00:08, 72.30it/s]                         \n"
     ]
    },
    {
     "name": "stdout",
     "output_type": "stream",
     "text": [
      " ....file not found, skippping \n",
      "Loading:  /media/cat/4TBSSD/yuki/AQ2/tif_files/AQ2am_Dec22_30Hz/AQ2am_Dec22_30Hz_code_04_lockout_10sec_trial_ROItimeCourses_10sec_pca_0.95.npy\n",
      " ....file not found, skippping \n",
      "Loading:  /media/cat/4TBSSD/yuki/AQ2/tif_files/AQ2am_Dec23_30Hz/AQ2am_Dec23_30Hz_code_04_lockout_10sec_trial_ROItimeCourses_10sec_pca_0.95.npy\n"
     ]
    },
    {
     "name": "stderr",
     "output_type": "stream",
     "text": [
      "610it [00:11, 51.28it/s]                         \n",
      "610it [00:10, 58.99it/s]                         \n"
     ]
    },
    {
     "name": "stdout",
     "output_type": "stream",
     "text": [
      " ....file not found, skippping \n",
      "Loading:  /media/cat/4TBSSD/yuki/AQ2/tif_files/AQ2am_Dec30_30Hz/AQ2am_Dec30_30Hz_code_04_lockout_10sec_trial_ROItimeCourses_10sec_pca_0.95.npy\n"
     ]
    },
    {
     "name": "stderr",
     "output_type": "stream",
     "text": [
      "610it [00:14, 42.88it/s]                         \n",
      "610it [00:09, 67.27it/s]                         \n",
      "610it [00:09, 65.94it/s]                         \n",
      "610it [00:12, 48.85it/s]                         \n",
      "610it [00:10, 57.71it/s]                         \n",
      "610it [00:11, 51.58it/s]                         \n",
      "610it [00:09, 66.73it/s]                         \n"
     ]
    },
    {
     "name": "stdout",
     "output_type": "stream",
     "text": [
      " ....file not found, skippping \n",
      "Loading:  /media/cat/4TBSSD/yuki/AQ2/tif_files/AQ2am_Jan11_30Hz/AQ2am_Jan11_30Hz_code_04_lockout_10sec_trial_ROItimeCourses_10sec_pca_0.95.npy\n"
     ]
    },
    {
     "name": "stderr",
     "output_type": "stream",
     "text": [
      "610it [00:06, 88.47it/s]                         \n"
     ]
    },
    {
     "name": "stdout",
     "output_type": "stream",
     "text": [
      " ....file not found, skippping \n",
      "Loading:  /media/cat/4TBSSD/yuki/AQ2/tif_files/AQ2am_Jan12_30Hz/AQ2am_Jan12_30Hz_code_04_lockout_10sec_trial_ROItimeCourses_10sec_pca_0.95.npy\n"
     ]
    },
    {
     "name": "stderr",
     "output_type": "stream",
     "text": [
      "610it [00:08, 68.46it/s]                         \n",
      "610it [00:16, 36.25it/s]                         \n",
      "610it [00:08, 69.68it/s]                         \n",
      "610it [00:12, 50.60it/s]                         \n",
      "610it [00:06, 87.17it/s]                         \n",
      "610it [00:09, 66.82it/s]                         \n"
     ]
    },
    {
     "name": "stdout",
     "output_type": "stream",
     "text": [
      " ....file not found, skippping \n",
      "Loading:  /media/cat/4TBSSD/yuki/AQ2/tif_files/AQ2pm_Jan18_30Hz/AQ2pm_Jan18_30Hz_code_04_lockout_10sec_trial_ROItimeCourses_10sec_pca_0.95.npy\n"
     ]
    },
    {
     "name": "stderr",
     "output_type": "stream",
     "text": [
      "610it [00:09, 66.45it/s]                         \n"
     ]
    },
    {
     "name": "stdout",
     "output_type": "stream",
     "text": [
      " ....file not found, skippping \n",
      "Loading:  /media/cat/4TBSSD/yuki/AQ2/tif_files/AQ2am_Jan19_30Hz/AQ2am_Jan19_30Hz_code_04_lockout_10sec_trial_ROItimeCourses_10sec_pca_0.95.npy\n",
      " ....file not found, skippping \n",
      "Loading:  /media/cat/4TBSSD/yuki/AQ2/tif_files/AQ2pm_Jan19_30Hz/AQ2pm_Jan19_30Hz_code_04_lockout_10sec_trial_ROItimeCourses_10sec_pca_0.95.npy\n",
      " ....file not found, skippping \n",
      "Loading:  /media/cat/4TBSSD/yuki/AQ2/tif_files/AQ2pm_Jan20_30Hz/AQ2pm_Jan20_30Hz_code_04_lockout_10sec_trial_ROItimeCourses_10sec_pca_0.95.npy\n"
     ]
    },
    {
     "name": "stderr",
     "output_type": "stream",
     "text": [
      "610it [00:08, 73.83it/s]                         \n"
     ]
    },
    {
     "name": "stdout",
     "output_type": "stream",
     "text": [
      " ....file not found, skippping \n",
      "Loading:  /media/cat/4TBSSD/yuki/AQ2/tif_files/AQ2pm_Jan21_30Hz/AQ2pm_Jan21_30Hz_code_04_lockout_10sec_trial_ROItimeCourses_10sec_pca_0.95.npy\n",
      " ....file not found, skippping \n",
      "Loading:  /media/cat/4TBSSD/yuki/AQ2/tif_files/AQ2am_Jan21_30Hz/AQ2am_Jan21_30Hz_code_04_lockout_10sec_trial_ROItimeCourses_10sec_pca_0.95.npy\n"
     ]
    },
    {
     "name": "stderr",
     "output_type": "stream",
     "text": [
      "610it [00:10, 58.58it/s]                         \n",
      "610it [00:15, 38.55it/s]                         \n"
     ]
    },
    {
     "name": "stdout",
     "output_type": "stream",
     "text": [
      " ....file not found, skippping \n",
      "Loading:  /media/cat/4TBSSD/yuki/AQ2/tif_files/AQ2am_Jan25_30Hz/AQ2am_Jan25_30Hz_code_04_lockout_10sec_trial_ROItimeCourses_10sec_pca_0.95.npy\n",
      " ....file not found, skippping \n",
      "Loading:  /media/cat/4TBSSD/yuki/AQ2/tif_files/AQ2pm_Jan25_30Hz/AQ2pm_Jan25_30Hz_code_04_lockout_10sec_trial_ROItimeCourses_10sec_pca_0.95.npy\n",
      " ....file not found, skippping \n",
      "Loading:  /media/cat/4TBSSD/yuki/AQ2/tif_files/AQ2pm_Jan26_30Hz/AQ2pm_Jan26_30Hz_code_04_lockout_10sec_trial_ROItimeCourses_10sec_pca_0.95.npy\n",
      " ....file not found, skippping \n",
      "Loading:  /media/cat/4TBSSD/yuki/AQ2/tif_files/AQ2am_Jan26_30Hz/AQ2am_Jan26_30Hz_code_04_lockout_10sec_trial_ROItimeCourses_10sec_pca_0.95.npy\n"
     ]
    },
    {
     "name": "stderr",
     "output_type": "stream",
     "text": [
      "610it [00:10, 58.44it/s]                         \n",
      "610it [00:08, 69.25it/s]                         \n",
      "610it [00:09, 62.47it/s]                         \n",
      "610it [00:08, 75.40it/s]                         \n",
      "610it [00:09, 65.60it/s]                         \n",
      "610it [00:08, 68.68it/s]                         \n",
      "610it [00:09, 63.83it/s]                         \n",
      "610it [00:09, 62.93it/s]                         \n",
      "610it [00:10, 55.88it/s]                         \n",
      "610it [00:11, 55.45it/s]                         \n",
      "610it [00:09, 64.61it/s]                         \n",
      "610it [00:09, 63.29it/s]                         \n",
      "610it [00:12, 47.60it/s]                         \n",
      "610it [00:11, 54.79it/s]                         \n",
      "610it [00:08, 71.23it/s]                         \n",
      "610it [00:09, 61.97it/s]                         \n",
      "610it [00:10, 56.96it/s]                         \n",
      "610it [00:11, 52.43it/s]                         \n",
      "610it [00:10, 56.74it/s]                         \n",
      "610it [00:11, 53.54it/s]                         \n",
      "610it [00:14, 43.21it/s]                         \n"
     ]
    },
    {
     "name": "stdout",
     "output_type": "stream",
     "text": [
      " ....file not found, skippping \n",
      "Loading:  /media/cat/4TBSSD/yuki/AQ2/tif_files/AQ2am_Feb25_30Hz/AQ2am_Feb25_30Hz_code_04_lockout_10sec_trial_ROItimeCourses_10sec_pca_0.95.npy\n"
     ]
    },
    {
     "name": "stderr",
     "output_type": "stream",
     "text": [
      "610it [00:11, 54.55it/s]                         \n",
      "610it [00:13, 44.09it/s]                         \n",
      "610it [00:11, 55.01it/s]                         \n",
      "610it [00:12, 48.20it/s]                         \n",
      "610it [00:12, 49.95it/s]                         \n",
      "610it [00:10, 56.13it/s]                         \n",
      "610it [00:12, 48.71it/s]                         \n",
      "610it [00:10, 58.95it/s]                         \n",
      "610it [00:09, 66.16it/s]                         \n",
      "610it [00:09, 66.40it/s]                         \n",
      "610it [00:10, 56.97it/s]                         \n",
      "610it [00:11, 53.72it/s]                         \n",
      "610it [00:11, 53.33it/s]                         \n",
      "610it [00:11, 54.67it/s]                         \n",
      "610it [00:12, 48.69it/s]                         \n",
      "610it [00:11, 51.79it/s]                         \n",
      "610it [00:11, 54.24it/s]                         \n",
      "610it [00:12, 50.02it/s]                         \n",
      "610it [00:13, 44.13it/s]                         \n",
      "610it [00:13, 44.24it/s]                         \n",
      "610it [00:10, 56.86it/s]                         \n",
      "610it [00:13, 43.89it/s]                         \n",
      "610it [00:12, 47.42it/s]                         \n",
      "610it [00:12, 47.11it/s]                         \n",
      "610it [00:12, 47.35it/s]                         \n",
      "610it [00:12, 47.63it/s]                         \n",
      "610it [00:14, 42.81it/s]                         \n",
      "610it [00:09, 63.74it/s]                         \n",
      "610it [00:14, 41.55it/s]                         \n",
      "610it [00:13, 46.38it/s]                         \n",
      "610it [00:11, 54.30it/s]                         \n",
      "610it [00:10, 55.95it/s]                         \n",
      "610it [00:11, 52.93it/s]                         \n",
      "610it [00:09, 66.00it/s]                         \n",
      "610it [00:12, 49.67it/s]                         \n",
      "610it [00:20, 30.49it/s]                         \n",
      "610it [00:13, 43.75it/s]                         \n",
      "610it [00:12, 48.93it/s]                         \n",
      "610it [00:12, 47.25it/s]                         \n",
      "610it [00:13, 45.80it/s]                         \n",
      "610it [00:09, 61.42it/s]                         \n"
     ]
    },
    {
     "name": "stdout",
     "output_type": "stream",
     "text": [
      "DONE predicting SVM on animal:  AQ2\n"
     ]
    }
   ],
   "source": [
    "#######################################\n",
    "##### PREDICT SVM DECISION CHOICE #####\n",
    "#######################################\n",
    "\n",
    "# select animal names\n",
    "names = ['IA1','IA2','IA3','IJ1','IJ2','AQ2'] # \"AR4\" and other datasets could work\n",
    "names = ['IJ1', \"AQ2\"]\n",
    "\n",
    "# \n",
    "svm = PredictSVMChoice()\n",
    "svm.root_dir = data_dir\n",
    "svm.random_flag = False  # shuffle data to show baseline\n",
    "\n",
    "# \n",
    "svm.window = 10\n",
    "svm.lockout_window = 10\n",
    "svm.parallel = True\n",
    "svm.n_cores = 16\n",
    "svm.code = 'code_04'\n",
    "\n",
    "#\n",
    "lockouts = [False, True]\n",
    "for name in names:\n",
    "    for lockout in lockouts:\n",
    "\n",
    "        svm.lockout = lockout      # May wish to run SVM on both lockout and nonlockout eventually\n",
    "\n",
    "        # load pca \n",
    "        svm.pca_flag = True\n",
    "        svm.pca_var = 0.95\n",
    "\n",
    "        #\n",
    "        svm.sliding_window = 2\n",
    "\n",
    "        #\n",
    "        svm.animal_id = name\n",
    "        svm.session_id = 'all'  # or 'all'\n",
    "\n",
    "        #\n",
    "        svm.predictSVM()\n",
    "\n"
   ]
  },
  {
   "cell_type": "code",
   "execution_count": null,
   "metadata": {},
   "outputs": [],
   "source": [
    "#####################################\n",
    "##### PREDICT SVM DECISION TIME #####\n",
    "#####################################\n",
    "\n",
    "TODO: \n",
    "\n"
   ]
  },
  {
   "cell_type": "code",
   "execution_count": 14,
   "metadata": {},
   "outputs": [
    {
     "name": "stdout",
     "output_type": "stream",
     "text": [
      " [n_trials, n_areas, n_time_steps]  (50, 7, 601)\n"
     ]
    }
   ],
   "source": [
    "#####################################\n",
    "##### PREDICT SVM DECISION TIME #####\n",
    "#####################################\n",
    "\n",
    "rnn = PredictRNN()\n",
    "\n",
    "rnn.main_dir = '/media/cat/1TB/yuki/'\n",
    "rnn.animal_id = 'IJ2'\n",
    "rnn.session_id = 'Mar_3_'\n",
    "\n",
    "rnn.fname = '/home/cat/Downloads/pca_compressed-20210329T120557Z-001/pca_compressed/IJ2/IJ2pm_Mar3_30Hz_code_04_trial_ROItimeCourses_10sec_pca_0.95.npy'\n",
    "rnn.fname_random = '/home/cat/Downloads/pca_compressed-20210329T120557Z-001/pca_compressed/IJ2/IJ2pm_Mar3_30Hz_code_04_random_ROItimeCourses_10sec_pca_0.95.npy'\n",
    "\n",
    "# rnn.setup()\n",
    "\n",
    "\n",
    "rnn.setup()\n",
    "rnn.make_training_data()"
   ]
  },
  {
   "cell_type": "code",
   "execution_count": 15,
   "metadata": {},
   "outputs": [
    {
     "name": "stderr",
     "output_type": "stream",
     "text": [
      " 10%|█         | 2/20 [02:11<19:44, 65.81s/it]\n"
     ]
    },
    {
     "ename": "KeyboardInterrupt",
     "evalue": "",
     "output_type": "error",
     "traceback": [
      "\u001b[0;31m---------------------------------------------------------------------------\u001b[0m",
      "\u001b[0;31mKeyboardInterrupt\u001b[0m                         Traceback (most recent call last)",
      "\u001b[0;32m<ipython-input-15-871e53d48d9b>\u001b[0m in \u001b[0;36m<module>\u001b[0;34m\u001b[0m\n\u001b[0;32m----> 1\u001b[0;31m \u001b[0mrnn\u001b[0m\u001b[0;34m.\u001b[0m\u001b[0mrun\u001b[0m\u001b[0;34m(\u001b[0m\u001b[0;34m)\u001b[0m\u001b[0;34m\u001b[0m\u001b[0;34m\u001b[0m\u001b[0m\n\u001b[0m",
      "\u001b[0;32m~/code/widefieldPredict/PredictRNN.py\u001b[0m in \u001b[0;36mrun\u001b[0;34m(self)\u001b[0m\n\u001b[1;32m    147\u001b[0m \u001b[0;34m\u001b[0m\u001b[0m\n\u001b[1;32m    148\u001b[0m               history, acc = self.model_run(\n\u001b[0;32m--> 149\u001b[0;31m                                          \u001b[0mX_train_k\u001b[0m\u001b[0;34m,\u001b[0m\u001b[0;34m\u001b[0m\u001b[0;34m\u001b[0m\u001b[0m\n\u001b[0m\u001b[1;32m    150\u001b[0m                                          \u001b[0my_train_k\u001b[0m\u001b[0;34m,\u001b[0m\u001b[0;34m\u001b[0m\u001b[0;34m\u001b[0m\u001b[0m\n\u001b[1;32m    151\u001b[0m                                          \u001b[0mX_test_k\u001b[0m\u001b[0;34m,\u001b[0m\u001b[0;34m\u001b[0m\u001b[0;34m\u001b[0m\u001b[0m\n",
      "\u001b[0;32m~/code/widefieldPredict/PredictRNN.py\u001b[0m in \u001b[0;36mmodel_run\u001b[0;34m(self, lr, epochs, X_train_R, y_train_R, X_test_R, y_test_R, verbose)\u001b[0m\n\u001b[1;32m    111\u001b[0m         history=model.fit(X_train_R, y_train_R,\n\u001b[1;32m    112\u001b[0m                       \u001b[0mepochs\u001b[0m\u001b[0;34m=\u001b[0m\u001b[0mself\u001b[0m\u001b[0;34m.\u001b[0m\u001b[0mepochs\u001b[0m\u001b[0;34m,\u001b[0m\u001b[0;34m\u001b[0m\u001b[0;34m\u001b[0m\u001b[0m\n\u001b[0;32m--> 113\u001b[0;31m                       \u001b[0mvalidation_data\u001b[0m\u001b[0;34m=\u001b[0m\u001b[0;34m(\u001b[0m\u001b[0mX_test_R\u001b[0m\u001b[0;34m,\u001b[0m \u001b[0my_test_R\u001b[0m\u001b[0;34m)\u001b[0m\u001b[0;34m,\u001b[0m\u001b[0;34m\u001b[0m\u001b[0;34m\u001b[0m\u001b[0m\n\u001b[0m\u001b[1;32m    114\u001b[0m                       \u001b[0mbatch_size\u001b[0m\u001b[0;34m=\u001b[0m\u001b[0;36m1000\u001b[0m\u001b[0;34m,\u001b[0m\u001b[0;34m\u001b[0m\u001b[0;34m\u001b[0m\u001b[0m\n\u001b[1;32m    115\u001b[0m                       verbose=verbose)\n",
      "\u001b[0;32m~/anaconda3/envs/widefieldPredict/lib/python3.8/site-packages/tensorflow/python/keras/engine/training.py\u001b[0m in \u001b[0;36m_method_wrapper\u001b[0;34m(self, *args, **kwargs)\u001b[0m\n\u001b[1;32m    106\u001b[0m   \u001b[0;32mdef\u001b[0m \u001b[0m_method_wrapper\u001b[0m\u001b[0;34m(\u001b[0m\u001b[0mself\u001b[0m\u001b[0;34m,\u001b[0m \u001b[0;34m*\u001b[0m\u001b[0margs\u001b[0m\u001b[0;34m,\u001b[0m \u001b[0;34m**\u001b[0m\u001b[0mkwargs\u001b[0m\u001b[0;34m)\u001b[0m\u001b[0;34m:\u001b[0m\u001b[0;34m\u001b[0m\u001b[0;34m\u001b[0m\u001b[0m\n\u001b[1;32m    107\u001b[0m     \u001b[0;32mif\u001b[0m \u001b[0;32mnot\u001b[0m \u001b[0mself\u001b[0m\u001b[0;34m.\u001b[0m\u001b[0m_in_multi_worker_mode\u001b[0m\u001b[0;34m(\u001b[0m\u001b[0;34m)\u001b[0m\u001b[0;34m:\u001b[0m  \u001b[0;31m# pylint: disable=protected-access\u001b[0m\u001b[0;34m\u001b[0m\u001b[0;34m\u001b[0m\u001b[0m\n\u001b[0;32m--> 108\u001b[0;31m       \u001b[0;32mreturn\u001b[0m \u001b[0mmethod\u001b[0m\u001b[0;34m(\u001b[0m\u001b[0mself\u001b[0m\u001b[0;34m,\u001b[0m \u001b[0;34m*\u001b[0m\u001b[0margs\u001b[0m\u001b[0;34m,\u001b[0m \u001b[0;34m**\u001b[0m\u001b[0mkwargs\u001b[0m\u001b[0;34m)\u001b[0m\u001b[0;34m\u001b[0m\u001b[0;34m\u001b[0m\u001b[0m\n\u001b[0m\u001b[1;32m    109\u001b[0m \u001b[0;34m\u001b[0m\u001b[0m\n\u001b[1;32m    110\u001b[0m     \u001b[0;31m# Running inside `run_distribute_coordinator` already.\u001b[0m\u001b[0;34m\u001b[0m\u001b[0;34m\u001b[0m\u001b[0;34m\u001b[0m\u001b[0m\n",
      "\u001b[0;32m~/anaconda3/envs/widefieldPredict/lib/python3.8/site-packages/tensorflow/python/keras/engine/training.py\u001b[0m in \u001b[0;36mfit\u001b[0;34m(self, x, y, batch_size, epochs, verbose, callbacks, validation_split, validation_data, shuffle, class_weight, sample_weight, initial_epoch, steps_per_epoch, validation_steps, validation_batch_size, validation_freq, max_queue_size, workers, use_multiprocessing)\u001b[0m\n\u001b[1;32m   1121\u001b[0m                 \u001b[0mmodel\u001b[0m\u001b[0;34m=\u001b[0m\u001b[0mself\u001b[0m\u001b[0;34m,\u001b[0m\u001b[0;34m\u001b[0m\u001b[0;34m\u001b[0m\u001b[0m\n\u001b[1;32m   1122\u001b[0m                 steps_per_execution=self._steps_per_execution)\n\u001b[0;32m-> 1123\u001b[0;31m           val_logs = self.evaluate(\n\u001b[0m\u001b[1;32m   1124\u001b[0m               \u001b[0mx\u001b[0m\u001b[0;34m=\u001b[0m\u001b[0mval_x\u001b[0m\u001b[0;34m,\u001b[0m\u001b[0;34m\u001b[0m\u001b[0;34m\u001b[0m\u001b[0m\n\u001b[1;32m   1125\u001b[0m               \u001b[0my\u001b[0m\u001b[0;34m=\u001b[0m\u001b[0mval_y\u001b[0m\u001b[0;34m,\u001b[0m\u001b[0;34m\u001b[0m\u001b[0;34m\u001b[0m\u001b[0m\n",
      "\u001b[0;32m~/anaconda3/envs/widefieldPredict/lib/python3.8/site-packages/tensorflow/python/keras/engine/training.py\u001b[0m in \u001b[0;36m_method_wrapper\u001b[0;34m(self, *args, **kwargs)\u001b[0m\n\u001b[1;32m    106\u001b[0m   \u001b[0;32mdef\u001b[0m \u001b[0m_method_wrapper\u001b[0m\u001b[0;34m(\u001b[0m\u001b[0mself\u001b[0m\u001b[0;34m,\u001b[0m \u001b[0;34m*\u001b[0m\u001b[0margs\u001b[0m\u001b[0;34m,\u001b[0m \u001b[0;34m**\u001b[0m\u001b[0mkwargs\u001b[0m\u001b[0;34m)\u001b[0m\u001b[0;34m:\u001b[0m\u001b[0;34m\u001b[0m\u001b[0;34m\u001b[0m\u001b[0m\n\u001b[1;32m    107\u001b[0m     \u001b[0;32mif\u001b[0m \u001b[0;32mnot\u001b[0m \u001b[0mself\u001b[0m\u001b[0;34m.\u001b[0m\u001b[0m_in_multi_worker_mode\u001b[0m\u001b[0;34m(\u001b[0m\u001b[0;34m)\u001b[0m\u001b[0;34m:\u001b[0m  \u001b[0;31m# pylint: disable=protected-access\u001b[0m\u001b[0;34m\u001b[0m\u001b[0;34m\u001b[0m\u001b[0m\n\u001b[0;32m--> 108\u001b[0;31m       \u001b[0;32mreturn\u001b[0m \u001b[0mmethod\u001b[0m\u001b[0;34m(\u001b[0m\u001b[0mself\u001b[0m\u001b[0;34m,\u001b[0m \u001b[0;34m*\u001b[0m\u001b[0margs\u001b[0m\u001b[0;34m,\u001b[0m \u001b[0;34m**\u001b[0m\u001b[0mkwargs\u001b[0m\u001b[0;34m)\u001b[0m\u001b[0;34m\u001b[0m\u001b[0;34m\u001b[0m\u001b[0m\n\u001b[0m\u001b[1;32m    109\u001b[0m \u001b[0;34m\u001b[0m\u001b[0m\n\u001b[1;32m    110\u001b[0m     \u001b[0;31m# Running inside `run_distribute_coordinator` already.\u001b[0m\u001b[0;34m\u001b[0m\u001b[0;34m\u001b[0m\u001b[0;34m\u001b[0m\u001b[0m\n",
      "\u001b[0;32m~/anaconda3/envs/widefieldPredict/lib/python3.8/site-packages/tensorflow/python/keras/engine/training.py\u001b[0m in \u001b[0;36mevaluate\u001b[0;34m(self, x, y, batch_size, verbose, sample_weight, steps, callbacks, max_queue_size, workers, use_multiprocessing, return_dict)\u001b[0m\n\u001b[1;32m   1371\u001b[0m       \u001b[0mself\u001b[0m\u001b[0;34m.\u001b[0m\u001b[0m_test_counter\u001b[0m\u001b[0;34m.\u001b[0m\u001b[0massign\u001b[0m\u001b[0;34m(\u001b[0m\u001b[0;36m0\u001b[0m\u001b[0;34m)\u001b[0m\u001b[0;34m\u001b[0m\u001b[0;34m\u001b[0m\u001b[0m\n\u001b[1;32m   1372\u001b[0m       \u001b[0mcallbacks\u001b[0m\u001b[0;34m.\u001b[0m\u001b[0mon_test_begin\u001b[0m\u001b[0;34m(\u001b[0m\u001b[0;34m)\u001b[0m\u001b[0;34m\u001b[0m\u001b[0;34m\u001b[0m\u001b[0m\n\u001b[0;32m-> 1373\u001b[0;31m       \u001b[0;32mfor\u001b[0m \u001b[0m_\u001b[0m\u001b[0;34m,\u001b[0m \u001b[0miterator\u001b[0m \u001b[0;32min\u001b[0m \u001b[0mdata_handler\u001b[0m\u001b[0;34m.\u001b[0m\u001b[0menumerate_epochs\u001b[0m\u001b[0;34m(\u001b[0m\u001b[0;34m)\u001b[0m\u001b[0;34m:\u001b[0m  \u001b[0;31m# Single epoch.\u001b[0m\u001b[0;34m\u001b[0m\u001b[0;34m\u001b[0m\u001b[0m\n\u001b[0m\u001b[1;32m   1374\u001b[0m         \u001b[0mself\u001b[0m\u001b[0;34m.\u001b[0m\u001b[0mreset_metrics\u001b[0m\u001b[0;34m(\u001b[0m\u001b[0;34m)\u001b[0m\u001b[0;34m\u001b[0m\u001b[0;34m\u001b[0m\u001b[0m\n\u001b[1;32m   1375\u001b[0m         \u001b[0;32mwith\u001b[0m \u001b[0mdata_handler\u001b[0m\u001b[0;34m.\u001b[0m\u001b[0mcatch_stop_iteration\u001b[0m\u001b[0;34m(\u001b[0m\u001b[0;34m)\u001b[0m\u001b[0;34m:\u001b[0m\u001b[0;34m\u001b[0m\u001b[0;34m\u001b[0m\u001b[0m\n",
      "\u001b[0;32m~/anaconda3/envs/widefieldPredict/lib/python3.8/site-packages/tensorflow/python/keras/engine/data_adapter.py\u001b[0m in \u001b[0;36menumerate_epochs\u001b[0;34m(self)\u001b[0m\n\u001b[1;32m   1136\u001b[0m     \u001b[0;34m\"\"\"Yields `(epoch, tf.data.Iterator)`.\"\"\"\u001b[0m\u001b[0;34m\u001b[0m\u001b[0;34m\u001b[0m\u001b[0m\n\u001b[1;32m   1137\u001b[0m     \u001b[0;32mwith\u001b[0m \u001b[0mself\u001b[0m\u001b[0;34m.\u001b[0m\u001b[0m_truncate_execution_to_epoch\u001b[0m\u001b[0;34m(\u001b[0m\u001b[0;34m)\u001b[0m\u001b[0;34m:\u001b[0m\u001b[0;34m\u001b[0m\u001b[0;34m\u001b[0m\u001b[0m\n\u001b[0;32m-> 1138\u001b[0;31m       \u001b[0mdata_iterator\u001b[0m \u001b[0;34m=\u001b[0m \u001b[0miter\u001b[0m\u001b[0;34m(\u001b[0m\u001b[0mself\u001b[0m\u001b[0;34m.\u001b[0m\u001b[0m_dataset\u001b[0m\u001b[0;34m)\u001b[0m\u001b[0;34m\u001b[0m\u001b[0;34m\u001b[0m\u001b[0m\n\u001b[0m\u001b[1;32m   1139\u001b[0m       \u001b[0;32mfor\u001b[0m \u001b[0mepoch\u001b[0m \u001b[0;32min\u001b[0m \u001b[0mrange\u001b[0m\u001b[0;34m(\u001b[0m\u001b[0mself\u001b[0m\u001b[0;34m.\u001b[0m\u001b[0m_initial_epoch\u001b[0m\u001b[0;34m,\u001b[0m \u001b[0mself\u001b[0m\u001b[0;34m.\u001b[0m\u001b[0m_epochs\u001b[0m\u001b[0;34m)\u001b[0m\u001b[0;34m:\u001b[0m\u001b[0;34m\u001b[0m\u001b[0;34m\u001b[0m\u001b[0m\n\u001b[1;32m   1140\u001b[0m         \u001b[0;32mif\u001b[0m \u001b[0mself\u001b[0m\u001b[0;34m.\u001b[0m\u001b[0m_insufficient_data\u001b[0m\u001b[0;34m:\u001b[0m  \u001b[0;31m# Set by `catch_stop_iteration`.\u001b[0m\u001b[0;34m\u001b[0m\u001b[0;34m\u001b[0m\u001b[0m\n",
      "\u001b[0;32m~/anaconda3/envs/widefieldPredict/lib/python3.8/site-packages/tensorflow/python/data/ops/dataset_ops.py\u001b[0m in \u001b[0;36m__iter__\u001b[0;34m(self)\u001b[0m\n\u001b[1;32m    413\u001b[0m     \"\"\"\n\u001b[1;32m    414\u001b[0m     \u001b[0;32mif\u001b[0m \u001b[0mcontext\u001b[0m\u001b[0;34m.\u001b[0m\u001b[0mexecuting_eagerly\u001b[0m\u001b[0;34m(\u001b[0m\u001b[0;34m)\u001b[0m \u001b[0;32mor\u001b[0m \u001b[0mops\u001b[0m\u001b[0;34m.\u001b[0m\u001b[0minside_function\u001b[0m\u001b[0;34m(\u001b[0m\u001b[0;34m)\u001b[0m\u001b[0;34m:\u001b[0m\u001b[0;34m\u001b[0m\u001b[0;34m\u001b[0m\u001b[0m\n\u001b[0;32m--> 415\u001b[0;31m       \u001b[0;32mreturn\u001b[0m \u001b[0miterator_ops\u001b[0m\u001b[0;34m.\u001b[0m\u001b[0mOwnedIterator\u001b[0m\u001b[0;34m(\u001b[0m\u001b[0mself\u001b[0m\u001b[0;34m)\u001b[0m\u001b[0;34m\u001b[0m\u001b[0;34m\u001b[0m\u001b[0m\n\u001b[0m\u001b[1;32m    416\u001b[0m     \u001b[0;32melse\u001b[0m\u001b[0;34m:\u001b[0m\u001b[0;34m\u001b[0m\u001b[0;34m\u001b[0m\u001b[0m\n\u001b[1;32m    417\u001b[0m       raise RuntimeError(\"__iter__() is only supported inside of tf.function \"\n",
      "\u001b[0;32m~/anaconda3/envs/widefieldPredict/lib/python3.8/site-packages/tensorflow/python/data/ops/iterator_ops.py\u001b[0m in \u001b[0;36m__init__\u001b[0;34m(self, dataset, components, element_spec, job_token)\u001b[0m\n\u001b[1;32m    694\u001b[0m           context.context().device_spec.device_type != \"CPU\"):\n\u001b[1;32m    695\u001b[0m         \u001b[0;32mwith\u001b[0m \u001b[0mops\u001b[0m\u001b[0;34m.\u001b[0m\u001b[0mdevice\u001b[0m\u001b[0;34m(\u001b[0m\u001b[0;34m\"/cpu:0\"\u001b[0m\u001b[0;34m)\u001b[0m\u001b[0;34m:\u001b[0m\u001b[0;34m\u001b[0m\u001b[0;34m\u001b[0m\u001b[0m\n\u001b[0;32m--> 696\u001b[0;31m           \u001b[0mself\u001b[0m\u001b[0;34m.\u001b[0m\u001b[0m_create_iterator\u001b[0m\u001b[0;34m(\u001b[0m\u001b[0mdataset\u001b[0m\u001b[0;34m)\u001b[0m\u001b[0;34m\u001b[0m\u001b[0;34m\u001b[0m\u001b[0m\n\u001b[0m\u001b[1;32m    697\u001b[0m       \u001b[0;32melse\u001b[0m\u001b[0;34m:\u001b[0m\u001b[0;34m\u001b[0m\u001b[0;34m\u001b[0m\u001b[0m\n\u001b[1;32m    698\u001b[0m         \u001b[0mself\u001b[0m\u001b[0;34m.\u001b[0m\u001b[0m_create_iterator\u001b[0m\u001b[0;34m(\u001b[0m\u001b[0mdataset\u001b[0m\u001b[0;34m)\u001b[0m\u001b[0;34m\u001b[0m\u001b[0;34m\u001b[0m\u001b[0m\n",
      "\u001b[0;32m~/anaconda3/envs/widefieldPredict/lib/python3.8/site-packages/tensorflow/python/data/ops/iterator_ops.py\u001b[0m in \u001b[0;36m_create_iterator\u001b[0;34m(self, dataset)\u001b[0m\n\u001b[1;32m    720\u001b[0m               output_shapes=self._flat_output_shapes))\n\u001b[1;32m    721\u001b[0m       \u001b[0;32mif\u001b[0m \u001b[0mself\u001b[0m\u001b[0;34m.\u001b[0m\u001b[0m_job_token\u001b[0m \u001b[0;32mis\u001b[0m \u001b[0;32mNone\u001b[0m\u001b[0;34m:\u001b[0m\u001b[0;34m\u001b[0m\u001b[0;34m\u001b[0m\u001b[0m\n\u001b[0;32m--> 722\u001b[0;31m         \u001b[0mgen_dataset_ops\u001b[0m\u001b[0;34m.\u001b[0m\u001b[0mmake_iterator\u001b[0m\u001b[0;34m(\u001b[0m\u001b[0mds_variant\u001b[0m\u001b[0;34m,\u001b[0m \u001b[0mself\u001b[0m\u001b[0;34m.\u001b[0m\u001b[0m_iterator_resource\u001b[0m\u001b[0;34m)\u001b[0m\u001b[0;34m\u001b[0m\u001b[0;34m\u001b[0m\u001b[0m\n\u001b[0m\u001b[1;32m    723\u001b[0m       \u001b[0;32melse\u001b[0m\u001b[0;34m:\u001b[0m\u001b[0;34m\u001b[0m\u001b[0;34m\u001b[0m\u001b[0m\n\u001b[1;32m    724\u001b[0m         gen_experimental_dataset_ops.make_data_service_iterator(\n",
      "\u001b[0;32m~/anaconda3/envs/widefieldPredict/lib/python3.8/site-packages/tensorflow/python/ops/gen_dataset_ops.py\u001b[0m in \u001b[0;36mmake_iterator\u001b[0;34m(dataset, iterator, name)\u001b[0m\n\u001b[1;32m   3003\u001b[0m   \u001b[0;32mif\u001b[0m \u001b[0mtld\u001b[0m\u001b[0;34m.\u001b[0m\u001b[0mis_eager\u001b[0m\u001b[0;34m:\u001b[0m\u001b[0;34m\u001b[0m\u001b[0;34m\u001b[0m\u001b[0m\n\u001b[1;32m   3004\u001b[0m     \u001b[0;32mtry\u001b[0m\u001b[0;34m:\u001b[0m\u001b[0;34m\u001b[0m\u001b[0;34m\u001b[0m\u001b[0m\n\u001b[0;32m-> 3005\u001b[0;31m       _result = pywrap_tfe.TFE_Py_FastPathExecute(\n\u001b[0m\u001b[1;32m   3006\u001b[0m         \u001b[0m_ctx\u001b[0m\u001b[0;34m.\u001b[0m\u001b[0m_context_handle\u001b[0m\u001b[0;34m,\u001b[0m \u001b[0mtld\u001b[0m\u001b[0;34m.\u001b[0m\u001b[0mdevice_name\u001b[0m\u001b[0;34m,\u001b[0m \u001b[0;34m\"MakeIterator\"\u001b[0m\u001b[0;34m,\u001b[0m \u001b[0mname\u001b[0m\u001b[0;34m,\u001b[0m\u001b[0;34m\u001b[0m\u001b[0;34m\u001b[0m\u001b[0m\n\u001b[1;32m   3007\u001b[0m         tld.op_callbacks, dataset, iterator)\n",
      "\u001b[0;31mKeyboardInterrupt\u001b[0m: "
     ]
    }
   ],
   "source": [
    "rnn.run()"
   ]
  },
  {
   "cell_type": "code",
   "execution_count": 13,
   "metadata": {},
   "outputs": [
    {
     "name": "stdout",
     "output_type": "stream",
     "text": [
      "(20, 10)\n"
     ]
    }
   ],
   "source": [
    "data1 = np.load('/home/cat/acc_rnn.npy_200epochs.npz')\n",
    "b = data1['b_rnn']\n",
    "c = data1['c_s']\n",
    "\n",
    "\n",
    "#\n",
    "print (b.shape)\n",
    "mean = b.mean(1)\n",
    "t=np.linspace(-9.5, 9.5, mean.shape[0])\n",
    "plt.plot(t, mean, c='black')\n",
    "plt.fill_between(t, mean+c, mean-c, color='black', alpha=.2)\n",
    "\n",
    "#\n",
    "\n",
    "data2 = np.load('/home/cat/acc_rnn.npy.npz')\n",
    "b = data2['b_rnn']\n",
    "c = data2['c_s']\n",
    "mean = b.mean(1)\n",
    "plt.plot(t, mean, 'blue')\n",
    "plt.fill_between(t, mean+c, mean-c, color='blue', alpha=.2)\n",
    "\n",
    "\n",
    "plt.show()"
   ]
  },
  {
   "cell_type": "code",
   "execution_count": null,
   "metadata": {},
   "outputs": [],
   "source": []
  },
  {
   "cell_type": "code",
   "execution_count": null,
   "metadata": {},
   "outputs": [],
   "source": []
  },
  {
   "cell_type": "code",
   "execution_count": null,
   "metadata": {},
   "outputs": [],
   "source": []
  },
  {
   "cell_type": "code",
   "execution_count": null,
   "metadata": {},
   "outputs": [],
   "source": []
  },
  {
   "cell_type": "code",
   "execution_count": null,
   "metadata": {},
   "outputs": [],
   "source": []
  },
  {
   "cell_type": "code",
   "execution_count": null,
   "metadata": {},
   "outputs": [],
   "source": []
  },
  {
   "cell_type": "code",
   "execution_count": null,
   "metadata": {},
   "outputs": [],
   "source": []
  },
  {
   "cell_type": "code",
   "execution_count": null,
   "metadata": {},
   "outputs": [],
   "source": [
    "OLDER CODE BELOW"
   ]
  },
  {
   "cell_type": "code",
   "execution_count": 11,
   "metadata": {},
   "outputs": [
    {
     "name": "stdout",
     "output_type": "stream",
     "text": [
      "Self session: IA1pm_Feb23_30Hz\n",
      "Self session: IA1pm_Feb23_30Hz\n"
     ]
    }
   ],
   "source": [
    "#############################################\n",
    "############## VISUALIZE RESULTS ############\n",
    "#############################################\n",
    "    \n",
    "# LEVER PULL\n",
    "vis = Visualize()\n",
    "\n",
    "# lever-related data\n",
    "vis.main_dir = data_dir\n",
    "vis.random_flag = False  # shuffle data to show baseline\n",
    "\n",
    "# \n",
    "vis.window = 10\n",
    "vis.lockout_window = 10\n",
    "vis.code = 'code_04'\n",
    "vis.lockout = False\n",
    "\n",
    "vis.animal_id = \"IA1\"\n",
    "vis.session_id = \"Feb23_\"\n",
    "title = vis.animal_id + \"  \"+vis.session_id\n",
    "\n",
    "#############################################\n",
    "############## DECISION TYPE ################\n",
    "#############################################\n",
    "# select animal and session\n",
    "\n",
    "# load pca \n",
    "fig =plt.figure()\n",
    "\n",
    "# ax=plt.subplot(2,3,1)\n",
    "# vis.pca_flag = False\n",
    "# vis.lockout = True\n",
    "# vis.pca_var = 0.99\n",
    "# vis.plot_decision_choice('black',str(vis.pca_var),title, ax)\n",
    "\n",
    "# vis.lockout = True\n",
    "# vis.plot_decision_choice('blue',str(vis.pca_var)+\" lockout\",title, ax)\n",
    "\n",
    "# \n",
    "# vis.lockout = True\n",
    "# vis.plot_decision_choice('blue',str(vis.pca_var) + \" lockout\",title, ax)\n",
    "\n",
    "\n",
    "# \n",
    "vars_ = [0.95]\n",
    "for k in range(len(vars_)):\n",
    "    #ax=plt.subplot(2,3,k+2)\n",
    "    ax=plt.subplot(1,1,k+1)\n",
    "    vis.pca_flag = True\n",
    "    vis.lockout = False\n",
    "    vis.pca_var = vars_[k]\n",
    "    vis.plot_decision_choice('black',str(vis.pca_var),title, ax)\n",
    "\n",
    "    # \n",
    "    vis.pca_flag = True\n",
    "    vis.lockout = True\n",
    "    vis.plot_decision_choice('blue',str(vis.pca_var)+\" lockout\",title, ax)\n",
    "\n",
    "# vis.pca_flag = True\n",
    "# vis.pca_var = 0.99\n",
    "# ax=plt.subplot(2,3,2)\n",
    "# vis.plot_decision_choice('blue','xxpcs_0.99Variance',title, ax)\n",
    "\n",
    "\n",
    "# vis.pca_flag = True\n",
    "# vis.pca_var = 0.95\n",
    "# ax=plt.subplot(2,3,3)\n",
    "# vis.plot_decision_choice('red','8pcs_0.95Variance',title, ax)\n",
    "\n",
    "# vis.pca_flag = True\n",
    "# vis.pca_var = 0.90\n",
    "# ax=plt.subplot(2,3,4)\n",
    "# vis.plot_decision_choice('green','4pcs_0.90Variance',title, ax)\n",
    "\n",
    "\n",
    "# vis.pca_var = 0.50\n",
    "# ax=plt.subplot(2,3,5)\n",
    "# vis.plot_decision_choice('magenta','2pcs_0.50Variance',title, ax)\n",
    "\n",
    "\n",
    "# fname = vis.main_dir+'/'+animal_id+'/SVM_scores_'+animal_id+'_lockout_'+str(session)+'.npy'\n",
    "# vis.load_data(fname)\n",
    "# vis.plot_decision_choice('blue','lockout-denoised')\n"
   ]
  },
  {
   "cell_type": "code",
   "execution_count": null,
   "metadata": {},
   "outputs": [],
   "source": []
  },
  {
   "cell_type": "code",
   "execution_count": null,
   "metadata": {},
   "outputs": [],
   "source": []
  },
  {
   "cell_type": "code",
   "execution_count": 7,
   "metadata": {},
   "outputs": [
    {
     "name": "stdout",
     "output_type": "stream",
     "text": [
      "(1500, 16384)\n"
     ]
    }
   ],
   "source": [
    "import pickle as pk\n",
    "\n",
    "file = open('/media/cat/4TBSSD/yuki/IA1/tif_files/IA1pm_Feb3_30Hz/IA1pm_Feb3_30Hz_code_04_lockout_10sec_trial_ROItimeCourses_10sec_pca.pkl', 'rb')\n",
    "\n",
    "# dump information to that file\n",
    "pca = pk.load(file)\n",
    "\n",
    "print (pca.components_.shape)\n"
   ]
  },
  {
   "cell_type": "code",
   "execution_count": 9,
   "metadata": {},
   "outputs": [
    {
     "name": "stdout",
     "output_type": "stream",
     "text": [
      "(62, 601, 128, 128)\n"
     ]
    }
   ],
   "source": [
    "data_stm = np.load('/media/cat/4TBSSD/yuki/IA1/tif_files/IA1pm_Feb3_30Hz/IA1pm_Feb3_30Hz_10.0sec_butterworth_globalAverage_0.1hz_6.0hz_04code_stm.npy')\n",
    "print (data_stm.shape)"
   ]
  },
  {
   "cell_type": "code",
   "execution_count": 10,
   "metadata": {},
   "outputs": [
    {
     "ename": "NameError",
     "evalue": "name 'nComp' is not defined",
     "output_type": "error",
     "traceback": [
      "\u001b[0;31m---------------------------------------------------------------------------\u001b[0m",
      "\u001b[0;31mNameError\u001b[0m                                 Traceback (most recent call last)",
      "\u001b[0;32m<ipython-input-10-f869b1fe5d18>\u001b[0m in \u001b[0;36m<module>\u001b[0;34m\u001b[0m\n\u001b[1;32m      5\u001b[0m \u001b[0mmu\u001b[0m\u001b[0;34m=\u001b[0m \u001b[0mnp\u001b[0m\u001b[0;34m.\u001b[0m\u001b[0mmean\u001b[0m\u001b[0;34m(\u001b[0m\u001b[0mX\u001b[0m\u001b[0;34m,\u001b[0m \u001b[0maxis\u001b[0m\u001b[0;34m=\u001b[0m\u001b[0;36m0\u001b[0m\u001b[0;34m)\u001b[0m\u001b[0;34m\u001b[0m\u001b[0;34m\u001b[0m\u001b[0m\n\u001b[1;32m      6\u001b[0m \u001b[0;34m\u001b[0m\u001b[0m\n\u001b[0;32m----> 7\u001b[0;31m Xnew = np.dot(pca.transform(X)[:,:nComp],\n\u001b[0m\u001b[1;32m      8\u001b[0m              pca.components_[:nComp,:])\n\u001b[1;32m      9\u001b[0m \u001b[0;34m\u001b[0m\u001b[0m\n",
      "\u001b[0;31mNameError\u001b[0m: name 'nComp' is not defined"
     ]
    }
   ],
   "source": [
    "# \n",
    "X = data_stm.reshape(data_stm.shape[0]*data_stm.shape[1],\n",
    "                     data_stm.shape[2]*data_stm.shape[3])\n",
    "\n",
    "mu= np.mean(X, axis=0)\n"
   ]
  },
  {
   "cell_type": "code",
   "execution_count": 11,
   "metadata": {},
   "outputs": [],
   "source": [
    "nComp = 9\n",
    "Xnew = np.dot(pca.transform(X)[:,:nComp],\n",
    "             pca.components_[:nComp,:])\n",
    "\n",
    "Xnew+=mu\n",
    "\n",
    "data_stm_denoised_reshaped = Xnew.reshape(data_stm.shape[0], data_stm.shape[1],\n",
    "                                          data_stm.shape[2], data_stm.shape[3])\n"
   ]
  },
  {
   "cell_type": "code",
   "execution_count": 17,
   "metadata": {},
   "outputs": [
    {
     "name": "stdout",
     "output_type": "stream",
     "text": [
      "(62, 9, 601)\n"
     ]
    }
   ],
   "source": [
    "time_filters = pca.transform(X)[:,:nComp]\n",
    "pca_time_filters_only = time_filters.reshape(data_stm.shape[0], data_stm.shape[1],-1).transpose(0,2,1)\n",
    "print (pca_time_filters_only.shape)\n"
   ]
  },
  {
   "cell_type": "code",
   "execution_count": 15,
   "metadata": {},
   "outputs": [
    {
     "name": "stdout",
     "output_type": "stream",
     "text": [
      "(62, 601, 9)\n"
     ]
    }
   ],
   "source": []
  },
  {
   "cell_type": "code",
   "execution_count": 21,
   "metadata": {},
   "outputs": [
    {
     "name": "stdout",
     "output_type": "stream",
     "text": [
      "(82, 2, 601)\n"
     ]
    }
   ],
   "source": [
    "data = np.load('/media/cat/4TBSSD/yuki/IA1/tif_files/IA1pm_Feb23_30Hz/IA1pm_Feb23_30Hz_code_04_trial_ROItimeCourses_10sec_pca_0.5.npy')\n",
    "print (data.shape)"
   ]
  },
  {
   "cell_type": "code",
   "execution_count": 13,
   "metadata": {},
   "outputs": [
    {
     "name": "stdout",
     "output_type": "stream",
     "text": [
      "(62, 35, 601)\n"
     ]
    }
   ],
   "source": [
    "# -*- coding: utf-8 -*-\n",
    "\"\"\"Cat Data.ipynb\n",
    "\n",
    "Automatically generated by Colaboratory.\n",
    "\n",
    "Original file is located at\n",
    "    https://colab.research.google.com/drive/1r-NABuBJOITVlW03VvhsQivPNzmNp4yp\n",
    "\"\"\"\n",
    "\n",
    "import numpy as np\n",
    "import sklearn\n",
    "from sklearn.model_selection import train_test_split\n",
    "import matplotlib.pyplot as plt\n",
    "from sklearn.model_selection import KFold \n",
    "from sklearn import preprocessing\n",
    "from sklearn.model_selection import cross_val_score\n",
    "from sklearn import svm\n",
    "import pandas as pd\n",
    "from sklearn.metrics import confusion_matrix  \n",
    "import random\n",
    "from scipy import stats\n",
    "from matplotlib.pyplot import MultipleLocator\n",
    "import os\n",
    "\n",
    "\n",
    "jobid = os.getenv('SLURM_ARRAY_TASK_ID')\n",
    "name='IA1_lockout'\n",
    "\n",
    "data_leverpress = np.load('/media/cat/4TBSSD/yuki/temp/IA1/data_04.npy',allow_pickle=True)[0]\n",
    "data_random = np.load('/media/cat/4TBSSD/yuki/temp/IA1/data_04_random.npy',allow_pickle=True)[0]\n",
    "\n",
    "print (data_leverpress.shape)\n"
   ]
  },
  {
   "cell_type": "code",
   "execution_count": 14,
   "metadata": {},
   "outputs": [
    {
     "name": "stderr",
     "output_type": "stream",
     "text": [
      "<ipython-input-14-e81db8e05bff>:40: RuntimeWarning: invalid value encountered in true_divide\n",
      "  conf_matrix_norm = confusion_m.astype('float') / confusion_m.sum(axis=1)[:,np.newaxis] #calculate the precision\n",
      "<ipython-input-14-e81db8e05bff>:40: RuntimeWarning: invalid value encountered in true_divide\n",
      "  conf_matrix_norm = confusion_m.astype('float') / confusion_m.sum(axis=1)[:,np.newaxis] #calculate the precision\n",
      "<ipython-input-14-e81db8e05bff>:40: RuntimeWarning: invalid value encountered in true_divide\n",
      "  conf_matrix_norm = confusion_m.astype('float') / confusion_m.sum(axis=1)[:,np.newaxis] #calculate the precision\n",
      "<ipython-input-14-e81db8e05bff>:40: RuntimeWarning: invalid value encountered in true_divide\n",
      "  conf_matrix_norm = confusion_m.astype('float') / confusion_m.sum(axis=1)[:,np.newaxis] #calculate the precision\n",
      "<ipython-input-14-e81db8e05bff>:40: RuntimeWarning: invalid value encountered in true_divide\n",
      "  conf_matrix_norm = confusion_m.astype('float') / confusion_m.sum(axis=1)[:,np.newaxis] #calculate the precision\n",
      "<ipython-input-14-e81db8e05bff>:40: RuntimeWarning: invalid value encountered in true_divide\n",
      "  conf_matrix_norm = confusion_m.astype('float') / confusion_m.sum(axis=1)[:,np.newaxis] #calculate the precision\n",
      "<ipython-input-14-e81db8e05bff>:40: RuntimeWarning: invalid value encountered in true_divide\n",
      "  conf_matrix_norm = confusion_m.astype('float') / confusion_m.sum(axis=1)[:,np.newaxis] #calculate the precision\n",
      "<ipython-input-14-e81db8e05bff>:40: RuntimeWarning: invalid value encountered in true_divide\n",
      "  conf_matrix_norm = confusion_m.astype('float') / confusion_m.sum(axis=1)[:,np.newaxis] #calculate the precision\n",
      "<ipython-input-14-e81db8e05bff>:40: RuntimeWarning: invalid value encountered in true_divide\n",
      "  conf_matrix_norm = confusion_m.astype('float') / confusion_m.sum(axis=1)[:,np.newaxis] #calculate the precision\n"
     ]
    }
   ],
   "source": [
    "\n",
    "\n",
    "#classification of time (10-class)\n",
    "X_l=data_leverpress #  [n_trials, n_areas, n_time_steps]\n",
    "X_l=X_l.transpose((0,2,1))\n",
    "\n",
    "\n",
    "X_R_l= X_l.reshape(-1,X_l.shape[1]*X_l.shape[2])\n",
    "normal_X_l = preprocessing.normalize(X_R_l)\n",
    "n_X_l=normal_X_l.reshape(X_l.shape[0],X_l.shape[1],X_l.shape[2])\n",
    "X_l=n_X_l\n",
    "\n",
    "X_l=X_l[:,:300,:]\n",
    "X_k=X_l[:,0:30,:]\n",
    "X_k=X_k.reshape(X_k.shape[0],X_k.shape[1]*X_k.shape[2])\n",
    "for i in range(30,271,30):\n",
    "    X_t = X_l[:,i:i+30,:]\n",
    "    X_t=X_t.reshape(X_t.shape[0],X_t.shape[1]*X_t.shape[2])\n",
    "    X_k=np.concatenate((X_k,X_t),axis=0)\n",
    "\n",
    "y_ct=np.zeros(data_leverpress.shape[0])\n",
    "for i in range(1,10):\n",
    "    Z_ct=i*np.ones(data_leverpress.shape[0])\n",
    "    y_ct=np.concatenate((y_ct,Z_ct))\n",
    "\n",
    "# \n",
    "X_tSVM=X_k # 10s * 30frams\n",
    "y_tSVM=y_ct # labels\n",
    "\n",
    "#10-fold confusion matrix\n",
    "clf = svm.SVC() # Non-linear classifier\n",
    "ten_svm=[]\n",
    "conf_matrix_ten=[]\n",
    "kf = KFold(n_splits=10,random_state=None, shuffle=True) \n",
    "for train_index, test_index in kf.split(X_tSVM):\n",
    "    X_train_k, X_test_k = X_tSVM[train_index], X_tSVM[test_index] \n",
    "    y_train_k, y_test_k = y_tSVM[train_index], y_tSVM[test_index]\n",
    "    clf.fit(X_train_k, y_train_k)\n",
    "    score=clf.score(X_test_k, y_test_k)\n",
    "    y_predicted=clf.predict(X_test_k)\n",
    "    cm=confusion_matrix(y_test_k,y_predicted)\n",
    "    confusion_m=cm.T # make each row be the prediction\n",
    "    conf_matrix_norm = confusion_m.astype('float') / confusion_m.sum(axis=1)[:,np.newaxis] #calculate the precision\n",
    "    conf_matrix_norm = np.nan_to_num(conf_matrix_norm)\n",
    "    ten_svm.append(score)\n",
    "    conf_matrix_ten.append(conf_matrix_norm)\n",
    "np.save('conf_10_'+str(name)+'_'+str(jobid)+'.npy',conf_matrix_ten)\n",
    "sc=np.mean(conf_matrix_ten,axis=0) # mean of confusion matrix\n",
    "np.save('conf_avg_'+str(name)+'_'+str(jobid)+'.npy',sc)"
   ]
  },
  {
   "cell_type": "code",
   "execution_count": null,
   "metadata": {},
   "outputs": [],
   "source": []
  },
  {
   "cell_type": "code",
   "execution_count": null,
   "metadata": {},
   "outputs": [],
   "source": []
  },
  {
   "cell_type": "code",
   "execution_count": null,
   "metadata": {},
   "outputs": [],
   "source": []
  }
 ],
 "metadata": {
  "kernelspec": {
   "display_name": "Python 3",
   "language": "python",
   "name": "python3"
  },
  "language_info": {
   "codemirror_mode": {
    "name": "ipython",
    "version": 3
   },
   "file_extension": ".py",
   "mimetype": "text/x-python",
   "name": "python",
   "nbconvert_exporter": "python",
   "pygments_lexer": "ipython3",
   "version": "3.8.8"
  }
 },
 "nbformat": 4,
 "nbformat_minor": 4
}
