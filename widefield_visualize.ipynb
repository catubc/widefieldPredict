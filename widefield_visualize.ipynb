{
 "cells": [
  {
   "cell_type": "code",
   "execution_count": 1,
   "metadata": {},
   "outputs": [
    {
     "data": {
      "application/javascript": [
       "IPython.notebook.set_autosave_interval(180000)"
      ]
     },
     "metadata": {},
     "output_type": "display_data"
    },
    {
     "name": "stdout",
     "output_type": "stream",
     "text": [
      "Autosaving every 180 seconds\n"
     ]
    },
    {
     "data": {
      "text/html": [
       "<style>.container { width:100% !important; }</style>"
      ],
      "text/plain": [
       "<IPython.core.display.HTML object>"
      ]
     },
     "metadata": {},
     "output_type": "display_data"
    }
   ],
   "source": [
    "import matplotlib\n",
    "matplotlib.use('Agg')\n",
    "\n",
    "%load_ext autoreload\n",
    "%autoreload 2\n",
    "\n",
    "%matplotlib tk\n",
    "%autosave 180\n",
    "import matplotlib.pyplot as plt\n",
    "from IPython.core.display import display, HTML\n",
    "display(HTML(\"<style>.container { width:100% !important; }</style>\"))\n",
    "\n",
    "import numpy as np\n",
    "import os\n",
    "\n",
    "import glob2\n",
    "\n",
    "# pre process data module\n",
    "from EventTriggeredMaps import EventTriggeredMaps\n",
    "\n",
    "# compute SVM module\n",
    "from PredictSVM import PredictSVM\n",
    "\n",
    "# visualize results module\n",
    "from Visualize import Visualize\n",
    "\n",
    "# \n",
    "data_dir = '/media/cat/4TBSSD/yuki/'\n"
   ]
  },
  {
   "cell_type": "code",
   "execution_count": 2,
   "metadata": {},
   "outputs": [],
   "source": [
    "#############################################\n",
    "####### INITIALIZE VIS OBJECT SULTS #########\n",
    "#############################################\n",
    "    \n",
    "# LEVER PULL\n",
    "vis = Visualize()\n",
    "\n",
    "# lever-related data\n",
    "vis.main_dir = data_dir\n",
    "vis.random_flag = False  # shuffle data to show baseline\n",
    "\n",
    "# \n",
    "vis.window = 10\n",
    "vis.lockout_window = 10\n",
    "vis.code = 'code_04'\n",
    "vis.lockout = False\n",
    "\n",
    "vis.pca_var = 0.95\n",
    "vis.pca_flag = True\n"
   ]
  },
  {
   "cell_type": "code",
   "execution_count": 4,
   "metadata": {},
   "outputs": [],
   "source": [
    "#####################################\n",
    "############ PLOT ALL SESSIONS ######\n",
    "#####################################\n",
    "\n",
    "vis.animal_id = \"IJ2\"\n",
    "\n",
    "vis.smooth_window = 30\n",
    "\n",
    "vis.min_trials = 30\n",
    "\n",
    "vis.plot_decision_choice_all()\n"
   ]
  },
  {
   "cell_type": "code",
   "execution_count": 66,
   "metadata": {},
   "outputs": [
    {
     "name": "stdout",
     "output_type": "stream",
     "text": [
      "vmin, vmax;  0.0 1e-05 ticks:  [0.00e+00 3.33e-06 6.67e-06 1.00e-05]\n"
     ]
    },
    {
     "name": "stderr",
     "output_type": "stream",
     "text": [
      "/home/cat/code/widefieldPredict/Visualize.py:357: MatplotlibDeprecationWarning: Adding an axes using the same arguments as a previous axes currently reuses the earlier instance.  In a future version, a new instance will always be created and returned.  Meanwhile, this warning can be suppressed, and the future behavior ensured, by passing a unique label to each axes instance.\n",
      "  ax=plt.subplot(111)\n"
     ]
    },
    {
     "name": "stdout",
     "output_type": "stream",
     "text": [
      "vmin, vmax;  0.0 1e-05 ticks:  [0.00e+00 3.33e-06 6.67e-06 1.00e-05]\n"
     ]
    }
   ],
   "source": [
    "#########################################\n",
    "############ PLOT SINGLE SESSION #########\n",
    "#########################################\n",
    "\n",
    "vis.significance = 1E-5\n",
    "vis.linewidth=10\n",
    "\n",
    "\n",
    "# Fig 2E\n",
    "vis.animal_id = \"IJ2\"\n",
    "vis.session_id = vis.animal_id+'pm_Mar2_30Hz'\n",
    "\n",
    "# # Fig 2F\n",
    "# vis.animal_id = 'IA1'\n",
    "# vis.session_id = vis.animal_id+'pm_Feb19_30Hz'\n",
    "\n",
    "vis.animal_id = \"IA3\"\n",
    "vis.session_id = vis.animal_id+'am_Mar10_30Hz'\n",
    "\n",
    "\n",
    "################################################\n",
    "vis.cbar_offset = 0\n",
    "vis.smooth_window = 30\n",
    "\n",
    "vis.min_trials = 30\n",
    "vis.save_fname = '/home/cat/'+vis.session_id+'.png'\n",
    "\n",
    "\n",
    "# \n",
    "fig=plt.figure(figsize=(10,20))\n",
    "vis.lockout = False\n",
    "vis.cmap = \"Greys_r\"\n",
    "vis.plot_significant(fig, 'black','all')\n",
    "vis.lockout = True\n",
    "vis.cmap = \"Blues_r\"\n",
    "vis.plot_significant(fig,'blue','lockout')\n",
    "plt.xlim(-10,0)\n",
    "#plt.savefig(vis.save_fname,dpi=100)\n",
    "\n",
    "#plt.close()\n",
    "plt.show()"
   ]
  },
  {
   "cell_type": "code",
   "execution_count": 14,
   "metadata": {
    "scrolled": true
   },
   "outputs": [],
   "source": [
    "################################################################\n",
    "#### COMPUTE DISTRIBUTION OF FIRST SIG DECODING ALL ANIMALS ####\n",
    "################################################################\n",
    "\n",
    "from tqdm import trange\n",
    "\n",
    "vis.smooth_window = 30\n",
    "vis.min_trials = 30\n",
    "\n",
    "#\n",
    "vis.significance=1E-5\n",
    "\n",
    "# if already computed\n",
    "if False:\n",
    "    vis.compute_first_decoding_time()\n",
    "\n",
    "#\n",
    "vis.plot_first_decoding_time()\n"
   ]
  },
  {
   "cell_type": "code",
   "execution_count": 69,
   "metadata": {},
   "outputs": [],
   "source": []
  },
  {
   "cell_type": "code",
   "execution_count": null,
   "metadata": {},
   "outputs": [],
   "source": [
    "\n",
    "# vis.main_dir = '/media/cat/4TBSSD/yuki/output_3.7-20210310T074752Z-001/output_3.7/no_midline_filter/'\n",
    "\n",
    "# fname = vis.main_dir+'/'+animal_id+'/SVM_scores_'+animal_id+'_'+str(session)+'.npy'\n",
    "# vis.load_data(fname)\n",
    "# vis.plot_decision_choice('black','all - 30frame windows')\n",
    "\n",
    "# fname = '/media/cat/4TBSSD/yuki/IA1/tif_files/IA1pm_Feb3_30Hz/analysis/all_accuracy.npy'\n",
    "# vis.load_data(fname)\n",
    "# vis.plot_decision_choice('red','all - 1 frame windows')\n",
    "\n",
    "# fname = vis.main_dir+'/'+animal_id+'/SVM_scores_'+animal_id+'_lockout_'+str(session)+'.npy'\n",
    "# vis.load_data(fname)\n",
    "# vis.plot_decision_choice('magenta','lockout')\n",
    "\n",
    "# # rnn\n",
    "# fname = vis.main_dir+'/'+animal_id+'/acc_rnn_'+animal_id+'_'+str(session)+'.npy'\n",
    "# vis.load_data(fname)\n",
    "# vis.plot_decision_choice('green','rnn-all-denoised')\n",
    "\n",
    "# fname = vis.main_dir+'/'+animal_id+'/acc_rnn_'+animal_id+'_lockout_'+str(session)+'.npy'\n",
    "# vis.load_data(fname)\n",
    "# vis.plot_decision_choice('cyan','rnn-lockout-denoised')\n",
    "\n",
    "\n",
    "# # #\n",
    "# # vis.load_data(fname)\n",
    "# fname = '/media/cat/4TBSSD/yuki/march_7/IA1pm_Feb23_30Hz_code_04_PCA_Denoised/analysis/all_accuracy.npy'\n",
    "# #fname = vis.main_dir+'/'+animal_id+'/SVM_scores_'+animal_id+'_'+str(session)+'.npy'\n",
    "\n",
    "# vis.load_data(fname)\n",
    "# vis.plot_significant('red','all',animal_id, session)\n",
    " \n",
    "# #\n",
    "# vis.plot_animal_decision_longitudinal('IA1')\n",
    "\n",
    "# # \n",
    "# vis.plot_animal_decision_AUC_longitudinal()\n",
    "\n",
    "# # # # # \n",
    "# lockout=False\n",
    "# for ctr, name in enumerate(vis.animal_names):\n",
    "#     ax=plt.subplot(2,3,ctr+1)\n",
    "#     vis.plot_animal_decision_longitudinal_matrix(name, lockout, ax)\n",
    "    \n",
    "\n",
    "#############################################\n",
    "############## DECISION TIME ################\n",
    "#############################################\n",
    "\n",
    "#\n",
    "# vis.main_dir = '/media/cat/1TB/yuki/yongxu/lever pull/'\n",
    "\n",
    "# fname = '/media/cat/4TBSSD/yuki/output_3.7-20210310T074752Z-001/output_3.7/no_midline_filter/IA1/conf_10_IA1_0.npy'\n",
    "# vis.load_data(fname)\n",
    "# vis.plot_decision_time('red','all')\n",
    "\n",
    "# animal_name = \"IA1\"\n",
    "# vis.plot_decision_time_animal(animal_name)\n",
    "\n",
    "# animal_name = 'IA1'\n",
    "# vis.plot_decision_time_animal_matrix(animal_name)\n",
    "\n",
    "# # \n",
    "# vis.filter=False\n",
    "# vis.plot_decision_time_all_matrix()\n",
    "\n",
    "\n",
    "\n",
    "#############################################\n",
    "############## BODY MOVEMENTS ###############\n",
    "#############################################\n",
    "\n",
    "# body movement related data\n",
    "#vis.main_dir = '/media/cat/1TB/yuki/yongxu/body movement/'\n",
    "\n",
    "# # \n",
    "# body_part = 'right_paw'\n",
    "# fname = vis.main_dir+'/SVM_scores_'+body_part+'_1.npy'\n",
    "# vis.load_data(fname)\n",
    "# vis.plot_decision_choice('red','1', body_part)\n",
    "\n",
    "# fname = vis.main_dir+'/SVM_scores_'+body_part+'_2.npy'\n",
    "# vis.load_data(fname)\n",
    "# vis.plot_decision_choice('blue','2', body_part)\n",
    "\n",
    "# # # \n",
    "# fname = vis.main_dir+'/conf_10_left_paw.npy'\n",
    "# vis.load_data(fname)\n",
    "# vis.plot_decision_time('red','left')\n",
    "\n",
    "# fname = vis.main_dir+'/conf_10_right_paw.npy'\n",
    "# vis.load_data(fname)\n",
    "# vis.plot_decision_time('blue','right')\n",
    "\n",
    "# fname = vis.main_dir+'/conf_10_tongue.npy'\n",
    "# vis.load_data(fname)\n",
    "# vis.plot_decision_time('green','tongue')\n"
   ]
  },
  {
   "cell_type": "code",
   "execution_count": 7,
   "metadata": {},
   "outputs": [
    {
     "name": "stdout",
     "output_type": "stream",
     "text": [
      "(1500, 16384)\n"
     ]
    }
   ],
   "source": [
    "import pickle as pk\n",
    "\n",
    "file = open('/media/cat/4TBSSD/yuki/IA1/tif_files/IA1pm_Feb3_30Hz/IA1pm_Feb3_30Hz_code_04_lockout_10sec_trial_ROItimeCourses_10sec_pca.pkl', 'rb')\n",
    "\n",
    "# dump information to that file\n",
    "pca = pk.load(file)\n",
    "\n",
    "print (pca.components_.shape)\n"
   ]
  },
  {
   "cell_type": "code",
   "execution_count": 9,
   "metadata": {},
   "outputs": [
    {
     "name": "stdout",
     "output_type": "stream",
     "text": [
      "(62, 601, 128, 128)\n"
     ]
    }
   ],
   "source": [
    "data_stm = np.load('/media/cat/4TBSSD/yuki/IA1/tif_files/IA1pm_Feb3_30Hz/IA1pm_Feb3_30Hz_10.0sec_butterworth_globalAverage_0.1hz_6.0hz_04code_stm.npy')\n",
    "print (data_stm.shape)"
   ]
  },
  {
   "cell_type": "code",
   "execution_count": 10,
   "metadata": {},
   "outputs": [
    {
     "ename": "NameError",
     "evalue": "name 'nComp' is not defined",
     "output_type": "error",
     "traceback": [
      "\u001b[0;31m---------------------------------------------------------------------------\u001b[0m",
      "\u001b[0;31mNameError\u001b[0m                                 Traceback (most recent call last)",
      "\u001b[0;32m<ipython-input-10-f869b1fe5d18>\u001b[0m in \u001b[0;36m<module>\u001b[0;34m\u001b[0m\n\u001b[1;32m      5\u001b[0m \u001b[0mmu\u001b[0m\u001b[0;34m=\u001b[0m \u001b[0mnp\u001b[0m\u001b[0;34m.\u001b[0m\u001b[0mmean\u001b[0m\u001b[0;34m(\u001b[0m\u001b[0mX\u001b[0m\u001b[0;34m,\u001b[0m \u001b[0maxis\u001b[0m\u001b[0;34m=\u001b[0m\u001b[0;36m0\u001b[0m\u001b[0;34m)\u001b[0m\u001b[0;34m\u001b[0m\u001b[0;34m\u001b[0m\u001b[0m\n\u001b[1;32m      6\u001b[0m \u001b[0;34m\u001b[0m\u001b[0m\n\u001b[0;32m----> 7\u001b[0;31m Xnew = np.dot(pca.transform(X)[:,:nComp],\n\u001b[0m\u001b[1;32m      8\u001b[0m              pca.components_[:nComp,:])\n\u001b[1;32m      9\u001b[0m \u001b[0;34m\u001b[0m\u001b[0m\n",
      "\u001b[0;31mNameError\u001b[0m: name 'nComp' is not defined"
     ]
    }
   ],
   "source": [
    "# \n",
    "X = data_stm.reshape(data_stm.shape[0]*data_stm.shape[1],\n",
    "                     data_stm.shape[2]*data_stm.shape[3])\n",
    "\n",
    "mu= np.mean(X, axis=0)\n"
   ]
  },
  {
   "cell_type": "code",
   "execution_count": 11,
   "metadata": {},
   "outputs": [],
   "source": [
    "nComp = 9\n",
    "Xnew = np.dot(pca.transform(X)[:,:nComp],\n",
    "             pca.components_[:nComp,:])\n",
    "\n",
    "Xnew+=mu\n",
    "\n",
    "data_stm_denoised_reshaped = Xnew.reshape(data_stm.shape[0], data_stm.shape[1],\n",
    "                                          data_stm.shape[2], data_stm.shape[3])\n"
   ]
  },
  {
   "cell_type": "code",
   "execution_count": 17,
   "metadata": {},
   "outputs": [
    {
     "name": "stdout",
     "output_type": "stream",
     "text": [
      "(62, 9, 601)\n"
     ]
    }
   ],
   "source": [
    "time_filters = pca.transform(X)[:,:nComp]\n",
    "pca_time_filters_only = time_filters.reshape(data_stm.shape[0], data_stm.shape[1],-1).transpose(0,2,1)\n",
    "print (pca_time_filters_only.shape)\n"
   ]
  },
  {
   "cell_type": "code",
   "execution_count": 15,
   "metadata": {},
   "outputs": [
    {
     "name": "stdout",
     "output_type": "stream",
     "text": [
      "(62, 601, 9)\n"
     ]
    }
   ],
   "source": []
  },
  {
   "cell_type": "code",
   "execution_count": 16,
   "metadata": {},
   "outputs": [
    {
     "name": "stdout",
     "output_type": "stream",
     "text": [
      "(40, 35, 601)\n"
     ]
    }
   ],
   "source": [
    "data2 = np.load('/media/cat/4TBSSD/yuki/IA1/tif_files/IA1pm_Feb3_30Hz/IA1pm_Feb3_30Hz_code_04_lockout_10sec_trial_ROItimeCourses_10sec.npy')\n",
    "print (data2.shape)"
   ]
  },
  {
   "cell_type": "code",
   "execution_count": null,
   "metadata": {},
   "outputs": [],
   "source": []
  },
  {
   "cell_type": "code",
   "execution_count": 12,
   "metadata": {},
   "outputs": [
    {
     "name": "stdout",
     "output_type": "stream",
     "text": [
      "(37262, 16384)\n"
     ]
    }
   ],
   "source": [
    "print (Xnew.shape)"
   ]
  },
  {
   "cell_type": "code",
   "execution_count": 13,
   "metadata": {},
   "outputs": [
    {
     "data": {
      "text/plain": [
       "(62, 601, 128, 128)"
      ]
     },
     "execution_count": 13,
     "metadata": {},
     "output_type": "execute_result"
    }
   ],
   "source": [
    "data_stm_denoised_reshaped.shape"
   ]
  },
  {
   "cell_type": "code",
   "execution_count": 6,
   "metadata": {},
   "outputs": [
    {
     "name": "stdout",
     "output_type": "stream",
     "text": [
      "['/media/cat/12TB/in_vivo/tim/yuki/IA1/tif_files/IA1pm_Feb1_30Hz/IA1pm_Feb1_30Hz.tif'\n",
      " '/media/cat/12TB/in_vivo/tim/yuki/IA1/tif_files/IA1pm_Feb2_30Hz/IA1pm_Feb2_30Hz.tif'\n",
      " '/media/cat/12TB/in_vivo/tim/yuki/IA1/tif_files/IA1pm_Feb3_30Hz/IA1pm_Feb3_30Hz.tif'\n",
      " '/media/cat/12TB/in_vivo/tim/yuki/IA1/tif_files/IA1pm_Feb4_30Hz/IA1pm_Feb4_30Hz.tif'\n",
      " '/media/cat/12TB/in_vivo/tim/yuki/IA1/tif_files/IA1pm_Feb5_30Hz/IA1pm_Feb5_30Hz.tif'\n",
      " '/media/cat/12TB/in_vivo/tim/yuki/IA1/tif_files/IA1pm_Feb9_30Hz/IA1pm_Feb9_30Hz.tif'\n",
      " '/media/cat/12TB/in_vivo/tim/yuki/IA1/tif_files/IA1pm_Feb10_30Hz/IA1pm_Feb10_30Hz.tif'\n",
      " '/media/cat/12TB/in_vivo/tim/yuki/IA1/tif_files/IA1pm_Feb11_30Hz/IA1pm_Feb11_30Hz.tif'\n",
      " '/media/cat/12TB/in_vivo/tim/yuki/IA1/tif_files/IA1pm_Feb12_30Hz/IA1pm_Feb12_30Hz.tif'\n",
      " '/media/cat/12TB/in_vivo/tim/yuki/IA1/tif_files/IA1pm_Feb15_30Hz/IA1pm_Feb15_30Hz.tif'\n",
      " '/media/cat/12TB/in_vivo/tim/yuki/IA1/tif_files/IA1pm_Feb16_30Hz/IA1pm_Feb16_30Hz.tif'\n",
      " '/media/cat/12TB/in_vivo/tim/yuki/IA1/tif_files/IA1pm_Feb17_30Hz/IA1pm_Feb17_30Hz.tif'\n",
      " '/media/cat/12TB/in_vivo/tim/yuki/IA1/tif_files/IA1pm_Feb18_30Hz/IA1pm_Feb18_30Hz.tif'\n",
      " '/media/cat/12TB/in_vivo/tim/yuki/IA1/tif_files/IA1pm_Feb19_30Hz/IA1pm_Feb19_30Hz.tif'\n",
      " '/media/cat/12TB/in_vivo/tim/yuki/IA1/tif_files/IA1pm_Feb22_30Hz/IA1pm_Feb22_30Hz.tif'\n",
      " '/media/cat/12TB/in_vivo/tim/yuki/IA1/tif_files/IA1pm_Feb23_30Hz/IA1pm_Feb23_30Hz.tif'\n",
      " '/media/cat/12TB/in_vivo/tim/yuki/IA1/tif_files/IA1pm_Feb24_30Hz/IA1pm_Feb24_30Hz.tif'\n",
      " '/media/cat/12TB/in_vivo/tim/yuki/IA1/tif_files/IA1pm_Feb25_30Hz/IA1pm_Feb25_30Hz.tif'\n",
      " '/media/cat/12TB/in_vivo/tim/yuki/IA1/tif_files/IA1pm_Feb26_30Hz/IA1pm_Feb26_30Hz.tif'\n",
      " '/media/cat/12TB/in_vivo/tim/yuki/IA1/tif_files/IA1pm_Feb29_30Hz/IA1pm_Feb29_30Hz.tif'\n",
      " '/media/cat/12TB/in_vivo/tim/yuki/IA1/tif_files/IA1pm_Mar1_30Hz/IA1pm_Mar1_30Hz.tif'\n",
      " '/media/cat/12TB/in_vivo/tim/yuki/IA1/tif_files/IA1pm_Mar2_30Hz/IA1pm_Mar2_30Hz.tif'\n",
      " '/media/cat/12TB/in_vivo/tim/yuki/IA1/tif_files/IA1pm_Mar3_30Hz/IA1pm_Mar3_30Hz.tif'\n",
      " '/media/cat/12TB/in_vivo/tim/yuki/IA1/tif_files/IA1am_Mar4_30Hz/IA1am_Mar4_30Hz.tif'\n",
      " '/media/cat/12TB/in_vivo/tim/yuki/IA1/tif_files/IA1am_Mar7_30Hz/IA1am_Mar7_30Hz.tif'\n",
      " '/media/cat/12TB/in_vivo/tim/yuki/IA1/tif_files/IA1pm_Mar8_30Hz/IA1pm_Mar8_30Hz.tif'\n",
      " '/media/cat/12TB/in_vivo/tim/yuki/IA1/tif_files/IA1am_Mar9_30Hz/IA1am_Mar9_30Hz.tif'\n",
      " '/media/cat/12TB/in_vivo/tim/yuki/IA1/tif_files/IA1am_Mar10_30Hz/IA1am_Mar10_30Hz.tif'\n",
      " '/media/cat/12TB/in_vivo/tim/yuki/IA1/tif_files/IA1am_Mar11_30Hz/IA1am_Mar11_30Hz.tif'\n",
      " '/media/cat/12TB/in_vivo/tim/yuki/IA1/tif_files/IA1pm_Mar14_30Hz/IA1pm_Mar14_30Hz.tif'\n",
      " '/media/cat/12TB/in_vivo/tim/yuki/IA1/tif_files/IA1am_Mar15_30Hz/IA1am_Mar15_30Hz.tif'\n",
      " '/media/cat/12TB/in_vivo/tim/yuki/IA1/tif_files/IA1pm_Mar16_30Hz/IA1pm_Mar16_30Hz.tif'\n",
      " '/media/cat/12TB/in_vivo/tim/yuki/IA1/tif_files/IA1pm_Mar17_30Hz/IA1pm_Mar17_30Hz.tif'\n",
      " '/media/cat/12TB/in_vivo/tim/yuki/IA1/tif_files/IA1pm_Mar18_30Hz/IA1pm_Mar18_30Hz.tif'\n",
      " '/media/cat/12TB/in_vivo/tim/yuki/IA1/tif_files/IA1pm_Mar21_30Hz/IA1pm_Mar21_30Hz.tif'\n",
      " '/media/cat/12TB/in_vivo/tim/yuki/IA1/tif_files/IA1pm_Mar22_30Hz/IA1pm_Mar22_30Hz.tif'\n",
      " '/media/cat/12TB/in_vivo/tim/yuki/IA1/tif_files/IA1pm_Mar23_30Hz/IA1pm_Mar23_30Hz.tif'\n",
      " '/media/cat/12TB/in_vivo/tim/yuki/IA1/tif_files/IA1pm_Mar24_30Hz/IA1pm_Mar24_30Hz.tif'\n",
      " '/media/cat/12TB/in_vivo/tim/yuki/IA1/tif_files/IA1pm_Mar29_30Hz/IA1pm_Mar29_30Hz.tif'\n",
      " '/media/cat/12TB/in_vivo/tim/yuki/IA1/tif_files/IA1pm_Mar30_30Hz/IA1pm_Mar30_30Hz.tif'\n",
      " '/media/cat/12TB/in_vivo/tim/yuki/IA1/tif_files/IA1pm_Mar31_30Hz/IA1pm_Mar31_30Hz.tif'\n",
      " '/media/cat/12TB/in_vivo/tim/yuki/IA1/tif_files/IA1pm_Apr1_30Hz/IA1pm_Apr1_30Hz.tif'\n",
      " '/media/cat/12TB/in_vivo/tim/yuki/IA1/tif_files/IA1pm_Apr4_30Hz/IA1pm_Apr4_30Hz.tif'\n",
      " '/media/cat/12TB/in_vivo/tim/yuki/IA1/tif_files/IA1pm_Apr5_30Hz/IA1pm_Apr5_30Hz.tif'\n",
      " '/media/cat/12TB/in_vivo/tim/yuki/IA1/tif_files/IA1pm_Apr6_30Hz/IA1pm_Apr6_30Hz.tif'\n",
      " '/media/cat/12TB/in_vivo/tim/yuki/IA1/tif_files/IA1pm_Apr7_30Hz/IA1pm_Apr7_30Hz.tif'\n",
      " '/media/cat/12TB/in_vivo/tim/yuki/IA1/tif_files/IA1pm_Apr11_Day3_30Hz/IA1pm_Apr11_Day3_30Hz.tif'\n",
      " '/media/cat/12TB/in_vivo/tim/yuki/IA1/tif_files/IA1pm_Apr13_Day5_30Hz/IA1pm_Apr13_Day5_30Hz.tif'\n",
      " '/media/cat/12TB/in_vivo/tim/yuki/IA1/tif_files/IA1pm_Apr15_Day7_30Hz/IA1pm_Apr15_Day7_30Hz.tif'\n",
      " '/media/cat/12TB/in_vivo/tim/yuki/IA1/tif_files/IA1pm_Apr18_Week2_30Hz/IA1pm_Apr18_Week2_30Hz.tif'\n",
      " '/media/cat/12TB/in_vivo/tim/yuki/IA1/tif_files/IA1pm_Apr19_Week2_30Hz/IA1pm_Apr19_Week2_30Hz.tif'\n",
      " '/media/cat/12TB/in_vivo/tim/yuki/IA1/tif_files/IA1pm_Apr20_Week2_30Hz/IA1pm_Apr20_Week2_30Hz.tif'\n",
      " '/media/cat/12TB/in_vivo/tim/yuki/IA1/tif_files/IA1pm_Apr21_Week2_30Hz/IA1pm_Apr21_Week2_30Hz.tif'\n",
      " '/media/cat/12TB/in_vivo/tim/yuki/IA1/tif_files/IA1pm_Apr22_Week2_30Hz/IA1pm_Apr22_Week2_30Hz.tif'\n",
      " '/media/cat/12TB/in_vivo/tim/yuki/IA1/tif_files/IA1pm_Apr25_Week3_30Hz/IA1pm_Apr25_Week3_30Hz.tif'\n",
      " '/media/cat/12TB/in_vivo/tim/yuki/IA1/tif_files/IA1pm_Apr26_Week3_30Hz/IA1pm_Apr26_Week3_30Hz.tif'\n",
      " '/media/cat/12TB/in_vivo/tim/yuki/IA1/tif_files/IA1pm_Apr27_Week3_30Hz/IA1pm_Apr27_Week3_30Hz.tif'\n",
      " '/media/cat/12TB/in_vivo/tim/yuki/IA1/tif_files/IA1pm_Apr28_Week3_30Hz/IA1pm_Apr28_Week3_30Hz.tif'\n",
      " '/media/cat/12TB/in_vivo/tim/yuki/IA1/tif_files/IA1pm_Apr29_Week3_30Hz/IA1pm_Apr29_Week3_30Hz.tif'\n",
      " '/media/cat/12TB/in_vivo/tim/yuki/IA1/tif_files/IA1am_May2_Week4_30Hz/IA1am_May2_Week4_30Hz.tif'\n",
      " '/media/cat/12TB/in_vivo/tim/yuki/IA1/tif_files/IA1am_May4_Week4_30Hz/IA1am_May4_Week4_30Hz.tif'\n",
      " '/media/cat/12TB/in_vivo/tim/yuki/IA1/tif_files/IA1am_May5_Week4_30Hz/IA1am_May5_Week4_30Hz.tif'\n",
      " '/media/cat/12TB/in_vivo/tim/yuki/IA1/tif_files/IA1am_May6_Week4_30Hz/IA1am_May6_Week4_30Hz.tif'\n",
      " '/media/cat/12TB/in_vivo/tim/yuki/IA1/tif_files/IA1am_May9_Week5_30Hz/IA1am_May9_Week5_30Hz.tif'\n",
      " '/media/cat/12TB/in_vivo/tim/yuki/IA1/tif_files/IA1am_May10_Week5_30Hz/IA1am_May10_Week5_30Hz.tif'\n",
      " '/media/cat/12TB/in_vivo/tim/yuki/IA1/tif_files/IA1am_May12_Week5_30Hz/IA1am_May12_Week5_30Hz.tif'\n",
      " '/media/cat/12TB/in_vivo/tim/yuki/IA1/tif_files/IA1am_May13_Week5_30Hz/IA1am_May13_Week5_30Hz.tif'\n",
      " '/media/cat/12TB/in_vivo/tim/yuki/IA1/tif_files/IA1am_May16_Week6_30Hz/IA1am_May16_Week6_30Hz.tif'\n",
      " '/media/cat/12TB/in_vivo/tim/yuki/IA1/tif_files/IA1am_May17_Week6_30Hz/IA1am_May17_Week6_30Hz.tif'\n",
      " '/media/cat/12TB/in_vivo/tim/yuki/IA1/tif_files/IA1am_May18_Week6_30Hz/IA1am_May18_Week6_30Hz.tif'\n",
      " '/media/cat/12TB/in_vivo/tim/yuki/IA1/tif_files/IA1am_May20_Week6_30Hz/IA1am_May20_Week6_30Hz.tif']\n"
     ]
    }
   ],
   "source": [
    "data = np.load('/media/cat/4TBSSD/yuki/IA1/tif_files.npy')\n",
    "print (data)"
   ]
  },
  {
   "cell_type": "code",
   "execution_count": 21,
   "metadata": {},
   "outputs": [
    {
     "name": "stdout",
     "output_type": "stream",
     "text": [
      "(82, 2, 601)\n"
     ]
    }
   ],
   "source": [
    "data = np.load('/media/cat/4TBSSD/yuki/IA1/tif_files/IA1pm_Feb23_30Hz/IA1pm_Feb23_30Hz_code_04_trial_ROItimeCourses_10sec_pca_0.5.npy')\n",
    "print (data.shape)"
   ]
  },
  {
   "cell_type": "code",
   "execution_count": null,
   "metadata": {},
   "outputs": [],
   "source": []
  }
 ],
 "metadata": {
  "kernelspec": {
   "display_name": "Python 3",
   "language": "python",
   "name": "python3"
  },
  "language_info": {
   "codemirror_mode": {
    "name": "ipython",
    "version": 3
   },
   "file_extension": ".py",
   "mimetype": "text/x-python",
   "name": "python",
   "nbconvert_exporter": "python",
   "pygments_lexer": "ipython3",
   "version": "3.8.5"
  }
 },
 "nbformat": 4,
 "nbformat_minor": 4
}
